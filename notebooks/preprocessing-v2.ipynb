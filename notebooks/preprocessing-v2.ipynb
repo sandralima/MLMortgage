{
 "cells": [
  {
   "cell_type": "markdown",
   "metadata": {},
   "source": [
    "#### Preprocessing:"
   ]
  },
  {
   "cell_type": "code",
   "execution_count": 32,
   "metadata": {},
   "outputs": [
    {
     "name": "stdout",
     "output_type": "stream",
     "text": [
      "C:\\Users\\sandr\\Documents\\GitHub\\MLMortgage\\data\\raw C:\\Users\\sandr\\Documents\\GitHub\\MLMortgage\\data\\processed\n"
     ]
    }
   ],
   "source": [
    "import numpy as np\n",
    "import pandas as pd\n",
    "import logging\n",
    "import os\n",
    "from dotenv import find_dotenv, load_dotenv\n",
    "import datetime\n",
    "import glob\n",
    "from os.path import abspath\n",
    "from pathlib import Path\n",
    "from inspect import getsourcefile\n",
    "from datetime import datetime\n",
    "import math\n",
    "import argparse\n",
    "import sys\n",
    "import tensorflow as tf\n",
    "\n",
    "from sklearn.preprocessing import QuantileTransformer\n",
    "from sklearn.preprocessing import RobustScaler\n",
    "from sklearn.preprocessing import OneHotEncoder\n",
    "\n",
    "nb_dir = os.path.join(Path(os.getcwd()).parents[0], 'src', 'data')\n",
    "if nb_dir not in sys.path:\n",
    "    sys.path.insert(0, nb_dir)\n",
    "import get_raw_data as grd\n",
    "import data_classes\n",
    "import Normalizer\n",
    "\n",
    "DT_FLOAT = np.float32 \n",
    "DT_BOOL = np.uint8\n",
    "RANDOM_SEED = 123\n",
    "logging.basicConfig(level=logging.DEBUG, format='%(asctime)s - %(name)s - %(levelname)s - %(message)s')\n",
    "logger = logging.getLogger(__name__)\n",
    "# logger.propagate = False # it will not log to console.\n",
    "\n",
    "RAW_DIR = os.path.join(Path(os.getcwd()).parents[0], 'data', 'raw') \n",
    "PRO_DIR = os.path.join(Path(os.getcwd()).parents[0], 'data', 'processed')\n",
    "\n",
    "print(RAW_DIR, PRO_DIR)"
   ]
  },
  {
   "cell_type": "code",
   "execution_count": 17,
   "metadata": {},
   "outputs": [],
   "source": [
    "def update_parser(parser):\n",
    "    \"\"\"Parse the arguments from the CLI and update the parser.\"\"\"    \n",
    "    parser.add_argument(\n",
    "        '--prepro_step',\n",
    "        type=str,\n",
    "        default='preprocessing', #'slicing', 'preprocessing'\n",
    "        help='To execute a preprocessing method')    \n",
    "    #this is for allfeatures_preprocessing:\n",
    "    parser.add_argument(\n",
    "        '--train_period',\n",
    "        type=int,\n",
    "        nargs='*',\n",
    "        default=[121,323], #[121,279], #[156, 180], [121,143],  # 279],\n",
    "        help='Training Period')\n",
    "    parser.add_argument(\n",
    "        '--valid_period',\n",
    "        type=int,\n",
    "        nargs='*',\n",
    "        default=[324,329], #[280,285], #[181,185], [144,147],\n",
    "        help='Validation Period')    \n",
    "    parser.add_argument(\n",
    "        '--test_period',\n",
    "        type=int,\n",
    "        nargs='*',\n",
    "        default=[330, 342], #[286, 304], # [186,191], [148, 155],\n",
    "        help='Testing Period')    \n",
    "    parser.add_argument(\n",
    "        '--prepro_dir',\n",
    "        type=str,\n",
    "        default='chuncks_random_c1mill',\n",
    "        help='Directory with raw data inside data/raw/ and it will be the output directory inside data/processed/')    \n",
    "    parser.add_argument(\n",
    "        '--prepro_chunksize',\n",
    "        type=int,\n",
    "        default=500000,\n",
    "        help='Chunk size to put into the h5 file...')    \n",
    "    parser.add_argument(\n",
    "        '--prepro_with_index',\n",
    "        type=bool,\n",
    "        default=True,\n",
    "        help='To keep indexes for each record')\n",
    "    parser.add_argument(\n",
    "        '--ref_norm',\n",
    "        type=bool,\n",
    "        default=True,\n",
    "        help='To execute the normalization over the raw inputs')\n",
    "        \n",
    "    return parser.parse_known_args()"
   ]
  },
  {
   "cell_type": "code",
   "execution_count": 18,
   "metadata": {},
   "outputs": [
    {
     "name": "stdout",
     "output_type": "stream",
     "text": [
      "Namespace(prepro_chunksize=500000, prepro_dir='chuncks_random_c1mill', prepro_step='preprocessing', prepro_with_index=True, ref_norm=True, test_period=[330, 342], train_period=[121, 323], valid_period=[324, 329])\n"
     ]
    }
   ],
   "source": [
    "\n",
    "FLAGS, UNPARSED = update_parser(argparse.ArgumentParser())    \n",
    "#these are the more important parameters for preprocessing:\n",
    "FLAGS.prepro_dir='chuncks_random_c1mill' #this directory must be the same inside 'raw' and processed directories.\n",
    "FLAGS.prepro_chunksize=500000 \n",
    "FLAGS.train_period=[121,323] #[121,279] #[121, 143] \n",
    "FLAGS.valid_period=[324,329] #[280,285] #[144, 147] \n",
    "FLAGS.test_period=[330,342] #[286,304] #[148, 155]                                                \n",
    "FLAGS.prepro_with_index = True\n",
    "\n",
    "print(FLAGS)    "
   ]
  },
  {
   "cell_type": "code",
   "execution_count": 19,
   "metadata": {},
   "outputs": [
    {
     "data": {
      "text/plain": [
       "['C:\\\\Users\\\\sandr\\\\Documents\\\\GitHub\\\\MLMortgage\\\\data\\\\raw\\\\chuncks_random_c1mill\\\\temporalloandynmodifmrstaticitur15mill-16mill.txt']"
      ]
     },
     "execution_count": 19,
     "metadata": {},
     "output_type": "execute_result"
    }
   ],
   "source": [
    "glob.glob(os.path.join(RAW_DIR, FLAGS.prepro_dir,\"*.txt\"))\n",
    "# from IPython.core.debugger import Tracer; Tracer()()"
   ]
  },
  {
   "cell_type": "code",
   "execution_count": 20,
   "metadata": {},
   "outputs": [],
   "source": [
    "def allfeatures_extract_labels(data, columns='MBA_DELINQUENCY_STATUS_next'):\n",
    "    '''Extract the labels from Dataset, order-and-transform them into one-hot matrix of labels.\n",
    "        Args: \n",
    "            data (DataFrame): Input Dataset which is modified in place.\n",
    "            columns (string): Name of the class column.\n",
    "        Returns: \n",
    "            one-hot matrix of labels of shape: [data.shape[0], 7]. \n",
    "        Raises:        \n",
    "    '''    \n",
    "    logger.name = 'allfeatures_extract_labels'\n",
    "    if (type(columns)==str):\n",
    "         indices = [i for i, elem in enumerate(data.columns) if columns in elem] # (alphabetically ordered)\n",
    "    else:\n",
    "        indices =  columns \n",
    "\n",
    "    if indices:\n",
    "        labels = data[data.columns[indices]]\n",
    "        data.drop(data.columns[indices], axis=1, inplace=True)    \n",
    "        logger.info('...Labels extracted from Dataset...')\n",
    "        return labels\n",
    "    else: return None\n"
   ]
  },
  {
   "cell_type": "code",
   "execution_count": 21,
   "metadata": {},
   "outputs": [],
   "source": [
    "def tag_chunk(tag, label, chunk, chunk_periods, tag_period, log_file, with_index, tag_index, hdf=None, tfrec=None):\n",
    "    '''Extract records filtering by chunk_periods parameter, define indexes in case of with_index=True, \n",
    "        extract labels and save the results into the target file.\n",
    "        Args: \n",
    "            chunk (DataFrame): Input Dataset which is modified in place.\n",
    "            tag (string): 'train', 'valid' or 'test'\n",
    "            chunk_periods (integer array): an array containing all periods into the chunk.\n",
    "            tag_period (integer array): an array of form [init_period, end_period] for the correspond tag.\n",
    "            log_file (Logger): An object of the log file.\n",
    "            with_index (boolean): If true it will be saved the indexes.\n",
    "            tag_index (int): an index that accumulates the size of the processed chunk. \n",
    "            hdf or tfrec (HDFStore or TFRecords): an object of the target file. Only one must be distint of None.\n",
    "        Returns: \n",
    "            tag_index (int): tag_index updated.\n",
    "        Raises:        \n",
    "    '''    \n",
    "    \n",
    "    inter_periods = list(chunk_periods.intersection(set(range(tag_period[0], tag_period[1]+1))))\n",
    "    log_file.write('Periods corresponding to ' + tag +' period: %s\\r\\n' % str(inter_periods))\n",
    "    p_chunk = chunk.loc[(slice(None), inter_periods), :]\n",
    "    log_file.write('Records for ' + tag +  ' Set - Number of rows: %d\\r\\n' % (p_chunk.shape[0]))\n",
    "    print('Records for ' + tag + ' Set - Number of rows:', p_chunk.shape[0])\n",
    "    if (p_chunk.shape[0] > 0):\n",
    "        if (with_index==True):\n",
    "            # p_chunk.index = pd.MultiIndex.from_tuples([(i, x[1], x[2],x[3]) for x,i in zip(p_chunk.index, range(tag_index, tag_index + p_chunk.shape[0]))])                                \n",
    "            p_chunk.reset_index(inplace=True)\n",
    "            allfeatures_drop_cols(p_chunk, ['PERIOD'])      \n",
    "            p_chunk.set_index('DELINQUENCY_STATUS_NEXT', inplace=True) #1 index                                      \n",
    "        else:\n",
    "            p_chunk.reset_index(drop=True, inplace=True)\n",
    "            \n",
    "        labels = allfeatures_extract_labels(p_chunk, columns=label)\n",
    "        p_chunk = p_chunk.astype(DT_FLOAT)\n",
    "        labels = labels.astype(np.int8)\n",
    "        if (p_chunk.shape[0] != labels.shape[0]) : \n",
    "            print('Error in shapes:', p_chunk.shape, labels.shape)\n",
    "        else :\n",
    "            if (hdf!=None):\n",
    "                hdf.put(tag + '/features', p_chunk, append=True, index=True) #data_columns=p_chunk.columns.values), index=False\n",
    "                hdf.put(tag + '/labels', labels, append=True, index=True) #data_columns=labels.columns.values)                         \n",
    "                hdf.flush()                      \n",
    "            elif (tfrec!=None):\n",
    "                for row, lab in zip(p_chunk.values, labels.values):\n",
    "                    feature = {tag + '/labels': _int64_feature(lab),\n",
    "                               tag + '/features': _float_feature(row)}\n",
    "                    # Create an example protocol buffer\n",
    "                    example = tf.train.Example(features=tf.train.Features(feature=feature))\n",
    "                    tfrec.write(example.SerializeToString())                            \n",
    "                tfrec.flush()\n",
    "            tag_index += p_chunk.shape[0]\n",
    "\n",
    "    return tag_index"
   ]
  },
  {
   "cell_type": "code",
   "execution_count": 22,
   "metadata": {},
   "outputs": [],
   "source": [
    "def allfeatures_drop_cols(data, columns):\n",
    "    '''Exclude from the dataset 'data' the descriptive columns as parameters.\n",
    "        Args: \n",
    "            data (DataFrame): Input Dataset which is modified in place.\n",
    "        Returns: \n",
    "            None\n",
    "        Raises:        \n",
    "    '''\n",
    "    logger.name = 'allfeatures_drop_cols'    \n",
    "    data.drop(columns, axis=1, inplace=True)\n",
    "    logger.info('...Columns Excluded from dataset...')\n",
    "    return None"
   ]
  },
  {
   "cell_type": "code",
   "execution_count": 23,
   "metadata": {},
   "outputs": [],
   "source": [
    "def oneHotDummies_column(column, categories):\n",
    "    '''Convert categorical variable into dummy/indicator variables.\n",
    "    \n",
    "    Args: \n",
    "        column (Series): Input String Categorical Column.\n",
    "    Returns: \n",
    "        DataFrame. Integer Sparse binary matrix of categorical features.\n",
    "    Raises:        \n",
    "    '''    \n",
    "    logger.name = 'oneHotDummies_column: ' +  column.name\n",
    "    cat_column = pd.Categorical(column.astype('str'), categories=categories)\n",
    "    cat_column = pd.get_dummies(cat_column)   # in the same order as categories! (alphabetically ordered) \n",
    "    cat_column = cat_column.add_prefix(column.name + '_')\n",
    "    if (cat_column.isnull().any().any()):\n",
    "        null_cols = cat_column.columns[cat_column.isnull().any()]\n",
    "        print(cat_column[null_cols].isnull().sum())\n",
    "        print(cat_column[cat_column.isnull().any(axis=1)][null_cols].head(50))\n",
    "    return cat_column"
   ]
  },
  {
   "cell_type": "code",
   "execution_count": 24,
   "metadata": {},
   "outputs": [],
   "source": [
    "def imputing_nan_values(nan_dict, distribution):        \n",
    "    '''Replace nan values with a value according the nan_dict dictionary and distribution of this feature.\n",
    "        Args: \n",
    "            nan_dict (Dictionary): the key values are the name of features, the values could be a literal or \n",
    "            values belonging to the distribution.\n",
    "            distribution (DataFrame): Contains the median value for numerical features.\n",
    "        Returns: \n",
    "            new_dict (Dictionary): contains the values updated.\n",
    "        Raises:        \n",
    "    '''    \n",
    "    new_dict = {}\n",
    "    for k,v in nan_dict.items():\n",
    "        if v=='median':\n",
    "            new_dict[k] = float(distribution[k+'_MEDIAN'])    \n",
    "        elif v=='mean':\n",
    "            new_dict[k] = float(distribution[k+'_MEAN'])                \n",
    "        else:\n",
    "            new_dict[k] = v\n",
    "            \n",
    "    return new_dict"
   ]
  },
  {
   "cell_type": "code",
   "execution_count": 25,
   "metadata": {},
   "outputs": [],
   "source": [
    "def drop_invalid_delinquency_status(data, gflag, log_file):   \n",
    "    '''Delete all subsecuent records of a loan when the feature delinquency_status_next \n",
    "       contains any of the following invalid status: S,T,X or Z.\n",
    "        Args: \n",
    "            data (DataFrame): Input Dataset which is modified in place.\n",
    "            gflag (int): Loan_id of the last loan in previous data, in case this contains some invalid status, \n",
    "            to delete all records inside the current data.\n",
    "            log_file (Logger): An object of the log file.\n",
    "        Returns: \n",
    "            gflag (int): Loan_id of the last loan in current data, in case this contains some invalid status.\n",
    "        Raises:        \n",
    "    '''        \n",
    "    logger.name = 'drop_invalid_delinquency_status'\n",
    "    delinq_ids =  data[data['MBA_DELINQUENCY_STATUS'].isin(['0', 'R', 'S', 'T', 'X', 'Z'])]['LOAN_ID']\n",
    "    groups = data[data['LOAN_ID'].isin(delinq_ids)][['LOAN_ID', 'PERIOD', 'MBA_DELINQUENCY_STATUS', 'DELINQUENCY_STATUS_NEXT']].groupby('LOAN_ID') \n",
    "    groups_list = list(groups)\n",
    "    \n",
    "    iuw= pd.Index([])\n",
    "    \n",
    "    if gflag != '': \n",
    "        try:\n",
    "            iuw= iuw.union(groups.get_group(gflag).index[0:])\n",
    "        except  Exception  as e:\n",
    "            print(str(e))\n",
    "                \n",
    "    if data.iloc[-1]['LOAN_ID'] in groups.groups.keys():\n",
    "        gflag = data.iloc[-1]['LOAN_ID']\n",
    "    else:\n",
    "        gflag = ''\n",
    "                \n",
    "    for k, group in groups_list: \n",
    "        li= group.index[(group['MBA_DELINQUENCY_STATUS'] =='S') | (group['MBA_DELINQUENCY_STATUS'] =='T') \n",
    "                         | (group['MBA_DELINQUENCY_STATUS'] =='X') | (group['MBA_DELINQUENCY_STATUS'] =='Z')].tolist()\n",
    "        if li: iuw= iuw.union(group.index[group.index.get_loc(li[0]):])\n",
    "        # In case of REO or Paid-Off, we need to exclude since the next record:\n",
    "        df_delinq_01 = group[(group['MBA_DELINQUENCY_STATUS'] =='0') | (group['MBA_DELINQUENCY_STATUS'] =='R')]\n",
    "        if df_delinq_01.shape[0]>0: \n",
    "            track_i = df_delinq_01.index[0]\n",
    "            iuw= iuw.union(group.index[group.index.get_loc(track_i)+1:])\n",
    "        \n",
    "    if iuw!=[]:\n",
    "        log_file.write('drop_invalid_delinquency_status - Total rows: %d\\r\\n' % len(iuw)) # (log_df.shape[0])\n",
    "        data.drop(iuw, inplace=True) \n",
    "        logger.info('invalid_delinquency_status dropped')             \n",
    "    \n",
    "    return gflag"
   ]
  },
  {
   "cell_type": "code",
   "execution_count": 26,
   "metadata": {},
   "outputs": [],
   "source": [
    "def zscore(x,mean,stdd):\n",
    "    return (x - mean) / stdd\n",
    "\n",
    "def zscore_apply(dist_file, data):            \n",
    "    stddv_0 = []\n",
    "    nnorm_cols = []\n",
    "    for col_name in data.columns.values:                                \n",
    "        mean = pd.Series(dist_file.iloc[0, np.where(pd.DataFrame(dist_file.columns.values)[0].str.contains(col_name+'_MEAN'))[0]], dtype='float32')    \n",
    "        stddev = dist_file.iloc[0, np.where(pd.DataFrame(dist_file.columns.values)[0].str.contains(col_name+'_STDD'))[0]]    \n",
    "        if not mean.empty and not stddev.empty:  \n",
    "            mean = np.float32(mean.values[0])\n",
    "            stddev = np.float32(stddev.values[0])            \n",
    "            if stddev == 0: \n",
    "                stddv_0.append(col_name)        \n",
    "            else:        \n",
    "                data[col_name] = data[col_name].apply(lambda x: zscore(x, mean, stddev))                        \n",
    "        else: \n",
    "            nnorm_cols.append(col_name)\n",
    "    print('STANDARD DEV zero: ', stddv_0)        \n",
    "    return data, nnorm_cols"
   ]
  },
  {
   "cell_type": "code",
   "execution_count": 27,
   "metadata": {},
   "outputs": [],
   "source": [
    "def prepro_chunk(file_name, file_path, chunksize, label, log_file, nan_cols, categorical_cols, descriptive_cols, time_cols,\n",
    "                 dist_file, with_index, refNorm, train_period, valid_period, test_period, robust_cols, minmax_cols=None, hdf=None, tfrec=None):\n",
    "    gflag = ''    \n",
    "    i = 1                  \n",
    "    train_index = 0\n",
    "    valid_index = 0\n",
    "    test_index = 0\n",
    "    for chunk in pd.read_csv(file_path, chunksize = chunksize, sep=',', low_memory=False):    \n",
    "        print('chunk: ', i, ' chunk size: ', chunk.shape[0])\n",
    "        log_file.write('chunk: %d, chunk size: %d \\n' % (i, chunk.shape[0]))\n",
    "        chunk.columns = chunk.columns.str.upper()                            \n",
    "        \n",
    "        log_df = chunk[chunk[label].isnull()]\n",
    "        log_file.write('Dropping Rows with Null Labels - Number of rows: %d\\r\\n' % (log_df.shape[0]))\n",
    "        chunk.drop(chunk.index[chunk[label].isnull()], axis=0, inplace=True)\n",
    "        \n",
    "        log_df = chunk[chunk['INVALID_TRANSITIONS']==1]\n",
    "        log_file.write('Dropping Rows with Invalid Transitions - Number of rows: %d\\r\\n' % (log_df.shape[0]))                                \n",
    "        chunk.drop(chunk.index[chunk['INVALID_TRANSITIONS']==1], axis=0, inplace=True)        \n",
    "        \n",
    "        gflag = drop_invalid_delinquency_status(chunk, gflag, log_file)               \n",
    "                    \n",
    "        null_columns=chunk.columns[chunk.isnull().any()]\n",
    "        log_df = chunk[chunk.isnull().any(axis=1)][null_columns]\n",
    "        log_file.write('Filling NULL values - (rows, cols) : %d, %d\\r\\n' % (log_df.shape[0], log_df.shape[1]))                    \n",
    "        log_df = chunk[null_columns].isnull().sum().to_frame().reset_index()\n",
    "        log_df.to_csv(log_file, index=False, mode='a')                                    \n",
    "        nan_cols = imputing_nan_values(nan_cols, dist_file)            \n",
    "        chunk.fillna(value=nan_cols, inplace=True)   \n",
    "        \n",
    "        chunk.drop_duplicates(inplace=True) # Follow this instruction!!                        \n",
    "        logger.info('dropping invalid transitions and delinquency status, fill nan values, drop duplicates')                  \n",
    "        log_file.write('Drop duplicates - new size : %d\\r\\n' % (chunk.shape[0]))\n",
    "                               \n",
    "        chunk.reset_index(drop=True, inplace=True)  #don't remove this line! otherwise NaN values appears.\n",
    "        chunk['ORIGINATION_YEAR'][chunk['ORIGINATION_YEAR']<1995] = \"B1995\"\n",
    "        for k,v in categorical_cols.items():\n",
    "            # if (chunk[k].dtype=='O'):                \n",
    "            chunk[k] = chunk[k].astype('str')\n",
    "            chunk[k] = chunk[k].str.strip()\n",
    "            chunk[k].replace(['\\.0$'], [''], regex=True,  inplace=True)\n",
    "            new_cols = oneHotDummies_column(chunk[k], v)\n",
    "            if (chunk[k].value_counts().sum()!=new_cols.sum().sum()):\n",
    "                print('Error at categorization, different sizes', k)\n",
    "                print(chunk[k].value_counts(), new_cols.sum())                \n",
    "                log_file.write('Error at categorization, different sizes %s\\r\\n' % str(k))\n",
    "                chunk[new_cols.columns] = new_cols\n",
    "            else:\n",
    "                chunk[new_cols.columns] = new_cols\n",
    "                log_file.write('New columns added: %s\\r\\n' % str(new_cols.columns.values))\n",
    "            \n",
    "                    \n",
    "        allfeatures_drop_cols(chunk, descriptive_cols)                    \n",
    "        #np.savetxt(log_file, descriptive_cols, header='descriptive_cols dropped:', newline=\" \")\n",
    "        log_file.write('descriptive_cols dropped: %s\\r\\n' % str(descriptive_cols))\n",
    "        allfeatures_drop_cols(chunk, time_cols)\n",
    "        #np.savetxt(log_file, time_cols, header='time_cols dropped:', newline=\" \")\n",
    "        log_file.write('time_cols dropped: %s\\r\\n' % str(time_cols))\n",
    "        cat_list = list(categorical_cols.keys())\n",
    "        cat_list.remove('DELINQUENCY_STATUS_NEXT')\n",
    "        #np.savetxt(log_file, cat_list, header='categorical_cols dropped:', newline=\" \")\n",
    "        log_file.write('categorical_cols dropped: %s\\r\\n' % str(cat_list))\n",
    "        allfeatures_drop_cols(chunk, cat_list)\n",
    "\n",
    "        chunk.reset_index(drop=True, inplace=True)  \n",
    "        chunk.set_index(['DELINQUENCY_STATUS_NEXT', 'PERIOD'], append=False, inplace=True) #2 indexes\n",
    "        # np.savetxt(log_file, str(chunk.index.names), header='Indexes created:', newline=\" \")\n",
    "        log_file.write('Indexes created: %s\\r\\n' % str(chunk.index.names))\n",
    "         \n",
    "        \n",
    "        \n",
    "        if chunk.isnull().any().any(): \n",
    "            # from IPython.core.debugger import Tracer; Tracer()()\n",
    "            raise ValueError('There are null values...File: ' + file_name)   \n",
    "                \n",
    "        \n",
    "        if (refNorm==True):            \n",
    "            chunk[robust_cols], nnorm_cols =  zscore_apply(dist_file, chunk[robust_cols]) #robust_normalizer.transform(chunk[robust_cols])            \n",
    "            log_file.write('Columns not normalized: %s\\r\\n' % str(nnorm_cols))            \n",
    "            log_file.write('Columns normalized: %s\\r\\n' % str(set(robust_cols)-set(nnorm_cols)))\n",
    "            \n",
    "        \n",
    "        if chunk.isnull().any().any(): raise ValueError('There are null values...File: ' + file_name)       \n",
    "        \n",
    "        chunk_periods = set(list(chunk.index.get_level_values('PERIOD')))\n",
    "        #print(tfrec)\n",
    "        if (tfrec!=None):\n",
    "            train_index = tag_chunk('train', label, chunk, chunk_periods, train_period, log_file, with_index, train_index, tfrec=tfrec[0])\n",
    "            valid_index = tag_chunk('valid', label, chunk, chunk_periods, valid_period, log_file, with_index, valid_index, tfrec=tfrec[1])\n",
    "            test_index = tag_chunk('test', label, chunk, chunk_periods, test_period, log_file, with_index, test_index, tfrec=tfrec[2])\n",
    "            sys.stdout.flush()\n",
    "        elif (hdf!=None):\n",
    "            train_index = tag_chunk('train', label, chunk, chunk_periods, train_period, log_file, with_index, train_index, hdf=hdf[0])\n",
    "            valid_index = tag_chunk('valid', label, chunk, chunk_periods, valid_period, log_file, with_index, valid_index, hdf=hdf[1])\n",
    "            test_index = tag_chunk('test', label, chunk, chunk_periods, test_period, log_file, with_index, test_index, hdf=hdf[2])                \n",
    "        \n",
    "        inter_periods = list(chunk_periods.intersection(set(range(test_period[1]+1,355))))    \n",
    "        log_file.write('Periods greater than test_period: %s\\r\\n' % str(inter_periods))\n",
    "        p_chunk = chunk.loc[(slice(None), inter_periods), :]\n",
    "        log_file.write('Records greater than test_period - Number of rows: %d\\r\\n' % (p_chunk.shape[0]))\n",
    "        \n",
    "        del chunk        \n",
    "        i +=  1   \n",
    "    \n",
    "    return train_index, valid_index, test_index"
   ]
  },
  {
   "cell_type": "code",
   "execution_count": 28,
   "metadata": {},
   "outputs": [],
   "source": [
    "def custom_robust_normalizer(ncols, dist_file, normalizer_type='robust_scaler_sk', center_value='median'):            \n",
    "    norm_cols = []\n",
    "    scales = []\n",
    "    centers = []\n",
    "    scales_0 =[]\n",
    "    for i, x in enumerate (ncols):                        \n",
    "        x_frame = dist_file.iloc[:, np.where(pd.DataFrame(dist_file.columns.values)[0].str.contains(x+'_Q'))[0]]    \n",
    "        if not x_frame.empty and (x_frame.shape[1]>1):       \n",
    "            iqr = float(pd.to_numeric(x_frame[x+'_Q3'], errors='coerce').subtract(pd.to_numeric(x_frame[x+'_Q1'], errors='coerce')))\n",
    "            if iqr == 0: scales_0.append(x)\n",
    "            if iqr!=0: \n",
    "                norm_cols.append(x)                \n",
    "                scales.append(iqr)                    \n",
    "                if center_value == 'median':\n",
    "                    centers.append( float(x_frame[x+'_MEDIAN']) )   \n",
    "                else:\n",
    "                    centers.append( float(x_frame[x+'_Q1']) )                                       \n",
    "    if (normalizer_type == 'robust_scaler_sk'):    \n",
    "        normalizer = RobustScaler()\n",
    "        normalizer.scale_ = scales\n",
    "        normalizer.center_ = centers        \n",
    "    elif (normalizer_type == 'percentile_scaler'):    \n",
    "        normalizer = Normalizer.Normalizer(scales, centers)     \n",
    "    else: normalizer=None                  \n",
    "    \n",
    "    print(scales_0)\n",
    "    \n",
    "    return norm_cols, normalizer"
   ]
  },
  {
   "cell_type": "code",
   "execution_count": 29,
   "metadata": {},
   "outputs": [],
   "source": [
    "def custom_minmax_normalizer(ncols, scales, dist_file):    \n",
    "    norm_cols = []\n",
    "    minmax_scales = []\n",
    "    centers = []\n",
    "    for i, x in enumerate (ncols):  \n",
    "        x_min = dist_file.iloc[0, np.where(pd.DataFrame(dist_file.columns.values)[0].str.contains(x+'_MIN'))[0]]\n",
    "        x_max = dist_file.iloc[0, np.where(pd.DataFrame(dist_file.columns.values)[0].str.contains(x+'_MAX'))[0]]\n",
    "        if not(x_min.empty) and not(x_max.empty):            \n",
    "            x_min = np.float32(x_min.values[0])\n",
    "            x_max = np.float32(x_max.values[0])\n",
    "            minmax_scales.append(x_max - x_min)                            \n",
    "            centers.append(x_min)\n",
    "            norm_cols.append(x)\n",
    "            # to_delete.append(i)\n",
    "        \n",
    "    normalizer = Normalizer.Normalizer(minmax_scales, centers)         \n",
    "    \n",
    "    return norm_cols, normalizer #, to_delete"
   ]
  },
  {
   "cell_type": "code",
   "execution_count": 30,
   "metadata": {},
   "outputs": [],
   "source": [
    "def allfeatures_preprocessing(RAW_DIR, PRO_DIR, raw_dir, train_period, valid_period, test_period, dividing='percentage', \n",
    "                              chunksize=500000, refNorm=True, with_index=True, output_hdf=True, label='DELINQUENCY_STATUS_NEXT'):            \n",
    "\n",
    "    descriptive_cols = [\n",
    "    'LOAN_ID',\n",
    "    'ASOFMONTH',        \n",
    "    'PERIOD_NEXT',\n",
    "    'MOD_PER_FROM',\n",
    "    'MOD_PER_TO',\n",
    "    'PROPERTY_ZIP',\n",
    "    'INVALID_TRANSITIONS'\n",
    "    ]\n",
    "\n",
    "    numeric_cols = ['MBA_DAYS_DELINQUENT', 'MBA_DAYS_DELINQUENT_NAN',\n",
    "       'CURRENT_INTEREST_RATE', 'CURRENT_INTEREST_RATE_NAN', 'LOANAGE', 'LOANAGE_NAN',\n",
    "       'CURRENT_BALANCE', 'CURRENT_BALANCE_NAN', 'SCHEDULED_PRINCIPAL',\n",
    "       'SCHEDULED_PRINCIPAL_NAN', 'SCHEDULED_MONTHLY_PANDI',\n",
    "       'SCHEDULED_MONTHLY_PANDI_NAN', \n",
    "       'LLMA2_CURRENT_INTEREST_SPREAD', 'LLMA2_CURRENT_INTEREST_SPREAD_NAN',  \n",
    "       'LLMA2_C_IN_LAST_12_MONTHS',\n",
    "       'LLMA2_30_IN_LAST_12_MONTHS', 'LLMA2_60_IN_LAST_12_MONTHS',\n",
    "       'LLMA2_90_IN_LAST_12_MONTHS', 'LLMA2_FC_IN_LAST_12_MONTHS',\n",
    "       'LLMA2_REO_IN_LAST_12_MONTHS', 'LLMA2_0_IN_LAST_12_MONTHS',\n",
    "       'LLMA2_HIST_LAST_12_MONTHS_MIS', \n",
    "       'NUM_MODIF', 'NUM_MODIF_NAN', 'P_RATE_TO_MOD', 'P_RATE_TO_MOD_NAN', 'MOD_RATE',\n",
    "       'MOD_RATE_NAN', 'DIF_RATE', 'DIF_RATE_NAN', 'P_MONTHLY_PAY',\n",
    "       'P_MONTHLY_PAY_NAN', 'MOD_MONTHLY_PAY', 'MOD_MONTHLY_PAY_NAN',\n",
    "       'DIF_MONTHLY_PAY', 'DIF_MONTHLY_PAY_NAN', 'CAPITALIZATION_AMT',\n",
    "       'CAPITALIZATION_AMT_NAN', 'MORTGAGE_RATE', 'MORTGAGE_RATE_NAN',\n",
    "       'FICO_SCORE_ORIGINATION', 'INITIAL_INTEREST_RATE', 'ORIGINAL_LTV',\n",
    "       'ORIGINAL_BALANCE', 'BACKEND_RATIO', 'BACKEND_RATIO_NAN',\n",
    "       'ORIGINAL_TERM', 'ORIGINAL_TERM_NAN', 'SALE_PRICE', 'SALE_PRICE_NAN', \t   \n",
    "       'PREPAY_PENALTY_TERM', 'PREPAY_PENALTY_TERM_NAN', \n",
    "        'NUMBER_OF_UNITS', 'NUMBER_OF_UNITS_NAN', 'MARGIN',\n",
    "       'MARGIN_NAN', 'PERIODIC_RATE_CAP', 'PERIODIC_RATE_CAP_NAN',\n",
    "       'PERIODIC_RATE_FLOOR', 'PERIODIC_RATE_FLOOR_NAN', 'LIFETIME_RATE_CAP',\n",
    "       'LIFETIME_RATE_CAP_NAN', 'LIFETIME_RATE_FLOOR',\n",
    "       'LIFETIME_RATE_FLOOR_NAN', 'RATE_RESET_FREQUENCY',\n",
    "       'RATE_RESET_FREQUENCY_NAN', 'PAY_RESET_FREQUENCY',\n",
    "       'PAY_RESET_FREQUENCY_NAN', 'FIRST_RATE_RESET_PERIOD',\n",
    "       'FIRST_RATE_RESET_PERIOD_NAN', \t   \n",
    "        'LLMA2_PRIME',\n",
    "       'LLMA2_SUBPRIME', 'LLMA2_APPVAL_LT_SALEPRICE', 'LLMA2_ORIG_RATE_SPREAD',\n",
    "       'LLMA2_ORIG_RATE_SPREAD_NAN', 'AGI', 'AGI_NAN', 'UR', 'UR_NAN', 'LLMA2_ORIG_RATE_ORIG_MR_SPREAD', \n",
    "       'LLMA2_ORIG_RATE_ORIG_MR_SPREAD_NAN', 'COUNT_INT_RATE_LESS', 'NUM_PRIME_ZIP', 'NUM_PRIME_ZIP_NAN'\n",
    "       ]\n",
    "\n",
    "    '''\n",
    "    nan_cols = {'MBA_DAYS_DELINQUENT': 'median', 'CURRENT_INTEREST_RATE': 'median', 'LOANAGE': 'median',\n",
    "                'CURRENT_BALANCE' : 'median', 'SCHEDULED_PRINCIPAL': 'median', 'SCHEDULED_MONTHLY_PANDI': 'median',       \n",
    "                'LLMA2_CURRENT_INTEREST_SPREAD': 'median', 'NUM_MODIF': 0, 'P_RATE_TO_MOD': 0, 'MOD_RATE': 0,\n",
    "                'DIF_RATE': 0, 'P_MONTHLY_PAY': 0, 'MOD_MONTHLY_PAY': 0, 'DIF_MONTHLY_PAY': 0, 'CAPITALIZATION_AMT': 0,\n",
    "                'MORTGAGE_RATE': 'median', 'FICO_SCORE_ORIGINATION': 'median', 'INITIAL_INTEREST_RATE': 'median', 'ORIGINAL_LTV': 'median',\n",
    "                'ORIGINAL_BALANCE': 'median', 'BACKEND_RATIO': 'median', 'ORIGINAL_TERM': 'median', 'SALE_PRICE': 'median', 'PREPAY_PENALTY_TERM': 'median',\n",
    "                'NUMBER_OF_UNITS': 'median', 'MARGIN': 'median', 'PERIODIC_RATE_CAP': 'median', 'PERIODIC_RATE_FLOOR': 'median', 'LIFETIME_RATE_CAP': 'median',\n",
    "                'LIFETIME_RATE_FLOOR': 'median', 'RATE_RESET_FREQUENCY': 'median', 'PAY_RESET_FREQUENCY': 'median',\n",
    "                'FIRST_RATE_RESET_PERIOD': 'median', 'LLMA2_ORIG_RATE_SPREAD': 'median', 'AGI': 'median', 'UR': 'median',\n",
    "                'LLMA2_C_IN_LAST_12_MONTHS': 'median', 'LLMA2_30_IN_LAST_12_MONTHS': 'median', 'LLMA2_60_IN_LAST_12_MONTHS': 'median',\n",
    "                'LLMA2_90_IN_LAST_12_MONTHS': 'median', 'LLMA2_FC_IN_LAST_12_MONTHS': 'median',\n",
    "                'LLMA2_REO_IN_LAST_12_MONTHS': 'median', 'LLMA2_0_IN_LAST_12_MONTHS': 'median', \n",
    "                'LLMA2_ORIG_RATE_ORIG_MR_SPREAD':0, 'COUNT_INT_RATE_LESS' :'median', 'NUM_PRIME_ZIP':'median'\n",
    "                }\n",
    "    '''\n",
    "    nan_cols = {'MBA_DAYS_DELINQUENT': 'mean', 'CURRENT_INTEREST_RATE': 'mean', 'LOANAGE': 'mean',\n",
    "                'CURRENT_BALANCE' : 'mean', 'SCHEDULED_PRINCIPAL': 'mean', 'SCHEDULED_MONTHLY_PANDI': 'mean',       \n",
    "                'LLMA2_CURRENT_INTEREST_SPREAD': 'mean', 'NUM_MODIF': 0, 'P_RATE_TO_MOD': 0, 'MOD_RATE': 0,\n",
    "                'DIF_RATE': 0, 'P_MONTHLY_PAY': 0, 'MOD_MONTHLY_PAY': 0, 'DIF_MONTHLY_PAY': 0, 'CAPITALIZATION_AMT': 0,\n",
    "                'MORTGAGE_RATE': 'mean', 'FICO_SCORE_ORIGINATION': 'mean', 'INITIAL_INTEREST_RATE': 'mean', 'ORIGINAL_LTV': 'mean',\n",
    "                'ORIGINAL_BALANCE': 'mean', 'BACKEND_RATIO': 'mean', 'ORIGINAL_TERM': 'mean', 'SALE_PRICE': 'mean', 'PREPAY_PENALTY_TERM': 'mean',\n",
    "                'NUMBER_OF_UNITS': 'mean', 'MARGIN': 'mean', 'PERIODIC_RATE_CAP': 'mean', 'PERIODIC_RATE_FLOOR': 'mean', 'LIFETIME_RATE_CAP': 'mean',\n",
    "                'LIFETIME_RATE_FLOOR': 'mean', 'RATE_RESET_FREQUENCY': 'mean', 'PAY_RESET_FREQUENCY': 'mean',\n",
    "                'FIRST_RATE_RESET_PERIOD': 'mean', 'LLMA2_ORIG_RATE_SPREAD': 'mean', 'AGI': 'mean', 'UR': 'mean',\n",
    "                'LLMA2_C_IN_LAST_12_MONTHS': 'mean', 'LLMA2_30_IN_LAST_12_MONTHS': 'mean', 'LLMA2_60_IN_LAST_12_MONTHS': 'mean',\n",
    "                'LLMA2_90_IN_LAST_12_MONTHS': 'mean', 'LLMA2_FC_IN_LAST_12_MONTHS': 'mean',\n",
    "                'LLMA2_REO_IN_LAST_12_MONTHS': 'mean', 'LLMA2_0_IN_LAST_12_MONTHS': 'mean', \n",
    "                'LLMA2_ORIG_RATE_ORIG_MR_SPREAD':0, 'COUNT_INT_RATE_LESS' :'mean', 'NUM_PRIME_ZIP':'mean'\n",
    "                }\n",
    "    \n",
    "    categorical_cols = {'MBA_DELINQUENCY_STATUS':  ['0','3','6','9','C','F','R'], 'DELINQUENCY_STATUS_NEXT': ['0','3','6','9','C','F','R'],  #,'S','T','X'\n",
    "                           'BUYDOWN_FLAG': ['N','U','Y'], 'NEGATIVE_AMORTIZATION_FLAG': ['N','U','Y'], 'PREPAY_PENALTY_FLAG': ['N','U','Y'],\n",
    "                           'OCCUPANCY_TYPE': ['1','2','3','U'], 'PRODUCT_TYPE': ['10','20','30','40','50','51','52','53','54','5A','5Z',\n",
    "                                            '60','61','62','63','6Z','70','80','81','82','83','84','8Z','U'], \n",
    "                           'PROPERTY_TYPE': ['1','2','3','4','5','6','7','8','9','M','U','Z'], 'LOAN_PURPOSE_CATEGORY': ['P','R','U'], \n",
    "                           'DOCUMENTATION_TYPE': ['1','2','3','U'], 'CHANNEL': ['1','2','3','4','5','6','7','8','9','A','B','C','D','U'], \n",
    "                           'LOAN_TYPE': ['1','2','3','4','5','6','U'], 'IO_FLAG': ['N','U','Y'], \n",
    "                           'CONVERTIBLE_FLAG': ['N','U','Y'], 'POOL_INSURANCE_FLAG': ['N','U','Y'], 'STATE': ['AK', 'AL', 'AR', 'AZ', 'CA', 'CO',\n",
    "                                               'CT', 'DC', 'DE', 'FL', 'GA', 'HI', 'IA', 'ID', 'IL', 'IN', 'KS', 'KY', 'LA', 'MA', \n",
    "                                               'MD', 'ME', 'MI', 'MN', 'MO', 'MS', 'MT', 'NC', 'ND', 'NE', 'NH', 'NJ', 'NM', 'NV', \n",
    "                                               'NY', 'OH', 'OK', 'OR', 'PA', 'PR', 'RI', 'SC', 'SD', 'TN', 'TX', 'UT', 'VA', 'VT', \n",
    "                                               'WA', 'WI', 'WV', 'WY'], \n",
    "                           'CURRENT_INVESTOR_CODE': ['240', '250', '253', 'U'], 'ORIGINATION_YEAR': ['B1995','1995','1996','1997','1998','1999','2000','2001','2002','2003',\n",
    "                                                    '2004','2005','2006','2007','2008','2009','2010','2011','2012','2013','2014','2015','2016','2017','2018']}\n",
    "\n",
    "    time_cols = ['YEAR', 'MONTH'] #, 'PERIOD'] #no nan values        \n",
    "\n",
    "    total_cols = numeric_cols.copy() \n",
    "    total_cols.extend(descriptive_cols)\n",
    "    total_cols.extend(categorical_cols.keys())\n",
    "    total_cols.extend(time_cols)\n",
    "    print('total_cols size: ', len(total_cols)) #110 !=112?? set(chunk_cols) - set(total_cols): {'LOAN_ID', 'PERIOD'}\n",
    "    \n",
    "    pd.set_option('io.hdf.default_format','table')\n",
    "\n",
    "    dist_file = pd.read_csv(os.path.join(RAW_DIR, \"percentile features3-mean.csv\"), sep=';', low_memory=False)\n",
    "    dist_file.columns = dist_file.columns.str.upper()\n",
    "\n",
    "    ncols = [x for x in numeric_cols if x.find('NAN')<0]\n",
    "    print(ncols)\n",
    "\n",
    "    #sum = 0\n",
    "    #for elem in categorical_cols.values():\n",
    "    #    sum += len(elem)\n",
    "    #print('total categorical values: ', sum) #181\n",
    "\n",
    "    for file_path in glob.glob(os.path.join(RAW_DIR, raw_dir,\"*.txt\")):  \n",
    "        file_name = os.path.basename(file_path)\n",
    "        if with_index==True:\n",
    "            target_path = os.path.join(PRO_DIR, raw_dir,file_name[:-4])        \n",
    "        else:\n",
    "            target_path = os.path.join(PRO_DIR, raw_dir,file_name[:-4]+'_non_index')\n",
    "        log_file=open(target_path+'-log.txt', 'w+', 1)        \n",
    "        print('Preprocessing File: ' + file_path)\n",
    "        log_file.write('Preprocessing File:  %s\\r\\n' % file_path)\n",
    "        startTime = datetime.now()      \n",
    "        \n",
    "        if (output_hdf == True):\n",
    "            #with  pd.HDFStore(target_path +'-pp.h5', complib='lzo', complevel=9) as hdf: #complib='lzo', complevel=9\n",
    "            train_writer = pd.HDFStore(target_path +'-train_.h5', complib='lzo', complevel=9) \n",
    "            valid_writer = pd.HDFStore(target_path +'-valid_.h5', complib='lzo', complevel=9)\n",
    "            test_writer = pd.HDFStore(target_path +'-test_.h5', complib='lzo', complevel=9) \n",
    "\n",
    "            print('generating: ', target_path +'-pp.h5')\n",
    "            train_index, valid_index, test_index = prepro_chunk(file_name, file_path, chunksize, label, log_file, \n",
    "                                                                nan_cols, categorical_cols, descriptive_cols, time_cols,\n",
    "                                                                dist_file, with_index, \n",
    "                                                                refNorm, train_period, valid_period, test_period, ncols,                                                                \n",
    "                                                                hdf=[train_writer, valid_writer, test_writer], tfrec=None)            \n",
    "\n",
    "\n",
    "            if train_writer.get_storer('train/features').nrows != train_writer.get_storer('train/labels').nrows:\n",
    "                    raise ValueError('Train-DataSet: Sizes should match!')  \n",
    "            if valid_writer.get_storer('valid/features').nrows != valid_writer.get_storer('valid/labels').nrows:\n",
    "                    raise ValueError('Valid-DataSet: Sizes should match!')  \n",
    "            if test_writer.get_storer('test/features').nrows != test_writer.get_storer('test/labels').nrows:\n",
    "                    raise ValueError('Test-DataSet: Sizes should match!')  \n",
    "\n",
    "            print('train/features size: ', train_writer.get_storer('train/features').nrows)\n",
    "            print('valid/features size: ', valid_writer.get_storer('valid/features').nrows)\n",
    "            print('test/features size: ', test_writer.get_storer('test/features').nrows)\n",
    "\n",
    "            log_file.write('***SUMMARY***\\n')\n",
    "            log_file.write('train/features size: %d\\r\\n' %(train_writer.get_storer('train/features').nrows))\n",
    "            log_file.write('valid/features size: %d\\r\\n' %(valid_writer.get_storer('valid/features').nrows))\n",
    "            log_file.write('test/features size: %d\\r\\n' %(test_writer.get_storer('test/features').nrows))\n",
    "\n",
    "            logger.info('training, validation and testing set into .h5 file')        \n",
    "        else:        \n",
    "            train_writer = tf.python_io.TFRecordWriter(target_path +'-train_.tfrecords')\n",
    "            valid_writer = tf.python_io.TFRecordWriter(target_path +'-valid_.tfrecords')\n",
    "            test_writer = tf.python_io.TFRecordWriter(target_path +'-test_.tfrecords')\n",
    "            train_index, valid_index, test_index = prepro_chunk(file_name, file_path, chunksize, label, log_file, \n",
    "                                                                nan_cols, categorical_cols, descriptive_cols, time_cols,\n",
    "                                                                dist_file, with_index, \n",
    "                                                                refNorm, train_period, valid_period, test_period, ncols,\n",
    "                                                                hdf=None, tfrec=[train_writer, valid_writer, test_writer]) \n",
    "        print(train_index, valid_index, test_index)\n",
    "        train_writer.close()\n",
    "        valid_writer.close()\n",
    "        test_writer.close()        \n",
    "        \n",
    "        #def allfeatures_prepro_file(RAW_DIR, file_path, raw_dir, file_name, target_path, train_period, valid_period, test_period, log_file, dividing='percentage', chunksize=500000, \n",
    "        #                    refNorm=True, , with_index=True, output_hdf=True):\n",
    "\n",
    "        #allfeatures_prepro_file(RAW_DIR, file_path, raw_dir, file_name, target_path, train_num, valid_num, test_num, log_file, dividing=dividing, chunksize=chunksize, \n",
    "        #                        refNorm=refNorm, with_index=with_index, output_hdf=output_hdf)          \n",
    "        \n",
    "        startTime = datetime.now() - startTime\n",
    "        print('Preprocessing Time per file: ', startTime)     \n",
    "        log_file.write('Preprocessing Time per file:  %s\\r\\n' % str(startTime))\n",
    "        log_file.close()\n"
   ]
  },
  {
   "cell_type": "code",
   "execution_count": 31,
   "metadata": {},
   "outputs": [
    {
     "name": "stdout",
     "output_type": "stream",
     "text": [
      "total_cols size:  111\n",
      "['MBA_DAYS_DELINQUENT', 'CURRENT_INTEREST_RATE', 'LOANAGE', 'CURRENT_BALANCE', 'SCHEDULED_PRINCIPAL', 'SCHEDULED_MONTHLY_PANDI', 'LLMA2_CURRENT_INTEREST_SPREAD', 'LLMA2_C_IN_LAST_12_MONTHS', 'LLMA2_30_IN_LAST_12_MONTHS', 'LLMA2_60_IN_LAST_12_MONTHS', 'LLMA2_90_IN_LAST_12_MONTHS', 'LLMA2_FC_IN_LAST_12_MONTHS', 'LLMA2_REO_IN_LAST_12_MONTHS', 'LLMA2_0_IN_LAST_12_MONTHS', 'LLMA2_HIST_LAST_12_MONTHS_MIS', 'NUM_MODIF', 'P_RATE_TO_MOD', 'MOD_RATE', 'DIF_RATE', 'P_MONTHLY_PAY', 'MOD_MONTHLY_PAY', 'DIF_MONTHLY_PAY', 'CAPITALIZATION_AMT', 'MORTGAGE_RATE', 'FICO_SCORE_ORIGINATION', 'INITIAL_INTEREST_RATE', 'ORIGINAL_LTV', 'ORIGINAL_BALANCE', 'BACKEND_RATIO', 'ORIGINAL_TERM', 'SALE_PRICE', 'PREPAY_PENALTY_TERM', 'NUMBER_OF_UNITS', 'MARGIN', 'PERIODIC_RATE_CAP', 'PERIODIC_RATE_FLOOR', 'LIFETIME_RATE_CAP', 'LIFETIME_RATE_FLOOR', 'RATE_RESET_FREQUENCY', 'PAY_RESET_FREQUENCY', 'FIRST_RATE_RESET_PERIOD', 'LLMA2_PRIME', 'LLMA2_SUBPRIME', 'LLMA2_APPVAL_LT_SALEPRICE', 'LLMA2_ORIG_RATE_SPREAD', 'AGI', 'UR', 'LLMA2_ORIG_RATE_ORIG_MR_SPREAD', 'COUNT_INT_RATE_LESS', 'NUM_PRIME_ZIP']\n",
      "Preprocessing File: C:\\Users\\sandr\\Documents\\GitHub\\MLMortgage\\data\\raw\\chuncks_random_c1mill\\temporalloandynmodifmrstaticitur15mill-16mill.txt\n",
      "generating:  C:\\Users\\sandr\\Documents\\GitHub\\MLMortgage\\data\\processed\\chuncks_random_c1mill\\temporalloandynmodifmrstaticitur15mill-16mill-pp.h5\n",
      "chunk:  1  chunk size:  500000\n"
     ]
    },
    {
     "name": "stderr",
     "output_type": "stream",
     "text": [
      "2018-11-20 18:12:04,916 - drop_invalid_delinquency_status - INFO - invalid_delinquency_status dropped\n",
      "2018-11-20 18:12:09,601 - drop_invalid_delinquency_status - INFO - dropping invalid transitions and delinquency status, fill nan values, drop duplicates\n",
      "C:\\Users\\sandr\\AppData\\Local\\conda\\conda\\envs\\tensorflowenvironment\\lib\\site-packages\\ipykernel_launcher.py:36: SettingWithCopyWarning: \n",
      "A value is trying to be set on a copy of a slice from a DataFrame\n",
      "\n",
      "See the caveats in the documentation: http://pandas.pydata.org/pandas-docs/stable/indexing.html#indexing-view-versus-copy\n",
      "2018-11-20 18:12:22,161 - allfeatures_drop_cols - INFO - ...Columns Excluded from dataset...\n",
      "2018-11-20 18:12:22,541 - allfeatures_drop_cols - INFO - ...Columns Excluded from dataset...\n",
      "2018-11-20 18:12:22,884 - allfeatures_drop_cols - INFO - ...Columns Excluded from dataset...\n",
      "C:\\Users\\sandr\\AppData\\Local\\conda\\conda\\envs\\tensorflowenvironment\\lib\\site-packages\\ipykernel_launcher.py:16: SettingWithCopyWarning: \n",
      "A value is trying to be set on a copy of a slice from a DataFrame.\n",
      "Try using .loc[row_indexer,col_indexer] = value instead\n",
      "\n",
      "See the caveats in the documentation: http://pandas.pydata.org/pandas-docs/stable/indexing.html#indexing-view-versus-copy\n",
      "  app.launch_new_instance()\n"
     ]
    },
    {
     "name": "stdout",
     "output_type": "stream",
     "text": [
      "STANDARD DEV zero:  []\n",
      "Records for train Set - Number of rows: 400455\n"
     ]
    },
    {
     "name": "stderr",
     "output_type": "stream",
     "text": [
      "C:\\Users\\sandr\\AppData\\Local\\conda\\conda\\envs\\tensorflowenvironment\\lib\\site-packages\\ipykernel_launcher.py:10: SettingWithCopyWarning: \n",
      "A value is trying to be set on a copy of a slice from a DataFrame\n",
      "\n",
      "See the caveats in the documentation: http://pandas.pydata.org/pandas-docs/stable/indexing.html#indexing-view-versus-copy\n",
      "  # Remove the CWD from sys.path while we load stuff.\n",
      "2018-11-20 18:13:26,375 - allfeatures_drop_cols - INFO - ...Columns Excluded from dataset...\n",
      "C:\\Users\\sandr\\AppData\\Local\\conda\\conda\\envs\\tensorflowenvironment\\lib\\site-packages\\ipykernel_launcher.py:18: SettingWithCopyWarning: \n",
      "A value is trying to be set on a copy of a slice from a DataFrame\n",
      "\n",
      "See the caveats in the documentation: http://pandas.pydata.org/pandas-docs/stable/indexing.html#indexing-view-versus-copy\n",
      "2018-11-20 18:13:26,950 - allfeatures_extract_labels - INFO - ...Labels extracted from Dataset...\n",
      "2018-11-20 18:13:30,561 - allfeatures_drop_cols - INFO - ...Columns Excluded from dataset...\n",
      "2018-11-20 18:13:30,618 - allfeatures_extract_labels - INFO - ...Labels extracted from Dataset...\n"
     ]
    },
    {
     "name": "stdout",
     "output_type": "stream",
     "text": [
      "Records for valid Set - Number of rows: 9044\n"
     ]
    },
    {
     "name": "stderr",
     "output_type": "stream",
     "text": [
      "2018-11-20 18:13:30,786 - allfeatures_drop_cols - INFO - ...Columns Excluded from dataset...\n",
      "2018-11-20 18:13:30,841 - allfeatures_extract_labels - INFO - ...Labels extracted from Dataset...\n"
     ]
    },
    {
     "name": "stdout",
     "output_type": "stream",
     "text": [
      "Records for test Set - Number of rows: 16833\n",
      "chunk:  2  chunk size:  500000\n"
     ]
    },
    {
     "name": "stderr",
     "output_type": "stream",
     "text": [
      "2018-11-20 18:13:47,820 - drop_invalid_delinquency_status - INFO - invalid_delinquency_status dropped\n",
      "2018-11-20 18:13:52,279 - drop_invalid_delinquency_status - INFO - dropping invalid transitions and delinquency status, fill nan values, drop duplicates\n",
      "C:\\Users\\sandr\\AppData\\Local\\conda\\conda\\envs\\tensorflowenvironment\\lib\\site-packages\\ipykernel_launcher.py:36: SettingWithCopyWarning: \n",
      "A value is trying to be set on a copy of a slice from a DataFrame\n",
      "\n",
      "See the caveats in the documentation: http://pandas.pydata.org/pandas-docs/stable/indexing.html#indexing-view-versus-copy\n",
      "2018-11-20 18:14:05,477 - allfeatures_drop_cols - INFO - ...Columns Excluded from dataset...\n",
      "2018-11-20 18:14:05,864 - allfeatures_drop_cols - INFO - ...Columns Excluded from dataset...\n",
      "2018-11-20 18:14:06,218 - allfeatures_drop_cols - INFO - ...Columns Excluded from dataset...\n",
      "C:\\Users\\sandr\\AppData\\Local\\conda\\conda\\envs\\tensorflowenvironment\\lib\\site-packages\\ipykernel_launcher.py:16: SettingWithCopyWarning: \n",
      "A value is trying to be set on a copy of a slice from a DataFrame.\n",
      "Try using .loc[row_indexer,col_indexer] = value instead\n",
      "\n",
      "See the caveats in the documentation: http://pandas.pydata.org/pandas-docs/stable/indexing.html#indexing-view-versus-copy\n",
      "  app.launch_new_instance()\n"
     ]
    },
    {
     "name": "stdout",
     "output_type": "stream",
     "text": [
      "STANDARD DEV zero:  []\n",
      "Records for train Set - Number of rows: 391441\n"
     ]
    },
    {
     "name": "stderr",
     "output_type": "stream",
     "text": [
      "C:\\Users\\sandr\\AppData\\Local\\conda\\conda\\envs\\tensorflowenvironment\\lib\\site-packages\\ipykernel_launcher.py:10: SettingWithCopyWarning: \n",
      "A value is trying to be set on a copy of a slice from a DataFrame\n",
      "\n",
      "See the caveats in the documentation: http://pandas.pydata.org/pandas-docs/stable/indexing.html#indexing-view-versus-copy\n",
      "  # Remove the CWD from sys.path while we load stuff.\n",
      "2018-11-20 18:15:08,884 - allfeatures_drop_cols - INFO - ...Columns Excluded from dataset...\n",
      "C:\\Users\\sandr\\AppData\\Local\\conda\\conda\\envs\\tensorflowenvironment\\lib\\site-packages\\ipykernel_launcher.py:18: SettingWithCopyWarning: \n",
      "A value is trying to be set on a copy of a slice from a DataFrame\n",
      "\n",
      "See the caveats in the documentation: http://pandas.pydata.org/pandas-docs/stable/indexing.html#indexing-view-versus-copy\n",
      "2018-11-20 18:15:09,178 - allfeatures_extract_labels - INFO - ...Labels extracted from Dataset...\n",
      "2018-11-20 18:15:12,318 - allfeatures_drop_cols - INFO - ...Columns Excluded from dataset...\n",
      "2018-11-20 18:15:12,378 - allfeatures_extract_labels - INFO - ...Labels extracted from Dataset...\n"
     ]
    },
    {
     "name": "stdout",
     "output_type": "stream",
     "text": [
      "Records for valid Set - Number of rows: 9242\n"
     ]
    },
    {
     "name": "stderr",
     "output_type": "stream",
     "text": [
      "2018-11-20 18:15:12,589 - allfeatures_drop_cols - INFO - ...Columns Excluded from dataset...\n",
      "2018-11-20 18:15:12,652 - allfeatures_extract_labels - INFO - ...Labels extracted from Dataset...\n"
     ]
    },
    {
     "name": "stdout",
     "output_type": "stream",
     "text": [
      "Records for test Set - Number of rows: 16876\n",
      "chunk:  3  chunk size:  500000\n"
     ]
    },
    {
     "name": "stderr",
     "output_type": "stream",
     "text": [
      "2018-11-20 18:15:29,348 - drop_invalid_delinquency_status - INFO - invalid_delinquency_status dropped\n",
      "2018-11-20 18:15:33,715 - drop_invalid_delinquency_status - INFO - dropping invalid transitions and delinquency status, fill nan values, drop duplicates\n",
      "C:\\Users\\sandr\\AppData\\Local\\conda\\conda\\envs\\tensorflowenvironment\\lib\\site-packages\\ipykernel_launcher.py:36: SettingWithCopyWarning: \n",
      "A value is trying to be set on a copy of a slice from a DataFrame\n",
      "\n",
      "See the caveats in the documentation: http://pandas.pydata.org/pandas-docs/stable/indexing.html#indexing-view-versus-copy\n",
      "2018-11-20 18:15:45,615 - allfeatures_drop_cols - INFO - ...Columns Excluded from dataset...\n",
      "2018-11-20 18:15:45,975 - allfeatures_drop_cols - INFO - ...Columns Excluded from dataset...\n",
      "2018-11-20 18:15:46,288 - allfeatures_drop_cols - INFO - ...Columns Excluded from dataset...\n",
      "C:\\Users\\sandr\\AppData\\Local\\conda\\conda\\envs\\tensorflowenvironment\\lib\\site-packages\\ipykernel_launcher.py:16: SettingWithCopyWarning: \n",
      "A value is trying to be set on a copy of a slice from a DataFrame.\n",
      "Try using .loc[row_indexer,col_indexer] = value instead\n",
      "\n",
      "See the caveats in the documentation: http://pandas.pydata.org/pandas-docs/stable/indexing.html#indexing-view-versus-copy\n",
      "  app.launch_new_instance()\n"
     ]
    },
    {
     "name": "stdout",
     "output_type": "stream",
     "text": [
      "STANDARD DEV zero:  []\n",
      "Records for train Set - Number of rows: 389094\n"
     ]
    },
    {
     "name": "stderr",
     "output_type": "stream",
     "text": [
      "C:\\Users\\sandr\\AppData\\Local\\conda\\conda\\envs\\tensorflowenvironment\\lib\\site-packages\\ipykernel_launcher.py:10: SettingWithCopyWarning: \n",
      "A value is trying to be set on a copy of a slice from a DataFrame\n",
      "\n",
      "See the caveats in the documentation: http://pandas.pydata.org/pandas-docs/stable/indexing.html#indexing-view-versus-copy\n",
      "  # Remove the CWD from sys.path while we load stuff.\n",
      "2018-11-20 18:16:47,372 - allfeatures_drop_cols - INFO - ...Columns Excluded from dataset...\n",
      "C:\\Users\\sandr\\AppData\\Local\\conda\\conda\\envs\\tensorflowenvironment\\lib\\site-packages\\ipykernel_launcher.py:18: SettingWithCopyWarning: \n",
      "A value is trying to be set on a copy of a slice from a DataFrame\n",
      "\n",
      "See the caveats in the documentation: http://pandas.pydata.org/pandas-docs/stable/indexing.html#indexing-view-versus-copy\n",
      "2018-11-20 18:16:47,650 - allfeatures_extract_labels - INFO - ...Labels extracted from Dataset...\n",
      "2018-11-20 18:16:50,758 - allfeatures_drop_cols - INFO - ...Columns Excluded from dataset...\n",
      "2018-11-20 18:16:50,808 - allfeatures_extract_labels - INFO - ...Labels extracted from Dataset...\n"
     ]
    },
    {
     "name": "stdout",
     "output_type": "stream",
     "text": [
      "Records for valid Set - Number of rows: 10148\n"
     ]
    },
    {
     "name": "stderr",
     "output_type": "stream",
     "text": [
      "2018-11-20 18:16:51,037 - allfeatures_drop_cols - INFO - ...Columns Excluded from dataset...\n",
      "2018-11-20 18:16:51,098 - allfeatures_extract_labels - INFO - ...Labels extracted from Dataset...\n"
     ]
    },
    {
     "name": "stdout",
     "output_type": "stream",
     "text": [
      "Records for test Set - Number of rows: 18481\n",
      "chunk:  4  chunk size:  500000\n"
     ]
    },
    {
     "name": "stderr",
     "output_type": "stream",
     "text": [
      "2018-11-20 18:17:09,574 - drop_invalid_delinquency_status - INFO - invalid_delinquency_status dropped\n",
      "2018-11-20 18:17:14,325 - drop_invalid_delinquency_status - INFO - dropping invalid transitions and delinquency status, fill nan values, drop duplicates\n",
      "C:\\Users\\sandr\\AppData\\Local\\conda\\conda\\envs\\tensorflowenvironment\\lib\\site-packages\\ipykernel_launcher.py:36: SettingWithCopyWarning: \n",
      "A value is trying to be set on a copy of a slice from a DataFrame\n",
      "\n",
      "See the caveats in the documentation: http://pandas.pydata.org/pandas-docs/stable/indexing.html#indexing-view-versus-copy\n",
      "2018-11-20 18:17:27,524 - allfeatures_drop_cols - INFO - ...Columns Excluded from dataset...\n",
      "2018-11-20 18:17:27,944 - allfeatures_drop_cols - INFO - ...Columns Excluded from dataset...\n",
      "2018-11-20 18:17:28,318 - allfeatures_drop_cols - INFO - ...Columns Excluded from dataset...\n",
      "C:\\Users\\sandr\\AppData\\Local\\conda\\conda\\envs\\tensorflowenvironment\\lib\\site-packages\\ipykernel_launcher.py:16: SettingWithCopyWarning: \n",
      "A value is trying to be set on a copy of a slice from a DataFrame.\n",
      "Try using .loc[row_indexer,col_indexer] = value instead\n",
      "\n",
      "See the caveats in the documentation: http://pandas.pydata.org/pandas-docs/stable/indexing.html#indexing-view-versus-copy\n",
      "  app.launch_new_instance()\n"
     ]
    },
    {
     "name": "stdout",
     "output_type": "stream",
     "text": [
      "STANDARD DEV zero:  []\n",
      "Records for train Set - Number of rows: 394963\n"
     ]
    },
    {
     "name": "stderr",
     "output_type": "stream",
     "text": [
      "C:\\Users\\sandr\\AppData\\Local\\conda\\conda\\envs\\tensorflowenvironment\\lib\\site-packages\\ipykernel_launcher.py:10: SettingWithCopyWarning: \n",
      "A value is trying to be set on a copy of a slice from a DataFrame\n",
      "\n",
      "See the caveats in the documentation: http://pandas.pydata.org/pandas-docs/stable/indexing.html#indexing-view-versus-copy\n",
      "  # Remove the CWD from sys.path while we load stuff.\n",
      "2018-11-20 18:18:31,318 - allfeatures_drop_cols - INFO - ...Columns Excluded from dataset...\n",
      "C:\\Users\\sandr\\AppData\\Local\\conda\\conda\\envs\\tensorflowenvironment\\lib\\site-packages\\ipykernel_launcher.py:18: SettingWithCopyWarning: \n",
      "A value is trying to be set on a copy of a slice from a DataFrame\n",
      "\n",
      "See the caveats in the documentation: http://pandas.pydata.org/pandas-docs/stable/indexing.html#indexing-view-versus-copy\n",
      "2018-11-20 18:18:31,629 - allfeatures_extract_labels - INFO - ...Labels extracted from Dataset...\n",
      "2018-11-20 18:18:34,914 - allfeatures_drop_cols - INFO - ...Columns Excluded from dataset...\n",
      "2018-11-20 18:18:34,968 - allfeatures_extract_labels - INFO - ...Labels extracted from Dataset...\n"
     ]
    },
    {
     "name": "stdout",
     "output_type": "stream",
     "text": [
      "Records for valid Set - Number of rows: 11168\n"
     ]
    },
    {
     "name": "stderr",
     "output_type": "stream",
     "text": [
      "2018-11-20 18:18:35,201 - allfeatures_drop_cols - INFO - ...Columns Excluded from dataset...\n",
      "2018-11-20 18:18:35,254 - allfeatures_extract_labels - INFO - ...Labels extracted from Dataset...\n"
     ]
    },
    {
     "name": "stdout",
     "output_type": "stream",
     "text": [
      "Records for test Set - Number of rows: 20509\n",
      "chunk:  5  chunk size:  500000\n"
     ]
    },
    {
     "name": "stderr",
     "output_type": "stream",
     "text": [
      "2018-11-20 18:18:52,244 - drop_invalid_delinquency_status - INFO - invalid_delinquency_status dropped\n",
      "2018-11-20 18:18:56,992 - drop_invalid_delinquency_status - INFO - dropping invalid transitions and delinquency status, fill nan values, drop duplicates\n",
      "C:\\Users\\sandr\\AppData\\Local\\conda\\conda\\envs\\tensorflowenvironment\\lib\\site-packages\\ipykernel_launcher.py:36: SettingWithCopyWarning: \n",
      "A value is trying to be set on a copy of a slice from a DataFrame\n",
      "\n",
      "See the caveats in the documentation: http://pandas.pydata.org/pandas-docs/stable/indexing.html#indexing-view-versus-copy\n",
      "2018-11-20 18:19:10,039 - allfeatures_drop_cols - INFO - ...Columns Excluded from dataset...\n",
      "2018-11-20 18:19:10,447 - allfeatures_drop_cols - INFO - ...Columns Excluded from dataset...\n",
      "2018-11-20 18:19:10,778 - allfeatures_drop_cols - INFO - ...Columns Excluded from dataset...\n",
      "C:\\Users\\sandr\\AppData\\Local\\conda\\conda\\envs\\tensorflowenvironment\\lib\\site-packages\\ipykernel_launcher.py:16: SettingWithCopyWarning: \n",
      "A value is trying to be set on a copy of a slice from a DataFrame.\n",
      "Try using .loc[row_indexer,col_indexer] = value instead\n",
      "\n",
      "See the caveats in the documentation: http://pandas.pydata.org/pandas-docs/stable/indexing.html#indexing-view-versus-copy\n",
      "  app.launch_new_instance()\n"
     ]
    },
    {
     "name": "stdout",
     "output_type": "stream",
     "text": [
      "STANDARD DEV zero:  []\n",
      "Records for train Set - Number of rows: 392167\n"
     ]
    },
    {
     "name": "stderr",
     "output_type": "stream",
     "text": [
      "C:\\Users\\sandr\\AppData\\Local\\conda\\conda\\envs\\tensorflowenvironment\\lib\\site-packages\\ipykernel_launcher.py:10: SettingWithCopyWarning: \n",
      "A value is trying to be set on a copy of a slice from a DataFrame\n",
      "\n",
      "See the caveats in the documentation: http://pandas.pydata.org/pandas-docs/stable/indexing.html#indexing-view-versus-copy\n",
      "  # Remove the CWD from sys.path while we load stuff.\n",
      "2018-11-20 18:20:11,514 - allfeatures_drop_cols - INFO - ...Columns Excluded from dataset...\n",
      "C:\\Users\\sandr\\AppData\\Local\\conda\\conda\\envs\\tensorflowenvironment\\lib\\site-packages\\ipykernel_launcher.py:18: SettingWithCopyWarning: \n",
      "A value is trying to be set on a copy of a slice from a DataFrame\n",
      "\n",
      "See the caveats in the documentation: http://pandas.pydata.org/pandas-docs/stable/indexing.html#indexing-view-versus-copy\n",
      "2018-11-20 18:20:11,804 - allfeatures_extract_labels - INFO - ...Labels extracted from Dataset...\n",
      "2018-11-20 18:20:14,734 - allfeatures_drop_cols - INFO - ...Columns Excluded from dataset...\n",
      "2018-11-20 18:20:14,794 - allfeatures_extract_labels - INFO - ...Labels extracted from Dataset...\n"
     ]
    },
    {
     "name": "stdout",
     "output_type": "stream",
     "text": [
      "Records for valid Set - Number of rows: 11674\n"
     ]
    },
    {
     "name": "stderr",
     "output_type": "stream",
     "text": [
      "2018-11-20 18:20:15,051 - allfeatures_drop_cols - INFO - ...Columns Excluded from dataset...\n",
      "2018-11-20 18:20:15,104 - allfeatures_extract_labels - INFO - ...Labels extracted from Dataset...\n"
     ]
    },
    {
     "name": "stdout",
     "output_type": "stream",
     "text": [
      "Records for test Set - Number of rows: 21682\n",
      "chunk:  6  chunk size:  500000\n"
     ]
    },
    {
     "name": "stderr",
     "output_type": "stream",
     "text": [
      "2018-11-20 18:20:31,594 - drop_invalid_delinquency_status - INFO - invalid_delinquency_status dropped\n",
      "2018-11-20 18:20:35,892 - drop_invalid_delinquency_status - INFO - dropping invalid transitions and delinquency status, fill nan values, drop duplicates\n",
      "C:\\Users\\sandr\\AppData\\Local\\conda\\conda\\envs\\tensorflowenvironment\\lib\\site-packages\\ipykernel_launcher.py:36: SettingWithCopyWarning: \n",
      "A value is trying to be set on a copy of a slice from a DataFrame\n",
      "\n",
      "See the caveats in the documentation: http://pandas.pydata.org/pandas-docs/stable/indexing.html#indexing-view-versus-copy\n",
      "2018-11-20 18:20:47,444 - allfeatures_drop_cols - INFO - ...Columns Excluded from dataset...\n",
      "2018-11-20 18:20:47,793 - allfeatures_drop_cols - INFO - ...Columns Excluded from dataset...\n",
      "2018-11-20 18:20:48,085 - allfeatures_drop_cols - INFO - ...Columns Excluded from dataset...\n",
      "C:\\Users\\sandr\\AppData\\Local\\conda\\conda\\envs\\tensorflowenvironment\\lib\\site-packages\\ipykernel_launcher.py:16: SettingWithCopyWarning: \n",
      "A value is trying to be set on a copy of a slice from a DataFrame.\n",
      "Try using .loc[row_indexer,col_indexer] = value instead\n",
      "\n",
      "See the caveats in the documentation: http://pandas.pydata.org/pandas-docs/stable/indexing.html#indexing-view-versus-copy\n",
      "  app.launch_new_instance()\n"
     ]
    },
    {
     "name": "stdout",
     "output_type": "stream",
     "text": [
      "STANDARD DEV zero:  []\n",
      "Records for train Set - Number of rows: 385419\n"
     ]
    },
    {
     "name": "stderr",
     "output_type": "stream",
     "text": [
      "C:\\Users\\sandr\\AppData\\Local\\conda\\conda\\envs\\tensorflowenvironment\\lib\\site-packages\\ipykernel_launcher.py:10: SettingWithCopyWarning: \n",
      "A value is trying to be set on a copy of a slice from a DataFrame\n",
      "\n",
      "See the caveats in the documentation: http://pandas.pydata.org/pandas-docs/stable/indexing.html#indexing-view-versus-copy\n",
      "  # Remove the CWD from sys.path while we load stuff.\n",
      "2018-11-20 18:21:47,168 - allfeatures_drop_cols - INFO - ...Columns Excluded from dataset...\n",
      "C:\\Users\\sandr\\AppData\\Local\\conda\\conda\\envs\\tensorflowenvironment\\lib\\site-packages\\ipykernel_launcher.py:18: SettingWithCopyWarning: \n",
      "A value is trying to be set on a copy of a slice from a DataFrame\n",
      "\n",
      "See the caveats in the documentation: http://pandas.pydata.org/pandas-docs/stable/indexing.html#indexing-view-versus-copy\n",
      "2018-11-20 18:21:47,438 - allfeatures_extract_labels - INFO - ...Labels extracted from Dataset...\n",
      "2018-11-20 18:21:50,302 - allfeatures_drop_cols - INFO - ...Columns Excluded from dataset...\n",
      "2018-11-20 18:21:50,366 - allfeatures_extract_labels - INFO - ...Labels extracted from Dataset...\n"
     ]
    },
    {
     "name": "stdout",
     "output_type": "stream",
     "text": [
      "Records for valid Set - Number of rows: 11994\n"
     ]
    },
    {
     "name": "stderr",
     "output_type": "stream",
     "text": [
      "2018-11-20 18:21:50,635 - allfeatures_drop_cols - INFO - ...Columns Excluded from dataset...\n",
      "2018-11-20 18:21:50,694 - allfeatures_extract_labels - INFO - ...Labels extracted from Dataset...\n"
     ]
    },
    {
     "name": "stdout",
     "output_type": "stream",
     "text": [
      "Records for test Set - Number of rows: 22501\n",
      "chunk:  7  chunk size:  500000\n"
     ]
    },
    {
     "name": "stderr",
     "output_type": "stream",
     "text": [
      "2018-11-20 18:22:06,374 - drop_invalid_delinquency_status - INFO - invalid_delinquency_status dropped\n",
      "2018-11-20 18:22:10,554 - drop_invalid_delinquency_status - INFO - dropping invalid transitions and delinquency status, fill nan values, drop duplicates\n",
      "C:\\Users\\sandr\\AppData\\Local\\conda\\conda\\envs\\tensorflowenvironment\\lib\\site-packages\\ipykernel_launcher.py:36: SettingWithCopyWarning: \n",
      "A value is trying to be set on a copy of a slice from a DataFrame\n",
      "\n",
      "See the caveats in the documentation: http://pandas.pydata.org/pandas-docs/stable/indexing.html#indexing-view-versus-copy\n",
      "2018-11-20 18:22:22,354 - allfeatures_drop_cols - INFO - ...Columns Excluded from dataset...\n",
      "2018-11-20 18:22:22,701 - allfeatures_drop_cols - INFO - ...Columns Excluded from dataset...\n",
      "2018-11-20 18:22:22,997 - allfeatures_drop_cols - INFO - ...Columns Excluded from dataset...\n",
      "C:\\Users\\sandr\\AppData\\Local\\conda\\conda\\envs\\tensorflowenvironment\\lib\\site-packages\\ipykernel_launcher.py:16: SettingWithCopyWarning: \n",
      "A value is trying to be set on a copy of a slice from a DataFrame.\n",
      "Try using .loc[row_indexer,col_indexer] = value instead\n",
      "\n",
      "See the caveats in the documentation: http://pandas.pydata.org/pandas-docs/stable/indexing.html#indexing-view-versus-copy\n",
      "  app.launch_new_instance()\n"
     ]
    },
    {
     "name": "stdout",
     "output_type": "stream",
     "text": [
      "STANDARD DEV zero:  []\n",
      "Records for train Set - Number of rows: 385446\n"
     ]
    },
    {
     "name": "stderr",
     "output_type": "stream",
     "text": [
      "C:\\Users\\sandr\\AppData\\Local\\conda\\conda\\envs\\tensorflowenvironment\\lib\\site-packages\\ipykernel_launcher.py:10: SettingWithCopyWarning: \n",
      "A value is trying to be set on a copy of a slice from a DataFrame\n",
      "\n",
      "See the caveats in the documentation: http://pandas.pydata.org/pandas-docs/stable/indexing.html#indexing-view-versus-copy\n",
      "  # Remove the CWD from sys.path while we load stuff.\n",
      "2018-11-20 18:23:22,012 - allfeatures_drop_cols - INFO - ...Columns Excluded from dataset...\n",
      "C:\\Users\\sandr\\AppData\\Local\\conda\\conda\\envs\\tensorflowenvironment\\lib\\site-packages\\ipykernel_launcher.py:18: SettingWithCopyWarning: \n",
      "A value is trying to be set on a copy of a slice from a DataFrame\n",
      "\n",
      "See the caveats in the documentation: http://pandas.pydata.org/pandas-docs/stable/indexing.html#indexing-view-versus-copy\n",
      "2018-11-20 18:23:22,288 - allfeatures_extract_labels - INFO - ...Labels extracted from Dataset...\n",
      "2018-11-20 18:23:25,601 - allfeatures_drop_cols - INFO - ...Columns Excluded from dataset...\n",
      "2018-11-20 18:23:25,658 - allfeatures_extract_labels - INFO - ...Labels extracted from Dataset...\n"
     ]
    },
    {
     "name": "stdout",
     "output_type": "stream",
     "text": [
      "Records for valid Set - Number of rows: 12256\n"
     ]
    },
    {
     "name": "stderr",
     "output_type": "stream",
     "text": [
      "2018-11-20 18:23:25,958 - allfeatures_drop_cols - INFO - ...Columns Excluded from dataset...\n",
      "2018-11-20 18:23:26,018 - allfeatures_extract_labels - INFO - ...Labels extracted from Dataset...\n"
     ]
    },
    {
     "name": "stdout",
     "output_type": "stream",
     "text": [
      "Records for test Set - Number of rows: 22881\n",
      "chunk:  8  chunk size:  500000\n"
     ]
    },
    {
     "name": "stderr",
     "output_type": "stream",
     "text": [
      "2018-11-20 18:23:42,438 - drop_invalid_delinquency_status - INFO - invalid_delinquency_status dropped\n",
      "2018-11-20 18:23:46,452 - drop_invalid_delinquency_status - INFO - dropping invalid transitions and delinquency status, fill nan values, drop duplicates\n",
      "C:\\Users\\sandr\\AppData\\Local\\conda\\conda\\envs\\tensorflowenvironment\\lib\\site-packages\\ipykernel_launcher.py:36: SettingWithCopyWarning: \n",
      "A value is trying to be set on a copy of a slice from a DataFrame\n",
      "\n",
      "See the caveats in the documentation: http://pandas.pydata.org/pandas-docs/stable/indexing.html#indexing-view-versus-copy\n",
      "2018-11-20 18:23:57,832 - allfeatures_drop_cols - INFO - ...Columns Excluded from dataset...\n",
      "2018-11-20 18:23:58,172 - allfeatures_drop_cols - INFO - ...Columns Excluded from dataset...\n",
      "2018-11-20 18:23:58,457 - allfeatures_drop_cols - INFO - ...Columns Excluded from dataset...\n",
      "C:\\Users\\sandr\\AppData\\Local\\conda\\conda\\envs\\tensorflowenvironment\\lib\\site-packages\\ipykernel_launcher.py:16: SettingWithCopyWarning: \n",
      "A value is trying to be set on a copy of a slice from a DataFrame.\n",
      "Try using .loc[row_indexer,col_indexer] = value instead\n",
      "\n",
      "See the caveats in the documentation: http://pandas.pydata.org/pandas-docs/stable/indexing.html#indexing-view-versus-copy\n",
      "  app.launch_new_instance()\n"
     ]
    },
    {
     "name": "stdout",
     "output_type": "stream",
     "text": [
      "STANDARD DEV zero:  []\n",
      "Records for train Set - Number of rows: 376263\n"
     ]
    },
    {
     "name": "stderr",
     "output_type": "stream",
     "text": [
      "C:\\Users\\sandr\\AppData\\Local\\conda\\conda\\envs\\tensorflowenvironment\\lib\\site-packages\\ipykernel_launcher.py:10: SettingWithCopyWarning: \n",
      "A value is trying to be set on a copy of a slice from a DataFrame\n",
      "\n",
      "See the caveats in the documentation: http://pandas.pydata.org/pandas-docs/stable/indexing.html#indexing-view-versus-copy\n",
      "  # Remove the CWD from sys.path while we load stuff.\n",
      "2018-11-20 18:24:55,972 - allfeatures_drop_cols - INFO - ...Columns Excluded from dataset...\n",
      "C:\\Users\\sandr\\AppData\\Local\\conda\\conda\\envs\\tensorflowenvironment\\lib\\site-packages\\ipykernel_launcher.py:18: SettingWithCopyWarning: \n",
      "A value is trying to be set on a copy of a slice from a DataFrame\n",
      "\n",
      "See the caveats in the documentation: http://pandas.pydata.org/pandas-docs/stable/indexing.html#indexing-view-versus-copy\n",
      "2018-11-20 18:24:56,252 - allfeatures_extract_labels - INFO - ...Labels extracted from Dataset...\n",
      "2018-11-20 18:24:59,508 - allfeatures_drop_cols - INFO - ...Columns Excluded from dataset...\n",
      "2018-11-20 18:24:59,567 - allfeatures_extract_labels - INFO - ...Labels extracted from Dataset...\n"
     ]
    },
    {
     "name": "stdout",
     "output_type": "stream",
     "text": [
      "Records for valid Set - Number of rows: 12064\n"
     ]
    },
    {
     "name": "stderr",
     "output_type": "stream",
     "text": [
      "2018-11-20 18:24:59,912 - allfeatures_drop_cols - INFO - ...Columns Excluded from dataset...\n",
      "2018-11-20 18:24:59,981 - allfeatures_extract_labels - INFO - ...Labels extracted from Dataset...\n"
     ]
    },
    {
     "name": "stdout",
     "output_type": "stream",
     "text": [
      "Records for test Set - Number of rows: 22931\n",
      "chunk:  9  chunk size:  500000\n"
     ]
    },
    {
     "name": "stderr",
     "output_type": "stream",
     "text": [
      "2018-11-20 18:25:15,252 - drop_invalid_delinquency_status - INFO - invalid_delinquency_status dropped\n",
      "2018-11-20 18:25:19,372 - drop_invalid_delinquency_status - INFO - dropping invalid transitions and delinquency status, fill nan values, drop duplicates\n",
      "C:\\Users\\sandr\\AppData\\Local\\conda\\conda\\envs\\tensorflowenvironment\\lib\\site-packages\\ipykernel_launcher.py:36: SettingWithCopyWarning: \n",
      "A value is trying to be set on a copy of a slice from a DataFrame\n",
      "\n",
      "See the caveats in the documentation: http://pandas.pydata.org/pandas-docs/stable/indexing.html#indexing-view-versus-copy\n",
      "2018-11-20 18:25:30,991 - allfeatures_drop_cols - INFO - ...Columns Excluded from dataset...\n",
      "2018-11-20 18:25:31,335 - allfeatures_drop_cols - INFO - ...Columns Excluded from dataset...\n",
      "2018-11-20 18:25:31,621 - allfeatures_drop_cols - INFO - ...Columns Excluded from dataset...\n",
      "C:\\Users\\sandr\\AppData\\Local\\conda\\conda\\envs\\tensorflowenvironment\\lib\\site-packages\\ipykernel_launcher.py:16: SettingWithCopyWarning: \n",
      "A value is trying to be set on a copy of a slice from a DataFrame.\n",
      "Try using .loc[row_indexer,col_indexer] = value instead\n",
      "\n",
      "See the caveats in the documentation: http://pandas.pydata.org/pandas-docs/stable/indexing.html#indexing-view-versus-copy\n",
      "  app.launch_new_instance()\n"
     ]
    },
    {
     "name": "stdout",
     "output_type": "stream",
     "text": [
      "STANDARD DEV zero:  []\n",
      "Records for train Set - Number of rows: 384041\n"
     ]
    },
    {
     "name": "stderr",
     "output_type": "stream",
     "text": [
      "C:\\Users\\sandr\\AppData\\Local\\conda\\conda\\envs\\tensorflowenvironment\\lib\\site-packages\\ipykernel_launcher.py:10: SettingWithCopyWarning: \n",
      "A value is trying to be set on a copy of a slice from a DataFrame\n",
      "\n",
      "See the caveats in the documentation: http://pandas.pydata.org/pandas-docs/stable/indexing.html#indexing-view-versus-copy\n",
      "  # Remove the CWD from sys.path while we load stuff.\n",
      "2018-11-20 18:26:29,201 - allfeatures_drop_cols - INFO - ...Columns Excluded from dataset...\n",
      "C:\\Users\\sandr\\AppData\\Local\\conda\\conda\\envs\\tensorflowenvironment\\lib\\site-packages\\ipykernel_launcher.py:18: SettingWithCopyWarning: \n",
      "A value is trying to be set on a copy of a slice from a DataFrame\n",
      "\n",
      "See the caveats in the documentation: http://pandas.pydata.org/pandas-docs/stable/indexing.html#indexing-view-versus-copy\n",
      "2018-11-20 18:26:29,471 - allfeatures_extract_labels - INFO - ...Labels extracted from Dataset...\n",
      "2018-11-20 18:26:32,890 - allfeatures_drop_cols - INFO - ...Columns Excluded from dataset...\n",
      "2018-11-20 18:26:32,946 - allfeatures_extract_labels - INFO - ...Labels extracted from Dataset...\n"
     ]
    },
    {
     "name": "stdout",
     "output_type": "stream",
     "text": [
      "Records for valid Set - Number of rows: 11883\n"
     ]
    },
    {
     "name": "stderr",
     "output_type": "stream",
     "text": [
      "2018-11-20 18:26:33,271 - allfeatures_drop_cols - INFO - ...Columns Excluded from dataset...\n",
      "2018-11-20 18:26:33,331 - allfeatures_extract_labels - INFO - ...Labels extracted from Dataset...\n"
     ]
    },
    {
     "name": "stdout",
     "output_type": "stream",
     "text": [
      "Records for test Set - Number of rows: 22427\n",
      "chunk:  10  chunk size:  500000\n"
     ]
    },
    {
     "name": "stderr",
     "output_type": "stream",
     "text": [
      "2018-11-20 18:26:47,891 - drop_invalid_delinquency_status - INFO - invalid_delinquency_status dropped\n",
      "2018-11-20 18:26:52,186 - drop_invalid_delinquency_status - INFO - dropping invalid transitions and delinquency status, fill nan values, drop duplicates\n",
      "C:\\Users\\sandr\\AppData\\Local\\conda\\conda\\envs\\tensorflowenvironment\\lib\\site-packages\\ipykernel_launcher.py:36: SettingWithCopyWarning: \n",
      "A value is trying to be set on a copy of a slice from a DataFrame\n",
      "\n",
      "See the caveats in the documentation: http://pandas.pydata.org/pandas-docs/stable/indexing.html#indexing-view-versus-copy\n",
      "2018-11-20 18:27:03,852 - allfeatures_drop_cols - INFO - ...Columns Excluded from dataset...\n",
      "2018-11-20 18:27:04,206 - allfeatures_drop_cols - INFO - ...Columns Excluded from dataset...\n",
      "2018-11-20 18:27:04,512 - allfeatures_drop_cols - INFO - ...Columns Excluded from dataset...\n",
      "C:\\Users\\sandr\\AppData\\Local\\conda\\conda\\envs\\tensorflowenvironment\\lib\\site-packages\\ipykernel_launcher.py:16: SettingWithCopyWarning: \n",
      "A value is trying to be set on a copy of a slice from a DataFrame.\n",
      "Try using .loc[row_indexer,col_indexer] = value instead\n",
      "\n",
      "See the caveats in the documentation: http://pandas.pydata.org/pandas-docs/stable/indexing.html#indexing-view-versus-copy\n",
      "  app.launch_new_instance()\n"
     ]
    },
    {
     "name": "stdout",
     "output_type": "stream",
     "text": [
      "STANDARD DEV zero:  []\n",
      "Records for train Set - Number of rows: 387220\n"
     ]
    },
    {
     "name": "stderr",
     "output_type": "stream",
     "text": [
      "C:\\Users\\sandr\\AppData\\Local\\conda\\conda\\envs\\tensorflowenvironment\\lib\\site-packages\\ipykernel_launcher.py:10: SettingWithCopyWarning: \n",
      "A value is trying to be set on a copy of a slice from a DataFrame\n",
      "\n",
      "See the caveats in the documentation: http://pandas.pydata.org/pandas-docs/stable/indexing.html#indexing-view-versus-copy\n",
      "  # Remove the CWD from sys.path while we load stuff.\n",
      "2018-11-20 18:28:02,432 - allfeatures_drop_cols - INFO - ...Columns Excluded from dataset...\n",
      "C:\\Users\\sandr\\AppData\\Local\\conda\\conda\\envs\\tensorflowenvironment\\lib\\site-packages\\ipykernel_launcher.py:18: SettingWithCopyWarning: \n",
      "A value is trying to be set on a copy of a slice from a DataFrame\n",
      "\n",
      "See the caveats in the documentation: http://pandas.pydata.org/pandas-docs/stable/indexing.html#indexing-view-versus-copy\n",
      "2018-11-20 18:28:02,704 - allfeatures_extract_labels - INFO - ...Labels extracted from Dataset...\n",
      "2018-11-20 18:28:05,884 - allfeatures_drop_cols - INFO - ...Columns Excluded from dataset...\n",
      "2018-11-20 18:28:05,935 - allfeatures_extract_labels - INFO - ...Labels extracted from Dataset...\n"
     ]
    },
    {
     "name": "stdout",
     "output_type": "stream",
     "text": [
      "Records for valid Set - Number of rows: 12425\n"
     ]
    },
    {
     "name": "stderr",
     "output_type": "stream",
     "text": [
      "2018-11-20 18:28:06,286 - allfeatures_drop_cols - INFO - ...Columns Excluded from dataset...\n",
      "2018-11-20 18:28:06,346 - allfeatures_extract_labels - INFO - ...Labels extracted from Dataset...\n"
     ]
    },
    {
     "name": "stdout",
     "output_type": "stream",
     "text": [
      "Records for test Set - Number of rows: 23225\n",
      "chunk:  11  chunk size:  500000\n"
     ]
    },
    {
     "name": "stderr",
     "output_type": "stream",
     "text": [
      "2018-11-20 18:28:22,107 - drop_invalid_delinquency_status - INFO - invalid_delinquency_status dropped\n",
      "2018-11-20 18:28:26,237 - drop_invalid_delinquency_status - INFO - dropping invalid transitions and delinquency status, fill nan values, drop duplicates\n",
      "C:\\Users\\sandr\\AppData\\Local\\conda\\conda\\envs\\tensorflowenvironment\\lib\\site-packages\\ipykernel_launcher.py:36: SettingWithCopyWarning: \n",
      "A value is trying to be set on a copy of a slice from a DataFrame\n",
      "\n",
      "See the caveats in the documentation: http://pandas.pydata.org/pandas-docs/stable/indexing.html#indexing-view-versus-copy\n",
      "2018-11-20 18:28:37,667 - allfeatures_drop_cols - INFO - ...Columns Excluded from dataset...\n",
      "2018-11-20 18:28:38,001 - allfeatures_drop_cols - INFO - ...Columns Excluded from dataset...\n",
      "2018-11-20 18:28:38,289 - allfeatures_drop_cols - INFO - ...Columns Excluded from dataset...\n",
      "C:\\Users\\sandr\\AppData\\Local\\conda\\conda\\envs\\tensorflowenvironment\\lib\\site-packages\\ipykernel_launcher.py:16: SettingWithCopyWarning: \n",
      "A value is trying to be set on a copy of a slice from a DataFrame.\n",
      "Try using .loc[row_indexer,col_indexer] = value instead\n",
      "\n",
      "See the caveats in the documentation: http://pandas.pydata.org/pandas-docs/stable/indexing.html#indexing-view-versus-copy\n",
      "  app.launch_new_instance()\n"
     ]
    },
    {
     "name": "stdout",
     "output_type": "stream",
     "text": [
      "STANDARD DEV zero:  []\n",
      "Records for train Set - Number of rows: 376512\n"
     ]
    },
    {
     "name": "stderr",
     "output_type": "stream",
     "text": [
      "C:\\Users\\sandr\\AppData\\Local\\conda\\conda\\envs\\tensorflowenvironment\\lib\\site-packages\\ipykernel_launcher.py:10: SettingWithCopyWarning: \n",
      "A value is trying to be set on a copy of a slice from a DataFrame\n",
      "\n",
      "See the caveats in the documentation: http://pandas.pydata.org/pandas-docs/stable/indexing.html#indexing-view-versus-copy\n",
      "  # Remove the CWD from sys.path while we load stuff.\n",
      "2018-11-20 18:29:36,101 - allfeatures_drop_cols - INFO - ...Columns Excluded from dataset...\n",
      "C:\\Users\\sandr\\AppData\\Local\\conda\\conda\\envs\\tensorflowenvironment\\lib\\site-packages\\ipykernel_launcher.py:18: SettingWithCopyWarning: \n",
      "A value is trying to be set on a copy of a slice from a DataFrame\n",
      "\n",
      "See the caveats in the documentation: http://pandas.pydata.org/pandas-docs/stable/indexing.html#indexing-view-versus-copy\n",
      "2018-11-20 18:29:36,367 - allfeatures_extract_labels - INFO - ...Labels extracted from Dataset...\n",
      "2018-11-20 18:29:39,402 - allfeatures_drop_cols - INFO - ...Columns Excluded from dataset...\n",
      "2018-11-20 18:29:39,459 - allfeatures_extract_labels - INFO - ...Labels extracted from Dataset...\n"
     ]
    },
    {
     "name": "stdout",
     "output_type": "stream",
     "text": [
      "Records for valid Set - Number of rows: 12634\n"
     ]
    },
    {
     "name": "stderr",
     "output_type": "stream",
     "text": [
      "2018-11-20 18:29:39,827 - allfeatures_drop_cols - INFO - ...Columns Excluded from dataset...\n",
      "2018-11-20 18:29:39,891 - allfeatures_extract_labels - INFO - ...Labels extracted from Dataset...\n"
     ]
    },
    {
     "name": "stdout",
     "output_type": "stream",
     "text": [
      "Records for test Set - Number of rows: 23646\n",
      "chunk:  12  chunk size:  500000\n"
     ]
    },
    {
     "name": "stderr",
     "output_type": "stream",
     "text": [
      "2018-11-20 18:29:55,320 - drop_invalid_delinquency_status - INFO - invalid_delinquency_status dropped\n",
      "2018-11-20 18:29:59,616 - drop_invalid_delinquency_status - INFO - dropping invalid transitions and delinquency status, fill nan values, drop duplicates\n",
      "C:\\Users\\sandr\\AppData\\Local\\conda\\conda\\envs\\tensorflowenvironment\\lib\\site-packages\\ipykernel_launcher.py:36: SettingWithCopyWarning: \n",
      "A value is trying to be set on a copy of a slice from a DataFrame\n",
      "\n",
      "See the caveats in the documentation: http://pandas.pydata.org/pandas-docs/stable/indexing.html#indexing-view-versus-copy\n",
      "2018-11-20 18:30:11,061 - allfeatures_drop_cols - INFO - ...Columns Excluded from dataset...\n",
      "2018-11-20 18:30:11,411 - allfeatures_drop_cols - INFO - ...Columns Excluded from dataset...\n",
      "2018-11-20 18:30:11,701 - allfeatures_drop_cols - INFO - ...Columns Excluded from dataset...\n",
      "C:\\Users\\sandr\\AppData\\Local\\conda\\conda\\envs\\tensorflowenvironment\\lib\\site-packages\\ipykernel_launcher.py:16: SettingWithCopyWarning: \n",
      "A value is trying to be set on a copy of a slice from a DataFrame.\n",
      "Try using .loc[row_indexer,col_indexer] = value instead\n",
      "\n",
      "See the caveats in the documentation: http://pandas.pydata.org/pandas-docs/stable/indexing.html#indexing-view-versus-copy\n",
      "  app.launch_new_instance()\n"
     ]
    },
    {
     "name": "stdout",
     "output_type": "stream",
     "text": [
      "STANDARD DEV zero:  []\n",
      "Records for train Set - Number of rows: 376052\n"
     ]
    },
    {
     "name": "stderr",
     "output_type": "stream",
     "text": [
      "C:\\Users\\sandr\\AppData\\Local\\conda\\conda\\envs\\tensorflowenvironment\\lib\\site-packages\\ipykernel_launcher.py:10: SettingWithCopyWarning: \n",
      "A value is trying to be set on a copy of a slice from a DataFrame\n",
      "\n",
      "See the caveats in the documentation: http://pandas.pydata.org/pandas-docs/stable/indexing.html#indexing-view-versus-copy\n",
      "  # Remove the CWD from sys.path while we load stuff.\n",
      "2018-11-20 18:31:09,735 - allfeatures_drop_cols - INFO - ...Columns Excluded from dataset...\n",
      "C:\\Users\\sandr\\AppData\\Local\\conda\\conda\\envs\\tensorflowenvironment\\lib\\site-packages\\ipykernel_launcher.py:18: SettingWithCopyWarning: \n",
      "A value is trying to be set on a copy of a slice from a DataFrame\n",
      "\n",
      "See the caveats in the documentation: http://pandas.pydata.org/pandas-docs/stable/indexing.html#indexing-view-versus-copy\n",
      "2018-11-20 18:31:10,007 - allfeatures_extract_labels - INFO - ...Labels extracted from Dataset...\n",
      "2018-11-20 18:31:13,071 - allfeatures_drop_cols - INFO - ...Columns Excluded from dataset...\n",
      "2018-11-20 18:31:13,127 - allfeatures_extract_labels - INFO - ...Labels extracted from Dataset...\n"
     ]
    },
    {
     "name": "stdout",
     "output_type": "stream",
     "text": [
      "Records for valid Set - Number of rows: 13488\n"
     ]
    },
    {
     "name": "stderr",
     "output_type": "stream",
     "text": [
      "2018-11-20 18:31:13,527 - allfeatures_drop_cols - INFO - ...Columns Excluded from dataset...\n",
      "2018-11-20 18:31:13,587 - allfeatures_extract_labels - INFO - ...Labels extracted from Dataset...\n"
     ]
    },
    {
     "name": "stdout",
     "output_type": "stream",
     "text": [
      "Records for test Set - Number of rows: 25849\n",
      "chunk:  13  chunk size:  500000\n"
     ]
    },
    {
     "name": "stderr",
     "output_type": "stream",
     "text": [
      "2018-11-20 18:31:29,801 - drop_invalid_delinquency_status - INFO - invalid_delinquency_status dropped\n",
      "2018-11-20 18:31:33,851 - drop_invalid_delinquency_status - INFO - dropping invalid transitions and delinquency status, fill nan values, drop duplicates\n",
      "C:\\Users\\sandr\\AppData\\Local\\conda\\conda\\envs\\tensorflowenvironment\\lib\\site-packages\\ipykernel_launcher.py:36: SettingWithCopyWarning: \n",
      "A value is trying to be set on a copy of a slice from a DataFrame\n",
      "\n",
      "See the caveats in the documentation: http://pandas.pydata.org/pandas-docs/stable/indexing.html#indexing-view-versus-copy\n",
      "2018-11-20 18:31:45,012 - allfeatures_drop_cols - INFO - ...Columns Excluded from dataset...\n",
      "2018-11-20 18:31:45,337 - allfeatures_drop_cols - INFO - ...Columns Excluded from dataset...\n",
      "2018-11-20 18:31:45,627 - allfeatures_drop_cols - INFO - ...Columns Excluded from dataset...\n",
      "C:\\Users\\sandr\\AppData\\Local\\conda\\conda\\envs\\tensorflowenvironment\\lib\\site-packages\\ipykernel_launcher.py:16: SettingWithCopyWarning: \n",
      "A value is trying to be set on a copy of a slice from a DataFrame.\n",
      "Try using .loc[row_indexer,col_indexer] = value instead\n",
      "\n",
      "See the caveats in the documentation: http://pandas.pydata.org/pandas-docs/stable/indexing.html#indexing-view-versus-copy\n",
      "  app.launch_new_instance()\n"
     ]
    },
    {
     "name": "stdout",
     "output_type": "stream",
     "text": [
      "STANDARD DEV zero:  []\n",
      "Records for train Set - Number of rows: 362143\n"
     ]
    },
    {
     "name": "stderr",
     "output_type": "stream",
     "text": [
      "C:\\Users\\sandr\\AppData\\Local\\conda\\conda\\envs\\tensorflowenvironment\\lib\\site-packages\\ipykernel_launcher.py:10: SettingWithCopyWarning: \n",
      "A value is trying to be set on a copy of a slice from a DataFrame\n",
      "\n",
      "See the caveats in the documentation: http://pandas.pydata.org/pandas-docs/stable/indexing.html#indexing-view-versus-copy\n",
      "  # Remove the CWD from sys.path while we load stuff.\n",
      "2018-11-20 18:32:41,851 - allfeatures_drop_cols - INFO - ...Columns Excluded from dataset...\n",
      "C:\\Users\\sandr\\AppData\\Local\\conda\\conda\\envs\\tensorflowenvironment\\lib\\site-packages\\ipykernel_launcher.py:18: SettingWithCopyWarning: \n",
      "A value is trying to be set on a copy of a slice from a DataFrame\n",
      "\n",
      "See the caveats in the documentation: http://pandas.pydata.org/pandas-docs/stable/indexing.html#indexing-view-versus-copy\n",
      "2018-11-20 18:32:42,132 - allfeatures_extract_labels - INFO - ...Labels extracted from Dataset...\n",
      "2018-11-20 18:32:44,947 - allfeatures_drop_cols - INFO - ...Columns Excluded from dataset...\n",
      "2018-11-20 18:32:45,007 - allfeatures_extract_labels - INFO - ...Labels extracted from Dataset...\n"
     ]
    },
    {
     "name": "stdout",
     "output_type": "stream",
     "text": [
      "Records for valid Set - Number of rows: 13920\n"
     ]
    },
    {
     "name": "stderr",
     "output_type": "stream",
     "text": [
      "2018-11-20 18:32:45,237 - allfeatures_drop_cols - INFO - ...Columns Excluded from dataset...\n",
      "2018-11-20 18:32:45,297 - allfeatures_extract_labels - INFO - ...Labels extracted from Dataset...\n"
     ]
    },
    {
     "name": "stdout",
     "output_type": "stream",
     "text": [
      "Records for test Set - Number of rows: 26886\n",
      "chunk:  14  chunk size:  500000\n"
     ]
    },
    {
     "name": "stderr",
     "output_type": "stream",
     "text": [
      "2018-11-20 18:33:01,736 - drop_invalid_delinquency_status - INFO - invalid_delinquency_status dropped\n",
      "2018-11-20 18:33:05,962 - drop_invalid_delinquency_status - INFO - dropping invalid transitions and delinquency status, fill nan values, drop duplicates\n",
      "C:\\Users\\sandr\\AppData\\Local\\conda\\conda\\envs\\tensorflowenvironment\\lib\\site-packages\\ipykernel_launcher.py:36: SettingWithCopyWarning: \n",
      "A value is trying to be set on a copy of a slice from a DataFrame\n",
      "\n",
      "See the caveats in the documentation: http://pandas.pydata.org/pandas-docs/stable/indexing.html#indexing-view-versus-copy\n",
      "2018-11-20 18:33:17,380 - allfeatures_drop_cols - INFO - ...Columns Excluded from dataset...\n",
      "2018-11-20 18:33:17,732 - allfeatures_drop_cols - INFO - ...Columns Excluded from dataset...\n",
      "2018-11-20 18:33:18,026 - allfeatures_drop_cols - INFO - ...Columns Excluded from dataset...\n",
      "C:\\Users\\sandr\\AppData\\Local\\conda\\conda\\envs\\tensorflowenvironment\\lib\\site-packages\\ipykernel_launcher.py:16: SettingWithCopyWarning: \n",
      "A value is trying to be set on a copy of a slice from a DataFrame.\n",
      "Try using .loc[row_indexer,col_indexer] = value instead\n",
      "\n",
      "See the caveats in the documentation: http://pandas.pydata.org/pandas-docs/stable/indexing.html#indexing-view-versus-copy\n",
      "  app.launch_new_instance()\n"
     ]
    },
    {
     "name": "stdout",
     "output_type": "stream",
     "text": [
      "STANDARD DEV zero:  []\n",
      "Records for train Set - Number of rows: 370480\n"
     ]
    },
    {
     "name": "stderr",
     "output_type": "stream",
     "text": [
      "C:\\Users\\sandr\\AppData\\Local\\conda\\conda\\envs\\tensorflowenvironment\\lib\\site-packages\\ipykernel_launcher.py:10: SettingWithCopyWarning: \n",
      "A value is trying to be set on a copy of a slice from a DataFrame\n",
      "\n",
      "See the caveats in the documentation: http://pandas.pydata.org/pandas-docs/stable/indexing.html#indexing-view-versus-copy\n",
      "  # Remove the CWD from sys.path while we load stuff.\n",
      "2018-11-20 18:34:15,715 - allfeatures_drop_cols - INFO - ...Columns Excluded from dataset...\n",
      "C:\\Users\\sandr\\AppData\\Local\\conda\\conda\\envs\\tensorflowenvironment\\lib\\site-packages\\ipykernel_launcher.py:18: SettingWithCopyWarning: \n",
      "A value is trying to be set on a copy of a slice from a DataFrame\n",
      "\n",
      "See the caveats in the documentation: http://pandas.pydata.org/pandas-docs/stable/indexing.html#indexing-view-versus-copy\n",
      "2018-11-20 18:34:15,982 - allfeatures_extract_labels - INFO - ...Labels extracted from Dataset...\n",
      "2018-11-20 18:34:19,186 - allfeatures_drop_cols - INFO - ...Columns Excluded from dataset...\n",
      "2018-11-20 18:34:19,246 - allfeatures_extract_labels - INFO - ...Labels extracted from Dataset...\n"
     ]
    },
    {
     "name": "stdout",
     "output_type": "stream",
     "text": [
      "Records for valid Set - Number of rows: 14203\n"
     ]
    },
    {
     "name": "stderr",
     "output_type": "stream",
     "text": [
      "2018-11-20 18:34:19,496 - allfeatures_drop_cols - INFO - ...Columns Excluded from dataset...\n",
      "2018-11-20 18:34:19,555 - allfeatures_extract_labels - INFO - ...Labels extracted from Dataset...\n"
     ]
    },
    {
     "name": "stdout",
     "output_type": "stream",
     "text": [
      "Records for test Set - Number of rows: 26928\n",
      "chunk:  15  chunk size:  500000\n"
     ]
    },
    {
     "name": "stderr",
     "output_type": "stream",
     "text": [
      "2018-11-20 18:34:36,052 - drop_invalid_delinquency_status - INFO - invalid_delinquency_status dropped\n",
      "2018-11-20 18:34:40,166 - drop_invalid_delinquency_status - INFO - dropping invalid transitions and delinquency status, fill nan values, drop duplicates\n",
      "C:\\Users\\sandr\\AppData\\Local\\conda\\conda\\envs\\tensorflowenvironment\\lib\\site-packages\\ipykernel_launcher.py:36: SettingWithCopyWarning: \n",
      "A value is trying to be set on a copy of a slice from a DataFrame\n",
      "\n",
      "See the caveats in the documentation: http://pandas.pydata.org/pandas-docs/stable/indexing.html#indexing-view-versus-copy\n",
      "2018-11-20 18:34:51,552 - allfeatures_drop_cols - INFO - ...Columns Excluded from dataset...\n",
      "2018-11-20 18:34:51,902 - allfeatures_drop_cols - INFO - ...Columns Excluded from dataset...\n",
      "2018-11-20 18:34:52,186 - allfeatures_drop_cols - INFO - ...Columns Excluded from dataset...\n",
      "C:\\Users\\sandr\\AppData\\Local\\conda\\conda\\envs\\tensorflowenvironment\\lib\\site-packages\\ipykernel_launcher.py:16: SettingWithCopyWarning: \n",
      "A value is trying to be set on a copy of a slice from a DataFrame.\n",
      "Try using .loc[row_indexer,col_indexer] = value instead\n",
      "\n",
      "See the caveats in the documentation: http://pandas.pydata.org/pandas-docs/stable/indexing.html#indexing-view-versus-copy\n",
      "  app.launch_new_instance()\n"
     ]
    },
    {
     "name": "stdout",
     "output_type": "stream",
     "text": [
      "STANDARD DEV zero:  []\n",
      "Records for train Set - Number of rows: 361468\n"
     ]
    },
    {
     "name": "stderr",
     "output_type": "stream",
     "text": [
      "C:\\Users\\sandr\\AppData\\Local\\conda\\conda\\envs\\tensorflowenvironment\\lib\\site-packages\\ipykernel_launcher.py:10: SettingWithCopyWarning: \n",
      "A value is trying to be set on a copy of a slice from a DataFrame\n",
      "\n",
      "See the caveats in the documentation: http://pandas.pydata.org/pandas-docs/stable/indexing.html#indexing-view-versus-copy\n",
      "  # Remove the CWD from sys.path while we load stuff.\n",
      "2018-11-20 18:35:49,402 - allfeatures_drop_cols - INFO - ...Columns Excluded from dataset...\n",
      "C:\\Users\\sandr\\AppData\\Local\\conda\\conda\\envs\\tensorflowenvironment\\lib\\site-packages\\ipykernel_launcher.py:18: SettingWithCopyWarning: \n",
      "A value is trying to be set on a copy of a slice from a DataFrame\n",
      "\n",
      "See the caveats in the documentation: http://pandas.pydata.org/pandas-docs/stable/indexing.html#indexing-view-versus-copy\n",
      "2018-11-20 18:35:49,662 - allfeatures_extract_labels - INFO - ...Labels extracted from Dataset...\n",
      "2018-11-20 18:35:52,668 - allfeatures_drop_cols - INFO - ...Columns Excluded from dataset...\n",
      "2018-11-20 18:35:52,726 - allfeatures_extract_labels - INFO - ...Labels extracted from Dataset...\n"
     ]
    },
    {
     "name": "stdout",
     "output_type": "stream",
     "text": [
      "Records for valid Set - Number of rows: 14693\n"
     ]
    },
    {
     "name": "stderr",
     "output_type": "stream",
     "text": [
      "2018-11-20 18:35:53,079 - allfeatures_drop_cols - INFO - ...Columns Excluded from dataset...\n",
      "2018-11-20 18:35:53,153 - allfeatures_extract_labels - INFO - ...Labels extracted from Dataset...\n"
     ]
    },
    {
     "name": "stdout",
     "output_type": "stream",
     "text": [
      "Records for test Set - Number of rows: 28380\n",
      "chunk:  16  chunk size:  500000\n"
     ]
    },
    {
     "name": "stderr",
     "output_type": "stream",
     "text": [
      "2018-11-20 18:36:09,246 - drop_invalid_delinquency_status - INFO - invalid_delinquency_status dropped\n",
      "2018-11-20 18:36:13,372 - drop_invalid_delinquency_status - INFO - dropping invalid transitions and delinquency status, fill nan values, drop duplicates\n",
      "C:\\Users\\sandr\\AppData\\Local\\conda\\conda\\envs\\tensorflowenvironment\\lib\\site-packages\\ipykernel_launcher.py:36: SettingWithCopyWarning: \n",
      "A value is trying to be set on a copy of a slice from a DataFrame\n",
      "\n",
      "See the caveats in the documentation: http://pandas.pydata.org/pandas-docs/stable/indexing.html#indexing-view-versus-copy\n",
      "2018-11-20 18:36:24,685 - allfeatures_drop_cols - INFO - ...Columns Excluded from dataset...\n",
      "2018-11-20 18:36:25,045 - allfeatures_drop_cols - INFO - ...Columns Excluded from dataset...\n",
      "2018-11-20 18:36:25,334 - allfeatures_drop_cols - INFO - ...Columns Excluded from dataset...\n",
      "C:\\Users\\sandr\\AppData\\Local\\conda\\conda\\envs\\tensorflowenvironment\\lib\\site-packages\\ipykernel_launcher.py:16: SettingWithCopyWarning: \n",
      "A value is trying to be set on a copy of a slice from a DataFrame.\n",
      "Try using .loc[row_indexer,col_indexer] = value instead\n",
      "\n",
      "See the caveats in the documentation: http://pandas.pydata.org/pandas-docs/stable/indexing.html#indexing-view-versus-copy\n",
      "  app.launch_new_instance()\n"
     ]
    },
    {
     "name": "stdout",
     "output_type": "stream",
     "text": [
      "STANDARD DEV zero:  []\n",
      "Records for train Set - Number of rows: 358983\n"
     ]
    },
    {
     "name": "stderr",
     "output_type": "stream",
     "text": [
      "C:\\Users\\sandr\\AppData\\Local\\conda\\conda\\envs\\tensorflowenvironment\\lib\\site-packages\\ipykernel_launcher.py:10: SettingWithCopyWarning: \n",
      "A value is trying to be set on a copy of a slice from a DataFrame\n",
      "\n",
      "See the caveats in the documentation: http://pandas.pydata.org/pandas-docs/stable/indexing.html#indexing-view-versus-copy\n",
      "  # Remove the CWD from sys.path while we load stuff.\n",
      "2018-11-20 18:37:22,646 - allfeatures_drop_cols - INFO - ...Columns Excluded from dataset...\n",
      "C:\\Users\\sandr\\AppData\\Local\\conda\\conda\\envs\\tensorflowenvironment\\lib\\site-packages\\ipykernel_launcher.py:18: SettingWithCopyWarning: \n",
      "A value is trying to be set on a copy of a slice from a DataFrame\n",
      "\n",
      "See the caveats in the documentation: http://pandas.pydata.org/pandas-docs/stable/indexing.html#indexing-view-versus-copy\n",
      "2018-11-20 18:37:22,902 - allfeatures_extract_labels - INFO - ...Labels extracted from Dataset...\n",
      "2018-11-20 18:37:25,752 - allfeatures_drop_cols - INFO - ...Columns Excluded from dataset...\n",
      "2018-11-20 18:37:25,826 - allfeatures_extract_labels - INFO - ...Labels extracted from Dataset...\n"
     ]
    },
    {
     "name": "stdout",
     "output_type": "stream",
     "text": [
      "Records for valid Set - Number of rows: 15455\n"
     ]
    },
    {
     "name": "stderr",
     "output_type": "stream",
     "text": [
      "2018-11-20 18:37:26,185 - allfeatures_drop_cols - INFO - ...Columns Excluded from dataset...\n",
      "2018-11-20 18:37:26,260 - allfeatures_extract_labels - INFO - ...Labels extracted from Dataset...\n"
     ]
    },
    {
     "name": "stdout",
     "output_type": "stream",
     "text": [
      "Records for test Set - Number of rows: 29435\n",
      "chunk:  17  chunk size:  500000\n"
     ]
    },
    {
     "name": "stderr",
     "output_type": "stream",
     "text": [
      "2018-11-20 18:37:42,142 - drop_invalid_delinquency_status - INFO - invalid_delinquency_status dropped\n",
      "2018-11-20 18:37:46,312 - drop_invalid_delinquency_status - INFO - dropping invalid transitions and delinquency status, fill nan values, drop duplicates\n",
      "C:\\Users\\sandr\\AppData\\Local\\conda\\conda\\envs\\tensorflowenvironment\\lib\\site-packages\\ipykernel_launcher.py:36: SettingWithCopyWarning: \n",
      "A value is trying to be set on a copy of a slice from a DataFrame\n",
      "\n",
      "See the caveats in the documentation: http://pandas.pydata.org/pandas-docs/stable/indexing.html#indexing-view-versus-copy\n",
      "2018-11-20 18:37:57,855 - allfeatures_drop_cols - INFO - ...Columns Excluded from dataset...\n",
      "2018-11-20 18:37:58,203 - allfeatures_drop_cols - INFO - ...Columns Excluded from dataset...\n",
      "2018-11-20 18:37:58,492 - allfeatures_drop_cols - INFO - ...Columns Excluded from dataset...\n",
      "C:\\Users\\sandr\\AppData\\Local\\conda\\conda\\envs\\tensorflowenvironment\\lib\\site-packages\\ipykernel_launcher.py:16: SettingWithCopyWarning: \n",
      "A value is trying to be set on a copy of a slice from a DataFrame.\n",
      "Try using .loc[row_indexer,col_indexer] = value instead\n",
      "\n",
      "See the caveats in the documentation: http://pandas.pydata.org/pandas-docs/stable/indexing.html#indexing-view-versus-copy\n",
      "  app.launch_new_instance()\n"
     ]
    },
    {
     "name": "stdout",
     "output_type": "stream",
     "text": [
      "STANDARD DEV zero:  []\n",
      "Records for train Set - Number of rows: 381973\n"
     ]
    },
    {
     "name": "stderr",
     "output_type": "stream",
     "text": [
      "C:\\Users\\sandr\\AppData\\Local\\conda\\conda\\envs\\tensorflowenvironment\\lib\\site-packages\\ipykernel_launcher.py:10: SettingWithCopyWarning: \n",
      "A value is trying to be set on a copy of a slice from a DataFrame\n",
      "\n",
      "See the caveats in the documentation: http://pandas.pydata.org/pandas-docs/stable/indexing.html#indexing-view-versus-copy\n",
      "  # Remove the CWD from sys.path while we load stuff.\n",
      "2018-11-20 18:38:56,730 - allfeatures_drop_cols - INFO - ...Columns Excluded from dataset...\n",
      "C:\\Users\\sandr\\AppData\\Local\\conda\\conda\\envs\\tensorflowenvironment\\lib\\site-packages\\ipykernel_launcher.py:18: SettingWithCopyWarning: \n",
      "A value is trying to be set on a copy of a slice from a DataFrame\n",
      "\n",
      "See the caveats in the documentation: http://pandas.pydata.org/pandas-docs/stable/indexing.html#indexing-view-versus-copy\n",
      "2018-11-20 18:38:57,000 - allfeatures_extract_labels - INFO - ...Labels extracted from Dataset...\n",
      "2018-11-20 18:39:00,054 - allfeatures_drop_cols - INFO - ...Columns Excluded from dataset...\n",
      "2018-11-20 18:39:00,115 - allfeatures_extract_labels - INFO - ...Labels extracted from Dataset...\n"
     ]
    },
    {
     "name": "stdout",
     "output_type": "stream",
     "text": [
      "Records for valid Set - Number of rows: 12116\n"
     ]
    },
    {
     "name": "stderr",
     "output_type": "stream",
     "text": [
      "2018-11-20 18:39:00,410 - allfeatures_drop_cols - INFO - ...Columns Excluded from dataset...\n",
      "2018-11-20 18:39:00,470 - allfeatures_extract_labels - INFO - ...Labels extracted from Dataset...\n"
     ]
    },
    {
     "name": "stdout",
     "output_type": "stream",
     "text": [
      "Records for test Set - Number of rows: 23349\n",
      "chunk:  18  chunk size:  500000\n"
     ]
    },
    {
     "name": "stderr",
     "output_type": "stream",
     "text": [
      "2018-11-20 18:39:16,810 - drop_invalid_delinquency_status - INFO - invalid_delinquency_status dropped\n",
      "2018-11-20 18:39:20,991 - drop_invalid_delinquency_status - INFO - dropping invalid transitions and delinquency status, fill nan values, drop duplicates\n",
      "C:\\Users\\sandr\\AppData\\Local\\conda\\conda\\envs\\tensorflowenvironment\\lib\\site-packages\\ipykernel_launcher.py:36: SettingWithCopyWarning: \n",
      "A value is trying to be set on a copy of a slice from a DataFrame\n",
      "\n",
      "See the caveats in the documentation: http://pandas.pydata.org/pandas-docs/stable/indexing.html#indexing-view-versus-copy\n",
      "2018-11-20 18:39:32,544 - allfeatures_drop_cols - INFO - ...Columns Excluded from dataset...\n",
      "2018-11-20 18:39:32,900 - allfeatures_drop_cols - INFO - ...Columns Excluded from dataset...\n",
      "2018-11-20 18:39:33,188 - allfeatures_drop_cols - INFO - ...Columns Excluded from dataset...\n",
      "C:\\Users\\sandr\\AppData\\Local\\conda\\conda\\envs\\tensorflowenvironment\\lib\\site-packages\\ipykernel_launcher.py:16: SettingWithCopyWarning: \n",
      "A value is trying to be set on a copy of a slice from a DataFrame.\n",
      "Try using .loc[row_indexer,col_indexer] = value instead\n",
      "\n",
      "See the caveats in the documentation: http://pandas.pydata.org/pandas-docs/stable/indexing.html#indexing-view-versus-copy\n",
      "  app.launch_new_instance()\n"
     ]
    },
    {
     "name": "stdout",
     "output_type": "stream",
     "text": [
      "STANDARD DEV zero:  []\n",
      "Records for train Set - Number of rows: 386389\n"
     ]
    },
    {
     "name": "stderr",
     "output_type": "stream",
     "text": [
      "C:\\Users\\sandr\\AppData\\Local\\conda\\conda\\envs\\tensorflowenvironment\\lib\\site-packages\\ipykernel_launcher.py:10: SettingWithCopyWarning: \n",
      "A value is trying to be set on a copy of a slice from a DataFrame\n",
      "\n",
      "See the caveats in the documentation: http://pandas.pydata.org/pandas-docs/stable/indexing.html#indexing-view-versus-copy\n",
      "  # Remove the CWD from sys.path while we load stuff.\n",
      "2018-11-20 18:40:31,960 - allfeatures_drop_cols - INFO - ...Columns Excluded from dataset...\n",
      "C:\\Users\\sandr\\AppData\\Local\\conda\\conda\\envs\\tensorflowenvironment\\lib\\site-packages\\ipykernel_launcher.py:18: SettingWithCopyWarning: \n",
      "A value is trying to be set on a copy of a slice from a DataFrame\n",
      "\n",
      "See the caveats in the documentation: http://pandas.pydata.org/pandas-docs/stable/indexing.html#indexing-view-versus-copy\n",
      "2018-11-20 18:40:32,230 - allfeatures_extract_labels - INFO - ...Labels extracted from Dataset...\n",
      "2018-11-20 18:40:35,722 - allfeatures_drop_cols - INFO - ...Columns Excluded from dataset...\n",
      "2018-11-20 18:40:35,780 - allfeatures_extract_labels - INFO - ...Labels extracted from Dataset...\n"
     ]
    },
    {
     "name": "stdout",
     "output_type": "stream",
     "text": [
      "Records for valid Set - Number of rows: 11016\n"
     ]
    },
    {
     "name": "stderr",
     "output_type": "stream",
     "text": [
      "2018-11-20 18:40:36,080 - allfeatures_drop_cols - INFO - ...Columns Excluded from dataset...\n",
      "2018-11-20 18:40:36,135 - allfeatures_extract_labels - INFO - ...Labels extracted from Dataset...\n"
     ]
    },
    {
     "name": "stdout",
     "output_type": "stream",
     "text": [
      "Records for test Set - Number of rows: 20797\n",
      "chunk:  19  chunk size:  500000\n"
     ]
    },
    {
     "name": "stderr",
     "output_type": "stream",
     "text": [
      "2018-11-20 18:40:52,009 - drop_invalid_delinquency_status - INFO - invalid_delinquency_status dropped\n",
      "2018-11-20 18:40:56,221 - drop_invalid_delinquency_status - INFO - dropping invalid transitions and delinquency status, fill nan values, drop duplicates\n",
      "C:\\Users\\sandr\\AppData\\Local\\conda\\conda\\envs\\tensorflowenvironment\\lib\\site-packages\\ipykernel_launcher.py:36: SettingWithCopyWarning: \n",
      "A value is trying to be set on a copy of a slice from a DataFrame\n",
      "\n",
      "See the caveats in the documentation: http://pandas.pydata.org/pandas-docs/stable/indexing.html#indexing-view-versus-copy\n",
      "2018-11-20 18:41:07,874 - allfeatures_drop_cols - INFO - ...Columns Excluded from dataset...\n",
      "2018-11-20 18:41:08,224 - allfeatures_drop_cols - INFO - ...Columns Excluded from dataset...\n",
      "2018-11-20 18:41:08,520 - allfeatures_drop_cols - INFO - ...Columns Excluded from dataset...\n",
      "C:\\Users\\sandr\\AppData\\Local\\conda\\conda\\envs\\tensorflowenvironment\\lib\\site-packages\\ipykernel_launcher.py:16: SettingWithCopyWarning: \n",
      "A value is trying to be set on a copy of a slice from a DataFrame.\n",
      "Try using .loc[row_indexer,col_indexer] = value instead\n",
      "\n",
      "See the caveats in the documentation: http://pandas.pydata.org/pandas-docs/stable/indexing.html#indexing-view-versus-copy\n",
      "  app.launch_new_instance()\n"
     ]
    },
    {
     "name": "stdout",
     "output_type": "stream",
     "text": [
      "STANDARD DEV zero:  []\n",
      "Records for train Set - Number of rows: 392596\n"
     ]
    },
    {
     "name": "stderr",
     "output_type": "stream",
     "text": [
      "C:\\Users\\sandr\\AppData\\Local\\conda\\conda\\envs\\tensorflowenvironment\\lib\\site-packages\\ipykernel_launcher.py:10: SettingWithCopyWarning: \n",
      "A value is trying to be set on a copy of a slice from a DataFrame\n",
      "\n",
      "See the caveats in the documentation: http://pandas.pydata.org/pandas-docs/stable/indexing.html#indexing-view-versus-copy\n",
      "  # Remove the CWD from sys.path while we load stuff.\n",
      "2018-11-20 18:42:07,810 - allfeatures_drop_cols - INFO - ...Columns Excluded from dataset...\n",
      "C:\\Users\\sandr\\AppData\\Local\\conda\\conda\\envs\\tensorflowenvironment\\lib\\site-packages\\ipykernel_launcher.py:18: SettingWithCopyWarning: \n",
      "A value is trying to be set on a copy of a slice from a DataFrame\n",
      "\n",
      "See the caveats in the documentation: http://pandas.pydata.org/pandas-docs/stable/indexing.html#indexing-view-versus-copy\n",
      "2018-11-20 18:42:08,094 - allfeatures_extract_labels - INFO - ...Labels extracted from Dataset...\n",
      "2018-11-20 18:42:11,347 - allfeatures_drop_cols - INFO - ...Columns Excluded from dataset...\n",
      "2018-11-20 18:42:11,402 - allfeatures_extract_labels - INFO - ...Labels extracted from Dataset...\n"
     ]
    },
    {
     "name": "stdout",
     "output_type": "stream",
     "text": [
      "Records for valid Set - Number of rows: 10994\n"
     ]
    },
    {
     "name": "stderr",
     "output_type": "stream",
     "text": [
      "2018-11-20 18:42:11,721 - allfeatures_drop_cols - INFO - ...Columns Excluded from dataset...\n",
      "2018-11-20 18:42:11,784 - allfeatures_extract_labels - INFO - ...Labels extracted from Dataset...\n"
     ]
    },
    {
     "name": "stdout",
     "output_type": "stream",
     "text": [
      "Records for test Set - Number of rows: 20588\n",
      "chunk:  20  chunk size:  500000\n"
     ]
    },
    {
     "name": "stderr",
     "output_type": "stream",
     "text": [
      "2018-11-20 18:42:28,300 - drop_invalid_delinquency_status - INFO - invalid_delinquency_status dropped\n",
      "2018-11-20 18:42:32,460 - drop_invalid_delinquency_status - INFO - dropping invalid transitions and delinquency status, fill nan values, drop duplicates\n",
      "C:\\Users\\sandr\\AppData\\Local\\conda\\conda\\envs\\tensorflowenvironment\\lib\\site-packages\\ipykernel_launcher.py:36: SettingWithCopyWarning: \n",
      "A value is trying to be set on a copy of a slice from a DataFrame\n",
      "\n",
      "See the caveats in the documentation: http://pandas.pydata.org/pandas-docs/stable/indexing.html#indexing-view-versus-copy\n",
      "2018-11-20 18:42:43,860 - allfeatures_drop_cols - INFO - ...Columns Excluded from dataset...\n",
      "2018-11-20 18:42:44,204 - allfeatures_drop_cols - INFO - ...Columns Excluded from dataset...\n",
      "2018-11-20 18:42:44,484 - allfeatures_drop_cols - INFO - ...Columns Excluded from dataset...\n",
      "C:\\Users\\sandr\\AppData\\Local\\conda\\conda\\envs\\tensorflowenvironment\\lib\\site-packages\\ipykernel_launcher.py:16: SettingWithCopyWarning: \n",
      "A value is trying to be set on a copy of a slice from a DataFrame.\n",
      "Try using .loc[row_indexer,col_indexer] = value instead\n",
      "\n",
      "See the caveats in the documentation: http://pandas.pydata.org/pandas-docs/stable/indexing.html#indexing-view-versus-copy\n",
      "  app.launch_new_instance()\n"
     ]
    },
    {
     "name": "stdout",
     "output_type": "stream",
     "text": [
      "STANDARD DEV zero:  []\n",
      "Records for train Set - Number of rows: 381090\n"
     ]
    },
    {
     "name": "stderr",
     "output_type": "stream",
     "text": [
      "C:\\Users\\sandr\\AppData\\Local\\conda\\conda\\envs\\tensorflowenvironment\\lib\\site-packages\\ipykernel_launcher.py:10: SettingWithCopyWarning: \n",
      "A value is trying to be set on a copy of a slice from a DataFrame\n",
      "\n",
      "See the caveats in the documentation: http://pandas.pydata.org/pandas-docs/stable/indexing.html#indexing-view-versus-copy\n",
      "  # Remove the CWD from sys.path while we load stuff.\n",
      "2018-11-20 18:43:42,216 - allfeatures_drop_cols - INFO - ...Columns Excluded from dataset...\n",
      "C:\\Users\\sandr\\AppData\\Local\\conda\\conda\\envs\\tensorflowenvironment\\lib\\site-packages\\ipykernel_launcher.py:18: SettingWithCopyWarning: \n",
      "A value is trying to be set on a copy of a slice from a DataFrame\n",
      "\n",
      "See the caveats in the documentation: http://pandas.pydata.org/pandas-docs/stable/indexing.html#indexing-view-versus-copy\n",
      "2018-11-20 18:43:42,480 - allfeatures_extract_labels - INFO - ...Labels extracted from Dataset...\n",
      "2018-11-20 18:43:45,707 - allfeatures_drop_cols - INFO - ...Columns Excluded from dataset...\n",
      "2018-11-20 18:43:45,766 - allfeatures_extract_labels - INFO - ...Labels extracted from Dataset...\n"
     ]
    },
    {
     "name": "stdout",
     "output_type": "stream",
     "text": [
      "Records for valid Set - Number of rows: 10864\n"
     ]
    },
    {
     "name": "stderr",
     "output_type": "stream",
     "text": [
      "2018-11-20 18:43:46,101 - allfeatures_drop_cols - INFO - ...Columns Excluded from dataset...\n",
      "2018-11-20 18:43:46,158 - allfeatures_extract_labels - INFO - ...Labels extracted from Dataset...\n"
     ]
    },
    {
     "name": "stdout",
     "output_type": "stream",
     "text": [
      "Records for test Set - Number of rows: 20217\n",
      "chunk:  21  chunk size:  500000\n"
     ]
    },
    {
     "name": "stderr",
     "output_type": "stream",
     "text": [
      "2018-11-20 18:44:05,056 - drop_invalid_delinquency_status - INFO - invalid_delinquency_status dropped\n",
      "2018-11-20 18:44:09,779 - drop_invalid_delinquency_status - INFO - dropping invalid transitions and delinquency status, fill nan values, drop duplicates\n",
      "C:\\Users\\sandr\\AppData\\Local\\conda\\conda\\envs\\tensorflowenvironment\\lib\\site-packages\\ipykernel_launcher.py:36: SettingWithCopyWarning: \n",
      "A value is trying to be set on a copy of a slice from a DataFrame\n",
      "\n",
      "See the caveats in the documentation: http://pandas.pydata.org/pandas-docs/stable/indexing.html#indexing-view-versus-copy\n",
      "2018-11-20 18:44:21,077 - allfeatures_drop_cols - INFO - ...Columns Excluded from dataset...\n",
      "2018-11-20 18:44:21,427 - allfeatures_drop_cols - INFO - ...Columns Excluded from dataset...\n",
      "2018-11-20 18:44:21,711 - allfeatures_drop_cols - INFO - ...Columns Excluded from dataset...\n",
      "C:\\Users\\sandr\\AppData\\Local\\conda\\conda\\envs\\tensorflowenvironment\\lib\\site-packages\\ipykernel_launcher.py:16: SettingWithCopyWarning: \n",
      "A value is trying to be set on a copy of a slice from a DataFrame.\n",
      "Try using .loc[row_indexer,col_indexer] = value instead\n",
      "\n",
      "See the caveats in the documentation: http://pandas.pydata.org/pandas-docs/stable/indexing.html#indexing-view-versus-copy\n",
      "  app.launch_new_instance()\n"
     ]
    },
    {
     "name": "stdout",
     "output_type": "stream",
     "text": [
      "STANDARD DEV zero:  []\n",
      "Records for train Set - Number of rows: 380036\n"
     ]
    },
    {
     "name": "stderr",
     "output_type": "stream",
     "text": [
      "C:\\Users\\sandr\\AppData\\Local\\conda\\conda\\envs\\tensorflowenvironment\\lib\\site-packages\\ipykernel_launcher.py:10: SettingWithCopyWarning: \n",
      "A value is trying to be set on a copy of a slice from a DataFrame\n",
      "\n",
      "See the caveats in the documentation: http://pandas.pydata.org/pandas-docs/stable/indexing.html#indexing-view-versus-copy\n",
      "  # Remove the CWD from sys.path while we load stuff.\n",
      "2018-11-20 18:45:18,252 - allfeatures_drop_cols - INFO - ...Columns Excluded from dataset...\n",
      "C:\\Users\\sandr\\AppData\\Local\\conda\\conda\\envs\\tensorflowenvironment\\lib\\site-packages\\ipykernel_launcher.py:18: SettingWithCopyWarning: \n",
      "A value is trying to be set on a copy of a slice from a DataFrame\n",
      "\n",
      "See the caveats in the documentation: http://pandas.pydata.org/pandas-docs/stable/indexing.html#indexing-view-versus-copy\n",
      "2018-11-20 18:45:18,516 - allfeatures_extract_labels - INFO - ...Labels extracted from Dataset...\n",
      "2018-11-20 18:45:21,610 - allfeatures_drop_cols - INFO - ...Columns Excluded from dataset...\n",
      "2018-11-20 18:45:21,668 - allfeatures_extract_labels - INFO - ...Labels extracted from Dataset...\n"
     ]
    },
    {
     "name": "stdout",
     "output_type": "stream",
     "text": [
      "Records for valid Set - Number of rows: 11020\n"
     ]
    },
    {
     "name": "stderr",
     "output_type": "stream",
     "text": [
      "2018-11-20 18:45:22,087 - allfeatures_drop_cols - INFO - ...Columns Excluded from dataset...\n",
      "2018-11-20 18:45:22,151 - allfeatures_extract_labels - INFO - ...Labels extracted from Dataset...\n"
     ]
    },
    {
     "name": "stdout",
     "output_type": "stream",
     "text": [
      "Records for test Set - Number of rows: 20882\n",
      "chunk:  22  chunk size:  500000\n"
     ]
    },
    {
     "name": "stderr",
     "output_type": "stream",
     "text": [
      "2018-11-20 18:45:38,845 - drop_invalid_delinquency_status - INFO - invalid_delinquency_status dropped\n",
      "2018-11-20 18:45:42,977 - drop_invalid_delinquency_status - INFO - dropping invalid transitions and delinquency status, fill nan values, drop duplicates\n",
      "C:\\Users\\sandr\\AppData\\Local\\conda\\conda\\envs\\tensorflowenvironment\\lib\\site-packages\\ipykernel_launcher.py:36: SettingWithCopyWarning: \n",
      "A value is trying to be set on a copy of a slice from a DataFrame\n",
      "\n",
      "See the caveats in the documentation: http://pandas.pydata.org/pandas-docs/stable/indexing.html#indexing-view-versus-copy\n",
      "2018-11-20 18:45:54,563 - allfeatures_drop_cols - INFO - ...Columns Excluded from dataset...\n",
      "2018-11-20 18:45:54,901 - allfeatures_drop_cols - INFO - ...Columns Excluded from dataset...\n",
      "2018-11-20 18:45:55,191 - allfeatures_drop_cols - INFO - ...Columns Excluded from dataset...\n",
      "C:\\Users\\sandr\\AppData\\Local\\conda\\conda\\envs\\tensorflowenvironment\\lib\\site-packages\\ipykernel_launcher.py:16: SettingWithCopyWarning: \n",
      "A value is trying to be set on a copy of a slice from a DataFrame.\n",
      "Try using .loc[row_indexer,col_indexer] = value instead\n",
      "\n",
      "See the caveats in the documentation: http://pandas.pydata.org/pandas-docs/stable/indexing.html#indexing-view-versus-copy\n",
      "  app.launch_new_instance()\n"
     ]
    },
    {
     "name": "stdout",
     "output_type": "stream",
     "text": [
      "STANDARD DEV zero:  []\n",
      "Records for train Set - Number of rows: 379246\n"
     ]
    },
    {
     "name": "stderr",
     "output_type": "stream",
     "text": [
      "C:\\Users\\sandr\\AppData\\Local\\conda\\conda\\envs\\tensorflowenvironment\\lib\\site-packages\\ipykernel_launcher.py:10: SettingWithCopyWarning: \n",
      "A value is trying to be set on a copy of a slice from a DataFrame\n",
      "\n",
      "See the caveats in the documentation: http://pandas.pydata.org/pandas-docs/stable/indexing.html#indexing-view-versus-copy\n",
      "  # Remove the CWD from sys.path while we load stuff.\n",
      "2018-11-20 18:46:53,385 - allfeatures_drop_cols - INFO - ...Columns Excluded from dataset...\n",
      "C:\\Users\\sandr\\AppData\\Local\\conda\\conda\\envs\\tensorflowenvironment\\lib\\site-packages\\ipykernel_launcher.py:18: SettingWithCopyWarning: \n",
      "A value is trying to be set on a copy of a slice from a DataFrame\n",
      "\n",
      "See the caveats in the documentation: http://pandas.pydata.org/pandas-docs/stable/indexing.html#indexing-view-versus-copy\n",
      "2018-11-20 18:46:53,652 - allfeatures_extract_labels - INFO - ...Labels extracted from Dataset...\n",
      "2018-11-20 18:46:56,816 - allfeatures_drop_cols - INFO - ...Columns Excluded from dataset...\n",
      "2018-11-20 18:46:56,877 - allfeatures_extract_labels - INFO - ...Labels extracted from Dataset...\n"
     ]
    },
    {
     "name": "stdout",
     "output_type": "stream",
     "text": [
      "Records for valid Set - Number of rows: 11698\n"
     ]
    },
    {
     "name": "stderr",
     "output_type": "stream",
     "text": [
      "2018-11-20 18:46:57,262 - allfeatures_drop_cols - INFO - ...Columns Excluded from dataset...\n",
      "2018-11-20 18:46:57,323 - allfeatures_extract_labels - INFO - ...Labels extracted from Dataset...\n"
     ]
    },
    {
     "name": "stdout",
     "output_type": "stream",
     "text": [
      "Records for test Set - Number of rows: 22402\n",
      "chunk:  23  chunk size:  500000\n"
     ]
    },
    {
     "name": "stderr",
     "output_type": "stream",
     "text": [
      "2018-11-20 18:47:14,016 - drop_invalid_delinquency_status - INFO - invalid_delinquency_status dropped\n",
      "2018-11-20 18:47:18,246 - drop_invalid_delinquency_status - INFO - dropping invalid transitions and delinquency status, fill nan values, drop duplicates\n",
      "C:\\Users\\sandr\\AppData\\Local\\conda\\conda\\envs\\tensorflowenvironment\\lib\\site-packages\\ipykernel_launcher.py:36: SettingWithCopyWarning: \n",
      "A value is trying to be set on a copy of a slice from a DataFrame\n",
      "\n",
      "See the caveats in the documentation: http://pandas.pydata.org/pandas-docs/stable/indexing.html#indexing-view-versus-copy\n",
      "2018-11-20 18:47:29,712 - allfeatures_drop_cols - INFO - ...Columns Excluded from dataset...\n",
      "2018-11-20 18:47:30,102 - allfeatures_drop_cols - INFO - ...Columns Excluded from dataset...\n",
      "2018-11-20 18:47:30,414 - allfeatures_drop_cols - INFO - ...Columns Excluded from dataset...\n",
      "C:\\Users\\sandr\\AppData\\Local\\conda\\conda\\envs\\tensorflowenvironment\\lib\\site-packages\\ipykernel_launcher.py:16: SettingWithCopyWarning: \n",
      "A value is trying to be set on a copy of a slice from a DataFrame.\n",
      "Try using .loc[row_indexer,col_indexer] = value instead\n",
      "\n",
      "See the caveats in the documentation: http://pandas.pydata.org/pandas-docs/stable/indexing.html#indexing-view-versus-copy\n",
      "  app.launch_new_instance()\n"
     ]
    },
    {
     "name": "stdout",
     "output_type": "stream",
     "text": [
      "STANDARD DEV zero:  []\n",
      "Records for train Set - Number of rows: 386152\n"
     ]
    },
    {
     "name": "stderr",
     "output_type": "stream",
     "text": [
      "C:\\Users\\sandr\\AppData\\Local\\conda\\conda\\envs\\tensorflowenvironment\\lib\\site-packages\\ipykernel_launcher.py:10: SettingWithCopyWarning: \n",
      "A value is trying to be set on a copy of a slice from a DataFrame\n",
      "\n",
      "See the caveats in the documentation: http://pandas.pydata.org/pandas-docs/stable/indexing.html#indexing-view-versus-copy\n",
      "  # Remove the CWD from sys.path while we load stuff.\n",
      "2018-11-20 18:48:28,526 - allfeatures_drop_cols - INFO - ...Columns Excluded from dataset...\n",
      "C:\\Users\\sandr\\AppData\\Local\\conda\\conda\\envs\\tensorflowenvironment\\lib\\site-packages\\ipykernel_launcher.py:18: SettingWithCopyWarning: \n",
      "A value is trying to be set on a copy of a slice from a DataFrame\n",
      "\n",
      "See the caveats in the documentation: http://pandas.pydata.org/pandas-docs/stable/indexing.html#indexing-view-versus-copy\n",
      "2018-11-20 18:48:28,802 - allfeatures_extract_labels - INFO - ...Labels extracted from Dataset...\n",
      "2018-11-20 18:48:31,750 - allfeatures_drop_cols - INFO - ...Columns Excluded from dataset...\n",
      "2018-11-20 18:48:31,806 - allfeatures_extract_labels - INFO - ...Labels extracted from Dataset...\n"
     ]
    },
    {
     "name": "stdout",
     "output_type": "stream",
     "text": [
      "Records for valid Set - Number of rows: 11151\n"
     ]
    },
    {
     "name": "stderr",
     "output_type": "stream",
     "text": [
      "2018-11-20 18:48:32,002 - allfeatures_drop_cols - INFO - ...Columns Excluded from dataset...\n",
      "2018-11-20 18:48:32,062 - allfeatures_extract_labels - INFO - ...Labels extracted from Dataset...\n"
     ]
    },
    {
     "name": "stdout",
     "output_type": "stream",
     "text": [
      "Records for test Set - Number of rows: 20766\n",
      "chunk:  24  chunk size:  500000\n"
     ]
    },
    {
     "name": "stderr",
     "output_type": "stream",
     "text": [
      "2018-11-20 18:48:49,035 - drop_invalid_delinquency_status - INFO - invalid_delinquency_status dropped\n",
      "2018-11-20 18:48:53,213 - drop_invalid_delinquency_status - INFO - dropping invalid transitions and delinquency status, fill nan values, drop duplicates\n",
      "C:\\Users\\sandr\\AppData\\Local\\conda\\conda\\envs\\tensorflowenvironment\\lib\\site-packages\\ipykernel_launcher.py:36: SettingWithCopyWarning: \n",
      "A value is trying to be set on a copy of a slice from a DataFrame\n",
      "\n",
      "See the caveats in the documentation: http://pandas.pydata.org/pandas-docs/stable/indexing.html#indexing-view-versus-copy\n",
      "2018-11-20 18:49:04,687 - allfeatures_drop_cols - INFO - ...Columns Excluded from dataset...\n",
      "2018-11-20 18:49:05,022 - allfeatures_drop_cols - INFO - ...Columns Excluded from dataset...\n",
      "2018-11-20 18:49:05,312 - allfeatures_drop_cols - INFO - ...Columns Excluded from dataset...\n",
      "C:\\Users\\sandr\\AppData\\Local\\conda\\conda\\envs\\tensorflowenvironment\\lib\\site-packages\\ipykernel_launcher.py:16: SettingWithCopyWarning: \n",
      "A value is trying to be set on a copy of a slice from a DataFrame.\n",
      "Try using .loc[row_indexer,col_indexer] = value instead\n",
      "\n",
      "See the caveats in the documentation: http://pandas.pydata.org/pandas-docs/stable/indexing.html#indexing-view-versus-copy\n",
      "  app.launch_new_instance()\n"
     ]
    },
    {
     "name": "stdout",
     "output_type": "stream",
     "text": [
      "STANDARD DEV zero:  []\n",
      "Records for train Set - Number of rows: 384509\n"
     ]
    },
    {
     "name": "stderr",
     "output_type": "stream",
     "text": [
      "C:\\Users\\sandr\\AppData\\Local\\conda\\conda\\envs\\tensorflowenvironment\\lib\\site-packages\\ipykernel_launcher.py:10: SettingWithCopyWarning: \n",
      "A value is trying to be set on a copy of a slice from a DataFrame\n",
      "\n",
      "See the caveats in the documentation: http://pandas.pydata.org/pandas-docs/stable/indexing.html#indexing-view-versus-copy\n",
      "  # Remove the CWD from sys.path while we load stuff.\n",
      "2018-11-20 18:50:03,672 - allfeatures_drop_cols - INFO - ...Columns Excluded from dataset...\n",
      "C:\\Users\\sandr\\AppData\\Local\\conda\\conda\\envs\\tensorflowenvironment\\lib\\site-packages\\ipykernel_launcher.py:18: SettingWithCopyWarning: \n",
      "A value is trying to be set on a copy of a slice from a DataFrame\n",
      "\n",
      "See the caveats in the documentation: http://pandas.pydata.org/pandas-docs/stable/indexing.html#indexing-view-versus-copy\n",
      "2018-11-20 18:50:03,947 - allfeatures_extract_labels - INFO - ...Labels extracted from Dataset...\n",
      "2018-11-20 18:50:07,125 - allfeatures_drop_cols - INFO - ...Columns Excluded from dataset...\n",
      "2018-11-20 18:50:07,182 - allfeatures_extract_labels - INFO - ...Labels extracted from Dataset...\n"
     ]
    },
    {
     "name": "stdout",
     "output_type": "stream",
     "text": [
      "Records for valid Set - Number of rows: 10539\n"
     ]
    },
    {
     "name": "stderr",
     "output_type": "stream",
     "text": [
      "2018-11-20 18:50:07,384 - allfeatures_drop_cols - INFO - ...Columns Excluded from dataset...\n",
      "2018-11-20 18:50:07,442 - allfeatures_extract_labels - INFO - ...Labels extracted from Dataset...\n"
     ]
    },
    {
     "name": "stdout",
     "output_type": "stream",
     "text": [
      "Records for test Set - Number of rows: 19627\n",
      "chunk:  25  chunk size:  500000\n"
     ]
    },
    {
     "name": "stderr",
     "output_type": "stream",
     "text": [
      "2018-11-20 18:50:24,292 - drop_invalid_delinquency_status - INFO - invalid_delinquency_status dropped\n",
      "2018-11-20 18:50:28,542 - drop_invalid_delinquency_status - INFO - dropping invalid transitions and delinquency status, fill nan values, drop duplicates\n",
      "C:\\Users\\sandr\\AppData\\Local\\conda\\conda\\envs\\tensorflowenvironment\\lib\\site-packages\\ipykernel_launcher.py:36: SettingWithCopyWarning: \n",
      "A value is trying to be set on a copy of a slice from a DataFrame\n",
      "\n",
      "See the caveats in the documentation: http://pandas.pydata.org/pandas-docs/stable/indexing.html#indexing-view-versus-copy\n",
      "2018-11-20 18:50:40,002 - allfeatures_drop_cols - INFO - ...Columns Excluded from dataset...\n",
      "2018-11-20 18:50:40,347 - allfeatures_drop_cols - INFO - ...Columns Excluded from dataset...\n",
      "2018-11-20 18:50:40,634 - allfeatures_drop_cols - INFO - ...Columns Excluded from dataset...\n",
      "C:\\Users\\sandr\\AppData\\Local\\conda\\conda\\envs\\tensorflowenvironment\\lib\\site-packages\\ipykernel_launcher.py:16: SettingWithCopyWarning: \n",
      "A value is trying to be set on a copy of a slice from a DataFrame.\n",
      "Try using .loc[row_indexer,col_indexer] = value instead\n",
      "\n",
      "See the caveats in the documentation: http://pandas.pydata.org/pandas-docs/stable/indexing.html#indexing-view-versus-copy\n",
      "  app.launch_new_instance()\n"
     ]
    },
    {
     "name": "stdout",
     "output_type": "stream",
     "text": [
      "STANDARD DEV zero:  []\n",
      "Records for train Set - Number of rows: 391579\n"
     ]
    },
    {
     "name": "stderr",
     "output_type": "stream",
     "text": [
      "C:\\Users\\sandr\\AppData\\Local\\conda\\conda\\envs\\tensorflowenvironment\\lib\\site-packages\\ipykernel_launcher.py:10: SettingWithCopyWarning: \n",
      "A value is trying to be set on a copy of a slice from a DataFrame\n",
      "\n",
      "See the caveats in the documentation: http://pandas.pydata.org/pandas-docs/stable/indexing.html#indexing-view-versus-copy\n",
      "  # Remove the CWD from sys.path while we load stuff.\n",
      "2018-11-20 18:51:39,309 - allfeatures_drop_cols - INFO - ...Columns Excluded from dataset...\n",
      "C:\\Users\\sandr\\AppData\\Local\\conda\\conda\\envs\\tensorflowenvironment\\lib\\site-packages\\ipykernel_launcher.py:18: SettingWithCopyWarning: \n",
      "A value is trying to be set on a copy of a slice from a DataFrame\n",
      "\n",
      "See the caveats in the documentation: http://pandas.pydata.org/pandas-docs/stable/indexing.html#indexing-view-versus-copy\n",
      "2018-11-20 18:51:39,590 - allfeatures_extract_labels - INFO - ...Labels extracted from Dataset...\n",
      "2018-11-20 18:51:42,609 - allfeatures_drop_cols - INFO - ...Columns Excluded from dataset...\n",
      "2018-11-20 18:51:42,665 - allfeatures_extract_labels - INFO - ...Labels extracted from Dataset...\n"
     ]
    },
    {
     "name": "stdout",
     "output_type": "stream",
     "text": [
      "Records for valid Set - Number of rows: 10499\n"
     ]
    },
    {
     "name": "stderr",
     "output_type": "stream",
     "text": [
      "2018-11-20 18:51:42,890 - allfeatures_drop_cols - INFO - ...Columns Excluded from dataset...\n",
      "2018-11-20 18:51:42,949 - allfeatures_extract_labels - INFO - ...Labels extracted from Dataset...\n"
     ]
    },
    {
     "name": "stdout",
     "output_type": "stream",
     "text": [
      "Records for test Set - Number of rows: 19378\n",
      "chunk:  26  chunk size:  500000\n"
     ]
    },
    {
     "name": "stderr",
     "output_type": "stream",
     "text": [
      "2018-11-20 18:51:57,805 - drop_invalid_delinquency_status - INFO - invalid_delinquency_status dropped\n",
      "2018-11-20 18:52:02,130 - drop_invalid_delinquency_status - INFO - dropping invalid transitions and delinquency status, fill nan values, drop duplicates\n",
      "C:\\Users\\sandr\\AppData\\Local\\conda\\conda\\envs\\tensorflowenvironment\\lib\\site-packages\\ipykernel_launcher.py:36: SettingWithCopyWarning: \n",
      "A value is trying to be set on a copy of a slice from a DataFrame\n",
      "\n",
      "See the caveats in the documentation: http://pandas.pydata.org/pandas-docs/stable/indexing.html#indexing-view-versus-copy\n",
      "2018-11-20 18:52:14,040 - allfeatures_drop_cols - INFO - ...Columns Excluded from dataset...\n",
      "2018-11-20 18:52:14,407 - allfeatures_drop_cols - INFO - ...Columns Excluded from dataset...\n",
      "2018-11-20 18:52:14,710 - allfeatures_drop_cols - INFO - ...Columns Excluded from dataset...\n",
      "C:\\Users\\sandr\\AppData\\Local\\conda\\conda\\envs\\tensorflowenvironment\\lib\\site-packages\\ipykernel_launcher.py:16: SettingWithCopyWarning: \n",
      "A value is trying to be set on a copy of a slice from a DataFrame.\n",
      "Try using .loc[row_indexer,col_indexer] = value instead\n",
      "\n",
      "See the caveats in the documentation: http://pandas.pydata.org/pandas-docs/stable/indexing.html#indexing-view-versus-copy\n",
      "  app.launch_new_instance()\n"
     ]
    },
    {
     "name": "stdout",
     "output_type": "stream",
     "text": [
      "STANDARD DEV zero:  []\n",
      "Records for train Set - Number of rows: 392200\n"
     ]
    },
    {
     "name": "stderr",
     "output_type": "stream",
     "text": [
      "C:\\Users\\sandr\\AppData\\Local\\conda\\conda\\envs\\tensorflowenvironment\\lib\\site-packages\\ipykernel_launcher.py:10: SettingWithCopyWarning: \n",
      "A value is trying to be set on a copy of a slice from a DataFrame\n",
      "\n",
      "See the caveats in the documentation: http://pandas.pydata.org/pandas-docs/stable/indexing.html#indexing-view-versus-copy\n",
      "  # Remove the CWD from sys.path while we load stuff.\n",
      "2018-11-20 18:53:13,701 - allfeatures_drop_cols - INFO - ...Columns Excluded from dataset...\n",
      "C:\\Users\\sandr\\AppData\\Local\\conda\\conda\\envs\\tensorflowenvironment\\lib\\site-packages\\ipykernel_launcher.py:18: SettingWithCopyWarning: \n",
      "A value is trying to be set on a copy of a slice from a DataFrame\n",
      "\n",
      "See the caveats in the documentation: http://pandas.pydata.org/pandas-docs/stable/indexing.html#indexing-view-versus-copy\n",
      "2018-11-20 18:53:13,975 - allfeatures_extract_labels - INFO - ...Labels extracted from Dataset...\n",
      "2018-11-20 18:53:16,869 - allfeatures_drop_cols - INFO - ...Columns Excluded from dataset...\n",
      "2018-11-20 18:53:16,925 - allfeatures_extract_labels - INFO - ...Labels extracted from Dataset...\n"
     ]
    },
    {
     "name": "stdout",
     "output_type": "stream",
     "text": [
      "Records for valid Set - Number of rows: 11336\n"
     ]
    },
    {
     "name": "stderr",
     "output_type": "stream",
     "text": [
      "2018-11-20 18:53:17,189 - allfeatures_drop_cols - INFO - ...Columns Excluded from dataset...\n",
      "2018-11-20 18:53:17,250 - allfeatures_extract_labels - INFO - ...Labels extracted from Dataset...\n"
     ]
    },
    {
     "name": "stdout",
     "output_type": "stream",
     "text": [
      "Records for test Set - Number of rows: 21205\n",
      "chunk:  27  chunk size:  500000\n"
     ]
    },
    {
     "name": "stderr",
     "output_type": "stream",
     "text": [
      "2018-11-20 18:53:31,599 - drop_invalid_delinquency_status - INFO - invalid_delinquency_status dropped\n",
      "2018-11-20 18:53:35,905 - drop_invalid_delinquency_status - INFO - dropping invalid transitions and delinquency status, fill nan values, drop duplicates\n",
      "C:\\Users\\sandr\\AppData\\Local\\conda\\conda\\envs\\tensorflowenvironment\\lib\\site-packages\\ipykernel_launcher.py:36: SettingWithCopyWarning: \n",
      "A value is trying to be set on a copy of a slice from a DataFrame\n",
      "\n",
      "See the caveats in the documentation: http://pandas.pydata.org/pandas-docs/stable/indexing.html#indexing-view-versus-copy\n",
      "2018-11-20 18:53:47,798 - allfeatures_drop_cols - INFO - ...Columns Excluded from dataset...\n",
      "2018-11-20 18:53:48,188 - allfeatures_drop_cols - INFO - ...Columns Excluded from dataset...\n",
      "2018-11-20 18:53:48,499 - allfeatures_drop_cols - INFO - ...Columns Excluded from dataset...\n",
      "C:\\Users\\sandr\\AppData\\Local\\conda\\conda\\envs\\tensorflowenvironment\\lib\\site-packages\\ipykernel_launcher.py:16: SettingWithCopyWarning: \n",
      "A value is trying to be set on a copy of a slice from a DataFrame.\n",
      "Try using .loc[row_indexer,col_indexer] = value instead\n",
      "\n",
      "See the caveats in the documentation: http://pandas.pydata.org/pandas-docs/stable/indexing.html#indexing-view-versus-copy\n",
      "  app.launch_new_instance()\n"
     ]
    },
    {
     "name": "stdout",
     "output_type": "stream",
     "text": [
      "STANDARD DEV zero:  []\n",
      "Records for train Set - Number of rows: 385102\n"
     ]
    },
    {
     "name": "stderr",
     "output_type": "stream",
     "text": [
      "C:\\Users\\sandr\\AppData\\Local\\conda\\conda\\envs\\tensorflowenvironment\\lib\\site-packages\\ipykernel_launcher.py:10: SettingWithCopyWarning: \n",
      "A value is trying to be set on a copy of a slice from a DataFrame\n",
      "\n",
      "See the caveats in the documentation: http://pandas.pydata.org/pandas-docs/stable/indexing.html#indexing-view-versus-copy\n",
      "  # Remove the CWD from sys.path while we load stuff.\n",
      "2018-11-20 18:54:46,505 - allfeatures_drop_cols - INFO - ...Columns Excluded from dataset...\n",
      "C:\\Users\\sandr\\AppData\\Local\\conda\\conda\\envs\\tensorflowenvironment\\lib\\site-packages\\ipykernel_launcher.py:18: SettingWithCopyWarning: \n",
      "A value is trying to be set on a copy of a slice from a DataFrame\n",
      "\n",
      "See the caveats in the documentation: http://pandas.pydata.org/pandas-docs/stable/indexing.html#indexing-view-versus-copy\n",
      "2018-11-20 18:54:46,789 - allfeatures_extract_labels - INFO - ...Labels extracted from Dataset...\n",
      "2018-11-20 18:54:49,799 - allfeatures_drop_cols - INFO - ...Columns Excluded from dataset...\n",
      "2018-11-20 18:54:49,855 - allfeatures_extract_labels - INFO - ...Labels extracted from Dataset...\n"
     ]
    },
    {
     "name": "stdout",
     "output_type": "stream",
     "text": [
      "Records for valid Set - Number of rows: 12636\n"
     ]
    },
    {
     "name": "stderr",
     "output_type": "stream",
     "text": [
      "2018-11-20 18:54:50,136 - allfeatures_drop_cols - INFO - ...Columns Excluded from dataset...\n",
      "2018-11-20 18:54:50,195 - allfeatures_extract_labels - INFO - ...Labels extracted from Dataset...\n"
     ]
    },
    {
     "name": "stdout",
     "output_type": "stream",
     "text": [
      "Records for test Set - Number of rows: 24081\n",
      "chunk:  28  chunk size:  500000\n"
     ]
    },
    {
     "name": "stderr",
     "output_type": "stream",
     "text": [
      "2018-11-20 18:55:05,285 - drop_invalid_delinquency_status - INFO - invalid_delinquency_status dropped\n",
      "2018-11-20 18:55:09,659 - drop_invalid_delinquency_status - INFO - dropping invalid transitions and delinquency status, fill nan values, drop duplicates\n",
      "C:\\Users\\sandr\\AppData\\Local\\conda\\conda\\envs\\tensorflowenvironment\\lib\\site-packages\\ipykernel_launcher.py:36: SettingWithCopyWarning: \n",
      "A value is trying to be set on a copy of a slice from a DataFrame\n",
      "\n",
      "See the caveats in the documentation: http://pandas.pydata.org/pandas-docs/stable/indexing.html#indexing-view-versus-copy\n",
      "2018-11-20 18:55:21,730 - allfeatures_drop_cols - INFO - ...Columns Excluded from dataset...\n",
      "2018-11-20 18:55:22,107 - allfeatures_drop_cols - INFO - ...Columns Excluded from dataset...\n",
      "2018-11-20 18:55:22,425 - allfeatures_drop_cols - INFO - ...Columns Excluded from dataset...\n",
      "C:\\Users\\sandr\\AppData\\Local\\conda\\conda\\envs\\tensorflowenvironment\\lib\\site-packages\\ipykernel_launcher.py:16: SettingWithCopyWarning: \n",
      "A value is trying to be set on a copy of a slice from a DataFrame.\n",
      "Try using .loc[row_indexer,col_indexer] = value instead\n",
      "\n",
      "See the caveats in the documentation: http://pandas.pydata.org/pandas-docs/stable/indexing.html#indexing-view-versus-copy\n",
      "  app.launch_new_instance()\n"
     ]
    },
    {
     "name": "stdout",
     "output_type": "stream",
     "text": [
      "STANDARD DEV zero:  []\n",
      "Records for train Set - Number of rows: 371653\n"
     ]
    },
    {
     "name": "stderr",
     "output_type": "stream",
     "text": [
      "C:\\Users\\sandr\\AppData\\Local\\conda\\conda\\envs\\tensorflowenvironment\\lib\\site-packages\\ipykernel_launcher.py:10: SettingWithCopyWarning: \n",
      "A value is trying to be set on a copy of a slice from a DataFrame\n",
      "\n",
      "See the caveats in the documentation: http://pandas.pydata.org/pandas-docs/stable/indexing.html#indexing-view-versus-copy\n",
      "  # Remove the CWD from sys.path while we load stuff.\n",
      "2018-11-20 18:56:20,823 - allfeatures_drop_cols - INFO - ...Columns Excluded from dataset...\n",
      "C:\\Users\\sandr\\AppData\\Local\\conda\\conda\\envs\\tensorflowenvironment\\lib\\site-packages\\ipykernel_launcher.py:18: SettingWithCopyWarning: \n",
      "A value is trying to be set on a copy of a slice from a DataFrame\n",
      "\n",
      "See the caveats in the documentation: http://pandas.pydata.org/pandas-docs/stable/indexing.html#indexing-view-versus-copy\n",
      "2018-11-20 18:56:21,109 - allfeatures_extract_labels - INFO - ...Labels extracted from Dataset...\n",
      "2018-11-20 18:56:23,913 - allfeatures_drop_cols - INFO - ...Columns Excluded from dataset...\n",
      "2018-11-20 18:56:23,969 - allfeatures_extract_labels - INFO - ...Labels extracted from Dataset...\n"
     ]
    },
    {
     "name": "stdout",
     "output_type": "stream",
     "text": [
      "Records for valid Set - Number of rows: 14814\n"
     ]
    },
    {
     "name": "stderr",
     "output_type": "stream",
     "text": [
      "2018-11-20 18:56:24,281 - allfeatures_drop_cols - INFO - ...Columns Excluded from dataset...\n",
      "2018-11-20 18:56:24,339 - allfeatures_extract_labels - INFO - ...Labels extracted from Dataset...\n"
     ]
    },
    {
     "name": "stdout",
     "output_type": "stream",
     "text": [
      "Records for test Set - Number of rows: 28285\n",
      "chunk:  29  chunk size:  500000\n"
     ]
    },
    {
     "name": "stderr",
     "output_type": "stream",
     "text": [
      "2018-11-20 18:56:39,039 - drop_invalid_delinquency_status - INFO - invalid_delinquency_status dropped\n",
      "2018-11-20 18:56:43,330 - drop_invalid_delinquency_status - INFO - dropping invalid transitions and delinquency status, fill nan values, drop duplicates\n",
      "C:\\Users\\sandr\\AppData\\Local\\conda\\conda\\envs\\tensorflowenvironment\\lib\\site-packages\\ipykernel_launcher.py:36: SettingWithCopyWarning: \n",
      "A value is trying to be set on a copy of a slice from a DataFrame\n",
      "\n",
      "See the caveats in the documentation: http://pandas.pydata.org/pandas-docs/stable/indexing.html#indexing-view-versus-copy\n",
      "2018-11-20 18:56:54,749 - allfeatures_drop_cols - INFO - ...Columns Excluded from dataset...\n",
      "2018-11-20 18:56:55,135 - allfeatures_drop_cols - INFO - ...Columns Excluded from dataset...\n",
      "2018-11-20 18:56:55,440 - allfeatures_drop_cols - INFO - ...Columns Excluded from dataset...\n",
      "C:\\Users\\sandr\\AppData\\Local\\conda\\conda\\envs\\tensorflowenvironment\\lib\\site-packages\\ipykernel_launcher.py:16: SettingWithCopyWarning: \n",
      "A value is trying to be set on a copy of a slice from a DataFrame.\n",
      "Try using .loc[row_indexer,col_indexer] = value instead\n",
      "\n",
      "See the caveats in the documentation: http://pandas.pydata.org/pandas-docs/stable/indexing.html#indexing-view-versus-copy\n",
      "  app.launch_new_instance()\n"
     ]
    },
    {
     "name": "stdout",
     "output_type": "stream",
     "text": [
      "STANDARD DEV zero:  []\n",
      "Records for train Set - Number of rows: 357409\n"
     ]
    },
    {
     "name": "stderr",
     "output_type": "stream",
     "text": [
      "C:\\Users\\sandr\\AppData\\Local\\conda\\conda\\envs\\tensorflowenvironment\\lib\\site-packages\\ipykernel_launcher.py:10: SettingWithCopyWarning: \n",
      "A value is trying to be set on a copy of a slice from a DataFrame\n",
      "\n",
      "See the caveats in the documentation: http://pandas.pydata.org/pandas-docs/stable/indexing.html#indexing-view-versus-copy\n",
      "  # Remove the CWD from sys.path while we load stuff.\n",
      "2018-11-20 18:57:52,919 - allfeatures_drop_cols - INFO - ...Columns Excluded from dataset...\n",
      "C:\\Users\\sandr\\AppData\\Local\\conda\\conda\\envs\\tensorflowenvironment\\lib\\site-packages\\ipykernel_launcher.py:18: SettingWithCopyWarning: \n",
      "A value is trying to be set on a copy of a slice from a DataFrame\n",
      "\n",
      "See the caveats in the documentation: http://pandas.pydata.org/pandas-docs/stable/indexing.html#indexing-view-versus-copy\n",
      "2018-11-20 18:57:53,179 - allfeatures_extract_labels - INFO - ...Labels extracted from Dataset...\n",
      "2018-11-20 18:57:56,279 - allfeatures_drop_cols - INFO - ...Columns Excluded from dataset...\n",
      "2018-11-20 18:57:56,349 - allfeatures_extract_labels - INFO - ...Labels extracted from Dataset...\n"
     ]
    },
    {
     "name": "stdout",
     "output_type": "stream",
     "text": [
      "Records for valid Set - Number of rows: 16067\n"
     ]
    },
    {
     "name": "stderr",
     "output_type": "stream",
     "text": [
      "2018-11-20 18:57:56,703 - allfeatures_drop_cols - INFO - ...Columns Excluded from dataset...\n",
      "2018-11-20 18:57:56,773 - allfeatures_extract_labels - INFO - ...Labels extracted from Dataset...\n"
     ]
    },
    {
     "name": "stdout",
     "output_type": "stream",
     "text": [
      "Records for test Set - Number of rows: 32192\n",
      "chunk:  30  chunk size:  500000\n"
     ]
    },
    {
     "name": "stderr",
     "output_type": "stream",
     "text": [
      "2018-11-20 18:58:11,980 - drop_invalid_delinquency_status - INFO - invalid_delinquency_status dropped\n",
      "2018-11-20 18:58:16,223 - drop_invalid_delinquency_status - INFO - dropping invalid transitions and delinquency status, fill nan values, drop duplicates\n",
      "C:\\Users\\sandr\\AppData\\Local\\conda\\conda\\envs\\tensorflowenvironment\\lib\\site-packages\\ipykernel_launcher.py:36: SettingWithCopyWarning: \n",
      "A value is trying to be set on a copy of a slice from a DataFrame\n",
      "\n",
      "See the caveats in the documentation: http://pandas.pydata.org/pandas-docs/stable/indexing.html#indexing-view-versus-copy\n",
      "2018-11-20 18:58:27,689 - allfeatures_drop_cols - INFO - ...Columns Excluded from dataset...\n",
      "2018-11-20 18:58:28,039 - allfeatures_drop_cols - INFO - ...Columns Excluded from dataset...\n",
      "2018-11-20 18:58:28,335 - allfeatures_drop_cols - INFO - ...Columns Excluded from dataset...\n",
      "C:\\Users\\sandr\\AppData\\Local\\conda\\conda\\envs\\tensorflowenvironment\\lib\\site-packages\\ipykernel_launcher.py:16: SettingWithCopyWarning: \n",
      "A value is trying to be set on a copy of a slice from a DataFrame.\n",
      "Try using .loc[row_indexer,col_indexer] = value instead\n",
      "\n",
      "See the caveats in the documentation: http://pandas.pydata.org/pandas-docs/stable/indexing.html#indexing-view-versus-copy\n",
      "  app.launch_new_instance()\n"
     ]
    },
    {
     "name": "stdout",
     "output_type": "stream",
     "text": [
      "STANDARD DEV zero:  []\n",
      "Records for train Set - Number of rows: 357265\n"
     ]
    },
    {
     "name": "stderr",
     "output_type": "stream",
     "text": [
      "C:\\Users\\sandr\\AppData\\Local\\conda\\conda\\envs\\tensorflowenvironment\\lib\\site-packages\\ipykernel_launcher.py:10: SettingWithCopyWarning: \n",
      "A value is trying to be set on a copy of a slice from a DataFrame\n",
      "\n",
      "See the caveats in the documentation: http://pandas.pydata.org/pandas-docs/stable/indexing.html#indexing-view-versus-copy\n",
      "  # Remove the CWD from sys.path while we load stuff.\n",
      "2018-11-20 18:59:25,301 - allfeatures_drop_cols - INFO - ...Columns Excluded from dataset...\n",
      "C:\\Users\\sandr\\AppData\\Local\\conda\\conda\\envs\\tensorflowenvironment\\lib\\site-packages\\ipykernel_launcher.py:18: SettingWithCopyWarning: \n",
      "A value is trying to be set on a copy of a slice from a DataFrame\n",
      "\n",
      "See the caveats in the documentation: http://pandas.pydata.org/pandas-docs/stable/indexing.html#indexing-view-versus-copy\n",
      "2018-11-20 18:59:25,571 - allfeatures_extract_labels - INFO - ...Labels extracted from Dataset...\n",
      "2018-11-20 18:59:28,509 - allfeatures_drop_cols - INFO - ...Columns Excluded from dataset...\n",
      "2018-11-20 18:59:28,569 - allfeatures_extract_labels - INFO - ...Labels extracted from Dataset...\n"
     ]
    },
    {
     "name": "stdout",
     "output_type": "stream",
     "text": [
      "Records for valid Set - Number of rows: 13505\n"
     ]
    },
    {
     "name": "stderr",
     "output_type": "stream",
     "text": [
      "2018-11-20 18:59:28,928 - allfeatures_drop_cols - INFO - ...Columns Excluded from dataset...\n",
      "2018-11-20 18:59:29,001 - allfeatures_extract_labels - INFO - ...Labels extracted from Dataset...\n"
     ]
    },
    {
     "name": "stdout",
     "output_type": "stream",
     "text": [
      "Records for test Set - Number of rows: 32712\n",
      "chunk:  31  chunk size:  500000\n"
     ]
    },
    {
     "name": "stderr",
     "output_type": "stream",
     "text": [
      "2018-11-20 18:59:43,659 - drop_invalid_delinquency_status - INFO - invalid_delinquency_status dropped\n",
      "2018-11-20 18:59:47,963 - drop_invalid_delinquency_status - INFO - dropping invalid transitions and delinquency status, fill nan values, drop duplicates\n",
      "C:\\Users\\sandr\\AppData\\Local\\conda\\conda\\envs\\tensorflowenvironment\\lib\\site-packages\\ipykernel_launcher.py:36: SettingWithCopyWarning: \n",
      "A value is trying to be set on a copy of a slice from a DataFrame\n",
      "\n",
      "See the caveats in the documentation: http://pandas.pydata.org/pandas-docs/stable/indexing.html#indexing-view-versus-copy\n",
      "2018-11-20 18:59:59,623 - allfeatures_drop_cols - INFO - ...Columns Excluded from dataset...\n",
      "2018-11-20 18:59:59,969 - allfeatures_drop_cols - INFO - ...Columns Excluded from dataset...\n",
      "2018-11-20 19:00:00,274 - allfeatures_drop_cols - INFO - ...Columns Excluded from dataset...\n",
      "C:\\Users\\sandr\\AppData\\Local\\conda\\conda\\envs\\tensorflowenvironment\\lib\\site-packages\\ipykernel_launcher.py:16: SettingWithCopyWarning: \n",
      "A value is trying to be set on a copy of a slice from a DataFrame.\n",
      "Try using .loc[row_indexer,col_indexer] = value instead\n",
      "\n",
      "See the caveats in the documentation: http://pandas.pydata.org/pandas-docs/stable/indexing.html#indexing-view-versus-copy\n",
      "  app.launch_new_instance()\n"
     ]
    },
    {
     "name": "stdout",
     "output_type": "stream",
     "text": [
      "STANDARD DEV zero:  []\n",
      "Records for train Set - Number of rows: 367403\n"
     ]
    },
    {
     "name": "stderr",
     "output_type": "stream",
     "text": [
      "C:\\Users\\sandr\\AppData\\Local\\conda\\conda\\envs\\tensorflowenvironment\\lib\\site-packages\\ipykernel_launcher.py:10: SettingWithCopyWarning: \n",
      "A value is trying to be set on a copy of a slice from a DataFrame\n",
      "\n",
      "See the caveats in the documentation: http://pandas.pydata.org/pandas-docs/stable/indexing.html#indexing-view-versus-copy\n",
      "  # Remove the CWD from sys.path while we load stuff.\n",
      "2018-11-20 19:00:58,985 - allfeatures_drop_cols - INFO - ...Columns Excluded from dataset...\n",
      "C:\\Users\\sandr\\AppData\\Local\\conda\\conda\\envs\\tensorflowenvironment\\lib\\site-packages\\ipykernel_launcher.py:18: SettingWithCopyWarning: \n",
      "A value is trying to be set on a copy of a slice from a DataFrame\n",
      "\n",
      "See the caveats in the documentation: http://pandas.pydata.org/pandas-docs/stable/indexing.html#indexing-view-versus-copy\n",
      "2018-11-20 19:00:59,247 - allfeatures_extract_labels - INFO - ...Labels extracted from Dataset...\n",
      "2018-11-20 19:01:02,153 - allfeatures_drop_cols - INFO - ...Columns Excluded from dataset...\n",
      "2018-11-20 19:01:02,213 - allfeatures_extract_labels - INFO - ...Labels extracted from Dataset...\n"
     ]
    },
    {
     "name": "stdout",
     "output_type": "stream",
     "text": [
      "Records for valid Set - Number of rows: 12336\n"
     ]
    },
    {
     "name": "stderr",
     "output_type": "stream",
     "text": [
      "2018-11-20 19:01:02,597 - allfeatures_drop_cols - INFO - ...Columns Excluded from dataset...\n",
      "2018-11-20 19:01:02,663 - allfeatures_extract_labels - INFO - ...Labels extracted from Dataset...\n"
     ]
    },
    {
     "name": "stdout",
     "output_type": "stream",
     "text": [
      "Records for test Set - Number of rows: 34850\n",
      "chunk:  32  chunk size:  500000\n"
     ]
    },
    {
     "name": "stderr",
     "output_type": "stream",
     "text": [
      "2018-11-20 19:01:17,627 - drop_invalid_delinquency_status - INFO - invalid_delinquency_status dropped\n",
      "2018-11-20 19:01:22,093 - drop_invalid_delinquency_status - INFO - dropping invalid transitions and delinquency status, fill nan values, drop duplicates\n",
      "C:\\Users\\sandr\\AppData\\Local\\conda\\conda\\envs\\tensorflowenvironment\\lib\\site-packages\\ipykernel_launcher.py:36: SettingWithCopyWarning: \n",
      "A value is trying to be set on a copy of a slice from a DataFrame\n",
      "\n",
      "See the caveats in the documentation: http://pandas.pydata.org/pandas-docs/stable/indexing.html#indexing-view-versus-copy\n",
      "2018-11-20 19:01:34,067 - allfeatures_drop_cols - INFO - ...Columns Excluded from dataset...\n",
      "2018-11-20 19:01:34,423 - allfeatures_drop_cols - INFO - ...Columns Excluded from dataset...\n",
      "2018-11-20 19:01:34,726 - allfeatures_drop_cols - INFO - ...Columns Excluded from dataset...\n",
      "C:\\Users\\sandr\\AppData\\Local\\conda\\conda\\envs\\tensorflowenvironment\\lib\\site-packages\\ipykernel_launcher.py:16: SettingWithCopyWarning: \n",
      "A value is trying to be set on a copy of a slice from a DataFrame.\n",
      "Try using .loc[row_indexer,col_indexer] = value instead\n",
      "\n",
      "See the caveats in the documentation: http://pandas.pydata.org/pandas-docs/stable/indexing.html#indexing-view-versus-copy\n",
      "  app.launch_new_instance()\n"
     ]
    },
    {
     "name": "stdout",
     "output_type": "stream",
     "text": [
      "STANDARD DEV zero:  []\n",
      "Records for train Set - Number of rows: 380538\n"
     ]
    },
    {
     "name": "stderr",
     "output_type": "stream",
     "text": [
      "C:\\Users\\sandr\\AppData\\Local\\conda\\conda\\envs\\tensorflowenvironment\\lib\\site-packages\\ipykernel_launcher.py:10: SettingWithCopyWarning: \n",
      "A value is trying to be set on a copy of a slice from a DataFrame\n",
      "\n",
      "See the caveats in the documentation: http://pandas.pydata.org/pandas-docs/stable/indexing.html#indexing-view-versus-copy\n",
      "  # Remove the CWD from sys.path while we load stuff.\n",
      "2018-11-20 19:02:35,063 - allfeatures_drop_cols - INFO - ...Columns Excluded from dataset...\n",
      "C:\\Users\\sandr\\AppData\\Local\\conda\\conda\\envs\\tensorflowenvironment\\lib\\site-packages\\ipykernel_launcher.py:18: SettingWithCopyWarning: \n",
      "A value is trying to be set on a copy of a slice from a DataFrame\n",
      "\n",
      "See the caveats in the documentation: http://pandas.pydata.org/pandas-docs/stable/indexing.html#indexing-view-versus-copy\n",
      "2018-11-20 19:02:35,326 - allfeatures_extract_labels - INFO - ...Labels extracted from Dataset...\n",
      "2018-11-20 19:02:38,943 - allfeatures_drop_cols - INFO - ...Columns Excluded from dataset...\n",
      "2018-11-20 19:02:39,001 - allfeatures_extract_labels - INFO - ...Labels extracted from Dataset...\n"
     ]
    },
    {
     "name": "stdout",
     "output_type": "stream",
     "text": [
      "Records for valid Set - Number of rows: 13303\n"
     ]
    },
    {
     "name": "stderr",
     "output_type": "stream",
     "text": [
      "2018-11-20 19:02:39,402 - allfeatures_drop_cols - INFO - ...Columns Excluded from dataset...\n",
      "2018-11-20 19:02:39,473 - allfeatures_extract_labels - INFO - ...Labels extracted from Dataset...\n"
     ]
    },
    {
     "name": "stdout",
     "output_type": "stream",
     "text": [
      "Records for test Set - Number of rows: 38609\n",
      "chunk:  33  chunk size:  500000\n"
     ]
    },
    {
     "name": "stderr",
     "output_type": "stream",
     "text": [
      "2018-11-20 19:02:53,717 - drop_invalid_delinquency_status - INFO - invalid_delinquency_status dropped\n",
      "2018-11-20 19:02:58,022 - drop_invalid_delinquency_status - INFO - dropping invalid transitions and delinquency status, fill nan values, drop duplicates\n",
      "C:\\Users\\sandr\\AppData\\Local\\conda\\conda\\envs\\tensorflowenvironment\\lib\\site-packages\\ipykernel_launcher.py:36: SettingWithCopyWarning: \n",
      "A value is trying to be set on a copy of a slice from a DataFrame\n",
      "\n",
      "See the caveats in the documentation: http://pandas.pydata.org/pandas-docs/stable/indexing.html#indexing-view-versus-copy\n",
      "2018-11-20 19:03:10,103 - allfeatures_drop_cols - INFO - ...Columns Excluded from dataset...\n",
      "2018-11-20 19:03:10,457 - allfeatures_drop_cols - INFO - ...Columns Excluded from dataset...\n",
      "2018-11-20 19:03:10,757 - allfeatures_drop_cols - INFO - ...Columns Excluded from dataset...\n",
      "C:\\Users\\sandr\\AppData\\Local\\conda\\conda\\envs\\tensorflowenvironment\\lib\\site-packages\\ipykernel_launcher.py:16: SettingWithCopyWarning: \n",
      "A value is trying to be set on a copy of a slice from a DataFrame.\n",
      "Try using .loc[row_indexer,col_indexer] = value instead\n",
      "\n",
      "See the caveats in the documentation: http://pandas.pydata.org/pandas-docs/stable/indexing.html#indexing-view-versus-copy\n",
      "  app.launch_new_instance()\n"
     ]
    },
    {
     "name": "stdout",
     "output_type": "stream",
     "text": [
      "STANDARD DEV zero:  []\n",
      "Records for train Set - Number of rows: 370187\n"
     ]
    },
    {
     "name": "stderr",
     "output_type": "stream",
     "text": [
      "C:\\Users\\sandr\\AppData\\Local\\conda\\conda\\envs\\tensorflowenvironment\\lib\\site-packages\\ipykernel_launcher.py:10: SettingWithCopyWarning: \n",
      "A value is trying to be set on a copy of a slice from a DataFrame\n",
      "\n",
      "See the caveats in the documentation: http://pandas.pydata.org/pandas-docs/stable/indexing.html#indexing-view-versus-copy\n",
      "  # Remove the CWD from sys.path while we load stuff.\n",
      "2018-11-20 19:04:11,216 - allfeatures_drop_cols - INFO - ...Columns Excluded from dataset...\n",
      "C:\\Users\\sandr\\AppData\\Local\\conda\\conda\\envs\\tensorflowenvironment\\lib\\site-packages\\ipykernel_launcher.py:18: SettingWithCopyWarning: \n",
      "A value is trying to be set on a copy of a slice from a DataFrame\n",
      "\n",
      "See the caveats in the documentation: http://pandas.pydata.org/pandas-docs/stable/indexing.html#indexing-view-versus-copy\n",
      "2018-11-20 19:04:11,475 - allfeatures_extract_labels - INFO - ...Labels extracted from Dataset...\n",
      "2018-11-20 19:04:14,696 - allfeatures_drop_cols - INFO - ...Columns Excluded from dataset...\n",
      "2018-11-20 19:04:14,756 - allfeatures_extract_labels - INFO - ...Labels extracted from Dataset...\n"
     ]
    },
    {
     "name": "stdout",
     "output_type": "stream",
     "text": [
      "Records for valid Set - Number of rows: 12106\n"
     ]
    },
    {
     "name": "stderr",
     "output_type": "stream",
     "text": [
      "2018-11-20 19:04:15,176 - allfeatures_drop_cols - INFO - ...Columns Excluded from dataset...\n",
      "2018-11-20 19:04:15,251 - allfeatures_extract_labels - INFO - ...Labels extracted from Dataset...\n"
     ]
    },
    {
     "name": "stdout",
     "output_type": "stream",
     "text": [
      "Records for test Set - Number of rows: 39342\n",
      "chunk:  34  chunk size:  500000\n"
     ]
    },
    {
     "name": "stderr",
     "output_type": "stream",
     "text": [
      "2018-11-20 19:04:29,536 - drop_invalid_delinquency_status - INFO - invalid_delinquency_status dropped\n",
      "2018-11-20 19:04:33,726 - drop_invalid_delinquency_status - INFO - dropping invalid transitions and delinquency status, fill nan values, drop duplicates\n",
      "C:\\Users\\sandr\\AppData\\Local\\conda\\conda\\envs\\tensorflowenvironment\\lib\\site-packages\\ipykernel_launcher.py:36: SettingWithCopyWarning: \n",
      "A value is trying to be set on a copy of a slice from a DataFrame\n",
      "\n",
      "See the caveats in the documentation: http://pandas.pydata.org/pandas-docs/stable/indexing.html#indexing-view-versus-copy\n",
      "2018-11-20 19:04:45,259 - allfeatures_drop_cols - INFO - ...Columns Excluded from dataset...\n",
      "2018-11-20 19:04:45,596 - allfeatures_drop_cols - INFO - ...Columns Excluded from dataset...\n",
      "2018-11-20 19:04:45,934 - allfeatures_drop_cols - INFO - ...Columns Excluded from dataset...\n",
      "C:\\Users\\sandr\\AppData\\Local\\conda\\conda\\envs\\tensorflowenvironment\\lib\\site-packages\\ipykernel_launcher.py:16: SettingWithCopyWarning: \n",
      "A value is trying to be set on a copy of a slice from a DataFrame.\n",
      "Try using .loc[row_indexer,col_indexer] = value instead\n",
      "\n",
      "See the caveats in the documentation: http://pandas.pydata.org/pandas-docs/stable/indexing.html#indexing-view-versus-copy\n",
      "  app.launch_new_instance()\n"
     ]
    },
    {
     "name": "stdout",
     "output_type": "stream",
     "text": [
      "STANDARD DEV zero:  []\n",
      "Records for train Set - Number of rows: 352541\n"
     ]
    },
    {
     "name": "stderr",
     "output_type": "stream",
     "text": [
      "C:\\Users\\sandr\\AppData\\Local\\conda\\conda\\envs\\tensorflowenvironment\\lib\\site-packages\\ipykernel_launcher.py:10: SettingWithCopyWarning: \n",
      "A value is trying to be set on a copy of a slice from a DataFrame\n",
      "\n",
      "See the caveats in the documentation: http://pandas.pydata.org/pandas-docs/stable/indexing.html#indexing-view-versus-copy\n",
      "  # Remove the CWD from sys.path while we load stuff.\n",
      "2018-11-20 19:05:44,566 - allfeatures_drop_cols - INFO - ...Columns Excluded from dataset...\n",
      "C:\\Users\\sandr\\AppData\\Local\\conda\\conda\\envs\\tensorflowenvironment\\lib\\site-packages\\ipykernel_launcher.py:18: SettingWithCopyWarning: \n",
      "A value is trying to be set on a copy of a slice from a DataFrame\n",
      "\n",
      "See the caveats in the documentation: http://pandas.pydata.org/pandas-docs/stable/indexing.html#indexing-view-versus-copy\n",
      "2018-11-20 19:05:44,816 - allfeatures_extract_labels - INFO - ...Labels extracted from Dataset...\n",
      "2018-11-20 19:05:47,770 - allfeatures_drop_cols - INFO - ...Columns Excluded from dataset...\n",
      "2018-11-20 19:05:47,825 - allfeatures_extract_labels - INFO - ...Labels extracted from Dataset...\n"
     ]
    },
    {
     "name": "stdout",
     "output_type": "stream",
     "text": [
      "Records for valid Set - Number of rows: 10331\n"
     ]
    },
    {
     "name": "stderr",
     "output_type": "stream",
     "text": [
      "2018-11-20 19:05:48,059 - allfeatures_drop_cols - INFO - ...Columns Excluded from dataset...\n",
      "2018-11-20 19:05:48,130 - allfeatures_extract_labels - INFO - ...Labels extracted from Dataset...\n"
     ]
    },
    {
     "name": "stdout",
     "output_type": "stream",
     "text": [
      "Records for test Set - Number of rows: 39138\n",
      "chunk:  35  chunk size:  500000\n"
     ]
    },
    {
     "name": "stderr",
     "output_type": "stream",
     "text": [
      "2018-11-20 19:06:02,060 - drop_invalid_delinquency_status - INFO - invalid_delinquency_status dropped\n",
      "2018-11-20 19:06:05,972 - drop_invalid_delinquency_status - INFO - dropping invalid transitions and delinquency status, fill nan values, drop duplicates\n",
      "C:\\Users\\sandr\\AppData\\Local\\conda\\conda\\envs\\tensorflowenvironment\\lib\\site-packages\\ipykernel_launcher.py:36: SettingWithCopyWarning: \n",
      "A value is trying to be set on a copy of a slice from a DataFrame\n",
      "\n",
      "See the caveats in the documentation: http://pandas.pydata.org/pandas-docs/stable/indexing.html#indexing-view-versus-copy\n",
      "2018-11-20 19:06:17,046 - allfeatures_drop_cols - INFO - ...Columns Excluded from dataset...\n",
      "2018-11-20 19:06:17,389 - allfeatures_drop_cols - INFO - ...Columns Excluded from dataset...\n",
      "2018-11-20 19:06:17,690 - allfeatures_drop_cols - INFO - ...Columns Excluded from dataset...\n",
      "C:\\Users\\sandr\\AppData\\Local\\conda\\conda\\envs\\tensorflowenvironment\\lib\\site-packages\\ipykernel_launcher.py:16: SettingWithCopyWarning: \n",
      "A value is trying to be set on a copy of a slice from a DataFrame.\n",
      "Try using .loc[row_indexer,col_indexer] = value instead\n",
      "\n",
      "See the caveats in the documentation: http://pandas.pydata.org/pandas-docs/stable/indexing.html#indexing-view-versus-copy\n",
      "  app.launch_new_instance()\n"
     ]
    },
    {
     "name": "stdout",
     "output_type": "stream",
     "text": [
      "STANDARD DEV zero:  []\n",
      "Records for train Set - Number of rows: 335859\n"
     ]
    },
    {
     "name": "stderr",
     "output_type": "stream",
     "text": [
      "C:\\Users\\sandr\\AppData\\Local\\conda\\conda\\envs\\tensorflowenvironment\\lib\\site-packages\\ipykernel_launcher.py:10: SettingWithCopyWarning: \n",
      "A value is trying to be set on a copy of a slice from a DataFrame\n",
      "\n",
      "See the caveats in the documentation: http://pandas.pydata.org/pandas-docs/stable/indexing.html#indexing-view-versus-copy\n",
      "  # Remove the CWD from sys.path while we load stuff.\n",
      "2018-11-20 19:07:13,227 - allfeatures_drop_cols - INFO - ...Columns Excluded from dataset...\n",
      "C:\\Users\\sandr\\AppData\\Local\\conda\\conda\\envs\\tensorflowenvironment\\lib\\site-packages\\ipykernel_launcher.py:18: SettingWithCopyWarning: \n",
      "A value is trying to be set on a copy of a slice from a DataFrame\n",
      "\n",
      "See the caveats in the documentation: http://pandas.pydata.org/pandas-docs/stable/indexing.html#indexing-view-versus-copy\n",
      "2018-11-20 19:07:13,466 - allfeatures_extract_labels - INFO - ...Labels extracted from Dataset...\n",
      "2018-11-20 19:07:16,087 - allfeatures_drop_cols - INFO - ...Columns Excluded from dataset...\n",
      "2018-11-20 19:07:16,137 - allfeatures_extract_labels - INFO - ...Labels extracted from Dataset...\n"
     ]
    },
    {
     "name": "stdout",
     "output_type": "stream",
     "text": [
      "Records for valid Set - Number of rows: 10472\n"
     ]
    },
    {
     "name": "stderr",
     "output_type": "stream",
     "text": [
      "2018-11-20 19:07:16,391 - allfeatures_drop_cols - INFO - ...Columns Excluded from dataset...\n",
      "2018-11-20 19:07:16,460 - allfeatures_extract_labels - INFO - ...Labels extracted from Dataset...\n"
     ]
    },
    {
     "name": "stdout",
     "output_type": "stream",
     "text": [
      "Records for test Set - Number of rows: 37946\n",
      "chunk:  36  chunk size:  500000\n"
     ]
    },
    {
     "name": "stderr",
     "output_type": "stream",
     "text": [
      "2018-11-20 19:07:31,406 - drop_invalid_delinquency_status - INFO - invalid_delinquency_status dropped\n",
      "2018-11-20 19:07:35,327 - drop_invalid_delinquency_status - INFO - dropping invalid transitions and delinquency status, fill nan values, drop duplicates\n",
      "C:\\Users\\sandr\\AppData\\Local\\conda\\conda\\envs\\tensorflowenvironment\\lib\\site-packages\\ipykernel_launcher.py:36: SettingWithCopyWarning: \n",
      "A value is trying to be set on a copy of a slice from a DataFrame\n",
      "\n",
      "See the caveats in the documentation: http://pandas.pydata.org/pandas-docs/stable/indexing.html#indexing-view-versus-copy\n",
      "2018-11-20 19:07:46,356 - allfeatures_drop_cols - INFO - ...Columns Excluded from dataset...\n",
      "2018-11-20 19:07:46,686 - allfeatures_drop_cols - INFO - ...Columns Excluded from dataset...\n",
      "2018-11-20 19:07:46,968 - allfeatures_drop_cols - INFO - ...Columns Excluded from dataset...\n",
      "C:\\Users\\sandr\\AppData\\Local\\conda\\conda\\envs\\tensorflowenvironment\\lib\\site-packages\\ipykernel_launcher.py:16: SettingWithCopyWarning: \n",
      "A value is trying to be set on a copy of a slice from a DataFrame.\n",
      "Try using .loc[row_indexer,col_indexer] = value instead\n",
      "\n",
      "See the caveats in the documentation: http://pandas.pydata.org/pandas-docs/stable/indexing.html#indexing-view-versus-copy\n",
      "  app.launch_new_instance()\n"
     ]
    },
    {
     "name": "stdout",
     "output_type": "stream",
     "text": [
      "STANDARD DEV zero:  []\n",
      "Records for train Set - Number of rows: 332226\n"
     ]
    },
    {
     "name": "stderr",
     "output_type": "stream",
     "text": [
      "C:\\Users\\sandr\\AppData\\Local\\conda\\conda\\envs\\tensorflowenvironment\\lib\\site-packages\\ipykernel_launcher.py:10: SettingWithCopyWarning: \n",
      "A value is trying to be set on a copy of a slice from a DataFrame\n",
      "\n",
      "See the caveats in the documentation: http://pandas.pydata.org/pandas-docs/stable/indexing.html#indexing-view-versus-copy\n",
      "  # Remove the CWD from sys.path while we load stuff.\n",
      "2018-11-20 19:08:42,551 - allfeatures_drop_cols - INFO - ...Columns Excluded from dataset...\n",
      "C:\\Users\\sandr\\AppData\\Local\\conda\\conda\\envs\\tensorflowenvironment\\lib\\site-packages\\ipykernel_launcher.py:18: SettingWithCopyWarning: \n",
      "A value is trying to be set on a copy of a slice from a DataFrame\n",
      "\n",
      "See the caveats in the documentation: http://pandas.pydata.org/pandas-docs/stable/indexing.html#indexing-view-versus-copy\n",
      "2018-11-20 19:08:42,790 - allfeatures_extract_labels - INFO - ...Labels extracted from Dataset...\n",
      "2018-11-20 19:08:45,507 - allfeatures_drop_cols - INFO - ...Columns Excluded from dataset...\n",
      "2018-11-20 19:08:45,568 - allfeatures_extract_labels - INFO - ...Labels extracted from Dataset...\n"
     ]
    },
    {
     "name": "stdout",
     "output_type": "stream",
     "text": [
      "Records for valid Set - Number of rows: 10372\n"
     ]
    },
    {
     "name": "stderr",
     "output_type": "stream",
     "text": [
      "2018-11-20 19:08:45,860 - allfeatures_drop_cols - INFO - ...Columns Excluded from dataset...\n",
      "2018-11-20 19:08:45,941 - allfeatures_extract_labels - INFO - ...Labels extracted from Dataset...\n"
     ]
    },
    {
     "name": "stdout",
     "output_type": "stream",
     "text": [
      "Records for test Set - Number of rows: 35806\n",
      "chunk:  37  chunk size:  500000\n"
     ]
    },
    {
     "name": "stderr",
     "output_type": "stream",
     "text": [
      "2018-11-20 19:09:00,726 - drop_invalid_delinquency_status - INFO - invalid_delinquency_status dropped\n",
      "2018-11-20 19:09:04,869 - drop_invalid_delinquency_status - INFO - dropping invalid transitions and delinquency status, fill nan values, drop duplicates\n",
      "C:\\Users\\sandr\\AppData\\Local\\conda\\conda\\envs\\tensorflowenvironment\\lib\\site-packages\\ipykernel_launcher.py:36: SettingWithCopyWarning: \n",
      "A value is trying to be set on a copy of a slice from a DataFrame\n",
      "\n",
      "See the caveats in the documentation: http://pandas.pydata.org/pandas-docs/stable/indexing.html#indexing-view-versus-copy\n",
      "2018-11-20 19:09:16,077 - allfeatures_drop_cols - INFO - ...Columns Excluded from dataset...\n",
      "2018-11-20 19:09:16,406 - allfeatures_drop_cols - INFO - ...Columns Excluded from dataset...\n",
      "2018-11-20 19:09:16,690 - allfeatures_drop_cols - INFO - ...Columns Excluded from dataset...\n",
      "C:\\Users\\sandr\\AppData\\Local\\conda\\conda\\envs\\tensorflowenvironment\\lib\\site-packages\\ipykernel_launcher.py:16: SettingWithCopyWarning: \n",
      "A value is trying to be set on a copy of a slice from a DataFrame.\n",
      "Try using .loc[row_indexer,col_indexer] = value instead\n",
      "\n",
      "See the caveats in the documentation: http://pandas.pydata.org/pandas-docs/stable/indexing.html#indexing-view-versus-copy\n",
      "  app.launch_new_instance()\n"
     ]
    },
    {
     "name": "stdout",
     "output_type": "stream",
     "text": [
      "STANDARD DEV zero:  []\n",
      "Records for train Set - Number of rows: 340152\n"
     ]
    },
    {
     "name": "stderr",
     "output_type": "stream",
     "text": [
      "C:\\Users\\sandr\\AppData\\Local\\conda\\conda\\envs\\tensorflowenvironment\\lib\\site-packages\\ipykernel_launcher.py:10: SettingWithCopyWarning: \n",
      "A value is trying to be set on a copy of a slice from a DataFrame\n",
      "\n",
      "See the caveats in the documentation: http://pandas.pydata.org/pandas-docs/stable/indexing.html#indexing-view-versus-copy\n",
      "  # Remove the CWD from sys.path while we load stuff.\n",
      "2018-11-20 19:10:13,460 - allfeatures_drop_cols - INFO - ...Columns Excluded from dataset...\n",
      "C:\\Users\\sandr\\AppData\\Local\\conda\\conda\\envs\\tensorflowenvironment\\lib\\site-packages\\ipykernel_launcher.py:18: SettingWithCopyWarning: \n",
      "A value is trying to be set on a copy of a slice from a DataFrame\n",
      "\n",
      "See the caveats in the documentation: http://pandas.pydata.org/pandas-docs/stable/indexing.html#indexing-view-versus-copy\n",
      "2018-11-20 19:10:13,706 - allfeatures_extract_labels - INFO - ...Labels extracted from Dataset...\n",
      "2018-11-20 19:10:16,640 - allfeatures_drop_cols - INFO - ...Columns Excluded from dataset...\n",
      "2018-11-20 19:10:16,696 - allfeatures_extract_labels - INFO - ...Labels extracted from Dataset...\n"
     ]
    },
    {
     "name": "stdout",
     "output_type": "stream",
     "text": [
      "Records for valid Set - Number of rows: 10562\n"
     ]
    },
    {
     "name": "stderr",
     "output_type": "stream",
     "text": [
      "2018-11-20 19:10:16,996 - allfeatures_drop_cols - INFO - ...Columns Excluded from dataset...\n",
      "2018-11-20 19:10:17,075 - allfeatures_extract_labels - INFO - ...Labels extracted from Dataset...\n"
     ]
    },
    {
     "name": "stdout",
     "output_type": "stream",
     "text": [
      "Records for test Set - Number of rows: 34610\n",
      "chunk:  38  chunk size:  500000\n"
     ]
    },
    {
     "name": "stderr",
     "output_type": "stream",
     "text": [
      "2018-11-20 19:10:33,068 - drop_invalid_delinquency_status - INFO - invalid_delinquency_status dropped\n",
      "2018-11-20 19:10:37,290 - drop_invalid_delinquency_status - INFO - dropping invalid transitions and delinquency status, fill nan values, drop duplicates\n",
      "C:\\Users\\sandr\\AppData\\Local\\conda\\conda\\envs\\tensorflowenvironment\\lib\\site-packages\\ipykernel_launcher.py:36: SettingWithCopyWarning: \n",
      "A value is trying to be set on a copy of a slice from a DataFrame\n",
      "\n",
      "See the caveats in the documentation: http://pandas.pydata.org/pandas-docs/stable/indexing.html#indexing-view-versus-copy\n",
      "2018-11-20 19:10:48,849 - allfeatures_drop_cols - INFO - ...Columns Excluded from dataset...\n",
      "2018-11-20 19:10:49,206 - allfeatures_drop_cols - INFO - ...Columns Excluded from dataset...\n",
      "2018-11-20 19:10:49,506 - allfeatures_drop_cols - INFO - ...Columns Excluded from dataset...\n",
      "C:\\Users\\sandr\\AppData\\Local\\conda\\conda\\envs\\tensorflowenvironment\\lib\\site-packages\\ipykernel_launcher.py:16: SettingWithCopyWarning: \n",
      "A value is trying to be set on a copy of a slice from a DataFrame.\n",
      "Try using .loc[row_indexer,col_indexer] = value instead\n",
      "\n",
      "See the caveats in the documentation: http://pandas.pydata.org/pandas-docs/stable/indexing.html#indexing-view-versus-copy\n",
      "  app.launch_new_instance()\n"
     ]
    },
    {
     "name": "stdout",
     "output_type": "stream",
     "text": [
      "STANDARD DEV zero:  []\n",
      "Records for train Set - Number of rows: 353384\n"
     ]
    },
    {
     "name": "stderr",
     "output_type": "stream",
     "text": [
      "C:\\Users\\sandr\\AppData\\Local\\conda\\conda\\envs\\tensorflowenvironment\\lib\\site-packages\\ipykernel_launcher.py:10: SettingWithCopyWarning: \n",
      "A value is trying to be set on a copy of a slice from a DataFrame\n",
      "\n",
      "See the caveats in the documentation: http://pandas.pydata.org/pandas-docs/stable/indexing.html#indexing-view-versus-copy\n",
      "  # Remove the CWD from sys.path while we load stuff.\n",
      "2018-11-20 19:11:47,744 - allfeatures_drop_cols - INFO - ...Columns Excluded from dataset...\n",
      "C:\\Users\\sandr\\AppData\\Local\\conda\\conda\\envs\\tensorflowenvironment\\lib\\site-packages\\ipykernel_launcher.py:18: SettingWithCopyWarning: \n",
      "A value is trying to be set on a copy of a slice from a DataFrame\n",
      "\n",
      "See the caveats in the documentation: http://pandas.pydata.org/pandas-docs/stable/indexing.html#indexing-view-versus-copy\n",
      "2018-11-20 19:11:48,062 - allfeatures_extract_labels - INFO - ...Labels extracted from Dataset...\n",
      "2018-11-20 19:11:50,804 - allfeatures_drop_cols - INFO - ...Columns Excluded from dataset...\n",
      "2018-11-20 19:11:50,862 - allfeatures_extract_labels - INFO - ...Labels extracted from Dataset...\n"
     ]
    },
    {
     "name": "stdout",
     "output_type": "stream",
     "text": [
      "Records for valid Set - Number of rows: 11511\n"
     ]
    },
    {
     "name": "stderr",
     "output_type": "stream",
     "text": [
      "2018-11-20 19:11:51,155 - allfeatures_drop_cols - INFO - ...Columns Excluded from dataset...\n",
      "2018-11-20 19:11:51,220 - allfeatures_extract_labels - INFO - ...Labels extracted from Dataset...\n"
     ]
    },
    {
     "name": "stdout",
     "output_type": "stream",
     "text": [
      "Records for test Set - Number of rows: 32614\n",
      "chunk:  39  chunk size:  500000\n"
     ]
    },
    {
     "name": "stderr",
     "output_type": "stream",
     "text": [
      "2018-11-20 19:12:06,120 - drop_invalid_delinquency_status - INFO - invalid_delinquency_status dropped\n",
      "2018-11-20 19:12:10,520 - drop_invalid_delinquency_status - INFO - dropping invalid transitions and delinquency status, fill nan values, drop duplicates\n",
      "C:\\Users\\sandr\\AppData\\Local\\conda\\conda\\envs\\tensorflowenvironment\\lib\\site-packages\\ipykernel_launcher.py:36: SettingWithCopyWarning: \n",
      "A value is trying to be set on a copy of a slice from a DataFrame\n",
      "\n",
      "See the caveats in the documentation: http://pandas.pydata.org/pandas-docs/stable/indexing.html#indexing-view-versus-copy\n",
      "2018-11-20 19:12:22,330 - allfeatures_drop_cols - INFO - ...Columns Excluded from dataset...\n",
      "2018-11-20 19:12:22,690 - allfeatures_drop_cols - INFO - ...Columns Excluded from dataset...\n",
      "2018-11-20 19:12:23,015 - allfeatures_drop_cols - INFO - ...Columns Excluded from dataset...\n",
      "C:\\Users\\sandr\\AppData\\Local\\conda\\conda\\envs\\tensorflowenvironment\\lib\\site-packages\\ipykernel_launcher.py:16: SettingWithCopyWarning: \n",
      "A value is trying to be set on a copy of a slice from a DataFrame.\n",
      "Try using .loc[row_indexer,col_indexer] = value instead\n",
      "\n",
      "See the caveats in the documentation: http://pandas.pydata.org/pandas-docs/stable/indexing.html#indexing-view-versus-copy\n",
      "  app.launch_new_instance()\n"
     ]
    },
    {
     "name": "stdout",
     "output_type": "stream",
     "text": [
      "STANDARD DEV zero:  []\n",
      "Records for train Set - Number of rows: 359894\n"
     ]
    },
    {
     "name": "stderr",
     "output_type": "stream",
     "text": [
      "C:\\Users\\sandr\\AppData\\Local\\conda\\conda\\envs\\tensorflowenvironment\\lib\\site-packages\\ipykernel_launcher.py:10: SettingWithCopyWarning: \n",
      "A value is trying to be set on a copy of a slice from a DataFrame\n",
      "\n",
      "See the caveats in the documentation: http://pandas.pydata.org/pandas-docs/stable/indexing.html#indexing-view-versus-copy\n",
      "  # Remove the CWD from sys.path while we load stuff.\n",
      "2018-11-20 19:13:22,130 - allfeatures_drop_cols - INFO - ...Columns Excluded from dataset...\n",
      "C:\\Users\\sandr\\AppData\\Local\\conda\\conda\\envs\\tensorflowenvironment\\lib\\site-packages\\ipykernel_launcher.py:18: SettingWithCopyWarning: \n",
      "A value is trying to be set on a copy of a slice from a DataFrame\n",
      "\n",
      "See the caveats in the documentation: http://pandas.pydata.org/pandas-docs/stable/indexing.html#indexing-view-versus-copy\n",
      "2018-11-20 19:13:22,380 - allfeatures_extract_labels - INFO - ...Labels extracted from Dataset...\n",
      "2018-11-20 19:13:25,343 - allfeatures_drop_cols - INFO - ...Columns Excluded from dataset...\n",
      "2018-11-20 19:13:25,401 - allfeatures_extract_labels - INFO - ...Labels extracted from Dataset...\n"
     ]
    },
    {
     "name": "stdout",
     "output_type": "stream",
     "text": [
      "Records for valid Set - Number of rows: 11812\n"
     ]
    },
    {
     "name": "stderr",
     "output_type": "stream",
     "text": [
      "2018-11-20 19:13:25,714 - allfeatures_drop_cols - INFO - ...Columns Excluded from dataset...\n",
      "2018-11-20 19:13:25,770 - allfeatures_extract_labels - INFO - ...Labels extracted from Dataset...\n"
     ]
    },
    {
     "name": "stdout",
     "output_type": "stream",
     "text": [
      "Records for test Set - Number of rows: 31181\n",
      "chunk:  40  chunk size:  500000\n"
     ]
    },
    {
     "name": "stderr",
     "output_type": "stream",
     "text": [
      "2018-11-20 19:13:40,810 - drop_invalid_delinquency_status - INFO - invalid_delinquency_status dropped\n",
      "2018-11-20 19:13:45,203 - drop_invalid_delinquency_status - INFO - dropping invalid transitions and delinquency status, fill nan values, drop duplicates\n",
      "C:\\Users\\sandr\\AppData\\Local\\conda\\conda\\envs\\tensorflowenvironment\\lib\\site-packages\\ipykernel_launcher.py:36: SettingWithCopyWarning: \n",
      "A value is trying to be set on a copy of a slice from a DataFrame\n",
      "\n",
      "See the caveats in the documentation: http://pandas.pydata.org/pandas-docs/stable/indexing.html#indexing-view-versus-copy\n",
      "2018-11-20 19:13:57,092 - allfeatures_drop_cols - INFO - ...Columns Excluded from dataset...\n",
      "2018-11-20 19:13:57,457 - allfeatures_drop_cols - INFO - ...Columns Excluded from dataset...\n",
      "2018-11-20 19:13:57,774 - allfeatures_drop_cols - INFO - ...Columns Excluded from dataset...\n",
      "C:\\Users\\sandr\\AppData\\Local\\conda\\conda\\envs\\tensorflowenvironment\\lib\\site-packages\\ipykernel_launcher.py:16: SettingWithCopyWarning: \n",
      "A value is trying to be set on a copy of a slice from a DataFrame.\n",
      "Try using .loc[row_indexer,col_indexer] = value instead\n",
      "\n",
      "See the caveats in the documentation: http://pandas.pydata.org/pandas-docs/stable/indexing.html#indexing-view-versus-copy\n",
      "  app.launch_new_instance()\n"
     ]
    },
    {
     "name": "stdout",
     "output_type": "stream",
     "text": [
      "STANDARD DEV zero:  []\n",
      "Records for train Set - Number of rows: 355592\n"
     ]
    },
    {
     "name": "stderr",
     "output_type": "stream",
     "text": [
      "C:\\Users\\sandr\\AppData\\Local\\conda\\conda\\envs\\tensorflowenvironment\\lib\\site-packages\\ipykernel_launcher.py:10: SettingWithCopyWarning: \n",
      "A value is trying to be set on a copy of a slice from a DataFrame\n",
      "\n",
      "See the caveats in the documentation: http://pandas.pydata.org/pandas-docs/stable/indexing.html#indexing-view-versus-copy\n",
      "  # Remove the CWD from sys.path while we load stuff.\n",
      "2018-11-20 19:14:57,880 - allfeatures_drop_cols - INFO - ...Columns Excluded from dataset...\n",
      "C:\\Users\\sandr\\AppData\\Local\\conda\\conda\\envs\\tensorflowenvironment\\lib\\site-packages\\ipykernel_launcher.py:18: SettingWithCopyWarning: \n",
      "A value is trying to be set on a copy of a slice from a DataFrame\n",
      "\n",
      "See the caveats in the documentation: http://pandas.pydata.org/pandas-docs/stable/indexing.html#indexing-view-versus-copy\n",
      "2018-11-20 19:14:58,134 - allfeatures_extract_labels - INFO - ...Labels extracted from Dataset...\n",
      "2018-11-20 19:15:01,010 - allfeatures_drop_cols - INFO - ...Columns Excluded from dataset...\n",
      "2018-11-20 19:15:01,070 - allfeatures_extract_labels - INFO - ...Labels extracted from Dataset...\n"
     ]
    },
    {
     "name": "stdout",
     "output_type": "stream",
     "text": [
      "Records for valid Set - Number of rows: 12361\n"
     ]
    },
    {
     "name": "stderr",
     "output_type": "stream",
     "text": [
      "2018-11-20 19:15:01,394 - allfeatures_drop_cols - INFO - ...Columns Excluded from dataset...\n",
      "2018-11-20 19:15:01,452 - allfeatures_extract_labels - INFO - ...Labels extracted from Dataset...\n"
     ]
    },
    {
     "name": "stdout",
     "output_type": "stream",
     "text": [
      "Records for test Set - Number of rows: 26880\n",
      "chunk:  41  chunk size:  500000\n"
     ]
    },
    {
     "name": "stderr",
     "output_type": "stream",
     "text": [
      "2018-11-20 19:15:16,774 - drop_invalid_delinquency_status - INFO - invalid_delinquency_status dropped\n",
      "2018-11-20 19:15:21,050 - drop_invalid_delinquency_status - INFO - dropping invalid transitions and delinquency status, fill nan values, drop duplicates\n",
      "C:\\Users\\sandr\\AppData\\Local\\conda\\conda\\envs\\tensorflowenvironment\\lib\\site-packages\\ipykernel_launcher.py:36: SettingWithCopyWarning: \n",
      "A value is trying to be set on a copy of a slice from a DataFrame\n",
      "\n",
      "See the caveats in the documentation: http://pandas.pydata.org/pandas-docs/stable/indexing.html#indexing-view-versus-copy\n",
      "2018-11-20 19:15:33,061 - allfeatures_drop_cols - INFO - ...Columns Excluded from dataset...\n",
      "2018-11-20 19:15:33,420 - allfeatures_drop_cols - INFO - ...Columns Excluded from dataset...\n",
      "2018-11-20 19:15:33,718 - allfeatures_drop_cols - INFO - ...Columns Excluded from dataset...\n",
      "C:\\Users\\sandr\\AppData\\Local\\conda\\conda\\envs\\tensorflowenvironment\\lib\\site-packages\\ipykernel_launcher.py:16: SettingWithCopyWarning: \n",
      "A value is trying to be set on a copy of a slice from a DataFrame.\n",
      "Try using .loc[row_indexer,col_indexer] = value instead\n",
      "\n",
      "See the caveats in the documentation: http://pandas.pydata.org/pandas-docs/stable/indexing.html#indexing-view-versus-copy\n",
      "  app.launch_new_instance()\n"
     ]
    },
    {
     "name": "stdout",
     "output_type": "stream",
     "text": [
      "STANDARD DEV zero:  []\n",
      "Records for train Set - Number of rows: 356378\n"
     ]
    },
    {
     "name": "stderr",
     "output_type": "stream",
     "text": [
      "C:\\Users\\sandr\\AppData\\Local\\conda\\conda\\envs\\tensorflowenvironment\\lib\\site-packages\\ipykernel_launcher.py:10: SettingWithCopyWarning: \n",
      "A value is trying to be set on a copy of a slice from a DataFrame\n",
      "\n",
      "See the caveats in the documentation: http://pandas.pydata.org/pandas-docs/stable/indexing.html#indexing-view-versus-copy\n",
      "  # Remove the CWD from sys.path while we load stuff.\n",
      "2018-11-20 19:16:33,468 - allfeatures_drop_cols - INFO - ...Columns Excluded from dataset...\n",
      "C:\\Users\\sandr\\AppData\\Local\\conda\\conda\\envs\\tensorflowenvironment\\lib\\site-packages\\ipykernel_launcher.py:18: SettingWithCopyWarning: \n",
      "A value is trying to be set on a copy of a slice from a DataFrame\n",
      "\n",
      "See the caveats in the documentation: http://pandas.pydata.org/pandas-docs/stable/indexing.html#indexing-view-versus-copy\n",
      "2018-11-20 19:16:33,732 - allfeatures_extract_labels - INFO - ...Labels extracted from Dataset...\n",
      "2018-11-20 19:16:36,647 - allfeatures_drop_cols - INFO - ...Columns Excluded from dataset...\n",
      "2018-11-20 19:16:36,701 - allfeatures_extract_labels - INFO - ...Labels extracted from Dataset...\n"
     ]
    },
    {
     "name": "stdout",
     "output_type": "stream",
     "text": [
      "Records for valid Set - Number of rows: 12804\n"
     ]
    },
    {
     "name": "stderr",
     "output_type": "stream",
     "text": [
      "2018-11-20 19:16:37,046 - allfeatures_drop_cols - INFO - ...Columns Excluded from dataset...\n",
      "2018-11-20 19:16:37,106 - allfeatures_extract_labels - INFO - ...Labels extracted from Dataset...\n"
     ]
    },
    {
     "name": "stdout",
     "output_type": "stream",
     "text": [
      "Records for test Set - Number of rows: 24016\n",
      "chunk:  42  chunk size:  500000\n"
     ]
    },
    {
     "name": "stderr",
     "output_type": "stream",
     "text": [
      "2018-11-20 19:16:52,186 - drop_invalid_delinquency_status - INFO - invalid_delinquency_status dropped\n",
      "2018-11-20 19:16:56,608 - drop_invalid_delinquency_status - INFO - dropping invalid transitions and delinquency status, fill nan values, drop duplicates\n",
      "C:\\Users\\sandr\\AppData\\Local\\conda\\conda\\envs\\tensorflowenvironment\\lib\\site-packages\\ipykernel_launcher.py:36: SettingWithCopyWarning: \n",
      "A value is trying to be set on a copy of a slice from a DataFrame\n",
      "\n",
      "See the caveats in the documentation: http://pandas.pydata.org/pandas-docs/stable/indexing.html#indexing-view-versus-copy\n",
      "2018-11-20 19:17:08,466 - allfeatures_drop_cols - INFO - ...Columns Excluded from dataset...\n",
      "2018-11-20 19:17:08,829 - allfeatures_drop_cols - INFO - ...Columns Excluded from dataset...\n",
      "2018-11-20 19:17:09,129 - allfeatures_drop_cols - INFO - ...Columns Excluded from dataset...\n",
      "C:\\Users\\sandr\\AppData\\Local\\conda\\conda\\envs\\tensorflowenvironment\\lib\\site-packages\\ipykernel_launcher.py:16: SettingWithCopyWarning: \n",
      "A value is trying to be set on a copy of a slice from a DataFrame.\n",
      "Try using .loc[row_indexer,col_indexer] = value instead\n",
      "\n",
      "See the caveats in the documentation: http://pandas.pydata.org/pandas-docs/stable/indexing.html#indexing-view-versus-copy\n",
      "  app.launch_new_instance()\n"
     ]
    },
    {
     "name": "stdout",
     "output_type": "stream",
     "text": [
      "STANDARD DEV zero:  []\n",
      "Records for train Set - Number of rows: 356996\n"
     ]
    },
    {
     "name": "stderr",
     "output_type": "stream",
     "text": [
      "C:\\Users\\sandr\\AppData\\Local\\conda\\conda\\envs\\tensorflowenvironment\\lib\\site-packages\\ipykernel_launcher.py:10: SettingWithCopyWarning: \n",
      "A value is trying to be set on a copy of a slice from a DataFrame\n",
      "\n",
      "See the caveats in the documentation: http://pandas.pydata.org/pandas-docs/stable/indexing.html#indexing-view-versus-copy\n",
      "  # Remove the CWD from sys.path while we load stuff.\n",
      "2018-11-20 19:18:08,868 - allfeatures_drop_cols - INFO - ...Columns Excluded from dataset...\n",
      "C:\\Users\\sandr\\AppData\\Local\\conda\\conda\\envs\\tensorflowenvironment\\lib\\site-packages\\ipykernel_launcher.py:18: SettingWithCopyWarning: \n",
      "A value is trying to be set on a copy of a slice from a DataFrame\n",
      "\n",
      "See the caveats in the documentation: http://pandas.pydata.org/pandas-docs/stable/indexing.html#indexing-view-versus-copy\n",
      "2018-11-20 19:18:09,130 - allfeatures_extract_labels - INFO - ...Labels extracted from Dataset...\n",
      "2018-11-20 19:18:12,156 - allfeatures_drop_cols - INFO - ...Columns Excluded from dataset...\n",
      "2018-11-20 19:18:12,216 - allfeatures_extract_labels - INFO - ...Labels extracted from Dataset...\n"
     ]
    },
    {
     "name": "stdout",
     "output_type": "stream",
     "text": [
      "Records for valid Set - Number of rows: 12635\n"
     ]
    },
    {
     "name": "stderr",
     "output_type": "stream",
     "text": [
      "2018-11-20 19:18:12,566 - allfeatures_drop_cols - INFO - ...Columns Excluded from dataset...\n",
      "2018-11-20 19:18:12,625 - allfeatures_extract_labels - INFO - ...Labels extracted from Dataset...\n"
     ]
    },
    {
     "name": "stdout",
     "output_type": "stream",
     "text": [
      "Records for test Set - Number of rows: 23695\n",
      "chunk:  43  chunk size:  500000\n"
     ]
    },
    {
     "name": "stderr",
     "output_type": "stream",
     "text": [
      "2018-11-20 19:18:29,186 - drop_invalid_delinquency_status - INFO - invalid_delinquency_status dropped\n",
      "2018-11-20 19:18:33,468 - drop_invalid_delinquency_status - INFO - dropping invalid transitions and delinquency status, fill nan values, drop duplicates\n",
      "C:\\Users\\sandr\\AppData\\Local\\conda\\conda\\envs\\tensorflowenvironment\\lib\\site-packages\\ipykernel_launcher.py:36: SettingWithCopyWarning: \n",
      "A value is trying to be set on a copy of a slice from a DataFrame\n",
      "\n",
      "See the caveats in the documentation: http://pandas.pydata.org/pandas-docs/stable/indexing.html#indexing-view-versus-copy\n",
      "2018-11-20 19:18:44,967 - allfeatures_drop_cols - INFO - ...Columns Excluded from dataset...\n",
      "2018-11-20 19:18:45,315 - allfeatures_drop_cols - INFO - ...Columns Excluded from dataset...\n",
      "2018-11-20 19:18:45,653 - allfeatures_drop_cols - INFO - ...Columns Excluded from dataset...\n",
      "C:\\Users\\sandr\\AppData\\Local\\conda\\conda\\envs\\tensorflowenvironment\\lib\\site-packages\\ipykernel_launcher.py:16: SettingWithCopyWarning: \n",
      "A value is trying to be set on a copy of a slice from a DataFrame.\n",
      "Try using .loc[row_indexer,col_indexer] = value instead\n",
      "\n",
      "See the caveats in the documentation: http://pandas.pydata.org/pandas-docs/stable/indexing.html#indexing-view-versus-copy\n",
      "  app.launch_new_instance()\n"
     ]
    },
    {
     "name": "stdout",
     "output_type": "stream",
     "text": [
      "STANDARD DEV zero:  []\n",
      "Records for train Set - Number of rows: 351537\n"
     ]
    },
    {
     "name": "stderr",
     "output_type": "stream",
     "text": [
      "C:\\Users\\sandr\\AppData\\Local\\conda\\conda\\envs\\tensorflowenvironment\\lib\\site-packages\\ipykernel_launcher.py:10: SettingWithCopyWarning: \n",
      "A value is trying to be set on a copy of a slice from a DataFrame\n",
      "\n",
      "See the caveats in the documentation: http://pandas.pydata.org/pandas-docs/stable/indexing.html#indexing-view-versus-copy\n",
      "  # Remove the CWD from sys.path while we load stuff.\n",
      "2018-11-20 19:19:43,485 - allfeatures_drop_cols - INFO - ...Columns Excluded from dataset...\n",
      "C:\\Users\\sandr\\AppData\\Local\\conda\\conda\\envs\\tensorflowenvironment\\lib\\site-packages\\ipykernel_launcher.py:18: SettingWithCopyWarning: \n",
      "A value is trying to be set on a copy of a slice from a DataFrame\n",
      "\n",
      "See the caveats in the documentation: http://pandas.pydata.org/pandas-docs/stable/indexing.html#indexing-view-versus-copy\n",
      "2018-11-20 19:19:43,736 - allfeatures_extract_labels - INFO - ...Labels extracted from Dataset...\n",
      "2018-11-20 19:19:46,662 - allfeatures_drop_cols - INFO - ...Columns Excluded from dataset...\n",
      "2018-11-20 19:19:46,722 - allfeatures_extract_labels - INFO - ...Labels extracted from Dataset...\n"
     ]
    },
    {
     "name": "stdout",
     "output_type": "stream",
     "text": [
      "Records for valid Set - Number of rows: 12609\n"
     ]
    },
    {
     "name": "stderr",
     "output_type": "stream",
     "text": [
      "2018-11-20 19:19:47,106 - allfeatures_drop_cols - INFO - ...Columns Excluded from dataset...\n",
      "2018-11-20 19:19:47,162 - allfeatures_extract_labels - INFO - ...Labels extracted from Dataset...\n"
     ]
    },
    {
     "name": "stdout",
     "output_type": "stream",
     "text": [
      "Records for test Set - Number of rows: 23765\n",
      "chunk:  44  chunk size:  500000\n"
     ]
    },
    {
     "name": "stderr",
     "output_type": "stream",
     "text": [
      "2018-11-20 19:20:02,262 - drop_invalid_delinquency_status - INFO - invalid_delinquency_status dropped\n",
      "2018-11-20 19:20:06,518 - drop_invalid_delinquency_status - INFO - dropping invalid transitions and delinquency status, fill nan values, drop duplicates\n",
      "C:\\Users\\sandr\\AppData\\Local\\conda\\conda\\envs\\tensorflowenvironment\\lib\\site-packages\\ipykernel_launcher.py:36: SettingWithCopyWarning: \n",
      "A value is trying to be set on a copy of a slice from a DataFrame\n",
      "\n",
      "See the caveats in the documentation: http://pandas.pydata.org/pandas-docs/stable/indexing.html#indexing-view-versus-copy\n",
      "2018-11-20 19:20:18,302 - allfeatures_drop_cols - INFO - ...Columns Excluded from dataset...\n",
      "2018-11-20 19:20:18,655 - allfeatures_drop_cols - INFO - ...Columns Excluded from dataset...\n",
      "2018-11-20 19:20:18,979 - allfeatures_drop_cols - INFO - ...Columns Excluded from dataset...\n",
      "C:\\Users\\sandr\\AppData\\Local\\conda\\conda\\envs\\tensorflowenvironment\\lib\\site-packages\\ipykernel_launcher.py:16: SettingWithCopyWarning: \n",
      "A value is trying to be set on a copy of a slice from a DataFrame.\n",
      "Try using .loc[row_indexer,col_indexer] = value instead\n",
      "\n",
      "See the caveats in the documentation: http://pandas.pydata.org/pandas-docs/stable/indexing.html#indexing-view-versus-copy\n",
      "  app.launch_new_instance()\n"
     ]
    },
    {
     "name": "stdout",
     "output_type": "stream",
     "text": [
      "STANDARD DEV zero:  []\n",
      "Records for train Set - Number of rows: 383022\n"
     ]
    },
    {
     "name": "stderr",
     "output_type": "stream",
     "text": [
      "C:\\Users\\sandr\\AppData\\Local\\conda\\conda\\envs\\tensorflowenvironment\\lib\\site-packages\\ipykernel_launcher.py:10: SettingWithCopyWarning: \n",
      "A value is trying to be set on a copy of a slice from a DataFrame\n",
      "\n",
      "See the caveats in the documentation: http://pandas.pydata.org/pandas-docs/stable/indexing.html#indexing-view-versus-copy\n",
      "  # Remove the CWD from sys.path while we load stuff.\n",
      "2018-11-20 19:21:18,851 - allfeatures_drop_cols - INFO - ...Columns Excluded from dataset...\n",
      "C:\\Users\\sandr\\AppData\\Local\\conda\\conda\\envs\\tensorflowenvironment\\lib\\site-packages\\ipykernel_launcher.py:18: SettingWithCopyWarning: \n",
      "A value is trying to be set on a copy of a slice from a DataFrame\n",
      "\n",
      "See the caveats in the documentation: http://pandas.pydata.org/pandas-docs/stable/indexing.html#indexing-view-versus-copy\n",
      "2018-11-20 19:21:19,122 - allfeatures_extract_labels - INFO - ...Labels extracted from Dataset...\n",
      "2018-11-20 19:21:22,004 - allfeatures_drop_cols - INFO - ...Columns Excluded from dataset...\n",
      "2018-11-20 19:21:22,064 - allfeatures_extract_labels - INFO - ...Labels extracted from Dataset...\n"
     ]
    },
    {
     "name": "stdout",
     "output_type": "stream",
     "text": [
      "Records for valid Set - Number of rows: 14778\n"
     ]
    },
    {
     "name": "stderr",
     "output_type": "stream",
     "text": [
      "2018-11-20 19:21:22,512 - allfeatures_drop_cols - INFO - ...Columns Excluded from dataset...\n",
      "2018-11-20 19:21:22,575 - allfeatures_extract_labels - INFO - ...Labels extracted from Dataset...\n"
     ]
    },
    {
     "name": "stdout",
     "output_type": "stream",
     "text": [
      "Records for test Set - Number of rows: 27974\n",
      "chunk:  45  chunk size:  500000\n"
     ]
    },
    {
     "name": "stderr",
     "output_type": "stream",
     "text": [
      "2018-11-20 19:21:38,912 - drop_invalid_delinquency_status - INFO - invalid_delinquency_status dropped\n",
      "2018-11-20 19:21:43,079 - drop_invalid_delinquency_status - INFO - dropping invalid transitions and delinquency status, fill nan values, drop duplicates\n",
      "C:\\Users\\sandr\\AppData\\Local\\conda\\conda\\envs\\tensorflowenvironment\\lib\\site-packages\\ipykernel_launcher.py:36: SettingWithCopyWarning: \n",
      "A value is trying to be set on a copy of a slice from a DataFrame\n",
      "\n",
      "See the caveats in the documentation: http://pandas.pydata.org/pandas-docs/stable/indexing.html#indexing-view-versus-copy\n",
      "2018-11-20 19:21:54,776 - allfeatures_drop_cols - INFO - ...Columns Excluded from dataset...\n",
      "2018-11-20 19:21:55,125 - allfeatures_drop_cols - INFO - ...Columns Excluded from dataset...\n",
      "2018-11-20 19:21:55,416 - allfeatures_drop_cols - INFO - ...Columns Excluded from dataset...\n",
      "C:\\Users\\sandr\\AppData\\Local\\conda\\conda\\envs\\tensorflowenvironment\\lib\\site-packages\\ipykernel_launcher.py:16: SettingWithCopyWarning: \n",
      "A value is trying to be set on a copy of a slice from a DataFrame.\n",
      "Try using .loc[row_indexer,col_indexer] = value instead\n",
      "\n",
      "See the caveats in the documentation: http://pandas.pydata.org/pandas-docs/stable/indexing.html#indexing-view-versus-copy\n",
      "  app.launch_new_instance()\n"
     ]
    },
    {
     "name": "stdout",
     "output_type": "stream",
     "text": [
      "STANDARD DEV zero:  []\n",
      "Records for train Set - Number of rows: 374329\n"
     ]
    },
    {
     "name": "stderr",
     "output_type": "stream",
     "text": [
      "C:\\Users\\sandr\\AppData\\Local\\conda\\conda\\envs\\tensorflowenvironment\\lib\\site-packages\\ipykernel_launcher.py:10: SettingWithCopyWarning: \n",
      "A value is trying to be set on a copy of a slice from a DataFrame\n",
      "\n",
      "See the caveats in the documentation: http://pandas.pydata.org/pandas-docs/stable/indexing.html#indexing-view-versus-copy\n",
      "  # Remove the CWD from sys.path while we load stuff.\n",
      "2018-11-20 19:22:54,362 - allfeatures_drop_cols - INFO - ...Columns Excluded from dataset...\n",
      "C:\\Users\\sandr\\AppData\\Local\\conda\\conda\\envs\\tensorflowenvironment\\lib\\site-packages\\ipykernel_launcher.py:18: SettingWithCopyWarning: \n",
      "A value is trying to be set on a copy of a slice from a DataFrame\n",
      "\n",
      "See the caveats in the documentation: http://pandas.pydata.org/pandas-docs/stable/indexing.html#indexing-view-versus-copy\n",
      "2018-11-20 19:22:54,622 - allfeatures_extract_labels - INFO - ...Labels extracted from Dataset...\n",
      "2018-11-20 19:22:57,827 - allfeatures_drop_cols - INFO - ...Columns Excluded from dataset...\n",
      "2018-11-20 19:22:57,888 - allfeatures_extract_labels - INFO - ...Labels extracted from Dataset...\n"
     ]
    },
    {
     "name": "stdout",
     "output_type": "stream",
     "text": [
      "Records for valid Set - Number of rows: 15317\n"
     ]
    },
    {
     "name": "stderr",
     "output_type": "stream",
     "text": [
      "2018-11-20 19:22:58,145 - allfeatures_drop_cols - INFO - ...Columns Excluded from dataset...\n",
      "2018-11-20 19:22:58,207 - allfeatures_extract_labels - INFO - ...Labels extracted from Dataset...\n"
     ]
    },
    {
     "name": "stdout",
     "output_type": "stream",
     "text": [
      "Records for test Set - Number of rows: 28886\n",
      "chunk:  46  chunk size:  500000\n"
     ]
    },
    {
     "name": "stderr",
     "output_type": "stream",
     "text": [
      "2018-11-20 19:23:12,912 - drop_invalid_delinquency_status - INFO - invalid_delinquency_status dropped\n",
      "2018-11-20 19:23:17,185 - drop_invalid_delinquency_status - INFO - dropping invalid transitions and delinquency status, fill nan values, drop duplicates\n",
      "C:\\Users\\sandr\\AppData\\Local\\conda\\conda\\envs\\tensorflowenvironment\\lib\\site-packages\\ipykernel_launcher.py:36: SettingWithCopyWarning: \n",
      "A value is trying to be set on a copy of a slice from a DataFrame\n",
      "\n",
      "See the caveats in the documentation: http://pandas.pydata.org/pandas-docs/stable/indexing.html#indexing-view-versus-copy\n",
      "2018-11-20 19:23:29,485 - allfeatures_drop_cols - INFO - ...Columns Excluded from dataset...\n",
      "2018-11-20 19:23:29,849 - allfeatures_drop_cols - INFO - ...Columns Excluded from dataset...\n",
      "2018-11-20 19:23:30,145 - allfeatures_drop_cols - INFO - ...Columns Excluded from dataset...\n",
      "C:\\Users\\sandr\\AppData\\Local\\conda\\conda\\envs\\tensorflowenvironment\\lib\\site-packages\\ipykernel_launcher.py:16: SettingWithCopyWarning: \n",
      "A value is trying to be set on a copy of a slice from a DataFrame.\n",
      "Try using .loc[row_indexer,col_indexer] = value instead\n",
      "\n",
      "See the caveats in the documentation: http://pandas.pydata.org/pandas-docs/stable/indexing.html#indexing-view-versus-copy\n",
      "  app.launch_new_instance()\n"
     ]
    },
    {
     "name": "stdout",
     "output_type": "stream",
     "text": [
      "STANDARD DEV zero:  []\n",
      "Records for train Set - Number of rows: 380854\n"
     ]
    },
    {
     "name": "stderr",
     "output_type": "stream",
     "text": [
      "C:\\Users\\sandr\\AppData\\Local\\conda\\conda\\envs\\tensorflowenvironment\\lib\\site-packages\\ipykernel_launcher.py:10: SettingWithCopyWarning: \n",
      "A value is trying to be set on a copy of a slice from a DataFrame\n",
      "\n",
      "See the caveats in the documentation: http://pandas.pydata.org/pandas-docs/stable/indexing.html#indexing-view-versus-copy\n",
      "  # Remove the CWD from sys.path while we load stuff.\n",
      "2018-11-20 19:24:30,068 - allfeatures_drop_cols - INFO - ...Columns Excluded from dataset...\n",
      "C:\\Users\\sandr\\AppData\\Local\\conda\\conda\\envs\\tensorflowenvironment\\lib\\site-packages\\ipykernel_launcher.py:18: SettingWithCopyWarning: \n",
      "A value is trying to be set on a copy of a slice from a DataFrame\n",
      "\n",
      "See the caveats in the documentation: http://pandas.pydata.org/pandas-docs/stable/indexing.html#indexing-view-versus-copy\n",
      "2018-11-20 19:24:30,335 - allfeatures_extract_labels - INFO - ...Labels extracted from Dataset...\n",
      "2018-11-20 19:24:33,678 - allfeatures_drop_cols - INFO - ...Columns Excluded from dataset...\n",
      "2018-11-20 19:24:33,738 - allfeatures_extract_labels - INFO - ...Labels extracted from Dataset...\n"
     ]
    },
    {
     "name": "stdout",
     "output_type": "stream",
     "text": [
      "Records for valid Set - Number of rows: 15508\n"
     ]
    },
    {
     "name": "stderr",
     "output_type": "stream",
     "text": [
      "2018-11-20 19:24:34,015 - allfeatures_drop_cols - INFO - ...Columns Excluded from dataset...\n",
      "2018-11-20 19:24:34,075 - allfeatures_extract_labels - INFO - ...Labels extracted from Dataset...\n"
     ]
    },
    {
     "name": "stdout",
     "output_type": "stream",
     "text": [
      "Records for test Set - Number of rows: 28977\n",
      "chunk:  47  chunk size:  500000\n"
     ]
    },
    {
     "name": "stderr",
     "output_type": "stream",
     "text": [
      "2018-11-20 19:24:49,395 - drop_invalid_delinquency_status - INFO - invalid_delinquency_status dropped\n",
      "2018-11-20 19:24:53,758 - drop_invalid_delinquency_status - INFO - dropping invalid transitions and delinquency status, fill nan values, drop duplicates\n",
      "C:\\Users\\sandr\\AppData\\Local\\conda\\conda\\envs\\tensorflowenvironment\\lib\\site-packages\\ipykernel_launcher.py:36: SettingWithCopyWarning: \n",
      "A value is trying to be set on a copy of a slice from a DataFrame\n",
      "\n",
      "See the caveats in the documentation: http://pandas.pydata.org/pandas-docs/stable/indexing.html#indexing-view-versus-copy\n",
      "2018-11-20 19:25:05,707 - allfeatures_drop_cols - INFO - ...Columns Excluded from dataset...\n",
      "2018-11-20 19:25:06,065 - allfeatures_drop_cols - INFO - ...Columns Excluded from dataset...\n",
      "2018-11-20 19:25:06,359 - allfeatures_drop_cols - INFO - ...Columns Excluded from dataset...\n",
      "C:\\Users\\sandr\\AppData\\Local\\conda\\conda\\envs\\tensorflowenvironment\\lib\\site-packages\\ipykernel_launcher.py:16: SettingWithCopyWarning: \n",
      "A value is trying to be set on a copy of a slice from a DataFrame.\n",
      "Try using .loc[row_indexer,col_indexer] = value instead\n",
      "\n",
      "See the caveats in the documentation: http://pandas.pydata.org/pandas-docs/stable/indexing.html#indexing-view-versus-copy\n",
      "  app.launch_new_instance()\n"
     ]
    },
    {
     "name": "stdout",
     "output_type": "stream",
     "text": [
      "STANDARD DEV zero:  []\n",
      "Records for train Set - Number of rows: 381760\n"
     ]
    },
    {
     "name": "stderr",
     "output_type": "stream",
     "text": [
      "C:\\Users\\sandr\\AppData\\Local\\conda\\conda\\envs\\tensorflowenvironment\\lib\\site-packages\\ipykernel_launcher.py:10: SettingWithCopyWarning: \n",
      "A value is trying to be set on a copy of a slice from a DataFrame\n",
      "\n",
      "See the caveats in the documentation: http://pandas.pydata.org/pandas-docs/stable/indexing.html#indexing-view-versus-copy\n",
      "  # Remove the CWD from sys.path while we load stuff.\n",
      "2018-11-20 19:26:06,094 - allfeatures_drop_cols - INFO - ...Columns Excluded from dataset...\n",
      "C:\\Users\\sandr\\AppData\\Local\\conda\\conda\\envs\\tensorflowenvironment\\lib\\site-packages\\ipykernel_launcher.py:18: SettingWithCopyWarning: \n",
      "A value is trying to be set on a copy of a slice from a DataFrame\n",
      "\n",
      "See the caveats in the documentation: http://pandas.pydata.org/pandas-docs/stable/indexing.html#indexing-view-versus-copy\n",
      "2018-11-20 19:26:06,359 - allfeatures_extract_labels - INFO - ...Labels extracted from Dataset...\n",
      "2018-11-20 19:26:09,498 - allfeatures_drop_cols - INFO - ...Columns Excluded from dataset...\n",
      "2018-11-20 19:26:09,559 - allfeatures_extract_labels - INFO - ...Labels extracted from Dataset...\n"
     ]
    },
    {
     "name": "stdout",
     "output_type": "stream",
     "text": [
      "Records for valid Set - Number of rows: 15762\n"
     ]
    },
    {
     "name": "stderr",
     "output_type": "stream",
     "text": [
      "2018-11-20 19:26:09,859 - allfeatures_drop_cols - INFO - ...Columns Excluded from dataset...\n",
      "2018-11-20 19:26:09,918 - allfeatures_extract_labels - INFO - ...Labels extracted from Dataset...\n"
     ]
    },
    {
     "name": "stdout",
     "output_type": "stream",
     "text": [
      "Records for test Set - Number of rows: 29365\n",
      "chunk:  48  chunk size:  500000\n"
     ]
    },
    {
     "name": "stderr",
     "output_type": "stream",
     "text": [
      "2018-11-20 19:26:24,984 - drop_invalid_delinquency_status - INFO - invalid_delinquency_status dropped\n",
      "2018-11-20 19:26:29,237 - drop_invalid_delinquency_status - INFO - dropping invalid transitions and delinquency status, fill nan values, drop duplicates\n",
      "C:\\Users\\sandr\\AppData\\Local\\conda\\conda\\envs\\tensorflowenvironment\\lib\\site-packages\\ipykernel_launcher.py:36: SettingWithCopyWarning: \n",
      "A value is trying to be set on a copy of a slice from a DataFrame\n",
      "\n",
      "See the caveats in the documentation: http://pandas.pydata.org/pandas-docs/stable/indexing.html#indexing-view-versus-copy\n",
      "2018-11-20 19:26:41,174 - allfeatures_drop_cols - INFO - ...Columns Excluded from dataset...\n",
      "2018-11-20 19:26:41,538 - allfeatures_drop_cols - INFO - ...Columns Excluded from dataset...\n",
      "2018-11-20 19:26:41,833 - allfeatures_drop_cols - INFO - ...Columns Excluded from dataset...\n",
      "C:\\Users\\sandr\\AppData\\Local\\conda\\conda\\envs\\tensorflowenvironment\\lib\\site-packages\\ipykernel_launcher.py:16: SettingWithCopyWarning: \n",
      "A value is trying to be set on a copy of a slice from a DataFrame.\n",
      "Try using .loc[row_indexer,col_indexer] = value instead\n",
      "\n",
      "See the caveats in the documentation: http://pandas.pydata.org/pandas-docs/stable/indexing.html#indexing-view-versus-copy\n",
      "  app.launch_new_instance()\n"
     ]
    },
    {
     "name": "stdout",
     "output_type": "stream",
     "text": [
      "STANDARD DEV zero:  []\n",
      "Records for train Set - Number of rows: 381954\n"
     ]
    },
    {
     "name": "stderr",
     "output_type": "stream",
     "text": [
      "C:\\Users\\sandr\\AppData\\Local\\conda\\conda\\envs\\tensorflowenvironment\\lib\\site-packages\\ipykernel_launcher.py:10: SettingWithCopyWarning: \n",
      "A value is trying to be set on a copy of a slice from a DataFrame\n",
      "\n",
      "See the caveats in the documentation: http://pandas.pydata.org/pandas-docs/stable/indexing.html#indexing-view-versus-copy\n",
      "  # Remove the CWD from sys.path while we load stuff.\n",
      "2018-11-20 19:27:42,038 - allfeatures_drop_cols - INFO - ...Columns Excluded from dataset...\n",
      "C:\\Users\\sandr\\AppData\\Local\\conda\\conda\\envs\\tensorflowenvironment\\lib\\site-packages\\ipykernel_launcher.py:18: SettingWithCopyWarning: \n",
      "A value is trying to be set on a copy of a slice from a DataFrame\n",
      "\n",
      "See the caveats in the documentation: http://pandas.pydata.org/pandas-docs/stable/indexing.html#indexing-view-versus-copy\n",
      "2018-11-20 19:27:42,304 - allfeatures_extract_labels - INFO - ...Labels extracted from Dataset...\n",
      "2018-11-20 19:27:45,385 - allfeatures_drop_cols - INFO - ...Columns Excluded from dataset...\n",
      "2018-11-20 19:27:45,454 - allfeatures_extract_labels - INFO - ...Labels extracted from Dataset...\n"
     ]
    },
    {
     "name": "stdout",
     "output_type": "stream",
     "text": [
      "Records for valid Set - Number of rows: 15790\n"
     ]
    },
    {
     "name": "stderr",
     "output_type": "stream",
     "text": [
      "2018-11-20 19:27:45,775 - allfeatures_drop_cols - INFO - ...Columns Excluded from dataset...\n",
      "2018-11-20 19:27:45,859 - allfeatures_extract_labels - INFO - ...Labels extracted from Dataset...\n"
     ]
    },
    {
     "name": "stdout",
     "output_type": "stream",
     "text": [
      "Records for test Set - Number of rows: 29439\n",
      "chunk:  49  chunk size:  500000\n"
     ]
    },
    {
     "name": "stderr",
     "output_type": "stream",
     "text": [
      "2018-11-20 19:28:01,296 - drop_invalid_delinquency_status - INFO - invalid_delinquency_status dropped\n",
      "2018-11-20 19:28:05,602 - drop_invalid_delinquency_status - INFO - dropping invalid transitions and delinquency status, fill nan values, drop duplicates\n",
      "C:\\Users\\sandr\\AppData\\Local\\conda\\conda\\envs\\tensorflowenvironment\\lib\\site-packages\\ipykernel_launcher.py:36: SettingWithCopyWarning: \n",
      "A value is trying to be set on a copy of a slice from a DataFrame\n",
      "\n",
      "See the caveats in the documentation: http://pandas.pydata.org/pandas-docs/stable/indexing.html#indexing-view-versus-copy\n",
      "2018-11-20 19:28:17,384 - allfeatures_drop_cols - INFO - ...Columns Excluded from dataset...\n",
      "2018-11-20 19:28:17,751 - allfeatures_drop_cols - INFO - ...Columns Excluded from dataset...\n",
      "2018-11-20 19:28:18,043 - allfeatures_drop_cols - INFO - ...Columns Excluded from dataset...\n",
      "C:\\Users\\sandr\\AppData\\Local\\conda\\conda\\envs\\tensorflowenvironment\\lib\\site-packages\\ipykernel_launcher.py:16: SettingWithCopyWarning: \n",
      "A value is trying to be set on a copy of a slice from a DataFrame.\n",
      "Try using .loc[row_indexer,col_indexer] = value instead\n",
      "\n",
      "See the caveats in the documentation: http://pandas.pydata.org/pandas-docs/stable/indexing.html#indexing-view-versus-copy\n",
      "  app.launch_new_instance()\n"
     ]
    },
    {
     "name": "stdout",
     "output_type": "stream",
     "text": [
      "STANDARD DEV zero:  []\n",
      "Records for train Set - Number of rows: 378129\n"
     ]
    },
    {
     "name": "stderr",
     "output_type": "stream",
     "text": [
      "C:\\Users\\sandr\\AppData\\Local\\conda\\conda\\envs\\tensorflowenvironment\\lib\\site-packages\\ipykernel_launcher.py:10: SettingWithCopyWarning: \n",
      "A value is trying to be set on a copy of a slice from a DataFrame\n",
      "\n",
      "See the caveats in the documentation: http://pandas.pydata.org/pandas-docs/stable/indexing.html#indexing-view-versus-copy\n",
      "  # Remove the CWD from sys.path while we load stuff.\n",
      "2018-11-20 19:29:16,427 - allfeatures_drop_cols - INFO - ...Columns Excluded from dataset...\n",
      "C:\\Users\\sandr\\AppData\\Local\\conda\\conda\\envs\\tensorflowenvironment\\lib\\site-packages\\ipykernel_launcher.py:18: SettingWithCopyWarning: \n",
      "A value is trying to be set on a copy of a slice from a DataFrame\n",
      "\n",
      "See the caveats in the documentation: http://pandas.pydata.org/pandas-docs/stable/indexing.html#indexing-view-versus-copy\n",
      "2018-11-20 19:29:16,692 - allfeatures_extract_labels - INFO - ...Labels extracted from Dataset...\n",
      "2018-11-20 19:29:19,712 - allfeatures_drop_cols - INFO - ...Columns Excluded from dataset...\n",
      "2018-11-20 19:29:19,792 - allfeatures_extract_labels - INFO - ...Labels extracted from Dataset...\n"
     ]
    },
    {
     "name": "stdout",
     "output_type": "stream",
     "text": [
      "Records for valid Set - Number of rows: 14587\n"
     ]
    },
    {
     "name": "stderr",
     "output_type": "stream",
     "text": [
      "2018-11-20 19:29:20,186 - allfeatures_drop_cols - INFO - ...Columns Excluded from dataset...\n",
      "2018-11-20 19:29:20,254 - allfeatures_extract_labels - INFO - ...Labels extracted from Dataset...\n"
     ]
    },
    {
     "name": "stdout",
     "output_type": "stream",
     "text": [
      "Records for test Set - Number of rows: 27644\n",
      "chunk:  50  chunk size:  500000\n"
     ]
    },
    {
     "name": "stderr",
     "output_type": "stream",
     "text": [
      "2018-11-20 19:29:36,414 - drop_invalid_delinquency_status - INFO - invalid_delinquency_status dropped\n",
      "2018-11-20 19:29:40,672 - drop_invalid_delinquency_status - INFO - dropping invalid transitions and delinquency status, fill nan values, drop duplicates\n",
      "C:\\Users\\sandr\\AppData\\Local\\conda\\conda\\envs\\tensorflowenvironment\\lib\\site-packages\\ipykernel_launcher.py:36: SettingWithCopyWarning: \n",
      "A value is trying to be set on a copy of a slice from a DataFrame\n",
      "\n",
      "See the caveats in the documentation: http://pandas.pydata.org/pandas-docs/stable/indexing.html#indexing-view-versus-copy\n",
      "2018-11-20 19:29:52,566 - allfeatures_drop_cols - INFO - ...Columns Excluded from dataset...\n",
      "2018-11-20 19:29:52,922 - allfeatures_drop_cols - INFO - ...Columns Excluded from dataset...\n",
      "2018-11-20 19:29:53,218 - allfeatures_drop_cols - INFO - ...Columns Excluded from dataset...\n",
      "C:\\Users\\sandr\\AppData\\Local\\conda\\conda\\envs\\tensorflowenvironment\\lib\\site-packages\\ipykernel_launcher.py:16: SettingWithCopyWarning: \n",
      "A value is trying to be set on a copy of a slice from a DataFrame.\n",
      "Try using .loc[row_indexer,col_indexer] = value instead\n",
      "\n",
      "See the caveats in the documentation: http://pandas.pydata.org/pandas-docs/stable/indexing.html#indexing-view-versus-copy\n",
      "  app.launch_new_instance()\n"
     ]
    },
    {
     "name": "stdout",
     "output_type": "stream",
     "text": [
      "STANDARD DEV zero:  []\n",
      "Records for train Set - Number of rows: 383883\n"
     ]
    },
    {
     "name": "stderr",
     "output_type": "stream",
     "text": [
      "C:\\Users\\sandr\\AppData\\Local\\conda\\conda\\envs\\tensorflowenvironment\\lib\\site-packages\\ipykernel_launcher.py:10: SettingWithCopyWarning: \n",
      "A value is trying to be set on a copy of a slice from a DataFrame\n",
      "\n",
      "See the caveats in the documentation: http://pandas.pydata.org/pandas-docs/stable/indexing.html#indexing-view-versus-copy\n",
      "  # Remove the CWD from sys.path while we load stuff.\n",
      "2018-11-20 19:30:52,381 - allfeatures_drop_cols - INFO - ...Columns Excluded from dataset...\n",
      "C:\\Users\\sandr\\AppData\\Local\\conda\\conda\\envs\\tensorflowenvironment\\lib\\site-packages\\ipykernel_launcher.py:18: SettingWithCopyWarning: \n",
      "A value is trying to be set on a copy of a slice from a DataFrame\n",
      "\n",
      "See the caveats in the documentation: http://pandas.pydata.org/pandas-docs/stable/indexing.html#indexing-view-versus-copy\n",
      "2018-11-20 19:30:52,675 - allfeatures_extract_labels - INFO - ...Labels extracted from Dataset...\n",
      "2018-11-20 19:30:55,672 - allfeatures_drop_cols - INFO - ...Columns Excluded from dataset...\n",
      "2018-11-20 19:30:55,727 - allfeatures_extract_labels - INFO - ...Labels extracted from Dataset...\n"
     ]
    },
    {
     "name": "stdout",
     "output_type": "stream",
     "text": [
      "Records for valid Set - Number of rows: 13355\n"
     ]
    },
    {
     "name": "stderr",
     "output_type": "stream",
     "text": [
      "2018-11-20 19:30:56,082 - allfeatures_drop_cols - INFO - ...Columns Excluded from dataset...\n",
      "2018-11-20 19:30:56,135 - allfeatures_extract_labels - INFO - ...Labels extracted from Dataset...\n"
     ]
    },
    {
     "name": "stdout",
     "output_type": "stream",
     "text": [
      "Records for test Set - Number of rows: 25172\n",
      "chunk:  51  chunk size:  500000\n"
     ]
    },
    {
     "name": "stderr",
     "output_type": "stream",
     "text": [
      "2018-11-20 19:31:12,272 - drop_invalid_delinquency_status - INFO - invalid_delinquency_status dropped\n",
      "2018-11-20 19:31:16,536 - drop_invalid_delinquency_status - INFO - dropping invalid transitions and delinquency status, fill nan values, drop duplicates\n",
      "C:\\Users\\sandr\\AppData\\Local\\conda\\conda\\envs\\tensorflowenvironment\\lib\\site-packages\\ipykernel_launcher.py:36: SettingWithCopyWarning: \n",
      "A value is trying to be set on a copy of a slice from a DataFrame\n",
      "\n",
      "See the caveats in the documentation: http://pandas.pydata.org/pandas-docs/stable/indexing.html#indexing-view-versus-copy\n",
      "2018-11-20 19:31:28,461 - allfeatures_drop_cols - INFO - ...Columns Excluded from dataset...\n",
      "2018-11-20 19:31:28,807 - allfeatures_drop_cols - INFO - ...Columns Excluded from dataset...\n",
      "2018-11-20 19:31:29,106 - allfeatures_drop_cols - INFO - ...Columns Excluded from dataset...\n",
      "C:\\Users\\sandr\\AppData\\Local\\conda\\conda\\envs\\tensorflowenvironment\\lib\\site-packages\\ipykernel_launcher.py:16: SettingWithCopyWarning: \n",
      "A value is trying to be set on a copy of a slice from a DataFrame.\n",
      "Try using .loc[row_indexer,col_indexer] = value instead\n",
      "\n",
      "See the caveats in the documentation: http://pandas.pydata.org/pandas-docs/stable/indexing.html#indexing-view-versus-copy\n",
      "  app.launch_new_instance()\n"
     ]
    },
    {
     "name": "stdout",
     "output_type": "stream",
     "text": [
      "STANDARD DEV zero:  []\n",
      "Records for train Set - Number of rows: 394284\n"
     ]
    },
    {
     "name": "stderr",
     "output_type": "stream",
     "text": [
      "C:\\Users\\sandr\\AppData\\Local\\conda\\conda\\envs\\tensorflowenvironment\\lib\\site-packages\\ipykernel_launcher.py:10: SettingWithCopyWarning: \n",
      "A value is trying to be set on a copy of a slice from a DataFrame\n",
      "\n",
      "See the caveats in the documentation: http://pandas.pydata.org/pandas-docs/stable/indexing.html#indexing-view-versus-copy\n",
      "  # Remove the CWD from sys.path while we load stuff.\n",
      "2018-11-20 19:32:28,036 - allfeatures_drop_cols - INFO - ...Columns Excluded from dataset...\n",
      "C:\\Users\\sandr\\AppData\\Local\\conda\\conda\\envs\\tensorflowenvironment\\lib\\site-packages\\ipykernel_launcher.py:18: SettingWithCopyWarning: \n",
      "A value is trying to be set on a copy of a slice from a DataFrame\n",
      "\n",
      "See the caveats in the documentation: http://pandas.pydata.org/pandas-docs/stable/indexing.html#indexing-view-versus-copy\n",
      "2018-11-20 19:32:28,326 - allfeatures_extract_labels - INFO - ...Labels extracted from Dataset...\n",
      "2018-11-20 19:32:31,336 - allfeatures_drop_cols - INFO - ...Columns Excluded from dataset...\n",
      "2018-11-20 19:32:31,397 - allfeatures_extract_labels - INFO - ...Labels extracted from Dataset...\n"
     ]
    },
    {
     "name": "stdout",
     "output_type": "stream",
     "text": [
      "Records for valid Set - Number of rows: 11539\n"
     ]
    },
    {
     "name": "stderr",
     "output_type": "stream",
     "text": [
      "2018-11-20 19:32:31,741 - allfeatures_drop_cols - INFO - ...Columns Excluded from dataset...\n",
      "2018-11-20 19:32:31,801 - allfeatures_extract_labels - INFO - ...Labels extracted from Dataset...\n"
     ]
    },
    {
     "name": "stdout",
     "output_type": "stream",
     "text": [
      "Records for test Set - Number of rows: 21449\n",
      "chunk:  52  chunk size:  500000\n"
     ]
    },
    {
     "name": "stderr",
     "output_type": "stream",
     "text": [
      "2018-11-20 19:32:49,366 - drop_invalid_delinquency_status - INFO - invalid_delinquency_status dropped\n",
      "2018-11-20 19:32:53,679 - drop_invalid_delinquency_status - INFO - dropping invalid transitions and delinquency status, fill nan values, drop duplicates\n",
      "C:\\Users\\sandr\\AppData\\Local\\conda\\conda\\envs\\tensorflowenvironment\\lib\\site-packages\\ipykernel_launcher.py:36: SettingWithCopyWarning: \n",
      "A value is trying to be set on a copy of a slice from a DataFrame\n",
      "\n",
      "See the caveats in the documentation: http://pandas.pydata.org/pandas-docs/stable/indexing.html#indexing-view-versus-copy\n",
      "2018-11-20 19:33:05,106 - allfeatures_drop_cols - INFO - ...Columns Excluded from dataset...\n",
      "2018-11-20 19:33:05,446 - allfeatures_drop_cols - INFO - ...Columns Excluded from dataset...\n",
      "2018-11-20 19:33:05,741 - allfeatures_drop_cols - INFO - ...Columns Excluded from dataset...\n",
      "C:\\Users\\sandr\\AppData\\Local\\conda\\conda\\envs\\tensorflowenvironment\\lib\\site-packages\\ipykernel_launcher.py:16: SettingWithCopyWarning: \n",
      "A value is trying to be set on a copy of a slice from a DataFrame.\n",
      "Try using .loc[row_indexer,col_indexer] = value instead\n",
      "\n",
      "See the caveats in the documentation: http://pandas.pydata.org/pandas-docs/stable/indexing.html#indexing-view-versus-copy\n",
      "  app.launch_new_instance()\n"
     ]
    },
    {
     "name": "stdout",
     "output_type": "stream",
     "text": [
      "STANDARD DEV zero:  []\n",
      "Records for train Set - Number of rows: 391290\n"
     ]
    },
    {
     "name": "stderr",
     "output_type": "stream",
     "text": [
      "C:\\Users\\sandr\\AppData\\Local\\conda\\conda\\envs\\tensorflowenvironment\\lib\\site-packages\\ipykernel_launcher.py:10: SettingWithCopyWarning: \n",
      "A value is trying to be set on a copy of a slice from a DataFrame\n",
      "\n",
      "See the caveats in the documentation: http://pandas.pydata.org/pandas-docs/stable/indexing.html#indexing-view-versus-copy\n",
      "  # Remove the CWD from sys.path while we load stuff.\n",
      "2018-11-20 19:34:03,718 - allfeatures_drop_cols - INFO - ...Columns Excluded from dataset...\n",
      "C:\\Users\\sandr\\AppData\\Local\\conda\\conda\\envs\\tensorflowenvironment\\lib\\site-packages\\ipykernel_launcher.py:18: SettingWithCopyWarning: \n",
      "A value is trying to be set on a copy of a slice from a DataFrame\n",
      "\n",
      "See the caveats in the documentation: http://pandas.pydata.org/pandas-docs/stable/indexing.html#indexing-view-versus-copy\n",
      "2018-11-20 19:34:04,000 - allfeatures_extract_labels - INFO - ...Labels extracted from Dataset...\n",
      "2018-11-20 19:34:06,977 - allfeatures_drop_cols - INFO - ...Columns Excluded from dataset...\n",
      "2018-11-20 19:34:07,030 - allfeatures_extract_labels - INFO - ...Labels extracted from Dataset...\n"
     ]
    },
    {
     "name": "stdout",
     "output_type": "stream",
     "text": [
      "Records for valid Set - Number of rows: 10362\n"
     ]
    },
    {
     "name": "stderr",
     "output_type": "stream",
     "text": [
      "2018-11-20 19:34:07,380 - allfeatures_drop_cols - INFO - ...Columns Excluded from dataset...\n",
      "2018-11-20 19:34:07,436 - allfeatures_extract_labels - INFO - ...Labels extracted from Dataset...\n"
     ]
    },
    {
     "name": "stdout",
     "output_type": "stream",
     "text": [
      "Records for test Set - Number of rows: 18981\n",
      "chunk:  53  chunk size:  500000\n"
     ]
    },
    {
     "name": "stderr",
     "output_type": "stream",
     "text": [
      "2018-11-20 19:34:23,740 - drop_invalid_delinquency_status - INFO - invalid_delinquency_status dropped\n",
      "2018-11-20 19:34:27,837 - drop_invalid_delinquency_status - INFO - dropping invalid transitions and delinquency status, fill nan values, drop duplicates\n",
      "C:\\Users\\sandr\\AppData\\Local\\conda\\conda\\envs\\tensorflowenvironment\\lib\\site-packages\\ipykernel_launcher.py:36: SettingWithCopyWarning: \n",
      "A value is trying to be set on a copy of a slice from a DataFrame\n",
      "\n",
      "See the caveats in the documentation: http://pandas.pydata.org/pandas-docs/stable/indexing.html#indexing-view-versus-copy\n",
      "2018-11-20 19:34:39,370 - allfeatures_drop_cols - INFO - ...Columns Excluded from dataset...\n",
      "2018-11-20 19:34:39,706 - allfeatures_drop_cols - INFO - ...Columns Excluded from dataset...\n",
      "2018-11-20 19:34:40,009 - allfeatures_drop_cols - INFO - ...Columns Excluded from dataset...\n",
      "C:\\Users\\sandr\\AppData\\Local\\conda\\conda\\envs\\tensorflowenvironment\\lib\\site-packages\\ipykernel_launcher.py:16: SettingWithCopyWarning: \n",
      "A value is trying to be set on a copy of a slice from a DataFrame.\n",
      "Try using .loc[row_indexer,col_indexer] = value instead\n",
      "\n",
      "See the caveats in the documentation: http://pandas.pydata.org/pandas-docs/stable/indexing.html#indexing-view-versus-copy\n",
      "  app.launch_new_instance()\n"
     ]
    },
    {
     "name": "stdout",
     "output_type": "stream",
     "text": [
      "STANDARD DEV zero:  []\n",
      "Records for train Set - Number of rows: 388059\n"
     ]
    },
    {
     "name": "stderr",
     "output_type": "stream",
     "text": [
      "C:\\Users\\sandr\\AppData\\Local\\conda\\conda\\envs\\tensorflowenvironment\\lib\\site-packages\\ipykernel_launcher.py:10: SettingWithCopyWarning: \n",
      "A value is trying to be set on a copy of a slice from a DataFrame\n",
      "\n",
      "See the caveats in the documentation: http://pandas.pydata.org/pandas-docs/stable/indexing.html#indexing-view-versus-copy\n",
      "  # Remove the CWD from sys.path while we load stuff.\n",
      "2018-11-20 19:35:38,318 - allfeatures_drop_cols - INFO - ...Columns Excluded from dataset...\n",
      "C:\\Users\\sandr\\AppData\\Local\\conda\\conda\\envs\\tensorflowenvironment\\lib\\site-packages\\ipykernel_launcher.py:18: SettingWithCopyWarning: \n",
      "A value is trying to be set on a copy of a slice from a DataFrame\n",
      "\n",
      "See the caveats in the documentation: http://pandas.pydata.org/pandas-docs/stable/indexing.html#indexing-view-versus-copy\n",
      "2018-11-20 19:35:38,599 - allfeatures_extract_labels - INFO - ...Labels extracted from Dataset...\n",
      "2018-11-20 19:35:41,656 - allfeatures_drop_cols - INFO - ...Columns Excluded from dataset...\n",
      "2018-11-20 19:35:41,710 - allfeatures_extract_labels - INFO - ...Labels extracted from Dataset...\n"
     ]
    },
    {
     "name": "stdout",
     "output_type": "stream",
     "text": [
      "Records for valid Set - Number of rows: 11169\n"
     ]
    },
    {
     "name": "stderr",
     "output_type": "stream",
     "text": [
      "2018-11-20 19:35:42,095 - allfeatures_drop_cols - INFO - ...Columns Excluded from dataset...\n",
      "2018-11-20 19:35:42,152 - allfeatures_extract_labels - INFO - ...Labels extracted from Dataset...\n"
     ]
    },
    {
     "name": "stdout",
     "output_type": "stream",
     "text": [
      "Records for test Set - Number of rows: 20546\n",
      "chunk:  54  chunk size:  500000\n"
     ]
    },
    {
     "name": "stderr",
     "output_type": "stream",
     "text": [
      "2018-11-20 19:35:56,845 - drop_invalid_delinquency_status - INFO - invalid_delinquency_status dropped\n",
      "2018-11-20 19:36:01,018 - drop_invalid_delinquency_status - INFO - dropping invalid transitions and delinquency status, fill nan values, drop duplicates\n",
      "C:\\Users\\sandr\\AppData\\Local\\conda\\conda\\envs\\tensorflowenvironment\\lib\\site-packages\\ipykernel_launcher.py:36: SettingWithCopyWarning: \n",
      "A value is trying to be set on a copy of a slice from a DataFrame\n",
      "\n",
      "See the caveats in the documentation: http://pandas.pydata.org/pandas-docs/stable/indexing.html#indexing-view-versus-copy\n",
      "2018-11-20 19:36:12,669 - allfeatures_drop_cols - INFO - ...Columns Excluded from dataset...\n",
      "2018-11-20 19:36:13,025 - allfeatures_drop_cols - INFO - ...Columns Excluded from dataset...\n",
      "2018-11-20 19:36:13,319 - allfeatures_drop_cols - INFO - ...Columns Excluded from dataset...\n",
      "C:\\Users\\sandr\\AppData\\Local\\conda\\conda\\envs\\tensorflowenvironment\\lib\\site-packages\\ipykernel_launcher.py:16: SettingWithCopyWarning: \n",
      "A value is trying to be set on a copy of a slice from a DataFrame.\n",
      "Try using .loc[row_indexer,col_indexer] = value instead\n",
      "\n",
      "See the caveats in the documentation: http://pandas.pydata.org/pandas-docs/stable/indexing.html#indexing-view-versus-copy\n",
      "  app.launch_new_instance()\n"
     ]
    },
    {
     "name": "stdout",
     "output_type": "stream",
     "text": [
      "STANDARD DEV zero:  []\n",
      "Records for train Set - Number of rows: 378682\n"
     ]
    },
    {
     "name": "stderr",
     "output_type": "stream",
     "text": [
      "C:\\Users\\sandr\\AppData\\Local\\conda\\conda\\envs\\tensorflowenvironment\\lib\\site-packages\\ipykernel_launcher.py:10: SettingWithCopyWarning: \n",
      "A value is trying to be set on a copy of a slice from a DataFrame\n",
      "\n",
      "See the caveats in the documentation: http://pandas.pydata.org/pandas-docs/stable/indexing.html#indexing-view-versus-copy\n",
      "  # Remove the CWD from sys.path while we load stuff.\n",
      "2018-11-20 19:37:11,278 - allfeatures_drop_cols - INFO - ...Columns Excluded from dataset...\n",
      "C:\\Users\\sandr\\AppData\\Local\\conda\\conda\\envs\\tensorflowenvironment\\lib\\site-packages\\ipykernel_launcher.py:18: SettingWithCopyWarning: \n",
      "A value is trying to be set on a copy of a slice from a DataFrame\n",
      "\n",
      "See the caveats in the documentation: http://pandas.pydata.org/pandas-docs/stable/indexing.html#indexing-view-versus-copy\n",
      "2018-11-20 19:37:11,545 - allfeatures_extract_labels - INFO - ...Labels extracted from Dataset...\n",
      "2018-11-20 19:37:14,612 - allfeatures_drop_cols - INFO - ...Columns Excluded from dataset...\n",
      "2018-11-20 19:37:14,675 - allfeatures_extract_labels - INFO - ...Labels extracted from Dataset...\n"
     ]
    },
    {
     "name": "stdout",
     "output_type": "stream",
     "text": [
      "Records for valid Set - Number of rows: 13436\n"
     ]
    },
    {
     "name": "stderr",
     "output_type": "stream",
     "text": [
      "2018-11-20 19:37:14,895 - allfeatures_drop_cols - INFO - ...Columns Excluded from dataset...\n",
      "2018-11-20 19:37:14,955 - allfeatures_extract_labels - INFO - ...Labels extracted from Dataset...\n"
     ]
    },
    {
     "name": "stdout",
     "output_type": "stream",
     "text": [
      "Records for test Set - Number of rows: 25489\n",
      "chunk:  55  chunk size:  500000\n"
     ]
    },
    {
     "name": "stderr",
     "output_type": "stream",
     "text": [
      "2018-11-20 19:37:32,725 - drop_invalid_delinquency_status - INFO - invalid_delinquency_status dropped\n",
      "2018-11-20 19:37:36,815 - drop_invalid_delinquency_status - INFO - dropping invalid transitions and delinquency status, fill nan values, drop duplicates\n",
      "C:\\Users\\sandr\\AppData\\Local\\conda\\conda\\envs\\tensorflowenvironment\\lib\\site-packages\\ipykernel_launcher.py:36: SettingWithCopyWarning: \n",
      "A value is trying to be set on a copy of a slice from a DataFrame\n",
      "\n",
      "See the caveats in the documentation: http://pandas.pydata.org/pandas-docs/stable/indexing.html#indexing-view-versus-copy\n",
      "2018-11-20 19:37:48,055 - allfeatures_drop_cols - INFO - ...Columns Excluded from dataset...\n",
      "2018-11-20 19:37:48,389 - allfeatures_drop_cols - INFO - ...Columns Excluded from dataset...\n",
      "2018-11-20 19:37:48,667 - allfeatures_drop_cols - INFO - ...Columns Excluded from dataset...\n",
      "C:\\Users\\sandr\\AppData\\Local\\conda\\conda\\envs\\tensorflowenvironment\\lib\\site-packages\\ipykernel_launcher.py:16: SettingWithCopyWarning: \n",
      "A value is trying to be set on a copy of a slice from a DataFrame.\n",
      "Try using .loc[row_indexer,col_indexer] = value instead\n",
      "\n",
      "See the caveats in the documentation: http://pandas.pydata.org/pandas-docs/stable/indexing.html#indexing-view-versus-copy\n",
      "  app.launch_new_instance()\n"
     ]
    },
    {
     "name": "stdout",
     "output_type": "stream",
     "text": [
      "STANDARD DEV zero:  []\n",
      "Records for train Set - Number of rows: 359628\n"
     ]
    },
    {
     "name": "stderr",
     "output_type": "stream",
     "text": [
      "C:\\Users\\sandr\\AppData\\Local\\conda\\conda\\envs\\tensorflowenvironment\\lib\\site-packages\\ipykernel_launcher.py:10: SettingWithCopyWarning: \n",
      "A value is trying to be set on a copy of a slice from a DataFrame\n",
      "\n",
      "See the caveats in the documentation: http://pandas.pydata.org/pandas-docs/stable/indexing.html#indexing-view-versus-copy\n",
      "  # Remove the CWD from sys.path while we load stuff.\n",
      "2018-11-20 19:38:45,368 - allfeatures_drop_cols - INFO - ...Columns Excluded from dataset...\n",
      "C:\\Users\\sandr\\AppData\\Local\\conda\\conda\\envs\\tensorflowenvironment\\lib\\site-packages\\ipykernel_launcher.py:18: SettingWithCopyWarning: \n",
      "A value is trying to be set on a copy of a slice from a DataFrame\n",
      "\n",
      "See the caveats in the documentation: http://pandas.pydata.org/pandas-docs/stable/indexing.html#indexing-view-versus-copy\n",
      "2018-11-20 19:38:45,626 - allfeatures_extract_labels - INFO - ...Labels extracted from Dataset...\n",
      "2018-11-20 19:38:48,479 - allfeatures_drop_cols - INFO - ...Columns Excluded from dataset...\n",
      "2018-11-20 19:38:48,539 - allfeatures_extract_labels - INFO - ...Labels extracted from Dataset...\n"
     ]
    },
    {
     "name": "stdout",
     "output_type": "stream",
     "text": [
      "Records for valid Set - Number of rows: 14108\n"
     ]
    },
    {
     "name": "stderr",
     "output_type": "stream",
     "text": [
      "2018-11-20 19:38:48,801 - allfeatures_drop_cols - INFO - ...Columns Excluded from dataset...\n",
      "2018-11-20 19:38:48,872 - allfeatures_extract_labels - INFO - ...Labels extracted from Dataset...\n"
     ]
    },
    {
     "name": "stdout",
     "output_type": "stream",
     "text": [
      "Records for test Set - Number of rows: 26774\n",
      "chunk:  56  chunk size:  500000\n"
     ]
    },
    {
     "name": "stderr",
     "output_type": "stream",
     "text": [
      "2018-11-20 19:39:04,825 - drop_invalid_delinquency_status - INFO - invalid_delinquency_status dropped\n",
      "2018-11-20 19:39:08,988 - drop_invalid_delinquency_status - INFO - dropping invalid transitions and delinquency status, fill nan values, drop duplicates\n",
      "C:\\Users\\sandr\\AppData\\Local\\conda\\conda\\envs\\tensorflowenvironment\\lib\\site-packages\\ipykernel_launcher.py:36: SettingWithCopyWarning: \n",
      "A value is trying to be set on a copy of a slice from a DataFrame\n",
      "\n",
      "See the caveats in the documentation: http://pandas.pydata.org/pandas-docs/stable/indexing.html#indexing-view-versus-copy\n",
      "2018-11-20 19:39:20,395 - allfeatures_drop_cols - INFO - ...Columns Excluded from dataset...\n",
      "2018-11-20 19:39:20,735 - allfeatures_drop_cols - INFO - ...Columns Excluded from dataset...\n",
      "2018-11-20 19:39:21,019 - allfeatures_drop_cols - INFO - ...Columns Excluded from dataset...\n",
      "C:\\Users\\sandr\\AppData\\Local\\conda\\conda\\envs\\tensorflowenvironment\\lib\\site-packages\\ipykernel_launcher.py:16: SettingWithCopyWarning: \n",
      "A value is trying to be set on a copy of a slice from a DataFrame.\n",
      "Try using .loc[row_indexer,col_indexer] = value instead\n",
      "\n",
      "See the caveats in the documentation: http://pandas.pydata.org/pandas-docs/stable/indexing.html#indexing-view-versus-copy\n",
      "  app.launch_new_instance()\n"
     ]
    },
    {
     "name": "stdout",
     "output_type": "stream",
     "text": [
      "STANDARD DEV zero:  []\n",
      "Records for train Set - Number of rows: 363190\n"
     ]
    },
    {
     "name": "stderr",
     "output_type": "stream",
     "text": [
      "C:\\Users\\sandr\\AppData\\Local\\conda\\conda\\envs\\tensorflowenvironment\\lib\\site-packages\\ipykernel_launcher.py:10: SettingWithCopyWarning: \n",
      "A value is trying to be set on a copy of a slice from a DataFrame\n",
      "\n",
      "See the caveats in the documentation: http://pandas.pydata.org/pandas-docs/stable/indexing.html#indexing-view-versus-copy\n",
      "  # Remove the CWD from sys.path while we load stuff.\n",
      "2018-11-20 19:40:18,261 - allfeatures_drop_cols - INFO - ...Columns Excluded from dataset...\n",
      "C:\\Users\\sandr\\AppData\\Local\\conda\\conda\\envs\\tensorflowenvironment\\lib\\site-packages\\ipykernel_launcher.py:18: SettingWithCopyWarning: \n",
      "A value is trying to be set on a copy of a slice from a DataFrame\n",
      "\n",
      "See the caveats in the documentation: http://pandas.pydata.org/pandas-docs/stable/indexing.html#indexing-view-versus-copy\n",
      "2018-11-20 19:40:18,521 - allfeatures_extract_labels - INFO - ...Labels extracted from Dataset...\n",
      "2018-11-20 19:40:21,654 - allfeatures_drop_cols - INFO - ...Columns Excluded from dataset...\n",
      "2018-11-20 19:40:21,715 - allfeatures_extract_labels - INFO - ...Labels extracted from Dataset...\n"
     ]
    },
    {
     "name": "stdout",
     "output_type": "stream",
     "text": [
      "Records for valid Set - Number of rows: 15066\n"
     ]
    },
    {
     "name": "stderr",
     "output_type": "stream",
     "text": [
      "2018-11-20 19:40:21,995 - allfeatures_drop_cols - INFO - ...Columns Excluded from dataset...\n",
      "2018-11-20 19:40:22,055 - allfeatures_extract_labels - INFO - ...Labels extracted from Dataset...\n"
     ]
    },
    {
     "name": "stdout",
     "output_type": "stream",
     "text": [
      "Records for test Set - Number of rows: 28599\n",
      "chunk:  57  chunk size:  500000\n"
     ]
    },
    {
     "name": "stderr",
     "output_type": "stream",
     "text": [
      "2018-11-20 19:40:38,051 - drop_invalid_delinquency_status - INFO - invalid_delinquency_status dropped\n",
      "2018-11-20 19:40:42,353 - drop_invalid_delinquency_status - INFO - dropping invalid transitions and delinquency status, fill nan values, drop duplicates\n",
      "C:\\Users\\sandr\\AppData\\Local\\conda\\conda\\envs\\tensorflowenvironment\\lib\\site-packages\\ipykernel_launcher.py:36: SettingWithCopyWarning: \n",
      "A value is trying to be set on a copy of a slice from a DataFrame\n",
      "\n",
      "See the caveats in the documentation: http://pandas.pydata.org/pandas-docs/stable/indexing.html#indexing-view-versus-copy\n",
      "2018-11-20 19:40:53,855 - allfeatures_drop_cols - INFO - ...Columns Excluded from dataset...\n",
      "2018-11-20 19:40:54,204 - allfeatures_drop_cols - INFO - ...Columns Excluded from dataset...\n",
      "2018-11-20 19:40:54,491 - allfeatures_drop_cols - INFO - ...Columns Excluded from dataset...\n",
      "C:\\Users\\sandr\\AppData\\Local\\conda\\conda\\envs\\tensorflowenvironment\\lib\\site-packages\\ipykernel_launcher.py:16: SettingWithCopyWarning: \n",
      "A value is trying to be set on a copy of a slice from a DataFrame.\n",
      "Try using .loc[row_indexer,col_indexer] = value instead\n",
      "\n",
      "See the caveats in the documentation: http://pandas.pydata.org/pandas-docs/stable/indexing.html#indexing-view-versus-copy\n",
      "  app.launch_new_instance()\n"
     ]
    },
    {
     "name": "stdout",
     "output_type": "stream",
     "text": [
      "STANDARD DEV zero:  []\n",
      "Records for train Set - Number of rows: 373346\n"
     ]
    },
    {
     "name": "stderr",
     "output_type": "stream",
     "text": [
      "C:\\Users\\sandr\\AppData\\Local\\conda\\conda\\envs\\tensorflowenvironment\\lib\\site-packages\\ipykernel_launcher.py:10: SettingWithCopyWarning: \n",
      "A value is trying to be set on a copy of a slice from a DataFrame\n",
      "\n",
      "See the caveats in the documentation: http://pandas.pydata.org/pandas-docs/stable/indexing.html#indexing-view-versus-copy\n",
      "  # Remove the CWD from sys.path while we load stuff.\n",
      "2018-11-20 19:41:52,395 - allfeatures_drop_cols - INFO - ...Columns Excluded from dataset...\n",
      "C:\\Users\\sandr\\AppData\\Local\\conda\\conda\\envs\\tensorflowenvironment\\lib\\site-packages\\ipykernel_launcher.py:18: SettingWithCopyWarning: \n",
      "A value is trying to be set on a copy of a slice from a DataFrame\n",
      "\n",
      "See the caveats in the documentation: http://pandas.pydata.org/pandas-docs/stable/indexing.html#indexing-view-versus-copy\n",
      "2018-11-20 19:41:52,657 - allfeatures_extract_labels - INFO - ...Labels extracted from Dataset...\n",
      "2018-11-20 19:41:55,704 - allfeatures_drop_cols - INFO - ...Columns Excluded from dataset...\n",
      "2018-11-20 19:41:55,771 - allfeatures_extract_labels - INFO - ...Labels extracted from Dataset...\n"
     ]
    },
    {
     "name": "stdout",
     "output_type": "stream",
     "text": [
      "Records for valid Set - Number of rows: 14084\n"
     ]
    },
    {
     "name": "stderr",
     "output_type": "stream",
     "text": [
      "2018-11-20 19:41:56,061 - allfeatures_drop_cols - INFO - ...Columns Excluded from dataset...\n",
      "2018-11-20 19:41:56,123 - allfeatures_extract_labels - INFO - ...Labels extracted from Dataset...\n"
     ]
    },
    {
     "name": "stdout",
     "output_type": "stream",
     "text": [
      "Records for test Set - Number of rows: 26987\n",
      "chunk:  58  chunk size:  500000\n"
     ]
    },
    {
     "name": "stderr",
     "output_type": "stream",
     "text": [
      "2018-11-20 19:42:12,185 - drop_invalid_delinquency_status - INFO - invalid_delinquency_status dropped\n",
      "2018-11-20 19:42:16,299 - drop_invalid_delinquency_status - INFO - dropping invalid transitions and delinquency status, fill nan values, drop duplicates\n",
      "C:\\Users\\sandr\\AppData\\Local\\conda\\conda\\envs\\tensorflowenvironment\\lib\\site-packages\\ipykernel_launcher.py:36: SettingWithCopyWarning: \n",
      "A value is trying to be set on a copy of a slice from a DataFrame\n",
      "\n",
      "See the caveats in the documentation: http://pandas.pydata.org/pandas-docs/stable/indexing.html#indexing-view-versus-copy\n",
      "2018-11-20 19:42:27,741 - allfeatures_drop_cols - INFO - ...Columns Excluded from dataset...\n",
      "2018-11-20 19:42:28,090 - allfeatures_drop_cols - INFO - ...Columns Excluded from dataset...\n",
      "2018-11-20 19:42:28,375 - allfeatures_drop_cols - INFO - ...Columns Excluded from dataset...\n",
      "C:\\Users\\sandr\\AppData\\Local\\conda\\conda\\envs\\tensorflowenvironment\\lib\\site-packages\\ipykernel_launcher.py:16: SettingWithCopyWarning: \n",
      "A value is trying to be set on a copy of a slice from a DataFrame.\n",
      "Try using .loc[row_indexer,col_indexer] = value instead\n",
      "\n",
      "See the caveats in the documentation: http://pandas.pydata.org/pandas-docs/stable/indexing.html#indexing-view-versus-copy\n",
      "  app.launch_new_instance()\n"
     ]
    },
    {
     "name": "stdout",
     "output_type": "stream",
     "text": [
      "STANDARD DEV zero:  []\n",
      "Records for train Set - Number of rows: 386613\n"
     ]
    },
    {
     "name": "stderr",
     "output_type": "stream",
     "text": [
      "C:\\Users\\sandr\\AppData\\Local\\conda\\conda\\envs\\tensorflowenvironment\\lib\\site-packages\\ipykernel_launcher.py:10: SettingWithCopyWarning: \n",
      "A value is trying to be set on a copy of a slice from a DataFrame\n",
      "\n",
      "See the caveats in the documentation: http://pandas.pydata.org/pandas-docs/stable/indexing.html#indexing-view-versus-copy\n",
      "  # Remove the CWD from sys.path while we load stuff.\n",
      "2018-11-20 19:43:26,163 - allfeatures_drop_cols - INFO - ...Columns Excluded from dataset...\n",
      "C:\\Users\\sandr\\AppData\\Local\\conda\\conda\\envs\\tensorflowenvironment\\lib\\site-packages\\ipykernel_launcher.py:18: SettingWithCopyWarning: \n",
      "A value is trying to be set on a copy of a slice from a DataFrame\n",
      "\n",
      "See the caveats in the documentation: http://pandas.pydata.org/pandas-docs/stable/indexing.html#indexing-view-versus-copy\n",
      "2018-11-20 19:43:26,431 - allfeatures_extract_labels - INFO - ...Labels extracted from Dataset...\n",
      "2018-11-20 19:43:29,453 - allfeatures_drop_cols - INFO - ...Columns Excluded from dataset...\n",
      "2018-11-20 19:43:29,506 - allfeatures_extract_labels - INFO - ...Labels extracted from Dataset...\n"
     ]
    },
    {
     "name": "stdout",
     "output_type": "stream",
     "text": [
      "Records for valid Set - Number of rows: 10672\n"
     ]
    },
    {
     "name": "stderr",
     "output_type": "stream",
     "text": [
      "2018-11-20 19:43:29,775 - allfeatures_drop_cols - INFO - ...Columns Excluded from dataset...\n",
      "2018-11-20 19:43:29,835 - allfeatures_extract_labels - INFO - ...Labels extracted from Dataset...\n"
     ]
    },
    {
     "name": "stdout",
     "output_type": "stream",
     "text": [
      "Records for test Set - Number of rows: 20123\n",
      "chunk:  59  chunk size:  500000\n"
     ]
    },
    {
     "name": "stderr",
     "output_type": "stream",
     "text": [
      "2018-11-20 19:43:46,047 - drop_invalid_delinquency_status - INFO - invalid_delinquency_status dropped\n",
      "2018-11-20 19:43:50,280 - drop_invalid_delinquency_status - INFO - dropping invalid transitions and delinquency status, fill nan values, drop duplicates\n",
      "C:\\Users\\sandr\\AppData\\Local\\conda\\conda\\envs\\tensorflowenvironment\\lib\\site-packages\\ipykernel_launcher.py:36: SettingWithCopyWarning: \n",
      "A value is trying to be set on a copy of a slice from a DataFrame\n",
      "\n",
      "See the caveats in the documentation: http://pandas.pydata.org/pandas-docs/stable/indexing.html#indexing-view-versus-copy\n",
      "2018-11-20 19:44:01,676 - allfeatures_drop_cols - INFO - ...Columns Excluded from dataset...\n",
      "2018-11-20 19:44:02,020 - allfeatures_drop_cols - INFO - ...Columns Excluded from dataset...\n",
      "2018-11-20 19:44:02,301 - allfeatures_drop_cols - INFO - ...Columns Excluded from dataset...\n",
      "C:\\Users\\sandr\\AppData\\Local\\conda\\conda\\envs\\tensorflowenvironment\\lib\\site-packages\\ipykernel_launcher.py:16: SettingWithCopyWarning: \n",
      "A value is trying to be set on a copy of a slice from a DataFrame.\n",
      "Try using .loc[row_indexer,col_indexer] = value instead\n",
      "\n",
      "See the caveats in the documentation: http://pandas.pydata.org/pandas-docs/stable/indexing.html#indexing-view-versus-copy\n",
      "  app.launch_new_instance()\n"
     ]
    },
    {
     "name": "stdout",
     "output_type": "stream",
     "text": [
      "STANDARD DEV zero:  []\n",
      "Records for train Set - Number of rows: 381260\n"
     ]
    },
    {
     "name": "stderr",
     "output_type": "stream",
     "text": [
      "C:\\Users\\sandr\\AppData\\Local\\conda\\conda\\envs\\tensorflowenvironment\\lib\\site-packages\\ipykernel_launcher.py:10: SettingWithCopyWarning: \n",
      "A value is trying to be set on a copy of a slice from a DataFrame\n",
      "\n",
      "See the caveats in the documentation: http://pandas.pydata.org/pandas-docs/stable/indexing.html#indexing-view-versus-copy\n",
      "  # Remove the CWD from sys.path while we load stuff.\n",
      "2018-11-20 19:45:00,049 - allfeatures_drop_cols - INFO - ...Columns Excluded from dataset...\n",
      "C:\\Users\\sandr\\AppData\\Local\\conda\\conda\\envs\\tensorflowenvironment\\lib\\site-packages\\ipykernel_launcher.py:18: SettingWithCopyWarning: \n",
      "A value is trying to be set on a copy of a slice from a DataFrame\n",
      "\n",
      "See the caveats in the documentation: http://pandas.pydata.org/pandas-docs/stable/indexing.html#indexing-view-versus-copy\n",
      "2018-11-20 19:45:00,314 - allfeatures_extract_labels - INFO - ...Labels extracted from Dataset...\n",
      "2018-11-20 19:45:03,113 - allfeatures_drop_cols - INFO - ...Columns Excluded from dataset...\n",
      "2018-11-20 19:45:03,174 - allfeatures_extract_labels - INFO - ...Labels extracted from Dataset...\n"
     ]
    },
    {
     "name": "stdout",
     "output_type": "stream",
     "text": [
      "Records for valid Set - Number of rows: 11810\n"
     ]
    },
    {
     "name": "stderr",
     "output_type": "stream",
     "text": [
      "2018-11-20 19:45:03,488 - allfeatures_drop_cols - INFO - ...Columns Excluded from dataset...\n",
      "2018-11-20 19:45:03,540 - allfeatures_extract_labels - INFO - ...Labels extracted from Dataset...\n"
     ]
    },
    {
     "name": "stdout",
     "output_type": "stream",
     "text": [
      "Records for test Set - Number of rows: 22341\n",
      "chunk:  60  chunk size:  500000\n"
     ]
    },
    {
     "name": "stderr",
     "output_type": "stream",
     "text": [
      "2018-11-20 19:45:19,280 - drop_invalid_delinquency_status - INFO - invalid_delinquency_status dropped\n",
      "2018-11-20 19:45:23,580 - drop_invalid_delinquency_status - INFO - dropping invalid transitions and delinquency status, fill nan values, drop duplicates\n",
      "C:\\Users\\sandr\\AppData\\Local\\conda\\conda\\envs\\tensorflowenvironment\\lib\\site-packages\\ipykernel_launcher.py:36: SettingWithCopyWarning: \n",
      "A value is trying to be set on a copy of a slice from a DataFrame\n",
      "\n",
      "See the caveats in the documentation: http://pandas.pydata.org/pandas-docs/stable/indexing.html#indexing-view-versus-copy\n",
      "2018-11-20 19:45:35,362 - allfeatures_drop_cols - INFO - ...Columns Excluded from dataset...\n",
      "2018-11-20 19:45:35,724 - allfeatures_drop_cols - INFO - ...Columns Excluded from dataset...\n",
      "2018-11-20 19:45:36,024 - allfeatures_drop_cols - INFO - ...Columns Excluded from dataset...\n",
      "C:\\Users\\sandr\\AppData\\Local\\conda\\conda\\envs\\tensorflowenvironment\\lib\\site-packages\\ipykernel_launcher.py:16: SettingWithCopyWarning: \n",
      "A value is trying to be set on a copy of a slice from a DataFrame.\n",
      "Try using .loc[row_indexer,col_indexer] = value instead\n",
      "\n",
      "See the caveats in the documentation: http://pandas.pydata.org/pandas-docs/stable/indexing.html#indexing-view-versus-copy\n",
      "  app.launch_new_instance()\n"
     ]
    },
    {
     "name": "stdout",
     "output_type": "stream",
     "text": [
      "STANDARD DEV zero:  []\n",
      "Records for train Set - Number of rows: 398213\n"
     ]
    },
    {
     "name": "stderr",
     "output_type": "stream",
     "text": [
      "C:\\Users\\sandr\\AppData\\Local\\conda\\conda\\envs\\tensorflowenvironment\\lib\\site-packages\\ipykernel_launcher.py:10: SettingWithCopyWarning: \n",
      "A value is trying to be set on a copy of a slice from a DataFrame\n",
      "\n",
      "See the caveats in the documentation: http://pandas.pydata.org/pandas-docs/stable/indexing.html#indexing-view-versus-copy\n",
      "  # Remove the CWD from sys.path while we load stuff.\n",
      "2018-11-20 19:46:34,663 - allfeatures_drop_cols - INFO - ...Columns Excluded from dataset...\n",
      "C:\\Users\\sandr\\AppData\\Local\\conda\\conda\\envs\\tensorflowenvironment\\lib\\site-packages\\ipykernel_launcher.py:18: SettingWithCopyWarning: \n",
      "A value is trying to be set on a copy of a slice from a DataFrame\n",
      "\n",
      "See the caveats in the documentation: http://pandas.pydata.org/pandas-docs/stable/indexing.html#indexing-view-versus-copy\n",
      "2018-11-20 19:46:34,944 - allfeatures_extract_labels - INFO - ...Labels extracted from Dataset...\n",
      "2018-11-20 19:46:38,420 - allfeatures_drop_cols - INFO - ...Columns Excluded from dataset...\n",
      "2018-11-20 19:46:38,485 - allfeatures_extract_labels - INFO - ...Labels extracted from Dataset...\n"
     ]
    },
    {
     "name": "stdout",
     "output_type": "stream",
     "text": [
      "Records for valid Set - Number of rows: 10853\n"
     ]
    },
    {
     "name": "stderr",
     "output_type": "stream",
     "text": [
      "2018-11-20 19:46:38,804 - allfeatures_drop_cols - INFO - ...Columns Excluded from dataset...\n",
      "2018-11-20 19:46:38,864 - allfeatures_extract_labels - INFO - ...Labels extracted from Dataset...\n"
     ]
    },
    {
     "name": "stdout",
     "output_type": "stream",
     "text": [
      "Records for test Set - Number of rows: 20049\n",
      "chunk:  61  chunk size:  500000\n"
     ]
    },
    {
     "name": "stderr",
     "output_type": "stream",
     "text": [
      "2018-11-20 19:46:54,032 - drop_invalid_delinquency_status - INFO - invalid_delinquency_status dropped\n",
      "2018-11-20 19:46:58,211 - drop_invalid_delinquency_status - INFO - dropping invalid transitions and delinquency status, fill nan values, drop duplicates\n",
      "C:\\Users\\sandr\\AppData\\Local\\conda\\conda\\envs\\tensorflowenvironment\\lib\\site-packages\\ipykernel_launcher.py:36: SettingWithCopyWarning: \n",
      "A value is trying to be set on a copy of a slice from a DataFrame\n",
      "\n",
      "See the caveats in the documentation: http://pandas.pydata.org/pandas-docs/stable/indexing.html#indexing-view-versus-copy\n",
      "2018-11-20 19:47:09,904 - allfeatures_drop_cols - INFO - ...Columns Excluded from dataset...\n",
      "2018-11-20 19:47:10,273 - allfeatures_drop_cols - INFO - ...Columns Excluded from dataset...\n",
      "2018-11-20 19:47:10,583 - allfeatures_drop_cols - INFO - ...Columns Excluded from dataset...\n",
      "C:\\Users\\sandr\\AppData\\Local\\conda\\conda\\envs\\tensorflowenvironment\\lib\\site-packages\\ipykernel_launcher.py:16: SettingWithCopyWarning: \n",
      "A value is trying to be set on a copy of a slice from a DataFrame.\n",
      "Try using .loc[row_indexer,col_indexer] = value instead\n",
      "\n",
      "See the caveats in the documentation: http://pandas.pydata.org/pandas-docs/stable/indexing.html#indexing-view-versus-copy\n",
      "  app.launch_new_instance()\n"
     ]
    },
    {
     "name": "stdout",
     "output_type": "stream",
     "text": [
      "STANDARD DEV zero:  []\n",
      "Records for train Set - Number of rows: 388083\n"
     ]
    },
    {
     "name": "stderr",
     "output_type": "stream",
     "text": [
      "C:\\Users\\sandr\\AppData\\Local\\conda\\conda\\envs\\tensorflowenvironment\\lib\\site-packages\\ipykernel_launcher.py:10: SettingWithCopyWarning: \n",
      "A value is trying to be set on a copy of a slice from a DataFrame\n",
      "\n",
      "See the caveats in the documentation: http://pandas.pydata.org/pandas-docs/stable/indexing.html#indexing-view-versus-copy\n",
      "  # Remove the CWD from sys.path while we load stuff.\n",
      "2018-11-20 19:48:08,223 - allfeatures_drop_cols - INFO - ...Columns Excluded from dataset...\n",
      "C:\\Users\\sandr\\AppData\\Local\\conda\\conda\\envs\\tensorflowenvironment\\lib\\site-packages\\ipykernel_launcher.py:18: SettingWithCopyWarning: \n",
      "A value is trying to be set on a copy of a slice from a DataFrame\n",
      "\n",
      "See the caveats in the documentation: http://pandas.pydata.org/pandas-docs/stable/indexing.html#indexing-view-versus-copy\n",
      "2018-11-20 19:48:08,501 - allfeatures_extract_labels - INFO - ...Labels extracted from Dataset...\n",
      "2018-11-20 19:48:11,454 - allfeatures_drop_cols - INFO - ...Columns Excluded from dataset...\n",
      "2018-11-20 19:48:11,514 - allfeatures_extract_labels - INFO - ...Labels extracted from Dataset...\n"
     ]
    },
    {
     "name": "stdout",
     "output_type": "stream",
     "text": [
      "Records for valid Set - Number of rows: 11270\n"
     ]
    },
    {
     "name": "stderr",
     "output_type": "stream",
     "text": [
      "2018-11-20 19:48:11,840 - allfeatures_drop_cols - INFO - ...Columns Excluded from dataset...\n",
      "2018-11-20 19:48:11,901 - allfeatures_extract_labels - INFO - ...Labels extracted from Dataset...\n"
     ]
    },
    {
     "name": "stdout",
     "output_type": "stream",
     "text": [
      "Records for test Set - Number of rows: 21206\n",
      "chunk:  62  chunk size:  500000\n"
     ]
    },
    {
     "name": "stderr",
     "output_type": "stream",
     "text": [
      "2018-11-20 19:48:26,808 - drop_invalid_delinquency_status - INFO - invalid_delinquency_status dropped\n",
      "2018-11-20 19:48:30,993 - drop_invalid_delinquency_status - INFO - dropping invalid transitions and delinquency status, fill nan values, drop duplicates\n",
      "C:\\Users\\sandr\\AppData\\Local\\conda\\conda\\envs\\tensorflowenvironment\\lib\\site-packages\\ipykernel_launcher.py:36: SettingWithCopyWarning: \n",
      "A value is trying to be set on a copy of a slice from a DataFrame\n",
      "\n",
      "See the caveats in the documentation: http://pandas.pydata.org/pandas-docs/stable/indexing.html#indexing-view-versus-copy\n",
      "2018-11-20 19:48:42,695 - allfeatures_drop_cols - INFO - ...Columns Excluded from dataset...\n",
      "2018-11-20 19:48:43,043 - allfeatures_drop_cols - INFO - ...Columns Excluded from dataset...\n",
      "2018-11-20 19:48:43,336 - allfeatures_drop_cols - INFO - ...Columns Excluded from dataset...\n",
      "C:\\Users\\sandr\\AppData\\Local\\conda\\conda\\envs\\tensorflowenvironment\\lib\\site-packages\\ipykernel_launcher.py:16: SettingWithCopyWarning: \n",
      "A value is trying to be set on a copy of a slice from a DataFrame.\n",
      "Try using .loc[row_indexer,col_indexer] = value instead\n",
      "\n",
      "See the caveats in the documentation: http://pandas.pydata.org/pandas-docs/stable/indexing.html#indexing-view-versus-copy\n",
      "  app.launch_new_instance()\n"
     ]
    },
    {
     "name": "stdout",
     "output_type": "stream",
     "text": [
      "STANDARD DEV zero:  []\n",
      "Records for train Set - Number of rows: 376079\n"
     ]
    },
    {
     "name": "stderr",
     "output_type": "stream",
     "text": [
      "C:\\Users\\sandr\\AppData\\Local\\conda\\conda\\envs\\tensorflowenvironment\\lib\\site-packages\\ipykernel_launcher.py:10: SettingWithCopyWarning: \n",
      "A value is trying to be set on a copy of a slice from a DataFrame\n",
      "\n",
      "See the caveats in the documentation: http://pandas.pydata.org/pandas-docs/stable/indexing.html#indexing-view-versus-copy\n",
      "  # Remove the CWD from sys.path while we load stuff.\n",
      "2018-11-20 19:49:42,133 - allfeatures_drop_cols - INFO - ...Columns Excluded from dataset...\n",
      "C:\\Users\\sandr\\AppData\\Local\\conda\\conda\\envs\\tensorflowenvironment\\lib\\site-packages\\ipykernel_launcher.py:18: SettingWithCopyWarning: \n",
      "A value is trying to be set on a copy of a slice from a DataFrame\n",
      "\n",
      "See the caveats in the documentation: http://pandas.pydata.org/pandas-docs/stable/indexing.html#indexing-view-versus-copy\n",
      "2018-11-20 19:49:42,393 - allfeatures_extract_labels - INFO - ...Labels extracted from Dataset...\n",
      "2018-11-20 19:49:45,774 - allfeatures_drop_cols - INFO - ...Columns Excluded from dataset...\n",
      "2018-11-20 19:49:45,835 - allfeatures_extract_labels - INFO - ...Labels extracted from Dataset...\n"
     ]
    },
    {
     "name": "stdout",
     "output_type": "stream",
     "text": [
      "Records for valid Set - Number of rows: 14774\n"
     ]
    },
    {
     "name": "stderr",
     "output_type": "stream",
     "text": [
      "2018-11-20 19:49:46,243 - allfeatures_drop_cols - INFO - ...Columns Excluded from dataset...\n",
      "2018-11-20 19:49:46,307 - allfeatures_extract_labels - INFO - ...Labels extracted from Dataset...\n"
     ]
    },
    {
     "name": "stdout",
     "output_type": "stream",
     "text": [
      "Records for test Set - Number of rows: 28095\n",
      "chunk:  63  chunk size:  500000\n"
     ]
    },
    {
     "name": "stderr",
     "output_type": "stream",
     "text": [
      "2018-11-20 19:50:01,043 - drop_invalid_delinquency_status - INFO - invalid_delinquency_status dropped\n",
      "2018-11-20 19:50:05,293 - drop_invalid_delinquency_status - INFO - dropping invalid transitions and delinquency status, fill nan values, drop duplicates\n",
      "C:\\Users\\sandr\\AppData\\Local\\conda\\conda\\envs\\tensorflowenvironment\\lib\\site-packages\\ipykernel_launcher.py:36: SettingWithCopyWarning: \n",
      "A value is trying to be set on a copy of a slice from a DataFrame\n",
      "\n",
      "See the caveats in the documentation: http://pandas.pydata.org/pandas-docs/stable/indexing.html#indexing-view-versus-copy\n",
      "2018-11-20 19:50:17,637 - allfeatures_drop_cols - INFO - ...Columns Excluded from dataset...\n",
      "2018-11-20 19:50:17,997 - allfeatures_drop_cols - INFO - ...Columns Excluded from dataset...\n",
      "2018-11-20 19:50:18,307 - allfeatures_drop_cols - INFO - ...Columns Excluded from dataset...\n",
      "C:\\Users\\sandr\\AppData\\Local\\conda\\conda\\envs\\tensorflowenvironment\\lib\\site-packages\\ipykernel_launcher.py:16: SettingWithCopyWarning: \n",
      "A value is trying to be set on a copy of a slice from a DataFrame.\n",
      "Try using .loc[row_indexer,col_indexer] = value instead\n",
      "\n",
      "See the caveats in the documentation: http://pandas.pydata.org/pandas-docs/stable/indexing.html#indexing-view-versus-copy\n",
      "  app.launch_new_instance()\n"
     ]
    },
    {
     "name": "stdout",
     "output_type": "stream",
     "text": [
      "STANDARD DEV zero:  []\n",
      "Records for train Set - Number of rows: 358601\n"
     ]
    },
    {
     "name": "stderr",
     "output_type": "stream",
     "text": [
      "C:\\Users\\sandr\\AppData\\Local\\conda\\conda\\envs\\tensorflowenvironment\\lib\\site-packages\\ipykernel_launcher.py:10: SettingWithCopyWarning: \n",
      "A value is trying to be set on a copy of a slice from a DataFrame\n",
      "\n",
      "See the caveats in the documentation: http://pandas.pydata.org/pandas-docs/stable/indexing.html#indexing-view-versus-copy\n",
      "  # Remove the CWD from sys.path while we load stuff.\n",
      "2018-11-20 19:51:17,423 - allfeatures_drop_cols - INFO - ...Columns Excluded from dataset...\n",
      "C:\\Users\\sandr\\AppData\\Local\\conda\\conda\\envs\\tensorflowenvironment\\lib\\site-packages\\ipykernel_launcher.py:18: SettingWithCopyWarning: \n",
      "A value is trying to be set on a copy of a slice from a DataFrame\n",
      "\n",
      "See the caveats in the documentation: http://pandas.pydata.org/pandas-docs/stable/indexing.html#indexing-view-versus-copy\n",
      "2018-11-20 19:51:17,676 - allfeatures_extract_labels - INFO - ...Labels extracted from Dataset...\n",
      "2018-11-20 19:51:20,893 - allfeatures_drop_cols - INFO - ...Columns Excluded from dataset...\n",
      "2018-11-20 19:51:20,957 - allfeatures_extract_labels - INFO - ...Labels extracted from Dataset...\n"
     ]
    },
    {
     "name": "stdout",
     "output_type": "stream",
     "text": [
      "Records for valid Set - Number of rows: 15397\n"
     ]
    },
    {
     "name": "stderr",
     "output_type": "stream",
     "text": [
      "2018-11-20 19:51:21,403 - allfeatures_drop_cols - INFO - ...Columns Excluded from dataset...\n",
      "2018-11-20 19:51:21,473 - allfeatures_extract_labels - INFO - ...Labels extracted from Dataset...\n"
     ]
    },
    {
     "name": "stdout",
     "output_type": "stream",
     "text": [
      "Records for test Set - Number of rows: 37221\n",
      "chunk:  64  chunk size:  500000\n"
     ]
    },
    {
     "name": "stderr",
     "output_type": "stream",
     "text": [
      "2018-11-20 19:51:38,668 - drop_invalid_delinquency_status - INFO - invalid_delinquency_status dropped\n",
      "2018-11-20 19:51:42,843 - drop_invalid_delinquency_status - INFO - dropping invalid transitions and delinquency status, fill nan values, drop duplicates\n",
      "C:\\Users\\sandr\\AppData\\Local\\conda\\conda\\envs\\tensorflowenvironment\\lib\\site-packages\\ipykernel_launcher.py:36: SettingWithCopyWarning: \n",
      "A value is trying to be set on a copy of a slice from a DataFrame\n",
      "\n",
      "See the caveats in the documentation: http://pandas.pydata.org/pandas-docs/stable/indexing.html#indexing-view-versus-copy\n",
      "2018-11-20 19:51:54,286 - allfeatures_drop_cols - INFO - ...Columns Excluded from dataset...\n",
      "2018-11-20 19:51:54,643 - allfeatures_drop_cols - INFO - ...Columns Excluded from dataset...\n",
      "2018-11-20 19:51:54,968 - allfeatures_drop_cols - INFO - ...Columns Excluded from dataset...\n",
      "C:\\Users\\sandr\\AppData\\Local\\conda\\conda\\envs\\tensorflowenvironment\\lib\\site-packages\\ipykernel_launcher.py:16: SettingWithCopyWarning: \n",
      "A value is trying to be set on a copy of a slice from a DataFrame.\n",
      "Try using .loc[row_indexer,col_indexer] = value instead\n",
      "\n",
      "See the caveats in the documentation: http://pandas.pydata.org/pandas-docs/stable/indexing.html#indexing-view-versus-copy\n",
      "  app.launch_new_instance()\n"
     ]
    },
    {
     "name": "stdout",
     "output_type": "stream",
     "text": [
      "STANDARD DEV zero:  []\n",
      "Records for train Set - Number of rows: 350234\n"
     ]
    },
    {
     "name": "stderr",
     "output_type": "stream",
     "text": [
      "C:\\Users\\sandr\\AppData\\Local\\conda\\conda\\envs\\tensorflowenvironment\\lib\\site-packages\\ipykernel_launcher.py:10: SettingWithCopyWarning: \n",
      "A value is trying to be set on a copy of a slice from a DataFrame\n",
      "\n",
      "See the caveats in the documentation: http://pandas.pydata.org/pandas-docs/stable/indexing.html#indexing-view-versus-copy\n",
      "  # Remove the CWD from sys.path while we load stuff.\n",
      "2018-11-20 19:52:53,035 - allfeatures_drop_cols - INFO - ...Columns Excluded from dataset...\n",
      "C:\\Users\\sandr\\AppData\\Local\\conda\\conda\\envs\\tensorflowenvironment\\lib\\site-packages\\ipykernel_launcher.py:18: SettingWithCopyWarning: \n",
      "A value is trying to be set on a copy of a slice from a DataFrame\n",
      "\n",
      "See the caveats in the documentation: http://pandas.pydata.org/pandas-docs/stable/indexing.html#indexing-view-versus-copy\n",
      "2018-11-20 19:52:53,285 - allfeatures_extract_labels - INFO - ...Labels extracted from Dataset...\n",
      "2018-11-20 19:52:56,063 - allfeatures_drop_cols - INFO - ...Columns Excluded from dataset...\n",
      "2018-11-20 19:52:56,123 - allfeatures_extract_labels - INFO - ...Labels extracted from Dataset...\n"
     ]
    },
    {
     "name": "stdout",
     "output_type": "stream",
     "text": [
      "Records for valid Set - Number of rows: 13182\n"
     ]
    },
    {
     "name": "stderr",
     "output_type": "stream",
     "text": [
      "2018-11-20 19:52:56,368 - allfeatures_drop_cols - INFO - ...Columns Excluded from dataset...\n",
      "2018-11-20 19:52:56,435 - allfeatures_extract_labels - INFO - ...Labels extracted from Dataset...\n"
     ]
    },
    {
     "name": "stdout",
     "output_type": "stream",
     "text": [
      "Records for test Set - Number of rows: 41491\n",
      "chunk:  65  chunk size:  500000\n"
     ]
    },
    {
     "name": "stderr",
     "output_type": "stream",
     "text": [
      "2018-11-20 19:53:10,934 - drop_invalid_delinquency_status - INFO - invalid_delinquency_status dropped\n",
      "2018-11-20 19:53:15,057 - drop_invalid_delinquency_status - INFO - dropping invalid transitions and delinquency status, fill nan values, drop duplicates\n",
      "C:\\Users\\sandr\\AppData\\Local\\conda\\conda\\envs\\tensorflowenvironment\\lib\\site-packages\\ipykernel_launcher.py:36: SettingWithCopyWarning: \n",
      "A value is trying to be set on a copy of a slice from a DataFrame\n",
      "\n",
      "See the caveats in the documentation: http://pandas.pydata.org/pandas-docs/stable/indexing.html#indexing-view-versus-copy\n",
      "2018-11-20 19:53:26,053 - allfeatures_drop_cols - INFO - ...Columns Excluded from dataset...\n",
      "2018-11-20 19:53:26,373 - allfeatures_drop_cols - INFO - ...Columns Excluded from dataset...\n",
      "2018-11-20 19:53:26,657 - allfeatures_drop_cols - INFO - ...Columns Excluded from dataset...\n",
      "C:\\Users\\sandr\\AppData\\Local\\conda\\conda\\envs\\tensorflowenvironment\\lib\\site-packages\\ipykernel_launcher.py:16: SettingWithCopyWarning: \n",
      "A value is trying to be set on a copy of a slice from a DataFrame.\n",
      "Try using .loc[row_indexer,col_indexer] = value instead\n",
      "\n",
      "See the caveats in the documentation: http://pandas.pydata.org/pandas-docs/stable/indexing.html#indexing-view-versus-copy\n",
      "  app.launch_new_instance()\n"
     ]
    },
    {
     "name": "stdout",
     "output_type": "stream",
     "text": [
      "STANDARD DEV zero:  []\n",
      "Records for train Set - Number of rows: 334550\n"
     ]
    },
    {
     "name": "stderr",
     "output_type": "stream",
     "text": [
      "C:\\Users\\sandr\\AppData\\Local\\conda\\conda\\envs\\tensorflowenvironment\\lib\\site-packages\\ipykernel_launcher.py:10: SettingWithCopyWarning: \n",
      "A value is trying to be set on a copy of a slice from a DataFrame\n",
      "\n",
      "See the caveats in the documentation: http://pandas.pydata.org/pandas-docs/stable/indexing.html#indexing-view-versus-copy\n",
      "  # Remove the CWD from sys.path while we load stuff.\n",
      "2018-11-20 19:54:23,235 - allfeatures_drop_cols - INFO - ...Columns Excluded from dataset...\n",
      "C:\\Users\\sandr\\AppData\\Local\\conda\\conda\\envs\\tensorflowenvironment\\lib\\site-packages\\ipykernel_launcher.py:18: SettingWithCopyWarning: \n",
      "A value is trying to be set on a copy of a slice from a DataFrame\n",
      "\n",
      "See the caveats in the documentation: http://pandas.pydata.org/pandas-docs/stable/indexing.html#indexing-view-versus-copy\n",
      "2018-11-20 19:54:23,479 - allfeatures_extract_labels - INFO - ...Labels extracted from Dataset...\n",
      "2018-11-20 19:54:26,309 - allfeatures_drop_cols - INFO - ...Columns Excluded from dataset...\n",
      "2018-11-20 19:54:26,363 - allfeatures_extract_labels - INFO - ...Labels extracted from Dataset...\n"
     ]
    },
    {
     "name": "stdout",
     "output_type": "stream",
     "text": [
      "Records for valid Set - Number of rows: 9953\n"
     ]
    },
    {
     "name": "stderr",
     "output_type": "stream",
     "text": [
      "2018-11-20 19:54:26,599 - allfeatures_drop_cols - INFO - ...Columns Excluded from dataset...\n",
      "2018-11-20 19:54:26,668 - allfeatures_extract_labels - INFO - ...Labels extracted from Dataset...\n"
     ]
    },
    {
     "name": "stdout",
     "output_type": "stream",
     "text": [
      "Records for test Set - Number of rows: 39203\n",
      "chunk:  66  chunk size:  500000\n"
     ]
    },
    {
     "name": "stderr",
     "output_type": "stream",
     "text": [
      "2018-11-20 19:54:41,763 - drop_invalid_delinquency_status - INFO - invalid_delinquency_status dropped\n",
      "2018-11-20 19:54:46,113 - drop_invalid_delinquency_status - INFO - dropping invalid transitions and delinquency status, fill nan values, drop duplicates\n",
      "C:\\Users\\sandr\\AppData\\Local\\conda\\conda\\envs\\tensorflowenvironment\\lib\\site-packages\\ipykernel_launcher.py:36: SettingWithCopyWarning: \n",
      "A value is trying to be set on a copy of a slice from a DataFrame\n",
      "\n",
      "See the caveats in the documentation: http://pandas.pydata.org/pandas-docs/stable/indexing.html#indexing-view-versus-copy\n",
      "2018-11-20 19:54:57,979 - allfeatures_drop_cols - INFO - ...Columns Excluded from dataset...\n",
      "2018-11-20 19:54:58,333 - allfeatures_drop_cols - INFO - ...Columns Excluded from dataset...\n",
      "2018-11-20 19:54:58,629 - allfeatures_drop_cols - INFO - ...Columns Excluded from dataset...\n",
      "C:\\Users\\sandr\\AppData\\Local\\conda\\conda\\envs\\tensorflowenvironment\\lib\\site-packages\\ipykernel_launcher.py:16: SettingWithCopyWarning: \n",
      "A value is trying to be set on a copy of a slice from a DataFrame.\n",
      "Try using .loc[row_indexer,col_indexer] = value instead\n",
      "\n",
      "See the caveats in the documentation: http://pandas.pydata.org/pandas-docs/stable/indexing.html#indexing-view-versus-copy\n",
      "  app.launch_new_instance()\n"
     ]
    },
    {
     "name": "stdout",
     "output_type": "stream",
     "text": [
      "STANDARD DEV zero:  []\n",
      "Records for train Set - Number of rows: 356056\n"
     ]
    },
    {
     "name": "stderr",
     "output_type": "stream",
     "text": [
      "C:\\Users\\sandr\\AppData\\Local\\conda\\conda\\envs\\tensorflowenvironment\\lib\\site-packages\\ipykernel_launcher.py:10: SettingWithCopyWarning: \n",
      "A value is trying to be set on a copy of a slice from a DataFrame\n",
      "\n",
      "See the caveats in the documentation: http://pandas.pydata.org/pandas-docs/stable/indexing.html#indexing-view-versus-copy\n",
      "  # Remove the CWD from sys.path while we load stuff.\n",
      "2018-11-20 19:55:58,159 - allfeatures_drop_cols - INFO - ...Columns Excluded from dataset...\n",
      "C:\\Users\\sandr\\AppData\\Local\\conda\\conda\\envs\\tensorflowenvironment\\lib\\site-packages\\ipykernel_launcher.py:18: SettingWithCopyWarning: \n",
      "A value is trying to be set on a copy of a slice from a DataFrame\n",
      "\n",
      "See the caveats in the documentation: http://pandas.pydata.org/pandas-docs/stable/indexing.html#indexing-view-versus-copy\n",
      "2018-11-20 19:55:58,419 - allfeatures_extract_labels - INFO - ...Labels extracted from Dataset...\n",
      "2018-11-20 19:56:01,173 - allfeatures_drop_cols - INFO - ...Columns Excluded from dataset...\n",
      "2018-11-20 19:56:01,233 - allfeatures_extract_labels - INFO - ...Labels extracted from Dataset...\n"
     ]
    },
    {
     "name": "stdout",
     "output_type": "stream",
     "text": [
      "Records for valid Set - Number of rows: 11506\n"
     ]
    },
    {
     "name": "stderr",
     "output_type": "stream",
     "text": [
      "2018-11-20 19:56:01,489 - allfeatures_drop_cols - INFO - ...Columns Excluded from dataset...\n",
      "2018-11-20 19:56:01,560 - allfeatures_extract_labels - INFO - ...Labels extracted from Dataset...\n"
     ]
    },
    {
     "name": "stdout",
     "output_type": "stream",
     "text": [
      "Records for test Set - Number of rows: 39085\n",
      "chunk:  67  chunk size:  500000\n"
     ]
    },
    {
     "name": "stderr",
     "output_type": "stream",
     "text": [
      "2018-11-20 19:56:17,042 - drop_invalid_delinquency_status - INFO - invalid_delinquency_status dropped\n",
      "2018-11-20 19:56:21,259 - drop_invalid_delinquency_status - INFO - dropping invalid transitions and delinquency status, fill nan values, drop duplicates\n",
      "C:\\Users\\sandr\\AppData\\Local\\conda\\conda\\envs\\tensorflowenvironment\\lib\\site-packages\\ipykernel_launcher.py:36: SettingWithCopyWarning: \n",
      "A value is trying to be set on a copy of a slice from a DataFrame\n",
      "\n",
      "See the caveats in the documentation: http://pandas.pydata.org/pandas-docs/stable/indexing.html#indexing-view-versus-copy\n",
      "2018-11-20 19:56:33,163 - allfeatures_drop_cols - INFO - ...Columns Excluded from dataset...\n",
      "2018-11-20 19:56:33,519 - allfeatures_drop_cols - INFO - ...Columns Excluded from dataset...\n",
      "2018-11-20 19:56:33,823 - allfeatures_drop_cols - INFO - ...Columns Excluded from dataset...\n",
      "C:\\Users\\sandr\\AppData\\Local\\conda\\conda\\envs\\tensorflowenvironment\\lib\\site-packages\\ipykernel_launcher.py:16: SettingWithCopyWarning: \n",
      "A value is trying to be set on a copy of a slice from a DataFrame.\n",
      "Try using .loc[row_indexer,col_indexer] = value instead\n",
      "\n",
      "See the caveats in the documentation: http://pandas.pydata.org/pandas-docs/stable/indexing.html#indexing-view-versus-copy\n",
      "  app.launch_new_instance()\n"
     ]
    },
    {
     "name": "stdout",
     "output_type": "stream",
     "text": [
      "STANDARD DEV zero:  []\n",
      "Records for train Set - Number of rows: 350995\n"
     ]
    },
    {
     "name": "stderr",
     "output_type": "stream",
     "text": [
      "C:\\Users\\sandr\\AppData\\Local\\conda\\conda\\envs\\tensorflowenvironment\\lib\\site-packages\\ipykernel_launcher.py:10: SettingWithCopyWarning: \n",
      "A value is trying to be set on a copy of a slice from a DataFrame\n",
      "\n",
      "See the caveats in the documentation: http://pandas.pydata.org/pandas-docs/stable/indexing.html#indexing-view-versus-copy\n",
      "  # Remove the CWD from sys.path while we load stuff.\n",
      "2018-11-20 19:57:34,080 - allfeatures_drop_cols - INFO - ...Columns Excluded from dataset...\n",
      "C:\\Users\\sandr\\AppData\\Local\\conda\\conda\\envs\\tensorflowenvironment\\lib\\site-packages\\ipykernel_launcher.py:18: SettingWithCopyWarning: \n",
      "A value is trying to be set on a copy of a slice from a DataFrame\n",
      "\n",
      "See the caveats in the documentation: http://pandas.pydata.org/pandas-docs/stable/indexing.html#indexing-view-versus-copy\n",
      "2018-11-20 19:57:34,331 - allfeatures_extract_labels - INFO - ...Labels extracted from Dataset...\n",
      "2018-11-20 19:57:37,076 - allfeatures_drop_cols - INFO - ...Columns Excluded from dataset...\n",
      "2018-11-20 19:57:37,137 - allfeatures_extract_labels - INFO - ...Labels extracted from Dataset...\n"
     ]
    },
    {
     "name": "stdout",
     "output_type": "stream",
     "text": [
      "Records for valid Set - Number of rows: 13109\n"
     ]
    },
    {
     "name": "stderr",
     "output_type": "stream",
     "text": [
      "2018-11-20 19:57:37,427 - allfeatures_drop_cols - INFO - ...Columns Excluded from dataset...\n",
      "2018-11-20 19:57:37,489 - allfeatures_extract_labels - INFO - ...Labels extracted from Dataset...\n"
     ]
    },
    {
     "name": "stdout",
     "output_type": "stream",
     "text": [
      "Records for test Set - Number of rows: 35249\n",
      "chunk:  68  chunk size:  500000\n"
     ]
    },
    {
     "name": "stderr",
     "output_type": "stream",
     "text": [
      "2018-11-20 19:57:52,001 - drop_invalid_delinquency_status - INFO - invalid_delinquency_status dropped\n",
      "2018-11-20 19:57:56,250 - drop_invalid_delinquency_status - INFO - dropping invalid transitions and delinquency status, fill nan values, drop duplicates\n",
      "C:\\Users\\sandr\\AppData\\Local\\conda\\conda\\envs\\tensorflowenvironment\\lib\\site-packages\\ipykernel_launcher.py:36: SettingWithCopyWarning: \n",
      "A value is trying to be set on a copy of a slice from a DataFrame\n",
      "\n",
      "See the caveats in the documentation: http://pandas.pydata.org/pandas-docs/stable/indexing.html#indexing-view-versus-copy\n",
      "2018-11-20 19:58:08,277 - allfeatures_drop_cols - INFO - ...Columns Excluded from dataset...\n",
      "2018-11-20 19:58:08,628 - allfeatures_drop_cols - INFO - ...Columns Excluded from dataset...\n",
      "2018-11-20 19:58:08,936 - allfeatures_drop_cols - INFO - ...Columns Excluded from dataset...\n",
      "C:\\Users\\sandr\\AppData\\Local\\conda\\conda\\envs\\tensorflowenvironment\\lib\\site-packages\\ipykernel_launcher.py:16: SettingWithCopyWarning: \n",
      "A value is trying to be set on a copy of a slice from a DataFrame.\n",
      "Try using .loc[row_indexer,col_indexer] = value instead\n",
      "\n",
      "See the caveats in the documentation: http://pandas.pydata.org/pandas-docs/stable/indexing.html#indexing-view-versus-copy\n",
      "  app.launch_new_instance()\n"
     ]
    },
    {
     "name": "stdout",
     "output_type": "stream",
     "text": [
      "STANDARD DEV zero:  []\n",
      "Records for train Set - Number of rows: 351140\n"
     ]
    },
    {
     "name": "stderr",
     "output_type": "stream",
     "text": [
      "C:\\Users\\sandr\\AppData\\Local\\conda\\conda\\envs\\tensorflowenvironment\\lib\\site-packages\\ipykernel_launcher.py:10: SettingWithCopyWarning: \n",
      "A value is trying to be set on a copy of a slice from a DataFrame\n",
      "\n",
      "See the caveats in the documentation: http://pandas.pydata.org/pandas-docs/stable/indexing.html#indexing-view-versus-copy\n",
      "  # Remove the CWD from sys.path while we load stuff.\n",
      "2018-11-20 19:59:08,887 - allfeatures_drop_cols - INFO - ...Columns Excluded from dataset...\n",
      "C:\\Users\\sandr\\AppData\\Local\\conda\\conda\\envs\\tensorflowenvironment\\lib\\site-packages\\ipykernel_launcher.py:18: SettingWithCopyWarning: \n",
      "A value is trying to be set on a copy of a slice from a DataFrame\n",
      "\n",
      "See the caveats in the documentation: http://pandas.pydata.org/pandas-docs/stable/indexing.html#indexing-view-versus-copy\n",
      "2018-11-20 19:59:09,142 - allfeatures_extract_labels - INFO - ...Labels extracted from Dataset...\n",
      "2018-11-20 19:59:11,970 - allfeatures_drop_cols - INFO - ...Columns Excluded from dataset...\n",
      "2018-11-20 19:59:12,031 - allfeatures_extract_labels - INFO - ...Labels extracted from Dataset...\n"
     ]
    },
    {
     "name": "stdout",
     "output_type": "stream",
     "text": [
      "Records for valid Set - Number of rows: 13252\n"
     ]
    },
    {
     "name": "stderr",
     "output_type": "stream",
     "text": [
      "2018-11-20 19:59:12,317 - allfeatures_drop_cols - INFO - ...Columns Excluded from dataset...\n",
      "2018-11-20 19:59:12,377 - allfeatures_extract_labels - INFO - ...Labels extracted from Dataset...\n"
     ]
    },
    {
     "name": "stdout",
     "output_type": "stream",
     "text": [
      "Records for test Set - Number of rows: 25967\n",
      "chunk:  69  chunk size:  500000\n"
     ]
    },
    {
     "name": "stderr",
     "output_type": "stream",
     "text": [
      "2018-11-20 19:59:28,011 - drop_invalid_delinquency_status - INFO - invalid_delinquency_status dropped\n",
      "2018-11-20 19:59:32,351 - drop_invalid_delinquency_status - INFO - dropping invalid transitions and delinquency status, fill nan values, drop duplicates\n",
      "C:\\Users\\sandr\\AppData\\Local\\conda\\conda\\envs\\tensorflowenvironment\\lib\\site-packages\\ipykernel_launcher.py:36: SettingWithCopyWarning: \n",
      "A value is trying to be set on a copy of a slice from a DataFrame\n",
      "\n",
      "See the caveats in the documentation: http://pandas.pydata.org/pandas-docs/stable/indexing.html#indexing-view-versus-copy\n",
      "2018-11-20 19:59:44,047 - allfeatures_drop_cols - INFO - ...Columns Excluded from dataset...\n",
      "2018-11-20 19:59:44,401 - allfeatures_drop_cols - INFO - ...Columns Excluded from dataset...\n",
      "2018-11-20 19:59:44,697 - allfeatures_drop_cols - INFO - ...Columns Excluded from dataset...\n",
      "C:\\Users\\sandr\\AppData\\Local\\conda\\conda\\envs\\tensorflowenvironment\\lib\\site-packages\\ipykernel_launcher.py:16: SettingWithCopyWarning: \n",
      "A value is trying to be set on a copy of a slice from a DataFrame.\n",
      "Try using .loc[row_indexer,col_indexer] = value instead\n",
      "\n",
      "See the caveats in the documentation: http://pandas.pydata.org/pandas-docs/stable/indexing.html#indexing-view-versus-copy\n",
      "  app.launch_new_instance()\n"
     ]
    },
    {
     "name": "stdout",
     "output_type": "stream",
     "text": [
      "STANDARD DEV zero:  []\n",
      "Records for train Set - Number of rows: 356941\n"
     ]
    },
    {
     "name": "stderr",
     "output_type": "stream",
     "text": [
      "C:\\Users\\sandr\\AppData\\Local\\conda\\conda\\envs\\tensorflowenvironment\\lib\\site-packages\\ipykernel_launcher.py:10: SettingWithCopyWarning: \n",
      "A value is trying to be set on a copy of a slice from a DataFrame\n",
      "\n",
      "See the caveats in the documentation: http://pandas.pydata.org/pandas-docs/stable/indexing.html#indexing-view-versus-copy\n",
      "  # Remove the CWD from sys.path while we load stuff.\n",
      "2018-11-20 20:00:43,841 - allfeatures_drop_cols - INFO - ...Columns Excluded from dataset...\n",
      "C:\\Users\\sandr\\AppData\\Local\\conda\\conda\\envs\\tensorflowenvironment\\lib\\site-packages\\ipykernel_launcher.py:18: SettingWithCopyWarning: \n",
      "A value is trying to be set on a copy of a slice from a DataFrame\n",
      "\n",
      "See the caveats in the documentation: http://pandas.pydata.org/pandas-docs/stable/indexing.html#indexing-view-versus-copy\n",
      "2018-11-20 20:00:44,101 - allfeatures_extract_labels - INFO - ...Labels extracted from Dataset...\n",
      "2018-11-20 20:00:46,817 - allfeatures_drop_cols - INFO - ...Columns Excluded from dataset...\n",
      "2018-11-20 20:00:46,885 - allfeatures_extract_labels - INFO - ...Labels extracted from Dataset...\n"
     ]
    },
    {
     "name": "stdout",
     "output_type": "stream",
     "text": [
      "Records for valid Set - Number of rows: 14738\n"
     ]
    },
    {
     "name": "stderr",
     "output_type": "stream",
     "text": [
      "2018-11-20 20:00:47,247 - allfeatures_drop_cols - INFO - ...Columns Excluded from dataset...\n",
      "2018-11-20 20:00:47,307 - allfeatures_extract_labels - INFO - ...Labels extracted from Dataset...\n"
     ]
    },
    {
     "name": "stdout",
     "output_type": "stream",
     "text": [
      "Records for test Set - Number of rows: 28100\n",
      "chunk:  70  chunk size:  500000\n"
     ]
    },
    {
     "name": "stderr",
     "output_type": "stream",
     "text": [
      "2018-11-20 20:01:03,421 - drop_invalid_delinquency_status - INFO - invalid_delinquency_status dropped\n",
      "2018-11-20 20:01:07,741 - drop_invalid_delinquency_status - INFO - dropping invalid transitions and delinquency status, fill nan values, drop duplicates\n",
      "C:\\Users\\sandr\\AppData\\Local\\conda\\conda\\envs\\tensorflowenvironment\\lib\\site-packages\\ipykernel_launcher.py:36: SettingWithCopyWarning: \n",
      "A value is trying to be set on a copy of a slice from a DataFrame\n",
      "\n",
      "See the caveats in the documentation: http://pandas.pydata.org/pandas-docs/stable/indexing.html#indexing-view-versus-copy\n",
      "2018-11-20 20:01:19,673 - allfeatures_drop_cols - INFO - ...Columns Excluded from dataset...\n",
      "2018-11-20 20:01:20,033 - allfeatures_drop_cols - INFO - ...Columns Excluded from dataset...\n",
      "2018-11-20 20:01:20,335 - allfeatures_drop_cols - INFO - ...Columns Excluded from dataset...\n",
      "C:\\Users\\sandr\\AppData\\Local\\conda\\conda\\envs\\tensorflowenvironment\\lib\\site-packages\\ipykernel_launcher.py:16: SettingWithCopyWarning: \n",
      "A value is trying to be set on a copy of a slice from a DataFrame.\n",
      "Try using .loc[row_indexer,col_indexer] = value instead\n",
      "\n",
      "See the caveats in the documentation: http://pandas.pydata.org/pandas-docs/stable/indexing.html#indexing-view-versus-copy\n",
      "  app.launch_new_instance()\n"
     ]
    },
    {
     "name": "stdout",
     "output_type": "stream",
     "text": [
      "STANDARD DEV zero:  []\n",
      "Records for train Set - Number of rows: 380764\n"
     ]
    },
    {
     "name": "stderr",
     "output_type": "stream",
     "text": [
      "C:\\Users\\sandr\\AppData\\Local\\conda\\conda\\envs\\tensorflowenvironment\\lib\\site-packages\\ipykernel_launcher.py:10: SettingWithCopyWarning: \n",
      "A value is trying to be set on a copy of a slice from a DataFrame\n",
      "\n",
      "See the caveats in the documentation: http://pandas.pydata.org/pandas-docs/stable/indexing.html#indexing-view-versus-copy\n",
      "  # Remove the CWD from sys.path while we load stuff.\n",
      "2018-11-20 20:02:20,743 - allfeatures_drop_cols - INFO - ...Columns Excluded from dataset...\n",
      "C:\\Users\\sandr\\AppData\\Local\\conda\\conda\\envs\\tensorflowenvironment\\lib\\site-packages\\ipykernel_launcher.py:18: SettingWithCopyWarning: \n",
      "A value is trying to be set on a copy of a slice from a DataFrame\n",
      "\n",
      "See the caveats in the documentation: http://pandas.pydata.org/pandas-docs/stable/indexing.html#indexing-view-versus-copy\n",
      "2018-11-20 20:02:21,023 - allfeatures_extract_labels - INFO - ...Labels extracted from Dataset...\n",
      "2018-11-20 20:02:24,196 - allfeatures_drop_cols - INFO - ...Columns Excluded from dataset...\n",
      "2018-11-20 20:02:24,253 - allfeatures_extract_labels - INFO - ...Labels extracted from Dataset...\n"
     ]
    },
    {
     "name": "stdout",
     "output_type": "stream",
     "text": [
      "Records for valid Set - Number of rows: 15989\n"
     ]
    },
    {
     "name": "stderr",
     "output_type": "stream",
     "text": [
      "2018-11-20 20:02:24,613 - allfeatures_drop_cols - INFO - ...Columns Excluded from dataset...\n",
      "2018-11-20 20:02:24,673 - allfeatures_extract_labels - INFO - ...Labels extracted from Dataset...\n"
     ]
    },
    {
     "name": "stdout",
     "output_type": "stream",
     "text": [
      "Records for test Set - Number of rows: 29453\n",
      "chunk:  71  chunk size:  500000\n"
     ]
    },
    {
     "name": "stderr",
     "output_type": "stream",
     "text": [
      "2018-11-20 20:02:39,203 - drop_invalid_delinquency_status - INFO - invalid_delinquency_status dropped\n",
      "2018-11-20 20:02:43,522 - drop_invalid_delinquency_status - INFO - dropping invalid transitions and delinquency status, fill nan values, drop duplicates\n",
      "C:\\Users\\sandr\\AppData\\Local\\conda\\conda\\envs\\tensorflowenvironment\\lib\\site-packages\\ipykernel_launcher.py:36: SettingWithCopyWarning: \n",
      "A value is trying to be set on a copy of a slice from a DataFrame\n",
      "\n",
      "See the caveats in the documentation: http://pandas.pydata.org/pandas-docs/stable/indexing.html#indexing-view-versus-copy\n",
      "2018-11-20 20:02:55,464 - allfeatures_drop_cols - INFO - ...Columns Excluded from dataset...\n",
      "2018-11-20 20:02:55,837 - allfeatures_drop_cols - INFO - ...Columns Excluded from dataset...\n",
      "2018-11-20 20:02:56,159 - allfeatures_drop_cols - INFO - ...Columns Excluded from dataset...\n",
      "C:\\Users\\sandr\\AppData\\Local\\conda\\conda\\envs\\tensorflowenvironment\\lib\\site-packages\\ipykernel_launcher.py:16: SettingWithCopyWarning: \n",
      "A value is trying to be set on a copy of a slice from a DataFrame.\n",
      "Try using .loc[row_indexer,col_indexer] = value instead\n",
      "\n",
      "See the caveats in the documentation: http://pandas.pydata.org/pandas-docs/stable/indexing.html#indexing-view-versus-copy\n",
      "  app.launch_new_instance()\n"
     ]
    },
    {
     "name": "stdout",
     "output_type": "stream",
     "text": [
      "STANDARD DEV zero:  []\n",
      "Records for train Set - Number of rows: 386598\n"
     ]
    },
    {
     "name": "stderr",
     "output_type": "stream",
     "text": [
      "C:\\Users\\sandr\\AppData\\Local\\conda\\conda\\envs\\tensorflowenvironment\\lib\\site-packages\\ipykernel_launcher.py:10: SettingWithCopyWarning: \n",
      "A value is trying to be set on a copy of a slice from a DataFrame\n",
      "\n",
      "See the caveats in the documentation: http://pandas.pydata.org/pandas-docs/stable/indexing.html#indexing-view-versus-copy\n",
      "  # Remove the CWD from sys.path while we load stuff.\n",
      "2018-11-20 20:03:56,061 - allfeatures_drop_cols - INFO - ...Columns Excluded from dataset...\n",
      "C:\\Users\\sandr\\AppData\\Local\\conda\\conda\\envs\\tensorflowenvironment\\lib\\site-packages\\ipykernel_launcher.py:18: SettingWithCopyWarning: \n",
      "A value is trying to be set on a copy of a slice from a DataFrame\n",
      "\n",
      "See the caveats in the documentation: http://pandas.pydata.org/pandas-docs/stable/indexing.html#indexing-view-versus-copy\n",
      "2018-11-20 20:03:56,327 - allfeatures_extract_labels - INFO - ...Labels extracted from Dataset...\n",
      "2018-11-20 20:03:59,523 - allfeatures_drop_cols - INFO - ...Columns Excluded from dataset...\n",
      "2018-11-20 20:03:59,583 - allfeatures_extract_labels - INFO - ...Labels extracted from Dataset...\n"
     ]
    },
    {
     "name": "stdout",
     "output_type": "stream",
     "text": [
      "Records for valid Set - Number of rows: 13826\n"
     ]
    },
    {
     "name": "stderr",
     "output_type": "stream",
     "text": [
      "2018-11-20 20:03:59,986 - allfeatures_drop_cols - INFO - ...Columns Excluded from dataset...\n",
      "2018-11-20 20:04:00,061 - allfeatures_extract_labels - INFO - ...Labels extracted from Dataset...\n"
     ]
    },
    {
     "name": "stdout",
     "output_type": "stream",
     "text": [
      "Records for test Set - Number of rows: 26329\n",
      "chunk:  72  chunk size:  340072\n"
     ]
    },
    {
     "name": "stderr",
     "output_type": "stream",
     "text": [
      "2018-11-20 20:04:10,497 - drop_invalid_delinquency_status - INFO - invalid_delinquency_status dropped\n",
      "2018-11-20 20:04:13,206 - drop_invalid_delinquency_status - INFO - dropping invalid transitions and delinquency status, fill nan values, drop duplicates\n",
      "C:\\Users\\sandr\\AppData\\Local\\conda\\conda\\envs\\tensorflowenvironment\\lib\\site-packages\\ipykernel_launcher.py:36: SettingWithCopyWarning: \n",
      "A value is trying to be set on a copy of a slice from a DataFrame\n",
      "\n",
      "See the caveats in the documentation: http://pandas.pydata.org/pandas-docs/stable/indexing.html#indexing-view-versus-copy\n",
      "2018-11-20 20:04:21,434 - allfeatures_drop_cols - INFO - ...Columns Excluded from dataset...\n",
      "2018-11-20 20:04:21,678 - allfeatures_drop_cols - INFO - ...Columns Excluded from dataset...\n",
      "2018-11-20 20:04:21,918 - allfeatures_drop_cols - INFO - ...Columns Excluded from dataset...\n",
      "C:\\Users\\sandr\\AppData\\Local\\conda\\conda\\envs\\tensorflowenvironment\\lib\\site-packages\\ipykernel_launcher.py:16: SettingWithCopyWarning: \n",
      "A value is trying to be set on a copy of a slice from a DataFrame.\n",
      "Try using .loc[row_indexer,col_indexer] = value instead\n",
      "\n",
      "See the caveats in the documentation: http://pandas.pydata.org/pandas-docs/stable/indexing.html#indexing-view-versus-copy\n",
      "  app.launch_new_instance()\n"
     ]
    },
    {
     "name": "stdout",
     "output_type": "stream",
     "text": [
      "STANDARD DEV zero:  []\n",
      "Records for train Set - Number of rows: 269018\n"
     ]
    },
    {
     "name": "stderr",
     "output_type": "stream",
     "text": [
      "C:\\Users\\sandr\\AppData\\Local\\conda\\conda\\envs\\tensorflowenvironment\\lib\\site-packages\\ipykernel_launcher.py:10: SettingWithCopyWarning: \n",
      "A value is trying to be set on a copy of a slice from a DataFrame\n",
      "\n",
      "See the caveats in the documentation: http://pandas.pydata.org/pandas-docs/stable/indexing.html#indexing-view-versus-copy\n",
      "  # Remove the CWD from sys.path while we load stuff.\n",
      "2018-11-20 20:05:04,749 - allfeatures_drop_cols - INFO - ...Columns Excluded from dataset...\n",
      "C:\\Users\\sandr\\AppData\\Local\\conda\\conda\\envs\\tensorflowenvironment\\lib\\site-packages\\ipykernel_launcher.py:18: SettingWithCopyWarning: \n",
      "A value is trying to be set on a copy of a slice from a DataFrame\n",
      "\n",
      "See the caveats in the documentation: http://pandas.pydata.org/pandas-docs/stable/indexing.html#indexing-view-versus-copy\n",
      "2018-11-20 20:05:04,965 - allfeatures_extract_labels - INFO - ...Labels extracted from Dataset...\n",
      "2018-11-20 20:05:07,259 - allfeatures_drop_cols - INFO - ...Columns Excluded from dataset...\n",
      "2018-11-20 20:05:07,315 - allfeatures_extract_labels - INFO - ...Labels extracted from Dataset...\n"
     ]
    },
    {
     "name": "stdout",
     "output_type": "stream",
     "text": [
      "Records for valid Set - Number of rows: 8916\n"
     ]
    },
    {
     "name": "stderr",
     "output_type": "stream",
     "text": [
      "2018-11-20 20:05:07,639 - allfeatures_drop_cols - INFO - ...Columns Excluded from dataset...\n",
      "2018-11-20 20:05:07,686 - allfeatures_extract_labels - INFO - ...Labels extracted from Dataset...\n"
     ]
    },
    {
     "name": "stdout",
     "output_type": "stream",
     "text": [
      "Records for test Set - Number of rows: 16525\n"
     ]
    },
    {
     "name": "stderr",
     "output_type": "stream",
     "text": [
      "2018-11-20 20:05:08,006 - allfeatures_extract_labels - INFO - training, validation and testing set into .h5 file\n"
     ]
    },
    {
     "name": "stdout",
     "output_type": "stream",
     "text": [
      "train/features size:  26769588\n",
      "valid/features size:  901868\n",
      "test/features size:  1915122\n",
      "26769588 901868 1915122\n",
      "Preprocessing Time per file:  1:53:22.908643\n",
      "Preprocessing - Time:  1:53:23.031321\n"
     ]
    }
   ],
   "source": [
    "startTime = datetime.now()\n",
    "\n",
    "if not os.path.exists(os.path.join(PRO_DIR, FLAGS.prepro_dir)): #os.path.exists\n",
    "    os.makedirs(os.path.join(PRO_DIR, FLAGS.prepro_dir))\n",
    "\n",
    "allfeatures_preprocessing(RAW_DIR, PRO_DIR, FLAGS.prepro_dir, FLAGS.train_period, FLAGS.valid_period, FLAGS.test_period, dividing='percentage', \n",
    "                          chunksize=FLAGS.prepro_chunksize, refNorm=FLAGS.ref_norm, with_index=FLAGS.prepro_with_index, output_hdf=True)        \n",
    "print('Preprocessing - Time: ', datetime.now() - startTime)"
   ]
  }
 ],
 "metadata": {
  "kernelspec": {
   "display_name": "Python 3",
   "language": "python",
   "name": "python3"
  },
  "language_info": {
   "codemirror_mode": {
    "name": "ipython",
    "version": 3
   },
   "file_extension": ".py",
   "mimetype": "text/x-python",
   "name": "python",
   "nbconvert_exporter": "python",
   "pygments_lexer": "ipython3",
   "version": "3.6.4"
  }
 },
 "nbformat": 4,
 "nbformat_minor": 2
}
