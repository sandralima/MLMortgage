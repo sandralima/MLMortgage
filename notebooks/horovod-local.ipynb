{
 "cells": [
  {
   "cell_type": "code",
   "execution_count": 1,
   "metadata": {},
   "outputs": [
    {
     "name": "stderr",
     "output_type": "stream",
     "text": [
      "/home/ubuntu/anaconda3/envs/tensorflow_p36/lib/python3.6/site-packages/h5py/__init__.py:36: FutureWarning: Conversion of the second argument of issubdtype from `float` to `np.floating` is deprecated. In future, it will be treated as `np.float64 == np.dtype(float).type`.\n",
      "  from ._conv import register_converters as _register_converters\n"
     ]
    }
   ],
   "source": [
    "import tensorflow as tf\n",
    "import horovod.tensorflow as hvd\n",
    "layers = tf.contrib.layers\n",
    "learn = tf.contrib.learn\n",
    "\n",
    "tf.logging.set_verbosity(tf.logging.INFO)"
   ]
  },
  {
   "cell_type": "code",
   "execution_count": 2,
   "metadata": {},
   "outputs": [
    {
     "data": {
      "text/plain": [
       "0"
      ]
     },
     "execution_count": 2,
     "metadata": {},
     "output_type": "execute_result"
    }
   ],
   "source": [
    "# Horovod: initialize Horovod.\n",
    "hvd.init()\n"
   ]
  },
  {
   "cell_type": "code",
   "execution_count": 3,
   "metadata": {},
   "outputs": [
    {
     "data": {
      "text/plain": [
       "0"
      ]
     },
     "execution_count": 3,
     "metadata": {},
     "output_type": "execute_result"
    }
   ],
   "source": [
    "hvd.rank()"
   ]
  },
  {
   "cell_type": "code",
   "execution_count": 4,
   "metadata": {},
   "outputs": [
    {
     "name": "stdout",
     "output_type": "stream",
     "text": [
      "WARNING:tensorflow:From <ipython-input-4-7fc17d26b2ac>:2: read_data_sets (from tensorflow.contrib.learn.python.learn.datasets.mnist) is deprecated and will be removed in a future version.\n",
      "Instructions for updating:\n",
      "Please use alternatives such as official/mnist/dataset.py from tensorflow/models.\n",
      "WARNING:tensorflow:From /home/ubuntu/anaconda3/envs/tensorflow_p36/lib/python3.6/site-packages/tensorflow/contrib/learn/python/learn/datasets/mnist.py:260: maybe_download (from tensorflow.contrib.learn.python.learn.datasets.base) is deprecated and will be removed in a future version.\n",
      "Instructions for updating:\n",
      "Please write your own downloading logic.\n",
      "WARNING:tensorflow:From /home/ubuntu/anaconda3/envs/tensorflow_p36/lib/python3.6/site-packages/tensorflow/contrib/learn/python/learn/datasets/base.py:252: _internal_retry.<locals>.wrap.<locals>.wrapped_fn (from tensorflow.contrib.learn.python.learn.datasets.base) is deprecated and will be removed in a future version.\n",
      "Instructions for updating:\n",
      "Please use urllib or similar directly.\n",
      "Successfully downloaded train-images-idx3-ubyte.gz 9912422 bytes.\n",
      "WARNING:tensorflow:From /home/ubuntu/anaconda3/envs/tensorflow_p36/lib/python3.6/site-packages/tensorflow/contrib/learn/python/learn/datasets/mnist.py:262: extract_images (from tensorflow.contrib.learn.python.learn.datasets.mnist) is deprecated and will be removed in a future version.\n",
      "Instructions for updating:\n",
      "Please use tf.data to implement this functionality.\n",
      "Extracting MNIST-data-0/train-images-idx3-ubyte.gz\n",
      "Successfully downloaded train-labels-idx1-ubyte.gz 28881 bytes.\n",
      "WARNING:tensorflow:From /home/ubuntu/anaconda3/envs/tensorflow_p36/lib/python3.6/site-packages/tensorflow/contrib/learn/python/learn/datasets/mnist.py:267: extract_labels (from tensorflow.contrib.learn.python.learn.datasets.mnist) is deprecated and will be removed in a future version.\n",
      "Instructions for updating:\n",
      "Please use tf.data to implement this functionality.\n",
      "Extracting MNIST-data-0/train-labels-idx1-ubyte.gz\n",
      "Successfully downloaded t10k-images-idx3-ubyte.gz 1648877 bytes.\n",
      "Extracting MNIST-data-0/t10k-images-idx3-ubyte.gz\n",
      "Successfully downloaded t10k-labels-idx1-ubyte.gz 4542 bytes.\n",
      "Extracting MNIST-data-0/t10k-labels-idx1-ubyte.gz\n",
      "WARNING:tensorflow:From /home/ubuntu/anaconda3/envs/tensorflow_p36/lib/python3.6/site-packages/tensorflow/contrib/learn/python/learn/datasets/mnist.py:290: DataSet.__init__ (from tensorflow.contrib.learn.python.learn.datasets.mnist) is deprecated and will be removed in a future version.\n",
      "Instructions for updating:\n",
      "Please use alternatives such as official/mnist/dataset.py from tensorflow/models.\n",
      "Successfully downloaded train-images-idx3-ubyte.gz 9912422 bytes.\n",
      "Extracting MNIST-data-1/train-images-idx3-ubyte.gz\n",
      "Successfully downloaded train-labels-idx1-ubyte.gz 28881 bytes.\n",
      "Extracting MNIST-data-1/train-labels-idx1-ubyte.gz\n",
      "Successfully downloaded t10k-images-idx3-ubyte.gz 1648877 bytes.\n",
      "Extracting MNIST-data-1/t10k-images-idx3-ubyte.gz\n",
      "Successfully downloaded t10k-labels-idx1-ubyte.gz 4542 bytes.\n",
      "Extracting MNIST-data-1/t10k-labels-idx1-ubyte.gz\n"
     ]
    }
   ],
   "source": [
    "# Download and load MNIST dataset.\n",
    "mnist = learn.datasets.mnist.read_data_sets('MNIST-data-%d' % hvd.rank())\n",
    "mnist1 = learn.datasets.mnist.read_data_sets('MNIST-data-%d' % 1)"
   ]
  },
  {
   "cell_type": "code",
   "execution_count": 5,
   "metadata": {},
   "outputs": [
    {
     "name": "stdout",
     "output_type": "stream",
     "text": [
      "Datasets(train=<tensorflow.contrib.learn.python.learn.datasets.mnist.DataSet object at 0x7f5ef00e0ba8>, validation=<tensorflow.contrib.learn.python.learn.datasets.mnist.DataSet object at 0x7f5ef00e0b70>, test=<tensorflow.contrib.learn.python.learn.datasets.mnist.DataSet object at 0x7f5eec0f00f0>)\n"
     ]
    }
   ],
   "source": [
    "print(mnist)"
   ]
  },
  {
   "cell_type": "code",
   "execution_count": 6,
   "metadata": {},
   "outputs": [
    {
     "name": "stdout",
     "output_type": "stream",
     "text": [
      "Datasets(train=<tensorflow.contrib.learn.python.learn.datasets.mnist.DataSet object at 0x7f5ef00e06a0>, validation=<tensorflow.contrib.learn.python.learn.datasets.mnist.DataSet object at 0x7f5eec0f0668>, test=<tensorflow.contrib.learn.python.learn.datasets.mnist.DataSet object at 0x7f5eec0f05c0>)\n"
     ]
    }
   ],
   "source": [
    "print(mnist1)"
   ]
  },
  {
   "cell_type": "code",
   "execution_count": 7,
   "metadata": {},
   "outputs": [],
   "source": [
    "def conv_model(feature, target, mode):\n",
    "    \"\"\"2-layer convolution model.\"\"\"\n",
    "    # Convert the target to a one-hot tensor of shape (batch_size, 10) and\n",
    "    # with a on-value of 1 for each one-hot vector of length 10.\n",
    "    target = tf.one_hot(tf.cast(target, tf.int32), 10, 1, 0)\n",
    "\n",
    "    # Reshape feature to 4d tensor with 2nd and 3rd dimensions being\n",
    "    # image width and height final dimension being the number of color channels.\n",
    "    feature = tf.reshape(feature, [-1, 28, 28, 1])\n",
    "\n",
    "    # First conv layer will compute 32 features for each 5x5 patch\n",
    "    with tf.variable_scope('conv_layer1'):\n",
    "        h_conv1 = layers.conv2d(\n",
    "            feature, 32, kernel_size=[5, 5], activation_fn=tf.nn.relu)\n",
    "        h_pool1 = tf.nn.max_pool(\n",
    "            h_conv1, ksize=[1, 2, 2, 1], strides=[1, 2, 2, 1], padding='SAME')\n",
    "\n",
    "    # Second conv layer will compute 64 features for each 5x5 patch.\n",
    "    with tf.variable_scope('conv_layer2'):\n",
    "        h_conv2 = layers.conv2d(\n",
    "            h_pool1, 64, kernel_size=[5, 5], activation_fn=tf.nn.relu)\n",
    "        h_pool2 = tf.nn.max_pool(\n",
    "            h_conv2, ksize=[1, 2, 2, 1], strides=[1, 2, 2, 1], padding='SAME')\n",
    "        # reshape tensor into a batch of vectors\n",
    "        h_pool2_flat = tf.reshape(h_pool2, [-1, 7 * 7 * 64])\n",
    "\n",
    "    # Densely connected layer with 1024 neurons.\n",
    "    h_fc1 = layers.dropout(\n",
    "        layers.fully_connected(\n",
    "            h_pool2_flat, 1024, activation_fn=tf.nn.relu),\n",
    "        keep_prob=0.5,\n",
    "        is_training=mode == tf.contrib.learn.ModeKeys.TRAIN)\n",
    "\n",
    "    # Compute logits (1 per class) and compute loss.\n",
    "    logits = layers.fully_connected(h_fc1, 10, activation_fn=None)\n",
    "    loss = tf.losses.softmax_cross_entropy(target, logits)\n",
    "\n",
    "    return tf.argmax(logits, 1), loss"
   ]
  },
  {
   "cell_type": "code",
   "execution_count": 8,
   "metadata": {},
   "outputs": [
    {
     "name": "stdout",
     "output_type": "stream",
     "text": [
      "WARNING:tensorflow:From <ipython-input-8-219ed7602e40>:14: get_or_create_global_step (from tensorflow.contrib.framework.python.ops.variables) is deprecated and will be removed in a future version.\n",
      "Instructions for updating:\n",
      "Please switch to tf.train.get_or_create_global_step\n"
     ]
    }
   ],
   "source": [
    "# Build model...\n",
    "with tf.name_scope('input'):\n",
    "    image = tf.placeholder(tf.float32, [None, 784], name='image')\n",
    "    label = tf.placeholder(tf.float32, [None], name='label')\n",
    "\n",
    "predict, loss = conv_model(image, label, tf.contrib.learn.ModeKeys.TRAIN)\n",
    "\n",
    "# Horovod: adjust learning rate based on number of GPUs.\n",
    "opt = tf.train.RMSPropOptimizer(0.001 * hvd.size())\n",
    "\n",
    "# Horovod: add Horovod Distributed Optimizer.\n",
    "opt = hvd.DistributedOptimizer(opt)\n",
    "\n",
    "global_step = tf.contrib.framework.get_or_create_global_step()\n",
    "train_op = opt.minimize(loss, global_step=global_step)"
   ]
  },
  {
   "cell_type": "code",
   "execution_count": 9,
   "metadata": {},
   "outputs": [
    {
     "name": "stdout",
     "output_type": "stream",
     "text": [
      "1\n"
     ]
    }
   ],
   "source": [
    "print(hvd.size())"
   ]
  },
  {
   "cell_type": "code",
   "execution_count": null,
   "metadata": {},
   "outputs": [],
   "source": [
    "hooks = [\n",
    "        # Horovod: BroadcastGlobalVariablesHook broadcasts initial variable states\n",
    "        # from rank 0 to all other processes. This is necessary to ensure consistent\n",
    "        # initialization of all workers when training is started with random weights\n",
    "        # or restored from a checkpoint.\n",
    "        hvd.BroadcastGlobalVariablesHook(0),\n",
    "\n",
    "        # Horovod: adjust number of steps based on number of GPUs.\n",
    "        tf.train.StopAtStepHook(last_step=20000 // hvd.size()),\n",
    "\n",
    "        tf.train.LoggingTensorHook(tensors={'step': global_step, 'loss': loss},\n",
    "                                   every_n_iter=10),\n",
    "    ]\n",
    "\n",
    "# Horovod: pin GPU to be used to process local rank (one GPU per process)\n",
    "config = tf.ConfigProto()\n",
    "config.gpu_options.allow_growth = True\n",
    "config.gpu_options.visible_device_list = str(hvd.local_rank())"
   ]
  },
  {
   "cell_type": "code",
   "execution_count": null,
   "metadata": {},
   "outputs": [],
   "source": [
    "print(hvd.local_rank())"
   ]
  },
  {
   "cell_type": "code",
   "execution_count": null,
   "metadata": {},
   "outputs": [],
   "source": [
    "# Horovod: save checkpoints only on worker 0 to prevent other workers from\n",
    "# corrupting them.\n",
    "checkpoint_dir = './checkpoints' if hvd.rank() == 0 else None\n",
    "\n",
    "# The MonitoredTrainingSession takes care of session initialization,\n",
    "# restoring from a checkpoint, saving to a checkpoint, and closing when done\n",
    "# or an error occurs.\n",
    "with tf.train.MonitoredTrainingSession(checkpoint_dir=checkpoint_dir,\n",
    "                                       hooks=hooks,\n",
    "                                       config=config) as mon_sess:\n",
    "    while not mon_sess.should_stop():\n",
    "        # Run a training step synchronously.\n",
    "        image_, label_ = mnist.train.next_batch(100)\n",
    "        mon_sess.run(train_op, feed_dict={image: image_, label: label_})"
   ]
  }
 ],
 "metadata": {
  "kernelspec": {
   "display_name": "Python [conda env:tensorflow_p36]",
   "language": "python",
   "name": "conda-env-tensorflow_p36-py"
  },
  "language_info": {
   "codemirror_mode": {
    "name": "ipython",
    "version": 3
   },
   "file_extension": ".py",
   "mimetype": "text/x-python",
   "name": "python",
   "nbconvert_exporter": "python",
   "pygments_lexer": "ipython3",
   "version": "3.6.4"
  }
 },
 "nbformat": 4,
 "nbformat_minor": 2
}
