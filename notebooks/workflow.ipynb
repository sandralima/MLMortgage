{
 "cells": [
  {
   "cell_type": "markdown",
   "metadata": {},
   "source": [
    "## Getting raw data from Mercury ftp server\n",
    "you need to download the raw data and save it at /home/ubuntu/MLMortgage/data/raw/[raw_directory]\n",
    "For this example [raw_directory]='chuncks_random_c1mill'. If it does not exist, the wget command will created it.\n",
    "you can change the example file 'temporalloandynmodifmrstaticitu-random-1mill-2mill.txt' for the desired file.\n",
    "Note: This works only for ubuntu."
   ]
  },
  {
   "cell_type": "code",
   "execution_count": null,
   "metadata": {},
   "outputs": [],
   "source": [
    "%cd"
   ]
  },
  {
   "cell_type": "code",
   "execution_count": null,
   "metadata": {},
   "outputs": [],
   "source": [
    "!wget --ftp-user=machinelearning --ftp-password=Mdje7i3739# ftp://mercury.vichara.co.uk/temporalloandynmodifmrstaticitu-random-1mill-2mill.txt -P /home/ubuntu/MLMortgage/data/raw/chuncks_random_c1mill/"
   ]
  },
  {
   "cell_type": "markdown",
   "metadata": {},
   "source": [
    "## Beginning Steps"
   ]
  },
  {
   "cell_type": "code",
   "execution_count": 15,
   "metadata": {},
   "outputs": [],
   "source": [
    "import sys\n",
    "import os\n",
    "import pandas as pd\n",
    "from pathlib import Path\n",
    "from datetime import datetime\n",
    "import argparse\n",
    "import psutil\n",
    "\n",
    "nb_dir = os.path.join(Path(os.getcwd()).parents[0], 'src', 'data')\n",
    "if nb_dir not in sys.path:\n",
    "    sys.path.insert(0, nb_dir)\n",
    "# print(sys.path)\n",
    "import features_selection as fs\n",
    "import make_dataset as md\n",
    "import build_data as bd\n",
    "import get_raw_data as grd\n",
    "import data_classes\n",
    "import glob\n",
    "\n",
    "models_dir = os.path.join(Path(os.getcwd()).parents[0], 'src', 'models')\n",
    "if models_dir not in sys.path:\n",
    "    sys.path.insert(0, models_dir)\n",
    "import nn_real as nn\n"
   ]
  },
  {
   "cell_type": "code",
   "execution_count": 16,
   "metadata": {},
   "outputs": [
    {
     "name": "stdout",
     "output_type": "stream",
     "text": [
      "C:\\Users\\sandr\\Documents\\GitHub\\MLMortgage\\data\\raw C:\\Users\\sandr\\Documents\\GitHub\\MLMortgage\\data\\processed\n"
     ]
    }
   ],
   "source": [
    "RAW_DIR = os.path.join(Path(os.getcwd()).parents[0], 'data', 'raw') \n",
    "PRO_DIR = os.path.join(Path(os.getcwd()).parents[0], 'data', 'processed')\n",
    "\n",
    "print(RAW_DIR, PRO_DIR)"
   ]
  },
  {
   "cell_type": "markdown",
   "metadata": {},
   "source": [
    "## Preprocessing  \n",
    "From console you can run:\n",
    "\n",
    "#### $ cd /home/ubuntu/MLMortgage/src/data\n",
    "\n",
    "#### $ python build_data.py --prepro_step=preprocessing --prepro_dir=chuncks_random_c1mill --prepro_chunksize=500000 --train_period 121 143 --valid_period 144 147 --test_period 148 155\n",
    "\n",
    "\n",
    "For this example, the raw file will be extracted from 'data/raw/chuncks_random_c1mill' directory  and the processed file will be save at 'data/processed/chuncks_random_c1mill' according to the folder name that you give in the parameter --prepro_dir. The periods are defined for training, validation and testing. prepro_chunksize is a parameter for processing blocks of data, instead just one by one. In this implementation the preprocessed file will be save in .h5 format because of their compression format and also you can put training, validation and testing dataset in just one file.\n",
    "\n",
    "The following cells make the same as in console:"
   ]
  },
  {
   "cell_type": "code",
   "execution_count": 17,
   "metadata": {},
   "outputs": [
    {
     "name": "stdout",
     "output_type": "stream",
     "text": [
      "Namespace(prepro_chunksize=500000, prepro_dir='chuncks_random_c1mill', prepro_step='preprocessing', prepro_with_index=False, ref_norm=True, slice_chunksize=1000, slice_index=0, slice_input_dir='chuncks_random_c1mill', slice_output_dir=['chuncks_random_c1mill_train', 'chuncks_random_c1mill_valid', 'chuncks_random_c1mill_test'], slice_tag=['train', 'valid', 'test'], slice_target_name=['c1mill99-01_train', 'c1mill99-01_valid', 'c1mill99-01_test'], slice_target_size=36000000, slice_with_index=False, test_period=[286, 304], train_period=[121, 279], valid_period=[280, 285])\n"
     ]
    }
   ],
   "source": [
    "FLAGS, UNPARSED = bd.update_parser(argparse.ArgumentParser())    \n",
    "#these are the more important parameters for preprocessing:\n",
    "FLAGS.prepro_dir='chuncks_random_c1mill' #this directory must be the same inside 'raw' and processed directories.\n",
    "FLAGS.prepro_chunksize=500000 \n",
    "FLAGS.train_period=[121,279] #[121, 143] \n",
    "FLAGS.valid_period=[280,285] #[144, 147] \n",
    "FLAGS.test_period=[286,304] #[148, 155]\n",
    "FLAGS.prepro_with_index = False\n",
    "                                                \n",
    "print(FLAGS)    "
   ]
  },
  {
   "cell_type": "code",
   "execution_count": 18,
   "metadata": {},
   "outputs": [
    {
     "data": {
      "text/plain": [
       "['C:\\\\Users\\\\sandr\\\\Documents\\\\GitHub\\\\MLMortgage\\\\data\\\\raw\\\\chuncks_random_c1mill\\\\temporalloandynmodifmrstaticitur-5mill-6mill.txt']"
      ]
     },
     "execution_count": 18,
     "metadata": {},
     "output_type": "execute_result"
    }
   ],
   "source": [
    "glob.glob(os.path.join(RAW_DIR, FLAGS.prepro_dir,\"*.txt\"))"
   ]
  },
  {
   "cell_type": "code",
   "execution_count": 19,
   "metadata": {
    "scrolled": true
   },
   "outputs": [
    {
     "name": "stdout",
     "output_type": "stream",
     "text": [
      "Preprocessing File: C:\\Users\\sandr\\Documents\\GitHub\\MLMortgage\\data\\raw\\chuncks_random_c1mill\\temporalloandynmodifmrstaticitur-5mill-6mill.txt\n",
      "generating:  C:\\Users\\sandr\\Documents\\GitHub\\MLMortgage\\data\\processed\\chuncks_random_c1mill\\temporalloandynmodifmrstaticitur-5mill-6mill_non_index-pp.h5\n",
      "chunk:  1  chunk size:  500000\n"
     ]
    },
    {
     "name": "stderr",
     "output_type": "stream",
     "text": [
      "2018-10-26 16:04:35,276 - drop_invalid_delinquency_status - INFO - invalid_delinquency_status dropped\n",
      "2018-10-26 16:04:41,130 - drop_invalid_delinquency_status - INFO - dropping invalid transitions and delinquency status, fill nan values, drop duplicates\n",
      "C:\\Users\\sandr\\Documents\\GitHub\\MLMortgage\\src\\data\\build_data.py:586: SettingWithCopyWarning: \n",
      "A value is trying to be set on a copy of a slice from a DataFrame\n",
      "\n",
      "See the caveats in the documentation: http://pandas.pydata.org/pandas-docs/stable/indexing.html#indexing-view-versus-copy\n",
      "  chunk['ORIGINATION_YEAR'][chunk['ORIGINATION_YEAR']<1995] = \"B1995\"\n",
      "2018-10-26 16:04:54,832 - allfeatures_drop_cols - INFO - ...Columns Excluded from dataset...\n",
      "2018-10-26 16:04:55,211 - allfeatures_drop_cols - INFO - ...Columns Excluded from dataset...\n",
      "2018-10-26 16:04:55,558 - allfeatures_drop_cols - INFO - ...Columns Excluded from dataset...\n"
     ]
    },
    {
     "name": "stdout",
     "output_type": "stream",
     "text": [
      "None\n",
      "Records for train Set - Number of rows: 318256\n"
     ]
    },
    {
     "name": "stderr",
     "output_type": "stream",
     "text": [
      "C:\\Users\\sandr\\Documents\\GitHub\\MLMortgage\\src\\data\\build_data.py:177: SettingWithCopyWarning: \n",
      "A value is trying to be set on a copy of a slice from a DataFrame\n",
      "\n",
      "See the caveats in the documentation: http://pandas.pydata.org/pandas-docs/stable/indexing.html#indexing-view-versus-copy\n",
      "  data.drop(data.columns[indices], axis=1, inplace=True)\n",
      "2018-10-26 16:05:41,345 - allfeatures_extract_labels - INFO - ...Labels extracted from Dataset...\n",
      "2018-10-26 16:05:49,019 - allfeatures_extract_labels - INFO - ...Labels extracted from Dataset...\n"
     ]
    },
    {
     "name": "stdout",
     "output_type": "stream",
     "text": [
      "Records for valid Set - Number of rows: 12244\n"
     ]
    },
    {
     "name": "stderr",
     "output_type": "stream",
     "text": [
      "2018-10-26 16:05:49,549 - allfeatures_extract_labels - INFO - ...Labels extracted from Dataset...\n"
     ]
    },
    {
     "name": "stdout",
     "output_type": "stream",
     "text": [
      "Records for test Set - Number of rows: 37231\n",
      "chunk:  2  chunk size:  500000\n"
     ]
    },
    {
     "name": "stderr",
     "output_type": "stream",
     "text": [
      "2018-10-26 16:06:23,398 - drop_invalid_delinquency_status - INFO - invalid_delinquency_status dropped\n",
      "2018-10-26 16:06:28,196 - drop_invalid_delinquency_status - INFO - dropping invalid transitions and delinquency status, fill nan values, drop duplicates\n",
      "C:\\Users\\sandr\\Documents\\GitHub\\MLMortgage\\src\\data\\build_data.py:586: SettingWithCopyWarning: \n",
      "A value is trying to be set on a copy of a slice from a DataFrame\n",
      "\n",
      "See the caveats in the documentation: http://pandas.pydata.org/pandas-docs/stable/indexing.html#indexing-view-versus-copy\n",
      "  chunk['ORIGINATION_YEAR'][chunk['ORIGINATION_YEAR']<1995] = \"B1995\"\n",
      "2018-10-26 16:06:41,009 - allfeatures_drop_cols - INFO - ...Columns Excluded from dataset...\n",
      "2018-10-26 16:06:41,431 - allfeatures_drop_cols - INFO - ...Columns Excluded from dataset...\n",
      "2018-10-26 16:06:41,763 - allfeatures_drop_cols - INFO - ...Columns Excluded from dataset...\n"
     ]
    },
    {
     "name": "stdout",
     "output_type": "stream",
     "text": [
      "None\n",
      "Records for train Set - Number of rows: 314459\n"
     ]
    },
    {
     "name": "stderr",
     "output_type": "stream",
     "text": [
      "C:\\Users\\sandr\\Documents\\GitHub\\MLMortgage\\src\\data\\build_data.py:177: SettingWithCopyWarning: \n",
      "A value is trying to be set on a copy of a slice from a DataFrame\n",
      "\n",
      "See the caveats in the documentation: http://pandas.pydata.org/pandas-docs/stable/indexing.html#indexing-view-versus-copy\n",
      "  data.drop(data.columns[indices], axis=1, inplace=True)\n",
      "2018-10-26 16:07:21,335 - allfeatures_extract_labels - INFO - ...Labels extracted from Dataset...\n",
      "2018-10-26 16:07:23,851 - allfeatures_extract_labels - INFO - ...Labels extracted from Dataset...\n"
     ]
    },
    {
     "name": "stdout",
     "output_type": "stream",
     "text": [
      "Records for valid Set - Number of rows: 13440\n"
     ]
    },
    {
     "name": "stderr",
     "output_type": "stream",
     "text": [
      "2018-10-26 16:07:24,086 - allfeatures_extract_labels - INFO - ...Labels extracted from Dataset...\n"
     ]
    },
    {
     "name": "stdout",
     "output_type": "stream",
     "text": [
      "Records for test Set - Number of rows: 33587\n",
      "chunk:  3  chunk size:  500000\n"
     ]
    },
    {
     "name": "stderr",
     "output_type": "stream",
     "text": [
      "2018-10-26 16:07:42,002 - drop_invalid_delinquency_status - INFO - invalid_delinquency_status dropped\n",
      "2018-10-26 16:07:46,246 - drop_invalid_delinquency_status - INFO - dropping invalid transitions and delinquency status, fill nan values, drop duplicates\n",
      "C:\\Users\\sandr\\Documents\\GitHub\\MLMortgage\\src\\data\\build_data.py:586: SettingWithCopyWarning: \n",
      "A value is trying to be set on a copy of a slice from a DataFrame\n",
      "\n",
      "See the caveats in the documentation: http://pandas.pydata.org/pandas-docs/stable/indexing.html#indexing-view-versus-copy\n",
      "  chunk['ORIGINATION_YEAR'][chunk['ORIGINATION_YEAR']<1995] = \"B1995\"\n",
      "2018-10-26 16:07:58,048 - allfeatures_drop_cols - INFO - ...Columns Excluded from dataset...\n",
      "2018-10-26 16:07:58,409 - allfeatures_drop_cols - INFO - ...Columns Excluded from dataset...\n",
      "2018-10-26 16:07:58,705 - allfeatures_drop_cols - INFO - ...Columns Excluded from dataset...\n"
     ]
    },
    {
     "name": "stdout",
     "output_type": "stream",
     "text": [
      "None\n",
      "Records for train Set - Number of rows: 318319\n"
     ]
    },
    {
     "name": "stderr",
     "output_type": "stream",
     "text": [
      "C:\\Users\\sandr\\Documents\\GitHub\\MLMortgage\\src\\data\\build_data.py:177: SettingWithCopyWarning: \n",
      "A value is trying to be set on a copy of a slice from a DataFrame\n",
      "\n",
      "See the caveats in the documentation: http://pandas.pydata.org/pandas-docs/stable/indexing.html#indexing-view-versus-copy\n",
      "  data.drop(data.columns[indices], axis=1, inplace=True)\n",
      "2018-10-26 16:08:41,113 - allfeatures_extract_labels - INFO - ...Labels extracted from Dataset...\n",
      "2018-10-26 16:08:43,525 - allfeatures_extract_labels - INFO - ...Labels extracted from Dataset...\n"
     ]
    },
    {
     "name": "stdout",
     "output_type": "stream",
     "text": [
      "Records for valid Set - Number of rows: 12163\n"
     ]
    },
    {
     "name": "stderr",
     "output_type": "stream",
     "text": [
      "2018-10-26 16:08:43,766 - allfeatures_extract_labels - INFO - ...Labels extracted from Dataset...\n"
     ]
    },
    {
     "name": "stdout",
     "output_type": "stream",
     "text": [
      "Records for test Set - Number of rows: 28927\n",
      "chunk:  4  chunk size:  500000\n"
     ]
    },
    {
     "name": "stderr",
     "output_type": "stream",
     "text": [
      "2018-10-26 16:09:02,567 - drop_invalid_delinquency_status - INFO - invalid_delinquency_status dropped\n",
      "2018-10-26 16:09:07,026 - drop_invalid_delinquency_status - INFO - dropping invalid transitions and delinquency status, fill nan values, drop duplicates\n",
      "C:\\Users\\sandr\\Documents\\GitHub\\MLMortgage\\src\\data\\build_data.py:586: SettingWithCopyWarning: \n",
      "A value is trying to be set on a copy of a slice from a DataFrame\n",
      "\n",
      "See the caveats in the documentation: http://pandas.pydata.org/pandas-docs/stable/indexing.html#indexing-view-versus-copy\n",
      "  chunk['ORIGINATION_YEAR'][chunk['ORIGINATION_YEAR']<1995] = \"B1995\"\n",
      "2018-10-26 16:09:19,605 - allfeatures_drop_cols - INFO - ...Columns Excluded from dataset...\n",
      "2018-10-26 16:09:19,992 - allfeatures_drop_cols - INFO - ...Columns Excluded from dataset...\n",
      "2018-10-26 16:09:20,377 - allfeatures_drop_cols - INFO - ...Columns Excluded from dataset...\n"
     ]
    },
    {
     "name": "stdout",
     "output_type": "stream",
     "text": [
      "None\n",
      "Records for train Set - Number of rows: 318103\n"
     ]
    },
    {
     "name": "stderr",
     "output_type": "stream",
     "text": [
      "C:\\Users\\sandr\\Documents\\GitHub\\MLMortgage\\src\\data\\build_data.py:177: SettingWithCopyWarning: \n",
      "A value is trying to be set on a copy of a slice from a DataFrame\n",
      "\n",
      "See the caveats in the documentation: http://pandas.pydata.org/pandas-docs/stable/indexing.html#indexing-view-versus-copy\n",
      "  data.drop(data.columns[indices], axis=1, inplace=True)\n",
      "2018-10-26 16:10:02,170 - allfeatures_extract_labels - INFO - ...Labels extracted from Dataset...\n",
      "2018-10-26 16:10:04,774 - allfeatures_extract_labels - INFO - ...Labels extracted from Dataset...\n"
     ]
    },
    {
     "name": "stdout",
     "output_type": "stream",
     "text": [
      "Records for valid Set - Number of rows: 13358\n"
     ]
    },
    {
     "name": "stderr",
     "output_type": "stream",
     "text": [
      "2018-10-26 16:10:05,100 - allfeatures_extract_labels - INFO - ...Labels extracted from Dataset...\n"
     ]
    },
    {
     "name": "stdout",
     "output_type": "stream",
     "text": [
      "Records for test Set - Number of rows: 30315\n",
      "chunk:  5  chunk size:  500000\n"
     ]
    },
    {
     "name": "stderr",
     "output_type": "stream",
     "text": [
      "2018-10-26 16:10:21,694 - drop_invalid_delinquency_status - INFO - invalid_delinquency_status dropped\n",
      "2018-10-26 16:10:25,992 - drop_invalid_delinquency_status - INFO - dropping invalid transitions and delinquency status, fill nan values, drop duplicates\n",
      "C:\\Users\\sandr\\Documents\\GitHub\\MLMortgage\\src\\data\\build_data.py:586: SettingWithCopyWarning: \n",
      "A value is trying to be set on a copy of a slice from a DataFrame\n",
      "\n",
      "See the caveats in the documentation: http://pandas.pydata.org/pandas-docs/stable/indexing.html#indexing-view-versus-copy\n",
      "  chunk['ORIGINATION_YEAR'][chunk['ORIGINATION_YEAR']<1995] = \"B1995\"\n",
      "2018-10-26 16:10:38,108 - allfeatures_drop_cols - INFO - ...Columns Excluded from dataset...\n",
      "2018-10-26 16:10:38,467 - allfeatures_drop_cols - INFO - ...Columns Excluded from dataset...\n",
      "2018-10-26 16:10:38,773 - allfeatures_drop_cols - INFO - ...Columns Excluded from dataset...\n"
     ]
    },
    {
     "name": "stdout",
     "output_type": "stream",
     "text": [
      "None\n",
      "Records for train Set - Number of rows: 314118\n"
     ]
    },
    {
     "name": "stderr",
     "output_type": "stream",
     "text": [
      "C:\\Users\\sandr\\Documents\\GitHub\\MLMortgage\\src\\data\\build_data.py:177: SettingWithCopyWarning: \n",
      "A value is trying to be set on a copy of a slice from a DataFrame\n",
      "\n",
      "See the caveats in the documentation: http://pandas.pydata.org/pandas-docs/stable/indexing.html#indexing-view-versus-copy\n",
      "  data.drop(data.columns[indices], axis=1, inplace=True)\n",
      "2018-10-26 16:11:19,749 - allfeatures_extract_labels - INFO - ...Labels extracted from Dataset...\n",
      "2018-10-26 16:11:22,020 - allfeatures_extract_labels - INFO - ...Labels extracted from Dataset...\n"
     ]
    },
    {
     "name": "stdout",
     "output_type": "stream",
     "text": [
      "Records for valid Set - Number of rows: 13616\n"
     ]
    },
    {
     "name": "stderr",
     "output_type": "stream",
     "text": [
      "2018-10-26 16:11:22,317 - allfeatures_extract_labels - INFO - ...Labels extracted from Dataset...\n"
     ]
    },
    {
     "name": "stdout",
     "output_type": "stream",
     "text": [
      "Records for test Set - Number of rows: 31546\n",
      "chunk:  6  chunk size:  500000\n"
     ]
    },
    {
     "name": "stderr",
     "output_type": "stream",
     "text": [
      "2018-10-26 16:11:39,902 - drop_invalid_delinquency_status - INFO - invalid_delinquency_status dropped\n",
      "2018-10-26 16:11:44,438 - drop_invalid_delinquency_status - INFO - dropping invalid transitions and delinquency status, fill nan values, drop duplicates\n",
      "C:\\Users\\sandr\\Documents\\GitHub\\MLMortgage\\src\\data\\build_data.py:586: SettingWithCopyWarning: \n",
      "A value is trying to be set on a copy of a slice from a DataFrame\n",
      "\n",
      "See the caveats in the documentation: http://pandas.pydata.org/pandas-docs/stable/indexing.html#indexing-view-versus-copy\n",
      "  chunk['ORIGINATION_YEAR'][chunk['ORIGINATION_YEAR']<1995] = \"B1995\"\n",
      "2018-10-26 16:11:57,126 - allfeatures_drop_cols - INFO - ...Columns Excluded from dataset...\n",
      "2018-10-26 16:11:57,520 - allfeatures_drop_cols - INFO - ...Columns Excluded from dataset...\n",
      "2018-10-26 16:11:57,846 - allfeatures_drop_cols - INFO - ...Columns Excluded from dataset...\n"
     ]
    },
    {
     "name": "stdout",
     "output_type": "stream",
     "text": [
      "None\n",
      "Records for train Set - Number of rows: 299073\n"
     ]
    },
    {
     "name": "stderr",
     "output_type": "stream",
     "text": [
      "C:\\Users\\sandr\\Documents\\GitHub\\MLMortgage\\src\\data\\build_data.py:177: SettingWithCopyWarning: \n",
      "A value is trying to be set on a copy of a slice from a DataFrame\n",
      "\n",
      "See the caveats in the documentation: http://pandas.pydata.org/pandas-docs/stable/indexing.html#indexing-view-versus-copy\n",
      "  data.drop(data.columns[indices], axis=1, inplace=True)\n",
      "2018-10-26 16:12:38,404 - allfeatures_extract_labels - INFO - ...Labels extracted from Dataset...\n",
      "2018-10-26 16:12:40,618 - allfeatures_extract_labels - INFO - ...Labels extracted from Dataset...\n"
     ]
    },
    {
     "name": "stdout",
     "output_type": "stream",
     "text": [
      "Records for valid Set - Number of rows: 13224\n"
     ]
    },
    {
     "name": "stderr",
     "output_type": "stream",
     "text": [
      "2018-10-26 16:12:40,923 - allfeatures_extract_labels - INFO - ...Labels extracted from Dataset...\n"
     ]
    },
    {
     "name": "stdout",
     "output_type": "stream",
     "text": [
      "Records for test Set - Number of rows: 34611\n",
      "chunk:  7  chunk size:  500000\n"
     ]
    },
    {
     "name": "stderr",
     "output_type": "stream",
     "text": [
      "2018-10-26 16:12:57,482 - drop_invalid_delinquency_status - INFO - invalid_delinquency_status dropped\n",
      "2018-10-26 16:13:02,118 - drop_invalid_delinquency_status - INFO - dropping invalid transitions and delinquency status, fill nan values, drop duplicates\n",
      "C:\\Users\\sandr\\Documents\\GitHub\\MLMortgage\\src\\data\\build_data.py:586: SettingWithCopyWarning: \n",
      "A value is trying to be set on a copy of a slice from a DataFrame\n",
      "\n",
      "See the caveats in the documentation: http://pandas.pydata.org/pandas-docs/stable/indexing.html#indexing-view-versus-copy\n",
      "  chunk['ORIGINATION_YEAR'][chunk['ORIGINATION_YEAR']<1995] = \"B1995\"\n",
      "2018-10-26 16:13:14,467 - allfeatures_drop_cols - INFO - ...Columns Excluded from dataset...\n",
      "2018-10-26 16:13:14,842 - allfeatures_drop_cols - INFO - ...Columns Excluded from dataset...\n",
      "2018-10-26 16:13:15,150 - allfeatures_drop_cols - INFO - ...Columns Excluded from dataset...\n"
     ]
    },
    {
     "name": "stdout",
     "output_type": "stream",
     "text": [
      "None\n",
      "Records for train Set - Number of rows: 301145\n"
     ]
    },
    {
     "name": "stderr",
     "output_type": "stream",
     "text": [
      "C:\\Users\\sandr\\Documents\\GitHub\\MLMortgage\\src\\data\\build_data.py:177: SettingWithCopyWarning: \n",
      "A value is trying to be set on a copy of a slice from a DataFrame\n",
      "\n",
      "See the caveats in the documentation: http://pandas.pydata.org/pandas-docs/stable/indexing.html#indexing-view-versus-copy\n",
      "  data.drop(data.columns[indices], axis=1, inplace=True)\n",
      "2018-10-26 16:13:56,379 - allfeatures_extract_labels - INFO - ...Labels extracted from Dataset...\n",
      "2018-10-26 16:13:58,563 - allfeatures_extract_labels - INFO - ...Labels extracted from Dataset...\n"
     ]
    },
    {
     "name": "stdout",
     "output_type": "stream",
     "text": [
      "Records for valid Set - Number of rows: 13420\n"
     ]
    },
    {
     "name": "stderr",
     "output_type": "stream",
     "text": [
      "2018-10-26 16:13:58,904 - allfeatures_extract_labels - INFO - ...Labels extracted from Dataset...\n"
     ]
    },
    {
     "name": "stdout",
     "output_type": "stream",
     "text": [
      "Records for test Set - Number of rows: 36591\n",
      "chunk:  8  chunk size:  500000\n"
     ]
    },
    {
     "name": "stderr",
     "output_type": "stream",
     "text": [
      "2018-10-26 16:14:16,289 - drop_invalid_delinquency_status - INFO - invalid_delinquency_status dropped\n",
      "2018-10-26 16:14:20,603 - drop_invalid_delinquency_status - INFO - dropping invalid transitions and delinquency status, fill nan values, drop duplicates\n",
      "C:\\Users\\sandr\\Documents\\GitHub\\MLMortgage\\src\\data\\build_data.py:586: SettingWithCopyWarning: \n",
      "A value is trying to be set on a copy of a slice from a DataFrame\n",
      "\n",
      "See the caveats in the documentation: http://pandas.pydata.org/pandas-docs/stable/indexing.html#indexing-view-versus-copy\n",
      "  chunk['ORIGINATION_YEAR'][chunk['ORIGINATION_YEAR']<1995] = \"B1995\"\n",
      "2018-10-26 16:14:33,537 - allfeatures_drop_cols - INFO - ...Columns Excluded from dataset...\n",
      "2018-10-26 16:14:33,943 - allfeatures_drop_cols - INFO - ...Columns Excluded from dataset...\n",
      "2018-10-26 16:14:34,253 - allfeatures_drop_cols - INFO - ...Columns Excluded from dataset...\n"
     ]
    },
    {
     "name": "stdout",
     "output_type": "stream",
     "text": [
      "None\n",
      "Records for train Set - Number of rows: 293545\n"
     ]
    },
    {
     "name": "stderr",
     "output_type": "stream",
     "text": [
      "C:\\Users\\sandr\\Documents\\GitHub\\MLMortgage\\src\\data\\build_data.py:177: SettingWithCopyWarning: \n",
      "A value is trying to be set on a copy of a slice from a DataFrame\n",
      "\n",
      "See the caveats in the documentation: http://pandas.pydata.org/pandas-docs/stable/indexing.html#indexing-view-versus-copy\n",
      "  data.drop(data.columns[indices], axis=1, inplace=True)\n",
      "2018-10-26 16:15:16,261 - allfeatures_extract_labels - INFO - ...Labels extracted from Dataset...\n",
      "2018-10-26 16:15:18,202 - allfeatures_extract_labels - INFO - ...Labels extracted from Dataset...\n"
     ]
    },
    {
     "name": "stdout",
     "output_type": "stream",
     "text": [
      "Records for valid Set - Number of rows: 13463\n"
     ]
    },
    {
     "name": "stderr",
     "output_type": "stream",
     "text": [
      "2018-10-26 16:15:18,555 - allfeatures_extract_labels - INFO - ...Labels extracted from Dataset...\n"
     ]
    },
    {
     "name": "stdout",
     "output_type": "stream",
     "text": [
      "Records for test Set - Number of rows: 32909\n",
      "chunk:  9  chunk size:  500000\n"
     ]
    },
    {
     "name": "stderr",
     "output_type": "stream",
     "text": [
      "2018-10-26 16:15:35,419 - drop_invalid_delinquency_status - INFO - invalid_delinquency_status dropped\n",
      "2018-10-26 16:15:39,794 - drop_invalid_delinquency_status - INFO - dropping invalid transitions and delinquency status, fill nan values, drop duplicates\n",
      "C:\\Users\\sandr\\Documents\\GitHub\\MLMortgage\\src\\data\\build_data.py:586: SettingWithCopyWarning: \n",
      "A value is trying to be set on a copy of a slice from a DataFrame\n",
      "\n",
      "See the caveats in the documentation: http://pandas.pydata.org/pandas-docs/stable/indexing.html#indexing-view-versus-copy\n",
      "  chunk['ORIGINATION_YEAR'][chunk['ORIGINATION_YEAR']<1995] = \"B1995\"\n",
      "2018-10-26 16:15:51,832 - allfeatures_drop_cols - INFO - ...Columns Excluded from dataset...\n",
      "2018-10-26 16:15:52,202 - allfeatures_drop_cols - INFO - ...Columns Excluded from dataset...\n",
      "2018-10-26 16:15:52,496 - allfeatures_drop_cols - INFO - ...Columns Excluded from dataset...\n"
     ]
    },
    {
     "name": "stdout",
     "output_type": "stream",
     "text": [
      "None\n",
      "Records for train Set - Number of rows: 286610\n"
     ]
    },
    {
     "name": "stderr",
     "output_type": "stream",
     "text": [
      "C:\\Users\\sandr\\Documents\\GitHub\\MLMortgage\\src\\data\\build_data.py:177: SettingWithCopyWarning: \n",
      "A value is trying to be set on a copy of a slice from a DataFrame\n",
      "\n",
      "See the caveats in the documentation: http://pandas.pydata.org/pandas-docs/stable/indexing.html#indexing-view-versus-copy\n",
      "  data.drop(data.columns[indices], axis=1, inplace=True)\n",
      "2018-10-26 16:16:32,628 - allfeatures_extract_labels - INFO - ...Labels extracted from Dataset...\n",
      "2018-10-26 16:16:34,668 - allfeatures_extract_labels - INFO - ...Labels extracted from Dataset...\n"
     ]
    },
    {
     "name": "stdout",
     "output_type": "stream",
     "text": [
      "Records for valid Set - Number of rows: 13931\n"
     ]
    },
    {
     "name": "stderr",
     "output_type": "stream",
     "text": [
      "2018-10-26 16:16:35,048 - allfeatures_extract_labels - INFO - ...Labels extracted from Dataset...\n"
     ]
    },
    {
     "name": "stdout",
     "output_type": "stream",
     "text": [
      "Records for test Set - Number of rows: 37271\n",
      "chunk:  10  chunk size:  500000\n"
     ]
    },
    {
     "name": "stderr",
     "output_type": "stream",
     "text": [
      "2018-10-26 16:16:51,848 - drop_invalid_delinquency_status - INFO - invalid_delinquency_status dropped\n",
      "2018-10-26 16:16:56,082 - drop_invalid_delinquency_status - INFO - dropping invalid transitions and delinquency status, fill nan values, drop duplicates\n",
      "C:\\Users\\sandr\\Documents\\GitHub\\MLMortgage\\src\\data\\build_data.py:586: SettingWithCopyWarning: \n",
      "A value is trying to be set on a copy of a slice from a DataFrame\n",
      "\n",
      "See the caveats in the documentation: http://pandas.pydata.org/pandas-docs/stable/indexing.html#indexing-view-versus-copy\n",
      "  chunk['ORIGINATION_YEAR'][chunk['ORIGINATION_YEAR']<1995] = \"B1995\"\n",
      "2018-10-26 16:17:07,972 - allfeatures_drop_cols - INFO - ...Columns Excluded from dataset...\n",
      "2018-10-26 16:17:08,323 - allfeatures_drop_cols - INFO - ...Columns Excluded from dataset...\n",
      "2018-10-26 16:17:08,617 - allfeatures_drop_cols - INFO - ...Columns Excluded from dataset...\n"
     ]
    },
    {
     "name": "stdout",
     "output_type": "stream",
     "text": [
      "None\n",
      "Records for train Set - Number of rows: 285966\n"
     ]
    },
    {
     "name": "stderr",
     "output_type": "stream",
     "text": [
      "C:\\Users\\sandr\\Documents\\GitHub\\MLMortgage\\src\\data\\build_data.py:177: SettingWithCopyWarning: \n",
      "A value is trying to be set on a copy of a slice from a DataFrame\n",
      "\n",
      "See the caveats in the documentation: http://pandas.pydata.org/pandas-docs/stable/indexing.html#indexing-view-versus-copy\n",
      "  data.drop(data.columns[indices], axis=1, inplace=True)\n",
      "2018-10-26 16:17:50,639 - allfeatures_extract_labels - INFO - ...Labels extracted from Dataset...\n",
      "2018-10-26 16:17:52,885 - allfeatures_extract_labels - INFO - ...Labels extracted from Dataset...\n"
     ]
    },
    {
     "name": "stdout",
     "output_type": "stream",
     "text": [
      "Records for valid Set - Number of rows: 16599\n"
     ]
    },
    {
     "name": "stderr",
     "output_type": "stream",
     "text": [
      "2018-10-26 16:17:53,342 - allfeatures_extract_labels - INFO - ...Labels extracted from Dataset...\n"
     ]
    },
    {
     "name": "stdout",
     "output_type": "stream",
     "text": [
      "Records for test Set - Number of rows: 36342\n",
      "chunk:  11  chunk size:  500000\n",
      "1189143087\n"
     ]
    },
    {
     "name": "stderr",
     "output_type": "stream",
     "text": [
      "2018-10-26 16:18:08,722 - drop_invalid_delinquency_status - INFO - invalid_delinquency_status dropped\n",
      "2018-10-26 16:18:13,298 - drop_invalid_delinquency_status - INFO - dropping invalid transitions and delinquency status, fill nan values, drop duplicates\n",
      "C:\\Users\\sandr\\Documents\\GitHub\\MLMortgage\\src\\data\\build_data.py:586: SettingWithCopyWarning: \n",
      "A value is trying to be set on a copy of a slice from a DataFrame\n",
      "\n",
      "See the caveats in the documentation: http://pandas.pydata.org/pandas-docs/stable/indexing.html#indexing-view-versus-copy\n",
      "  chunk['ORIGINATION_YEAR'][chunk['ORIGINATION_YEAR']<1995] = \"B1995\"\n",
      "2018-10-26 16:18:25,982 - allfeatures_drop_cols - INFO - ...Columns Excluded from dataset...\n",
      "2018-10-26 16:18:26,338 - allfeatures_drop_cols - INFO - ...Columns Excluded from dataset...\n",
      "2018-10-26 16:18:26,645 - allfeatures_drop_cols - INFO - ...Columns Excluded from dataset...\n"
     ]
    },
    {
     "name": "stdout",
     "output_type": "stream",
     "text": [
      "None\n",
      "Records for train Set - Number of rows: 302740\n"
     ]
    },
    {
     "name": "stderr",
     "output_type": "stream",
     "text": [
      "C:\\Users\\sandr\\Documents\\GitHub\\MLMortgage\\src\\data\\build_data.py:177: SettingWithCopyWarning: \n",
      "A value is trying to be set on a copy of a slice from a DataFrame\n",
      "\n",
      "See the caveats in the documentation: http://pandas.pydata.org/pandas-docs/stable/indexing.html#indexing-view-versus-copy\n",
      "  data.drop(data.columns[indices], axis=1, inplace=True)\n",
      "2018-10-26 16:19:10,004 - allfeatures_extract_labels - INFO - ...Labels extracted from Dataset...\n",
      "2018-10-26 16:19:12,566 - allfeatures_extract_labels - INFO - ...Labels extracted from Dataset...\n"
     ]
    },
    {
     "name": "stdout",
     "output_type": "stream",
     "text": [
      "Records for valid Set - Number of rows: 18879\n"
     ]
    },
    {
     "name": "stderr",
     "output_type": "stream",
     "text": [
      "2018-10-26 16:19:12,842 - allfeatures_extract_labels - INFO - ...Labels extracted from Dataset...\n"
     ]
    },
    {
     "name": "stdout",
     "output_type": "stream",
     "text": [
      "Records for test Set - Number of rows: 34333\n",
      "chunk:  12  chunk size:  500000\n"
     ]
    },
    {
     "name": "stderr",
     "output_type": "stream",
     "text": [
      "2018-10-26 16:19:29,212 - drop_invalid_delinquency_status - INFO - invalid_delinquency_status dropped\n",
      "2018-10-26 16:19:33,888 - drop_invalid_delinquency_status - INFO - dropping invalid transitions and delinquency status, fill nan values, drop duplicates\n",
      "C:\\Users\\sandr\\Documents\\GitHub\\MLMortgage\\src\\data\\build_data.py:586: SettingWithCopyWarning: \n",
      "A value is trying to be set on a copy of a slice from a DataFrame\n",
      "\n",
      "See the caveats in the documentation: http://pandas.pydata.org/pandas-docs/stable/indexing.html#indexing-view-versus-copy\n",
      "  chunk['ORIGINATION_YEAR'][chunk['ORIGINATION_YEAR']<1995] = \"B1995\"\n",
      "2018-10-26 16:19:46,633 - allfeatures_drop_cols - INFO - ...Columns Excluded from dataset...\n",
      "2018-10-26 16:19:46,996 - allfeatures_drop_cols - INFO - ...Columns Excluded from dataset...\n",
      "2018-10-26 16:19:47,302 - allfeatures_drop_cols - INFO - ...Columns Excluded from dataset...\n"
     ]
    },
    {
     "name": "stdout",
     "output_type": "stream",
     "text": [
      "None\n",
      "Records for train Set - Number of rows: 303821\n"
     ]
    },
    {
     "name": "stderr",
     "output_type": "stream",
     "text": [
      "C:\\Users\\sandr\\Documents\\GitHub\\MLMortgage\\src\\data\\build_data.py:177: SettingWithCopyWarning: \n",
      "A value is trying to be set on a copy of a slice from a DataFrame\n",
      "\n",
      "See the caveats in the documentation: http://pandas.pydata.org/pandas-docs/stable/indexing.html#indexing-view-versus-copy\n",
      "  data.drop(data.columns[indices], axis=1, inplace=True)\n",
      "2018-10-26 16:20:28,493 - allfeatures_extract_labels - INFO - ...Labels extracted from Dataset...\n",
      "2018-10-26 16:20:30,634 - allfeatures_extract_labels - INFO - ...Labels extracted from Dataset...\n"
     ]
    },
    {
     "name": "stdout",
     "output_type": "stream",
     "text": [
      "Records for valid Set - Number of rows: 16126\n"
     ]
    },
    {
     "name": "stderr",
     "output_type": "stream",
     "text": [
      "2018-10-26 16:20:30,902 - allfeatures_extract_labels - INFO - ...Labels extracted from Dataset...\n"
     ]
    },
    {
     "name": "stdout",
     "output_type": "stream",
     "text": [
      "Records for test Set - Number of rows: 34922\n",
      "chunk:  13  chunk size:  500000\n"
     ]
    },
    {
     "name": "stderr",
     "output_type": "stream",
     "text": [
      "2018-10-26 16:20:47,783 - drop_invalid_delinquency_status - INFO - invalid_delinquency_status dropped\n",
      "2018-10-26 16:20:52,413 - drop_invalid_delinquency_status - INFO - dropping invalid transitions and delinquency status, fill nan values, drop duplicates\n",
      "C:\\Users\\sandr\\Documents\\GitHub\\MLMortgage\\src\\data\\build_data.py:586: SettingWithCopyWarning: \n",
      "A value is trying to be set on a copy of a slice from a DataFrame\n",
      "\n",
      "See the caveats in the documentation: http://pandas.pydata.org/pandas-docs/stable/indexing.html#indexing-view-versus-copy\n",
      "  chunk['ORIGINATION_YEAR'][chunk['ORIGINATION_YEAR']<1995] = \"B1995\"\n",
      "2018-10-26 16:21:04,553 - allfeatures_drop_cols - INFO - ...Columns Excluded from dataset...\n",
      "2018-10-26 16:21:04,918 - allfeatures_drop_cols - INFO - ...Columns Excluded from dataset...\n",
      "2018-10-26 16:21:05,230 - allfeatures_drop_cols - INFO - ...Columns Excluded from dataset...\n"
     ]
    },
    {
     "name": "stdout",
     "output_type": "stream",
     "text": [
      "None\n",
      "Records for train Set - Number of rows: 284714\n"
     ]
    },
    {
     "name": "stderr",
     "output_type": "stream",
     "text": [
      "C:\\Users\\sandr\\Documents\\GitHub\\MLMortgage\\src\\data\\build_data.py:177: SettingWithCopyWarning: \n",
      "A value is trying to be set on a copy of a slice from a DataFrame\n",
      "\n",
      "See the caveats in the documentation: http://pandas.pydata.org/pandas-docs/stable/indexing.html#indexing-view-versus-copy\n",
      "  data.drop(data.columns[indices], axis=1, inplace=True)\n",
      "2018-10-26 16:21:46,620 - allfeatures_extract_labels - INFO - ...Labels extracted from Dataset...\n",
      "2018-10-26 16:21:48,570 - allfeatures_extract_labels - INFO - ...Labels extracted from Dataset...\n"
     ]
    },
    {
     "name": "stdout",
     "output_type": "stream",
     "text": [
      "Records for valid Set - Number of rows: 12975\n"
     ]
    },
    {
     "name": "stderr",
     "output_type": "stream",
     "text": [
      "2018-10-26 16:21:48,846 - allfeatures_extract_labels - INFO - ...Labels extracted from Dataset...\n"
     ]
    },
    {
     "name": "stdout",
     "output_type": "stream",
     "text": [
      "Records for test Set - Number of rows: 37906\n",
      "chunk:  14  chunk size:  500000\n"
     ]
    },
    {
     "name": "stderr",
     "output_type": "stream",
     "text": [
      "2018-10-26 16:22:06,234 - drop_invalid_delinquency_status - INFO - invalid_delinquency_status dropped\n",
      "2018-10-26 16:22:10,988 - drop_invalid_delinquency_status - INFO - dropping invalid transitions and delinquency status, fill nan values, drop duplicates\n",
      "C:\\Users\\sandr\\Documents\\GitHub\\MLMortgage\\src\\data\\build_data.py:586: SettingWithCopyWarning: \n",
      "A value is trying to be set on a copy of a slice from a DataFrame\n",
      "\n",
      "See the caveats in the documentation: http://pandas.pydata.org/pandas-docs/stable/indexing.html#indexing-view-versus-copy\n",
      "  chunk['ORIGINATION_YEAR'][chunk['ORIGINATION_YEAR']<1995] = \"B1995\"\n",
      "2018-10-26 16:22:23,465 - allfeatures_drop_cols - INFO - ...Columns Excluded from dataset...\n",
      "2018-10-26 16:22:23,813 - allfeatures_drop_cols - INFO - ...Columns Excluded from dataset...\n",
      "2018-10-26 16:22:24,108 - allfeatures_drop_cols - INFO - ...Columns Excluded from dataset...\n"
     ]
    },
    {
     "name": "stdout",
     "output_type": "stream",
     "text": [
      "None\n",
      "Records for train Set - Number of rows: 279263\n"
     ]
    },
    {
     "name": "stderr",
     "output_type": "stream",
     "text": [
      "C:\\Users\\sandr\\Documents\\GitHub\\MLMortgage\\src\\data\\build_data.py:177: SettingWithCopyWarning: \n",
      "A value is trying to be set on a copy of a slice from a DataFrame\n",
      "\n",
      "See the caveats in the documentation: http://pandas.pydata.org/pandas-docs/stable/indexing.html#indexing-view-versus-copy\n",
      "  data.drop(data.columns[indices], axis=1, inplace=True)\n",
      "2018-10-26 16:23:06,166 - allfeatures_extract_labels - INFO - ...Labels extracted from Dataset...\n",
      "2018-10-26 16:23:08,312 - allfeatures_extract_labels - INFO - ...Labels extracted from Dataset...\n"
     ]
    },
    {
     "name": "stdout",
     "output_type": "stream",
     "text": [
      "Records for valid Set - Number of rows: 12585\n"
     ]
    },
    {
     "name": "stderr",
     "output_type": "stream",
     "text": [
      "2018-10-26 16:23:08,602 - allfeatures_extract_labels - INFO - ...Labels extracted from Dataset...\n"
     ]
    },
    {
     "name": "stdout",
     "output_type": "stream",
     "text": [
      "Records for test Set - Number of rows: 36984\n",
      "chunk:  15  chunk size:  500000\n"
     ]
    },
    {
     "name": "stderr",
     "output_type": "stream",
     "text": [
      "2018-10-26 16:23:26,113 - drop_invalid_delinquency_status - INFO - invalid_delinquency_status dropped\n",
      "2018-10-26 16:23:30,476 - drop_invalid_delinquency_status - INFO - dropping invalid transitions and delinquency status, fill nan values, drop duplicates\n",
      "C:\\Users\\sandr\\Documents\\GitHub\\MLMortgage\\src\\data\\build_data.py:586: SettingWithCopyWarning: \n",
      "A value is trying to be set on a copy of a slice from a DataFrame\n",
      "\n",
      "See the caveats in the documentation: http://pandas.pydata.org/pandas-docs/stable/indexing.html#indexing-view-versus-copy\n",
      "  chunk['ORIGINATION_YEAR'][chunk['ORIGINATION_YEAR']<1995] = \"B1995\"\n",
      "2018-10-26 16:23:42,525 - allfeatures_drop_cols - INFO - ...Columns Excluded from dataset...\n",
      "2018-10-26 16:23:42,873 - allfeatures_drop_cols - INFO - ...Columns Excluded from dataset...\n",
      "2018-10-26 16:23:43,166 - allfeatures_drop_cols - INFO - ...Columns Excluded from dataset...\n"
     ]
    },
    {
     "name": "stdout",
     "output_type": "stream",
     "text": [
      "None\n",
      "Records for train Set - Number of rows: 281052\n"
     ]
    },
    {
     "name": "stderr",
     "output_type": "stream",
     "text": [
      "C:\\Users\\sandr\\Documents\\GitHub\\MLMortgage\\src\\data\\build_data.py:177: SettingWithCopyWarning: \n",
      "A value is trying to be set on a copy of a slice from a DataFrame\n",
      "\n",
      "See the caveats in the documentation: http://pandas.pydata.org/pandas-docs/stable/indexing.html#indexing-view-versus-copy\n",
      "  data.drop(data.columns[indices], axis=1, inplace=True)\n",
      "2018-10-26 16:24:24,169 - allfeatures_extract_labels - INFO - ...Labels extracted from Dataset...\n",
      "2018-10-26 16:24:26,366 - allfeatures_extract_labels - INFO - ...Labels extracted from Dataset...\n"
     ]
    },
    {
     "name": "stdout",
     "output_type": "stream",
     "text": [
      "Records for valid Set - Number of rows: 13613\n"
     ]
    },
    {
     "name": "stderr",
     "output_type": "stream",
     "text": [
      "2018-10-26 16:24:26,690 - allfeatures_extract_labels - INFO - ...Labels extracted from Dataset...\n"
     ]
    },
    {
     "name": "stdout",
     "output_type": "stream",
     "text": [
      "Records for test Set - Number of rows: 39073\n",
      "chunk:  16  chunk size:  500000\n"
     ]
    },
    {
     "name": "stderr",
     "output_type": "stream",
     "text": [
      "2018-10-26 16:24:44,190 - drop_invalid_delinquency_status - INFO - invalid_delinquency_status dropped\n",
      "2018-10-26 16:24:48,508 - drop_invalid_delinquency_status - INFO - dropping invalid transitions and delinquency status, fill nan values, drop duplicates\n",
      "C:\\Users\\sandr\\Documents\\GitHub\\MLMortgage\\src\\data\\build_data.py:586: SettingWithCopyWarning: \n",
      "A value is trying to be set on a copy of a slice from a DataFrame\n",
      "\n",
      "See the caveats in the documentation: http://pandas.pydata.org/pandas-docs/stable/indexing.html#indexing-view-versus-copy\n",
      "  chunk['ORIGINATION_YEAR'][chunk['ORIGINATION_YEAR']<1995] = \"B1995\"\n",
      "2018-10-26 16:25:00,511 - allfeatures_drop_cols - INFO - ...Columns Excluded from dataset...\n",
      "2018-10-26 16:25:00,885 - allfeatures_drop_cols - INFO - ...Columns Excluded from dataset...\n",
      "2018-10-26 16:25:01,176 - allfeatures_drop_cols - INFO - ...Columns Excluded from dataset...\n"
     ]
    },
    {
     "name": "stdout",
     "output_type": "stream",
     "text": [
      "None\n",
      "Records for train Set - Number of rows: 277286\n"
     ]
    },
    {
     "name": "stderr",
     "output_type": "stream",
     "text": [
      "C:\\Users\\sandr\\Documents\\GitHub\\MLMortgage\\src\\data\\build_data.py:177: SettingWithCopyWarning: \n",
      "A value is trying to be set on a copy of a slice from a DataFrame\n",
      "\n",
      "See the caveats in the documentation: http://pandas.pydata.org/pandas-docs/stable/indexing.html#indexing-view-versus-copy\n",
      "  data.drop(data.columns[indices], axis=1, inplace=True)\n",
      "2018-10-26 16:25:41,019 - allfeatures_extract_labels - INFO - ...Labels extracted from Dataset...\n",
      "2018-10-26 16:25:42,938 - allfeatures_extract_labels - INFO - ...Labels extracted from Dataset...\n"
     ]
    },
    {
     "name": "stdout",
     "output_type": "stream",
     "text": [
      "Records for valid Set - Number of rows: 12574\n"
     ]
    },
    {
     "name": "stderr",
     "output_type": "stream",
     "text": [
      "2018-10-26 16:25:43,267 - allfeatures_extract_labels - INFO - ...Labels extracted from Dataset...\n"
     ]
    },
    {
     "name": "stdout",
     "output_type": "stream",
     "text": [
      "Records for test Set - Number of rows: 38972\n",
      "chunk:  17  chunk size:  500000\n"
     ]
    },
    {
     "name": "stderr",
     "output_type": "stream",
     "text": [
      "2018-10-26 16:25:58,885 - drop_invalid_delinquency_status - INFO - invalid_delinquency_status dropped\n",
      "2018-10-26 16:26:03,309 - drop_invalid_delinquency_status - INFO - dropping invalid transitions and delinquency status, fill nan values, drop duplicates\n",
      "C:\\Users\\sandr\\Documents\\GitHub\\MLMortgage\\src\\data\\build_data.py:586: SettingWithCopyWarning: \n",
      "A value is trying to be set on a copy of a slice from a DataFrame\n",
      "\n",
      "See the caveats in the documentation: http://pandas.pydata.org/pandas-docs/stable/indexing.html#indexing-view-versus-copy\n",
      "  chunk['ORIGINATION_YEAR'][chunk['ORIGINATION_YEAR']<1995] = \"B1995\"\n",
      "2018-10-26 16:26:15,508 - allfeatures_drop_cols - INFO - ...Columns Excluded from dataset...\n",
      "2018-10-26 16:26:15,859 - allfeatures_drop_cols - INFO - ...Columns Excluded from dataset...\n",
      "2018-10-26 16:26:16,166 - allfeatures_drop_cols - INFO - ...Columns Excluded from dataset...\n"
     ]
    },
    {
     "name": "stdout",
     "output_type": "stream",
     "text": [
      "None\n",
      "Records for train Set - Number of rows: 284736\n"
     ]
    },
    {
     "name": "stderr",
     "output_type": "stream",
     "text": [
      "C:\\Users\\sandr\\Documents\\GitHub\\MLMortgage\\src\\data\\build_data.py:177: SettingWithCopyWarning: \n",
      "A value is trying to be set on a copy of a slice from a DataFrame\n",
      "\n",
      "See the caveats in the documentation: http://pandas.pydata.org/pandas-docs/stable/indexing.html#indexing-view-versus-copy\n",
      "  data.drop(data.columns[indices], axis=1, inplace=True)\n",
      "2018-10-26 16:26:57,278 - allfeatures_extract_labels - INFO - ...Labels extracted from Dataset...\n",
      "2018-10-26 16:26:59,381 - allfeatures_extract_labels - INFO - ...Labels extracted from Dataset...\n"
     ]
    },
    {
     "name": "stdout",
     "output_type": "stream",
     "text": [
      "Records for valid Set - Number of rows: 12117\n"
     ]
    },
    {
     "name": "stderr",
     "output_type": "stream",
     "text": [
      "2018-10-26 16:26:59,748 - allfeatures_extract_labels - INFO - ...Labels extracted from Dataset...\n"
     ]
    },
    {
     "name": "stdout",
     "output_type": "stream",
     "text": [
      "Records for test Set - Number of rows: 38382\n",
      "chunk:  18  chunk size:  500000\n"
     ]
    },
    {
     "name": "stderr",
     "output_type": "stream",
     "text": [
      "2018-10-26 16:27:21,390 - drop_invalid_delinquency_status - INFO - invalid_delinquency_status dropped\n",
      "2018-10-26 16:27:25,983 - drop_invalid_delinquency_status - INFO - dropping invalid transitions and delinquency status, fill nan values, drop duplicates\n",
      "C:\\Users\\sandr\\Documents\\GitHub\\MLMortgage\\src\\data\\build_data.py:586: SettingWithCopyWarning: \n",
      "A value is trying to be set on a copy of a slice from a DataFrame\n",
      "\n",
      "See the caveats in the documentation: http://pandas.pydata.org/pandas-docs/stable/indexing.html#indexing-view-versus-copy\n",
      "  chunk['ORIGINATION_YEAR'][chunk['ORIGINATION_YEAR']<1995] = \"B1995\"\n",
      "2018-10-26 16:27:38,281 - allfeatures_drop_cols - INFO - ...Columns Excluded from dataset...\n",
      "2018-10-26 16:27:38,638 - allfeatures_drop_cols - INFO - ...Columns Excluded from dataset...\n",
      "2018-10-26 16:27:38,950 - allfeatures_drop_cols - INFO - ...Columns Excluded from dataset...\n"
     ]
    },
    {
     "name": "stdout",
     "output_type": "stream",
     "text": [
      "None\n",
      "Records for train Set - Number of rows: 279415\n"
     ]
    },
    {
     "name": "stderr",
     "output_type": "stream",
     "text": [
      "C:\\Users\\sandr\\Documents\\GitHub\\MLMortgage\\src\\data\\build_data.py:177: SettingWithCopyWarning: \n",
      "A value is trying to be set on a copy of a slice from a DataFrame\n",
      "\n",
      "See the caveats in the documentation: http://pandas.pydata.org/pandas-docs/stable/indexing.html#indexing-view-versus-copy\n",
      "  data.drop(data.columns[indices], axis=1, inplace=True)\n",
      "2018-10-26 16:28:19,309 - allfeatures_extract_labels - INFO - ...Labels extracted from Dataset...\n",
      "2018-10-26 16:28:21,135 - allfeatures_extract_labels - INFO - ...Labels extracted from Dataset...\n"
     ]
    },
    {
     "name": "stdout",
     "output_type": "stream",
     "text": [
      "Records for valid Set - Number of rows: 12391\n"
     ]
    },
    {
     "name": "stderr",
     "output_type": "stream",
     "text": [
      "2018-10-26 16:28:21,526 - allfeatures_extract_labels - INFO - ...Labels extracted from Dataset...\n"
     ]
    },
    {
     "name": "stdout",
     "output_type": "stream",
     "text": [
      "Records for test Set - Number of rows: 40860\n",
      "chunk:  19  chunk size:  500000\n"
     ]
    },
    {
     "name": "stderr",
     "output_type": "stream",
     "text": [
      "2018-10-26 16:28:38,760 - drop_invalid_delinquency_status - INFO - invalid_delinquency_status dropped\n",
      "2018-10-26 16:28:43,166 - drop_invalid_delinquency_status - INFO - dropping invalid transitions and delinquency status, fill nan values, drop duplicates\n",
      "C:\\Users\\sandr\\Documents\\GitHub\\MLMortgage\\src\\data\\build_data.py:586: SettingWithCopyWarning: \n",
      "A value is trying to be set on a copy of a slice from a DataFrame\n",
      "\n",
      "See the caveats in the documentation: http://pandas.pydata.org/pandas-docs/stable/indexing.html#indexing-view-versus-copy\n",
      "  chunk['ORIGINATION_YEAR'][chunk['ORIGINATION_YEAR']<1995] = \"B1995\"\n",
      "2018-10-26 16:28:55,213 - allfeatures_drop_cols - INFO - ...Columns Excluded from dataset...\n",
      "2018-10-26 16:28:55,573 - allfeatures_drop_cols - INFO - ...Columns Excluded from dataset...\n",
      "2018-10-26 16:28:55,885 - allfeatures_drop_cols - INFO - ...Columns Excluded from dataset...\n"
     ]
    },
    {
     "name": "stdout",
     "output_type": "stream",
     "text": [
      "None\n",
      "Records for train Set - Number of rows: 279251\n"
     ]
    },
    {
     "name": "stderr",
     "output_type": "stream",
     "text": [
      "C:\\Users\\sandr\\Documents\\GitHub\\MLMortgage\\src\\data\\build_data.py:177: SettingWithCopyWarning: \n",
      "A value is trying to be set on a copy of a slice from a DataFrame\n",
      "\n",
      "See the caveats in the documentation: http://pandas.pydata.org/pandas-docs/stable/indexing.html#indexing-view-versus-copy\n",
      "  data.drop(data.columns[indices], axis=1, inplace=True)\n",
      "2018-10-26 16:29:37,922 - allfeatures_extract_labels - INFO - ...Labels extracted from Dataset...\n",
      "2018-10-26 16:29:39,953 - allfeatures_extract_labels - INFO - ...Labels extracted from Dataset...\n"
     ]
    },
    {
     "name": "stdout",
     "output_type": "stream",
     "text": [
      "Records for valid Set - Number of rows: 12003\n"
     ]
    },
    {
     "name": "stderr",
     "output_type": "stream",
     "text": [
      "2018-10-26 16:29:40,358 - allfeatures_extract_labels - INFO - ...Labels extracted from Dataset...\n"
     ]
    },
    {
     "name": "stdout",
     "output_type": "stream",
     "text": [
      "Records for test Set - Number of rows: 48762\n",
      "chunk:  20  chunk size:  500000\n"
     ]
    },
    {
     "name": "stderr",
     "output_type": "stream",
     "text": [
      "2018-10-26 16:29:59,132 - drop_invalid_delinquency_status - INFO - invalid_delinquency_status dropped\n",
      "2018-10-26 16:30:03,691 - drop_invalid_delinquency_status - INFO - dropping invalid transitions and delinquency status, fill nan values, drop duplicates\n",
      "C:\\Users\\sandr\\Documents\\GitHub\\MLMortgage\\src\\data\\build_data.py:586: SettingWithCopyWarning: \n",
      "A value is trying to be set on a copy of a slice from a DataFrame\n",
      "\n",
      "See the caveats in the documentation: http://pandas.pydata.org/pandas-docs/stable/indexing.html#indexing-view-versus-copy\n",
      "  chunk['ORIGINATION_YEAR'][chunk['ORIGINATION_YEAR']<1995] = \"B1995\"\n",
      "2018-10-26 16:30:16,211 - allfeatures_drop_cols - INFO - ...Columns Excluded from dataset...\n",
      "2018-10-26 16:30:16,578 - allfeatures_drop_cols - INFO - ...Columns Excluded from dataset...\n",
      "2018-10-26 16:30:16,890 - allfeatures_drop_cols - INFO - ...Columns Excluded from dataset...\n"
     ]
    },
    {
     "name": "stdout",
     "output_type": "stream",
     "text": [
      "None\n",
      "Records for train Set - Number of rows: 292832\n"
     ]
    },
    {
     "name": "stderr",
     "output_type": "stream",
     "text": [
      "C:\\Users\\sandr\\Documents\\GitHub\\MLMortgage\\src\\data\\build_data.py:177: SettingWithCopyWarning: \n",
      "A value is trying to be set on a copy of a slice from a DataFrame\n",
      "\n",
      "See the caveats in the documentation: http://pandas.pydata.org/pandas-docs/stable/indexing.html#indexing-view-versus-copy\n",
      "  data.drop(data.columns[indices], axis=1, inplace=True)\n",
      "2018-10-26 16:31:00,121 - allfeatures_extract_labels - INFO - ...Labels extracted from Dataset...\n",
      "2018-10-26 16:31:02,147 - allfeatures_extract_labels - INFO - ...Labels extracted from Dataset...\n"
     ]
    },
    {
     "name": "stdout",
     "output_type": "stream",
     "text": [
      "Records for valid Set - Number of rows: 12571\n"
     ]
    },
    {
     "name": "stderr",
     "output_type": "stream",
     "text": [
      "2018-10-26 16:31:02,607 - allfeatures_extract_labels - INFO - ...Labels extracted from Dataset...\n"
     ]
    },
    {
     "name": "stdout",
     "output_type": "stream",
     "text": [
      "Records for test Set - Number of rows: 52169\n",
      "chunk:  21  chunk size:  500000\n"
     ]
    },
    {
     "name": "stderr",
     "output_type": "stream",
     "text": [
      "2018-10-26 16:31:21,960 - drop_invalid_delinquency_status - INFO - invalid_delinquency_status dropped\n",
      "2018-10-26 16:31:26,370 - drop_invalid_delinquency_status - INFO - dropping invalid transitions and delinquency status, fill nan values, drop duplicates\n",
      "C:\\Users\\sandr\\Documents\\GitHub\\MLMortgage\\src\\data\\build_data.py:586: SettingWithCopyWarning: \n",
      "A value is trying to be set on a copy of a slice from a DataFrame\n",
      "\n",
      "See the caveats in the documentation: http://pandas.pydata.org/pandas-docs/stable/indexing.html#indexing-view-versus-copy\n",
      "  chunk['ORIGINATION_YEAR'][chunk['ORIGINATION_YEAR']<1995] = \"B1995\"\n",
      "2018-10-26 16:31:38,537 - allfeatures_drop_cols - INFO - ...Columns Excluded from dataset...\n",
      "2018-10-26 16:31:38,886 - allfeatures_drop_cols - INFO - ...Columns Excluded from dataset...\n",
      "2018-10-26 16:31:39,194 - allfeatures_drop_cols - INFO - ...Columns Excluded from dataset...\n"
     ]
    },
    {
     "name": "stdout",
     "output_type": "stream",
     "text": [
      "None\n",
      "Records for train Set - Number of rows: 276639\n"
     ]
    },
    {
     "name": "stderr",
     "output_type": "stream",
     "text": [
      "C:\\Users\\sandr\\Documents\\GitHub\\MLMortgage\\src\\data\\build_data.py:177: SettingWithCopyWarning: \n",
      "A value is trying to be set on a copy of a slice from a DataFrame\n",
      "\n",
      "See the caveats in the documentation: http://pandas.pydata.org/pandas-docs/stable/indexing.html#indexing-view-versus-copy\n",
      "  data.drop(data.columns[indices], axis=1, inplace=True)\n",
      "2018-10-26 16:32:19,835 - allfeatures_extract_labels - INFO - ...Labels extracted from Dataset...\n",
      "2018-10-26 16:32:22,127 - allfeatures_extract_labels - INFO - ...Labels extracted from Dataset...\n"
     ]
    },
    {
     "name": "stdout",
     "output_type": "stream",
     "text": [
      "Records for valid Set - Number of rows: 12433\n"
     ]
    },
    {
     "name": "stderr",
     "output_type": "stream",
     "text": [
      "2018-10-26 16:32:22,424 - allfeatures_extract_labels - INFO - ...Labels extracted from Dataset...\n"
     ]
    },
    {
     "name": "stdout",
     "output_type": "stream",
     "text": [
      "Records for test Set - Number of rows: 51973\n",
      "chunk:  22  chunk size:  500000\n"
     ]
    },
    {
     "name": "stderr",
     "output_type": "stream",
     "text": [
      "2018-10-26 16:32:40,407 - drop_invalid_delinquency_status - INFO - invalid_delinquency_status dropped\n",
      "2018-10-26 16:32:44,804 - drop_invalid_delinquency_status - INFO - dropping invalid transitions and delinquency status, fill nan values, drop duplicates\n",
      "C:\\Users\\sandr\\Documents\\GitHub\\MLMortgage\\src\\data\\build_data.py:586: SettingWithCopyWarning: \n",
      "A value is trying to be set on a copy of a slice from a DataFrame\n",
      "\n",
      "See the caveats in the documentation: http://pandas.pydata.org/pandas-docs/stable/indexing.html#indexing-view-versus-copy\n",
      "  chunk['ORIGINATION_YEAR'][chunk['ORIGINATION_YEAR']<1995] = \"B1995\"\n",
      "2018-10-26 16:32:57,780 - allfeatures_drop_cols - INFO - ...Columns Excluded from dataset...\n",
      "2018-10-26 16:32:58,144 - allfeatures_drop_cols - INFO - ...Columns Excluded from dataset...\n",
      "2018-10-26 16:32:58,438 - allfeatures_drop_cols - INFO - ...Columns Excluded from dataset...\n"
     ]
    },
    {
     "name": "stdout",
     "output_type": "stream",
     "text": [
      "None\n",
      "Records for train Set - Number of rows: 280616\n"
     ]
    },
    {
     "name": "stderr",
     "output_type": "stream",
     "text": [
      "C:\\Users\\sandr\\Documents\\GitHub\\MLMortgage\\src\\data\\build_data.py:177: SettingWithCopyWarning: \n",
      "A value is trying to be set on a copy of a slice from a DataFrame\n",
      "\n",
      "See the caveats in the documentation: http://pandas.pydata.org/pandas-docs/stable/indexing.html#indexing-view-versus-copy\n",
      "  data.drop(data.columns[indices], axis=1, inplace=True)\n",
      "2018-10-26 16:33:40,393 - allfeatures_extract_labels - INFO - ...Labels extracted from Dataset...\n",
      "2018-10-26 16:33:42,284 - allfeatures_extract_labels - INFO - ...Labels extracted from Dataset...\n"
     ]
    },
    {
     "name": "stdout",
     "output_type": "stream",
     "text": [
      "Records for valid Set - Number of rows: 11265\n"
     ]
    },
    {
     "name": "stderr",
     "output_type": "stream",
     "text": [
      "2018-10-26 16:33:42,548 - allfeatures_extract_labels - INFO - ...Labels extracted from Dataset...\n"
     ]
    },
    {
     "name": "stdout",
     "output_type": "stream",
     "text": [
      "Records for test Set - Number of rows: 50063\n",
      "chunk:  23  chunk size:  500000\n"
     ]
    },
    {
     "name": "stderr",
     "output_type": "stream",
     "text": [
      "2018-10-26 16:34:00,911 - drop_invalid_delinquency_status - INFO - invalid_delinquency_status dropped\n",
      "2018-10-26 16:34:05,187 - drop_invalid_delinquency_status - INFO - dropping invalid transitions and delinquency status, fill nan values, drop duplicates\n",
      "C:\\Users\\sandr\\Documents\\GitHub\\MLMortgage\\src\\data\\build_data.py:586: SettingWithCopyWarning: \n",
      "A value is trying to be set on a copy of a slice from a DataFrame\n",
      "\n",
      "See the caveats in the documentation: http://pandas.pydata.org/pandas-docs/stable/indexing.html#indexing-view-versus-copy\n",
      "  chunk['ORIGINATION_YEAR'][chunk['ORIGINATION_YEAR']<1995] = \"B1995\"\n",
      "2018-10-26 16:34:17,091 - allfeatures_drop_cols - INFO - ...Columns Excluded from dataset...\n",
      "2018-10-26 16:34:17,432 - allfeatures_drop_cols - INFO - ...Columns Excluded from dataset...\n",
      "2018-10-26 16:34:17,724 - allfeatures_drop_cols - INFO - ...Columns Excluded from dataset...\n"
     ]
    },
    {
     "name": "stdout",
     "output_type": "stream",
     "text": [
      "None\n",
      "Records for train Set - Number of rows: 278440\n"
     ]
    },
    {
     "name": "stderr",
     "output_type": "stream",
     "text": [
      "C:\\Users\\sandr\\Documents\\GitHub\\MLMortgage\\src\\data\\build_data.py:177: SettingWithCopyWarning: \n",
      "A value is trying to be set on a copy of a slice from a DataFrame\n",
      "\n",
      "See the caveats in the documentation: http://pandas.pydata.org/pandas-docs/stable/indexing.html#indexing-view-versus-copy\n",
      "  data.drop(data.columns[indices], axis=1, inplace=True)\n",
      "2018-10-26 16:34:57,464 - allfeatures_extract_labels - INFO - ...Labels extracted from Dataset...\n",
      "2018-10-26 16:34:59,316 - allfeatures_extract_labels - INFO - ...Labels extracted from Dataset...\n"
     ]
    },
    {
     "name": "stdout",
     "output_type": "stream",
     "text": [
      "Records for valid Set - Number of rows: 11541\n"
     ]
    },
    {
     "name": "stderr",
     "output_type": "stream",
     "text": [
      "2018-10-26 16:34:59,612 - allfeatures_extract_labels - INFO - ...Labels extracted from Dataset...\n"
     ]
    },
    {
     "name": "stdout",
     "output_type": "stream",
     "text": [
      "Records for test Set - Number of rows: 48448\n",
      "chunk:  24  chunk size:  500000\n"
     ]
    },
    {
     "name": "stderr",
     "output_type": "stream",
     "text": [
      "2018-10-26 16:35:16,524 - drop_invalid_delinquency_status - INFO - invalid_delinquency_status dropped\n",
      "2018-10-26 16:35:20,633 - drop_invalid_delinquency_status - INFO - dropping invalid transitions and delinquency status, fill nan values, drop duplicates\n",
      "C:\\Users\\sandr\\Documents\\GitHub\\MLMortgage\\src\\data\\build_data.py:586: SettingWithCopyWarning: \n",
      "A value is trying to be set on a copy of a slice from a DataFrame\n",
      "\n",
      "See the caveats in the documentation: http://pandas.pydata.org/pandas-docs/stable/indexing.html#indexing-view-versus-copy\n",
      "  chunk['ORIGINATION_YEAR'][chunk['ORIGINATION_YEAR']<1995] = \"B1995\"\n",
      "2018-10-26 16:35:32,140 - allfeatures_drop_cols - INFO - ...Columns Excluded from dataset...\n",
      "2018-10-26 16:35:32,498 - allfeatures_drop_cols - INFO - ...Columns Excluded from dataset...\n",
      "2018-10-26 16:35:32,794 - allfeatures_drop_cols - INFO - ...Columns Excluded from dataset...\n"
     ]
    },
    {
     "name": "stdout",
     "output_type": "stream",
     "text": [
      "None\n",
      "Records for train Set - Number of rows: 273730\n"
     ]
    },
    {
     "name": "stderr",
     "output_type": "stream",
     "text": [
      "C:\\Users\\sandr\\Documents\\GitHub\\MLMortgage\\src\\data\\build_data.py:177: SettingWithCopyWarning: \n",
      "A value is trying to be set on a copy of a slice from a DataFrame\n",
      "\n",
      "See the caveats in the documentation: http://pandas.pydata.org/pandas-docs/stable/indexing.html#indexing-view-versus-copy\n",
      "  data.drop(data.columns[indices], axis=1, inplace=True)\n",
      "2018-10-26 16:36:11,870 - allfeatures_extract_labels - INFO - ...Labels extracted from Dataset...\n",
      "2018-10-26 16:36:13,567 - allfeatures_extract_labels - INFO - ...Labels extracted from Dataset...\n"
     ]
    },
    {
     "name": "stdout",
     "output_type": "stream",
     "text": [
      "Records for valid Set - Number of rows: 11885\n"
     ]
    },
    {
     "name": "stderr",
     "output_type": "stream",
     "text": [
      "2018-10-26 16:36:13,865 - allfeatures_extract_labels - INFO - ...Labels extracted from Dataset...\n"
     ]
    },
    {
     "name": "stdout",
     "output_type": "stream",
     "text": [
      "Records for test Set - Number of rows: 49741\n",
      "chunk:  25  chunk size:  500000\n"
     ]
    },
    {
     "name": "stderr",
     "output_type": "stream",
     "text": [
      "2018-10-26 16:36:30,912 - drop_invalid_delinquency_status - INFO - invalid_delinquency_status dropped\n",
      "2018-10-26 16:36:35,384 - drop_invalid_delinquency_status - INFO - dropping invalid transitions and delinquency status, fill nan values, drop duplicates\n",
      "C:\\Users\\sandr\\Documents\\GitHub\\MLMortgage\\src\\data\\build_data.py:586: SettingWithCopyWarning: \n",
      "A value is trying to be set on a copy of a slice from a DataFrame\n",
      "\n",
      "See the caveats in the documentation: http://pandas.pydata.org/pandas-docs/stable/indexing.html#indexing-view-versus-copy\n",
      "  chunk['ORIGINATION_YEAR'][chunk['ORIGINATION_YEAR']<1995] = \"B1995\"\n",
      "2018-10-26 16:36:47,794 - allfeatures_drop_cols - INFO - ...Columns Excluded from dataset...\n",
      "2018-10-26 16:36:48,179 - allfeatures_drop_cols - INFO - ...Columns Excluded from dataset...\n",
      "2018-10-26 16:36:48,469 - allfeatures_drop_cols - INFO - ...Columns Excluded from dataset...\n"
     ]
    },
    {
     "name": "stdout",
     "output_type": "stream",
     "text": [
      "None\n",
      "Records for train Set - Number of rows: 280553\n"
     ]
    },
    {
     "name": "stderr",
     "output_type": "stream",
     "text": [
      "C:\\Users\\sandr\\Documents\\GitHub\\MLMortgage\\src\\data\\build_data.py:177: SettingWithCopyWarning: \n",
      "A value is trying to be set on a copy of a slice from a DataFrame\n",
      "\n",
      "See the caveats in the documentation: http://pandas.pydata.org/pandas-docs/stable/indexing.html#indexing-view-versus-copy\n",
      "  data.drop(data.columns[indices], axis=1, inplace=True)\n",
      "2018-10-26 16:37:31,130 - allfeatures_extract_labels - INFO - ...Labels extracted from Dataset...\n",
      "2018-10-26 16:37:33,093 - allfeatures_extract_labels - INFO - ...Labels extracted from Dataset...\n"
     ]
    },
    {
     "name": "stdout",
     "output_type": "stream",
     "text": [
      "Records for valid Set - Number of rows: 16454\n"
     ]
    },
    {
     "name": "stderr",
     "output_type": "stream",
     "text": [
      "2018-10-26 16:37:33,483 - allfeatures_extract_labels - INFO - ...Labels extracted from Dataset...\n"
     ]
    },
    {
     "name": "stdout",
     "output_type": "stream",
     "text": [
      "Records for test Set - Number of rows: 53042\n",
      "chunk:  26  chunk size:  500000\n"
     ]
    },
    {
     "name": "stderr",
     "output_type": "stream",
     "text": [
      "2018-10-26 16:37:53,862 - drop_invalid_delinquency_status - INFO - invalid_delinquency_status dropped\n",
      "2018-10-26 16:37:58,249 - drop_invalid_delinquency_status - INFO - dropping invalid transitions and delinquency status, fill nan values, drop duplicates\n",
      "C:\\Users\\sandr\\Documents\\GitHub\\MLMortgage\\src\\data\\build_data.py:586: SettingWithCopyWarning: \n",
      "A value is trying to be set on a copy of a slice from a DataFrame\n",
      "\n",
      "See the caveats in the documentation: http://pandas.pydata.org/pandas-docs/stable/indexing.html#indexing-view-versus-copy\n",
      "  chunk['ORIGINATION_YEAR'][chunk['ORIGINATION_YEAR']<1995] = \"B1995\"\n",
      "2018-10-26 16:38:10,873 - allfeatures_drop_cols - INFO - ...Columns Excluded from dataset...\n",
      "2018-10-26 16:38:11,237 - allfeatures_drop_cols - INFO - ...Columns Excluded from dataset...\n",
      "2018-10-26 16:38:11,545 - allfeatures_drop_cols - INFO - ...Columns Excluded from dataset...\n"
     ]
    },
    {
     "name": "stdout",
     "output_type": "stream",
     "text": [
      "None\n",
      "Records for train Set - Number of rows: 284697\n"
     ]
    },
    {
     "name": "stderr",
     "output_type": "stream",
     "text": [
      "C:\\Users\\sandr\\Documents\\GitHub\\MLMortgage\\src\\data\\build_data.py:177: SettingWithCopyWarning: \n",
      "A value is trying to be set on a copy of a slice from a DataFrame\n",
      "\n",
      "See the caveats in the documentation: http://pandas.pydata.org/pandas-docs/stable/indexing.html#indexing-view-versus-copy\n",
      "  data.drop(data.columns[indices], axis=1, inplace=True)\n",
      "2018-10-26 16:38:52,403 - allfeatures_extract_labels - INFO - ...Labels extracted from Dataset...\n",
      "2018-10-26 16:38:54,353 - allfeatures_extract_labels - INFO - ...Labels extracted from Dataset...\n"
     ]
    },
    {
     "name": "stdout",
     "output_type": "stream",
     "text": [
      "Records for valid Set - Number of rows: 16458\n"
     ]
    },
    {
     "name": "stderr",
     "output_type": "stream",
     "text": [
      "2018-10-26 16:38:54,723 - allfeatures_extract_labels - INFO - ...Labels extracted from Dataset...\n"
     ]
    },
    {
     "name": "stdout",
     "output_type": "stream",
     "text": [
      "Records for test Set - Number of rows: 52037\n",
      "chunk:  27  chunk size:  500000\n"
     ]
    },
    {
     "name": "stderr",
     "output_type": "stream",
     "text": [
      "2018-10-26 16:39:11,195 - drop_invalid_delinquency_status - INFO - invalid_delinquency_status dropped\n",
      "2018-10-26 16:39:15,577 - drop_invalid_delinquency_status - INFO - dropping invalid transitions and delinquency status, fill nan values, drop duplicates\n",
      "C:\\Users\\sandr\\Documents\\GitHub\\MLMortgage\\src\\data\\build_data.py:586: SettingWithCopyWarning: \n",
      "A value is trying to be set on a copy of a slice from a DataFrame\n",
      "\n",
      "See the caveats in the documentation: http://pandas.pydata.org/pandas-docs/stable/indexing.html#indexing-view-versus-copy\n",
      "  chunk['ORIGINATION_YEAR'][chunk['ORIGINATION_YEAR']<1995] = \"B1995\"\n",
      "2018-10-26 16:39:27,790 - allfeatures_drop_cols - INFO - ...Columns Excluded from dataset...\n",
      "2018-10-26 16:39:28,152 - allfeatures_drop_cols - INFO - ...Columns Excluded from dataset...\n",
      "2018-10-26 16:39:28,471 - allfeatures_drop_cols - INFO - ...Columns Excluded from dataset...\n"
     ]
    },
    {
     "name": "stdout",
     "output_type": "stream",
     "text": [
      "None\n",
      "Records for train Set - Number of rows: 281559\n"
     ]
    },
    {
     "name": "stderr",
     "output_type": "stream",
     "text": [
      "C:\\Users\\sandr\\Documents\\GitHub\\MLMortgage\\src\\data\\build_data.py:177: SettingWithCopyWarning: \n",
      "A value is trying to be set on a copy of a slice from a DataFrame\n",
      "\n",
      "See the caveats in the documentation: http://pandas.pydata.org/pandas-docs/stable/indexing.html#indexing-view-versus-copy\n",
      "  data.drop(data.columns[indices], axis=1, inplace=True)\n",
      "2018-10-26 16:40:09,925 - allfeatures_extract_labels - INFO - ...Labels extracted from Dataset...\n",
      "2018-10-26 16:40:11,819 - allfeatures_extract_labels - INFO - ...Labels extracted from Dataset...\n"
     ]
    },
    {
     "name": "stdout",
     "output_type": "stream",
     "text": [
      "Records for valid Set - Number of rows: 17328\n"
     ]
    },
    {
     "name": "stderr",
     "output_type": "stream",
     "text": [
      "2018-10-26 16:40:12,229 - allfeatures_extract_labels - INFO - ...Labels extracted from Dataset...\n"
     ]
    },
    {
     "name": "stdout",
     "output_type": "stream",
     "text": [
      "Records for test Set - Number of rows: 51382\n",
      "chunk:  28  chunk size:  500000\n"
     ]
    },
    {
     "name": "stderr",
     "output_type": "stream",
     "text": [
      "2018-10-26 16:40:27,557 - drop_invalid_delinquency_status - INFO - invalid_delinquency_status dropped\n",
      "2018-10-26 16:40:32,093 - drop_invalid_delinquency_status - INFO - dropping invalid transitions and delinquency status, fill nan values, drop duplicates\n",
      "C:\\Users\\sandr\\Documents\\GitHub\\MLMortgage\\src\\data\\build_data.py:586: SettingWithCopyWarning: \n",
      "A value is trying to be set on a copy of a slice from a DataFrame\n",
      "\n",
      "See the caveats in the documentation: http://pandas.pydata.org/pandas-docs/stable/indexing.html#indexing-view-versus-copy\n",
      "  chunk['ORIGINATION_YEAR'][chunk['ORIGINATION_YEAR']<1995] = \"B1995\"\n",
      "2018-10-26 16:40:45,464 - allfeatures_drop_cols - INFO - ...Columns Excluded from dataset...\n",
      "2018-10-26 16:40:45,854 - allfeatures_drop_cols - INFO - ...Columns Excluded from dataset...\n",
      "2018-10-26 16:40:46,194 - allfeatures_drop_cols - INFO - ...Columns Excluded from dataset...\n"
     ]
    },
    {
     "name": "stdout",
     "output_type": "stream",
     "text": [
      "None\n",
      "Records for train Set - Number of rows: 285191\n"
     ]
    },
    {
     "name": "stderr",
     "output_type": "stream",
     "text": [
      "C:\\Users\\sandr\\Documents\\GitHub\\MLMortgage\\src\\data\\build_data.py:177: SettingWithCopyWarning: \n",
      "A value is trying to be set on a copy of a slice from a DataFrame\n",
      "\n",
      "See the caveats in the documentation: http://pandas.pydata.org/pandas-docs/stable/indexing.html#indexing-view-versus-copy\n",
      "  data.drop(data.columns[indices], axis=1, inplace=True)\n",
      "2018-10-26 16:41:33,911 - allfeatures_extract_labels - INFO - ...Labels extracted from Dataset...\n",
      "2018-10-26 16:41:35,985 - allfeatures_extract_labels - INFO - ...Labels extracted from Dataset...\n"
     ]
    },
    {
     "name": "stdout",
     "output_type": "stream",
     "text": [
      "Records for valid Set - Number of rows: 17661\n"
     ]
    },
    {
     "name": "stderr",
     "output_type": "stream",
     "text": [
      "2018-10-26 16:41:36,415 - allfeatures_extract_labels - INFO - ...Labels extracted from Dataset...\n"
     ]
    },
    {
     "name": "stdout",
     "output_type": "stream",
     "text": [
      "Records for test Set - Number of rows: 48950\n",
      "chunk:  29  chunk size:  500000\n"
     ]
    },
    {
     "name": "stderr",
     "output_type": "stream",
     "text": [
      "2018-10-26 16:41:53,308 - drop_invalid_delinquency_status - INFO - invalid_delinquency_status dropped\n",
      "2018-10-26 16:41:57,681 - drop_invalid_delinquency_status - INFO - dropping invalid transitions and delinquency status, fill nan values, drop duplicates\n",
      "C:\\Users\\sandr\\Documents\\GitHub\\MLMortgage\\src\\data\\build_data.py:586: SettingWithCopyWarning: \n",
      "A value is trying to be set on a copy of a slice from a DataFrame\n",
      "\n",
      "See the caveats in the documentation: http://pandas.pydata.org/pandas-docs/stable/indexing.html#indexing-view-versus-copy\n",
      "  chunk['ORIGINATION_YEAR'][chunk['ORIGINATION_YEAR']<1995] = \"B1995\"\n",
      "2018-10-26 16:42:09,973 - allfeatures_drop_cols - INFO - ...Columns Excluded from dataset...\n",
      "2018-10-26 16:42:10,329 - allfeatures_drop_cols - INFO - ...Columns Excluded from dataset...\n",
      "2018-10-26 16:42:10,630 - allfeatures_drop_cols - INFO - ...Columns Excluded from dataset...\n"
     ]
    },
    {
     "name": "stdout",
     "output_type": "stream",
     "text": [
      "None\n",
      "Records for train Set - Number of rows: 274068\n"
     ]
    },
    {
     "name": "stderr",
     "output_type": "stream",
     "text": [
      "C:\\Users\\sandr\\Documents\\GitHub\\MLMortgage\\src\\data\\build_data.py:177: SettingWithCopyWarning: \n",
      "A value is trying to be set on a copy of a slice from a DataFrame\n",
      "\n",
      "See the caveats in the documentation: http://pandas.pydata.org/pandas-docs/stable/indexing.html#indexing-view-versus-copy\n",
      "  data.drop(data.columns[indices], axis=1, inplace=True)\n",
      "2018-10-26 16:42:52,459 - allfeatures_extract_labels - INFO - ...Labels extracted from Dataset...\n",
      "2018-10-26 16:42:54,295 - allfeatures_extract_labels - INFO - ...Labels extracted from Dataset...\n"
     ]
    },
    {
     "name": "stdout",
     "output_type": "stream",
     "text": [
      "Records for valid Set - Number of rows: 14518\n"
     ]
    },
    {
     "name": "stderr",
     "output_type": "stream",
     "text": [
      "2018-10-26 16:42:54,718 - allfeatures_extract_labels - INFO - ...Labels extracted from Dataset...\n"
     ]
    },
    {
     "name": "stdout",
     "output_type": "stream",
     "text": [
      "Records for test Set - Number of rows: 43764\n",
      "chunk:  30  chunk size:  500000\n"
     ]
    },
    {
     "name": "stderr",
     "output_type": "stream",
     "text": [
      "2018-10-26 16:43:11,039 - drop_invalid_delinquency_status - INFO - invalid_delinquency_status dropped\n",
      "2018-10-26 16:43:15,403 - drop_invalid_delinquency_status - INFO - dropping invalid transitions and delinquency status, fill nan values, drop duplicates\n",
      "C:\\Users\\sandr\\Documents\\GitHub\\MLMortgage\\src\\data\\build_data.py:586: SettingWithCopyWarning: \n",
      "A value is trying to be set on a copy of a slice from a DataFrame\n",
      "\n",
      "See the caveats in the documentation: http://pandas.pydata.org/pandas-docs/stable/indexing.html#indexing-view-versus-copy\n",
      "  chunk['ORIGINATION_YEAR'][chunk['ORIGINATION_YEAR']<1995] = \"B1995\"\n",
      "2018-10-26 16:43:28,024 - allfeatures_drop_cols - INFO - ...Columns Excluded from dataset...\n",
      "2018-10-26 16:43:28,456 - allfeatures_drop_cols - INFO - ...Columns Excluded from dataset...\n",
      "2018-10-26 16:43:28,796 - allfeatures_drop_cols - INFO - ...Columns Excluded from dataset...\n"
     ]
    },
    {
     "name": "stdout",
     "output_type": "stream",
     "text": [
      "None\n",
      "Records for train Set - Number of rows: 276633\n"
     ]
    },
    {
     "name": "stderr",
     "output_type": "stream",
     "text": [
      "C:\\Users\\sandr\\Documents\\GitHub\\MLMortgage\\src\\data\\build_data.py:177: SettingWithCopyWarning: \n",
      "A value is trying to be set on a copy of a slice from a DataFrame\n",
      "\n",
      "See the caveats in the documentation: http://pandas.pydata.org/pandas-docs/stable/indexing.html#indexing-view-versus-copy\n",
      "  data.drop(data.columns[indices], axis=1, inplace=True)\n",
      "2018-10-26 16:44:11,215 - allfeatures_extract_labels - INFO - ...Labels extracted from Dataset...\n",
      "2018-10-26 16:44:13,317 - allfeatures_extract_labels - INFO - ...Labels extracted from Dataset...\n"
     ]
    },
    {
     "name": "stdout",
     "output_type": "stream",
     "text": [
      "Records for valid Set - Number of rows: 13351\n"
     ]
    },
    {
     "name": "stderr",
     "output_type": "stream",
     "text": [
      "2018-10-26 16:44:13,559 - allfeatures_extract_labels - INFO - ...Labels extracted from Dataset...\n"
     ]
    },
    {
     "name": "stdout",
     "output_type": "stream",
     "text": [
      "Records for test Set - Number of rows: 40855\n",
      "chunk:  31  chunk size:  500000\n"
     ]
    },
    {
     "name": "stderr",
     "output_type": "stream",
     "text": [
      "2018-10-26 16:44:29,744 - drop_invalid_delinquency_status - INFO - invalid_delinquency_status dropped\n",
      "2018-10-26 16:44:34,703 - drop_invalid_delinquency_status - INFO - dropping invalid transitions and delinquency status, fill nan values, drop duplicates\n",
      "C:\\Users\\sandr\\Documents\\GitHub\\MLMortgage\\src\\data\\build_data.py:586: SettingWithCopyWarning: \n",
      "A value is trying to be set on a copy of a slice from a DataFrame\n",
      "\n",
      "See the caveats in the documentation: http://pandas.pydata.org/pandas-docs/stable/indexing.html#indexing-view-versus-copy\n",
      "  chunk['ORIGINATION_YEAR'][chunk['ORIGINATION_YEAR']<1995] = \"B1995\"\n",
      "2018-10-26 16:44:47,518 - allfeatures_drop_cols - INFO - ...Columns Excluded from dataset...\n",
      "2018-10-26 16:44:47,921 - allfeatures_drop_cols - INFO - ...Columns Excluded from dataset...\n",
      "2018-10-26 16:44:48,278 - allfeatures_drop_cols - INFO - ...Columns Excluded from dataset...\n"
     ]
    },
    {
     "name": "stdout",
     "output_type": "stream",
     "text": [
      "None\n",
      "Records for train Set - Number of rows: 277656\n"
     ]
    },
    {
     "name": "stderr",
     "output_type": "stream",
     "text": [
      "C:\\Users\\sandr\\Documents\\GitHub\\MLMortgage\\src\\data\\build_data.py:177: SettingWithCopyWarning: \n",
      "A value is trying to be set on a copy of a slice from a DataFrame\n",
      "\n",
      "See the caveats in the documentation: http://pandas.pydata.org/pandas-docs/stable/indexing.html#indexing-view-versus-copy\n",
      "  data.drop(data.columns[indices], axis=1, inplace=True)\n",
      "2018-10-26 16:45:30,889 - allfeatures_extract_labels - INFO - ...Labels extracted from Dataset...\n",
      "2018-10-26 16:45:33,111 - allfeatures_extract_labels - INFO - ...Labels extracted from Dataset...\n"
     ]
    },
    {
     "name": "stdout",
     "output_type": "stream",
     "text": [
      "Records for valid Set - Number of rows: 13368\n"
     ]
    },
    {
     "name": "stderr",
     "output_type": "stream",
     "text": [
      "2018-10-26 16:45:33,357 - allfeatures_extract_labels - INFO - ...Labels extracted from Dataset...\n"
     ]
    },
    {
     "name": "stdout",
     "output_type": "stream",
     "text": [
      "Records for test Set - Number of rows: 40894\n",
      "chunk:  32  chunk size:  500000\n"
     ]
    },
    {
     "name": "stderr",
     "output_type": "stream",
     "text": [
      "2018-10-26 16:45:48,892 - drop_invalid_delinquency_status - INFO - invalid_delinquency_status dropped\n",
      "2018-10-26 16:45:53,368 - drop_invalid_delinquency_status - INFO - dropping invalid transitions and delinquency status, fill nan values, drop duplicates\n",
      "C:\\Users\\sandr\\Documents\\GitHub\\MLMortgage\\src\\data\\build_data.py:586: SettingWithCopyWarning: \n",
      "A value is trying to be set on a copy of a slice from a DataFrame\n",
      "\n",
      "See the caveats in the documentation: http://pandas.pydata.org/pandas-docs/stable/indexing.html#indexing-view-versus-copy\n",
      "  chunk['ORIGINATION_YEAR'][chunk['ORIGINATION_YEAR']<1995] = \"B1995\"\n",
      "2018-10-26 16:46:05,456 - allfeatures_drop_cols - INFO - ...Columns Excluded from dataset...\n",
      "2018-10-26 16:46:05,807 - allfeatures_drop_cols - INFO - ...Columns Excluded from dataset...\n",
      "2018-10-26 16:46:06,102 - allfeatures_drop_cols - INFO - ...Columns Excluded from dataset...\n"
     ]
    },
    {
     "name": "stdout",
     "output_type": "stream",
     "text": [
      "None\n",
      "Records for train Set - Number of rows: 271878\n"
     ]
    },
    {
     "name": "stderr",
     "output_type": "stream",
     "text": [
      "C:\\Users\\sandr\\Documents\\GitHub\\MLMortgage\\src\\data\\build_data.py:177: SettingWithCopyWarning: \n",
      "A value is trying to be set on a copy of a slice from a DataFrame\n",
      "\n",
      "See the caveats in the documentation: http://pandas.pydata.org/pandas-docs/stable/indexing.html#indexing-view-versus-copy\n",
      "  data.drop(data.columns[indices], axis=1, inplace=True)\n",
      "2018-10-26 16:46:45,980 - allfeatures_extract_labels - INFO - ...Labels extracted from Dataset...\n",
      "2018-10-26 16:46:48,002 - allfeatures_extract_labels - INFO - ...Labels extracted from Dataset...\n"
     ]
    },
    {
     "name": "stdout",
     "output_type": "stream",
     "text": [
      "Records for valid Set - Number of rows: 13018\n"
     ]
    },
    {
     "name": "stderr",
     "output_type": "stream",
     "text": [
      "2018-10-26 16:46:48,269 - allfeatures_extract_labels - INFO - ...Labels extracted from Dataset...\n"
     ]
    },
    {
     "name": "stdout",
     "output_type": "stream",
     "text": [
      "Records for test Set - Number of rows: 41438\n",
      "chunk:  33  chunk size:  500000\n"
     ]
    },
    {
     "name": "stderr",
     "output_type": "stream",
     "text": [
      "2018-10-26 16:47:04,835 - drop_invalid_delinquency_status - INFO - invalid_delinquency_status dropped\n",
      "2018-10-26 16:47:09,114 - drop_invalid_delinquency_status - INFO - dropping invalid transitions and delinquency status, fill nan values, drop duplicates\n",
      "C:\\Users\\sandr\\Documents\\GitHub\\MLMortgage\\src\\data\\build_data.py:586: SettingWithCopyWarning: \n",
      "A value is trying to be set on a copy of a slice from a DataFrame\n",
      "\n",
      "See the caveats in the documentation: http://pandas.pydata.org/pandas-docs/stable/indexing.html#indexing-view-versus-copy\n",
      "  chunk['ORIGINATION_YEAR'][chunk['ORIGINATION_YEAR']<1995] = \"B1995\"\n",
      "2018-10-26 16:47:20,986 - allfeatures_drop_cols - INFO - ...Columns Excluded from dataset...\n",
      "2018-10-26 16:47:21,358 - allfeatures_drop_cols - INFO - ...Columns Excluded from dataset...\n",
      "2018-10-26 16:47:21,670 - allfeatures_drop_cols - INFO - ...Columns Excluded from dataset...\n"
     ]
    },
    {
     "name": "stdout",
     "output_type": "stream",
     "text": [
      "None\n",
      "Records for train Set - Number of rows: 264356\n"
     ]
    },
    {
     "name": "stderr",
     "output_type": "stream",
     "text": [
      "C:\\Users\\sandr\\Documents\\GitHub\\MLMortgage\\src\\data\\build_data.py:177: SettingWithCopyWarning: \n",
      "A value is trying to be set on a copy of a slice from a DataFrame\n",
      "\n",
      "See the caveats in the documentation: http://pandas.pydata.org/pandas-docs/stable/indexing.html#indexing-view-versus-copy\n",
      "  data.drop(data.columns[indices], axis=1, inplace=True)\n",
      "2018-10-26 16:48:02,581 - allfeatures_extract_labels - INFO - ...Labels extracted from Dataset...\n",
      "2018-10-26 16:48:04,363 - allfeatures_extract_labels - INFO - ...Labels extracted from Dataset...\n"
     ]
    },
    {
     "name": "stdout",
     "output_type": "stream",
     "text": [
      "Records for valid Set - Number of rows: 14848\n"
     ]
    },
    {
     "name": "stderr",
     "output_type": "stream",
     "text": [
      "2018-10-26 16:48:04,677 - allfeatures_extract_labels - INFO - ...Labels extracted from Dataset...\n"
     ]
    },
    {
     "name": "stdout",
     "output_type": "stream",
     "text": [
      "Records for test Set - Number of rows: 45391\n",
      "chunk:  34  chunk size:  500000\n"
     ]
    },
    {
     "name": "stderr",
     "output_type": "stream",
     "text": [
      "2018-10-26 16:48:18,653 - drop_invalid_delinquency_status - INFO - invalid_delinquency_status dropped\n",
      "2018-10-26 16:48:22,886 - drop_invalid_delinquency_status - INFO - dropping invalid transitions and delinquency status, fill nan values, drop duplicates\n",
      "C:\\Users\\sandr\\Documents\\GitHub\\MLMortgage\\src\\data\\build_data.py:586: SettingWithCopyWarning: \n",
      "A value is trying to be set on a copy of a slice from a DataFrame\n",
      "\n",
      "See the caveats in the documentation: http://pandas.pydata.org/pandas-docs/stable/indexing.html#indexing-view-versus-copy\n",
      "  chunk['ORIGINATION_YEAR'][chunk['ORIGINATION_YEAR']<1995] = \"B1995\"\n",
      "2018-10-26 16:48:34,483 - allfeatures_drop_cols - INFO - ...Columns Excluded from dataset...\n",
      "2018-10-26 16:48:34,828 - allfeatures_drop_cols - INFO - ...Columns Excluded from dataset...\n",
      "2018-10-26 16:48:35,120 - allfeatures_drop_cols - INFO - ...Columns Excluded from dataset...\n"
     ]
    },
    {
     "name": "stdout",
     "output_type": "stream",
     "text": [
      "None\n",
      "Records for train Set - Number of rows: 253104\n"
     ]
    },
    {
     "name": "stderr",
     "output_type": "stream",
     "text": [
      "C:\\Users\\sandr\\Documents\\GitHub\\MLMortgage\\src\\data\\build_data.py:177: SettingWithCopyWarning: \n",
      "A value is trying to be set on a copy of a slice from a DataFrame\n",
      "\n",
      "See the caveats in the documentation: http://pandas.pydata.org/pandas-docs/stable/indexing.html#indexing-view-versus-copy\n",
      "  data.drop(data.columns[indices], axis=1, inplace=True)\n",
      "2018-10-26 16:49:13,959 - allfeatures_extract_labels - INFO - ...Labels extracted from Dataset...\n",
      "2018-10-26 16:49:15,832 - allfeatures_extract_labels - INFO - ...Labels extracted from Dataset...\n"
     ]
    },
    {
     "name": "stdout",
     "output_type": "stream",
     "text": [
      "Records for valid Set - Number of rows: 16045\n"
     ]
    },
    {
     "name": "stderr",
     "output_type": "stream",
     "text": [
      "2018-10-26 16:49:16,166 - allfeatures_extract_labels - INFO - ...Labels extracted from Dataset...\n"
     ]
    },
    {
     "name": "stdout",
     "output_type": "stream",
     "text": [
      "Records for test Set - Number of rows: 48092\n",
      "chunk:  35  chunk size:  500000\n",
      "223745898\n"
     ]
    },
    {
     "name": "stderr",
     "output_type": "stream",
     "text": [
      "2018-10-26 16:49:30,034 - drop_invalid_delinquency_status - INFO - invalid_delinquency_status dropped\n",
      "2018-10-26 16:49:34,034 - drop_invalid_delinquency_status - INFO - dropping invalid transitions and delinquency status, fill nan values, drop duplicates\n",
      "C:\\Users\\sandr\\Documents\\GitHub\\MLMortgage\\src\\data\\build_data.py:586: SettingWithCopyWarning: \n",
      "A value is trying to be set on a copy of a slice from a DataFrame\n",
      "\n",
      "See the caveats in the documentation: http://pandas.pydata.org/pandas-docs/stable/indexing.html#indexing-view-versus-copy\n",
      "  chunk['ORIGINATION_YEAR'][chunk['ORIGINATION_YEAR']<1995] = \"B1995\"\n",
      "2018-10-26 16:49:45,135 - allfeatures_drop_cols - INFO - ...Columns Excluded from dataset...\n",
      "2018-10-26 16:49:45,465 - allfeatures_drop_cols - INFO - ...Columns Excluded from dataset...\n",
      "2018-10-26 16:49:45,757 - allfeatures_drop_cols - INFO - ...Columns Excluded from dataset...\n"
     ]
    },
    {
     "name": "stdout",
     "output_type": "stream",
     "text": [
      "None\n",
      "Records for train Set - Number of rows: 246052\n"
     ]
    },
    {
     "name": "stderr",
     "output_type": "stream",
     "text": [
      "C:\\Users\\sandr\\Documents\\GitHub\\MLMortgage\\src\\data\\build_data.py:177: SettingWithCopyWarning: \n",
      "A value is trying to be set on a copy of a slice from a DataFrame\n",
      "\n",
      "See the caveats in the documentation: http://pandas.pydata.org/pandas-docs/stable/indexing.html#indexing-view-versus-copy\n",
      "  data.drop(data.columns[indices], axis=1, inplace=True)\n",
      "2018-10-26 16:50:23,733 - allfeatures_extract_labels - INFO - ...Labels extracted from Dataset...\n",
      "2018-10-26 16:50:25,390 - allfeatures_extract_labels - INFO - ...Labels extracted from Dataset...\n"
     ]
    },
    {
     "name": "stdout",
     "output_type": "stream",
     "text": [
      "Records for valid Set - Number of rows: 13528\n"
     ]
    },
    {
     "name": "stderr",
     "output_type": "stream",
     "text": [
      "2018-10-26 16:50:25,734 - allfeatures_extract_labels - INFO - ...Labels extracted from Dataset...\n"
     ]
    },
    {
     "name": "stdout",
     "output_type": "stream",
     "text": [
      "Records for test Set - Number of rows: 42803\n",
      "chunk:  36  chunk size:  500000\n"
     ]
    },
    {
     "name": "stderr",
     "output_type": "stream",
     "text": [
      "2018-10-26 16:50:42,448 - drop_invalid_delinquency_status - INFO - invalid_delinquency_status dropped\n",
      "2018-10-26 16:50:46,457 - drop_invalid_delinquency_status - INFO - dropping invalid transitions and delinquency status, fill nan values, drop duplicates\n",
      "C:\\Users\\sandr\\Documents\\GitHub\\MLMortgage\\src\\data\\build_data.py:586: SettingWithCopyWarning: \n",
      "A value is trying to be set on a copy of a slice from a DataFrame\n",
      "\n",
      "See the caveats in the documentation: http://pandas.pydata.org/pandas-docs/stable/indexing.html#indexing-view-versus-copy\n",
      "  chunk['ORIGINATION_YEAR'][chunk['ORIGINATION_YEAR']<1995] = \"B1995\"\n",
      "2018-10-26 16:50:57,688 - allfeatures_drop_cols - INFO - ...Columns Excluded from dataset...\n",
      "2018-10-26 16:50:58,026 - allfeatures_drop_cols - INFO - ...Columns Excluded from dataset...\n",
      "2018-10-26 16:50:58,311 - allfeatures_drop_cols - INFO - ...Columns Excluded from dataset...\n"
     ]
    },
    {
     "name": "stdout",
     "output_type": "stream",
     "text": [
      "None\n",
      "Records for train Set - Number of rows: 245629\n"
     ]
    },
    {
     "name": "stderr",
     "output_type": "stream",
     "text": [
      "C:\\Users\\sandr\\Documents\\GitHub\\MLMortgage\\src\\data\\build_data.py:177: SettingWithCopyWarning: \n",
      "A value is trying to be set on a copy of a slice from a DataFrame\n",
      "\n",
      "See the caveats in the documentation: http://pandas.pydata.org/pandas-docs/stable/indexing.html#indexing-view-versus-copy\n",
      "  data.drop(data.columns[indices], axis=1, inplace=True)\n",
      "2018-10-26 16:51:35,899 - allfeatures_extract_labels - INFO - ...Labels extracted from Dataset...\n",
      "2018-10-26 16:51:37,571 - allfeatures_extract_labels - INFO - ...Labels extracted from Dataset...\n"
     ]
    },
    {
     "name": "stdout",
     "output_type": "stream",
     "text": [
      "Records for valid Set - Number of rows: 14521\n"
     ]
    },
    {
     "name": "stderr",
     "output_type": "stream",
     "text": [
      "2018-10-26 16:51:37,941 - allfeatures_extract_labels - INFO - ...Labels extracted from Dataset...\n"
     ]
    },
    {
     "name": "stdout",
     "output_type": "stream",
     "text": [
      "Records for test Set - Number of rows: 44093\n",
      "chunk:  37  chunk size:  500000\n"
     ]
    },
    {
     "name": "stderr",
     "output_type": "stream",
     "text": [
      "2018-10-26 16:51:53,216 - drop_invalid_delinquency_status - INFO - invalid_delinquency_status dropped\n",
      "2018-10-26 16:51:57,235 - drop_invalid_delinquency_status - INFO - dropping invalid transitions and delinquency status, fill nan values, drop duplicates\n",
      "C:\\Users\\sandr\\Documents\\GitHub\\MLMortgage\\src\\data\\build_data.py:586: SettingWithCopyWarning: \n",
      "A value is trying to be set on a copy of a slice from a DataFrame\n",
      "\n",
      "See the caveats in the documentation: http://pandas.pydata.org/pandas-docs/stable/indexing.html#indexing-view-versus-copy\n",
      "  chunk['ORIGINATION_YEAR'][chunk['ORIGINATION_YEAR']<1995] = \"B1995\"\n",
      "2018-10-26 16:52:08,502 - allfeatures_drop_cols - INFO - ...Columns Excluded from dataset...\n",
      "2018-10-26 16:52:08,837 - allfeatures_drop_cols - INFO - ...Columns Excluded from dataset...\n",
      "2018-10-26 16:52:09,121 - allfeatures_drop_cols - INFO - ...Columns Excluded from dataset...\n"
     ]
    },
    {
     "name": "stdout",
     "output_type": "stream",
     "text": [
      "None\n"
     ]
    },
    {
     "name": "stderr",
     "output_type": "stream",
     "text": [
      "C:\\Users\\sandr\\Documents\\GitHub\\MLMortgage\\src\\data\\build_data.py:177: SettingWithCopyWarning: \n",
      "A value is trying to be set on a copy of a slice from a DataFrame\n",
      "\n",
      "See the caveats in the documentation: http://pandas.pydata.org/pandas-docs/stable/indexing.html#indexing-view-versus-copy\n",
      "  data.drop(data.columns[indices], axis=1, inplace=True)\n",
      "2018-10-26 16:52:46,698 - allfeatures_extract_labels - INFO - ...Labels extracted from Dataset...\n"
     ]
    },
    {
     "name": "stdout",
     "output_type": "stream",
     "text": [
      "Records for train Set - Number of rows: 244010\n"
     ]
    },
    {
     "name": "stderr",
     "output_type": "stream",
     "text": [
      "2018-10-26 16:52:48,469 - allfeatures_extract_labels - INFO - ...Labels extracted from Dataset...\n"
     ]
    },
    {
     "name": "stdout",
     "output_type": "stream",
     "text": [
      "Records for valid Set - Number of rows: 14924\n"
     ]
    },
    {
     "name": "stderr",
     "output_type": "stream",
     "text": [
      "2018-10-26 16:52:48,845 - allfeatures_extract_labels - INFO - ...Labels extracted from Dataset...\n"
     ]
    },
    {
     "name": "stdout",
     "output_type": "stream",
     "text": [
      "Records for test Set - Number of rows: 44894\n",
      "chunk:  38  chunk size:  500000\n"
     ]
    },
    {
     "name": "stderr",
     "output_type": "stream",
     "text": [
      "2018-10-26 16:53:06,530 - drop_invalid_delinquency_status - INFO - invalid_delinquency_status dropped\n",
      "2018-10-26 16:53:11,520 - drop_invalid_delinquency_status - INFO - dropping invalid transitions and delinquency status, fill nan values, drop duplicates\n",
      "C:\\Users\\sandr\\Documents\\GitHub\\MLMortgage\\src\\data\\build_data.py:586: SettingWithCopyWarning: \n",
      "A value is trying to be set on a copy of a slice from a DataFrame\n",
      "\n",
      "See the caveats in the documentation: http://pandas.pydata.org/pandas-docs/stable/indexing.html#indexing-view-versus-copy\n",
      "  chunk['ORIGINATION_YEAR'][chunk['ORIGINATION_YEAR']<1995] = \"B1995\"\n",
      "2018-10-26 16:53:24,939 - allfeatures_drop_cols - INFO - ...Columns Excluded from dataset...\n",
      "2018-10-26 16:53:25,308 - allfeatures_drop_cols - INFO - ...Columns Excluded from dataset...\n",
      "2018-10-26 16:53:25,618 - allfeatures_drop_cols - INFO - ...Columns Excluded from dataset...\n"
     ]
    },
    {
     "name": "stdout",
     "output_type": "stream",
     "text": [
      "None\n",
      "Records for train Set - Number of rows: 246599\n"
     ]
    },
    {
     "name": "stderr",
     "output_type": "stream",
     "text": [
      "C:\\Users\\sandr\\Documents\\GitHub\\MLMortgage\\src\\data\\build_data.py:177: SettingWithCopyWarning: \n",
      "A value is trying to be set on a copy of a slice from a DataFrame\n",
      "\n",
      "See the caveats in the documentation: http://pandas.pydata.org/pandas-docs/stable/indexing.html#indexing-view-versus-copy\n",
      "  data.drop(data.columns[indices], axis=1, inplace=True)\n",
      "2018-10-26 16:54:07,699 - allfeatures_extract_labels - INFO - ...Labels extracted from Dataset...\n",
      "2018-10-26 16:54:09,483 - allfeatures_extract_labels - INFO - ...Labels extracted from Dataset...\n"
     ]
    },
    {
     "name": "stdout",
     "output_type": "stream",
     "text": [
      "Records for valid Set - Number of rows: 16465\n"
     ]
    },
    {
     "name": "stderr",
     "output_type": "stream",
     "text": [
      "2018-10-26 16:54:09,910 - allfeatures_extract_labels - INFO - ...Labels extracted from Dataset...\n"
     ]
    },
    {
     "name": "stdout",
     "output_type": "stream",
     "text": [
      "Records for test Set - Number of rows: 47751\n",
      "chunk:  39  chunk size:  500000\n"
     ]
    },
    {
     "name": "stderr",
     "output_type": "stream",
     "text": [
      "2018-10-26 16:54:27,007 - drop_invalid_delinquency_status - INFO - invalid_delinquency_status dropped\n",
      "2018-10-26 16:54:31,891 - drop_invalid_delinquency_status - INFO - dropping invalid transitions and delinquency status, fill nan values, drop duplicates\n",
      "C:\\Users\\sandr\\Documents\\GitHub\\MLMortgage\\src\\data\\build_data.py:586: SettingWithCopyWarning: \n",
      "A value is trying to be set on a copy of a slice from a DataFrame\n",
      "\n",
      "See the caveats in the documentation: http://pandas.pydata.org/pandas-docs/stable/indexing.html#indexing-view-versus-copy\n",
      "  chunk['ORIGINATION_YEAR'][chunk['ORIGINATION_YEAR']<1995] = \"B1995\"\n",
      "2018-10-26 16:54:45,682 - allfeatures_drop_cols - INFO - ...Columns Excluded from dataset...\n",
      "2018-10-26 16:54:46,066 - allfeatures_drop_cols - INFO - ...Columns Excluded from dataset...\n",
      "2018-10-26 16:54:46,385 - allfeatures_drop_cols - INFO - ...Columns Excluded from dataset...\n"
     ]
    },
    {
     "name": "stdout",
     "output_type": "stream",
     "text": [
      "None\n",
      "Records for train Set - Number of rows: 246811\n"
     ]
    },
    {
     "name": "stderr",
     "output_type": "stream",
     "text": [
      "C:\\Users\\sandr\\Documents\\GitHub\\MLMortgage\\src\\data\\build_data.py:177: SettingWithCopyWarning: \n",
      "A value is trying to be set on a copy of a slice from a DataFrame\n",
      "\n",
      "See the caveats in the documentation: http://pandas.pydata.org/pandas-docs/stable/indexing.html#indexing-view-versus-copy\n",
      "  data.drop(data.columns[indices], axis=1, inplace=True)\n",
      "2018-10-26 16:55:31,710 - allfeatures_extract_labels - INFO - ...Labels extracted from Dataset...\n",
      "2018-10-26 16:55:33,573 - allfeatures_extract_labels - INFO - ...Labels extracted from Dataset...\n"
     ]
    },
    {
     "name": "stdout",
     "output_type": "stream",
     "text": [
      "Records for valid Set - Number of rows: 17019\n"
     ]
    },
    {
     "name": "stderr",
     "output_type": "stream",
     "text": [
      "2018-10-26 16:55:33,859 - allfeatures_extract_labels - INFO - ...Labels extracted from Dataset...\n"
     ]
    },
    {
     "name": "stdout",
     "output_type": "stream",
     "text": [
      "Records for test Set - Number of rows: 49503\n",
      "chunk:  40  chunk size:  500000\n"
     ]
    },
    {
     "name": "stderr",
     "output_type": "stream",
     "text": [
      "2018-10-26 16:55:50,788 - drop_invalid_delinquency_status - INFO - invalid_delinquency_status dropped\n",
      "2018-10-26 16:55:55,520 - drop_invalid_delinquency_status - INFO - dropping invalid transitions and delinquency status, fill nan values, drop duplicates\n",
      "C:\\Users\\sandr\\Documents\\GitHub\\MLMortgage\\src\\data\\build_data.py:586: SettingWithCopyWarning: \n",
      "A value is trying to be set on a copy of a slice from a DataFrame\n",
      "\n",
      "See the caveats in the documentation: http://pandas.pydata.org/pandas-docs/stable/indexing.html#indexing-view-versus-copy\n",
      "  chunk['ORIGINATION_YEAR'][chunk['ORIGINATION_YEAR']<1995] = \"B1995\"\n",
      "2018-10-26 16:56:08,760 - allfeatures_drop_cols - INFO - ...Columns Excluded from dataset...\n",
      "2018-10-26 16:56:09,140 - allfeatures_drop_cols - INFO - ...Columns Excluded from dataset...\n",
      "2018-10-26 16:56:09,444 - allfeatures_drop_cols - INFO - ...Columns Excluded from dataset...\n"
     ]
    },
    {
     "name": "stdout",
     "output_type": "stream",
     "text": [
      "None\n",
      "Records for train Set - Number of rows: 246343\n"
     ]
    },
    {
     "name": "stderr",
     "output_type": "stream",
     "text": [
      "C:\\Users\\sandr\\Documents\\GitHub\\MLMortgage\\src\\data\\build_data.py:177: SettingWithCopyWarning: \n",
      "A value is trying to be set on a copy of a slice from a DataFrame\n",
      "\n",
      "See the caveats in the documentation: http://pandas.pydata.org/pandas-docs/stable/indexing.html#indexing-view-versus-copy\n",
      "  data.drop(data.columns[indices], axis=1, inplace=True)\n",
      "2018-10-26 16:56:51,232 - allfeatures_extract_labels - INFO - ...Labels extracted from Dataset...\n",
      "2018-10-26 16:56:52,911 - allfeatures_extract_labels - INFO - ...Labels extracted from Dataset...\n"
     ]
    },
    {
     "name": "stdout",
     "output_type": "stream",
     "text": [
      "Records for valid Set - Number of rows: 18043\n"
     ]
    },
    {
     "name": "stderr",
     "output_type": "stream",
     "text": [
      "2018-10-26 16:56:53,232 - allfeatures_extract_labels - INFO - ...Labels extracted from Dataset...\n"
     ]
    },
    {
     "name": "stdout",
     "output_type": "stream",
     "text": [
      "Records for test Set - Number of rows: 51818\n",
      "chunk:  41  chunk size:  500000\n"
     ]
    },
    {
     "name": "stderr",
     "output_type": "stream",
     "text": [
      "2018-10-26 16:57:09,921 - drop_invalid_delinquency_status - INFO - invalid_delinquency_status dropped\n",
      "2018-10-26 16:57:14,514 - drop_invalid_delinquency_status - INFO - dropping invalid transitions and delinquency status, fill nan values, drop duplicates\n",
      "C:\\Users\\sandr\\Documents\\GitHub\\MLMortgage\\src\\data\\build_data.py:586: SettingWithCopyWarning: \n",
      "A value is trying to be set on a copy of a slice from a DataFrame\n",
      "\n",
      "See the caveats in the documentation: http://pandas.pydata.org/pandas-docs/stable/indexing.html#indexing-view-versus-copy\n",
      "  chunk['ORIGINATION_YEAR'][chunk['ORIGINATION_YEAR']<1995] = \"B1995\"\n",
      "2018-10-26 16:57:26,814 - allfeatures_drop_cols - INFO - ...Columns Excluded from dataset...\n",
      "2018-10-26 16:57:27,182 - allfeatures_drop_cols - INFO - ...Columns Excluded from dataset...\n",
      "2018-10-26 16:57:27,494 - allfeatures_drop_cols - INFO - ...Columns Excluded from dataset...\n"
     ]
    },
    {
     "name": "stdout",
     "output_type": "stream",
     "text": [
      "None\n",
      "Records for train Set - Number of rows: 235631\n"
     ]
    },
    {
     "name": "stderr",
     "output_type": "stream",
     "text": [
      "C:\\Users\\sandr\\Documents\\GitHub\\MLMortgage\\src\\data\\build_data.py:177: SettingWithCopyWarning: \n",
      "A value is trying to be set on a copy of a slice from a DataFrame\n",
      "\n",
      "See the caveats in the documentation: http://pandas.pydata.org/pandas-docs/stable/indexing.html#indexing-view-versus-copy\n",
      "  data.drop(data.columns[indices], axis=1, inplace=True)\n",
      "2018-10-26 16:58:09,297 - allfeatures_extract_labels - INFO - ...Labels extracted from Dataset...\n",
      "2018-10-26 16:58:11,215 - allfeatures_extract_labels - INFO - ...Labels extracted from Dataset...\n"
     ]
    },
    {
     "name": "stdout",
     "output_type": "stream",
     "text": [
      "Records for valid Set - Number of rows: 17974\n"
     ]
    },
    {
     "name": "stderr",
     "output_type": "stream",
     "text": [
      "2018-10-26 16:58:11,589 - allfeatures_extract_labels - INFO - ...Labels extracted from Dataset...\n"
     ]
    },
    {
     "name": "stdout",
     "output_type": "stream",
     "text": [
      "Records for test Set - Number of rows: 52989\n",
      "chunk:  42  chunk size:  500000\n"
     ]
    },
    {
     "name": "stderr",
     "output_type": "stream",
     "text": [
      "2018-10-26 16:58:29,671 - drop_invalid_delinquency_status - INFO - invalid_delinquency_status dropped\n",
      "2018-10-26 16:58:34,457 - drop_invalid_delinquency_status - INFO - dropping invalid transitions and delinquency status, fill nan values, drop duplicates\n",
      "C:\\Users\\sandr\\Documents\\GitHub\\MLMortgage\\src\\data\\build_data.py:586: SettingWithCopyWarning: \n",
      "A value is trying to be set on a copy of a slice from a DataFrame\n",
      "\n",
      "See the caveats in the documentation: http://pandas.pydata.org/pandas-docs/stable/indexing.html#indexing-view-versus-copy\n",
      "  chunk['ORIGINATION_YEAR'][chunk['ORIGINATION_YEAR']<1995] = \"B1995\"\n",
      "2018-10-26 16:58:47,796 - allfeatures_drop_cols - INFO - ...Columns Excluded from dataset...\n",
      "2018-10-26 16:58:48,160 - allfeatures_drop_cols - INFO - ...Columns Excluded from dataset...\n",
      "2018-10-26 16:58:48,468 - allfeatures_drop_cols - INFO - ...Columns Excluded from dataset...\n"
     ]
    },
    {
     "name": "stdout",
     "output_type": "stream",
     "text": [
      "None\n",
      "Records for train Set - Number of rows: 234007\n"
     ]
    },
    {
     "name": "stderr",
     "output_type": "stream",
     "text": [
      "C:\\Users\\sandr\\Documents\\GitHub\\MLMortgage\\src\\data\\build_data.py:177: SettingWithCopyWarning: \n",
      "A value is trying to be set on a copy of a slice from a DataFrame\n",
      "\n",
      "See the caveats in the documentation: http://pandas.pydata.org/pandas-docs/stable/indexing.html#indexing-view-versus-copy\n",
      "  data.drop(data.columns[indices], axis=1, inplace=True)\n",
      "2018-10-26 16:59:32,406 - allfeatures_extract_labels - INFO - ...Labels extracted from Dataset...\n",
      "2018-10-26 16:59:34,311 - allfeatures_extract_labels - INFO - ...Labels extracted from Dataset...\n"
     ]
    },
    {
     "name": "stdout",
     "output_type": "stream",
     "text": [
      "Records for valid Set - Number of rows: 18727\n"
     ]
    },
    {
     "name": "stderr",
     "output_type": "stream",
     "text": [
      "2018-10-26 16:59:34,705 - allfeatures_extract_labels - INFO - ...Labels extracted from Dataset...\n"
     ]
    },
    {
     "name": "stdout",
     "output_type": "stream",
     "text": [
      "Records for test Set - Number of rows: 54649\n",
      "chunk:  43  chunk size:  500000\n"
     ]
    },
    {
     "name": "stderr",
     "output_type": "stream",
     "text": [
      "2018-10-26 16:59:51,029 - drop_invalid_delinquency_status - INFO - invalid_delinquency_status dropped\n",
      "2018-10-26 16:59:55,444 - drop_invalid_delinquency_status - INFO - dropping invalid transitions and delinquency status, fill nan values, drop duplicates\n",
      "C:\\Users\\sandr\\Documents\\GitHub\\MLMortgage\\src\\data\\build_data.py:586: SettingWithCopyWarning: \n",
      "A value is trying to be set on a copy of a slice from a DataFrame\n",
      "\n",
      "See the caveats in the documentation: http://pandas.pydata.org/pandas-docs/stable/indexing.html#indexing-view-versus-copy\n",
      "  chunk['ORIGINATION_YEAR'][chunk['ORIGINATION_YEAR']<1995] = \"B1995\"\n",
      "2018-10-26 17:00:08,362 - allfeatures_drop_cols - INFO - ...Columns Excluded from dataset...\n",
      "2018-10-26 17:00:08,740 - allfeatures_drop_cols - INFO - ...Columns Excluded from dataset...\n",
      "2018-10-26 17:00:09,116 - allfeatures_drop_cols - INFO - ...Columns Excluded from dataset...\n"
     ]
    },
    {
     "name": "stdout",
     "output_type": "stream",
     "text": [
      "None\n",
      "Records for train Set - Number of rows: 228766\n"
     ]
    },
    {
     "name": "stderr",
     "output_type": "stream",
     "text": [
      "C:\\Users\\sandr\\Documents\\GitHub\\MLMortgage\\src\\data\\build_data.py:177: SettingWithCopyWarning: \n",
      "A value is trying to be set on a copy of a slice from a DataFrame\n",
      "\n",
      "See the caveats in the documentation: http://pandas.pydata.org/pandas-docs/stable/indexing.html#indexing-view-versus-copy\n",
      "  data.drop(data.columns[indices], axis=1, inplace=True)\n",
      "2018-10-26 17:00:52,077 - allfeatures_extract_labels - INFO - ...Labels extracted from Dataset...\n",
      "2018-10-26 17:00:53,648 - allfeatures_extract_labels - INFO - ...Labels extracted from Dataset...\n"
     ]
    },
    {
     "name": "stdout",
     "output_type": "stream",
     "text": [
      "Records for valid Set - Number of rows: 16061\n"
     ]
    },
    {
     "name": "stderr",
     "output_type": "stream",
     "text": [
      "2018-10-26 17:00:54,035 - allfeatures_extract_labels - INFO - ...Labels extracted from Dataset...\n"
     ]
    },
    {
     "name": "stdout",
     "output_type": "stream",
     "text": [
      "Records for test Set - Number of rows: 54926\n",
      "chunk:  44  chunk size:  500000\n"
     ]
    },
    {
     "name": "stderr",
     "output_type": "stream",
     "text": [
      "2018-10-26 17:01:11,862 - drop_invalid_delinquency_status - INFO - invalid_delinquency_status dropped\n",
      "2018-10-26 17:01:16,600 - drop_invalid_delinquency_status - INFO - dropping invalid transitions and delinquency status, fill nan values, drop duplicates\n",
      "C:\\Users\\sandr\\Documents\\GitHub\\MLMortgage\\src\\data\\build_data.py:586: SettingWithCopyWarning: \n",
      "A value is trying to be set on a copy of a slice from a DataFrame\n",
      "\n",
      "See the caveats in the documentation: http://pandas.pydata.org/pandas-docs/stable/indexing.html#indexing-view-versus-copy\n",
      "  chunk['ORIGINATION_YEAR'][chunk['ORIGINATION_YEAR']<1995] = \"B1995\"\n",
      "2018-10-26 17:01:29,469 - allfeatures_drop_cols - INFO - ...Columns Excluded from dataset...\n",
      "2018-10-26 17:01:29,832 - allfeatures_drop_cols - INFO - ...Columns Excluded from dataset...\n",
      "2018-10-26 17:01:30,134 - allfeatures_drop_cols - INFO - ...Columns Excluded from dataset...\n"
     ]
    },
    {
     "name": "stdout",
     "output_type": "stream",
     "text": [
      "None\n"
     ]
    },
    {
     "name": "stderr",
     "output_type": "stream",
     "text": [
      "C:\\Users\\sandr\\Documents\\GitHub\\MLMortgage\\src\\data\\build_data.py:177: SettingWithCopyWarning: \n",
      "A value is trying to be set on a copy of a slice from a DataFrame\n",
      "\n",
      "See the caveats in the documentation: http://pandas.pydata.org/pandas-docs/stable/indexing.html#indexing-view-versus-copy\n",
      "  data.drop(data.columns[indices], axis=1, inplace=True)\n",
      "2018-10-26 17:02:13,486 - allfeatures_extract_labels - INFO - ...Labels extracted from Dataset...\n"
     ]
    },
    {
     "name": "stdout",
     "output_type": "stream",
     "text": [
      "Records for train Set - Number of rows: 235643\n"
     ]
    },
    {
     "name": "stderr",
     "output_type": "stream",
     "text": [
      "2018-10-26 17:02:15,249 - allfeatures_extract_labels - INFO - ...Labels extracted from Dataset...\n"
     ]
    },
    {
     "name": "stdout",
     "output_type": "stream",
     "text": [
      "Records for valid Set - Number of rows: 14387\n"
     ]
    },
    {
     "name": "stderr",
     "output_type": "stream",
     "text": [
      "2018-10-26 17:02:15,643 - allfeatures_extract_labels - INFO - ...Labels extracted from Dataset...\n"
     ]
    },
    {
     "name": "stdout",
     "output_type": "stream",
     "text": [
      "Records for test Set - Number of rows: 53594\n",
      "chunk:  45  chunk size:  500000\n"
     ]
    },
    {
     "name": "stderr",
     "output_type": "stream",
     "text": [
      "2018-10-26 17:02:32,648 - drop_invalid_delinquency_status - INFO - invalid_delinquency_status dropped\n",
      "2018-10-26 17:02:37,217 - drop_invalid_delinquency_status - INFO - dropping invalid transitions and delinquency status, fill nan values, drop duplicates\n",
      "C:\\Users\\sandr\\Documents\\GitHub\\MLMortgage\\src\\data\\build_data.py:586: SettingWithCopyWarning: \n",
      "A value is trying to be set on a copy of a slice from a DataFrame\n",
      "\n",
      "See the caveats in the documentation: http://pandas.pydata.org/pandas-docs/stable/indexing.html#indexing-view-versus-copy\n",
      "  chunk['ORIGINATION_YEAR'][chunk['ORIGINATION_YEAR']<1995] = \"B1995\"\n",
      "2018-10-26 17:02:50,812 - allfeatures_drop_cols - INFO - ...Columns Excluded from dataset...\n",
      "2018-10-26 17:02:51,182 - allfeatures_drop_cols - INFO - ...Columns Excluded from dataset...\n",
      "2018-10-26 17:02:51,539 - allfeatures_drop_cols - INFO - ...Columns Excluded from dataset...\n"
     ]
    },
    {
     "name": "stdout",
     "output_type": "stream",
     "text": [
      "None\n",
      "Records for train Set - Number of rows: 247706\n"
     ]
    },
    {
     "name": "stderr",
     "output_type": "stream",
     "text": [
      "C:\\Users\\sandr\\Documents\\GitHub\\MLMortgage\\src\\data\\build_data.py:177: SettingWithCopyWarning: \n",
      "A value is trying to be set on a copy of a slice from a DataFrame\n",
      "\n",
      "See the caveats in the documentation: http://pandas.pydata.org/pandas-docs/stable/indexing.html#indexing-view-versus-copy\n",
      "  data.drop(data.columns[indices], axis=1, inplace=True)\n",
      "2018-10-26 17:03:34,387 - allfeatures_extract_labels - INFO - ...Labels extracted from Dataset...\n",
      "2018-10-26 17:03:36,306 - allfeatures_extract_labels - INFO - ...Labels extracted from Dataset...\n"
     ]
    },
    {
     "name": "stdout",
     "output_type": "stream",
     "text": [
      "Records for valid Set - Number of rows: 15756\n"
     ]
    },
    {
     "name": "stderr",
     "output_type": "stream",
     "text": [
      "2018-10-26 17:03:36,737 - allfeatures_extract_labels - INFO - ...Labels extracted from Dataset...\n"
     ]
    },
    {
     "name": "stdout",
     "output_type": "stream",
     "text": [
      "Records for test Set - Number of rows: 57380\n",
      "chunk:  46  chunk size:  500000\n"
     ]
    },
    {
     "name": "stderr",
     "output_type": "stream",
     "text": [
      "2018-10-26 17:03:53,462 - drop_invalid_delinquency_status - INFO - invalid_delinquency_status dropped\n",
      "2018-10-26 17:03:58,055 - drop_invalid_delinquency_status - INFO - dropping invalid transitions and delinquency status, fill nan values, drop duplicates\n",
      "C:\\Users\\sandr\\Documents\\GitHub\\MLMortgage\\src\\data\\build_data.py:586: SettingWithCopyWarning: \n",
      "A value is trying to be set on a copy of a slice from a DataFrame\n",
      "\n",
      "See the caveats in the documentation: http://pandas.pydata.org/pandas-docs/stable/indexing.html#indexing-view-versus-copy\n",
      "  chunk['ORIGINATION_YEAR'][chunk['ORIGINATION_YEAR']<1995] = \"B1995\"\n",
      "2018-10-26 17:04:10,731 - allfeatures_drop_cols - INFO - ...Columns Excluded from dataset...\n",
      "2018-10-26 17:04:11,106 - allfeatures_drop_cols - INFO - ...Columns Excluded from dataset...\n",
      "2018-10-26 17:04:11,444 - allfeatures_drop_cols - INFO - ...Columns Excluded from dataset...\n"
     ]
    },
    {
     "name": "stdout",
     "output_type": "stream",
     "text": [
      "None\n",
      "Records for train Set - Number of rows: 245251\n"
     ]
    },
    {
     "name": "stderr",
     "output_type": "stream",
     "text": [
      "C:\\Users\\sandr\\Documents\\GitHub\\MLMortgage\\src\\data\\build_data.py:177: SettingWithCopyWarning: \n",
      "A value is trying to be set on a copy of a slice from a DataFrame\n",
      "\n",
      "See the caveats in the documentation: http://pandas.pydata.org/pandas-docs/stable/indexing.html#indexing-view-versus-copy\n",
      "  data.drop(data.columns[indices], axis=1, inplace=True)\n",
      "2018-10-26 17:04:53,663 - allfeatures_extract_labels - INFO - ...Labels extracted from Dataset...\n",
      "2018-10-26 17:04:55,793 - allfeatures_extract_labels - INFO - ...Labels extracted from Dataset...\n"
     ]
    },
    {
     "name": "stdout",
     "output_type": "stream",
     "text": [
      "Records for valid Set - Number of rows: 16307\n"
     ]
    },
    {
     "name": "stderr",
     "output_type": "stream",
     "text": [
      "2018-10-26 17:04:56,262 - allfeatures_extract_labels - INFO - ...Labels extracted from Dataset...\n"
     ]
    },
    {
     "name": "stdout",
     "output_type": "stream",
     "text": [
      "Records for test Set - Number of rows: 56105\n",
      "chunk:  47  chunk size:  500000\n"
     ]
    },
    {
     "name": "stderr",
     "output_type": "stream",
     "text": [
      "2018-10-26 17:05:12,582 - drop_invalid_delinquency_status - INFO - invalid_delinquency_status dropped\n",
      "2018-10-26 17:05:17,157 - drop_invalid_delinquency_status - INFO - dropping invalid transitions and delinquency status, fill nan values, drop duplicates\n",
      "C:\\Users\\sandr\\Documents\\GitHub\\MLMortgage\\src\\data\\build_data.py:586: SettingWithCopyWarning: \n",
      "A value is trying to be set on a copy of a slice from a DataFrame\n",
      "\n",
      "See the caveats in the documentation: http://pandas.pydata.org/pandas-docs/stable/indexing.html#indexing-view-versus-copy\n",
      "  chunk['ORIGINATION_YEAR'][chunk['ORIGINATION_YEAR']<1995] = \"B1995\"\n",
      "2018-10-26 17:05:29,788 - allfeatures_drop_cols - INFO - ...Columns Excluded from dataset...\n",
      "2018-10-26 17:05:30,162 - allfeatures_drop_cols - INFO - ...Columns Excluded from dataset...\n",
      "2018-10-26 17:05:30,490 - allfeatures_drop_cols - INFO - ...Columns Excluded from dataset...\n"
     ]
    },
    {
     "name": "stdout",
     "output_type": "stream",
     "text": [
      "None\n",
      "Records for train Set - Number of rows: 257565\n"
     ]
    },
    {
     "name": "stderr",
     "output_type": "stream",
     "text": [
      "C:\\Users\\sandr\\Documents\\GitHub\\MLMortgage\\src\\data\\build_data.py:177: SettingWithCopyWarning: \n",
      "A value is trying to be set on a copy of a slice from a DataFrame\n",
      "\n",
      "See the caveats in the documentation: http://pandas.pydata.org/pandas-docs/stable/indexing.html#indexing-view-versus-copy\n",
      "  data.drop(data.columns[indices], axis=1, inplace=True)\n",
      "2018-10-26 17:06:13,155 - allfeatures_extract_labels - INFO - ...Labels extracted from Dataset...\n",
      "2018-10-26 17:06:15,023 - allfeatures_extract_labels - INFO - ...Labels extracted from Dataset...\n"
     ]
    },
    {
     "name": "stdout",
     "output_type": "stream",
     "text": [
      "Records for valid Set - Number of rows: 15754\n"
     ]
    },
    {
     "name": "stderr",
     "output_type": "stream",
     "text": [
      "2018-10-26 17:06:15,286 - allfeatures_extract_labels - INFO - ...Labels extracted from Dataset...\n"
     ]
    },
    {
     "name": "stdout",
     "output_type": "stream",
     "text": [
      "Records for test Set - Number of rows: 50742\n",
      "chunk:  48  chunk size:  500000\n"
     ]
    },
    {
     "name": "stderr",
     "output_type": "stream",
     "text": [
      "2018-10-26 17:06:32,012 - drop_invalid_delinquency_status - INFO - invalid_delinquency_status dropped\n",
      "2018-10-26 17:06:36,799 - drop_invalid_delinquency_status - INFO - dropping invalid transitions and delinquency status, fill nan values, drop duplicates\n",
      "C:\\Users\\sandr\\Documents\\GitHub\\MLMortgage\\src\\data\\build_data.py:586: SettingWithCopyWarning: \n",
      "A value is trying to be set on a copy of a slice from a DataFrame\n",
      "\n",
      "See the caveats in the documentation: http://pandas.pydata.org/pandas-docs/stable/indexing.html#indexing-view-versus-copy\n",
      "  chunk['ORIGINATION_YEAR'][chunk['ORIGINATION_YEAR']<1995] = \"B1995\"\n",
      "2018-10-26 17:06:49,320 - allfeatures_drop_cols - INFO - ...Columns Excluded from dataset...\n",
      "2018-10-26 17:06:49,689 - allfeatures_drop_cols - INFO - ...Columns Excluded from dataset...\n",
      "2018-10-26 17:06:50,006 - allfeatures_drop_cols - INFO - ...Columns Excluded from dataset...\n"
     ]
    },
    {
     "name": "stdout",
     "output_type": "stream",
     "text": [
      "None\n",
      "Records for train Set - Number of rows: 254312\n"
     ]
    },
    {
     "name": "stderr",
     "output_type": "stream",
     "text": [
      "C:\\Users\\sandr\\Documents\\GitHub\\MLMortgage\\src\\data\\build_data.py:177: SettingWithCopyWarning: \n",
      "A value is trying to be set on a copy of a slice from a DataFrame\n",
      "\n",
      "See the caveats in the documentation: http://pandas.pydata.org/pandas-docs/stable/indexing.html#indexing-view-versus-copy\n",
      "  data.drop(data.columns[indices], axis=1, inplace=True)\n",
      "2018-10-26 17:07:32,970 - allfeatures_extract_labels - INFO - ...Labels extracted from Dataset...\n",
      "2018-10-26 17:07:34,933 - allfeatures_extract_labels - INFO - ...Labels extracted from Dataset...\n"
     ]
    },
    {
     "name": "stdout",
     "output_type": "stream",
     "text": [
      "Records for valid Set - Number of rows: 14482\n"
     ]
    },
    {
     "name": "stderr",
     "output_type": "stream",
     "text": [
      "2018-10-26 17:07:35,221 - allfeatures_extract_labels - INFO - ...Labels extracted from Dataset...\n"
     ]
    },
    {
     "name": "stdout",
     "output_type": "stream",
     "text": [
      "Records for test Set - Number of rows: 51214\n",
      "chunk:  49  chunk size:  500000\n"
     ]
    },
    {
     "name": "stderr",
     "output_type": "stream",
     "text": [
      "2018-10-26 17:07:50,816 - drop_invalid_delinquency_status - INFO - invalid_delinquency_status dropped\n",
      "2018-10-26 17:07:55,586 - drop_invalid_delinquency_status - INFO - dropping invalid transitions and delinquency status, fill nan values, drop duplicates\n",
      "C:\\Users\\sandr\\Documents\\GitHub\\MLMortgage\\src\\data\\build_data.py:586: SettingWithCopyWarning: \n",
      "A value is trying to be set on a copy of a slice from a DataFrame\n",
      "\n",
      "See the caveats in the documentation: http://pandas.pydata.org/pandas-docs/stable/indexing.html#indexing-view-versus-copy\n",
      "  chunk['ORIGINATION_YEAR'][chunk['ORIGINATION_YEAR']<1995] = \"B1995\"\n",
      "2018-10-26 17:08:08,398 - allfeatures_drop_cols - INFO - ...Columns Excluded from dataset...\n",
      "2018-10-26 17:08:08,811 - allfeatures_drop_cols - INFO - ...Columns Excluded from dataset...\n",
      "2018-10-26 17:08:09,241 - allfeatures_drop_cols - INFO - ...Columns Excluded from dataset...\n"
     ]
    },
    {
     "name": "stdout",
     "output_type": "stream",
     "text": [
      "None\n",
      "Records for train Set - Number of rows: 250466\n"
     ]
    },
    {
     "name": "stderr",
     "output_type": "stream",
     "text": [
      "C:\\Users\\sandr\\Documents\\GitHub\\MLMortgage\\src\\data\\build_data.py:177: SettingWithCopyWarning: \n",
      "A value is trying to be set on a copy of a slice from a DataFrame\n",
      "\n",
      "See the caveats in the documentation: http://pandas.pydata.org/pandas-docs/stable/indexing.html#indexing-view-versus-copy\n",
      "  data.drop(data.columns[indices], axis=1, inplace=True)\n",
      "2018-10-26 17:08:53,304 - allfeatures_extract_labels - INFO - ...Labels extracted from Dataset...\n",
      "2018-10-26 17:08:55,289 - allfeatures_extract_labels - INFO - ...Labels extracted from Dataset...\n"
     ]
    },
    {
     "name": "stdout",
     "output_type": "stream",
     "text": [
      "Records for valid Set - Number of rows: 16455\n"
     ]
    },
    {
     "name": "stderr",
     "output_type": "stream",
     "text": [
      "2018-10-26 17:08:55,688 - allfeatures_extract_labels - INFO - ...Labels extracted from Dataset...\n"
     ]
    },
    {
     "name": "stdout",
     "output_type": "stream",
     "text": [
      "Records for test Set - Number of rows: 51165\n",
      "chunk:  50  chunk size:  500000\n"
     ]
    },
    {
     "name": "stderr",
     "output_type": "stream",
     "text": [
      "2018-10-26 17:09:13,959 - drop_invalid_delinquency_status - INFO - invalid_delinquency_status dropped\n",
      "2018-10-26 17:09:18,686 - drop_invalid_delinquency_status - INFO - dropping invalid transitions and delinquency status, fill nan values, drop duplicates\n",
      "C:\\Users\\sandr\\Documents\\GitHub\\MLMortgage\\src\\data\\build_data.py:586: SettingWithCopyWarning: \n",
      "A value is trying to be set on a copy of a slice from a DataFrame\n",
      "\n",
      "See the caveats in the documentation: http://pandas.pydata.org/pandas-docs/stable/indexing.html#indexing-view-versus-copy\n",
      "  chunk['ORIGINATION_YEAR'][chunk['ORIGINATION_YEAR']<1995] = \"B1995\"\n",
      "2018-10-26 17:09:32,391 - allfeatures_drop_cols - INFO - ...Columns Excluded from dataset...\n",
      "2018-10-26 17:09:32,792 - allfeatures_drop_cols - INFO - ...Columns Excluded from dataset...\n",
      "2018-10-26 17:09:33,136 - allfeatures_drop_cols - INFO - ...Columns Excluded from dataset...\n"
     ]
    },
    {
     "name": "stdout",
     "output_type": "stream",
     "text": [
      "None\n",
      "Records for train Set - Number of rows: 276198\n"
     ]
    },
    {
     "name": "stderr",
     "output_type": "stream",
     "text": [
      "C:\\Users\\sandr\\Documents\\GitHub\\MLMortgage\\src\\data\\build_data.py:177: SettingWithCopyWarning: \n",
      "A value is trying to be set on a copy of a slice from a DataFrame\n",
      "\n",
      "See the caveats in the documentation: http://pandas.pydata.org/pandas-docs/stable/indexing.html#indexing-view-versus-copy\n",
      "  data.drop(data.columns[indices], axis=1, inplace=True)\n",
      "2018-10-26 17:10:18,951 - allfeatures_extract_labels - INFO - ...Labels extracted from Dataset...\n",
      "2018-10-26 17:10:20,830 - allfeatures_extract_labels - INFO - ...Labels extracted from Dataset...\n"
     ]
    },
    {
     "name": "stdout",
     "output_type": "stream",
     "text": [
      "Records for valid Set - Number of rows: 14592\n"
     ]
    },
    {
     "name": "stderr",
     "output_type": "stream",
     "text": [
      "2018-10-26 17:10:21,151 - allfeatures_extract_labels - INFO - ...Labels extracted from Dataset...\n"
     ]
    },
    {
     "name": "stdout",
     "output_type": "stream",
     "text": [
      "Records for test Set - Number of rows: 44866\n",
      "chunk:  51  chunk size:  500000\n"
     ]
    },
    {
     "name": "stderr",
     "output_type": "stream",
     "text": [
      "2018-10-26 17:10:35,672 - drop_invalid_delinquency_status - INFO - invalid_delinquency_status dropped\n",
      "2018-10-26 17:10:41,113 - drop_invalid_delinquency_status - INFO - dropping invalid transitions and delinquency status, fill nan values, drop duplicates\n",
      "C:\\Users\\sandr\\Documents\\GitHub\\MLMortgage\\src\\data\\build_data.py:586: SettingWithCopyWarning: \n",
      "A value is trying to be set on a copy of a slice from a DataFrame\n",
      "\n",
      "See the caveats in the documentation: http://pandas.pydata.org/pandas-docs/stable/indexing.html#indexing-view-versus-copy\n",
      "  chunk['ORIGINATION_YEAR'][chunk['ORIGINATION_YEAR']<1995] = \"B1995\"\n",
      "2018-10-26 17:10:55,308 - allfeatures_drop_cols - INFO - ...Columns Excluded from dataset...\n",
      "2018-10-26 17:10:55,808 - allfeatures_drop_cols - INFO - ...Columns Excluded from dataset...\n",
      "2018-10-26 17:10:56,256 - allfeatures_drop_cols - INFO - ...Columns Excluded from dataset...\n"
     ]
    },
    {
     "name": "stdout",
     "output_type": "stream",
     "text": [
      "None\n",
      "Records for train Set - Number of rows: 297413\n"
     ]
    },
    {
     "name": "stderr",
     "output_type": "stream",
     "text": [
      "C:\\Users\\sandr\\Documents\\GitHub\\MLMortgage\\src\\data\\build_data.py:177: SettingWithCopyWarning: \n",
      "A value is trying to be set on a copy of a slice from a DataFrame\n",
      "\n",
      "See the caveats in the documentation: http://pandas.pydata.org/pandas-docs/stable/indexing.html#indexing-view-versus-copy\n",
      "  data.drop(data.columns[indices], axis=1, inplace=True)\n",
      "2018-10-26 17:11:43,474 - allfeatures_extract_labels - INFO - ...Labels extracted from Dataset...\n",
      "2018-10-26 17:11:45,645 - allfeatures_extract_labels - INFO - ...Labels extracted from Dataset...\n"
     ]
    },
    {
     "name": "stdout",
     "output_type": "stream",
     "text": [
      "Records for valid Set - Number of rows: 15225\n"
     ]
    },
    {
     "name": "stderr",
     "output_type": "stream",
     "text": [
      "2018-10-26 17:11:46,022 - allfeatures_extract_labels - INFO - ...Labels extracted from Dataset...\n"
     ]
    },
    {
     "name": "stdout",
     "output_type": "stream",
     "text": [
      "Records for test Set - Number of rows: 45359\n",
      "chunk:  52  chunk size:  500000\n"
     ]
    },
    {
     "name": "stderr",
     "output_type": "stream",
     "text": [
      "2018-10-26 17:12:04,075 - drop_invalid_delinquency_status - INFO - invalid_delinquency_status dropped\n",
      "2018-10-26 17:12:09,436 - drop_invalid_delinquency_status - INFO - dropping invalid transitions and delinquency status, fill nan values, drop duplicates\n",
      "C:\\Users\\sandr\\Documents\\GitHub\\MLMortgage\\src\\data\\build_data.py:586: SettingWithCopyWarning: \n",
      "A value is trying to be set on a copy of a slice from a DataFrame\n",
      "\n",
      "See the caveats in the documentation: http://pandas.pydata.org/pandas-docs/stable/indexing.html#indexing-view-versus-copy\n",
      "  chunk['ORIGINATION_YEAR'][chunk['ORIGINATION_YEAR']<1995] = \"B1995\"\n",
      "2018-10-26 17:12:22,590 - allfeatures_drop_cols - INFO - ...Columns Excluded from dataset...\n",
      "2018-10-26 17:12:22,953 - allfeatures_drop_cols - INFO - ...Columns Excluded from dataset...\n",
      "2018-10-26 17:12:23,259 - allfeatures_drop_cols - INFO - ...Columns Excluded from dataset...\n"
     ]
    },
    {
     "name": "stdout",
     "output_type": "stream",
     "text": [
      "None\n",
      "Records for train Set - Number of rows: 283891\n"
     ]
    },
    {
     "name": "stderr",
     "output_type": "stream",
     "text": [
      "C:\\Users\\sandr\\Documents\\GitHub\\MLMortgage\\src\\data\\build_data.py:177: SettingWithCopyWarning: \n",
      "A value is trying to be set on a copy of a slice from a DataFrame\n",
      "\n",
      "See the caveats in the documentation: http://pandas.pydata.org/pandas-docs/stable/indexing.html#indexing-view-versus-copy\n",
      "  data.drop(data.columns[indices], axis=1, inplace=True)\n",
      "2018-10-26 17:13:07,438 - allfeatures_extract_labels - INFO - ...Labels extracted from Dataset...\n",
      "2018-10-26 17:13:09,818 - allfeatures_extract_labels - INFO - ...Labels extracted from Dataset...\n"
     ]
    },
    {
     "name": "stdout",
     "output_type": "stream",
     "text": [
      "Records for valid Set - Number of rows: 14937\n"
     ]
    },
    {
     "name": "stderr",
     "output_type": "stream",
     "text": [
      "2018-10-26 17:13:10,203 - allfeatures_extract_labels - INFO - ...Labels extracted from Dataset...\n"
     ]
    },
    {
     "name": "stdout",
     "output_type": "stream",
     "text": [
      "Records for test Set - Number of rows: 44142\n",
      "chunk:  53  chunk size:  500000\n"
     ]
    },
    {
     "name": "stderr",
     "output_type": "stream",
     "text": [
      "2018-10-26 17:13:27,761 - drop_invalid_delinquency_status - INFO - invalid_delinquency_status dropped\n",
      "2018-10-26 17:13:32,999 - drop_invalid_delinquency_status - INFO - dropping invalid transitions and delinquency status, fill nan values, drop duplicates\n",
      "C:\\Users\\sandr\\Documents\\GitHub\\MLMortgage\\src\\data\\build_data.py:586: SettingWithCopyWarning: \n",
      "A value is trying to be set on a copy of a slice from a DataFrame\n",
      "\n",
      "See the caveats in the documentation: http://pandas.pydata.org/pandas-docs/stable/indexing.html#indexing-view-versus-copy\n",
      "  chunk['ORIGINATION_YEAR'][chunk['ORIGINATION_YEAR']<1995] = \"B1995\"\n",
      "2018-10-26 17:13:46,741 - allfeatures_drop_cols - INFO - ...Columns Excluded from dataset...\n",
      "2018-10-26 17:13:47,188 - allfeatures_drop_cols - INFO - ...Columns Excluded from dataset...\n",
      "2018-10-26 17:13:47,502 - allfeatures_drop_cols - INFO - ...Columns Excluded from dataset...\n"
     ]
    },
    {
     "name": "stdout",
     "output_type": "stream",
     "text": [
      "None\n",
      "Records for train Set - Number of rows: 289457\n"
     ]
    },
    {
     "name": "stderr",
     "output_type": "stream",
     "text": [
      "C:\\Users\\sandr\\Documents\\GitHub\\MLMortgage\\src\\data\\build_data.py:177: SettingWithCopyWarning: \n",
      "A value is trying to be set on a copy of a slice from a DataFrame\n",
      "\n",
      "See the caveats in the documentation: http://pandas.pydata.org/pandas-docs/stable/indexing.html#indexing-view-versus-copy\n",
      "  data.drop(data.columns[indices], axis=1, inplace=True)\n",
      "2018-10-26 17:14:31,078 - allfeatures_extract_labels - INFO - ...Labels extracted from Dataset...\n",
      "2018-10-26 17:14:33,177 - allfeatures_extract_labels - INFO - ...Labels extracted from Dataset...\n"
     ]
    },
    {
     "name": "stdout",
     "output_type": "stream",
     "text": [
      "Records for valid Set - Number of rows: 16600\n"
     ]
    },
    {
     "name": "stderr",
     "output_type": "stream",
     "text": [
      "2018-10-26 17:14:33,576 - allfeatures_extract_labels - INFO - ...Labels extracted from Dataset...\n"
     ]
    },
    {
     "name": "stdout",
     "output_type": "stream",
     "text": [
      "Records for test Set - Number of rows: 43558\n",
      "chunk:  54  chunk size:  500000\n"
     ]
    },
    {
     "name": "stderr",
     "output_type": "stream",
     "text": [
      "2018-10-26 17:14:50,575 - drop_invalid_delinquency_status - INFO - invalid_delinquency_status dropped\n",
      "2018-10-26 17:14:55,126 - drop_invalid_delinquency_status - INFO - dropping invalid transitions and delinquency status, fill nan values, drop duplicates\n",
      "C:\\Users\\sandr\\Documents\\GitHub\\MLMortgage\\src\\data\\build_data.py:586: SettingWithCopyWarning: \n",
      "A value is trying to be set on a copy of a slice from a DataFrame\n",
      "\n",
      "See the caveats in the documentation: http://pandas.pydata.org/pandas-docs/stable/indexing.html#indexing-view-versus-copy\n",
      "  chunk['ORIGINATION_YEAR'][chunk['ORIGINATION_YEAR']<1995] = \"B1995\"\n",
      "2018-10-26 17:15:07,681 - allfeatures_drop_cols - INFO - ...Columns Excluded from dataset...\n",
      "2018-10-26 17:15:08,071 - allfeatures_drop_cols - INFO - ...Columns Excluded from dataset...\n",
      "2018-10-26 17:15:08,371 - allfeatures_drop_cols - INFO - ...Columns Excluded from dataset...\n"
     ]
    },
    {
     "name": "stdout",
     "output_type": "stream",
     "text": [
      "None\n",
      "Records for train Set - Number of rows: 285046\n"
     ]
    },
    {
     "name": "stderr",
     "output_type": "stream",
     "text": [
      "C:\\Users\\sandr\\Documents\\GitHub\\MLMortgage\\src\\data\\build_data.py:177: SettingWithCopyWarning: \n",
      "A value is trying to be set on a copy of a slice from a DataFrame\n",
      "\n",
      "See the caveats in the documentation: http://pandas.pydata.org/pandas-docs/stable/indexing.html#indexing-view-versus-copy\n",
      "  data.drop(data.columns[indices], axis=1, inplace=True)\n",
      "2018-10-26 17:15:51,199 - allfeatures_extract_labels - INFO - ...Labels extracted from Dataset...\n",
      "2018-10-26 17:15:53,371 - allfeatures_extract_labels - INFO - ...Labels extracted from Dataset...\n"
     ]
    },
    {
     "name": "stdout",
     "output_type": "stream",
     "text": [
      "Records for valid Set - Number of rows: 14403\n"
     ]
    },
    {
     "name": "stderr",
     "output_type": "stream",
     "text": [
      "2018-10-26 17:15:53,815 - allfeatures_extract_labels - INFO - ...Labels extracted from Dataset...\n"
     ]
    },
    {
     "name": "stdout",
     "output_type": "stream",
     "text": [
      "Records for test Set - Number of rows: 38414\n",
      "chunk:  55  chunk size:  500000\n"
     ]
    },
    {
     "name": "stderr",
     "output_type": "stream",
     "text": [
      "2018-10-26 17:16:10,682 - drop_invalid_delinquency_status - INFO - invalid_delinquency_status dropped\n",
      "2018-10-26 17:16:15,134 - drop_invalid_delinquency_status - INFO - dropping invalid transitions and delinquency status, fill nan values, drop duplicates\n",
      "C:\\Users\\sandr\\Documents\\GitHub\\MLMortgage\\src\\data\\build_data.py:586: SettingWithCopyWarning: \n",
      "A value is trying to be set on a copy of a slice from a DataFrame\n",
      "\n",
      "See the caveats in the documentation: http://pandas.pydata.org/pandas-docs/stable/indexing.html#indexing-view-versus-copy\n",
      "  chunk['ORIGINATION_YEAR'][chunk['ORIGINATION_YEAR']<1995] = \"B1995\"\n",
      "2018-10-26 17:16:27,234 - allfeatures_drop_cols - INFO - ...Columns Excluded from dataset...\n",
      "2018-10-26 17:16:27,598 - allfeatures_drop_cols - INFO - ...Columns Excluded from dataset...\n",
      "2018-10-26 17:16:27,902 - allfeatures_drop_cols - INFO - ...Columns Excluded from dataset...\n"
     ]
    },
    {
     "name": "stdout",
     "output_type": "stream",
     "text": [
      "None\n",
      "Records for train Set - Number of rows: 278791\n"
     ]
    },
    {
     "name": "stderr",
     "output_type": "stream",
     "text": [
      "C:\\Users\\sandr\\Documents\\GitHub\\MLMortgage\\src\\data\\build_data.py:177: SettingWithCopyWarning: \n",
      "A value is trying to be set on a copy of a slice from a DataFrame\n",
      "\n",
      "See the caveats in the documentation: http://pandas.pydata.org/pandas-docs/stable/indexing.html#indexing-view-versus-copy\n",
      "  data.drop(data.columns[indices], axis=1, inplace=True)\n",
      "2018-10-26 17:17:08,017 - allfeatures_extract_labels - INFO - ...Labels extracted from Dataset...\n",
      "2018-10-26 17:17:09,955 - allfeatures_extract_labels - INFO - ...Labels extracted from Dataset...\n"
     ]
    },
    {
     "name": "stdout",
     "output_type": "stream",
     "text": [
      "Records for valid Set - Number of rows: 13296\n"
     ]
    },
    {
     "name": "stderr",
     "output_type": "stream",
     "text": [
      "2018-10-26 17:17:10,180 - allfeatures_extract_labels - INFO - ...Labels extracted from Dataset...\n"
     ]
    },
    {
     "name": "stdout",
     "output_type": "stream",
     "text": [
      "Records for test Set - Number of rows: 40016\n",
      "chunk:  56  chunk size:  500000\n"
     ]
    },
    {
     "name": "stderr",
     "output_type": "stream",
     "text": [
      "2018-10-26 17:17:27,204 - drop_invalid_delinquency_status - INFO - invalid_delinquency_status dropped\n",
      "2018-10-26 17:17:31,606 - drop_invalid_delinquency_status - INFO - dropping invalid transitions and delinquency status, fill nan values, drop duplicates\n",
      "C:\\Users\\sandr\\Documents\\GitHub\\MLMortgage\\src\\data\\build_data.py:586: SettingWithCopyWarning: \n",
      "A value is trying to be set on a copy of a slice from a DataFrame\n",
      "\n",
      "See the caveats in the documentation: http://pandas.pydata.org/pandas-docs/stable/indexing.html#indexing-view-versus-copy\n",
      "  chunk['ORIGINATION_YEAR'][chunk['ORIGINATION_YEAR']<1995] = \"B1995\"\n",
      "2018-10-26 17:17:43,405 - allfeatures_drop_cols - INFO - ...Columns Excluded from dataset...\n",
      "2018-10-26 17:17:43,757 - allfeatures_drop_cols - INFO - ...Columns Excluded from dataset...\n",
      "2018-10-26 17:17:44,062 - allfeatures_drop_cols - INFO - ...Columns Excluded from dataset...\n"
     ]
    },
    {
     "name": "stdout",
     "output_type": "stream",
     "text": [
      "None\n",
      "Records for train Set - Number of rows: 273469\n"
     ]
    },
    {
     "name": "stderr",
     "output_type": "stream",
     "text": [
      "C:\\Users\\sandr\\Documents\\GitHub\\MLMortgage\\src\\data\\build_data.py:177: SettingWithCopyWarning: \n",
      "A value is trying to be set on a copy of a slice from a DataFrame\n",
      "\n",
      "See the caveats in the documentation: http://pandas.pydata.org/pandas-docs/stable/indexing.html#indexing-view-versus-copy\n",
      "  data.drop(data.columns[indices], axis=1, inplace=True)\n",
      "2018-10-26 17:18:23,944 - allfeatures_extract_labels - INFO - ...Labels extracted from Dataset...\n",
      "2018-10-26 17:18:25,827 - allfeatures_extract_labels - INFO - ...Labels extracted from Dataset...\n"
     ]
    },
    {
     "name": "stdout",
     "output_type": "stream",
     "text": [
      "Records for valid Set - Number of rows: 11842\n"
     ]
    },
    {
     "name": "stderr",
     "output_type": "stream",
     "text": [
      "2018-10-26 17:18:26,239 - allfeatures_extract_labels - INFO - ...Labels extracted from Dataset...\n"
     ]
    },
    {
     "name": "stdout",
     "output_type": "stream",
     "text": [
      "Records for test Set - Number of rows: 40672\n",
      "chunk:  57  chunk size:  500000\n"
     ]
    },
    {
     "name": "stderr",
     "output_type": "stream",
     "text": [
      "2018-10-26 17:18:44,025 - drop_invalid_delinquency_status - INFO - invalid_delinquency_status dropped\n",
      "2018-10-26 17:18:48,442 - drop_invalid_delinquency_status - INFO - dropping invalid transitions and delinquency status, fill nan values, drop duplicates\n",
      "C:\\Users\\sandr\\Documents\\GitHub\\MLMortgage\\src\\data\\build_data.py:586: SettingWithCopyWarning: \n",
      "A value is trying to be set on a copy of a slice from a DataFrame\n",
      "\n",
      "See the caveats in the documentation: http://pandas.pydata.org/pandas-docs/stable/indexing.html#indexing-view-versus-copy\n",
      "  chunk['ORIGINATION_YEAR'][chunk['ORIGINATION_YEAR']<1995] = \"B1995\"\n",
      "2018-10-26 17:19:01,087 - allfeatures_drop_cols - INFO - ...Columns Excluded from dataset...\n",
      "2018-10-26 17:19:01,452 - allfeatures_drop_cols - INFO - ...Columns Excluded from dataset...\n",
      "2018-10-26 17:19:01,800 - allfeatures_drop_cols - INFO - ...Columns Excluded from dataset...\n"
     ]
    },
    {
     "name": "stdout",
     "output_type": "stream",
     "text": [
      "None\n",
      "Records for train Set - Number of rows: 276716\n"
     ]
    },
    {
     "name": "stderr",
     "output_type": "stream",
     "text": [
      "C:\\Users\\sandr\\Documents\\GitHub\\MLMortgage\\src\\data\\build_data.py:177: SettingWithCopyWarning: \n",
      "A value is trying to be set on a copy of a slice from a DataFrame\n",
      "\n",
      "See the caveats in the documentation: http://pandas.pydata.org/pandas-docs/stable/indexing.html#indexing-view-versus-copy\n",
      "  data.drop(data.columns[indices], axis=1, inplace=True)\n",
      "2018-10-26 17:19:43,635 - allfeatures_extract_labels - INFO - ...Labels extracted from Dataset...\n",
      "2018-10-26 17:19:45,502 - allfeatures_extract_labels - INFO - ...Labels extracted from Dataset...\n"
     ]
    },
    {
     "name": "stdout",
     "output_type": "stream",
     "text": [
      "Records for valid Set - Number of rows: 12426\n"
     ]
    },
    {
     "name": "stderr",
     "output_type": "stream",
     "text": [
      "2018-10-26 17:19:45,953 - allfeatures_extract_labels - INFO - ...Labels extracted from Dataset...\n"
     ]
    },
    {
     "name": "stdout",
     "output_type": "stream",
     "text": [
      "Records for test Set - Number of rows: 56039\n",
      "chunk:  58  chunk size:  500000\n"
     ]
    },
    {
     "name": "stderr",
     "output_type": "stream",
     "text": [
      "2018-10-26 17:20:03,876 - drop_invalid_delinquency_status - INFO - invalid_delinquency_status dropped\n",
      "2018-10-26 17:20:08,233 - drop_invalid_delinquency_status - INFO - dropping invalid transitions and delinquency status, fill nan values, drop duplicates\n",
      "C:\\Users\\sandr\\Documents\\GitHub\\MLMortgage\\src\\data\\build_data.py:586: SettingWithCopyWarning: \n",
      "A value is trying to be set on a copy of a slice from a DataFrame\n",
      "\n",
      "See the caveats in the documentation: http://pandas.pydata.org/pandas-docs/stable/indexing.html#indexing-view-versus-copy\n",
      "  chunk['ORIGINATION_YEAR'][chunk['ORIGINATION_YEAR']<1995] = \"B1995\"\n",
      "2018-10-26 17:20:20,989 - allfeatures_drop_cols - INFO - ...Columns Excluded from dataset...\n",
      "2018-10-26 17:20:21,384 - allfeatures_drop_cols - INFO - ...Columns Excluded from dataset...\n",
      "2018-10-26 17:20:21,711 - allfeatures_drop_cols - INFO - ...Columns Excluded from dataset...\n"
     ]
    },
    {
     "name": "stdout",
     "output_type": "stream",
     "text": [
      "None\n",
      "Records for train Set - Number of rows: 276115\n"
     ]
    },
    {
     "name": "stderr",
     "output_type": "stream",
     "text": [
      "C:\\Users\\sandr\\Documents\\GitHub\\MLMortgage\\src\\data\\build_data.py:177: SettingWithCopyWarning: \n",
      "A value is trying to be set on a copy of a slice from a DataFrame\n",
      "\n",
      "See the caveats in the documentation: http://pandas.pydata.org/pandas-docs/stable/indexing.html#indexing-view-versus-copy\n",
      "  data.drop(data.columns[indices], axis=1, inplace=True)\n",
      "2018-10-26 17:21:01,909 - allfeatures_extract_labels - INFO - ...Labels extracted from Dataset...\n",
      "2018-10-26 17:21:03,731 - allfeatures_extract_labels - INFO - ...Labels extracted from Dataset...\n"
     ]
    },
    {
     "name": "stdout",
     "output_type": "stream",
     "text": [
      "Records for valid Set - Number of rows: 11246\n"
     ]
    },
    {
     "name": "stderr",
     "output_type": "stream",
     "text": [
      "2018-10-26 17:21:04,016 - allfeatures_extract_labels - INFO - ...Labels extracted from Dataset...\n"
     ]
    },
    {
     "name": "stdout",
     "output_type": "stream",
     "text": [
      "Records for test Set - Number of rows: 52589\n",
      "chunk:  59  chunk size:  500000\n"
     ]
    },
    {
     "name": "stderr",
     "output_type": "stream",
     "text": [
      "2018-10-26 17:21:20,531 - drop_invalid_delinquency_status - INFO - invalid_delinquency_status dropped\n",
      "2018-10-26 17:21:25,035 - drop_invalid_delinquency_status - INFO - dropping invalid transitions and delinquency status, fill nan values, drop duplicates\n",
      "C:\\Users\\sandr\\Documents\\GitHub\\MLMortgage\\src\\data\\build_data.py:586: SettingWithCopyWarning: \n",
      "A value is trying to be set on a copy of a slice from a DataFrame\n",
      "\n",
      "See the caveats in the documentation: http://pandas.pydata.org/pandas-docs/stable/indexing.html#indexing-view-versus-copy\n",
      "  chunk['ORIGINATION_YEAR'][chunk['ORIGINATION_YEAR']<1995] = \"B1995\"\n",
      "2018-10-26 17:21:37,292 - allfeatures_drop_cols - INFO - ...Columns Excluded from dataset...\n",
      "2018-10-26 17:21:37,646 - allfeatures_drop_cols - INFO - ...Columns Excluded from dataset...\n",
      "2018-10-26 17:21:37,946 - allfeatures_drop_cols - INFO - ...Columns Excluded from dataset...\n"
     ]
    },
    {
     "name": "stdout",
     "output_type": "stream",
     "text": [
      "None\n",
      "Records for train Set - Number of rows: 277535\n"
     ]
    },
    {
     "name": "stderr",
     "output_type": "stream",
     "text": [
      "C:\\Users\\sandr\\Documents\\GitHub\\MLMortgage\\src\\data\\build_data.py:177: SettingWithCopyWarning: \n",
      "A value is trying to be set on a copy of a slice from a DataFrame\n",
      "\n",
      "See the caveats in the documentation: http://pandas.pydata.org/pandas-docs/stable/indexing.html#indexing-view-versus-copy\n",
      "  data.drop(data.columns[indices], axis=1, inplace=True)\n",
      "2018-10-26 17:22:19,734 - allfeatures_extract_labels - INFO - ...Labels extracted from Dataset...\n",
      "2018-10-26 17:22:21,755 - allfeatures_extract_labels - INFO - ...Labels extracted from Dataset...\n"
     ]
    },
    {
     "name": "stdout",
     "output_type": "stream",
     "text": [
      "Records for valid Set - Number of rows: 12851\n"
     ]
    },
    {
     "name": "stderr",
     "output_type": "stream",
     "text": [
      "2018-10-26 17:22:22,095 - allfeatures_extract_labels - INFO - ...Labels extracted from Dataset...\n"
     ]
    },
    {
     "name": "stdout",
     "output_type": "stream",
     "text": [
      "Records for test Set - Number of rows: 52619\n",
      "chunk:  60  chunk size:  500000\n"
     ]
    },
    {
     "name": "stderr",
     "output_type": "stream",
     "text": [
      "2018-10-26 17:22:40,205 - drop_invalid_delinquency_status - INFO - invalid_delinquency_status dropped\n",
      "2018-10-26 17:22:44,769 - drop_invalid_delinquency_status - INFO - dropping invalid transitions and delinquency status, fill nan values, drop duplicates\n",
      "C:\\Users\\sandr\\Documents\\GitHub\\MLMortgage\\src\\data\\build_data.py:586: SettingWithCopyWarning: \n",
      "A value is trying to be set on a copy of a slice from a DataFrame\n",
      "\n",
      "See the caveats in the documentation: http://pandas.pydata.org/pandas-docs/stable/indexing.html#indexing-view-versus-copy\n",
      "  chunk['ORIGINATION_YEAR'][chunk['ORIGINATION_YEAR']<1995] = \"B1995\"\n",
      "2018-10-26 17:22:57,045 - allfeatures_drop_cols - INFO - ...Columns Excluded from dataset...\n",
      "2018-10-26 17:22:57,426 - allfeatures_drop_cols - INFO - ...Columns Excluded from dataset...\n",
      "2018-10-26 17:22:57,779 - allfeatures_drop_cols - INFO - ...Columns Excluded from dataset...\n"
     ]
    },
    {
     "name": "stdout",
     "output_type": "stream",
     "text": [
      "None\n",
      "Records for train Set - Number of rows: 281969\n"
     ]
    },
    {
     "name": "stderr",
     "output_type": "stream",
     "text": [
      "C:\\Users\\sandr\\Documents\\GitHub\\MLMortgage\\src\\data\\build_data.py:177: SettingWithCopyWarning: \n",
      "A value is trying to be set on a copy of a slice from a DataFrame\n",
      "\n",
      "See the caveats in the documentation: http://pandas.pydata.org/pandas-docs/stable/indexing.html#indexing-view-versus-copy\n",
      "  data.drop(data.columns[indices], axis=1, inplace=True)\n",
      "2018-10-26 17:23:39,416 - allfeatures_extract_labels - INFO - ...Labels extracted from Dataset...\n",
      "2018-10-26 17:23:41,833 - allfeatures_extract_labels - INFO - ...Labels extracted from Dataset...\n"
     ]
    },
    {
     "name": "stdout",
     "output_type": "stream",
     "text": [
      "Records for valid Set - Number of rows: 17401\n"
     ]
    },
    {
     "name": "stderr",
     "output_type": "stream",
     "text": [
      "2018-10-26 17:23:42,211 - allfeatures_extract_labels - INFO - ...Labels extracted from Dataset...\n"
     ]
    },
    {
     "name": "stdout",
     "output_type": "stream",
     "text": [
      "Records for test Set - Number of rows: 53467\n",
      "chunk:  61  chunk size:  500000\n"
     ]
    },
    {
     "name": "stderr",
     "output_type": "stream",
     "text": [
      "2018-10-26 17:23:58,423 - drop_invalid_delinquency_status - INFO - invalid_delinquency_status dropped\n",
      "2018-10-26 17:24:02,804 - drop_invalid_delinquency_status - INFO - dropping invalid transitions and delinquency status, fill nan values, drop duplicates\n",
      "C:\\Users\\sandr\\Documents\\GitHub\\MLMortgage\\src\\data\\build_data.py:586: SettingWithCopyWarning: \n",
      "A value is trying to be set on a copy of a slice from a DataFrame\n",
      "\n",
      "See the caveats in the documentation: http://pandas.pydata.org/pandas-docs/stable/indexing.html#indexing-view-versus-copy\n",
      "  chunk['ORIGINATION_YEAR'][chunk['ORIGINATION_YEAR']<1995] = \"B1995\"\n",
      "2018-10-26 17:24:15,037 - allfeatures_drop_cols - INFO - ...Columns Excluded from dataset...\n",
      "2018-10-26 17:24:15,396 - allfeatures_drop_cols - INFO - ...Columns Excluded from dataset...\n",
      "2018-10-26 17:24:15,704 - allfeatures_drop_cols - INFO - ...Columns Excluded from dataset...\n"
     ]
    },
    {
     "name": "stdout",
     "output_type": "stream",
     "text": [
      "None\n",
      "Records for train Set - Number of rows: 274597\n"
     ]
    },
    {
     "name": "stderr",
     "output_type": "stream",
     "text": [
      "C:\\Users\\sandr\\Documents\\GitHub\\MLMortgage\\src\\data\\build_data.py:177: SettingWithCopyWarning: \n",
      "A value is trying to be set on a copy of a slice from a DataFrame\n",
      "\n",
      "See the caveats in the documentation: http://pandas.pydata.org/pandas-docs/stable/indexing.html#indexing-view-versus-copy\n",
      "  data.drop(data.columns[indices], axis=1, inplace=True)\n",
      "2018-10-26 17:24:57,048 - allfeatures_extract_labels - INFO - ...Labels extracted from Dataset...\n",
      "2018-10-26 17:24:59,171 - allfeatures_extract_labels - INFO - ...Labels extracted from Dataset...\n"
     ]
    },
    {
     "name": "stdout",
     "output_type": "stream",
     "text": [
      "Records for valid Set - Number of rows: 16021\n"
     ]
    },
    {
     "name": "stderr",
     "output_type": "stream",
     "text": [
      "2018-10-26 17:24:59,619 - allfeatures_extract_labels - INFO - ...Labels extracted from Dataset...\n"
     ]
    },
    {
     "name": "stdout",
     "output_type": "stream",
     "text": [
      "Records for test Set - Number of rows: 45330\n",
      "chunk:  62  chunk size:  500000\n"
     ]
    },
    {
     "name": "stderr",
     "output_type": "stream",
     "text": [
      "2018-10-26 17:25:16,237 - drop_invalid_delinquency_status - INFO - invalid_delinquency_status dropped\n",
      "2018-10-26 17:25:20,997 - drop_invalid_delinquency_status - INFO - dropping invalid transitions and delinquency status, fill nan values, drop duplicates\n",
      "C:\\Users\\sandr\\Documents\\GitHub\\MLMortgage\\src\\data\\build_data.py:586: SettingWithCopyWarning: \n",
      "A value is trying to be set on a copy of a slice from a DataFrame\n",
      "\n",
      "See the caveats in the documentation: http://pandas.pydata.org/pandas-docs/stable/indexing.html#indexing-view-versus-copy\n",
      "  chunk['ORIGINATION_YEAR'][chunk['ORIGINATION_YEAR']<1995] = \"B1995\"\n",
      "2018-10-26 17:25:33,573 - allfeatures_drop_cols - INFO - ...Columns Excluded from dataset...\n",
      "2018-10-26 17:25:33,953 - allfeatures_drop_cols - INFO - ...Columns Excluded from dataset...\n",
      "2018-10-26 17:25:34,296 - allfeatures_drop_cols - INFO - ...Columns Excluded from dataset...\n"
     ]
    },
    {
     "name": "stdout",
     "output_type": "stream",
     "text": [
      "None\n",
      "Records for train Set - Number of rows: 268715\n"
     ]
    },
    {
     "name": "stderr",
     "output_type": "stream",
     "text": [
      "C:\\Users\\sandr\\Documents\\GitHub\\MLMortgage\\src\\data\\build_data.py:177: SettingWithCopyWarning: \n",
      "A value is trying to be set on a copy of a slice from a DataFrame\n",
      "\n",
      "See the caveats in the documentation: http://pandas.pydata.org/pandas-docs/stable/indexing.html#indexing-view-versus-copy\n",
      "  data.drop(data.columns[indices], axis=1, inplace=True)\n",
      "2018-10-26 17:26:15,286 - allfeatures_extract_labels - INFO - ...Labels extracted from Dataset...\n",
      "2018-10-26 17:26:17,336 - allfeatures_extract_labels - INFO - ...Labels extracted from Dataset...\n"
     ]
    },
    {
     "name": "stdout",
     "output_type": "stream",
     "text": [
      "Records for valid Set - Number of rows: 13109\n"
     ]
    },
    {
     "name": "stderr",
     "output_type": "stream",
     "text": [
      "2018-10-26 17:26:17,777 - allfeatures_extract_labels - INFO - ...Labels extracted from Dataset...\n"
     ]
    },
    {
     "name": "stdout",
     "output_type": "stream",
     "text": [
      "Records for test Set - Number of rows: 40898\n",
      "chunk:  63  chunk size:  500000\n"
     ]
    },
    {
     "name": "stderr",
     "output_type": "stream",
     "text": [
      "2018-10-26 17:26:36,456 - drop_invalid_delinquency_status - INFO - invalid_delinquency_status dropped\n",
      "2018-10-26 17:26:40,971 - drop_invalid_delinquency_status - INFO - dropping invalid transitions and delinquency status, fill nan values, drop duplicates\n",
      "C:\\Users\\sandr\\Documents\\GitHub\\MLMortgage\\src\\data\\build_data.py:586: SettingWithCopyWarning: \n",
      "A value is trying to be set on a copy of a slice from a DataFrame\n",
      "\n",
      "See the caveats in the documentation: http://pandas.pydata.org/pandas-docs/stable/indexing.html#indexing-view-versus-copy\n",
      "  chunk['ORIGINATION_YEAR'][chunk['ORIGINATION_YEAR']<1995] = \"B1995\"\n",
      "2018-10-26 17:26:53,559 - allfeatures_drop_cols - INFO - ...Columns Excluded from dataset...\n",
      "2018-10-26 17:26:53,939 - allfeatures_drop_cols - INFO - ...Columns Excluded from dataset...\n",
      "2018-10-26 17:26:54,256 - allfeatures_drop_cols - INFO - ...Columns Excluded from dataset...\n"
     ]
    },
    {
     "name": "stdout",
     "output_type": "stream",
     "text": [
      "None\n",
      "Records for train Set - Number of rows: 271444\n"
     ]
    },
    {
     "name": "stderr",
     "output_type": "stream",
     "text": [
      "C:\\Users\\sandr\\Documents\\GitHub\\MLMortgage\\src\\data\\build_data.py:177: SettingWithCopyWarning: \n",
      "A value is trying to be set on a copy of a slice from a DataFrame\n",
      "\n",
      "See the caveats in the documentation: http://pandas.pydata.org/pandas-docs/stable/indexing.html#indexing-view-versus-copy\n",
      "  data.drop(data.columns[indices], axis=1, inplace=True)\n",
      "2018-10-26 17:27:36,872 - allfeatures_extract_labels - INFO - ...Labels extracted from Dataset...\n",
      "2018-10-26 17:27:38,876 - allfeatures_extract_labels - INFO - ...Labels extracted from Dataset...\n"
     ]
    },
    {
     "name": "stdout",
     "output_type": "stream",
     "text": [
      "Records for valid Set - Number of rows: 14695\n"
     ]
    },
    {
     "name": "stderr",
     "output_type": "stream",
     "text": [
      "2018-10-26 17:27:39,299 - allfeatures_extract_labels - INFO - ...Labels extracted from Dataset...\n"
     ]
    },
    {
     "name": "stdout",
     "output_type": "stream",
     "text": [
      "Records for test Set - Number of rows: 45437\n",
      "chunk:  64  chunk size:  500000\n"
     ]
    },
    {
     "name": "stderr",
     "output_type": "stream",
     "text": [
      "2018-10-26 17:27:54,391 - drop_invalid_delinquency_status - INFO - invalid_delinquency_status dropped\n",
      "2018-10-26 17:27:58,949 - drop_invalid_delinquency_status - INFO - dropping invalid transitions and delinquency status, fill nan values, drop duplicates\n",
      "C:\\Users\\sandr\\Documents\\GitHub\\MLMortgage\\src\\data\\build_data.py:586: SettingWithCopyWarning: \n",
      "A value is trying to be set on a copy of a slice from a DataFrame\n",
      "\n",
      "See the caveats in the documentation: http://pandas.pydata.org/pandas-docs/stable/indexing.html#indexing-view-versus-copy\n",
      "  chunk['ORIGINATION_YEAR'][chunk['ORIGINATION_YEAR']<1995] = \"B1995\"\n",
      "2018-10-26 17:28:11,266 - allfeatures_drop_cols - INFO - ...Columns Excluded from dataset...\n",
      "2018-10-26 17:28:11,625 - allfeatures_drop_cols - INFO - ...Columns Excluded from dataset...\n",
      "2018-10-26 17:28:11,942 - allfeatures_drop_cols - INFO - ...Columns Excluded from dataset...\n"
     ]
    },
    {
     "name": "stdout",
     "output_type": "stream",
     "text": [
      "None\n",
      "Records for train Set - Number of rows: 254736\n"
     ]
    },
    {
     "name": "stderr",
     "output_type": "stream",
     "text": [
      "C:\\Users\\sandr\\Documents\\GitHub\\MLMortgage\\src\\data\\build_data.py:177: SettingWithCopyWarning: \n",
      "A value is trying to be set on a copy of a slice from a DataFrame\n",
      "\n",
      "See the caveats in the documentation: http://pandas.pydata.org/pandas-docs/stable/indexing.html#indexing-view-versus-copy\n",
      "  data.drop(data.columns[indices], axis=1, inplace=True)\n",
      "2018-10-26 17:28:53,451 - allfeatures_extract_labels - INFO - ...Labels extracted from Dataset...\n",
      "2018-10-26 17:28:55,143 - allfeatures_extract_labels - INFO - ...Labels extracted from Dataset...\n"
     ]
    },
    {
     "name": "stdout",
     "output_type": "stream",
     "text": [
      "Records for valid Set - Number of rows: 15838\n"
     ]
    },
    {
     "name": "stderr",
     "output_type": "stream",
     "text": [
      "2018-10-26 17:28:55,586 - allfeatures_extract_labels - INFO - ...Labels extracted from Dataset...\n"
     ]
    },
    {
     "name": "stdout",
     "output_type": "stream",
     "text": [
      "Records for test Set - Number of rows: 48098\n",
      "chunk:  65  chunk size:  500000\n"
     ]
    },
    {
     "name": "stderr",
     "output_type": "stream",
     "text": [
      "2018-10-26 17:29:11,077 - drop_invalid_delinquency_status - INFO - invalid_delinquency_status dropped\n",
      "2018-10-26 17:29:16,043 - drop_invalid_delinquency_status - INFO - dropping invalid transitions and delinquency status, fill nan values, drop duplicates\n",
      "C:\\Users\\sandr\\Documents\\GitHub\\MLMortgage\\src\\data\\build_data.py:586: SettingWithCopyWarning: \n",
      "A value is trying to be set on a copy of a slice from a DataFrame\n",
      "\n",
      "See the caveats in the documentation: http://pandas.pydata.org/pandas-docs/stable/indexing.html#indexing-view-versus-copy\n",
      "  chunk['ORIGINATION_YEAR'][chunk['ORIGINATION_YEAR']<1995] = \"B1995\"\n",
      "2018-10-26 17:29:28,968 - allfeatures_drop_cols - INFO - ...Columns Excluded from dataset...\n",
      "2018-10-26 17:29:29,364 - allfeatures_drop_cols - INFO - ...Columns Excluded from dataset...\n",
      "2018-10-26 17:29:29,686 - allfeatures_drop_cols - INFO - ...Columns Excluded from dataset...\n"
     ]
    },
    {
     "name": "stdout",
     "output_type": "stream",
     "text": [
      "None\n",
      "Records for train Set - Number of rows: 229829\n"
     ]
    },
    {
     "name": "stderr",
     "output_type": "stream",
     "text": [
      "C:\\Users\\sandr\\Documents\\GitHub\\MLMortgage\\src\\data\\build_data.py:177: SettingWithCopyWarning: \n",
      "A value is trying to be set on a copy of a slice from a DataFrame\n",
      "\n",
      "See the caveats in the documentation: http://pandas.pydata.org/pandas-docs/stable/indexing.html#indexing-view-versus-copy\n",
      "  data.drop(data.columns[indices], axis=1, inplace=True)\n",
      "2018-10-26 17:30:12,845 - allfeatures_extract_labels - INFO - ...Labels extracted from Dataset...\n",
      "2018-10-26 17:30:14,921 - allfeatures_extract_labels - INFO - ...Labels extracted from Dataset...\n"
     ]
    },
    {
     "name": "stdout",
     "output_type": "stream",
     "text": [
      "Records for valid Set - Number of rows: 14140\n"
     ]
    },
    {
     "name": "stderr",
     "output_type": "stream",
     "text": [
      "2018-10-26 17:30:15,175 - allfeatures_extract_labels - INFO - ...Labels extracted from Dataset...\n"
     ]
    },
    {
     "name": "stdout",
     "output_type": "stream",
     "text": [
      "Records for test Set - Number of rows: 43879\n",
      "chunk:  66  chunk size:  500000\n"
     ]
    },
    {
     "name": "stderr",
     "output_type": "stream",
     "text": [
      "2018-10-26 17:30:33,078 - drop_invalid_delinquency_status - INFO - invalid_delinquency_status dropped\n",
      "2018-10-26 17:30:38,199 - drop_invalid_delinquency_status - INFO - dropping invalid transitions and delinquency status, fill nan values, drop duplicates\n",
      "C:\\Users\\sandr\\Documents\\GitHub\\MLMortgage\\src\\data\\build_data.py:586: SettingWithCopyWarning: \n",
      "A value is trying to be set on a copy of a slice from a DataFrame\n",
      "\n",
      "See the caveats in the documentation: http://pandas.pydata.org/pandas-docs/stable/indexing.html#indexing-view-versus-copy\n",
      "  chunk['ORIGINATION_YEAR'][chunk['ORIGINATION_YEAR']<1995] = \"B1995\"\n",
      "2018-10-26 17:30:51,918 - allfeatures_drop_cols - INFO - ...Columns Excluded from dataset...\n",
      "2018-10-26 17:30:52,295 - allfeatures_drop_cols - INFO - ...Columns Excluded from dataset...\n",
      "2018-10-26 17:30:52,622 - allfeatures_drop_cols - INFO - ...Columns Excluded from dataset...\n"
     ]
    },
    {
     "name": "stdout",
     "output_type": "stream",
     "text": [
      "None\n",
      "Records for train Set - Number of rows: 242450\n"
     ]
    },
    {
     "name": "stderr",
     "output_type": "stream",
     "text": [
      "C:\\Users\\sandr\\Documents\\GitHub\\MLMortgage\\src\\data\\build_data.py:177: SettingWithCopyWarning: \n",
      "A value is trying to be set on a copy of a slice from a DataFrame\n",
      "\n",
      "See the caveats in the documentation: http://pandas.pydata.org/pandas-docs/stable/indexing.html#indexing-view-versus-copy\n",
      "  data.drop(data.columns[indices], axis=1, inplace=True)\n",
      "2018-10-26 17:31:38,578 - allfeatures_extract_labels - INFO - ...Labels extracted from Dataset...\n",
      "2018-10-26 17:31:40,693 - allfeatures_extract_labels - INFO - ...Labels extracted from Dataset...\n"
     ]
    },
    {
     "name": "stdout",
     "output_type": "stream",
     "text": [
      "Records for valid Set - Number of rows: 16509\n"
     ]
    },
    {
     "name": "stderr",
     "output_type": "stream",
     "text": [
      "2018-10-26 17:31:41,001 - allfeatures_extract_labels - INFO - ...Labels extracted from Dataset...\n"
     ]
    },
    {
     "name": "stdout",
     "output_type": "stream",
     "text": [
      "Records for test Set - Number of rows: 49432\n",
      "chunk:  67  chunk size:  500000\n"
     ]
    },
    {
     "name": "stderr",
     "output_type": "stream",
     "text": [
      "2018-10-26 17:31:56,495 - drop_invalid_delinquency_status - INFO - invalid_delinquency_status dropped\n",
      "2018-10-26 17:32:01,494 - drop_invalid_delinquency_status - INFO - dropping invalid transitions and delinquency status, fill nan values, drop duplicates\n",
      "C:\\Users\\sandr\\Documents\\GitHub\\MLMortgage\\src\\data\\build_data.py:586: SettingWithCopyWarning: \n",
      "A value is trying to be set on a copy of a slice from a DataFrame\n",
      "\n",
      "See the caveats in the documentation: http://pandas.pydata.org/pandas-docs/stable/indexing.html#indexing-view-versus-copy\n",
      "  chunk['ORIGINATION_YEAR'][chunk['ORIGINATION_YEAR']<1995] = \"B1995\"\n",
      "2018-10-26 17:32:14,447 - allfeatures_drop_cols - INFO - ...Columns Excluded from dataset...\n",
      "2018-10-26 17:32:14,813 - allfeatures_drop_cols - INFO - ...Columns Excluded from dataset...\n",
      "2018-10-26 17:32:15,129 - allfeatures_drop_cols - INFO - ...Columns Excluded from dataset...\n"
     ]
    },
    {
     "name": "stdout",
     "output_type": "stream",
     "text": [
      "None\n",
      "Records for train Set - Number of rows: 236960\n"
     ]
    },
    {
     "name": "stderr",
     "output_type": "stream",
     "text": [
      "C:\\Users\\sandr\\Documents\\GitHub\\MLMortgage\\src\\data\\build_data.py:177: SettingWithCopyWarning: \n",
      "A value is trying to be set on a copy of a slice from a DataFrame\n",
      "\n",
      "See the caveats in the documentation: http://pandas.pydata.org/pandas-docs/stable/indexing.html#indexing-view-versus-copy\n",
      "  data.drop(data.columns[indices], axis=1, inplace=True)\n",
      "2018-10-26 17:32:58,347 - allfeatures_extract_labels - INFO - ...Labels extracted from Dataset...\n",
      "2018-10-26 17:33:00,093 - allfeatures_extract_labels - INFO - ...Labels extracted from Dataset...\n"
     ]
    },
    {
     "name": "stdout",
     "output_type": "stream",
     "text": [
      "Records for valid Set - Number of rows: 18499\n"
     ]
    },
    {
     "name": "stderr",
     "output_type": "stream",
     "text": [
      "2018-10-26 17:33:00,432 - allfeatures_extract_labels - INFO - ...Labels extracted from Dataset...\n"
     ]
    },
    {
     "name": "stdout",
     "output_type": "stream",
     "text": [
      "Records for test Set - Number of rows: 53539\n",
      "chunk:  68  chunk size:  500000\n"
     ]
    },
    {
     "name": "stderr",
     "output_type": "stream",
     "text": [
      "2018-10-26 17:33:22,143 - drop_invalid_delinquency_status - INFO - invalid_delinquency_status dropped\n",
      "2018-10-26 17:33:26,739 - drop_invalid_delinquency_status - INFO - dropping invalid transitions and delinquency status, fill nan values, drop duplicates\n",
      "C:\\Users\\sandr\\Documents\\GitHub\\MLMortgage\\src\\data\\build_data.py:586: SettingWithCopyWarning: \n",
      "A value is trying to be set on a copy of a slice from a DataFrame\n",
      "\n",
      "See the caveats in the documentation: http://pandas.pydata.org/pandas-docs/stable/indexing.html#indexing-view-versus-copy\n",
      "  chunk['ORIGINATION_YEAR'][chunk['ORIGINATION_YEAR']<1995] = \"B1995\"\n",
      "2018-10-26 17:33:39,866 - allfeatures_drop_cols - INFO - ...Columns Excluded from dataset...\n",
      "2018-10-26 17:33:40,227 - allfeatures_drop_cols - INFO - ...Columns Excluded from dataset...\n",
      "2018-10-26 17:33:40,535 - allfeatures_drop_cols - INFO - ...Columns Excluded from dataset...\n"
     ]
    },
    {
     "name": "stdout",
     "output_type": "stream",
     "text": [
      "None\n",
      "Records for train Set - Number of rows: 239437\n"
     ]
    },
    {
     "name": "stderr",
     "output_type": "stream",
     "text": [
      "C:\\Users\\sandr\\Documents\\GitHub\\MLMortgage\\src\\data\\build_data.py:177: SettingWithCopyWarning: \n",
      "A value is trying to be set on a copy of a slice from a DataFrame\n",
      "\n",
      "See the caveats in the documentation: http://pandas.pydata.org/pandas-docs/stable/indexing.html#indexing-view-versus-copy\n",
      "  data.drop(data.columns[indices], axis=1, inplace=True)\n",
      "2018-10-26 17:34:22,811 - allfeatures_extract_labels - INFO - ...Labels extracted from Dataset...\n",
      "2018-10-26 17:34:24,585 - allfeatures_extract_labels - INFO - ...Labels extracted from Dataset...\n"
     ]
    },
    {
     "name": "stdout",
     "output_type": "stream",
     "text": [
      "Records for valid Set - Number of rows: 18157\n"
     ]
    },
    {
     "name": "stderr",
     "output_type": "stream",
     "text": [
      "2018-10-26 17:34:24,960 - allfeatures_extract_labels - INFO - ...Labels extracted from Dataset...\n"
     ]
    },
    {
     "name": "stdout",
     "output_type": "stream",
     "text": [
      "Records for test Set - Number of rows: 59268\n",
      "chunk:  69  chunk size:  500000\n"
     ]
    },
    {
     "name": "stderr",
     "output_type": "stream",
     "text": [
      "2018-10-26 17:34:40,923 - drop_invalid_delinquency_status - INFO - invalid_delinquency_status dropped\n",
      "2018-10-26 17:34:45,319 - drop_invalid_delinquency_status - INFO - dropping invalid transitions and delinquency status, fill nan values, drop duplicates\n",
      "C:\\Users\\sandr\\Documents\\GitHub\\MLMortgage\\src\\data\\build_data.py:586: SettingWithCopyWarning: \n",
      "A value is trying to be set on a copy of a slice from a DataFrame\n",
      "\n",
      "See the caveats in the documentation: http://pandas.pydata.org/pandas-docs/stable/indexing.html#indexing-view-versus-copy\n",
      "  chunk['ORIGINATION_YEAR'][chunk['ORIGINATION_YEAR']<1995] = \"B1995\"\n",
      "2018-10-26 17:34:58,325 - allfeatures_drop_cols - INFO - ...Columns Excluded from dataset...\n",
      "2018-10-26 17:34:58,688 - allfeatures_drop_cols - INFO - ...Columns Excluded from dataset...\n",
      "2018-10-26 17:34:58,997 - allfeatures_drop_cols - INFO - ...Columns Excluded from dataset...\n"
     ]
    },
    {
     "name": "stdout",
     "output_type": "stream",
     "text": [
      "None\n",
      "Records for train Set - Number of rows: 248774\n"
     ]
    },
    {
     "name": "stderr",
     "output_type": "stream",
     "text": [
      "C:\\Users\\sandr\\Documents\\GitHub\\MLMortgage\\src\\data\\build_data.py:177: SettingWithCopyWarning: \n",
      "A value is trying to be set on a copy of a slice from a DataFrame\n",
      "\n",
      "See the caveats in the documentation: http://pandas.pydata.org/pandas-docs/stable/indexing.html#indexing-view-versus-copy\n",
      "  data.drop(data.columns[indices], axis=1, inplace=True)\n",
      "2018-10-26 17:35:43,200 - allfeatures_extract_labels - INFO - ...Labels extracted from Dataset...\n",
      "2018-10-26 17:35:45,005 - allfeatures_extract_labels - INFO - ...Labels extracted from Dataset...\n"
     ]
    },
    {
     "name": "stdout",
     "output_type": "stream",
     "text": [
      "Records for valid Set - Number of rows: 16239\n"
     ]
    },
    {
     "name": "stderr",
     "output_type": "stream",
     "text": [
      "2018-10-26 17:35:45,399 - allfeatures_extract_labels - INFO - ...Labels extracted from Dataset...\n"
     ]
    },
    {
     "name": "stdout",
     "output_type": "stream",
     "text": [
      "Records for test Set - Number of rows: 59604\n",
      "chunk:  70  chunk size:  500000\n"
     ]
    },
    {
     "name": "stderr",
     "output_type": "stream",
     "text": [
      "2018-10-26 17:36:02,183 - drop_invalid_delinquency_status - INFO - invalid_delinquency_status dropped\n",
      "2018-10-26 17:36:06,840 - drop_invalid_delinquency_status - INFO - dropping invalid transitions and delinquency status, fill nan values, drop duplicates\n",
      "C:\\Users\\sandr\\Documents\\GitHub\\MLMortgage\\src\\data\\build_data.py:586: SettingWithCopyWarning: \n",
      "A value is trying to be set on a copy of a slice from a DataFrame\n",
      "\n",
      "See the caveats in the documentation: http://pandas.pydata.org/pandas-docs/stable/indexing.html#indexing-view-versus-copy\n",
      "  chunk['ORIGINATION_YEAR'][chunk['ORIGINATION_YEAR']<1995] = \"B1995\"\n",
      "2018-10-26 17:36:19,716 - allfeatures_drop_cols - INFO - ...Columns Excluded from dataset...\n",
      "2018-10-26 17:36:20,115 - allfeatures_drop_cols - INFO - ...Columns Excluded from dataset...\n",
      "2018-10-26 17:36:20,445 - allfeatures_drop_cols - INFO - ...Columns Excluded from dataset...\n"
     ]
    },
    {
     "name": "stdout",
     "output_type": "stream",
     "text": [
      "None\n",
      "Records for train Set - Number of rows: 251203\n"
     ]
    },
    {
     "name": "stderr",
     "output_type": "stream",
     "text": [
      "C:\\Users\\sandr\\Documents\\GitHub\\MLMortgage\\src\\data\\build_data.py:177: SettingWithCopyWarning: \n",
      "A value is trying to be set on a copy of a slice from a DataFrame\n",
      "\n",
      "See the caveats in the documentation: http://pandas.pydata.org/pandas-docs/stable/indexing.html#indexing-view-versus-copy\n",
      "  data.drop(data.columns[indices], axis=1, inplace=True)\n",
      "2018-10-26 17:37:03,781 - allfeatures_extract_labels - INFO - ...Labels extracted from Dataset...\n",
      "2018-10-26 17:37:05,577 - allfeatures_extract_labels - INFO - ...Labels extracted from Dataset...\n"
     ]
    },
    {
     "name": "stdout",
     "output_type": "stream",
     "text": [
      "Records for valid Set - Number of rows: 15719\n"
     ]
    },
    {
     "name": "stderr",
     "output_type": "stream",
     "text": [
      "2018-10-26 17:37:05,968 - allfeatures_extract_labels - INFO - ...Labels extracted from Dataset...\n"
     ]
    },
    {
     "name": "stdout",
     "output_type": "stream",
     "text": [
      "Records for test Set - Number of rows: 54411\n",
      "chunk:  71  chunk size:  500000\n"
     ]
    },
    {
     "name": "stderr",
     "output_type": "stream",
     "text": [
      "2018-10-26 17:37:23,232 - drop_invalid_delinquency_status - INFO - invalid_delinquency_status dropped\n",
      "2018-10-26 17:37:27,590 - drop_invalid_delinquency_status - INFO - dropping invalid transitions and delinquency status, fill nan values, drop duplicates\n",
      "C:\\Users\\sandr\\Documents\\GitHub\\MLMortgage\\src\\data\\build_data.py:586: SettingWithCopyWarning: \n",
      "A value is trying to be set on a copy of a slice from a DataFrame\n",
      "\n",
      "See the caveats in the documentation: http://pandas.pydata.org/pandas-docs/stable/indexing.html#indexing-view-versus-copy\n",
      "  chunk['ORIGINATION_YEAR'][chunk['ORIGINATION_YEAR']<1995] = \"B1995\"\n",
      "2018-10-26 17:37:40,247 - allfeatures_drop_cols - INFO - ...Columns Excluded from dataset...\n",
      "2018-10-26 17:37:40,653 - allfeatures_drop_cols - INFO - ...Columns Excluded from dataset...\n",
      "2018-10-26 17:37:40,962 - allfeatures_drop_cols - INFO - ...Columns Excluded from dataset...\n"
     ]
    },
    {
     "name": "stdout",
     "output_type": "stream",
     "text": [
      "None\n",
      "Records for train Set - Number of rows: 251768\n"
     ]
    },
    {
     "name": "stderr",
     "output_type": "stream",
     "text": [
      "C:\\Users\\sandr\\Documents\\GitHub\\MLMortgage\\src\\data\\build_data.py:177: SettingWithCopyWarning: \n",
      "A value is trying to be set on a copy of a slice from a DataFrame\n",
      "\n",
      "See the caveats in the documentation: http://pandas.pydata.org/pandas-docs/stable/indexing.html#indexing-view-versus-copy\n",
      "  data.drop(data.columns[indices], axis=1, inplace=True)\n",
      "2018-10-26 17:38:23,602 - allfeatures_extract_labels - INFO - ...Labels extracted from Dataset...\n",
      "2018-10-26 17:38:25,396 - allfeatures_extract_labels - INFO - ...Labels extracted from Dataset...\n"
     ]
    },
    {
     "name": "stdout",
     "output_type": "stream",
     "text": [
      "Records for valid Set - Number of rows: 13832\n"
     ]
    },
    {
     "name": "stderr",
     "output_type": "stream",
     "text": [
      "2018-10-26 17:38:25,793 - allfeatures_extract_labels - INFO - ...Labels extracted from Dataset...\n"
     ]
    },
    {
     "name": "stdout",
     "output_type": "stream",
     "text": [
      "Records for test Set - Number of rows: 46577\n",
      "chunk:  72  chunk size:  337821\n"
     ]
    },
    {
     "name": "stderr",
     "output_type": "stream",
     "text": [
      "2018-10-26 17:38:36,559 - drop_invalid_delinquency_status - INFO - invalid_delinquency_status dropped\n",
      "2018-10-26 17:38:39,399 - drop_invalid_delinquency_status - INFO - dropping invalid transitions and delinquency status, fill nan values, drop duplicates\n",
      "C:\\Users\\sandr\\Documents\\GitHub\\MLMortgage\\src\\data\\build_data.py:586: SettingWithCopyWarning: \n",
      "A value is trying to be set on a copy of a slice from a DataFrame\n",
      "\n",
      "See the caveats in the documentation: http://pandas.pydata.org/pandas-docs/stable/indexing.html#indexing-view-versus-copy\n",
      "  chunk['ORIGINATION_YEAR'][chunk['ORIGINATION_YEAR']<1995] = \"B1995\"\n",
      "2018-10-26 17:38:47,974 - allfeatures_drop_cols - INFO - ...Columns Excluded from dataset...\n",
      "2018-10-26 17:38:48,228 - allfeatures_drop_cols - INFO - ...Columns Excluded from dataset...\n",
      "2018-10-26 17:38:48,439 - allfeatures_drop_cols - INFO - ...Columns Excluded from dataset...\n"
     ]
    },
    {
     "name": "stdout",
     "output_type": "stream",
     "text": [
      "None\n",
      "Records for train Set - Number of rows: 193642\n"
     ]
    },
    {
     "name": "stderr",
     "output_type": "stream",
     "text": [
      "C:\\Users\\sandr\\Documents\\GitHub\\MLMortgage\\src\\data\\build_data.py:177: SettingWithCopyWarning: \n",
      "A value is trying to be set on a copy of a slice from a DataFrame\n",
      "\n",
      "See the caveats in the documentation: http://pandas.pydata.org/pandas-docs/stable/indexing.html#indexing-view-versus-copy\n",
      "  data.drop(data.columns[indices], axis=1, inplace=True)\n",
      "2018-10-26 17:39:17,080 - allfeatures_extract_labels - INFO - ...Labels extracted from Dataset...\n",
      "2018-10-26 17:39:18,784 - allfeatures_extract_labels - INFO - ...Labels extracted from Dataset...\n"
     ]
    },
    {
     "name": "stdout",
     "output_type": "stream",
     "text": [
      "Records for valid Set - Number of rows: 10352\n"
     ]
    },
    {
     "name": "stderr",
     "output_type": "stream",
     "text": [
      "2018-10-26 17:39:19,254 - allfeatures_extract_labels - INFO - ...Labels extracted from Dataset...\n"
     ]
    },
    {
     "name": "stdout",
     "output_type": "stream",
     "text": [
      "Records for test Set - Number of rows: 33222\n"
     ]
    },
    {
     "name": "stderr",
     "output_type": "stream",
     "text": [
      "2018-10-26 17:39:19,842 - allfeatures_extract_labels - INFO - training, validation and testing set into .h5 file\n"
     ]
    },
    {
     "name": "stdout",
     "output_type": "stream",
     "text": [
      "19498770 1049797 3262825\n",
      "train/features size:  19498770\n",
      "valid/features size:  1049797\n",
      "test/features size:  3262825\n",
      "Preprocessing Time:  1:35:18.367500\n",
      "Preprocessing - Time:  1:35:18.469066\n"
     ]
    }
   ],
   "source": [
    "startTime = datetime.now()\n",
    "if not os.path.exists(os.path.join(PRO_DIR, FLAGS.prepro_dir)): #os.path.exists\n",
    "        os.makedirs(os.path.join(PRO_DIR, FLAGS.prepro_dir))\n",
    "bd.allfeatures_preprocessing(RAW_DIR, PRO_DIR, FLAGS.prepro_dir, FLAGS.train_period, FLAGS.valid_period, FLAGS.test_period, dividing='percentage', \n",
    "                          chunksize=FLAGS.prepro_chunksize, refNorm=FLAGS.ref_norm, with_index=FLAGS.prepro_with_index, output_hdf=True)        \n",
    "print('Preprocessing - Time: ', datetime.now() - startTime)"
   ]
  },
  {
   "cell_type": "code",
   "execution_count": null,
   "metadata": {},
   "outputs": [],
   "source": [
    "!cd /home/ubuntu/MLMortgage/src/data"
   ]
  },
  {
   "cell_type": "code",
   "execution_count": null,
   "metadata": {},
   "outputs": [],
   "source": [
    "#first h5 file:\n",
    "!python build_data.py --prepro_step=slicing --slice_input_dir=chuncks_random_c1mill --slice_output_dir chuncks_random_c1millx2_train chuncks_random_c1millx2_valid chuncks_random_c1millx2_test --slice_tag train valid test --slice_target_name 1-1mill_cs1200_train 1-11mill_cs1200_valid 1-1mill_cs1200_test --slice_target_size=36000000 --slice_index=0"
   ]
  },
  {
   "cell_type": "code",
   "execution_count": null,
   "metadata": {},
   "outputs": [],
   "source": [
    "# 2nd. h5 file:\n",
    "!python build_data.py --prepro_step=slicing --slice_input_dir=chuncks_random_c1mill --slice_output_dir chuncks_random_c1millx2_train chuncks_random_c1millx2_valid chuncks_random_c1millx2_test --slice_tag train valid test --slice_target_name 2mill-3mill_cs1200_train 2mill-3mill_cs1200_valid 2mill-3mill_cs1200_test --slice_target_size=36000000 --slice_index=1"
   ]
  },
  {
   "cell_type": "markdown",
   "metadata": {},
   "source": [
    "## Training\n",
    "From console, execute:\n",
    "\n",
    "#### $ cd /home/ubuntu/MLMortgage/src/models\n",
    "\n",
    "#### $ python nn_real.py --train_dir=chuncks_random_c1mill --valid_dir=chuncks_random_c1mill --test_dir=chuncks_random_c1mill --logdir=/home/ubuntu/real_summaries_4425_-15ep_99-01/ --epoch_num=15 --max_epoch_size=-1 --batch_size=4425                                                    \n",
    "This execution runs 15 epochs over the entire dataset (max_epoch_size=-1) and the training, validation and testing datasets are in the same directory inside /home/ubuntu/MLMortgage/data/processed/chuncks_random_c1mill/. \n",
    "\n",
    "The checkpoints and the models results will be saved into, for example, logdir=/home/ubuntu/real_summaries_4425_-15ep_99-01/. You can change it by uncommenting and modifying the FLAGS.logdir variable.\n",
    "\n",
    "To execute step by step:\n"
   ]
  },
  {
   "cell_type": "code",
   "execution_count": 14,
   "metadata": {},
   "outputs": [
    {
     "name": "stdout",
     "output_type": "stream",
     "text": [
      "UNPARSED ['-f', 'C:\\\\Users\\\\sandr\\\\AppData\\\\Roaming\\\\jupyter\\\\runtime\\\\kernel-1e594a2e-a222-4ed8-98a6-ef3031006e6c.json']\n",
      "FLAGS Namespace(allow_summaries=True, batch_layer_type='batch', batch_norm=True, batch_size=4425, batch_type='layer', data_dir='/input_data', decay_rate=1, decay_step=800, dropout=True, dropout_keep=0.9, epoch_flag=0, epoch_num=15, learning_rate=0.1, log_file=<_io.TextIOWrapper name='\\\\home\\\\ubuntu\\\\real_summaries4425-15ep_test\\\\batch_layer_type_1_log.txt' mode='w+' encoding='cp1252'>, logdir=WindowsPath('/home/ubuntu/real_summaries4425-15ep_test'), loss_tolerance=0.0001, max_epoch_size=-1, momentum=0.5, n_hidden=3, name='batch_layer_type', rate_min=0.0015, reg_rate=1e-05, s_hidden=[200, 140, 140], stratified_flag=False, test_batch_size=100000, test_dir='chuncks_random_c1millx2_test', test_flag=True, test_period=[286, 304], train_dir='chuncks_random_c1millx2_train', train_period=[121, 279], valid_batch_size=100000, valid_dir='chuncks_random_c1millx2_valid', valid_period=[280, 285], weighted_sampling=False, xla=True)\n"
     ]
    }
   ],
   "source": [
    "import tensorflow as tf\n",
    "\n",
    "FLAGS, UNPARSED = nn.update_parser(argparse.ArgumentParser())\n",
    "print(\"UNPARSED\", UNPARSED)\n",
    "FLAGS.logdir=Path(str('/home/ubuntu/real_summaries4425-15ep_test/'))\n",
    "if not os.path.exists(os.path.join(FLAGS.logdir)): #os.path.exists\n",
    "    os.makedirs(os.path.join(FLAGS.logdir))\n",
    "FLAGS = nn.FLAGS_setting(FLAGS, 1)\n",
    "FLAGS.train_dir = 'chuncks_random_c1millx2_train'\n",
    "FLAGS.valid_dir = 'chuncks_random_c1millx2_valid'\n",
    "FLAGS.test_dir = 'chuncks_random_c1millx2_test'\n",
    "FLAGS.train_period=[121,279] #[121, 143] \n",
    "FLAGS.valid_period=[280,285] #[144, 147] \n",
    "FLAGS.test_period=[286,304] #[148, 155]\n",
    "FLAGS.epoch_num=15 \n",
    "FLAGS.max_epoch_size=-1 \n",
    "FLAGS.batch_size=4425\n",
    "print(\"FLAGS\", FLAGS) #you can change the FLAGS by adding the setting before this line."
   ]
  },
  {
   "cell_type": "code",
   "execution_count": null,
   "metadata": {},
   "outputs": [],
   "source": [
    "DATA = md.get_h5_data(PRO_DIR, FLAGS.train_dir, FLAGS.valid_dir, FLAGS.test_dir, train_period=FLAGS.train_period, valid_period=FLAGS.valid_period, test_period=FLAGS.test_period) \n",
    "print('Features List: ', DATA.train.features_list)\n",
    "print('Labels List: ', DATA.train.labels_list)"
   ]
  },
  {
   "cell_type": "code",
   "execution_count": null,
   "metadata": {
    "scrolled": false
   },
   "outputs": [],
   "source": [
    "FLAGS.log_file.write('METRICS:  %s\\r\\n' % str(FLAGS))\n",
    "FLAGS.log_file.write('training files:  %s\\r\\n' % str(DATA.train._dict))\n",
    "# print('training files:  %s\\r\\n' % str(DATA.train._dict))\n",
    "FLAGS.log_file.write('validation files:  %s\\r\\n' % str(DATA.validation._dict))\n",
    "# print('validation files:  %s\\r\\n' % str(DATA.validation._dict))\n",
    "FLAGS.log_file.write('testing files:  %s\\r\\n' % str(DATA.test._dict))        \n",
    "# print('testing files:  %s\\r\\n' % str(DATA.test._dict))     "
   ]
  },
  {
   "cell_type": "code",
   "execution_count": null,
   "metadata": {},
   "outputs": [],
   "source": [
    "print('Training features - Sample', DATA.train._dict[0]['dataset_features'][0:100]) #you can increase the sampling number of records "
   ]
  },
  {
   "cell_type": "code",
   "execution_count": null,
   "metadata": {},
   "outputs": [],
   "source": [
    "architecture = nn.architecture_settings(DATA, FLAGS)\n",
    "print('RAM before build: ', psutil.virtual_memory()) #  physical memory usage\n",
    "FLAGS.log_file.write('RAM  before build: %s\\r\\n' % str(psutil.virtual_memory()))\n",
    "graph = nn.build_graph(architecture, FLAGS)        \n",
    "print('RAM after build', psutil.virtual_memory()) #  physical memory usage\n",
    "FLAGS.log_file.write('RAM  after build: %s\\r\\n' % str(psutil.virtual_memory()))\n",
    "nn.run_model(graph, 'testing_data', 1,  FLAGS, DATA)      "
   ]
  }
 ],
 "metadata": {
  "kernelspec": {
   "display_name": "Python 3",
   "language": "python",
   "name": "python3"
  },
  "language_info": {
   "codemirror_mode": {
    "name": "ipython",
    "version": 3
   },
   "file_extension": ".py",
   "mimetype": "text/x-python",
   "name": "python",
   "nbconvert_exporter": "python",
   "pygments_lexer": "ipython3",
   "version": "3.6.4"
  }
 },
 "nbformat": 4,
 "nbformat_minor": 2
}
