{
 "cells": [
  {
   "cell_type": "code",
   "execution_count": 14,
   "metadata": {},
   "outputs": [
    {
     "name": "stdout",
     "output_type": "stream",
     "text": [
      "['C:\\\\Users\\\\sandr\\\\Documents\\\\ENN\\\\DLMortgage\\\\DLMortgage\\\\DLMortCookiecutter\\\\mlmortgage\\\\src\\\\data', 'C:\\\\Users\\\\sandr\\\\Documents\\\\ENN\\\\DLMortgage\\\\DLMortgage\\\\DLMortCookiecutter\\\\mlmortgage\\\\mlmortgage\\\\src\\\\data', 'C:\\\\Users\\\\sandr\\\\Documents\\\\ENN\\\\DLMortgage\\\\DLMortgage\\\\DLMortCookiecutter\\\\mlmortgage\\\\src\\\\data', 'C:\\\\Users\\\\sandr\\\\Documents\\\\ENN\\\\DLMortgage\\\\DLMortgage\\\\DLMortCookiecutter\\\\src\\\\data', 'C:\\\\Users\\\\sandr\\\\Documents\\\\ENN\\\\DLMortgage\\\\DLMortgage\\\\DLMortCookiecutter\\\\src\\\\data', 'C:\\\\Users\\\\sandr\\\\Documents\\\\ENN\\\\DLMortgage\\\\DLMortgage\\\\DLMortCookiecutter\\\\src\\\\data', '', 'C:\\\\Users\\\\sandr\\\\AppData\\\\Local\\\\conda\\\\conda\\\\envs\\\\tensorflowenvironment\\\\python36.zip', 'C:\\\\Users\\\\sandr\\\\AppData\\\\Local\\\\conda\\\\conda\\\\envs\\\\tensorflowenvironment\\\\DLLs', 'C:\\\\Users\\\\sandr\\\\AppData\\\\Local\\\\conda\\\\conda\\\\envs\\\\tensorflowenvironment\\\\lib', 'C:\\\\Users\\\\sandr\\\\AppData\\\\Local\\\\conda\\\\conda\\\\envs\\\\tensorflowenvironment', 'C:\\\\Users\\\\sandr\\\\AppData\\\\Local\\\\conda\\\\conda\\\\envs\\\\tensorflowenvironment\\\\lib\\\\site-packages', 'C:\\\\Users\\\\sandr\\\\AppData\\\\Local\\\\conda\\\\conda\\\\envs\\\\tensorflowenvironment\\\\lib\\\\site-packages\\\\IPython\\\\extensions', 'C:\\\\Users\\\\sandr\\\\.ipython']\n"
     ]
    }
   ],
   "source": [
    "import sys\n",
    "import os\n",
    "from pathlib import Path\n",
    "sys.path.insert(0, os.path.join(Path(os.getcwd()).parents[0], 'src', 'data'))\n",
    "print(sys.path)\n",
    "# get_raw_data_script_file = os.path.join(os.path.pardir,'src', 'data', 'features_selection.py')\n"
   ]
  },
  {
   "cell_type": "code",
   "execution_count": 15,
   "metadata": {},
   "outputs": [
    {
     "name": "stdout",
     "output_type": "stream",
     "text": [
      "Reading the data from disk....\n"
     ]
    },
    {
     "ename": "FileNotFoundError",
     "evalue": "File C:\\Users\\sandr\\Documents\\ENN\\DLMortgage\\DLMortgage\\DLMortCookiecutter\\data\\raw\\chunks\\dynamic_45.h5 does not exist",
     "output_type": "error",
     "traceback": [
      "\u001b[1;31m---------------------------------------------------------------------------\u001b[0m",
      "\u001b[1;31mFileNotFoundError\u001b[0m                         Traceback (most recent call last)",
      "\u001b[1;32m<ipython-input-15-ac03a80ad788>\u001b[0m in \u001b[0;36m<module>\u001b[1;34m()\u001b[0m\n\u001b[0;32m      1\u001b[0m \u001b[1;31m# print(get_raw_data_script_file)\u001b[0m\u001b[1;33m\u001b[0m\u001b[1;33m\u001b[0m\u001b[0m\n\u001b[1;32m----> 2\u001b[1;33m \u001b[1;32mimport\u001b[0m \u001b[0mfeatures_selection\u001b[0m \u001b[1;32mas\u001b[0m \u001b[0mfs\u001b[0m\u001b[1;33m\u001b[0m\u001b[0m\n\u001b[0m\u001b[0;32m      3\u001b[0m \u001b[1;33m\u001b[0m\u001b[0m\n\u001b[0;32m      4\u001b[0m \u001b[0mprint\u001b[0m\u001b[1;33m(\u001b[0m\u001b[0mPath\u001b[0m\u001b[1;33m(\u001b[0m\u001b[0mos\u001b[0m\u001b[1;33m.\u001b[0m\u001b[0mgetcwd\u001b[0m\u001b[1;33m(\u001b[0m\u001b[1;33m)\u001b[0m\u001b[1;33m)\u001b[0m\u001b[1;33m.\u001b[0m\u001b[0mparents\u001b[0m\u001b[1;33m[\u001b[0m\u001b[1;36m0\u001b[0m\u001b[1;33m]\u001b[0m\u001b[1;33m)\u001b[0m\u001b[1;33m\u001b[0m\u001b[0m\n",
      "\u001b[1;32m~\\Documents\\ENN\\DLMortgage\\DLMortgage\\DLMortCookiecutter\\mlmortgage\\src\\data\\features_selection.py\u001b[0m in \u001b[0;36m<module>\u001b[1;34m()\u001b[0m\n\u001b[0;32m    208\u001b[0m \u001b[1;31m# b_data = select_specific_features(all_data, columns)\u001b[0m\u001b[1;33m\u001b[0m\u001b[1;33m\u001b[0m\u001b[0m\n\u001b[0;32m    209\u001b[0m \u001b[1;31m# X_train, X_test, y_train, y_test = ms.train_test_split(b_data, labels, test_size=0.33, random_state=RANDOM_SEED, stratify=labels)\u001b[0m\u001b[1;33m\u001b[0m\u001b[1;33m\u001b[0m\u001b[0m\n\u001b[1;32m--> 210\u001b[1;33m \u001b[0mDATA\u001b[0m \u001b[1;33m=\u001b[0m \u001b[0mmake_dataset\u001b[0m\u001b[1;33m.\u001b[0m\u001b[0mget_data\u001b[0m\u001b[1;33m(\u001b[0m\u001b[1;36m220000\u001b[0m\u001b[1;33m,\u001b[0m \u001b[1;36m20000\u001b[0m\u001b[1;33m,\u001b[0m \u001b[1;36m20000\u001b[0m\u001b[1;33m,\u001b[0m \u001b[1;32mFalse\u001b[0m\u001b[1;33m,\u001b[0m \u001b[0mdataset_name\u001b[0m\u001b[1;33m=\u001b[0m\u001b[1;34m'MORT'\u001b[0m\u001b[1;33m,\u001b[0m \u001b[0mstratified_flag\u001b[0m \u001b[1;33m=\u001b[0m \u001b[1;32mFalse\u001b[0m\u001b[1;33m)\u001b[0m\u001b[1;33m\u001b[0m\u001b[0m\n\u001b[0m\u001b[0;32m    211\u001b[0m \u001b[0mtraining_df\u001b[0m\u001b[1;33m=\u001b[0m \u001b[0mpd\u001b[0m\u001b[1;33m.\u001b[0m\u001b[0mDataFrame\u001b[0m\u001b[1;33m(\u001b[0m\u001b[0mDATA\u001b[0m\u001b[1;33m.\u001b[0m\u001b[0mtrain\u001b[0m\u001b[1;33m.\u001b[0m\u001b[0mfeatures\u001b[0m\u001b[1;33m,\u001b[0m \u001b[0mcolumns\u001b[0m\u001b[1;33m=\u001b[0m\u001b[0mDATA\u001b[0m\u001b[1;33m.\u001b[0m\u001b[0mfeature_columns\u001b[0m\u001b[1;33m)\u001b[0m\u001b[1;33m\u001b[0m\u001b[0m\n\u001b[0;32m    212\u001b[0m \u001b[0mprint\u001b[0m\u001b[1;33m(\u001b[0m\u001b[0mtraining_df\u001b[0m\u001b[1;33m.\u001b[0m\u001b[0mdescribe\u001b[0m\u001b[1;33m(\u001b[0m\u001b[1;33m)\u001b[0m\u001b[1;33m)\u001b[0m\u001b[1;33m\u001b[0m\u001b[0m\n",
      "\u001b[1;32m~\\Documents\\ENN\\DLMortgage\\DLMortgage\\DLMortCookiecutter\\mlmortgage\\src\\data\\make_dataset.py\u001b[0m in \u001b[0;36mget_data\u001b[1;34m(num_examples, valid_num, test_num, weighted_sampling, dataset_name, stratified_flag)\u001b[0m\n\u001b[0;32m     12\u001b[0m \u001b[1;33m\u001b[0m\u001b[0m\n\u001b[0;32m     13\u001b[0m         data = bd.read_data_sets(num_examples, valid_num, test_num, #(20000,1000,1000,\n\u001b[1;32m---> 14\u001b[1;33m                                         weighted_sampling, stratified_flag=stratified_flag)\n\u001b[0m\u001b[0;32m     15\u001b[0m \u001b[1;31m#    elif dataset_name.upper() == 'MNIST':\u001b[0m\u001b[1;33m\u001b[0m\u001b[1;33m\u001b[0m\u001b[0m\n\u001b[0;32m     16\u001b[0m \u001b[1;31m#        data = input_data.read_data_sets(FLAGS.data_dir, one_hot=True)\u001b[0m\u001b[1;33m\u001b[0m\u001b[1;33m\u001b[0m\u001b[0m\n",
      "\u001b[1;32m~\\Documents\\ENN\\DLMortgage\\DLMortgage\\DLMortCookiecutter\\mlmortgage\\src\\data\\build_data.py\u001b[0m in \u001b[0;36mread_data_sets\u001b[1;34m(num_examples, valid_num, test_num, weight_flag, stratified_flag)\u001b[0m\n\u001b[0;32m    330\u001b[0m     \"\"\"\n\u001b[0;32m    331\u001b[0m     \u001b[0mprint\u001b[0m\u001b[1;33m(\u001b[0m\u001b[1;34m'Reading the data from disk....'\u001b[0m\u001b[1;33m)\u001b[0m\u001b[1;33m\u001b[0m\u001b[0m\n\u001b[1;32m--> 332\u001b[1;33m     \u001b[0mall_data\u001b[0m \u001b[1;33m=\u001b[0m \u001b[0mgrd\u001b[0m\u001b[1;33m.\u001b[0m\u001b[0mread_df\u001b[0m\u001b[1;33m(\u001b[0m\u001b[1;36m45\u001b[0m\u001b[1;33m)\u001b[0m\u001b[1;33m\u001b[0m\u001b[0m\n\u001b[0m\u001b[0;32m    333\u001b[0m     \u001b[0mprint\u001b[0m\u001b[1;33m(\u001b[0m\u001b[1;34m'Size of the database:'\u001b[0m\u001b[1;33m,\u001b[0m \u001b[0mall_data\u001b[0m\u001b[1;33m.\u001b[0m\u001b[0mshape\u001b[0m\u001b[1;33m)\u001b[0m\u001b[1;33m\u001b[0m\u001b[0m\n\u001b[0;32m    334\u001b[0m     train, valid, test, feature_columns = get_datasets(all_data, num_examples, valid_num, test_num,\n",
      "\u001b[1;32m~\\Documents\\ENN\\DLMortgage\\DLMortgage\\DLMortCookiecutter\\mlmortgage\\src\\data\\get_raw_data.py\u001b[0m in \u001b[0;36mread_df\u001b[1;34m(chunk_ind)\u001b[0m\n\u001b[0;32m    118\u001b[0m         \u001b[1;34m'df'\u001b[0m\u001b[1;33m,\u001b[0m\u001b[1;33m\u001b[0m\u001b[0m\n\u001b[0;32m    119\u001b[0m         \u001b[0mmode\u001b[0m\u001b[1;33m=\u001b[0m\u001b[1;34m'r'\u001b[0m\u001b[1;33m,\u001b[0m\u001b[1;33m\u001b[0m\u001b[0m\n\u001b[1;32m--> 120\u001b[1;33m         format='f')\n\u001b[0m\u001b[0;32m    121\u001b[0m     static_data = pd.read_hdf(\n\u001b[0;32m    122\u001b[0m         \u001b[0mos\u001b[0m\u001b[1;33m.\u001b[0m\u001b[0mpath\u001b[0m\u001b[1;33m.\u001b[0m\u001b[0mjoin\u001b[0m\u001b[1;33m(\u001b[0m\u001b[0mDYNAMIC_DIR\u001b[0m\u001b[1;33m,\u001b[0m \u001b[1;34m'static_{:d}.h5'\u001b[0m\u001b[1;33m.\u001b[0m\u001b[0mformat\u001b[0m\u001b[1;33m(\u001b[0m\u001b[0mchunk_ind\u001b[0m\u001b[1;33m)\u001b[0m\u001b[1;33m)\u001b[0m\u001b[1;33m,\u001b[0m\u001b[1;33m\u001b[0m\u001b[0m\n",
      "\u001b[1;32m~\\AppData\\Local\\conda\\conda\\envs\\tensorflowenvironment\\lib\\site-packages\\pandas\\io\\pytables.py\u001b[0m in \u001b[0;36mread_hdf\u001b[1;34m(path_or_buf, key, mode, **kwargs)\u001b[0m\n\u001b[0;32m    345\u001b[0m         \u001b[1;32mif\u001b[0m \u001b[1;32mnot\u001b[0m \u001b[0mexists\u001b[0m\u001b[1;33m:\u001b[0m\u001b[1;33m\u001b[0m\u001b[0m\n\u001b[0;32m    346\u001b[0m             raise compat.FileNotFoundError(\n\u001b[1;32m--> 347\u001b[1;33m                 'File %s does not exist' % path_or_buf)\n\u001b[0m\u001b[0;32m    348\u001b[0m \u001b[1;33m\u001b[0m\u001b[0m\n\u001b[0;32m    349\u001b[0m         \u001b[0mstore\u001b[0m \u001b[1;33m=\u001b[0m \u001b[0mHDFStore\u001b[0m\u001b[1;33m(\u001b[0m\u001b[0mpath_or_buf\u001b[0m\u001b[1;33m,\u001b[0m \u001b[0mmode\u001b[0m\u001b[1;33m=\u001b[0m\u001b[0mmode\u001b[0m\u001b[1;33m,\u001b[0m \u001b[1;33m**\u001b[0m\u001b[0mkwargs\u001b[0m\u001b[1;33m)\u001b[0m\u001b[1;33m\u001b[0m\u001b[0m\n",
      "\u001b[1;31mFileNotFoundError\u001b[0m: File C:\\Users\\sandr\\Documents\\ENN\\DLMortgage\\DLMortgage\\DLMortCookiecutter\\data\\raw\\chunks\\dynamic_45.h5 does not exist"
     ]
    }
   ],
   "source": [
    "# print(get_raw_data_script_file)\n",
    "import features_selection as fs\n",
    "\n",
    "# print(Path(os.getcwd()).parents[0])"
   ]
  },
  {
   "cell_type": "code",
   "execution_count": null,
   "metadata": {},
   "outputs": [],
   "source": [
    "# to observe some statistics about the DATA object with refNorm=False:\n",
    "org_train_describe = DATA.train.features.describe().T\n",
    "org_valid_describe = DATA.validation.features.describe().T\n",
    "org_test_describe = DATA.test.features.describe().T\n",
    "train_labels = encode_binary_to_labeled_column(pd.DataFrame(DATA.train.labels))\n",
    "train_labels_vc =  train_labels.value_counts().sort_index()\n",
    "valid_labels = encode_binary_to_labeled_column(pd.DataFrame(DATA.validation.labels))\n",
    "valid_labels_vc =  valid_labels.value_counts().sort_index()\n",
    "test_labels = encode_binary_to_labeled_column(pd.DataFrame(DATA.test.labels))\n",
    "test_labels_vc =  test_labels.value_counts().sort_index()\n",
    "\n",
    "\n",
    "# to observe some statistics about the DATA object with refNorm=True:\n",
    "norm_training_set_describe = pd.DataFrame(train[0]).describe().T\n",
    "norm_validation_set_describe = pd.DataFrame(valid[0]).describe().T\n",
    "norm_test_set_describe = pd.DataFrame(test[0]).describe().T\n",
    "norm_train_labels = encode_binary_to_labeled_column(pd.DataFrame(train[1]))\n",
    "norm_train_labels_vc =  norm_train_labels.value_counts().sort_index()\n",
    "\n",
    "training_df= pd.DataFrame(DATA.train.features, columns=DATA.feature_columns)\n",
    "training_describe = training_df.describe().T\n",
    "validation_df= pd.DataFrame(DATA.validation.features, columns=DATA.feature_columns)\n",
    "validation_describe = validation_df.describe().T\n",
    "test_df= pd.DataFrame(DATA.test.features, columns=DATA.feature_columns)\n",
    "test_describe = test_df.describe().T\n",
    "\n",
    "\n"
   ]
  }
 ],
 "metadata": {
  "kernelspec": {
   "display_name": "Python 3",
   "language": "python",
   "name": "python3"
  },
  "language_info": {
   "codemirror_mode": {
    "name": "ipython",
    "version": 3
   },
   "file_extension": ".py",
   "mimetype": "text/x-python",
   "name": "python",
   "nbconvert_exporter": "python",
   "pygments_lexer": "ipython3",
   "version": "3.6.4"
  }
 },
 "nbformat": 4,
 "nbformat_minor": 2
}
