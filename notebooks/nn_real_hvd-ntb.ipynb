{
 "cells": [
  {
   "cell_type": "markdown",
   "metadata": {},
   "source": [
    "## Beginning Steps"
   ]
  },
  {
   "cell_type": "code",
   "execution_count": 11,
   "metadata": {},
   "outputs": [
    {
     "name": "stdout",
     "output_type": "stream",
     "text": [
      "['/home/ubuntu/src/data', '/home/ubuntu/MLMortgage/src/models', '/home/ubuntu/MLMortgage/src/data', '', '/home/ubuntu/src/cntk/bindings/python', '/home/ubuntu/anaconda3/envs/tensorflow_p36/lib/python36.zip', '/home/ubuntu/anaconda3/envs/tensorflow_p36/lib/python3.6', '/home/ubuntu/anaconda3/envs/tensorflow_p36/lib/python3.6/lib-dynload', '/home/ubuntu/anaconda3/envs/tensorflow_p36/lib/python3.6/site-packages', '/home/ubuntu/anaconda3/envs/tensorflow_p36/lib/python3.6/site-packages/IPython/extensions', '/home/ubuntu/.ipython']\n"
     ]
    },
    {
     "data": {
      "text/plain": [
       "True"
      ]
     },
     "execution_count": 11,
     "metadata": {},
     "output_type": "execute_result"
    }
   ],
   "source": [
    "import sys\n",
    "import os\n",
    "import pandas as pd\n",
    "from pathlib import Path\n",
    "from datetime import datetime\n",
    "import argparse\n",
    "import psutil\n",
    "import numpy as np\n",
    "import logging\n",
    "import numpy as np\n",
    "import tensorflow as tf\n",
    "import time\n",
    "import glob\n",
    "from tensorflow.python.framework import ops\n",
    "import math\n",
    "from dotenv import find_dotenv, load_dotenv\n",
    "import ftplib\n",
    "\n",
    "\n",
    "nb_dir = os.path.join(Path(os.getcwd()).parents[0], 'src', 'data')\n",
    "if nb_dir not in sys.path:\n",
    "    sys.path.insert(0, nb_dir)\n",
    "print(sys.path)\n",
    "import features_selection as fs\n",
    "import make_dataset as md\n",
    "import build_data as bd\n",
    "import get_raw_data as grd\n",
    "import data_classes\n",
    "\n",
    "models_dir = os.path.join(Path(os.getcwd()).parents[0], 'src', 'models')\n",
    "if models_dir not in sys.path:\n",
    "    sys.path.insert(0, models_dir)\n",
    "import nn_real as nn\n",
    "\n",
    "try:\n",
    "    import horovod.tensorflow as hvd\n",
    "except:\n",
    "    print(\"Failed to import horovod module. \"\n",
    "          \"%s is intended for use with Uber's Horovod distributed training \"\n",
    "          \"framework. To create a Docker image with Horovod support see \"\n",
    "          \"docker-examples/Dockerfile.horovod.\" % __file__)\n",
    "    raise\n",
    "\n",
    "load_dotenv(find_dotenv())"
   ]
  },
  {
   "cell_type": "code",
   "execution_count": 2,
   "metadata": {},
   "outputs": [
    {
     "name": "stdout",
     "output_type": "stream",
     "text": [
      "/home/ubuntu/MLMortgage/data/raw /home/ubuntu/MLMortgage/data/processed\n"
     ]
    }
   ],
   "source": [
    "RAW_DIR = os.path.join(Path(os.getcwd()).parents[0], 'data', 'raw') \n",
    "PRO_DIR = os.path.join(Path(os.getcwd()).parents[0], 'data', 'processed')\n",
    "RANDOM_SEED = 123  # Set the seed to get reproducable results.\n",
    "DT_FLOAT = tf.float32\n",
    "NP_FLOAT = np.dtype('float32')\n",
    "\n",
    "print(RAW_DIR, PRO_DIR)"
   ]
  },
  {
   "cell_type": "code",
   "execution_count": 3,
   "metadata": {},
   "outputs": [
    {
     "data": {
      "text/plain": [
       "0"
      ]
     },
     "execution_count": 3,
     "metadata": {},
     "output_type": "execute_result"
    }
   ],
   "source": [
    "hvd.init()"
   ]
  },
  {
   "cell_type": "code",
   "execution_count": 4,
   "metadata": {},
   "outputs": [],
   "source": [
    "def FLAGS_setting(FLAGS, net_number):\n",
    "    # To determine an optimal set of hyperparameters, see Section 11.4.2 of the\n",
    "    # deep learning book. Has (1) grid, (2) random, and (3) Bayesian\n",
    "    # model-based search methods.Swersky et al. have a paper mentioned in that\n",
    "    # section (published in 2014).\n",
    "\n",
    "    # Hyperparameters\n",
    "    # FLAGS.epoch_num = 2  # 14  # 17  # 35  # 15\n",
    "    #print(\"FLAGS.epoch_num\", FLAGS.epoch_num)\n",
    "    # FLAGS.batch_size = 141600 # 4425 # 4000  \n",
    "    FLAGS.dropout_keep = 0.9  # 0.9  # 0.95  # .75  # .6\n",
    "    # ### parameters for training optimizer.\n",
    "    #FLAGS.learning_rate = .1  # .075  # .15  # .25\n",
    "    FLAGS.momentum = .5  # used by the momentum SGD.\n",
    "\n",
    "    # ### parameters for inverse_time_decay\n",
    "    FLAGS.decay_rate = 1\n",
    "    FLAGS.decay_step = 800 # 1 * 80000 #according to paper: 800 epochs\n",
    "    FLAGS.rate_min = .0015\n",
    "    # ### parameters for exponential_decay\n",
    "    # FLAGS.decay_base = .96  # .96\n",
    "    # FLAGS.decay_step = 15000  # 12320  # 4 * 8700\n",
    "\n",
    "    # ### parameters for regularization\n",
    "    FLAGS.reg_rate = .01 * 1e-3  # * 1e-3\n",
    "\n",
    "    FLAGS.batch_norm = True  # False  #\n",
    "    FLAGS.dropout = True\n",
    "    # A flag to show the results on the held-out test set. Keep this at False.\n",
    "    FLAGS.test_flag = True\n",
    "    FLAGS.xla = True  # False\n",
    "    FLAGS.stratified_flag = False\n",
    "    #FLAGS.batch_type = 'batch'    \n",
    "    FLAGS.weighted_sampling = False  # True  #\n",
    "    # FLAGS.logdir =  os.path.join(Path.home(), 'real_summaries')  # \n",
    "    #FLAGS.n_hidden = 3\n",
    "    #FLAGS.s_hidden = [200, 140, 140]\n",
    "    # FLAGS.allow_summaries = False\n",
    "    FLAGS.epoch_flag = 0    \n",
    "    \n",
    "    #FLAGS.max_epoch_size = 141600*70 #137 # -1\n",
    "    \n",
    "    FLAGS.valid_batch_size = 100000\n",
    "    FLAGS.test_batch_size = 100000\n",
    "    \n",
    "    FLAGS.train_dir = 'chuncks_random_c1millx2_train'\n",
    "    FLAGS.valid_dir = 'chuncks_random_c1millx2_valid'\n",
    "    FLAGS.test_dir = 'chuncks_random_c1millx2_test'\n",
    "    FLAGS.train_period=[121,279] #[121, 143] \n",
    "    FLAGS.valid_period=[280,285] #[144, 147] \n",
    "    FLAGS.test_period=[286,304] #[148, 155]\n",
    "    FLAGS.epoch_num=15 \n",
    "    FLAGS.max_epoch_size=-1 \n",
    "    FLAGS.batch_size=4425\n",
    "    FLAGS.lr_decay_policy       = 'time'\n",
    "    FLAGS.lr_decay_epochs       = 30\n",
    "    FLAGS.lr_decay_rate         = 0.1\n",
    "    FLAGS.lr_poly_power         = 2.\n",
    "    FLAGS.eval = False # True=Evaluation else Training\n",
    "    FLAGS.save_interval = 43200\n",
    "    FLAGS.nstep_burnin = 20 # step from to count consuming time for a batch\n",
    "    FLAGS.summary_interval = 3600 # Time in seconds between saves of summary statistics\n",
    "    FLAGS.display_every = 1 # How often (in iterations) to print out running information\n",
    "    \n",
    "    #Retrieveng from ftp:\n",
    "    FLAGS.ftp_dir = 'processed/c1mill_99-01'\n",
    "    \n",
    "    \n",
    "    if FLAGS.n_hidden < 0 : raise ValueError('The size of hidden layer must be at least 0')\n",
    "    if (FLAGS.n_hidden > 0) and (FLAGS.n_hidden != len(FLAGS.s_hidden)) : raise ValueError('Sizes in hidden layers should match!')\n",
    "    \n",
    "    if (net_number==0):\n",
    "        FLAGS.name ='default_settings'        \n",
    "    elif (net_number==1):\n",
    "        FLAGS.name ='batch_layer_type'\n",
    "        FLAGS.batch_layer_type = 'batch'        \n",
    "        \n",
    "    return FLAGS"
   ]
  },
  {
   "cell_type": "code",
   "execution_count": 5,
   "metadata": {},
   "outputs": [
    {
     "name": "stdout",
     "output_type": "stream",
     "text": [
      "UNPARSED ['-f', '/run/user/1000/jupyter/kernel-2aa390d5-fe0b-4b05-8626-d13d9989be8b.json']\n"
     ]
    }
   ],
   "source": [
    "import tensorflow as tf\n",
    "\n",
    "FLAGS, UNPARSED = nn.update_parser(argparse.ArgumentParser())\n",
    "print(\"UNPARSED\", UNPARSED)\n",
    "FLAGS.logdir = Path(str('/home/ubuntu/real_summaries4425-15ep_test/'))\n",
    "if not os.path.exists(os.path.join(FLAGS.logdir)): #os.path.exists\n",
    "    os.makedirs(os.path.join(FLAGS.logdir))\n",
    "FLAGS = FLAGS_setting(FLAGS, 1)"
   ]
  },
  {
   "cell_type": "code",
   "execution_count": 6,
   "metadata": {},
   "outputs": [
    {
     "name": "stdout",
     "output_type": "stream",
     "text": [
      "FLAGS Namespace(allow_summaries=True, batch_layer_type='batch', batch_norm=True, batch_size=4425, batch_type='layer', data_dir='/input_data', decay_rate=1, decay_step=800, display_every=1, dropout=True, dropout_keep=0.9, epoch_flag=0, epoch_num=15, eval=False, ftp_dir='processed/c1mill_99-01', learning_rate=0.1, log_file=None, logdir=PosixPath('/home/ubuntu/real_summaries4425-15ep_test'), loss_tolerance=0.0001, lr_decay_epochs=30, lr_decay_policy='time', lr_decay_rate=0.1, lr_poly_power=2.0, max_epoch_size=-1, momentum=0.5, n_hidden=3, name='batch_layer_type', nstep_burnin=20, rate_min=0.0015, reg_rate=1e-05, s_hidden=[200, 140, 140], save_interval=43200, stratified_flag=False, summary_interval=3600, test_batch_size=100000, test_dir='chuncks_random_c1millx2_test', test_flag=True, test_period=[286, 304], train_dir='chuncks_random_c1millx2_train', train_period=[121, 279], valid_batch_size=100000, valid_dir='chuncks_random_c1millx2_valid', valid_period=[280, 285], weighted_sampling=False, xla=True)\n"
     ]
    }
   ],
   "source": [
    "print(\"FLAGS\", FLAGS) #you can change the FLAGS by adding the setting before this line."
   ]
  },
  {
   "cell_type": "code",
   "execution_count": 32,
   "metadata": {},
   "outputs": [],
   "source": [
    "class GPUNetworkBuilder(object):\n",
    "    \"\"\"This class provides convenient methods for constructing feed-forward\n",
    "    networks with internal data layout of 'NCHW'.\n",
    "    \"\"\"\n",
    "    def __init__(self,\n",
    "                 # is_training,\n",
    "                 dtype=DT_FLOAT,\n",
    "                 activation='RELU',\n",
    "                 use_batch_norm=True,\n",
    "                 batch_norm_config = {'decay':   0.9,\n",
    "                                      'epsilon': 1e-4,\n",
    "                                      'scale':   True,\n",
    "                                      'zero_debias_moving_mean': False}):\n",
    "        self.dtype             = dtype\n",
    "        self.activation_func   = activation\n",
    "        # self.is_training       = is_training\n",
    "        self.use_batch_norm    = use_batch_norm\n",
    "        self.batch_norm_config = batch_norm_config\n",
    "        #self._layer_counts     = defaultdict(lambda: 0)        \n",
    "        \n",
    "    def variable_summaries(self, name, var, allow_summaries):\n",
    "        \"\"\"Create summaries for the given Tensor (for TensorBoard visualization (TB graphs)).\n",
    "            Calculate the mean, min, max, histogram and standardeviation for 'var' variable and save the information\n",
    "            in tf.summary.\n",
    "\n",
    "        Args: \n",
    "             name (String): the of the scope for summaring. For min, max and standardeviation 'calculate_std' is used as sub-scope.\n",
    "             var (Tensor): This is the tensor variable for building summaries.\n",
    "        Returns: \n",
    "            None\n",
    "        Raises:        \n",
    "        \"\"\"\n",
    "        if allow_summaries:\n",
    "            with tf.name_scope(name):\n",
    "                mean = tf.reduce_mean(var)\n",
    "                tf.summary.scalar('mean', mean)\n",
    "                with tf.name_scope('calculate_std'):\n",
    "                    stddev = tf.sqrt(tf.reduce_mean(tf.square(var - mean)))\n",
    "                tf.summary.scalar('stddev', stddev)\n",
    "                tf.summary.scalar('min', tf.reduce_min(var))\n",
    "                tf.summary.scalar('max', tf.reduce_max(var))\n",
    "                tf.summary.histogram('histogram', var)\n",
    "                \n",
    "    def _variable_on_cpu(self, name,\n",
    "                     shape,\n",
    "                     initializer=None,\n",
    "                     regularizer=None,\n",
    "                     dtype=DT_FLOAT):\n",
    "        \"\"\"Create a Variable or get an existing one stored on CPU memory.    \n",
    "\n",
    "        Args:\n",
    "            name (String): name of the variable.\n",
    "            shape (list of ints): Shape of the variable.\n",
    "            initializer: Default None. Initializer for Variable.\n",
    "            regularizer (A (Tensor -> Tensor or None) function): Default None. Regularizer for Variable.\n",
    "            dtype (TYPE): Type of the new variable.\n",
    "        Returns:\n",
    "            Variable Tensor\n",
    "        \"\"\"\n",
    "        with tf.device('/gpu:1'): # this operation is assigned to this device, but this make a copy of data when is transferred on and off the device, which is expensive.\n",
    "            var = tf.get_variable(\n",
    "                name,\n",
    "                shape,\n",
    "                initializer=initializer,\n",
    "                regularizer=regularizer,\n",
    "                dtype=dtype)\n",
    "        return var\n",
    "\n",
    "    def _create_variable(self, name,\n",
    "                         shape, allow_summaries, \n",
    "                         initializer=None,\n",
    "                         regularizer=None,\n",
    "                         dtype=DT_FLOAT):\n",
    "        \"\"\"Call _variable_on_cpu methods and variable_summaries for the 'name' tensor variable. \n",
    "\n",
    "        Args:\n",
    "            name (String): name of the variable.\n",
    "            shape (list of ints): Shape of the variable.\n",
    "            initializer: Default None. Initializer for Variable.\n",
    "            regularizer (A (Tensor -> Tensor or None) function): Default None. Regularizer for Variable.\n",
    "            dtype (TYPE): Type of the new variable.\n",
    "        Returns:\n",
    "            Variable Tensor\n",
    "        \"\"\"\n",
    "        var = self._variable_on_cpu(name, shape, initializer, regularizer, dtype)\n",
    "        self.variable_summaries(name + '/summaries', var, allow_summaries)\n",
    "        return var\n",
    "\n",
    "    def create_weights(self, name, shape, reg_rate, allow_summaries):\n",
    "        \"\"\"Create a Variable initialized with weights which are truncated normal distribution and regularized by\n",
    "        l1_regularizer (L1 regularization encourages sparsity, Regularization can help prevent overfitting).    \n",
    "\n",
    "        Args:\n",
    "            name (String): name of the variable.\n",
    "            shape (list of ints): Shape of the variable.\n",
    "        Returns:\n",
    "            Variable Tensor\n",
    "        \"\"\"    \n",
    "        dtype = DT_FLOAT\n",
    "        # kernel_initializer = tf.uniform_unit_scaling_initializer(\n",
    "        #     factor=1.43, dtype=DT_FLOAT)\n",
    "        # kernel_initializer = tf.contrib.layers.xavier_initializer(\n",
    "        #     uniform=True, dtype=DT_FLOAT)\n",
    "        kernel_initializer = tf.truncated_normal_initializer(\n",
    "            stddev=(1.0 / np.sqrt(shape[0])), dtype=dtype)\n",
    "\n",
    "        regularizer = tf.contrib.layers.l2_regularizer(\n",
    "            np.float32(reg_rate), 'penalty')\n",
    "        return self._create_variable(name, shape, allow_summaries, kernel_initializer, regularizer,\n",
    "                                dtype)\n",
    "\n",
    "    def bias_variable(self, name, shape, layer_name, weighted_sampling): # FLAGS.weighted_sampling\n",
    "        \"\"\"Create a bias variable with appropriate initialization. In case of FLAGS.weighted_sampling==False\n",
    "        and layer_name contains 'soft' the bias variable will contain a np.array of Negative values. Otherwise\n",
    "        the bias variable will be initialized in zero.\n",
    "\n",
    "        Args:\n",
    "            name (String): name of the variable.\n",
    "            shape (list of ints): Shape of the variable.\n",
    "            layer_name (String): name of the layer.\n",
    "        Returns:\n",
    "            Variable Tensor.\n",
    "        \"\"\"\n",
    "        def initial_bias(layer_name):\n",
    "            \"\"\"Get the initial value for the bias of the layer with layer_name.\"\"\"\n",
    "            if (not weighted_sampling) and 'soft' in layer_name:\n",
    "                return np.array(\n",
    "                    [-4.66, -3.81, -4.81, -3.90, -0.08, -3.90, -7.51],\n",
    "                    dtype=NP_FLOAT) + NP_FLOAT(4.1)\n",
    "            return 0.0\n",
    "\n",
    "        initial_value = initial_bias(layer_name)\n",
    "        with tf.name_scope(name) as scope:\n",
    "            initial = tf.constant(initial_value, shape=shape)\n",
    "            bias = tf.Variable(initial, name=scope)\n",
    "            self.variable_summaries('summaries', bias)\n",
    "        return bias        \n",
    "    \n",
    "    def dropout_layer(self, name, tensor_before, FLAGS):\n",
    "        \"\"\"Compute dropout to tensor_before with name scoping and a placeholder for keep_prob. \n",
    "        With probability keep_prob, outputs the input element scaled up by 1 / keep_prob, otherwise outputs 0.\n",
    "\n",
    "        Args:\n",
    "            name (String): name of the scope.\n",
    "            tensor_before (Tensor): Variable Tensor.        \n",
    "        Returns:\n",
    "            Variable Tensor of the same shape of tensor_before.\n",
    "        \"\"\"   \n",
    "        if not FLAGS.dropout:\n",
    "            print('There is not dropout for' + name)\n",
    "            return tensor_before\n",
    "        with tf.name_scope(name) as scope:\n",
    "            keep_prob = tf.placeholder(DT_FLOAT, None, name='keep_proba')\n",
    "            tf.summary.scalar('keep_probability', keep_prob)\n",
    "            dropped = tf.nn.dropout(tensor_before, keep_prob=keep_prob, name=scope)\n",
    "            self.variable_summaries('input_dropped_out', dropped, FLAGS.allow_summaries)\n",
    "        return dropped\n",
    "\n",
    "    def batch_normalization(self, name, input_tensor, train_flag, FLAGS):\n",
    "        \"\"\"Perform batch normalization over the input tensor.\n",
    "        Batch normalization helps avoid overfitting and we're able to use more\n",
    "        aggressive (larger) learning rates, resulting in faster convergence.\n",
    "        training parameter: Either a Python boolean, or a TensorFlow boolean scalar tensor (e.g. a placeholder). \n",
    "        Whether to return the output in training mode (normalized with statistics of the current batch) or in \n",
    "        inference mode (normalized with moving statistics). NOTE: make sure to set this parameter correctly, \n",
    "        or else your training/inference will not work properly.\n",
    "\n",
    "        Args:\n",
    "            name (String): name of the scope and the name of the layer.\n",
    "            input_tensor (Tensor): Variable Tensor.        \n",
    "        Returns:\n",
    "            Variable Tensor # the same shape of input_tensor??.\n",
    "        \"\"\"\n",
    "        # if not FLAGS.batch_norm:\n",
    "        #     return input_tensor\n",
    "        # train_flag = tf.get_default_graph().get_tensor_by_name('train_flag:0')\n",
    "        with tf.name_scope(name):\n",
    "            normalized = tf.layers.batch_normalization(\n",
    "                input_tensor,\n",
    "                center=True,\n",
    "                scale=True,\n",
    "                training=train_flag,\n",
    "                name=name)  # renorm=True, renorm_momentum=0.99)\n",
    "            self.variable_summaries('normalized_batch', normalized, FLAGS.allow_summaries)\n",
    "        return normalized\n",
    "\n",
    "    def layer_normalization(self, name, input_tensor, FLAGS):\n",
    "        \"\"\"Perform layer normalization.\n",
    "\n",
    "        Layer normalization helps avoid overfitting and we're able to use more\n",
    "        aggressive (larger) learning rates, resulting in faster convergence.\n",
    "        Can be used as a normalizer function for conv2d and fully_connected.\n",
    "\n",
    "        Given a tensor inputs of rank R, moments are calculated and normalization \n",
    "        is performed over axes begin_norm_axis ... R - 1. \n",
    "        Scaling and centering, if requested, is performed over axes begin_params_axis .. R - 1.\n",
    "        \"\"\"\n",
    "        # if not FLAGS.batch_norm:\n",
    "        #     return input_tensor\n",
    "        with tf.name_scope(name):\n",
    "            normalized = tf.contrib.layers.layer_norm(\n",
    "                input_tensor, center=True, scale=True, scope=name)\n",
    "            self.variable_summaries('normalized_layer', normalized, FLAGS.allow_summaries)\n",
    "        return normalized\n",
    "\n",
    "\n",
    "    def normalize(self, name, input_tensor, train_flag, FLAGS):\n",
    "        \"\"\"Perform either type (batch/layer) of normalization.\"\"\"\n",
    "        if not FLAGS.batch_norm:\n",
    "            return input_tensor\n",
    "        if FLAGS.batch_type.lower() == 'batch':\n",
    "            return self.batch_normalization(name, input_tensor, train_flag, FLAGS)\n",
    "        if FLAGS.batch_type.lower() == 'layer':\n",
    "            return self.layer_normalization(name, input_tensor, FLAGS)\n",
    "        raise ValueError('Invalid value for batch_type: ' + FLAGS.batch_type)\n",
    "\n",
    "    def nn_layer(self, input_tensor, output_dim, layer_name, FLAGS, act, train_flag):\n",
    "        \"\"\"Create a simple neural net layer.\n",
    "\n",
    "        It performs the affine transformation and uses the activation function to\n",
    "        nonlinearize. It further sets up name scoping so that the resultant graph\n",
    "        is easy to read, and adds a number of summary ops.\n",
    "        \"\"\"\n",
    "        input_dim = input_tensor.shape[1].value    \n",
    "        with tf.variable_scope(layer_name): # A context manager for defining ops that creates variables (layers).\n",
    "            weights = self.create_weights('weights', [input_dim, output_dim], FLAGS.reg_rate, FLAGS.allow_summaries)\n",
    "            # This is outdated and no longer applies: Do not change the order of\n",
    "            # batch normalization and drop out. batch # normalization has to stay\n",
    "            # __before__ the drop out layer.\n",
    "            self.variable_summaries('input', input_tensor, FLAGS.allow_summaries)\n",
    "            input_tensor = self.dropout_layer('dropout', input_tensor, FLAGS)\n",
    "            with tf.name_scope('mix'):\n",
    "                mixed = tf.matmul(input_tensor, weights)\n",
    "                tf.summary.histogram('maybe_guassian', mixed)\n",
    "            # Batch or layer normalization has to stay __after__ the affine\n",
    "            # transformation (the bias term doens't really matter because of the\n",
    "            # beta term in the normalization equation).\n",
    "            # See pp. 5 of the batch normalization paper:\n",
    "            # ```We add the BN transform immediately before the nonlinearity, by\n",
    "            # normalizing x = W u + b```\n",
    "            # biases = bias_variable('biases', [output_dim], layer_name)\n",
    "            preactivate = self.normalize('layer_normalization', mixed, train_flag, FLAGS)  # + biases\n",
    "            # tf.summary.histogram('pre_activations', preactivate)\n",
    "            # preactivate = dropout_layer('dropout', preactivate)\n",
    "            with tf.name_scope('activation') as scope:\n",
    "                activations = self.activate(preactivate, funcname=act)\n",
    "                tf.summary.histogram('activations', activations)\n",
    "        return activations        \n",
    "    \n",
    "    def activate(self, input_layer, funcname=None):\n",
    "        \"\"\"Applies an activation function\"\"\"\n",
    "        if isinstance(funcname, tuple):\n",
    "            funcname = funcname[0]\n",
    "            params = funcname[1:]\n",
    "        if funcname is None:\n",
    "            funcname = self.activation_func\n",
    "        if funcname == 'LINEAR':\n",
    "            return input_layer\n",
    "        activation_map = {\n",
    "            'IDENT':   tf.identity,\n",
    "            'RELU':    tf.nn.relu,\n",
    "            'RELU6':   tf.nn.relu6,\n",
    "            'ELU':     tf.nn.elu,\n",
    "            'SIGMOID': tf.nn.sigmoid,\n",
    "            'TANH':    tf.nn.tanh,\n",
    "            'LRELU':   lambda x, name: tf.maximum(params[0]*x, x, name=name)\n",
    "        }\n",
    "        return activation_map[funcname](input_layer, name=funcname.lower())\n",
    "    \n",
    "    def add_hidden_layers(self, features, architecture, FLAGS, train_flag, act=None):\n",
    "        \"\"\"Add hidden layers to the model using the architecture parameters.\"\"\"\n",
    "        hidden_out = features\n",
    "        jit_scope = tf.contrib.compiler.jit.experimental_jit_scope #JIT compiler compiles and runs parts of TF graphs via XLA, fusing multiple operators (kernel fusion) nto a small number of compiled kernels.\n",
    "        with jit_scope(): #this operation will be compiled with XLA.\n",
    "            for hid_i in range(1, FLAGS.n_hidden + 1):\n",
    "                hidden_out = self.nn_layer(hidden_out,\n",
    "                                      architecture['n_hidden_{:1d}'.format(hid_i)],\n",
    "                                      '{:1d}_hidden'.format(hid_i), FLAGS, act, train_flag)\n",
    "        return hidden_out        \n",
    "    "
   ]
  },
  {
   "cell_type": "code",
   "execution_count": 33,
   "metadata": {},
   "outputs": [],
   "source": [
    "class FeedForwardTrainer(object):\n",
    "    def __init__(self, loss_func, nstep_per_epoch=None):        \n",
    "        self.loss_func = loss_func\n",
    "        self.nstep_per_epoch = nstep_per_epoch\n",
    "        #self.architecture = architecture\n",
    "        #self.FLAGS = FLAGS\n",
    "#        with tf.device('/cpu:0'):\n",
    "#            self.global_step = tf.get_variable(\n",
    "#                'global_step', [],\n",
    "#                initializer=tf.constant_initializer(0),\n",
    "#                dtype=tf.int64,\n",
    "#                trainable=False)\n",
    "\n",
    "    def get_learning_rate(self, initial_learning_rate, epoch_flag):\n",
    "        \"\"\"Get the learning rate.\"\"\"\n",
    "        with tf.name_scope('learning_rate') as scope:\n",
    "            if FLAGS.lr_decay_policy == 'poly':\n",
    "                return tf.train.polynomial_decay(\n",
    "                                        initial_learning_rate,\n",
    "                                        epoch_flag,\n",
    "                                        decay_steps=FLAGS.epoch_num*self.nstep_per_epoch,\n",
    "                                        end_learning_rate=0.,\n",
    "                                        power=FLAGS.lr_poly_power,\n",
    "                                        cycle=False)\n",
    "            elif FLAGS.lr_decay_policy == 'exp':\n",
    "                return tf.train.exponential_decay(\n",
    "                                        initial_learning_rate,\n",
    "                                        epoch_flag,\n",
    "                                        decay_steps=FLAGS.lr_decay_epochs*self.nstep_per_epoch,\n",
    "                                        decay_rate=FLAGS.lr_decay_rate,\n",
    "                                        staircase=True)\n",
    "            else:            \n",
    "                # decayed_lr = tf.train.exponential_decay(\n",
    "                #     initial_learning_rate,\n",
    "                #     global_step,\n",
    "                #     FLAGS.decay_step,\n",
    "                #     FLAGS.decay_base,\n",
    "                #     staircase=False)\n",
    "                decayed_lr = tf.train.inverse_time_decay(\n",
    "                    initial_learning_rate,\n",
    "                    epoch_flag,\n",
    "                    decay_steps=FLAGS.decay_step,\n",
    "                    decay_rate=FLAGS.decay_rate)\n",
    "                final_lr = tf.clip_by_value(\n",
    "                    decayed_lr, FLAGS.rate_min, 1000, name=scope)\n",
    "                tf.summary.scalar('value', final_lr)\n",
    "                return final_lr\n",
    "        # return self.learning_rate \n",
    "\n",
    "    def get_accuracy(self, labels_int, logits, name):\n",
    "        \"\"\"Get the accuracy tensor.\"\"\"\n",
    "        with tf.name_scope(name) as scope:\n",
    "            # For a classifier model, we can use the in_top_k Op.\n",
    "            # It returns a bool tensor with shape [batch_size] that is true for\n",
    "            # the examples where the label is in the top k (here k=1)\n",
    "            # of all logits for that example.\n",
    "            correct = tf.nn.in_top_k(\n",
    "                logits, labels_int, 1, name='correct_prediction') # returns a tensor of type bool.\n",
    "            return tf.reduce_mean(tf.cast(correct, DT_FLOAT), name=scope)\n",
    "\n",
    "    # auc = get_auc(labels, probs, True, 'metrics/auc')\n",
    "    def get_auc(self, labels, scores, hist_flag, name):\n",
    "        \"\"\"Calculate the AUC of the two-way classifier for the given class.\"\"\"\n",
    "\n",
    "        def get_auc_using_histogram(labels, scores, class_, name):\n",
    "            \"\"\"Calculate the AUC.\"\"\"\n",
    "            class_ind = class_dict[class_.upper()]\n",
    "            with tf.name_scope(name) as scope:\n",
    "                auc, update_op = tf.contrib.metrics.auc_using_histogram( # his Op maintains Variables containing histograms of the scores associated with True and False labels. \n",
    "                    tf.cast(labels[:, class_ind], tf.bool),\n",
    "                    scores[:, class_ind],\n",
    "                    score_range=[0.0, 1.0],\n",
    "                    nbins=200,\n",
    "                    collections=None,\n",
    "                    name=scope)\n",
    "            ops.add_to_collections(ops.GraphKeys.UPDATE_OPS, update_op)\n",
    "            # print(update_op.name)\n",
    "            # print(auc) # it doesn't work because FailedPreconditionError (see above for traceback): Attempting to use uninitialized value metrics/auc/0//hist_accumulate/hist_true_acc\n",
    "            # aucp = tf.Print(auc,[auc], message='AUC the label: ' + class_) # it doesnt work because it doesnt run in a session\n",
    "            # print(aucp)\n",
    "            return auc\n",
    "\n",
    "        def get_auc_metric(labels, scores, class_, name):\n",
    "            \"\"\"Determine the AUC using conventional methods.\"\"\"\n",
    "            class_ind = class_dict[class_.upper()]\n",
    "            with tf.name_scope(name) as scope:\n",
    "                auc, _ = tf.metrics.auc( # Computes the approximate AUC via a Riemann sum.\n",
    "                    tf.cast(labels[:, class_ind], tf.bool), # ?? Print out!!\n",
    "                    scores[:, class_ind],\n",
    "                    weights=None,\n",
    "                    num_thresholds=200,\n",
    "                    metrics_collections=None,\n",
    "                    updates_collections=ops.GraphKeys.UPDATE_OPS,\n",
    "                    curve='ROC',\n",
    "                    name=scope)\n",
    "            # print(auc.op.name)\n",
    "            return auc\n",
    "\n",
    "        classes = ['0', '3', '6', '9', 'C', 'F', 'R']\n",
    "        class_dict = {classes[ind]: ind for ind in range(len(classes))}\n",
    "        if hist_flag:\n",
    "            auc_func = get_auc_using_histogram\n",
    "        else:\n",
    "            auc_func = get_auc_metric\n",
    "        with tf.name_scope(name) as scope:\n",
    "            aucv = [\n",
    "                    auc_func(labels, scores, class_, str(ind)) for ind, class_ in enumerate(classes) # pair (index ej. 0, value ej. '0')\n",
    "                   ]      \n",
    "            auc_values = tf.stack( # Pack along first dim\n",
    "                aucv,\n",
    "                axis=0,\n",
    "                name=scope)\n",
    "            # aucv = tf.Print(auc_values,[auc_values], message='AUC for all labels: ')\n",
    "            # print(aucv) # or maybe aucv.eval() or var = tf.Variable(aucv) and then var.eval(session=sess), or ovar = sess.run(var) but Attempting to use uninitialized value metrics/auc/Variable\n",
    "            return auc_values\n",
    "\n",
    "\n",
    "    # conf_mtx = get_confusion_matrix(labels_int, predictions, len(classes), 'metrics/confusion')\n",
    "    def get_confusion_matrix(self, labels_int, predictions, num_classes, name):\n",
    "        \"\"\"Get the confusion matrix.\n",
    "        Both prediction and labels must be 1-D arrays of the same shape in order for \n",
    "        this function to work.\n",
    "        \"\"\"\n",
    "        with tf.name_scope(name) as scope:\n",
    "            conf = tf.confusion_matrix(\n",
    "                labels_int,\n",
    "                predictions=predictions,\n",
    "                num_classes=num_classes,\n",
    "                dtype=tf.int32,\n",
    "                name=scope,\n",
    "                weights=None)\n",
    "        # print(conf.op.name)\n",
    "        return conf #return a K x K Matriz K = num_classes\n",
    "\n",
    "\n",
    "    def get_m_hand(self, labels, scores, name):\n",
    "        \"\"\"Implement the M measure described in Hand.\n",
    "\n",
    "        See ```A Simple Generalisation of the Area Under the ROC Curve for Multiple\n",
    "        Class Classification Problems``` Hand, Till 2001.    \n",
    "\n",
    "        \"\"\"\n",
    "        def get_auc_using_histogram(labels, scores, first_ind, second_ind, scope):\n",
    "            \"\"\"Calculate the AUC.\n",
    "            Calculate the AUC value by maintainig histograms of boolean variables (labels and \n",
    "            scores masked by the First-Second Individuals rule).\n",
    "            \"\"\"\n",
    "            mask = (labels[:, first_ind] + labels[:, second_ind]) > 0 #one in at least one column.\n",
    "            auc, update_op = tf.contrib.metrics.auc_using_histogram( # maintains variables containing histograms of the scores associated with True, False labels. \n",
    "                tf.cast(tf.boolean_mask(labels[:, first_ind], mask), tf.bool), # tf.boolean_mask: Apply boolean mask to tensor. Numpy equivalent is tensor[mask].\n",
    "                tf.boolean_mask(scores[:, first_ind], mask),\n",
    "                score_range=[0.0, 1.0],\n",
    "                nbins=500,\n",
    "                collections=None,\n",
    "                name=scope)\n",
    "            ops.add_to_collections(ops.GraphKeys.UPDATE_OPS, update_op)\n",
    "            # print(update_op.name)\n",
    "            return auc\n",
    "\n",
    "        temp_array = []\n",
    "        with tf.name_scope(name) as main_scope:\n",
    "            for first_ind in range(7):\n",
    "                for second_ind in range(7):\n",
    "                    if first_ind != second_ind:\n",
    "                        final_name = '{:d}{:d}'.format(first_ind, second_ind)\n",
    "                        with tf.name_scope(final_name) as scope:\n",
    "                            auc = get_auc_using_histogram(\n",
    "                                labels, scores, first_ind, second_ind, scope)\n",
    "                        temp_array.append(auc)\n",
    "            return tf.stack(temp_array, axis=0, name=main_scope) # Stacks a list of rank-R tensors into one rank-(R+1) tensor.\n",
    "\n",
    "\n",
    "    def get_auc_pr_curve(self, labels, scores, name, num_thresholds):    \n",
    "        with tf.name_scope(name) as scope:                             \n",
    "            AUC_PR = []\n",
    "            AUC_data = []\n",
    "            for i in range(7):  \n",
    "                data, update_op = tf.contrib.metrics.precision_recall_at_equal_thresholds(\n",
    "                                name='pr_data',\n",
    "                                predictions=scores[:, i],\n",
    "                                labels=tf.cast(labels[:, i], tf.bool),\n",
    "                                num_thresholds=10, use_locking=True)\n",
    "                ops.add_to_collections(ops.GraphKeys.UPDATE_OPS, update_op)\n",
    "                AUC_data.append((tf.stack(data.recall), tf.stack(data.precision), tf.stack(data.thresholds)))   # we cant use sklearn with tensorflow definition!\n",
    "                auc, _ = tf.metrics.auc(labels[:, i], scores[:, i], weights=None, num_thresholds=10, \n",
    "                                        curve='PR', updates_collections=ops.GraphKeys.UPDATE_OPS, metrics_collections=None, summation_method='careful_interpolation') # \n",
    "                # ops.add_to_collections(ops.GraphKeys.UPDATE_OPS, update_op)\n",
    "                AUC_PR.append(auc)\n",
    "            # print(AUC_data)\n",
    "            return tf.stack( # Pack the array of scalar tensor along one dim tensor\n",
    "                AUC_PR,\n",
    "                axis=0,\n",
    "                name=scope), AUC_data\n",
    "\n",
    "    def log_loss(self, labels, probs, name):\n",
    "        \"\"\"\n",
    "        Args:\n",
    "            labels: Labels tensor, int32 - [batch_size, n_classes], with one-hot\n",
    "            encoded values.\n",
    "            logits: Probabilities tensor, float32 - [batch_size, n_classes].\n",
    "        \"\"\"\n",
    "        with tf.name_scope(name) as scope:\n",
    "            total_loss = 0\n",
    "            for j in range(probs.shape[1].value):\n",
    "                loss = tf.losses.log_loss(labels[:, j], probs[:, j], loss_collection=None)\n",
    "                total_loss += loss\n",
    "\n",
    "            return tf.div(total_loss, np.float32(probs.shape[1].value), name=scope)\n",
    "    \n",
    "    def calculate_metrics(self, labels, logits):\n",
    "        \"\"\"Evaluate the quality of the logits at predicting the label.\n",
    "\n",
    "        Args:\n",
    "            labels: Labels tensor, int32 - [batch_size, n_classes], with one-hot\n",
    "            encoded values.\n",
    "            logits: Logits tensor, float32 - [batch_size, n_classes].\n",
    "        Returns:\n",
    "            A scalar float32 tensor with the fraction of examples (out of\n",
    "            batch_size) that were predicted correctly.\n",
    "        \"\"\"\n",
    "        classes = ['0', '3', '6', '9', 'C', 'F', 'R']\n",
    "        with tf.name_scope('metrics'):\n",
    "            labels_int = tf.argmax(labels, 1, name='intlabels') #tf.argmax: Returns the index with the largest value across axes=1 of a tensor.\t\t\n",
    "            predictions = tf.argmax(logits, 1, name='predictions')        \n",
    "            probs = tf.nn.softmax(logits, name='probs') # Computes softmax activations. softmax = tf.exp(logits) / tf.reduce_sum(tf.exp(logits), axis)        \n",
    "\n",
    "        m_list = self.get_m_hand(labels, probs, 'metrics/m_measure')\n",
    "        accuracy = self.get_accuracy(labels_int, logits, 'metrics/accuracy')    \n",
    "        auc = self.get_auc(labels, probs, True, 'metrics/auc')    \n",
    "        conf_mtx = self.get_confusion_matrix(labels_int, predictions,\n",
    "                                        len(classes), 'metrics/confusion')\n",
    "        loss = self.log_loss(labels, probs, 'metrics/log_loss')\n",
    "        pr_auc, pr_data = self.get_auc_pr_curve(labels, probs, 'metrics/auc_pr', 200)\n",
    "\n",
    "        # this is for the definition of the graph:\n",
    "        return accuracy, conf_mtx, auc, m_list, loss, pr_auc, pr_data\n",
    "    \n",
    "    def training_step(self, architecture, FLAGS):        \n",
    "        features = tf.placeholder(\n",
    "            DT_FLOAT, [None, architecture['n_input']], name='features')\n",
    "        labels = tf.placeholder(\n",
    "            DT_FLOAT, [None, architecture['n_classes']], name='targets')\n",
    "        epoch_flag = tf.placeholder(tf.int32, None, name='epoch_flag')\n",
    "        example_weights = tf.placeholder(\n",
    "            DT_FLOAT, [None], name='example_weights')\n",
    "        with tf.device('/gpu:0'):\n",
    "            # Evaluate the loss and compute the gradients            \n",
    "            loss, logits = self.loss_func(features, labels, architecture, FLAGS)\n",
    "\n",
    "        with tf.device('/cpu:0'): # No in_top_k implem on GPU\n",
    "            accuracy, conf_mtx, auc_list, m_list, lloss, auc_pr, auc_data = self.calculate_metrics(labels, logits)\n",
    "            with tf.name_scope('0_performance'):\n",
    "                # Scalar summaries to track the loss and accuracy over time in TB.\n",
    "                tf.summary.scalar('0accuracy', accuracy)\n",
    "                tf.summary.scalar('1better_accuracy',\n",
    "                                  tf.reduce_mean(\n",
    "                                      tf.diag_part(conf_mtx / tf.reduce_sum(\n",
    "                                          conf_mtx, axis=1, keepdims=True))))\n",
    "                tf.summary.scalar('2auc_aoc', tf.reduce_mean(auc_list))\n",
    "                tf.summary.scalar('3m_measure', tf.reduce_mean(m_list))\n",
    "                tf.summary.scalar('4loss', loss)\n",
    "                tf.summary.scalar('5log_loss', lloss)\n",
    "                tf.summary.scalar('6auc_pr', tf.reduce_mean(auc_pr))\n",
    "\n",
    "        # Apply the gradients to optimize the loss function\n",
    "        with tf.device('/gpu:0'):            \n",
    "            update_ops = ops.get_collection(ops.GraphKeys.UPDATE_OPS)\n",
    "            # print(update_ops)\n",
    "            with ops.control_dependencies(update_ops):\n",
    "                with tf.name_scope('train') as scope:\n",
    "                    # print_loss = tf.Print(loss, [loss], name='print_loss') \n",
    "\n",
    "                    # Create a variable to track the global step.\n",
    "        #            global_step = tf.get_variable(\n",
    "        #                'train/global_step',\n",
    "        #                shape=[],\n",
    "        #                initializer=tf.constant_initializer(0, dtype=tf.int32),\n",
    "        #                trainable=False)            \n",
    "                    # Horovod: adjust learning rate based on number of GPUs.\n",
    "                    # optimizer = tf.train.GradientDescentOptimizer(1.0 * hvd.size())\n",
    "                    final_learning_rate = self.get_learning_rate(FLAGS.learning_rate * hvd.size(), epoch_flag)\n",
    "\n",
    "                    # optimizer = tf.train.GradientDescentOptimizer(final_learning_rate)\n",
    "                    optimizer = tf.train.MomentumOptimizer(final_learning_rate, FLAGS.momentum, use_nesterov=True)\n",
    "                    # optimizer = tf.train.AdagradOptimizer(final_learning_rate)\n",
    "\n",
    "                    # Use the optimizer to apply the gradients that minimize the loss\n",
    "                    # (and increment the global step counter) as a single training step.\n",
    "        #            return optimizer.minimize(\n",
    "        #                loss, global_step=global_step, name=scope)\n",
    "                    optimizer = hvd.DistributedOptimizer(optimizer) #HVD!!\n",
    "                    train_op = optimizer.minimize(loss, global_step=None, name=scope)\n",
    "            \n",
    "                        \n",
    "        return loss, final_learning_rate, train_op\n",
    "    \n",
    "    def init(self):\n",
    "        # init_op = tf.global_variables_initializer()\n",
    "        # sess.run(init_op)        \n",
    "        \"\"\"Add an Op to the graph to initialize the global and local variables.\"\"\"\n",
    "        with tf.name_scope('init') as scope:\n",
    "            with tf.name_scope('global'):\n",
    "                global_init = tf.global_variables_initializer()\n",
    "            with tf.name_scope('local'):\n",
    "                local_init = tf.local_variables_initializer()\n",
    "                # print(local_init.name)\n",
    "            #init_op = tf.group(global_init, local_init, name=scope)\n",
    "        return global_init, local_init\n",
    "        \n",
    "    def sync(self, sess):\n",
    "        sync_op = hvd.broadcast_global_variables(0)\n",
    "        sess.run(sync_op)"
   ]
  },
  {
   "cell_type": "code",
   "execution_count": 34,
   "metadata": {},
   "outputs": [],
   "source": [
    "def loss_func(features, labels, architecture, FLAGS):\n",
    "    # Build the forward model\n",
    "    net = GPUNetworkBuilder(dtype=DT_FLOAT)\n",
    "    train_flag = tf.placeholder(tf.bool, None, name='train_flag')\n",
    "    with tf.name_scope('input_normalization') as scope:\n",
    "        feature_norm = features\n",
    "        net.variable_summaries('input_normalized', feature_norm, FLAGS.allow_summaries)\n",
    "    hidden_out = net.add_hidden_layers(feature_norm, architecture, FLAGS, train_flag)\n",
    "    # Linear output layer for the logits\n",
    "    logits = (net.nn_layer(hidden_out, architecture['n_classes'],'9_softmax_linear', FLAGS, 'IDENT', train_flag))\n",
    "    \n",
    "    with tf.name_scope('loss') as scope:\n",
    "        with tf.name_scope('regularization'):\n",
    "            penalty = tf.losses.get_regularization_loss(name='penalty') #Gets the total regularization loss from an optional scope name (sum for ol + 3h + 2h + 1h).\n",
    "            tf.summary.scalar('weight_norm', penalty / (1e-8 + FLAGS.reg_rate)) #for printing out\n",
    "        with tf.name_scope('cross_entropy') as xentropy_scope:\n",
    "            weighted_cross_entropy = tf.losses.softmax_cross_entropy(\n",
    "                onehot_labels=labels,\n",
    "                logits=logits,\n",
    "                weights=1.0,  # weights,  #\n",
    "                scope=xentropy_scope,\n",
    "                loss_collection=ops.GraphKeys.LOSSES)\n",
    "            tf.summary.scalar('weighted_cross_entropy', weighted_cross_entropy)\n",
    "        loss= tf.add(weighted_cross_entropy, penalty, name=scope) # Returns x + y element-wise.    \n",
    "            \n",
    "    return loss, logits"
   ]
  },
  {
   "cell_type": "code",
   "execution_count": 7,
   "metadata": {},
   "outputs": [],
   "source": [
    "global_start_time = time.time()\n",
    "tf.set_random_seed(1234+hvd.rank())\n",
    "np.random.seed(4321+hvd.rank())\n",
    "\n",
    "# create logger with 'aws-tf-cnn'\n",
    "logger = logging.getLogger('nn-real-hvd')\n",
    "logger.setLevel(logging.DEBUG)  # INFO, ERROR\n",
    "# file handler which logs debug messages\n",
    "fh = logging.FileHandler(os.path.join(FLAGS.logdir, 'nn-real-hvd.log'))\n",
    "fh.setLevel(logging.DEBUG)\n",
    "# console handler\n",
    "ch = logging.StreamHandler()\n",
    "ch.setLevel(logging.INFO)\n",
    "# add formatter to the handlers\n",
    "formatter = logging.Formatter('%(asctime)s - %(name)s - %(levelname)s - %(message)s')\n",
    "fh.setFormatter(formatter)\n",
    "ch.setFormatter(formatter)\n",
    "# add handlers to logger\n",
    "logger.addHandler(fh)\n",
    "logger.addHandler(ch)"
   ]
  },
  {
   "cell_type": "code",
   "execution_count": 18,
   "metadata": {},
   "outputs": [
    {
     "name": "stderr",
     "output_type": "stream",
     "text": [
      "2018-10-16 23:05:53,135 - nn-real-hvd - INFO - FTP connection stablished by worker:  0\n",
      "2018-10-16 23:05:53,135 - nn-real-hvd - INFO - FTP connection stablished by worker:  0\n",
      "2018-10-16 23:05:53,351 - nn-real-hvd - INFO - FTP connection closed by worker:  0\n",
      "2018-10-16 23:05:53,351 - nn-real-hvd - INFO - FTP connection closed by worker:  0\n"
     ]
    }
   ],
   "source": [
    "# Download the data if not downloaded yet\n",
    "def download_data(rank, FLAGS):\n",
    "    server = ftplib.FTP()\n",
    "    server.connect(str(os.environ.get(\"FTP_HOST\")), int(os.environ.get(\"FTP_PORT\")))\n",
    "    server.login(os.environ.get(\"FTP_USER\"), os.environ.get(\"FTP_PASS\"))\n",
    "\n",
    "    server.cwd(FLAGS.ftp_dir)               # change into ftp_dir directory\n",
    "    logger.info(\"FTP connection stablished by worker:  {}\".format(rank))\n",
    "    \n",
    "    filenames = server.nlst() # get filenames within the directory\n",
    "    if FLAGS.eval:        \n",
    "        fname_suffix = '_test_%d.h5' % rank\n",
    "        filenames = [elem for elem in filenames if fname_suffix in elem]        \n",
    "    else:\n",
    "        train_suffix = '_train_%d.h5' % rank\n",
    "        valid_suffix = '_valid_%d.h5' % rank\n",
    "        filenames = [elem for elem in filenames if (train_suffix in elem or valid_suffix in elem)]        \n",
    "\n",
    "    for filename in filenames:        \n",
    "        if FLAGS.eval:\n",
    "            local_path = os.path.join(PRO_DIR, FLAGS.test_dir, filename)    \n",
    "        else:\n",
    "            if (str('train') in filename[-10:-5]):\n",
    "                local_path = os.path.join(PRO_DIR, FLAGS.train_dir, filename)    \n",
    "            else:\n",
    "                local_path = os.path.join(PRO_DIR, FLAGS.valid_dir, filename)    \n",
    "                \n",
    "        if not os.path.exists(local_path):            \n",
    "            file = open(local_path, 'wb')\n",
    "            server.retrbinary('RETR '+ filename, file.write, 8*1024)            \n",
    "            file.close()\n",
    "            logger.info(\"file downloaded:  {}\".format(filename))\n",
    "\n",
    "    server.quit() # This is the “polite” way to close a connection\n",
    "    logger.info(\"FTP connection closed by worker:  {}\".format(rank))\n",
    "    \n",
    "\n",
    "download_data(hvd.rank(), FLAGS)"
   ]
  },
  {
   "cell_type": "code",
   "execution_count": 20,
   "metadata": {},
   "outputs": [],
   "source": [
    "def get_num_records(tf_record_pattern):\n",
    "    def count_records(file_name):\n",
    "        count = 0\n",
    "        for _ in tf.python_io.tf_record_iterator(tf_record_filename):\n",
    "            count += 1\n",
    "        return count\n",
    "    filenames = sorted(tf.gfile.Glob(tf_record_pattern))\n",
    "    nfile = len(filenames)\n",
    "    return (count_records(filenames[0])*(nfile-1) +\n",
    "            count_records(filenames[-1]))\n",
    "\n",
    "def get_files_dict(FLAGS):        \n",
    "    ext = \"*.h5\"\n",
    "        \n",
    "    files_dict = {'train': glob.glob(os.path.join(PRO_DIR, FLAGS.train_dir, ext)), \n",
    "                  'valid': glob.glob(os.path.join(PRO_DIR, FLAGS.valid_dir, ext)), \n",
    "                  'test': glob.glob(os.path.join(PRO_DIR, FLAGS.test_dir, ext))}\n",
    "    return files_dict\n",
    "\n",
    "def architecture_settings(files_dict, FLAGS):\n",
    "    architecture = {}\n",
    "    ok_inputs = True\n",
    "    for key in files_dict.keys():\n",
    "        total_records = 0\n",
    "        for file in files_dict[key]:                                \n",
    "            dataset_file = pd.HDFStore(file)                                \n",
    "            if (ok_inputs): \n",
    "                index_length = len(dataset_file.get_storer(key+'/features').attrs.data_columns)\n",
    "                architecture['n_input'] = dataset_file.get_storer(key+ '/features').ncols - index_length\n",
    "                architecture['n_classes'] = dataset_file.get_storer(key+'/labels').ncols - index_length\n",
    "                ok_inputs = False                \n",
    "            total_records += dataset_file.get_storer(key + '/features').nrows\n",
    "        architecture[key + '_num_examples'] = total_records                        \n",
    "    \n",
    "    for hid_i in range(1, FLAGS.n_hidden+1):\n",
    "        architecture['n_hidden_{:1d}'.format(hid_i)] = FLAGS.s_hidden[hid_i-1]\n",
    "    print('rank: ', hvd.rank(), 'architecture', architecture)   \n",
    "    time.sleep(5)\n",
    "    return architecture"
   ]
  },
  {
   "cell_type": "code",
   "execution_count": 21,
   "metadata": {},
   "outputs": [
    {
     "name": "stdout",
     "output_type": "stream",
     "text": [
      "rank:  0 architecture {'n_input': 258, 'n_classes': 7, 'train_num_examples': 40232387, 'valid_num_examples': 4020339, 'test_num_examples': 8635528, 'n_hidden_1': 200, 'n_hidden_2': 140, 'n_hidden_3': 140}\n"
     ]
    }
   ],
   "source": [
    "#To sum up the dataset per worker (assuming the same size of files per worker approximately):\n",
    "files_dict = get_files_dict(FLAGS)\n",
    "architecture = architecture_settings(files_dict, FLAGS)\n",
    "\n",
    "if FLAGS.eval:\n",
    "    nrecord = architecture['test_num_examples']\n",
    "else:\n",
    "    nrecord = architecture['train_num_examples']"
   ]
  },
  {
   "cell_type": "code",
   "execution_count": 22,
   "metadata": {},
   "outputs": [
    {
     "name": "stderr",
     "output_type": "stream",
     "text": [
      "2018-10-16 23:25:02,471 - nn-real-hvd - INFO - Num ranks:  1\n",
      "2018-10-16 23:25:02,471 - nn-real-hvd - INFO - Num ranks:  1\n",
      "2018-10-16 23:25:02,474 - nn-real-hvd - INFO - Num of records: 40232387\n",
      "2018-10-16 23:25:02,474 - nn-real-hvd - INFO - Num of records: 40232387\n",
      "2018-10-16 23:25:02,475 - nn-real-hvd - INFO - Total batch size: 4425\n",
      "2018-10-16 23:25:02,475 - nn-real-hvd - INFO - Total batch size: 4425\n",
      "2018-10-16 23:25:02,476 - nn-real-hvd - INFO - 4425, per device\n",
      "2018-10-16 23:25:02,476 - nn-real-hvd - INFO - 4425, per device\n",
      "2018-10-16 23:25:02,593 - nn-real-hvd - INFO - Data type: <dtype: 'float32'>\n",
      "2018-10-16 23:25:02,593 - nn-real-hvd - INFO - Data type: <dtype: 'float32'>\n",
      "2018-10-16 23:25:02,595 - nn-real-hvd - INFO - architecture: {'n_input': 258, 'n_classes': 7, 'train_num_examples': 40232387, 'valid_num_examples': 4020339, 'test_num_examples': 8635528, 'n_hidden_1': 200, 'n_hidden_2': 140, 'n_hidden_3': 140}\n",
      "2018-10-16 23:25:02,595 - nn-real-hvd - INFO - architecture: {'n_input': 258, 'n_classes': 7, 'train_num_examples': 40232387, 'valid_num_examples': 4020339, 'test_num_examples': 8635528, 'n_hidden_1': 200, 'n_hidden_2': 140, 'n_hidden_3': 140}\n"
     ]
    }
   ],
   "source": [
    "logger.info(\"Num ranks:  {}\".format(hvd.size()))\n",
    "logger.info(\"Num of records: {}\".format(nrecord))\n",
    "logger.info(\"Total batch size: {}\".format(FLAGS.batch_size * hvd.size()))\n",
    "logger.info(\"{}, per device\".format(FLAGS.batch_size))\n",
    "logger.info(\"Data type: {}\".format(DT_FLOAT)) \n",
    "logger.info(\"architecture: {}\".format(architecture)) \n",
    "# time.sleep(5)"
   ]
  },
  {
   "cell_type": "code",
   "execution_count": 23,
   "metadata": {
    "scrolled": true
   },
   "outputs": [
    {
     "name": "stdout",
     "output_type": "stream",
     "text": [
      "dict:  {'path': '/home/ubuntu/MLMortgage/data/processed/chuncks_random_c1millx2_train/c1mill99-01_non_index_train_0.h5', 'nrows': 20809545, 'init_index': 0, 'end_index': 20809545, 'dataset': <class 'pandas.io.pytables.HDFStore'>\n",
      "File path: /home/ubuntu/MLMortgage/data/processed/chuncks_random_c1millx2_train/c1mill99-01_non_index_train_0.h5\n",
      ", 'dataset_features': array([[0.11811024, 0.        , 1.431     , ..., 0.        , 0.        ,\n",
      "        0.        ],\n",
      "       [0.        , 0.        , 1.3775    , ..., 0.        , 0.        ,\n",
      "        0.        ],\n",
      "       [0.        , 0.        , 1.354     , ..., 0.        , 0.        ,\n",
      "        0.        ],\n",
      "       ...,\n",
      "       [0.        , 0.        , 2.125     , ..., 0.        , 0.        ,\n",
      "        0.        ],\n",
      "       [0.        , 0.        , 2.125     , ..., 0.        , 0.        ,\n",
      "        0.        ],\n",
      "       [0.        , 0.        , 2.125     , ..., 0.        , 0.        ,\n",
      "        0.        ]], dtype=float32), 'dataset_labels': array([[0, 0, 0, ..., 1, 0, 0],\n",
      "       [0, 0, 0, ..., 1, 0, 0],\n",
      "       [0, 0, 0, ..., 1, 0, 0],\n",
      "       ...,\n",
      "       [0, 0, 0, ..., 1, 0, 0],\n",
      "       [0, 0, 0, ..., 1, 0, 0],\n",
      "       [0, 0, 0, ..., 1, 0, 0]], dtype=int8)}  total rows:  20809545\n",
      "dict:  {'path': '/home/ubuntu/MLMortgage/data/processed/chuncks_random_c1millx2_train/c1mill_non_index_train_1.h5', 'nrows': 19422842, 'init_index': 20809545, 'end_index': 40232387, 'dataset': <class 'pandas.io.pytables.HDFStore'>\n",
      "File path: /home/ubuntu/MLMortgage/data/processed/chuncks_random_c1millx2_train/c1mill_non_index_train_1.h5\n",
      ", 'dataset_features': array([[0.        , 0.        , 0.4375    , ..., 0.        , 0.        ,\n",
      "        0.        ],\n",
      "       [0.        , 0.        , 0.4375    , ..., 0.        , 0.        ,\n",
      "        0.        ],\n",
      "       [0.        , 0.        , 0.4375    , ..., 0.        , 0.        ,\n",
      "        0.        ],\n",
      "       ...,\n",
      "       [0.        , 0.        , 2.12      , ..., 0.        , 0.        ,\n",
      "        0.        ],\n",
      "       [0.        , 0.        , 2.12      , ..., 0.        , 0.        ,\n",
      "        0.        ],\n",
      "       [0.11811024, 0.        , 2.12      , ..., 0.        , 0.        ,\n",
      "        0.        ]], dtype=float32), 'dataset_labels': array([[0, 0, 0, ..., 1, 0, 0],\n",
      "       [0, 0, 0, ..., 1, 0, 0],\n",
      "       [0, 0, 0, ..., 1, 0, 0],\n",
      "       ...,\n",
      "       [0, 0, 0, ..., 1, 0, 0],\n",
      "       [0, 1, 0, ..., 0, 0, 0],\n",
      "       [0, 0, 0, ..., 1, 0, 0]], dtype=int8)}  total rows:  40232387\n",
      "dataset_features:  (4020339, 258)\n",
      "dict:  {'path': '/home/ubuntu/MLMortgage/data/processed/chuncks_random_c1millx2_valid/c1mill99-01_non_index_valid_0.h5', 'nrows': 4020339, 'init_index': 0, 'end_index': 4020339, 'dataset': <class 'pandas.io.pytables.HDFStore'>\n",
      "File path: /home/ubuntu/MLMortgage/data/processed/chuncks_random_c1millx2_valid/c1mill99-01_non_index_valid_0.h5\n",
      ", 'dataset_features': array([[0.    , 0.    , 1.8445, ..., 0.    , 0.    , 0.    ],\n",
      "       [0.    , 0.    , 1.8535, ..., 0.    , 0.    , 0.    ],\n",
      "       [0.    , 0.    , 1.8585, ..., 0.    , 0.    , 0.    ],\n",
      "       ...,\n",
      "       [0.    , 0.    , 2.125 , ..., 0.    , 0.    , 0.    ],\n",
      "       [0.    , 0.    , 2.125 , ..., 0.    , 0.    , 0.    ],\n",
      "       [0.    , 0.    , 2.125 , ..., 0.    , 0.    , 0.    ]],\n",
      "      dtype=float32), 'dataset_labels': array([[0, 0, 0, ..., 1, 0, 0],\n",
      "       [0, 0, 0, ..., 1, 0, 0],\n",
      "       [0, 0, 0, ..., 1, 0, 0],\n",
      "       ...,\n",
      "       [0, 0, 0, ..., 1, 0, 0],\n",
      "       [0, 0, 0, ..., 1, 0, 0],\n",
      "       [0, 0, 0, ..., 1, 0, 0]], dtype=int8)}  accumulated rows:  4020339\n",
      "dataset_features:  (8635528, 258)\n",
      "dict:  {'path': '/home/ubuntu/MLMortgage/data/processed/chuncks_random_c1millx2_test/c1mill99-01_non_index_test_0.h5', 'nrows': 8635528, 'init_index': 0, 'end_index': 8635528, 'dataset': <class 'pandas.io.pytables.HDFStore'>\n",
      "File path: /home/ubuntu/MLMortgage/data/processed/chuncks_random_c1millx2_test/c1mill99-01_non_index_test_0.h5\n",
      ", 'dataset_features': array([[0.    , 0.    , 1.763 , ..., 0.    , 0.    , 0.    ],\n",
      "       [0.    , 0.    , 1.649 , ..., 0.    , 0.    , 0.    ],\n",
      "       [0.    , 0.    , 1.523 , ..., 0.    , 0.    , 0.    ],\n",
      "       ...,\n",
      "       [0.    , 0.    , 0.875 , ..., 0.    , 0.    , 0.    ],\n",
      "       [0.    , 0.    , 0.875 , ..., 0.    , 0.    , 0.    ],\n",
      "       [0.    , 0.    , 1.1875, ..., 0.    , 0.    , 0.    ]],\n",
      "      dtype=float32), 'dataset_labels': array([[0, 0, 0, ..., 1, 0, 0],\n",
      "       [0, 0, 0, ..., 1, 0, 0],\n",
      "       [0, 0, 0, ..., 1, 0, 0],\n",
      "       ...,\n",
      "       [0, 0, 0, ..., 1, 0, 0],\n",
      "       [0, 0, 0, ..., 1, 0, 0],\n",
      "       [0, 0, 0, ..., 1, 0, 0]], dtype=int8)}  accumulated rows:  8635528\n",
      "Features List:  ['MBA_DAYS_DELINQUENT', 'MBA_DAYS_DELINQUENT_NAN', 'CURRENT_INTEREST_RATE', 'CURRENT_INTEREST_RATE_NAN', 'LOANAGE', 'LOANAGE_NAN', 'CURRENT_BALANCE', 'CURRENT_BALANCE_NAN', 'SCHEDULED_PRINCIPAL', 'SCHEDULED_PRINCIPAL_NAN', 'SCHEDULED_MONTHLY_PANDI', 'SCHEDULED_MONTHLY_PANDI_NAN', 'LLMA2_CURRENT_INTEREST_SPREAD', 'LLMA2_CURRENT_INTEREST_SPREAD_NAN', 'LLMA2_C_IN_LAST_12_MONTHS', 'LLMA2_30_IN_LAST_12_MONTHS', 'LLMA2_60_IN_LAST_12_MONTHS', 'LLMA2_90_IN_LAST_12_MONTHS', 'LLMA2_FC_IN_LAST_12_MONTHS', 'LLMA2_REO_IN_LAST_12_MONTHS', 'LLMA2_0_IN_LAST_12_MONTHS', 'LLMA2_HIST_LAST_12_MONTHS_MIS', 'NUM_MODIF', 'NUM_MODIF_NAN', 'P_RATE_TO_MOD', 'P_RATE_TO_MOD_NAN', 'MOD_RATE', 'MOD_RATE_NAN', 'DIF_RATE', 'DIF_RATE_NAN', 'P_MONTHLY_PAY', 'P_MONTHLY_PAY_NAN', 'MOD_MONTHLY_PAY', 'MOD_MONTHLY_PAY_NAN', 'DIF_MONTHLY_PAY', 'DIF_MONTHLY_PAY_NAN', 'CAPITALIZATION_AMT', 'CAPITALIZATION_AMT_NAN', 'MORTGAGE_RATE', 'MORTGAGE_RATE_NAN', 'FICO_SCORE_ORIGINATION', 'INITIAL_INTEREST_RATE', 'ORIGINAL_LTV', 'ORIGINAL_BALANCE', 'BACKEND_RATIO', 'BACKEND_RATIO_NAN', 'ORIGINAL_TERM', 'ORIGINAL_TERM_NAN', 'SALE_PRICE', 'SALE_PRICE_NAN', 'PREPAY_PENALTY_TERM', 'PREPAY_PENALTY_TERM_NAN', 'NUMBER_OF_UNITS', 'NUMBER_OF_UNITS_NAN', 'MARGIN', 'MARGIN_NAN', 'PERIODIC_RATE_CAP', 'PERIODIC_RATE_CAP_NAN', 'PERIODIC_RATE_FLOOR', 'PERIODIC_RATE_FLOOR_NAN', 'LIFETIME_RATE_CAP', 'LIFETIME_RATE_CAP_NAN', 'LIFETIME_RATE_FLOOR', 'LIFETIME_RATE_FLOOR_NAN', 'RATE_RESET_FREQUENCY', 'RATE_RESET_FREQUENCY_NAN', 'PAY_RESET_FREQUENCY', 'PAY_RESET_FREQUENCY_NAN', 'FIRST_RATE_RESET_PERIOD', 'FIRST_RATE_RESET_PERIOD_NAN', 'LLMA2_PRIME', 'LLMA2_SUBPRIME', 'LLMA2_APPVAL_LT_SALEPRICE', 'LLMA2_ORIG_RATE_SPREAD', 'LLMA2_ORIG_RATE_SPREAD_NAN', 'AGI', 'AGI_NAN', 'UR', 'UR_NAN', 'LLMA2_ORIG_RATE_ORIG_MR_SPREAD', 'LLMA2_ORIG_RATE_ORIG_MR_SPREAD_NAN', 'COUNT_INT_RATE_LESS', 'NUM_PRIME_ZIP', 'NUM_PRIME_ZIP_NAN', 'MBA_DELINQUENCY_STATUS_0', 'MBA_DELINQUENCY_STATUS_3', 'MBA_DELINQUENCY_STATUS_6', 'MBA_DELINQUENCY_STATUS_9', 'MBA_DELINQUENCY_STATUS_C', 'MBA_DELINQUENCY_STATUS_F', 'MBA_DELINQUENCY_STATUS_R', 'BUYDOWN_FLAG_N', 'BUYDOWN_FLAG_U', 'BUYDOWN_FLAG_Y', 'NEGATIVE_AMORTIZATION_FLAG_N', 'NEGATIVE_AMORTIZATION_FLAG_U', 'NEGATIVE_AMORTIZATION_FLAG_Y', 'PREPAY_PENALTY_FLAG_N', 'PREPAY_PENALTY_FLAG_U', 'PREPAY_PENALTY_FLAG_Y', 'OCCUPANCY_TYPE_1', 'OCCUPANCY_TYPE_2', 'OCCUPANCY_TYPE_3', 'OCCUPANCY_TYPE_U', 'PRODUCT_TYPE_10', 'PRODUCT_TYPE_20', 'PRODUCT_TYPE_30', 'PRODUCT_TYPE_40', 'PRODUCT_TYPE_50', 'PRODUCT_TYPE_51', 'PRODUCT_TYPE_52', 'PRODUCT_TYPE_53', 'PRODUCT_TYPE_54', 'PRODUCT_TYPE_5A', 'PRODUCT_TYPE_5Z', 'PRODUCT_TYPE_60', 'PRODUCT_TYPE_61', 'PRODUCT_TYPE_62', 'PRODUCT_TYPE_63', 'PRODUCT_TYPE_6Z', 'PRODUCT_TYPE_70', 'PRODUCT_TYPE_80', 'PRODUCT_TYPE_81', 'PRODUCT_TYPE_82', 'PRODUCT_TYPE_83', 'PRODUCT_TYPE_84', 'PRODUCT_TYPE_8Z', 'PRODUCT_TYPE_U', 'PROPERTY_TYPE_1', 'PROPERTY_TYPE_2', 'PROPERTY_TYPE_3', 'PROPERTY_TYPE_4', 'PROPERTY_TYPE_5', 'PROPERTY_TYPE_6', 'PROPERTY_TYPE_7', 'PROPERTY_TYPE_8', 'PROPERTY_TYPE_9', 'PROPERTY_TYPE_M', 'PROPERTY_TYPE_U', 'PROPERTY_TYPE_Z', 'LOAN_PURPOSE_CATEGORY_P', 'LOAN_PURPOSE_CATEGORY_R', 'LOAN_PURPOSE_CATEGORY_U', 'DOCUMENTATION_TYPE_1', 'DOCUMENTATION_TYPE_2', 'DOCUMENTATION_TYPE_3', 'DOCUMENTATION_TYPE_U', 'CHANNEL_1', 'CHANNEL_2', 'CHANNEL_3', 'CHANNEL_4', 'CHANNEL_5', 'CHANNEL_6', 'CHANNEL_7', 'CHANNEL_8', 'CHANNEL_9', 'CHANNEL_A', 'CHANNEL_B', 'CHANNEL_C', 'CHANNEL_D', 'CHANNEL_U', 'LOAN_TYPE_1', 'LOAN_TYPE_2', 'LOAN_TYPE_3', 'LOAN_TYPE_4', 'LOAN_TYPE_5', 'LOAN_TYPE_6', 'LOAN_TYPE_U', 'IO_FLAG_N', 'IO_FLAG_U', 'IO_FLAG_Y', 'CONVERTIBLE_FLAG_N', 'CONVERTIBLE_FLAG_U', 'CONVERTIBLE_FLAG_Y', 'POOL_INSURANCE_FLAG_N', 'POOL_INSURANCE_FLAG_U', 'POOL_INSURANCE_FLAG_Y', 'STATE_AK', 'STATE_AL', 'STATE_AR', 'STATE_AZ', 'STATE_CA', 'STATE_CO', 'STATE_CT', 'STATE_DC', 'STATE_DE', 'STATE_FL', 'STATE_GA', 'STATE_HI', 'STATE_IA', 'STATE_ID', 'STATE_IL', 'STATE_IN', 'STATE_KS', 'STATE_KY', 'STATE_LA', 'STATE_MA', 'STATE_MD', 'STATE_ME', 'STATE_MI', 'STATE_MN', 'STATE_MO', 'STATE_MS', 'STATE_MT', 'STATE_NC', 'STATE_ND', 'STATE_NE', 'STATE_NH', 'STATE_NJ', 'STATE_NM', 'STATE_NV', 'STATE_NY', 'STATE_OH', 'STATE_OK', 'STATE_OR', 'STATE_PA', 'STATE_PR', 'STATE_RI', 'STATE_SC', 'STATE_SD', 'STATE_TN', 'STATE_TX', 'STATE_UT', 'STATE_VA', 'STATE_VT', 'STATE_WA', 'STATE_WI', 'STATE_WV', 'STATE_WY', 'CURRENT_INVESTOR_CODE_240', 'CURRENT_INVESTOR_CODE_250', 'CURRENT_INVESTOR_CODE_253', 'CURRENT_INVESTOR_CODE_U', 'ORIGINATION_YEAR_B1995', 'ORIGINATION_YEAR_1995', 'ORIGINATION_YEAR_1996', 'ORIGINATION_YEAR_1997', 'ORIGINATION_YEAR_1998', 'ORIGINATION_YEAR_1999', 'ORIGINATION_YEAR_2000', 'ORIGINATION_YEAR_2001', 'ORIGINATION_YEAR_2002', 'ORIGINATION_YEAR_2003', 'ORIGINATION_YEAR_2004', 'ORIGINATION_YEAR_2005', 'ORIGINATION_YEAR_2006', 'ORIGINATION_YEAR_2007', 'ORIGINATION_YEAR_2008', 'ORIGINATION_YEAR_2009', 'ORIGINATION_YEAR_2010', 'ORIGINATION_YEAR_2011', 'ORIGINATION_YEAR_2012', 'ORIGINATION_YEAR_2013', 'ORIGINATION_YEAR_2014', 'ORIGINATION_YEAR_2015', 'ORIGINATION_YEAR_2016', 'ORIGINATION_YEAR_2017', 'ORIGINATION_YEAR_2018']\n",
      "Labels List:  ['DELINQUENCY_STATUS_NEXT_0', 'DELINQUENCY_STATUS_NEXT_3', 'DELINQUENCY_STATUS_NEXT_6', 'DELINQUENCY_STATUS_NEXT_9', 'DELINQUENCY_STATUS_NEXT_C', 'DELINQUENCY_STATUS_NEXT_F', 'DELINQUENCY_STATUS_NEXT_R']\n"
     ]
    }
   ],
   "source": [
    "DATA = md.get_h5_data(PRO_DIR, FLAGS.train_dir, FLAGS.valid_dir, FLAGS.test_dir, train_period=FLAGS.train_period, valid_period=FLAGS.valid_period, test_period=FLAGS.test_period) \n",
    "print('Features List: ', DATA.train.features_list)\n",
    "print('Labels List: ', DATA.train.labels_list)"
   ]
  },
  {
   "cell_type": "code",
   "execution_count": 47,
   "metadata": {},
   "outputs": [
    {
     "data": {
      "text/plain": [
       "{1: {'path': '/home/ubuntu/MLMortgage/data/processed/chuncks_random_c1millx2_train/c1mill_non_index_train_1.h5',\n",
       "  'nrows': 19422842,\n",
       "  'init_index': 20809545,\n",
       "  'end_index': 40232387,\n",
       "  'dataset': <class 'pandas.io.pytables.HDFStore'>\n",
       "  File path: /home/ubuntu/MLMortgage/data/processed/chuncks_random_c1millx2_train/c1mill_non_index_train_1.h5,\n",
       "  'dataset_features': array([[0.        , 0.        , 0.4375    , ..., 0.        , 0.        ,\n",
       "          0.        ],\n",
       "         [0.        , 0.        , 0.4375    , ..., 0.        , 0.        ,\n",
       "          0.        ],\n",
       "         [0.        , 0.        , 0.4375    , ..., 0.        , 0.        ,\n",
       "          0.        ],\n",
       "         ...,\n",
       "         [0.        , 0.        , 2.12      , ..., 0.        , 0.        ,\n",
       "          0.        ],\n",
       "         [0.        , 0.        , 2.12      , ..., 0.        , 0.        ,\n",
       "          0.        ],\n",
       "         [0.11811024, 0.        , 2.12      , ..., 0.        , 0.        ,\n",
       "          0.        ]], dtype=float32),\n",
       "  'dataset_labels': array([[0, 0, 0, ..., 1, 0, 0],\n",
       "         [0, 0, 0, ..., 1, 0, 0],\n",
       "         [0, 0, 0, ..., 1, 0, 0],\n",
       "         ...,\n",
       "         [0, 0, 0, ..., 1, 0, 0],\n",
       "         [0, 1, 0, ..., 0, 0, 0],\n",
       "         [0, 0, 0, ..., 1, 0, 0]], dtype=int8)}}"
      ]
     },
     "execution_count": 47,
     "metadata": {},
     "output_type": "execute_result"
    }
   ],
   "source": [
    "DATA.train._dict"
   ]
  },
  {
   "cell_type": "code",
   "execution_count": 27,
   "metadata": {},
   "outputs": [
    {
     "name": "stdout",
     "output_type": "stream",
     "text": [
      "136380\n"
     ]
    }
   ],
   "source": [
    "nstep = 0\n",
    "if FLAGS.epoch_num is not None:\n",
    "    if (nrecord <= 0):\n",
    "        logger.error(\"num_epochs requires data_dir to be specified\")\n",
    "        raise ValueError(\"num_epochs requires data_dir to be specified\")\n",
    "    nstep = nrecord * FLAGS.epoch_num //  FLAGS.batch_size # if it is kwnow the total size: (FLAGS.batch_size * hvd.size())\n",
    "print(nstep)"
   ]
  },
  {
   "cell_type": "code",
   "execution_count": 31,
   "metadata": {},
   "outputs": [
    {
     "name": "stdout",
     "output_type": "stream",
     "text": [
      "Training features - Sample [[0.11811024 0.         1.431      ... 0.         0.         0.        ]\n",
      " [0.         0.         1.3775     ... 0.         0.         0.        ]\n",
      " [0.         0.         1.354      ... 0.         0.         0.        ]\n",
      " ...\n",
      " [0.         0.         1.345      ... 0.         0.         0.        ]\n",
      " [0.         0.         1.345      ... 0.         0.         0.        ]\n",
      " [0.         0.         1.345      ... 0.         0.         0.        ]]\n"
     ]
    }
   ],
   "source": [
    "print('Training features - Sample', DATA.train._dict[0]['dataset_features'][0:100]) #you can increase the sampling number of records "
   ]
  },
  {
   "cell_type": "code",
   "execution_count": 35,
   "metadata": {},
   "outputs": [
    {
     "name": "stderr",
     "output_type": "stream",
     "text": [
      "2018-10-16 23:44:32,333 - nn-real-hvd - INFO - METRICS:  Namespace(allow_summaries=True, batch_layer_type='batch', batch_norm=True, batch_size=4425, batch_type='layer', data_dir='/input_data', decay_rate=1, decay_step=800, display_every=1, dropout=True, dropout_keep=0.9, epoch_flag=0, epoch_num=15, eval=False, ftp_dir='processed/c1mill_99-01', learning_rate=0.1, log_file=None, logdir=PosixPath('/home/ubuntu/real_summaries4425-15ep_test'), loss_tolerance=0.0001, lr_decay_epochs=30, lr_decay_policy='time', lr_decay_rate=0.1, lr_poly_power=2.0, max_epoch_size=-1, momentum=0.5, n_hidden=3, name='batch_layer_type', nstep_burnin=20, rate_min=0.0015, reg_rate=1e-05, s_hidden=[200, 140, 140], save_interval=43200, stratified_flag=False, summary_interval=3600, test_batch_size=100000, test_dir='chuncks_random_c1millx2_test', test_flag=True, test_period=[286, 304], train_dir='chuncks_random_c1millx2_train', train_period=[121, 279], valid_batch_size=100000, valid_dir='chuncks_random_c1millx2_valid', valid_period=[280, 285], weighted_sampling=False, xla=True)\n",
      "\n",
      "2018-10-16 23:44:32,333 - nn-real-hvd - INFO - METRICS:  Namespace(allow_summaries=True, batch_layer_type='batch', batch_norm=True, batch_size=4425, batch_type='layer', data_dir='/input_data', decay_rate=1, decay_step=800, display_every=1, dropout=True, dropout_keep=0.9, epoch_flag=0, epoch_num=15, eval=False, ftp_dir='processed/c1mill_99-01', learning_rate=0.1, log_file=None, logdir=PosixPath('/home/ubuntu/real_summaries4425-15ep_test'), loss_tolerance=0.0001, lr_decay_epochs=30, lr_decay_policy='time', lr_decay_rate=0.1, lr_poly_power=2.0, max_epoch_size=-1, momentum=0.5, n_hidden=3, name='batch_layer_type', nstep_burnin=20, rate_min=0.0015, reg_rate=1e-05, s_hidden=[200, 140, 140], save_interval=43200, stratified_flag=False, summary_interval=3600, test_batch_size=100000, test_dir='chuncks_random_c1millx2_test', test_flag=True, test_period=[286, 304], train_dir='chuncks_random_c1millx2_train', train_period=[121, 279], valid_batch_size=100000, valid_dir='chuncks_random_c1millx2_valid', valid_period=[280, 285], weighted_sampling=False, xla=True)\n",
      "\n",
      "2018-10-16 23:44:32,337 - nn-real-hvd - INFO - training files:  {0: {'path': '/home/ubuntu/MLMortgage/data/processed/chuncks_random_c1millx2_train/c1mill99-01_non_index_train_0.h5', 'nrows': 20809545, 'init_index': 0, 'end_index': 20809545, 'dataset': <class 'pandas.io.pytables.HDFStore'>\n",
      "File path: /home/ubuntu/MLMortgage/data/processed/chuncks_random_c1millx2_train/c1mill99-01_non_index_train_0.h5\n",
      ", 'dataset_features': array([[0.11811024, 0.        , 1.431     , ..., 0.        , 0.        ,\n",
      "        0.        ],\n",
      "       [0.        , 0.        , 1.3775    , ..., 0.        , 0.        ,\n",
      "        0.        ],\n",
      "       [0.        , 0.        , 1.354     , ..., 0.        , 0.        ,\n",
      "        0.        ],\n",
      "       ...,\n",
      "       [0.        , 0.        , 2.125     , ..., 0.        , 0.        ,\n",
      "        0.        ],\n",
      "       [0.        , 0.        , 2.125     , ..., 0.        , 0.        ,\n",
      "        0.        ],\n",
      "       [0.        , 0.        , 2.125     , ..., 0.        , 0.        ,\n",
      "        0.        ]], dtype=float32), 'dataset_labels': array([[0, 0, 0, ..., 1, 0, 0],\n",
      "       [0, 0, 0, ..., 1, 0, 0],\n",
      "       [0, 0, 0, ..., 1, 0, 0],\n",
      "       ...,\n",
      "       [0, 0, 0, ..., 1, 0, 0],\n",
      "       [0, 0, 0, ..., 1, 0, 0],\n",
      "       [0, 0, 0, ..., 1, 0, 0]], dtype=int8)}, 1: {'path': '/home/ubuntu/MLMortgage/data/processed/chuncks_random_c1millx2_train/c1mill_non_index_train_1.h5', 'nrows': 19422842, 'init_index': 20809545, 'end_index': 40232387, 'dataset': <class 'pandas.io.pytables.HDFStore'>\n",
      "File path: /home/ubuntu/MLMortgage/data/processed/chuncks_random_c1millx2_train/c1mill_non_index_train_1.h5\n",
      ", 'dataset_features': array([[0.        , 0.        , 0.4375    , ..., 0.        , 0.        ,\n",
      "        0.        ],\n",
      "       [0.        , 0.        , 0.4375    , ..., 0.        , 0.        ,\n",
      "        0.        ],\n",
      "       [0.        , 0.        , 0.4375    , ..., 0.        , 0.        ,\n",
      "        0.        ],\n",
      "       ...,\n",
      "       [0.        , 0.        , 2.12      , ..., 0.        , 0.        ,\n",
      "        0.        ],\n",
      "       [0.        , 0.        , 2.12      , ..., 0.        , 0.        ,\n",
      "        0.        ],\n",
      "       [0.11811024, 0.        , 2.12      , ..., 0.        , 0.        ,\n",
      "        0.        ]], dtype=float32), 'dataset_labels': array([[0, 0, 0, ..., 1, 0, 0],\n",
      "       [0, 0, 0, ..., 1, 0, 0],\n",
      "       [0, 0, 0, ..., 1, 0, 0],\n",
      "       ...,\n",
      "       [0, 0, 0, ..., 1, 0, 0],\n",
      "       [0, 1, 0, ..., 0, 0, 0],\n",
      "       [0, 0, 0, ..., 1, 0, 0]], dtype=int8)}}\n",
      "\n",
      "2018-10-16 23:44:32,337 - nn-real-hvd - INFO - training files:  {0: {'path': '/home/ubuntu/MLMortgage/data/processed/chuncks_random_c1millx2_train/c1mill99-01_non_index_train_0.h5', 'nrows': 20809545, 'init_index': 0, 'end_index': 20809545, 'dataset': <class 'pandas.io.pytables.HDFStore'>\n",
      "File path: /home/ubuntu/MLMortgage/data/processed/chuncks_random_c1millx2_train/c1mill99-01_non_index_train_0.h5\n",
      ", 'dataset_features': array([[0.11811024, 0.        , 1.431     , ..., 0.        , 0.        ,\n",
      "        0.        ],\n",
      "       [0.        , 0.        , 1.3775    , ..., 0.        , 0.        ,\n",
      "        0.        ],\n",
      "       [0.        , 0.        , 1.354     , ..., 0.        , 0.        ,\n",
      "        0.        ],\n",
      "       ...,\n",
      "       [0.        , 0.        , 2.125     , ..., 0.        , 0.        ,\n",
      "        0.        ],\n",
      "       [0.        , 0.        , 2.125     , ..., 0.        , 0.        ,\n",
      "        0.        ],\n",
      "       [0.        , 0.        , 2.125     , ..., 0.        , 0.        ,\n",
      "        0.        ]], dtype=float32), 'dataset_labels': array([[0, 0, 0, ..., 1, 0, 0],\n",
      "       [0, 0, 0, ..., 1, 0, 0],\n",
      "       [0, 0, 0, ..., 1, 0, 0],\n",
      "       ...,\n",
      "       [0, 0, 0, ..., 1, 0, 0],\n",
      "       [0, 0, 0, ..., 1, 0, 0],\n",
      "       [0, 0, 0, ..., 1, 0, 0]], dtype=int8)}, 1: {'path': '/home/ubuntu/MLMortgage/data/processed/chuncks_random_c1millx2_train/c1mill_non_index_train_1.h5', 'nrows': 19422842, 'init_index': 20809545, 'end_index': 40232387, 'dataset': <class 'pandas.io.pytables.HDFStore'>\n",
      "File path: /home/ubuntu/MLMortgage/data/processed/chuncks_random_c1millx2_train/c1mill_non_index_train_1.h5\n",
      ", 'dataset_features': array([[0.        , 0.        , 0.4375    , ..., 0.        , 0.        ,\n",
      "        0.        ],\n",
      "       [0.        , 0.        , 0.4375    , ..., 0.        , 0.        ,\n",
      "        0.        ],\n",
      "       [0.        , 0.        , 0.4375    , ..., 0.        , 0.        ,\n",
      "        0.        ],\n",
      "       ...,\n",
      "       [0.        , 0.        , 2.12      , ..., 0.        , 0.        ,\n",
      "        0.        ],\n",
      "       [0.        , 0.        , 2.12      , ..., 0.        , 0.        ,\n",
      "        0.        ],\n",
      "       [0.11811024, 0.        , 2.12      , ..., 0.        , 0.        ,\n",
      "        0.        ]], dtype=float32), 'dataset_labels': array([[0, 0, 0, ..., 1, 0, 0],\n",
      "       [0, 0, 0, ..., 1, 0, 0],\n",
      "       [0, 0, 0, ..., 1, 0, 0],\n",
      "       ...,\n",
      "       [0, 0, 0, ..., 1, 0, 0],\n",
      "       [0, 1, 0, ..., 0, 0, 0],\n",
      "       [0, 0, 0, ..., 1, 0, 0]], dtype=int8)}}\n",
      "\n",
      "2018-10-16 23:44:32,340 - nn-real-hvd - INFO - validation files:  {0: {'path': '/home/ubuntu/MLMortgage/data/processed/chuncks_random_c1millx2_valid/c1mill99-01_non_index_valid_0.h5', 'nrows': 4020339, 'init_index': 0, 'end_index': 4020339, 'dataset': <class 'pandas.io.pytables.HDFStore'>\n",
      "File path: /home/ubuntu/MLMortgage/data/processed/chuncks_random_c1millx2_valid/c1mill99-01_non_index_valid_0.h5\n",
      ", 'dataset_features': array([[0.    , 0.    , 1.8445, ..., 0.    , 0.    , 0.    ],\n",
      "       [0.    , 0.    , 1.8535, ..., 0.    , 0.    , 0.    ],\n",
      "       [0.    , 0.    , 1.8585, ..., 0.    , 0.    , 0.    ],\n",
      "       ...,\n",
      "       [0.    , 0.    , 2.125 , ..., 0.    , 0.    , 0.    ],\n",
      "       [0.    , 0.    , 2.125 , ..., 0.    , 0.    , 0.    ],\n",
      "       [0.    , 0.    , 2.125 , ..., 0.    , 0.    , 0.    ]],\n",
      "      dtype=float32), 'dataset_labels': array([[0, 0, 0, ..., 1, 0, 0],\n",
      "       [0, 0, 0, ..., 1, 0, 0],\n",
      "       [0, 0, 0, ..., 1, 0, 0],\n",
      "       ...,\n",
      "       [0, 0, 0, ..., 1, 0, 0],\n",
      "       [0, 0, 0, ..., 1, 0, 0],\n",
      "       [0, 0, 0, ..., 1, 0, 0]], dtype=int8)}}\n",
      "\n",
      "2018-10-16 23:44:32,340 - nn-real-hvd - INFO - validation files:  {0: {'path': '/home/ubuntu/MLMortgage/data/processed/chuncks_random_c1millx2_valid/c1mill99-01_non_index_valid_0.h5', 'nrows': 4020339, 'init_index': 0, 'end_index': 4020339, 'dataset': <class 'pandas.io.pytables.HDFStore'>\n",
      "File path: /home/ubuntu/MLMortgage/data/processed/chuncks_random_c1millx2_valid/c1mill99-01_non_index_valid_0.h5\n",
      ", 'dataset_features': array([[0.    , 0.    , 1.8445, ..., 0.    , 0.    , 0.    ],\n",
      "       [0.    , 0.    , 1.8535, ..., 0.    , 0.    , 0.    ],\n",
      "       [0.    , 0.    , 1.8585, ..., 0.    , 0.    , 0.    ],\n",
      "       ...,\n",
      "       [0.    , 0.    , 2.125 , ..., 0.    , 0.    , 0.    ],\n",
      "       [0.    , 0.    , 2.125 , ..., 0.    , 0.    , 0.    ],\n",
      "       [0.    , 0.    , 2.125 , ..., 0.    , 0.    , 0.    ]],\n",
      "      dtype=float32), 'dataset_labels': array([[0, 0, 0, ..., 1, 0, 0],\n",
      "       [0, 0, 0, ..., 1, 0, 0],\n",
      "       [0, 0, 0, ..., 1, 0, 0],\n",
      "       ...,\n",
      "       [0, 0, 0, ..., 1, 0, 0],\n",
      "       [0, 0, 0, ..., 1, 0, 0],\n",
      "       [0, 0, 0, ..., 1, 0, 0]], dtype=int8)}}\n",
      "\n"
     ]
    },
    {
     "name": "stderr",
     "output_type": "stream",
     "text": [
      "2018-10-16 23:44:32,343 - nn-real-hvd - INFO - testing files:  {0: {'path': '/home/ubuntu/MLMortgage/data/processed/chuncks_random_c1millx2_test/c1mill99-01_non_index_test_0.h5', 'nrows': 8635528, 'init_index': 0, 'end_index': 8635528, 'dataset': <class 'pandas.io.pytables.HDFStore'>\n",
      "File path: /home/ubuntu/MLMortgage/data/processed/chuncks_random_c1millx2_test/c1mill99-01_non_index_test_0.h5\n",
      ", 'dataset_features': array([[0.    , 0.    , 1.763 , ..., 0.    , 0.    , 0.    ],\n",
      "       [0.    , 0.    , 1.649 , ..., 0.    , 0.    , 0.    ],\n",
      "       [0.    , 0.    , 1.523 , ..., 0.    , 0.    , 0.    ],\n",
      "       ...,\n",
      "       [0.    , 0.    , 0.875 , ..., 0.    , 0.    , 0.    ],\n",
      "       [0.    , 0.    , 0.875 , ..., 0.    , 0.    , 0.    ],\n",
      "       [0.    , 0.    , 1.1875, ..., 0.    , 0.    , 0.    ]],\n",
      "      dtype=float32), 'dataset_labels': array([[0, 0, 0, ..., 1, 0, 0],\n",
      "       [0, 0, 0, ..., 1, 0, 0],\n",
      "       [0, 0, 0, ..., 1, 0, 0],\n",
      "       ...,\n",
      "       [0, 0, 0, ..., 1, 0, 0],\n",
      "       [0, 0, 0, ..., 1, 0, 0],\n",
      "       [0, 0, 0, ..., 1, 0, 0]], dtype=int8)}}\n",
      "\n",
      "2018-10-16 23:44:32,343 - nn-real-hvd - INFO - testing files:  {0: {'path': '/home/ubuntu/MLMortgage/data/processed/chuncks_random_c1millx2_test/c1mill99-01_non_index_test_0.h5', 'nrows': 8635528, 'init_index': 0, 'end_index': 8635528, 'dataset': <class 'pandas.io.pytables.HDFStore'>\n",
      "File path: /home/ubuntu/MLMortgage/data/processed/chuncks_random_c1millx2_test/c1mill99-01_non_index_test_0.h5\n",
      ", 'dataset_features': array([[0.    , 0.    , 1.763 , ..., 0.    , 0.    , 0.    ],\n",
      "       [0.    , 0.    , 1.649 , ..., 0.    , 0.    , 0.    ],\n",
      "       [0.    , 0.    , 1.523 , ..., 0.    , 0.    , 0.    ],\n",
      "       ...,\n",
      "       [0.    , 0.    , 0.875 , ..., 0.    , 0.    , 0.    ],\n",
      "       [0.    , 0.    , 0.875 , ..., 0.    , 0.    , 0.    ],\n",
      "       [0.    , 0.    , 1.1875, ..., 0.    , 0.    , 0.    ]],\n",
      "      dtype=float32), 'dataset_labels': array([[0, 0, 0, ..., 1, 0, 0],\n",
      "       [0, 0, 0, ..., 1, 0, 0],\n",
      "       [0, 0, 0, ..., 1, 0, 0],\n",
      "       ...,\n",
      "       [0, 0, 0, ..., 1, 0, 0],\n",
      "       [0, 0, 0, ..., 1, 0, 0],\n",
      "       [0, 0, 0, ..., 1, 0, 0]], dtype=int8)}}\n",
      "\n"
     ]
    }
   ],
   "source": [
    "logger.info('METRICS:  %s\\r\\n' % str(FLAGS))\n",
    "logger.info('training files:  %s\\r\\n' % str(DATA.train._dict))\n",
    "logger.info('validation files:  %s\\r\\n' % str(DATA.validation._dict))\n",
    "logger.info('testing files:  %s\\r\\n' % str(DATA.test._dict))        "
   ]
  },
  {
   "cell_type": "code",
   "execution_count": 36,
   "metadata": {},
   "outputs": [
    {
     "name": "stderr",
     "output_type": "stream",
     "text": [
      "2018-10-16 23:44:52,149 - nn-real-hvd - INFO - Building training graph\n",
      "2018-10-16 23:44:52,149 - nn-real-hvd - INFO - Building training graph\n"
     ]
    },
    {
     "name": "stdout",
     "output_type": "stream",
     "text": [
      "WARNING:tensorflow:From /home/ubuntu/anaconda3/envs/tensorflow_p36/lib/python3.6/site-packages/tensorflow/contrib/metrics/python/ops/histogram_ops.py:83: remove_squeezable_dimensions (from tensorflow.contrib.framework.python.framework.tensor_util) is deprecated and will be removed in a future version.\n",
      "Instructions for updating:\n",
      "Please switch to remove_squeezable_dimensions from tf.confusion_matrix. Note that the order of the inputs and outputs of labels and predictions have also been switched.\n"
     ]
    },
    {
     "name": "stderr",
     "output_type": "stream",
     "text": [
      "2018-10-16 23:45:07,665 - tensorflow - WARNING - From /home/ubuntu/anaconda3/envs/tensorflow_p36/lib/python3.6/site-packages/tensorflow/contrib/metrics/python/ops/histogram_ops.py:83: remove_squeezable_dimensions (from tensorflow.contrib.framework.python.framework.tensor_util) is deprecated and will be removed in a future version.\n",
      "Instructions for updating:\n",
      "Please switch to remove_squeezable_dimensions from tf.confusion_matrix. Note that the order of the inputs and outputs of labels and predictions have also been switched.\n",
      "2018-10-16 23:45:20,880 - nn-real-hvd - INFO - Creating session\n",
      "2018-10-16 23:45:20,880 - nn-real-hvd - INFO - Creating session\n"
     ]
    }
   ],
   "source": [
    "if FLAGS.eval:\n",
    "    if FLAGS.test_dir is None:\n",
    "        logger.error(\"eval requires data_dir to be specified\")\n",
    "        raise ValueError(\"eval requires data_dir to be specified\")\n",
    "    if hvd.size() > 1:\n",
    "        logger.error(\"Multi-GPU evaluation is not supported\")\n",
    "        raise ValueError(\"Multi-GPU evaluation is not supported\")\n",
    "    #evaluator = FeedForwardEvaluator(preprocessor, eval_func)\n",
    "    #logger.info(\"Building evaluation graph\")\n",
    "    #top1_op, top5_op, enqueue_ops = evaluator.evaluation_step(batch_size)\n",
    "else:\n",
    "    nstep_per_epoch = nrecord // (FLAGS.batch_size * hvd.size())\n",
    "    # model_func = lambda features, labels, architecture, FLAGS: loss_func(features, labels, architecture, FLAGS) # inference_vgg(net, images, nlayer)\n",
    "    trainer = FeedForwardTrainer(loss_func, nstep_per_epoch=nstep_per_epoch)\n",
    "    logger.info(\"Building training graph\")\n",
    "    total_loss, learning_rate, train_ops = trainer.training_step(architecture, FLAGS)\n",
    "\n",
    "logger.info(\"Creating session\")\n",
    "config = tf.ConfigProto(allow_soft_placement = True)\n",
    "config.intra_op_parallelism_threads = 1\n",
    "config.inter_op_parallelism_threads = 10\n",
    "config.gpu_options.force_gpu_compatible = True\n",
    "config.gpu_options.visible_device_list = str(hvd.local_rank())"
   ]
  },
  {
   "cell_type": "code",
   "execution_count": 37,
   "metadata": {},
   "outputs": [
    {
     "name": "stdout",
     "output_type": "stream",
     "text": [
      "<__main__.FeedForwardTrainer object at 0x7f0d90876518>\n"
     ]
    }
   ],
   "source": [
    "print(trainer)"
   ]
  },
  {
   "cell_type": "code",
   "execution_count": 38,
   "metadata": {},
   "outputs": [
    {
     "name": "stderr",
     "output_type": "stream",
     "text": [
      "2018-10-16 23:50:58,233 - nn-real-hvd - INFO - Initializing variables\n",
      "2018-10-16 23:50:58,233 - nn-real-hvd - INFO - Initializing variables\n"
     ]
    },
    {
     "name": "stdout",
     "output_type": "stream",
     "text": [
      "INFO:tensorflow:Restoring parameters from /home/ubuntu/real_summaries4425-15ep_test/checkpoint-0\n"
     ]
    },
    {
     "name": "stderr",
     "output_type": "stream",
     "text": [
      "2018-10-16 23:50:59,857 - tensorflow - INFO - Restoring parameters from /home/ubuntu/real_summaries4425-15ep_test/checkpoint-0\n",
      "2018-10-16 23:51:00,101 - nn-real-hvd - INFO - Restored session from checkpoint /home/ubuntu/real_summaries4425-15ep_test/checkpoint-0\n",
      "2018-10-16 23:51:00,101 - nn-real-hvd - INFO - Restored session from checkpoint /home/ubuntu/real_summaries4425-15ep_test/checkpoint-0\n"
     ]
    }
   ],
   "source": [
    "sess = tf.Session(config=config)\n",
    "global_init, local_init = trainer.init()\n",
    "\n",
    "train_writer = None\n",
    "saver = None\n",
    "summary_ops = None\n",
    "if hvd.rank() == 0 and FLAGS.logdir is not None:\n",
    "    train_writer = tf.summary.FileWriter(os.path.join(FLAGS.logdir), sess.graph)\n",
    "    summary_ops = tf.summary.merge_all()\n",
    "    last_summary_time = time.time()\n",
    "    saver = tf.train.Saver(keep_checkpoint_every_n_hours=3)\n",
    "    last_save_time = time.time()\n",
    "\n",
    "if not FLAGS.eval:\n",
    "    logger.info(\"Initializing variables\")    \n",
    "    sess.run([global_init, local_init])\n",
    "\n",
    "restored = False\n",
    "if hvd.rank() == 0 and saver is not None:\n",
    "    ckpt = tf.train.get_checkpoint_state(FLAGS.logdir)\n",
    "    checkpoint_file = os.path.join(FLAGS.logdir, \"checkpoint\")\n",
    "    if ckpt and ckpt.model_checkpoint_path:\n",
    "        saver.restore(sess, ckpt.model_checkpoint_path)\n",
    "        restored = True\n",
    "        logger.info(\"Restored session from checkpoint {}\".format(ckpt.model_checkpoint_path))\n",
    "    else:\n",
    "        if not os.path.exists(FLAGS.logdir):\n",
    "            os.mkdir(FLAGS.logdir)"
   ]
  },
  {
   "cell_type": "code",
   "execution_count": 39,
   "metadata": {},
   "outputs": [],
   "source": [
    "# It is lefting:\n",
    "if FLAGS.eval:\n",
    "    if not restored:\n",
    "        logger.error(\"No checkpoint found for evaluation\")\n",
    "        raise ValueError(\"No checkpoint found for evaluation\")\n",
    "    else:\n",
    "        logger.info(\"Pre-filling input pipeline\")        \n",
    "        nstep = nrecord // batch_size #??\n",
    "        run_evaluation(nstep, sess, top1_op, top5_op, enqueue_ops)\n",
    "        sys.exit(0)"
   ]
  },
  {
   "cell_type": "code",
   "execution_count": 22,
   "metadata": {},
   "outputs": [],
   "source": [
    "trainer.sync(sess)"
   ]
  },
  {
   "cell_type": "code",
   "execution_count": 40,
   "metadata": {},
   "outputs": [
    {
     "name": "stderr",
     "output_type": "stream",
     "text": [
      "2018-10-16 23:53:11,948 - nn-real-hvd - INFO - Writing summaries to /home/ubuntu/real_summaries4425-15ep_test\n",
      "2018-10-16 23:53:11,948 - nn-real-hvd - INFO - Writing summaries to /home/ubuntu/real_summaries4425-15ep_test\n",
      "2018-10-16 23:53:11,950 - nn-real-hvd - INFO - Training\n",
      "2018-10-16 23:53:11,950 - nn-real-hvd - INFO - Training\n",
      "2018-10-16 23:53:11,952 - nn-real-hvd - INFO -   Step Epoch record/sec  batchtime/worker  Loss   LR\n",
      "2018-10-16 23:53:11,952 - nn-real-hvd - INFO -   Step Epoch record/sec  batchtime/worker  Loss   LR\n"
     ]
    }
   ],
   "source": [
    "# for training:\n",
    "if hvd.rank() == 0 and not restored:\n",
    "    if saver is not None:\n",
    "        save_path = saver.save(sess, checkpoint_file, global_step=0)\n",
    "        print(\"Checkpoint written to\", save_path)\n",
    "\n",
    "logger.info(\"Writing summaries to {}\".format(FLAGS.logdir))\n",
    "logger.info(\"Training\")\n",
    "logger.info(\"  Step Epoch record/sec  batchtime/worker  Loss   LR\")\n",
    "batch_times = []\n",
    "oom = False\n",
    "# step0 = int(sess.run(trainer.global_step))\n"
   ]
  },
  {
   "cell_type": "code",
   "execution_count": 41,
   "metadata": {},
   "outputs": [],
   "source": [
    "def create_feed_dict(tag, DATA, FLAGS):\n",
    "    \"\"\"Create the feed dictionary for mapping data onto placeholders in the graph.\"\"\"\n",
    "    if tag == 'batch':\n",
    "        features, targets, example_weights = DATA.train.next_random_batch(FLAGS.batch_size)        \n",
    "    elif tag == 'train':\n",
    "        features = DATA.train.orig.features\n",
    "        targets = DATA.train.orig.labels\n",
    "        example_weights = np.ones_like(targets.iloc[:, 1].values)\n",
    "    elif tag == 'valid':\n",
    "        features, targets, example_weights = DATA.validation.next_sequential_batch(FLAGS.valid_batch_size)\n",
    "    else:\n",
    "        features, targets, example_weights = DATA.test.next_sequential_batch(FLAGS.test_batch_size)\n",
    "\n",
    "    # features[:, :7] = targets\n",
    "    if tag == 'batch':\n",
    "        k_prob_input = 0.9  # 0.9  # .85  # .75  # 0.8  # 0.6\n",
    "        k_prob = FLAGS.dropout_keep\n",
    "        t_flag = True\n",
    "    else:\n",
    "        k_prob_input = 1.0\n",
    "        k_prob = 1.0\n",
    "        t_flag = False\n",
    "\n",
    "    # Change the python dictionary to an io-buffer for a better performance.\n",
    "    # See here:\n",
    "    # https://www.tensorflow.org/performance/performance_guide\n",
    "    feed_d = {\n",
    "        'features:0': features,\n",
    "        'targets:0': targets,\n",
    "        'example_weights:0': example_weights,        \n",
    "        'train_flag:0': t_flag,\n",
    "        'epoch_flag:0': FLAGS.epoch_flag,\n",
    "        #'1_hidden/dropout/keep_proba:0': k_prob_input,\n",
    "        #'2_hidden/dropout/keep_proba:0': k_prob,\n",
    "        # '3_hidden/dropout/keep_proba:0': k_prob,\n",
    "        # '4_hidden/dropout/keep_proba:0': k_prob,\n",
    "        # '5_hidden/dropout/keep_proba:0': k_prob,\n",
    "        '9_softmax_linear/dropout/keep_proba:0': k_prob\n",
    "    }\n",
    "\t\n",
    "\t# for any tag:\n",
    "    if (FLAGS.n_hidden > 0) :\n",
    "        # print ('k_prob_input', k_prob_input, type(k_prob_input))\n",
    "        feed_d['1_hidden/dropout/keep_proba:0'] = k_prob_input\n",
    "        for hid_i in range(2, FLAGS.n_hidden+1):\n",
    "            feed_d['{:1d}_hidden/dropout/keep_proba:0'.format(hid_i)] = k_prob\n",
    "    # print('feed_d', feed_d)\n",
    "    \n",
    "    return feed_d"
   ]
  },
  {
   "cell_type": "code",
   "execution_count": 42,
   "metadata": {},
   "outputs": [],
   "source": [
    "def reset_and_update(sess, local_init, feed_dict):\n",
    "    \"\"\"Reset the local variables and update the necessary update ops.\"\"\"\n",
    "    sess.run(local_init)\n",
    "        \n",
    "    update_names_list = [\n",
    "        'metrics/auc/{:d}/hist_accumulate/update_op'.format(i)\n",
    "        for i in range(7)\n",
    "    ]\n",
    "\n",
    "    update_names_list.extend([\n",
    "        'metrics/m_measure/' + str(i) + str(j) + '/hist_accumulate/update_op'\n",
    "        for i in range(7) for j in range(7) if i != j\n",
    "    ])\n",
    "\n",
    "    sess.run(update_names_list, feed_dict=feed_dict)\n",
    "    return"
   ]
  },
  {
   "cell_type": "code",
   "execution_count": 43,
   "metadata": {},
   "outputs": [
    {
     "data": {
      "text/plain": [
       "<tf.Operation 'init/local/init' type=NoOp>"
      ]
     },
     "execution_count": 43,
     "metadata": {},
     "output_type": "execute_result"
    }
   ],
   "source": [
    "local_init"
   ]
  },
  {
   "cell_type": "code",
   "execution_count": 48,
   "metadata": {},
   "outputs": [
    {
     "name": "stdout",
     "output_type": "stream",
     "text": [
      "Invalid Range: could not broadcast input array from shape (2106,257) into shape (2106,258)\n",
      "Time for Getting  0  random elements:  0:00:00.004257\n"
     ]
    },
    {
     "name": "stderr",
     "output_type": "stream",
     "text": [
      "2018-10-16 23:57:59,406 - nn-real-hvd - INFO -      1     1  9452.8     0.5   0.002 0.10000\n",
      "2018-10-16 23:57:59,406 - nn-real-hvd - INFO -      1     1  9452.8     0.5   0.002 0.10000\n"
     ]
    },
    {
     "name": "stdout",
     "output_type": "stream",
     "text": [
      "Invalid Range: could not broadcast input array from shape (2112,257) into shape (2112,258)\n",
      "Time for Getting  0  random elements:  0:00:00.004310\n"
     ]
    },
    {
     "name": "stderr",
     "output_type": "stream",
     "text": [
      "2018-10-16 23:58:03,735 - nn-real-hvd - INFO -      2     1  1022.7     4.3   0.002 0.10000\n",
      "2018-10-16 23:58:03,735 - nn-real-hvd - INFO -      2     1  1022.7     4.3   0.002 0.10000\n",
      "2018-10-16 23:58:03,785 - nn-real-hvd - INFO -      3     1 91721.7     0.0   0.002 0.10000\n",
      "2018-10-16 23:58:03,785 - nn-real-hvd - INFO -      3     1 91721.7     0.0   0.002 0.10000\n",
      "2018-10-16 23:58:03,834 - nn-real-hvd - INFO -      4     1 93845.4     0.0   0.002 0.10000\n",
      "2018-10-16 23:58:03,834 - nn-real-hvd - INFO -      4     1 93845.4     0.0   0.002 0.10000\n",
      "2018-10-16 23:58:03,885 - nn-real-hvd - INFO -      5     1 90052.8     0.0   0.002 0.10000\n",
      "2018-10-16 23:58:03,885 - nn-real-hvd - INFO -      5     1 90052.8     0.0   0.002 0.10000\n",
      "2018-10-16 23:58:03,932 - nn-real-hvd - INFO -      6     1 95965.4     0.0   0.002 0.10000\n",
      "2018-10-16 23:58:03,932 - nn-real-hvd - INFO -      6     1 95965.4     0.0   0.002 0.10000\n"
     ]
    },
    {
     "name": "stdout",
     "output_type": "stream",
     "text": [
      "Invalid Range: could not broadcast input array from shape (2168,257) into shape (2168,258)\n",
      "Time for Getting  0  random elements:  0:00:00.004139\n",
      "Invalid Range: could not broadcast input array from shape (2123,257) into shape (2123,258)\n",
      "Time for Getting  0  random elements:  0:00:00.004283\n",
      "Invalid Range: could not broadcast input array from shape (2192,257) into shape (2192,258)\n",
      "Time for Getting  0  random elements:  0:00:00.004108\n",
      "Invalid Range: could not broadcast input array from shape (2161,257) into shape (2161,258)\n",
      "Time for Getting  0  random elements:  0:00:00.004455\n",
      "Invalid Range: could not broadcast input array from shape (2214,257) into shape (2214,258)\n"
     ]
    },
    {
     "name": "stderr",
     "output_type": "stream",
     "text": [
      "2018-10-16 23:58:03,982 - nn-real-hvd - INFO -      7     1 92393.4     0.0   0.002 0.10000\n",
      "2018-10-16 23:58:03,982 - nn-real-hvd - INFO -      7     1 92393.4     0.0   0.002 0.10000\n",
      "2018-10-16 23:58:04,029 - nn-real-hvd - INFO -      8     1 95614.8     0.0   0.002 0.10000\n",
      "2018-10-16 23:58:04,029 - nn-real-hvd - INFO -      8     1 95614.8     0.0   0.002 0.10000\n",
      "2018-10-16 23:58:04,078 - nn-real-hvd - INFO -      9     1 94457.2     0.0   0.002 0.10000\n",
      "2018-10-16 23:58:04,078 - nn-real-hvd - INFO -      9     1 94457.2     0.0   0.002 0.10000\n",
      "2018-10-16 23:58:04,126 - nn-real-hvd - INFO -     10     1 95414.8     0.0   0.002 0.10000\n",
      "2018-10-16 23:58:04,126 - nn-real-hvd - INFO -     10     1 95414.8     0.0   0.002 0.10000\n"
     ]
    },
    {
     "name": "stdout",
     "output_type": "stream",
     "text": [
      "Time for Getting  0  random elements:  0:00:00.004215\n",
      "Invalid Range: could not broadcast input array from shape (2167,257) into shape (2167,258)\n",
      "Time for Getting  0  random elements:  0:00:00.003916\n",
      "Invalid Range: could not broadcast input array from shape (2133,257) into shape (2133,258)\n",
      "Time for Getting  0  random elements:  0:00:00.003968\n",
      "Invalid Range: could not broadcast input array from shape (2103,257) into shape (2103,258)\n",
      "Time for Getting  0  random elements:  0:00:00.003868\n",
      "Invalid Range: could not broadcast input array from shape (2144,257) into shape (2144,258)\n",
      "Time for Getting  0  random elements:  0:00:00.004115\n"
     ]
    },
    {
     "name": "stderr",
     "output_type": "stream",
     "text": [
      "2018-10-16 23:58:04,174 - nn-real-hvd - INFO -     11     1 94226.0     0.0   0.002 0.10000\n",
      "2018-10-16 23:58:04,174 - nn-real-hvd - INFO -     11     1 94226.0     0.0   0.002 0.10000\n",
      "2018-10-16 23:58:04,223 - nn-real-hvd - INFO -     12     1 95622.7     0.0   0.002 0.10000\n",
      "2018-10-16 23:58:04,223 - nn-real-hvd - INFO -     12     1 95622.7     0.0   0.002 0.10000\n",
      "2018-10-16 23:58:04,272 - nn-real-hvd - INFO -     13     1 94696.2     0.0   0.002 0.10000\n",
      "2018-10-16 23:58:04,272 - nn-real-hvd - INFO -     13     1 94696.2     0.0   0.002 0.10000\n",
      "2018-10-16 23:58:04,321 - nn-real-hvd - INFO -     14     1 92284.9     0.0   0.002 0.10000\n",
      "2018-10-16 23:58:04,321 - nn-real-hvd - INFO -     14     1 92284.9     0.0   0.002 0.10000\n",
      "2018-10-16 23:58:04,372 - nn-real-hvd - INFO -     15     1 90560.8     0.0   0.002 0.10000\n",
      "2018-10-16 23:58:04,372 - nn-real-hvd - INFO -     15     1 90560.8     0.0   0.002 0.10000\n"
     ]
    },
    {
     "name": "stdout",
     "output_type": "stream",
     "text": [
      "Invalid Range: could not broadcast input array from shape (2143,257) into shape (2143,258)\n",
      "Time for Getting  0  random elements:  0:00:00.004354\n",
      "Invalid Range: could not broadcast input array from shape (2133,257) into shape (2133,258)\n",
      "Time for Getting  0  random elements:  0:00:00.004258\n",
      "Invalid Range: could not broadcast input array from shape (2135,257) into shape (2135,258)\n",
      "Time for Getting  0  random elements:  0:00:00.004188\n",
      "Invalid Range: could not broadcast input array from shape (2115,257) into shape (2115,258)\n",
      "Time for Getting  0  random elements:  0:00:00.004138\n",
      "Invalid Range: could not broadcast input array from shape (2148,257) into shape (2148,258)\n"
     ]
    },
    {
     "name": "stderr",
     "output_type": "stream",
     "text": [
      "2018-10-16 23:58:04,422 - nn-real-hvd - INFO -     16     1 91217.3     0.0   0.002 0.10000\n",
      "2018-10-16 23:58:04,422 - nn-real-hvd - INFO -     16     1 91217.3     0.0   0.002 0.10000\n",
      "2018-10-16 23:58:04,473 - nn-real-hvd - INFO -     17     1 89490.5     0.0   0.002 0.10000\n",
      "2018-10-16 23:58:04,473 - nn-real-hvd - INFO -     17     1 89490.5     0.0   0.002 0.10000\n",
      "2018-10-16 23:58:04,524 - nn-real-hvd - INFO -     18     1 90507.3     0.0   0.002 0.10000\n",
      "2018-10-16 23:58:04,524 - nn-real-hvd - INFO -     18     1 90507.3     0.0   0.002 0.10000\n",
      "2018-10-16 23:58:04,574 - nn-real-hvd - INFO -     19     1 91913.4     0.0   0.002 0.10000\n",
      "2018-10-16 23:58:04,574 - nn-real-hvd - INFO -     19     1 91913.4     0.0   0.002 0.10000\n"
     ]
    },
    {
     "name": "stdout",
     "output_type": "stream",
     "text": [
      "Time for Getting  0  random elements:  0:00:00.004330\n",
      "Invalid Range: could not broadcast input array from shape (2107,257) into shape (2107,258)\n",
      "Time for Getting  0  random elements:  0:00:00.003834\n",
      "Invalid Range: could not broadcast input array from shape (2120,257) into shape (2120,258)\n",
      "Time for Getting  0  random elements:  0:00:00.003977\n",
      "Invalid Range: could not broadcast input array from shape (2140,257) into shape (2140,258)\n",
      "Time for Getting  0  random elements:  0:00:00.004050\n",
      "Invalid Range: could not broadcast input array from shape (2107,257) into shape (2107,258)\n"
     ]
    },
    {
     "name": "stderr",
     "output_type": "stream",
     "text": [
      "2018-10-16 23:58:04,623 - nn-real-hvd - INFO -     20     1 93367.6     0.0   0.002 0.10000\n",
      "2018-10-16 23:58:04,623 - nn-real-hvd - INFO -     20     1 93367.6     0.0   0.002 0.10000\n",
      "2018-10-16 23:58:04,673 - nn-real-hvd - INFO -     21     1 91970.3     0.0   0.002 0.10000\n",
      "2018-10-16 23:58:04,673 - nn-real-hvd - INFO -     21     1 91970.3     0.0   0.002 0.10000\n",
      "2018-10-16 23:58:04,724 - nn-real-hvd - INFO -     22     1 91332.6     0.0   0.002 0.10000\n",
      "2018-10-16 23:58:04,724 - nn-real-hvd - INFO -     22     1 91332.6     0.0   0.002 0.10000\n",
      "2018-10-16 23:58:04,774 - nn-real-hvd - INFO -     23     1 92966.3     0.0   0.002 0.10000\n",
      "2018-10-16 23:58:04,774 - nn-real-hvd - INFO -     23     1 92966.3     0.0   0.002 0.10000\n"
     ]
    },
    {
     "name": "stdout",
     "output_type": "stream",
     "text": [
      "Time for Getting  0  random elements:  0:00:00.004775\n",
      "Invalid Range: could not broadcast input array from shape (2211,257) into shape (2211,258)\n",
      "Time for Getting  0  random elements:  0:00:00.004519\n",
      "Invalid Range: could not broadcast input array from shape (2123,257) into shape (2123,258)\n",
      "Time for Getting  0  random elements:  0:00:00.004048\n",
      "Invalid Range: could not broadcast input array from shape (2135,257) into shape (2135,258)\n",
      "Time for Getting  0  random elements:  0:00:00.004082\n",
      "Invalid Range: could not broadcast input array from shape (2060,257) into shape (2060,258)\n",
      "Time for Getting  0  random elements:  0:00:00.003828\n"
     ]
    },
    {
     "name": "stderr",
     "output_type": "stream",
     "text": [
      "2018-10-16 23:58:04,823 - nn-real-hvd - INFO -     24     1 92629.9     0.0   0.002 0.10000\n",
      "2018-10-16 23:58:04,823 - nn-real-hvd - INFO -     24     1 92629.9     0.0   0.002 0.10000\n",
      "2018-10-16 23:58:04,872 - nn-real-hvd - INFO -     25     1 93342.2     0.0   0.002 0.10000\n",
      "2018-10-16 23:58:04,872 - nn-real-hvd - INFO -     25     1 93342.2     0.0   0.002 0.10000\n",
      "2018-10-16 23:58:04,922 - nn-real-hvd - INFO -     26     1 91289.1     0.0   0.002 0.10000\n",
      "2018-10-16 23:58:04,922 - nn-real-hvd - INFO -     26     1 91289.1     0.0   0.002 0.10000\n",
      "2018-10-16 23:58:04,974 - nn-real-hvd - INFO -     27     1 89684.2     0.0   0.002 0.10000\n",
      "2018-10-16 23:58:04,974 - nn-real-hvd - INFO -     27     1 89684.2     0.0   0.002 0.10000\n",
      "2018-10-16 23:58:05,023 - nn-real-hvd - INFO -     28     1 93260.1     0.0   0.002 0.10000\n",
      "2018-10-16 23:58:05,023 - nn-real-hvd - INFO -     28     1 93260.1     0.0   0.002 0.10000\n"
     ]
    },
    {
     "name": "stdout",
     "output_type": "stream",
     "text": [
      "Invalid Range: could not broadcast input array from shape (2112,257) into shape (2112,258)\n",
      "Time for Getting  0  random elements:  0:00:00.004097\n",
      "Invalid Range: could not broadcast input array from shape (2128,257) into shape (2128,258)\n",
      "Time for Getting  0  random elements:  0:00:00.004186\n",
      "Invalid Range: could not broadcast input array from shape (2102,257) into shape (2102,258)\n",
      "Time for Getting  0  random elements:  0:00:00.004000\n",
      "Invalid Range: could not broadcast input array from shape (2121,257) into shape (2121,258)\n",
      "Time for Getting  0  random elements:  0:00:00.003931\n",
      "Invalid Range: could not broadcast input array from shape (2083,257) into shape (2083,258)\n"
     ]
    },
    {
     "name": "stderr",
     "output_type": "stream",
     "text": [
      "2018-10-16 23:58:05,073 - nn-real-hvd - INFO -     29     1 92052.9     0.0   0.002 0.10000\n",
      "2018-10-16 23:58:05,073 - nn-real-hvd - INFO -     29     1 92052.9     0.0   0.002 0.10000\n",
      "2018-10-16 23:58:05,121 - nn-real-hvd - INFO -     30     1 94550.5     0.0   0.002 0.10000\n",
      "2018-10-16 23:58:05,121 - nn-real-hvd - INFO -     30     1 94550.5     0.0   0.002 0.10000\n",
      "2018-10-16 23:58:05,169 - nn-real-hvd - INFO -     31     1 95886.5     0.0   0.002 0.10000\n",
      "2018-10-16 23:58:05,169 - nn-real-hvd - INFO -     31     1 95886.5     0.0   0.002 0.10000\n",
      "2018-10-16 23:58:05,218 - nn-real-hvd - INFO -     32     1 93997.9     0.0   0.002 0.10000\n",
      "2018-10-16 23:58:05,218 - nn-real-hvd - INFO -     32     1 93997.9     0.0   0.002 0.10000\n"
     ]
    },
    {
     "name": "stdout",
     "output_type": "stream",
     "text": [
      "Time for Getting  0  random elements:  0:00:00.004192\n",
      "Invalid Range: could not broadcast input array from shape (2160,257) into shape (2160,258)\n",
      "Time for Getting  0  random elements:  0:00:00.004633\n",
      "Invalid Range: could not broadcast input array from shape (2129,257) into shape (2129,258)\n",
      "Time for Getting  0  random elements:  0:00:00.003816\n",
      "Invalid Range: could not broadcast input array from shape (2121,257) into shape (2121,258)\n",
      "Time for Getting  0  random elements:  0:00:00.004003\n",
      "Invalid Range: could not broadcast input array from shape (2159,257) into shape (2159,258)\n",
      "Time for Getting  0  random elements:  0:00:00.004096\n"
     ]
    },
    {
     "name": "stderr",
     "output_type": "stream",
     "text": [
      "2018-10-16 23:58:05,267 - nn-real-hvd - INFO -     33     1 93911.4     0.0   0.002 0.10000\n",
      "2018-10-16 23:58:05,267 - nn-real-hvd - INFO -     33     1 93911.4     0.0   0.002 0.10000\n",
      "2018-10-16 23:58:05,315 - nn-real-hvd - INFO -     34     1 96619.8     0.0   0.002 0.10000\n",
      "2018-10-16 23:58:05,315 - nn-real-hvd - INFO -     34     1 96619.8     0.0   0.002 0.10000\n",
      "2018-10-16 23:58:05,365 - nn-real-hvd - INFO -     35     1 90735.6     0.0   0.002 0.10000\n",
      "2018-10-16 23:58:05,365 - nn-real-hvd - INFO -     35     1 90735.6     0.0   0.002 0.10000\n",
      "2018-10-16 23:58:05,414 - nn-real-hvd - INFO -     36     1 93141.7     0.0   0.002 0.10000\n",
      "2018-10-16 23:58:05,414 - nn-real-hvd - INFO -     36     1 93141.7     0.0   0.002 0.10000\n",
      "2018-10-16 23:58:05,465 - nn-real-hvd - INFO -     37     1 90121.5     0.0   0.002 0.10000\n",
      "2018-10-16 23:58:05,465 - nn-real-hvd - INFO -     37     1 90121.5     0.0   0.002 0.10000\n"
     ]
    },
    {
     "name": "stdout",
     "output_type": "stream",
     "text": [
      "Invalid Range: could not broadcast input array from shape (2102,257) into shape (2102,258)\n",
      "Time for Getting  0  random elements:  0:00:00.004653\n",
      "Invalid Range: could not broadcast input array from shape (2109,257) into shape (2109,258)\n",
      "Time for Getting  0  random elements:  0:00:00.003999\n",
      "Invalid Range: could not broadcast input array from shape (2146,257) into shape (2146,258)\n",
      "Time for Getting  0  random elements:  0:00:00.003826\n",
      "Invalid Range: could not broadcast input array from shape (2111,257) into shape (2111,258)\n",
      "Time for Getting  0  random elements:  0:00:00.004512\n",
      "Invalid Range: could not broadcast input array from shape (2145,257) into shape (2145,258)\n"
     ]
    },
    {
     "name": "stderr",
     "output_type": "stream",
     "text": [
      "2018-10-16 23:58:05,515 - nn-real-hvd - INFO -     38     1 91688.6     0.0   0.002 0.10000\n",
      "2018-10-16 23:58:05,515 - nn-real-hvd - INFO -     38     1 91688.6     0.0   0.002 0.10000\n",
      "2018-10-16 23:58:05,564 - nn-real-hvd - INFO -     39     1 94115.2     0.0   0.002 0.10000\n",
      "2018-10-16 23:58:05,564 - nn-real-hvd - INFO -     39     1 94115.2     0.0   0.002 0.10000\n",
      "2018-10-16 23:58:05,614 - nn-real-hvd - INFO -     40     1 91894.7     0.0   0.002 0.10000\n",
      "2018-10-16 23:58:05,614 - nn-real-hvd - INFO -     40     1 91894.7     0.0   0.002 0.10000\n",
      "2018-10-16 23:58:05,662 - nn-real-hvd - INFO -     41     1 94685.6     0.0   0.002 0.10000\n",
      "2018-10-16 23:58:05,662 - nn-real-hvd - INFO -     41     1 94685.6     0.0   0.002 0.10000\n"
     ]
    },
    {
     "name": "stdout",
     "output_type": "stream",
     "text": [
      "Time for Getting  0  random elements:  0:00:00.005220\n",
      "Invalid Range: could not broadcast input array from shape (2141,257) into shape (2141,258)\n",
      "Time for Getting  0  random elements:  0:00:00.004292\n",
      "Invalid Range: could not broadcast input array from shape (2128,257) into shape (2128,258)\n",
      "Time for Getting  0  random elements:  0:00:00.004273\n",
      "Invalid Range: could not broadcast input array from shape (2148,257) into shape (2148,258)\n",
      "Time for Getting  0  random elements:  0:00:00.004427\n",
      "Invalid Range: could not broadcast input array from shape (2087,257) into shape (2087,258)\n",
      "Time for Getting  0  random elements:  0:00:00.004180\n"
     ]
    },
    {
     "name": "stderr",
     "output_type": "stream",
     "text": [
      "2018-10-16 23:58:05,709 - nn-real-hvd - INFO -     42     1 96951.4     0.0   0.002 0.10000\n",
      "2018-10-16 23:58:05,709 - nn-real-hvd - INFO -     42     1 96951.4     0.0   0.002 0.10000\n",
      "2018-10-16 23:58:05,757 - nn-real-hvd - INFO -     43     1 96924.6     0.0   0.002 0.10000\n",
      "2018-10-16 23:58:05,757 - nn-real-hvd - INFO -     43     1 96924.6     0.0   0.002 0.10000\n",
      "2018-10-16 23:58:05,805 - nn-real-hvd - INFO -     44     1 93930.4     0.0   0.002 0.10000\n",
      "2018-10-16 23:58:05,805 - nn-real-hvd - INFO -     44     1 93930.4     0.0   0.002 0.10000\n",
      "2018-10-16 23:58:05,853 - nn-real-hvd - INFO -     45     1 95522.3     0.0   0.002 0.10000\n",
      "2018-10-16 23:58:05,853 - nn-real-hvd - INFO -     45     1 95522.3     0.0   0.002 0.10000\n",
      "2018-10-16 23:58:05,901 - nn-real-hvd - INFO -     46     1 96064.2     0.0   0.002 0.10000\n",
      "2018-10-16 23:58:05,901 - nn-real-hvd - INFO -     46     1 96064.2     0.0   0.002 0.10000\n"
     ]
    },
    {
     "name": "stdout",
     "output_type": "stream",
     "text": [
      "Invalid Range: could not broadcast input array from shape (2113,257) into shape (2113,258)\n",
      "Time for Getting  0  random elements:  0:00:00.004368\n",
      "Invalid Range: could not broadcast input array from shape (2118,257) into shape (2118,258)\n",
      "Time for Getting  0  random elements:  0:00:00.004188\n",
      "Invalid Range: could not broadcast input array from shape (2134,257) into shape (2134,258)\n",
      "Time for Getting  0  random elements:  0:00:00.004440\n",
      "Invalid Range: could not broadcast input array from shape (2149,257) into shape (2149,258)\n",
      "Time for Getting  0  random elements:  0:00:00.004131\n",
      "Invalid Range: could not broadcast input array from shape (2126,257) into shape (2126,258)\n",
      "Time for Getting  0  random elements:  0:00:00.004045\n"
     ]
    },
    {
     "name": "stderr",
     "output_type": "stream",
     "text": [
      "2018-10-16 23:58:05,948 - nn-real-hvd - INFO -     47     1 97385.8     0.0   0.002 0.10000\n",
      "2018-10-16 23:58:05,948 - nn-real-hvd - INFO -     47     1 97385.8     0.0   0.002 0.10000\n",
      "2018-10-16 23:58:05,996 - nn-real-hvd - INFO -     48     1 95480.5     0.0   0.002 0.10000\n",
      "2018-10-16 23:58:05,996 - nn-real-hvd - INFO -     48     1 95480.5     0.0   0.002 0.10000\n",
      "2018-10-16 23:58:06,045 - nn-real-hvd - INFO -     49     1 93222.2     0.0   0.002 0.10000\n",
      "2018-10-16 23:58:06,045 - nn-real-hvd - INFO -     49     1 93222.2     0.0   0.002 0.10000\n",
      "2018-10-16 23:58:06,093 - nn-real-hvd - INFO -     50     1 95519.4     0.0   0.002 0.10000\n",
      "2018-10-16 23:58:06,093 - nn-real-hvd - INFO -     50     1 95519.4     0.0   0.002 0.10000\n",
      "2018-10-16 23:58:06,142 - nn-real-hvd - INFO -     51     1 92580.9     0.0   0.002 0.10000\n",
      "2018-10-16 23:58:06,142 - nn-real-hvd - INFO -     51     1 92580.9     0.0   0.002 0.10000\n"
     ]
    },
    {
     "name": "stdout",
     "output_type": "stream",
     "text": [
      "Invalid Range: could not broadcast input array from shape (2162,257) into shape (2162,258)\n",
      "Time for Getting  0  random elements:  0:00:00.004025\n",
      "Invalid Range: could not broadcast input array from shape (2153,257) into shape (2153,258)\n",
      "Time for Getting  0  random elements:  0:00:00.004668\n",
      "Invalid Range: could not broadcast input array from shape (2134,257) into shape (2134,258)\n",
      "Time for Getting  0  random elements:  0:00:00.004233\n",
      "Invalid Range: could not broadcast input array from shape (2099,257) into shape (2099,258)\n",
      "Time for Getting  0  random elements:  0:00:00.004326\n",
      "Invalid Range: could not broadcast input array from shape (2137,257) into shape (2137,258)\n",
      "Time for Getting  0  random elements:  0:00:00.004397\n"
     ]
    },
    {
     "name": "stderr",
     "output_type": "stream",
     "text": [
      "2018-10-16 23:58:06,190 - nn-real-hvd - INFO -     52     1 96639.4     0.0   0.002 0.10000\n",
      "2018-10-16 23:58:06,190 - nn-real-hvd - INFO -     52     1 96639.4     0.0   0.002 0.10000\n",
      "2018-10-16 23:58:06,238 - nn-real-hvd - INFO -     53     1 96210.6     0.0   0.002 0.10000\n",
      "2018-10-16 23:58:06,238 - nn-real-hvd - INFO -     53     1 96210.6     0.0   0.002 0.10000\n",
      "2018-10-16 23:58:06,285 - nn-real-hvd - INFO -     54     1 96239.5     0.0   0.002 0.10000\n",
      "2018-10-16 23:58:06,285 - nn-real-hvd - INFO -     54     1 96239.5     0.0   0.002 0.10000\n",
      "2018-10-16 23:58:06,333 - nn-real-hvd - INFO -     55     1 96408.0     0.0   0.002 0.10000\n",
      "2018-10-16 23:58:06,333 - nn-real-hvd - INFO -     55     1 96408.0     0.0   0.002 0.10000\n",
      "2018-10-16 23:58:06,382 - nn-real-hvd - INFO -     56     1 92984.0     0.0   0.002 0.10000\n",
      "2018-10-16 23:58:06,382 - nn-real-hvd - INFO -     56     1 92984.0     0.0   0.002 0.10000\n"
     ]
    },
    {
     "name": "stdout",
     "output_type": "stream",
     "text": [
      "Invalid Range: could not broadcast input array from shape (2159,257) into shape (2159,258)\n",
      "Time for Getting  0  random elements:  0:00:00.004298\n",
      "Invalid Range: could not broadcast input array from shape (2095,257) into shape (2095,258)\n",
      "Time for Getting  0  random elements:  0:00:00.004365\n",
      "Invalid Range: could not broadcast input array from shape (2057,257) into shape (2057,258)\n",
      "Time for Getting  0  random elements:  0:00:00.004681\n",
      "Invalid Range: could not broadcast input array from shape (2136,257) into shape (2136,258)\n",
      "Time for Getting  0  random elements:  0:00:00.003972\n",
      "Invalid Range: could not broadcast input array from shape (2228,257) into shape (2228,258)\n",
      "Time for Getting  0  random elements:  0:00:00.004351\n"
     ]
    },
    {
     "name": "stderr",
     "output_type": "stream",
     "text": [
      "2018-10-16 23:58:06,445 - nn-real-hvd - INFO -     57     1 71655.0     0.1   0.002 0.10000\n",
      "2018-10-16 23:58:06,445 - nn-real-hvd - INFO -     57     1 71655.0     0.1   0.002 0.10000\n",
      "2018-10-16 23:58:06,495 - nn-real-hvd - INFO -     58     1 92725.7     0.0   0.002 0.10000\n",
      "2018-10-16 23:58:06,495 - nn-real-hvd - INFO -     58     1 92725.7     0.0   0.002 0.10000\n",
      "2018-10-16 23:58:06,544 - nn-real-hvd - INFO -     59     1 95308.0     0.0   0.002 0.10000\n",
      "2018-10-16 23:58:06,544 - nn-real-hvd - INFO -     59     1 95308.0     0.0   0.002 0.10000\n",
      "2018-10-16 23:58:06,594 - nn-real-hvd - INFO -     60     1 90583.3     0.0   0.002 0.10000\n",
      "2018-10-16 23:58:06,594 - nn-real-hvd - INFO -     60     1 90583.3     0.0   0.002 0.10000\n",
      "2018-10-16 23:58:06,641 - nn-real-hvd - INFO -     61     1 97290.9     0.0   0.002 0.10000\n",
      "2018-10-16 23:58:06,641 - nn-real-hvd - INFO -     61     1 97290.9     0.0   0.002 0.10000\n"
     ]
    },
    {
     "name": "stdout",
     "output_type": "stream",
     "text": [
      "Invalid Range: could not broadcast input array from shape (2113,257) into shape (2113,258)\n",
      "Time for Getting  0  random elements:  0:00:00.004181\n",
      "Invalid Range: could not broadcast input array from shape (2185,257) into shape (2185,258)\n",
      "Time for Getting  0  random elements:  0:00:00.004247\n",
      "Invalid Range: could not broadcast input array from shape (2198,257) into shape (2198,258)\n",
      "Time for Getting  0  random elements:  0:00:00.003818\n",
      "Invalid Range: could not broadcast input array from shape (2116,257) into shape (2116,258)\n",
      "Time for Getting  0  random elements:  0:00:00.004762\n",
      "Invalid Range: could not broadcast input array from shape (2103,257) into shape (2103,258)\n",
      "Time for Getting  0  random elements:  0:00:00.003845\n"
     ]
    },
    {
     "name": "stderr",
     "output_type": "stream",
     "text": [
      "2018-10-16 23:58:06,687 - nn-real-hvd - INFO -     62     1 99610.3     0.0   0.002 0.10000\n",
      "2018-10-16 23:58:06,687 - nn-real-hvd - INFO -     62     1 99610.3     0.0   0.002 0.10000\n",
      "2018-10-16 23:58:06,734 - nn-real-hvd - INFO -     63     1 98220.2     0.0   0.002 0.10000\n",
      "2018-10-16 23:58:06,734 - nn-real-hvd - INFO -     63     1 98220.2     0.0   0.002 0.10000\n",
      "2018-10-16 23:58:06,784 - nn-real-hvd - INFO -     64     1 92375.0     0.0   0.002 0.10000\n",
      "2018-10-16 23:58:06,784 - nn-real-hvd - INFO -     64     1 92375.0     0.0   0.002 0.10000\n",
      "2018-10-16 23:58:06,834 - nn-real-hvd - INFO -     65     1 91741.7     0.0   0.002 0.10000\n",
      "2018-10-16 23:58:06,834 - nn-real-hvd - INFO -     65     1 91741.7     0.0   0.002 0.10000\n",
      "2018-10-16 23:58:06,883 - nn-real-hvd - INFO -     66     1 92735.0     0.0   0.002 0.10000\n",
      "2018-10-16 23:58:06,883 - nn-real-hvd - INFO -     66     1 92735.0     0.0   0.002 0.10000\n"
     ]
    },
    {
     "name": "stdout",
     "output_type": "stream",
     "text": [
      "Invalid Range: could not broadcast input array from shape (2143,257) into shape (2143,258)\n",
      "Time for Getting  0  random elements:  0:00:00.004018\n",
      "Invalid Range: could not broadcast input array from shape (2116,257) into shape (2116,258)\n",
      "Time for Getting  0  random elements:  0:00:00.004860\n",
      "Invalid Range: could not broadcast input array from shape (2110,257) into shape (2110,258)\n",
      "Time for Getting  0  random elements:  0:00:00.004098\n",
      "Invalid Range: could not broadcast input array from shape (2081,257) into shape (2081,258)\n",
      "Time for Getting  0  random elements:  0:00:00.004136\n",
      "Invalid Range: could not broadcast input array from shape (2136,257) into shape (2136,258)\n",
      "Time for Getting  0"
     ]
    },
    {
     "name": "stderr",
     "output_type": "stream",
     "text": [
      "2018-10-16 23:58:06,932 - nn-real-hvd - INFO -     67     1 92462.9     0.0   0.002 0.10000\n",
      "2018-10-16 23:58:06,932 - nn-real-hvd - INFO -     67     1 92462.9     0.0   0.002 0.10000\n",
      "2018-10-16 23:58:06,981 - nn-real-hvd - INFO -     68     1 94813.8     0.0   0.002 0.10000\n",
      "2018-10-16 23:58:06,981 - nn-real-hvd - INFO -     68     1 94813.8     0.0   0.002 0.10000\n",
      "2018-10-16 23:58:07,028 - nn-real-hvd - INFO -     69     1 96641.9     0.0   0.002 0.10000\n",
      "2018-10-16 23:58:07,028 - nn-real-hvd - INFO -     69     1 96641.9     0.0   0.002 0.10000\n",
      "2018-10-16 23:58:07,079 - nn-real-hvd - INFO -     70     1 89954.6     0.0   0.002 0.10000\n",
      "2018-10-16 23:58:07,079 - nn-real-hvd - INFO -     70     1 89954.6     0.0   0.002 0.10000\n"
     ]
    },
    {
     "name": "stdout",
     "output_type": "stream",
     "text": [
      "  random elements:  0:00:00.004035\n",
      "Invalid Range: could not broadcast input array from shape (2138,257) into shape (2138,258)\n",
      "Time for Getting  0  random elements:  0:00:00.004414\n",
      "Invalid Range: could not broadcast input array from shape (2096,257) into shape (2096,258)\n",
      "Time for Getting  0  random elements:  0:00:00.004106\n",
      "Invalid Range: could not broadcast input array from shape (2092,257) into shape (2092,258)\n",
      "Time for Getting  0  random elements:  0:00:00.004466\n",
      "Invalid Range: could not broadcast input array from shape (2133,257) into shape (2133,258)\n",
      "Time for Getting  0  random elements:  0:00:00.004239\n"
     ]
    },
    {
     "name": "stderr",
     "output_type": "stream",
     "text": [
      "2018-10-16 23:58:07,126 - nn-real-hvd - INFO -     71     1 97170.7     0.0   0.002 0.10000\n",
      "2018-10-16 23:58:07,126 - nn-real-hvd - INFO -     71     1 97170.7     0.0   0.002 0.10000\n",
      "2018-10-16 23:58:07,175 - nn-real-hvd - INFO -     72     1 93494.1     0.0   0.002 0.10000\n",
      "2018-10-16 23:58:07,175 - nn-real-hvd - INFO -     72     1 93494.1     0.0   0.002 0.10000\n",
      "2018-10-16 23:58:07,222 - nn-real-hvd - INFO -     73     1 97477.4     0.0   0.002 0.10000\n",
      "2018-10-16 23:58:07,222 - nn-real-hvd - INFO -     73     1 97477.4     0.0   0.002 0.10000\n",
      "2018-10-16 23:58:07,271 - nn-real-hvd - INFO -     74     1 93266.2     0.0   0.002 0.10000\n",
      "2018-10-16 23:58:07,271 - nn-real-hvd - INFO -     74     1 93266.2     0.0   0.002 0.10000\n",
      "2018-10-16 23:58:07,322 - nn-real-hvd - INFO -     75     1 91450.1     0.0   0.002 0.10000\n",
      "2018-10-16 23:58:07,322 - nn-real-hvd - INFO -     75     1 91450.1     0.0   0.002 0.10000\n"
     ]
    },
    {
     "name": "stdout",
     "output_type": "stream",
     "text": [
      "Invalid Range: could not broadcast input array from shape (2159,257) into shape (2159,258)\n",
      "Time for Getting  0  random elements:  0:00:00.004822\n",
      "Invalid Range: could not broadcast input array from shape (2179,257) into shape (2179,258)\n",
      "Time for Getting  0  random elements:  0:00:00.003692\n",
      "Invalid Range: could not broadcast input array from shape (2100,257) into shape (2100,258)\n",
      "Time for Getting  0  random elements:  0:00:00.004007\n",
      "Invalid Range: could not broadcast input array from shape (2107,257) into shape (2107,258)\n",
      "Time for Getting  0  random elements:  0:00:00.003956\n",
      "Invalid Range: could not broadcast input array from shape (2133,257) into shape (2133,258)\n",
      "Time for Getting  0"
     ]
    },
    {
     "name": "stderr",
     "output_type": "stream",
     "text": [
      "2018-10-16 23:58:07,371 - nn-real-hvd - INFO -     76     1 93071.7     0.0   0.002 0.10000\n",
      "2018-10-16 23:58:07,371 - nn-real-hvd - INFO -     76     1 93071.7     0.0   0.002 0.10000\n",
      "2018-10-16 23:58:07,420 - nn-real-hvd - INFO -     77     1 93012.9     0.0   0.002 0.10000\n",
      "2018-10-16 23:58:07,420 - nn-real-hvd - INFO -     77     1 93012.9     0.0   0.002 0.10000\n",
      "2018-10-16 23:58:07,469 - nn-real-hvd - INFO -     78     1 93241.9     0.0   0.002 0.10000\n",
      "2018-10-16 23:58:07,469 - nn-real-hvd - INFO -     78     1 93241.9     0.0   0.002 0.10000\n",
      "2018-10-16 23:58:07,518 - nn-real-hvd - INFO -     79     1 95321.7     0.0   0.002 0.10000\n",
      "2018-10-16 23:58:07,518 - nn-real-hvd - INFO -     79     1 95321.7     0.0   0.002 0.10000\n",
      "2018-10-16 23:58:07,566 - nn-real-hvd - INFO -     80     1 95343.7     0.0   0.002 0.10000\n",
      "2018-10-16 23:58:07,566 - nn-real-hvd - INFO -     80     1 95343.7     0.0   0.002 0.10000\n"
     ]
    },
    {
     "name": "stdout",
     "output_type": "stream",
     "text": [
      "  random elements:  0:00:00.004435\n",
      "Invalid Range: could not broadcast input array from shape (2154,257) into shape (2154,258)\n",
      "Time for Getting  0  random elements:  0:00:00.004143\n",
      "Invalid Range: could not broadcast input array from shape (2167,257) into shape (2167,258)\n",
      "Time for Getting  0  random elements:  0:00:00.004584\n",
      "Invalid Range: could not broadcast input array from shape (2187,257) into shape (2187,258)\n",
      "Time for Getting  0  random elements:  0:00:00.004386\n",
      "Invalid Range: could not broadcast input array from shape (2131,257) into shape (2131,258)\n",
      "Time for Getting  0  random elements:  0:00:00.004324\n",
      "Invalid Range: could not broadcast input array from shape (2113,257) into shape (2113,258)\n",
      "Time for Getting  0  random elements:  0:00:00.004441\n"
     ]
    },
    {
     "name": "stderr",
     "output_type": "stream",
     "text": [
      "2018-10-16 23:58:07,614 - nn-real-hvd - INFO -     81     1 95610.9     0.0   0.002 0.10000\n",
      "2018-10-16 23:58:07,614 - nn-real-hvd - INFO -     81     1 95610.9     0.0   0.002 0.10000\n",
      "2018-10-16 23:58:07,662 - nn-real-hvd - INFO -     82     1 95716.4     0.0   0.002 0.10000\n",
      "2018-10-16 23:58:07,662 - nn-real-hvd - INFO -     82     1 95716.4     0.0   0.002 0.10000\n",
      "2018-10-16 23:58:07,712 - nn-real-hvd - INFO -     83     1 92170.4     0.0   0.002 0.10000\n",
      "2018-10-16 23:58:07,712 - nn-real-hvd - INFO -     83     1 92170.4     0.0   0.002 0.10000\n",
      "2018-10-16 23:58:07,759 - nn-real-hvd - INFO -     84     1 99222.7     0.0   0.002 0.10000\n",
      "2018-10-16 23:58:07,759 - nn-real-hvd - INFO -     84     1 99222.7     0.0   0.002 0.10000\n",
      "2018-10-16 23:58:07,807 - nn-real-hvd - INFO -     85     1 94582.8     0.0   0.002 0.10000\n",
      "2018-10-16 23:58:07,807 - nn-real-hvd - INFO -     85     1 94582.8     0.0   0.002 0.10000\n"
     ]
    },
    {
     "name": "stdout",
     "output_type": "stream",
     "text": [
      "Invalid Range: could not broadcast input array from shape (2142,257) into shape (2142,258)\n",
      "Time for Getting  0  random elements:  0:00:00.004601\n",
      "Invalid Range: could not broadcast input array from shape (2066,257) into shape (2066,258)\n",
      "Time for Getting  0  random elements:  0:00:00.004175\n",
      "Invalid Range: could not broadcast input array from shape (2152,257) into shape (2152,258)\n",
      "Time for Getting  0  random elements:  0:00:00.004129\n",
      "Invalid Range: could not broadcast input array from shape (2087,257) into shape (2087,258)\n",
      "Time for Getting  0  random elements:  0:00:00.004237\n",
      "Invalid Range: could not broadcast input array from shape (2176,257) into shape (2176,258)\n",
      "Time for Getting  0  random elements:  0:00:00.004343\n"
     ]
    },
    {
     "name": "stderr",
     "output_type": "stream",
     "text": [
      "2018-10-16 23:58:07,854 - nn-real-hvd - INFO -     86     1 98048.5     0.0   0.002 0.10000\n",
      "2018-10-16 23:58:07,854 - nn-real-hvd - INFO -     86     1 98048.5     0.0   0.002 0.10000\n",
      "2018-10-16 23:58:07,902 - nn-real-hvd - INFO -     87     1 94846.2     0.0   0.002 0.10000\n",
      "2018-10-16 23:58:07,902 - nn-real-hvd - INFO -     87     1 94846.2     0.0   0.002 0.10000\n",
      "2018-10-16 23:58:07,948 - nn-real-hvd - INFO -     88     1 99397.5     0.0   0.002 0.10000\n",
      "2018-10-16 23:58:07,948 - nn-real-hvd - INFO -     88     1 99397.5     0.0   0.002 0.10000\n",
      "2018-10-16 23:58:07,997 - nn-real-hvd - INFO -     89     1 94277.2     0.0   0.002 0.10000\n",
      "2018-10-16 23:58:07,997 - nn-real-hvd - INFO -     89     1 94277.2     0.0   0.002 0.10000\n",
      "2018-10-16 23:58:08,059 - nn-real-hvd - INFO -     90     1 73290.8     0.1   0.002 0.10000\n",
      "2018-10-16 23:58:08,059 - nn-real-hvd - INFO -     90     1 73290.8     0.1   0.002 0.10000\n"
     ]
    },
    {
     "name": "stdout",
     "output_type": "stream",
     "text": [
      "Invalid Range: could not broadcast input array from shape (2179,257) into shape (2179,258)\n",
      "Time for Getting  0  random elements:  0:00:00.004051\n",
      "Invalid Range: could not broadcast input array from shape (2188,257) into shape (2188,258)\n",
      "Time for Getting  0  random elements:  0:00:00.004305\n",
      "Invalid Range: could not broadcast input array from shape (2096,257) into shape (2096,258)\n",
      "Time for Getting  0  random elements:  0:00:00.004118\n",
      "Invalid Range: could not broadcast input array from shape (2098,257) into shape (2098,258)\n",
      "Time for Getting  0  random elements:  0:00:00.004286\n"
     ]
    },
    {
     "name": "stderr",
     "output_type": "stream",
     "text": [
      "2018-10-16 23:58:08,106 - nn-real-hvd - INFO -     91     1 97377.7     0.0   0.002 0.10000\n",
      "2018-10-16 23:58:08,106 - nn-real-hvd - INFO -     91     1 97377.7     0.0   0.002 0.10000\n",
      "2018-10-16 23:58:08,150 - nn-real-hvd - INFO -     92     1 103531.0     0.0   0.002 0.10000\n",
      "2018-10-16 23:58:08,150 - nn-real-hvd - INFO -     92     1 103531.0     0.0   0.002 0.10000\n",
      "2018-10-16 23:58:08,198 - nn-real-hvd - INFO -     93     1 95327.5     0.0   0.002 0.10000\n",
      "2018-10-16 23:58:08,198 - nn-real-hvd - INFO -     93     1 95327.5     0.0   0.002 0.10000\n",
      "2018-10-16 23:58:08,247 - nn-real-hvd - INFO -     94     1 94324.7     0.0   0.002 0.10000\n",
      "2018-10-16 23:58:08,247 - nn-real-hvd - INFO -     94     1 94324.7     0.0   0.002 0.10000\n"
     ]
    },
    {
     "name": "stdout",
     "output_type": "stream",
     "text": [
      "Invalid Range: could not broadcast input array from shape (2173,257) into shape (2173,258)\n",
      "Time for Getting  0  random elements:  0:00:00.004721\n",
      "Invalid Range: could not broadcast input array from shape (2151,257) into shape (2151,258)\n",
      "Time for Getting  0  random elements:  0:00:00.003953\n",
      "Invalid Range: could not broadcast input array from shape (2152,257) into shape (2152,258)\n",
      "Time for Getting  0  random elements:  0:00:00.003732\n",
      "Invalid Range: could not broadcast input array from shape (2154,257) into shape (2154,258)\n",
      "Time for Getting  0  random elements:  0:00:00.004200\n",
      "Invalid Range: could not broadcast input array from shape (2078,257) into shape (2078,258)\n",
      "Time for Getting  0  random elements:  0:00:00.004147\n"
     ]
    },
    {
     "name": "stderr",
     "output_type": "stream",
     "text": [
      "2018-10-16 23:58:08,297 - nn-real-hvd - INFO -     95     1 92000.0     0.0   0.002 0.10000\n",
      "2018-10-16 23:58:08,297 - nn-real-hvd - INFO -     95     1 92000.0     0.0   0.002 0.10000\n",
      "2018-10-16 23:58:08,344 - nn-real-hvd - INFO -     96     1 95286.4     0.0   0.002 0.10000\n",
      "2018-10-16 23:58:08,344 - nn-real-hvd - INFO -     96     1 95286.4     0.0   0.002 0.10000\n",
      "2018-10-16 23:58:08,391 - nn-real-hvd - INFO -     97     1 98552.5     0.0   0.002 0.10000\n",
      "2018-10-16 23:58:08,391 - nn-real-hvd - INFO -     97     1 98552.5     0.0   0.002 0.10000\n",
      "2018-10-16 23:58:08,442 - nn-real-hvd - INFO -     98     1 90559.0     0.0   0.002 0.10000\n",
      "2018-10-16 23:58:08,442 - nn-real-hvd - INFO -     98     1 90559.0     0.0   0.002 0.10000\n",
      "2018-10-16 23:58:08,490 - nn-real-hvd - INFO -     99     1 93913.3     0.0   0.002 0.10000\n",
      "2018-10-16 23:58:08,490 - nn-real-hvd - INFO -     99     1 93913.3     0.0   0.002 0.10000\n"
     ]
    },
    {
     "name": "stdout",
     "output_type": "stream",
     "text": [
      "Invalid Range: could not broadcast input array from shape (2155,257) into shape (2155,258)\n",
      "Time for Getting  0  random elements:  0:00:00.004288\n",
      "Invalid Range: could not broadcast input array from shape (2113,257) into shape (2113,258)\n",
      "Time for Getting  0  random elements:  0:00:00.004303\n",
      "Invalid Range: could not broadcast input array from shape (2139,257) into shape (2139,258)\n",
      "Time for Getting  0  random elements:  0:00:00.004231\n",
      "Invalid Range: could not broadcast input array from shape (2143,257) into shape (2143,258)\n",
      "Time for Getting  0  random elements:  0:00:00.004325\n",
      "Invalid Range: could not broadcast input array from shape (2083,257) into shape (2083,258)\n",
      "Time for Getting  0  random elements:  0:00:00.004168\n"
     ]
    },
    {
     "name": "stderr",
     "output_type": "stream",
     "text": [
      "2018-10-16 23:58:08,536 - nn-real-hvd - INFO -    100     1 99394.3     0.0   0.002 0.10000\n",
      "2018-10-16 23:58:08,536 - nn-real-hvd - INFO -    100     1 99394.3     0.0   0.002 0.10000\n",
      "2018-10-16 23:58:08,584 - nn-real-hvd - INFO -    101     1 95093.6     0.0   0.002 0.10000\n",
      "2018-10-16 23:58:08,584 - nn-real-hvd - INFO -    101     1 95093.6     0.0   0.002 0.10000\n",
      "2018-10-16 23:58:08,632 - nn-real-hvd - INFO -    102     1 96856.8     0.0   0.002 0.10000\n",
      "2018-10-16 23:58:08,632 - nn-real-hvd - INFO -    102     1 96856.8     0.0   0.002 0.10000\n",
      "2018-10-16 23:58:08,681 - nn-real-hvd - INFO -    103     1 93640.3     0.0   0.002 0.10000\n",
      "2018-10-16 23:58:08,681 - nn-real-hvd - INFO -    103     1 93640.3     0.0   0.002 0.10000\n",
      "2018-10-16 23:58:08,731 - nn-real-hvd - INFO -    104     1 91478.0     0.0   0.002 0.10000\n",
      "2018-10-16 23:58:08,731 - nn-real-hvd - INFO -    104     1 91478.0     0.0   0.002 0.10000\n"
     ]
    },
    {
     "name": "stdout",
     "output_type": "stream",
     "text": [
      "Invalid Range: could not broadcast input array from shape (2110,257) into shape (2110,258)\n",
      "Time for Getting  0  random elements:  0:00:00.004188\n",
      "Invalid Range: could not broadcast input array from shape (2232,257) into shape (2232,258)\n",
      "Time for Getting  0  random elements:  0:00:00.004263\n",
      "Invalid Range: could not broadcast input array from shape (2120,257) into shape (2120,258)\n",
      "Time for Getting  0  random elements:  0:00:00.004026\n",
      "Invalid Range: could not broadcast input array from shape (2198,257) into shape (2198,258)\n",
      "Time for Getting  0  random elements:  0:00:00.004147\n",
      "Invalid Range: could not broadcast input array from shape (2187,257) into shape (2187,258)\n",
      "Time for Getting  0  random elements:  0:00:00.004010\n"
     ]
    },
    {
     "name": "stderr",
     "output_type": "stream",
     "text": [
      "2018-10-16 23:58:08,779 - nn-real-hvd - INFO -    105     1 93983.6     0.0   0.002 0.10000\n",
      "2018-10-16 23:58:08,779 - nn-real-hvd - INFO -    105     1 93983.6     0.0   0.002 0.10000\n",
      "2018-10-16 23:58:08,828 - nn-real-hvd - INFO -    106     1 93124.9     0.0   0.002 0.10000\n",
      "2018-10-16 23:58:08,828 - nn-real-hvd - INFO -    106     1 93124.9     0.0   0.002 0.10000\n",
      "2018-10-16 23:58:08,877 - nn-real-hvd - INFO -    107     1 94258.1     0.0   0.002 0.10000\n",
      "2018-10-16 23:58:08,877 - nn-real-hvd - INFO -    107     1 94258.1     0.0   0.002 0.10000\n",
      "2018-10-16 23:58:08,926 - nn-real-hvd - INFO -    108     1 92116.9     0.0   0.002 0.10000\n",
      "2018-10-16 23:58:08,926 - nn-real-hvd - INFO -    108     1 92116.9     0.0   0.002 0.10000\n",
      "2018-10-16 23:58:08,974 - nn-real-hvd - INFO -    109     1 96465.1     0.0   0.002 0.10000\n",
      "2018-10-16 23:58:08,974 - nn-real-hvd - INFO -    109     1 96465.1     0.0   0.002 0.10000\n"
     ]
    },
    {
     "name": "stdout",
     "output_type": "stream",
     "text": [
      "Invalid Range: could not broadcast input array from shape (2104,257) into shape (2104,258)\n",
      "Time for Getting  0  random elements:  0:00:00.003760\n",
      "Invalid Range: could not broadcast input array from shape (2097,257) into shape (2097,258)\n",
      "Time for Getting  0  random elements:  0:00:00.003852\n",
      "Invalid Range: could not broadcast input array from shape (2098,257) into shape (2098,258)\n",
      "Time for Getting  0  random elements:  0:00:00.004267\n",
      "Invalid Range: could not broadcast input array from shape (2143,257) into shape (2143,258)\n",
      "Time for Getting  0  random elements:  0:00:00.004265\n",
      "Invalid Range: could not broadcast input array from shape (2129,257) into shape (2129,258)\n",
      "Time for Getting  0  random elements:  0:00:00.004334\n"
     ]
    },
    {
     "name": "stderr",
     "output_type": "stream",
     "text": [
      "2018-10-16 23:58:09,021 - nn-real-hvd - INFO -    110     1 96847.2     0.0   0.002 0.10000\n",
      "2018-10-16 23:58:09,021 - nn-real-hvd - INFO -    110     1 96847.2     0.0   0.002 0.10000\n",
      "2018-10-16 23:58:09,069 - nn-real-hvd - INFO -    111     1 98166.2     0.0   0.002 0.10000\n",
      "2018-10-16 23:58:09,069 - nn-real-hvd - INFO -    111     1 98166.2     0.0   0.002 0.10000\n",
      "2018-10-16 23:58:09,117 - nn-real-hvd - INFO -    112     1 96451.6     0.0   0.002 0.10000\n",
      "2018-10-16 23:58:09,117 - nn-real-hvd - INFO -    112     1 96451.6     0.0   0.002 0.10000\n",
      "2018-10-16 23:58:09,162 - nn-real-hvd - INFO -    113     1 101502.3     0.0   0.002 0.10000\n",
      "2018-10-16 23:58:09,162 - nn-real-hvd - INFO -    113     1 101502.3     0.0   0.002 0.10000\n",
      "2018-10-16 23:58:09,208 - nn-real-hvd - INFO -    114     1 99634.9     0.0   0.002 0.10000\n",
      "2018-10-16 23:58:09,208 - nn-real-hvd - INFO -    114     1 99634.9     0.0   0.002 0.10000\n"
     ]
    },
    {
     "name": "stdout",
     "output_type": "stream",
     "text": [
      "Invalid Range: could not broadcast input array from shape (2108,257) into shape (2108,258)\n",
      "Time for Getting  0  random elements:  0:00:00.004243\n",
      "Invalid Range: could not broadcast input array from shape (2090,257) into shape (2090,258)\n",
      "Time for Getting  0  random elements:  0:00:00.004160\n",
      "Invalid Range: could not broadcast input array from shape (2139,257) into shape (2139,258)\n",
      "Time for Getting  0  random elements:  0:00:00.003749\n",
      "Invalid Range: could not broadcast input array from shape (2151,257) into shape (2151,258)\n",
      "Time for Getting  0  random elements:  0:00:00.003647\n",
      "Invalid Range: could not broadcast input array from shape (2137,257) into shape (2137,258)\n",
      "Time for Getting  0  random elements:  0:00:00.003798\n"
     ]
    },
    {
     "name": "stderr",
     "output_type": "stream",
     "text": [
      "2018-10-16 23:58:09,255 - nn-real-hvd - INFO -    115     1 96739.7     0.0   0.002 0.10000\n",
      "2018-10-16 23:58:09,255 - nn-real-hvd - INFO -    115     1 96739.7     0.0   0.002 0.10000\n",
      "2018-10-16 23:58:09,303 - nn-real-hvd - INFO -    116     1 95853.3     0.0   0.002 0.10000\n",
      "2018-10-16 23:58:09,303 - nn-real-hvd - INFO -    116     1 95853.3     0.0   0.002 0.10000\n",
      "2018-10-16 23:58:09,353 - nn-real-hvd - INFO -    117     1 91629.8     0.0   0.002 0.10000\n",
      "2018-10-16 23:58:09,353 - nn-real-hvd - INFO -    117     1 91629.8     0.0   0.002 0.10000\n",
      "2018-10-16 23:58:09,402 - nn-real-hvd - INFO -    118     1 93253.1     0.0   0.002 0.10000\n",
      "2018-10-16 23:58:09,402 - nn-real-hvd - INFO -    118     1 93253.1     0.0   0.002 0.10000\n",
      "2018-10-16 23:58:09,452 - nn-real-hvd - INFO -    119     1 90113.6     0.0   0.002 0.10000\n",
      "2018-10-16 23:58:09,452 - nn-real-hvd - INFO -    119     1 90113.6     0.0   0.002 0.10000\n"
     ]
    },
    {
     "name": "stdout",
     "output_type": "stream",
     "text": [
      "Invalid Range: could not broadcast input array from shape (2116,257) into shape (2116,258)\n",
      "Time for Getting  0  random elements:  0:00:00.004016\n",
      "Invalid Range: could not broadcast input array from shape (2161,257) into shape (2161,258)\n",
      "Time for Getting  0  random elements:  0:00:00.004215\n",
      "Invalid Range: could not broadcast input array from shape (2164,257) into shape (2164,258)\n",
      "Time for Getting  0  random elements:  0:00:00.004318\n",
      "Invalid Range: could not broadcast input array from shape (2101,257) into shape (2101,258)\n",
      "Time for Getting  0  random elements:  0:00:00.004038\n",
      "Invalid Range: could not broadcast input array from shape (2145,257) into shape (2145,258)\n"
     ]
    },
    {
     "name": "stderr",
     "output_type": "stream",
     "text": [
      "2018-10-16 23:58:09,503 - nn-real-hvd - INFO -    120     1 91412.7     0.0   0.002 0.10000\n",
      "2018-10-16 23:58:09,503 - nn-real-hvd - INFO -    120     1 91412.7     0.0   0.002 0.10000\n",
      "2018-10-16 23:58:09,552 - nn-real-hvd - INFO -    121     1 92850.0     0.0   0.002 0.10000\n",
      "2018-10-16 23:58:09,552 - nn-real-hvd - INFO -    121     1 92850.0     0.0   0.002 0.10000\n",
      "2018-10-16 23:58:09,601 - nn-real-hvd - INFO -    122     1 93966.0     0.0   0.002 0.10000\n",
      "2018-10-16 23:58:09,601 - nn-real-hvd - INFO -    122     1 93966.0     0.0   0.002 0.10000\n",
      "2018-10-16 23:58:09,649 - nn-real-hvd - INFO -    123     1 96005.6     0.0   0.002 0.10000\n",
      "2018-10-16 23:58:09,649 - nn-real-hvd - INFO -    123     1 96005.6     0.0   0.002 0.10000\n"
     ]
    },
    {
     "name": "stdout",
     "output_type": "stream",
     "text": [
      "Time for Getting  0  random elements:  0:00:00.004526\n",
      "Invalid Range: could not broadcast input array from shape (2130,257) into shape (2130,258)\n",
      "Time for Getting  0  random elements:  0:00:00.004014\n",
      "Invalid Range: could not broadcast input array from shape (2203,257) into shape (2203,258)\n",
      "Time for Getting  0  random elements:  0:00:00.003958\n",
      "Invalid Range: could not broadcast input array from shape (2157,257) into shape (2157,258)\n",
      "Time for Getting  0  random elements:  0:00:00.004262\n",
      "Invalid Range: could not broadcast input array from shape (2145,257) into shape (2145,258)\n",
      "Time for Getting  0  random elements:  0:00:00.004186\n"
     ]
    },
    {
     "name": "stderr",
     "output_type": "stream",
     "text": [
      "2018-10-16 23:58:09,696 - nn-real-hvd - INFO -    124     1 96271.0     0.0   0.002 0.10000\n",
      "2018-10-16 23:58:09,696 - nn-real-hvd - INFO -    124     1 96271.0     0.0   0.002 0.10000\n",
      "2018-10-16 23:58:09,743 - nn-real-hvd - INFO -    125     1 96778.0     0.0   0.002 0.10000\n",
      "2018-10-16 23:58:09,743 - nn-real-hvd - INFO -    125     1 96778.0     0.0   0.002 0.10000\n",
      "2018-10-16 23:58:09,790 - nn-real-hvd - INFO -    126     1 98113.3     0.0   0.002 0.10000\n",
      "2018-10-16 23:58:09,790 - nn-real-hvd - INFO -    126     1 98113.3     0.0   0.002 0.10000\n",
      "2018-10-16 23:58:09,837 - nn-real-hvd - INFO -    127     1 96627.4     0.0   0.002 0.10000\n",
      "2018-10-16 23:58:09,837 - nn-real-hvd - INFO -    127     1 96627.4     0.0   0.002 0.10000\n",
      "2018-10-16 23:58:09,886 - nn-real-hvd - INFO -    128     1 95447.6     0.0   0.002 0.10000\n",
      "2018-10-16 23:58:09,886 - nn-real-hvd - INFO -    128     1 95447.6     0.0   0.002 0.10000\n"
     ]
    },
    {
     "name": "stdout",
     "output_type": "stream",
     "text": [
      "Invalid Range: could not broadcast input array from shape (2129,257) into shape (2129,258)\n",
      "Time for Getting  0  random elements:  0:00:00.003844\n",
      "Invalid Range: could not broadcast input array from shape (2112,257) into shape (2112,258)\n",
      "Time for Getting  0  random elements:  0:00:00.004009\n",
      "Invalid Range: could not broadcast input array from shape (2068,257) into shape (2068,258)\n",
      "Time for Getting  0  random elements:  0:00:00.003875\n",
      "Invalid Range: could not broadcast input array from shape (2137,257) into shape (2137,258)\n",
      "Time for Getting  0  random elements:  0:00:00.003776\n",
      "Invalid Range: could not broadcast input array from shape (2166,257) into shape (2166,258)\n",
      "Time for Getting  0  random elements:  0:00:00.004059\n"
     ]
    },
    {
     "name": "stderr",
     "output_type": "stream",
     "text": [
      "2018-10-16 23:58:09,935 - nn-real-hvd - INFO -    129     1 93376.5     0.0   0.002 0.10000\n",
      "2018-10-16 23:58:09,935 - nn-real-hvd - INFO -    129     1 93376.5     0.0   0.002 0.10000\n",
      "2018-10-16 23:58:09,985 - nn-real-hvd - INFO -    130     1 93633.7     0.0   0.002 0.10000\n",
      "2018-10-16 23:58:09,985 - nn-real-hvd - INFO -    130     1 93633.7     0.0   0.002 0.10000\n",
      "2018-10-16 23:58:10,036 - nn-real-hvd - INFO -    131     1 88932.2     0.0   0.002 0.10000\n",
      "2018-10-16 23:58:10,036 - nn-real-hvd - INFO -    131     1 88932.2     0.0   0.002 0.10000\n",
      "2018-10-16 23:58:10,084 - nn-real-hvd - INFO -    132     1 94745.5     0.0   0.002 0.10000\n",
      "2018-10-16 23:58:10,084 - nn-real-hvd - INFO -    132     1 94745.5     0.0   0.002 0.10000\n",
      "2018-10-16 23:58:10,134 - nn-real-hvd - INFO -    133     1 91956.2     0.0   0.002 0.10000\n",
      "2018-10-16 23:58:10,134 - nn-real-hvd - INFO -    133     1 91956.2     0.0   0.002 0.10000\n"
     ]
    },
    {
     "name": "stdout",
     "output_type": "stream",
     "text": [
      "Invalid Range: could not broadcast input array from shape (2112,257) into shape (2112,258)\n",
      "Time for Getting  0  random elements:  0:00:00.004531\n",
      "Invalid Range: could not broadcast input array from shape (2133,257) into shape (2133,258)\n",
      "Time for Getting  0  random elements:  0:00:00.004153\n",
      "Invalid Range: could not broadcast input array from shape (2092,257) into shape (2092,258)\n",
      "Time for Getting  0  random elements:  0:00:00.004022\n",
      "Invalid Range: could not broadcast input array from shape (2096,257) into shape (2096,258)\n",
      "Time for Getting  0  random elements:  0:00:00.004129\n",
      "Invalid Range: could not broadcast input array from shape (2145,257) into shape (2145,258)\n"
     ]
    },
    {
     "name": "stderr",
     "output_type": "stream",
     "text": [
      "2018-10-16 23:58:10,186 - nn-real-hvd - INFO -    134     1 87962.8     0.1   0.002 0.10000\n",
      "2018-10-16 23:58:10,186 - nn-real-hvd - INFO -    134     1 87962.8     0.1   0.002 0.10000\n",
      "2018-10-16 23:58:10,235 - nn-real-hvd - INFO -    135     1 93505.9     0.0   0.002 0.10000\n",
      "2018-10-16 23:58:10,235 - nn-real-hvd - INFO -    135     1 93505.9     0.0   0.002 0.10000\n",
      "2018-10-16 23:58:10,281 - nn-real-hvd - INFO -    136     1 99250.8     0.0   0.002 0.10000\n",
      "2018-10-16 23:58:10,281 - nn-real-hvd - INFO -    136     1 99250.8     0.0   0.002 0.10000\n",
      "2018-10-16 23:58:10,328 - nn-real-hvd - INFO -    137     1 97687.8     0.0   0.002 0.10000\n",
      "2018-10-16 23:58:10,328 - nn-real-hvd - INFO -    137     1 97687.8     0.0   0.002 0.10000\n"
     ]
    },
    {
     "name": "stdout",
     "output_type": "stream",
     "text": [
      "Time for Getting  0  random elements:  0:00:00.004264\n",
      "Invalid Range: could not broadcast input array from shape (2087,257) into shape (2087,258)\n",
      "Time for Getting  0  random elements:  0:00:00.004713\n",
      "Invalid Range: could not broadcast input array from shape (2133,257) into shape (2133,258)\n",
      "Time for Getting  0  random elements:  0:00:00.004948\n",
      "Invalid Range: could not broadcast input array from shape (2140,257) into shape (2140,258)\n",
      "Time for Getting  0  random elements:  0:00:00.004032\n",
      "Invalid Range: could not broadcast input array from shape (2132,257) into shape (2132,258)\n",
      "Time for Getting  0  random elements:  0:00:00.004255\n"
     ]
    },
    {
     "name": "stderr",
     "output_type": "stream",
     "text": [
      "2018-10-16 23:58:10,376 - nn-real-hvd - INFO -    138     1 95990.7     0.0   0.002 0.10000\n",
      "2018-10-16 23:58:10,376 - nn-real-hvd - INFO -    138     1 95990.7     0.0   0.002 0.10000\n",
      "2018-10-16 23:58:10,425 - nn-real-hvd - INFO -    139     1 94051.3     0.0   0.002 0.10000\n",
      "2018-10-16 23:58:10,425 - nn-real-hvd - INFO -    139     1 94051.3     0.0   0.002 0.10000\n",
      "2018-10-16 23:58:10,475 - nn-real-hvd - INFO -    140     1 91072.7     0.0   0.002 0.10000\n",
      "2018-10-16 23:58:10,475 - nn-real-hvd - INFO -    140     1 91072.7     0.0   0.002 0.10000\n",
      "2018-10-16 23:58:10,524 - nn-real-hvd - INFO -    141     1 92828.2     0.0   0.002 0.10000\n",
      "2018-10-16 23:58:10,524 - nn-real-hvd - INFO -    141     1 92828.2     0.0   0.002 0.10000\n",
      "2018-10-16 23:58:10,575 - nn-real-hvd - INFO -    142     1 90806.2     0.0   0.002 0.10000\n",
      "2018-10-16 23:58:10,575 - nn-real-hvd - INFO -    142     1 90806.2     0.0   0.002 0.10000\n"
     ]
    },
    {
     "name": "stdout",
     "output_type": "stream",
     "text": [
      "Invalid Range: could not broadcast input array from shape (2155,257) into shape (2155,258)\n",
      "Time for Getting  0  random elements:  0:00:00.004351\n",
      "Invalid Range: could not broadcast input array from shape (2155,257) into shape (2155,258)\n",
      "Time for Getting  0  random elements:  0:00:00.004332\n",
      "Invalid Range: could not broadcast input array from shape (2132,257) into shape (2132,258)\n",
      "Time for Getting  0  random elements:  0:00:00.004391\n",
      "Invalid Range: could not broadcast input array from shape (2132,257) into shape (2132,258)\n",
      "Time for Getting  0  random elements:  0:00:00.004238\n",
      "Invalid Range: could not broadcast input array from shape (2139,257) into shape (2139,258)\n",
      "Time for Getting  0  random elements:  0:00:00.004545\n"
     ]
    },
    {
     "name": "stderr",
     "output_type": "stream",
     "text": [
      "2018-10-16 23:58:10,624 - nn-real-hvd - INFO -    143     1 92630.9     0.0   0.002 0.10000\n",
      "2018-10-16 23:58:10,624 - nn-real-hvd - INFO -    143     1 92630.9     0.0   0.002 0.10000\n",
      "2018-10-16 23:58:10,673 - nn-real-hvd - INFO -    144     1 95805.8     0.0   0.002 0.10000\n",
      "2018-10-16 23:58:10,673 - nn-real-hvd - INFO -    144     1 95805.8     0.0   0.002 0.10000\n",
      "2018-10-16 23:58:10,722 - nn-real-hvd - INFO -    145     1 93626.2     0.0   0.002 0.10000\n",
      "2018-10-16 23:58:10,722 - nn-real-hvd - INFO -    145     1 93626.2     0.0   0.002 0.10000\n",
      "2018-10-16 23:58:10,770 - nn-real-hvd - INFO -    146     1 94569.3     0.0   0.002 0.10000\n",
      "2018-10-16 23:58:10,770 - nn-real-hvd - INFO -    146     1 94569.3     0.0   0.002 0.10000\n"
     ]
    },
    {
     "name": "stdout",
     "output_type": "stream",
     "text": [
      "Invalid Range: could not broadcast input array from shape (2104,257) into shape (2104,258)\n",
      "Time for Getting  0  random elements:  0:00:00.004305\n",
      "Invalid Range: could not broadcast input array from shape (2108,257) into shape (2108,258)\n",
      "Time for Getting  0  random elements:  0:00:00.004330\n",
      "Invalid Range: could not broadcast input array from shape (2121,257) into shape (2121,258)\n",
      "Time for Getting  0  random elements:  0:00:00.003996\n",
      "Invalid Range: could not broadcast input array from shape (2111,257) into shape (2111,258)\n",
      "Time for Getting  0  random elements:  0:00:00.004284\n"
     ]
    },
    {
     "name": "stderr",
     "output_type": "stream",
     "text": [
      "2018-10-16 23:58:10,819 - nn-real-hvd - INFO -    147     1 94987.5     0.0   0.002 0.10000\n",
      "2018-10-16 23:58:10,819 - nn-real-hvd - INFO -    147     1 94987.5     0.0   0.002 0.10000\n",
      "2018-10-16 23:58:10,867 - nn-real-hvd - INFO -    148     1 94582.8     0.0   0.002 0.10000\n",
      "2018-10-16 23:58:10,867 - nn-real-hvd - INFO -    148     1 94582.8     0.0   0.002 0.10000\n",
      "2018-10-16 23:58:10,920 - nn-real-hvd - INFO -    149     1 86414.7     0.1   0.002 0.10000\n",
      "2018-10-16 23:58:10,920 - nn-real-hvd - INFO -    149     1 86414.7     0.1   0.002 0.10000\n",
      "2018-10-16 23:58:10,967 - nn-real-hvd - INFO -    150     1 96690.8     0.0   0.002 0.10000\n",
      "2018-10-16 23:58:10,967 - nn-real-hvd - INFO -    150     1 96690.8     0.0   0.002 0.10000\n",
      "2018-10-16 23:58:11,014 - nn-real-hvd - INFO -    151     1 98197.9     0.0   0.002 0.10000\n",
      "2018-10-16 23:58:11,014 - nn-real-hvd - INFO -    151     1 98197.9     0.0   0.002 0.10000\n"
     ]
    },
    {
     "name": "stdout",
     "output_type": "stream",
     "text": [
      "Invalid Range: could not broadcast input array from shape (2145,257) into shape (2145,258)\n",
      "Time for Getting  0  random elements:  0:00:00.004347\n",
      "Invalid Range: could not broadcast input array from shape (2117,257) into shape (2117,258)\n",
      "Time for Getting  0  random elements:  0:00:00.004007\n",
      "Invalid Range: could not broadcast input array from shape (2115,257) into shape (2115,258)\n",
      "Time for Getting  0  random elements:  0:00:00.004054\n",
      "Invalid Range: could not broadcast input array from shape (2100,257) into shape (2100,258)\n",
      "Time for Getting  0  random elements:  0:00:00.004166\n",
      "Invalid Range: could not broadcast input array from shape (2151,257) into shape (2151,258)\n",
      "Time for Getting  0  random elements:  0:00:00.004296\n"
     ]
    },
    {
     "name": "stderr",
     "output_type": "stream",
     "text": [
      "2018-10-16 23:58:11,064 - nn-real-hvd - INFO -    152     1 92012.7     0.0   0.002 0.10000\n",
      "2018-10-16 23:58:11,064 - nn-real-hvd - INFO -    152     1 92012.7     0.0   0.002 0.10000\n",
      "2018-10-16 23:58:11,111 - nn-real-hvd - INFO -    153     1 97810.8     0.0   0.002 0.10000\n",
      "2018-10-16 23:58:11,111 - nn-real-hvd - INFO -    153     1 97810.8     0.0   0.002 0.10000\n",
      "2018-10-16 23:58:11,159 - nn-real-hvd - INFO -    154     1 94799.2     0.0   0.002 0.10000\n",
      "2018-10-16 23:58:11,159 - nn-real-hvd - INFO -    154     1 94799.2     0.0   0.002 0.10000\n",
      "2018-10-16 23:58:11,207 - nn-real-hvd - INFO -    155     1 97414.5     0.0   0.002 0.10000\n",
      "2018-10-16 23:58:11,207 - nn-real-hvd - INFO -    155     1 97414.5     0.0   0.002 0.10000\n",
      "2018-10-16 23:58:11,255 - nn-real-hvd - INFO -    156     1 94775.0     0.0   0.002 0.10000\n",
      "2018-10-16 23:58:11,255 - nn-real-hvd - INFO -    156     1 94775.0     0.0   0.002 0.10000\n"
     ]
    },
    {
     "name": "stdout",
     "output_type": "stream",
     "text": [
      "Invalid Range: could not broadcast input array from shape (2114,257) into shape (2114,258)\n",
      "Time for Getting  0  random elements:  0:00:00.004479\n",
      "Invalid Range: could not broadcast input array from shape (2127,257) into shape (2127,258)\n",
      "Time for Getting  0  random elements:  0:00:00.004318\n",
      "Invalid Range: could not broadcast input array from shape (2183,257) into shape (2183,258)\n",
      "Time for Getting  0  random elements:  0:00:00.004256\n",
      "Invalid Range: could not broadcast input array from shape (2164,257) into shape (2164,258)\n",
      "Time for Getting  0  random elements:  0:00:00.003924\n",
      "Invalid Range: could not broadcast input array from shape (2151,257) into shape (2151,258)\n",
      "Time for Getting  0  random elements:  0:00:00.003683\n"
     ]
    },
    {
     "name": "stderr",
     "output_type": "stream",
     "text": [
      "2018-10-16 23:58:11,302 - nn-real-hvd - INFO -    157     1 97358.8     0.0   0.002 0.10000\n",
      "2018-10-16 23:58:11,302 - nn-real-hvd - INFO -    157     1 97358.8     0.0   0.002 0.10000\n",
      "2018-10-16 23:58:11,351 - nn-real-hvd - INFO -    158     1 91922.0     0.0   0.002 0.10000\n",
      "2018-10-16 23:58:11,351 - nn-real-hvd - INFO -    158     1 91922.0     0.0   0.002 0.10000\n",
      "2018-10-16 23:58:11,401 - nn-real-hvd - INFO -    159     1 93358.2     0.0   0.002 0.10000\n",
      "2018-10-16 23:58:11,401 - nn-real-hvd - INFO -    159     1 93358.2     0.0   0.002 0.10000\n",
      "2018-10-16 23:58:11,450 - nn-real-hvd - INFO -    160     1 93108.6     0.0   0.002 0.10000\n",
      "2018-10-16 23:58:11,450 - nn-real-hvd - INFO -    160     1 93108.6     0.0   0.002 0.10000\n",
      "2018-10-16 23:58:11,498 - nn-real-hvd - INFO -    161     1 94968.5     0.0   0.002 0.10000\n",
      "2018-10-16 23:58:11,498 - nn-real-hvd - INFO -    161     1 94968.5     0.0   0.002 0.10000\n"
     ]
    },
    {
     "name": "stdout",
     "output_type": "stream",
     "text": [
      "Invalid Range: could not broadcast input array from shape (2118,257) into shape (2118,258)\n",
      "Time for Getting  0  random elements:  0:00:00.004285\n",
      "Invalid Range: could not broadcast input array from shape (2098,257) into shape (2098,258)\n",
      "Time for Getting  0  random elements:  0:00:00.004909\n",
      "Invalid Range: could not broadcast input array from shape (2133,257) into shape (2133,258)\n",
      "Time for Getting  0  random elements:  0:00:00.004536\n",
      "Invalid Range: could not broadcast input array from shape (2144,257) into shape (2144,258)\n",
      "Time for Getting  0  random elements:  0:00:00.004611\n",
      "Invalid Range: could not broadcast input array from shape (2185,257) into shape (2185,258)\n",
      "Time for Getting  0  random elements:  0:00:00.004608\n"
     ]
    },
    {
     "name": "stderr",
     "output_type": "stream",
     "text": [
      "2018-10-16 23:58:11,548 - nn-real-hvd - INFO -    162     1 91750.7     0.0   0.002 0.10000\n",
      "2018-10-16 23:58:11,548 - nn-real-hvd - INFO -    162     1 91750.7     0.0   0.002 0.10000\n",
      "2018-10-16 23:58:11,596 - nn-real-hvd - INFO -    163     1 96146.3     0.0   0.002 0.10000\n",
      "2018-10-16 23:58:11,596 - nn-real-hvd - INFO -    163     1 96146.3     0.0   0.002 0.10000\n",
      "2018-10-16 23:58:11,646 - nn-real-hvd - INFO -    164     1 90684.7     0.0   0.002 0.10000\n",
      "2018-10-16 23:58:11,646 - nn-real-hvd - INFO -    164     1 90684.7     0.0   0.002 0.10000\n",
      "2018-10-16 23:58:11,697 - nn-real-hvd - INFO -    165     1 89984.7     0.0   0.002 0.10000\n",
      "2018-10-16 23:58:11,697 - nn-real-hvd - INFO -    165     1 89984.7     0.0   0.002 0.10000\n",
      "2018-10-16 23:58:11,745 - nn-real-hvd - INFO -    166     1 95035.2     0.0   0.002 0.10000\n",
      "2018-10-16 23:58:11,745 - nn-real-hvd - INFO -    166     1 95035.2     0.0   0.002 0.10000\n"
     ]
    },
    {
     "name": "stdout",
     "output_type": "stream",
     "text": [
      "Invalid Range: could not broadcast input array from shape (2158,257) into shape (2158,258)\n",
      "Time for Getting  0  random elements:  0:00:00.004612\n",
      "Invalid Range: could not broadcast input array from shape (2116,257) into shape (2116,258)\n",
      "Time for Getting  0  random elements:  0:00:00.004032\n",
      "Invalid Range: could not broadcast input array from shape (2101,257) into shape (2101,258)\n",
      "Time for Getting  0  random elements:  0:00:00.004476\n",
      "Invalid Range: could not broadcast input array from shape (2178,257) into shape (2178,258)\n",
      "Time for Getting  0  random elements:  0:00:00.004370\n",
      "Invalid Range: could not broadcast input array from shape (2168,257) into shape (2168,258)\n",
      "Time for Getting  0  random elements:  0:00:00.004277\n"
     ]
    },
    {
     "name": "stderr",
     "output_type": "stream",
     "text": [
      "2018-10-16 23:58:11,792 - nn-real-hvd - INFO -    167     1 97655.9     0.0   0.002 0.10000\n",
      "2018-10-16 23:58:11,792 - nn-real-hvd - INFO -    167     1 97655.9     0.0   0.002 0.10000\n",
      "2018-10-16 23:58:11,840 - nn-real-hvd - INFO -    168     1 95963.4     0.0   0.002 0.10000\n",
      "2018-10-16 23:58:11,840 - nn-real-hvd - INFO -    168     1 95963.4     0.0   0.002 0.10000\n",
      "2018-10-16 23:58:11,889 - nn-real-hvd - INFO -    169     1 94681.7     0.0   0.002 0.10000\n",
      "2018-10-16 23:58:11,889 - nn-real-hvd - INFO -    169     1 94681.7     0.0   0.002 0.10000\n",
      "2018-10-16 23:58:11,936 - nn-real-hvd - INFO -    170     1 96850.2     0.0   0.002 0.10000\n",
      "2018-10-16 23:58:11,936 - nn-real-hvd - INFO -    170     1 96850.2     0.0   0.002 0.10000\n",
      "2018-10-16 23:58:11,983 - nn-real-hvd - INFO -    171     1 97057.4     0.0   0.002 0.10000\n",
      "2018-10-16 23:58:11,983 - nn-real-hvd - INFO -    171     1 97057.4     0.0   0.002 0.10000\n"
     ]
    },
    {
     "name": "stdout",
     "output_type": "stream",
     "text": [
      "Invalid Range: could not broadcast input array from shape (2183,257) into shape (2183,258)\n",
      "Time for Getting  0  random elements:  0:00:00.004329\n",
      "Invalid Range: could not broadcast input array from shape (2136,257) into shape (2136,258)\n",
      "Time for Getting  0  random elements:  0:00:00.004338\n",
      "Invalid Range: could not broadcast input array from shape (2090,257) into shape (2090,258)\n",
      "Time for Getting  0  random elements:  0:00:00.004322\n",
      "Invalid Range: could not broadcast input array from shape (2116,257) into shape (2116,258)\n",
      "Time for Getting  0  random elements:  0:00:00.004233\n",
      "Invalid Range: could not broadcast input array from shape (2165,257) into shape (2165,258)\n",
      "Time for Getting  0  random elements:  0:00:00.004029\n"
     ]
    },
    {
     "name": "stderr",
     "output_type": "stream",
     "text": [
      "2018-10-16 23:58:12,034 - nn-real-hvd - INFO -    172     1 90941.5     0.0   0.002 0.10000\n",
      "2018-10-16 23:58:12,034 - nn-real-hvd - INFO -    172     1 90941.5     0.0   0.002 0.10000\n",
      "2018-10-16 23:58:12,082 - nn-real-hvd - INFO -    173     1 94107.5     0.0   0.002 0.10000\n",
      "2018-10-16 23:58:12,082 - nn-real-hvd - INFO -    173     1 94107.5     0.0   0.002 0.10000\n",
      "2018-10-16 23:58:12,131 - nn-real-hvd - INFO -    174     1 94789.1     0.0   0.002 0.10000\n",
      "2018-10-16 23:58:12,131 - nn-real-hvd - INFO -    174     1 94789.1     0.0   0.002 0.10000\n",
      "2018-10-16 23:58:12,177 - nn-real-hvd - INFO -    175     1 101829.2     0.0   0.002 0.10000\n",
      "2018-10-16 23:58:12,177 - nn-real-hvd - INFO -    175     1 101829.2     0.0   0.002 0.10000\n",
      "2018-10-16 23:58:12,226 - nn-real-hvd - INFO -    176     1 93165.1     0.0   0.002 0.10000\n",
      "2018-10-16 23:58:12,226 - nn-real-hvd - INFO -    176     1 93165.1     0.0   0.002 0.10000\n"
     ]
    },
    {
     "name": "stdout",
     "output_type": "stream",
     "text": [
      "Invalid Range: could not broadcast input array from shape (2094,257) into shape (2094,258)\n",
      "Time for Getting  0  random elements:  0:00:00.005185\n",
      "Invalid Range: could not broadcast input array from shape (2156,257) into shape (2156,258)\n",
      "Time for Getting  0  random elements:  0:00:00.004071\n",
      "Invalid Range: could not broadcast input array from shape (2204,257) into shape (2204,258)\n",
      "Time for Getting  0  random elements:  0:00:00.003883\n",
      "Invalid Range: could not broadcast input array from shape (2183,257) into shape (2183,258)\n",
      "Time for Getting  0  random elements:  0:00:00.003872\n",
      "Invalid Range: could not broadcast input array from shape (2130,257) into shape (2130,258)\n",
      "Time for Getting  0  random elements:  0:00:00.004038\n"
     ]
    },
    {
     "name": "stderr",
     "output_type": "stream",
     "text": [
      "2018-10-16 23:58:12,274 - nn-real-hvd - INFO -    177     1 95466.8     0.0   0.002 0.10000\n",
      "2018-10-16 23:58:12,274 - nn-real-hvd - INFO -    177     1 95466.8     0.0   0.002 0.10000\n",
      "2018-10-16 23:58:12,322 - nn-real-hvd - INFO -    178     1 93520.0     0.0   0.002 0.10000\n",
      "2018-10-16 23:58:12,322 - nn-real-hvd - INFO -    178     1 93520.0     0.0   0.002 0.10000\n",
      "2018-10-16 23:58:12,371 - nn-real-hvd - INFO -    179     1 94106.1     0.0   0.002 0.10000\n",
      "2018-10-16 23:58:12,371 - nn-real-hvd - INFO -    179     1 94106.1     0.0   0.002 0.10000\n",
      "2018-10-16 23:58:12,422 - nn-real-hvd - INFO -    180     1 90900.1     0.0   0.002 0.10000\n",
      "2018-10-16 23:58:12,422 - nn-real-hvd - INFO -    180     1 90900.1     0.0   0.002 0.10000\n",
      "2018-10-16 23:58:12,471 - nn-real-hvd - INFO -    181     1 93240.9     0.0   0.002 0.10000\n",
      "2018-10-16 23:58:12,471 - nn-real-hvd - INFO -    181     1 93240.9     0.0   0.002 0.10000\n"
     ]
    },
    {
     "name": "stdout",
     "output_type": "stream",
     "text": [
      "Invalid Range: could not broadcast input array from shape (2157,257) into shape (2157,258)\n",
      "Time for Getting  0  random elements:  0:00:00.004347\n",
      "Invalid Range: could not broadcast input array from shape (2116,257) into shape (2116,258)\n",
      "Time for Getting  0  random elements:  0:00:00.004160\n",
      "Invalid Range: could not broadcast input array from shape (2184,257) into shape (2184,258)\n",
      "Time for Getting  0  random elements:  0:00:00.004326\n",
      "Invalid Range: could not broadcast input array from shape (2100,257) into shape (2100,258)\n",
      "Time for Getting  0  random elements:  0:00:00.004421\n",
      "Invalid Range: could not broadcast input array from shape (2049,257) into shape (2049,258)\n"
     ]
    },
    {
     "name": "stderr",
     "output_type": "stream",
     "text": [
      "2018-10-16 23:58:12,521 - nn-real-hvd - INFO -    182     1 92058.4     0.0   0.002 0.10000\n",
      "2018-10-16 23:58:12,521 - nn-real-hvd - INFO -    182     1 92058.4     0.0   0.002 0.10000\n",
      "2018-10-16 23:58:12,569 - nn-real-hvd - INFO -    183     1 94821.5     0.0   0.002 0.10000\n",
      "2018-10-16 23:58:12,569 - nn-real-hvd - INFO -    183     1 94821.5     0.0   0.002 0.10000\n",
      "2018-10-16 23:58:12,617 - nn-real-hvd - INFO -    184     1 96245.0     0.0   0.002 0.10000\n",
      "2018-10-16 23:58:12,617 - nn-real-hvd - INFO -    184     1 96245.0     0.0   0.002 0.10000\n",
      "2018-10-16 23:58:12,666 - nn-real-hvd - INFO -    185     1 94259.0     0.0   0.002 0.10000\n",
      "2018-10-16 23:58:12,666 - nn-real-hvd - INFO -    185     1 94259.0     0.0   0.002 0.10000\n"
     ]
    },
    {
     "name": "stdout",
     "output_type": "stream",
     "text": [
      "Time for Getting  0  random elements:  0:00:00.004888\n",
      "Invalid Range: could not broadcast input array from shape (2172,257) into shape (2172,258)\n",
      "Time for Getting  0  random elements:  0:00:00.004419\n",
      "Invalid Range: could not broadcast input array from shape (2078,257) into shape (2078,258)\n",
      "Time for Getting  0  random elements:  0:00:00.004391\n",
      "Invalid Range: could not broadcast input array from shape (2151,257) into shape (2151,258)\n",
      "Time for Getting  0  random elements:  0:00:00.004519\n",
      "Invalid Range: could not broadcast input array from shape (2183,257) into shape (2183,258)\n",
      "Time for Getting  0  random elements:  0:00:00.004370\n"
     ]
    },
    {
     "name": "stderr",
     "output_type": "stream",
     "text": [
      "2018-10-16 23:58:12,713 - nn-real-hvd - INFO -    186     1 97883.0     0.0   0.002 0.10000\n",
      "2018-10-16 23:58:12,713 - nn-real-hvd - INFO -    186     1 97883.0     0.0   0.002 0.10000\n",
      "2018-10-16 23:58:12,760 - nn-real-hvd - INFO -    187     1 96681.7     0.0   0.002 0.10000\n",
      "2018-10-16 23:58:12,760 - nn-real-hvd - INFO -    187     1 96681.7     0.0   0.002 0.10000\n",
      "2018-10-16 23:58:12,807 - nn-real-hvd - INFO -    188     1 95727.8     0.0   0.002 0.10000\n",
      "2018-10-16 23:58:12,807 - nn-real-hvd - INFO -    188     1 95727.8     0.0   0.002 0.10000\n",
      "2018-10-16 23:58:12,854 - nn-real-hvd - INFO -    189     1 99068.5     0.0   0.002 0.10000\n",
      "2018-10-16 23:58:12,854 - nn-real-hvd - INFO -    189     1 99068.5     0.0   0.002 0.10000\n",
      "2018-10-16 23:58:12,901 - nn-real-hvd - INFO -    190     1 98070.3     0.0   0.002 0.10000\n",
      "2018-10-16 23:58:12,901 - nn-real-hvd - INFO -    190     1 98070.3     0.0   0.002 0.10000\n"
     ]
    },
    {
     "name": "stdout",
     "output_type": "stream",
     "text": [
      "Invalid Range: could not broadcast input array from shape (2230,257) into shape (2230,258)\n",
      "Time for Getting  0  random elements:  0:00:00.004283\n",
      "Invalid Range: could not broadcast input array from shape (2160,257) into shape (2160,258)\n",
      "Time for Getting  0  random elements:  0:00:00.003968\n",
      "Invalid Range: could not broadcast input array from shape (2161,257) into shape (2161,258)\n",
      "Time for Getting  0  random elements:  0:00:00.003767\n",
      "Invalid Range: could not broadcast input array from shape (2105,257) into shape (2105,258)\n",
      "Time for Getting  0  random elements:  0:00:00.004032\n",
      "Invalid Range: could not broadcast input array from shape (2189,257) into shape (2189,258)\n",
      "Time for Getting  0  random elements:  0:00:00.003809\n"
     ]
    },
    {
     "name": "stderr",
     "output_type": "stream",
     "text": [
      "2018-10-16 23:58:12,947 - nn-real-hvd - INFO -    191     1 98696.1     0.0   0.002 0.10000\n",
      "2018-10-16 23:58:12,947 - nn-real-hvd - INFO -    191     1 98696.1     0.0   0.002 0.10000\n",
      "2018-10-16 23:58:12,996 - nn-real-hvd - INFO -    192     1 94270.1     0.0   0.002 0.10000\n",
      "2018-10-16 23:58:12,996 - nn-real-hvd - INFO -    192     1 94270.1     0.0   0.002 0.10000\n",
      "2018-10-16 23:58:13,044 - nn-real-hvd - INFO -    193     1 95290.3     0.0   0.002 0.10000\n",
      "2018-10-16 23:58:13,044 - nn-real-hvd - INFO -    193     1 95290.3     0.0   0.002 0.10000\n",
      "2018-10-16 23:58:13,092 - nn-real-hvd - INFO -    194     1 94654.2     0.0   0.002 0.10000\n",
      "2018-10-16 23:58:13,092 - nn-real-hvd - INFO -    194     1 94654.2     0.0   0.002 0.10000\n",
      "2018-10-16 23:58:13,139 - nn-real-hvd - INFO -    195     1 97867.0     0.0   0.002 0.10000\n",
      "2018-10-16 23:58:13,139 - nn-real-hvd - INFO -    195     1 97867.0     0.0   0.002 0.10000\n"
     ]
    },
    {
     "name": "stdout",
     "output_type": "stream",
     "text": [
      "Invalid Range: could not broadcast input array from shape (2170,257) into shape (2170,258)\n",
      "Time for Getting  0  random elements:  0:00:00.003905\n",
      "Invalid Range: could not broadcast input array from shape (2163,257) into shape (2163,258)\n",
      "Time for Getting  0  random elements:  0:00:00.004275\n",
      "Invalid Range: could not broadcast input array from shape (2160,257) into shape (2160,258)\n",
      "Time for Getting  0  random elements:  0:00:00.004603\n",
      "Invalid Range: could not broadcast input array from shape (2089,257) into shape (2089,258)\n",
      "Time for Getting  0  random elements:  0:00:00.003962\n",
      "Invalid Range: could not broadcast input array from shape (2179,257) into shape (2179,258)\n",
      "Time for Getting  0  random elements:  0:00:00.004206\n"
     ]
    },
    {
     "name": "stderr",
     "output_type": "stream",
     "text": [
      "2018-10-16 23:58:13,190 - nn-real-hvd - INFO -    196     1 91138.9     0.0   0.002 0.10000\n",
      "2018-10-16 23:58:13,190 - nn-real-hvd - INFO -    196     1 91138.9     0.0   0.002 0.10000\n",
      "2018-10-16 23:58:13,236 - nn-real-hvd - INFO -    197     1 98254.6     0.0   0.002 0.10000\n",
      "2018-10-16 23:58:13,236 - nn-real-hvd - INFO -    197     1 98254.6     0.0   0.002 0.10000\n",
      "2018-10-16 23:58:13,284 - nn-real-hvd - INFO -    198     1 95286.4     0.0   0.002 0.10000\n",
      "2018-10-16 23:58:13,284 - nn-real-hvd - INFO -    198     1 95286.4     0.0   0.002 0.10000\n",
      "2018-10-16 23:58:13,333 - nn-real-hvd - INFO -    199     1 93683.8     0.0   0.002 0.10000\n",
      "2018-10-16 23:58:13,333 - nn-real-hvd - INFO -    199     1 93683.8     0.0   0.002 0.10000\n",
      "2018-10-16 23:58:13,382 - nn-real-hvd - INFO -    200     1 93839.2     0.0   0.002 0.10000\n",
      "2018-10-16 23:58:13,382 - nn-real-hvd - INFO -    200     1 93839.2     0.0   0.002 0.10000\n"
     ]
    },
    {
     "name": "stdout",
     "output_type": "stream",
     "text": [
      "Invalid Range: could not broadcast input array from shape (2180,257) into shape (2180,258)\n",
      "Time for Getting  0  random elements:  0:00:00.003983\n",
      "Invalid Range: could not broadcast input array from shape (2052,257) into shape (2052,258)\n",
      "Time for Getting  0  random elements:  0:00:00.004020\n",
      "Invalid Range: could not broadcast input array from shape (2187,257) into shape (2187,258)\n",
      "Time for Getting  0  random elements:  0:00:00.004226\n",
      "Invalid Range: could not broadcast input array from shape (2125,257) into shape (2125,258)\n",
      "Time for Getting  0  random elements:  0:00:00.004279\n",
      "Invalid Range: could not broadcast input array from shape (2135,257) into shape (2135,258)\n",
      "Time for Getting  0  random elements:  0:00:00.004385\n"
     ]
    },
    {
     "name": "stderr",
     "output_type": "stream",
     "text": [
      "2018-10-16 23:58:13,430 - nn-real-hvd - INFO -    201     1 96150.3     0.0   0.002 0.10000\n",
      "2018-10-16 23:58:13,430 - nn-real-hvd - INFO -    201     1 96150.3     0.0   0.002 0.10000\n",
      "2018-10-16 23:58:13,480 - nn-real-hvd - INFO -    202     1 92691.5     0.0   0.002 0.10000\n",
      "2018-10-16 23:58:13,480 - nn-real-hvd - INFO -    202     1 92691.5     0.0   0.002 0.10000\n",
      "2018-10-16 23:58:13,530 - nn-real-hvd - INFO -    203     1 90570.9     0.0   0.002 0.10000\n",
      "2018-10-16 23:58:13,530 - nn-real-hvd - INFO -    203     1 90570.9     0.0   0.002 0.10000\n",
      "2018-10-16 23:58:13,580 - nn-real-hvd - INFO -    204     1 92424.7     0.0   0.002 0.10000\n",
      "2018-10-16 23:58:13,580 - nn-real-hvd - INFO -    204     1 92424.7     0.0   0.002 0.10000\n",
      "2018-10-16 23:58:13,629 - nn-real-hvd - INFO -    205     1 93344.1     0.0   0.002 0.10000\n",
      "2018-10-16 23:58:13,629 - nn-real-hvd - INFO -    205     1 93344.1     0.0   0.002 0.10000\n"
     ]
    },
    {
     "name": "stdout",
     "output_type": "stream",
     "text": [
      "Invalid Range: could not broadcast input array from shape (2179,257) into shape (2179,258)\n",
      "Time for Getting  0  random elements:  0:00:00.004143\n",
      "Invalid Range: could not broadcast input array from shape (2131,257) into shape (2131,258)\n",
      "Time for Getting  0  random elements:  0:00:00.004218\n",
      "Invalid Range: could not broadcast input array from shape (2133,257) into shape (2133,258)\n",
      "Time for Getting  0  random elements:  0:00:00.004172\n",
      "Invalid Range: could not broadcast input array from shape (2140,257) into shape (2140,258)\n",
      "Time for Getting  0  random elements:  0:00:00.004203\n",
      "Invalid Range: could not broadcast input array from shape (2055,257) into shape (2055,258)\n"
     ]
    },
    {
     "name": "stderr",
     "output_type": "stream",
     "text": [
      "2018-10-16 23:58:13,677 - nn-real-hvd - INFO -    206     1 93820.2     0.0   0.002 0.10000\n",
      "2018-10-16 23:58:13,677 - nn-real-hvd - INFO -    206     1 93820.2     0.0   0.002 0.10000\n",
      "2018-10-16 23:58:13,725 - nn-real-hvd - INFO -    207     1 97379.2     0.0   0.002 0.10000\n",
      "2018-10-16 23:58:13,725 - nn-real-hvd - INFO -    207     1 97379.2     0.0   0.002 0.10000\n",
      "2018-10-16 23:58:13,773 - nn-real-hvd - INFO -    208     1 95680.9     0.0   0.002 0.10000\n",
      "2018-10-16 23:58:13,773 - nn-real-hvd - INFO -    208     1 95680.9     0.0   0.002 0.10000\n",
      "2018-10-16 23:58:13,820 - nn-real-hvd - INFO -    209     1 97312.3     0.0   0.002 0.10000\n",
      "2018-10-16 23:58:13,820 - nn-real-hvd - INFO -    209     1 97312.3     0.0   0.002 0.10000\n"
     ]
    },
    {
     "name": "stdout",
     "output_type": "stream",
     "text": [
      "Time for Getting  0  random elements:  0:00:00.004682\n",
      "Invalid Range: could not broadcast input array from shape (2095,257) into shape (2095,258)\n",
      "Time for Getting  0  random elements:  0:00:00.004641\n",
      "Invalid Range: could not broadcast input array from shape (2121,257) into shape (2121,258)\n",
      "Time for Getting  0  random elements:  0:00:00.004352\n",
      "Invalid Range: could not broadcast input array from shape (2176,257) into shape (2176,258)\n",
      "Time for Getting  0  random elements:  0:00:00.004255\n",
      "Invalid Range: could not broadcast input array from shape (2162,257) into shape (2162,258)\n",
      "Time for Getting  0  random elements:  0:00:00.004244\n"
     ]
    },
    {
     "name": "stderr",
     "output_type": "stream",
     "text": [
      "2018-10-16 23:58:13,867 - nn-real-hvd - INFO -    210     1 97533.8     0.0   0.002 0.10000\n",
      "2018-10-16 23:58:13,867 - nn-real-hvd - INFO -    210     1 97533.8     0.0   0.002 0.10000\n",
      "2018-10-16 23:58:13,914 - nn-real-hvd - INFO -    211     1 96475.2     0.0   0.002 0.10000\n",
      "2018-10-16 23:58:13,914 - nn-real-hvd - INFO -    211     1 96475.2     0.0   0.002 0.10000\n",
      "2018-10-16 23:58:13,964 - nn-real-hvd - INFO -    212     1 91739.4     0.0   0.002 0.10000\n",
      "2018-10-16 23:58:13,964 - nn-real-hvd - INFO -    212     1 91739.4     0.0   0.002 0.10000\n",
      "2018-10-16 23:58:14,012 - nn-real-hvd - INFO -    213     1 94488.4     0.0   0.002 0.10000\n",
      "2018-10-16 23:58:14,012 - nn-real-hvd - INFO -    213     1 94488.4     0.0   0.002 0.10000\n",
      "2018-10-16 23:58:14,061 - nn-real-hvd - INFO -    214     1 94127.6     0.0   0.002 0.10000\n",
      "2018-10-16 23:58:14,061 - nn-real-hvd - INFO -    214     1 94127.6     0.0   0.002 0.10000\n"
     ]
    },
    {
     "name": "stdout",
     "output_type": "stream",
     "text": [
      "Invalid Range: could not broadcast input array from shape (2119,257) into shape (2119,258)\n",
      "Time for Getting  0  random elements:  0:00:00.003620\n",
      "Invalid Range: could not broadcast input array from shape (2152,257) into shape (2152,258)\n",
      "Time for Getting  0  random elements:  0:00:00.004743\n",
      "Invalid Range: could not broadcast input array from shape (2092,257) into shape (2092,258)\n",
      "Time for Getting  0  random elements:  0:00:00.004389\n",
      "Invalid Range: could not broadcast input array from shape (2087,257) into shape (2087,258)\n",
      "Time for Getting  0  random elements:  0:00:00.004296\n",
      "Invalid Range: could not broadcast input array from shape (2157,257) into shape (2157,258)\n",
      "Time for Getting  0  random elements:  0:00:00.004165\n"
     ]
    },
    {
     "name": "stderr",
     "output_type": "stream",
     "text": [
      "2018-10-16 23:58:14,112 - nn-real-hvd - INFO -    215     1 89446.5     0.0   0.002 0.10000\n",
      "2018-10-16 23:58:14,112 - nn-real-hvd - INFO -    215     1 89446.5     0.0   0.002 0.10000\n",
      "2018-10-16 23:58:14,161 - nn-real-hvd - INFO -    216     1 93611.5     0.0   0.002 0.10000\n",
      "2018-10-16 23:58:14,161 - nn-real-hvd - INFO -    216     1 93611.5     0.0   0.002 0.10000\n",
      "2018-10-16 23:58:14,209 - nn-real-hvd - INFO -    217     1 94191.1     0.0   0.002 0.10000\n",
      "2018-10-16 23:58:14,209 - nn-real-hvd - INFO -    217     1 94191.1     0.0   0.002 0.10000\n",
      "2018-10-16 23:58:14,259 - nn-real-hvd - INFO -    218     1 92521.0     0.0   0.002 0.10000\n",
      "2018-10-16 23:58:14,259 - nn-real-hvd - INFO -    218     1 92521.0     0.0   0.002 0.10000\n",
      "2018-10-16 23:58:14,306 - nn-real-hvd - INFO -    219     1 96965.1     0.0   0.002 0.10000\n",
      "2018-10-16 23:58:14,306 - nn-real-hvd - INFO -    219     1 96965.1     0.0   0.002 0.10000\n"
     ]
    },
    {
     "name": "stdout",
     "output_type": "stream",
     "text": [
      "Invalid Range: could not broadcast input array from shape (2158,257) into shape (2158,258)\n",
      "Time for Getting  0  random elements:  0:00:00.004170\n",
      "Invalid Range: could not broadcast input array from shape (2148,257) into shape (2148,258)\n",
      "Time for Getting  0  random elements:  0:00:00.004191\n",
      "Invalid Range: could not broadcast input array from shape (2205,257) into shape (2205,258)\n",
      "Time for Getting  0  random elements:  0:00:00.003892\n",
      "Invalid Range: could not broadcast input array from shape (2131,257) into shape (2131,258)\n",
      "Time for Getting  0  random elements:  0:00:00.004095\n",
      "Invalid Range: could not broadcast input array from shape (2140,257) into shape (2140,258)\n",
      "Time for Getting  0  random elements:  0:00:00.003885\n"
     ]
    },
    {
     "name": "stderr",
     "output_type": "stream",
     "text": [
      "2018-10-16 23:58:14,353 - nn-real-hvd - INFO -    220     1 96664.1     0.0   0.002 0.10000\n",
      "2018-10-16 23:58:14,353 - nn-real-hvd - INFO -    220     1 96664.1     0.0   0.002 0.10000\n",
      "2018-10-16 23:58:14,400 - nn-real-hvd - INFO -    221     1 97260.3     0.0   0.002 0.10000\n",
      "2018-10-16 23:58:14,400 - nn-real-hvd - INFO -    221     1 97260.3     0.0   0.002 0.10000\n",
      "2018-10-16 23:58:14,449 - nn-real-hvd - INFO -    222     1 94871.0     0.0   0.002 0.10000\n",
      "2018-10-16 23:58:14,449 - nn-real-hvd - INFO -    222     1 94871.0     0.0   0.002 0.10000\n",
      "2018-10-16 23:58:14,496 - nn-real-hvd - INFO -    223     1 97423.2     0.0   0.002 0.10000\n",
      "2018-10-16 23:58:14,496 - nn-real-hvd - INFO -    223     1 97423.2     0.0   0.002 0.10000\n",
      "2018-10-16 23:58:14,544 - nn-real-hvd - INFO -    224     1 95247.3     0.0   0.002 0.10000\n",
      "2018-10-16 23:58:14,544 - nn-real-hvd - INFO -    224     1 95247.3     0.0   0.002 0.10000\n"
     ]
    },
    {
     "name": "stdout",
     "output_type": "stream",
     "text": [
      "Invalid Range: could not broadcast input array from shape (2156,257) into shape (2156,258)\n",
      "Time for Getting  0  random elements:  0:00:00.004536\n",
      "Invalid Range: could not broadcast input array from shape (2148,257) into shape (2148,258)\n",
      "Time for Getting  0  random elements:  0:00:00.004785\n",
      "Invalid Range: could not broadcast input array from shape (2097,257) into shape (2097,258)\n",
      "Time for Getting  0  random elements:  0:00:00.004518\n",
      "Invalid Range: could not broadcast input array from shape (2117,257) into shape (2117,258)\n",
      "Time for Getting  0  random elements:  0:00:00.004586\n",
      "Invalid Range: could not broadcast input array from shape (2209,257) into shape (2209,258)\n",
      "Time for Getting  0  random elements:  0:00:00.004481\n"
     ]
    },
    {
     "name": "stderr",
     "output_type": "stream",
     "text": [
      "2018-10-16 23:58:14,592 - nn-real-hvd - INFO -    225     1 94891.8     0.0   0.002 0.10000\n",
      "2018-10-16 23:58:14,592 - nn-real-hvd - INFO -    225     1 94891.8     0.0   0.002 0.10000\n",
      "2018-10-16 23:58:14,643 - nn-real-hvd - INFO -    226     1 90766.3     0.0   0.002 0.10000\n",
      "2018-10-16 23:58:14,643 - nn-real-hvd - INFO -    226     1 90766.3     0.0   0.002 0.10000\n",
      "2018-10-16 23:58:14,694 - nn-real-hvd - INFO -    227     1 89943.3     0.0   0.002 0.10000\n",
      "2018-10-16 23:58:14,694 - nn-real-hvd - INFO -    227     1 89943.3     0.0   0.002 0.10000\n",
      "2018-10-16 23:58:14,744 - nn-real-hvd - INFO -    228     1 92159.8     0.0   0.002 0.10000\n",
      "2018-10-16 23:58:14,744 - nn-real-hvd - INFO -    228     1 92159.8     0.0   0.002 0.10000\n",
      "2018-10-16 23:58:14,792 - nn-real-hvd - INFO -    229     1 97105.1     0.0   0.002 0.10000\n",
      "2018-10-16 23:58:14,792 - nn-real-hvd - INFO -    229     1 97105.1     0.0   0.002 0.10000\n"
     ]
    },
    {
     "name": "stdout",
     "output_type": "stream",
     "text": [
      "Invalid Range: could not broadcast input array from shape (2141,257) into shape (2141,258)\n",
      "Time for Getting  0  random elements:  0:00:00.004562\n",
      "Invalid Range: could not broadcast input array from shape (2132,257) into shape (2132,258)\n",
      "Time for Getting  0  random elements:  0:00:00.004380\n",
      "Invalid Range: could not broadcast input array from shape (2126,257) into shape (2126,258)\n",
      "Time for Getting  0  random elements:  0:00:00.004218\n",
      "Invalid Range: could not broadcast input array from shape (2081,257) into shape (2081,258)\n",
      "Time for Getting  0  random elements:  0:00:00.004030\n",
      "Invalid Range: could not broadcast input array from shape (2164,257) into shape (2164,258)\n"
     ]
    },
    {
     "name": "stderr",
     "output_type": "stream",
     "text": [
      "2018-10-16 23:58:14,840 - nn-real-hvd - INFO -    230     1 94183.5     0.0   0.002 0.10000\n",
      "2018-10-16 23:58:14,840 - nn-real-hvd - INFO -    230     1 94183.5     0.0   0.002 0.10000\n",
      "2018-10-16 23:58:14,888 - nn-real-hvd - INFO -    231     1 97188.5     0.0   0.002 0.10000\n",
      "2018-10-16 23:58:14,888 - nn-real-hvd - INFO -    231     1 97188.5     0.0   0.002 0.10000\n",
      "2018-10-16 23:58:14,936 - nn-real-hvd - INFO -    232     1 93474.8     0.0   0.002 0.10000\n",
      "2018-10-16 23:58:14,936 - nn-real-hvd - INFO -    232     1 93474.8     0.0   0.002 0.10000\n",
      "2018-10-16 23:58:14,984 - nn-real-hvd - INFO -    233     1 96313.0     0.0   0.002 0.10000\n",
      "2018-10-16 23:58:14,984 - nn-real-hvd - INFO -    233     1 96313.0     0.0   0.002 0.10000\n"
     ]
    },
    {
     "name": "stdout",
     "output_type": "stream",
     "text": [
      "Time for Getting  0  random elements:  0:00:00.004169\n",
      "Invalid Range: could not broadcast input array from shape (2216,257) into shape (2216,258)\n",
      "Time for Getting  0  random elements:  0:00:00.004215\n",
      "Invalid Range: could not broadcast input array from shape (2107,257) into shape (2107,258)\n",
      "Time for Getting  0  random elements:  0:00:00.004182\n",
      "Invalid Range: could not broadcast input array from shape (2159,257) into shape (2159,258)\n",
      "Time for Getting  0  random elements:  0:00:00.004296\n",
      "Invalid Range: could not broadcast input array from shape (2162,257) into shape (2162,258)\n",
      "Time for Getting  0  random elements:  0:00:00.004000\n"
     ]
    },
    {
     "name": "stderr",
     "output_type": "stream",
     "text": [
      "2018-10-16 23:58:15,032 - nn-real-hvd - INFO -    234     1 95951.5     0.0   0.002 0.10000\n",
      "2018-10-16 23:58:15,032 - nn-real-hvd - INFO -    234     1 95951.5     0.0   0.002 0.10000\n",
      "2018-10-16 23:58:15,082 - nn-real-hvd - INFO -    235     1 92250.1     0.0   0.002 0.10000\n",
      "2018-10-16 23:58:15,082 - nn-real-hvd - INFO -    235     1 92250.1     0.0   0.002 0.10000\n",
      "2018-10-16 23:58:15,148 - nn-real-hvd - INFO -    236     1 69481.9     0.1   0.002 0.10000\n",
      "2018-10-16 23:58:15,148 - nn-real-hvd - INFO -    236     1 69481.9     0.1   0.002 0.10000\n",
      "2018-10-16 23:58:15,196 - nn-real-hvd - INFO -    237     1 94068.0     0.0   0.002 0.10000\n",
      "2018-10-16 23:58:15,196 - nn-real-hvd - INFO -    237     1 94068.0     0.0   0.002 0.10000\n"
     ]
    },
    {
     "name": "stdout",
     "output_type": "stream",
     "text": [
      "Invalid Range: could not broadcast input array from shape (2109,257) into shape (2109,258)\n",
      "Time for Getting  0  random elements:  0:00:00.004156\n",
      "Invalid Range: could not broadcast input array from shape (2104,257) into shape (2104,258)\n",
      "Time for Getting  0  random elements:  0:00:00.004069\n",
      "Invalid Range: could not broadcast input array from shape (2070,257) into shape (2070,258)\n",
      "Time for Getting  0  random elements:  0:00:00.004154\n",
      "Invalid Range: could not broadcast input array from shape (2161,257) into shape (2161,258)\n",
      "Time for Getting  0  random elements:  0:00:00.003892\n"
     ]
    },
    {
     "name": "stderr",
     "output_type": "stream",
     "text": [
      "2018-10-16 23:58:15,244 - nn-real-hvd - INFO -    238     1 96059.7     0.0   0.002 0.10000\n",
      "2018-10-16 23:58:15,244 - nn-real-hvd - INFO -    238     1 96059.7     0.0   0.002 0.10000\n",
      "2018-10-16 23:58:15,292 - nn-real-hvd - INFO -    239     1 96010.0     0.0   0.002 0.10000\n",
      "2018-10-16 23:58:15,292 - nn-real-hvd - INFO -    239     1 96010.0     0.0   0.002 0.10000\n",
      "2018-10-16 23:58:15,342 - nn-real-hvd - INFO -    240     1 93602.1     0.0   0.002 0.10000\n",
      "2018-10-16 23:58:15,342 - nn-real-hvd - INFO -    240     1 93602.1     0.0   0.002 0.10000\n",
      "2018-10-16 23:58:15,390 - nn-real-hvd - INFO -    241     1 96163.2     0.0   0.002 0.10000\n",
      "2018-10-16 23:58:15,390 - nn-real-hvd - INFO -    241     1 96163.2     0.0   0.002 0.10000\n",
      "2018-10-16 23:58:15,437 - nn-real-hvd - INFO -    242     1 97837.1     0.0   0.002 0.10000\n",
      "2018-10-16 23:58:15,437 - nn-real-hvd - INFO -    242     1 97837.1     0.0   0.002 0.10000\n"
     ]
    },
    {
     "name": "stdout",
     "output_type": "stream",
     "text": [
      "Invalid Range: could not broadcast input array from shape (2136,257) into shape (2136,258)\n",
      "Time for Getting  0  random elements:  0:00:00.004420\n",
      "Invalid Range: could not broadcast input array from shape (2141,257) into shape (2141,258)\n",
      "Time for Getting  0  random elements:  0:00:00.004320\n",
      "Invalid Range: could not broadcast input array from shape (2130,257) into shape (2130,258)\n",
      "Time for Getting  0  random elements:  0:00:00.004106\n",
      "Invalid Range: could not broadcast input array from shape (2111,257) into shape (2111,258)\n",
      "Time for Getting  0  random elements:  0:00:00.004048\n",
      "Invalid Range: could not broadcast input array from shape (2147,257) into shape (2147,258)\n",
      "Time for Getting  0  random elements:  0:00:00.004247\n"
     ]
    },
    {
     "name": "stderr",
     "output_type": "stream",
     "text": [
      "2018-10-16 23:58:15,487 - nn-real-hvd - INFO -    243     1 91642.0     0.0   0.002 0.10000\n",
      "2018-10-16 23:58:15,487 - nn-real-hvd - INFO -    243     1 91642.0     0.0   0.002 0.10000\n",
      "2018-10-16 23:58:15,536 - nn-real-hvd - INFO -    244     1 92846.3     0.0   0.002 0.10000\n",
      "2018-10-16 23:58:15,536 - nn-real-hvd - INFO -    244     1 92846.3     0.0   0.002 0.10000\n",
      "2018-10-16 23:58:15,586 - nn-real-hvd - INFO -    245     1 93205.4     0.0   0.002 0.10000\n",
      "2018-10-16 23:58:15,586 - nn-real-hvd - INFO -    245     1 93205.4     0.0   0.002 0.10000\n",
      "2018-10-16 23:58:15,635 - nn-real-hvd - INFO -    246     1 92867.7     0.0   0.002 0.10000\n",
      "2018-10-16 23:58:15,635 - nn-real-hvd - INFO -    246     1 92867.7     0.0   0.002 0.10000\n",
      "2018-10-16 23:58:15,686 - nn-real-hvd - INFO -    247     1 90284.6     0.0   0.002 0.10000\n",
      "2018-10-16 23:58:15,686 - nn-real-hvd - INFO -    247     1 90284.6     0.0   0.002 0.10000\n"
     ]
    },
    {
     "name": "stdout",
     "output_type": "stream",
     "text": [
      "Invalid Range: could not broadcast input array from shape (2191,257) into shape (2191,258)\n",
      "Time for Getting  0  random elements:  0:00:00.004227\n",
      "Invalid Range: could not broadcast input array from shape (2146,257) into shape (2146,258)\n",
      "Time for Getting  0  random elements:  0:00:00.003975\n",
      "Invalid Range: could not broadcast input array from shape (2082,257) into shape (2082,258)\n",
      "Time for Getting  0  random elements:  0:00:00.004451\n",
      "Invalid Range: could not broadcast input array from shape (2190,257) into shape (2190,258)\n",
      "Time for Getting  0  random elements:  0:00:00.004392\n",
      "Invalid Range: could not broadcast input array from shape (2138,257) into shape (2138,258)\n"
     ]
    },
    {
     "name": "stderr",
     "output_type": "stream",
     "text": [
      "2018-10-16 23:58:15,736 - nn-real-hvd - INFO -    248     1 90358.0     0.0   0.002 0.10000\n",
      "2018-10-16 23:58:15,736 - nn-real-hvd - INFO -    248     1 90358.0     0.0   0.002 0.10000\n",
      "2018-10-16 23:58:15,787 - nn-real-hvd - INFO -    249     1 90993.7     0.0   0.002 0.10000\n",
      "2018-10-16 23:58:15,787 - nn-real-hvd - INFO -    249     1 90993.7     0.0   0.002 0.10000\n",
      "2018-10-16 23:58:15,837 - nn-real-hvd - INFO -    250     1 91724.0     0.0   0.002 0.10000\n",
      "2018-10-16 23:58:15,837 - nn-real-hvd - INFO -    250     1 91724.0     0.0   0.002 0.10000\n",
      "2018-10-16 23:58:15,887 - nn-real-hvd - INFO -    251     1 93006.8     0.0   0.002 0.10000\n",
      "2018-10-16 23:58:15,887 - nn-real-hvd - INFO -    251     1 93006.8     0.0   0.002 0.10000\n"
     ]
    },
    {
     "name": "stdout",
     "output_type": "stream",
     "text": [
      "Time for Getting  0  random elements:  0:00:00.004604\n",
      "Invalid Range: could not broadcast input array from shape (2193,257) into shape (2193,258)\n",
      "Time for Getting  0  random elements:  0:00:00.004207\n",
      "Invalid Range: could not broadcast input array from shape (2100,257) into shape (2100,258)\n",
      "Time for Getting  0  random elements:  0:00:00.003953\n",
      "Invalid Range: could not broadcast input array from shape (2160,257) into shape (2160,258)\n",
      "Time for Getting  0  random elements:  0:00:00.004127\n",
      "Invalid Range: could not broadcast input array from shape (2116,257) into shape (2116,258)\n",
      "Time for Getting  0  random elements:  0:00:00.003935\n"
     ]
    },
    {
     "name": "stderr",
     "output_type": "stream",
     "text": [
      "2018-10-16 23:58:15,935 - nn-real-hvd - INFO -    252     1 95166.2     0.0   0.002 0.10000\n",
      "2018-10-16 23:58:15,935 - nn-real-hvd - INFO -    252     1 95166.2     0.0   0.002 0.10000\n",
      "2018-10-16 23:58:15,984 - nn-real-hvd - INFO -    253     1 94092.8     0.0   0.002 0.10000\n",
      "2018-10-16 23:58:15,984 - nn-real-hvd - INFO -    253     1 94092.8     0.0   0.002 0.10000\n",
      "2018-10-16 23:58:16,033 - nn-real-hvd - INFO -    254     1 93336.1     0.0   0.002 0.10000\n",
      "2018-10-16 23:58:16,033 - nn-real-hvd - INFO -    254     1 93336.1     0.0   0.002 0.10000\n",
      "2018-10-16 23:58:16,082 - nn-real-hvd - INFO -    255     1 92630.9     0.0   0.002 0.10000\n",
      "2018-10-16 23:58:16,082 - nn-real-hvd - INFO -    255     1 92630.9     0.0   0.002 0.10000\n",
      "2018-10-16 23:58:16,132 - nn-real-hvd - INFO -    256     1 92187.8     0.0   0.002 0.10000\n",
      "2018-10-16 23:58:16,132 - nn-real-hvd - INFO -    256     1 92187.8     0.0   0.002 0.10000\n"
     ]
    },
    {
     "name": "stdout",
     "output_type": "stream",
     "text": [
      "Invalid Range: could not broadcast input array from shape (2173,257) into shape (2173,258)\n",
      "Time for Getting  0  random elements:  0:00:00.004339\n",
      "Invalid Range: could not broadcast input array from shape (2171,257) into shape (2171,258)\n",
      "Time for Getting  0  random elements:  0:00:00.004200\n",
      "Invalid Range: could not broadcast input array from shape (2126,257) into shape (2126,258)\n",
      "Time for Getting  0  random elements:  0:00:00.004165\n",
      "Invalid Range: could not broadcast input array from shape (2086,257) into shape (2086,258)\n",
      "Time for Getting  0  random elements:  0:00:00.004553\n",
      "Invalid Range: could not broadcast input array from shape (2101,257) into shape (2101,258)\n",
      "Time for Getting  0  random elements:  0:00:00.003903\n"
     ]
    },
    {
     "name": "stderr",
     "output_type": "stream",
     "text": [
      "2018-10-16 23:58:16,182 - nn-real-hvd - INFO -    257     1 91699.0     0.0   0.002 0.10000\n",
      "2018-10-16 23:58:16,182 - nn-real-hvd - INFO -    257     1 91699.0     0.0   0.002 0.10000\n",
      "2018-10-16 23:58:16,231 - nn-real-hvd - INFO -    258     1 93512.0     0.0   0.002 0.10000\n",
      "2018-10-16 23:58:16,231 - nn-real-hvd - INFO -    258     1 93512.0     0.0   0.002 0.10000\n",
      "2018-10-16 23:58:16,281 - nn-real-hvd - INFO -    259     1 90541.3     0.0   0.002 0.10000\n",
      "2018-10-16 23:58:16,281 - nn-real-hvd - INFO -    259     1 90541.3     0.0   0.002 0.10000\n",
      "2018-10-16 23:58:16,330 - nn-real-hvd - INFO -    260     1 93861.5     0.0   0.002 0.10000\n",
      "2018-10-16 23:58:16,330 - nn-real-hvd - INFO -    260     1 93861.5     0.0   0.002 0.10000\n",
      "2018-10-16 23:58:16,380 - nn-real-hvd - INFO -    261     1 94257.1     0.0   0.002 0.10000\n",
      "2018-10-16 23:58:16,380 - nn-real-hvd - INFO -    261     1 94257.1     0.0   0.002 0.10000\n"
     ]
    },
    {
     "name": "stdout",
     "output_type": "stream",
     "text": [
      "Invalid Range: could not broadcast input array from shape (2138,257) into shape (2138,258)\n",
      "Time for Getting  0  random elements:  0:00:00.004148\n",
      "Invalid Range: could not broadcast input array from shape (2150,257) into shape (2150,258)\n",
      "Time for Getting  0  random elements:  0:00:00.004241\n",
      "Invalid Range: could not broadcast input array from shape (2211,257) into shape (2211,258)\n",
      "Time for Getting  0  random elements:  0:00:00.004115\n",
      "Invalid Range: could not broadcast input array from shape (2132,257) into shape (2132,258)\n",
      "Time for Getting  0  random elements:  0:00:00.004065\n",
      "Invalid Range: could not broadcast input array from shape (2115,257) into shape (2115,258)\n"
     ]
    },
    {
     "name": "stderr",
     "output_type": "stream",
     "text": [
      "2018-10-16 23:58:16,433 - nn-real-hvd - INFO -    262     1 86038.1     0.1   0.002 0.10000\n",
      "2018-10-16 23:58:16,433 - nn-real-hvd - INFO -    262     1 86038.1     0.1   0.002 0.10000\n",
      "2018-10-16 23:58:16,480 - nn-real-hvd - INFO -    263     1 97716.0     0.0   0.002 0.10000\n",
      "2018-10-16 23:58:16,480 - nn-real-hvd - INFO -    263     1 97716.0     0.0   0.002 0.10000\n",
      "2018-10-16 23:58:16,529 - nn-real-hvd - INFO -    264     1 94331.9     0.0   0.002 0.10000\n",
      "2018-10-16 23:58:16,529 - nn-real-hvd - INFO -    264     1 94331.9     0.0   0.002 0.10000\n",
      "2018-10-16 23:58:16,578 - nn-real-hvd - INFO -    265     1 96996.0     0.0   0.002 0.10000\n",
      "2018-10-16 23:58:16,578 - nn-real-hvd - INFO -    265     1 96996.0     0.0   0.002 0.10000\n"
     ]
    },
    {
     "name": "stdout",
     "output_type": "stream",
     "text": [
      "Time for Getting  0  random elements:  0:00:00.004527\n",
      "Invalid Range: could not broadcast input array from shape (2129,257) into shape (2129,258)\n",
      "Time for Getting  0  random elements:  0:00:00.004249\n",
      "Invalid Range: could not broadcast input array from shape (2146,257) into shape (2146,258)\n",
      "Time for Getting  0  random elements:  0:00:00.004511\n",
      "Invalid Range: could not broadcast input array from shape (2116,257) into shape (2116,258)\n",
      "Time for Getting  0  random elements:  0:00:00.004335\n",
      "Invalid Range: could not broadcast input array from shape (2105,257) into shape (2105,258)\n",
      "Time for Getting  0  random elements:  0:00:00.004816\n"
     ]
    },
    {
     "name": "stderr",
     "output_type": "stream",
     "text": [
      "2018-10-16 23:58:16,646 - nn-real-hvd - INFO -    266     1 66504.4     0.1   0.002 0.10000\n",
      "2018-10-16 23:58:16,646 - nn-real-hvd - INFO -    266     1 66504.4     0.1   0.002 0.10000\n",
      "2018-10-16 23:58:16,696 - nn-real-hvd - INFO -    267     1 91463.6     0.0   0.002 0.10000\n",
      "2018-10-16 23:58:16,696 - nn-real-hvd - INFO -    267     1 91463.6     0.0   0.002 0.10000\n",
      "2018-10-16 23:58:16,744 - nn-real-hvd - INFO -    268     1 95075.6     0.0   0.002 0.10000\n",
      "2018-10-16 23:58:16,744 - nn-real-hvd - INFO -    268     1 95075.6     0.0   0.002 0.10000\n",
      "2018-10-16 23:58:16,792 - nn-real-hvd - INFO -    269     1 97563.5     0.0   0.002 0.10000\n",
      "2018-10-16 23:58:16,792 - nn-real-hvd - INFO -    269     1 97563.5     0.0   0.002 0.10000\n",
      "2018-10-16 23:58:16,839 - nn-real-hvd - INFO -    270     1 97285.8     0.0   0.002 0.10000\n",
      "2018-10-16 23:58:16,839 - nn-real-hvd - INFO -    270     1 97285.8     0.0   0.002 0.10000\n"
     ]
    },
    {
     "name": "stdout",
     "output_type": "stream",
     "text": [
      "Invalid Range: could not broadcast input array from shape (2157,257) into shape (2157,258)\n",
      "Time for Getting  0  random elements:  0:00:00.004278\n",
      "Invalid Range: could not broadcast input array from shape (2136,257) into shape (2136,258)\n",
      "Time for Getting  0  random elements:  0:00:00.004610\n",
      "Invalid Range: could not broadcast input array from shape (2115,257) into shape (2115,258)\n",
      "Time for Getting  0  random elements:  0:00:00.004286\n",
      "Invalid Range: could not broadcast input array from shape (2127,257) into shape (2127,258)\n",
      "Time for Getting  0  random elements:  0:00:00.003776\n",
      "Invalid Range: could not broadcast input array from shape (2126,257) into shape (2126,258)\n",
      "Time for Getting  0  random elements:  0:00:00.004208\n"
     ]
    },
    {
     "name": "stderr",
     "output_type": "stream",
     "text": [
      "2018-10-16 23:58:16,889 - nn-real-hvd - INFO -    271     1 91289.5     0.0   0.002 0.10000\n",
      "2018-10-16 23:58:16,889 - nn-real-hvd - INFO -    271     1 91289.5     0.0   0.002 0.10000\n",
      "2018-10-16 23:58:16,936 - nn-real-hvd - INFO -    272     1 96002.1     0.0   0.002 0.10000\n",
      "2018-10-16 23:58:16,936 - nn-real-hvd - INFO -    272     1 96002.1     0.0   0.002 0.10000\n",
      "2018-10-16 23:58:16,986 - nn-real-hvd - INFO -    273     1 91994.9     0.0   0.002 0.10000\n",
      "2018-10-16 23:58:16,986 - nn-real-hvd - INFO -    273     1 91994.9     0.0   0.002 0.10000\n",
      "2018-10-16 23:58:17,045 - nn-real-hvd - INFO -    274     1 77774.2     0.1   0.002 0.10000\n",
      "2018-10-16 23:58:17,045 - nn-real-hvd - INFO -    274     1 77774.2     0.1   0.002 0.10000\n",
      "2018-10-16 23:58:17,095 - nn-real-hvd - INFO -    275     1 91485.2     0.0   0.002 0.10000\n",
      "2018-10-16 23:58:17,095 - nn-real-hvd - INFO -    275     1 91485.2     0.0   0.002 0.10000\n"
     ]
    },
    {
     "name": "stdout",
     "output_type": "stream",
     "text": [
      "Invalid Range: could not broadcast input array from shape (2166,257) into shape (2166,258)\n",
      "Time for Getting  0  random elements:  0:00:00.004069\n",
      "Invalid Range: could not broadcast input array from shape (2155,257) into shape (2155,258)\n",
      "Time for Getting  0  random elements:  0:00:00.004278\n",
      "Invalid Range: could not broadcast input array from shape (2082,257) into shape (2082,258)\n",
      "Time for Getting  0  random elements:  0:00:00.004251\n",
      "Invalid Range: could not broadcast input array from shape (2160,257) into shape (2160,258)\n",
      "Time for Getting  0  random elements:  0:00:00.004446\n"
     ]
    },
    {
     "name": "stderr",
     "output_type": "stream",
     "text": [
      "2018-10-16 23:58:17,145 - nn-real-hvd - INFO -    276     1 90187.6     0.0   0.002 0.10000\n",
      "2018-10-16 23:58:17,145 - nn-real-hvd - INFO -    276     1 90187.6     0.0   0.002 0.10000\n",
      "2018-10-16 23:58:17,196 - nn-real-hvd - INFO -    277     1 90527.2     0.0   0.002 0.10000\n",
      "2018-10-16 23:58:17,196 - nn-real-hvd - INFO -    277     1 90527.2     0.0   0.002 0.10000\n",
      "2018-10-16 23:58:17,244 - nn-real-hvd - INFO -    278     1 96454.1     0.0   0.002 0.10000\n",
      "2018-10-16 23:58:17,244 - nn-real-hvd - INFO -    278     1 96454.1     0.0   0.002 0.10000\n",
      "2018-10-16 23:58:17,292 - nn-real-hvd - INFO -    279     1 95042.0     0.0   0.002 0.10000\n",
      "2018-10-16 23:58:17,292 - nn-real-hvd - INFO -    279     1 95042.0     0.0   0.002 0.10000\n"
     ]
    },
    {
     "name": "stdout",
     "output_type": "stream",
     "text": [
      "Invalid Range: could not broadcast input array from shape (2111,257) into shape (2111,258)\n",
      "Time for Getting  0  random elements:  0:00:00.005292\n",
      "Invalid Range: could not broadcast input array from shape (2156,257) into shape (2156,258)\n",
      "Time for Getting  0  random elements:  0:00:00.004003\n",
      "Invalid Range: could not broadcast input array from shape (2130,257) into shape (2130,258)\n",
      "Time for Getting  0  random elements:  0:00:00.004646\n",
      "Invalid Range: could not broadcast input array from shape (2139,257) into shape (2139,258)\n",
      "Time for Getting  0  random elements:  0:00:00.004390\n",
      "Invalid Range: could not broadcast input array from shape (2099,257) into shape (2099,258)\n",
      "Time for Getting  0 "
     ]
    },
    {
     "name": "stderr",
     "output_type": "stream",
     "text": [
      "2018-10-16 23:58:17,342 - nn-real-hvd - INFO -    280     1 91152.8     0.0   0.002 0.10000\n",
      "2018-10-16 23:58:17,342 - nn-real-hvd - INFO -    280     1 91152.8     0.0   0.002 0.10000\n",
      "2018-10-16 23:58:17,394 - nn-real-hvd - INFO -    281     1 88144.1     0.1   0.002 0.10000\n",
      "2018-10-16 23:58:17,394 - nn-real-hvd - INFO -    281     1 88144.1     0.1   0.002 0.10000\n",
      "2018-10-16 23:58:17,441 - nn-real-hvd - INFO -    282     1 97076.7     0.0   0.002 0.10000\n",
      "2018-10-16 23:58:17,441 - nn-real-hvd - INFO -    282     1 97076.7     0.0   0.002 0.10000\n",
      "2018-10-16 23:58:17,491 - nn-real-hvd - INFO -    283     1 90514.8     0.0   0.002 0.10000\n",
      "2018-10-16 23:58:17,491 - nn-real-hvd - INFO -    283     1 90514.8     0.0   0.002 0.10000\n"
     ]
    },
    {
     "name": "stdout",
     "output_type": "stream",
     "text": [
      " random elements:  0:00:00.004431\n",
      "Invalid Range: could not broadcast input array from shape (2181,257) into shape (2181,258)\n",
      "Time for Getting  0  random elements:  0:00:00.004497\n",
      "Invalid Range: could not broadcast input array from shape (2161,257) into shape (2161,258)\n",
      "Time for Getting  0  random elements:  0:00:00.004530\n",
      "Invalid Range: could not broadcast input array from shape (2110,257) into shape (2110,258)\n",
      "Time for Getting  0  random elements:  0:00:00.004155\n",
      "Invalid Range: could not broadcast input array from shape (2188,257) into shape (2188,258)\n",
      "Time for Getting  0  random elements:  0:00:00.004331\n"
     ]
    },
    {
     "name": "stderr",
     "output_type": "stream",
     "text": [
      "2018-10-16 23:58:17,544 - nn-real-hvd - INFO -    284     1 87653.7     0.1   0.002 0.10000\n",
      "2018-10-16 23:58:17,544 - nn-real-hvd - INFO -    284     1 87653.7     0.1   0.002 0.10000\n",
      "2018-10-16 23:58:17,594 - nn-real-hvd - INFO -    285     1 91396.5     0.0   0.002 0.10000\n",
      "2018-10-16 23:58:17,594 - nn-real-hvd - INFO -    285     1 91396.5     0.0   0.002 0.10000\n",
      "2018-10-16 23:58:17,642 - nn-real-hvd - INFO -    286     1 95274.2     0.0   0.002 0.10000\n",
      "2018-10-16 23:58:17,642 - nn-real-hvd - INFO -    286     1 95274.2     0.0   0.002 0.10000\n",
      "2018-10-16 23:58:17,693 - nn-real-hvd - INFO -    287     1 89660.0     0.0   0.002 0.10000\n",
      "2018-10-16 23:58:17,693 - nn-real-hvd - INFO -    287     1 89660.0     0.0   0.002 0.10000\n",
      "2018-10-16 23:58:17,745 - nn-real-hvd - INFO -    288     1 88842.8     0.0   0.002 0.10000\n",
      "2018-10-16 23:58:17,745 - nn-real-hvd - INFO -    288     1 88842.8     0.0   0.002 0.10000\n"
     ]
    },
    {
     "name": "stdout",
     "output_type": "stream",
     "text": [
      "Invalid Range: could not broadcast input array from shape (2131,257) into shape (2131,258)\n",
      "Time for Getting  0  random elements:  0:00:00.004350\n",
      "Invalid Range: could not broadcast input array from shape (2140,257) into shape (2140,258)\n",
      "Time for Getting  0  random elements:  0:00:00.004600\n",
      "Invalid Range: could not broadcast input array from shape (2118,257) into shape (2118,258)\n",
      "Time for Getting  0  random elements:  0:00:00.004496\n",
      "Invalid Range: could not broadcast input array from shape (2146,257) into shape (2146,258)\n",
      "Time for Getting  0  random elements:  0:00:00.004309\n",
      "Invalid Range: could not broadcast input array from shape (2118,257) into shape (2118,258)\n"
     ]
    },
    {
     "name": "stderr",
     "output_type": "stream",
     "text": [
      "2018-10-16 23:58:17,796 - nn-real-hvd - INFO -    289     1 90332.0     0.0   0.002 0.10000\n",
      "2018-10-16 23:58:17,796 - nn-real-hvd - INFO -    289     1 90332.0     0.0   0.002 0.10000\n",
      "2018-10-16 23:58:17,846 - nn-real-hvd - INFO -    290     1 90808.9     0.0   0.002 0.10000\n",
      "2018-10-16 23:58:17,846 - nn-real-hvd - INFO -    290     1 90808.9     0.0   0.002 0.10000\n",
      "2018-10-16 23:58:17,895 - nn-real-hvd - INFO -    291     1 93462.1     0.0   0.002 0.10000\n",
      "2018-10-16 23:58:17,895 - nn-real-hvd - INFO -    291     1 93462.1     0.0   0.002 0.10000\n",
      "2018-10-16 23:58:17,942 - nn-real-hvd - INFO -    292     1 95821.2     0.0   0.002 0.10000\n",
      "2018-10-16 23:58:17,942 - nn-real-hvd - INFO -    292     1 95821.2     0.0   0.002 0.10000\n"
     ]
    },
    {
     "name": "stdout",
     "output_type": "stream",
     "text": [
      "Time for Getting  0  random elements:  0:00:00.004574\n",
      "Invalid Range: could not broadcast input array from shape (2163,257) into shape (2163,258)\n",
      "Time for Getting  0  random elements:  0:00:00.004123\n",
      "Invalid Range: could not broadcast input array from shape (2120,257) into shape (2120,258)\n",
      "Time for Getting  0  random elements:  0:00:00.004097\n",
      "Invalid Range: could not broadcast input array from shape (2149,257) into shape (2149,258)\n",
      "Time for Getting  0  random elements:  0:00:00.004133\n",
      "Invalid Range: could not broadcast input array from shape (2171,257) into shape (2171,258)\n",
      "Time for Getting  0  random elements:  0:00:00.003954\n"
     ]
    },
    {
     "name": "stderr",
     "output_type": "stream",
     "text": [
      "2018-10-16 23:58:17,993 - nn-real-hvd - INFO -    293     1 90380.0     0.0   0.002 0.10000\n",
      "2018-10-16 23:58:17,993 - nn-real-hvd - INFO -    293     1 90380.0     0.0   0.002 0.10000\n",
      "2018-10-16 23:58:18,044 - nn-real-hvd - INFO -    294     1 89922.8     0.0   0.002 0.10000\n",
      "2018-10-16 23:58:18,044 - nn-real-hvd - INFO -    294     1 89922.8     0.0   0.002 0.10000\n",
      "2018-10-16 23:58:18,093 - nn-real-hvd - INFO -    295     1 92142.5     0.0   0.002 0.10000\n",
      "2018-10-16 23:58:18,093 - nn-real-hvd - INFO -    295     1 92142.5     0.0   0.002 0.10000\n",
      "2018-10-16 23:58:18,139 - nn-real-hvd - INFO -    296     1 100394.3     0.0   0.002 0.10000\n",
      "2018-10-16 23:58:18,139 - nn-real-hvd - INFO -    296     1 100394.3     0.0   0.002 0.10000\n",
      "2018-10-16 23:58:18,186 - nn-real-hvd - INFO -    297     1 97357.2     0.0   0.002 0.10000\n",
      "2018-10-16 23:58:18,186 - nn-real-hvd - INFO -    297     1 97357.2     0.0   0.002 0.10000\n"
     ]
    },
    {
     "name": "stdout",
     "output_type": "stream",
     "text": [
      "Invalid Range: could not broadcast input array from shape (2106,257) into shape (2106,258)\n",
      "Time for Getting  0  random elements:  0:00:00.004101\n",
      "Invalid Range: could not broadcast input array from shape (2179,257) into shape (2179,258)\n",
      "Time for Getting  0  random elements:  0:00:00.004386\n",
      "Invalid Range: could not broadcast input array from shape (2141,257) into shape (2141,258)\n",
      "Time for Getting  0  random elements:  0:00:00.004161\n",
      "Invalid Range: could not broadcast input array from shape (2139,257) into shape (2139,258)\n",
      "Time for Getting  0  random elements:  0:00:00.003882\n",
      "Invalid Range: could not broadcast input array from shape (2192,257) into shape (2192,258)\n",
      "Time for Getting  0  random elements:  0:00:00.004253\n"
     ]
    },
    {
     "name": "stderr",
     "output_type": "stream",
     "text": [
      "2018-10-16 23:58:18,234 - nn-real-hvd - INFO -    298     1 96457.6     0.0   0.002 0.10000\n",
      "2018-10-16 23:58:18,234 - nn-real-hvd - INFO -    298     1 96457.6     0.0   0.002 0.10000\n",
      "2018-10-16 23:58:18,280 - nn-real-hvd - INFO -    299     1 99208.9     0.0   0.002 0.10000\n",
      "2018-10-16 23:58:18,280 - nn-real-hvd - INFO -    299     1 99208.9     0.0   0.002 0.10000\n",
      "2018-10-16 23:58:18,329 - nn-real-hvd - INFO -    300     1 93809.8     0.0   0.002 0.10000\n",
      "2018-10-16 23:58:18,329 - nn-real-hvd - INFO -    300     1 93809.8     0.0   0.002 0.10000\n",
      "2018-10-16 23:58:18,377 - nn-real-hvd - INFO -    301     1 95313.8     0.0   0.002 0.10000\n",
      "2018-10-16 23:58:18,377 - nn-real-hvd - INFO -    301     1 95313.8     0.0   0.002 0.10000\n",
      "2018-10-16 23:58:18,441 - nn-real-hvd - INFO -    302     1 70777.1     0.1   0.002 0.10000\n",
      "2018-10-16 23:58:18,441 - nn-real-hvd - INFO -    302     1 70777.1     0.1   0.002 0.10000\n"
     ]
    },
    {
     "name": "stdout",
     "output_type": "stream",
     "text": [
      "Invalid Range: could not broadcast input array from shape (2114,257) into shape (2114,258)\n",
      "Time for Getting  0  random elements:  0:00:00.003990\n",
      "Invalid Range: could not broadcast input array from shape (2123,257) into shape (2123,258)\n",
      "Time for Getting  0  random elements:  0:00:00.003810\n",
      "Invalid Range: could not broadcast input array from shape (2161,257) into shape (2161,258)\n",
      "Time for Getting  0  random elements:  0:00:00.003924\n",
      "Invalid Range: could not broadcast input array from shape (2080,257) into shape (2080,258)\n",
      "Time for Getting  0  random elements:  0:00:00.004143\n"
     ]
    },
    {
     "name": "stderr",
     "output_type": "stream",
     "text": [
      "2018-10-16 23:58:18,490 - nn-real-hvd - INFO -    303     1 93193.2     0.0   0.002 0.10000\n",
      "2018-10-16 23:58:18,490 - nn-real-hvd - INFO -    303     1 93193.2     0.0   0.002 0.10000\n",
      "2018-10-16 23:58:18,539 - nn-real-hvd - INFO -    304     1 93086.6     0.0   0.002 0.10000\n",
      "2018-10-16 23:58:18,539 - nn-real-hvd - INFO -    304     1 93086.6     0.0   0.002 0.10000\n",
      "2018-10-16 23:58:18,588 - nn-real-hvd - INFO -    305     1 93066.1     0.0   0.002 0.10000\n",
      "2018-10-16 23:58:18,588 - nn-real-hvd - INFO -    305     1 93066.1     0.0   0.002 0.10000\n",
      "2018-10-16 23:58:18,639 - nn-real-hvd - INFO -    306     1 89874.9     0.0   0.002 0.10000\n",
      "2018-10-16 23:58:18,639 - nn-real-hvd - INFO -    306     1 89874.9     0.0   0.002 0.10000\n"
     ]
    },
    {
     "name": "stdout",
     "output_type": "stream",
     "text": [
      "Invalid Range: could not broadcast input array from shape (2161,257) into shape (2161,258)\n",
      "Time for Getting  0  random elements:  0:00:00.005237\n",
      "Invalid Range: could not broadcast input array from shape (2091,257) into shape (2091,258)\n",
      "Time for Getting  0  random elements:  0:00:00.004103\n",
      "Invalid Range: could not broadcast input array from shape (2172,257) into shape (2172,258)\n",
      "Time for Getting  0  random elements:  0:00:00.004685\n",
      "Invalid Range: could not broadcast input array from shape (2203,257) into shape (2203,258)\n",
      "Time for Getting  0  random elements:  0:00:00.004427\n",
      "Invalid Range: could not broadcast input array from shape (2107,257) into shape (2107,258)\n"
     ]
    },
    {
     "name": "stderr",
     "output_type": "stream",
     "text": [
      "2018-10-16 23:58:18,691 - nn-real-hvd - INFO -    307     1 88587.5     0.0   0.002 0.10000\n",
      "2018-10-16 23:58:18,691 - nn-real-hvd - INFO -    307     1 88587.5     0.0   0.002 0.10000\n",
      "2018-10-16 23:58:18,742 - nn-real-hvd - INFO -    308     1 90191.1     0.0   0.002 0.10000\n",
      "2018-10-16 23:58:18,742 - nn-real-hvd - INFO -    308     1 90191.1     0.0   0.002 0.10000\n",
      "2018-10-16 23:58:18,790 - nn-real-hvd - INFO -    309     1 94906.4     0.0   0.002 0.10000\n",
      "2018-10-16 23:58:18,790 - nn-real-hvd - INFO -    309     1 94906.4     0.0   0.002 0.10000\n",
      "2018-10-16 23:58:18,839 - nn-real-hvd - INFO -    310     1 94070.3     0.0   0.002 0.10000\n",
      "2018-10-16 23:58:18,839 - nn-real-hvd - INFO -    310     1 94070.3     0.0   0.002 0.10000\n"
     ]
    },
    {
     "name": "stdout",
     "output_type": "stream",
     "text": [
      "Time for Getting  0  random elements:  0:00:00.004420\n",
      "Invalid Range: could not broadcast input array from shape (2095,257) into shape (2095,258)\n",
      "Time for Getting  0  random elements:  0:00:00.004276\n",
      "Invalid Range: could not broadcast input array from shape (2150,257) into shape (2150,258)\n",
      "Time for Getting  0  random elements:  0:00:00.004232\n",
      "Invalid Range: could not broadcast input array from shape (2171,257) into shape (2171,258)\n",
      "Time for Getting  0  random elements:  0:00:00.004567\n",
      "Invalid Range: could not broadcast input array from shape (2120,257) into shape (2120,258)\n",
      "Time for Getting  0  random elements:  0:00:00.004649\n"
     ]
    },
    {
     "name": "stderr",
     "output_type": "stream",
     "text": [
      "2018-10-16 23:58:18,888 - nn-real-hvd - INFO -    311     1 93220.3     0.0   0.002 0.10000\n",
      "2018-10-16 23:58:18,888 - nn-real-hvd - INFO -    311     1 93220.3     0.0   0.002 0.10000\n",
      "2018-10-16 23:58:18,938 - nn-real-hvd - INFO -    312     1 92375.0     0.0   0.002 0.10000\n",
      "2018-10-16 23:58:18,938 - nn-real-hvd - INFO -    312     1 92375.0     0.0   0.002 0.10000\n",
      "2018-10-16 23:58:18,986 - nn-real-hvd - INFO -    313     1 95494.3     0.0   0.002 0.10000\n",
      "2018-10-16 23:58:18,986 - nn-real-hvd - INFO -    313     1 95494.3     0.0   0.002 0.10000\n",
      "2018-10-16 23:58:19,032 - nn-real-hvd - INFO -    314     1 100236.0     0.0   0.002 0.10000\n",
      "2018-10-16 23:58:19,032 - nn-real-hvd - INFO -    314     1 100236.0     0.0   0.002 0.10000\n",
      "2018-10-16 23:58:19,080 - nn-real-hvd - INFO -    315     1 94689.0     0.0   0.002 0.10000\n",
      "2018-10-16 23:58:19,080 - nn-real-hvd - INFO -    315     1 94689.0     0.0   0.002 0.10000\n"
     ]
    },
    {
     "name": "stdout",
     "output_type": "stream",
     "text": [
      "Invalid Range: could not broadcast input array from shape (2042,257) into shape (2042,258)\n",
      "Time for Getting  0  random elements:  0:00:00.004296\n",
      "Invalid Range: could not broadcast input array from shape (2195,257) into shape (2195,258)\n",
      "Time for Getting  0  random elements:  0:00:00.004264\n",
      "Invalid Range: could not broadcast input array from shape (2102,257) into shape (2102,258)\n",
      "Time for Getting  0  random elements:  0:00:00.004040\n",
      "Invalid Range: could not broadcast input array from shape (2105,257) into shape (2105,258)\n",
      "Time for Getting  0  random elements:  0:00:00.004301\n",
      "Invalid Range: could not broadcast input array from shape (2109,257) into shape (2109,258)\n",
      "Time for Getting  0  random elements:  0:00:00.003837\n"
     ]
    },
    {
     "name": "stderr",
     "output_type": "stream",
     "text": [
      "2018-10-16 23:58:19,128 - nn-real-hvd - INFO -    316     1 95447.6     0.0   0.002 0.10000\n",
      "2018-10-16 23:58:19,128 - nn-real-hvd - INFO -    316     1 95447.6     0.0   0.002 0.10000\n",
      "2018-10-16 23:58:19,176 - nn-real-hvd - INFO -    317     1 94370.7     0.0   0.002 0.10000\n",
      "2018-10-16 23:58:19,176 - nn-real-hvd - INFO -    317     1 94370.7     0.0   0.002 0.10000\n",
      "2018-10-16 23:58:19,226 - nn-real-hvd - INFO -    318     1 92270.7     0.0   0.002 0.10000\n",
      "2018-10-16 23:58:19,226 - nn-real-hvd - INFO -    318     1 92270.7     0.0   0.002 0.10000\n",
      "2018-10-16 23:58:19,275 - nn-real-hvd - INFO -    319     1 93507.3     0.0   0.002 0.10000\n",
      "2018-10-16 23:58:19,275 - nn-real-hvd - INFO -    319     1 93507.3     0.0   0.002 0.10000\n",
      "2018-10-16 23:58:19,322 - nn-real-hvd - INFO -    320     1 98362.4     0.0   0.002 0.10000\n",
      "2018-10-16 23:58:19,322 - nn-real-hvd - INFO -    320     1 98362.4     0.0   0.002 0.10000\n"
     ]
    },
    {
     "name": "stdout",
     "output_type": "stream",
     "text": [
      "Invalid Range: could not broadcast input array from shape (2149,257) into shape (2149,258)\n",
      "Time for Getting  0  random elements:  0:00:00.003878\n",
      "Invalid Range: could not broadcast input array from shape (2118,257) into shape (2118,258)\n",
      "Time for Getting  0  random elements:  0:00:00.004244\n",
      "Invalid Range: could not broadcast input array from shape (2174,257) into shape (2174,258)\n",
      "Time for Getting  0  random elements:  0:00:00.004228\n",
      "Invalid Range: could not broadcast input array from shape (2159,257) into shape (2159,258)\n",
      "Time for Getting  0  random elements:  0:00:00.004016\n",
      "Invalid Range: could not broadcast input array from shape (2144,257) into shape (2144,258)\n",
      "Time for Getting  0  random elements:  0:00:00.003770\n"
     ]
    },
    {
     "name": "stderr",
     "output_type": "stream",
     "text": [
      "2018-10-16 23:58:19,367 - nn-real-hvd - INFO -    321     1 101455.1     0.0   0.002 0.10000\n",
      "2018-10-16 23:58:19,367 - nn-real-hvd - INFO -    321     1 101455.1     0.0   0.002 0.10000\n",
      "2018-10-16 23:58:19,417 - nn-real-hvd - INFO -    322     1 91459.1     0.0   0.002 0.10000\n",
      "2018-10-16 23:58:19,417 - nn-real-hvd - INFO -    322     1 91459.1     0.0   0.002 0.10000\n",
      "2018-10-16 23:58:19,463 - nn-real-hvd - INFO -    323     1 98476.1     0.0   0.002 0.10000\n",
      "2018-10-16 23:58:19,463 - nn-real-hvd - INFO -    323     1 98476.1     0.0   0.002 0.10000\n",
      "2018-10-16 23:58:19,511 - nn-real-hvd - INFO -    324     1 96493.7     0.0   0.002 0.10000\n",
      "2018-10-16 23:58:19,511 - nn-real-hvd - INFO -    324     1 96493.7     0.0   0.002 0.10000\n",
      "2018-10-16 23:58:19,558 - nn-real-hvd - INFO -    325     1 96074.6     0.0   0.002 0.10000\n",
      "2018-10-16 23:58:19,558 - nn-real-hvd - INFO -    325     1 96074.6     0.0   0.002 0.10000\n"
     ]
    },
    {
     "name": "stdout",
     "output_type": "stream",
     "text": [
      "Invalid Range: could not broadcast input array from shape (2124,257) into shape (2124,258)\n",
      "Time for Getting  0  random elements:  0:00:00.004262\n",
      "Invalid Range: could not broadcast input array from shape (2132,257) into shape (2132,258)\n",
      "Time for Getting  0  random elements:  0:00:00.004332\n",
      "Invalid Range: could not broadcast input array from shape (2087,257) into shape (2087,258)\n",
      "Time for Getting  0  random elements:  0:00:00.004329\n",
      "Invalid Range: could not broadcast input array from shape (2174,257) into shape (2174,258)\n",
      "Time for Getting  0  random elements:  0:00:00.004350\n",
      "Invalid Range: could not broadcast input array from shape (2120,257) into shape (2120,258)\n",
      "Time for Getting  0  random elements:  0:00:00.004312\n"
     ]
    },
    {
     "name": "stderr",
     "output_type": "stream",
     "text": [
      "2018-10-16 23:58:19,609 - nn-real-hvd - INFO -    326     1 90709.5     0.0   0.002 0.10000\n",
      "2018-10-16 23:58:19,609 - nn-real-hvd - INFO -    326     1 90709.5     0.0   0.002 0.10000\n",
      "2018-10-16 23:58:19,659 - nn-real-hvd - INFO -    327     1 90790.7     0.0   0.002 0.10000\n",
      "2018-10-16 23:58:19,659 - nn-real-hvd - INFO -    327     1 90790.7     0.0   0.002 0.10000\n",
      "2018-10-16 23:58:19,707 - nn-real-hvd - INFO -    328     1 97010.2     0.0   0.002 0.10000\n",
      "2018-10-16 23:58:19,707 - nn-real-hvd - INFO -    328     1 97010.2     0.0   0.002 0.10000\n",
      "2018-10-16 23:58:19,754 - nn-real-hvd - INFO -    329     1 96913.4     0.0   0.002 0.10000\n",
      "2018-10-16 23:58:19,754 - nn-real-hvd - INFO -    329     1 96913.4     0.0   0.002 0.10000\n",
      "2018-10-16 23:58:19,803 - nn-real-hvd - INFO -    330     1 94900.5     0.0   0.002 0.10000\n",
      "2018-10-16 23:58:19,803 - nn-real-hvd - INFO -    330     1 94900.5     0.0   0.002 0.10000\n"
     ]
    },
    {
     "name": "stdout",
     "output_type": "stream",
     "text": [
      "Invalid Range: could not broadcast input array from shape (2075,257) into shape (2075,258)\n",
      "Time for Getting  0  random elements:  0:00:00.004510\n",
      "Invalid Range: could not broadcast input array from shape (2150,257) into shape (2150,258)\n",
      "Time for Getting  0  random elements:  0:00:00.004484\n",
      "Invalid Range: could not broadcast input array from shape (2121,257) into shape (2121,258)\n",
      "Time for Getting  0  random elements:  0:00:00.004575\n",
      "Invalid Range: could not broadcast input array from shape (2128,257) into shape (2128,258)\n",
      "Time for Getting  0  random elements:  0:00:00.004136\n",
      "Invalid Range: could not broadcast input array from shape (2170,257) into shape (2170,258)\n",
      "Time for Getting  0  random elements:  0:00:00.004013\n"
     ]
    },
    {
     "name": "stderr",
     "output_type": "stream",
     "text": [
      "2018-10-16 23:58:19,851 - nn-real-hvd - INFO -    331     1 95150.1     0.0   0.002 0.10000\n",
      "2018-10-16 23:58:19,851 - nn-real-hvd - INFO -    331     1 95150.1     0.0   0.002 0.10000\n",
      "2018-10-16 23:58:19,900 - nn-real-hvd - INFO -    332     1 92888.1     0.0   0.002 0.10000\n",
      "2018-10-16 23:58:19,900 - nn-real-hvd - INFO -    332     1 92888.1     0.0   0.002 0.10000\n",
      "2018-10-16 23:58:19,949 - nn-real-hvd - INFO -    333     1 95664.6     0.0   0.002 0.10000\n",
      "2018-10-16 23:58:19,949 - nn-real-hvd - INFO -    333     1 95664.6     0.0   0.002 0.10000\n",
      "2018-10-16 23:58:19,999 - nn-real-hvd - INFO -    334     1 90943.3     0.0   0.002 0.10000\n",
      "2018-10-16 23:58:19,999 - nn-real-hvd - INFO -    334     1 90943.3     0.0   0.002 0.10000\n",
      "2018-10-16 23:58:20,047 - nn-real-hvd - INFO -    335     1 95155.0     0.0   0.002 0.10000\n",
      "2018-10-16 23:58:20,047 - nn-real-hvd - INFO -    335     1 95155.0     0.0   0.002 0.10000\n"
     ]
    },
    {
     "name": "stdout",
     "output_type": "stream",
     "text": [
      "Invalid Range: could not broadcast input array from shape (2203,257) into shape (2203,258)\n",
      "Time for Getting  0  random elements:  0:00:00.004064\n",
      "Invalid Range: could not broadcast input array from shape (2100,257) into shape (2100,258)\n",
      "Time for Getting  0  random elements:  0:00:00.004019\n",
      "Invalid Range: could not broadcast input array from shape (2077,257) into shape (2077,258)\n",
      "Time for Getting  0  random elements:  0:00:00.004033\n",
      "Invalid Range: could not broadcast input array from shape (2116,257) into shape (2116,258)\n",
      "Time for Getting  0  random elements:  0:00:00.004252\n",
      "Invalid Range: could not broadcast input array from shape (2172,257) into shape (2172,258)\n",
      "Time for Getting  0  random elements:  0:00:00.004385\n"
     ]
    },
    {
     "name": "stderr",
     "output_type": "stream",
     "text": [
      "2018-10-16 23:58:20,098 - nn-real-hvd - INFO -    336     1 90300.8     0.0   0.002 0.10000\n",
      "2018-10-16 23:58:20,098 - nn-real-hvd - INFO -    336     1 90300.8     0.0   0.002 0.10000\n",
      "2018-10-16 23:58:20,146 - nn-real-hvd - INFO -    337     1 94567.9     0.0   0.002 0.10000\n",
      "2018-10-16 23:58:20,146 - nn-real-hvd - INFO -    337     1 94567.9     0.0   0.002 0.10000\n",
      "2018-10-16 23:58:20,195 - nn-real-hvd - INFO -    338     1 95158.9     0.0   0.002 0.10000\n",
      "2018-10-16 23:58:20,195 - nn-real-hvd - INFO -    338     1 95158.9     0.0   0.002 0.10000\n",
      "2018-10-16 23:58:20,242 - nn-real-hvd - INFO -    339     1 98624.7     0.0   0.002 0.10000\n",
      "2018-10-16 23:58:20,242 - nn-real-hvd - INFO -    339     1 98624.7     0.0   0.002 0.10000\n",
      "2018-10-16 23:58:20,289 - nn-real-hvd - INFO -    340     1 99101.3     0.0   0.002 0.10000\n",
      "2018-10-16 23:58:20,289 - nn-real-hvd - INFO -    340     1 99101.3     0.0   0.002 0.10000\n"
     ]
    },
    {
     "name": "stdout",
     "output_type": "stream",
     "text": [
      "Invalid Range: could not broadcast input array from shape (2136,257) into shape (2136,258)\n",
      "Time for Getting  0  random elements:  0:00:00.004207\n",
      "Invalid Range: could not broadcast input array from shape (2129,257) into shape (2129,258)\n",
      "Time for Getting  0  random elements:  0:00:00.004466\n",
      "Invalid Range: could not broadcast input array from shape (2161,257) into shape (2161,258)\n",
      "Time for Getting  0  random elements:  0:00:00.004032\n",
      "Invalid Range: could not broadcast input array from shape (2118,257) into shape (2118,258)\n",
      "Time for Getting  0  random elements:  0:00:00.004202\n",
      "Invalid Range: could not broadcast input array from shape (2179,257) into shape (2179,258)\n",
      "Time for Getting  0  random elements:  0:00:00.004064\n"
     ]
    },
    {
     "name": "stderr",
     "output_type": "stream",
     "text": [
      "2018-10-16 23:58:20,337 - nn-real-hvd - INFO -    341     1 96015.0     0.0   0.002 0.10000\n",
      "2018-10-16 23:58:20,337 - nn-real-hvd - INFO -    341     1 96015.0     0.0   0.002 0.10000\n",
      "2018-10-16 23:58:20,386 - nn-real-hvd - INFO -    342     1 93065.1     0.0   0.002 0.10000\n",
      "2018-10-16 23:58:20,386 - nn-real-hvd - INFO -    342     1 93065.1     0.0   0.002 0.10000\n",
      "2018-10-16 23:58:20,436 - nn-real-hvd - INFO -    343     1 91945.3     0.0   0.002 0.10000\n",
      "2018-10-16 23:58:20,436 - nn-real-hvd - INFO -    343     1 91945.3     0.0   0.002 0.10000\n",
      "2018-10-16 23:58:20,485 - nn-real-hvd - INFO -    344     1 94282.0     0.0   0.002 0.10000\n",
      "2018-10-16 23:58:20,485 - nn-real-hvd - INFO -    344     1 94282.0     0.0   0.002 0.10000\n",
      "2018-10-16 23:58:20,536 - nn-real-hvd - INFO -    345     1 89611.5     0.0   0.002 0.10000\n",
      "2018-10-16 23:58:20,536 - nn-real-hvd - INFO -    345     1 89611.5     0.0   0.002 0.10000\n"
     ]
    },
    {
     "name": "stdout",
     "output_type": "stream",
     "text": [
      "Invalid Range: could not broadcast input array from shape (2129,257) into shape (2129,258)\n",
      "Time for Getting  0  random elements:  0:00:00.004462\n",
      "Invalid Range: could not broadcast input array from shape (2140,257) into shape (2140,258)\n",
      "Time for Getting  0  random elements:  0:00:00.004442\n",
      "Invalid Range: could not broadcast input array from shape (2135,257) into shape (2135,258)\n",
      "Time for Getting  0  random elements:  0:00:00.003940\n",
      "Invalid Range: could not broadcast input array from shape (2134,257) into shape (2134,258)\n",
      "Time for Getting  0  random elements:  0:00:00.004157\n",
      "Invalid Range: could not broadcast input array from shape (2146,257) into shape (2146,258)\n"
     ]
    },
    {
     "name": "stderr",
     "output_type": "stream",
     "text": [
      "2018-10-16 23:58:20,587 - nn-real-hvd - INFO -    346     1 89976.9     0.0   0.002 0.10000\n",
      "2018-10-16 23:58:20,587 - nn-real-hvd - INFO -    346     1 89976.9     0.0   0.002 0.10000\n",
      "2018-10-16 23:58:20,638 - nn-real-hvd - INFO -    347     1 88786.7     0.0   0.002 0.10000\n",
      "2018-10-16 23:58:20,638 - nn-real-hvd - INFO -    347     1 88786.7     0.0   0.002 0.10000\n",
      "2018-10-16 23:58:20,689 - nn-real-hvd - INFO -    348     1 91134.4     0.0   0.002 0.10000\n",
      "2018-10-16 23:58:20,689 - nn-real-hvd - INFO -    348     1 91134.4     0.0   0.002 0.10000\n",
      "2018-10-16 23:58:20,738 - nn-real-hvd - INFO -    349     1 92265.2     0.0   0.002 0.10000\n",
      "2018-10-16 23:58:20,738 - nn-real-hvd - INFO -    349     1 92265.2     0.0   0.002 0.10000\n"
     ]
    },
    {
     "name": "stdout",
     "output_type": "stream",
     "text": [
      "Time for Getting  0  random elements:  0:00:00.004877\n",
      "Invalid Range: could not broadcast input array from shape (2166,257) into shape (2166,258)\n",
      "Time for Getting  0  random elements:  0:00:00.004188\n",
      "Invalid Range: could not broadcast input array from shape (2119,257) into shape (2119,258)\n",
      "Time for Getting  0  random elements:  0:00:00.004240\n",
      "Invalid Range: could not broadcast input array from shape (2170,257) into shape (2170,258)\n",
      "Time for Getting  0  random elements:  0:00:00.004388\n"
     ]
    },
    {
     "name": "stderr",
     "output_type": "stream",
     "text": [
      "2018-10-16 23:58:20,791 - nn-real-hvd - INFO -    350     1 87547.9     0.1   0.002 0.10000\n",
      "2018-10-16 23:58:20,791 - nn-real-hvd - INFO -    350     1 87547.9     0.1   0.002 0.10000\n",
      "2018-10-16 23:58:20,840 - nn-real-hvd - INFO -    351     1 93639.9     0.0   0.002 0.10000\n",
      "2018-10-16 23:58:20,840 - nn-real-hvd - INFO -    351     1 93639.9     0.0   0.002 0.10000\n",
      "2018-10-16 23:58:20,888 - nn-real-hvd - INFO -    352     1 96582.1     0.0   0.002 0.10000\n",
      "2018-10-16 23:58:20,888 - nn-real-hvd - INFO -    352     1 96582.1     0.0   0.002 0.10000\n",
      "2018-10-16 23:58:20,937 - nn-real-hvd - INFO -    353     1 95240.5     0.0   0.002 0.10000\n",
      "2018-10-16 23:58:20,937 - nn-real-hvd - INFO -    353     1 95240.5     0.0   0.002 0.10000\n"
     ]
    },
    {
     "name": "stdout",
     "output_type": "stream",
     "text": [
      "Invalid Range: could not broadcast input array from shape (2114,257) into shape (2114,258)\n",
      "Time for Getting  0  random elements:  0:00:00.005161\n",
      "Invalid Range: could not broadcast input array from shape (2103,257) into shape (2103,258)\n",
      "Time for Getting  0  random elements:  0:00:00.004143\n",
      "Invalid Range: could not broadcast input array from shape (2138,257) into shape (2138,258)\n",
      "Time for Getting  0  random elements:  0:00:00.004386\n",
      "Invalid Range: could not broadcast input array from shape (2116,257) into shape (2116,258)\n",
      "Time for Getting  0  random elements:  0:00:00.004053\n",
      "Invalid Range: could not broadcast input array from shape (2141,257) into shape (2141,258)\n",
      "Time for Getting  0  random elements:  0:00:00.004044\n"
     ]
    },
    {
     "name": "stderr",
     "output_type": "stream",
     "text": [
      "2018-10-16 23:58:20,986 - nn-real-hvd - INFO -    354     1 94733.4     0.0   0.002 0.10000\n",
      "2018-10-16 23:58:20,986 - nn-real-hvd - INFO -    354     1 94733.4     0.0   0.002 0.10000\n",
      "2018-10-16 23:58:21,034 - nn-real-hvd - INFO -    355     1 94896.2     0.0   0.002 0.10000\n",
      "2018-10-16 23:58:21,034 - nn-real-hvd - INFO -    355     1 94896.2     0.0   0.002 0.10000\n",
      "2018-10-16 23:58:21,084 - nn-real-hvd - INFO -    356     1 91616.7     0.0   0.002 0.10000\n",
      "2018-10-16 23:58:21,084 - nn-real-hvd - INFO -    356     1 91616.7     0.0   0.002 0.10000\n",
      "2018-10-16 23:58:21,136 - nn-real-hvd - INFO -    357     1 87490.1     0.1   0.002 0.10000\n",
      "2018-10-16 23:58:21,136 - nn-real-hvd - INFO -    357     1 87490.1     0.1   0.002 0.10000\n",
      "2018-10-16 23:58:21,186 - nn-real-hvd - INFO -    358     1 92448.6     0.0   0.002 0.10000\n",
      "2018-10-16 23:58:21,186 - nn-real-hvd - INFO -    358     1 92448.6     0.0   0.002 0.10000\n"
     ]
    },
    {
     "name": "stdout",
     "output_type": "stream",
     "text": [
      "Invalid Range: could not broadcast input array from shape (2144,257) into shape (2144,258)\n",
      "Time for Getting  0  random elements:  0:00:00.003960\n",
      "Invalid Range: could not broadcast input array from shape (2148,257) into shape (2148,258)\n",
      "Time for Getting  0  random elements:  0:00:00.004139\n",
      "Invalid Range: could not broadcast input array from shape (2102,257) into shape (2102,258)\n",
      "Time for Getting  0  random elements:  0:00:00.004172\n",
      "Invalid Range: could not broadcast input array from shape (2101,257) into shape (2101,258)\n",
      "Time for Getting  0  random elements:  0:00:00.004138\n",
      "Invalid Range: could not broadcast input array from shape (2120,257) into shape (2120,258)\n"
     ]
    },
    {
     "name": "stderr",
     "output_type": "stream",
     "text": [
      "2018-10-16 23:58:21,234 - nn-real-hvd - INFO -    359     1 93522.8     0.0   0.002 0.10000\n",
      "2018-10-16 23:58:21,234 - nn-real-hvd - INFO -    359     1 93522.8     0.0   0.002 0.10000\n",
      "2018-10-16 23:58:21,284 - nn-real-hvd - INFO -    360     1 92374.1     0.0   0.002 0.10000\n",
      "2018-10-16 23:58:21,284 - nn-real-hvd - INFO -    360     1 92374.1     0.0   0.002 0.10000\n",
      "2018-10-16 23:58:21,332 - nn-real-hvd - INFO -    361     1 94322.3     0.0   0.002 0.10000\n",
      "2018-10-16 23:58:21,332 - nn-real-hvd - INFO -    361     1 94322.3     0.0   0.002 0.10000\n",
      "2018-10-16 23:58:21,380 - nn-real-hvd - INFO -    362     1 96402.5     0.0   0.002 0.10000\n",
      "2018-10-16 23:58:21,380 - nn-real-hvd - INFO -    362     1 96402.5     0.0   0.002 0.10000\n"
     ]
    },
    {
     "name": "stdout",
     "output_type": "stream",
     "text": [
      "Time for Getting  0  random elements:  0:00:00.004345\n",
      "Invalid Range: could not broadcast input array from shape (2113,257) into shape (2113,258)\n",
      "Time for Getting  0  random elements:  0:00:00.004087\n",
      "Invalid Range: could not broadcast input array from shape (2190,257) into shape (2190,258)\n",
      "Time for Getting  0  random elements:  0:00:00.003761\n",
      "Invalid Range: could not broadcast input array from shape (2137,257) into shape (2137,258)\n",
      "Time for Getting  0  random elements:  0:00:00.004103\n",
      "Invalid Range: could not broadcast input array from shape (2137,257) into shape (2137,258)\n",
      "Time for Getting  0  random elements:  0:00:00.003750\n"
     ]
    },
    {
     "name": "stderr",
     "output_type": "stream",
     "text": [
      "2018-10-16 23:58:21,428 - nn-real-hvd - INFO -    363     1 96028.4     0.0   0.002 0.10000\n",
      "2018-10-16 23:58:21,428 - nn-real-hvd - INFO -    363     1 96028.4     0.0   0.002 0.10000\n",
      "2018-10-16 23:58:21,475 - nn-real-hvd - INFO -    364     1 95629.1     0.0   0.002 0.10000\n",
      "2018-10-16 23:58:21,475 - nn-real-hvd - INFO -    364     1 95629.1     0.0   0.002 0.10000\n",
      "2018-10-16 23:58:21,525 - nn-real-hvd - INFO -    365     1 91832.9     0.0   0.002 0.10000\n",
      "2018-10-16 23:58:21,525 - nn-real-hvd - INFO -    365     1 91832.9     0.0   0.002 0.10000\n",
      "2018-10-16 23:58:21,574 - nn-real-hvd - INFO -    366     1 93398.1     0.0   0.002 0.10000\n",
      "2018-10-16 23:58:21,574 - nn-real-hvd - INFO -    366     1 93398.1     0.0   0.002 0.10000\n",
      "2018-10-16 23:58:21,621 - nn-real-hvd - INFO -    367     1 96498.7     0.0   0.002 0.10000\n",
      "2018-10-16 23:58:21,621 - nn-real-hvd - INFO -    367     1 96498.7     0.0   0.002 0.10000\n"
     ]
    },
    {
     "name": "stdout",
     "output_type": "stream",
     "text": [
      "Invalid Range: could not broadcast input array from shape (2127,257) into shape (2127,258)\n",
      "Time for Getting  0  random elements:  0:00:00.004416\n",
      "Invalid Range: could not broadcast input array from shape (2127,257) into shape (2127,258)\n",
      "Time for Getting  0  random elements:  0:00:00.004018\n",
      "Invalid Range: could not broadcast input array from shape (2101,257) into shape (2101,258)\n",
      "Time for Getting  0  random elements:  0:00:00.003977\n",
      "Invalid Range: could not broadcast input array from shape (2141,257) into shape (2141,258)\n",
      "Time for Getting  0  random elements:  0:00:00.003927\n",
      "Invalid Range: could not broadcast input array from shape (2137,257) into shape (2137,258)\n",
      "Time for Getting  0  random elements:  0:00:00.004027\n"
     ]
    },
    {
     "name": "stderr",
     "output_type": "stream",
     "text": [
      "2018-10-16 23:58:21,671 - nn-real-hvd - INFO -    368     1 92381.9     0.0   0.002 0.10000\n",
      "2018-10-16 23:58:21,671 - nn-real-hvd - INFO -    368     1 92381.9     0.0   0.002 0.10000\n",
      "2018-10-16 23:58:21,720 - nn-real-hvd - INFO -    369     1 93361.9     0.0   0.002 0.10000\n",
      "2018-10-16 23:58:21,720 - nn-real-hvd - INFO -    369     1 93361.9     0.0   0.002 0.10000\n",
      "2018-10-16 23:58:21,769 - nn-real-hvd - INFO -    370     1 93305.6     0.0   0.002 0.10000\n",
      "2018-10-16 23:58:21,769 - nn-real-hvd - INFO -    370     1 93305.6     0.0   0.002 0.10000\n",
      "2018-10-16 23:58:21,817 - nn-real-hvd - INFO -    371     1 97197.1     0.0   0.002 0.10000\n",
      "2018-10-16 23:58:21,817 - nn-real-hvd - INFO -    371     1 97197.1     0.0   0.002 0.10000\n",
      "2018-10-16 23:58:21,865 - nn-real-hvd - INFO -    372     1 95253.2     0.0   0.002 0.10000\n",
      "2018-10-16 23:58:21,865 - nn-real-hvd - INFO -    372     1 95253.2     0.0   0.002 0.10000\n"
     ]
    },
    {
     "name": "stdout",
     "output_type": "stream",
     "text": [
      "Invalid Range: could not broadcast input array from shape (2169,257) into shape (2169,258)\n",
      "Time for Getting  0  random elements:  0:00:00.003995\n",
      "Invalid Range: could not broadcast input array from shape (2106,257) into shape (2106,258)\n",
      "Time for Getting  0  random elements:  0:00:00.004447\n",
      "Invalid Range: could not broadcast input array from shape (2150,257) into shape (2150,258)\n",
      "Time for Getting  0  random elements:  0:00:00.003889\n",
      "Invalid Range: could not broadcast input array from shape (2143,257) into shape (2143,258)\n",
      "Time for Getting  0  random elements:  0:00:00.005044\n",
      "Invalid Range: could not broadcast input array from shape (2071,257) into shape (2071,258)\n",
      "Time for Getting  0  random elements:  0:00:00.004205\n"
     ]
    },
    {
     "name": "stderr",
     "output_type": "stream",
     "text": [
      "2018-10-16 23:58:21,913 - nn-real-hvd - INFO -    373     1 95418.7     0.0   0.002 0.10000\n",
      "2018-10-16 23:58:21,913 - nn-real-hvd - INFO -    373     1 95418.7     0.0   0.002 0.10000\n",
      "2018-10-16 23:58:21,960 - nn-real-hvd - INFO -    374     1 96501.7     0.0   0.002 0.10000\n",
      "2018-10-16 23:58:21,960 - nn-real-hvd - INFO -    374     1 96501.7     0.0   0.002 0.10000\n",
      "2018-10-16 23:58:22,009 - nn-real-hvd - INFO -    375     1 93814.5     0.0   0.002 0.10000\n",
      "2018-10-16 23:58:22,009 - nn-real-hvd - INFO -    375     1 93814.5     0.0   0.002 0.10000\n",
      "2018-10-16 23:58:22,058 - nn-real-hvd - INFO -    376     1 93894.7     0.0   0.002 0.10000\n",
      "2018-10-16 23:58:22,058 - nn-real-hvd - INFO -    376     1 93894.7     0.0   0.002 0.10000\n",
      "2018-10-16 23:58:22,105 - nn-real-hvd - INFO -    377     1 97233.3     0.0   0.002 0.10000\n",
      "2018-10-16 23:58:22,105 - nn-real-hvd - INFO -    377     1 97233.3     0.0   0.002 0.10000\n"
     ]
    },
    {
     "name": "stdout",
     "output_type": "stream",
     "text": [
      "Invalid Range: could not broadcast input array from shape (2149,257) into shape (2149,258)\n",
      "Time for Getting  0  random elements:  0:00:00.004187\n",
      "Invalid Range: could not broadcast input array from shape (2144,257) into shape (2144,258)\n",
      "Time for Getting  0  random elements:  0:00:00.004687\n",
      "Invalid Range: could not broadcast input array from shape (2137,257) into shape (2137,258)\n",
      "Time for Getting  0  random elements:  0:00:00.004336\n",
      "Invalid Range: could not broadcast input array from shape (2136,257) into shape (2136,258)\n",
      "Time for Getting  0  random elements:  0:00:00.003908\n",
      "Invalid Range: could not broadcast input array from shape (2116,257) into shape (2116,258)\n",
      "Time for Getting  0  random elements:  0:00:00.004278\n"
     ]
    },
    {
     "name": "stderr",
     "output_type": "stream",
     "text": [
      "2018-10-16 23:58:22,154 - nn-real-hvd - INFO -    378     1 94341.5     0.0   0.002 0.10000\n",
      "2018-10-16 23:58:22,154 - nn-real-hvd - INFO -    378     1 94341.5     0.0   0.002 0.10000\n",
      "2018-10-16 23:58:22,200 - nn-real-hvd - INFO -    379     1 100562.4     0.0   0.002 0.10000\n",
      "2018-10-16 23:58:22,200 - nn-real-hvd - INFO -    379     1 100562.4     0.0   0.002 0.10000\n",
      "2018-10-16 23:58:22,245 - nn-real-hvd - INFO -    380     1 99864.9     0.0   0.002 0.10000\n",
      "2018-10-16 23:58:22,245 - nn-real-hvd - INFO -    380     1 99864.9     0.0   0.002 0.10000\n",
      "2018-10-16 23:58:22,293 - nn-real-hvd - INFO -    381     1 96452.6     0.0   0.002 0.10000\n",
      "2018-10-16 23:58:22,293 - nn-real-hvd - INFO -    381     1 96452.6     0.0   0.002 0.10000\n",
      "2018-10-16 23:58:22,341 - nn-real-hvd - INFO -    382     1 97042.1     0.0   0.002 0.10000\n",
      "2018-10-16 23:58:22,341 - nn-real-hvd - INFO -    382     1 97042.1     0.0   0.002 0.10000\n"
     ]
    },
    {
     "name": "stdout",
     "output_type": "stream",
     "text": [
      "Invalid Range: could not broadcast input array from shape (2190,257) into shape (2190,258)\n",
      "Time for Getting  0  random elements:  0:00:00.003826\n",
      "Invalid Range: could not broadcast input array from shape (2112,257) into shape (2112,258)\n",
      "Time for Getting  0  random elements:  0:00:00.004353\n",
      "Invalid Range: could not broadcast input array from shape (2117,257) into shape (2117,258)\n",
      "Time for Getting  0  random elements:  0:00:00.004426\n",
      "Invalid Range: could not broadcast input array from shape (2118,257) into shape (2118,258)\n",
      "Time for Getting  0  random elements:  0:00:00.004003\n",
      "Invalid Range: could not broadcast input array from shape (2162,257) into shape (2162,258)\n",
      "Time for Getting  0  random elements:  0:00:00.003736\n"
     ]
    },
    {
     "name": "stderr",
     "output_type": "stream",
     "text": [
      "2018-10-16 23:58:22,386 - nn-real-hvd - INFO -    383     1 99575.6     0.0   0.002 0.10000\n",
      "2018-10-16 23:58:22,386 - nn-real-hvd - INFO -    383     1 99575.6     0.0   0.002 0.10000\n",
      "2018-10-16 23:58:22,434 - nn-real-hvd - INFO -    384     1 96361.0     0.0   0.002 0.10000\n",
      "2018-10-16 23:58:22,434 - nn-real-hvd - INFO -    384     1 96361.0     0.0   0.002 0.10000\n",
      "2018-10-16 23:58:22,483 - nn-real-hvd - INFO -    385     1 92719.2     0.0   0.002 0.10000\n",
      "2018-10-16 23:58:22,483 - nn-real-hvd - INFO -    385     1 92719.2     0.0   0.002 0.10000\n",
      "2018-10-16 23:58:22,533 - nn-real-hvd - INFO -    386     1 92083.0     0.0   0.002 0.10000\n",
      "2018-10-16 23:58:22,533 - nn-real-hvd - INFO -    386     1 92083.0     0.0   0.002 0.10000\n",
      "2018-10-16 23:58:22,582 - nn-real-hvd - INFO -    387     1 93991.3     0.0   0.002 0.10000\n",
      "2018-10-16 23:58:22,582 - nn-real-hvd - INFO -    387     1 93991.3     0.0   0.002 0.10000\n"
     ]
    },
    {
     "name": "stdout",
     "output_type": "stream",
     "text": [
      "Invalid Range: could not broadcast input array from shape (2143,257) into shape (2143,258)\n",
      "Time for Getting  0  random elements:  0:00:00.004104\n",
      "Invalid Range: could not broadcast input array from shape (2217,257) into shape (2217,258)\n",
      "Time for Getting  0  random elements:  0:00:00.003723\n",
      "Invalid Range: could not broadcast input array from shape (2135,257) into shape (2135,258)\n",
      "Time for Getting  0  random elements:  0:00:00.004213\n",
      "Invalid Range: could not broadcast input array from shape (2155,257) into shape (2155,258)\n",
      "Time for Getting  0  random elements:  0:00:00.004280\n",
      "Invalid Range: could not broadcast input array from shape (2132,257) into shape (2132,258)\n",
      "Time for Getting  0  random elements:  0:00:00.003977\n"
     ]
    },
    {
     "name": "stderr",
     "output_type": "stream",
     "text": [
      "2018-10-16 23:58:22,631 - nn-real-hvd - INFO -    388     1 92302.4     0.0   0.002 0.10000\n",
      "2018-10-16 23:58:22,631 - nn-real-hvd - INFO -    388     1 92302.4     0.0   0.002 0.10000\n",
      "2018-10-16 23:58:22,684 - nn-real-hvd - INFO -    389     1 86163.1     0.1   0.002 0.10000\n",
      "2018-10-16 23:58:22,684 - nn-real-hvd - INFO -    389     1 86163.1     0.1   0.002 0.10000\n",
      "2018-10-16 23:58:22,735 - nn-real-hvd - INFO -    390     1 90105.7     0.0   0.002 0.10000\n",
      "2018-10-16 23:58:22,735 - nn-real-hvd - INFO -    390     1 90105.7     0.0   0.002 0.10000\n",
      "2018-10-16 23:58:22,783 - nn-real-hvd - INFO -    391     1 96112.0     0.0   0.002 0.10000\n",
      "2018-10-16 23:58:22,783 - nn-real-hvd - INFO -    391     1 96112.0     0.0   0.002 0.10000\n",
      "2018-10-16 23:58:22,831 - nn-real-hvd - INFO -    392     1 96985.3     0.0   0.002 0.10000\n",
      "2018-10-16 23:58:22,831 - nn-real-hvd - INFO -    392     1 96985.3     0.0   0.002 0.10000\n"
     ]
    },
    {
     "name": "stdout",
     "output_type": "stream",
     "text": [
      "Invalid Range: could not broadcast input array from shape (2152,257) into shape (2152,258)\n",
      "Time for Getting  0  random elements:  0:00:00.004225\n",
      "Invalid Range: could not broadcast input array from shape (2160,257) into shape (2160,258)\n",
      "Time for Getting  0  random elements:  0:00:00.004259\n",
      "Invalid Range: could not broadcast input array from shape (2122,257) into shape (2122,258)\n",
      "Time for Getting  0  random elements:  0:00:00.004337\n",
      "Invalid Range: could not broadcast input array from shape (2151,257) into shape (2151,258)\n",
      "Time for Getting  0  random elements:  0:00:00.004330\n",
      "Invalid Range: could not broadcast input array from shape (2109,257) into shape (2109,258)\n",
      "Time for Getting  0  random elements:  0:00:00.004123\n"
     ]
    },
    {
     "name": "stderr",
     "output_type": "stream",
     "text": [
      "2018-10-16 23:58:22,879 - nn-real-hvd - INFO -    393     1 95656.2     0.0   0.002 0.10000\n",
      "2018-10-16 23:58:22,879 - nn-real-hvd - INFO -    393     1 95656.2     0.0   0.002 0.10000\n",
      "2018-10-16 23:58:22,929 - nn-real-hvd - INFO -    394     1 91498.3     0.0   0.002 0.10000\n",
      "2018-10-16 23:58:22,929 - nn-real-hvd - INFO -    394     1 91498.3     0.0   0.002 0.10000\n",
      "2018-10-16 23:58:22,978 - nn-real-hvd - INFO -    395     1 93118.4     0.0   0.002 0.10000\n",
      "2018-10-16 23:58:22,978 - nn-real-hvd - INFO -    395     1 93118.4     0.0   0.002 0.10000\n",
      "2018-10-16 23:58:23,026 - nn-real-hvd - INFO -    396     1 96313.0     0.0   0.002 0.10000\n",
      "2018-10-16 23:58:23,026 - nn-real-hvd - INFO -    396     1 96313.0     0.0   0.002 0.10000\n",
      "2018-10-16 23:58:23,076 - nn-real-hvd - INFO -    397     1 91272.9     0.0   0.002 0.10000\n",
      "2018-10-16 23:58:23,076 - nn-real-hvd - INFO -    397     1 91272.9     0.0   0.002 0.10000\n"
     ]
    },
    {
     "name": "stdout",
     "output_type": "stream",
     "text": [
      "Invalid Range: could not broadcast input array from shape (2090,257) into shape (2090,258)\n",
      "Time for Getting  0  random elements:  0:00:00.004248\n",
      "Invalid Range: could not broadcast input array from shape (2051,257) into shape (2051,258)\n",
      "Time for Getting  0  random elements:  0:00:00.003972\n",
      "Invalid Range: could not broadcast input array from shape (2137,257) into shape (2137,258)\n",
      "Time for Getting  0  random elements:  0:00:00.004036\n",
      "Invalid Range: could not broadcast input array from shape (2065,257) into shape (2065,258)\n",
      "Time for Getting  0  random elements:  0:00:00.004121\n",
      "Invalid Range: could not broadcast input array from shape (2092,257) into shape (2092,258)\n",
      "Time for Getting  0  random elements:  0:00:00.004289\n"
     ]
    },
    {
     "name": "stderr",
     "output_type": "stream",
     "text": [
      "2018-10-16 23:58:23,127 - nn-real-hvd - INFO -    398     1 90796.5     0.0   0.002 0.10000\n",
      "2018-10-16 23:58:23,127 - nn-real-hvd - INFO -    398     1 90796.5     0.0   0.002 0.10000\n",
      "2018-10-16 23:58:23,176 - nn-real-hvd - INFO -    399     1 93414.6     0.0   0.002 0.10000\n",
      "2018-10-16 23:58:23,176 - nn-real-hvd - INFO -    399     1 93414.6     0.0   0.002 0.10000\n",
      "2018-10-16 23:58:23,226 - nn-real-hvd - INFO -    400     1 90586.4     0.0   0.002 0.10000\n",
      "2018-10-16 23:58:23,226 - nn-real-hvd - INFO -    400     1 90586.4     0.0   0.002 0.10000\n",
      "2018-10-16 23:58:23,274 - nn-real-hvd - INFO -    401     1 95554.8     0.0   0.002 0.10000\n",
      "2018-10-16 23:58:23,274 - nn-real-hvd - INFO -    401     1 95554.8     0.0   0.002 0.10000\n",
      "2018-10-16 23:58:23,324 - nn-real-hvd - INFO -    402     1 92592.5     0.0   0.002 0.10000\n",
      "2018-10-16 23:58:23,324 - nn-real-hvd - INFO -    402     1 92592.5     0.0   0.002 0.10000\n"
     ]
    },
    {
     "name": "stdout",
     "output_type": "stream",
     "text": [
      "Invalid Range: could not broadcast input array from shape (2123,257) into shape (2123,258)\n",
      "Time for Getting  0  random elements:  0:00:00.004646\n",
      "Invalid Range: could not broadcast input array from shape (2157,257) into shape (2157,258)\n",
      "Time for Getting  0  random elements:  0:00:00.004220\n",
      "Invalid Range: could not broadcast input array from shape (2139,257) into shape (2139,258)\n",
      "Time for Getting  0  random elements:  0:00:00.004298\n",
      "Invalid Range: could not broadcast input array from shape (2123,257) into shape (2123,258)\n",
      "Time for Getting  0  random elements:  0:00:00.004452\n",
      "Invalid Range: could not broadcast input array from shape (2132,257) into shape (2132,258)\n",
      "Time for Getting  0  random elements:  0:00:00.004532\n"
     ]
    },
    {
     "name": "stderr",
     "output_type": "stream",
     "text": [
      "2018-10-16 23:58:23,373 - nn-real-hvd - INFO -    403     1 93786.1     0.0   0.002 0.10000\n",
      "2018-10-16 23:58:23,373 - nn-real-hvd - INFO -    403     1 93786.1     0.0   0.002 0.10000\n",
      "2018-10-16 23:58:23,424 - nn-real-hvd - INFO -    404     1 89987.3     0.0   0.002 0.10000\n",
      "2018-10-16 23:58:23,424 - nn-real-hvd - INFO -    404     1 89987.3     0.0   0.002 0.10000\n",
      "2018-10-16 23:58:23,472 - nn-real-hvd - INFO -    405     1 95161.4     0.0   0.002 0.10000\n",
      "2018-10-16 23:58:23,472 - nn-real-hvd - INFO -    405     1 95161.4     0.0   0.002 0.10000\n",
      "2018-10-16 23:58:23,520 - nn-real-hvd - INFO -    406     1 95777.7     0.0   0.002 0.10000\n",
      "2018-10-16 23:58:23,520 - nn-real-hvd - INFO -    406     1 95777.7     0.0   0.002 0.10000\n",
      "2018-10-16 23:58:23,569 - nn-real-hvd - INFO -    407     1 95084.3     0.0   0.002 0.10000\n",
      "2018-10-16 23:58:23,569 - nn-real-hvd - INFO -    407     1 95084.3     0.0   0.002 0.10000\n"
     ]
    },
    {
     "name": "stdout",
     "output_type": "stream",
     "text": [
      "Invalid Range: could not broadcast input array from shape (2101,257) into shape (2101,258)\n",
      "Time for Getting  0  random elements:  0:00:00.004836\n",
      "Invalid Range: could not broadcast input array from shape (2142,257) into shape (2142,258)\n",
      "Time for Getting  0  random elements:  0:00:00.004533\n",
      "Invalid Range: could not broadcast input array from shape (2108,257) into shape (2108,258)\n",
      "Time for Getting  0  random elements:  0:00:00.004067\n",
      "Invalid Range: could not broadcast input array from shape (2166,257) into shape (2166,258)\n",
      "Time for Getting  0  random elements:  0:00:00.003954\n",
      "Invalid Range: could not broadcast input array from shape (2090,257) into shape (2090,258)\n",
      "Time for Getting  0  random elements:  0:00:00.004247\n"
     ]
    },
    {
     "name": "stderr",
     "output_type": "stream",
     "text": [
      "2018-10-16 23:58:23,617 - nn-real-hvd - INFO -    408     1 95440.8     0.0   0.002 0.10000\n",
      "2018-10-16 23:58:23,617 - nn-real-hvd - INFO -    408     1 95440.8     0.0   0.002 0.10000\n",
      "2018-10-16 23:58:23,665 - nn-real-hvd - INFO -    409     1 95296.2     0.0   0.002 0.10000\n",
      "2018-10-16 23:58:23,665 - nn-real-hvd - INFO -    409     1 95296.2     0.0   0.002 0.10000\n",
      "2018-10-16 23:58:23,712 - nn-real-hvd - INFO -    410     1 96559.5     0.0   0.002 0.10000\n",
      "2018-10-16 23:58:23,712 - nn-real-hvd - INFO -    410     1 96559.5     0.0   0.002 0.10000\n",
      "2018-10-16 23:58:23,758 - nn-real-hvd - INFO -    411     1 99639.7     0.0   0.002 0.10000\n",
      "2018-10-16 23:58:23,758 - nn-real-hvd - INFO -    411     1 99639.7     0.0   0.002 0.10000\n",
      "2018-10-16 23:58:23,805 - nn-real-hvd - INFO -    412     1 99246.0     0.0   0.002 0.10000\n",
      "2018-10-16 23:58:23,805 - nn-real-hvd - INFO -    412     1 99246.0     0.0   0.002 0.10000\n"
     ]
    },
    {
     "name": "stdout",
     "output_type": "stream",
     "text": [
      "Invalid Range: could not broadcast input array from shape (2188,257) into shape (2188,258)\n",
      "Time for Getting  0  random elements:  0:00:00.003834\n",
      "Invalid Range: could not broadcast input array from shape (2131,257) into shape (2131,258)\n",
      "Time for Getting  0  random elements:  0:00:00.004487\n",
      "Invalid Range: could not broadcast input array from shape (2146,257) into shape (2146,258)\n",
      "Time for Getting  0  random elements:  0:00:00.004219\n",
      "Invalid Range: could not broadcast input array from shape (2121,257) into shape (2121,258)\n",
      "Time for Getting  0  random elements:  0:00:00.003956\n",
      "Invalid Range: could not broadcast input array from shape (2156,257) into shape (2156,258)\n",
      "Time for Getting  0  random elements:  0:00:00.004074\n"
     ]
    },
    {
     "name": "stderr",
     "output_type": "stream",
     "text": [
      "2018-10-16 23:58:23,852 - nn-real-hvd - INFO -    413     1 97116.8     0.0   0.002 0.10000\n",
      "2018-10-16 23:58:23,852 - nn-real-hvd - INFO -    413     1 97116.8     0.0   0.002 0.10000\n",
      "2018-10-16 23:58:23,900 - nn-real-hvd - INFO -    414     1 95447.2     0.0   0.002 0.10000\n",
      "2018-10-16 23:58:23,900 - nn-real-hvd - INFO -    414     1 95447.2     0.0   0.002 0.10000\n",
      "2018-10-16 23:58:23,950 - nn-real-hvd - INFO -    415     1 90523.7     0.0   0.002 0.10000\n",
      "2018-10-16 23:58:23,950 - nn-real-hvd - INFO -    415     1 90523.7     0.0   0.002 0.10000\n",
      "2018-10-16 23:58:23,999 - nn-real-hvd - INFO -    416     1 92544.0     0.0   0.002 0.10000\n",
      "2018-10-16 23:58:23,999 - nn-real-hvd - INFO -    416     1 92544.0     0.0   0.002 0.10000\n",
      "2018-10-16 23:58:24,047 - nn-real-hvd - INFO -    417     1 96947.4     0.0   0.002 0.10000\n",
      "2018-10-16 23:58:24,047 - nn-real-hvd - INFO -    417     1 96947.4     0.0   0.002 0.10000\n"
     ]
    },
    {
     "name": "stdout",
     "output_type": "stream",
     "text": [
      "Invalid Range: could not broadcast input array from shape (2118,257) into shape (2118,258)\n",
      "Time for Getting  0  random elements:  0:00:00.004032\n",
      "Invalid Range: could not broadcast input array from shape (2128,257) into shape (2128,258)\n",
      "Time for Getting  0  random elements:  0:00:00.003934\n",
      "Invalid Range: could not broadcast input array from shape (2194,257) into shape (2194,258)\n",
      "Time for Getting  0  random elements:  0:00:00.004164\n",
      "Invalid Range: could not broadcast input array from shape (2152,257) into shape (2152,258)\n",
      "Time for Getting  0  random elements:  0:00:00.004318\n",
      "Invalid Range: could not broadcast input array from shape (2157,257) into shape (2157,258)\n",
      "Time for Getting  0  random elements:  0:00:00.004162\n"
     ]
    },
    {
     "name": "stderr",
     "output_type": "stream",
     "text": [
      "2018-10-16 23:58:24,094 - nn-real-hvd - INFO -    418     1 97289.4     0.0   0.002 0.10000\n",
      "2018-10-16 23:58:24,094 - nn-real-hvd - INFO -    418     1 97289.4     0.0   0.002 0.10000\n",
      "2018-10-16 23:58:24,141 - nn-real-hvd - INFO -    419     1 97250.1     0.0   0.002 0.10000\n",
      "2018-10-16 23:58:24,141 - nn-real-hvd - INFO -    419     1 97250.1     0.0   0.002 0.10000\n",
      "2018-10-16 23:58:24,188 - nn-real-hvd - INFO -    420     1 97531.7     0.0   0.002 0.10000\n",
      "2018-10-16 23:58:24,188 - nn-real-hvd - INFO -    420     1 97531.7     0.0   0.002 0.10000\n",
      "2018-10-16 23:58:24,257 - nn-real-hvd - INFO -    421     1 65472.0     0.1   0.002 0.10000\n",
      "2018-10-16 23:58:24,257 - nn-real-hvd - INFO -    421     1 65472.0     0.1   0.002 0.10000\n"
     ]
    },
    {
     "name": "stdout",
     "output_type": "stream",
     "text": [
      "Invalid Range: could not broadcast input array from shape (2100,257) into shape (2100,258)\n",
      "Time for Getting  0  random elements:  0:00:00.004493\n",
      "Invalid Range: could not broadcast input array from shape (2202,257) into shape (2202,258)\n",
      "Time for Getting  0  random elements:  0:00:00.004399\n",
      "Invalid Range: could not broadcast input array from shape (2071,257) into shape (2071,258)\n",
      "Time for Getting  0  random elements:  0:00:00.004315\n",
      "Invalid Range: could not broadcast input array from shape (2092,257) into shape (2092,258)\n",
      "Time for Getting  0  random elements:  0:00:00.004314\n"
     ]
    },
    {
     "name": "stderr",
     "output_type": "stream",
     "text": [
      "2018-10-16 23:58:24,306 - nn-real-hvd - INFO -    422     1 94556.8     0.0   0.002 0.10000\n",
      "2018-10-16 23:58:24,306 - nn-real-hvd - INFO -    422     1 94556.8     0.0   0.002 0.10000\n",
      "2018-10-16 23:58:24,353 - nn-real-hvd - INFO -    423     1 98005.0     0.0   0.002 0.10000\n",
      "2018-10-16 23:58:24,353 - nn-real-hvd - INFO -    423     1 98005.0     0.0   0.002 0.10000\n",
      "2018-10-16 23:58:24,400 - nn-real-hvd - INFO -    424     1 97364.9     0.0   0.002 0.10000\n",
      "2018-10-16 23:58:24,400 - nn-real-hvd - INFO -    424     1 97364.9     0.0   0.002 0.10000\n",
      "2018-10-16 23:58:24,447 - nn-real-hvd - INFO -    425     1 98117.4     0.0   0.002 0.10000\n",
      "2018-10-16 23:58:24,447 - nn-real-hvd - INFO -    425     1 98117.4     0.0   0.002 0.10000\n",
      "2018-10-16 23:58:24,495 - nn-real-hvd - INFO -    426     1 95007.9     0.0   0.002 0.10000\n",
      "2018-10-16 23:58:24,495 - nn-real-hvd - INFO -    426     1 95007.9     0.0   0.002 0.10000\n"
     ]
    },
    {
     "name": "stdout",
     "output_type": "stream",
     "text": [
      "Invalid Range: could not broadcast input array from shape (2132,257) into shape (2132,258)\n",
      "Time for Getting  0  random elements:  0:00:00.003835\n",
      "Invalid Range: could not broadcast input array from shape (2159,257) into shape (2159,258)\n",
      "Time for Getting  0  random elements:  0:00:00.004015\n",
      "Invalid Range: could not broadcast input array from shape (2125,257) into shape (2125,258)\n",
      "Time for Getting  0  random elements:  0:00:00.003815\n",
      "Invalid Range: could not broadcast input array from shape (2137,257) into shape (2137,258)\n",
      "Time for Getting  0  random elements:  0:00:00.004352\n",
      "Invalid Range: could not broadcast input array from shape (2126,257) into shape (2126,258)\n",
      "Time for Getting  0  random elements:  0:00:00.004185\n"
     ]
    },
    {
     "name": "stderr",
     "output_type": "stream",
     "text": [
      "2018-10-16 23:58:24,544 - nn-real-hvd - INFO -    427     1 94600.6     0.0   0.002 0.10000\n",
      "2018-10-16 23:58:24,544 - nn-real-hvd - INFO -    427     1 94600.6     0.0   0.002 0.10000\n",
      "2018-10-16 23:58:24,592 - nn-real-hvd - INFO -    428     1 93836.8     0.0   0.002 0.10000\n",
      "2018-10-16 23:58:24,592 - nn-real-hvd - INFO -    428     1 93836.8     0.0   0.002 0.10000\n",
      "2018-10-16 23:58:24,642 - nn-real-hvd - INFO -    429     1 92118.7     0.0   0.002 0.10000\n",
      "2018-10-16 23:58:24,642 - nn-real-hvd - INFO -    429     1 92118.7     0.0   0.002 0.10000\n",
      "2018-10-16 23:58:24,689 - nn-real-hvd - INFO -    430     1 97251.6     0.0   0.002 0.10000\n",
      "2018-10-16 23:58:24,689 - nn-real-hvd - INFO -    430     1 97251.6     0.0   0.002 0.10000\n",
      "2018-10-16 23:58:24,739 - nn-real-hvd - INFO -    431     1 92128.3     0.0   0.002 0.10000\n",
      "2018-10-16 23:58:24,739 - nn-real-hvd - INFO -    431     1 92128.3     0.0   0.002 0.10000\n"
     ]
    },
    {
     "name": "stdout",
     "output_type": "stream",
     "text": [
      "Invalid Range: could not broadcast input array from shape (2093,257) into shape (2093,258)\n",
      "Time for Getting  0  random elements:  0:00:00.004248\n",
      "Invalid Range: could not broadcast input array from shape (2132,257) into shape (2132,258)\n",
      "Time for Getting  0  random elements:  0:00:00.004520\n",
      "Invalid Range: could not broadcast input array from shape (2181,257) into shape (2181,258)\n",
      "Time for Getting  0  random elements:  0:00:00.004358\n",
      "Invalid Range: could not broadcast input array from shape (2131,257) into shape (2131,258)\n",
      "Time for Getting  0  random elements:  0:00:00.004589\n",
      "Invalid Range: could not broadcast input array from shape (2124,257) into shape (2124,258)\n",
      "Time for Getting  0  random elements:  0:00:00.004769\n"
     ]
    },
    {
     "name": "stderr",
     "output_type": "stream",
     "text": [
      "2018-10-16 23:58:24,789 - nn-real-hvd - INFO -    432     1 91540.3     0.0   0.002 0.10000\n",
      "2018-10-16 23:58:24,789 - nn-real-hvd - INFO -    432     1 91540.3     0.0   0.002 0.10000\n",
      "2018-10-16 23:58:24,836 - nn-real-hvd - INFO -    433     1 96990.4     0.0   0.002 0.10000\n",
      "2018-10-16 23:58:24,836 - nn-real-hvd - INFO -    433     1 96990.4     0.0   0.002 0.10000\n",
      "2018-10-16 23:58:24,885 - nn-real-hvd - INFO -    434     1 93890.5     0.0   0.002 0.10000\n",
      "2018-10-16 23:58:24,885 - nn-real-hvd - INFO -    434     1 93890.5     0.0   0.002 0.10000\n",
      "2018-10-16 23:58:24,934 - nn-real-hvd - INFO -    435     1 92994.3     0.0   0.002 0.10000\n",
      "2018-10-16 23:58:24,934 - nn-real-hvd - INFO -    435     1 92994.3     0.0   0.002 0.10000\n",
      "2018-10-16 23:58:24,981 - nn-real-hvd - INFO -    436     1 97018.3     0.0   0.002 0.10000\n",
      "2018-10-16 23:58:24,981 - nn-real-hvd - INFO -    436     1 97018.3     0.0   0.002 0.10000\n"
     ]
    },
    {
     "name": "stdout",
     "output_type": "stream",
     "text": [
      "Invalid Range: could not broadcast input array from shape (2108,257) into shape (2108,258)\n",
      "Time for Getting  0  random elements:  0:00:00.004580\n",
      "Invalid Range: could not broadcast input array from shape (2155,257) into shape (2155,258)\n",
      "Time for Getting  0  random elements:  0:00:00.004092\n",
      "Invalid Range: could not broadcast input array from shape (2162,257) into shape (2162,258)\n",
      "Time for Getting  0  random elements:  0:00:00.004094\n",
      "Invalid Range: could not broadcast input array from shape (2167,257) into shape (2167,258)\n",
      "Time for Getting  0  random elements:  0:00:00.004196\n",
      "Invalid Range: could not broadcast input array from shape (2132,257) into shape (2132,258)\n",
      "Time for Getting  0  random elements:  0:00:00.004128\n"
     ]
    },
    {
     "name": "stderr",
     "output_type": "stream",
     "text": [
      "2018-10-16 23:58:25,029 - nn-real-hvd - INFO -    437     1 96350.5     0.0   0.002 0.10000\n",
      "2018-10-16 23:58:25,029 - nn-real-hvd - INFO -    437     1 96350.5     0.0   0.002 0.10000\n",
      "2018-10-16 23:58:25,076 - nn-real-hvd - INFO -    438     1 97928.5     0.0   0.002 0.10000\n",
      "2018-10-16 23:58:25,076 - nn-real-hvd - INFO -    438     1 97928.5     0.0   0.002 0.10000\n",
      "2018-10-16 23:58:25,122 - nn-real-hvd - INFO -    439     1 100834.5     0.0   0.002 0.10000\n",
      "2018-10-16 23:58:25,122 - nn-real-hvd - INFO -    439     1 100834.5     0.0   0.002 0.10000\n",
      "2018-10-16 23:58:25,168 - nn-real-hvd - INFO -    440     1 99452.3     0.0   0.002 0.10000\n",
      "2018-10-16 23:58:25,168 - nn-real-hvd - INFO -    440     1 99452.3     0.0   0.002 0.10000\n",
      "2018-10-16 23:58:25,216 - nn-real-hvd - INFO -    441     1 96058.7     0.0   0.002 0.10000\n",
      "2018-10-16 23:58:25,216 - nn-real-hvd - INFO -    441     1 96058.7     0.0   0.002 0.10000\n"
     ]
    },
    {
     "name": "stdout",
     "output_type": "stream",
     "text": [
      "Invalid Range: could not broadcast input array from shape (2140,257) into shape (2140,258)\n",
      "Time for Getting  0  random elements:  0:00:00.004101\n",
      "Invalid Range: could not broadcast input array from shape (2128,257) into shape (2128,258)\n",
      "Time for Getting  0  random elements:  0:00:00.003776\n",
      "Invalid Range: could not broadcast input array from shape (2127,257) into shape (2127,258)\n",
      "Time for Getting  0  random elements:  0:00:00.003966\n",
      "Invalid Range: could not broadcast input array from shape (2090,257) into shape (2090,258)\n",
      "Time for Getting  0  random elements:  0:00:00.004375\n",
      "Invalid Range: could not broadcast input array from shape (2137,257) into shape (2137,258)\n",
      "Time for Getting  0  random elements:  0:00:00.004093\n"
     ]
    },
    {
     "name": "stderr",
     "output_type": "stream",
     "text": [
      "2018-10-16 23:58:25,263 - nn-real-hvd - INFO -    442     1 96339.5     0.0   0.002 0.10000\n",
      "2018-10-16 23:58:25,263 - nn-real-hvd - INFO -    442     1 96339.5     0.0   0.002 0.10000\n",
      "2018-10-16 23:58:25,310 - nn-real-hvd - INFO -    443     1 99063.2     0.0   0.002 0.10000\n",
      "2018-10-16 23:58:25,310 - nn-real-hvd - INFO -    443     1 99063.2     0.0   0.002 0.10000\n",
      "2018-10-16 23:58:25,369 - nn-real-hvd - INFO -    444     1 76492.7     0.1   0.002 0.10000\n",
      "2018-10-16 23:58:25,369 - nn-real-hvd - INFO -    444     1 76492.7     0.1   0.002 0.10000\n",
      "2018-10-16 23:58:25,420 - nn-real-hvd - INFO -    445     1 90555.9     0.0   0.002 0.10000\n",
      "2018-10-16 23:58:25,420 - nn-real-hvd - INFO -    445     1 90555.9     0.0   0.002 0.10000\n",
      "2018-10-16 23:58:25,469 - nn-real-hvd - INFO -    446     1 93433.4     0.0   0.002 0.10000\n",
      "2018-10-16 23:58:25,469 - nn-real-hvd - INFO -    446     1 93433.4     0.0   0.002 0.10000\n"
     ]
    },
    {
     "name": "stdout",
     "output_type": "stream",
     "text": [
      "Invalid Range: could not broadcast input array from shape (2055,257) into shape (2055,258)\n",
      "Time for Getting  0  random elements:  0:00:00.004517\n",
      "Invalid Range: could not broadcast input array from shape (2160,257) into shape (2160,258)\n",
      "Time for Getting  0  random elements:  0:00:00.003748\n",
      "Invalid Range: could not broadcast input array from shape (2123,257) into shape (2123,258)\n",
      "Time for Getting  0  random elements:  0:00:00.004022\n",
      "Invalid Range: could not broadcast input array from shape (2166,257) into shape (2166,258)\n",
      "Time for Getting  0  random elements:  0:00:00.003910\n"
     ]
    },
    {
     "name": "stderr",
     "output_type": "stream",
     "text": [
      "2018-10-16 23:58:25,519 - nn-real-hvd - INFO -    447     1 92311.1     0.0   0.002 0.10000\n",
      "2018-10-16 23:58:25,519 - nn-real-hvd - INFO -    447     1 92311.1     0.0   0.002 0.10000\n",
      "2018-10-16 23:58:25,567 - nn-real-hvd - INFO -    448     1 94932.6     0.0   0.002 0.10000\n",
      "2018-10-16 23:58:25,567 - nn-real-hvd - INFO -    448     1 94932.6     0.0   0.002 0.10000\n",
      "2018-10-16 23:58:25,615 - nn-real-hvd - INFO -    449     1 94943.8     0.0   0.002 0.10000\n",
      "2018-10-16 23:58:25,615 - nn-real-hvd - INFO -    449     1 94943.8     0.0   0.002 0.10000\n",
      "2018-10-16 23:58:25,664 - nn-real-hvd - INFO -    450     1 95241.0     0.0   0.002 0.10000\n",
      "2018-10-16 23:58:25,664 - nn-real-hvd - INFO -    450     1 95241.0     0.0   0.002 0.10000\n"
     ]
    },
    {
     "name": "stdout",
     "output_type": "stream",
     "text": [
      "Invalid Range: could not broadcast input array from shape (2146,257) into shape (2146,258)\n",
      "Time for Getting  0  random elements:  0:00:00.003989\n",
      "Invalid Range: could not broadcast input array from shape (2141,257) into shape (2141,258)\n",
      "Time for Getting  0  random elements:  0:00:00.004288\n",
      "Invalid Range: could not broadcast input array from shape (2147,257) into shape (2147,258)\n",
      "Time for Getting  0  random elements:  0:00:00.004459\n",
      "Invalid Range: could not broadcast input array from shape (2115,257) into shape (2115,258)\n",
      "Time for Getting  0  random elements:  0:00:00.004333\n",
      "Invalid Range: could not broadcast input array from shape (2210,257) into shape (2210,258)\n",
      "Time for Getting  0  random elements:  0:00:00.004534\n"
     ]
    },
    {
     "name": "stderr",
     "output_type": "stream",
     "text": [
      "2018-10-16 23:58:25,712 - nn-real-hvd - INFO -    451     1 94149.1     0.0   0.002 0.10000\n",
      "2018-10-16 23:58:25,712 - nn-real-hvd - INFO -    451     1 94149.1     0.0   0.002 0.10000\n",
      "2018-10-16 23:58:25,760 - nn-real-hvd - INFO -    452     1 95607.0     0.0   0.002 0.10000\n",
      "2018-10-16 23:58:25,760 - nn-real-hvd - INFO -    452     1 95607.0     0.0   0.002 0.10000\n",
      "2018-10-16 23:58:25,809 - nn-real-hvd - INFO -    453     1 93520.0     0.0   0.002 0.10000\n",
      "2018-10-16 23:58:25,809 - nn-real-hvd - INFO -    453     1 93520.0     0.0   0.002 0.10000\n",
      "2018-10-16 23:58:25,859 - nn-real-hvd - INFO -    454     1 90585.5     0.0   0.002 0.10000\n",
      "2018-10-16 23:58:25,859 - nn-real-hvd - INFO -    454     1 90585.5     0.0   0.002 0.10000\n",
      "2018-10-16 23:58:25,912 - nn-real-hvd - INFO -    455     1 87112.3     0.1   0.002 0.10000\n",
      "2018-10-16 23:58:25,912 - nn-real-hvd - INFO -    455     1 87112.3     0.1   0.002 0.10000\n"
     ]
    },
    {
     "name": "stdout",
     "output_type": "stream",
     "text": [
      "Invalid Range: could not broadcast input array from shape (2105,257) into shape (2105,258)\n",
      "Time for Getting  0  random elements:  0:00:00.004134\n",
      "Invalid Range: could not broadcast input array from shape (2148,257) into shape (2148,258)\n",
      "Time for Getting  0  random elements:  0:00:00.004213\n",
      "Invalid Range: could not broadcast input array from shape (2144,257) into shape (2144,258)\n",
      "Time for Getting  0  random elements:  0:00:00.004558\n",
      "Invalid Range: could not broadcast input array from shape (2129,257) into shape (2129,258)\n",
      "Time for Getting  0  random elements:  0:00:00.004366\n"
     ]
    },
    {
     "name": "stderr",
     "output_type": "stream",
     "text": [
      "2018-10-16 23:58:25,964 - nn-real-hvd - INFO -    456     1 88861.5     0.0   0.002 0.10000\n",
      "2018-10-16 23:58:25,964 - nn-real-hvd - INFO -    456     1 88861.5     0.0   0.002 0.10000\n",
      "2018-10-16 23:58:26,014 - nn-real-hvd - INFO -    457     1 93781.8     0.0   0.002 0.10000\n",
      "2018-10-16 23:58:26,014 - nn-real-hvd - INFO -    457     1 93781.8     0.0   0.002 0.10000\n",
      "2018-10-16 23:58:26,060 - nn-real-hvd - INFO -    458     1 99536.6     0.0   0.002 0.10000\n",
      "2018-10-16 23:58:26,060 - nn-real-hvd - INFO -    458     1 99536.6     0.0   0.002 0.10000\n",
      "2018-10-16 23:58:26,109 - nn-real-hvd - INFO -    459     1 93445.6     0.0   0.002 0.10000\n",
      "2018-10-16 23:58:26,109 - nn-real-hvd - INFO -    459     1 93445.6     0.0   0.002 0.10000\n"
     ]
    },
    {
     "name": "stdout",
     "output_type": "stream",
     "text": [
      "Invalid Range: could not broadcast input array from shape (2156,257) into shape (2156,258)\n",
      "Time for Getting  0  random elements:  0:00:00.005262\n",
      "Invalid Range: could not broadcast input array from shape (2088,257) into shape (2088,258)\n",
      "Time for Getting  0  random elements:  0:00:00.003844\n",
      "Invalid Range: could not broadcast input array from shape (2149,257) into shape (2149,258)\n",
      "Time for Getting  0  random elements:  0:00:00.004356\n",
      "Invalid Range: could not broadcast input array from shape (2063,257) into shape (2063,258)\n",
      "Time for Getting  0  random elements:  0:00:00.004086\n",
      "Invalid Range: could not broadcast input array from shape (2124,257) into shape (2124,258)\n",
      "Time for Getting  0  random elements:  0:00:00.003743\n"
     ]
    },
    {
     "name": "stderr",
     "output_type": "stream",
     "text": [
      "2018-10-16 23:58:26,156 - nn-real-hvd - INFO -    460     1 97133.1     0.0   0.002 0.10000\n",
      "2018-10-16 23:58:26,156 - nn-real-hvd - INFO -    460     1 97133.1     0.0   0.002 0.10000\n",
      "2018-10-16 23:58:26,204 - nn-real-hvd - INFO -    461     1 95714.9     0.0   0.002 0.10000\n",
      "2018-10-16 23:58:26,204 - nn-real-hvd - INFO -    461     1 95714.9     0.0   0.002 0.10000\n",
      "2018-10-16 23:58:26,252 - nn-real-hvd - INFO -    462     1 96189.2     0.0   0.002 0.10000\n",
      "2018-10-16 23:58:26,252 - nn-real-hvd - INFO -    462     1 96189.2     0.0   0.002 0.10000\n",
      "2018-10-16 23:58:26,308 - nn-real-hvd - INFO -    463     1 80096.8     0.1   0.002 0.10000\n",
      "2018-10-16 23:58:26,308 - nn-real-hvd - INFO -    463     1 80096.8     0.1   0.002 0.10000\n",
      "2018-10-16 23:58:26,358 - nn-real-hvd - INFO -    464     1 92411.8     0.0   0.002 0.10000\n",
      "2018-10-16 23:58:26,358 - nn-real-hvd - INFO -    464     1 92411.8     0.0   0.002 0.10000\n"
     ]
    },
    {
     "name": "stdout",
     "output_type": "stream",
     "text": [
      "Invalid Range: could not broadcast input array from shape (2117,257) into shape (2117,258)\n",
      "Time for Getting  0  random elements:  0:00:00.004169\n",
      "Invalid Range: could not broadcast input array from shape (2115,257) into shape (2115,258)\n",
      "Time for Getting  0  random elements:  0:00:00.003877\n",
      "Invalid Range: could not broadcast input array from shape (2211,257) into shape (2211,258)\n",
      "Time for Getting  0  random elements:  0:00:00.004153\n",
      "Invalid Range: could not broadcast input array from shape (2155,257) into shape (2155,258)\n",
      "Time for Getting  0  random elements:  0:00:00.003853\n",
      "Invalid Range: could not broadcast input array from shape (2114,257) into shape (2114,258)\n"
     ]
    },
    {
     "name": "stderr",
     "output_type": "stream",
     "text": [
      "2018-10-16 23:58:26,407 - nn-real-hvd - INFO -    465     1 93709.8     0.0   0.002 0.10000\n",
      "2018-10-16 23:58:26,407 - nn-real-hvd - INFO -    465     1 93709.8     0.0   0.002 0.10000\n",
      "2018-10-16 23:58:26,457 - nn-real-hvd - INFO -    466     1 93077.7     0.0   0.002 0.10000\n",
      "2018-10-16 23:58:26,457 - nn-real-hvd - INFO -    466     1 93077.7     0.0   0.002 0.10000\n",
      "2018-10-16 23:58:26,506 - nn-real-hvd - INFO -    467     1 93077.7     0.0   0.002 0.10000\n",
      "2018-10-16 23:58:26,506 - nn-real-hvd - INFO -    467     1 93077.7     0.0   0.002 0.10000\n",
      "2018-10-16 23:58:26,557 - nn-real-hvd - INFO -    468     1 90868.9     0.0   0.002 0.10000\n",
      "2018-10-16 23:58:26,557 - nn-real-hvd - INFO -    468     1 90868.9     0.0   0.002 0.10000\n"
     ]
    },
    {
     "name": "stdout",
     "output_type": "stream",
     "text": [
      "Time for Getting  0  random elements:  0:00:00.004177\n",
      "Invalid Range: could not broadcast input array from shape (2080,257) into shape (2080,258)\n",
      "Time for Getting  0  random elements:  0:00:00.003705\n",
      "Invalid Range: could not broadcast input array from shape (2114,257) into shape (2114,258)\n",
      "Time for Getting  0  random elements:  0:00:00.004342\n",
      "Invalid Range: could not broadcast input array from shape (2077,257) into shape (2077,258)\n",
      "Time for Getting  0  random elements:  0:00:00.004321\n",
      "Invalid Range: could not broadcast input array from shape (2154,257) into shape (2154,258)\n",
      "Time for Getting  0  random elements:  0:00:00.004735\n"
     ]
    },
    {
     "name": "stderr",
     "output_type": "stream",
     "text": [
      "2018-10-16 23:58:26,606 - nn-real-hvd - INFO -    469     1 91484.8     0.0   0.002 0.10000\n",
      "2018-10-16 23:58:26,606 - nn-real-hvd - INFO -    469     1 91484.8     0.0   0.002 0.10000\n",
      "2018-10-16 23:58:26,655 - nn-real-hvd - INFO -    470     1 94749.9     0.0   0.002 0.10000\n",
      "2018-10-16 23:58:26,655 - nn-real-hvd - INFO -    470     1 94749.9     0.0   0.002 0.10000\n",
      "2018-10-16 23:58:26,705 - nn-real-hvd - INFO -    471     1 90778.7     0.0   0.002 0.10000\n",
      "2018-10-16 23:58:26,705 - nn-real-hvd - INFO -    471     1 90778.7     0.0   0.002 0.10000\n",
      "2018-10-16 23:58:26,754 - nn-real-hvd - INFO -    472     1 93100.2     0.0   0.002 0.10000\n",
      "2018-10-16 23:58:26,754 - nn-real-hvd - INFO -    472     1 93100.2     0.0   0.002 0.10000\n",
      "2018-10-16 23:58:26,805 - nn-real-hvd - INFO -    473     1 90801.3     0.0   0.002 0.10000\n",
      "2018-10-16 23:58:26,805 - nn-real-hvd - INFO -    473     1 90801.3     0.0   0.002 0.10000\n"
     ]
    },
    {
     "name": "stdout",
     "output_type": "stream",
     "text": [
      "Invalid Range: could not broadcast input array from shape (2134,257) into shape (2134,258)\n",
      "Time for Getting  0  random elements:  0:00:00.004592\n",
      "Invalid Range: could not broadcast input array from shape (2186,257) into shape (2186,258)\n",
      "Time for Getting  0  random elements:  0:00:00.004125\n",
      "Invalid Range: could not broadcast input array from shape (2167,257) into shape (2167,258)\n",
      "Time for Getting  0  random elements:  0:00:00.003931\n",
      "Invalid Range: could not broadcast input array from shape (2153,257) into shape (2153,258)\n",
      "Time for Getting  0  random elements:  0:00:00.004234\n",
      "Invalid Range: could not broadcast input array from shape (2143,257) into shape (2143,258)\n"
     ]
    },
    {
     "name": "stderr",
     "output_type": "stream",
     "text": [
      "2018-10-16 23:58:26,855 - nn-real-hvd - INFO -    474     1 90538.7     0.0   0.002 0.10000\n",
      "2018-10-16 23:58:26,855 - nn-real-hvd - INFO -    474     1 90538.7     0.0   0.002 0.10000\n",
      "2018-10-16 23:58:26,907 - nn-real-hvd - INFO -    475     1 89538.0     0.0   0.002 0.10000\n",
      "2018-10-16 23:58:26,907 - nn-real-hvd - INFO -    475     1 89538.0     0.0   0.002 0.10000\n",
      "2018-10-16 23:58:26,957 - nn-real-hvd - INFO -    476     1 92358.4     0.0   0.002 0.10000\n",
      "2018-10-16 23:58:26,957 - nn-real-hvd - INFO -    476     1 92358.4     0.0   0.002 0.10000\n",
      "2018-10-16 23:58:27,005 - nn-real-hvd - INFO -    477     1 95660.2     0.0   0.002 0.10000\n",
      "2018-10-16 23:58:27,005 - nn-real-hvd - INFO -    477     1 95660.2     0.0   0.002 0.10000\n"
     ]
    },
    {
     "name": "stdout",
     "output_type": "stream",
     "text": [
      "Time for Getting  0  random elements:  0:00:00.004387\n",
      "Invalid Range: could not broadcast input array from shape (2130,257) into shape (2130,258)\n",
      "Time for Getting  0  random elements:  0:00:00.004180\n",
      "Invalid Range: could not broadcast input array from shape (2112,257) into shape (2112,258)\n",
      "Time for Getting  0  random elements:  0:00:00.004204\n",
      "Invalid Range: could not broadcast input array from shape (2172,257) into shape (2172,258)\n",
      "Time for Getting  0  random elements:  0:00:00.004155\n",
      "Invalid Range: could not broadcast input array from shape (2064,257) into shape (2064,258)\n",
      "Time for Getting  0  random elements:  0:00:00.004088\n"
     ]
    },
    {
     "name": "stderr",
     "output_type": "stream",
     "text": [
      "2018-10-16 23:58:27,056 - nn-real-hvd - INFO -    478     1 88385.0     0.1   0.002 0.10000\n",
      "2018-10-16 23:58:27,056 - nn-real-hvd - INFO -    478     1 88385.0     0.1   0.002 0.10000\n",
      "2018-10-16 23:58:27,104 - nn-real-hvd - INFO -    479     1 95161.8     0.0   0.002 0.10000\n",
      "2018-10-16 23:58:27,104 - nn-real-hvd - INFO -    479     1 95161.8     0.0   0.002 0.10000\n",
      "2018-10-16 23:58:27,154 - nn-real-hvd - INFO -    480     1 93173.5     0.0   0.002 0.10000\n",
      "2018-10-16 23:58:27,154 - nn-real-hvd - INFO -    480     1 93173.5     0.0   0.002 0.10000\n",
      "2018-10-16 23:58:27,202 - nn-real-hvd - INFO -    481     1 94955.9     0.0   0.002 0.10000\n",
      "2018-10-16 23:58:27,202 - nn-real-hvd - INFO -    481     1 94955.9     0.0   0.002 0.10000\n",
      "2018-10-16 23:58:27,251 - nn-real-hvd - INFO -    482     1 93694.2     0.0   0.002 0.10000\n",
      "2018-10-16 23:58:27,251 - nn-real-hvd - INFO -    482     1 93694.2     0.0   0.002 0.10000\n"
     ]
    },
    {
     "name": "stdout",
     "output_type": "stream",
     "text": [
      "Invalid Range: could not broadcast input array from shape (2092,257) into shape (2092,258)\n",
      "Time for Getting  0  random elements:  0:00:00.004407\n",
      "Invalid Range: could not broadcast input array from shape (2113,257) into shape (2113,258)\n",
      "Time for Getting  0  random elements:  0:00:00.003802\n",
      "Invalid Range: could not broadcast input array from shape (2215,257) into shape (2215,258)\n",
      "Time for Getting  0  random elements:  0:00:00.004080\n",
      "Invalid Range: could not broadcast input array from shape (2122,257) into shape (2122,258)\n",
      "Time for Getting  0  random elements:  0:00:00.004140\n",
      "Invalid Range: could not broadcast input array from shape (2088,257) into shape (2088,258)\n",
      "Time for Getting  0  random elements:  0:00:00.004186\n"
     ]
    },
    {
     "name": "stderr",
     "output_type": "stream",
     "text": [
      "2018-10-16 23:58:27,300 - nn-real-hvd - INFO -    483     1 93842.5     0.0   0.002 0.10000\n",
      "2018-10-16 23:58:27,300 - nn-real-hvd - INFO -    483     1 93842.5     0.0   0.002 0.10000\n",
      "2018-10-16 23:58:27,346 - nn-real-hvd - INFO -    484     1 97918.7     0.0   0.002 0.10000\n",
      "2018-10-16 23:58:27,346 - nn-real-hvd - INFO -    484     1 97918.7     0.0   0.002 0.10000\n",
      "2018-10-16 23:58:27,401 - nn-real-hvd - INFO -    485     1 83376.6     0.1   0.002 0.10000\n",
      "2018-10-16 23:58:27,401 - nn-real-hvd - INFO -    485     1 83376.6     0.1   0.002 0.10000\n",
      "2018-10-16 23:58:27,448 - nn-real-hvd - INFO -    486     1 98109.1     0.0   0.002 0.10000\n",
      "2018-10-16 23:58:27,448 - nn-real-hvd - INFO -    486     1 98109.1     0.0   0.002 0.10000\n",
      "2018-10-16 23:58:27,496 - nn-real-hvd - INFO -    487     1 93477.2     0.0   0.002 0.10000\n",
      "2018-10-16 23:58:27,496 - nn-real-hvd - INFO -    487     1 93477.2     0.0   0.002 0.10000\n"
     ]
    },
    {
     "name": "stdout",
     "output_type": "stream",
     "text": [
      "Invalid Range: could not broadcast input array from shape (2130,257) into shape (2130,258)\n",
      "Time for Getting  0  random elements:  0:00:00.004066\n",
      "Invalid Range: could not broadcast input array from shape (2133,257) into shape (2133,258)\n",
      "Time for Getting  0  random elements:  0:00:00.004151\n",
      "Invalid Range: could not broadcast input array from shape (2145,257) into shape (2145,258)\n",
      "Time for Getting  0  random elements:  0:00:00.004291\n",
      "Invalid Range: could not broadcast input array from shape (2125,257) into shape (2125,258)\n",
      "Time for Getting  0  random elements:  0:00:00.004066\n",
      "Invalid Range: could not broadcast input array from shape (2154,257) into shape (2154,258)\n",
      "Time for Getting  0"
     ]
    },
    {
     "name": "stderr",
     "output_type": "stream",
     "text": [
      "2018-10-16 23:58:27,544 - nn-real-hvd - INFO -    488     1 95612.4     0.0   0.002 0.10000\n",
      "2018-10-16 23:58:27,544 - nn-real-hvd - INFO -    488     1 95612.4     0.0   0.002 0.10000\n",
      "2018-10-16 23:58:27,591 - nn-real-hvd - INFO -    489     1 99860.6     0.0   0.002 0.10000\n",
      "2018-10-16 23:58:27,591 - nn-real-hvd - INFO -    489     1 99860.6     0.0   0.002 0.10000\n",
      "2018-10-16 23:58:27,637 - nn-real-hvd - INFO -    490     1 100195.9     0.0   0.002 0.10000\n",
      "2018-10-16 23:58:27,637 - nn-real-hvd - INFO -    490     1 100195.9     0.0   0.002 0.10000\n",
      "2018-10-16 23:58:27,685 - nn-real-hvd - INFO -    491     1 94690.4     0.0   0.002 0.10000\n",
      "2018-10-16 23:58:27,685 - nn-real-hvd - INFO -    491     1 94690.4     0.0   0.002 0.10000\n"
     ]
    },
    {
     "name": "stdout",
     "output_type": "stream",
     "text": [
      "  random elements:  0:00:00.003935\n",
      "Invalid Range: could not broadcast input array from shape (2125,257) into shape (2125,258)\n",
      "Time for Getting  0  random elements:  0:00:00.003740\n",
      "Invalid Range: could not broadcast input array from shape (2113,257) into shape (2113,258)\n",
      "Time for Getting  0  random elements:  0:00:00.003649\n",
      "Invalid Range: could not broadcast input array from shape (2098,257) into shape (2098,258)\n",
      "Time for Getting  0  random elements:  0:00:00.003900\n",
      "Invalid Range: could not broadcast input array from shape (2133,257) into shape (2133,258)\n",
      "Time for Getting  0  random elements:  0:00:00.003932\n"
     ]
    },
    {
     "name": "stderr",
     "output_type": "stream",
     "text": [
      "2018-10-16 23:58:27,734 - nn-real-hvd - INFO -    492     1 95307.0     0.0   0.002 0.10000\n",
      "2018-10-16 23:58:27,734 - nn-real-hvd - INFO -    492     1 95307.0     0.0   0.002 0.10000\n",
      "2018-10-16 23:58:27,783 - nn-real-hvd - INFO -    493     1 93179.1     0.0   0.002 0.10000\n",
      "2018-10-16 23:58:27,783 - nn-real-hvd - INFO -    493     1 93179.1     0.0   0.002 0.10000\n",
      "2018-10-16 23:58:27,832 - nn-real-hvd - INFO -    494     1 94443.2     0.0   0.002 0.10000\n",
      "2018-10-16 23:58:27,832 - nn-real-hvd - INFO -    494     1 94443.2     0.0   0.002 0.10000\n",
      "2018-10-16 23:58:27,889 - nn-real-hvd - INFO -    495     1 79593.6     0.1   0.002 0.10000\n",
      "2018-10-16 23:58:27,889 - nn-real-hvd - INFO -    495     1 79593.6     0.1   0.002 0.10000\n",
      "2018-10-16 23:58:27,940 - nn-real-hvd - INFO -    496     1 90278.0     0.0   0.002 0.10000\n",
      "2018-10-16 23:58:27,940 - nn-real-hvd - INFO -    496     1 90278.0     0.0   0.002 0.10000\n"
     ]
    },
    {
     "name": "stdout",
     "output_type": "stream",
     "text": [
      "Invalid Range: could not broadcast input array from shape (2132,257) into shape (2132,258)\n",
      "Time for Getting  0  random elements:  0:00:00.004279\n",
      "Invalid Range: could not broadcast input array from shape (2084,257) into shape (2084,258)\n",
      "Time for Getting  0  random elements:  0:00:00.004540\n",
      "Invalid Range: could not broadcast input array from shape (2152,257) into shape (2152,258)\n",
      "Time for Getting  0  random elements:  0:00:00.004214\n",
      "Invalid Range: could not broadcast input array from shape (2127,257) into shape (2127,258)\n",
      "Time for Getting  0  random elements:  0:00:00.004328\n"
     ]
    },
    {
     "name": "stderr",
     "output_type": "stream",
     "text": [
      "2018-10-16 23:58:27,990 - nn-real-hvd - INFO -    497     1 90912.5     0.0   0.002 0.10000\n",
      "2018-10-16 23:58:27,990 - nn-real-hvd - INFO -    497     1 90912.5     0.0   0.002 0.10000\n",
      "2018-10-16 23:58:28,039 - nn-real-hvd - INFO -    498     1 92893.7     0.0   0.002 0.10000\n",
      "2018-10-16 23:58:28,039 - nn-real-hvd - INFO -    498     1 92893.7     0.0   0.002 0.10000\n",
      "2018-10-16 23:58:28,086 - nn-real-hvd - INFO -    499     1 98041.8     0.0   0.002 0.10000\n",
      "2018-10-16 23:58:28,086 - nn-real-hvd - INFO -    499     1 98041.8     0.0   0.002 0.10000\n",
      "2018-10-16 23:58:28,137 - nn-real-hvd - INFO -    500     1 90134.6     0.0   0.002 0.10000\n",
      "2018-10-16 23:58:28,137 - nn-real-hvd - INFO -    500     1 90134.6     0.0   0.002 0.10000\n"
     ]
    },
    {
     "name": "stdout",
     "output_type": "stream",
     "text": [
      "Invalid Range: could not broadcast input array from shape (2121,257) into shape (2121,258)\n",
      "Time for Getting  0  random elements:  0:00:00.004368\n",
      "Invalid Range: could not broadcast input array from shape (2116,257) into shape (2116,258)\n",
      "Time for Getting  0  random elements:  0:00:00.004206\n",
      "Invalid Range: could not broadcast input array from shape (2205,257) into shape (2205,258)\n",
      "Time for Getting  0  random elements:  0:00:00.004558\n",
      "Invalid Range: could not broadcast input array from shape (2091,257) into shape (2091,258)\n",
      "Time for Getting  0  random elements:  0:00:00.004567\n",
      "Invalid Range: could not broadcast input array from shape (2180,257) into shape (2180,258)\n",
      "Time for Getting  0  random elements:  0:00:00.004174\n"
     ]
    },
    {
     "name": "stderr",
     "output_type": "stream",
     "text": [
      "2018-10-16 23:58:28,188 - nn-real-hvd - INFO -    501     1 88827.1     0.0   0.002 0.10000\n",
      "2018-10-16 23:58:28,188 - nn-real-hvd - INFO -    501     1 88827.1     0.0   0.002 0.10000\n",
      "2018-10-16 23:58:28,235 - nn-real-hvd - INFO -    502     1 99058.0     0.0   0.002 0.10000\n",
      "2018-10-16 23:58:28,235 - nn-real-hvd - INFO -    502     1 99058.0     0.0   0.002 0.10000\n",
      "2018-10-16 23:58:28,282 - nn-real-hvd - INFO -    503     1 96279.0     0.0   0.002 0.10000\n",
      "2018-10-16 23:58:28,282 - nn-real-hvd - INFO -    503     1 96279.0     0.0   0.002 0.10000\n",
      "2018-10-16 23:58:28,331 - nn-real-hvd - INFO -    504     1 94251.9     0.0   0.002 0.10000\n",
      "2018-10-16 23:58:28,331 - nn-real-hvd - INFO -    504     1 94251.9     0.0   0.002 0.10000\n",
      "2018-10-16 23:58:28,380 - nn-real-hvd - INFO -    505     1 95016.7     0.0   0.002 0.10000\n",
      "2018-10-16 23:58:28,380 - nn-real-hvd - INFO -    505     1 95016.7     0.0   0.002 0.10000\n"
     ]
    },
    {
     "name": "stdout",
     "output_type": "stream",
     "text": [
      "Invalid Range: could not broadcast input array from shape (2158,257) into shape (2158,258)\n",
      "Time for Getting  0  random elements:  0:00:00.004051\n",
      "Invalid Range: could not broadcast input array from shape (2051,257) into shape (2051,258)\n",
      "Time for Getting  0  random elements:  0:00:00.003883\n",
      "Invalid Range: could not broadcast input array from shape (2138,257) into shape (2138,258)\n",
      "Time for Getting  0  random elements:  0:00:00.003897\n",
      "Invalid Range: could not broadcast input array from shape (2162,257) into shape (2162,258)\n",
      "Time for Getting  0  random elements:  0:00:00.004190\n",
      "Invalid Range: could not broadcast input array from shape (2161,257) into shape (2161,258)\n",
      "Time for Getting  0  random elements:  0:00:00.004126\n"
     ]
    },
    {
     "name": "stderr",
     "output_type": "stream",
     "text": [
      "2018-10-16 23:58:28,427 - nn-real-hvd - INFO -    506     1 99704.0     0.0   0.002 0.10000\n",
      "2018-10-16 23:58:28,427 - nn-real-hvd - INFO -    506     1 99704.0     0.0   0.002 0.10000\n",
      "2018-10-16 23:58:28,475 - nn-real-hvd - INFO -    507     1 95199.9     0.0   0.002 0.10000\n",
      "2018-10-16 23:58:28,475 - nn-real-hvd - INFO -    507     1 95199.9     0.0   0.002 0.10000\n",
      "2018-10-16 23:58:28,525 - nn-real-hvd - INFO -    508     1 91579.6     0.0   0.002 0.10000\n",
      "2018-10-16 23:58:28,525 - nn-real-hvd - INFO -    508     1 91579.6     0.0   0.002 0.10000\n",
      "2018-10-16 23:58:28,574 - nn-real-hvd - INFO -    509     1 92934.2     0.0   0.002 0.10000\n",
      "2018-10-16 23:58:28,574 - nn-real-hvd - INFO -    509     1 92934.2     0.0   0.002 0.10000\n",
      "2018-10-16 23:58:28,622 - nn-real-hvd - INFO -    510     1 95222.4     0.0   0.002 0.10000\n",
      "2018-10-16 23:58:28,622 - nn-real-hvd - INFO -    510     1 95222.4     0.0   0.002 0.10000\n"
     ]
    },
    {
     "name": "stdout",
     "output_type": "stream",
     "text": [
      "Invalid Range: could not broadcast input array from shape (2079,257) into shape (2079,258)\n",
      "Time for Getting  0  random elements:  0:00:00.003975\n",
      "Invalid Range: could not broadcast input array from shape (2120,257) into shape (2120,258)\n",
      "Time for Getting  0  random elements:  0:00:00.004012\n",
      "Invalid Range: could not broadcast input array from shape (2159,257) into shape (2159,258)\n",
      "Time for Getting  0  random elements:  0:00:00.004360\n",
      "Invalid Range: could not broadcast input array from shape (2193,257) into shape (2193,258)\n",
      "Time for Getting  0  random elements:  0:00:00.004328\n",
      "Invalid Range: could not broadcast input array from shape (2128,257) into shape (2128,258)\n",
      "Time for Getting  0  random elements:  0:00:00.004162\n"
     ]
    },
    {
     "name": "stderr",
     "output_type": "stream",
     "text": [
      "2018-10-16 23:58:28,668 - nn-real-hvd - INFO -    511     1 98735.4     0.0   0.002 0.10000\n",
      "2018-10-16 23:58:28,668 - nn-real-hvd - INFO -    511     1 98735.4     0.0   0.002 0.10000\n",
      "2018-10-16 23:58:28,717 - nn-real-hvd - INFO -    512     1 94469.7     0.0   0.002 0.10000\n",
      "2018-10-16 23:58:28,717 - nn-real-hvd - INFO -    512     1 94469.7     0.0   0.002 0.10000\n",
      "2018-10-16 23:58:28,766 - nn-real-hvd - INFO -    513     1 93298.6     0.0   0.002 0.10000\n",
      "2018-10-16 23:58:28,766 - nn-real-hvd - INFO -    513     1 93298.6     0.0   0.002 0.10000\n",
      "2018-10-16 23:58:28,812 - nn-real-hvd - INFO -    514     1 99270.4     0.0   0.002 0.10000\n",
      "2018-10-16 23:58:28,812 - nn-real-hvd - INFO -    514     1 99270.4     0.0   0.002 0.10000\n",
      "2018-10-16 23:58:28,860 - nn-real-hvd - INFO -    515     1 95157.5     0.0   0.002 0.10000\n",
      "2018-10-16 23:58:28,860 - nn-real-hvd - INFO -    515     1 95157.5     0.0   0.002 0.10000\n"
     ]
    },
    {
     "name": "stdout",
     "output_type": "stream",
     "text": [
      "Invalid Range: could not broadcast input array from shape (2138,257) into shape (2138,258)\n",
      "Time for Getting  0  random elements:  0:00:00.003879\n",
      "Invalid Range: could not broadcast input array from shape (2209,257) into shape (2209,258)\n",
      "Time for Getting  0  random elements:  0:00:00.004315\n",
      "Invalid Range: could not broadcast input array from shape (2074,257) into shape (2074,258)\n",
      "Time for Getting  0  random elements:  0:00:00.003897\n",
      "Invalid Range: could not broadcast input array from shape (2124,257) into shape (2124,258)\n",
      "Time for Getting  0  random elements:  0:00:00.004544\n",
      "Invalid Range: could not broadcast input array from shape (2088,257) into shape (2088,258)\n",
      "Time for Getting  0  random elements:  0:00:00.004389\n"
     ]
    },
    {
     "name": "stderr",
     "output_type": "stream",
     "text": [
      "2018-10-16 23:58:28,909 - nn-real-hvd - INFO -    516     1 94411.0     0.0   0.002 0.10000\n",
      "2018-10-16 23:58:28,909 - nn-real-hvd - INFO -    516     1 94411.0     0.0   0.002 0.10000\n",
      "2018-10-16 23:58:28,958 - nn-real-hvd - INFO -    517     1 93104.8     0.0   0.002 0.10000\n",
      "2018-10-16 23:58:28,958 - nn-real-hvd - INFO -    517     1 93104.8     0.0   0.002 0.10000\n",
      "2018-10-16 23:58:29,007 - nn-real-hvd - INFO -    518     1 94201.6     0.0   0.002 0.10000\n",
      "2018-10-16 23:58:29,007 - nn-real-hvd - INFO -    518     1 94201.6     0.0   0.002 0.10000\n",
      "2018-10-16 23:58:29,056 - nn-real-hvd - INFO -    519     1 92706.7     0.0   0.002 0.10000\n",
      "2018-10-16 23:58:29,056 - nn-real-hvd - INFO -    519     1 92706.7     0.0   0.002 0.10000\n",
      "2018-10-16 23:58:29,103 - nn-real-hvd - INFO -    520     1 97555.3     0.0   0.002 0.10000\n",
      "2018-10-16 23:58:29,103 - nn-real-hvd - INFO -    520     1 97555.3     0.0   0.002 0.10000\n"
     ]
    },
    {
     "name": "stdout",
     "output_type": "stream",
     "text": [
      "Invalid Range: could not broadcast input array from shape (2119,257) into shape (2119,258)\n",
      "Time for Getting  0  random elements:  0:00:00.005059\n",
      "Invalid Range: could not broadcast input array from shape (2156,257) into shape (2156,258)\n",
      "Time for Getting  0  random elements:  0:00:00.004270\n",
      "Invalid Range: could not broadcast input array from shape (2108,257) into shape (2108,258)\n",
      "Time for Getting  0  random elements:  0:00:00.004292\n",
      "Invalid Range: could not broadcast input array from shape (2167,257) into shape (2167,258)\n",
      "Time for Getting  0  random elements:  0:00:00.004623\n",
      "Invalid Range: could not broadcast input array from shape (2133,257) into shape (2133,258)\n",
      "Time for Getting  0  random elements:  0:00:00.004320\n"
     ]
    },
    {
     "name": "stderr",
     "output_type": "stream",
     "text": [
      "2018-10-16 23:58:29,163 - nn-real-hvd - INFO -    521     1 76588.6     0.1   0.002 0.10000\n",
      "2018-10-16 23:58:29,163 - nn-real-hvd - INFO -    521     1 76588.6     0.1   0.002 0.10000\n",
      "2018-10-16 23:58:29,213 - nn-real-hvd - INFO -    522     1 92944.0     0.0   0.002 0.10000\n",
      "2018-10-16 23:58:29,213 - nn-real-hvd - INFO -    522     1 92944.0     0.0   0.002 0.10000\n",
      "2018-10-16 23:58:29,260 - nn-real-hvd - INFO -    523     1 96275.5     0.0   0.002 0.10000\n",
      "2018-10-16 23:58:29,260 - nn-real-hvd - INFO -    523     1 96275.5     0.0   0.002 0.10000\n",
      "2018-10-16 23:58:29,308 - nn-real-hvd - INFO -    524     1 95014.7     0.0   0.002 0.10000\n",
      "2018-10-16 23:58:29,308 - nn-real-hvd - INFO -    524     1 95014.7     0.0   0.002 0.10000\n",
      "2018-10-16 23:58:29,356 - nn-real-hvd - INFO -    525     1 96420.0     0.0   0.002 0.10000\n",
      "2018-10-16 23:58:29,356 - nn-real-hvd - INFO -    525     1 96420.0     0.0   0.002 0.10000\n"
     ]
    },
    {
     "name": "stdout",
     "output_type": "stream",
     "text": [
      "Invalid Range: could not broadcast input array from shape (2144,257) into shape (2144,258)\n",
      "Time for Getting  0  random elements:  0:00:00.004468\n",
      "Invalid Range: could not broadcast input array from shape (2111,257) into shape (2111,258)\n",
      "Time for Getting  0  random elements:  0:00:00.004313\n",
      "Invalid Range: could not broadcast input array from shape (2120,257) into shape (2120,258)\n",
      "Time for Getting  0  random elements:  0:00:00.004190\n",
      "Invalid Range: could not broadcast input array from shape (2125,257) into shape (2125,258)\n",
      "Time for Getting  0  random elements:  0:00:00.004369\n",
      "Invalid Range: could not broadcast input array from shape (2102,257) into shape (2102,258)\n",
      "Time for Getting  0  random elements:  0:00:00.004407\n"
     ]
    },
    {
     "name": "stderr",
     "output_type": "stream",
     "text": [
      "2018-10-16 23:58:29,424 - nn-real-hvd - INFO -    526     1 66965.4     0.1   0.002 0.10000\n",
      "2018-10-16 23:58:29,424 - nn-real-hvd - INFO -    526     1 66965.4     0.1   0.002 0.10000\n",
      "2018-10-16 23:58:29,471 - nn-real-hvd - INFO -    527     1 97812.9     0.0   0.002 0.10000\n",
      "2018-10-16 23:58:29,471 - nn-real-hvd - INFO -    527     1 97812.9     0.0   0.002 0.10000\n",
      "2018-10-16 23:58:29,518 - nn-real-hvd - INFO -    528     1 96434.6     0.0   0.002 0.10000\n",
      "2018-10-16 23:58:29,518 - nn-real-hvd - INFO -    528     1 96434.6     0.0   0.002 0.10000\n",
      "2018-10-16 23:58:29,568 - nn-real-hvd - INFO -    529     1 91675.0     0.0   0.002 0.10000\n",
      "2018-10-16 23:58:29,568 - nn-real-hvd - INFO -    529     1 91675.0     0.0   0.002 0.10000\n",
      "2018-10-16 23:58:29,619 - nn-real-hvd - INFO -    530     1 90432.8     0.0   0.002 0.10000\n",
      "2018-10-16 23:58:29,619 - nn-real-hvd - INFO -    530     1 90432.8     0.0   0.002 0.10000\n"
     ]
    },
    {
     "name": "stdout",
     "output_type": "stream",
     "text": [
      "Invalid Range: could not broadcast input array from shape (2185,257) into shape (2185,258)\n",
      "Time for Getting  0  random elements:  0:00:00.004080\n",
      "Invalid Range: could not broadcast input array from shape (2145,257) into shape (2145,258)\n",
      "Time for Getting  0  random elements:  0:00:00.004372\n",
      "Invalid Range: could not broadcast input array from shape (2117,257) into shape (2117,258)\n",
      "Time for Getting  0  random elements:  0:00:00.003896\n",
      "Invalid Range: could not broadcast input array from shape (2129,257) into shape (2129,258)\n",
      "Time for Getting  0  random elements:  0:00:00.004306\n",
      "Invalid Range: could not broadcast input array from shape (2115,257) into shape (2115,258)\n",
      "Time for Getting  0  random elements:  0:00:00.004120\n"
     ]
    },
    {
     "name": "stderr",
     "output_type": "stream",
     "text": [
      "2018-10-16 23:58:29,669 - nn-real-hvd - INFO -    531     1 91592.2     0.0   0.002 0.10000\n",
      "2018-10-16 23:58:29,669 - nn-real-hvd - INFO -    531     1 91592.2     0.0   0.002 0.10000\n",
      "2018-10-16 23:58:29,717 - nn-real-hvd - INFO -    532     1 96573.1     0.0   0.002 0.10000\n",
      "2018-10-16 23:58:29,717 - nn-real-hvd - INFO -    532     1 96573.1     0.0   0.002 0.10000\n",
      "2018-10-16 23:58:29,765 - nn-real-hvd - INFO -    533     1 94116.6     0.0   0.002 0.10000\n",
      "2018-10-16 23:58:29,765 - nn-real-hvd - INFO -    533     1 94116.6     0.0   0.002 0.10000\n",
      "2018-10-16 23:58:29,813 - nn-real-hvd - INFO -    534     1 96092.1     0.0   0.002 0.10000\n",
      "2018-10-16 23:58:29,813 - nn-real-hvd - INFO -    534     1 96092.1     0.0   0.002 0.10000\n",
      "2018-10-16 23:58:29,862 - nn-real-hvd - INFO -    535     1 92540.3     0.0   0.002 0.10000\n",
      "2018-10-16 23:58:29,862 - nn-real-hvd - INFO -    535     1 92540.3     0.0   0.002 0.10000\n"
     ]
    },
    {
     "name": "stdout",
     "output_type": "stream",
     "text": [
      "Invalid Range: could not broadcast input array from shape (2142,257) into shape (2142,258)\n",
      "Time for Getting  0  random elements:  0:00:00.004337\n",
      "Invalid Range: could not broadcast input array from shape (2116,257) into shape (2116,258)\n",
      "Time for Getting  0  random elements:  0:00:00.004401\n",
      "Invalid Range: could not broadcast input array from shape (2124,257) into shape (2124,258)\n",
      "Time for Getting  0  random elements:  0:00:00.004375\n",
      "Invalid Range: could not broadcast input array from shape (2111,257) into shape (2111,258)\n",
      "Time for Getting  0  random elements:  0:00:00.004154\n",
      "Invalid Range: could not broadcast input array from shape (2152,257) into shape (2152,258)\n",
      "Time for Getting  0  random elements:  0:00:00.004252\n"
     ]
    },
    {
     "name": "stderr",
     "output_type": "stream",
     "text": [
      "2018-10-16 23:58:29,914 - nn-real-hvd - INFO -    536     1 88815.2     0.0   0.002 0.10000\n",
      "2018-10-16 23:58:29,914 - nn-real-hvd - INFO -    536     1 88815.2     0.0   0.002 0.10000\n",
      "2018-10-16 23:58:29,963 - nn-real-hvd - INFO -    537     1 93048.3     0.0   0.002 0.10000\n",
      "2018-10-16 23:58:29,963 - nn-real-hvd - INFO -    537     1 93048.3     0.0   0.002 0.10000\n",
      "2018-10-16 23:58:30,011 - nn-real-hvd - INFO -    538     1 97119.8     0.0   0.002 0.10000\n",
      "2018-10-16 23:58:30,011 - nn-real-hvd - INFO -    538     1 97119.8     0.0   0.002 0.10000\n",
      "2018-10-16 23:58:30,059 - nn-real-hvd - INFO -    539     1 94289.2     0.0   0.002 0.10000\n",
      "2018-10-16 23:58:30,059 - nn-real-hvd - INFO -    539     1 94289.2     0.0   0.002 0.10000\n",
      "2018-10-16 23:58:30,107 - nn-real-hvd - INFO -    540     1 97075.6     0.0   0.002 0.10000\n",
      "2018-10-16 23:58:30,107 - nn-real-hvd - INFO -    540     1 97075.6     0.0   0.002 0.10000\n"
     ]
    },
    {
     "name": "stdout",
     "output_type": "stream",
     "text": [
      "Invalid Range: could not broadcast input array from shape (2162,257) into shape (2162,258)\n",
      "Time for Getting  0  random elements:  0:00:00.004265\n",
      "Invalid Range: could not broadcast input array from shape (2140,257) into shape (2140,258)\n",
      "Time for Getting  0  random elements:  0:00:00.004388\n",
      "Invalid Range: could not broadcast input array from shape (2164,257) into shape (2164,258)\n",
      "Time for Getting  0  random elements:  0:00:00.004591\n",
      "Invalid Range: could not broadcast input array from shape (2145,257) into shape (2145,258)\n",
      "Time for Getting  0  random elements:  0:00:00.004509\n",
      "Invalid Range: could not broadcast input array from shape (2130,257) into shape (2130,258)\n",
      "Time for Getting  0  random elements:  0:00:00.004215\n"
     ]
    },
    {
     "name": "stderr",
     "output_type": "stream",
     "text": [
      "2018-10-16 23:58:30,154 - nn-real-hvd - INFO -    541     1 97580.4     0.0   0.002 0.10000\n",
      "2018-10-16 23:58:30,154 - nn-real-hvd - INFO -    541     1 97580.4     0.0   0.002 0.10000\n",
      "2018-10-16 23:58:30,202 - nn-real-hvd - INFO -    542     1 96539.9     0.0   0.002 0.10000\n",
      "2018-10-16 23:58:30,202 - nn-real-hvd - INFO -    542     1 96539.9     0.0   0.002 0.10000\n",
      "2018-10-16 23:58:30,251 - nn-real-hvd - INFO -    543     1 92550.9     0.0   0.002 0.10000\n",
      "2018-10-16 23:58:30,251 - nn-real-hvd - INFO -    543     1 92550.9     0.0   0.002 0.10000\n",
      "2018-10-16 23:58:30,299 - nn-real-hvd - INFO -    544     1 96020.5     0.0   0.002 0.10000\n",
      "2018-10-16 23:58:30,299 - nn-real-hvd - INFO -    544     1 96020.5     0.0   0.002 0.10000\n",
      "2018-10-16 23:58:30,346 - nn-real-hvd - INFO -    545     1 97822.7     0.0   0.002 0.10000\n",
      "2018-10-16 23:58:30,346 - nn-real-hvd - INFO -    545     1 97822.7     0.0   0.002 0.10000\n"
     ]
    },
    {
     "name": "stdout",
     "output_type": "stream",
     "text": [
      "Invalid Range: could not broadcast input array from shape (2162,257) into shape (2162,258)\n",
      "Time for Getting  0  random elements:  0:00:00.004255\n",
      "Invalid Range: could not broadcast input array from shape (2170,257) into shape (2170,258)\n",
      "Time for Getting  0  random elements:  0:00:00.004779\n",
      "Invalid Range: could not broadcast input array from shape (2154,257) into shape (2154,258)\n",
      "Time for Getting  0  random elements:  0:00:00.004465\n",
      "Invalid Range: could not broadcast input array from shape (2105,257) into shape (2105,258)\n",
      "Time for Getting  0  random elements:  0:00:00.004099\n",
      "Invalid Range: could not broadcast input array from shape (2112,257) into shape (2112,258)\n",
      "Time for Getting  0  random elements:  0:00:00.004183\n"
     ]
    },
    {
     "name": "stderr",
     "output_type": "stream",
     "text": [
      "2018-10-16 23:58:30,395 - nn-real-hvd - INFO -    546     1 91803.4     0.0   0.002 0.10000\n",
      "2018-10-16 23:58:30,395 - nn-real-hvd - INFO -    546     1 91803.4     0.0   0.002 0.10000\n",
      "2018-10-16 23:58:30,443 - nn-real-hvd - INFO -    547     1 95297.7     0.0   0.002 0.10000\n",
      "2018-10-16 23:58:30,443 - nn-real-hvd - INFO -    547     1 95297.7     0.0   0.002 0.10000\n",
      "2018-10-16 23:58:30,492 - nn-real-hvd - INFO -    548     1 92458.7     0.0   0.002 0.10000\n",
      "2018-10-16 23:58:30,492 - nn-real-hvd - INFO -    548     1 92458.7     0.0   0.002 0.10000\n",
      "2018-10-16 23:58:30,539 - nn-real-hvd - INFO -    549     1 98339.9     0.0   0.002 0.10000\n",
      "2018-10-16 23:58:30,539 - nn-real-hvd - INFO -    549     1 98339.9     0.0   0.002 0.10000\n",
      "2018-10-16 23:58:30,588 - nn-real-hvd - INFO -    550     1 94867.6     0.0   0.002 0.10000\n",
      "2018-10-16 23:58:30,588 - nn-real-hvd - INFO -    550     1 94867.6     0.0   0.002 0.10000\n"
     ]
    },
    {
     "name": "stdout",
     "output_type": "stream",
     "text": [
      "Invalid Range: could not broadcast input array from shape (2088,257) into shape (2088,258)\n",
      "Time for Getting  0  random elements:  0:00:00.004073\n",
      "Invalid Range: could not broadcast input array from shape (2148,257) into shape (2148,258)\n",
      "Time for Getting  0  random elements:  0:00:00.004152\n",
      "Invalid Range: could not broadcast input array from shape (2173,257) into shape (2173,258)\n",
      "Time for Getting  0  random elements:  0:00:00.004288\n",
      "Invalid Range: could not broadcast input array from shape (2161,257) into shape (2161,258)\n",
      "Time for Getting  0  random elements:  0:00:00.004471\n",
      "Invalid Range: could not broadcast input array from shape (2115,257) into shape (2115,258)\n",
      "Time for Getting  0  random elements:  0:00:00.004034\n"
     ]
    },
    {
     "name": "stderr",
     "output_type": "stream",
     "text": [
      "2018-10-16 23:58:30,637 - nn-real-hvd - INFO -    551     1 92592.0     0.0   0.002 0.10000\n",
      "2018-10-16 23:58:30,637 - nn-real-hvd - INFO -    551     1 92592.0     0.0   0.002 0.10000\n",
      "2018-10-16 23:58:30,685 - nn-real-hvd - INFO -    552     1 94698.6     0.0   0.002 0.10000\n",
      "2018-10-16 23:58:30,685 - nn-real-hvd - INFO -    552     1 94698.6     0.0   0.002 0.10000\n",
      "2018-10-16 23:58:30,735 - nn-real-hvd - INFO -    553     1 90868.9     0.0   0.002 0.10000\n",
      "2018-10-16 23:58:30,735 - nn-real-hvd - INFO -    553     1 90868.9     0.0   0.002 0.10000\n",
      "2018-10-16 23:58:30,783 - nn-real-hvd - INFO -    554     1 97124.9     0.0   0.002 0.10000\n",
      "2018-10-16 23:58:30,783 - nn-real-hvd - INFO -    554     1 97124.9     0.0   0.002 0.10000\n",
      "2018-10-16 23:58:30,830 - nn-real-hvd - INFO -    555     1 97115.8     0.0   0.002 0.10000\n",
      "2018-10-16 23:58:30,830 - nn-real-hvd - INFO -    555     1 97115.8     0.0   0.002 0.10000\n"
     ]
    },
    {
     "name": "stdout",
     "output_type": "stream",
     "text": [
      "Invalid Range: could not broadcast input array from shape (2123,257) into shape (2123,258)\n",
      "Time for Getting  0  random elements:  0:00:00.003856\n",
      "Invalid Range: could not broadcast input array from shape (2177,257) into shape (2177,258)\n",
      "Time for Getting  0  random elements:  0:00:00.004261\n",
      "Invalid Range: could not broadcast input array from shape (2101,257) into shape (2101,258)\n",
      "Time for Getting  0  random elements:  0:00:00.003770\n",
      "Invalid Range: could not broadcast input array from shape (2164,257) into shape (2164,258)\n",
      "Time for Getting  0  random elements:  0:00:00.003749\n",
      "Invalid Range: could not broadcast input array from shape (2143,257) into shape (2143,258)\n",
      "Time for Getting  0  random elements:  0:00:00.004240\n"
     ]
    },
    {
     "name": "stderr",
     "output_type": "stream",
     "text": [
      "2018-10-16 23:58:30,881 - nn-real-hvd - INFO -    556     1 89844.4     0.0   0.002 0.10000\n",
      "2018-10-16 23:58:30,881 - nn-real-hvd - INFO -    556     1 89844.4     0.0   0.002 0.10000\n",
      "2018-10-16 23:58:30,930 - nn-real-hvd - INFO -    557     1 95912.8     0.0   0.002 0.10000\n",
      "2018-10-16 23:58:30,930 - nn-real-hvd - INFO -    557     1 95912.8     0.0   0.002 0.10000\n",
      "2018-10-16 23:58:30,976 - nn-real-hvd - INFO -    558     1 98902.8     0.0   0.002 0.10000\n",
      "2018-10-16 23:58:30,976 - nn-real-hvd - INFO -    558     1 98902.8     0.0   0.002 0.10000\n",
      "2018-10-16 23:58:31,025 - nn-real-hvd - INFO -    559     1 93767.1     0.0   0.002 0.10000\n",
      "2018-10-16 23:58:31,025 - nn-real-hvd - INFO -    559     1 93767.1     0.0   0.002 0.10000\n",
      "2018-10-16 23:58:31,073 - nn-real-hvd - INFO -    560     1 95550.3     0.0   0.002 0.10000\n",
      "2018-10-16 23:58:31,073 - nn-real-hvd - INFO -    560     1 95550.3     0.0   0.002 0.10000\n"
     ]
    },
    {
     "name": "stdout",
     "output_type": "stream",
     "text": [
      "Invalid Range: could not broadcast input array from shape (2102,257) into shape (2102,258)\n",
      "Time for Getting  0  random elements:  0:00:00.004360\n",
      "Invalid Range: could not broadcast input array from shape (2227,257) into shape (2227,258)\n",
      "Time for Getting  0  random elements:  0:00:00.004117\n",
      "Invalid Range: could not broadcast input array from shape (2132,257) into shape (2132,258)\n",
      "Time for Getting  0  random elements:  0:00:00.004423\n",
      "Invalid Range: could not broadcast input array from shape (2191,257) into shape (2191,258)\n",
      "Time for Getting  0  random elements:  0:00:00.004259\n",
      "Invalid Range: could not broadcast input array from shape (2203,257) into shape (2203,258)\n",
      "Time for Getting  0  random elements:  0:00:00.004572\n"
     ]
    },
    {
     "name": "stderr",
     "output_type": "stream",
     "text": [
      "2018-10-16 23:58:31,123 - nn-real-hvd - INFO -    561     1 92927.2     0.0   0.002 0.10000\n",
      "2018-10-16 23:58:31,123 - nn-real-hvd - INFO -    561     1 92927.2     0.0   0.002 0.10000\n",
      "2018-10-16 23:58:31,173 - nn-real-hvd - INFO -    562     1 91674.1     0.0   0.002 0.10000\n",
      "2018-10-16 23:58:31,173 - nn-real-hvd - INFO -    562     1 91674.1     0.0   0.002 0.10000\n",
      "2018-10-16 23:58:31,221 - nn-real-hvd - INFO -    563     1 94539.4     0.0   0.002 0.10000\n",
      "2018-10-16 23:58:31,221 - nn-real-hvd - INFO -    563     1 94539.4     0.0   0.002 0.10000\n",
      "2018-10-16 23:58:31,269 - nn-real-hvd - INFO -    564     1 97076.7     0.0   0.002 0.10000\n",
      "2018-10-16 23:58:31,269 - nn-real-hvd - INFO -    564     1 97076.7     0.0   0.002 0.10000\n",
      "2018-10-16 23:58:31,315 - nn-real-hvd - INFO -    565     1 97227.7     0.0   0.002 0.10000\n",
      "2018-10-16 23:58:31,315 - nn-real-hvd - INFO -    565     1 97227.7     0.0   0.002 0.10000\n"
     ]
    },
    {
     "name": "stdout",
     "output_type": "stream",
     "text": [
      "Invalid Range: could not broadcast input array from shape (2173,257) into shape (2173,258)\n",
      "Time for Getting  0  random elements:  0:00:00.004590\n",
      "Invalid Range: could not broadcast input array from shape (2150,257) into shape (2150,258)\n",
      "Time for Getting  0  random elements:  0:00:00.004636\n",
      "Invalid Range: could not broadcast input array from shape (2111,257) into shape (2111,258)\n",
      "Time for Getting  0  random elements:  0:00:00.004452\n",
      "Invalid Range: could not broadcast input array from shape (2131,257) into shape (2131,258)\n",
      "Time for Getting  0  random elements:  0:00:00.004289\n",
      "Invalid Range: could not broadcast input array from shape (2067,257) into shape (2067,258)\n",
      "Time for Getting  0  random elements:  0:00:00.003858\n"
     ]
    },
    {
     "name": "stderr",
     "output_type": "stream",
     "text": [
      "2018-10-16 23:58:31,374 - nn-real-hvd - INFO -    566     1 77658.3     0.1   0.002 0.10000\n",
      "2018-10-16 23:58:31,374 - nn-real-hvd - INFO -    566     1 77658.3     0.1   0.002 0.10000\n",
      "2018-10-16 23:58:31,422 - nn-real-hvd - INFO -    567     1 94946.2     0.0   0.002 0.10000\n",
      "2018-10-16 23:58:31,422 - nn-real-hvd - INFO -    567     1 94946.2     0.0   0.002 0.10000\n",
      "2018-10-16 23:58:31,468 - nn-real-hvd - INFO -    568     1 99863.8     0.0   0.002 0.10000\n",
      "2018-10-16 23:58:31,468 - nn-real-hvd - INFO -    568     1 99863.8     0.0   0.002 0.10000\n",
      "2018-10-16 23:58:31,517 - nn-real-hvd - INFO -    569     1 96044.8     0.0   0.002 0.10000\n",
      "2018-10-16 23:58:31,517 - nn-real-hvd - INFO -    569     1 96044.8     0.0   0.002 0.10000\n",
      "2018-10-16 23:58:31,565 - nn-real-hvd - INFO -    570     1 94656.1     0.0   0.002 0.10000\n",
      "2018-10-16 23:58:31,565 - nn-real-hvd - INFO -    570     1 94656.1     0.0   0.002 0.10000\n"
     ]
    },
    {
     "name": "stdout",
     "output_type": "stream",
     "text": [
      "Invalid Range: could not broadcast input array from shape (2141,257) into shape (2141,258)\n",
      "Time for Getting  0  random elements:  0:00:00.004367\n",
      "Invalid Range: could not broadcast input array from shape (2131,257) into shape (2131,258)\n",
      "Time for Getting  0  random elements:  0:00:00.004083\n",
      "Invalid Range: could not broadcast input array from shape (2108,257) into shape (2108,258)\n",
      "Time for Getting  0  random elements:  0:00:00.004290\n",
      "Invalid Range: could not broadcast input array from shape (2136,257) into shape (2136,258)\n",
      "Time for Getting  0  random elements:  0:00:00.004972\n",
      "Invalid Range: could not broadcast input array from shape (2118,257) into shape (2118,258)\n",
      "Time for Getting  0  random elements:  0:00:00.003909\n"
     ]
    },
    {
     "name": "stderr",
     "output_type": "stream",
     "text": [
      "2018-10-16 23:58:31,612 - nn-real-hvd - INFO -    571     1 97182.4     0.0   0.002 0.10000\n",
      "2018-10-16 23:58:31,612 - nn-real-hvd - INFO -    571     1 97182.4     0.0   0.002 0.10000\n",
      "2018-10-16 23:58:31,661 - nn-real-hvd - INFO -    572     1 95560.7     0.0   0.002 0.10000\n",
      "2018-10-16 23:58:31,661 - nn-real-hvd - INFO -    572     1 95560.7     0.0   0.002 0.10000\n",
      "2018-10-16 23:58:31,710 - nn-real-hvd - INFO -    573     1 92830.1     0.0   0.002 0.10000\n",
      "2018-10-16 23:58:31,710 - nn-real-hvd - INFO -    573     1 92830.1     0.0   0.002 0.10000\n",
      "2018-10-16 23:58:31,759 - nn-real-hvd - INFO -    574     1 94141.0     0.0   0.002 0.10000\n",
      "2018-10-16 23:58:31,759 - nn-real-hvd - INFO -    574     1 94141.0     0.0   0.002 0.10000\n",
      "2018-10-16 23:58:31,806 - nn-real-hvd - INFO -    575     1 96291.5     0.0   0.002 0.10000\n",
      "2018-10-16 23:58:31,806 - nn-real-hvd - INFO -    575     1 96291.5     0.0   0.002 0.10000\n"
     ]
    },
    {
     "name": "stdout",
     "output_type": "stream",
     "text": [
      "Invalid Range: could not broadcast input array from shape (2154,257) into shape (2154,258)\n",
      "Time for Getting  0  random elements:  0:00:00.004026\n",
      "Invalid Range: could not broadcast input array from shape (2104,257) into shape (2104,258)\n",
      "Time for Getting  0  random elements:  0:00:00.004266\n",
      "Invalid Range: could not broadcast input array from shape (2104,257) into shape (2104,258)\n",
      "Time for Getting  0  random elements:  0:00:00.004151\n",
      "Invalid Range: could not broadcast input array from shape (2132,257) into shape (2132,258)\n",
      "Time for Getting  0  random elements:  0:00:00.004171\n",
      "Invalid Range: could not broadcast input array from shape (2128,257) into shape (2128,258)\n",
      "Time for Getting  0  random elements:  0:00:00.004254\n"
     ]
    },
    {
     "name": "stderr",
     "output_type": "stream",
     "text": [
      "2018-10-16 23:58:31,854 - nn-real-hvd - INFO -    576     1 94965.6     0.0   0.002 0.10000\n",
      "2018-10-16 23:58:31,854 - nn-real-hvd - INFO -    576     1 94965.6     0.0   0.002 0.10000\n",
      "2018-10-16 23:58:31,902 - nn-real-hvd - INFO -    577     1 96068.7     0.0   0.002 0.10000\n",
      "2018-10-16 23:58:31,902 - nn-real-hvd - INFO -    577     1 96068.7     0.0   0.002 0.10000\n",
      "2018-10-16 23:58:31,951 - nn-real-hvd - INFO -    578     1 95366.2     0.0   0.002 0.10000\n",
      "2018-10-16 23:58:31,951 - nn-real-hvd - INFO -    578     1 95366.2     0.0   0.002 0.10000\n",
      "2018-10-16 23:58:32,001 - nn-real-hvd - INFO -    579     1 92420.1     0.0   0.002 0.10000\n",
      "2018-10-16 23:58:32,001 - nn-real-hvd - INFO -    579     1 92420.1     0.0   0.002 0.10000\n"
     ]
    },
    {
     "name": "stdout",
     "output_type": "stream",
     "text": [
      "Invalid Range: could not broadcast input array from shape (2121,257) into shape (2121,258)\n",
      "Time for Getting  0  random elements:  0:00:00.003994\n",
      "Invalid Range: could not broadcast input array from shape (2078,257) into shape (2078,258)\n",
      "Time for Getting  0  random elements:  0:00:00.004138\n",
      "Invalid Range: could not broadcast input array from shape (2142,257) into shape (2142,258)\n",
      "Time for Getting  0  random elements:  0:00:00.004408\n",
      "Invalid Range: could not broadcast input array from shape (2117,257) into shape (2117,258)\n",
      "Time for Getting  0  random elements:  0:00:00.004789\n"
     ]
    },
    {
     "name": "stderr",
     "output_type": "stream",
     "text": [
      "2018-10-16 23:58:32,083 - nn-real-hvd - INFO -    580     1 54973.4     0.1   0.002 0.10000\n",
      "2018-10-16 23:58:32,083 - nn-real-hvd - INFO -    580     1 54973.4     0.1   0.002 0.10000\n",
      "2018-10-16 23:58:32,132 - nn-real-hvd - INFO -    581     1 92617.0     0.0   0.002 0.10000\n",
      "2018-10-16 23:58:32,132 - nn-real-hvd - INFO -    581     1 92617.0     0.0   0.002 0.10000\n",
      "2018-10-16 23:58:32,181 - nn-real-hvd - INFO -    582     1 95066.8     0.0   0.002 0.10000\n",
      "2018-10-16 23:58:32,181 - nn-real-hvd - INFO -    582     1 95066.8     0.0   0.002 0.10000\n",
      "2018-10-16 23:58:32,229 - nn-real-hvd - INFO -    583     1 95632.1     0.0   0.002 0.10000\n",
      "2018-10-16 23:58:32,229 - nn-real-hvd - INFO -    583     1 95632.1     0.0   0.002 0.10000\n",
      "2018-10-16 23:58:32,278 - nn-real-hvd - INFO -    584     1 93100.2     0.0   0.002 0.10000\n",
      "2018-10-16 23:58:32,278 - nn-real-hvd - INFO -    584     1 93100.2     0.0   0.002 0.10000\n"
     ]
    },
    {
     "name": "stdout",
     "output_type": "stream",
     "text": [
      "Invalid Range: could not broadcast input array from shape (2242,257) into shape (2242,258)\n",
      "Time for Getting  0  random elements:  0:00:00.004611\n",
      "Invalid Range: could not broadcast input array from shape (2147,257) into shape (2147,258)\n",
      "Time for Getting  0  random elements:  0:00:00.004559\n",
      "Invalid Range: could not broadcast input array from shape (2132,257) into shape (2132,258)\n",
      "Time for Getting  0  random elements:  0:00:00.004668\n",
      "Invalid Range: could not broadcast input array from shape (2115,257) into shape (2115,258)\n",
      "Time for Getting  0  random elements:  0:00:00.004203\n",
      "Invalid Range: could not broadcast input array from shape (2213,257) into shape (2213,258)\n",
      "Time for Getting  0  random elements:  0:00:00.004091\n"
     ]
    },
    {
     "name": "stderr",
     "output_type": "stream",
     "text": [
      "2018-10-16 23:58:32,330 - nn-real-hvd - INFO -    585     1 88436.0     0.1   0.002 0.10000\n",
      "2018-10-16 23:58:32,330 - nn-real-hvd - INFO -    585     1 88436.0     0.1   0.002 0.10000\n",
      "2018-10-16 23:58:32,377 - nn-real-hvd - INFO -    586     1 97322.5     0.0   0.002 0.10000\n",
      "2018-10-16 23:58:32,377 - nn-real-hvd - INFO -    586     1 97322.5     0.0   0.002 0.10000\n",
      "2018-10-16 23:58:32,425 - nn-real-hvd - INFO -    587     1 95665.6     0.0   0.002 0.10000\n",
      "2018-10-16 23:58:32,425 - nn-real-hvd - INFO -    587     1 95665.6     0.0   0.002 0.10000\n",
      "2018-10-16 23:58:32,474 - nn-real-hvd - INFO -    588     1 92342.8     0.0   0.002 0.10000\n",
      "2018-10-16 23:58:32,474 - nn-real-hvd - INFO -    588     1 92342.8     0.0   0.002 0.10000\n",
      "2018-10-16 23:58:32,522 - nn-real-hvd - INFO -    589     1 96271.5     0.0   0.002 0.10000\n",
      "2018-10-16 23:58:32,522 - nn-real-hvd - INFO -    589     1 96271.5     0.0   0.002 0.10000\n"
     ]
    },
    {
     "name": "stdout",
     "output_type": "stream",
     "text": [
      "Invalid Range: could not broadcast input array from shape (2120,257) into shape (2120,258)\n",
      "Time for Getting  0  random elements:  0:00:00.004224\n",
      "Invalid Range: could not broadcast input array from shape (2115,257) into shape (2115,258)\n",
      "Time for Getting  0  random elements:  0:00:00.004476\n",
      "Invalid Range: could not broadcast input array from shape (2099,257) into shape (2099,258)\n",
      "Time for Getting  0  random elements:  0:00:00.004232\n",
      "Invalid Range: could not broadcast input array from shape (2076,257) into shape (2076,258)\n",
      "Time for Getting  0  random elements:  0:00:00.004256\n",
      "Invalid Range: could not broadcast input array from shape (2119,257) into shape (2119,258)\n",
      "Time for Getting  0  random elements:  0:00:00.004063\n"
     ]
    },
    {
     "name": "stderr",
     "output_type": "stream",
     "text": [
      "2018-10-16 23:58:32,572 - nn-real-hvd - INFO -    590     1 90673.6     0.0   0.002 0.10000\n",
      "2018-10-16 23:58:32,572 - nn-real-hvd - INFO -    590     1 90673.6     0.0   0.002 0.10000\n",
      "2018-10-16 23:58:32,623 - nn-real-hvd - INFO -    591     1 93010.6     0.0   0.002 0.10000\n",
      "2018-10-16 23:58:32,623 - nn-real-hvd - INFO -    591     1 93010.6     0.0   0.002 0.10000\n",
      "2018-10-16 23:58:32,671 - nn-real-hvd - INFO -    592     1 94356.3     0.0   0.002 0.10000\n",
      "2018-10-16 23:58:32,671 - nn-real-hvd - INFO -    592     1 94356.3     0.0   0.002 0.10000\n",
      "2018-10-16 23:58:32,719 - nn-real-hvd - INFO -    593     1 95358.9     0.0   0.002 0.10000\n",
      "2018-10-16 23:58:32,719 - nn-real-hvd - INFO -    593     1 95358.9     0.0   0.002 0.10000\n",
      "2018-10-16 23:58:32,764 - nn-real-hvd - INFO -    594     1 100181.9     0.0   0.002 0.10000\n",
      "2018-10-16 23:58:32,764 - nn-real-hvd - INFO -    594     1 100181.9     0.0   0.002 0.10000\n"
     ]
    },
    {
     "name": "stdout",
     "output_type": "stream",
     "text": [
      "Invalid Range: could not broadcast input array from shape (2116,257) into shape (2116,258)\n",
      "Time for Getting  0  random elements:  0:00:00.004141\n",
      "Invalid Range: could not broadcast input array from shape (2160,257) into shape (2160,258)\n",
      "Time for Getting  0  random elements:  0:00:00.004096\n",
      "Invalid Range: could not broadcast input array from shape (2126,257) into shape (2126,258)\n",
      "Time for Getting  0  random elements:  0:00:00.004163\n",
      "Invalid Range: could not broadcast input array from shape (2108,257) into shape (2108,258)\n",
      "Time for Getting  0  random elements:  0:00:00.003932\n",
      "Invalid Range: could not broadcast input array from shape (2132,257) into shape (2132,258)\n",
      "Time for Getting  0  random elements:  0:00:00.003738\n"
     ]
    },
    {
     "name": "stderr",
     "output_type": "stream",
     "text": [
      "2018-10-16 23:58:32,813 - nn-real-hvd - INFO -    595     1 93312.7     0.0   0.002 0.10000\n",
      "2018-10-16 23:58:32,813 - nn-real-hvd - INFO -    595     1 93312.7     0.0   0.002 0.10000\n",
      "2018-10-16 23:58:32,862 - nn-real-hvd - INFO -    596     1 92781.3     0.0   0.002 0.10000\n",
      "2018-10-16 23:58:32,862 - nn-real-hvd - INFO -    596     1 92781.3     0.0   0.002 0.10000\n",
      "2018-10-16 23:58:32,911 - nn-real-hvd - INFO -    597     1 93658.3     0.0   0.002 0.10000\n",
      "2018-10-16 23:58:32,911 - nn-real-hvd - INFO -    597     1 93658.3     0.0   0.002 0.10000\n",
      "2018-10-16 23:58:32,959 - nn-real-hvd - INFO -    598     1 93797.9     0.0   0.002 0.10000\n",
      "2018-10-16 23:58:32,959 - nn-real-hvd - INFO -    598     1 93797.9     0.0   0.002 0.10000\n",
      "2018-10-16 23:58:33,010 - nn-real-hvd - INFO -    599     1 89990.4     0.0   0.002 0.10000\n",
      "2018-10-16 23:58:33,010 - nn-real-hvd - INFO -    599     1 89990.4     0.0   0.002 0.10000\n"
     ]
    },
    {
     "name": "stdout",
     "output_type": "stream",
     "text": [
      "Invalid Range: could not broadcast input array from shape (2143,257) into shape (2143,258)\n",
      "Time for Getting  0  random elements:  0:00:00.003837\n",
      "Invalid Range: could not broadcast input array from shape (2163,257) into shape (2163,258)\n",
      "Time for Getting  0  random elements:  0:00:00.004633\n",
      "Invalid Range: could not broadcast input array from shape (2149,257) into shape (2149,258)\n",
      "Time for Getting  0  random elements:  0:00:00.004151\n",
      "Invalid Range: could not broadcast input array from shape (2147,257) into shape (2147,258)\n",
      "Time for Getting  0  random elements:  0:00:00.004040\n",
      "Invalid Range: could not broadcast input array from shape (2165,257) into shape (2165,258)\n",
      "Time for Getting  0"
     ]
    },
    {
     "name": "stderr",
     "output_type": "stream",
     "text": [
      "2018-10-16 23:58:33,061 - nn-real-hvd - INFO -    600     1 89957.2     0.0   0.002 0.10000\n",
      "2018-10-16 23:58:33,061 - nn-real-hvd - INFO -    600     1 89957.2     0.0   0.002 0.10000\n",
      "2018-10-16 23:58:33,110 - nn-real-hvd - INFO -    601     1 94837.0     0.0   0.002 0.10000\n",
      "2018-10-16 23:58:33,110 - nn-real-hvd - INFO -    601     1 94837.0     0.0   0.002 0.10000\n",
      "2018-10-16 23:58:33,159 - nn-real-hvd - INFO -    602     1 91613.0     0.0   0.002 0.10000\n",
      "2018-10-16 23:58:33,159 - nn-real-hvd - INFO -    602     1 91613.0     0.0   0.002 0.10000\n",
      "2018-10-16 23:58:33,209 - nn-real-hvd - INFO -    603     1 92043.8     0.0   0.002 0.10000\n",
      "2018-10-16 23:58:33,209 - nn-real-hvd - INFO -    603     1 92043.8     0.0   0.002 0.10000\n"
     ]
    },
    {
     "name": "stdout",
     "output_type": "stream",
     "text": [
      "  random elements:  0:00:00.003915\n",
      "Invalid Range: could not broadcast input array from shape (2061,257) into shape (2061,258)\n",
      "Time for Getting  0  random elements:  0:00:00.004079\n",
      "Invalid Range: could not broadcast input array from shape (2186,257) into shape (2186,258)\n",
      "Time for Getting  0  random elements:  0:00:00.004351\n",
      "Invalid Range: could not broadcast input array from shape (2112,257) into shape (2112,258)\n",
      "Time for Getting  0  random elements:  0:00:00.004344\n",
      "Invalid Range: could not broadcast input array from shape (2183,257) into shape (2183,258)\n",
      "Time for Getting  0  random elements:  0:00:00.004164\n"
     ]
    },
    {
     "name": "stderr",
     "output_type": "stream",
     "text": [
      "2018-10-16 23:58:33,257 - nn-real-hvd - INFO -    604     1 96258.0     0.0   0.002 0.10000\n",
      "2018-10-16 23:58:33,257 - nn-real-hvd - INFO -    604     1 96258.0     0.0   0.002 0.10000\n",
      "2018-10-16 23:58:33,304 - nn-real-hvd - INFO -    605     1 97796.4     0.0   0.002 0.10000\n",
      "2018-10-16 23:58:33,304 - nn-real-hvd - INFO -    605     1 97796.4     0.0   0.002 0.10000\n",
      "2018-10-16 23:58:33,353 - nn-real-hvd - INFO -    606     1 94119.9     0.0   0.002 0.10000\n",
      "2018-10-16 23:58:33,353 - nn-real-hvd - INFO -    606     1 94119.9     0.0   0.002 0.10000\n",
      "2018-10-16 23:58:33,401 - nn-real-hvd - INFO -    607     1 94056.5     0.0   0.002 0.10000\n",
      "2018-10-16 23:58:33,401 - nn-real-hvd - INFO -    607     1 94056.5     0.0   0.002 0.10000\n",
      "2018-10-16 23:58:33,450 - nn-real-hvd - INFO -    608     1 94683.2     0.0   0.002 0.10000\n",
      "2018-10-16 23:58:33,450 - nn-real-hvd - INFO -    608     1 94683.2     0.0   0.002 0.10000\n"
     ]
    },
    {
     "name": "stdout",
     "output_type": "stream",
     "text": [
      "Invalid Range: could not broadcast input array from shape (2115,257) into shape (2115,258)\n",
      "Time for Getting  0  random elements:  0:00:00.004027\n",
      "Invalid Range: could not broadcast input array from shape (2192,257) into shape (2192,258)\n",
      "Time for Getting  0  random elements:  0:00:00.003939\n",
      "Invalid Range: could not broadcast input array from shape (2128,257) into shape (2128,258)\n",
      "Time for Getting  0  random elements:  0:00:00.004479\n",
      "Invalid Range: could not broadcast input array from shape (2154,257) into shape (2154,258)\n",
      "Time for Getting  0  random elements:  0:00:00.004237\n",
      "Invalid Range: could not broadcast input array from shape (2145,257) into shape (2145,258)\n",
      "Time for Getting  0  random elements:  0:00:00.004605\n"
     ]
    },
    {
     "name": "stderr",
     "output_type": "stream",
     "text": [
      "2018-10-16 23:58:33,498 - nn-real-hvd - INFO -    609     1 93644.6     0.0   0.002 0.10000\n",
      "2018-10-16 23:58:33,498 - nn-real-hvd - INFO -    609     1 93644.6     0.0   0.002 0.10000\n",
      "2018-10-16 23:58:33,544 - nn-real-hvd - INFO -    610     1 100139.7     0.0   0.002 0.10000\n",
      "2018-10-16 23:58:33,544 - nn-real-hvd - INFO -    610     1 100139.7     0.0   0.002 0.10000\n",
      "2018-10-16 23:58:33,593 - nn-real-hvd - INFO -    611     1 93798.4     0.0   0.002 0.10000\n",
      "2018-10-16 23:58:33,593 - nn-real-hvd - INFO -    611     1 93798.4     0.0   0.002 0.10000\n",
      "2018-10-16 23:58:33,642 - nn-real-hvd - INFO -    612     1 92086.2     0.0   0.002 0.10000\n",
      "2018-10-16 23:58:33,642 - nn-real-hvd - INFO -    612     1 92086.2     0.0   0.002 0.10000\n",
      "2018-10-16 23:58:33,691 - nn-real-hvd - INFO -    613     1 93388.7     0.0   0.002 0.10000\n",
      "2018-10-16 23:58:33,691 - nn-real-hvd - INFO -    613     1 93388.7     0.0   0.002 0.10000\n"
     ]
    },
    {
     "name": "stdout",
     "output_type": "stream",
     "text": [
      "Invalid Range: could not broadcast input array from shape (2060,257) into shape (2060,258)\n",
      "Time for Getting  0  random elements:  0:00:00.004248\n",
      "Invalid Range: could not broadcast input array from shape (2172,257) into shape (2172,258)\n",
      "Time for Getting  0  random elements:  0:00:00.004400\n",
      "Invalid Range: could not broadcast input array from shape (2164,257) into shape (2164,258)\n",
      "Time for Getting  0  random elements:  0:00:00.004355\n",
      "Invalid Range: could not broadcast input array from shape (2148,257) into shape (2148,258)\n",
      "Time for Getting  0  random elements:  0:00:00.004135\n",
      "Invalid Range: could not broadcast input array from shape (2147,257) into shape (2147,258)\n",
      "Time for Getting  0  random elements:  0:00:00.004471\n"
     ]
    },
    {
     "name": "stderr",
     "output_type": "stream",
     "text": [
      "2018-10-16 23:58:33,739 - nn-real-hvd - INFO -    614     1 95181.9     0.0   0.002 0.10000\n",
      "2018-10-16 23:58:33,739 - nn-real-hvd - INFO -    614     1 95181.9     0.0   0.002 0.10000\n",
      "2018-10-16 23:58:33,786 - nn-real-hvd - INFO -    615     1 98844.8     0.0   0.002 0.10000\n",
      "2018-10-16 23:58:33,786 - nn-real-hvd - INFO -    615     1 98844.8     0.0   0.002 0.10000\n",
      "2018-10-16 23:58:33,833 - nn-real-hvd - INFO -    616     1 95875.6     0.0   0.002 0.10000\n",
      "2018-10-16 23:58:33,833 - nn-real-hvd - INFO -    616     1 95875.6     0.0   0.002 0.10000\n",
      "2018-10-16 23:58:33,882 - nn-real-hvd - INFO -    617     1 94877.3     0.0   0.002 0.10000\n",
      "2018-10-16 23:58:33,882 - nn-real-hvd - INFO -    617     1 94877.3     0.0   0.002 0.10000\n",
      "2018-10-16 23:58:33,929 - nn-real-hvd - INFO -    618     1 96497.2     0.0   0.002 0.10000\n",
      "2018-10-16 23:58:33,929 - nn-real-hvd - INFO -    618     1 96497.2     0.0   0.002 0.10000\n"
     ]
    },
    {
     "name": "stdout",
     "output_type": "stream",
     "text": [
      "Invalid Range: could not broadcast input array from shape (2158,257) into shape (2158,258)\n",
      "Time for Getting  0  random elements:  0:00:00.004366\n",
      "Invalid Range: could not broadcast input array from shape (2124,257) into shape (2124,258)\n",
      "Time for Getting  0  random elements:  0:00:00.004401\n",
      "Invalid Range: could not broadcast input array from shape (2189,257) into shape (2189,258)\n",
      "Time for Getting  0  random elements:  0:00:00.003824\n",
      "Invalid Range: could not broadcast input array from shape (2102,257) into shape (2102,258)\n",
      "Time for Getting  0  random elements:  0:00:00.004194\n",
      "Invalid Range: could not broadcast input array from shape (2179,257) into shape (2179,258)\n",
      "Time for Getting  0  random elements:  0:00:00.004615\n"
     ]
    },
    {
     "name": "stderr",
     "output_type": "stream",
     "text": [
      "2018-10-16 23:58:33,980 - nn-real-hvd - INFO -    619     1 91014.6     0.0   0.002 0.10000\n",
      "2018-10-16 23:58:33,980 - nn-real-hvd - INFO -    619     1 91014.6     0.0   0.002 0.10000\n",
      "2018-10-16 23:58:34,032 - nn-real-hvd - INFO -    620     1 87688.9     0.1   0.002 0.10000\n",
      "2018-10-16 23:58:34,032 - nn-real-hvd - INFO -    620     1 87688.9     0.1   0.002 0.10000\n",
      "2018-10-16 23:58:34,085 - nn-real-hvd - INFO -    621     1 85412.1     0.1   0.002 0.10000\n",
      "2018-10-16 23:58:34,085 - nn-real-hvd - INFO -    621     1 85412.1     0.1   0.002 0.10000\n",
      "2018-10-16 23:58:34,134 - nn-real-hvd - INFO -    622     1 93747.2     0.0   0.002 0.10000\n",
      "2018-10-16 23:58:34,134 - nn-real-hvd - INFO -    622     1 93747.2     0.0   0.002 0.10000\n",
      "2018-10-16 23:58:34,183 - nn-real-hvd - INFO -    623     1 93469.1     0.0   0.002 0.10000\n",
      "2018-10-16 23:58:34,183 - nn-real-hvd - INFO -    623     1 93469.1     0.0   0.002 0.10000\n"
     ]
    },
    {
     "name": "stdout",
     "output_type": "stream",
     "text": [
      "Invalid Range: could not broadcast input array from shape (2109,257) into shape (2109,258)\n",
      "Time for Getting  0  random elements:  0:00:00.004298\n",
      "Invalid Range: could not broadcast input array from shape (2125,257) into shape (2125,258)\n",
      "Time for Getting  0  random elements:  0:00:00.004619\n",
      "Invalid Range: could not broadcast input array from shape (2158,257) into shape (2158,258)\n",
      "Time for Getting  0  random elements:  0:00:00.004257\n",
      "Invalid Range: could not broadcast input array from shape (2194,257) into shape (2194,258)\n",
      "Time for Getting  0  random elements:  0:00:00.004104\n"
     ]
    },
    {
     "name": "stderr",
     "output_type": "stream",
     "text": [
      "2018-10-16 23:58:34,232 - nn-real-hvd - INFO -    624     1 93561.0     0.0   0.002 0.10000\n",
      "2018-10-16 23:58:34,232 - nn-real-hvd - INFO -    624     1 93561.0     0.0   0.002 0.10000\n",
      "2018-10-16 23:58:34,282 - nn-real-hvd - INFO -    625     1 90933.9     0.0   0.002 0.10000\n",
      "2018-10-16 23:58:34,282 - nn-real-hvd - INFO -    625     1 90933.9     0.0   0.002 0.10000\n",
      "2018-10-16 23:58:34,330 - nn-real-hvd - INFO -    626     1 95828.1     0.0   0.002 0.10000\n",
      "2018-10-16 23:58:34,330 - nn-real-hvd - INFO -    626     1 95828.1     0.0   0.002 0.10000\n",
      "2018-10-16 23:58:34,378 - nn-real-hvd - INFO -    627     1 94523.1     0.0   0.002 0.10000\n",
      "2018-10-16 23:58:34,378 - nn-real-hvd - INFO -    627     1 94523.1     0.0   0.002 0.10000\n"
     ]
    },
    {
     "name": "stdout",
     "output_type": "stream",
     "text": [
      "Invalid Range: could not broadcast input array from shape (2107,257) into shape (2107,258)\n",
      "Time for Getting  0  random elements:  0:00:00.004884\n",
      "Invalid Range: could not broadcast input array from shape (2087,257) into shape (2087,258)\n",
      "Time for Getting  0  random elements:  0:00:00.004181\n",
      "Invalid Range: could not broadcast input array from shape (2172,257) into shape (2172,258)\n",
      "Time for Getting  0  random elements:  0:00:00.004422\n",
      "Invalid Range: could not broadcast input array from shape (2128,257) into shape (2128,258)\n",
      "Time for Getting  0  random elements:  0:00:00.004197\n",
      "Invalid Range: could not broadcast input array from shape (2105,257) into shape (2105,258)\n",
      "Time for Getting  0  random elements:  0:00:00.004364\n"
     ]
    },
    {
     "name": "stderr",
     "output_type": "stream",
     "text": [
      "2018-10-16 23:58:34,427 - nn-real-hvd - INFO -    628     1 94188.7     0.0   0.002 0.10000\n",
      "2018-10-16 23:58:34,427 - nn-real-hvd - INFO -    628     1 94188.7     0.0   0.002 0.10000\n",
      "2018-10-16 23:58:34,475 - nn-real-hvd - INFO -    629     1 94988.0     0.0   0.002 0.10000\n",
      "2018-10-16 23:58:34,475 - nn-real-hvd - INFO -    629     1 94988.0     0.0   0.002 0.10000\n",
      "2018-10-16 23:58:34,524 - nn-real-hvd - INFO -    630     1 93346.9     0.0   0.002 0.10000\n",
      "2018-10-16 23:58:34,524 - nn-real-hvd - INFO -    630     1 93346.9     0.0   0.002 0.10000\n",
      "2018-10-16 23:58:34,571 - nn-real-hvd - INFO -    631     1 97408.8     0.0   0.002 0.10000\n",
      "2018-10-16 23:58:34,571 - nn-real-hvd - INFO -    631     1 97408.8     0.0   0.002 0.10000\n",
      "2018-10-16 23:58:34,618 - nn-real-hvd - INFO -    632     1 96614.8     0.0   0.002 0.10000\n",
      "2018-10-16 23:58:34,618 - nn-real-hvd - INFO -    632     1 96614.8     0.0   0.002 0.10000\n"
     ]
    },
    {
     "name": "stdout",
     "output_type": "stream",
     "text": [
      "Invalid Range: could not broadcast input array from shape (2192,257) into shape (2192,258)\n",
      "Time for Getting  0  random elements:  0:00:00.003981\n",
      "Invalid Range: could not broadcast input array from shape (2107,257) into shape (2107,258)\n",
      "Time for Getting  0  random elements:  0:00:00.004120\n",
      "Invalid Range: could not broadcast input array from shape (2145,257) into shape (2145,258)\n",
      "Time for Getting  0  random elements:  0:00:00.003893\n",
      "Invalid Range: could not broadcast input array from shape (2124,257) into shape (2124,258)\n",
      "Time for Getting  0  random elements:  0:00:00.004106\n",
      "Invalid Range: could not broadcast input array from shape (2151,257) into shape (2151,258)\n",
      "Time for Getting  0  random elements:  0:00:00.003966\n"
     ]
    },
    {
     "name": "stderr",
     "output_type": "stream",
     "text": [
      "2018-10-16 23:58:34,664 - nn-real-hvd - INFO -    633     1 99057.4     0.0   0.002 0.10000\n",
      "2018-10-16 23:58:34,664 - nn-real-hvd - INFO -    633     1 99057.4     0.0   0.002 0.10000\n",
      "2018-10-16 23:58:34,714 - nn-real-hvd - INFO -    634     1 91183.2     0.0   0.002 0.10000\n",
      "2018-10-16 23:58:34,714 - nn-real-hvd - INFO -    634     1 91183.2     0.0   0.002 0.10000\n",
      "2018-10-16 23:58:34,762 - nn-real-hvd - INFO -    635     1 93714.6     0.0   0.002 0.10000\n",
      "2018-10-16 23:58:34,762 - nn-real-hvd - INFO -    635     1 93714.6     0.0   0.002 0.10000\n",
      "2018-10-16 23:58:34,809 - nn-real-hvd - INFO -    636     1 97490.7     0.0   0.002 0.10000\n",
      "2018-10-16 23:58:34,809 - nn-real-hvd - INFO -    636     1 97490.7     0.0   0.002 0.10000\n",
      "2018-10-16 23:58:34,857 - nn-real-hvd - INFO -    637     1 95539.0     0.0   0.002 0.10000\n",
      "2018-10-16 23:58:34,857 - nn-real-hvd - INFO -    637     1 95539.0     0.0   0.002 0.10000\n"
     ]
    },
    {
     "name": "stdout",
     "output_type": "stream",
     "text": [
      "Invalid Range: could not broadcast input array from shape (2058,257) into shape (2058,258)\n",
      "Time for Getting  0  random elements:  0:00:00.003900\n",
      "Invalid Range: could not broadcast input array from shape (2127,257) into shape (2127,258)\n",
      "Time for Getting  0  random elements:  0:00:00.004311\n",
      "Invalid Range: could not broadcast input array from shape (2130,257) into shape (2130,258)\n",
      "Time for Getting  0  random elements:  0:00:00.003765\n",
      "Invalid Range: could not broadcast input array from shape (2144,257) into shape (2144,258)\n",
      "Time for Getting  0  random elements:  0:00:00.003718\n",
      "Invalid Range: could not broadcast input array from shape (2158,257) into shape (2158,258)\n",
      "Time for Getting  0  random elements:  0:00:00.004234\n"
     ]
    },
    {
     "name": "stderr",
     "output_type": "stream",
     "text": [
      "2018-10-16 23:58:34,904 - nn-real-hvd - INFO -    638     1 98025.7     0.0   0.002 0.10000\n",
      "2018-10-16 23:58:34,904 - nn-real-hvd - INFO -    638     1 98025.7     0.0   0.002 0.10000\n",
      "2018-10-16 23:58:34,950 - nn-real-hvd - INFO -    639     1 99291.1     0.0   0.002 0.10000\n",
      "2018-10-16 23:58:34,950 - nn-real-hvd - INFO -    639     1 99291.1     0.0   0.002 0.10000\n",
      "2018-10-16 23:58:35,000 - nn-real-hvd - INFO -    640     1 92882.1     0.0   0.002 0.10000\n",
      "2018-10-16 23:58:35,000 - nn-real-hvd - INFO -    640     1 92882.1     0.0   0.002 0.10000\n",
      "2018-10-16 23:58:35,048 - nn-real-hvd - INFO -    641     1 94300.2     0.0   0.002 0.10000\n",
      "2018-10-16 23:58:35,048 - nn-real-hvd - INFO -    641     1 94300.2     0.0   0.002 0.10000\n",
      "2018-10-16 23:58:35,097 - nn-real-hvd - INFO -    642     1 93677.2     0.0   0.002 0.10000\n",
      "2018-10-16 23:58:35,097 - nn-real-hvd - INFO -    642     1 93677.2     0.0   0.002 0.10000\n"
     ]
    },
    {
     "name": "stdout",
     "output_type": "stream",
     "text": [
      "Invalid Range: could not broadcast input array from shape (2132,257) into shape (2132,258)\n",
      "Time for Getting  0  random elements:  0:00:00.004753\n",
      "Invalid Range: could not broadcast input array from shape (2090,257) into shape (2090,258)\n",
      "Time for Getting  0  random elements:  0:00:00.003653\n",
      "Invalid Range: could not broadcast input array from shape (2123,257) into shape (2123,258)\n",
      "Time for Getting  0  random elements:  0:00:00.004312\n",
      "Invalid Range: could not broadcast input array from shape (2161,257) into shape (2161,258)\n",
      "Time for Getting  0  random elements:  0:00:00.004521\n",
      "Invalid Range: could not broadcast input array from shape (2097,257) into shape (2097,258)\n",
      "Time for Getting  0  random elements:  0:00:00.004376\n"
     ]
    },
    {
     "name": "stderr",
     "output_type": "stream",
     "text": [
      "2018-10-16 23:58:35,145 - nn-real-hvd - INFO -    643     1 96291.5     0.0   0.002 0.10000\n",
      "2018-10-16 23:58:35,145 - nn-real-hvd - INFO -    643     1 96291.5     0.0   0.002 0.10000\n",
      "2018-10-16 23:58:35,196 - nn-real-hvd - INFO -    644     1 89733.7     0.0   0.002 0.10000\n",
      "2018-10-16 23:58:35,196 - nn-real-hvd - INFO -    644     1 89733.7     0.0   0.002 0.10000\n",
      "2018-10-16 23:58:35,246 - nn-real-hvd - INFO -    645     1 90849.3     0.0   0.002 0.10000\n",
      "2018-10-16 23:58:35,246 - nn-real-hvd - INFO -    645     1 90849.3     0.0   0.002 0.10000\n",
      "2018-10-16 23:58:35,294 - nn-real-hvd - INFO -    646     1 95041.0     0.0   0.002 0.10000\n",
      "2018-10-16 23:58:35,294 - nn-real-hvd - INFO -    646     1 95041.0     0.0   0.002 0.10000\n",
      "2018-10-16 23:58:35,341 - nn-real-hvd - INFO -    647     1 98533.1     0.0   0.002 0.10000\n",
      "2018-10-16 23:58:35,341 - nn-real-hvd - INFO -    647     1 98533.1     0.0   0.002 0.10000\n"
     ]
    },
    {
     "name": "stdout",
     "output_type": "stream",
     "text": [
      "Invalid Range: could not broadcast input array from shape (2168,257) into shape (2168,258)\n",
      "Time for Getting  0  random elements:  0:00:00.004245\n",
      "Invalid Range: could not broadcast input array from shape (2166,257) into shape (2166,258)\n",
      "Time for Getting  0  random elements:  0:00:00.004020\n",
      "Invalid Range: could not broadcast input array from shape (2197,257) into shape (2197,258)\n",
      "Time for Getting  0  random elements:  0:00:00.004408\n",
      "Invalid Range: could not broadcast input array from shape (2134,257) into shape (2134,258)\n",
      "Time for Getting  0  random elements:  0:00:00.004231\n",
      "Invalid Range: could not broadcast input array from shape (2159,257) into shape (2159,258)\n",
      "Time for Getting  0  random elements:  0:00:00.003827\n"
     ]
    },
    {
     "name": "stderr",
     "output_type": "stream",
     "text": [
      "2018-10-16 23:58:35,388 - nn-real-hvd - INFO -    648     1 97804.1     0.0   0.002 0.10000\n",
      "2018-10-16 23:58:35,388 - nn-real-hvd - INFO -    648     1 97804.1     0.0   0.002 0.10000\n",
      "2018-10-16 23:58:35,438 - nn-real-hvd - INFO -    649     1 92363.5     0.0   0.002 0.10000\n",
      "2018-10-16 23:58:35,438 - nn-real-hvd - INFO -    649     1 92363.5     0.0   0.002 0.10000\n",
      "2018-10-16 23:58:35,485 - nn-real-hvd - INFO -    650     1 97183.9     0.0   0.002 0.10000\n",
      "2018-10-16 23:58:35,485 - nn-real-hvd - INFO -    650     1 97183.9     0.0   0.002 0.10000\n",
      "2018-10-16 23:58:35,533 - nn-real-hvd - INFO -    651     1 95541.5     0.0   0.002 0.10000\n",
      "2018-10-16 23:58:35,533 - nn-real-hvd - INFO -    651     1 95541.5     0.0   0.002 0.10000\n",
      "2018-10-16 23:58:35,582 - nn-real-hvd - INFO -    652     1 93122.6     0.0   0.002 0.10000\n",
      "2018-10-16 23:58:35,582 - nn-real-hvd - INFO -    652     1 93122.6     0.0   0.002 0.10000\n"
     ]
    },
    {
     "name": "stdout",
     "output_type": "stream",
     "text": [
      "Invalid Range: could not broadcast input array from shape (2166,257) into shape (2166,258)\n",
      "Time for Getting  0  random elements:  0:00:00.003880\n",
      "Invalid Range: could not broadcast input array from shape (2141,257) into shape (2141,258)\n",
      "Time for Getting  0  random elements:  0:00:00.004229\n",
      "Invalid Range: could not broadcast input array from shape (2122,257) into shape (2122,258)\n",
      "Time for Getting  0  random elements:  0:00:00.004393\n",
      "Invalid Range: could not broadcast input array from shape (2106,257) into shape (2106,258)\n",
      "Time for Getting  0  random elements:  0:00:00.004013\n",
      "Invalid Range: could not broadcast input array from shape (2138,257) into shape (2138,258)\n",
      "Time for Getting  0  random elements:  0:00:00.004261\n"
     ]
    },
    {
     "name": "stderr",
     "output_type": "stream",
     "text": [
      "2018-10-16 23:58:35,628 - nn-real-hvd - INFO -    653     1 99379.9     0.0   0.002 0.10000\n",
      "2018-10-16 23:58:35,628 - nn-real-hvd - INFO -    653     1 99379.9     0.0   0.002 0.10000\n",
      "2018-10-16 23:58:35,675 - nn-real-hvd - INFO -    654     1 95859.3     0.0   0.002 0.10000\n",
      "2018-10-16 23:58:35,675 - nn-real-hvd - INFO -    654     1 95859.3     0.0   0.002 0.10000\n",
      "2018-10-16 23:58:35,723 - nn-real-hvd - INFO -    655     1 95504.6     0.0   0.002 0.10000\n",
      "2018-10-16 23:58:35,723 - nn-real-hvd - INFO -    655     1 95504.6     0.0   0.002 0.10000\n",
      "2018-10-16 23:58:35,770 - nn-real-hvd - INFO -    656     1 97522.5     0.0   0.002 0.10000\n",
      "2018-10-16 23:58:35,770 - nn-real-hvd - INFO -    656     1 97522.5     0.0   0.002 0.10000\n",
      "2018-10-16 23:58:35,818 - nn-real-hvd - INFO -    657     1 95561.7     0.0   0.002 0.10000\n",
      "2018-10-16 23:58:35,818 - nn-real-hvd - INFO -    657     1 95561.7     0.0   0.002 0.10000\n"
     ]
    },
    {
     "name": "stdout",
     "output_type": "stream",
     "text": [
      "Invalid Range: could not broadcast input array from shape (2175,257) into shape (2175,258)\n",
      "Time for Getting  0  random elements:  0:00:00.004275\n",
      "Invalid Range: could not broadcast input array from shape (2082,257) into shape (2082,258)\n",
      "Time for Getting  0  random elements:  0:00:00.003869\n",
      "Invalid Range: could not broadcast input array from shape (2128,257) into shape (2128,258)\n",
      "Time for Getting  0  random elements:  0:00:00.003839\n",
      "Invalid Range: could not broadcast input array from shape (2139,257) into shape (2139,258)\n",
      "Time for Getting  0  random elements:  0:00:00.004216\n",
      "Invalid Range: could not broadcast input array from shape (2130,257) into shape (2130,258)\n",
      "Time for Getting  0  random elements:  0:00:00.004269\n"
     ]
    },
    {
     "name": "stderr",
     "output_type": "stream",
     "text": [
      "2018-10-16 23:58:35,865 - nn-real-hvd - INFO -    658     1 96887.1     0.0   0.002 0.10000\n",
      "2018-10-16 23:58:35,865 - nn-real-hvd - INFO -    658     1 96887.1     0.0   0.002 0.10000\n",
      "2018-10-16 23:58:35,915 - nn-real-hvd - INFO -    659     1 91862.4     0.0   0.002 0.10000\n",
      "2018-10-16 23:58:35,915 - nn-real-hvd - INFO -    659     1 91862.4     0.0   0.002 0.10000\n",
      "2018-10-16 23:58:35,965 - nn-real-hvd - INFO -    660     1 90727.7     0.0   0.002 0.10000\n",
      "2018-10-16 23:58:35,965 - nn-real-hvd - INFO -    660     1 90727.7     0.0   0.002 0.10000\n",
      "2018-10-16 23:58:36,013 - nn-real-hvd - INFO -    661     1 93890.5     0.0   0.002 0.10000\n",
      "2018-10-16 23:58:36,013 - nn-real-hvd - INFO -    661     1 93890.5     0.0   0.002 0.10000\n",
      "2018-10-16 23:58:36,064 - nn-real-hvd - INFO -    662     1 91579.6     0.0   0.002 0.10000\n",
      "2018-10-16 23:58:36,064 - nn-real-hvd - INFO -    662     1 91579.6     0.0   0.002 0.10000\n"
     ]
    },
    {
     "name": "stdout",
     "output_type": "stream",
     "text": [
      "Invalid Range: could not broadcast input array from shape (2116,257) into shape (2116,258)\n",
      "Time for Getting  0  random elements:  0:00:00.004024\n",
      "Invalid Range: could not broadcast input array from shape (2133,257) into shape (2133,258)\n",
      "Time for Getting  0  random elements:  0:00:00.003987\n",
      "Invalid Range: could not broadcast input array from shape (2151,257) into shape (2151,258)\n",
      "Time for Getting  0  random elements:  0:00:00.003743\n",
      "Invalid Range: could not broadcast input array from shape (2111,257) into shape (2111,258)\n",
      "Time for Getting  0  random elements:  0:00:00.003842\n",
      "Invalid Range: could not broadcast input array from shape (2191,257) into shape (2191,258)\n"
     ]
    },
    {
     "name": "stderr",
     "output_type": "stream",
     "text": [
      "2018-10-16 23:58:36,115 - nn-real-hvd - INFO -    663     1 89491.4     0.0   0.002 0.10000\n",
      "2018-10-16 23:58:36,115 - nn-real-hvd - INFO -    663     1 89491.4     0.0   0.002 0.10000\n",
      "2018-10-16 23:58:36,163 - nn-real-hvd - INFO -    664     1 96572.5     0.0   0.002 0.10000\n",
      "2018-10-16 23:58:36,163 - nn-real-hvd - INFO -    664     1 96572.5     0.0   0.002 0.10000\n",
      "2018-10-16 23:58:36,210 - nn-real-hvd - INFO -    665     1 97249.6     0.0   0.002 0.10000\n",
      "2018-10-16 23:58:36,210 - nn-real-hvd - INFO -    665     1 97249.6     0.0   0.002 0.10000\n",
      "2018-10-16 23:58:36,258 - nn-real-hvd - INFO -    666     1 95638.5     0.0   0.002 0.10000\n",
      "2018-10-16 23:58:36,258 - nn-real-hvd - INFO -    666     1 95638.5     0.0   0.002 0.10000\n"
     ]
    },
    {
     "name": "stdout",
     "output_type": "stream",
     "text": [
      "Time for Getting  0  random elements:  0:00:00.004694\n",
      "Invalid Range: could not broadcast input array from shape (2111,257) into shape (2111,258)\n",
      "Time for Getting  0  random elements:  0:00:00.004640\n",
      "Invalid Range: could not broadcast input array from shape (2138,257) into shape (2138,258)\n",
      "Time for Getting  0  random elements:  0:00:00.004168\n",
      "Invalid Range: could not broadcast input array from shape (2211,257) into shape (2211,258)\n",
      "Time for Getting  0  random elements:  0:00:00.004279\n",
      "Invalid Range: could not broadcast input array from shape (2109,257) into shape (2109,258)\n",
      "Time for Getting  0  random elements:  0:00:00.004107\n"
     ]
    },
    {
     "name": "stderr",
     "output_type": "stream",
     "text": [
      "2018-10-16 23:58:36,307 - nn-real-hvd - INFO -    667     1 95670.5     0.0   0.002 0.10000\n",
      "2018-10-16 23:58:36,307 - nn-real-hvd - INFO -    667     1 95670.5     0.0   0.002 0.10000\n",
      "2018-10-16 23:58:36,355 - nn-real-hvd - INFO -    668     1 94268.1     0.0   0.002 0.10000\n",
      "2018-10-16 23:58:36,355 - nn-real-hvd - INFO -    668     1 94268.1     0.0   0.002 0.10000\n",
      "2018-10-16 23:58:36,403 - nn-real-hvd - INFO -    669     1 95279.1     0.0   0.002 0.10000\n",
      "2018-10-16 23:58:36,403 - nn-real-hvd - INFO -    669     1 95279.1     0.0   0.002 0.10000\n",
      "2018-10-16 23:58:36,452 - nn-real-hvd - INFO -    670     1 93241.4     0.0   0.002 0.10000\n",
      "2018-10-16 23:58:36,452 - nn-real-hvd - INFO -    670     1 93241.4     0.0   0.002 0.10000\n",
      "2018-10-16 23:58:36,502 - nn-real-hvd - INFO -    671     1 92523.3     0.0   0.002 0.10000\n",
      "2018-10-16 23:58:36,502 - nn-real-hvd - INFO -    671     1 92523.3     0.0   0.002 0.10000\n"
     ]
    },
    {
     "name": "stdout",
     "output_type": "stream",
     "text": [
      "Invalid Range: could not broadcast input array from shape (2134,257) into shape (2134,258)\n",
      "Time for Getting  0  random elements:  0:00:00.004542\n",
      "Invalid Range: could not broadcast input array from shape (2118,257) into shape (2118,258)\n",
      "Time for Getting  0  random elements:  0:00:00.003872\n",
      "Invalid Range: could not broadcast input array from shape (2113,257) into shape (2113,258)\n",
      "Time for Getting  0  random elements:  0:00:00.004150\n",
      "Invalid Range: could not broadcast input array from shape (2156,257) into shape (2156,258)\n",
      "Time for Getting  0  random elements:  0:00:00.003977\n",
      "Invalid Range: could not broadcast input array from shape (2184,257) into shape (2184,258)\n",
      "Time for Getting  0  random elements:  0:00:00.004052\n"
     ]
    },
    {
     "name": "stderr",
     "output_type": "stream",
     "text": [
      "2018-10-16 23:58:36,551 - nn-real-hvd - INFO -    672     1 92844.5     0.0   0.002 0.10000\n",
      "2018-10-16 23:58:36,551 - nn-real-hvd - INFO -    672     1 92844.5     0.0   0.002 0.10000\n",
      "2018-10-16 23:58:36,620 - nn-real-hvd - INFO -    673     1 64992.8     0.1   0.002 0.10000\n",
      "2018-10-16 23:58:36,620 - nn-real-hvd - INFO -    673     1 64992.8     0.1   0.002 0.10000\n",
      "2018-10-16 23:58:36,676 - nn-real-hvd - INFO -    674     1 82197.5     0.1   0.002 0.10000\n",
      "2018-10-16 23:58:36,676 - nn-real-hvd - INFO -    674     1 82197.5     0.1   0.002 0.10000\n",
      "2018-10-16 23:58:36,726 - nn-real-hvd - INFO -    675     1 92917.9     0.0   0.002 0.10000\n",
      "2018-10-16 23:58:36,726 - nn-real-hvd - INFO -    675     1 92917.9     0.0   0.002 0.10000\n"
     ]
    },
    {
     "name": "stdout",
     "output_type": "stream",
     "text": [
      "Invalid Range: could not broadcast input array from shape (2133,257) into shape (2133,258)\n",
      "Time for Getting  0  random elements:  0:00:00.003969\n",
      "Invalid Range: could not broadcast input array from shape (2130,257) into shape (2130,258)\n",
      "Time for Getting  0  random elements:  0:00:00.004002\n",
      "Invalid Range: could not broadcast input array from shape (2169,257) into shape (2169,258)\n",
      "Time for Getting  0  random elements:  0:00:00.004756\n",
      "Invalid Range: could not broadcast input array from shape (2147,257) into shape (2147,258)\n",
      "Time for Getting  0  random elements:  0:00:00.004264\n"
     ]
    },
    {
     "name": "stderr",
     "output_type": "stream",
     "text": [
      "2018-10-16 23:58:36,774 - nn-real-hvd - INFO -    676     1 94890.8     0.0   0.002 0.10000\n",
      "2018-10-16 23:58:36,774 - nn-real-hvd - INFO -    676     1 94890.8     0.0   0.002 0.10000\n",
      "2018-10-16 23:58:36,821 - nn-real-hvd - INFO -    677     1 97509.2     0.0   0.002 0.10000\n",
      "2018-10-16 23:58:36,821 - nn-real-hvd - INFO -    677     1 97509.2     0.0   0.002 0.10000\n",
      "2018-10-16 23:58:36,868 - nn-real-hvd - INFO -    678     1 98627.9     0.0   0.002 0.10000\n",
      "2018-10-16 23:58:36,868 - nn-real-hvd - INFO -    678     1 98627.9     0.0   0.002 0.10000\n",
      "2018-10-16 23:58:36,917 - nn-real-hvd - INFO -    679     1 93158.1     0.0   0.002 0.10000\n",
      "2018-10-16 23:58:36,917 - nn-real-hvd - INFO -    679     1 93158.1     0.0   0.002 0.10000\n",
      "2018-10-16 23:58:36,966 - nn-real-hvd - INFO -    680     1 92277.6     0.0   0.002 0.10000\n",
      "2018-10-16 23:58:36,966 - nn-real-hvd - INFO -    680     1 92277.6     0.0   0.002 0.10000\n"
     ]
    },
    {
     "name": "stdout",
     "output_type": "stream",
     "text": [
      "Invalid Range: could not broadcast input array from shape (2221,257) into shape (2221,258)\n",
      "Time for Getting  0  random elements:  0:00:00.004153\n",
      "Invalid Range: could not broadcast input array from shape (2135,257) into shape (2135,258)\n",
      "Time for Getting  0  random elements:  0:00:00.003481\n",
      "Invalid Range: could not broadcast input array from shape (2151,257) into shape (2151,258)\n",
      "Time for Getting  0  random elements:  0:00:00.003721\n",
      "Invalid Range: could not broadcast input array from shape (2120,257) into shape (2120,258)\n",
      "Time for Getting  0  random elements:  0:00:00.003932\n",
      "Invalid Range: could not broadcast input array from shape (2185,257) into shape (2185,258)\n",
      "Time for Getting  0  random elements:  0:00:00.003766\n"
     ]
    },
    {
     "name": "stderr",
     "output_type": "stream",
     "text": [
      "2018-10-16 23:58:37,014 - nn-real-hvd - INFO -    681     1 95285.0     0.0   0.002 0.10000\n",
      "2018-10-16 23:58:37,014 - nn-real-hvd - INFO -    681     1 95285.0     0.0   0.002 0.10000\n",
      "2018-10-16 23:58:37,061 - nn-real-hvd - INFO -    682     1 98161.0     0.0   0.002 0.10000\n",
      "2018-10-16 23:58:37,061 - nn-real-hvd - INFO -    682     1 98161.0     0.0   0.002 0.10000\n",
      "2018-10-16 23:58:37,109 - nn-real-hvd - INFO -    683     1 94996.7     0.0   0.002 0.10000\n",
      "2018-10-16 23:58:37,109 - nn-real-hvd - INFO -    683     1 94996.7     0.0   0.002 0.10000\n",
      "2018-10-16 23:58:37,158 - nn-real-hvd - INFO -    684     1 94048.9     0.0   0.002 0.10000\n",
      "2018-10-16 23:58:37,158 - nn-real-hvd - INFO -    684     1 94048.9     0.0   0.002 0.10000\n",
      "2018-10-16 23:58:37,205 - nn-real-hvd - INFO -    685     1 97375.1     0.0   0.002 0.10000\n",
      "2018-10-16 23:58:37,205 - nn-real-hvd - INFO -    685     1 97375.1     0.0   0.002 0.10000\n"
     ]
    },
    {
     "name": "stdout",
     "output_type": "stream",
     "text": [
      "Invalid Range: could not broadcast input array from shape (2189,257) into shape (2189,258)\n",
      "Time for Getting  0  random elements:  0:00:00.004263\n",
      "Invalid Range: could not broadcast input array from shape (2114,257) into shape (2114,258)\n",
      "Time for Getting  0  random elements:  0:00:00.004136\n",
      "Invalid Range: could not broadcast input array from shape (2200,257) into shape (2200,258)\n",
      "Time for Getting  0  random elements:  0:00:00.004552\n",
      "Invalid Range: could not broadcast input array from shape (2153,257) into shape (2153,258)\n",
      "Time for Getting  0  random elements:  0:00:00.004294\n",
      "Invalid Range: could not broadcast input array from shape (2174,257) into shape (2174,258)\n",
      "Time for Getting  0  random elements:  0:00:00.004101\n"
     ]
    },
    {
     "name": "stderr",
     "output_type": "stream",
     "text": [
      "2018-10-16 23:58:37,253 - nn-real-hvd - INFO -    686     1 95235.1     0.0   0.002 0.10000\n",
      "2018-10-16 23:58:37,253 - nn-real-hvd - INFO -    686     1 95235.1     0.0   0.002 0.10000\n",
      "2018-10-16 23:58:37,302 - nn-real-hvd - INFO -    687     1 94835.6     0.0   0.002 0.10000\n",
      "2018-10-16 23:58:37,302 - nn-real-hvd - INFO -    687     1 94835.6     0.0   0.002 0.10000\n",
      "2018-10-16 23:58:37,350 - nn-real-hvd - INFO -    688     1 95445.7     0.0   0.002 0.10000\n",
      "2018-10-16 23:58:37,350 - nn-real-hvd - INFO -    688     1 95445.7     0.0   0.002 0.10000\n",
      "2018-10-16 23:58:37,397 - nn-real-hvd - INFO -    689     1 96218.6     0.0   0.002 0.10000\n",
      "2018-10-16 23:58:37,397 - nn-real-hvd - INFO -    689     1 96218.6     0.0   0.002 0.10000\n",
      "2018-10-16 23:58:37,442 - nn-real-hvd - INFO -    690     1 101191.3     0.0   0.002 0.10000\n",
      "2018-10-16 23:58:37,442 - nn-real-hvd - INFO -    690     1 101191.3     0.0   0.002 0.10000\n"
     ]
    },
    {
     "name": "stdout",
     "output_type": "stream",
     "text": [
      "Invalid Range: could not broadcast input array from shape (2093,257) into shape (2093,258)\n",
      "Time for Getting  0  random elements:  0:00:00.004296\n",
      "Invalid Range: could not broadcast input array from shape (2081,257) into shape (2081,258)\n",
      "Time for Getting  0  random elements:  0:00:00.004276\n",
      "Invalid Range: could not broadcast input array from shape (2104,257) into shape (2104,258)\n",
      "Time for Getting  0  random elements:  0:00:00.004121\n",
      "Invalid Range: could not broadcast input array from shape (2148,257) into shape (2148,258)\n",
      "Time for Getting  0  random elements:  0:00:00.003750\n",
      "Invalid Range: could not broadcast input array from shape (2127,257) into shape (2127,258)\n",
      "Time for Getting  0  random elements:  0:00:00.003972\n"
     ]
    },
    {
     "name": "stderr",
     "output_type": "stream",
     "text": [
      "2018-10-16 23:58:37,492 - nn-real-hvd - INFO -    691     1 92305.6     0.0   0.002 0.10000\n",
      "2018-10-16 23:58:37,492 - nn-real-hvd - INFO -    691     1 92305.6     0.0   0.002 0.10000\n",
      "2018-10-16 23:58:37,541 - nn-real-hvd - INFO -    692     1 93076.3     0.0   0.002 0.10000\n",
      "2018-10-16 23:58:37,541 - nn-real-hvd - INFO -    692     1 93076.3     0.0   0.002 0.10000\n",
      "2018-10-16 23:58:37,589 - nn-real-hvd - INFO -    693     1 99569.7     0.0   0.002 0.10000\n",
      "2018-10-16 23:58:37,589 - nn-real-hvd - INFO -    693     1 99569.7     0.0   0.002 0.10000\n",
      "2018-10-16 23:58:37,638 - nn-real-hvd - INFO -    694     1 91917.9     0.0   0.002 0.10000\n",
      "2018-10-16 23:58:37,638 - nn-real-hvd - INFO -    694     1 91917.9     0.0   0.002 0.10000\n",
      "2018-10-16 23:58:37,686 - nn-real-hvd - INFO -    695     1 96824.5     0.0   0.002 0.10000\n",
      "2018-10-16 23:58:37,686 - nn-real-hvd - INFO -    695     1 96824.5     0.0   0.002 0.10000\n"
     ]
    },
    {
     "name": "stdout",
     "output_type": "stream",
     "text": [
      "Invalid Range: could not broadcast input array from shape (2078,257) into shape (2078,258)\n",
      "Time for Getting  0  random elements:  0:00:00.004115\n",
      "Invalid Range: could not broadcast input array from shape (2060,257) into shape (2060,258)\n",
      "Time for Getting  0  random elements:  0:00:00.004250\n",
      "Invalid Range: could not broadcast input array from shape (2166,257) into shape (2166,258)\n",
      "Time for Getting  0  random elements:  0:00:00.004010\n",
      "Invalid Range: could not broadcast input array from shape (2169,257) into shape (2169,258)\n",
      "Time for Getting  0  random elements:  0:00:00.004470\n",
      "Invalid Range: could not broadcast input array from shape (2143,257) into shape (2143,258)\n",
      "Time for Getting  0  random elements:  0:00:00.004389\n"
     ]
    },
    {
     "name": "stderr",
     "output_type": "stream",
     "text": [
      "2018-10-16 23:58:37,734 - nn-real-hvd - INFO -    696     1 95780.1     0.0   0.002 0.10000\n",
      "2018-10-16 23:58:37,734 - nn-real-hvd - INFO -    696     1 95780.1     0.0   0.002 0.10000\n",
      "2018-10-16 23:58:37,784 - nn-real-hvd - INFO -    697     1 90520.1     0.0   0.002 0.10000\n",
      "2018-10-16 23:58:37,784 - nn-real-hvd - INFO -    697     1 90520.1     0.0   0.002 0.10000\n",
      "2018-10-16 23:58:37,832 - nn-real-hvd - INFO -    698     1 96112.5     0.0   0.002 0.10000\n",
      "2018-10-16 23:58:37,832 - nn-real-hvd - INFO -    698     1 96112.5     0.0   0.002 0.10000\n",
      "2018-10-16 23:58:37,880 - nn-real-hvd - INFO -    699     1 96917.0     0.0   0.002 0.10000\n",
      "2018-10-16 23:58:37,880 - nn-real-hvd - INFO -    699     1 96917.0     0.0   0.002 0.10000\n",
      "2018-10-16 23:58:37,928 - nn-real-hvd - INFO -    700     1 93897.1     0.0   0.002 0.10000\n",
      "2018-10-16 23:58:37,928 - nn-real-hvd - INFO -    700     1 93897.1     0.0   0.002 0.10000\n"
     ]
    },
    {
     "name": "stdout",
     "output_type": "stream",
     "text": [
      "Invalid Range: could not broadcast input array from shape (2094,257) into shape (2094,258)\n",
      "Time for Getting  0  random elements:  0:00:00.004268\n",
      "Invalid Range: could not broadcast input array from shape (2155,257) into shape (2155,258)\n",
      "Time for Getting  0  random elements:  0:00:00.004325\n",
      "Invalid Range: could not broadcast input array from shape (2174,257) into shape (2174,258)\n",
      "Time for Getting  0  random elements:  0:00:00.004333\n",
      "Invalid Range: could not broadcast input array from shape (2127,257) into shape (2127,258)\n",
      "Time for Getting  0  random elements:  0:00:00.004673\n",
      "Invalid Range: could not broadcast input array from shape (2132,257) into shape (2132,258)\n",
      "Time for Getting  0  random elements:  0:00:00.003879\n"
     ]
    },
    {
     "name": "stderr",
     "output_type": "stream",
     "text": [
      "2018-10-16 23:58:37,980 - nn-real-hvd - INFO -    701     1 92997.5     0.0   0.002 0.10000\n",
      "2018-10-16 23:58:37,980 - nn-real-hvd - INFO -    701     1 92997.5     0.0   0.002 0.10000\n",
      "2018-10-16 23:58:38,041 - nn-real-hvd - INFO -    702     1 73553.1     0.1   0.002 0.10000\n",
      "2018-10-16 23:58:38,041 - nn-real-hvd - INFO -    702     1 73553.1     0.1   0.002 0.10000\n",
      "2018-10-16 23:58:38,089 - nn-real-hvd - INFO -    703     1 97071.6     0.0   0.002 0.10000\n",
      "2018-10-16 23:58:38,089 - nn-real-hvd - INFO -    703     1 97071.6     0.0   0.002 0.10000\n",
      "2018-10-16 23:58:38,138 - nn-real-hvd - INFO -    704     1 94109.9     0.0   0.002 0.10000\n",
      "2018-10-16 23:58:38,138 - nn-real-hvd - INFO -    704     1 94109.9     0.0   0.002 0.10000\n",
      "2018-10-16 23:58:38,185 - nn-real-hvd - INFO -    705     1 97652.8     0.0   0.002 0.10000\n",
      "2018-10-16 23:58:38,185 - nn-real-hvd - INFO -    705     1 97652.8     0.0   0.002 0.10000\n"
     ]
    },
    {
     "name": "stdout",
     "output_type": "stream",
     "text": [
      "Invalid Range: could not broadcast input array from shape (2139,257) into shape (2139,258)\n",
      "Time for Getting  0  random elements:  0:00:00.004217\n",
      "Invalid Range: could not broadcast input array from shape (2150,257) into shape (2150,258)\n",
      "Time for Getting  0  random elements:  0:00:00.003907\n",
      "Invalid Range: could not broadcast input array from shape (2124,257) into shape (2124,258)\n",
      "Time for Getting  0  random elements:  0:00:00.004152\n",
      "Invalid Range: could not broadcast input array from shape (2147,257) into shape (2147,258)\n",
      "Time for Getting  0  random elements:  0:00:00.003905\n"
     ]
    },
    {
     "name": "stderr",
     "output_type": "stream",
     "text": [
      "2018-10-16 23:58:38,234 - nn-real-hvd - INFO -    706     1 92814.3     0.0   0.002 0.10000\n",
      "2018-10-16 23:58:38,234 - nn-real-hvd - INFO -    706     1 92814.3     0.0   0.002 0.10000\n",
      "2018-10-16 23:58:38,283 - nn-real-hvd - INFO -    707     1 95605.5     0.0   0.002 0.10000\n",
      "2018-10-16 23:58:38,283 - nn-real-hvd - INFO -    707     1 95605.5     0.0   0.002 0.10000\n",
      "2018-10-16 23:58:38,331 - nn-real-hvd - INFO -    708     1 96431.1     0.0   0.002 0.10000\n",
      "2018-10-16 23:58:38,331 - nn-real-hvd - INFO -    708     1 96431.1     0.0   0.002 0.10000\n",
      "2018-10-16 23:58:38,380 - nn-real-hvd - INFO -    709     1 91436.1     0.0   0.002 0.10000\n",
      "2018-10-16 23:58:38,380 - nn-real-hvd - INFO -    709     1 91436.1     0.0   0.002 0.10000\n"
     ]
    },
    {
     "name": "stdout",
     "output_type": "stream",
     "text": [
      "Invalid Range: could not broadcast input array from shape (2111,257) into shape (2111,258)\n",
      "Time for Getting  0  random elements:  0:00:00.005278\n",
      "Invalid Range: could not broadcast input array from shape (2197,257) into shape (2197,258)\n",
      "Time for Getting  0  random elements:  0:00:00.004340\n",
      "Invalid Range: could not broadcast input array from shape (2159,257) into shape (2159,258)\n",
      "Time for Getting  0  random elements:  0:00:00.004523\n",
      "Invalid Range: could not broadcast input array from shape (2179,257) into shape (2179,258)\n",
      "Time for Getting  0  random elements:  0:00:00.004023\n",
      "Invalid Range: could not broadcast input array from shape (2078,257) into shape (2078,258)\n",
      "Time for Getting  0  random elements:  0:00:00.004082\n"
     ]
    },
    {
     "name": "stderr",
     "output_type": "stream",
     "text": [
      "2018-10-16 23:58:38,429 - nn-real-hvd - INFO -    710     1 93494.1     0.0   0.002 0.10000\n",
      "2018-10-16 23:58:38,429 - nn-real-hvd - INFO -    710     1 93494.1     0.0   0.002 0.10000\n",
      "2018-10-16 23:58:38,476 - nn-real-hvd - INFO -    711     1 97453.9     0.0   0.002 0.10000\n",
      "2018-10-16 23:58:38,476 - nn-real-hvd - INFO -    711     1 97453.9     0.0   0.002 0.10000\n",
      "2018-10-16 23:58:38,525 - nn-real-hvd - INFO -    712     1 93395.8     0.0   0.002 0.10000\n",
      "2018-10-16 23:58:38,525 - nn-real-hvd - INFO -    712     1 93395.8     0.0   0.002 0.10000\n",
      "2018-10-16 23:58:38,574 - nn-real-hvd - INFO -    713     1 94653.2     0.0   0.002 0.10000\n",
      "2018-10-16 23:58:38,574 - nn-real-hvd - INFO -    713     1 94653.2     0.0   0.002 0.10000\n",
      "2018-10-16 23:58:38,621 - nn-real-hvd - INFO -    714     1 95959.4     0.0   0.002 0.10000\n",
      "2018-10-16 23:58:38,621 - nn-real-hvd - INFO -    714     1 95959.4     0.0   0.002 0.10000\n"
     ]
    },
    {
     "name": "stdout",
     "output_type": "stream",
     "text": [
      "Invalid Range: could not broadcast input array from shape (2113,257) into shape (2113,258)\n",
      "Time for Getting  0  random elements:  0:00:00.003613\n",
      "Invalid Range: could not broadcast input array from shape (2123,257) into shape (2123,258)\n",
      "Time for Getting  0  random elements:  0:00:00.004000\n",
      "Invalid Range: could not broadcast input array from shape (2151,257) into shape (2151,258)\n",
      "Time for Getting  0  random elements:  0:00:00.004145\n",
      "Invalid Range: could not broadcast input array from shape (2112,257) into shape (2112,258)\n",
      "Time for Getting  0  random elements:  0:00:00.003814\n",
      "Invalid Range: could not broadcast input array from shape (2181,257) into shape (2181,258)\n",
      "Time for Getting  0  random elements:  0:00:00.004576\n"
     ]
    },
    {
     "name": "stderr",
     "output_type": "stream",
     "text": [
      "2018-10-16 23:58:38,670 - nn-real-hvd - INFO -    715     1 94477.4     0.0   0.002 0.10000\n",
      "2018-10-16 23:58:38,670 - nn-real-hvd - INFO -    715     1 94477.4     0.0   0.002 0.10000\n",
      "2018-10-16 23:58:38,716 - nn-real-hvd - INFO -    716     1 98781.7     0.0   0.002 0.10000\n",
      "2018-10-16 23:58:38,716 - nn-real-hvd - INFO -    716     1 98781.7     0.0   0.002 0.10000\n",
      "2018-10-16 23:58:38,764 - nn-real-hvd - INFO -    717     1 96241.0     0.0   0.002 0.10000\n",
      "2018-10-16 23:58:38,764 - nn-real-hvd - INFO -    717     1 96241.0     0.0   0.002 0.10000\n",
      "2018-10-16 23:58:38,810 - nn-real-hvd - INFO -    718     1 99344.3     0.0   0.002 0.10000\n",
      "2018-10-16 23:58:38,810 - nn-real-hvd - INFO -    718     1 99344.3     0.0   0.002 0.10000\n",
      "2018-10-16 23:58:38,857 - nn-real-hvd - INFO -    719     1 95888.5     0.0   0.002 0.10000\n",
      "2018-10-16 23:58:38,857 - nn-real-hvd - INFO -    719     1 95888.5     0.0   0.002 0.10000\n"
     ]
    },
    {
     "name": "stdout",
     "output_type": "stream",
     "text": [
      "Invalid Range: could not broadcast input array from shape (2206,257) into shape (2206,258)\n",
      "Time for Getting  0  random elements:  0:00:00.004271\n",
      "Invalid Range: could not broadcast input array from shape (2164,257) into shape (2164,258)\n",
      "Time for Getting  0  random elements:  0:00:00.003899\n",
      "Invalid Range: could not broadcast input array from shape (2093,257) into shape (2093,258)\n",
      "Time for Getting  0  random elements:  0:00:00.004079\n",
      "Invalid Range: could not broadcast input array from shape (2138,257) into shape (2138,258)\n",
      "Time for Getting  0  random elements:  0:00:00.003826\n",
      "Invalid Range: could not broadcast input array from shape (2137,257) into shape (2137,258)\n",
      "Time for Getting  0  random elements:  0:00:00.003622\n"
     ]
    },
    {
     "name": "stderr",
     "output_type": "stream",
     "text": [
      "2018-10-16 23:58:38,903 - nn-real-hvd - INFO -    720     1 98979.2     0.0   0.002 0.10000\n",
      "2018-10-16 23:58:38,903 - nn-real-hvd - INFO -    720     1 98979.2     0.0   0.002 0.10000\n",
      "2018-10-16 23:58:38,962 - nn-real-hvd - INFO -    721     1 77710.3     0.1   0.002 0.10000\n",
      "2018-10-16 23:58:38,962 - nn-real-hvd - INFO -    721     1 77710.3     0.1   0.002 0.10000\n",
      "2018-10-16 23:58:39,009 - nn-real-hvd - INFO -    722     1 96301.0     0.0   0.002 0.10000\n",
      "2018-10-16 23:58:39,009 - nn-real-hvd - INFO -    722     1 96301.0     0.0   0.002 0.10000\n",
      "2018-10-16 23:58:39,059 - nn-real-hvd - INFO -    723     1 90753.4     0.0   0.002 0.10000\n",
      "2018-10-16 23:58:39,059 - nn-real-hvd - INFO -    723     1 90753.4     0.0   0.002 0.10000\n",
      "2018-10-16 23:58:39,108 - nn-real-hvd - INFO -    724     1 93421.2     0.0   0.002 0.10000\n",
      "2018-10-16 23:58:39,108 - nn-real-hvd - INFO -    724     1 93421.2     0.0   0.002 0.10000\n"
     ]
    },
    {
     "name": "stdout",
     "output_type": "stream",
     "text": [
      "Invalid Range: could not broadcast input array from shape (2183,257) into shape (2183,258)\n",
      "Time for Getting  0  random elements:  0:00:00.004087\n",
      "Invalid Range: could not broadcast input array from shape (2172,257) into shape (2172,258)\n",
      "Time for Getting  0  random elements:  0:00:00.004022\n",
      "Invalid Range: could not broadcast input array from shape (2170,257) into shape (2170,258)\n",
      "Time for Getting  0  random elements:  0:00:00.004055\n",
      "Invalid Range: could not broadcast input array from shape (2122,257) into shape (2122,258)\n",
      "Time for Getting  0  random elements:  0:00:00.004244\n"
     ]
    },
    {
     "name": "stderr",
     "output_type": "stream",
     "text": [
      "2018-10-16 23:58:39,157 - nn-real-hvd - INFO -    725     1 94358.2     0.0   0.002 0.10000\n",
      "2018-10-16 23:58:39,157 - nn-real-hvd - INFO -    725     1 94358.2     0.0   0.002 0.10000\n",
      "2018-10-16 23:58:39,205 - nn-real-hvd - INFO -    726     1 95685.3     0.0   0.002 0.10000\n",
      "2018-10-16 23:58:39,205 - nn-real-hvd - INFO -    726     1 95685.3     0.0   0.002 0.10000\n",
      "2018-10-16 23:58:39,253 - nn-real-hvd - INFO -    727     1 97391.0     0.0   0.002 0.10000\n",
      "2018-10-16 23:58:39,253 - nn-real-hvd - INFO -    727     1 97391.0     0.0   0.002 0.10000\n",
      "2018-10-16 23:58:39,301 - nn-real-hvd - INFO -    728     1 94834.1     0.0   0.002 0.10000\n",
      "2018-10-16 23:58:39,301 - nn-real-hvd - INFO -    728     1 94834.1     0.0   0.002 0.10000\n"
     ]
    },
    {
     "name": "stdout",
     "output_type": "stream",
     "text": [
      "Invalid Range: could not broadcast input array from shape (2136,257) into shape (2136,258)\n",
      "Time for Getting  0  random elements:  0:00:00.005080\n",
      "Invalid Range: could not broadcast input array from shape (2092,257) into shape (2092,258)\n",
      "Time for Getting  0  random elements:  0:00:00.004186\n",
      "Invalid Range: could not broadcast input array from shape (2180,257) into shape (2180,258)\n",
      "Time for Getting  0  random elements:  0:00:00.004257\n",
      "Invalid Range: could not broadcast input array from shape (2164,257) into shape (2164,258)\n",
      "Time for Getting  0  random elements:  0:00:00.004281\n",
      "Invalid Range: could not broadcast input array from shape (2171,257) into shape (2171,258)\n",
      "Time for Getting  0  random elements:  0:00:00.004284\n"
     ]
    },
    {
     "name": "stderr",
     "output_type": "stream",
     "text": [
      "2018-10-16 23:58:39,350 - nn-real-hvd - INFO -    729     1 93917.5     0.0   0.002 0.10000\n",
      "2018-10-16 23:58:39,350 - nn-real-hvd - INFO -    729     1 93917.5     0.0   0.002 0.10000\n",
      "2018-10-16 23:58:39,400 - nn-real-hvd - INFO -    730     1 92007.7     0.0   0.002 0.10000\n",
      "2018-10-16 23:58:39,400 - nn-real-hvd - INFO -    730     1 92007.7     0.0   0.002 0.10000\n",
      "2018-10-16 23:58:39,449 - nn-real-hvd - INFO -    731     1 92329.9     0.0   0.002 0.10000\n",
      "2018-10-16 23:58:39,449 - nn-real-hvd - INFO -    731     1 92329.9     0.0   0.002 0.10000\n",
      "2018-10-16 23:58:39,497 - nn-real-hvd - INFO -    732     1 95868.2     0.0   0.002 0.10000\n",
      "2018-10-16 23:58:39,497 - nn-real-hvd - INFO -    732     1 95868.2     0.0   0.002 0.10000\n",
      "2018-10-16 23:58:39,548 - nn-real-hvd - INFO -    733     1 88797.7     0.0   0.002 0.10000\n",
      "2018-10-16 23:58:39,548 - nn-real-hvd - INFO -    733     1 88797.7     0.0   0.002 0.10000\n"
     ]
    },
    {
     "name": "stdout",
     "output_type": "stream",
     "text": [
      "Invalid Range: could not broadcast input array from shape (2171,257) into shape (2171,258)\n",
      "Time for Getting  0  random elements:  0:00:00.004091\n",
      "Invalid Range: could not broadcast input array from shape (2133,257) into shape (2133,258)\n",
      "Time for Getting  0  random elements:  0:00:00.004596\n",
      "Invalid Range: could not broadcast input array from shape (2130,257) into shape (2130,258)\n",
      "Time for Getting  0  random elements:  0:00:00.004417\n",
      "Invalid Range: could not broadcast input array from shape (2126,257) into shape (2126,258)\n",
      "Time for Getting  0  random elements:  0:00:00.004062\n",
      "Invalid Range: could not broadcast input array from shape (2166,257) into shape (2166,258)\n",
      "Time for Getting  0  random elements:  0:00:00.004130\n"
     ]
    },
    {
     "name": "stderr",
     "output_type": "stream",
     "text": [
      "2018-10-16 23:58:39,598 - nn-real-hvd - INFO -    734     1 92165.3     0.0   0.002 0.10000\n",
      "2018-10-16 23:58:39,598 - nn-real-hvd - INFO -    734     1 92165.3     0.0   0.002 0.10000\n",
      "2018-10-16 23:58:39,649 - nn-real-hvd - INFO -    735     1 89952.9     0.0   0.002 0.10000\n",
      "2018-10-16 23:58:39,649 - nn-real-hvd - INFO -    735     1 89952.9     0.0   0.002 0.10000\n",
      "2018-10-16 23:58:39,697 - nn-real-hvd - INFO -    736     1 95428.0     0.0   0.002 0.10000\n",
      "2018-10-16 23:58:39,697 - nn-real-hvd - INFO -    736     1 95428.0     0.0   0.002 0.10000\n",
      "2018-10-16 23:58:39,746 - nn-real-hvd - INFO -    737     1 94431.2     0.0   0.002 0.10000\n",
      "2018-10-16 23:58:39,746 - nn-real-hvd - INFO -    737     1 94431.2     0.0   0.002 0.10000\n",
      "2018-10-16 23:58:39,795 - nn-real-hvd - INFO -    738     1 92882.6     0.0   0.002 0.10000\n",
      "2018-10-16 23:58:39,795 - nn-real-hvd - INFO -    738     1 92882.6     0.0   0.002 0.10000\n"
     ]
    },
    {
     "name": "stdout",
     "output_type": "stream",
     "text": [
      "Invalid Range: could not broadcast input array from shape (2122,257) into shape (2122,258)\n",
      "Time for Getting  0  random elements:  0:00:00.004366\n",
      "Invalid Range: could not broadcast input array from shape (2132,257) into shape (2132,258)\n",
      "Time for Getting  0  random elements:  0:00:00.004301\n",
      "Invalid Range: could not broadcast input array from shape (2123,257) into shape (2123,258)\n",
      "Time for Getting  0  random elements:  0:00:00.004365\n",
      "Invalid Range: could not broadcast input array from shape (2105,257) into shape (2105,258)\n",
      "Time for Getting  0  random elements:  0:00:00.004177\n",
      "Invalid Range: could not broadcast input array from shape (2083,257) into shape (2083,258)\n",
      "Time for Getting  0"
     ]
    },
    {
     "name": "stderr",
     "output_type": "stream",
     "text": [
      "2018-10-16 23:58:39,844 - nn-real-hvd - INFO -    739     1 94287.8     0.0   0.002 0.10000\n",
      "2018-10-16 23:58:39,844 - nn-real-hvd - INFO -    739     1 94287.8     0.0   0.002 0.10000\n",
      "2018-10-16 23:58:39,900 - nn-real-hvd - INFO -    740     1 81596.9     0.1   0.002 0.10000\n",
      "2018-10-16 23:58:39,900 - nn-real-hvd - INFO -    740     1 81596.9     0.1   0.002 0.10000\n",
      "2018-10-16 23:58:39,950 - nn-real-hvd - INFO -    741     1 92324.4     0.0   0.002 0.10000\n",
      "2018-10-16 23:58:39,950 - nn-real-hvd - INFO -    741     1 92324.4     0.0   0.002 0.10000\n",
      "2018-10-16 23:58:39,998 - nn-real-hvd - INFO -    742     1 94953.5     0.0   0.002 0.10000\n",
      "2018-10-16 23:58:39,998 - nn-real-hvd - INFO -    742     1 94953.5     0.0   0.002 0.10000\n"
     ]
    },
    {
     "name": "stdout",
     "output_type": "stream",
     "text": [
      "  random elements:  0:00:00.003697\n",
      "Invalid Range: could not broadcast input array from shape (2107,257) into shape (2107,258)\n",
      "Time for Getting  0  random elements:  0:00:00.004132\n",
      "Invalid Range: could not broadcast input array from shape (2129,257) into shape (2129,258)\n",
      "Time for Getting  0  random elements:  0:00:00.004014\n",
      "Invalid Range: could not broadcast input array from shape (2094,257) into shape (2094,258)\n",
      "Time for Getting  0  random elements:  0:00:00.004410\n",
      "Invalid Range: could not broadcast input array from shape (2142,257) into shape (2142,258)\n"
     ]
    },
    {
     "name": "stderr",
     "output_type": "stream",
     "text": [
      "2018-10-16 23:58:40,048 - nn-real-hvd - INFO -    743     1 91448.7     0.0   0.002 0.10000\n",
      "2018-10-16 23:58:40,048 - nn-real-hvd - INFO -    743     1 91448.7     0.0   0.002 0.10000\n",
      "2018-10-16 23:58:40,096 - nn-real-hvd - INFO -    744     1 97191.5     0.0   0.002 0.10000\n",
      "2018-10-16 23:58:40,096 - nn-real-hvd - INFO -    744     1 97191.5     0.0   0.002 0.10000\n",
      "2018-10-16 23:58:40,144 - nn-real-hvd - INFO -    745     1 93682.9     0.0   0.002 0.10000\n",
      "2018-10-16 23:58:40,144 - nn-real-hvd - INFO -    745     1 93682.9     0.0   0.002 0.10000\n",
      "2018-10-16 23:58:40,193 - nn-real-hvd - INFO -    746     1 95712.5     0.0   0.002 0.10000\n",
      "2018-10-16 23:58:40,193 - nn-real-hvd - INFO -    746     1 95712.5     0.0   0.002 0.10000\n"
     ]
    },
    {
     "name": "stdout",
     "output_type": "stream",
     "text": [
      "Time for Getting  0  random elements:  0:00:00.004284\n",
      "Invalid Range: could not broadcast input array from shape (2062,257) into shape (2062,258)\n",
      "Time for Getting  0  random elements:  0:00:00.004528\n",
      "Invalid Range: could not broadcast input array from shape (2103,257) into shape (2103,258)\n",
      "Time for Getting  0  random elements:  0:00:00.004794\n",
      "Invalid Range: could not broadcast input array from shape (2097,257) into shape (2097,258)\n",
      "Time for Getting  0  random elements:  0:00:00.004411\n",
      "Invalid Range: could not broadcast input array from shape (2165,257) into shape (2165,258)\n",
      "Time for Getting  0  random elements:  0:00:00.004493\n"
     ]
    },
    {
     "name": "stderr",
     "output_type": "stream",
     "text": [
      "2018-10-16 23:58:40,241 - nn-real-hvd - INFO -    747     1 95722.3     0.0   0.002 0.10000\n",
      "2018-10-16 23:58:40,241 - nn-real-hvd - INFO -    747     1 95722.3     0.0   0.002 0.10000\n",
      "2018-10-16 23:58:40,291 - nn-real-hvd - INFO -    748     1 92257.4     0.0   0.002 0.10000\n",
      "2018-10-16 23:58:40,291 - nn-real-hvd - INFO -    748     1 92257.4     0.0   0.002 0.10000\n",
      "2018-10-16 23:58:40,342 - nn-real-hvd - INFO -    749     1 90094.3     0.0   0.002 0.10000\n",
      "2018-10-16 23:58:40,342 - nn-real-hvd - INFO -    749     1 90094.3     0.0   0.002 0.10000\n",
      "2018-10-16 23:58:40,401 - nn-real-hvd - INFO -    750     1 77386.0     0.1   0.002 0.10000\n",
      "2018-10-16 23:58:40,401 - nn-real-hvd - INFO -    750     1 77386.0     0.1   0.002 0.10000\n",
      "2018-10-16 23:58:40,447 - nn-real-hvd - INFO -    751     1 99492.3     0.0   0.002 0.10000\n",
      "2018-10-16 23:58:40,447 - nn-real-hvd - INFO -    751     1 99492.3     0.0   0.002 0.10000\n"
     ]
    },
    {
     "name": "stdout",
     "output_type": "stream",
     "text": [
      "Invalid Range: could not broadcast input array from shape (2088,257) into shape (2088,258)\n",
      "Time for Getting  0  random elements:  0:00:00.004047\n",
      "Invalid Range: could not broadcast input array from shape (2115,257) into shape (2115,258)\n",
      "Time for Getting  0  random elements:  0:00:00.004545\n",
      "Invalid Range: could not broadcast input array from shape (2103,257) into shape (2103,258)\n",
      "Time for Getting  0  random elements:  0:00:00.003917\n",
      "Invalid Range: could not broadcast input array from shape (2122,257) into shape (2122,258)\n",
      "Time for Getting  0  random elements:  0:00:00.004016\n"
     ]
    },
    {
     "name": "stderr",
     "output_type": "stream",
     "text": [
      "2018-10-16 23:58:40,494 - nn-real-hvd - INFO -    752     1 97431.9     0.0   0.002 0.10000\n",
      "2018-10-16 23:58:40,494 - nn-real-hvd - INFO -    752     1 97431.9     0.0   0.002 0.10000\n",
      "2018-10-16 23:58:40,541 - nn-real-hvd - INFO -    753     1 98298.8     0.0   0.002 0.10000\n",
      "2018-10-16 23:58:40,541 - nn-real-hvd - INFO -    753     1 98298.8     0.0   0.002 0.10000\n",
      "2018-10-16 23:58:40,591 - nn-real-hvd - INFO -    754     1 90980.3     0.0   0.002 0.10000\n",
      "2018-10-16 23:58:40,591 - nn-real-hvd - INFO -    754     1 90980.3     0.0   0.002 0.10000\n",
      "2018-10-16 23:58:40,639 - nn-real-hvd - INFO -    755     1 96077.1     0.0   0.002 0.10000\n",
      "2018-10-16 23:58:40,639 - nn-real-hvd - INFO -    755     1 96077.1     0.0   0.002 0.10000\n"
     ]
    },
    {
     "name": "stdout",
     "output_type": "stream",
     "text": [
      "Invalid Range: could not broadcast input array from shape (2154,257) into shape (2154,258)\n",
      "Time for Getting  0  random elements:  0:00:00.005045\n",
      "Invalid Range: could not broadcast input array from shape (2105,257) into shape (2105,258)\n",
      "Time for Getting  0  random elements:  0:00:00.004095\n",
      "Invalid Range: could not broadcast input array from shape (2078,257) into shape (2078,258)\n",
      "Time for Getting  0  random elements:  0:00:00.004396\n",
      "Invalid Range: could not broadcast input array from shape (2096,257) into shape (2096,258)\n",
      "Time for Getting  0  random elements:  0:00:00.003880\n",
      "Invalid Range: could not broadcast input array from shape (2217,257) into shape (2217,258)\n",
      "Time for Getting  0  random elements:  0:00:00.004175\n"
     ]
    },
    {
     "name": "stderr",
     "output_type": "stream",
     "text": [
      "2018-10-16 23:58:40,690 - nn-real-hvd - INFO -    756     1 89237.9     0.0   0.002 0.10000\n",
      "2018-10-16 23:58:40,690 - nn-real-hvd - INFO -    756     1 89237.9     0.0   0.002 0.10000\n",
      "2018-10-16 23:58:40,735 - nn-real-hvd - INFO -    757     1 101018.3     0.0   0.002 0.10000\n",
      "2018-10-16 23:58:40,735 - nn-real-hvd - INFO -    757     1 101018.3     0.0   0.002 0.10000\n",
      "2018-10-16 23:58:40,781 - nn-real-hvd - INFO -    758     1 99204.1     0.0   0.002 0.10000\n",
      "2018-10-16 23:58:40,781 - nn-real-hvd - INFO -    758     1 99204.1     0.0   0.002 0.10000\n",
      "2018-10-16 23:58:40,828 - nn-real-hvd - INFO -    759     1 98455.8     0.0   0.002 0.10000\n",
      "2018-10-16 23:58:40,828 - nn-real-hvd - INFO -    759     1 98455.8     0.0   0.002 0.10000\n",
      "2018-10-16 23:58:40,876 - nn-real-hvd - INFO -    760     1 96163.7     0.0   0.002 0.10000\n",
      "2018-10-16 23:58:40,876 - nn-real-hvd - INFO -    760     1 96163.7     0.0   0.002 0.10000\n"
     ]
    },
    {
     "name": "stdout",
     "output_type": "stream",
     "text": [
      "Invalid Range: could not broadcast input array from shape (2142,257) into shape (2142,258)\n",
      "Time for Getting  0  random elements:  0:00:00.003895\n",
      "Invalid Range: could not broadcast input array from shape (2146,257) into shape (2146,258)\n",
      "Time for Getting  0  random elements:  0:00:00.003837\n",
      "Invalid Range: could not broadcast input array from shape (2147,257) into shape (2147,258)\n",
      "Time for Getting  0  random elements:  0:00:00.003773\n",
      "Invalid Range: could not broadcast input array from shape (2172,257) into shape (2172,258)\n",
      "Time for Getting  0  random elements:  0:00:00.003717\n",
      "Invalid Range: could not broadcast input array from shape (2156,257) into shape (2156,258)\n",
      "Time for Getting  0  random elements:  0:00:00.004058\n"
     ]
    },
    {
     "name": "stderr",
     "output_type": "stream",
     "text": [
      "2018-10-16 23:58:40,925 - nn-real-hvd - INFO -    761     1 92288.6     0.0   0.002 0.10000\n",
      "2018-10-16 23:58:40,925 - nn-real-hvd - INFO -    761     1 92288.6     0.0   0.002 0.10000\n",
      "2018-10-16 23:58:40,974 - nn-real-hvd - INFO -    762     1 93042.7     0.0   0.002 0.10000\n",
      "2018-10-16 23:58:40,974 - nn-real-hvd - INFO -    762     1 93042.7     0.0   0.002 0.10000\n",
      "2018-10-16 23:58:41,023 - nn-real-hvd - INFO -    763     1 92794.8     0.0   0.002 0.10000\n",
      "2018-10-16 23:58:41,023 - nn-real-hvd - INFO -    763     1 92794.8     0.0   0.002 0.10000\n",
      "2018-10-16 23:58:41,071 - nn-real-hvd - INFO -    764     1 94508.6     0.0   0.002 0.10000\n",
      "2018-10-16 23:58:41,071 - nn-real-hvd - INFO -    764     1 94508.6     0.0   0.002 0.10000\n",
      "2018-10-16 23:58:41,129 - nn-real-hvd - INFO -    765     1 78620.9     0.1   0.002 0.10000\n",
      "2018-10-16 23:58:41,129 - nn-real-hvd - INFO -    765     1 78620.9     0.1   0.002 0.10000\n"
     ]
    },
    {
     "name": "stdout",
     "output_type": "stream",
     "text": [
      "Invalid Range: could not broadcast input array from shape (2111,257) into shape (2111,258)\n",
      "Time for Getting  0  random elements:  0:00:00.004046\n",
      "Invalid Range: could not broadcast input array from shape (2137,257) into shape (2137,258)\n",
      "Time for Getting  0  random elements:  0:00:00.004069\n",
      "Invalid Range: could not broadcast input array from shape (2086,257) into shape (2086,258)\n",
      "Time for Getting  0  random elements:  0:00:00.004090\n",
      "Invalid Range: could not broadcast input array from shape (2125,257) into shape (2125,258)\n",
      "Time for Getting  0  random elements:  0:00:00.004198\n"
     ]
    },
    {
     "name": "stderr",
     "output_type": "stream",
     "text": [
      "2018-10-16 23:58:41,180 - nn-real-hvd - INFO -    766     1 89837.0     0.0   0.002 0.10000\n",
      "2018-10-16 23:58:41,180 - nn-real-hvd - INFO -    766     1 89837.0     0.0   0.002 0.10000\n",
      "2018-10-16 23:58:41,228 - nn-real-hvd - INFO -    767     1 95748.0     0.0   0.002 0.10000\n",
      "2018-10-16 23:58:41,228 - nn-real-hvd - INFO -    767     1 95748.0     0.0   0.002 0.10000\n",
      "2018-10-16 23:58:41,276 - nn-real-hvd - INFO -    768     1 95969.3     0.0   0.002 0.10000\n",
      "2018-10-16 23:58:41,276 - nn-real-hvd - INFO -    768     1 95969.3     0.0   0.002 0.10000\n",
      "2018-10-16 23:58:41,325 - nn-real-hvd - INFO -    769     1 94809.9     0.0   0.002 0.10000\n",
      "2018-10-16 23:58:41,325 - nn-real-hvd - INFO -    769     1 94809.9     0.0   0.002 0.10000\n"
     ]
    },
    {
     "name": "stdout",
     "output_type": "stream",
     "text": [
      "Invalid Range: could not broadcast input array from shape (2197,257) into shape (2197,258)\n",
      "Time for Getting  0  random elements:  0:00:00.005298\n",
      "Invalid Range: could not broadcast input array from shape (2150,257) into shape (2150,258)\n",
      "Time for Getting  0  random elements:  0:00:00.003919\n",
      "Invalid Range: could not broadcast input array from shape (2176,257) into shape (2176,258)\n",
      "Time for Getting  0  random elements:  0:00:00.004489\n",
      "Invalid Range: could not broadcast input array from shape (2107,257) into shape (2107,258)\n",
      "Time for Getting  0  random elements:  0:00:00.004001\n",
      "Invalid Range: could not broadcast input array from shape (2185,257) into shape (2185,258)\n",
      "Time for Getting  0  random elements:  0:00:00.004127\n"
     ]
    },
    {
     "name": "stderr",
     "output_type": "stream",
     "text": [
      "2018-10-16 23:58:41,374 - nn-real-hvd - INFO -    770     1 92674.3     0.0   0.002 0.10000\n",
      "2018-10-16 23:58:41,374 - nn-real-hvd - INFO -    770     1 92674.3     0.0   0.002 0.10000\n",
      "2018-10-16 23:58:41,423 - nn-real-hvd - INFO -    771     1 95256.1     0.0   0.002 0.10000\n",
      "2018-10-16 23:58:41,423 - nn-real-hvd - INFO -    771     1 95256.1     0.0   0.002 0.10000\n",
      "2018-10-16 23:58:41,473 - nn-real-hvd - INFO -    772     1 91548.4     0.0   0.002 0.10000\n",
      "2018-10-16 23:58:41,473 - nn-real-hvd - INFO -    772     1 91548.4     0.0   0.002 0.10000\n",
      "2018-10-16 23:58:41,521 - nn-real-hvd - INFO -    773     1 95418.7     0.0   0.002 0.10000\n",
      "2018-10-16 23:58:41,521 - nn-real-hvd - INFO -    773     1 95418.7     0.0   0.002 0.10000\n",
      "2018-10-16 23:58:41,570 - nn-real-hvd - INFO -    774     1 93118.4     0.0   0.002 0.10000\n",
      "2018-10-16 23:58:41,570 - nn-real-hvd - INFO -    774     1 93118.4     0.0   0.002 0.10000\n"
     ]
    },
    {
     "name": "stdout",
     "output_type": "stream",
     "text": [
      "Invalid Range: could not broadcast input array from shape (2113,257) into shape (2113,258)\n",
      "Time for Getting  0  random elements:  0:00:00.004110\n",
      "Invalid Range: could not broadcast input array from shape (2137,257) into shape (2137,258)\n",
      "Time for Getting  0  random elements:  0:00:00.003979\n",
      "Invalid Range: could not broadcast input array from shape (2165,257) into shape (2165,258)\n",
      "Time for Getting  0  random elements:  0:00:00.004271\n",
      "Invalid Range: could not broadcast input array from shape (2165,257) into shape (2165,258)\n",
      "Time for Getting  0  random elements:  0:00:00.004349\n",
      "Invalid Range: could not broadcast input array from shape (2191,257) into shape (2191,258)\n",
      "Time for Getting  0  random elements:  0:00:00.003933\n"
     ]
    },
    {
     "name": "stderr",
     "output_type": "stream",
     "text": [
      "2018-10-16 23:58:41,618 - nn-real-hvd - INFO -    775     1 94705.4     0.0   0.002 0.10000\n",
      "2018-10-16 23:58:41,618 - nn-real-hvd - INFO -    775     1 94705.4     0.0   0.002 0.10000\n",
      "2018-10-16 23:58:41,665 - nn-real-hvd - INFO -    776     1 96260.5     0.0   0.002 0.10000\n",
      "2018-10-16 23:58:41,665 - nn-real-hvd - INFO -    776     1 96260.5     0.0   0.002 0.10000\n",
      "2018-10-16 23:58:41,714 - nn-real-hvd - INFO -    777     1 97074.1     0.0   0.002 0.10000\n",
      "2018-10-16 23:58:41,714 - nn-real-hvd - INFO -    777     1 97074.1     0.0   0.002 0.10000\n",
      "2018-10-16 23:58:41,765 - nn-real-hvd - INFO -    778     1 89555.3     0.0   0.002 0.10000\n",
      "2018-10-16 23:58:41,765 - nn-real-hvd - INFO -    778     1 89555.3     0.0   0.002 0.10000\n",
      "2018-10-16 23:58:41,818 - nn-real-hvd - INFO -    779     1 86428.3     0.1   0.002 0.10000\n",
      "2018-10-16 23:58:41,818 - nn-real-hvd - INFO -    779     1 86428.3     0.1   0.002 0.10000\n"
     ]
    },
    {
     "name": "stdout",
     "output_type": "stream",
     "text": [
      "Invalid Range: could not broadcast input array from shape (2117,257) into shape (2117,258)\n",
      "Time for Getting  0  random elements:  0:00:00.003944\n",
      "Invalid Range: could not broadcast input array from shape (2125,257) into shape (2125,258)\n",
      "Time for Getting  0  random elements:  0:00:00.003742\n",
      "Invalid Range: could not broadcast input array from shape (2150,257) into shape (2150,258)\n",
      "Time for Getting  0  random elements:  0:00:00.004643\n",
      "Invalid Range: could not broadcast input array from shape (2163,257) into shape (2163,258)\n",
      "Time for Getting  0  random elements:  0:00:00.004454\n",
      "Invalid Range: could not broadcast input array from shape (2157,257) into shape (2157,258)\n"
     ]
    },
    {
     "name": "stderr",
     "output_type": "stream",
     "text": [
      "2018-10-16 23:58:41,866 - nn-real-hvd - INFO -    780     1 95767.8     0.0   0.002 0.10000\n",
      "2018-10-16 23:58:41,866 - nn-real-hvd - INFO -    780     1 95767.8     0.0   0.002 0.10000\n",
      "2018-10-16 23:58:41,913 - nn-real-hvd - INFO -    781     1 97483.0     0.0   0.002 0.10000\n",
      "2018-10-16 23:58:41,913 - nn-real-hvd - INFO -    781     1 97483.0     0.0   0.002 0.10000\n",
      "2018-10-16 23:58:41,960 - nn-real-hvd - INFO -    782     1 96556.0     0.0   0.002 0.10000\n",
      "2018-10-16 23:58:41,960 - nn-real-hvd - INFO -    782     1 96556.0     0.0   0.002 0.10000\n",
      "2018-10-16 23:58:42,018 - nn-real-hvd - INFO -    783     1 78223.6     0.1   0.002 0.10000\n",
      "2018-10-16 23:58:42,018 - nn-real-hvd - INFO -    783     1 78223.6     0.1   0.002 0.10000\n"
     ]
    },
    {
     "name": "stdout",
     "output_type": "stream",
     "text": [
      "Time for Getting  0  random elements:  0:00:00.004733\n",
      "Invalid Range: could not broadcast input array from shape (2127,257) into shape (2127,258)\n",
      "Time for Getting  0  random elements:  0:00:00.003871\n",
      "Invalid Range: could not broadcast input array from shape (2117,257) into shape (2117,258)\n",
      "Time for Getting  0  random elements:  0:00:00.004404\n",
      "Invalid Range: could not broadcast input array from shape (2175,257) into shape (2175,258)\n",
      "Time for Getting  0  random elements:  0:00:00.004469\n",
      "Invalid Range: could not broadcast input array from shape (2146,257) into shape (2146,258)\n"
     ]
    },
    {
     "name": "stderr",
     "output_type": "stream",
     "text": [
      "2018-10-16 23:58:42,067 - nn-real-hvd - INFO -    784     1 94567.9     0.0   0.002 0.10000\n",
      "2018-10-16 23:58:42,067 - nn-real-hvd - INFO -    784     1 94567.9     0.0   0.002 0.10000\n",
      "2018-10-16 23:58:42,114 - nn-real-hvd - INFO -    785     1 97667.2     0.0   0.002 0.10000\n",
      "2018-10-16 23:58:42,114 - nn-real-hvd - INFO -    785     1 97667.2     0.0   0.002 0.10000\n",
      "2018-10-16 23:58:42,162 - nn-real-hvd - INFO -    786     1 97635.9     0.0   0.002 0.10000\n",
      "2018-10-16 23:58:42,162 - nn-real-hvd - INFO -    786     1 97635.9     0.0   0.002 0.10000\n",
      "2018-10-16 23:58:42,210 - nn-real-hvd - INFO -    787     1 94765.8     0.0   0.002 0.10000\n",
      "2018-10-16 23:58:42,210 - nn-real-hvd - INFO -    787     1 94765.8     0.0   0.002 0.10000\n"
     ]
    },
    {
     "name": "stdout",
     "output_type": "stream",
     "text": [
      "Time for Getting  0  random elements:  0:00:00.004082\n",
      "Invalid Range: could not broadcast input array from shape (2111,257) into shape (2111,258)\n",
      "Time for Getting  0  random elements:  0:00:00.004124\n",
      "Invalid Range: could not broadcast input array from shape (2149,257) into shape (2149,258)\n",
      "Time for Getting  0  random elements:  0:00:00.004322\n",
      "Invalid Range: could not broadcast input array from shape (2156,257) into shape (2156,258)\n",
      "Time for Getting  0  random elements:  0:00:00.004448\n",
      "Invalid Range: could not broadcast input array from shape (2136,257) into shape (2136,258)\n",
      "Time for Getting  0  random elements:  0:00:00.003970\n"
     ]
    },
    {
     "name": "stderr",
     "output_type": "stream",
     "text": [
      "2018-10-16 23:58:42,260 - nn-real-hvd - INFO -    788     1 92899.3     0.0   0.002 0.10000\n",
      "2018-10-16 23:58:42,260 - nn-real-hvd - INFO -    788     1 92899.3     0.0   0.002 0.10000\n",
      "2018-10-16 23:58:42,308 - nn-real-hvd - INFO -    789     1 95122.3     0.0   0.002 0.10000\n",
      "2018-10-16 23:58:42,308 - nn-real-hvd - INFO -    789     1 95122.3     0.0   0.002 0.10000\n",
      "2018-10-16 23:58:42,358 - nn-real-hvd - INFO -    790     1 93258.7     0.0   0.002 0.10000\n",
      "2018-10-16 23:58:42,358 - nn-real-hvd - INFO -    790     1 93258.7     0.0   0.002 0.10000\n",
      "2018-10-16 23:58:42,406 - nn-real-hvd - INFO -    791     1 95551.3     0.0   0.002 0.10000\n",
      "2018-10-16 23:58:42,406 - nn-real-hvd - INFO -    791     1 95551.3     0.0   0.002 0.10000\n",
      "2018-10-16 23:58:42,454 - nn-real-hvd - INFO -    792     1 95351.5     0.0   0.002 0.10000\n",
      "2018-10-16 23:58:42,454 - nn-real-hvd - INFO -    792     1 95351.5     0.0   0.002 0.10000\n"
     ]
    },
    {
     "name": "stdout",
     "output_type": "stream",
     "text": [
      "Invalid Range: could not broadcast input array from shape (2116,257) into shape (2116,258)\n",
      "Time for Getting  0  random elements:  0:00:00.004222\n",
      "Invalid Range: could not broadcast input array from shape (2178,257) into shape (2178,258)\n",
      "Time for Getting  0  random elements:  0:00:00.004485\n",
      "Invalid Range: could not broadcast input array from shape (2196,257) into shape (2196,258)\n",
      "Time for Getting  0  random elements:  0:00:00.004661\n",
      "Invalid Range: could not broadcast input array from shape (2149,257) into shape (2149,258)\n",
      "Time for Getting  0  random elements:  0:00:00.004334\n",
      "Invalid Range: could not broadcast input array from shape (2107,257) into shape (2107,258)\n",
      "Time for Getting  0  random elements:  0:00:00.004402\n"
     ]
    },
    {
     "name": "stderr",
     "output_type": "stream",
     "text": [
      "2018-10-16 23:58:42,502 - nn-real-hvd - INFO -    793     1 95511.5     0.0   0.002 0.10000\n",
      "2018-10-16 23:58:42,502 - nn-real-hvd - INFO -    793     1 95511.5     0.0   0.002 0.10000\n",
      "2018-10-16 23:58:42,549 - nn-real-hvd - INFO -    794     1 97470.7     0.0   0.002 0.10000\n",
      "2018-10-16 23:58:42,549 - nn-real-hvd - INFO -    794     1 97470.7     0.0   0.002 0.10000\n",
      "2018-10-16 23:58:42,597 - nn-real-hvd - INFO -    795     1 95300.1     0.0   0.002 0.10000\n",
      "2018-10-16 23:58:42,597 - nn-real-hvd - INFO -    795     1 95300.1     0.0   0.002 0.10000\n",
      "2018-10-16 23:58:42,645 - nn-real-hvd - INFO -    796     1 96007.1     0.0   0.002 0.10000\n",
      "2018-10-16 23:58:42,645 - nn-real-hvd - INFO -    796     1 96007.1     0.0   0.002 0.10000\n",
      "2018-10-16 23:58:42,693 - nn-real-hvd - INFO -    797     1 95754.4     0.0   0.002 0.10000\n",
      "2018-10-16 23:58:42,693 - nn-real-hvd - INFO -    797     1 95754.4     0.0   0.002 0.10000\n"
     ]
    },
    {
     "name": "stdout",
     "output_type": "stream",
     "text": [
      "Invalid Range: could not broadcast input array from shape (2115,257) into shape (2115,258)\n",
      "Time for Getting  0  random elements:  0:00:00.003997\n",
      "Invalid Range: could not broadcast input array from shape (2153,257) into shape (2153,258)\n",
      "Time for Getting  0  random elements:  0:00:00.003987\n",
      "Invalid Range: could not broadcast input array from shape (2116,257) into shape (2116,258)\n",
      "Time for Getting  0  random elements:  0:00:00.003957\n",
      "Invalid Range: could not broadcast input array from shape (2126,257) into shape (2126,258)\n",
      "Time for Getting  0  random elements:  0:00:00.004188\n",
      "Invalid Range: could not broadcast input array from shape (2109,257) into shape (2109,258)\n",
      "Time for Getting  0  random elements:  0:00:00.003880\n"
     ]
    },
    {
     "name": "stderr",
     "output_type": "stream",
     "text": [
      "2018-10-16 23:58:42,740 - nn-real-hvd - INFO -    798     1 97972.4     0.0   0.002 0.10000\n",
      "2018-10-16 23:58:42,740 - nn-real-hvd - INFO -    798     1 97972.4     0.0   0.002 0.10000\n",
      "2018-10-16 23:58:42,789 - nn-real-hvd - INFO -    799     1 92502.0     0.0   0.002 0.10000\n",
      "2018-10-16 23:58:42,789 - nn-real-hvd - INFO -    799     1 92502.0     0.0   0.002 0.10000\n",
      "2018-10-16 23:58:42,838 - nn-real-hvd - INFO -    800     1 92222.1     0.0   0.002 0.10000\n",
      "2018-10-16 23:58:42,838 - nn-real-hvd - INFO -    800     1 92222.1     0.0   0.002 0.10000\n",
      "2018-10-16 23:58:42,887 - nn-real-hvd - INFO -    801     1 93331.9     0.0   0.002 0.10000\n",
      "2018-10-16 23:58:42,887 - nn-real-hvd - INFO -    801     1 93331.9     0.0   0.002 0.10000\n",
      "2018-10-16 23:58:42,934 - nn-real-hvd - INFO -    802     1 96961.5     0.0   0.002 0.10000\n",
      "2018-10-16 23:58:42,934 - nn-real-hvd - INFO -    802     1 96961.5     0.0   0.002 0.10000\n"
     ]
    },
    {
     "name": "stdout",
     "output_type": "stream",
     "text": [
      "Invalid Range: could not broadcast input array from shape (2124,257) into shape (2124,258)\n",
      "Time for Getting  0  random elements:  0:00:00.003889\n",
      "Invalid Range: could not broadcast input array from shape (2140,257) into shape (2140,258)\n",
      "Time for Getting  0  random elements:  0:00:00.004025\n",
      "Invalid Range: could not broadcast input array from shape (2161,257) into shape (2161,258)\n",
      "Time for Getting  0  random elements:  0:00:00.004044\n",
      "Invalid Range: could not broadcast input array from shape (2154,257) into shape (2154,258)\n",
      "Time for Getting  0  random elements:  0:00:00.004650\n",
      "Invalid Range: could not broadcast input array from shape (2146,257) into shape (2146,258)\n",
      "Time for Getting  0  random elements:  0:00:00.004415\n"
     ]
    },
    {
     "name": "stderr",
     "output_type": "stream",
     "text": [
      "2018-10-16 23:58:42,981 - nn-real-hvd - INFO -    803     1 96862.9     0.0   0.002 0.10000\n",
      "2018-10-16 23:58:42,981 - nn-real-hvd - INFO -    803     1 96862.9     0.0   0.002 0.10000\n",
      "2018-10-16 23:58:43,030 - nn-real-hvd - INFO -    804     1 93734.4     0.0   0.002 0.10000\n",
      "2018-10-16 23:58:43,030 - nn-real-hvd - INFO -    804     1 93734.4     0.0   0.002 0.10000\n",
      "2018-10-16 23:58:43,081 - nn-real-hvd - INFO -    805     1 89005.6     0.0   0.002 0.10000\n",
      "2018-10-16 23:58:43,081 - nn-real-hvd - INFO -    805     1 89005.6     0.0   0.002 0.10000\n",
      "2018-10-16 23:58:43,131 - nn-real-hvd - INFO -    806     1 91996.8     0.0   0.002 0.10000\n",
      "2018-10-16 23:58:43,131 - nn-real-hvd - INFO -    806     1 91996.8     0.0   0.002 0.10000\n",
      "2018-10-16 23:58:43,180 - nn-real-hvd - INFO -    807     1 93612.0     0.0   0.002 0.10000\n",
      "2018-10-16 23:58:43,180 - nn-real-hvd - INFO -    807     1 93612.0     0.0   0.002 0.10000\n"
     ]
    },
    {
     "name": "stdout",
     "output_type": "stream",
     "text": [
      "Invalid Range: could not broadcast input array from shape (2151,257) into shape (2151,258)\n",
      "Time for Getting  0  random elements:  0:00:00.003869\n",
      "Invalid Range: could not broadcast input array from shape (2162,257) into shape (2162,258)\n",
      "Time for Getting  0  random elements:  0:00:00.004133\n",
      "Invalid Range: could not broadcast input array from shape (2165,257) into shape (2165,258)\n",
      "Time for Getting  0  random elements:  0:00:00.004016\n",
      "Invalid Range: could not broadcast input array from shape (2192,257) into shape (2192,258)\n",
      "Time for Getting  0  random elements:  0:00:00.004139\n",
      "Invalid Range: could not broadcast input array from shape (2124,257) into shape (2124,258)\n"
     ]
    },
    {
     "name": "stderr",
     "output_type": "stream",
     "text": [
      "2018-10-16 23:58:43,231 - nn-real-hvd - INFO -    808     1 89266.7     0.0   0.002 0.10000\n",
      "2018-10-16 23:58:43,231 - nn-real-hvd - INFO -    808     1 89266.7     0.0   0.002 0.10000\n",
      "2018-10-16 23:58:43,282 - nn-real-hvd - INFO -    809     1 89051.7     0.0   0.002 0.10000\n",
      "2018-10-16 23:58:43,282 - nn-real-hvd - INFO -    809     1 89051.7     0.0   0.002 0.10000\n",
      "2018-10-16 23:58:43,331 - nn-real-hvd - INFO -    810     1 96532.9     0.0   0.002 0.10000\n",
      "2018-10-16 23:58:43,331 - nn-real-hvd - INFO -    810     1 96532.9     0.0   0.002 0.10000\n",
      "2018-10-16 23:58:43,381 - nn-real-hvd - INFO -    811     1 90976.3     0.0   0.002 0.10000\n",
      "2018-10-16 23:58:43,381 - nn-real-hvd - INFO -    811     1 90976.3     0.0   0.002 0.10000\n"
     ]
    },
    {
     "name": "stdout",
     "output_type": "stream",
     "text": [
      "Time for Getting  0  random elements:  0:00:00.004867\n",
      "Invalid Range: could not broadcast input array from shape (2162,257) into shape (2162,258)\n",
      "Time for Getting  0  random elements:  0:00:00.004385\n",
      "Invalid Range: could not broadcast input array from shape (2158,257) into shape (2158,258)\n",
      "Time for Getting  0  random elements:  0:00:00.004108\n",
      "Invalid Range: could not broadcast input array from shape (2124,257) into shape (2124,258)\n",
      "Time for Getting  0  random elements:  0:00:00.004447\n",
      "Invalid Range: could not broadcast input array from shape (2118,257) into shape (2118,258)\n",
      "Time for Getting  0  random elements:  0:00:00.003916\n"
     ]
    },
    {
     "name": "stderr",
     "output_type": "stream",
     "text": [
      "2018-10-16 23:58:43,431 - nn-real-hvd - INFO -    812     1 90857.8     0.0   0.002 0.10000\n",
      "2018-10-16 23:58:43,431 - nn-real-hvd - INFO -    812     1 90857.8     0.0   0.002 0.10000\n",
      "2018-10-16 23:58:43,480 - nn-real-hvd - INFO -    813     1 93777.5     0.0   0.002 0.10000\n",
      "2018-10-16 23:58:43,480 - nn-real-hvd - INFO -    813     1 93777.5     0.0   0.002 0.10000\n",
      "2018-10-16 23:58:43,529 - nn-real-hvd - INFO -    814     1 94874.8     0.0   0.002 0.10000\n",
      "2018-10-16 23:58:43,529 - nn-real-hvd - INFO -    814     1 94874.8     0.0   0.002 0.10000\n",
      "2018-10-16 23:58:43,577 - nn-real-hvd - INFO -    815     1 95051.7     0.0   0.002 0.10000\n",
      "2018-10-16 23:58:43,577 - nn-real-hvd - INFO -    815     1 95051.7     0.0   0.002 0.10000\n",
      "2018-10-16 23:58:43,626 - nn-real-hvd - INFO -    816     1 93904.2     0.0   0.002 0.10000\n",
      "2018-10-16 23:58:43,626 - nn-real-hvd - INFO -    816     1 93904.2     0.0   0.002 0.10000\n"
     ]
    },
    {
     "name": "stdout",
     "output_type": "stream",
     "text": [
      "Invalid Range: could not broadcast input array from shape (2155,257) into shape (2155,258)\n",
      "Time for Getting  0  random elements:  0:00:00.004257\n",
      "Invalid Range: could not broadcast input array from shape (2072,257) into shape (2072,258)\n",
      "Time for Getting  0  random elements:  0:00:00.004627\n",
      "Invalid Range: could not broadcast input array from shape (2163,257) into shape (2163,258)\n",
      "Time for Getting  0  random elements:  0:00:00.004602\n",
      "Invalid Range: could not broadcast input array from shape (2095,257) into shape (2095,258)\n",
      "Time for Getting  0  random elements:  0:00:00.004000\n",
      "Invalid Range: could not broadcast input array from shape (2141,257) into shape (2141,258)\n",
      "Time for Getting  0  random elements:  0:00:00.004128\n"
     ]
    },
    {
     "name": "stderr",
     "output_type": "stream",
     "text": [
      "2018-10-16 23:58:43,672 - nn-real-hvd - INFO -    817     1 98578.6     0.0   0.002 0.10000\n",
      "2018-10-16 23:58:43,672 - nn-real-hvd - INFO -    817     1 98578.6     0.0   0.002 0.10000\n",
      "2018-10-16 23:58:43,723 - nn-real-hvd - INFO -    818     1 90454.4     0.0   0.002 0.10000\n",
      "2018-10-16 23:58:43,723 - nn-real-hvd - INFO -    818     1 90454.4     0.0   0.002 0.10000\n",
      "2018-10-16 23:58:43,773 - nn-real-hvd - INFO -    819     1 91759.3     0.0   0.002 0.10000\n",
      "2018-10-16 23:58:43,773 - nn-real-hvd - INFO -    819     1 91759.3     0.0   0.002 0.10000\n",
      "2018-10-16 23:58:43,822 - nn-real-hvd - INFO -    820     1 92248.3     0.0   0.002 0.10000\n",
      "2018-10-16 23:58:43,822 - nn-real-hvd - INFO -    820     1 92248.3     0.0   0.002 0.10000\n",
      "2018-10-16 23:58:43,872 - nn-real-hvd - INFO -    821     1 92455.0     0.0   0.002 0.10000\n",
      "2018-10-16 23:58:43,872 - nn-real-hvd - INFO -    821     1 92455.0     0.0   0.002 0.10000\n"
     ]
    },
    {
     "name": "stdout",
     "output_type": "stream",
     "text": [
      "Invalid Range: could not broadcast input array from shape (2115,257) into shape (2115,258)\n",
      "Time for Getting  0  random elements:  0:00:00.004197\n",
      "Invalid Range: could not broadcast input array from shape (2145,257) into shape (2145,258)\n",
      "Time for Getting  0  random elements:  0:00:00.004198\n",
      "Invalid Range: could not broadcast input array from shape (2105,257) into shape (2105,258)\n",
      "Time for Getting  0  random elements:  0:00:00.004504\n",
      "Invalid Range: could not broadcast input array from shape (2128,257) into shape (2128,258)\n",
      "Time for Getting  0  random elements:  0:00:00.004561\n",
      "Invalid Range: could not broadcast input array from shape (2156,257) into shape (2156,258)\n"
     ]
    },
    {
     "name": "stderr",
     "output_type": "stream",
     "text": [
      "2018-10-16 23:58:43,919 - nn-real-hvd - INFO -    822     1 97331.2     0.0   0.002 0.10000\n",
      "2018-10-16 23:58:43,919 - nn-real-hvd - INFO -    822     1 97331.2     0.0   0.002 0.10000\n",
      "2018-10-16 23:58:43,966 - nn-real-hvd - INFO -    823     1 98355.1     0.0   0.002 0.10000\n",
      "2018-10-16 23:58:43,966 - nn-real-hvd - INFO -    823     1 98355.1     0.0   0.002 0.10000\n",
      "2018-10-16 23:58:44,013 - nn-real-hvd - INFO -    824     1 97081.2     0.0   0.002 0.10000\n",
      "2018-10-16 23:58:44,013 - nn-real-hvd - INFO -    824     1 97081.2     0.0   0.002 0.10000\n",
      "2018-10-16 23:58:44,062 - nn-real-hvd - INFO -    825     1 92717.4     0.0   0.002 0.10000\n",
      "2018-10-16 23:58:44,062 - nn-real-hvd - INFO -    825     1 92717.4     0.0   0.002 0.10000\n"
     ]
    },
    {
     "name": "stdout",
     "output_type": "stream",
     "text": [
      "Time for Getting  0  random elements:  0:00:00.004946\n",
      "Invalid Range: could not broadcast input array from shape (2079,257) into shape (2079,258)\n",
      "Time for Getting  0  random elements:  0:00:00.004020\n",
      "Invalid Range: could not broadcast input array from shape (2150,257) into shape (2150,258)\n",
      "Time for Getting  0  random elements:  0:00:00.004080\n",
      "Invalid Range: could not broadcast input array from shape (2163,257) into shape (2163,258)\n",
      "Time for Getting  0  random elements:  0:00:00.004380\n",
      "Invalid Range: could not broadcast input array from shape (2113,257) into shape (2113,258)\n",
      "Time for Getting  0  random elements:  0:00:00.003971\n"
     ]
    },
    {
     "name": "stderr",
     "output_type": "stream",
     "text": [
      "2018-10-16 23:58:44,113 - nn-real-hvd - INFO -    826     1 89295.5     0.0   0.002 0.10000\n",
      "2018-10-16 23:58:44,113 - nn-real-hvd - INFO -    826     1 89295.5     0.0   0.002 0.10000\n",
      "2018-10-16 23:58:44,163 - nn-real-hvd - INFO -    827     1 91698.1     0.0   0.002 0.10000\n",
      "2018-10-16 23:58:44,163 - nn-real-hvd - INFO -    827     1 91698.1     0.0   0.002 0.10000\n",
      "2018-10-16 23:58:44,214 - nn-real-hvd - INFO -    828     1 89759.3     0.0   0.002 0.10000\n",
      "2018-10-16 23:58:44,214 - nn-real-hvd - INFO -    828     1 89759.3     0.0   0.002 0.10000\n",
      "2018-10-16 23:58:44,263 - nn-real-hvd - INFO -    829     1 93349.3     0.0   0.002 0.10000\n",
      "2018-10-16 23:58:44,263 - nn-real-hvd - INFO -    829     1 93349.3     0.0   0.002 0.10000\n",
      "2018-10-16 23:58:44,314 - nn-real-hvd - INFO -    830     1 91025.3     0.0   0.002 0.10000\n",
      "2018-10-16 23:58:44,314 - nn-real-hvd - INFO -    830     1 91025.3     0.0   0.002 0.10000\n"
     ]
    },
    {
     "name": "stdout",
     "output_type": "stream",
     "text": [
      "Invalid Range: could not broadcast input array from shape (2123,257) into shape (2123,258)\n",
      "Time for Getting  0  random elements:  0:00:00.003953\n",
      "Invalid Range: could not broadcast input array from shape (2165,257) into shape (2165,258)\n",
      "Time for Getting  0  random elements:  0:00:00.003837\n",
      "Invalid Range: could not broadcast input array from shape (2127,257) into shape (2127,258)\n",
      "Time for Getting  0  random elements:  0:00:00.004419\n",
      "Invalid Range: could not broadcast input array from shape (2098,257) into shape (2098,258)\n",
      "Time for Getting  0  random elements:  0:00:00.004029\n"
     ]
    },
    {
     "name": "stderr",
     "output_type": "stream",
     "text": [
      "2018-10-16 23:58:44,364 - nn-real-hvd - INFO -    831     1 90966.5     0.0   0.002 0.10000\n",
      "2018-10-16 23:58:44,364 - nn-real-hvd - INFO -    831     1 90966.5     0.0   0.002 0.10000\n",
      "2018-10-16 23:58:44,413 - nn-real-hvd - INFO -    832     1 93243.3     0.0   0.002 0.10000\n",
      "2018-10-16 23:58:44,413 - nn-real-hvd - INFO -    832     1 93243.3     0.0   0.002 0.10000\n",
      "2018-10-16 23:58:44,462 - nn-real-hvd - INFO -    833     1 93681.9     0.0   0.002 0.10000\n",
      "2018-10-16 23:58:44,462 - nn-real-hvd - INFO -    833     1 93681.9     0.0   0.002 0.10000\n",
      "2018-10-16 23:58:44,512 - nn-real-hvd - INFO -    834     1 91352.0     0.0   0.002 0.10000\n",
      "2018-10-16 23:58:44,512 - nn-real-hvd - INFO -    834     1 91352.0     0.0   0.002 0.10000\n"
     ]
    },
    {
     "name": "stdout",
     "output_type": "stream",
     "text": [
      "Invalid Range: could not broadcast input array from shape (2130,257) into shape (2130,258)\n",
      "Time for Getting  0  random elements:  0:00:00.004752\n",
      "Invalid Range: could not broadcast input array from shape (2130,257) into shape (2130,258)\n",
      "Time for Getting  0  random elements:  0:00:00.004157\n",
      "Invalid Range: could not broadcast input array from shape (2115,257) into shape (2115,258)\n",
      "Time for Getting  0  random elements:  0:00:00.004387\n",
      "Invalid Range: could not broadcast input array from shape (2182,257) into shape (2182,258)\n",
      "Time for Getting  0  random elements:  0:00:00.004245\n",
      "Invalid Range: could not broadcast input array from shape (2193,257) into shape (2193,258)\n",
      "Time for Getting  0"
     ]
    },
    {
     "name": "stderr",
     "output_type": "stream",
     "text": [
      "2018-10-16 23:58:44,563 - nn-real-hvd - INFO -    835     1 91135.7     0.0   0.002 0.10000\n",
      "2018-10-16 23:58:44,563 - nn-real-hvd - INFO -    835     1 91135.7     0.0   0.002 0.10000\n",
      "2018-10-16 23:58:44,612 - nn-real-hvd - INFO -    836     1 93145.5     0.0   0.002 0.10000\n",
      "2018-10-16 23:58:44,612 - nn-real-hvd - INFO -    836     1 93145.5     0.0   0.002 0.10000\n",
      "2018-10-16 23:58:44,660 - nn-real-hvd - INFO -    837     1 95526.3     0.0   0.002 0.10000\n",
      "2018-10-16 23:58:44,660 - nn-real-hvd - INFO -    837     1 95526.3     0.0   0.002 0.10000\n",
      "2018-10-16 23:58:44,708 - nn-real-hvd - INFO -    838     1 94342.9     0.0   0.002 0.10000\n",
      "2018-10-16 23:58:44,708 - nn-real-hvd - INFO -    838     1 94342.9     0.0   0.002 0.10000\n"
     ]
    },
    {
     "name": "stdout",
     "output_type": "stream",
     "text": [
      "  random elements:  0:00:00.004132\n",
      "Invalid Range: could not broadcast input array from shape (2110,257) into shape (2110,258)\n",
      "Time for Getting  0  random elements:  0:00:00.003916\n",
      "Invalid Range: could not broadcast input array from shape (2160,257) into shape (2160,258)\n",
      "Time for Getting  0  random elements:  0:00:00.003937\n",
      "Invalid Range: could not broadcast input array from shape (2063,257) into shape (2063,258)\n",
      "Time for Getting  0  random elements:  0:00:00.004085\n",
      "Invalid Range: could not broadcast input array from shape (2104,257) into shape (2104,258)\n",
      "Time for Getting  0  random elements:  0:00:00.004317\n"
     ]
    },
    {
     "name": "stderr",
     "output_type": "stream",
     "text": [
      "2018-10-16 23:58:44,758 - nn-real-hvd - INFO -    839     1 90727.2     0.0   0.002 0.10000\n",
      "2018-10-16 23:58:44,758 - nn-real-hvd - INFO -    839     1 90727.2     0.0   0.002 0.10000\n",
      "2018-10-16 23:58:44,807 - nn-real-hvd - INFO -    840     1 95916.7     0.0   0.002 0.10000\n",
      "2018-10-16 23:58:44,807 - nn-real-hvd - INFO -    840     1 95916.7     0.0   0.002 0.10000\n",
      "2018-10-16 23:58:44,855 - nn-real-hvd - INFO -    841     1 95371.6     0.0   0.002 0.10000\n",
      "2018-10-16 23:58:44,855 - nn-real-hvd - INFO -    841     1 95371.6     0.0   0.002 0.10000\n",
      "2018-10-16 23:58:44,905 - nn-real-hvd - INFO -    842     1 92642.9     0.0   0.002 0.10000\n",
      "2018-10-16 23:58:44,905 - nn-real-hvd - INFO -    842     1 92642.9     0.0   0.002 0.10000\n",
      "2018-10-16 23:58:44,955 - nn-real-hvd - INFO -    843     1 92407.2     0.0   0.002 0.10000\n",
      "2018-10-16 23:58:44,955 - nn-real-hvd - INFO -    843     1 92407.2     0.0   0.002 0.10000\n"
     ]
    },
    {
     "name": "stdout",
     "output_type": "stream",
     "text": [
      "Invalid Range: could not broadcast input array from shape (2143,257) into shape (2143,258)\n",
      "Time for Getting  0  random elements:  0:00:00.004516\n",
      "Invalid Range: could not broadcast input array from shape (2141,257) into shape (2141,258)\n",
      "Time for Getting  0  random elements:  0:00:00.004088\n",
      "Invalid Range: could not broadcast input array from shape (2141,257) into shape (2141,258)\n",
      "Time for Getting  0  random elements:  0:00:00.005255\n",
      "Invalid Range: could not broadcast input array from shape (2118,257) into shape (2118,258)\n",
      "Time for Getting  0  random elements:  0:00:00.004138\n",
      "Invalid Range: could not broadcast input array from shape (2125,257) into shape (2125,258)\n",
      "Time for Getting  0  random elements:  0:00:00.004481\n"
     ]
    },
    {
     "name": "stderr",
     "output_type": "stream",
     "text": [
      "2018-10-16 23:58:45,003 - nn-real-hvd - INFO -    844     1 94693.8     0.0   0.002 0.10000\n",
      "2018-10-16 23:58:45,003 - nn-real-hvd - INFO -    844     1 94693.8     0.0   0.002 0.10000\n",
      "2018-10-16 23:58:45,052 - nn-real-hvd - INFO -    845     1 95207.7     0.0   0.002 0.10000\n",
      "2018-10-16 23:58:45,052 - nn-real-hvd - INFO -    845     1 95207.7     0.0   0.002 0.10000\n",
      "2018-10-16 23:58:45,100 - nn-real-hvd - INFO -    846     1 93824.0     0.0   0.002 0.10000\n",
      "2018-10-16 23:58:45,100 - nn-real-hvd - INFO -    846     1 93824.0     0.0   0.002 0.10000\n",
      "2018-10-16 23:58:45,148 - nn-real-hvd - INFO -    847     1 96233.1     0.0   0.002 0.10000\n",
      "2018-10-16 23:58:45,148 - nn-real-hvd - INFO -    847     1 96233.1     0.0   0.002 0.10000\n",
      "2018-10-16 23:58:45,199 - nn-real-hvd - INFO -    848     1 91007.0     0.0   0.002 0.10000\n",
      "2018-10-16 23:58:45,199 - nn-real-hvd - INFO -    848     1 91007.0     0.0   0.002 0.10000\n"
     ]
    },
    {
     "name": "stdout",
     "output_type": "stream",
     "text": [
      "Invalid Range: could not broadcast input array from shape (2117,257) into shape (2117,258)\n",
      "Time for Getting  0  random elements:  0:00:00.004207\n",
      "Invalid Range: could not broadcast input array from shape (2153,257) into shape (2153,258)\n",
      "Time for Getting  0  random elements:  0:00:00.004000\n",
      "Invalid Range: could not broadcast input array from shape (2143,257) into shape (2143,258)\n",
      "Time for Getting  0  random elements:  0:00:00.003911\n",
      "Invalid Range: could not broadcast input array from shape (2145,257) into shape (2145,258)\n",
      "Time for Getting  0  random elements:  0:00:00.004130\n",
      "Invalid Range: could not broadcast input array from shape (2153,257) into shape (2153,258)\n",
      "Time for Getting  0  random elements:  0:00:00.004228\n"
     ]
    },
    {
     "name": "stderr",
     "output_type": "stream",
     "text": [
      "2018-10-16 23:58:45,248 - nn-real-hvd - INFO -    849     1 92043.8     0.0   0.002 0.10000\n",
      "2018-10-16 23:58:45,248 - nn-real-hvd - INFO -    849     1 92043.8     0.0   0.002 0.10000\n",
      "2018-10-16 23:58:45,299 - nn-real-hvd - INFO -    850     1 90387.9     0.0   0.002 0.10000\n",
      "2018-10-16 23:58:45,299 - nn-real-hvd - INFO -    850     1 90387.9     0.0   0.002 0.10000\n",
      "2018-10-16 23:58:45,347 - nn-real-hvd - INFO -    851     1 96487.7     0.0   0.002 0.10000\n",
      "2018-10-16 23:58:45,347 - nn-real-hvd - INFO -    851     1 96487.7     0.0   0.002 0.10000\n",
      "2018-10-16 23:58:45,397 - nn-real-hvd - INFO -    852     1 92829.1     0.0   0.002 0.10000\n",
      "2018-10-16 23:58:45,397 - nn-real-hvd - INFO -    852     1 92829.1     0.0   0.002 0.10000\n",
      "2018-10-16 23:58:45,447 - nn-real-hvd - INFO -    853     1 91338.5     0.0   0.002 0.10000\n",
      "2018-10-16 23:58:45,447 - nn-real-hvd - INFO -    853     1 91338.5     0.0   0.002 0.10000\n"
     ]
    },
    {
     "name": "stdout",
     "output_type": "stream",
     "text": [
      "Invalid Range: could not broadcast input array from shape (2139,257) into shape (2139,258)\n",
      "Time for Getting  0  random elements:  0:00:00.004302\n",
      "Invalid Range: could not broadcast input array from shape (2189,257) into shape (2189,258)\n",
      "Time for Getting  0  random elements:  0:00:00.004569\n",
      "Invalid Range: could not broadcast input array from shape (2216,257) into shape (2216,258)\n",
      "Time for Getting  0  random elements:  0:00:00.004507\n",
      "Invalid Range: could not broadcast input array from shape (2100,257) into shape (2100,258)\n",
      "Time for Getting  0  random elements:  0:00:00.004759\n",
      "Invalid Range: could not broadcast input array from shape (2230,257) into shape (2230,258)\n",
      "Time for Getting  0  random elements:  0:00:00.004387\n"
     ]
    },
    {
     "name": "stderr",
     "output_type": "stream",
     "text": [
      "2018-10-16 23:58:45,496 - nn-real-hvd - INFO -    854     1 92490.1     0.0   0.002 0.10000\n",
      "2018-10-16 23:58:45,496 - nn-real-hvd - INFO -    854     1 92490.1     0.0   0.002 0.10000\n",
      "2018-10-16 23:58:45,544 - nn-real-hvd - INFO -    855     1 96813.3     0.0   0.002 0.10000\n",
      "2018-10-16 23:58:45,544 - nn-real-hvd - INFO -    855     1 96813.3     0.0   0.002 0.10000\n",
      "2018-10-16 23:58:45,605 - nn-real-hvd - INFO -    856     1 75111.4     0.1   0.002 0.10000\n",
      "2018-10-16 23:58:45,605 - nn-real-hvd - INFO -    856     1 75111.4     0.1   0.002 0.10000\n",
      "2018-10-16 23:58:45,655 - nn-real-hvd - INFO -    857     1 90225.3     0.0   0.002 0.10000\n",
      "2018-10-16 23:58:45,655 - nn-real-hvd - INFO -    857     1 90225.3     0.0   0.002 0.10000\n",
      "2018-10-16 23:58:45,705 - nn-real-hvd - INFO -    858     1 93246.6     0.0   0.002 0.10000\n",
      "2018-10-16 23:58:45,705 - nn-real-hvd - INFO -    858     1 93246.6     0.0   0.002 0.10000\n"
     ]
    },
    {
     "name": "stdout",
     "output_type": "stream",
     "text": [
      "Invalid Range: could not broadcast input array from shape (2102,257) into shape (2102,258)\n",
      "Time for Getting  0  random elements:  0:00:00.004284\n",
      "Invalid Range: could not broadcast input array from shape (2069,257) into shape (2069,258)\n",
      "Time for Getting  0  random elements:  0:00:00.004224\n",
      "Invalid Range: could not broadcast input array from shape (2118,257) into shape (2118,258)\n",
      "Time for Getting  0  random elements:  0:00:00.004239\n",
      "Invalid Range: could not broadcast input array from shape (2126,257) into shape (2126,258)\n",
      "Time for Getting  0  random elements:  0:00:00.004091\n"
     ]
    },
    {
     "name": "stderr",
     "output_type": "stream",
     "text": [
      "2018-10-16 23:58:45,754 - nn-real-hvd - INFO -    859     1 92928.6     0.0   0.002 0.10000\n",
      "2018-10-16 23:58:45,754 - nn-real-hvd - INFO -    859     1 92928.6     0.0   0.002 0.10000\n",
      "2018-10-16 23:58:45,802 - nn-real-hvd - INFO -    860     1 95770.2     0.0   0.002 0.10000\n",
      "2018-10-16 23:58:45,802 - nn-real-hvd - INFO -    860     1 95770.2     0.0   0.002 0.10000\n",
      "2018-10-16 23:58:45,852 - nn-real-hvd - INFO -    861     1 90761.8     0.0   0.002 0.10000\n",
      "2018-10-16 23:58:45,852 - nn-real-hvd - INFO -    861     1 90761.8     0.0   0.002 0.10000\n",
      "2018-10-16 23:58:45,901 - nn-real-hvd - INFO -    862     1 93952.2     0.0   0.002 0.10000\n",
      "2018-10-16 23:58:45,901 - nn-real-hvd - INFO -    862     1 93952.2     0.0   0.002 0.10000\n"
     ]
    },
    {
     "name": "stdout",
     "output_type": "stream",
     "text": [
      "Invalid Range: could not broadcast input array from shape (2144,257) into shape (2144,258)\n",
      "Time for Getting  0  random elements:  0:00:00.003912\n",
      "Invalid Range: could not broadcast input array from shape (2197,257) into shape (2197,258)\n",
      "Time for Getting  0  random elements:  0:00:00.004504\n",
      "Invalid Range: could not broadcast input array from shape (2138,257) into shape (2138,258)\n",
      "Time for Getting  0  random elements:  0:00:00.004109\n",
      "Invalid Range: could not broadcast input array from shape (2202,257) into shape (2202,258)\n",
      "Time for Getting  0  random elements:  0:00:00.004809\n",
      "Invalid Range: could not broadcast input array from shape (2088,257) into shape (2088,258)\n",
      "Time for Getting  0  random elements:  0:00:00.004167\n"
     ]
    },
    {
     "name": "stderr",
     "output_type": "stream",
     "text": [
      "2018-10-16 23:58:45,951 - nn-real-hvd - INFO -    863     1 90926.3     0.0   0.002 0.10000\n",
      "2018-10-16 23:58:45,951 - nn-real-hvd - INFO -    863     1 90926.3     0.0   0.002 0.10000\n",
      "2018-10-16 23:58:46,000 - nn-real-hvd - INFO -    864     1 94969.5     0.0   0.002 0.10000\n",
      "2018-10-16 23:58:46,000 - nn-real-hvd - INFO -    864     1 94969.5     0.0   0.002 0.10000\n",
      "2018-10-16 23:58:46,048 - nn-real-hvd - INFO -    865     1 94445.6     0.0   0.002 0.10000\n",
      "2018-10-16 23:58:46,048 - nn-real-hvd - INFO -    865     1 94445.6     0.0   0.002 0.10000\n",
      "2018-10-16 23:58:46,095 - nn-real-hvd - INFO -    866     1 98504.9     0.0   0.002 0.10000\n",
      "2018-10-16 23:58:46,095 - nn-real-hvd - INFO -    866     1 98504.9     0.0   0.002 0.10000\n",
      "2018-10-16 23:58:46,144 - nn-real-hvd - INFO -    867     1 94094.2     0.0   0.002 0.10000\n",
      "2018-10-16 23:58:46,144 - nn-real-hvd - INFO -    867     1 94094.2     0.0   0.002 0.10000\n"
     ]
    },
    {
     "name": "stdout",
     "output_type": "stream",
     "text": [
      "Invalid Range: could not broadcast input array from shape (2154,257) into shape (2154,258)\n",
      "Time for Getting  0  random elements:  0:00:00.004337\n",
      "Invalid Range: could not broadcast input array from shape (2128,257) into shape (2128,258)\n",
      "Time for Getting  0  random elements:  0:00:00.004061\n",
      "Invalid Range: could not broadcast input array from shape (2198,257) into shape (2198,258)\n",
      "Time for Getting  0  random elements:  0:00:00.004151\n",
      "Invalid Range: could not broadcast input array from shape (2174,257) into shape (2174,258)\n",
      "Time for Getting  0  random elements:  0:00:00.004228\n",
      "Invalid Range: could not broadcast input array from shape (2193,257) into shape (2193,258)\n",
      "Time for Getting  0  random elements:  0:00:00.004233\n"
     ]
    },
    {
     "name": "stderr",
     "output_type": "stream",
     "text": [
      "2018-10-16 23:58:46,191 - nn-real-hvd - INFO -    868     1 96638.4     0.0   0.002 0.10000\n",
      "2018-10-16 23:58:46,191 - nn-real-hvd - INFO -    868     1 96638.4     0.0   0.002 0.10000\n",
      "2018-10-16 23:58:46,239 - nn-real-hvd - INFO -    869     1 95831.6     0.0   0.002 0.10000\n",
      "2018-10-16 23:58:46,239 - nn-real-hvd - INFO -    869     1 95831.6     0.0   0.002 0.10000\n",
      "2018-10-16 23:58:46,289 - nn-real-hvd - INFO -    870     1 91860.2     0.0   0.002 0.10000\n",
      "2018-10-16 23:58:46,289 - nn-real-hvd - INFO -    870     1 91860.2     0.0   0.002 0.10000\n",
      "2018-10-16 23:58:46,338 - nn-real-hvd - INFO -    871     1 92718.8     0.0   0.002 0.10000\n",
      "2018-10-16 23:58:46,338 - nn-real-hvd - INFO -    871     1 92718.8     0.0   0.002 0.10000\n",
      "2018-10-16 23:58:46,388 - nn-real-hvd - INFO -    872     1 92849.1     0.0   0.002 0.10000\n",
      "2018-10-16 23:58:46,388 - nn-real-hvd - INFO -    872     1 92849.1     0.0   0.002 0.10000\n"
     ]
    },
    {
     "name": "stdout",
     "output_type": "stream",
     "text": [
      "Invalid Range: could not broadcast input array from shape (2193,257) into shape (2193,258)\n",
      "Time for Getting  0  random elements:  0:00:00.004239\n",
      "Invalid Range: could not broadcast input array from shape (2170,257) into shape (2170,258)\n",
      "Time for Getting  0  random elements:  0:00:00.004428\n",
      "Invalid Range: could not broadcast input array from shape (2177,257) into shape (2177,258)\n",
      "Time for Getting  0  random elements:  0:00:00.004224\n",
      "Invalid Range: could not broadcast input array from shape (2137,257) into shape (2137,258)\n",
      "Time for Getting  0  random elements:  0:00:00.004605\n",
      "Invalid Range: could not broadcast input array from shape (2190,257) into shape (2190,258)\n",
      "Time for Getting  0  random elements:  0:00:00.004547\n"
     ]
    },
    {
     "name": "stderr",
     "output_type": "stream",
     "text": [
      "2018-10-16 23:58:46,436 - nn-real-hvd - INFO -    873     1 96038.8     0.0   0.002 0.10000\n",
      "2018-10-16 23:58:46,436 - nn-real-hvd - INFO -    873     1 96038.8     0.0   0.002 0.10000\n",
      "2018-10-16 23:58:46,485 - nn-real-hvd - INFO -    874     1 92151.2     0.0   0.002 0.10000\n",
      "2018-10-16 23:58:46,485 - nn-real-hvd - INFO -    874     1 92151.2     0.0   0.002 0.10000\n",
      "2018-10-16 23:58:46,534 - nn-real-hvd - INFO -    875     1 95611.9     0.0   0.002 0.10000\n",
      "2018-10-16 23:58:46,534 - nn-real-hvd - INFO -    875     1 95611.9     0.0   0.002 0.10000\n",
      "2018-10-16 23:58:46,582 - nn-real-hvd - INFO -    876     1 95484.5     0.0   0.002 0.10000\n",
      "2018-10-16 23:58:46,582 - nn-real-hvd - INFO -    876     1 95484.5     0.0   0.002 0.10000\n",
      "2018-10-16 23:58:46,631 - nn-real-hvd - INFO -    877     1 93521.0     0.0   0.002 0.10000\n",
      "2018-10-16 23:58:46,631 - nn-real-hvd - INFO -    877     1 93521.0     0.0   0.002 0.10000\n"
     ]
    },
    {
     "name": "stdout",
     "output_type": "stream",
     "text": [
      "Invalid Range: could not broadcast input array from shape (2105,257) into shape (2105,258)\n",
      "Time for Getting  0  random elements:  0:00:00.003949\n",
      "Invalid Range: could not broadcast input array from shape (2156,257) into shape (2156,258)\n",
      "Time for Getting  0  random elements:  0:00:00.004743\n",
      "Invalid Range: could not broadcast input array from shape (2178,257) into shape (2178,258)\n",
      "Time for Getting  0  random elements:  0:00:00.004206\n",
      "Invalid Range: could not broadcast input array from shape (2106,257) into shape (2106,258)\n",
      "Time for Getting  0  random elements:  0:00:00.004102\n",
      "Invalid Range: could not broadcast input array from shape (2127,257) into shape (2127,258)\n",
      "Time for Getting  0  random elements:  0:00:00.004139\n"
     ]
    },
    {
     "name": "stderr",
     "output_type": "stream",
     "text": [
      "2018-10-16 23:58:46,679 - nn-real-hvd - INFO -    878     1 95398.1     0.0   0.002 0.10000\n",
      "2018-10-16 23:58:46,679 - nn-real-hvd - INFO -    878     1 95398.1     0.0   0.002 0.10000\n",
      "2018-10-16 23:58:46,727 - nn-real-hvd - INFO -    879     1 96902.8     0.0   0.002 0.10000\n",
      "2018-10-16 23:58:46,727 - nn-real-hvd - INFO -    879     1 96902.8     0.0   0.002 0.10000\n",
      "2018-10-16 23:58:46,775 - nn-real-hvd - INFO -    880     1 94743.1     0.0   0.002 0.10000\n",
      "2018-10-16 23:58:46,775 - nn-real-hvd - INFO -    880     1 94743.1     0.0   0.002 0.10000\n",
      "2018-10-16 23:58:46,824 - nn-real-hvd - INFO -    881     1 93925.6     0.0   0.002 0.10000\n",
      "2018-10-16 23:58:46,824 - nn-real-hvd - INFO -    881     1 93925.6     0.0   0.002 0.10000\n",
      "2018-10-16 23:58:46,874 - nn-real-hvd - INFO -    882     1 92919.3     0.0   0.002 0.10000\n",
      "2018-10-16 23:58:46,874 - nn-real-hvd - INFO -    882     1 92919.3     0.0   0.002 0.10000\n"
     ]
    },
    {
     "name": "stdout",
     "output_type": "stream",
     "text": [
      "Invalid Range: could not broadcast input array from shape (2172,257) into shape (2172,258)\n",
      "Time for Getting  0  random elements:  0:00:00.003951\n",
      "Invalid Range: could not broadcast input array from shape (2131,257) into shape (2131,258)\n",
      "Time for Getting  0  random elements:  0:00:00.004015\n",
      "Invalid Range: could not broadcast input array from shape (2142,257) into shape (2142,258)\n",
      "Time for Getting  0  random elements:  0:00:00.004133\n",
      "Invalid Range: could not broadcast input array from shape (2170,257) into shape (2170,258)\n",
      "Time for Getting  0  random elements:  0:00:00.004063\n",
      "Invalid Range: could not broadcast input array from shape (2162,257) into shape (2162,258)\n",
      "Time for Getting  0  random elements:  0:00:00.003947\n"
     ]
    },
    {
     "name": "stderr",
     "output_type": "stream",
     "text": [
      "2018-10-16 23:58:46,924 - nn-real-hvd - INFO -    883     1 90937.0     0.0   0.002 0.10000\n",
      "2018-10-16 23:58:46,924 - nn-real-hvd - INFO -    883     1 90937.0     0.0   0.002 0.10000\n",
      "2018-10-16 23:58:46,973 - nn-real-hvd - INFO -    884     1 94679.8     0.0   0.002 0.10000\n",
      "2018-10-16 23:58:46,973 - nn-real-hvd - INFO -    884     1 94679.8     0.0   0.002 0.10000\n",
      "2018-10-16 23:58:47,019 - nn-real-hvd - INFO -    885     1 98493.9     0.0   0.002 0.10000\n",
      "2018-10-16 23:58:47,019 - nn-real-hvd - INFO -    885     1 98493.9     0.0   0.002 0.10000\n",
      "2018-10-16 23:58:47,069 - nn-real-hvd - INFO -    886     1 92470.2     0.0   0.002 0.10000\n",
      "2018-10-16 23:58:47,069 - nn-real-hvd - INFO -    886     1 92470.2     0.0   0.002 0.10000\n",
      "2018-10-16 23:58:47,119 - nn-real-hvd - INFO -    887     1 90742.7     0.0   0.002 0.10000\n",
      "2018-10-16 23:58:47,119 - nn-real-hvd - INFO -    887     1 90742.7     0.0   0.002 0.10000\n"
     ]
    },
    {
     "name": "stdout",
     "output_type": "stream",
     "text": [
      "Invalid Range: could not broadcast input array from shape (2201,257) into shape (2201,258)\n",
      "Time for Getting  0  random elements:  0:00:00.003713\n",
      "Invalid Range: could not broadcast input array from shape (2146,257) into shape (2146,258)\n",
      "Time for Getting  0  random elements:  0:00:00.004252\n",
      "Invalid Range: could not broadcast input array from shape (2152,257) into shape (2152,258)\n",
      "Time for Getting  0  random elements:  0:00:00.003926\n",
      "Invalid Range: could not broadcast input array from shape (2195,257) into shape (2195,258)\n",
      "Time for Getting  0  random elements:  0:00:00.004969\n",
      "Invalid Range: could not broadcast input array from shape (2209,257) into shape (2209,258)\n",
      "Time for Getting  0  random elements:  0:00:00.003889\n"
     ]
    },
    {
     "name": "stderr",
     "output_type": "stream",
     "text": [
      "2018-10-16 23:58:47,167 - nn-real-hvd - INFO -    888     1 96316.5     0.0   0.002 0.10000\n",
      "2018-10-16 23:58:47,167 - nn-real-hvd - INFO -    888     1 96316.5     0.0   0.002 0.10000\n",
      "2018-10-16 23:58:47,215 - nn-real-hvd - INFO -    889     1 95937.6     0.0   0.002 0.10000\n",
      "2018-10-16 23:58:47,215 - nn-real-hvd - INFO -    889     1 95937.6     0.0   0.002 0.10000\n",
      "2018-10-16 23:58:47,263 - nn-real-hvd - INFO -    890     1 93823.5     0.0   0.002 0.10000\n",
      "2018-10-16 23:58:47,263 - nn-real-hvd - INFO -    890     1 93823.5     0.0   0.002 0.10000\n",
      "2018-10-16 23:58:47,313 - nn-real-hvd - INFO -    891     1 91113.4     0.0   0.002 0.10000\n",
      "2018-10-16 23:58:47,313 - nn-real-hvd - INFO -    891     1 91113.4     0.0   0.002 0.10000\n",
      "2018-10-16 23:58:47,361 - nn-real-hvd - INFO -    892     1 96112.0     0.0   0.002 0.10000\n",
      "2018-10-16 23:58:47,361 - nn-real-hvd - INFO -    892     1 96112.0     0.0   0.002 0.10000\n"
     ]
    },
    {
     "name": "stdout",
     "output_type": "stream",
     "text": [
      "Invalid Range: could not broadcast input array from shape (2154,257) into shape (2154,258)\n",
      "Time for Getting  0  random elements:  0:00:00.003801\n",
      "Invalid Range: could not broadcast input array from shape (2159,257) into shape (2159,258)\n",
      "Time for Getting  0  random elements:  0:00:00.003905\n",
      "Invalid Range: could not broadcast input array from shape (2131,257) into shape (2131,258)\n",
      "Time for Getting  0  random elements:  0:00:00.003982\n",
      "Invalid Range: could not broadcast input array from shape (2163,257) into shape (2163,258)\n",
      "Time for Getting  0  random elements:  0:00:00.004462\n",
      "Invalid Range: could not broadcast input array from shape (2159,257) into shape (2159,258)\n",
      "Time for Getting  0  random elements:  0:00:00.004491\n"
     ]
    },
    {
     "name": "stderr",
     "output_type": "stream",
     "text": [
      "2018-10-16 23:58:47,412 - nn-real-hvd - INFO -    893     1 89253.4     0.0   0.002 0.10000\n",
      "2018-10-16 23:58:47,412 - nn-real-hvd - INFO -    893     1 89253.4     0.0   0.002 0.10000\n",
      "2018-10-16 23:58:47,461 - nn-real-hvd - INFO -    894     1 93692.8     0.0   0.002 0.10000\n",
      "2018-10-16 23:58:47,461 - nn-real-hvd - INFO -    894     1 93692.8     0.0   0.002 0.10000\n",
      "2018-10-16 23:58:47,512 - nn-real-hvd - INFO -    895     1 90259.5     0.0   0.002 0.10000\n",
      "2018-10-16 23:58:47,512 - nn-real-hvd - INFO -    895     1 90259.5     0.0   0.002 0.10000\n",
      "2018-10-16 23:58:47,562 - nn-real-hvd - INFO -    896     1 90701.5     0.0   0.002 0.10000\n",
      "2018-10-16 23:58:47,562 - nn-real-hvd - INFO -    896     1 90701.5     0.0   0.002 0.10000\n",
      "2018-10-16 23:58:47,610 - nn-real-hvd - INFO -    897     1 97069.6     0.0   0.002 0.10000\n",
      "2018-10-16 23:58:47,610 - nn-real-hvd - INFO -    897     1 97069.6     0.0   0.002 0.10000\n"
     ]
    },
    {
     "name": "stdout",
     "output_type": "stream",
     "text": [
      "Invalid Range: could not broadcast input array from shape (2160,257) into shape (2160,258)\n",
      "Time for Getting  0  random elements:  0:00:00.003873\n",
      "Invalid Range: could not broadcast input array from shape (2132,257) into shape (2132,258)\n",
      "Time for Getting  0  random elements:  0:00:00.003941\n",
      "Invalid Range: could not broadcast input array from shape (2104,257) into shape (2104,258)\n",
      "Time for Getting  0  random elements:  0:00:00.003928\n",
      "Invalid Range: could not broadcast input array from shape (2171,257) into shape (2171,258)\n",
      "Time for Getting  0  random elements:  0:00:00.003779\n",
      "Invalid Range: could not broadcast input array from shape (2133,257) into shape (2133,258)\n",
      "Time for Getting  0  random elements:  0:00:00.003762\n"
     ]
    },
    {
     "name": "stderr",
     "output_type": "stream",
     "text": [
      "2018-10-16 23:58:47,658 - nn-real-hvd - INFO -    898     1 95251.2     0.0   0.002 0.10000\n",
      "2018-10-16 23:58:47,658 - nn-real-hvd - INFO -    898     1 95251.2     0.0   0.002 0.10000\n",
      "2018-10-16 23:58:47,708 - nn-real-hvd - INFO -    899     1 92781.3     0.0   0.002 0.10000\n",
      "2018-10-16 23:58:47,708 - nn-real-hvd - INFO -    899     1 92781.3     0.0   0.002 0.10000\n",
      "2018-10-16 23:58:47,754 - nn-real-hvd - INFO -    900     1 98875.9     0.0   0.002 0.10000\n",
      "2018-10-16 23:58:47,754 - nn-real-hvd - INFO -    900     1 98875.9     0.0   0.002 0.10000\n",
      "2018-10-16 23:58:47,800 - nn-real-hvd - INFO -    901     1 100240.9     0.0   0.002 0.10000\n",
      "2018-10-16 23:58:47,800 - nn-real-hvd - INFO -    901     1 100240.9     0.0   0.002 0.10000\n",
      "2018-10-16 23:58:47,848 - nn-real-hvd - INFO -    902     1 94625.7     0.0   0.002 0.10000\n",
      "2018-10-16 23:58:47,848 - nn-real-hvd - INFO -    902     1 94625.7     0.0   0.002 0.10000\n"
     ]
    },
    {
     "name": "stdout",
     "output_type": "stream",
     "text": [
      "Invalid Range: could not broadcast input array from shape (2122,257) into shape (2122,258)\n",
      "Time for Getting  0  random elements:  0:00:00.004103\n",
      "Invalid Range: could not broadcast input array from shape (2144,257) into shape (2144,258)\n",
      "Time for Getting  0  random elements:  0:00:00.004292\n",
      "Invalid Range: could not broadcast input array from shape (2177,257) into shape (2177,258)\n",
      "Time for Getting  0  random elements:  0:00:00.003785\n",
      "Invalid Range: could not broadcast input array from shape (2084,257) into shape (2084,258)\n",
      "Time for Getting  0  random elements:  0:00:00.003923\n",
      "Invalid Range: could not broadcast input array from shape (2121,257) into shape (2121,258)\n",
      "Time for Getting  0  random elements:  0:00:00.004214\n"
     ]
    },
    {
     "name": "stderr",
     "output_type": "stream",
     "text": [
      "2018-10-16 23:58:47,896 - nn-real-hvd - INFO -    903     1 95573.0     0.0   0.002 0.10000\n",
      "2018-10-16 23:58:47,896 - nn-real-hvd - INFO -    903     1 95573.0     0.0   0.002 0.10000\n",
      "2018-10-16 23:58:47,946 - nn-real-hvd - INFO -    904     1 92281.3     0.0   0.002 0.10000\n",
      "2018-10-16 23:58:47,946 - nn-real-hvd - INFO -    904     1 92281.3     0.0   0.002 0.10000\n",
      "2018-10-16 23:58:47,994 - nn-real-hvd - INFO -    905     1 95025.9     0.0   0.002 0.10000\n",
      "2018-10-16 23:58:47,994 - nn-real-hvd - INFO -    905     1 95025.9     0.0   0.002 0.10000\n",
      "2018-10-16 23:58:48,041 - nn-real-hvd - INFO -    906     1 96245.5     0.0   0.002 0.10000\n",
      "2018-10-16 23:58:48,041 - nn-real-hvd - INFO -    906     1 96245.5     0.0   0.002 0.10000\n",
      "2018-10-16 23:58:48,090 - nn-real-hvd - INFO -    907     1 94708.8     0.0   0.002 0.10000\n",
      "2018-10-16 23:58:48,090 - nn-real-hvd - INFO -    907     1 94708.8     0.0   0.002 0.10000\n"
     ]
    },
    {
     "name": "stdout",
     "output_type": "stream",
     "text": [
      "Invalid Range: could not broadcast input array from shape (2172,257) into shape (2172,258)\n",
      "Time for Getting  0  random elements:  0:00:00.003907\n",
      "Invalid Range: could not broadcast input array from shape (2184,257) into shape (2184,258)\n",
      "Time for Getting  0  random elements:  0:00:00.003915\n",
      "Invalid Range: could not broadcast input array from shape (2158,257) into shape (2158,258)\n",
      "Time for Getting  0  random elements:  0:00:00.004540\n",
      "Invalid Range: could not broadcast input array from shape (2070,257) into shape (2070,258)\n",
      "Time for Getting  0  random elements:  0:00:00.004057\n",
      "Invalid Range: could not broadcast input array from shape (2111,257) into shape (2111,258)\n",
      "Time for Getting  0  random elements:  0:00:00.003855\n"
     ]
    },
    {
     "name": "stderr",
     "output_type": "stream",
     "text": [
      "2018-10-16 23:58:48,136 - nn-real-hvd - INFO -    908     1 99056.9     0.0   0.002 0.10000\n",
      "2018-10-16 23:58:48,136 - nn-real-hvd - INFO -    908     1 99056.9     0.0   0.002 0.10000\n",
      "2018-10-16 23:58:48,181 - nn-real-hvd - INFO -    909     1 102109.9     0.0   0.002 0.10000\n",
      "2018-10-16 23:58:48,181 - nn-real-hvd - INFO -    909     1 102109.9     0.0   0.002 0.10000\n",
      "2018-10-16 23:58:48,228 - nn-real-hvd - INFO -    910     1 97865.0     0.0   0.002 0.10000\n",
      "2018-10-16 23:58:48,228 - nn-real-hvd - INFO -    910     1 97865.0     0.0   0.002 0.10000\n",
      "2018-10-16 23:58:48,273 - nn-real-hvd - INFO -    911     1 100837.8     0.0   0.002 0.10000\n",
      "2018-10-16 23:58:48,273 - nn-real-hvd - INFO -    911     1 100837.8     0.0   0.002 0.10000\n",
      "2018-10-16 23:58:48,329 - nn-real-hvd - INFO -    912     1 82038.0     0.1   0.002 0.10000\n",
      "2018-10-16 23:58:48,329 - nn-real-hvd - INFO -    912     1 82038.0     0.1   0.002 0.10000\n"
     ]
    },
    {
     "name": "stdout",
     "output_type": "stream",
     "text": [
      "Invalid Range: could not broadcast input array from shape (2153,257) into shape (2153,258)\n",
      "Time for Getting  0  random elements:  0:00:00.003794\n",
      "Invalid Range: could not broadcast input array from shape (2137,257) into shape (2137,258)\n",
      "Time for Getting  0  random elements:  0:00:00.003486\n",
      "Invalid Range: could not broadcast input array from shape (2163,257) into shape (2163,258)\n",
      "Time for Getting  0  random elements:  0:00:00.003515\n",
      "Invalid Range: could not broadcast input array from shape (2108,257) into shape (2108,258)\n",
      "Time for Getting  0  random elements:  0:00:00.004098\n",
      "Invalid Range: could not broadcast input array from shape (2186,257) into shape (2186,258)\n",
      "Time for Getting  0  random elements:  0:00:00.004183\n"
     ]
    },
    {
     "name": "stderr",
     "output_type": "stream",
     "text": [
      "2018-10-16 23:58:48,377 - nn-real-hvd - INFO -    913     1 94593.9     0.0   0.002 0.10000\n",
      "2018-10-16 23:58:48,377 - nn-real-hvd - INFO -    913     1 94593.9     0.0   0.002 0.10000\n",
      "2018-10-16 23:58:48,426 - nn-real-hvd - INFO -    914     1 95164.8     0.0   0.002 0.10000\n",
      "2018-10-16 23:58:48,426 - nn-real-hvd - INFO -    914     1 95164.8     0.0   0.002 0.10000\n",
      "2018-10-16 23:58:48,473 - nn-real-hvd - INFO -    915     1 96759.8     0.0   0.002 0.10000\n",
      "2018-10-16 23:58:48,473 - nn-real-hvd - INFO -    915     1 96759.8     0.0   0.002 0.10000\n",
      "2018-10-16 23:58:48,520 - nn-real-hvd - INFO -    916     1 99346.4     0.0   0.002 0.10000\n",
      "2018-10-16 23:58:48,520 - nn-real-hvd - INFO -    916     1 99346.4     0.0   0.002 0.10000\n",
      "2018-10-16 23:58:48,570 - nn-real-hvd - INFO -    917     1 91425.3     0.0   0.002 0.10000\n",
      "2018-10-16 23:58:48,570 - nn-real-hvd - INFO -    917     1 91425.3     0.0   0.002 0.10000\n"
     ]
    },
    {
     "name": "stdout",
     "output_type": "stream",
     "text": [
      "Invalid Range: could not broadcast input array from shape (2107,257) into shape (2107,258)\n",
      "Time for Getting  0  random elements:  0:00:00.003928\n",
      "Invalid Range: could not broadcast input array from shape (2129,257) into shape (2129,258)\n",
      "Time for Getting  0  random elements:  0:00:00.004168\n",
      "Invalid Range: could not broadcast input array from shape (2128,257) into shape (2128,258)\n",
      "Time for Getting  0  random elements:  0:00:00.004003\n",
      "Invalid Range: could not broadcast input array from shape (2184,257) into shape (2184,258)\n",
      "Time for Getting  0  random elements:  0:00:00.004537\n",
      "Invalid Range: could not broadcast input array from shape (2170,257) into shape (2170,258)\n",
      "Time for Getting  0  random elements:  0:00:00.004210\n"
     ]
    },
    {
     "name": "stderr",
     "output_type": "stream",
     "text": [
      "2018-10-16 23:58:48,619 - nn-real-hvd - INFO -    918     1 95741.1     0.0   0.002 0.10000\n",
      "2018-10-16 23:58:48,619 - nn-real-hvd - INFO -    918     1 95741.1     0.0   0.002 0.10000\n",
      "2018-10-16 23:58:48,671 - nn-real-hvd - INFO -    919     1 87916.5     0.1   0.002 0.10000\n",
      "2018-10-16 23:58:48,671 - nn-real-hvd - INFO -    919     1 87916.5     0.1   0.002 0.10000\n",
      "2018-10-16 23:58:48,719 - nn-real-hvd - INFO -    920     1 94839.4     0.0   0.002 0.10000\n",
      "2018-10-16 23:58:48,719 - nn-real-hvd - INFO -    920     1 94839.4     0.0   0.002 0.10000\n",
      "2018-10-16 23:58:48,767 - nn-real-hvd - INFO -    921     1 95688.8     0.0   0.002 0.10000\n",
      "2018-10-16 23:58:48,767 - nn-real-hvd - INFO -    921     1 95688.8     0.0   0.002 0.10000\n",
      "2018-10-16 23:58:48,814 - nn-real-hvd - INFO -    922     1 96263.5     0.0   0.002 0.10000\n",
      "2018-10-16 23:58:48,814 - nn-real-hvd - INFO -    922     1 96263.5     0.0   0.002 0.10000\n"
     ]
    },
    {
     "name": "stdout",
     "output_type": "stream",
     "text": [
      "Invalid Range: could not broadcast input array from shape (2113,257) into shape (2113,258)\n",
      "Time for Getting  0  random elements:  0:00:00.004209\n",
      "Invalid Range: could not broadcast input array from shape (2166,257) into shape (2166,258)\n",
      "Time for Getting  0  random elements:  0:00:00.004161\n",
      "Invalid Range: could not broadcast input array from shape (2120,257) into shape (2120,258)\n",
      "Time for Getting  0  random elements:  0:00:00.004270\n",
      "Invalid Range: could not broadcast input array from shape (2100,257) into shape (2100,258)\n",
      "Time for Getting  0  random elements:  0:00:00.004172\n",
      "Invalid Range: could not broadcast input array from shape (2095,257) into shape (2095,258)\n",
      "Time for Getting  0  random elements:  0:00:00.003986\n"
     ]
    },
    {
     "name": "stderr",
     "output_type": "stream",
     "text": [
      "2018-10-16 23:58:48,861 - nn-real-hvd - INFO -    923     1 98070.3     0.0   0.002 0.10000\n",
      "2018-10-16 23:58:48,861 - nn-real-hvd - INFO -    923     1 98070.3     0.0   0.002 0.10000\n",
      "2018-10-16 23:58:48,907 - nn-real-hvd - INFO -    924     1 97869.1     0.0   0.002 0.10000\n",
      "2018-10-16 23:58:48,907 - nn-real-hvd - INFO -    924     1 97869.1     0.0   0.002 0.10000\n",
      "2018-10-16 23:58:48,956 - nn-real-hvd - INFO -    925     1 94627.2     0.0   0.002 0.10000\n",
      "2018-10-16 23:58:48,956 - nn-real-hvd - INFO -    925     1 94627.2     0.0   0.002 0.10000\n",
      "2018-10-16 23:58:49,005 - nn-real-hvd - INFO -    926     1 94691.4     0.0   0.002 0.10000\n",
      "2018-10-16 23:58:49,005 - nn-real-hvd - INFO -    926     1 94691.4     0.0   0.002 0.10000\n",
      "2018-10-16 23:58:49,053 - nn-real-hvd - INFO -    927     1 95831.1     0.0   0.002 0.10000\n",
      "2018-10-16 23:58:49,053 - nn-real-hvd - INFO -    927     1 95831.1     0.0   0.002 0.10000\n"
     ]
    },
    {
     "name": "stdout",
     "output_type": "stream",
     "text": [
      "Invalid Range: could not broadcast input array from shape (2099,257) into shape (2099,258)\n",
      "Time for Getting  0  random elements:  0:00:00.004360\n",
      "Invalid Range: could not broadcast input array from shape (2169,257) into shape (2169,258)\n",
      "Time for Getting  0  random elements:  0:00:00.003954\n",
      "Invalid Range: could not broadcast input array from shape (2069,257) into shape (2069,258)\n",
      "Time for Getting  0  random elements:  0:00:00.004336\n",
      "Invalid Range: could not broadcast input array from shape (2144,257) into shape (2144,258)\n",
      "Time for Getting  0  random elements:  0:00:00.004213\n",
      "Invalid Range: could not broadcast input array from shape (2146,257) into shape (2146,258)\n",
      "Time for Getting  0  random elements:  0:00:00.004250\n"
     ]
    },
    {
     "name": "stderr",
     "output_type": "stream",
     "text": [
      "2018-10-16 23:58:49,100 - nn-real-hvd - INFO -    928     1 97498.9     0.0   0.002 0.10000\n",
      "2018-10-16 23:58:49,100 - nn-real-hvd - INFO -    928     1 97498.9     0.0   0.002 0.10000\n",
      "2018-10-16 23:58:49,147 - nn-real-hvd - INFO -    929     1 96123.4     0.0   0.002 0.10000\n",
      "2018-10-16 23:58:49,147 - nn-real-hvd - INFO -    929     1 96123.4     0.0   0.002 0.10000\n",
      "2018-10-16 23:58:49,195 - nn-real-hvd - INFO -    930     1 96202.1     0.0   0.002 0.10000\n",
      "2018-10-16 23:58:49,195 - nn-real-hvd - INFO -    930     1 96202.1     0.0   0.002 0.10000\n",
      "2018-10-16 23:58:49,242 - nn-real-hvd - INFO -    931     1 97072.6     0.0   0.002 0.10000\n",
      "2018-10-16 23:58:49,242 - nn-real-hvd - INFO -    931     1 97072.6     0.0   0.002 0.10000\n",
      "2018-10-16 23:58:49,289 - nn-real-hvd - INFO -    932     1 97815.4     0.0   0.002 0.10000\n",
      "2018-10-16 23:58:49,289 - nn-real-hvd - INFO -    932     1 97815.4     0.0   0.002 0.10000\n"
     ]
    },
    {
     "name": "stdout",
     "output_type": "stream",
     "text": [
      "Invalid Range: could not broadcast input array from shape (2210,257) into shape (2210,258)\n",
      "Time for Getting  0  random elements:  0:00:00.003962\n",
      "Invalid Range: could not broadcast input array from shape (2236,257) into shape (2236,258)\n",
      "Time for Getting  0  random elements:  0:00:00.004296\n",
      "Invalid Range: could not broadcast input array from shape (2077,257) into shape (2077,258)\n",
      "Time for Getting  0  random elements:  0:00:00.004034\n",
      "Invalid Range: could not broadcast input array from shape (2125,257) into shape (2125,258)\n",
      "Time for Getting  0  random elements:  0:00:00.003982\n",
      "Invalid Range: could not broadcast input array from shape (2158,257) into shape (2158,258)\n",
      "Time for Getting  0  random elements:  0:00:00.004423\n"
     ]
    },
    {
     "name": "stderr",
     "output_type": "stream",
     "text": [
      "2018-10-16 23:58:49,340 - nn-real-hvd - INFO -    933     1 89421.1     0.0   0.002 0.10000\n",
      "2018-10-16 23:58:49,340 - nn-real-hvd - INFO -    933     1 89421.1     0.0   0.002 0.10000\n",
      "2018-10-16 23:58:49,387 - nn-real-hvd - INFO -    934     1 96739.7     0.0   0.002 0.10000\n",
      "2018-10-16 23:58:49,387 - nn-real-hvd - INFO -    934     1 96739.7     0.0   0.002 0.10000\n",
      "2018-10-16 23:58:49,437 - nn-real-hvd - INFO -    935     1 93158.1     0.0   0.002 0.10000\n",
      "2018-10-16 23:58:49,437 - nn-real-hvd - INFO -    935     1 93158.1     0.0   0.002 0.10000\n",
      "2018-10-16 23:58:49,484 - nn-real-hvd - INFO -    936     1 96895.7     0.0   0.002 0.10000\n",
      "2018-10-16 23:58:49,484 - nn-real-hvd - INFO -    936     1 96895.7     0.0   0.002 0.10000\n",
      "2018-10-16 23:58:49,532 - nn-real-hvd - INFO -    937     1 97181.9     0.0   0.002 0.10000\n",
      "2018-10-16 23:58:49,532 - nn-real-hvd - INFO -    937     1 97181.9     0.0   0.002 0.10000\n"
     ]
    },
    {
     "name": "stdout",
     "output_type": "stream",
     "text": [
      "Invalid Range: could not broadcast input array from shape (2133,257) into shape (2133,258)\n",
      "Time for Getting  0  random elements:  0:00:00.004699\n",
      "Invalid Range: could not broadcast input array from shape (2163,257) into shape (2163,258)\n",
      "Time for Getting  0  random elements:  0:00:00.004378\n",
      "Invalid Range: could not broadcast input array from shape (2145,257) into shape (2145,258)\n",
      "Time for Getting  0  random elements:  0:00:00.004376\n",
      "Invalid Range: could not broadcast input array from shape (2104,257) into shape (2104,258)\n",
      "Time for Getting  0  random elements:  0:00:00.003801\n",
      "Invalid Range: could not broadcast input array from shape (2170,257) into shape (2170,258)\n",
      "Time for Getting  0  random elements:  0:00:00.004163\n"
     ]
    },
    {
     "name": "stderr",
     "output_type": "stream",
     "text": [
      "2018-10-16 23:58:49,583 - nn-real-hvd - INFO -    938     1 89425.8     0.0   0.002 0.10000\n",
      "2018-10-16 23:58:49,583 - nn-real-hvd - INFO -    938     1 89425.8     0.0   0.002 0.10000\n",
      "2018-10-16 23:58:49,630 - nn-real-hvd - INFO -    939     1 96789.1     0.0   0.002 0.10000\n",
      "2018-10-16 23:58:49,630 - nn-real-hvd - INFO -    939     1 96789.1     0.0   0.002 0.10000\n",
      "2018-10-16 23:58:49,677 - nn-real-hvd - INFO -    940     1 98530.0     0.0   0.002 0.10000\n",
      "2018-10-16 23:58:49,677 - nn-real-hvd - INFO -    940     1 98530.0     0.0   0.002 0.10000\n",
      "2018-10-16 23:58:49,723 - nn-real-hvd - INFO -    941     1 99655.8     0.0   0.002 0.10000\n",
      "2018-10-16 23:58:49,723 - nn-real-hvd - INFO -    941     1 99655.8     0.0   0.002 0.10000\n",
      "2018-10-16 23:58:49,772 - nn-real-hvd - INFO -    942     1 94059.8     0.0   0.002 0.10000\n",
      "2018-10-16 23:58:49,772 - nn-real-hvd - INFO -    942     1 94059.8     0.0   0.002 0.10000\n"
     ]
    },
    {
     "name": "stdout",
     "output_type": "stream",
     "text": [
      "Invalid Range: could not broadcast input array from shape (2099,257) into shape (2099,258)\n",
      "Time for Getting  0  random elements:  0:00:00.004334\n",
      "Invalid Range: could not broadcast input array from shape (2116,257) into shape (2116,258)\n",
      "Time for Getting  0  random elements:  0:00:00.004053\n",
      "Invalid Range: could not broadcast input array from shape (2123,257) into shape (2123,258)\n",
      "Time for Getting  0  random elements:  0:00:00.004343\n",
      "Invalid Range: could not broadcast input array from shape (2147,257) into shape (2147,258)\n",
      "Time for Getting  0  random elements:  0:00:00.003784\n",
      "Invalid Range: could not broadcast input array from shape (2143,257) into shape (2143,258)\n",
      "Time for Getting  0  random elements:  0:00:00.003828\n"
     ]
    },
    {
     "name": "stderr",
     "output_type": "stream",
     "text": [
      "2018-10-16 23:58:49,820 - nn-real-hvd - INFO -    943     1 95032.2     0.0   0.002 0.10000\n",
      "2018-10-16 23:58:49,820 - nn-real-hvd - INFO -    943     1 95032.2     0.0   0.002 0.10000\n",
      "2018-10-16 23:58:49,866 - nn-real-hvd - INFO -    944     1 98247.8     0.0   0.002 0.10000\n",
      "2018-10-16 23:58:49,866 - nn-real-hvd - INFO -    944     1 98247.8     0.0   0.002 0.10000\n",
      "2018-10-16 23:58:49,916 - nn-real-hvd - INFO -    945     1 90706.8     0.0   0.002 0.10000\n",
      "2018-10-16 23:58:49,916 - nn-real-hvd - INFO -    945     1 90706.8     0.0   0.002 0.10000\n",
      "2018-10-16 23:58:49,968 - nn-real-hvd - INFO -    946     1 88221.6     0.1   0.002 0.10000\n",
      "2018-10-16 23:58:49,968 - nn-real-hvd - INFO -    946     1 88221.6     0.1   0.002 0.10000\n",
      "2018-10-16 23:58:50,017 - nn-real-hvd - INFO -    947     1 97024.9     0.0   0.002 0.10000\n",
      "2018-10-16 23:58:50,017 - nn-real-hvd - INFO -    947     1 97024.9     0.0   0.002 0.10000\n"
     ]
    },
    {
     "name": "stdout",
     "output_type": "stream",
     "text": [
      "Invalid Range: could not broadcast input array from shape (2149,257) into shape (2149,258)\n",
      "Time for Getting  0  random elements:  0:00:00.004110\n",
      "Invalid Range: could not broadcast input array from shape (2162,257) into shape (2162,258)\n",
      "Time for Getting  0  random elements:  0:00:00.004125\n",
      "Invalid Range: could not broadcast input array from shape (2144,257) into shape (2144,258)\n",
      "Time for Getting  0  random elements:  0:00:00.005013\n",
      "Invalid Range: could not broadcast input array from shape (2139,257) into shape (2139,258)\n",
      "Time for Getting  0  random elements:  0:00:00.004026\n",
      "Invalid Range: could not broadcast input array from shape (2203,257) into shape (2203,258)\n",
      "Time for Getting  0  random elements:  0:00:00.004077\n"
     ]
    },
    {
     "name": "stderr",
     "output_type": "stream",
     "text": [
      "2018-10-16 23:58:50,063 - nn-real-hvd - INFO -    948     1 98219.7     0.0   0.002 0.10000\n",
      "2018-10-16 23:58:50,063 - nn-real-hvd - INFO -    948     1 98219.7     0.0   0.002 0.10000\n",
      "2018-10-16 23:58:50,110 - nn-real-hvd - INFO -    949     1 97125.4     0.0   0.002 0.10000\n",
      "2018-10-16 23:58:50,110 - nn-real-hvd - INFO -    949     1 97125.4     0.0   0.002 0.10000\n",
      "2018-10-16 23:58:50,157 - nn-real-hvd - INFO -    950     1 98523.2     0.0   0.002 0.10000\n",
      "2018-10-16 23:58:50,157 - nn-real-hvd - INFO -    950     1 98523.2     0.0   0.002 0.10000\n",
      "2018-10-16 23:58:50,204 - nn-real-hvd - INFO -    951     1 96406.5     0.0   0.002 0.10000\n",
      "2018-10-16 23:58:50,204 - nn-real-hvd - INFO -    951     1 96406.5     0.0   0.002 0.10000\n",
      "2018-10-16 23:58:50,253 - nn-real-hvd - INFO -    952     1 94038.4     0.0   0.002 0.10000\n",
      "2018-10-16 23:58:50,253 - nn-real-hvd - INFO -    952     1 94038.4     0.0   0.002 0.10000\n"
     ]
    },
    {
     "name": "stdout",
     "output_type": "stream",
     "text": [
      "Invalid Range: could not broadcast input array from shape (2098,257) into shape (2098,258)\n",
      "Time for Getting  0  random elements:  0:00:00.003673\n",
      "Invalid Range: could not broadcast input array from shape (2100,257) into shape (2100,258)\n",
      "Time for Getting  0  random elements:  0:00:00.003739\n",
      "Invalid Range: could not broadcast input array from shape (2127,257) into shape (2127,258)\n",
      "Time for Getting  0  random elements:  0:00:00.003850\n",
      "Invalid Range: could not broadcast input array from shape (2211,257) into shape (2211,258)\n",
      "Time for Getting  0  random elements:  0:00:00.004232\n",
      "Invalid Range: could not broadcast input array from shape (2112,257) into shape (2112,258)\n",
      "Time for Getting  0  random elements:  0:00:00.004059\n"
     ]
    },
    {
     "name": "stderr",
     "output_type": "stream",
     "text": [
      "2018-10-16 23:58:50,302 - nn-real-hvd - INFO -    953     1 94266.2     0.0   0.002 0.10000\n",
      "2018-10-16 23:58:50,302 - nn-real-hvd - INFO -    953     1 94266.2     0.0   0.002 0.10000\n",
      "2018-10-16 23:58:50,348 - nn-real-hvd - INFO -    954     1 98496.5     0.0   0.002 0.10000\n",
      "2018-10-16 23:58:50,348 - nn-real-hvd - INFO -    954     1 98496.5     0.0   0.002 0.10000\n",
      "2018-10-16 23:58:50,398 - nn-real-hvd - INFO -    955     1 92678.5     0.0   0.002 0.10000\n",
      "2018-10-16 23:58:50,398 - nn-real-hvd - INFO -    955     1 92678.5     0.0   0.002 0.10000\n",
      "2018-10-16 23:58:50,445 - nn-real-hvd - INFO -    956     1 98049.5     0.0   0.002 0.10000\n",
      "2018-10-16 23:58:50,445 - nn-real-hvd - INFO -    956     1 98049.5     0.0   0.002 0.10000\n",
      "2018-10-16 23:58:50,492 - nn-real-hvd - INFO -    957     1 96654.0     0.0   0.002 0.10000\n",
      "2018-10-16 23:58:50,492 - nn-real-hvd - INFO -    957     1 96654.0     0.0   0.002 0.10000\n"
     ]
    },
    {
     "name": "stdout",
     "output_type": "stream",
     "text": [
      "Invalid Range: could not broadcast input array from shape (2085,257) into shape (2085,258)\n",
      "Time for Getting  0  random elements:  0:00:00.004534\n",
      "Invalid Range: could not broadcast input array from shape (2192,257) into shape (2192,258)\n",
      "Time for Getting  0  random elements:  0:00:00.003914\n",
      "Invalid Range: could not broadcast input array from shape (2159,257) into shape (2159,258)\n",
      "Time for Getting  0  random elements:  0:00:00.004521\n",
      "Invalid Range: could not broadcast input array from shape (2093,257) into shape (2093,258)\n",
      "Time for Getting  0  random elements:  0:00:00.003961\n",
      "Invalid Range: could not broadcast input array from shape (2167,257) into shape (2167,258)\n",
      "Time for Getting  0  random elements:  0:00:00.004172\n"
     ]
    },
    {
     "name": "stderr",
     "output_type": "stream",
     "text": [
      "2018-10-16 23:58:50,540 - nn-real-hvd - INFO -    958     1 96534.9     0.0   0.002 0.10000\n",
      "2018-10-16 23:58:50,540 - nn-real-hvd - INFO -    958     1 96534.9     0.0   0.002 0.10000\n",
      "2018-10-16 23:58:50,588 - nn-real-hvd - INFO -    959     1 96039.3     0.0   0.002 0.10000\n",
      "2018-10-16 23:58:50,588 - nn-real-hvd - INFO -    959     1 96039.3     0.0   0.002 0.10000\n",
      "2018-10-16 23:58:50,635 - nn-real-hvd - INFO -    960     1 96248.0     0.0   0.002 0.10000\n",
      "2018-10-16 23:58:50,635 - nn-real-hvd - INFO -    960     1 96248.0     0.0   0.002 0.10000\n",
      "2018-10-16 23:58:50,683 - nn-real-hvd - INFO -    961     1 97997.2     0.0   0.002 0.10000\n",
      "2018-10-16 23:58:50,683 - nn-real-hvd - INFO -    961     1 97997.2     0.0   0.002 0.10000\n",
      "2018-10-16 23:58:50,736 - nn-real-hvd - INFO -    962     1 84338.6     0.1   0.002 0.10000\n",
      "2018-10-16 23:58:50,736 - nn-real-hvd - INFO -    962     1 84338.6     0.1   0.002 0.10000\n"
     ]
    },
    {
     "name": "stdout",
     "output_type": "stream",
     "text": [
      "Invalid Range: could not broadcast input array from shape (2114,257) into shape (2114,258)\n",
      "Time for Getting  0  random elements:  0:00:00.004687\n",
      "Invalid Range: could not broadcast input array from shape (2174,257) into shape (2174,258)\n",
      "Time for Getting  0  random elements:  0:00:00.003815\n",
      "Invalid Range: could not broadcast input array from shape (2110,257) into shape (2110,258)\n",
      "Time for Getting  0  random elements:  0:00:00.003862\n",
      "Invalid Range: could not broadcast input array from shape (2164,257) into shape (2164,258)\n",
      "Time for Getting  0  random elements:  0:00:00.004345\n",
      "Invalid Range: could not broadcast input array from shape (2145,257) into shape (2145,258)\n"
     ]
    },
    {
     "name": "stderr",
     "output_type": "stream",
     "text": [
      "2018-10-16 23:58:50,786 - nn-real-hvd - INFO -    963     1 92796.7     0.0   0.002 0.10000\n",
      "2018-10-16 23:58:50,786 - nn-real-hvd - INFO -    963     1 92796.7     0.0   0.002 0.10000\n",
      "2018-10-16 23:58:50,832 - nn-real-hvd - INFO -    964     1 97783.5     0.0   0.002 0.10000\n",
      "2018-10-16 23:58:50,832 - nn-real-hvd - INFO -    964     1 97783.5     0.0   0.002 0.10000\n",
      "2018-10-16 23:58:50,880 - nn-real-hvd - INFO -    965     1 96740.2     0.0   0.002 0.10000\n",
      "2018-10-16 23:58:50,880 - nn-real-hvd - INFO -    965     1 96740.2     0.0   0.002 0.10000\n",
      "2018-10-16 23:58:50,929 - nn-real-hvd - INFO -    966     1 93709.8     0.0   0.002 0.10000\n",
      "2018-10-16 23:58:50,929 - nn-real-hvd - INFO -    966     1 93709.8     0.0   0.002 0.10000\n"
     ]
    },
    {
     "name": "stdout",
     "output_type": "stream",
     "text": [
      "Time for Getting  0  random elements:  0:00:00.004178\n",
      "Invalid Range: could not broadcast input array from shape (2203,257) into shape (2203,258)\n",
      "Time for Getting  0  random elements:  0:00:00.004239\n",
      "Invalid Range: could not broadcast input array from shape (2152,257) into shape (2152,258)\n",
      "Time for Getting  0  random elements:  0:00:00.004381\n",
      "Invalid Range: could not broadcast input array from shape (2118,257) into shape (2118,258)\n",
      "Time for Getting  0  random elements:  0:00:00.004464\n",
      "Invalid Range: could not broadcast input array from shape (2139,257) into shape (2139,258)\n",
      "Time for Getting  0  random elements:  0:00:00.004011\n"
     ]
    },
    {
     "name": "stderr",
     "output_type": "stream",
     "text": [
      "2018-10-16 23:58:50,975 - nn-real-hvd - INFO -    967     1 99645.1     0.0   0.002 0.10000\n",
      "2018-10-16 23:58:50,975 - nn-real-hvd - INFO -    967     1 99645.1     0.0   0.002 0.10000\n",
      "2018-10-16 23:58:51,022 - nn-real-hvd - INFO -    968     1 96007.5     0.0   0.002 0.10000\n",
      "2018-10-16 23:58:51,022 - nn-real-hvd - INFO -    968     1 96007.5     0.0   0.002 0.10000\n",
      "2018-10-16 23:58:51,072 - nn-real-hvd - INFO -    969     1 92397.0     0.0   0.002 0.10000\n",
      "2018-10-16 23:58:51,072 - nn-real-hvd - INFO -    969     1 92397.0     0.0   0.002 0.10000\n",
      "2018-10-16 23:58:51,132 - nn-real-hvd - INFO -    970     1 76600.9     0.1   0.002 0.10000\n",
      "2018-10-16 23:58:51,132 - nn-real-hvd - INFO -    970     1 76600.9     0.1   0.002 0.10000\n",
      "2018-10-16 23:58:51,181 - nn-real-hvd - INFO -    971     1 94287.8     0.0   0.002 0.10000\n",
      "2018-10-16 23:58:51,181 - nn-real-hvd - INFO -    971     1 94287.8     0.0   0.002 0.10000\n"
     ]
    },
    {
     "name": "stdout",
     "output_type": "stream",
     "text": [
      "Invalid Range: could not broadcast input array from shape (2147,257) into shape (2147,258)\n",
      "Time for Getting  0  random elements:  0:00:00.003988\n",
      "Invalid Range: could not broadcast input array from shape (2185,257) into shape (2185,258)\n",
      "Time for Getting  0  random elements:  0:00:00.004071\n",
      "Invalid Range: could not broadcast input array from shape (2156,257) into shape (2156,258)\n",
      "Time for Getting  0  random elements:  0:00:00.004136\n",
      "Invalid Range: could not broadcast input array from shape (2192,257) into shape (2192,258)\n",
      "Time for Getting  0  random elements:  0:00:00.004135\n"
     ]
    },
    {
     "name": "stderr",
     "output_type": "stream",
     "text": [
      "2018-10-16 23:58:51,230 - nn-real-hvd - INFO -    972     1 92645.6     0.0   0.002 0.10000\n",
      "2018-10-16 23:58:51,230 - nn-real-hvd - INFO -    972     1 92645.6     0.0   0.002 0.10000\n",
      "2018-10-16 23:58:51,279 - nn-real-hvd - INFO -    973     1 94111.4     0.0   0.002 0.10000\n",
      "2018-10-16 23:58:51,279 - nn-real-hvd - INFO -    973     1 94111.4     0.0   0.002 0.10000\n",
      "2018-10-16 23:58:51,325 - nn-real-hvd - INFO -    974     1 100956.2     0.0   0.002 0.10000\n",
      "2018-10-16 23:58:51,325 - nn-real-hvd - INFO -    974     1 100956.2     0.0   0.002 0.10000\n",
      "2018-10-16 23:58:51,374 - nn-real-hvd - INFO -    975     1 93137.1     0.0   0.002 0.10000\n",
      "2018-10-16 23:58:51,374 - nn-real-hvd - INFO -    975     1 93137.1     0.0   0.002 0.10000\n"
     ]
    },
    {
     "name": "stdout",
     "output_type": "stream",
     "text": [
      "Invalid Range: could not broadcast input array from shape (2152,257) into shape (2152,258)\n",
      "Time for Getting  0  random elements:  0:00:00.004017\n",
      "Invalid Range: could not broadcast input array from shape (2115,257) into shape (2115,258)\n",
      "Time for Getting  0  random elements:  0:00:00.003803\n",
      "Invalid Range: could not broadcast input array from shape (2099,257) into shape (2099,258)\n",
      "Time for Getting  0  random elements:  0:00:00.004287\n",
      "Invalid Range: could not broadcast input array from shape (2143,257) into shape (2143,258)\n",
      "Time for Getting  0  random elements:  0:00:00.004212\n",
      "Invalid Range: could not broadcast input array from shape (2124,257) into shape (2124,258)\n",
      "Time for Getting  0  random elements:  0:00:00.004138\n"
     ]
    },
    {
     "name": "stderr",
     "output_type": "stream",
     "text": [
      "2018-10-16 23:58:51,422 - nn-real-hvd - INFO -    976     1 96651.5     0.0   0.002 0.10000\n",
      "2018-10-16 23:58:51,422 - nn-real-hvd - INFO -    976     1 96651.5     0.0   0.002 0.10000\n",
      "2018-10-16 23:58:51,471 - nn-real-hvd - INFO -    977     1 93004.0     0.0   0.002 0.10000\n",
      "2018-10-16 23:58:51,471 - nn-real-hvd - INFO -    977     1 93004.0     0.0   0.002 0.10000\n",
      "2018-10-16 23:58:51,521 - nn-real-hvd - INFO -    978     1 97268.5     0.0   0.002 0.10000\n",
      "2018-10-16 23:58:51,521 - nn-real-hvd - INFO -    978     1 97268.5     0.0   0.002 0.10000\n",
      "2018-10-16 23:58:51,569 - nn-real-hvd - INFO -    979     1 95403.5     0.0   0.002 0.10000\n",
      "2018-10-16 23:58:51,569 - nn-real-hvd - INFO -    979     1 95403.5     0.0   0.002 0.10000\n",
      "2018-10-16 23:58:51,617 - nn-real-hvd - INFO -    980     1 96230.6     0.0   0.002 0.10000\n",
      "2018-10-16 23:58:51,617 - nn-real-hvd - INFO -    980     1 96230.6     0.0   0.002 0.10000\n"
     ]
    },
    {
     "name": "stdout",
     "output_type": "stream",
     "text": [
      "Invalid Range: could not broadcast input array from shape (2097,257) into shape (2097,258)\n",
      "Time for Getting  0  random elements:  0:00:00.004248\n",
      "Invalid Range: could not broadcast input array from shape (2126,257) into shape (2126,258)\n",
      "Time for Getting  0  random elements:  0:00:00.004095\n",
      "Invalid Range: could not broadcast input array from shape (2166,257) into shape (2166,258)\n",
      "Time for Getting  0  random elements:  0:00:00.004384\n",
      "Invalid Range: could not broadcast input array from shape (2143,257) into shape (2143,258)\n",
      "Time for Getting  0  random elements:  0:00:00.004475\n",
      "Invalid Range: could not broadcast input array from shape (2104,257) into shape (2104,258)\n",
      "Time for Getting  0  random elements:  0:00:00.004239\n"
     ]
    },
    {
     "name": "stderr",
     "output_type": "stream",
     "text": [
      "2018-10-16 23:58:51,669 - nn-real-hvd - INFO -    981     1 89280.0     0.0   0.002 0.10000\n",
      "2018-10-16 23:58:51,669 - nn-real-hvd - INFO -    981     1 89280.0     0.0   0.002 0.10000\n",
      "2018-10-16 23:58:51,730 - nn-real-hvd - INFO -    982     1 74451.2     0.1   0.002 0.10000\n",
      "2018-10-16 23:58:51,730 - nn-real-hvd - INFO -    982     1 74451.2     0.1   0.002 0.10000\n",
      "2018-10-16 23:58:51,779 - nn-real-hvd - INFO -    983     1 94264.8     0.0   0.002 0.10000\n",
      "2018-10-16 23:58:51,779 - nn-real-hvd - INFO -    983     1 94264.8     0.0   0.002 0.10000\n",
      "2018-10-16 23:58:51,828 - nn-real-hvd - INFO -    984     1 94626.2     0.0   0.002 0.10000\n",
      "2018-10-16 23:58:51,828 - nn-real-hvd - INFO -    984     1 94626.2     0.0   0.002 0.10000\n",
      "2018-10-16 23:58:51,877 - nn-real-hvd - INFO -    985     1 92857.0     0.0   0.002 0.10000\n",
      "2018-10-16 23:58:51,877 - nn-real-hvd - INFO -    985     1 92857.0     0.0   0.002 0.10000\n"
     ]
    },
    {
     "name": "stdout",
     "output_type": "stream",
     "text": [
      "Invalid Range: could not broadcast input array from shape (2132,257) into shape (2132,258)\n",
      "Time for Getting  0  random elements:  0:00:00.004414\n",
      "Invalid Range: could not broadcast input array from shape (2126,257) into shape (2126,258)\n",
      "Time for Getting  0  random elements:  0:00:00.004198\n",
      "Invalid Range: could not broadcast input array from shape (2126,257) into shape (2126,258)\n",
      "Time for Getting  0  random elements:  0:00:00.004237\n",
      "Invalid Range: could not broadcast input array from shape (2149,257) into shape (2149,258)\n",
      "Time for Getting  0  random elements:  0:00:00.004163\n"
     ]
    },
    {
     "name": "stderr",
     "output_type": "stream",
     "text": [
      "2018-10-16 23:58:51,927 - nn-real-hvd - INFO -    986     1 89812.3     0.0   0.002 0.10000\n",
      "2018-10-16 23:58:51,927 - nn-real-hvd - INFO -    986     1 89812.3     0.0   0.002 0.10000\n",
      "2018-10-16 23:58:51,976 - nn-real-hvd - INFO -    987     1 94979.7     0.0   0.002 0.10000\n",
      "2018-10-16 23:58:51,976 - nn-real-hvd - INFO -    987     1 94979.7     0.0   0.002 0.10000\n",
      "2018-10-16 23:58:52,024 - nn-real-hvd - INFO -    988     1 96743.7     0.0   0.002 0.10000\n",
      "2018-10-16 23:58:52,024 - nn-real-hvd - INFO -    988     1 96743.7     0.0   0.002 0.10000\n",
      "2018-10-16 23:58:52,074 - nn-real-hvd - INFO -    989     1 91050.4     0.0   0.002 0.10000\n",
      "2018-10-16 23:58:52,074 - nn-real-hvd - INFO -    989     1 91050.4     0.0   0.002 0.10000\n"
     ]
    },
    {
     "name": "stdout",
     "output_type": "stream",
     "text": [
      "Invalid Range: could not broadcast input array from shape (2099,257) into shape (2099,258)\n",
      "Time for Getting  0  random elements:  0:00:00.005110\n",
      "Invalid Range: could not broadcast input array from shape (2116,257) into shape (2116,258)\n",
      "Time for Getting  0  random elements:  0:00:00.004130\n",
      "Invalid Range: could not broadcast input array from shape (2140,257) into shape (2140,258)\n",
      "Time for Getting  0  random elements:  0:00:00.004191\n",
      "Invalid Range: could not broadcast input array from shape (2165,257) into shape (2165,258)\n",
      "Time for Getting  0  random elements:  0:00:00.003897\n",
      "Invalid Range: could not broadcast input array from shape (2207,257) into shape (2207,258)\n",
      "Time for Getting  0  random elements:  0:00:00.004165\n"
     ]
    },
    {
     "name": "stderr",
     "output_type": "stream",
     "text": [
      "2018-10-16 23:58:52,123 - nn-real-hvd - INFO -    990     1 95327.5     0.0   0.002 0.10000\n",
      "2018-10-16 23:58:52,123 - nn-real-hvd - INFO -    990     1 95327.5     0.0   0.002 0.10000\n",
      "2018-10-16 23:58:52,170 - nn-real-hvd - INFO -    991     1 98695.5     0.0   0.002 0.10000\n",
      "2018-10-16 23:58:52,170 - nn-real-hvd - INFO -    991     1 98695.5     0.0   0.002 0.10000\n",
      "2018-10-16 23:58:52,219 - nn-real-hvd - INFO -    992     1 93452.7     0.0   0.002 0.10000\n",
      "2018-10-16 23:58:52,219 - nn-real-hvd - INFO -    992     1 93452.7     0.0   0.002 0.10000\n",
      "2018-10-16 23:58:52,265 - nn-real-hvd - INFO -    993     1 100222.5     0.0   0.002 0.10000\n",
      "2018-10-16 23:58:52,265 - nn-real-hvd - INFO -    993     1 100222.5     0.0   0.002 0.10000\n",
      "2018-10-16 23:58:52,311 - nn-real-hvd - INFO -    994     1 98859.0     0.0   0.002 0.10000\n",
      "2018-10-16 23:58:52,311 - nn-real-hvd - INFO -    994     1 98859.0     0.0   0.002 0.10000\n"
     ]
    },
    {
     "name": "stdout",
     "output_type": "stream",
     "text": [
      "Invalid Range: could not broadcast input array from shape (2060,257) into shape (2060,258)\n",
      "Time for Getting  0  random elements:  0:00:00.003961\n",
      "Invalid Range: could not broadcast input array from shape (2134,257) into shape (2134,258)\n",
      "Time for Getting  0  random elements:  0:00:00.003840\n",
      "Invalid Range: could not broadcast input array from shape (2101,257) into shape (2101,258)\n",
      "Time for Getting  0  random elements:  0:00:00.003794\n",
      "Invalid Range: could not broadcast input array from shape (2137,257) into shape (2137,258)\n",
      "Time for Getting  0  random elements:  0:00:00.004081\n",
      "Invalid Range: could not broadcast input array from shape (2148,257) into shape (2148,258)\n",
      "Time for Getting  0  random elements:  0:00:00.003913\n"
     ]
    },
    {
     "name": "stderr",
     "output_type": "stream",
     "text": [
      "2018-10-16 23:58:52,361 - nn-real-hvd - INFO -    995     1 90893.0     0.0   0.002 0.10000\n",
      "2018-10-16 23:58:52,361 - nn-real-hvd - INFO -    995     1 90893.0     0.0   0.002 0.10000\n",
      "2018-10-16 23:58:52,410 - nn-real-hvd - INFO -    996     1 93644.6     0.0   0.002 0.10000\n",
      "2018-10-16 23:58:52,410 - nn-real-hvd - INFO -    996     1 93644.6     0.0   0.002 0.10000\n",
      "2018-10-16 23:58:52,459 - nn-real-hvd - INFO -    997     1 92117.8     0.0   0.002 0.10000\n",
      "2018-10-16 23:58:52,459 - nn-real-hvd - INFO -    997     1 92117.8     0.0   0.002 0.10000\n",
      "2018-10-16 23:58:52,508 - nn-real-hvd - INFO -    998     1 94154.3     0.0   0.002 0.10000\n",
      "2018-10-16 23:58:52,508 - nn-real-hvd - INFO -    998     1 94154.3     0.0   0.002 0.10000\n",
      "2018-10-16 23:58:52,556 - nn-real-hvd - INFO -    999     1 97410.4     0.0   0.002 0.10000\n",
      "2018-10-16 23:58:52,556 - nn-real-hvd - INFO -    999     1 97410.4     0.0   0.002 0.10000\n"
     ]
    },
    {
     "name": "stdout",
     "output_type": "stream",
     "text": [
      "Invalid Range: could not broadcast input array from shape (2111,257) into shape (2111,258)\n",
      "Time for Getting  0  random elements:  0:00:00.004695\n",
      "Invalid Range: could not broadcast input array from shape (2101,257) into shape (2101,258)\n",
      "Time for Getting  0  random elements:  0:00:00.004250\n",
      "Invalid Range: could not broadcast input array from shape (2109,257) into shape (2109,258)\n",
      "Time for Getting  0  random elements:  0:00:00.003961\n",
      "Invalid Range: could not broadcast input array from shape (2092,257) into shape (2092,258)\n",
      "Time for Getting  0  random elements:  0:00:00.003776\n",
      "Invalid Range: could not broadcast input array from shape (2142,257) into shape (2142,258)\n",
      "Time for Getting  0  random elements:  0:00:00.004334\n"
     ]
    },
    {
     "name": "stderr",
     "output_type": "stream",
     "text": [
      "2018-10-16 23:58:52,605 - nn-real-hvd - INFO -   1000     1 94518.3     0.0   0.002 0.10000\n",
      "2018-10-16 23:58:52,605 - nn-real-hvd - INFO -   1000     1 94518.3     0.0   0.002 0.10000\n",
      "2018-10-16 23:58:52,653 - nn-real-hvd - INFO -   1001     1 93240.5     0.0   0.002 0.10000\n",
      "2018-10-16 23:58:52,653 - nn-real-hvd - INFO -   1001     1 93240.5     0.0   0.002 0.10000\n",
      "2018-10-16 23:58:52,703 - nn-real-hvd - INFO -   1002     1 92739.6     0.0   0.002 0.10000\n",
      "2018-10-16 23:58:52,703 - nn-real-hvd - INFO -   1002     1 92739.6     0.0   0.002 0.10000\n",
      "2018-10-16 23:58:52,752 - nn-real-hvd - INFO -   1003     1 93931.8     0.0   0.002 0.10000\n",
      "2018-10-16 23:58:52,752 - nn-real-hvd - INFO -   1003     1 93931.8     0.0   0.002 0.10000\n",
      "2018-10-16 23:58:52,801 - nn-real-hvd - INFO -   1004     1 93166.5     0.0   0.002 0.10000\n",
      "2018-10-16 23:58:52,801 - nn-real-hvd - INFO -   1004     1 93166.5     0.0   0.002 0.10000\n"
     ]
    },
    {
     "name": "stdout",
     "output_type": "stream",
     "text": [
      "Invalid Range: could not broadcast input array from shape (2143,257) into shape (2143,258)\n",
      "Time for Getting  0  random elements:  0:00:00.003946\n",
      "Invalid Range: could not broadcast input array from shape (2142,257) into shape (2142,258)\n",
      "Time for Getting  0  random elements:  0:00:00.004356\n",
      "Invalid Range: could not broadcast input array from shape (2129,257) into shape (2129,258)\n",
      "Time for Getting  0  random elements:  0:00:00.004648\n",
      "Invalid Range: could not broadcast input array from shape (2100,257) into shape (2100,258)\n",
      "Time for Getting  0  random elements:  0:00:00.004040\n",
      "Invalid Range: could not broadcast input array from shape (2130,257) into shape (2130,258)\n",
      "Time for Getting  0  random elements:  0:00:00.004335\n"
     ]
    },
    {
     "name": "stderr",
     "output_type": "stream",
     "text": [
      "2018-10-16 23:58:52,849 - nn-real-hvd - INFO -   1005     1 95118.4     0.0   0.002 0.10000\n",
      "2018-10-16 23:58:52,849 - nn-real-hvd - INFO -   1005     1 95118.4     0.0   0.002 0.10000\n",
      "2018-10-16 23:58:52,897 - nn-real-hvd - INFO -   1006     1 95652.3     0.0   0.002 0.10000\n",
      "2018-10-16 23:58:52,897 - nn-real-hvd - INFO -   1006     1 95652.3     0.0   0.002 0.10000\n",
      "2018-10-16 23:58:52,945 - nn-real-hvd - INFO -   1007     1 94285.9     0.0   0.002 0.10000\n",
      "2018-10-16 23:58:52,945 - nn-real-hvd - INFO -   1007     1 94285.9     0.0   0.002 0.10000\n",
      "2018-10-16 23:58:52,992 - nn-real-hvd - INFO -   1008     1 98446.4     0.0   0.002 0.10000\n",
      "2018-10-16 23:58:52,992 - nn-real-hvd - INFO -   1008     1 98446.4     0.0   0.002 0.10000\n",
      "2018-10-16 23:58:53,041 - nn-real-hvd - INFO -   1009     1 94078.0     0.0   0.002 0.10000\n",
      "2018-10-16 23:58:53,041 - nn-real-hvd - INFO -   1009     1 94078.0     0.0   0.002 0.10000\n"
     ]
    },
    {
     "name": "stdout",
     "output_type": "stream",
     "text": [
      "Invalid Range: could not broadcast input array from shape (2139,257) into shape (2139,258)\n",
      "Time for Getting  0  random elements:  0:00:00.003662\n",
      "Invalid Range: could not broadcast input array from shape (2113,257) into shape (2113,258)\n",
      "Time for Getting  0  random elements:  0:00:00.003486\n",
      "Invalid Range: could not broadcast input array from shape (2085,257) into shape (2085,258)\n",
      "Time for Getting  0  random elements:  0:00:00.003755\n",
      "Invalid Range: could not broadcast input array from shape (2178,257) into shape (2178,258)\n",
      "Time for Getting  0  random elements:  0:00:00.004026\n",
      "Invalid Range: could not broadcast input array from shape (2147,257) into shape (2147,258)\n",
      "Time for Getting  0  random elements:  0:00:00.003838\n"
     ]
    },
    {
     "name": "stderr",
     "output_type": "stream",
     "text": [
      "2018-10-16 23:58:53,090 - nn-real-hvd - INFO -   1010     1 92607.3     0.0   0.002 0.10000\n",
      "2018-10-16 23:58:53,090 - nn-real-hvd - INFO -   1010     1 92607.3     0.0   0.002 0.10000\n",
      "2018-10-16 23:58:53,137 - nn-real-hvd - INFO -   1011     1 97987.9     0.0   0.002 0.10000\n",
      "2018-10-16 23:58:53,137 - nn-real-hvd - INFO -   1011     1 97987.9     0.0   0.002 0.10000\n",
      "2018-10-16 23:58:53,185 - nn-real-hvd - INFO -   1012     1 95905.4     0.0   0.002 0.10000\n",
      "2018-10-16 23:58:53,185 - nn-real-hvd - INFO -   1012     1 95905.4     0.0   0.002 0.10000\n",
      "2018-10-16 23:58:53,232 - nn-real-hvd - INFO -   1013     1 96108.0     0.0   0.002 0.10000\n",
      "2018-10-16 23:58:53,232 - nn-real-hvd - INFO -   1013     1 96108.0     0.0   0.002 0.10000\n",
      "2018-10-16 23:58:53,281 - nn-real-hvd - INFO -   1014     1 92956.1     0.0   0.002 0.10000\n",
      "2018-10-16 23:58:53,281 - nn-real-hvd - INFO -   1014     1 92956.1     0.0   0.002 0.10000\n"
     ]
    },
    {
     "name": "stdout",
     "output_type": "stream",
     "text": [
      "Invalid Range: could not broadcast input array from shape (2093,257) into shape (2093,258)\n",
      "Time for Getting  0  random elements:  0:00:00.003959\n",
      "Invalid Range: could not broadcast input array from shape (2137,257) into shape (2137,258)\n",
      "Time for Getting  0  random elements:  0:00:00.004272\n",
      "Invalid Range: could not broadcast input array from shape (2121,257) into shape (2121,258)\n",
      "Time for Getting  0  random elements:  0:00:00.003802\n",
      "Invalid Range: could not broadcast input array from shape (2118,257) into shape (2118,258)\n",
      "Time for Getting  0  random elements:  0:00:00.003681\n",
      "Invalid Range: could not broadcast input array from shape (2124,257) into shape (2124,258)\n",
      "Time for Getting  0  random elements:  0:00:00.004007\n"
     ]
    },
    {
     "name": "stderr",
     "output_type": "stream",
     "text": [
      "2018-10-16 23:58:53,328 - nn-real-hvd - INFO -   1015     1 98514.3     0.0   0.002 0.10000\n",
      "2018-10-16 23:58:53,328 - nn-real-hvd - INFO -   1015     1 98514.3     0.0   0.002 0.10000\n",
      "2018-10-16 23:58:53,376 - nn-real-hvd - INFO -   1016     1 94301.2     0.0   0.002 0.10000\n",
      "2018-10-16 23:58:53,376 - nn-real-hvd - INFO -   1016     1 94301.2     0.0   0.002 0.10000\n",
      "2018-10-16 23:58:53,424 - nn-real-hvd - INFO -   1017     1 96285.5     0.0   0.002 0.10000\n",
      "2018-10-16 23:58:53,424 - nn-real-hvd - INFO -   1017     1 96285.5     0.0   0.002 0.10000\n",
      "2018-10-16 23:58:53,474 - nn-real-hvd - INFO -   1018     1 90617.4     0.0   0.002 0.10000\n",
      "2018-10-16 23:58:53,474 - nn-real-hvd - INFO -   1018     1 90617.4     0.0   0.002 0.10000\n",
      "2018-10-16 23:58:53,522 - nn-real-hvd - INFO -   1019     1 95461.4     0.0   0.002 0.10000\n",
      "2018-10-16 23:58:53,522 - nn-real-hvd - INFO -   1019     1 95461.4     0.0   0.002 0.10000\n"
     ]
    },
    {
     "name": "stdout",
     "output_type": "stream",
     "text": [
      "Invalid Range: could not broadcast input array from shape (2125,257) into shape (2125,258)\n",
      "Time for Getting  0  random elements:  0:00:00.004237\n",
      "Invalid Range: could not broadcast input array from shape (2101,257) into shape (2101,258)\n",
      "Time for Getting  0  random elements:  0:00:00.004431\n",
      "Invalid Range: could not broadcast input array from shape (2122,257) into shape (2122,258)\n",
      "Time for Getting  0  random elements:  0:00:00.003770\n",
      "Invalid Range: could not broadcast input array from shape (2150,257) into shape (2150,258)\n",
      "Time for Getting  0  random elements:  0:00:00.003967\n",
      "Invalid Range: could not broadcast input array from shape (2110,257) into shape (2110,258)\n",
      "Time for Getting  0  random elements:  0:00:00.003854\n"
     ]
    },
    {
     "name": "stderr",
     "output_type": "stream",
     "text": [
      "2018-10-16 23:58:53,572 - nn-real-hvd - INFO -   1020     1 92721.6     0.0   0.002 0.10000\n",
      "2018-10-16 23:58:53,572 - nn-real-hvd - INFO -   1020     1 92721.6     0.0   0.002 0.10000\n",
      "2018-10-16 23:58:53,621 - nn-real-hvd - INFO -   1021     1 91840.2     0.0   0.002 0.10000\n",
      "2018-10-16 23:58:53,621 - nn-real-hvd - INFO -   1021     1 91840.2     0.0   0.002 0.10000\n",
      "2018-10-16 23:58:53,672 - nn-real-hvd - INFO -   1022     1 90168.8     0.0   0.002 0.10000\n",
      "2018-10-16 23:58:53,672 - nn-real-hvd - INFO -   1022     1 90168.8     0.0   0.002 0.10000\n",
      "2018-10-16 23:58:53,723 - nn-real-hvd - INFO -   1023     1 88895.6     0.0   0.002 0.10000\n",
      "2018-10-16 23:58:53,723 - nn-real-hvd - INFO -   1023     1 88895.6     0.0   0.002 0.10000\n",
      "2018-10-16 23:58:53,770 - nn-real-hvd - INFO -   1024     1 98846.4     0.0   0.002 0.10000\n",
      "2018-10-16 23:58:53,770 - nn-real-hvd - INFO -   1024     1 98846.4     0.0   0.002 0.10000\n"
     ]
    },
    {
     "name": "stdout",
     "output_type": "stream",
     "text": [
      "Invalid Range: could not broadcast input array from shape (2151,257) into shape (2151,258)\n",
      "Time for Getting  0  random elements:  0:00:00.004209\n",
      "Invalid Range: could not broadcast input array from shape (2081,257) into shape (2081,258)\n",
      "Time for Getting  0  random elements:  0:00:00.004365\n",
      "Invalid Range: could not broadcast input array from shape (2158,257) into shape (2158,258)\n",
      "Time for Getting  0  random elements:  0:00:00.004247\n",
      "Invalid Range: could not broadcast input array from shape (2105,257) into shape (2105,258)\n",
      "Time for Getting  0  random elements:  0:00:00.004469\n",
      "Invalid Range: could not broadcast input array from shape (2148,257) into shape (2148,258)\n",
      "Time for Getting  0  random elements:  0:00:00.004313\n"
     ]
    },
    {
     "name": "stderr",
     "output_type": "stream",
     "text": [
      "2018-10-16 23:58:53,820 - nn-real-hvd - INFO -   1025     1 90649.2     0.0   0.002 0.10000\n",
      "2018-10-16 23:58:53,820 - nn-real-hvd - INFO -   1025     1 90649.2     0.0   0.002 0.10000\n",
      "2018-10-16 23:58:53,867 - nn-real-hvd - INFO -   1026     1 98174.5     0.0   0.002 0.10000\n",
      "2018-10-16 23:58:53,867 - nn-real-hvd - INFO -   1026     1 98174.5     0.0   0.002 0.10000\n",
      "2018-10-16 23:58:53,913 - nn-real-hvd - INFO -   1027     1 97623.0     0.0   0.002 0.10000\n",
      "2018-10-16 23:58:53,913 - nn-real-hvd - INFO -   1027     1 97623.0     0.0   0.002 0.10000\n",
      "2018-10-16 23:58:53,961 - nn-real-hvd - INFO -   1028     1 96659.1     0.0   0.002 0.10000\n",
      "2018-10-16 23:58:53,961 - nn-real-hvd - INFO -   1028     1 96659.1     0.0   0.002 0.10000\n",
      "2018-10-16 23:58:54,008 - nn-real-hvd - INFO -   1029     1 98792.2     0.0   0.002 0.10000\n",
      "2018-10-16 23:58:54,008 - nn-real-hvd - INFO -   1029     1 98792.2     0.0   0.002 0.10000\n"
     ]
    },
    {
     "name": "stdout",
     "output_type": "stream",
     "text": [
      "Invalid Range: could not broadcast input array from shape (2135,257) into shape (2135,258)\n",
      "Time for Getting  0  random elements:  0:00:00.004261\n",
      "Invalid Range: could not broadcast input array from shape (2104,257) into shape (2104,258)\n",
      "Time for Getting  0  random elements:  0:00:00.003911\n",
      "Invalid Range: could not broadcast input array from shape (2171,257) into shape (2171,258)\n",
      "Time for Getting  0  random elements:  0:00:00.003947\n",
      "Invalid Range: could not broadcast input array from shape (2103,257) into shape (2103,258)\n",
      "Time for Getting  0  random elements:  0:00:00.003970\n",
      "Invalid Range: could not broadcast input array from shape (2109,257) into shape (2109,258)\n",
      "Time for Getting  0  random elements:  0:00:00.004107\n"
     ]
    },
    {
     "name": "stderr",
     "output_type": "stream",
     "text": [
      "2018-10-16 23:58:54,055 - nn-real-hvd - INFO -   1030     1 95775.2     0.0   0.002 0.10000\n",
      "2018-10-16 23:58:54,055 - nn-real-hvd - INFO -   1030     1 95775.2     0.0   0.002 0.10000\n",
      "2018-10-16 23:58:54,102 - nn-real-hvd - INFO -   1031     1 97042.1     0.0   0.002 0.10000\n",
      "2018-10-16 23:58:54,102 - nn-real-hvd - INFO -   1031     1 97042.1     0.0   0.002 0.10000\n",
      "2018-10-16 23:58:54,150 - nn-real-hvd - INFO -   1032     1 94909.3     0.0   0.002 0.10000\n",
      "2018-10-16 23:58:54,150 - nn-real-hvd - INFO -   1032     1 94909.3     0.0   0.002 0.10000\n",
      "2018-10-16 23:58:54,199 - nn-real-hvd - INFO -   1033     1 95225.3     0.0   0.002 0.10000\n",
      "2018-10-16 23:58:54,199 - nn-real-hvd - INFO -   1033     1 95225.3     0.0   0.002 0.10000\n",
      "2018-10-16 23:58:54,247 - nn-real-hvd - INFO -   1034     1 93791.3     0.0   0.002 0.10000\n",
      "2018-10-16 23:58:54,247 - nn-real-hvd - INFO -   1034     1 93791.3     0.0   0.002 0.10000\n"
     ]
    },
    {
     "name": "stdout",
     "output_type": "stream",
     "text": [
      "Invalid Range: could not broadcast input array from shape (2140,257) into shape (2140,258)\n",
      "Time for Getting  0  random elements:  0:00:00.003672\n",
      "Invalid Range: could not broadcast input array from shape (2165,257) into shape (2165,258)\n",
      "Time for Getting  0  random elements:  0:00:00.003784\n",
      "Invalid Range: could not broadcast input array from shape (2171,257) into shape (2171,258)\n",
      "Time for Getting  0  random elements:  0:00:00.003703\n",
      "Invalid Range: could not broadcast input array from shape (2133,257) into shape (2133,258)\n",
      "Time for Getting  0  random elements:  0:00:00.004007\n",
      "Invalid Range: could not broadcast input array from shape (2150,257) into shape (2150,258)\n",
      "Time for Getting  0  random elements:  0:00:00.003865\n"
     ]
    },
    {
     "name": "stderr",
     "output_type": "stream",
     "text": [
      "2018-10-16 23:58:54,296 - nn-real-hvd - INFO -   1035     1 93727.8     0.0   0.002 0.10000\n",
      "2018-10-16 23:58:54,296 - nn-real-hvd - INFO -   1035     1 93727.8     0.0   0.002 0.10000\n",
      "2018-10-16 23:58:54,345 - nn-real-hvd - INFO -   1036     1 92900.2     0.0   0.002 0.10000\n",
      "2018-10-16 23:58:54,345 - nn-real-hvd - INFO -   1036     1 92900.2     0.0   0.002 0.10000\n",
      "2018-10-16 23:58:54,392 - nn-real-hvd - INFO -   1037     1 98195.3     0.0   0.002 0.10000\n",
      "2018-10-16 23:58:54,392 - nn-real-hvd - INFO -   1037     1 98195.3     0.0   0.002 0.10000\n",
      "2018-10-16 23:58:54,440 - nn-real-hvd - INFO -   1038     1 95082.4     0.0   0.002 0.10000\n",
      "2018-10-16 23:58:54,440 - nn-real-hvd - INFO -   1038     1 95082.4     0.0   0.002 0.10000\n",
      "2018-10-16 23:58:54,487 - nn-real-hvd - INFO -   1039     1 97723.8     0.0   0.002 0.10000\n",
      "2018-10-16 23:58:54,487 - nn-real-hvd - INFO -   1039     1 97723.8     0.0   0.002 0.10000\n"
     ]
    },
    {
     "name": "stdout",
     "output_type": "stream",
     "text": [
      "Invalid Range: could not broadcast input array from shape (2205,257) into shape (2205,258)\n",
      "Time for Getting  0  random elements:  0:00:00.004447\n",
      "Invalid Range: could not broadcast input array from shape (2145,257) into shape (2145,258)\n",
      "Time for Getting  0  random elements:  0:00:00.004366\n",
      "Invalid Range: could not broadcast input array from shape (2150,257) into shape (2150,258)\n",
      "Time for Getting  0  random elements:  0:00:00.004216\n",
      "Invalid Range: could not broadcast input array from shape (2123,257) into shape (2123,258)\n",
      "Time for Getting  0  random elements:  0:00:00.004218\n",
      "Invalid Range: could not broadcast input array from shape (2155,257) into shape (2155,258)\n",
      "Time for Getting  0  random elements:  0:00:00.004291\n"
     ]
    },
    {
     "name": "stderr",
     "output_type": "stream",
     "text": [
      "2018-10-16 23:58:54,534 - nn-real-hvd - INFO -   1040     1 96576.6     0.0   0.002 0.10000\n",
      "2018-10-16 23:58:54,534 - nn-real-hvd - INFO -   1040     1 96576.6     0.0   0.002 0.10000\n",
      "2018-10-16 23:58:54,582 - nn-real-hvd - INFO -   1041     1 95962.9     0.0   0.002 0.10000\n",
      "2018-10-16 23:58:54,582 - nn-real-hvd - INFO -   1041     1 95962.9     0.0   0.002 0.10000\n",
      "2018-10-16 23:58:54,633 - nn-real-hvd - INFO -   1042     1 90011.8     0.0   0.002 0.10000\n",
      "2018-10-16 23:58:54,633 - nn-real-hvd - INFO -   1042     1 90011.8     0.0   0.002 0.10000\n",
      "2018-10-16 23:58:54,682 - nn-real-hvd - INFO -   1043     1 92755.8     0.0   0.002 0.10000\n",
      "2018-10-16 23:58:54,682 - nn-real-hvd - INFO -   1043     1 92755.8     0.0   0.002 0.10000\n",
      "2018-10-16 23:58:54,732 - nn-real-hvd - INFO -   1044     1 91543.9     0.0   0.002 0.10000\n",
      "2018-10-16 23:58:54,732 - nn-real-hvd - INFO -   1044     1 91543.9     0.0   0.002 0.10000\n"
     ]
    },
    {
     "name": "stdout",
     "output_type": "stream",
     "text": [
      "Invalid Range: could not broadcast input array from shape (2187,257) into shape (2187,258)\n",
      "Time for Getting  0  random elements:  0:00:00.004516\n",
      "Invalid Range: could not broadcast input array from shape (2092,257) into shape (2092,258)\n",
      "Time for Getting  0  random elements:  0:00:00.004229\n",
      "Invalid Range: could not broadcast input array from shape (2122,257) into shape (2122,258)\n",
      "Time for Getting  0  random elements:  0:00:00.004257\n",
      "Invalid Range: could not broadcast input array from shape (2167,257) into shape (2167,258)\n",
      "Time for Getting  0  random elements:  0:00:00.004208\n",
      "Invalid Range: could not broadcast input array from shape (2126,257) into shape (2126,258)\n"
     ]
    },
    {
     "name": "stderr",
     "output_type": "stream",
     "text": [
      "2018-10-16 23:58:54,783 - nn-real-hvd - INFO -   1045     1 88483.6     0.1   0.002 0.10000\n",
      "2018-10-16 23:58:54,783 - nn-real-hvd - INFO -   1045     1 88483.6     0.1   0.002 0.10000\n",
      "2018-10-16 23:58:54,830 - nn-real-hvd - INFO -   1046     1 97652.3     0.0   0.002 0.10000\n",
      "2018-10-16 23:58:54,830 - nn-real-hvd - INFO -   1046     1 97652.3     0.0   0.002 0.10000\n",
      "2018-10-16 23:58:54,878 - nn-real-hvd - INFO -   1047     1 96941.3     0.0   0.002 0.10000\n",
      "2018-10-16 23:58:54,878 - nn-real-hvd - INFO -   1047     1 96941.3     0.0   0.002 0.10000\n",
      "2018-10-16 23:58:54,924 - nn-real-hvd - INFO -   1048     1 98715.0     0.0   0.002 0.10000\n",
      "2018-10-16 23:58:54,924 - nn-real-hvd - INFO -   1048     1 98715.0     0.0   0.002 0.10000\n"
     ]
    },
    {
     "name": "stdout",
     "output_type": "stream",
     "text": [
      "Time for Getting  0  random elements:  0:00:00.004496\n",
      "Invalid Range: could not broadcast input array from shape (2133,257) into shape (2133,258)\n",
      "Time for Getting  0  random elements:  0:00:00.004385\n",
      "Invalid Range: could not broadcast input array from shape (2105,257) into shape (2105,258)\n",
      "Time for Getting  0  random elements:  0:00:00.004120\n",
      "Invalid Range: could not broadcast input array from shape (2111,257) into shape (2111,258)\n",
      "Time for Getting  0  random elements:  0:00:00.004098\n",
      "Invalid Range: could not broadcast input array from shape (2206,257) into shape (2206,258)\n",
      "Time for Getting  0  random elements:  0:00:00.004060\n"
     ]
    },
    {
     "name": "stderr",
     "output_type": "stream",
     "text": [
      "2018-10-16 23:58:54,971 - nn-real-hvd - INFO -   1049     1 98292.5     0.0   0.002 0.10000\n",
      "2018-10-16 23:58:54,971 - nn-real-hvd - INFO -   1049     1 98292.5     0.0   0.002 0.10000\n",
      "2018-10-16 23:58:55,017 - nn-real-hvd - INFO -   1050     1 99708.8     0.0   0.002 0.10000\n",
      "2018-10-16 23:58:55,017 - nn-real-hvd - INFO -   1050     1 99708.8     0.0   0.002 0.10000\n",
      "2018-10-16 23:58:55,065 - nn-real-hvd - INFO -   1051     1 96223.6     0.0   0.002 0.10000\n",
      "2018-10-16 23:58:55,065 - nn-real-hvd - INFO -   1051     1 96223.6     0.0   0.002 0.10000\n",
      "2018-10-16 23:58:55,114 - nn-real-hvd - INFO -   1052     1 94186.8     0.0   0.002 0.10000\n",
      "2018-10-16 23:58:55,114 - nn-real-hvd - INFO -   1052     1 94186.8     0.0   0.002 0.10000\n",
      "2018-10-16 23:58:55,163 - nn-real-hvd - INFO -   1053     1 92271.2     0.0   0.002 0.10000\n",
      "2018-10-16 23:58:55,163 - nn-real-hvd - INFO -   1053     1 92271.2     0.0   0.002 0.10000\n"
     ]
    },
    {
     "name": "stdout",
     "output_type": "stream",
     "text": [
      "Invalid Range: could not broadcast input array from shape (2141,257) into shape (2141,258)\n",
      "Time for Getting  0  random elements:  0:00:00.004138\n",
      "Invalid Range: could not broadcast input array from shape (2113,257) into shape (2113,258)\n",
      "Time for Getting  0  random elements:  0:00:00.004421\n",
      "Invalid Range: could not broadcast input array from shape (2103,257) into shape (2103,258)\n",
      "Time for Getting  0  random elements:  0:00:00.003733\n",
      "Invalid Range: could not broadcast input array from shape (2082,257) into shape (2082,258)\n",
      "Time for Getting  0  random elements:  0:00:00.004238\n",
      "Invalid Range: could not broadcast input array from shape (2114,257) into shape (2114,258)\n",
      "Time for Getting  0  random elements:  0:00:00.004078\n"
     ]
    },
    {
     "name": "stderr",
     "output_type": "stream",
     "text": [
      "2018-10-16 23:58:55,210 - nn-real-hvd - INFO -   1054     1 96307.5     0.0   0.002 0.10000\n",
      "2018-10-16 23:58:55,210 - nn-real-hvd - INFO -   1054     1 96307.5     0.0   0.002 0.10000\n",
      "2018-10-16 23:58:55,258 - nn-real-hvd - INFO -   1055     1 95955.9     0.0   0.002 0.10000\n",
      "2018-10-16 23:58:55,258 - nn-real-hvd - INFO -   1055     1 95955.9     0.0   0.002 0.10000\n",
      "2018-10-16 23:58:55,306 - nn-real-hvd - INFO -   1056     1 95781.1     0.0   0.002 0.10000\n",
      "2018-10-16 23:58:55,306 - nn-real-hvd - INFO -   1056     1 95781.1     0.0   0.002 0.10000\n",
      "2018-10-16 23:58:55,353 - nn-real-hvd - INFO -   1057     1 97193.6     0.0   0.002 0.10000\n",
      "2018-10-16 23:58:55,353 - nn-real-hvd - INFO -   1057     1 97193.6     0.0   0.002 0.10000\n",
      "2018-10-16 23:58:55,404 - nn-real-hvd - INFO -   1058     1 91933.9     0.0   0.002 0.10000\n",
      "2018-10-16 23:58:55,404 - nn-real-hvd - INFO -   1058     1 91933.9     0.0   0.002 0.10000\n"
     ]
    },
    {
     "name": "stdout",
     "output_type": "stream",
     "text": [
      "Invalid Range: could not broadcast input array from shape (2118,257) into shape (2118,258)\n",
      "Time for Getting  0  random elements:  0:00:00.004442\n",
      "Invalid Range: could not broadcast input array from shape (2162,257) into shape (2162,258)\n",
      "Time for Getting  0  random elements:  0:00:00.004380\n",
      "Invalid Range: could not broadcast input array from shape (2185,257) into shape (2185,258)\n",
      "Time for Getting  0  random elements:  0:00:00.004133\n",
      "Invalid Range: could not broadcast input array from shape (2103,257) into shape (2103,258)\n",
      "Time for Getting  0  random elements:  0:00:00.004295\n",
      "Invalid Range: could not broadcast input array from shape (2163,257) into shape (2163,258)\n",
      "Time for Getting  0  random elements:  0:00:00.004051\n"
     ]
    },
    {
     "name": "stderr",
     "output_type": "stream",
     "text": [
      "2018-10-16 23:58:55,455 - nn-real-hvd - INFO -   1059     1 89730.6     0.0   0.002 0.10000\n",
      "2018-10-16 23:58:55,455 - nn-real-hvd - INFO -   1059     1 89730.6     0.0   0.002 0.10000\n",
      "2018-10-16 23:58:55,502 - nn-real-hvd - INFO -   1060     1 97444.1     0.0   0.002 0.10000\n",
      "2018-10-16 23:58:55,502 - nn-real-hvd - INFO -   1060     1 97444.1     0.0   0.002 0.10000\n",
      "2018-10-16 23:58:55,550 - nn-real-hvd - INFO -   1061     1 95963.9     0.0   0.002 0.10000\n",
      "2018-10-16 23:58:55,550 - nn-real-hvd - INFO -   1061     1 95963.9     0.0   0.002 0.10000\n",
      "2018-10-16 23:58:55,597 - nn-real-hvd - INFO -   1062     1 95411.8     0.0   0.002 0.10000\n",
      "2018-10-16 23:58:55,597 - nn-real-hvd - INFO -   1062     1 95411.8     0.0   0.002 0.10000\n",
      "2018-10-16 23:58:55,645 - nn-real-hvd - INFO -   1063     1 97073.1     0.0   0.002 0.10000\n",
      "2018-10-16 23:58:55,645 - nn-real-hvd - INFO -   1063     1 97073.1     0.0   0.002 0.10000\n"
     ]
    },
    {
     "name": "stdout",
     "output_type": "stream",
     "text": [
      "Invalid Range: could not broadcast input array from shape (2104,257) into shape (2104,258)\n",
      "Time for Getting  0  random elements:  0:00:00.004402\n",
      "Invalid Range: could not broadcast input array from shape (2095,257) into shape (2095,258)\n",
      "Time for Getting  0  random elements:  0:00:00.004482\n",
      "Invalid Range: could not broadcast input array from shape (2104,257) into shape (2104,258)\n",
      "Time for Getting  0  random elements:  0:00:00.004518\n",
      "Invalid Range: could not broadcast input array from shape (2109,257) into shape (2109,258)\n",
      "Time for Getting  0  random elements:  0:00:00.004544\n",
      "Invalid Range: could not broadcast input array from shape (2156,257) into shape (2156,258)\n",
      "Time for Getting  0  random elements:  0:00:00.004472\n"
     ]
    },
    {
     "name": "stderr",
     "output_type": "stream",
     "text": [
      "2018-10-16 23:58:55,695 - nn-real-hvd - INFO -   1064     1 90948.2     0.0   0.002 0.10000\n",
      "2018-10-16 23:58:55,695 - nn-real-hvd - INFO -   1064     1 90948.2     0.0   0.002 0.10000\n",
      "2018-10-16 23:58:55,744 - nn-real-hvd - INFO -   1065     1 93509.6     0.0   0.002 0.10000\n",
      "2018-10-16 23:58:55,744 - nn-real-hvd - INFO -   1065     1 93509.6     0.0   0.002 0.10000\n",
      "2018-10-16 23:58:55,793 - nn-real-hvd - INFO -   1066     1 93151.1     0.0   0.002 0.10000\n",
      "2018-10-16 23:58:55,793 - nn-real-hvd - INFO -   1066     1 93151.1     0.0   0.002 0.10000\n",
      "2018-10-16 23:58:55,841 - nn-real-hvd - INFO -   1067     1 96212.1     0.0   0.002 0.10000\n",
      "2018-10-16 23:58:55,841 - nn-real-hvd - INFO -   1067     1 96212.1     0.0   0.002 0.10000\n",
      "2018-10-16 23:58:55,892 - nn-real-hvd - INFO -   1068     1 90049.8     0.0   0.002 0.10000\n",
      "2018-10-16 23:58:55,892 - nn-real-hvd - INFO -   1068     1 90049.8     0.0   0.002 0.10000\n"
     ]
    },
    {
     "name": "stdout",
     "output_type": "stream",
     "text": [
      "Invalid Range: could not broadcast input array from shape (2146,257) into shape (2146,258)\n",
      "Time for Getting  0  random elements:  0:00:00.004267\n",
      "Invalid Range: could not broadcast input array from shape (2210,257) into shape (2210,258)\n",
      "Time for Getting  0  random elements:  0:00:00.004189\n",
      "Invalid Range: could not broadcast input array from shape (2099,257) into shape (2099,258)\n",
      "Time for Getting  0  random elements:  0:00:00.003953\n",
      "Invalid Range: could not broadcast input array from shape (2134,257) into shape (2134,258)\n",
      "Time for Getting  0  random elements:  0:00:00.004631\n",
      "Invalid Range: could not broadcast input array from shape (2084,257) into shape (2084,258)\n",
      "Time for Getting  0  random elements:  0:00:00.003957\n"
     ]
    },
    {
     "name": "stderr",
     "output_type": "stream",
     "text": [
      "2018-10-16 23:58:55,940 - nn-real-hvd - INFO -   1069     1 94134.3     0.0   0.002 0.10000\n",
      "2018-10-16 23:58:55,940 - nn-real-hvd - INFO -   1069     1 94134.3     0.0   0.002 0.10000\n",
      "2018-10-16 23:58:55,987 - nn-real-hvd - INFO -   1070     1 97994.1     0.0   0.002 0.10000\n",
      "2018-10-16 23:58:55,987 - nn-real-hvd - INFO -   1070     1 97994.1     0.0   0.002 0.10000\n",
      "2018-10-16 23:58:56,035 - nn-real-hvd - INFO -   1071     1 94725.2     0.0   0.002 0.10000\n",
      "2018-10-16 23:58:56,035 - nn-real-hvd - INFO -   1071     1 94725.2     0.0   0.002 0.10000\n",
      "2018-10-16 23:58:56,086 - nn-real-hvd - INFO -   1072     1 91137.5     0.0   0.002 0.10000\n",
      "2018-10-16 23:58:56,086 - nn-real-hvd - INFO -   1072     1 91137.5     0.0   0.002 0.10000\n",
      "2018-10-16 23:58:56,134 - nn-real-hvd - INFO -   1073     1 93195.1     0.0   0.002 0.10000\n",
      "2018-10-16 23:58:56,134 - nn-real-hvd - INFO -   1073     1 93195.1     0.0   0.002 0.10000\n"
     ]
    },
    {
     "name": "stdout",
     "output_type": "stream",
     "text": [
      "Invalid Range: could not broadcast input array from shape (2083,257) into shape (2083,258)\n",
      "Time for Getting  0  random elements:  0:00:00.003763\n",
      "Invalid Range: could not broadcast input array from shape (2096,257) into shape (2096,258)\n",
      "Time for Getting  0  random elements:  0:00:00.003848\n",
      "Invalid Range: could not broadcast input array from shape (2098,257) into shape (2098,258)\n",
      "Time for Getting  0  random elements:  0:00:00.004052\n",
      "Invalid Range: could not broadcast input array from shape (2095,257) into shape (2095,258)\n",
      "Time for Getting  0  random elements:  0:00:00.004226\n",
      "Invalid Range: could not broadcast input array from shape (2144,257) into shape (2144,258)\n",
      "Time for Getting  0  random elements:  0:00:00.004143\n"
     ]
    },
    {
     "name": "stderr",
     "output_type": "stream",
     "text": [
      "2018-10-16 23:58:56,186 - nn-real-hvd - INFO -   1074     1 92374.5     0.0   0.002 0.10000\n",
      "2018-10-16 23:58:56,186 - nn-real-hvd - INFO -   1074     1 92374.5     0.0   0.002 0.10000\n",
      "2018-10-16 23:58:56,234 - nn-real-hvd - INFO -   1075     1 94549.1     0.0   0.002 0.10000\n",
      "2018-10-16 23:58:56,234 - nn-real-hvd - INFO -   1075     1 94549.1     0.0   0.002 0.10000\n",
      "2018-10-16 23:58:56,283 - nn-real-hvd - INFO -   1076     1 93494.1     0.0   0.002 0.10000\n",
      "2018-10-16 23:58:56,283 - nn-real-hvd - INFO -   1076     1 93494.1     0.0   0.002 0.10000\n",
      "2018-10-16 23:58:56,330 - nn-real-hvd - INFO -   1077     1 97122.9     0.0   0.002 0.10000\n",
      "2018-10-16 23:58:56,330 - nn-real-hvd - INFO -   1077     1 97122.9     0.0   0.002 0.10000\n",
      "2018-10-16 23:58:56,379 - nn-real-hvd - INFO -   1078     1 94135.7     0.0   0.002 0.10000\n",
      "2018-10-16 23:58:56,379 - nn-real-hvd - INFO -   1078     1 94135.7     0.0   0.002 0.10000\n"
     ]
    },
    {
     "name": "stdout",
     "output_type": "stream",
     "text": [
      "Invalid Range: could not broadcast input array from shape (2171,257) into shape (2171,258)\n",
      "Time for Getting  0  random elements:  0:00:00.004121\n",
      "Invalid Range: could not broadcast input array from shape (2151,257) into shape (2151,258)\n",
      "Time for Getting  0  random elements:  0:00:00.003933\n",
      "Invalid Range: could not broadcast input array from shape (2137,257) into shape (2137,258)\n",
      "Time for Getting  0  random elements:  0:00:00.003755\n",
      "Invalid Range: could not broadcast input array from shape (2155,257) into shape (2155,258)\n",
      "Time for Getting  0  random elements:  0:00:00.003716\n",
      "Invalid Range: could not broadcast input array from shape (2138,257) into shape (2138,258)\n",
      "Time for Getting  0  random elements:  0:00:00.004351\n"
     ]
    },
    {
     "name": "stderr",
     "output_type": "stream",
     "text": [
      "2018-10-16 23:58:56,426 - nn-real-hvd - INFO -   1079     1 96253.5     0.0   0.002 0.10000\n",
      "2018-10-16 23:58:56,426 - nn-real-hvd - INFO -   1079     1 96253.5     0.0   0.002 0.10000\n",
      "2018-10-16 23:58:56,473 - nn-real-hvd - INFO -   1080     1 97673.9     0.0   0.002 0.10000\n",
      "2018-10-16 23:58:56,473 - nn-real-hvd - INFO -   1080     1 97673.9     0.0   0.002 0.10000\n",
      "2018-10-16 23:58:56,525 - nn-real-hvd - INFO -   1081     1 87936.5     0.1   0.002 0.10000\n",
      "2018-10-16 23:58:56,525 - nn-real-hvd - INFO -   1081     1 87936.5     0.1   0.002 0.10000\n",
      "2018-10-16 23:58:56,573 - nn-real-hvd - INFO -   1082     1 94929.2     0.0   0.002 0.10000\n",
      "2018-10-16 23:58:56,573 - nn-real-hvd - INFO -   1082     1 94929.2     0.0   0.002 0.10000\n",
      "2018-10-16 23:58:56,622 - nn-real-hvd - INFO -   1083     1 94406.7     0.0   0.002 0.10000\n",
      "2018-10-16 23:58:56,622 - nn-real-hvd - INFO -   1083     1 94406.7     0.0   0.002 0.10000\n"
     ]
    },
    {
     "name": "stdout",
     "output_type": "stream",
     "text": [
      "Invalid Range: could not broadcast input array from shape (2168,257) into shape (2168,258)\n",
      "Time for Getting  0  random elements:  0:00:00.003843\n",
      "Invalid Range: could not broadcast input array from shape (2130,257) into shape (2130,258)\n",
      "Time for Getting  0  random elements:  0:00:00.004397\n",
      "Invalid Range: could not broadcast input array from shape (2113,257) into shape (2113,258)\n",
      "Time for Getting  0  random elements:  0:00:00.004343\n",
      "Invalid Range: could not broadcast input array from shape (2094,257) into shape (2094,258)\n",
      "Time for Getting  0  random elements:  0:00:00.003907\n",
      "Invalid Range: could not broadcast input array from shape (2112,257) into shape (2112,258)\n"
     ]
    },
    {
     "name": "stderr",
     "output_type": "stream",
     "text": [
      "2018-10-16 23:58:56,672 - nn-real-hvd - INFO -   1084     1 91431.6     0.0   0.002 0.10000\n",
      "2018-10-16 23:58:56,672 - nn-real-hvd - INFO -   1084     1 91431.6     0.0   0.002 0.10000\n",
      "2018-10-16 23:58:56,721 - nn-real-hvd - INFO -   1085     1 94620.9     0.0   0.002 0.10000\n",
      "2018-10-16 23:58:56,721 - nn-real-hvd - INFO -   1085     1 94620.9     0.0   0.002 0.10000\n",
      "2018-10-16 23:58:56,768 - nn-real-hvd - INFO -   1086     1 98455.8     0.0   0.002 0.10000\n",
      "2018-10-16 23:58:56,768 - nn-real-hvd - INFO -   1086     1 98455.8     0.0   0.002 0.10000\n",
      "2018-10-16 23:58:56,815 - nn-real-hvd - INFO -   1087     1 96947.4     0.0   0.002 0.10000\n",
      "2018-10-16 23:58:56,815 - nn-real-hvd - INFO -   1087     1 96947.4     0.0   0.002 0.10000\n"
     ]
    },
    {
     "name": "stdout",
     "output_type": "stream",
     "text": [
      "Time for Getting  0  random elements:  0:00:00.004227\n",
      "Invalid Range: could not broadcast input array from shape (2170,257) into shape (2170,258)\n",
      "Time for Getting  0  random elements:  0:00:00.004192\n",
      "Invalid Range: could not broadcast input array from shape (2142,257) into shape (2142,258)\n",
      "Time for Getting  0  random elements:  0:00:00.004300\n",
      "Invalid Range: could not broadcast input array from shape (2183,257) into shape (2183,258)\n",
      "Time for Getting  0  random elements:  0:00:00.004020\n",
      "Invalid Range: could not broadcast input array from shape (2121,257) into shape (2121,258)\n",
      "Time for Getting  0  random elements:  0:00:00.004492\n"
     ]
    },
    {
     "name": "stderr",
     "output_type": "stream",
     "text": [
      "2018-10-16 23:58:56,863 - nn-real-hvd - INFO -   1088     1 96139.8     0.0   0.002 0.10000\n",
      "2018-10-16 23:58:56,863 - nn-real-hvd - INFO -   1088     1 96139.8     0.0   0.002 0.10000\n",
      "2018-10-16 23:58:56,911 - nn-real-hvd - INFO -   1089     1 94060.3     0.0   0.002 0.10000\n",
      "2018-10-16 23:58:56,911 - nn-real-hvd - INFO -   1089     1 94060.3     0.0   0.002 0.10000\n",
      "2018-10-16 23:58:56,959 - nn-real-hvd - INFO -   1090     1 96443.6     0.0   0.002 0.10000\n",
      "2018-10-16 23:58:56,959 - nn-real-hvd - INFO -   1090     1 96443.6     0.0   0.002 0.10000\n",
      "2018-10-16 23:58:57,007 - nn-real-hvd - INFO -   1091     1 96073.1     0.0   0.002 0.10000\n",
      "2018-10-16 23:58:57,007 - nn-real-hvd - INFO -   1091     1 96073.1     0.0   0.002 0.10000\n",
      "2018-10-16 23:58:57,054 - nn-real-hvd - INFO -   1092     1 97116.8     0.0   0.002 0.10000\n",
      "2018-10-16 23:58:57,054 - nn-real-hvd - INFO -   1092     1 97116.8     0.0   0.002 0.10000\n"
     ]
    },
    {
     "name": "stdout",
     "output_type": "stream",
     "text": [
      "Invalid Range: could not broadcast input array from shape (2070,257) into shape (2070,258)\n",
      "Time for Getting  0  random elements:  0:00:00.003871\n",
      "Invalid Range: could not broadcast input array from shape (2112,257) into shape (2112,258)\n",
      "Time for Getting  0  random elements:  0:00:00.004326\n",
      "Invalid Range: could not broadcast input array from shape (2143,257) into shape (2143,258)\n",
      "Time for Getting  0  random elements:  0:00:00.004306\n",
      "Invalid Range: could not broadcast input array from shape (2114,257) into shape (2114,258)\n",
      "Time for Getting  0  random elements:  0:00:00.004258\n",
      "Invalid Range: could not broadcast input array from shape (2111,257) into shape (2111,258)\n",
      "Time for Getting  0  random elements:  0:00:00.004335\n"
     ]
    },
    {
     "name": "stderr",
     "output_type": "stream",
     "text": [
      "2018-10-16 23:58:57,102 - nn-real-hvd - INFO -   1093     1 95586.3     0.0   0.002 0.10000\n",
      "2018-10-16 23:58:57,102 - nn-real-hvd - INFO -   1093     1 95586.3     0.0   0.002 0.10000\n",
      "2018-10-16 23:58:57,150 - nn-real-hvd - INFO -   1094     1 93925.1     0.0   0.002 0.10000\n",
      "2018-10-16 23:58:57,150 - nn-real-hvd - INFO -   1094     1 93925.1     0.0   0.002 0.10000\n",
      "2018-10-16 23:58:57,198 - nn-real-hvd - INFO -   1095     1 96042.3     0.0   0.002 0.10000\n",
      "2018-10-16 23:58:57,198 - nn-real-hvd - INFO -   1095     1 96042.3     0.0   0.002 0.10000\n",
      "2018-10-16 23:58:57,248 - nn-real-hvd - INFO -   1096     1 89995.2     0.0   0.002 0.10000\n",
      "2018-10-16 23:58:57,248 - nn-real-hvd - INFO -   1096     1 89995.2     0.0   0.002 0.10000\n",
      "2018-10-16 23:58:57,296 - nn-real-hvd - INFO -   1097     1 96790.1     0.0   0.002 0.10000\n",
      "2018-10-16 23:58:57,296 - nn-real-hvd - INFO -   1097     1 96790.1     0.0   0.002 0.10000\n"
     ]
    },
    {
     "name": "stdout",
     "output_type": "stream",
     "text": [
      "Invalid Range: could not broadcast input array from shape (2175,257) into shape (2175,258)\n",
      "Time for Getting  0  random elements:  0:00:00.004306\n",
      "Invalid Range: could not broadcast input array from shape (2149,257) into shape (2149,258)\n",
      "Time for Getting  0  random elements:  0:00:00.004031\n",
      "Invalid Range: could not broadcast input array from shape (2150,257) into shape (2150,258)\n",
      "Time for Getting  0  random elements:  0:00:00.004000\n",
      "Invalid Range: could not broadcast input array from shape (2107,257) into shape (2107,258)\n",
      "Time for Getting  0  random elements:  0:00:00.004082\n",
      "Invalid Range: could not broadcast input array from shape (2169,257) into shape (2169,258)\n",
      "Time for Getting  0  random elements:  0:00:00.004402\n"
     ]
    },
    {
     "name": "stderr",
     "output_type": "stream",
     "text": [
      "2018-10-16 23:58:57,343 - nn-real-hvd - INFO -   1098     1 96454.6     0.0   0.002 0.10000\n",
      "2018-10-16 23:58:57,343 - nn-real-hvd - INFO -   1098     1 96454.6     0.0   0.002 0.10000\n",
      "2018-10-16 23:58:57,392 - nn-real-hvd - INFO -   1099     1 93426.8     0.0   0.002 0.10000\n",
      "2018-10-16 23:58:57,392 - nn-real-hvd - INFO -   1099     1 93426.8     0.0   0.002 0.10000\n",
      "2018-10-16 23:58:57,441 - nn-real-hvd - INFO -   1100     1 92784.6     0.0   0.002 0.10000\n",
      "2018-10-16 23:58:57,441 - nn-real-hvd - INFO -   1100     1 92784.6     0.0   0.002 0.10000\n",
      "2018-10-16 23:58:57,489 - nn-real-hvd - INFO -   1101     1 96750.3     0.0   0.002 0.10000\n",
      "2018-10-16 23:58:57,489 - nn-real-hvd - INFO -   1101     1 96750.3     0.0   0.002 0.10000\n",
      "2018-10-16 23:58:57,537 - nn-real-hvd - INFO -   1102     1 93944.6     0.0   0.002 0.10000\n",
      "2018-10-16 23:58:57,537 - nn-real-hvd - INFO -   1102     1 93944.6     0.0   0.002 0.10000\n"
     ]
    },
    {
     "name": "stdout",
     "output_type": "stream",
     "text": [
      "Invalid Range: could not broadcast input array from shape (2158,257) into shape (2158,258)\n",
      "Time for Getting  0  random elements:  0:00:00.004078\n",
      "Invalid Range: could not broadcast input array from shape (2146,257) into shape (2146,258)\n",
      "Time for Getting  0  random elements:  0:00:00.004033\n",
      "Invalid Range: could not broadcast input array from shape (2128,257) into shape (2128,258)\n",
      "Time for Getting  0  random elements:  0:00:00.003776\n",
      "Invalid Range: could not broadcast input array from shape (2137,257) into shape (2137,258)\n",
      "Time for Getting  0  random elements:  0:00:00.004005\n",
      "Invalid Range: could not broadcast input array from shape (2208,257) into shape (2208,258)\n",
      "Time for Getting  0  random elements:  0:00:00.004327\n"
     ]
    },
    {
     "name": "stderr",
     "output_type": "stream",
     "text": [
      "2018-10-16 23:58:57,584 - nn-real-hvd - INFO -   1103     1 99206.2     0.0   0.002 0.10000\n",
      "2018-10-16 23:58:57,584 - nn-real-hvd - INFO -   1103     1 99206.2     0.0   0.002 0.10000\n",
      "2018-10-16 23:58:57,632 - nn-real-hvd - INFO -   1104     1 95209.2     0.0   0.002 0.10000\n",
      "2018-10-16 23:58:57,632 - nn-real-hvd - INFO -   1104     1 95209.2     0.0   0.002 0.10000\n",
      "2018-10-16 23:58:57,680 - nn-real-hvd - INFO -   1105     1 93733.0     0.0   0.002 0.10000\n",
      "2018-10-16 23:58:57,680 - nn-real-hvd - INFO -   1105     1 93733.0     0.0   0.002 0.10000\n",
      "2018-10-16 23:58:57,731 - nn-real-hvd - INFO -   1106     1 90355.3     0.0   0.002 0.10000\n",
      "2018-10-16 23:58:57,731 - nn-real-hvd - INFO -   1106     1 90355.3     0.0   0.002 0.10000\n",
      "2018-10-16 23:58:57,780 - nn-real-hvd - INFO -   1107     1 93184.8     0.0   0.002 0.10000\n",
      "2018-10-16 23:58:57,780 - nn-real-hvd - INFO -   1107     1 93184.8     0.0   0.002 0.10000\n"
     ]
    },
    {
     "name": "stdout",
     "output_type": "stream",
     "text": [
      "Invalid Range: could not broadcast input array from shape (2168,257) into shape (2168,258)\n",
      "Time for Getting  0  random elements:  0:00:00.004554\n",
      "Invalid Range: could not broadcast input array from shape (2174,257) into shape (2174,258)\n",
      "Time for Getting  0  random elements:  0:00:00.004048\n",
      "Invalid Range: could not broadcast input array from shape (2115,257) into shape (2115,258)\n",
      "Time for Getting  0  random elements:  0:00:00.004104\n",
      "Invalid Range: could not broadcast input array from shape (2160,257) into shape (2160,258)\n",
      "Time for Getting  0  random elements:  0:00:00.004087\n",
      "Invalid Range: could not broadcast input array from shape (2138,257) into shape (2138,258)\n",
      "Time for Getting  0"
     ]
    },
    {
     "name": "stderr",
     "output_type": "stream",
     "text": [
      "2018-10-16 23:58:57,832 - nn-real-hvd - INFO -   1108     1 89183.5     0.0   0.002 0.10000\n",
      "2018-10-16 23:58:57,832 - nn-real-hvd - INFO -   1108     1 89183.5     0.0   0.002 0.10000\n",
      "2018-10-16 23:58:57,880 - nn-real-hvd - INFO -   1109     1 95546.4     0.0   0.002 0.10000\n",
      "2018-10-16 23:58:57,880 - nn-real-hvd - INFO -   1109     1 95546.4     0.0   0.002 0.10000\n",
      "2018-10-16 23:58:57,930 - nn-real-hvd - INFO -   1110     1 92617.9     0.0   0.002 0.10000\n",
      "2018-10-16 23:58:57,930 - nn-real-hvd - INFO -   1110     1 92617.9     0.0   0.002 0.10000\n",
      "2018-10-16 23:58:57,979 - nn-real-hvd - INFO -   1111     1 93933.2     0.0   0.002 0.10000\n",
      "2018-10-16 23:58:57,979 - nn-real-hvd - INFO -   1111     1 93933.2     0.0   0.002 0.10000\n"
     ]
    },
    {
     "name": "stdout",
     "output_type": "stream",
     "text": [
      "  random elements:  0:00:00.004223\n",
      "Invalid Range: could not broadcast input array from shape (2167,257) into shape (2167,258)\n",
      "Time for Getting  0  random elements:  0:00:00.003943\n",
      "Invalid Range: could not broadcast input array from shape (2136,257) into shape (2136,258)\n",
      "Time for Getting  0  random elements:  0:00:00.003916\n",
      "Invalid Range: could not broadcast input array from shape (2155,257) into shape (2155,258)\n",
      "Time for Getting  0  random elements:  0:00:00.004185\n",
      "Invalid Range: could not broadcast input array from shape (2149,257) into shape (2149,258)\n",
      "Time for Getting  0  random elements:  0:00:00.003938\n"
     ]
    },
    {
     "name": "stderr",
     "output_type": "stream",
     "text": [
      "2018-10-16 23:58:58,026 - nn-real-hvd - INFO -   1112     1 98101.4     0.0   0.002 0.10000\n",
      "2018-10-16 23:58:58,026 - nn-real-hvd - INFO -   1112     1 98101.4     0.0   0.002 0.10000\n",
      "2018-10-16 23:58:58,073 - nn-real-hvd - INFO -   1113     1 97474.8     0.0   0.002 0.10000\n",
      "2018-10-16 23:58:58,073 - nn-real-hvd - INFO -   1113     1 97474.8     0.0   0.002 0.10000\n",
      "2018-10-16 23:58:58,124 - nn-real-hvd - INFO -   1114     1 88522.0     0.0   0.002 0.10000\n",
      "2018-10-16 23:58:58,124 - nn-real-hvd - INFO -   1114     1 88522.0     0.0   0.002 0.10000\n",
      "2018-10-16 23:58:58,171 - nn-real-hvd - INFO -   1115     1 98487.1     0.0   0.002 0.10000\n",
      "2018-10-16 23:58:58,171 - nn-real-hvd - INFO -   1115     1 98487.1     0.0   0.002 0.10000\n",
      "2018-10-16 23:58:58,218 - nn-real-hvd - INFO -   1116     1 96398.0     0.0   0.002 0.10000\n",
      "2018-10-16 23:58:58,218 - nn-real-hvd - INFO -   1116     1 96398.0     0.0   0.002 0.10000\n"
     ]
    },
    {
     "name": "stdout",
     "output_type": "stream",
     "text": [
      "Invalid Range: could not broadcast input array from shape (2139,257) into shape (2139,258)\n",
      "Time for Getting  0  random elements:  0:00:00.004201\n",
      "Invalid Range: could not broadcast input array from shape (2149,257) into shape (2149,258)\n",
      "Time for Getting  0  random elements:  0:00:00.004016\n",
      "Invalid Range: could not broadcast input array from shape (2133,257) into shape (2133,258)\n",
      "Time for Getting  0  random elements:  0:00:00.004143\n",
      "Invalid Range: could not broadcast input array from shape (2082,257) into shape (2082,258)\n",
      "Time for Getting  0  random elements:  0:00:00.004021\n",
      "Invalid Range: could not broadcast input array from shape (2093,257) into shape (2093,258)\n",
      "Time for Getting  0  random elements:  0:00:00.004208\n"
     ]
    },
    {
     "name": "stderr",
     "output_type": "stream",
     "text": [
      "2018-10-16 23:58:58,267 - nn-real-hvd - INFO -   1117     1 94366.4     0.0   0.002 0.10000\n",
      "2018-10-16 23:58:58,267 - nn-real-hvd - INFO -   1117     1 94366.4     0.0   0.002 0.10000\n",
      "2018-10-16 23:58:58,316 - nn-real-hvd - INFO -   1118     1 93481.9     0.0   0.002 0.10000\n",
      "2018-10-16 23:58:58,316 - nn-real-hvd - INFO -   1118     1 93481.9     0.0   0.002 0.10000\n",
      "2018-10-16 23:58:58,372 - nn-real-hvd - INFO -   1119     1 82075.4     0.1   0.002 0.10000\n",
      "2018-10-16 23:58:58,372 - nn-real-hvd - INFO -   1119     1 82075.4     0.1   0.002 0.10000\n",
      "2018-10-16 23:58:58,419 - nn-real-hvd - INFO -   1120     1 95999.6     0.0   0.002 0.10000\n",
      "2018-10-16 23:58:58,419 - nn-real-hvd - INFO -   1120     1 95999.6     0.0   0.002 0.10000\n",
      "2018-10-16 23:58:58,466 - nn-real-hvd - INFO -   1121     1 96891.2     0.0   0.002 0.10000\n",
      "2018-10-16 23:58:58,466 - nn-real-hvd - INFO -   1121     1 96891.2     0.0   0.002 0.10000\n"
     ]
    },
    {
     "name": "stdout",
     "output_type": "stream",
     "text": [
      "Invalid Range: could not broadcast input array from shape (2110,257) into shape (2110,258)\n",
      "Time for Getting  0  random elements:  0:00:00.004002\n",
      "Invalid Range: could not broadcast input array from shape (2175,257) into shape (2175,258)\n",
      "Time for Getting  0  random elements:  0:00:00.003893\n",
      "Invalid Range: could not broadcast input array from shape (2099,257) into shape (2099,258)\n",
      "Time for Getting  0  random elements:  0:00:00.004115\n",
      "Invalid Range: could not broadcast input array from shape (2119,257) into shape (2119,258)\n",
      "Time for Getting  0  random elements:  0:00:00.003561\n",
      "Invalid Range: could not broadcast input array from shape (2144,257) into shape (2144,258)\n"
     ]
    },
    {
     "name": "stderr",
     "output_type": "stream",
     "text": [
      "2018-10-16 23:58:58,514 - nn-real-hvd - INFO -   1122     1 94741.2     0.0   0.002 0.10000\n",
      "2018-10-16 23:58:58,514 - nn-real-hvd - INFO -   1122     1 94741.2     0.0   0.002 0.10000\n",
      "2018-10-16 23:58:58,578 - nn-real-hvd - INFO -   1123     1 70923.9     0.1   0.002 0.10000\n",
      "2018-10-16 23:58:58,578 - nn-real-hvd - INFO -   1123     1 70923.9     0.1   0.002 0.10000\n",
      "2018-10-16 23:58:58,632 - nn-real-hvd - INFO -   1124     1 84958.2     0.1   0.002 0.10000\n",
      "2018-10-16 23:58:58,632 - nn-real-hvd - INFO -   1124     1 84958.2     0.1   0.002 0.10000\n"
     ]
    },
    {
     "name": "stdout",
     "output_type": "stream",
     "text": [
      "Time for Getting  0  random elements:  0:00:00.004115\n",
      "Invalid Range: could not broadcast input array from shape (2111,257) into shape (2111,258)\n",
      "Time for Getting  0  random elements:  0:00:00.004389\n",
      "Invalid Range: could not broadcast input array from shape (2129,257) into shape (2129,258)\n",
      "Time for Getting  0  random elements:  0:00:00.004262\n",
      "Invalid Range: could not broadcast input array from shape (2181,257) into shape (2181,258)\n",
      "Time for Getting  0  random elements:  0:00:00.004162\n"
     ]
    },
    {
     "name": "stderr",
     "output_type": "stream",
     "text": [
      "2018-10-16 23:58:58,683 - nn-real-hvd - INFO -   1125     1 90573.1     0.0   0.002 0.10000\n",
      "2018-10-16 23:58:58,683 - nn-real-hvd - INFO -   1125     1 90573.1     0.0   0.002 0.10000\n",
      "2018-10-16 23:58:58,732 - nn-real-hvd - INFO -   1126     1 92810.6     0.0   0.002 0.10000\n",
      "2018-10-16 23:58:58,732 - nn-real-hvd - INFO -   1126     1 92810.6     0.0   0.002 0.10000\n",
      "2018-10-16 23:58:58,780 - nn-real-hvd - INFO -   1127     1 94259.5     0.0   0.002 0.10000\n",
      "2018-10-16 23:58:58,780 - nn-real-hvd - INFO -   1127     1 94259.5     0.0   0.002 0.10000\n",
      "2018-10-16 23:58:58,830 - nn-real-hvd - INFO -   1128     1 92748.9     0.0   0.002 0.10000\n",
      "2018-10-16 23:58:58,830 - nn-real-hvd - INFO -   1128     1 92748.9     0.0   0.002 0.10000\n",
      "2018-10-16 23:58:58,877 - nn-real-hvd - INFO -   1129     1 98139.7     0.0   0.002 0.10000\n",
      "2018-10-16 23:58:58,877 - nn-real-hvd - INFO -   1129     1 98139.7     0.0   0.002 0.10000\n"
     ]
    },
    {
     "name": "stdout",
     "output_type": "stream",
     "text": [
      "Invalid Range: could not broadcast input array from shape (2115,257) into shape (2115,258)\n",
      "Time for Getting  0  random elements:  0:00:00.003842\n",
      "Invalid Range: could not broadcast input array from shape (2122,257) into shape (2122,258)\n",
      "Time for Getting  0  random elements:  0:00:00.004445\n",
      "Invalid Range: could not broadcast input array from shape (2115,257) into shape (2115,258)\n",
      "Time for Getting  0  random elements:  0:00:00.004462\n",
      "Invalid Range: could not broadcast input array from shape (2172,257) into shape (2172,258)\n",
      "Time for Getting  0  random elements:  0:00:00.004477\n",
      "Invalid Range: could not broadcast input array from shape (2145,257) into shape (2145,258)\n",
      "Time for Getting  0  random elements:  0:00:00.004385\n"
     ]
    },
    {
     "name": "stderr",
     "output_type": "stream",
     "text": [
      "2018-10-16 23:58:58,926 - nn-real-hvd - INFO -   1130     1 95788.0     0.0   0.002 0.10000\n",
      "2018-10-16 23:58:58,926 - nn-real-hvd - INFO -   1130     1 95788.0     0.0   0.002 0.10000\n",
      "2018-10-16 23:58:58,975 - nn-real-hvd - INFO -   1131     1 92729.9     0.0   0.002 0.10000\n",
      "2018-10-16 23:58:58,975 - nn-real-hvd - INFO -   1131     1 92729.9     0.0   0.002 0.10000\n",
      "2018-10-16 23:58:59,022 - nn-real-hvd - INFO -   1132     1 97252.2     0.0   0.002 0.10000\n",
      "2018-10-16 23:58:59,022 - nn-real-hvd - INFO -   1132     1 97252.2     0.0   0.002 0.10000\n",
      "2018-10-16 23:58:59,070 - nn-real-hvd - INFO -   1133     1 95224.3     0.0   0.002 0.10000\n",
      "2018-10-16 23:58:59,070 - nn-real-hvd - INFO -   1133     1 95224.3     0.0   0.002 0.10000\n",
      "2018-10-16 23:58:59,118 - nn-real-hvd - INFO -   1134     1 94707.8     0.0   0.002 0.10000\n",
      "2018-10-16 23:58:59,118 - nn-real-hvd - INFO -   1134     1 94707.8     0.0   0.002 0.10000\n"
     ]
    },
    {
     "name": "stdout",
     "output_type": "stream",
     "text": [
      "Invalid Range: could not broadcast input array from shape (2142,257) into shape (2142,258)\n",
      "Time for Getting  0  random elements:  0:00:00.004312\n",
      "Invalid Range: could not broadcast input array from shape (2100,257) into shape (2100,258)\n",
      "Time for Getting  0  random elements:  0:00:00.004244\n",
      "Invalid Range: could not broadcast input array from shape (2114,257) into shape (2114,258)\n",
      "Time for Getting  0  random elements:  0:00:00.004013\n",
      "Invalid Range: could not broadcast input array from shape (2172,257) into shape (2172,258)\n",
      "Time for Getting  0  random elements:  0:00:00.004297\n",
      "Invalid Range: could not broadcast input array from shape (2120,257) into shape (2120,258)\n",
      "Time for Getting  0  random elements:  0:00:00.004595\n"
     ]
    },
    {
     "name": "stderr",
     "output_type": "stream",
     "text": [
      "2018-10-16 23:58:59,168 - nn-real-hvd - INFO -   1135     1 93433.4     0.0   0.002 0.10000\n",
      "2018-10-16 23:58:59,168 - nn-real-hvd - INFO -   1135     1 93433.4     0.0   0.002 0.10000\n",
      "2018-10-16 23:58:59,216 - nn-real-hvd - INFO -   1136     1 94502.4     0.0   0.002 0.10000\n",
      "2018-10-16 23:58:59,216 - nn-real-hvd - INFO -   1136     1 94502.4     0.0   0.002 0.10000\n",
      "2018-10-16 23:58:59,264 - nn-real-hvd - INFO -   1137     1 96512.3     0.0   0.002 0.10000\n",
      "2018-10-16 23:58:59,264 - nn-real-hvd - INFO -   1137     1 96512.3     0.0   0.002 0.10000\n",
      "2018-10-16 23:58:59,316 - nn-real-hvd - INFO -   1138     1 89343.6     0.0   0.002 0.10000\n",
      "2018-10-16 23:58:59,316 - nn-real-hvd - INFO -   1138     1 89343.6     0.0   0.002 0.10000\n",
      "2018-10-16 23:58:59,364 - nn-real-hvd - INFO -   1139     1 93572.4     0.0   0.002 0.10000\n",
      "2018-10-16 23:58:59,364 - nn-real-hvd - INFO -   1139     1 93572.4     0.0   0.002 0.10000\n"
     ]
    },
    {
     "name": "stdout",
     "output_type": "stream",
     "text": [
      "Invalid Range: could not broadcast input array from shape (2096,257) into shape (2096,258)\n",
      "Time for Getting  0  random elements:  0:00:00.004487\n",
      "Invalid Range: could not broadcast input array from shape (2213,257) into shape (2213,258)\n",
      "Time for Getting  0  random elements:  0:00:00.004186\n",
      "Invalid Range: could not broadcast input array from shape (2107,257) into shape (2107,258)\n",
      "Time for Getting  0  random elements:  0:00:00.004156\n",
      "Invalid Range: could not broadcast input array from shape (2056,257) into shape (2056,258)\n",
      "Time for Getting  0  random elements:  0:00:00.004521\n",
      "Invalid Range: could not broadcast input array from shape (2153,257) into shape (2153,258)\n",
      "Time for Getting  0  random elements:  0:00:00.004231\n"
     ]
    },
    {
     "name": "stderr",
     "output_type": "stream",
     "text": [
      "2018-10-16 23:58:59,427 - nn-real-hvd - INFO -   1140     1 72800.6     0.1   0.002 0.10000\n",
      "2018-10-16 23:58:59,427 - nn-real-hvd - INFO -   1140     1 72800.6     0.1   0.002 0.10000\n",
      "2018-10-16 23:58:59,478 - nn-real-hvd - INFO -   1141     1 90601.0     0.0   0.002 0.10000\n",
      "2018-10-16 23:58:59,478 - nn-real-hvd - INFO -   1141     1 90601.0     0.0   0.002 0.10000\n",
      "2018-10-16 23:58:59,527 - nn-real-hvd - INFO -   1142     1 92670.6     0.0   0.002 0.10000\n",
      "2018-10-16 23:58:59,527 - nn-real-hvd - INFO -   1142     1 92670.6     0.0   0.002 0.10000\n",
      "2018-10-16 23:58:59,575 - nn-real-hvd - INFO -   1143     1 95739.6     0.0   0.002 0.10000\n",
      "2018-10-16 23:58:59,575 - nn-real-hvd - INFO -   1143     1 95739.6     0.0   0.002 0.10000\n",
      "2018-10-16 23:58:59,622 - nn-real-hvd - INFO -   1144     1 98473.5     0.0   0.002 0.10000\n",
      "2018-10-16 23:58:59,622 - nn-real-hvd - INFO -   1144     1 98473.5     0.0   0.002 0.10000\n"
     ]
    },
    {
     "name": "stdout",
     "output_type": "stream",
     "text": [
      "Invalid Range: could not broadcast input array from shape (2147,257) into shape (2147,258)\n",
      "Time for Getting  0  random elements:  0:00:00.004012\n",
      "Invalid Range: could not broadcast input array from shape (2151,257) into shape (2151,258)\n",
      "Time for Getting  0  random elements:  0:00:00.004146\n",
      "Invalid Range: could not broadcast input array from shape (2153,257) into shape (2153,258)\n",
      "Time for Getting  0  random elements:  0:00:00.004872\n",
      "Invalid Range: could not broadcast input array from shape (2154,257) into shape (2154,258)\n",
      "Time for Getting  0  random elements:  0:00:00.004086\n",
      "Invalid Range: could not broadcast input array from shape (2164,257) into shape (2164,258)\n",
      "Time for Getting  0  random elements:  0:00:00.004068\n"
     ]
    },
    {
     "name": "stderr",
     "output_type": "stream",
     "text": [
      "2018-10-16 23:58:59,669 - nn-real-hvd - INFO -   1145     1 96686.8     0.0   0.002 0.10000\n",
      "2018-10-16 23:58:59,669 - nn-real-hvd - INFO -   1145     1 96686.8     0.0   0.002 0.10000\n",
      "2018-10-16 23:58:59,719 - nn-real-hvd - INFO -   1146     1 91500.1     0.0   0.002 0.10000\n",
      "2018-10-16 23:58:59,719 - nn-real-hvd - INFO -   1146     1 91500.1     0.0   0.002 0.10000\n",
      "2018-10-16 23:58:59,767 - nn-real-hvd - INFO -   1147     1 96749.8     0.0   0.002 0.10000\n",
      "2018-10-16 23:58:59,767 - nn-real-hvd - INFO -   1147     1 96749.8     0.0   0.002 0.10000\n",
      "2018-10-16 23:58:59,817 - nn-real-hvd - INFO -   1148     1 94422.6     0.0   0.002 0.10000\n",
      "2018-10-16 23:58:59,817 - nn-real-hvd - INFO -   1148     1 94422.6     0.0   0.002 0.10000\n",
      "2018-10-16 23:58:59,864 - nn-real-hvd - INFO -   1149     1 96468.1     0.0   0.002 0.10000\n",
      "2018-10-16 23:58:59,864 - nn-real-hvd - INFO -   1149     1 96468.1     0.0   0.002 0.10000\n"
     ]
    },
    {
     "name": "stdout",
     "output_type": "stream",
     "text": [
      "Invalid Range: could not broadcast input array from shape (2105,257) into shape (2105,258)\n",
      "Time for Getting  0  random elements:  0:00:00.004229\n",
      "Invalid Range: could not broadcast input array from shape (2168,257) into shape (2168,258)\n",
      "Time for Getting  0  random elements:  0:00:00.004224\n",
      "Invalid Range: could not broadcast input array from shape (2100,257) into shape (2100,258)\n",
      "Time for Getting  0  random elements:  0:00:00.003993\n",
      "Invalid Range: could not broadcast input array from shape (2163,257) into shape (2163,258)\n",
      "Time for Getting  0  random elements:  0:00:00.004150\n",
      "Invalid Range: could not broadcast input array from shape (2113,257) into shape (2113,258)\n",
      "Time for Getting  0  random elements:  0:00:00.004165\n"
     ]
    },
    {
     "name": "stderr",
     "output_type": "stream",
     "text": [
      "2018-10-16 23:58:59,914 - nn-real-hvd - INFO -   1150     1 91520.0     0.0   0.002 0.10000\n",
      "2018-10-16 23:58:59,914 - nn-real-hvd - INFO -   1150     1 91520.0     0.0   0.002 0.10000\n",
      "2018-10-16 23:58:59,963 - nn-real-hvd - INFO -   1151     1 95068.3     0.0   0.002 0.10000\n",
      "2018-10-16 23:58:59,963 - nn-real-hvd - INFO -   1151     1 95068.3     0.0   0.002 0.10000\n",
      "2018-10-16 23:59:00,011 - nn-real-hvd - INFO -   1152     1 95165.3     0.0   0.002 0.10000\n",
      "2018-10-16 23:59:00,011 - nn-real-hvd - INFO -   1152     1 95165.3     0.0   0.002 0.10000\n",
      "2018-10-16 23:59:00,059 - nn-real-hvd - INFO -   1153     1 95608.4     0.0   0.002 0.10000\n",
      "2018-10-16 23:59:00,059 - nn-real-hvd - INFO -   1153     1 95608.4     0.0   0.002 0.10000\n",
      "2018-10-16 23:59:00,107 - nn-real-hvd - INFO -   1154     1 94731.5     0.0   0.002 0.10000\n",
      "2018-10-16 23:59:00,107 - nn-real-hvd - INFO -   1154     1 94731.5     0.0   0.002 0.10000\n"
     ]
    },
    {
     "name": "stdout",
     "output_type": "stream",
     "text": [
      "Invalid Range: could not broadcast input array from shape (2081,257) into shape (2081,258)\n",
      "Time for Getting  0  random elements:  0:00:00.003960\n",
      "Invalid Range: could not broadcast input array from shape (2190,257) into shape (2190,258)\n",
      "Time for Getting  0  random elements:  0:00:00.004649\n",
      "Invalid Range: could not broadcast input array from shape (2150,257) into shape (2150,258)\n",
      "Time for Getting  0  random elements:  0:00:00.004432\n",
      "Invalid Range: could not broadcast input array from shape (2105,257) into shape (2105,258)\n",
      "Time for Getting  0  random elements:  0:00:00.004620\n",
      "Invalid Range: could not broadcast input array from shape (2089,257) into shape (2089,258)\n",
      "Time for Getting  0  random elements:  0:00:00.004012\n"
     ]
    },
    {
     "name": "stderr",
     "output_type": "stream",
     "text": [
      "2018-10-16 23:59:00,158 - nn-real-hvd - INFO -   1155     1 91813.4     0.0   0.002 0.10000\n",
      "2018-10-16 23:59:00,158 - nn-real-hvd - INFO -   1155     1 91813.4     0.0   0.002 0.10000\n",
      "2018-10-16 23:59:00,206 - nn-real-hvd - INFO -   1156     1 95642.4     0.0   0.002 0.10000\n",
      "2018-10-16 23:59:00,206 - nn-real-hvd - INFO -   1156     1 95642.4     0.0   0.002 0.10000\n",
      "2018-10-16 23:59:00,254 - nn-real-hvd - INFO -   1157     1 95826.6     0.0   0.002 0.10000\n",
      "2018-10-16 23:59:00,254 - nn-real-hvd - INFO -   1157     1 95826.6     0.0   0.002 0.10000\n",
      "2018-10-16 23:59:00,303 - nn-real-hvd - INFO -   1158     1 93140.8     0.0   0.002 0.10000\n",
      "2018-10-16 23:59:00,303 - nn-real-hvd - INFO -   1158     1 93140.8     0.0   0.002 0.10000\n",
      "2018-10-16 23:59:00,350 - nn-real-hvd - INFO -   1159     1 98581.3     0.0   0.002 0.10000\n",
      "2018-10-16 23:59:00,350 - nn-real-hvd - INFO -   1159     1 98581.3     0.0   0.002 0.10000\n"
     ]
    },
    {
     "name": "stdout",
     "output_type": "stream",
     "text": [
      "Invalid Range: could not broadcast input array from shape (2150,257) into shape (2150,258)\n",
      "Time for Getting  0  random elements:  0:00:00.004447\n",
      "Invalid Range: could not broadcast input array from shape (2162,257) into shape (2162,258)\n",
      "Time for Getting  0  random elements:  0:00:00.004027\n",
      "Invalid Range: could not broadcast input array from shape (2172,257) into shape (2172,258)\n",
      "Time for Getting  0  random elements:  0:00:00.004294\n",
      "Invalid Range: could not broadcast input array from shape (2156,257) into shape (2156,258)\n",
      "Time for Getting  0  random elements:  0:00:00.003931\n",
      "Invalid Range: could not broadcast input array from shape (2207,257) into shape (2207,258)\n",
      "Time for Getting  0  random elements:  0:00:00.004233\n"
     ]
    },
    {
     "name": "stderr",
     "output_type": "stream",
     "text": [
      "2018-10-16 23:59:00,397 - nn-real-hvd - INFO -   1160     1 95962.4     0.0   0.002 0.10000\n",
      "2018-10-16 23:59:00,397 - nn-real-hvd - INFO -   1160     1 95962.4     0.0   0.002 0.10000\n",
      "2018-10-16 23:59:00,448 - nn-real-hvd - INFO -   1161     1 91032.9     0.0   0.002 0.10000\n",
      "2018-10-16 23:59:00,448 - nn-real-hvd - INFO -   1161     1 91032.9     0.0   0.002 0.10000\n",
      "2018-10-16 23:59:00,498 - nn-real-hvd - INFO -   1162     1 91453.2     0.0   0.002 0.10000\n",
      "2018-10-16 23:59:00,498 - nn-real-hvd - INFO -   1162     1 91453.2     0.0   0.002 0.10000\n",
      "2018-10-16 23:59:00,546 - nn-real-hvd - INFO -   1163     1 95357.4     0.0   0.002 0.10000\n",
      "2018-10-16 23:59:00,546 - nn-real-hvd - INFO -   1163     1 95357.4     0.0   0.002 0.10000\n",
      "2018-10-16 23:59:00,595 - nn-real-hvd - INFO -   1164     1 94362.1     0.0   0.002 0.10000\n",
      "2018-10-16 23:59:00,595 - nn-real-hvd - INFO -   1164     1 94362.1     0.0   0.002 0.10000\n"
     ]
    },
    {
     "name": "stdout",
     "output_type": "stream",
     "text": [
      "Invalid Range: could not broadcast input array from shape (2134,257) into shape (2134,258)\n",
      "Time for Getting  0  random elements:  0:00:00.004213\n",
      "Invalid Range: could not broadcast input array from shape (2148,257) into shape (2148,258)\n",
      "Time for Getting  0  random elements:  0:00:00.004266\n",
      "Invalid Range: could not broadcast input array from shape (2105,257) into shape (2105,258)\n",
      "Time for Getting  0  random elements:  0:00:00.004508\n",
      "Invalid Range: could not broadcast input array from shape (2191,257) into shape (2191,258)\n",
      "Time for Getting  0  random elements:  0:00:00.004226\n",
      "Invalid Range: could not broadcast input array from shape (2146,257) into shape (2146,258)\n"
     ]
    },
    {
     "name": "stderr",
     "output_type": "stream",
     "text": [
      "2018-10-16 23:59:00,646 - nn-real-hvd - INFO -   1165     1 90616.9     0.0   0.002 0.10000\n",
      "2018-10-16 23:59:00,646 - nn-real-hvd - INFO -   1165     1 90616.9     0.0   0.002 0.10000\n",
      "2018-10-16 23:59:00,697 - nn-real-hvd - INFO -   1166     1 89419.8     0.0   0.002 0.10000\n",
      "2018-10-16 23:59:00,697 - nn-real-hvd - INFO -   1166     1 89419.8     0.0   0.002 0.10000\n",
      "2018-10-16 23:59:00,746 - nn-real-hvd - INFO -   1167     1 93090.8     0.0   0.002 0.10000\n",
      "2018-10-16 23:59:00,746 - nn-real-hvd - INFO -   1167     1 93090.8     0.0   0.002 0.10000\n",
      "2018-10-16 23:59:00,794 - nn-real-hvd - INFO -   1168     1 97456.4     0.0   0.002 0.10000\n",
      "2018-10-16 23:59:00,794 - nn-real-hvd - INFO -   1168     1 97456.4     0.0   0.002 0.10000\n"
     ]
    },
    {
     "name": "stdout",
     "output_type": "stream",
     "text": [
      "Time for Getting  0  random elements:  0:00:00.004555\n",
      "Invalid Range: could not broadcast input array from shape (2133,257) into shape (2133,258)\n",
      "Time for Getting  0  random elements:  0:00:00.004511\n",
      "Invalid Range: could not broadcast input array from shape (2156,257) into shape (2156,258)\n",
      "Time for Getting  0  random elements:  0:00:00.003866\n",
      "Invalid Range: could not broadcast input array from shape (2156,257) into shape (2156,258)\n",
      "Time for Getting  0  random elements:  0:00:00.004197\n",
      "Invalid Range: could not broadcast input array from shape (2169,257) into shape (2169,258)\n",
      "Time for Getting  0  random elements:  0:00:00.003906\n"
     ]
    },
    {
     "name": "stderr",
     "output_type": "stream",
     "text": [
      "2018-10-16 23:59:00,843 - nn-real-hvd - INFO -   1169     1 95931.6     0.0   0.002 0.10000\n",
      "2018-10-16 23:59:00,843 - nn-real-hvd - INFO -   1169     1 95931.6     0.0   0.002 0.10000\n",
      "2018-10-16 23:59:00,894 - nn-real-hvd - INFO -   1170     1 88977.4     0.0   0.002 0.10000\n",
      "2018-10-16 23:59:00,894 - nn-real-hvd - INFO -   1170     1 88977.4     0.0   0.002 0.10000\n",
      "2018-10-16 23:59:00,945 - nn-real-hvd - INFO -   1171     1 90788.9     0.0   0.002 0.10000\n",
      "2018-10-16 23:59:00,945 - nn-real-hvd - INFO -   1171     1 90788.9     0.0   0.002 0.10000\n",
      "2018-10-16 23:59:00,993 - nn-real-hvd - INFO -   1172     1 95126.2     0.0   0.002 0.10000\n",
      "2018-10-16 23:59:00,993 - nn-real-hvd - INFO -   1172     1 95126.2     0.0   0.002 0.10000\n",
      "2018-10-16 23:59:01,043 - nn-real-hvd - INFO -   1173     1 91770.7     0.0   0.002 0.10000\n",
      "2018-10-16 23:59:01,043 - nn-real-hvd - INFO -   1173     1 91770.7     0.0   0.002 0.10000\n"
     ]
    },
    {
     "name": "stdout",
     "output_type": "stream",
     "text": [
      "Invalid Range: could not broadcast input array from shape (2171,257) into shape (2171,258)\n",
      "Time for Getting  0  random elements:  0:00:00.004391\n",
      "Invalid Range: could not broadcast input array from shape (2091,257) into shape (2091,258)\n",
      "Time for Getting  0  random elements:  0:00:00.004476\n",
      "Invalid Range: could not broadcast input array from shape (2133,257) into shape (2133,258)\n",
      "Time for Getting  0  random elements:  0:00:00.004741\n",
      "Invalid Range: could not broadcast input array from shape (2160,257) into shape (2160,258)\n",
      "Time for Getting  0  random elements:  0:00:00.004825\n",
      "Invalid Range: could not broadcast input array from shape (2166,257) into shape (2166,258)\n"
     ]
    },
    {
     "name": "stderr",
     "output_type": "stream",
     "text": [
      "2018-10-16 23:59:01,092 - nn-real-hvd - INFO -   1174     1 94523.6     0.0   0.002 0.10000\n",
      "2018-10-16 23:59:01,092 - nn-real-hvd - INFO -   1174     1 94523.6     0.0   0.002 0.10000\n",
      "2018-10-16 23:59:01,140 - nn-real-hvd - INFO -   1175     1 96355.0     0.0   0.002 0.10000\n",
      "2018-10-16 23:59:01,140 - nn-real-hvd - INFO -   1175     1 96355.0     0.0   0.002 0.10000\n",
      "2018-10-16 23:59:01,188 - nn-real-hvd - INFO -   1176     1 94743.6     0.0   0.002 0.10000\n",
      "2018-10-16 23:59:01,188 - nn-real-hvd - INFO -   1176     1 94743.6     0.0   0.002 0.10000\n",
      "2018-10-16 23:59:01,238 - nn-real-hvd - INFO -   1177     1 92883.0     0.0   0.002 0.10000\n",
      "2018-10-16 23:59:01,238 - nn-real-hvd - INFO -   1177     1 92883.0     0.0   0.002 0.10000\n"
     ]
    },
    {
     "name": "stdout",
     "output_type": "stream",
     "text": [
      "Time for Getting  0  random elements:  0:00:00.004564\n",
      "Invalid Range: could not broadcast input array from shape (2096,257) into shape (2096,258)\n",
      "Time for Getting  0  random elements:  0:00:00.004535\n",
      "Invalid Range: could not broadcast input array from shape (2110,257) into shape (2110,258)\n",
      "Time for Getting  0  random elements:  0:00:00.004572\n",
      "Invalid Range: could not broadcast input array from shape (2138,257) into shape (2138,258)\n",
      "Time for Getting  0  random elements:  0:00:00.003881\n",
      "Invalid Range: could not broadcast input array from shape (2132,257) into shape (2132,258)\n",
      "Time for Getting  0  random elements:  0:00:00.004235\n"
     ]
    },
    {
     "name": "stderr",
     "output_type": "stream",
     "text": [
      "2018-10-16 23:59:01,288 - nn-real-hvd - INFO -   1178     1 91207.9     0.0   0.002 0.10000\n",
      "2018-10-16 23:59:01,288 - nn-real-hvd - INFO -   1178     1 91207.9     0.0   0.002 0.10000\n",
      "2018-10-16 23:59:01,339 - nn-real-hvd - INFO -   1179     1 89843.6     0.0   0.002 0.10000\n",
      "2018-10-16 23:59:01,339 - nn-real-hvd - INFO -   1179     1 89843.6     0.0   0.002 0.10000\n",
      "2018-10-16 23:59:01,388 - nn-real-hvd - INFO -   1180     1 92275.3     0.0   0.002 0.10000\n",
      "2018-10-16 23:59:01,388 - nn-real-hvd - INFO -   1180     1 92275.3     0.0   0.002 0.10000\n",
      "2018-10-16 23:59:01,439 - nn-real-hvd - INFO -   1181     1 90991.4     0.0   0.002 0.10000\n",
      "2018-10-16 23:59:01,439 - nn-real-hvd - INFO -   1181     1 90991.4     0.0   0.002 0.10000\n",
      "2018-10-16 23:59:01,486 - nn-real-hvd - INFO -   1182     1 96932.2     0.0   0.002 0.10000\n",
      "2018-10-16 23:59:01,486 - nn-real-hvd - INFO -   1182     1 96932.2     0.0   0.002 0.10000\n"
     ]
    },
    {
     "name": "stdout",
     "output_type": "stream",
     "text": [
      "Invalid Range: could not broadcast input array from shape (2169,257) into shape (2169,258)\n",
      "Time for Getting  0  random elements:  0:00:00.003907\n",
      "Invalid Range: could not broadcast input array from shape (2137,257) into shape (2137,258)\n",
      "Time for Getting  0  random elements:  0:00:00.004183\n",
      "Invalid Range: could not broadcast input array from shape (2169,257) into shape (2169,258)\n",
      "Time for Getting  0  random elements:  0:00:00.004233\n",
      "Invalid Range: could not broadcast input array from shape (2120,257) into shape (2120,258)\n",
      "Time for Getting  0  random elements:  0:00:00.004540\n",
      "Invalid Range: could not broadcast input array from shape (2090,257) into shape (2090,258)\n",
      "Time for Getting  0  random elements: "
     ]
    },
    {
     "name": "stderr",
     "output_type": "stream",
     "text": [
      "2018-10-16 23:59:01,537 - nn-real-hvd - INFO -   1183     1 91367.3     0.0   0.002 0.10000\n",
      "2018-10-16 23:59:01,537 - nn-real-hvd - INFO -   1183     1 91367.3     0.0   0.002 0.10000\n",
      "2018-10-16 23:59:01,586 - nn-real-hvd - INFO -   1184     1 92441.7     0.0   0.002 0.10000\n",
      "2018-10-16 23:59:01,586 - nn-real-hvd - INFO -   1184     1 92441.7     0.0   0.002 0.10000\n",
      "2018-10-16 23:59:01,635 - nn-real-hvd - INFO -   1185     1 92926.8     0.0   0.002 0.10000\n",
      "2018-10-16 23:59:01,635 - nn-real-hvd - INFO -   1185     1 92926.8     0.0   0.002 0.10000\n",
      "2018-10-16 23:59:01,684 - nn-real-hvd - INFO -   1186     1 94971.4     0.0   0.002 0.10000\n",
      "2018-10-16 23:59:01,684 - nn-real-hvd - INFO -   1186     1 94971.4     0.0   0.002 0.10000\n"
     ]
    },
    {
     "name": "stdout",
     "output_type": "stream",
     "text": [
      " 0:00:00.004474\n",
      "Invalid Range: could not broadcast input array from shape (2127,257) into shape (2127,258)\n",
      "Time for Getting  0  random elements:  0:00:00.004349\n",
      "Invalid Range: could not broadcast input array from shape (2099,257) into shape (2099,258)\n",
      "Time for Getting  0  random elements:  0:00:00.004827\n",
      "Invalid Range: could not broadcast input array from shape (2171,257) into shape (2171,258)\n",
      "Time for Getting  0  random elements:  0:00:00.004338\n",
      "Invalid Range: could not broadcast input array from shape (2144,257) into shape (2144,258)\n",
      "Time for Getting  0  random elements:  0:00:00.004034\n"
     ]
    },
    {
     "name": "stderr",
     "output_type": "stream",
     "text": [
      "2018-10-16 23:59:01,730 - nn-real-hvd - INFO -   1187     1 100968.3     0.0   0.002 0.10000\n",
      "2018-10-16 23:59:01,730 - nn-real-hvd - INFO -   1187     1 100968.3     0.0   0.002 0.10000\n",
      "2018-10-16 23:59:01,776 - nn-real-hvd - INFO -   1188     1 97916.1     0.0   0.002 0.10000\n",
      "2018-10-16 23:59:01,776 - nn-real-hvd - INFO -   1188     1 97916.1     0.0   0.002 0.10000\n",
      "2018-10-16 23:59:01,823 - nn-real-hvd - INFO -   1189     1 97503.5     0.0   0.002 0.10000\n",
      "2018-10-16 23:59:01,823 - nn-real-hvd - INFO -   1189     1 97503.5     0.0   0.002 0.10000\n",
      "2018-10-16 23:59:01,872 - nn-real-hvd - INFO -   1190     1 93521.4     0.0   0.002 0.10000\n",
      "2018-10-16 23:59:01,872 - nn-real-hvd - INFO -   1190     1 93521.4     0.0   0.002 0.10000\n",
      "2018-10-16 23:59:01,921 - nn-real-hvd - INFO -   1191     1 94365.4     0.0   0.002 0.10000\n",
      "2018-10-16 23:59:01,921 - nn-real-hvd - INFO -   1191     1 94365.4     0.0   0.002 0.10000\n"
     ]
    },
    {
     "name": "stdout",
     "output_type": "stream",
     "text": [
      "Invalid Range: could not broadcast input array from shape (2132,257) into shape (2132,258)\n",
      "Time for Getting  0  random elements:  0:00:00.004249\n",
      "Invalid Range: could not broadcast input array from shape (2145,257) into shape (2145,258)\n",
      "Time for Getting  0  random elements:  0:00:00.004082\n",
      "Invalid Range: could not broadcast input array from shape (2099,257) into shape (2099,258)\n",
      "Time for Getting  0  random elements:  0:00:00.004326\n",
      "Invalid Range: could not broadcast input array from shape (2101,257) into shape (2101,258)\n",
      "Time for Getting  0  random elements:  0:00:00.004476\n",
      "Invalid Range: could not broadcast input array from shape (2133,257) into shape (2133,258)\n",
      "Time for Getting  0  random elements:  0:00:00.004410\n"
     ]
    },
    {
     "name": "stderr",
     "output_type": "stream",
     "text": [
      "2018-10-16 23:59:01,969 - nn-real-hvd - INFO -   1192     1 95246.3     0.0   0.002 0.10000\n",
      "2018-10-16 23:59:01,969 - nn-real-hvd - INFO -   1192     1 95246.3     0.0   0.002 0.10000\n",
      "2018-10-16 23:59:02,017 - nn-real-hvd - INFO -   1193     1 95213.6     0.0   0.002 0.10000\n",
      "2018-10-16 23:59:02,017 - nn-real-hvd - INFO -   1193     1 95213.6     0.0   0.002 0.10000\n",
      "2018-10-16 23:59:02,066 - nn-real-hvd - INFO -   1194     1 94309.3     0.0   0.002 0.10000\n",
      "2018-10-16 23:59:02,066 - nn-real-hvd - INFO -   1194     1 94309.3     0.0   0.002 0.10000\n",
      "2018-10-16 23:59:02,112 - nn-real-hvd - INFO -   1195     1 98757.0     0.0   0.002 0.10000\n",
      "2018-10-16 23:59:02,112 - nn-real-hvd - INFO -   1195     1 98757.0     0.0   0.002 0.10000\n",
      "2018-10-16 23:59:02,159 - nn-real-hvd - INFO -   1196     1 97365.4     0.0   0.002 0.10000\n",
      "2018-10-16 23:59:02,159 - nn-real-hvd - INFO -   1196     1 97365.4     0.0   0.002 0.10000\n"
     ]
    },
    {
     "name": "stdout",
     "output_type": "stream",
     "text": [
      "Invalid Range: could not broadcast input array from shape (2125,257) into shape (2125,258)\n",
      "Time for Getting  0  random elements:  0:00:00.004410\n",
      "Invalid Range: could not broadcast input array from shape (2082,257) into shape (2082,258)\n",
      "Time for Getting  0  random elements:  0:00:00.003818\n",
      "Invalid Range: could not broadcast input array from shape (2166,257) into shape (2166,258)\n",
      "Time for Getting  0  random elements:  0:00:00.003705\n",
      "Invalid Range: could not broadcast input array from shape (2127,257) into shape (2127,258)\n",
      "Time for Getting  0  random elements:  0:00:00.003975\n",
      "Invalid Range: could not broadcast input array from shape (2121,257) into shape (2121,258)\n",
      "Time for Getting  0  random elements:  0:00:00.003942\n"
     ]
    },
    {
     "name": "stderr",
     "output_type": "stream",
     "text": [
      "2018-10-16 23:59:02,220 - nn-real-hvd - INFO -   1197     1 75067.0     0.1   0.002 0.10000\n",
      "2018-10-16 23:59:02,220 - nn-real-hvd - INFO -   1197     1 75067.0     0.1   0.002 0.10000\n",
      "2018-10-16 23:59:02,270 - nn-real-hvd - INFO -   1198     1 91076.3     0.0   0.002 0.10000\n",
      "2018-10-16 23:59:02,270 - nn-real-hvd - INFO -   1198     1 91076.3     0.0   0.002 0.10000\n",
      "2018-10-16 23:59:02,317 - nn-real-hvd - INFO -   1199     1 97674.9     0.0   0.002 0.10000\n",
      "2018-10-16 23:59:02,317 - nn-real-hvd - INFO -   1199     1 97674.9     0.0   0.002 0.10000\n",
      "2018-10-16 23:59:02,365 - nn-real-hvd - INFO -   1200     1 96640.9     0.0   0.002 0.10000\n",
      "2018-10-16 23:59:02,365 - nn-real-hvd - INFO -   1200     1 96640.9     0.0   0.002 0.10000\n",
      "2018-10-16 23:59:02,413 - nn-real-hvd - INFO -   1201     1 94187.8     0.0   0.002 0.10000\n",
      "2018-10-16 23:59:02,413 - nn-real-hvd - INFO -   1201     1 94187.8     0.0   0.002 0.10000\n"
     ]
    },
    {
     "name": "stdout",
     "output_type": "stream",
     "text": [
      "Invalid Range: could not broadcast input array from shape (2142,257) into shape (2142,258)\n",
      "Time for Getting  0  random elements:  0:00:00.005174\n",
      "Invalid Range: could not broadcast input array from shape (2124,257) into shape (2124,258)\n",
      "Time for Getting  0  random elements:  0:00:00.004406\n",
      "Invalid Range: could not broadcast input array from shape (2179,257) into shape (2179,258)\n",
      "Time for Getting  0  random elements:  0:00:00.004177\n",
      "Invalid Range: could not broadcast input array from shape (2155,257) into shape (2155,258)\n",
      "Time for Getting  0  random elements:  0:00:00.004431\n",
      "Invalid Range: could not broadcast input array from shape (2149,257) into shape (2149,258)\n",
      "Time for Getting  0  random elements:  0:00:00.004408\n"
     ]
    },
    {
     "name": "stderr",
     "output_type": "stream",
     "text": [
      "2018-10-16 23:59:02,464 - nn-real-hvd - INFO -   1202     1 91249.1     0.0   0.002 0.10000\n",
      "2018-10-16 23:59:02,464 - nn-real-hvd - INFO -   1202     1 91249.1     0.0   0.002 0.10000\n",
      "2018-10-16 23:59:02,512 - nn-real-hvd - INFO -   1203     1 94397.1     0.0   0.002 0.10000\n",
      "2018-10-16 23:59:02,512 - nn-real-hvd - INFO -   1203     1 94397.1     0.0   0.002 0.10000\n",
      "2018-10-16 23:59:02,560 - nn-real-hvd - INFO -   1204     1 93751.0     0.0   0.002 0.10000\n",
      "2018-10-16 23:59:02,560 - nn-real-hvd - INFO -   1204     1 93751.0     0.0   0.002 0.10000\n",
      "2018-10-16 23:59:02,608 - nn-real-hvd - INFO -   1205     1 96542.9     0.0   0.002 0.10000\n",
      "2018-10-16 23:59:02,608 - nn-real-hvd - INFO -   1205     1 96542.9     0.0   0.002 0.10000\n",
      "2018-10-16 23:59:02,656 - nn-real-hvd - INFO -   1206     1 95237.0     0.0   0.002 0.10000\n",
      "2018-10-16 23:59:02,656 - nn-real-hvd - INFO -   1206     1 95237.0     0.0   0.002 0.10000\n"
     ]
    },
    {
     "name": "stdout",
     "output_type": "stream",
     "text": [
      "Invalid Range: could not broadcast input array from shape (2143,257) into shape (2143,258)\n",
      "Time for Getting  0  random elements:  0:00:00.004111\n",
      "Invalid Range: could not broadcast input array from shape (2163,257) into shape (2163,258)\n",
      "Time for Getting  0  random elements:  0:00:00.004314\n",
      "Invalid Range: could not broadcast input array from shape (2156,257) into shape (2156,258)\n",
      "Time for Getting  0  random elements:  0:00:00.004219\n",
      "Invalid Range: could not broadcast input array from shape (2118,257) into shape (2118,258)\n",
      "Time for Getting  0  random elements:  0:00:00.004218\n",
      "Invalid Range: could not broadcast input array from shape (2103,257) into shape (2103,258)\n",
      "Time for Getting  0  random elements:  0:00:00.003784\n"
     ]
    },
    {
     "name": "stderr",
     "output_type": "stream",
     "text": [
      "2018-10-16 23:59:02,704 - nn-real-hvd - INFO -   1207     1 97650.8     0.0   0.002 0.10000\n",
      "2018-10-16 23:59:02,704 - nn-real-hvd - INFO -   1207     1 97650.8     0.0   0.002 0.10000\n",
      "2018-10-16 23:59:02,751 - nn-real-hvd - INFO -   1208     1 96923.1     0.0   0.002 0.10000\n",
      "2018-10-16 23:59:02,751 - nn-real-hvd - INFO -   1208     1 96923.1     0.0   0.002 0.10000\n",
      "2018-10-16 23:59:02,805 - nn-real-hvd - INFO -   1209     1 84696.5     0.1   0.002 0.10000\n",
      "2018-10-16 23:59:02,805 - nn-real-hvd - INFO -   1209     1 84696.5     0.1   0.002 0.10000\n",
      "2018-10-16 23:59:02,854 - nn-real-hvd - INFO -   1210     1 93824.0     0.0   0.002 0.10000\n",
      "2018-10-16 23:59:02,854 - nn-real-hvd - INFO -   1210     1 93824.0     0.0   0.002 0.10000\n",
      "2018-10-16 23:59:02,903 - nn-real-hvd - INFO -   1211     1 93200.7     0.0   0.002 0.10000\n",
      "2018-10-16 23:59:02,903 - nn-real-hvd - INFO -   1211     1 93200.7     0.0   0.002 0.10000\n"
     ]
    },
    {
     "name": "stdout",
     "output_type": "stream",
     "text": [
      "Invalid Range: could not broadcast input array from shape (2116,257) into shape (2116,258)\n",
      "Time for Getting  0  random elements:  0:00:00.004265\n",
      "Invalid Range: could not broadcast input array from shape (2115,257) into shape (2115,258)\n",
      "Time for Getting  0  random elements:  0:00:00.003519\n",
      "Invalid Range: could not broadcast input array from shape (2074,257) into shape (2074,258)\n",
      "Time for Getting  0  random elements:  0:00:00.004052\n",
      "Invalid Range: could not broadcast input array from shape (2124,257) into shape (2124,258)\n",
      "Time for Getting  0  random elements:  0:00:00.003836\n",
      "Invalid Range: could not broadcast input array from shape (2144,257) into shape (2144,258)\n"
     ]
    },
    {
     "name": "stderr",
     "output_type": "stream",
     "text": [
      "2018-10-16 23:59:02,952 - nn-real-hvd - INFO -   1212     1 93557.3     0.0   0.002 0.10000\n",
      "2018-10-16 23:59:02,952 - nn-real-hvd - INFO -   1212     1 93557.3     0.0   0.002 0.10000\n",
      "2018-10-16 23:59:02,998 - nn-real-hvd - INFO -   1213     1 100061.4     0.0   0.002 0.10000\n",
      "2018-10-16 23:59:02,998 - nn-real-hvd - INFO -   1213     1 100061.4     0.0   0.002 0.10000\n",
      "2018-10-16 23:59:03,044 - nn-real-hvd - INFO -   1214     1 99053.7     0.0   0.002 0.10000\n",
      "2018-10-16 23:59:03,044 - nn-real-hvd - INFO -   1214     1 99053.7     0.0   0.002 0.10000\n",
      "2018-10-16 23:59:03,093 - nn-real-hvd - INFO -   1215     1 94644.1     0.0   0.002 0.10000\n",
      "2018-10-16 23:59:03,093 - nn-real-hvd - INFO -   1215     1 94644.1     0.0   0.002 0.10000\n"
     ]
    },
    {
     "name": "stdout",
     "output_type": "stream",
     "text": [
      "Time for Getting  0  random elements:  0:00:00.004107\n",
      "Invalid Range: could not broadcast input array from shape (2127,257) into shape (2127,258)\n",
      "Time for Getting  0  random elements:  0:00:00.004037\n",
      "Invalid Range: could not broadcast input array from shape (2163,257) into shape (2163,258)\n",
      "Time for Getting  0  random elements:  0:00:00.003864\n",
      "Invalid Range: could not broadcast input array from shape (2131,257) into shape (2131,258)\n",
      "Time for Getting  0  random elements:  0:00:00.003836\n",
      "Invalid Range: could not broadcast input array from shape (2115,257) into shape (2115,258)\n",
      "Time for Getting  0  random elements:  0:00:00.003918\n"
     ]
    },
    {
     "name": "stderr",
     "output_type": "stream",
     "text": [
      "2018-10-16 23:59:03,141 - nn-real-hvd - INFO -   1216     1 95172.6     0.0   0.002 0.10000\n",
      "2018-10-16 23:59:03,141 - nn-real-hvd - INFO -   1216     1 95172.6     0.0   0.002 0.10000\n",
      "2018-10-16 23:59:03,190 - nn-real-hvd - INFO -   1217     1 93109.0     0.0   0.002 0.10000\n",
      "2018-10-16 23:59:03,190 - nn-real-hvd - INFO -   1217     1 93109.0     0.0   0.002 0.10000\n",
      "2018-10-16 23:59:03,239 - nn-real-hvd - INFO -   1218     1 93055.8     0.0   0.002 0.10000\n",
      "2018-10-16 23:59:03,239 - nn-real-hvd - INFO -   1218     1 93055.8     0.0   0.002 0.10000\n",
      "2018-10-16 23:59:03,291 - nn-real-hvd - INFO -   1219     1 87036.7     0.1   0.002 0.10000\n",
      "2018-10-16 23:59:03,291 - nn-real-hvd - INFO -   1219     1 87036.7     0.1   0.002 0.10000\n",
      "2018-10-16 23:59:03,343 - nn-real-hvd - INFO -   1220     1 88537.7     0.0   0.002 0.10000\n",
      "2018-10-16 23:59:03,343 - nn-real-hvd - INFO -   1220     1 88537.7     0.0   0.002 0.10000\n"
     ]
    },
    {
     "name": "stdout",
     "output_type": "stream",
     "text": [
      "Invalid Range: could not broadcast input array from shape (2148,257) into shape (2148,258)\n",
      "Time for Getting  0  random elements:  0:00:00.004284\n",
      "Invalid Range: could not broadcast input array from shape (2172,257) into shape (2172,258)\n",
      "Time for Getting  0  random elements:  0:00:00.004531\n",
      "Invalid Range: could not broadcast input array from shape (2145,257) into shape (2145,258)\n",
      "Time for Getting  0  random elements:  0:00:00.004307\n",
      "Invalid Range: could not broadcast input array from shape (2083,257) into shape (2083,258)\n",
      "Time for Getting  0  random elements:  0:00:00.004615\n",
      "Invalid Range: could not broadcast input array from shape (2174,257) into shape (2174,258)\n"
     ]
    },
    {
     "name": "stderr",
     "output_type": "stream",
     "text": [
      "2018-10-16 23:59:03,390 - nn-real-hvd - INFO -   1221     1 97913.5     0.0   0.002 0.10000\n",
      "2018-10-16 23:59:03,390 - nn-real-hvd - INFO -   1221     1 97913.5     0.0   0.002 0.10000\n",
      "2018-10-16 23:59:03,438 - nn-real-hvd - INFO -   1222     1 95912.8     0.0   0.002 0.10000\n",
      "2018-10-16 23:59:03,438 - nn-real-hvd - INFO -   1222     1 95912.8     0.0   0.002 0.10000\n",
      "2018-10-16 23:59:03,487 - nn-real-hvd - INFO -   1223     1 93590.3     0.0   0.002 0.10000\n",
      "2018-10-16 23:59:03,487 - nn-real-hvd - INFO -   1223     1 93590.3     0.0   0.002 0.10000\n",
      "2018-10-16 23:59:03,539 - nn-real-hvd - INFO -   1224     1 87984.9     0.1   0.002 0.10000\n",
      "2018-10-16 23:59:03,539 - nn-real-hvd - INFO -   1224     1 87984.9     0.1   0.002 0.10000\n"
     ]
    },
    {
     "name": "stdout",
     "output_type": "stream",
     "text": [
      "Time for Getting  0  random elements:  0:00:00.004106\n",
      "Invalid Range: could not broadcast input array from shape (2152,257) into shape (2152,258)\n",
      "Time for Getting  0  random elements:  0:00:00.003890\n",
      "Invalid Range: could not broadcast input array from shape (2135,257) into shape (2135,258)\n",
      "Time for Getting  0  random elements:  0:00:00.004053\n",
      "Invalid Range: could not broadcast input array from shape (2108,257) into shape (2108,258)\n",
      "Time for Getting  0  random elements:  0:00:00.004166\n",
      "Invalid Range: could not broadcast input array from shape (2153,257) into shape (2153,258)\n",
      "Time for Getting  0  random elements:  0:00:00.004296\n"
     ]
    },
    {
     "name": "stderr",
     "output_type": "stream",
     "text": [
      "2018-10-16 23:59:03,587 - nn-real-hvd - INFO -   1225     1 95209.7     0.0   0.002 0.10000\n",
      "2018-10-16 23:59:03,587 - nn-real-hvd - INFO -   1225     1 95209.7     0.0   0.002 0.10000\n",
      "2018-10-16 23:59:03,633 - nn-real-hvd - INFO -   1226     1 99089.2     0.0   0.002 0.10000\n",
      "2018-10-16 23:59:03,633 - nn-real-hvd - INFO -   1226     1 99089.2     0.0   0.002 0.10000\n",
      "2018-10-16 23:59:03,683 - nn-real-hvd - INFO -   1227     1 92418.2     0.0   0.002 0.10000\n",
      "2018-10-16 23:59:03,683 - nn-real-hvd - INFO -   1227     1 92418.2     0.0   0.002 0.10000\n",
      "2018-10-16 23:59:03,730 - nn-real-hvd - INFO -   1228     1 98006.6     0.0   0.002 0.10000\n",
      "2018-10-16 23:59:03,730 - nn-real-hvd - INFO -   1228     1 98006.6     0.0   0.002 0.10000\n",
      "2018-10-16 23:59:03,778 - nn-real-hvd - INFO -   1229     1 98617.4     0.0   0.002 0.10000\n",
      "2018-10-16 23:59:03,778 - nn-real-hvd - INFO -   1229     1 98617.4     0.0   0.002 0.10000\n"
     ]
    },
    {
     "name": "stdout",
     "output_type": "stream",
     "text": [
      "Invalid Range: could not broadcast input array from shape (2117,257) into shape (2117,258)\n",
      "Time for Getting  0  random elements:  0:00:00.004268\n",
      "Invalid Range: could not broadcast input array from shape (2145,257) into shape (2145,258)\n",
      "Time for Getting  0  random elements:  0:00:00.004213\n",
      "Invalid Range: could not broadcast input array from shape (2075,257) into shape (2075,258)\n",
      "Time for Getting  0  random elements:  0:00:00.003949\n",
      "Invalid Range: could not broadcast input array from shape (2132,257) into shape (2132,258)\n",
      "Time for Getting  0  random elements:  0:00:00.004601\n",
      "Invalid Range: could not broadcast input array from shape (2134,257) into shape (2134,258)\n",
      "Time for Getting  0  random elements:  0:00:00.004186\n"
     ]
    },
    {
     "name": "stderr",
     "output_type": "stream",
     "text": [
      "2018-10-16 23:59:03,828 - nn-real-hvd - INFO -   1230     1 90823.1     0.0   0.002 0.10000\n",
      "2018-10-16 23:59:03,828 - nn-real-hvd - INFO -   1230     1 90823.1     0.0   0.002 0.10000\n",
      "2018-10-16 23:59:03,877 - nn-real-hvd - INFO -   1231     1 93021.3     0.0   0.002 0.10000\n",
      "2018-10-16 23:59:03,877 - nn-real-hvd - INFO -   1231     1 93021.3     0.0   0.002 0.10000\n",
      "2018-10-16 23:59:03,927 - nn-real-hvd - INFO -   1232     1 92093.5     0.0   0.002 0.10000\n",
      "2018-10-16 23:59:03,927 - nn-real-hvd - INFO -   1232     1 92093.5     0.0   0.002 0.10000\n",
      "2018-10-16 23:59:03,974 - nn-real-hvd - INFO -   1233     1 97654.4     0.0   0.002 0.10000\n",
      "2018-10-16 23:59:03,974 - nn-real-hvd - INFO -   1233     1 97654.4     0.0   0.002 0.10000\n",
      "2018-10-16 23:59:04,022 - nn-real-hvd - INFO -   1234     1 95579.4     0.0   0.002 0.10000\n",
      "2018-10-16 23:59:04,022 - nn-real-hvd - INFO -   1234     1 95579.4     0.0   0.002 0.10000\n"
     ]
    },
    {
     "name": "stdout",
     "output_type": "stream",
     "text": [
      "Invalid Range: could not broadcast input array from shape (2134,257) into shape (2134,258)\n",
      "Time for Getting  0  random elements:  0:00:00.004771\n",
      "Invalid Range: could not broadcast input array from shape (2135,257) into shape (2135,258)\n",
      "Time for Getting  0  random elements:  0:00:00.004633\n",
      "Invalid Range: could not broadcast input array from shape (2182,257) into shape (2182,258)\n",
      "Time for Getting  0  random elements:  0:00:00.004204\n",
      "Invalid Range: could not broadcast input array from shape (2132,257) into shape (2132,258)\n",
      "Time for Getting  0  random elements:  0:00:00.004526\n",
      "Invalid Range: could not broadcast input array from shape (2166,257) into shape (2166,258)\n",
      "Time for Getting  0  random elements:  0:00:00.004215\n"
     ]
    },
    {
     "name": "stderr",
     "output_type": "stream",
     "text": [
      "2018-10-16 23:59:04,071 - nn-real-hvd - INFO -   1235     1 93515.3     0.0   0.002 0.10000\n",
      "2018-10-16 23:59:04,071 - nn-real-hvd - INFO -   1235     1 93515.3     0.0   0.002 0.10000\n",
      "2018-10-16 23:59:04,118 - nn-real-hvd - INFO -   1236     1 98030.4     0.0   0.002 0.10000\n",
      "2018-10-16 23:59:04,118 - nn-real-hvd - INFO -   1236     1 98030.4     0.0   0.002 0.10000\n",
      "2018-10-16 23:59:04,167 - nn-real-hvd - INFO -   1237     1 92261.1     0.0   0.002 0.10000\n",
      "2018-10-16 23:59:04,167 - nn-real-hvd - INFO -   1237     1 92261.1     0.0   0.002 0.10000\n",
      "2018-10-16 23:59:04,217 - nn-real-hvd - INFO -   1238     1 92557.4     0.0   0.002 0.10000\n",
      "2018-10-16 23:59:04,217 - nn-real-hvd - INFO -   1238     1 92557.4     0.0   0.002 0.10000\n",
      "2018-10-16 23:59:04,264 - nn-real-hvd - INFO -   1239     1 97734.6     0.0   0.002 0.10000\n",
      "2018-10-16 23:59:04,264 - nn-real-hvd - INFO -   1239     1 97734.6     0.0   0.002 0.10000\n"
     ]
    },
    {
     "name": "stdout",
     "output_type": "stream",
     "text": [
      "Invalid Range: could not broadcast input array from shape (2150,257) into shape (2150,258)\n",
      "Time for Getting  0  random elements:  0:00:00.004284\n",
      "Invalid Range: could not broadcast input array from shape (2152,257) into shape (2152,258)\n",
      "Time for Getting  0  random elements:  0:00:00.004088\n",
      "Invalid Range: could not broadcast input array from shape (2180,257) into shape (2180,258)\n",
      "Time for Getting  0  random elements:  0:00:00.004535\n",
      "Invalid Range: could not broadcast input array from shape (2111,257) into shape (2111,258)\n",
      "Time for Getting  0  random elements:  0:00:00.004502\n",
      "Invalid Range: could not broadcast input array from shape (2194,257) into shape (2194,258)\n",
      "Time for Getting  0  random elements:  0:00:00.004292\n"
     ]
    },
    {
     "name": "stderr",
     "output_type": "stream",
     "text": [
      "2018-10-16 23:59:04,315 - nn-real-hvd - INFO -   1240     1 89877.1     0.0   0.002 0.10000\n",
      "2018-10-16 23:59:04,315 - nn-real-hvd - INFO -   1240     1 89877.1     0.0   0.002 0.10000\n",
      "2018-10-16 23:59:04,363 - nn-real-hvd - INFO -   1241     1 95479.6     0.0   0.002 0.10000\n",
      "2018-10-16 23:59:04,363 - nn-real-hvd - INFO -   1241     1 95479.6     0.0   0.002 0.10000\n",
      "2018-10-16 23:59:04,413 - nn-real-hvd - INFO -   1242     1 92165.3     0.0   0.002 0.10000\n",
      "2018-10-16 23:59:04,413 - nn-real-hvd - INFO -   1242     1 92165.3     0.0   0.002 0.10000\n",
      "2018-10-16 23:59:04,461 - nn-real-hvd - INFO -   1243     1 93894.7     0.0   0.002 0.10000\n",
      "2018-10-16 23:59:04,461 - nn-real-hvd - INFO -   1243     1 93894.7     0.0   0.002 0.10000\n",
      "2018-10-16 23:59:04,510 - nn-real-hvd - INFO -   1244     1 95173.1     0.0   0.002 0.10000\n",
      "2018-10-16 23:59:04,510 - nn-real-hvd - INFO -   1244     1 95173.1     0.0   0.002 0.10000\n"
     ]
    },
    {
     "name": "stdout",
     "output_type": "stream",
     "text": [
      "Invalid Range: could not broadcast input array from shape (2158,257) into shape (2158,258)\n",
      "Time for Getting  0  random elements:  0:00:00.004378\n",
      "Invalid Range: could not broadcast input array from shape (2133,257) into shape (2133,258)\n",
      "Time for Getting  0  random elements:  0:00:00.004480\n",
      "Invalid Range: could not broadcast input array from shape (2114,257) into shape (2114,258)\n",
      "Time for Getting  0  random elements:  0:00:00.004795\n",
      "Invalid Range: could not broadcast input array from shape (2137,257) into shape (2137,258)\n",
      "Time for Getting  0  random elements:  0:00:00.004311\n",
      "Invalid Range: could not broadcast input array from shape (2119,257) into shape (2119,258)\n",
      "Time for Getting  0  random elements:  0:00:00.004024\n"
     ]
    },
    {
     "name": "stderr",
     "output_type": "stream",
     "text": [
      "2018-10-16 23:59:04,561 - nn-real-hvd - INFO -   1245     1 88471.0     0.1   0.002 0.10000\n",
      "2018-10-16 23:59:04,561 - nn-real-hvd - INFO -   1245     1 88471.0     0.1   0.002 0.10000\n",
      "2018-10-16 23:59:04,609 - nn-real-hvd - INFO -   1246     1 96751.3     0.0   0.002 0.10000\n",
      "2018-10-16 23:59:04,609 - nn-real-hvd - INFO -   1246     1 96751.3     0.0   0.002 0.10000\n",
      "2018-10-16 23:59:04,656 - nn-real-hvd - INFO -   1247     1 96855.3     0.0   0.002 0.10000\n",
      "2018-10-16 23:59:04,656 - nn-real-hvd - INFO -   1247     1 96855.3     0.0   0.002 0.10000\n",
      "2018-10-16 23:59:04,703 - nn-real-hvd - INFO -   1248     1 97044.2     0.0   0.002 0.10000\n",
      "2018-10-16 23:59:04,703 - nn-real-hvd - INFO -   1248     1 97044.2     0.0   0.002 0.10000\n",
      "2018-10-16 23:59:04,751 - nn-real-hvd - INFO -   1249     1 96065.7     0.0   0.002 0.10000\n",
      "2018-10-16 23:59:04,751 - nn-real-hvd - INFO -   1249     1 96065.7     0.0   0.002 0.10000\n"
     ]
    },
    {
     "name": "stdout",
     "output_type": "stream",
     "text": [
      "Invalid Range: could not broadcast input array from shape (2131,257) into shape (2131,258)\n",
      "Time for Getting  0  random elements:  0:00:00.003953\n",
      "Invalid Range: could not broadcast input array from shape (2129,257) into shape (2129,258)\n",
      "Time for Getting  0  random elements:  0:00:00.003655\n",
      "Invalid Range: could not broadcast input array from shape (2108,257) into shape (2108,258)\n",
      "Time for Getting  0  random elements:  0:00:00.004110\n",
      "Invalid Range: could not broadcast input array from shape (2148,257) into shape (2148,258)\n",
      "Time for Getting  0  random elements:  0:00:00.004265\n",
      "Invalid Range: could not broadcast input array from shape (2110,257) into shape (2110,258)\n",
      "Time for Getting  0  random elements:  0:00:00.004268\n"
     ]
    },
    {
     "name": "stderr",
     "output_type": "stream",
     "text": [
      "2018-10-16 23:59:04,798 - nn-real-hvd - INFO -   1250     1 97486.6     0.0   0.002 0.10000\n",
      "2018-10-16 23:59:04,798 - nn-real-hvd - INFO -   1250     1 97486.6     0.0   0.002 0.10000\n",
      "2018-10-16 23:59:04,846 - nn-real-hvd - INFO -   1251     1 95365.3     0.0   0.002 0.10000\n",
      "2018-10-16 23:59:04,846 - nn-real-hvd - INFO -   1251     1 95365.3     0.0   0.002 0.10000\n",
      "2018-10-16 23:59:04,895 - nn-real-hvd - INFO -   1252     1 92480.4     0.0   0.002 0.10000\n",
      "2018-10-16 23:59:04,895 - nn-real-hvd - INFO -   1252     1 92480.4     0.0   0.002 0.10000\n",
      "2018-10-16 23:59:04,945 - nn-real-hvd - INFO -   1253     1 91897.9     0.0   0.002 0.10000\n",
      "2018-10-16 23:59:04,945 - nn-real-hvd - INFO -   1253     1 91897.9     0.0   0.002 0.10000\n",
      "2018-10-16 23:59:04,994 - nn-real-hvd - INFO -   1254     1 93272.8     0.0   0.002 0.10000\n",
      "2018-10-16 23:59:04,994 - nn-real-hvd - INFO -   1254     1 93272.8     0.0   0.002 0.10000\n"
     ]
    },
    {
     "name": "stdout",
     "output_type": "stream",
     "text": [
      "Invalid Range: could not broadcast input array from shape (2091,257) into shape (2091,258)\n",
      "Time for Getting  0  random elements:  0:00:00.004052\n",
      "Invalid Range: could not broadcast input array from shape (2180,257) into shape (2180,258)\n",
      "Time for Getting  0  random elements:  0:00:00.004064\n",
      "Invalid Range: could not broadcast input array from shape (2142,257) into shape (2142,258)\n",
      "Time for Getting  0  random elements:  0:00:00.004212\n",
      "Invalid Range: could not broadcast input array from shape (2109,257) into shape (2109,258)\n",
      "Time for Getting  0  random elements:  0:00:00.003997\n",
      "Invalid Range: could not broadcast input array from shape (2155,257) into shape (2155,258)\n",
      "Time for Getting  0  random elements:  0:00:00.004116\n"
     ]
    },
    {
     "name": "stderr",
     "output_type": "stream",
     "text": [
      "2018-10-16 23:59:05,044 - nn-real-hvd - INFO -   1255     1 91653.8     0.0   0.002 0.10000\n",
      "2018-10-16 23:59:05,044 - nn-real-hvd - INFO -   1255     1 91653.8     0.0   0.002 0.10000\n",
      "2018-10-16 23:59:05,092 - nn-real-hvd - INFO -   1256     1 95072.6     0.0   0.002 0.10000\n",
      "2018-10-16 23:59:05,092 - nn-real-hvd - INFO -   1256     1 95072.6     0.0   0.002 0.10000\n",
      "2018-10-16 23:59:05,140 - nn-real-hvd - INFO -   1257     1 94539.4     0.0   0.002 0.10000\n",
      "2018-10-16 23:59:05,140 - nn-real-hvd - INFO -   1257     1 94539.4     0.0   0.002 0.10000\n",
      "2018-10-16 23:59:05,188 - nn-real-hvd - INFO -   1258     1 96214.1     0.0   0.002 0.10000\n",
      "2018-10-16 23:59:05,188 - nn-real-hvd - INFO -   1258     1 96214.1     0.0   0.002 0.10000\n",
      "2018-10-16 23:59:05,237 - nn-real-hvd - INFO -   1259     1 94639.7     0.0   0.002 0.10000\n",
      "2018-10-16 23:59:05,237 - nn-real-hvd - INFO -   1259     1 94639.7     0.0   0.002 0.10000\n"
     ]
    },
    {
     "name": "stdout",
     "output_type": "stream",
     "text": [
      "Invalid Range: could not broadcast input array from shape (2162,257) into shape (2162,258)\n",
      "Time for Getting  0  random elements:  0:00:00.004602\n",
      "Invalid Range: could not broadcast input array from shape (2100,257) into shape (2100,258)\n",
      "Time for Getting  0  random elements:  0:00:00.004307\n",
      "Invalid Range: could not broadcast input array from shape (2124,257) into shape (2124,258)\n",
      "Time for Getting  0  random elements:  0:00:00.004414\n",
      "Invalid Range: could not broadcast input array from shape (2139,257) into shape (2139,258)\n",
      "Time for Getting  0  random elements:  0:00:00.004390\n",
      "Invalid Range: could not broadcast input array from shape (2163,257) into shape (2163,258)\n",
      "Time for Getting  0  random elements:  0:00:00.004589\n"
     ]
    },
    {
     "name": "stderr",
     "output_type": "stream",
     "text": [
      "2018-10-16 23:59:05,286 - nn-real-hvd - INFO -   1260     1 93743.4     0.0   0.002 0.10000\n",
      "2018-10-16 23:59:05,286 - nn-real-hvd - INFO -   1260     1 93743.4     0.0   0.002 0.10000\n",
      "2018-10-16 23:59:05,334 - nn-real-hvd - INFO -   1261     1 94235.6     0.0   0.002 0.10000\n",
      "2018-10-16 23:59:05,334 - nn-real-hvd - INFO -   1261     1 94235.6     0.0   0.002 0.10000\n",
      "2018-10-16 23:59:05,386 - nn-real-hvd - INFO -   1262     1 88565.5     0.0   0.002 0.10000\n",
      "2018-10-16 23:59:05,386 - nn-real-hvd - INFO -   1262     1 88565.5     0.0   0.002 0.10000\n",
      "2018-10-16 23:59:05,435 - nn-real-hvd - INFO -   1263     1 93064.2     0.0   0.002 0.10000\n",
      "2018-10-16 23:59:05,435 - nn-real-hvd - INFO -   1263     1 93064.2     0.0   0.002 0.10000\n",
      "2018-10-16 23:59:05,484 - nn-real-hvd - INFO -   1264     1 92279.0     0.0   0.002 0.10000\n",
      "2018-10-16 23:59:05,484 - nn-real-hvd - INFO -   1264     1 92279.0     0.0   0.002 0.10000\n"
     ]
    },
    {
     "name": "stdout",
     "output_type": "stream",
     "text": [
      "Invalid Range: could not broadcast input array from shape (2100,257) into shape (2100,258)\n",
      "Time for Getting  0  random elements:  0:00:00.004067\n",
      "Invalid Range: could not broadcast input array from shape (2112,257) into shape (2112,258)\n",
      "Time for Getting  0  random elements:  0:00:00.004264\n",
      "Invalid Range: could not broadcast input array from shape (2167,257) into shape (2167,258)\n",
      "Time for Getting  0  random elements:  0:00:00.004089\n",
      "Invalid Range: could not broadcast input array from shape (2167,257) into shape (2167,258)\n",
      "Time for Getting  0  random elements:  0:00:00.004384\n",
      "Invalid Range: could not broadcast input array from shape (2179,257) into shape (2179,258)\n"
     ]
    },
    {
     "name": "stderr",
     "output_type": "stream",
     "text": [
      "2018-10-16 23:59:05,533 - nn-real-hvd - INFO -   1265     1 95080.9     0.0   0.002 0.10000\n",
      "2018-10-16 23:59:05,533 - nn-real-hvd - INFO -   1265     1 95080.9     0.0   0.002 0.10000\n",
      "2018-10-16 23:59:05,581 - nn-real-hvd - INFO -   1266     1 95665.6     0.0   0.002 0.10000\n",
      "2018-10-16 23:59:05,581 - nn-real-hvd - INFO -   1266     1 95665.6     0.0   0.002 0.10000\n",
      "2018-10-16 23:59:05,628 - nn-real-hvd - INFO -   1267     1 98753.8     0.0   0.002 0.10000\n",
      "2018-10-16 23:59:05,628 - nn-real-hvd - INFO -   1267     1 98753.8     0.0   0.002 0.10000\n",
      "2018-10-16 23:59:05,674 - nn-real-hvd - INFO -   1268     1 100112.2     0.0   0.002 0.10000\n",
      "2018-10-16 23:59:05,674 - nn-real-hvd - INFO -   1268     1 100112.2     0.0   0.002 0.10000\n"
     ]
    },
    {
     "name": "stdout",
     "output_type": "stream",
     "text": [
      "Time for Getting  0  random elements:  0:00:00.004213\n",
      "Invalid Range: could not broadcast input array from shape (2143,257) into shape (2143,258)\n",
      "Time for Getting  0  random elements:  0:00:00.004079\n",
      "Invalid Range: could not broadcast input array from shape (2144,257) into shape (2144,258)\n",
      "Time for Getting  0  random elements:  0:00:00.003910\n",
      "Invalid Range: could not broadcast input array from shape (2166,257) into shape (2166,258)\n",
      "Time for Getting  0  random elements:  0:00:00.004059\n",
      "Invalid Range: could not broadcast input array from shape (2140,257) into shape (2140,258)\n",
      "Time for Getting  0  random elements:  0:00:00.003813\n"
     ]
    },
    {
     "name": "stderr",
     "output_type": "stream",
     "text": [
      "2018-10-16 23:59:05,721 - nn-real-hvd - INFO -   1269     1 98037.6     0.0   0.002 0.10000\n",
      "2018-10-16 23:59:05,721 - nn-real-hvd - INFO -   1269     1 98037.6     0.0   0.002 0.10000\n",
      "2018-10-16 23:59:05,771 - nn-real-hvd - INFO -   1270     1 93077.3     0.0   0.002 0.10000\n",
      "2018-10-16 23:59:05,771 - nn-real-hvd - INFO -   1270     1 93077.3     0.0   0.002 0.10000\n",
      "2018-10-16 23:59:05,816 - nn-real-hvd - INFO -   1271     1 101979.1     0.0   0.002 0.10000\n",
      "2018-10-16 23:59:05,816 - nn-real-hvd - INFO -   1271     1 101979.1     0.0   0.002 0.10000\n",
      "2018-10-16 23:59:05,860 - nn-real-hvd - INFO -   1272     1 103398.3     0.0   0.002 0.10000\n",
      "2018-10-16 23:59:05,860 - nn-real-hvd - INFO -   1272     1 103398.3     0.0   0.002 0.10000\n",
      "2018-10-16 23:59:05,908 - nn-real-hvd - INFO -   1273     1 95884.5     0.0   0.002 0.10000\n",
      "2018-10-16 23:59:05,908 - nn-real-hvd - INFO -   1273     1 95884.5     0.0   0.002 0.10000\n"
     ]
    },
    {
     "name": "stdout",
     "output_type": "stream",
     "text": [
      "Invalid Range: could not broadcast input array from shape (2156,257) into shape (2156,258)\n",
      "Time for Getting  0  random elements:  0:00:00.003985\n",
      "Invalid Range: could not broadcast input array from shape (2130,257) into shape (2130,258)\n",
      "Time for Getting  0  random elements:  0:00:00.003763\n",
      "Invalid Range: could not broadcast input array from shape (2122,257) into shape (2122,258)\n",
      "Time for Getting  0  random elements:  0:00:00.003828\n",
      "Invalid Range: could not broadcast input array from shape (2133,257) into shape (2133,258)\n",
      "Time for Getting  0  random elements:  0:00:00.004620\n",
      "Invalid Range: could not broadcast input array from shape (2114,257) into shape (2114,258)\n",
      "Time for Getting  0  random elements:  0:00:00.003759\n"
     ]
    },
    {
     "name": "stderr",
     "output_type": "stream",
     "text": [
      "2018-10-16 23:59:05,956 - nn-real-hvd - INFO -   1274     1 95116.5     0.0   0.002 0.10000\n",
      "2018-10-16 23:59:05,956 - nn-real-hvd - INFO -   1274     1 95116.5     0.0   0.002 0.10000\n",
      "2018-10-16 23:59:06,006 - nn-real-hvd - INFO -   1275     1 95256.1     0.0   0.002 0.10000\n",
      "2018-10-16 23:59:06,006 - nn-real-hvd - INFO -   1275     1 95256.1     0.0   0.002 0.10000\n",
      "2018-10-16 23:59:06,053 - nn-real-hvd - INFO -   1276     1 98725.5     0.0   0.002 0.10000\n",
      "2018-10-16 23:59:06,053 - nn-real-hvd - INFO -   1276     1 98725.5     0.0   0.002 0.10000\n",
      "2018-10-16 23:59:06,100 - nn-real-hvd - INFO -   1277     1 98244.7     0.0   0.002 0.10000\n",
      "2018-10-16 23:59:06,100 - nn-real-hvd - INFO -   1277     1 98244.7     0.0   0.002 0.10000\n",
      "2018-10-16 23:59:06,147 - nn-real-hvd - INFO -   1278     1 97980.2     0.0   0.002 0.10000\n",
      "2018-10-16 23:59:06,147 - nn-real-hvd - INFO -   1278     1 97980.2     0.0   0.002 0.10000\n"
     ]
    },
    {
     "name": "stdout",
     "output_type": "stream",
     "text": [
      "Invalid Range: could not broadcast input array from shape (2170,257) into shape (2170,258)\n",
      "Time for Getting  0  random elements:  0:00:00.004106\n",
      "Invalid Range: could not broadcast input array from shape (2147,257) into shape (2147,258)\n",
      "Time for Getting  0  random elements:  0:00:00.003825\n",
      "Invalid Range: could not broadcast input array from shape (2146,257) into shape (2146,258)\n",
      "Time for Getting  0  random elements:  0:00:00.004248\n",
      "Invalid Range: could not broadcast input array from shape (2186,257) into shape (2186,258)\n",
      "Time for Getting  0  random elements:  0:00:00.004110\n",
      "Invalid Range: could not broadcast input array from shape (2172,257) into shape (2172,258)\n",
      "Time for Getting  0  random elements:  0:00:00.003919\n"
     ]
    },
    {
     "name": "stderr",
     "output_type": "stream",
     "text": [
      "2018-10-16 23:59:06,196 - nn-real-hvd - INFO -   1279     1 93203.9     0.0   0.002 0.10000\n",
      "2018-10-16 23:59:06,196 - nn-real-hvd - INFO -   1279     1 93203.9     0.0   0.002 0.10000\n",
      "2018-10-16 23:59:06,243 - nn-real-hvd - INFO -   1280     1 97208.3     0.0   0.002 0.10000\n",
      "2018-10-16 23:59:06,243 - nn-real-hvd - INFO -   1280     1 97208.3     0.0   0.002 0.10000\n",
      "2018-10-16 23:59:06,290 - nn-real-hvd - INFO -   1281     1 97462.6     0.0   0.002 0.10000\n",
      "2018-10-16 23:59:06,290 - nn-real-hvd - INFO -   1281     1 97462.6     0.0   0.002 0.10000\n",
      "2018-10-16 23:59:06,339 - nn-real-hvd - INFO -   1282     1 94134.3     0.0   0.002 0.10000\n",
      "2018-10-16 23:59:06,339 - nn-real-hvd - INFO -   1282     1 94134.3     0.0   0.002 0.10000\n",
      "2018-10-16 23:59:06,388 - nn-real-hvd - INFO -   1283     1 94630.1     0.0   0.002 0.10000\n",
      "2018-10-16 23:59:06,388 - nn-real-hvd - INFO -   1283     1 94630.1     0.0   0.002 0.10000\n"
     ]
    },
    {
     "name": "stdout",
     "output_type": "stream",
     "text": [
      "Invalid Range: could not broadcast input array from shape (2128,257) into shape (2128,258)\n",
      "Time for Getting  0  random elements:  0:00:00.004207\n",
      "Invalid Range: could not broadcast input array from shape (2190,257) into shape (2190,258)\n",
      "Time for Getting  0  random elements:  0:00:00.004543\n",
      "Invalid Range: could not broadcast input array from shape (2118,257) into shape (2118,258)\n",
      "Time for Getting  0  random elements:  0:00:00.004553\n",
      "Invalid Range: could not broadcast input array from shape (2122,257) into shape (2122,258)\n",
      "Time for Getting  0  random elements:  0:00:00.004310\n",
      "Invalid Range: could not broadcast input array from shape (2161,257) into shape (2161,258)\n",
      "Time for Getting  0  random elements:  0:00:00.004546\n"
     ]
    },
    {
     "name": "stderr",
     "output_type": "stream",
     "text": [
      "2018-10-16 23:59:06,436 - nn-real-hvd - INFO -   1284     1 95204.8     0.0   0.002 0.10000\n",
      "2018-10-16 23:59:06,436 - nn-real-hvd - INFO -   1284     1 95204.8     0.0   0.002 0.10000\n",
      "2018-10-16 23:59:06,483 - nn-real-hvd - INFO -   1285     1 96706.9     0.0   0.002 0.10000\n",
      "2018-10-16 23:59:06,483 - nn-real-hvd - INFO -   1285     1 96706.9     0.0   0.002 0.10000\n",
      "2018-10-16 23:59:06,568 - nn-real-hvd - INFO -   1286     1 53286.8     0.1   0.002 0.10000\n",
      "2018-10-16 23:59:06,568 - nn-real-hvd - INFO -   1286     1 53286.8     0.1   0.002 0.10000\n",
      "2018-10-16 23:59:06,616 - nn-real-hvd - INFO -   1287     1 96270.5     0.0   0.002 0.10000\n",
      "2018-10-16 23:59:06,616 - nn-real-hvd - INFO -   1287     1 96270.5     0.0   0.002 0.10000\n"
     ]
    },
    {
     "name": "stdout",
     "output_type": "stream",
     "text": [
      "Invalid Range: could not broadcast input array from shape (2187,257) into shape (2187,258)\n",
      "Time for Getting  0  random elements:  0:00:00.004244\n",
      "Invalid Range: could not broadcast input array from shape (2158,257) into shape (2158,258)\n",
      "Time for Getting  0  random elements:  0:00:00.004046\n",
      "Invalid Range: could not broadcast input array from shape (2177,257) into shape (2177,258)\n",
      "Time for Getting  0  random elements:  0:00:00.004367\n",
      "Invalid Range: could not broadcast input array from shape (2145,257) into shape (2145,258)\n",
      "Time for Getting  0  random elements:  0:00:00.004035\n"
     ]
    },
    {
     "name": "stderr",
     "output_type": "stream",
     "text": [
      "2018-10-16 23:59:06,663 - nn-real-hvd - INFO -   1288     1 98294.1     0.0   0.002 0.10000\n",
      "2018-10-16 23:59:06,663 - nn-real-hvd - INFO -   1288     1 98294.1     0.0   0.002 0.10000\n",
      "2018-10-16 23:59:06,714 - nn-real-hvd - INFO -   1289     1 91392.0     0.0   0.002 0.10000\n",
      "2018-10-16 23:59:06,714 - nn-real-hvd - INFO -   1289     1 91392.0     0.0   0.002 0.10000\n",
      "2018-10-16 23:59:06,762 - nn-real-hvd - INFO -   1290     1 96230.1     0.0   0.002 0.10000\n",
      "2018-10-16 23:59:06,762 - nn-real-hvd - INFO -   1290     1 96230.1     0.0   0.002 0.10000\n",
      "2018-10-16 23:59:06,812 - nn-real-hvd - INFO -   1291     1 90249.0     0.0   0.002 0.10000\n",
      "2018-10-16 23:59:06,812 - nn-real-hvd - INFO -   1291     1 90249.0     0.0   0.002 0.10000\n",
      "2018-10-16 23:59:06,860 - nn-real-hvd - INFO -   1292     1 97782.5     0.0   0.002 0.10000\n",
      "2018-10-16 23:59:06,860 - nn-real-hvd - INFO -   1292     1 97782.5     0.0   0.002 0.10000\n"
     ]
    },
    {
     "name": "stdout",
     "output_type": "stream",
     "text": [
      "Invalid Range: could not broadcast input array from shape (2131,257) into shape (2131,258)\n",
      "Time for Getting  0  random elements:  0:00:00.004330\n",
      "Invalid Range: could not broadcast input array from shape (2115,257) into shape (2115,258)\n",
      "Time for Getting  0  random elements:  0:00:00.004076\n",
      "Invalid Range: could not broadcast input array from shape (2135,257) into shape (2135,258)\n",
      "Time for Getting  0  random elements:  0:00:00.004478\n",
      "Invalid Range: could not broadcast input array from shape (2155,257) into shape (2155,258)\n",
      "Time for Getting  0  random elements:  0:00:00.003997\n",
      "Invalid Range: could not broadcast input array from shape (2180,257) into shape (2180,258)\n",
      "Time for Getting  0  random elements:  0:00:00.004398\n"
     ]
    },
    {
     "name": "stderr",
     "output_type": "stream",
     "text": [
      "2018-10-16 23:59:06,909 - nn-real-hvd - INFO -   1293     1 93075.9     0.0   0.002 0.10000\n",
      "2018-10-16 23:59:06,909 - nn-real-hvd - INFO -   1293     1 93075.9     0.0   0.002 0.10000\n",
      "2018-10-16 23:59:06,957 - nn-real-hvd - INFO -   1294     1 95496.3     0.0   0.002 0.10000\n",
      "2018-10-16 23:59:06,957 - nn-real-hvd - INFO -   1294     1 95496.3     0.0   0.002 0.10000\n",
      "2018-10-16 23:59:07,004 - nn-real-hvd - INFO -   1295     1 97750.0     0.0   0.002 0.10000\n",
      "2018-10-16 23:59:07,004 - nn-real-hvd - INFO -   1295     1 97750.0     0.0   0.002 0.10000\n",
      "2018-10-16 23:59:07,052 - nn-real-hvd - INFO -   1296     1 96691.8     0.0   0.002 0.10000\n",
      "2018-10-16 23:59:07,052 - nn-real-hvd - INFO -   1296     1 96691.8     0.0   0.002 0.10000\n",
      "2018-10-16 23:59:07,099 - nn-real-hvd - INFO -   1297     1 97499.4     0.0   0.002 0.10000\n",
      "2018-10-16 23:59:07,099 - nn-real-hvd - INFO -   1297     1 97499.4     0.0   0.002 0.10000\n"
     ]
    },
    {
     "name": "stdout",
     "output_type": "stream",
     "text": [
      "Invalid Range: could not broadcast input array from shape (2173,257) into shape (2173,258)\n",
      "Time for Getting  0  random elements:  0:00:00.004656\n",
      "Invalid Range: could not broadcast input array from shape (2133,257) into shape (2133,258)\n",
      "Time for Getting  0  random elements:  0:00:00.004442\n",
      "Invalid Range: could not broadcast input array from shape (2156,257) into shape (2156,258)\n",
      "Time for Getting  0  random elements:  0:00:00.003885\n",
      "Invalid Range: could not broadcast input array from shape (2172,257) into shape (2172,258)\n",
      "Time for Getting  0  random elements:  0:00:00.004122\n",
      "Invalid Range: could not broadcast input array from shape (2148,257) into shape (2148,258)\n",
      "Time for Getting  0  random elements:  0:00:00.004326\n"
     ]
    },
    {
     "name": "stderr",
     "output_type": "stream",
     "text": [
      "2018-10-16 23:59:07,147 - nn-real-hvd - INFO -   1298     1 94773.1     0.0   0.002 0.10000\n",
      "2018-10-16 23:59:07,147 - nn-real-hvd - INFO -   1298     1 94773.1     0.0   0.002 0.10000\n",
      "2018-10-16 23:59:07,195 - nn-real-hvd - INFO -   1299     1 94722.8     0.0   0.002 0.10000\n",
      "2018-10-16 23:59:07,195 - nn-real-hvd - INFO -   1299     1 94722.8     0.0   0.002 0.10000\n",
      "2018-10-16 23:59:07,244 - nn-real-hvd - INFO -   1300     1 93635.6     0.0   0.002 0.10000\n",
      "2018-10-16 23:59:07,244 - nn-real-hvd - INFO -   1300     1 93635.6     0.0   0.002 0.10000\n",
      "2018-10-16 23:59:07,294 - nn-real-hvd - INFO -   1301     1 93599.7     0.0   0.002 0.10000\n",
      "2018-10-16 23:59:07,294 - nn-real-hvd - INFO -   1301     1 93599.7     0.0   0.002 0.10000\n",
      "2018-10-16 23:59:07,344 - nn-real-hvd - INFO -   1302     1 91388.8     0.0   0.002 0.10000\n",
      "2018-10-16 23:59:07,344 - nn-real-hvd - INFO -   1302     1 91388.8     0.0   0.002 0.10000\n"
     ]
    },
    {
     "name": "stdout",
     "output_type": "stream",
     "text": [
      "Invalid Range: could not broadcast input array from shape (2110,257) into shape (2110,258)\n",
      "Time for Getting  0  random elements:  0:00:00.003959\n",
      "Invalid Range: could not broadcast input array from shape (2136,257) into shape (2136,258)\n",
      "Time for Getting  0  random elements:  0:00:00.003916\n",
      "Invalid Range: could not broadcast input array from shape (2191,257) into shape (2191,258)\n",
      "Time for Getting  0  random elements:  0:00:00.004145\n",
      "Invalid Range: could not broadcast input array from shape (2188,257) into shape (2188,258)\n",
      "Time for Getting  0  random elements:  0:00:00.004224\n",
      "Invalid Range: could not broadcast input array from shape (2045,257) into shape (2045,258)\n",
      "Time for Getting  0  random elements:  0:00:00.004028\n"
     ]
    },
    {
     "name": "stderr",
     "output_type": "stream",
     "text": [
      "2018-10-16 23:59:07,392 - nn-real-hvd - INFO -   1303     1 94249.5     0.0   0.002 0.10000\n",
      "2018-10-16 23:59:07,392 - nn-real-hvd - INFO -   1303     1 94249.5     0.0   0.002 0.10000\n",
      "2018-10-16 23:59:07,442 - nn-real-hvd - INFO -   1304     1 91174.7     0.0   0.002 0.10000\n",
      "2018-10-16 23:59:07,442 - nn-real-hvd - INFO -   1304     1 91174.7     0.0   0.002 0.10000\n",
      "2018-10-16 23:59:07,492 - nn-real-hvd - INFO -   1305     1 92732.7     0.0   0.002 0.10000\n",
      "2018-10-16 23:59:07,492 - nn-real-hvd - INFO -   1305     1 92732.7     0.0   0.002 0.10000\n",
      "2018-10-16 23:59:07,543 - nn-real-hvd - INFO -   1306     1 88557.1     0.0   0.002 0.10000\n",
      "2018-10-16 23:59:07,543 - nn-real-hvd - INFO -   1306     1 88557.1     0.0   0.002 0.10000\n",
      "2018-10-16 23:59:07,595 - nn-real-hvd - INFO -   1307     1 88696.8     0.0   0.002 0.10000\n",
      "2018-10-16 23:59:07,595 - nn-real-hvd - INFO -   1307     1 88696.8     0.0   0.002 0.10000\n"
     ]
    },
    {
     "name": "stdout",
     "output_type": "stream",
     "text": [
      "Invalid Range: could not broadcast input array from shape (2068,257) into shape (2068,258)\n",
      "Time for Getting  0  random elements:  0:00:00.004209\n",
      "Invalid Range: could not broadcast input array from shape (2207,257) into shape (2207,258)\n",
      "Time for Getting  0  random elements:  0:00:00.003899\n",
      "Invalid Range: could not broadcast input array from shape (2203,257) into shape (2203,258)\n",
      "Time for Getting  0  random elements:  0:00:00.004050\n",
      "Invalid Range: could not broadcast input array from shape (2142,257) into shape (2142,258)\n",
      "Time for Getting  0  random elements:  0:00:00.004187\n"
     ]
    },
    {
     "name": "stderr",
     "output_type": "stream",
     "text": [
      "2018-10-16 23:59:07,642 - nn-real-hvd - INFO -   1308     1 97022.9     0.0   0.002 0.10000\n",
      "2018-10-16 23:59:07,642 - nn-real-hvd - INFO -   1308     1 97022.9     0.0   0.002 0.10000\n",
      "2018-10-16 23:59:07,690 - nn-real-hvd - INFO -   1309     1 96106.5     0.0   0.002 0.10000\n",
      "2018-10-16 23:59:07,690 - nn-real-hvd - INFO -   1309     1 96106.5     0.0   0.002 0.10000\n",
      "2018-10-16 23:59:07,739 - nn-real-hvd - INFO -   1310     1 94129.5     0.0   0.002 0.10000\n",
      "2018-10-16 23:59:07,739 - nn-real-hvd - INFO -   1310     1 94129.5     0.0   0.002 0.10000\n",
      "2018-10-16 23:59:07,785 - nn-real-hvd - INFO -   1311     1 98795.9     0.0   0.002 0.10000\n",
      "2018-10-16 23:59:07,785 - nn-real-hvd - INFO -   1311     1 98795.9     0.0   0.002 0.10000\n"
     ]
    },
    {
     "name": "stdout",
     "output_type": "stream",
     "text": [
      "Invalid Range: could not broadcast input array from shape (2183,257) into shape (2183,258)\n",
      "Time for Getting  0  random elements:  0:00:00.004207\n",
      "Invalid Range: could not broadcast input array from shape (2189,257) into shape (2189,258)\n",
      "Time for Getting  0  random elements:  0:00:00.004161\n",
      "Invalid Range: could not broadcast input array from shape (2161,257) into shape (2161,258)\n",
      "Time for Getting  0  random elements:  0:00:00.004219\n",
      "Invalid Range: could not broadcast input array from shape (2119,257) into shape (2119,258)\n",
      "Time for Getting  0  random elements:  0:00:00.004214\n",
      "Invalid Range: could not broadcast input array from shape (2079,257) into shape (2079,258)\n",
      "Time for Getting  0  random elements:  0:00:00.004213\n"
     ]
    },
    {
     "name": "stderr",
     "output_type": "stream",
     "text": [
      "2018-10-16 23:59:07,832 - nn-real-hvd - INFO -   1312     1 98189.6     0.0   0.002 0.10000\n",
      "2018-10-16 23:59:07,832 - nn-real-hvd - INFO -   1312     1 98189.6     0.0   0.002 0.10000\n",
      "2018-10-16 23:59:07,881 - nn-real-hvd - INFO -   1313     1 92761.9     0.0   0.002 0.10000\n",
      "2018-10-16 23:59:07,881 - nn-real-hvd - INFO -   1313     1 92761.9     0.0   0.002 0.10000\n",
      "2018-10-16 23:59:07,930 - nn-real-hvd - INFO -   1314     1 95007.9     0.0   0.002 0.10000\n",
      "2018-10-16 23:59:07,930 - nn-real-hvd - INFO -   1314     1 95007.9     0.0   0.002 0.10000\n",
      "2018-10-16 23:59:07,979 - nn-real-hvd - INFO -   1315     1 92680.3     0.0   0.002 0.10000\n",
      "2018-10-16 23:59:07,979 - nn-real-hvd - INFO -   1315     1 92680.3     0.0   0.002 0.10000\n",
      "2018-10-16 23:59:08,026 - nn-real-hvd - INFO -   1316     1 98081.1     0.0   0.002 0.10000\n",
      "2018-10-16 23:59:08,026 - nn-real-hvd - INFO -   1316     1 98081.1     0.0   0.002 0.10000\n"
     ]
    },
    {
     "name": "stdout",
     "output_type": "stream",
     "text": [
      "Invalid Range: could not broadcast input array from shape (2143,257) into shape (2143,258)\n",
      "Time for Getting  0  random elements:  0:00:00.004392\n",
      "Invalid Range: could not broadcast input array from shape (2218,257) into shape (2218,258)\n",
      "Time for Getting  0  random elements:  0:00:00.004163\n",
      "Invalid Range: could not broadcast input array from shape (2149,257) into shape (2149,258)\n",
      "Time for Getting  0  random elements:  0:00:00.004066\n",
      "Invalid Range: could not broadcast input array from shape (2135,257) into shape (2135,258)\n",
      "Time for Getting  0  random elements:  0:00:00.004048\n",
      "Invalid Range: could not broadcast input array from shape (2147,257) into shape (2147,258)\n",
      "Time for Getting  0  random elements:  0:00:00.003944\n"
     ]
    },
    {
     "name": "stderr",
     "output_type": "stream",
     "text": [
      "2018-10-16 23:59:08,074 - nn-real-hvd - INFO -   1317     1 96782.0     0.0   0.002 0.10000\n",
      "2018-10-16 23:59:08,074 - nn-real-hvd - INFO -   1317     1 96782.0     0.0   0.002 0.10000\n",
      "2018-10-16 23:59:08,124 - nn-real-hvd - INFO -   1318     1 91632.0     0.0   0.002 0.10000\n",
      "2018-10-16 23:59:08,124 - nn-real-hvd - INFO -   1318     1 91632.0     0.0   0.002 0.10000\n",
      "2018-10-16 23:59:08,175 - nn-real-hvd - INFO -   1319     1 89679.9     0.0   0.002 0.10000\n",
      "2018-10-16 23:59:08,175 - nn-real-hvd - INFO -   1319     1 89679.9     0.0   0.002 0.10000\n",
      "2018-10-16 23:59:08,224 - nn-real-hvd - INFO -   1320     1 92797.1     0.0   0.002 0.10000\n",
      "2018-10-16 23:59:08,224 - nn-real-hvd - INFO -   1320     1 92797.1     0.0   0.002 0.10000\n",
      "2018-10-16 23:59:08,271 - nn-real-hvd - INFO -   1321     1 97073.6     0.0   0.002 0.10000\n",
      "2018-10-16 23:59:08,271 - nn-real-hvd - INFO -   1321     1 97073.6     0.0   0.002 0.10000\n"
     ]
    },
    {
     "name": "stdout",
     "output_type": "stream",
     "text": [
      "Invalid Range: could not broadcast input array from shape (2159,257) into shape (2159,258)\n",
      "Time for Getting  0  random elements:  0:00:00.004486\n",
      "Invalid Range: could not broadcast input array from shape (2160,257) into shape (2160,258)\n",
      "Time for Getting  0  random elements:  0:00:00.004000\n",
      "Invalid Range: could not broadcast input array from shape (2182,257) into shape (2182,258)\n",
      "Time for Getting  0  random elements:  0:00:00.004315\n",
      "Invalid Range: could not broadcast input array from shape (2098,257) into shape (2098,258)\n",
      "Time for Getting  0  random elements:  0:00:00.004505\n",
      "Invalid Range: could not broadcast input array from shape (2151,257) into shape (2151,258)\n",
      "Time for Getting  0 "
     ]
    },
    {
     "name": "stderr",
     "output_type": "stream",
     "text": [
      "2018-10-16 23:59:08,319 - nn-real-hvd - INFO -   1322     1 96979.8     0.0   0.002 0.10000\n",
      "2018-10-16 23:59:08,319 - nn-real-hvd - INFO -   1322     1 96979.8     0.0   0.002 0.10000\n",
      "2018-10-16 23:59:08,369 - nn-real-hvd - INFO -   1323     1 92288.6     0.0   0.002 0.10000\n",
      "2018-10-16 23:59:08,369 - nn-real-hvd - INFO -   1323     1 92288.6     0.0   0.002 0.10000\n",
      "2018-10-16 23:59:08,418 - nn-real-hvd - INFO -   1324     1 92991.9     0.0   0.002 0.10000\n",
      "2018-10-16 23:59:08,418 - nn-real-hvd - INFO -   1324     1 92991.9     0.0   0.002 0.10000\n",
      "2018-10-16 23:59:08,466 - nn-real-hvd - INFO -   1325     1 96234.5     0.0   0.002 0.10000\n",
      "2018-10-16 23:59:08,466 - nn-real-hvd - INFO -   1325     1 96234.5     0.0   0.002 0.10000\n"
     ]
    },
    {
     "name": "stdout",
     "output_type": "stream",
     "text": [
      " random elements:  0:00:00.004193\n",
      "Invalid Range: could not broadcast input array from shape (2165,257) into shape (2165,258)\n",
      "Time for Getting  0  random elements:  0:00:00.004270\n",
      "Invalid Range: could not broadcast input array from shape (2153,257) into shape (2153,258)\n",
      "Time for Getting  0  random elements:  0:00:00.004512\n",
      "Invalid Range: could not broadcast input array from shape (2180,257) into shape (2180,258)\n",
      "Time for Getting  0  random elements:  0:00:00.004341\n",
      "Invalid Range: could not broadcast input array from shape (2151,257) into shape (2151,258)\n",
      "Time for Getting  0  random elements:  0:00:00.004482\n"
     ]
    },
    {
     "name": "stderr",
     "output_type": "stream",
     "text": [
      "2018-10-16 23:59:08,514 - nn-real-hvd - INFO -   1326     1 96108.0     0.0   0.002 0.10000\n",
      "2018-10-16 23:59:08,514 - nn-real-hvd - INFO -   1326     1 96108.0     0.0   0.002 0.10000\n",
      "2018-10-16 23:59:08,561 - nn-real-hvd - INFO -   1327     1 97276.1     0.0   0.002 0.10000\n",
      "2018-10-16 23:59:08,561 - nn-real-hvd - INFO -   1327     1 97276.1     0.0   0.002 0.10000\n",
      "2018-10-16 23:59:08,611 - nn-real-hvd - INFO -   1328     1 92179.1     0.0   0.002 0.10000\n",
      "2018-10-16 23:59:08,611 - nn-real-hvd - INFO -   1328     1 92179.1     0.0   0.002 0.10000\n",
      "2018-10-16 23:59:08,660 - nn-real-hvd - INFO -   1329     1 94551.5     0.0   0.002 0.10000\n",
      "2018-10-16 23:59:08,660 - nn-real-hvd - INFO -   1329     1 94551.5     0.0   0.002 0.10000\n",
      "2018-10-16 23:59:08,708 - nn-real-hvd - INFO -   1330     1 94878.7     0.0   0.002 0.10000\n",
      "2018-10-16 23:59:08,708 - nn-real-hvd - INFO -   1330     1 94878.7     0.0   0.002 0.10000\n"
     ]
    },
    {
     "name": "stdout",
     "output_type": "stream",
     "text": [
      "Invalid Range: could not broadcast input array from shape (2178,257) into shape (2178,258)\n",
      "Time for Getting  0  random elements:  0:00:00.004424\n",
      "Invalid Range: could not broadcast input array from shape (2114,257) into shape (2114,258)\n",
      "Time for Getting  0  random elements:  0:00:00.004699\n",
      "Invalid Range: could not broadcast input array from shape (2153,257) into shape (2153,258)\n",
      "Time for Getting  0  random elements:  0:00:00.004407\n",
      "Invalid Range: could not broadcast input array from shape (2132,257) into shape (2132,258)\n",
      "Time for Getting  0  random elements:  0:00:00.004323\n",
      "Invalid Range: could not broadcast input array from shape (2155,257) into shape (2155,258)\n",
      "Time for Getting  0  random elements:  0:00:00.003760\n"
     ]
    },
    {
     "name": "stderr",
     "output_type": "stream",
     "text": [
      "2018-10-16 23:59:08,757 - nn-real-hvd - INFO -   1331     1 92944.0     0.0   0.002 0.10000\n",
      "2018-10-16 23:59:08,757 - nn-real-hvd - INFO -   1331     1 92944.0     0.0   0.002 0.10000\n",
      "2018-10-16 23:59:08,804 - nn-real-hvd - INFO -   1332     1 96829.0     0.0   0.002 0.10000\n",
      "2018-10-16 23:59:08,804 - nn-real-hvd - INFO -   1332     1 96829.0     0.0   0.002 0.10000\n",
      "2018-10-16 23:59:08,851 - nn-real-hvd - INFO -   1333     1 98554.6     0.0   0.002 0.10000\n",
      "2018-10-16 23:59:08,851 - nn-real-hvd - INFO -   1333     1 98554.6     0.0   0.002 0.10000\n",
      "2018-10-16 23:59:08,898 - nn-real-hvd - INFO -   1334     1 97292.4     0.0   0.002 0.10000\n",
      "2018-10-16 23:59:08,898 - nn-real-hvd - INFO -   1334     1 97292.4     0.0   0.002 0.10000\n",
      "2018-10-16 23:59:08,948 - nn-real-hvd - INFO -   1335     1 92160.8     0.0   0.002 0.10000\n",
      "2018-10-16 23:59:08,948 - nn-real-hvd - INFO -   1335     1 92160.8     0.0   0.002 0.10000\n"
     ]
    },
    {
     "name": "stdout",
     "output_type": "stream",
     "text": [
      "Invalid Range: could not broadcast input array from shape (2187,257) into shape (2187,258)\n",
      "Time for Getting  0  random elements:  0:00:00.003886\n",
      "Invalid Range: could not broadcast input array from shape (2132,257) into shape (2132,258)\n",
      "Time for Getting  0  random elements:  0:00:00.004014\n",
      "Invalid Range: could not broadcast input array from shape (2116,257) into shape (2116,258)\n",
      "Time for Getting  0  random elements:  0:00:00.003856\n",
      "Invalid Range: could not broadcast input array from shape (2158,257) into shape (2158,258)\n",
      "Time for Getting  0  random elements:  0:00:00.004201\n",
      "Invalid Range: could not broadcast input array from shape (2103,257) into shape (2103,258)\n",
      "Time for Getting  0  random elements:  0:00:00.003917\n"
     ]
    },
    {
     "name": "stderr",
     "output_type": "stream",
     "text": [
      "2018-10-16 23:59:08,997 - nn-real-hvd - INFO -   1336     1 93030.6     0.0   0.002 0.10000\n",
      "2018-10-16 23:59:08,997 - nn-real-hvd - INFO -   1336     1 93030.6     0.0   0.002 0.10000\n",
      "2018-10-16 23:59:09,045 - nn-real-hvd - INFO -   1337     1 94905.4     0.0   0.002 0.10000\n",
      "2018-10-16 23:59:09,045 - nn-real-hvd - INFO -   1337     1 94905.4     0.0   0.002 0.10000\n",
      "2018-10-16 23:59:09,097 - nn-real-hvd - INFO -   1338     1 89020.1     0.0   0.002 0.10000\n",
      "2018-10-16 23:59:09,097 - nn-real-hvd - INFO -   1338     1 89020.1     0.0   0.002 0.10000\n",
      "2018-10-16 23:59:09,147 - nn-real-hvd - INFO -   1339     1 90937.0     0.0   0.002 0.10000\n",
      "2018-10-16 23:59:09,147 - nn-real-hvd - INFO -   1339     1 90937.0     0.0   0.002 0.10000\n",
      "2018-10-16 23:59:09,196 - nn-real-hvd - INFO -   1340     1 93889.5     0.0   0.002 0.10000\n",
      "2018-10-16 23:59:09,196 - nn-real-hvd - INFO -   1340     1 93889.5     0.0   0.002 0.10000\n"
     ]
    },
    {
     "name": "stdout",
     "output_type": "stream",
     "text": [
      "Invalid Range: could not broadcast input array from shape (2097,257) into shape (2097,258)\n",
      "Time for Getting  0  random elements:  0:00:00.003991\n",
      "Invalid Range: could not broadcast input array from shape (2122,257) into shape (2122,258)\n",
      "Time for Getting  0  random elements:  0:00:00.004125\n",
      "Invalid Range: could not broadcast input array from shape (2142,257) into shape (2142,258)\n",
      "Time for Getting  0  random elements:  0:00:00.004191\n",
      "Invalid Range: could not broadcast input array from shape (2133,257) into shape (2133,258)\n",
      "Time for Getting  0  random elements:  0:00:00.003675\n",
      "Invalid Range: could not broadcast input array from shape (2159,257) into shape (2159,258)\n"
     ]
    },
    {
     "name": "stderr",
     "output_type": "stream",
     "text": [
      "2018-10-16 23:59:09,243 - nn-real-hvd - INFO -   1341     1 96584.6     0.0   0.002 0.10000\n",
      "2018-10-16 23:59:09,243 - nn-real-hvd - INFO -   1341     1 96584.6     0.0   0.002 0.10000\n",
      "2018-10-16 23:59:09,290 - nn-real-hvd - INFO -   1342     1 96999.0     0.0   0.002 0.10000\n",
      "2018-10-16 23:59:09,290 - nn-real-hvd - INFO -   1342     1 96999.0     0.0   0.002 0.10000\n",
      "2018-10-16 23:59:09,337 - nn-real-hvd - INFO -   1343     1 98279.5     0.0   0.002 0.10000\n",
      "2018-10-16 23:59:09,337 - nn-real-hvd - INFO -   1343     1 98279.5     0.0   0.002 0.10000\n",
      "2018-10-16 23:59:09,385 - nn-real-hvd - INFO -   1344     1 94539.0     0.0   0.002 0.10000\n",
      "2018-10-16 23:59:09,385 - nn-real-hvd - INFO -   1344     1 94539.0     0.0   0.002 0.10000\n"
     ]
    },
    {
     "name": "stdout",
     "output_type": "stream",
     "text": [
      "Time for Getting  0  random elements:  0:00:00.004286\n",
      "Invalid Range: could not broadcast input array from shape (2128,257) into shape (2128,258)\n",
      "Time for Getting  0  random elements:  0:00:00.004112\n",
      "Invalid Range: could not broadcast input array from shape (2131,257) into shape (2131,258)\n",
      "Time for Getting  0  random elements:  0:00:00.004129\n",
      "Invalid Range: could not broadcast input array from shape (2123,257) into shape (2123,258)\n",
      "Time for Getting  0  random elements:  0:00:00.004462\n",
      "Invalid Range: could not broadcast input array from shape (2108,257) into shape (2108,258)\n",
      "Time for Getting  0  random elements:  0:00:00.004007\n"
     ]
    },
    {
     "name": "stderr",
     "output_type": "stream",
     "text": [
      "2018-10-16 23:59:09,446 - nn-real-hvd - INFO -   1345     1 75723.7     0.1   0.002 0.10000\n",
      "2018-10-16 23:59:09,446 - nn-real-hvd - INFO -   1345     1 75723.7     0.1   0.002 0.10000\n",
      "2018-10-16 23:59:09,494 - nn-real-hvd - INFO -   1346     1 96421.0     0.0   0.002 0.10000\n",
      "2018-10-16 23:59:09,494 - nn-real-hvd - INFO -   1346     1 96421.0     0.0   0.002 0.10000\n",
      "2018-10-16 23:59:09,544 - nn-real-hvd - INFO -   1347     1 90366.8     0.0   0.002 0.10000\n",
      "2018-10-16 23:59:09,544 - nn-real-hvd - INFO -   1347     1 90366.8     0.0   0.002 0.10000\n",
      "2018-10-16 23:59:09,592 - nn-real-hvd - INFO -   1348     1 95234.1     0.0   0.002 0.10000\n",
      "2018-10-16 23:59:09,592 - nn-real-hvd - INFO -   1348     1 95234.1     0.0   0.002 0.10000\n",
      "2018-10-16 23:59:09,643 - nn-real-hvd - INFO -   1349     1 89868.8     0.0   0.002 0.10000\n",
      "2018-10-16 23:59:09,643 - nn-real-hvd - INFO -   1349     1 89868.8     0.0   0.002 0.10000\n"
     ]
    },
    {
     "name": "stdout",
     "output_type": "stream",
     "text": [
      "Invalid Range: could not broadcast input array from shape (2126,257) into shape (2126,258)\n",
      "Time for Getting  0  random elements:  0:00:00.004234\n",
      "Invalid Range: could not broadcast input array from shape (2149,257) into shape (2149,258)\n",
      "Time for Getting  0  random elements:  0:00:00.004194\n",
      "Invalid Range: could not broadcast input array from shape (2119,257) into shape (2119,258)\n",
      "Time for Getting  0  random elements:  0:00:00.004561\n",
      "Invalid Range: could not broadcast input array from shape (2141,257) into shape (2141,258)\n",
      "Time for Getting  0  random elements:  0:00:00.004315\n",
      "Invalid Range: could not broadcast input array from shape (2108,257) into shape (2108,258)\n"
     ]
    },
    {
     "name": "stderr",
     "output_type": "stream",
     "text": [
      "2018-10-16 23:59:09,691 - nn-real-hvd - INFO -   1350     1 94777.5     0.0   0.002 0.10000\n",
      "2018-10-16 23:59:09,691 - nn-real-hvd - INFO -   1350     1 94777.5     0.0   0.002 0.10000\n",
      "2018-10-16 23:59:09,740 - nn-real-hvd - INFO -   1351     1 94385.6     0.0   0.002 0.10000\n",
      "2018-10-16 23:59:09,740 - nn-real-hvd - INFO -   1351     1 94385.6     0.0   0.002 0.10000\n",
      "2018-10-16 23:59:09,789 - nn-real-hvd - INFO -   1352     1 93218.0     0.0   0.002 0.10000\n",
      "2018-10-16 23:59:09,789 - nn-real-hvd - INFO -   1352     1 93218.0     0.0   0.002 0.10000\n",
      "2018-10-16 23:59:09,837 - nn-real-hvd - INFO -   1353     1 94294.5     0.0   0.002 0.10000\n",
      "2018-10-16 23:59:09,837 - nn-real-hvd - INFO -   1353     1 94294.5     0.0   0.002 0.10000\n"
     ]
    },
    {
     "name": "stdout",
     "output_type": "stream",
     "text": [
      "Time for Getting  0  random elements:  0:00:00.004449\n",
      "Invalid Range: could not broadcast input array from shape (2148,257) into shape (2148,258)\n",
      "Time for Getting  0  random elements:  0:00:00.004104\n",
      "Invalid Range: could not broadcast input array from shape (2097,257) into shape (2097,258)\n",
      "Time for Getting  0  random elements:  0:00:00.003963\n",
      "Invalid Range: could not broadcast input array from shape (2135,257) into shape (2135,258)\n",
      "Time for Getting  0  random elements:  0:00:00.003707\n",
      "Invalid Range: could not broadcast input array from shape (2131,257) into shape (2131,258)\n",
      "Time for Getting  0  random elements:  0:00:00.004129\n"
     ]
    },
    {
     "name": "stderr",
     "output_type": "stream",
     "text": [
      "2018-10-16 23:59:09,885 - nn-real-hvd - INFO -   1354     1 95188.7     0.0   0.002 0.10000\n",
      "2018-10-16 23:59:09,885 - nn-real-hvd - INFO -   1354     1 95188.7     0.0   0.002 0.10000\n",
      "2018-10-16 23:59:09,931 - nn-real-hvd - INFO -   1355     1 99834.3     0.0   0.002 0.10000\n",
      "2018-10-16 23:59:09,931 - nn-real-hvd - INFO -   1355     1 99834.3     0.0   0.002 0.10000\n",
      "2018-10-16 23:59:09,977 - nn-real-hvd - INFO -   1356     1 98889.1     0.0   0.002 0.10000\n",
      "2018-10-16 23:59:09,977 - nn-real-hvd - INFO -   1356     1 98889.1     0.0   0.002 0.10000\n",
      "2018-10-16 23:59:10,027 - nn-real-hvd - INFO -   1357     1 91210.1     0.0   0.002 0.10000\n",
      "2018-10-16 23:59:10,027 - nn-real-hvd - INFO -   1357     1 91210.1     0.0   0.002 0.10000\n",
      "2018-10-16 23:59:10,077 - nn-real-hvd - INFO -   1358     1 92668.3     0.0   0.002 0.10000\n",
      "2018-10-16 23:59:10,077 - nn-real-hvd - INFO -   1358     1 92668.3     0.0   0.002 0.10000\n"
     ]
    },
    {
     "name": "stdout",
     "output_type": "stream",
     "text": [
      "Invalid Range: could not broadcast input array from shape (2177,257) into shape (2177,258)\n",
      "Time for Getting  0  random elements:  0:00:00.004086\n",
      "Invalid Range: could not broadcast input array from shape (2161,257) into shape (2161,258)\n",
      "Time for Getting  0  random elements:  0:00:00.004096\n",
      "Invalid Range: could not broadcast input array from shape (2173,257) into shape (2173,258)\n",
      "Time for Getting  0  random elements:  0:00:00.004267\n",
      "Invalid Range: could not broadcast input array from shape (2158,257) into shape (2158,258)\n",
      "Time for Getting  0  random elements:  0:00:00.004090\n",
      "Invalid Range: could not broadcast input array from shape (2117,257) into shape (2117,258)\n",
      "Time for Getting  0  random elements:  0:00:00.004184\n"
     ]
    },
    {
     "name": "stderr",
     "output_type": "stream",
     "text": [
      "2018-10-16 23:59:10,124 - nn-real-hvd - INFO -   1359     1 95511.0     0.0   0.002 0.10000\n",
      "2018-10-16 23:59:10,124 - nn-real-hvd - INFO -   1359     1 95511.0     0.0   0.002 0.10000\n",
      "2018-10-16 23:59:10,173 - nn-real-hvd - INFO -   1360     1 93118.4     0.0   0.002 0.10000\n",
      "2018-10-16 23:59:10,173 - nn-real-hvd - INFO -   1360     1 93118.4     0.0   0.002 0.10000\n",
      "2018-10-16 23:59:10,223 - nn-real-hvd - INFO -   1361     1 92177.2     0.0   0.002 0.10000\n",
      "2018-10-16 23:59:10,223 - nn-real-hvd - INFO -   1361     1 92177.2     0.0   0.002 0.10000\n",
      "2018-10-16 23:59:10,272 - nn-real-hvd - INFO -   1362     1 92366.7     0.0   0.002 0.10000\n",
      "2018-10-16 23:59:10,272 - nn-real-hvd - INFO -   1362     1 92366.7     0.0   0.002 0.10000\n",
      "2018-10-16 23:59:10,323 - nn-real-hvd - INFO -   1363     1 90942.8     0.0   0.002 0.10000\n",
      "2018-10-16 23:59:10,323 - nn-real-hvd - INFO -   1363     1 90942.8     0.0   0.002 0.10000\n"
     ]
    },
    {
     "name": "stdout",
     "output_type": "stream",
     "text": [
      "Invalid Range: could not broadcast input array from shape (2145,257) into shape (2145,258)\n",
      "Time for Getting  0  random elements:  0:00:00.004109\n",
      "Invalid Range: could not broadcast input array from shape (2132,257) into shape (2132,258)\n",
      "Time for Getting  0  random elements:  0:00:00.004193\n",
      "Invalid Range: could not broadcast input array from shape (2161,257) into shape (2161,258)\n",
      "Time for Getting  0  random elements:  0:00:00.004382\n",
      "Invalid Range: could not broadcast input array from shape (2108,257) into shape (2108,258)\n",
      "Time for Getting  0  random elements:  0:00:00.004354\n",
      "Invalid Range: could not broadcast input array from shape (2104,257) into shape (2104,258)\n",
      "Time for Getting  0  random elements:  0:00:00.004367\n"
     ]
    },
    {
     "name": "stderr",
     "output_type": "stream",
     "text": [
      "2018-10-16 23:59:10,373 - nn-real-hvd - INFO -   1364     1 91593.2     0.0   0.002 0.10000\n",
      "2018-10-16 23:59:10,373 - nn-real-hvd - INFO -   1364     1 91593.2     0.0   0.002 0.10000\n",
      "2018-10-16 23:59:10,421 - nn-real-hvd - INFO -   1365     1 94713.1     0.0   0.002 0.10000\n",
      "2018-10-16 23:59:10,421 - nn-real-hvd - INFO -   1365     1 94713.1     0.0   0.002 0.10000\n",
      "2018-10-16 23:59:10,469 - nn-real-hvd - INFO -   1366     1 95932.6     0.0   0.002 0.10000\n",
      "2018-10-16 23:59:10,469 - nn-real-hvd - INFO -   1366     1 95932.6     0.0   0.002 0.10000\n",
      "2018-10-16 23:59:10,520 - nn-real-hvd - INFO -   1367     1 89888.4     0.0   0.002 0.10000\n",
      "2018-10-16 23:59:10,520 - nn-real-hvd - INFO -   1367     1 89888.4     0.0   0.002 0.10000\n",
      "2018-10-16 23:59:10,568 - nn-real-hvd - INFO -   1368     1 94762.5     0.0   0.002 0.10000\n",
      "2018-10-16 23:59:10,568 - nn-real-hvd - INFO -   1368     1 94762.5     0.0   0.002 0.10000\n"
     ]
    },
    {
     "name": "stdout",
     "output_type": "stream",
     "text": [
      "Invalid Range: could not broadcast input array from shape (2138,257) into shape (2138,258)\n",
      "Time for Getting  0  random elements:  0:00:00.004352\n",
      "Invalid Range: could not broadcast input array from shape (2152,257) into shape (2152,258)\n",
      "Time for Getting  0  random elements:  0:00:00.004197\n",
      "Invalid Range: could not broadcast input array from shape (2101,257) into shape (2101,258)\n",
      "Time for Getting  0  random elements:  0:00:00.004312\n",
      "Invalid Range: could not broadcast input array from shape (2146,257) into shape (2146,258)\n",
      "Time for Getting  0  random elements:  0:00:00.003996\n",
      "Invalid Range: could not broadcast input array from shape (2167,257) into shape (2167,258)\n",
      "Time for Getting  0  random elements:  0:00:00.004181\n"
     ]
    },
    {
     "name": "stderr",
     "output_type": "stream",
     "text": [
      "2018-10-16 23:59:10,620 - nn-real-hvd - INFO -   1369     1 88158.7     0.1   0.002 0.10000\n",
      "2018-10-16 23:59:10,620 - nn-real-hvd - INFO -   1369     1 88158.7     0.1   0.002 0.10000\n",
      "2018-10-16 23:59:10,673 - nn-real-hvd - INFO -   1370     1 86490.8     0.1   0.002 0.10000\n",
      "2018-10-16 23:59:10,673 - nn-real-hvd - INFO -   1370     1 86490.8     0.1   0.002 0.10000\n",
      "2018-10-16 23:59:10,722 - nn-real-hvd - INFO -   1371     1 93687.1     0.0   0.002 0.10000\n",
      "2018-10-16 23:59:10,722 - nn-real-hvd - INFO -   1371     1 93687.1     0.0   0.002 0.10000\n",
      "2018-10-16 23:59:10,770 - nn-real-hvd - INFO -   1372     1 95195.5     0.0   0.002 0.10000\n",
      "2018-10-16 23:59:10,770 - nn-real-hvd - INFO -   1372     1 95195.5     0.0   0.002 0.10000\n",
      "2018-10-16 23:59:10,818 - nn-real-hvd - INFO -   1373     1 95425.1     0.0   0.002 0.10000\n",
      "2018-10-16 23:59:10,818 - nn-real-hvd - INFO -   1373     1 95425.1     0.0   0.002 0.10000\n"
     ]
    },
    {
     "name": "stdout",
     "output_type": "stream",
     "text": [
      "Invalid Range: could not broadcast input array from shape (2182,257) into shape (2182,258)\n",
      "Time for Getting  0  random elements:  0:00:00.004261\n",
      "Invalid Range: could not broadcast input array from shape (2140,257) into shape (2140,258)\n",
      "Time for Getting  0  random elements:  0:00:00.003930\n",
      "Invalid Range: could not broadcast input array from shape (2113,257) into shape (2113,258)\n",
      "Time for Getting  0  random elements:  0:00:00.003993\n",
      "Invalid Range: could not broadcast input array from shape (2114,257) into shape (2114,258)\n",
      "Time for Getting  0  random elements:  0:00:00.004039\n",
      "Invalid Range: could not broadcast input array from shape (2165,257) into shape (2165,258)\n",
      "Time for Getting  0  random elements:  0:00:00.004099\n"
     ]
    },
    {
     "name": "stderr",
     "output_type": "stream",
     "text": [
      "2018-10-16 23:59:10,865 - nn-real-hvd - INFO -   1374     1 97190.0     0.0   0.002 0.10000\n",
      "2018-10-16 23:59:10,865 - nn-real-hvd - INFO -   1374     1 97190.0     0.0   0.002 0.10000\n",
      "2018-10-16 23:59:10,912 - nn-real-hvd - INFO -   1375     1 97943.5     0.0   0.002 0.10000\n",
      "2018-10-16 23:59:10,912 - nn-real-hvd - INFO -   1375     1 97943.5     0.0   0.002 0.10000\n",
      "2018-10-16 23:59:10,961 - nn-real-hvd - INFO -   1376     1 92899.8     0.0   0.002 0.10000\n",
      "2018-10-16 23:59:10,961 - nn-real-hvd - INFO -   1376     1 92899.8     0.0   0.002 0.10000\n",
      "2018-10-16 23:59:11,009 - nn-real-hvd - INFO -   1377     1 95205.3     0.0   0.002 0.10000\n",
      "2018-10-16 23:59:11,009 - nn-real-hvd - INFO -   1377     1 95205.3     0.0   0.002 0.10000\n",
      "2018-10-16 23:59:11,056 - nn-real-hvd - INFO -   1378     1 99016.2     0.0   0.002 0.10000\n",
      "2018-10-16 23:59:11,056 - nn-real-hvd - INFO -   1378     1 99016.2     0.0   0.002 0.10000\n"
     ]
    },
    {
     "name": "stdout",
     "output_type": "stream",
     "text": [
      "Invalid Range: could not broadcast input array from shape (2149,257) into shape (2149,258)\n",
      "Time for Getting  0  random elements:  0:00:00.003865\n",
      "Invalid Range: could not broadcast input array from shape (2079,257) into shape (2079,258)\n",
      "Time for Getting  0  random elements:  0:00:00.003896\n",
      "Invalid Range: could not broadcast input array from shape (2130,257) into shape (2130,258)\n",
      "Time for Getting  0  random elements:  0:00:00.003801\n",
      "Invalid Range: could not broadcast input array from shape (2131,257) into shape (2131,258)\n",
      "Time for Getting  0  random elements:  0:00:00.003958\n",
      "Invalid Range: could not broadcast input array from shape (2070,257) into shape (2070,258)\n",
      "Time for Getting  0  random elements:  0:00:00.003650\n"
     ]
    },
    {
     "name": "stderr",
     "output_type": "stream",
     "text": [
      "2018-10-16 23:59:11,101 - nn-real-hvd - INFO -   1379     1 100956.8     0.0   0.002 0.10000\n",
      "2018-10-16 23:59:11,101 - nn-real-hvd - INFO -   1379     1 100956.8     0.0   0.002 0.10000\n",
      "2018-10-16 23:59:11,148 - nn-real-hvd - INFO -   1380     1 99225.3     0.0   0.002 0.10000\n",
      "2018-10-16 23:59:11,148 - nn-real-hvd - INFO -   1380     1 99225.3     0.0   0.002 0.10000\n",
      "2018-10-16 23:59:11,195 - nn-real-hvd - INFO -   1381     1 96399.0     0.0   0.002 0.10000\n",
      "2018-10-16 23:59:11,195 - nn-real-hvd - INFO -   1381     1 96399.0     0.0   0.002 0.10000\n",
      "2018-10-16 23:59:11,242 - nn-real-hvd - INFO -   1382     1 95894.0     0.0   0.002 0.10000\n",
      "2018-10-16 23:59:11,242 - nn-real-hvd - INFO -   1382     1 95894.0     0.0   0.002 0.10000\n",
      "2018-10-16 23:59:11,295 - nn-real-hvd - INFO -   1383     1 86965.3     0.1   0.002 0.10000\n",
      "2018-10-16 23:59:11,295 - nn-real-hvd - INFO -   1383     1 86965.3     0.1   0.002 0.10000\n"
     ]
    },
    {
     "name": "stdout",
     "output_type": "stream",
     "text": [
      "Invalid Range: could not broadcast input array from shape (2196,257) into shape (2196,258)\n",
      "Time for Getting  0  random elements:  0:00:00.004167\n",
      "Invalid Range: could not broadcast input array from shape (2164,257) into shape (2164,258)\n",
      "Time for Getting  0  random elements:  0:00:00.003865\n",
      "Invalid Range: could not broadcast input array from shape (2143,257) into shape (2143,258)\n",
      "Time for Getting  0  random elements:  0:00:00.004168\n",
      "Invalid Range: could not broadcast input array from shape (2125,257) into shape (2125,258)\n",
      "Time for Getting  0  random elements:  0:00:00.004469\n",
      "Invalid Range: could not broadcast input array from shape (2137,257) into shape (2137,258)\n",
      "Time for Getting  0  random elements:  0:00:00.003955\n"
     ]
    },
    {
     "name": "stderr",
     "output_type": "stream",
     "text": [
      "2018-10-16 23:59:11,343 - nn-real-hvd - INFO -   1384     1 96500.2     0.0   0.002 0.10000\n",
      "2018-10-16 23:59:11,343 - nn-real-hvd - INFO -   1384     1 96500.2     0.0   0.002 0.10000\n",
      "2018-10-16 23:59:11,391 - nn-real-hvd - INFO -   1385     1 95861.8     0.0   0.002 0.10000\n",
      "2018-10-16 23:59:11,391 - nn-real-hvd - INFO -   1385     1 95861.8     0.0   0.002 0.10000\n",
      "2018-10-16 23:59:11,439 - nn-real-hvd - INFO -   1386     1 95384.9     0.0   0.002 0.10000\n",
      "2018-10-16 23:59:11,439 - nn-real-hvd - INFO -   1386     1 95384.9     0.0   0.002 0.10000\n",
      "2018-10-16 23:59:11,487 - nn-real-hvd - INFO -   1387     1 95432.9     0.0   0.002 0.10000\n",
      "2018-10-16 23:59:11,487 - nn-real-hvd - INFO -   1387     1 95432.9     0.0   0.002 0.10000\n",
      "2018-10-16 23:59:11,534 - nn-real-hvd - INFO -   1388     1 95602.5     0.0   0.002 0.10000\n",
      "2018-10-16 23:59:11,534 - nn-real-hvd - INFO -   1388     1 95602.5     0.0   0.002 0.10000\n"
     ]
    },
    {
     "name": "stdout",
     "output_type": "stream",
     "text": [
      "Invalid Range: could not broadcast input array from shape (2127,257) into shape (2127,258)\n",
      "Time for Getting  0  random elements:  0:00:00.004333\n",
      "Invalid Range: could not broadcast input array from shape (2166,257) into shape (2166,258)\n",
      "Time for Getting  0  random elements:  0:00:00.004674\n",
      "Invalid Range: could not broadcast input array from shape (2100,257) into shape (2100,258)\n",
      "Time for Getting  0  random elements:  0:00:00.004642\n",
      "Invalid Range: could not broadcast input array from shape (2161,257) into shape (2161,258)\n",
      "Time for Getting  0  random elements:  0:00:00.004454\n",
      "Invalid Range: could not broadcast input array from shape (2190,257) into shape (2190,258)\n",
      "Time for Getting  0  random elements:  0:00:00.004634\n"
     ]
    },
    {
     "name": "stderr",
     "output_type": "stream",
     "text": [
      "2018-10-16 23:59:11,584 - nn-real-hvd - INFO -   1389     1 93527.1     0.0   0.002 0.10000\n",
      "2018-10-16 23:59:11,584 - nn-real-hvd - INFO -   1389     1 93527.1     0.0   0.002 0.10000\n",
      "2018-10-16 23:59:11,632 - nn-real-hvd - INFO -   1390     1 95691.2     0.0   0.002 0.10000\n",
      "2018-10-16 23:59:11,632 - nn-real-hvd - INFO -   1390     1 95691.2     0.0   0.002 0.10000\n",
      "2018-10-16 23:59:11,690 - nn-real-hvd - INFO -   1391     1 79107.1     0.1   0.002 0.10000\n",
      "2018-10-16 23:59:11,690 - nn-real-hvd - INFO -   1391     1 79107.1     0.1   0.002 0.10000\n",
      "2018-10-16 23:59:11,738 - nn-real-hvd - INFO -   1392     1 95824.6     0.0   0.002 0.10000\n",
      "2018-10-16 23:59:11,738 - nn-real-hvd - INFO -   1392     1 95824.6     0.0   0.002 0.10000\n",
      "2018-10-16 23:59:11,783 - nn-real-hvd - INFO -   1393     1 101999.3     0.0   0.002 0.10000\n",
      "2018-10-16 23:59:11,783 - nn-real-hvd - INFO -   1393     1 101999.3     0.0   0.002 0.10000\n"
     ]
    },
    {
     "name": "stdout",
     "output_type": "stream",
     "text": [
      "Invalid Range: could not broadcast input array from shape (2089,257) into shape (2089,258)\n",
      "Time for Getting  0  random elements:  0:00:00.004453\n",
      "Invalid Range: could not broadcast input array from shape (2113,257) into shape (2113,258)\n",
      "Time for Getting  0  random elements:  0:00:00.004014\n",
      "Invalid Range: could not broadcast input array from shape (2113,257) into shape (2113,258)\n",
      "Time for Getting  0  random elements:  0:00:00.003738\n",
      "Invalid Range: could not broadcast input array from shape (2159,257) into shape (2159,258)\n",
      "Time for Getting  0  random elements:  0:00:00.003834\n",
      "Invalid Range: could not broadcast input array from shape (2161,257) into shape (2161,258)\n"
     ]
    },
    {
     "name": "stderr",
     "output_type": "stream",
     "text": [
      "2018-10-16 23:59:11,830 - nn-real-hvd - INFO -   1394     1 97294.0     0.0   0.002 0.10000\n",
      "2018-10-16 23:59:11,830 - nn-real-hvd - INFO -   1394     1 97294.0     0.0   0.002 0.10000\n",
      "2018-10-16 23:59:11,876 - nn-real-hvd - INFO -   1395     1 98233.8     0.0   0.002 0.10000\n",
      "2018-10-16 23:59:11,876 - nn-real-hvd - INFO -   1395     1 98233.8     0.0   0.002 0.10000\n",
      "2018-10-16 23:59:11,926 - nn-real-hvd - INFO -   1396     1 91912.9     0.0   0.002 0.10000\n",
      "2018-10-16 23:59:11,926 - nn-real-hvd - INFO -   1396     1 91912.9     0.0   0.002 0.10000\n",
      "2018-10-16 23:59:11,975 - nn-real-hvd - INFO -   1397     1 95219.5     0.0   0.002 0.10000\n",
      "2018-10-16 23:59:11,975 - nn-real-hvd - INFO -   1397     1 95219.5     0.0   0.002 0.10000\n"
     ]
    },
    {
     "name": "stdout",
     "output_type": "stream",
     "text": [
      "Time for Getting  0  random elements:  0:00:00.004679\n",
      "Invalid Range: could not broadcast input array from shape (2137,257) into shape (2137,258)\n",
      "Time for Getting  0  random elements:  0:00:00.003492\n",
      "Invalid Range: could not broadcast input array from shape (2170,257) into shape (2170,258)\n",
      "Time for Getting  0  random elements:  0:00:00.004363\n",
      "Invalid Range: could not broadcast input array from shape (2164,257) into shape (2164,258)\n",
      "Time for Getting  0  random elements:  0:00:00.004252\n",
      "Invalid Range: could not broadcast input array from shape (2163,257) into shape (2163,258)\n",
      "Time for Getting  0  random elements:  0:00:00.004229\n"
     ]
    },
    {
     "name": "stderr",
     "output_type": "stream",
     "text": [
      "2018-10-16 23:59:12,024 - nn-real-hvd - INFO -   1398     1 92067.5     0.0   0.002 0.10000\n",
      "2018-10-16 23:59:12,024 - nn-real-hvd - INFO -   1398     1 92067.5     0.0   0.002 0.10000\n",
      "2018-10-16 23:59:12,073 - nn-real-hvd - INFO -   1399     1 94091.8     0.0   0.002 0.10000\n",
      "2018-10-16 23:59:12,073 - nn-real-hvd - INFO -   1399     1 94091.8     0.0   0.002 0.10000\n",
      "2018-10-16 23:59:12,119 - nn-real-hvd - INFO -   1400     1 97953.8     0.0   0.002 0.10000\n",
      "2018-10-16 23:59:12,119 - nn-real-hvd - INFO -   1400     1 97953.8     0.0   0.002 0.10000\n",
      "2018-10-16 23:59:12,169 - nn-real-hvd - INFO -   1401     1 93562.4     0.0   0.002 0.10000\n",
      "2018-10-16 23:59:12,169 - nn-real-hvd - INFO -   1401     1 93562.4     0.0   0.002 0.10000\n",
      "2018-10-16 23:59:12,217 - nn-real-hvd - INFO -   1402     1 95477.1     0.0   0.002 0.10000\n",
      "2018-10-16 23:59:12,217 - nn-real-hvd - INFO -   1402     1 95477.1     0.0   0.002 0.10000\n"
     ]
    },
    {
     "name": "stdout",
     "output_type": "stream",
     "text": [
      "Invalid Range: could not broadcast input array from shape (2127,257) into shape (2127,258)\n",
      "Time for Getting  0  random elements:  0:00:00.003977\n",
      "Invalid Range: could not broadcast input array from shape (2112,257) into shape (2112,258)\n",
      "Time for Getting  0  random elements:  0:00:00.004125\n",
      "Invalid Range: could not broadcast input array from shape (2124,257) into shape (2124,258)\n",
      "Time for Getting  0  random elements:  0:00:00.004127\n",
      "Invalid Range: could not broadcast input array from shape (2122,257) into shape (2122,258)\n",
      "Time for Getting  0  random elements:  0:00:00.004331\n",
      "Invalid Range: could not broadcast input array from shape (2126,257) into shape (2126,258)\n",
      "Time for Getting  0  random elements:  0:00:00.004297\n"
     ]
    },
    {
     "name": "stderr",
     "output_type": "stream",
     "text": [
      "2018-10-16 23:59:12,266 - nn-real-hvd - INFO -   1403     1 93504.0     0.0   0.002 0.10000\n",
      "2018-10-16 23:59:12,266 - nn-real-hvd - INFO -   1403     1 93504.0     0.0   0.002 0.10000\n",
      "2018-10-16 23:59:12,322 - nn-real-hvd - INFO -   1404     1 81834.0     0.1   0.002 0.10000\n",
      "2018-10-16 23:59:12,322 - nn-real-hvd - INFO -   1404     1 81834.0     0.1   0.002 0.10000\n",
      "2018-10-16 23:59:12,369 - nn-real-hvd - INFO -   1405     1 96554.5     0.0   0.002 0.10000\n",
      "2018-10-16 23:59:12,369 - nn-real-hvd - INFO -   1405     1 96554.5     0.0   0.002 0.10000\n",
      "2018-10-16 23:59:12,418 - nn-real-hvd - INFO -   1406     1 94289.7     0.0   0.002 0.10000\n",
      "2018-10-16 23:59:12,418 - nn-real-hvd - INFO -   1406     1 94289.7     0.0   0.002 0.10000\n",
      "2018-10-16 23:59:12,466 - nn-real-hvd - INFO -   1407     1 96488.7     0.0   0.002 0.10000\n",
      "2018-10-16 23:59:12,466 - nn-real-hvd - INFO -   1407     1 96488.7     0.0   0.002 0.10000\n"
     ]
    },
    {
     "name": "stdout",
     "output_type": "stream",
     "text": [
      "Invalid Range: could not broadcast input array from shape (2189,257) into shape (2189,258)\n",
      "Time for Getting  0  random elements:  0:00:00.004484\n",
      "Invalid Range: could not broadcast input array from shape (2035,257) into shape (2035,258)\n",
      "Time for Getting  0  random elements:  0:00:00.004134\n",
      "Invalid Range: could not broadcast input array from shape (2125,257) into shape (2125,258)\n",
      "Time for Getting  0  random elements:  0:00:00.005087\n",
      "Invalid Range: could not broadcast input array from shape (2165,257) into shape (2165,258)\n",
      "Time for Getting  0  random elements:  0:00:00.003971\n",
      "Invalid Range: could not broadcast input array from shape (2186,257) into shape (2186,258)\n"
     ]
    },
    {
     "name": "stderr",
     "output_type": "stream",
     "text": [
      "2018-10-16 23:59:12,517 - nn-real-hvd - INFO -   1408     1 89601.5     0.0   0.002 0.10000\n",
      "2018-10-16 23:59:12,517 - nn-real-hvd - INFO -   1408     1 89601.5     0.0   0.002 0.10000\n",
      "2018-10-16 23:59:12,566 - nn-real-hvd - INFO -   1409     1 92871.9     0.0   0.002 0.10000\n",
      "2018-10-16 23:59:12,566 - nn-real-hvd - INFO -   1409     1 92871.9     0.0   0.002 0.10000\n",
      "2018-10-16 23:59:12,614 - nn-real-hvd - INFO -   1410     1 95930.6     0.0   0.002 0.10000\n",
      "2018-10-16 23:59:12,614 - nn-real-hvd - INFO -   1410     1 95930.6     0.0   0.002 0.10000\n",
      "2018-10-16 23:59:12,662 - nn-real-hvd - INFO -   1411     1 96059.7     0.0   0.002 0.10000\n",
      "2018-10-16 23:59:12,662 - nn-real-hvd - INFO -   1411     1 96059.7     0.0   0.002 0.10000\n"
     ]
    },
    {
     "name": "stdout",
     "output_type": "stream",
     "text": [
      "Time for Getting  0  random elements:  0:00:00.003999\n",
      "Invalid Range: could not broadcast input array from shape (2104,257) into shape (2104,258)\n",
      "Time for Getting  0  random elements:  0:00:00.004044\n",
      "Invalid Range: could not broadcast input array from shape (2124,257) into shape (2124,258)\n",
      "Time for Getting  0  random elements:  0:00:00.004292\n",
      "Invalid Range: could not broadcast input array from shape (2115,257) into shape (2115,258)\n",
      "Time for Getting  0  random elements:  0:00:00.004467\n",
      "Invalid Range: could not broadcast input array from shape (2174,257) into shape (2174,258)\n",
      "Time for Getting  0  random elements:  0:00:00.004101\n"
     ]
    },
    {
     "name": "stderr",
     "output_type": "stream",
     "text": [
      "2018-10-16 23:59:12,711 - nn-real-hvd - INFO -   1412     1 93834.4     0.0   0.002 0.10000\n",
      "2018-10-16 23:59:12,711 - nn-real-hvd - INFO -   1412     1 93834.4     0.0   0.002 0.10000\n",
      "2018-10-16 23:59:12,761 - nn-real-hvd - INFO -   1413     1 91110.2     0.0   0.002 0.10000\n",
      "2018-10-16 23:59:12,761 - nn-real-hvd - INFO -   1413     1 91110.2     0.0   0.002 0.10000\n",
      "2018-10-16 23:59:12,809 - nn-real-hvd - INFO -   1414     1 95916.3     0.0   0.002 0.10000\n",
      "2018-10-16 23:59:12,809 - nn-real-hvd - INFO -   1414     1 95916.3     0.0   0.002 0.10000\n",
      "2018-10-16 23:59:12,855 - nn-real-hvd - INFO -   1415     1 98657.2     0.0   0.002 0.10000\n",
      "2018-10-16 23:59:12,855 - nn-real-hvd - INFO -   1415     1 98657.2     0.0   0.002 0.10000\n",
      "2018-10-16 23:59:12,904 - nn-real-hvd - INFO -   1416     1 94341.5     0.0   0.002 0.10000\n",
      "2018-10-16 23:59:12,904 - nn-real-hvd - INFO -   1416     1 94341.5     0.0   0.002 0.10000\n"
     ]
    },
    {
     "name": "stdout",
     "output_type": "stream",
     "text": [
      "Invalid Range: could not broadcast input array from shape (2153,257) into shape (2153,258)\n",
      "Time for Getting  0  random elements:  0:00:00.004147\n",
      "Invalid Range: could not broadcast input array from shape (2053,257) into shape (2053,258)\n",
      "Time for Getting  0  random elements:  0:00:00.004409\n",
      "Invalid Range: could not broadcast input array from shape (2151,257) into shape (2151,258)\n",
      "Time for Getting  0  random elements:  0:00:00.004012\n",
      "Invalid Range: could not broadcast input array from shape (2119,257) into shape (2119,258)\n",
      "Time for Getting  0  random elements:  0:00:00.004044\n",
      "Invalid Range: could not broadcast input array from shape (2127,257) into shape (2127,258)\n",
      "Time for Getting  0  random elements:  0:00:00.004086\n"
     ]
    },
    {
     "name": "stderr",
     "output_type": "stream",
     "text": [
      "2018-10-16 23:59:12,952 - nn-real-hvd - INFO -   1417     1 96280.0     0.0   0.002 0.10000\n",
      "2018-10-16 23:59:12,952 - nn-real-hvd - INFO -   1417     1 96280.0     0.0   0.002 0.10000\n",
      "2018-10-16 23:59:13,018 - nn-real-hvd - INFO -   1418     1 68329.5     0.1   0.002 0.10000\n",
      "2018-10-16 23:59:13,018 - nn-real-hvd - INFO -   1418     1 68329.5     0.1   0.002 0.10000\n",
      "2018-10-16 23:59:13,067 - nn-real-hvd - INFO -   1419     1 93607.3     0.0   0.002 0.10000\n",
      "2018-10-16 23:59:13,067 - nn-real-hvd - INFO -   1419     1 93607.3     0.0   0.002 0.10000\n",
      "2018-10-16 23:59:13,114 - nn-real-hvd - INFO -   1420     1 98018.5     0.0   0.002 0.10000\n",
      "2018-10-16 23:59:13,114 - nn-real-hvd - INFO -   1420     1 98018.5     0.0   0.002 0.10000\n",
      "2018-10-16 23:59:13,163 - nn-real-hvd - INFO -   1421     1 93103.4     0.0   0.002 0.10000\n"
     ]
    },
    {
     "name": "stdout",
     "output_type": "stream",
     "text": [
      "Invalid Range: could not broadcast input array from shape (2161,257) into shape (2161,258)\n",
      "Time for Getting  0  random elements:  0:00:00.003959\n",
      "Invalid Range: could not broadcast input array from shape (2147,257) into shape (2147,258)\n",
      "Time for Getting  0  random elements:  0:00:00.004137\n",
      "Invalid Range: could not broadcast input array from shape (2183,257) into shape (2183,258)\n",
      "Time for Getting  0  random elements:  0:00:00.004107\n",
      "Invalid Range: could not broadcast input array from shape (2172,257) into shape (2172,258)\n",
      "Time for Getting  0  random elements:  0:00:00.004335\n"
     ]
    },
    {
     "name": "stderr",
     "output_type": "stream",
     "text": [
      "2018-10-16 23:59:13,163 - nn-real-hvd - INFO -   1421     1 93103.4     0.0   0.002 0.10000\n",
      "2018-10-16 23:59:13,212 - nn-real-hvd - INFO -   1422     1 93780.4     0.0   0.002 0.10000\n",
      "2018-10-16 23:59:13,212 - nn-real-hvd - INFO -   1422     1 93780.4     0.0   0.002 0.10000\n",
      "2018-10-16 23:59:13,264 - nn-real-hvd - INFO -   1423     1 87584.6     0.1   0.002 0.10000\n",
      "2018-10-16 23:59:13,264 - nn-real-hvd - INFO -   1423     1 87584.6     0.1   0.002 0.10000\n",
      "2018-10-16 23:59:13,313 - nn-real-hvd - INFO -   1424     1 93082.9     0.0   0.002 0.10000\n",
      "2018-10-16 23:59:13,313 - nn-real-hvd - INFO -   1424     1 93082.9     0.0   0.002 0.10000\n",
      "2018-10-16 23:59:13,363 - nn-real-hvd - INFO -   1425     1 91653.8     0.0   0.002 0.10000\n",
      "2018-10-16 23:59:13,363 - nn-real-hvd - INFO -   1425     1 91653.8     0.0   0.002 0.10000\n"
     ]
    },
    {
     "name": "stdout",
     "output_type": "stream",
     "text": [
      "Invalid Range: could not broadcast input array from shape (2179,257) into shape (2179,258)\n",
      "Time for Getting  0  random elements:  0:00:00.004069\n",
      "Invalid Range: could not broadcast input array from shape (2107,257) into shape (2107,258)\n",
      "Time for Getting  0  random elements:  0:00:00.004001\n",
      "Invalid Range: could not broadcast input array from shape (2091,257) into shape (2091,258)\n",
      "Time for Getting  0  random elements:  0:00:00.003923\n",
      "Invalid Range: could not broadcast input array from shape (2091,257) into shape (2091,258)\n",
      "Time for Getting  0  random elements:  0:00:00.003619\n",
      "Invalid Range: could not broadcast input array from shape (2147,257) into shape (2147,258)\n"
     ]
    },
    {
     "name": "stderr",
     "output_type": "stream",
     "text": [
      "2018-10-16 23:59:13,413 - nn-real-hvd - INFO -   1426     1 91941.6     0.0   0.002 0.10000\n",
      "2018-10-16 23:59:13,413 - nn-real-hvd - INFO -   1426     1 91941.6     0.0   0.002 0.10000\n",
      "2018-10-16 23:59:13,461 - nn-real-hvd - INFO -   1427     1 94824.9     0.0   0.002 0.10000\n",
      "2018-10-16 23:59:13,461 - nn-real-hvd - INFO -   1427     1 94824.9     0.0   0.002 0.10000\n",
      "2018-10-16 23:59:13,510 - nn-real-hvd - INFO -   1428     1 97801.5     0.0   0.002 0.10000\n",
      "2018-10-16 23:59:13,510 - nn-real-hvd - INFO -   1428     1 97801.5     0.0   0.002 0.10000\n",
      "2018-10-16 23:59:13,562 - nn-real-hvd - INFO -   1429     1 88966.7     0.0   0.002 0.10000\n",
      "2018-10-16 23:59:13,562 - nn-real-hvd - INFO -   1429     1 88966.7     0.0   0.002 0.10000\n"
     ]
    },
    {
     "name": "stdout",
     "output_type": "stream",
     "text": [
      "Time for Getting  0  random elements:  0:00:00.004018\n",
      "Invalid Range: could not broadcast input array from shape (2136,257) into shape (2136,258)\n",
      "Time for Getting  0  random elements:  0:00:00.004055\n",
      "Invalid Range: could not broadcast input array from shape (2160,257) into shape (2160,258)\n",
      "Time for Getting  0  random elements:  0:00:00.003841\n",
      "Invalid Range: could not broadcast input array from shape (2136,257) into shape (2136,258)\n",
      "Time for Getting  0  random elements:  0:00:00.004147\n",
      "Invalid Range: could not broadcast input array from shape (2090,257) into shape (2090,258)\n",
      "Time for Getting  0  random elements:  0:00:00.004275\n"
     ]
    },
    {
     "name": "stderr",
     "output_type": "stream",
     "text": [
      "2018-10-16 23:59:13,609 - nn-real-hvd - INFO -   1430     1 98738.1     0.0   0.002 0.10000\n",
      "2018-10-16 23:59:13,609 - nn-real-hvd - INFO -   1430     1 98738.1     0.0   0.002 0.10000\n",
      "2018-10-16 23:59:13,658 - nn-real-hvd - INFO -   1431     1 93447.0     0.0   0.002 0.10000\n",
      "2018-10-16 23:59:13,658 - nn-real-hvd - INFO -   1431     1 93447.0     0.0   0.002 0.10000\n",
      "2018-10-16 23:59:13,706 - nn-real-hvd - INFO -   1432     1 94996.2     0.0   0.002 0.10000\n",
      "2018-10-16 23:59:13,706 - nn-real-hvd - INFO -   1432     1 94996.2     0.0   0.002 0.10000\n",
      "2018-10-16 23:59:13,754 - nn-real-hvd - INFO -   1433     1 94581.4     0.0   0.002 0.10000\n",
      "2018-10-16 23:59:13,754 - nn-real-hvd - INFO -   1433     1 94581.4     0.0   0.002 0.10000\n",
      "2018-10-16 23:59:13,806 - nn-real-hvd - INFO -   1434     1 88851.7     0.0   0.002 0.10000\n",
      "2018-10-16 23:59:13,806 - nn-real-hvd - INFO -   1434     1 88851.7     0.0   0.002 0.10000\n"
     ]
    },
    {
     "name": "stdout",
     "output_type": "stream",
     "text": [
      "Invalid Range: could not broadcast input array from shape (2136,257) into shape (2136,258)\n",
      "Time for Getting  0  random elements:  0:00:00.004214\n",
      "Invalid Range: could not broadcast input array from shape (2124,257) into shape (2124,258)\n",
      "Time for Getting  0  random elements:  0:00:00.004488\n",
      "Invalid Range: could not broadcast input array from shape (2094,257) into shape (2094,258)\n",
      "Time for Getting  0  random elements:  0:00:00.003731\n",
      "Invalid Range: could not broadcast input array from shape (2164,257) into shape (2164,258)\n",
      "Time for Getting  0  random elements:  0:00:00.004223\n",
      "Invalid Range: could not broadcast input array from shape (2122,257) into shape (2122,258)\n"
     ]
    },
    {
     "name": "stderr",
     "output_type": "stream",
     "text": [
      "2018-10-16 23:59:13,856 - nn-real-hvd - INFO -   1435     1 91065.1     0.0   0.002 0.10000\n",
      "2018-10-16 23:59:13,856 - nn-real-hvd - INFO -   1435     1 91065.1     0.0   0.002 0.10000\n",
      "2018-10-16 23:59:13,905 - nn-real-hvd - INFO -   1436     1 93860.5     0.0   0.002 0.10000\n",
      "2018-10-16 23:59:13,905 - nn-real-hvd - INFO -   1436     1 93860.5     0.0   0.002 0.10000\n",
      "2018-10-16 23:59:13,952 - nn-real-hvd - INFO -   1437     1 96639.4     0.0   0.002 0.10000\n",
      "2018-10-16 23:59:13,952 - nn-real-hvd - INFO -   1437     1 96639.4     0.0   0.002 0.10000\n",
      "2018-10-16 23:59:14,000 - nn-real-hvd - INFO -   1438     1 96022.9     0.0   0.002 0.10000\n",
      "2018-10-16 23:59:14,000 - nn-real-hvd - INFO -   1438     1 96022.9     0.0   0.002 0.10000\n"
     ]
    },
    {
     "name": "stdout",
     "output_type": "stream",
     "text": [
      "Time for Getting  0  random elements:  0:00:00.004008\n",
      "Invalid Range: could not broadcast input array from shape (2179,257) into shape (2179,258)\n",
      "Time for Getting  0  random elements:  0:00:00.004068\n",
      "Invalid Range: could not broadcast input array from shape (2128,257) into shape (2128,258)\n",
      "Time for Getting  0  random elements:  0:00:00.004226\n",
      "Invalid Range: could not broadcast input array from shape (2172,257) into shape (2172,258)\n",
      "Time for Getting  0  random elements:  0:00:00.003828\n",
      "Invalid Range: could not broadcast input array from shape (2195,257) into shape (2195,258)\n",
      "Time for Getting  0  random elements:  0:00:00.003893\n"
     ]
    },
    {
     "name": "stderr",
     "output_type": "stream",
     "text": [
      "2018-10-16 23:59:14,048 - nn-real-hvd - INFO -   1439     1 97059.9     0.0   0.002 0.10000\n",
      "2018-10-16 23:59:14,048 - nn-real-hvd - INFO -   1439     1 97059.9     0.0   0.002 0.10000\n",
      "2018-10-16 23:59:14,097 - nn-real-hvd - INFO -   1440     1 92966.8     0.0   0.002 0.10000\n",
      "2018-10-16 23:59:14,097 - nn-real-hvd - INFO -   1440     1 92966.8     0.0   0.002 0.10000\n",
      "2018-10-16 23:59:14,145 - nn-real-hvd - INFO -   1441     1 94913.2     0.0   0.002 0.10000\n",
      "2018-10-16 23:59:14,145 - nn-real-hvd - INFO -   1441     1 94913.2     0.0   0.002 0.10000\n",
      "2018-10-16 23:59:14,190 - nn-real-hvd - INFO -   1442     1 100811.5     0.0   0.002 0.10000\n",
      "2018-10-16 23:59:14,190 - nn-real-hvd - INFO -   1442     1 100811.5     0.0   0.002 0.10000\n",
      "2018-10-16 23:59:14,237 - nn-real-hvd - INFO -   1443     1 98246.8     0.0   0.002 0.10000\n",
      "2018-10-16 23:59:14,237 - nn-real-hvd - INFO -   1443     1 98246.8     0.0   0.002 0.10000\n"
     ]
    },
    {
     "name": "stdout",
     "output_type": "stream",
     "text": [
      "Invalid Range: could not broadcast input array from shape (2121,257) into shape (2121,258)\n",
      "Time for Getting  0  random elements:  0:00:00.003686\n",
      "Invalid Range: could not broadcast input array from shape (2182,257) into shape (2182,258)\n",
      "Time for Getting  0  random elements:  0:00:00.003799\n",
      "Invalid Range: could not broadcast input array from shape (2141,257) into shape (2141,258)\n",
      "Time for Getting  0  random elements:  0:00:00.004115\n",
      "Invalid Range: could not broadcast input array from shape (2089,257) into shape (2089,258)\n",
      "Time for Getting  0  random elements:  0:00:00.004098\n",
      "Invalid Range: could not broadcast input array from shape (2123,257) into shape (2123,258)\n",
      "Time for Getting  0  random elements:  0:00:00.004452\n"
     ]
    },
    {
     "name": "stderr",
     "output_type": "stream",
     "text": [
      "2018-10-16 23:59:14,287 - nn-real-hvd - INFO -   1444     1 91242.4     0.0   0.002 0.10000\n",
      "2018-10-16 23:59:14,287 - nn-real-hvd - INFO -   1444     1 91242.4     0.0   0.002 0.10000\n",
      "2018-10-16 23:59:14,335 - nn-real-hvd - INFO -   1445     1 95251.2     0.0   0.002 0.10000\n",
      "2018-10-16 23:59:14,335 - nn-real-hvd - INFO -   1445     1 95251.2     0.0   0.002 0.10000\n",
      "2018-10-16 23:59:14,383 - nn-real-hvd - INFO -   1446     1 94359.7     0.0   0.002 0.10000\n",
      "2018-10-16 23:59:14,383 - nn-real-hvd - INFO -   1446     1 94359.7     0.0   0.002 0.10000\n",
      "2018-10-16 23:59:14,433 - nn-real-hvd - INFO -   1447     1 93093.6     0.0   0.002 0.10000\n",
      "2018-10-16 23:59:14,433 - nn-real-hvd - INFO -   1447     1 93093.6     0.0   0.002 0.10000\n",
      "2018-10-16 23:59:14,482 - nn-real-hvd - INFO -   1448     1 92552.8     0.0   0.002 0.10000\n",
      "2018-10-16 23:59:14,482 - nn-real-hvd - INFO -   1448     1 92552.8     0.0   0.002 0.10000\n"
     ]
    },
    {
     "name": "stdout",
     "output_type": "stream",
     "text": [
      "Invalid Range: could not broadcast input array from shape (2140,257) into shape (2140,258)\n",
      "Time for Getting  0  random elements:  0:00:00.004093\n",
      "Invalid Range: could not broadcast input array from shape (2111,257) into shape (2111,258)\n",
      "Time for Getting  0  random elements:  0:00:00.004173\n",
      "Invalid Range: could not broadcast input array from shape (2080,257) into shape (2080,258)\n",
      "Time for Getting  0  random elements:  0:00:00.003928\n",
      "Invalid Range: could not broadcast input array from shape (2207,257) into shape (2207,258)\n",
      "Time for Getting  0  random elements:  0:00:00.004011\n",
      "Invalid Range: could not broadcast input array from shape (2148,257) into shape (2148,258)\n",
      "Time for Getting  0  random elements:  0:00:00.003884\n"
     ]
    },
    {
     "name": "stderr",
     "output_type": "stream",
     "text": [
      "2018-10-16 23:59:14,532 - nn-real-hvd - INFO -   1449     1 92087.1     0.0   0.002 0.10000\n",
      "2018-10-16 23:59:14,532 - nn-real-hvd - INFO -   1449     1 92087.1     0.0   0.002 0.10000\n",
      "2018-10-16 23:59:14,581 - nn-real-hvd - INFO -   1450     1 93710.3     0.0   0.002 0.10000\n",
      "2018-10-16 23:59:14,581 - nn-real-hvd - INFO -   1450     1 93710.3     0.0   0.002 0.10000\n",
      "2018-10-16 23:59:14,630 - nn-real-hvd - INFO -   1451     1 93338.9     0.0   0.002 0.10000\n",
      "2018-10-16 23:59:14,630 - nn-real-hvd - INFO -   1451     1 93338.9     0.0   0.002 0.10000\n",
      "2018-10-16 23:59:14,679 - nn-real-hvd - INFO -   1452     1 94112.3     0.0   0.002 0.10000\n",
      "2018-10-16 23:59:14,679 - nn-real-hvd - INFO -   1452     1 94112.3     0.0   0.002 0.10000\n",
      "2018-10-16 23:59:14,730 - nn-real-hvd - INFO -   1453     1 89771.4     0.0   0.002 0.10000\n",
      "2018-10-16 23:59:14,730 - nn-real-hvd - INFO -   1453     1 89771.4     0.0   0.002 0.10000\n"
     ]
    },
    {
     "name": "stdout",
     "output_type": "stream",
     "text": [
      "Invalid Range: could not broadcast input array from shape (2141,257) into shape (2141,258)\n",
      "Time for Getting  0  random elements:  0:00:00.004164\n",
      "Invalid Range: could not broadcast input array from shape (2178,257) into shape (2178,258)\n",
      "Time for Getting  0  random elements:  0:00:00.004396\n",
      "Invalid Range: could not broadcast input array from shape (2119,257) into shape (2119,258)\n",
      "Time for Getting  0  random elements:  0:00:00.004573\n",
      "Invalid Range: could not broadcast input array from shape (2139,257) into shape (2139,258)\n",
      "Time for Getting  0  random elements:  0:00:00.004128\n",
      "Invalid Range: could not broadcast input array from shape (2083,257) into shape (2083,258)\n",
      "Time for Getting  0 "
     ]
    },
    {
     "name": "stderr",
     "output_type": "stream",
     "text": [
      "2018-10-16 23:59:14,780 - nn-real-hvd - INFO -   1454     1 91394.2     0.0   0.002 0.10000\n",
      "2018-10-16 23:59:14,780 - nn-real-hvd - INFO -   1454     1 91394.2     0.0   0.002 0.10000\n",
      "2018-10-16 23:59:14,828 - nn-real-hvd - INFO -   1455     1 95483.0     0.0   0.002 0.10000\n",
      "2018-10-16 23:59:14,828 - nn-real-hvd - INFO -   1455     1 95483.0     0.0   0.002 0.10000\n",
      "2018-10-16 23:59:14,877 - nn-real-hvd - INFO -   1456     1 92637.8     0.0   0.002 0.10000\n",
      "2018-10-16 23:59:14,877 - nn-real-hvd - INFO -   1456     1 92637.8     0.0   0.002 0.10000\n",
      "2018-10-16 23:59:14,927 - nn-real-hvd - INFO -   1457     1 91365.9     0.0   0.002 0.10000\n",
      "2018-10-16 23:59:14,927 - nn-real-hvd - INFO -   1457     1 91365.9     0.0   0.002 0.10000\n"
     ]
    },
    {
     "name": "stdout",
     "output_type": "stream",
     "text": [
      " random elements:  0:00:00.004045\n",
      "Invalid Range: could not broadcast input array from shape (2099,257) into shape (2099,258)\n",
      "Time for Getting  0  random elements:  0:00:00.004469\n",
      "Invalid Range: could not broadcast input array from shape (2184,257) into shape (2184,258)\n",
      "Time for Getting  0  random elements:  0:00:00.004212\n",
      "Invalid Range: could not broadcast input array from shape (2115,257) into shape (2115,258)\n",
      "Time for Getting  0  random elements:  0:00:00.004223\n",
      "Invalid Range: could not broadcast input array from shape (2071,257) into shape (2071,258)\n",
      "Time for Getting  0  random elements:  0:00:00.003936\n"
     ]
    },
    {
     "name": "stderr",
     "output_type": "stream",
     "text": [
      "2018-10-16 23:59:14,974 - nn-real-hvd - INFO -   1458     1 96586.6     0.0   0.002 0.10000\n",
      "2018-10-16 23:59:14,974 - nn-real-hvd - INFO -   1458     1 96586.6     0.0   0.002 0.10000\n",
      "2018-10-16 23:59:15,022 - nn-real-hvd - INFO -   1459     1 96190.2     0.0   0.002 0.10000\n",
      "2018-10-16 23:59:15,022 - nn-real-hvd - INFO -   1459     1 96190.2     0.0   0.002 0.10000\n",
      "2018-10-16 23:59:15,070 - nn-real-hvd - INFO -   1460     1 96571.5     0.0   0.002 0.10000\n",
      "2018-10-16 23:59:15,070 - nn-real-hvd - INFO -   1460     1 96571.5     0.0   0.002 0.10000\n",
      "2018-10-16 23:59:15,119 - nn-real-hvd - INFO -   1461     1 92740.1     0.0   0.002 0.10000\n",
      "2018-10-16 23:59:15,119 - nn-real-hvd - INFO -   1461     1 92740.1     0.0   0.002 0.10000\n",
      "2018-10-16 23:59:15,168 - nn-real-hvd - INFO -   1462     1 93838.7     0.0   0.002 0.10000\n",
      "2018-10-16 23:59:15,168 - nn-real-hvd - INFO -   1462     1 93838.7     0.0   0.002 0.10000\n"
     ]
    },
    {
     "name": "stdout",
     "output_type": "stream",
     "text": [
      "Invalid Range: could not broadcast input array from shape (2109,257) into shape (2109,258)\n",
      "Time for Getting  0  random elements:  0:00:00.003813\n",
      "Invalid Range: could not broadcast input array from shape (2097,257) into shape (2097,258)\n",
      "Time for Getting  0  random elements:  0:00:00.003880\n",
      "Invalid Range: could not broadcast input array from shape (2119,257) into shape (2119,258)\n",
      "Time for Getting  0  random elements:  0:00:00.004325\n",
      "Invalid Range: could not broadcast input array from shape (2167,257) into shape (2167,258)\n",
      "Time for Getting  0  random elements:  0:00:00.003923\n",
      "Invalid Range: could not broadcast input array from shape (2192,257) into shape (2192,258)\n",
      "Time for Getting  0  random elements:  0:00:00.003836\n"
     ]
    },
    {
     "name": "stderr",
     "output_type": "stream",
     "text": [
      "2018-10-16 23:59:15,216 - nn-real-hvd - INFO -   1463     1 95310.4     0.0   0.002 0.10000\n",
      "2018-10-16 23:59:15,216 - nn-real-hvd - INFO -   1463     1 95310.4     0.0   0.002 0.10000\n",
      "2018-10-16 23:59:15,265 - nn-real-hvd - INFO -   1464     1 93799.8     0.0   0.002 0.10000\n",
      "2018-10-16 23:59:15,265 - nn-real-hvd - INFO -   1464     1 93799.8     0.0   0.002 0.10000\n",
      "2018-10-16 23:59:15,313 - nn-real-hvd - INFO -   1465     1 96264.5     0.0   0.002 0.10000\n",
      "2018-10-16 23:59:15,313 - nn-real-hvd - INFO -   1465     1 96264.5     0.0   0.002 0.10000\n",
      "2018-10-16 23:59:15,360 - nn-real-hvd - INFO -   1466     1 97389.9     0.0   0.002 0.10000\n",
      "2018-10-16 23:59:15,360 - nn-real-hvd - INFO -   1466     1 97389.9     0.0   0.002 0.10000\n",
      "2018-10-16 23:59:15,406 - nn-real-hvd - INFO -   1467     1 99232.2     0.0   0.002 0.10000\n",
      "2018-10-16 23:59:15,406 - nn-real-hvd - INFO -   1467     1 99232.2     0.0   0.002 0.10000\n"
     ]
    },
    {
     "name": "stdout",
     "output_type": "stream",
     "text": [
      "Invalid Range: could not broadcast input array from shape (2158,257) into shape (2158,258)\n",
      "Time for Getting  0  random elements:  0:00:00.003975\n",
      "Invalid Range: could not broadcast input array from shape (2189,257) into shape (2189,258)\n",
      "Time for Getting  0  random elements:  0:00:00.003948\n",
      "Invalid Range: could not broadcast input array from shape (2105,257) into shape (2105,258)\n",
      "Time for Getting  0  random elements:  0:00:00.004148\n",
      "Invalid Range: could not broadcast input array from shape (2175,257) into shape (2175,258)\n",
      "Time for Getting  0  random elements:  0:00:00.003839\n",
      "Invalid Range: could not broadcast input array from shape (2120,257) into shape (2120,258)\n",
      "Time for Getting  0  random elements:  0:00:00.003637\n"
     ]
    },
    {
     "name": "stderr",
     "output_type": "stream",
     "text": [
      "2018-10-16 23:59:15,453 - nn-real-hvd - INFO -   1468     1 96615.8     0.0   0.002 0.10000\n",
      "2018-10-16 23:59:15,453 - nn-real-hvd - INFO -   1468     1 96615.8     0.0   0.002 0.10000\n",
      "2018-10-16 23:59:15,503 - nn-real-hvd - INFO -   1469     1 90283.7     0.0   0.002 0.10000\n",
      "2018-10-16 23:59:15,503 - nn-real-hvd - INFO -   1469     1 90283.7     0.0   0.002 0.10000\n",
      "2018-10-16 23:59:15,551 - nn-real-hvd - INFO -   1470     1 96531.4     0.0   0.002 0.10000\n",
      "2018-10-16 23:59:15,551 - nn-real-hvd - INFO -   1470     1 96531.4     0.0   0.002 0.10000\n",
      "2018-10-16 23:59:15,598 - nn-real-hvd - INFO -   1471     1 97855.2     0.0   0.002 0.10000\n",
      "2018-10-16 23:59:15,598 - nn-real-hvd - INFO -   1471     1 97855.2     0.0   0.002 0.10000\n",
      "2018-10-16 23:59:15,647 - nn-real-hvd - INFO -   1472     1 93643.2     0.0   0.002 0.10000\n",
      "2018-10-16 23:59:15,647 - nn-real-hvd - INFO -   1472     1 93643.2     0.0   0.002 0.10000\n"
     ]
    },
    {
     "name": "stdout",
     "output_type": "stream",
     "text": [
      "Invalid Range: could not broadcast input array from shape (2080,257) into shape (2080,258)\n",
      "Time for Getting  0  random elements:  0:00:00.004348\n",
      "Invalid Range: could not broadcast input array from shape (2140,257) into shape (2140,258)\n",
      "Time for Getting  0  random elements:  0:00:00.004372\n",
      "Invalid Range: could not broadcast input array from shape (2144,257) into shape (2144,258)\n",
      "Time for Getting  0  random elements:  0:00:00.004571\n",
      "Invalid Range: could not broadcast input array from shape (2162,257) into shape (2162,258)\n",
      "Time for Getting  0  random elements:  0:00:00.004529\n",
      "Invalid Range: could not broadcast input array from shape (2137,257) into shape (2137,258)\n",
      "Time for Getting  0  random elements:  0:00:00.003894\n"
     ]
    },
    {
     "name": "stderr",
     "output_type": "stream",
     "text": [
      "2018-10-16 23:59:15,695 - nn-real-hvd - INFO -   1473     1 96060.7     0.0   0.002 0.10000\n",
      "2018-10-16 23:59:15,695 - nn-real-hvd - INFO -   1473     1 96060.7     0.0   0.002 0.10000\n",
      "2018-10-16 23:59:15,742 - nn-real-hvd - INFO -   1474     1 96602.7     0.0   0.002 0.10000\n",
      "2018-10-16 23:59:15,742 - nn-real-hvd - INFO -   1474     1 96602.7     0.0   0.002 0.10000\n",
      "2018-10-16 23:59:15,791 - nn-real-hvd - INFO -   1475     1 92836.6     0.0   0.002 0.10000\n",
      "2018-10-16 23:59:15,791 - nn-real-hvd - INFO -   1475     1 92836.6     0.0   0.002 0.10000\n",
      "2018-10-16 23:59:15,842 - nn-real-hvd - INFO -   1476     1 91454.1     0.0   0.002 0.10000\n",
      "2018-10-16 23:59:15,842 - nn-real-hvd - INFO -   1476     1 91454.1     0.0   0.002 0.10000\n",
      "2018-10-16 23:59:15,891 - nn-real-hvd - INFO -   1477     1 93311.7     0.0   0.002 0.10000\n",
      "2018-10-16 23:59:15,891 - nn-real-hvd - INFO -   1477     1 93311.7     0.0   0.002 0.10000\n"
     ]
    },
    {
     "name": "stdout",
     "output_type": "stream",
     "text": [
      "Invalid Range: could not broadcast input array from shape (2117,257) into shape (2117,258)\n",
      "Time for Getting  0  random elements:  0:00:00.004134\n",
      "Invalid Range: could not broadcast input array from shape (2085,257) into shape (2085,258)\n",
      "Time for Getting  0  random elements:  0:00:00.004297\n",
      "Invalid Range: could not broadcast input array from shape (2105,257) into shape (2105,258)\n",
      "Time for Getting  0  random elements:  0:00:00.004186\n",
      "Invalid Range: could not broadcast input array from shape (2103,257) into shape (2103,258)\n",
      "Time for Getting  0  random elements:  0:00:00.004137\n",
      "Invalid Range: could not broadcast input array from shape (2205,257) into shape (2205,258)\n"
     ]
    },
    {
     "name": "stderr",
     "output_type": "stream",
     "text": [
      "2018-10-16 23:59:15,942 - nn-real-hvd - INFO -   1478     1 89866.6     0.0   0.002 0.10000\n",
      "2018-10-16 23:59:15,942 - nn-real-hvd - INFO -   1478     1 89866.6     0.0   0.002 0.10000\n",
      "2018-10-16 23:59:15,990 - nn-real-hvd - INFO -   1479     1 94544.7     0.0   0.002 0.10000\n",
      "2018-10-16 23:59:15,990 - nn-real-hvd - INFO -   1479     1 94544.7     0.0   0.002 0.10000\n",
      "2018-10-16 23:59:16,039 - nn-real-hvd - INFO -   1480     1 93822.6     0.0   0.002 0.10000\n",
      "2018-10-16 23:59:16,039 - nn-real-hvd - INFO -   1480     1 93822.6     0.0   0.002 0.10000\n",
      "2018-10-16 23:59:16,090 - nn-real-hvd - INFO -   1481     1 89651.8     0.0   0.002 0.10000\n",
      "2018-10-16 23:59:16,090 - nn-real-hvd - INFO -   1481     1 89651.8     0.0   0.002 0.10000\n"
     ]
    },
    {
     "name": "stdout",
     "output_type": "stream",
     "text": [
      "Time for Getting  0  random elements:  0:00:00.004284\n",
      "Invalid Range: could not broadcast input array from shape (2111,257) into shape (2111,258)\n",
      "Time for Getting  0  random elements:  0:00:00.003791\n",
      "Invalid Range: could not broadcast input array from shape (2104,257) into shape (2104,258)\n",
      "Time for Getting  0  random elements:  0:00:00.004204\n",
      "Invalid Range: could not broadcast input array from shape (2155,257) into shape (2155,258)\n",
      "Time for Getting  0  random elements:  0:00:00.004534\n",
      "Invalid Range: could not broadcast input array from shape (2189,257) into shape (2189,258)\n",
      "Time for Getting  0  random elements:  0:00:00.003981\n"
     ]
    },
    {
     "name": "stderr",
     "output_type": "stream",
     "text": [
      "2018-10-16 23:59:16,139 - nn-real-hvd - INFO -   1482     1 92487.3     0.0   0.002 0.10000\n",
      "2018-10-16 23:59:16,139 - nn-real-hvd - INFO -   1482     1 92487.3     0.0   0.002 0.10000\n",
      "2018-10-16 23:59:16,187 - nn-real-hvd - INFO -   1483     1 95056.6     0.0   0.002 0.10000\n",
      "2018-10-16 23:59:16,187 - nn-real-hvd - INFO -   1483     1 95056.6     0.0   0.002 0.10000\n",
      "2018-10-16 23:59:16,237 - nn-real-hvd - INFO -   1484     1 93536.5     0.0   0.002 0.10000\n",
      "2018-10-16 23:59:16,237 - nn-real-hvd - INFO -   1484     1 93536.5     0.0   0.002 0.10000\n",
      "2018-10-16 23:59:16,284 - nn-real-hvd - INFO -   1485     1 97517.9     0.0   0.002 0.10000\n",
      "2018-10-16 23:59:16,284 - nn-real-hvd - INFO -   1485     1 97517.9     0.0   0.002 0.10000\n",
      "2018-10-16 23:59:16,332 - nn-real-hvd - INFO -   1486     1 95139.9     0.0   0.002 0.10000\n",
      "2018-10-16 23:59:16,332 - nn-real-hvd - INFO -   1486     1 95139.9     0.0   0.002 0.10000\n"
     ]
    },
    {
     "name": "stdout",
     "output_type": "stream",
     "text": [
      "Invalid Range: could not broadcast input array from shape (2063,257) into shape (2063,258)\n",
      "Time for Getting  0  random elements:  0:00:00.003879\n",
      "Invalid Range: could not broadcast input array from shape (2079,257) into shape (2079,258)\n",
      "Time for Getting  0  random elements:  0:00:00.003906\n",
      "Invalid Range: could not broadcast input array from shape (2142,257) into shape (2142,258)\n",
      "Time for Getting  0  random elements:  0:00:00.004634\n",
      "Invalid Range: could not broadcast input array from shape (2123,257) into shape (2123,258)\n",
      "Time for Getting  0  random elements:  0:00:00.004443\n",
      "Invalid Range: could not broadcast input array from shape (2141,257) into shape (2141,258)\n",
      "Time for Getting  0  random elements:  0:00:00.004270\n"
     ]
    },
    {
     "name": "stderr",
     "output_type": "stream",
     "text": [
      "2018-10-16 23:59:16,379 - nn-real-hvd - INFO -   1487     1 98067.7     0.0   0.002 0.10000\n",
      "2018-10-16 23:59:16,379 - nn-real-hvd - INFO -   1487     1 98067.7     0.0   0.002 0.10000\n",
      "2018-10-16 23:59:16,428 - nn-real-hvd - INFO -   1488     1 93948.0     0.0   0.002 0.10000\n",
      "2018-10-16 23:59:16,428 - nn-real-hvd - INFO -   1488     1 93948.0     0.0   0.002 0.10000\n",
      "2018-10-16 23:59:16,475 - nn-real-hvd - INFO -   1489     1 97086.8     0.0   0.002 0.10000\n",
      "2018-10-16 23:59:16,475 - nn-real-hvd - INFO -   1489     1 97086.8     0.0   0.002 0.10000\n",
      "2018-10-16 23:59:16,522 - nn-real-hvd - INFO -   1490     1 96086.6     0.0   0.002 0.10000\n",
      "2018-10-16 23:59:16,522 - nn-real-hvd - INFO -   1490     1 96086.6     0.0   0.002 0.10000\n",
      "2018-10-16 23:59:16,571 - nn-real-hvd - INFO -   1491     1 94335.7     0.0   0.002 0.10000\n",
      "2018-10-16 23:59:16,571 - nn-real-hvd - INFO -   1491     1 94335.7     0.0   0.002 0.10000\n"
     ]
    },
    {
     "name": "stdout",
     "output_type": "stream",
     "text": [
      "Invalid Range: could not broadcast input array from shape (2142,257) into shape (2142,258)\n",
      "Time for Getting  0  random elements:  0:00:00.004278\n",
      "Invalid Range: could not broadcast input array from shape (2137,257) into shape (2137,258)\n",
      "Time for Getting  0  random elements:  0:00:00.004278\n",
      "Invalid Range: could not broadcast input array from shape (2180,257) into shape (2180,258)\n",
      "Time for Getting  0  random elements:  0:00:00.004707\n",
      "Invalid Range: could not broadcast input array from shape (2189,257) into shape (2189,258)\n",
      "Time for Getting  0  random elements:  0:00:00.004564\n",
      "Invalid Range: could not broadcast input array from shape (2153,257) into shape (2153,258)\n",
      "Time for Getting  0  random elements:  0:00:00.004530\n"
     ]
    },
    {
     "name": "stderr",
     "output_type": "stream",
     "text": [
      "2018-10-16 23:59:16,620 - nn-real-hvd - INFO -   1492     1 92484.1     0.0   0.002 0.10000\n",
      "2018-10-16 23:59:16,620 - nn-real-hvd - INFO -   1492     1 92484.1     0.0   0.002 0.10000\n",
      "2018-10-16 23:59:16,667 - nn-real-hvd - INFO -   1493     1 97484.6     0.0   0.002 0.10000\n",
      "2018-10-16 23:59:16,667 - nn-real-hvd - INFO -   1493     1 97484.6     0.0   0.002 0.10000\n",
      "2018-10-16 23:59:16,742 - nn-real-hvd - INFO -   1494     1 60554.6     0.1   0.002 0.10000\n",
      "2018-10-16 23:59:16,742 - nn-real-hvd - INFO -   1494     1 60554.6     0.1   0.002 0.10000\n",
      "2018-10-16 23:59:16,792 - nn-real-hvd - INFO -   1495     1 91434.8     0.0   0.002 0.10000\n",
      "2018-10-16 23:59:16,792 - nn-real-hvd - INFO -   1495     1 91434.8     0.0   0.002 0.10000\n"
     ]
    },
    {
     "name": "stdout",
     "output_type": "stream",
     "text": [
      "Invalid Range: could not broadcast input array from shape (2071,257) into shape (2071,258)\n",
      "Time for Getting  0  random elements:  0:00:00.004767\n",
      "Invalid Range: could not broadcast input array from shape (2138,257) into shape (2138,258)\n",
      "Time for Getting  0  random elements:  0:00:00.004416\n",
      "Invalid Range: could not broadcast input array from shape (2128,257) into shape (2128,258)\n",
      "Time for Getting  0  random elements:  0:00:00.004312\n",
      "Invalid Range: could not broadcast input array from shape (2142,257) into shape (2142,258)\n",
      "Time for Getting  0  random elements:  0:00:00.004581\n"
     ]
    },
    {
     "name": "stderr",
     "output_type": "stream",
     "text": [
      "2018-10-16 23:59:16,844 - nn-real-hvd - INFO -   1496     1 88930.9     0.0   0.002 0.10000\n",
      "2018-10-16 23:59:16,844 - nn-real-hvd - INFO -   1496     1 88930.9     0.0   0.002 0.10000\n",
      "2018-10-16 23:59:16,892 - nn-real-hvd - INFO -   1497     1 95767.8     0.0   0.002 0.10000\n",
      "2018-10-16 23:59:16,892 - nn-real-hvd - INFO -   1497     1 95767.8     0.0   0.002 0.10000\n",
      "2018-10-16 23:59:16,940 - nn-real-hvd - INFO -   1498     1 93586.0     0.0   0.002 0.10000\n",
      "2018-10-16 23:59:16,940 - nn-real-hvd - INFO -   1498     1 93586.0     0.0   0.002 0.10000\n",
      "2018-10-16 23:59:16,990 - nn-real-hvd - INFO -   1499     1 92253.3     0.0   0.002 0.10000\n",
      "2018-10-16 23:59:16,990 - nn-real-hvd - INFO -   1499     1 92253.3     0.0   0.002 0.10000\n",
      "2018-10-16 23:59:17,041 - nn-real-hvd - INFO -   1500     1 89112.0     0.0   0.002 0.10000\n",
      "2018-10-16 23:59:17,041 - nn-real-hvd - INFO -   1500     1 89112.0     0.0   0.002 0.10000\n"
     ]
    },
    {
     "name": "stdout",
     "output_type": "stream",
     "text": [
      "Invalid Range: could not broadcast input array from shape (2130,257) into shape (2130,258)\n",
      "Time for Getting  0  random elements:  0:00:00.004082\n",
      "Invalid Range: could not broadcast input array from shape (2148,257) into shape (2148,258)\n",
      "Time for Getting  0  random elements:  0:00:00.004024\n",
      "Invalid Range: could not broadcast input array from shape (2144,257) into shape (2144,258)\n",
      "Time for Getting  0  random elements:  0:00:00.003945\n",
      "Invalid Range: could not broadcast input array from shape (2200,257) into shape (2200,258)\n",
      "Time for Getting  0  random elements:  0:00:00.004141\n",
      "Invalid Range: could not broadcast input array from shape (2128,257) into shape (2128,258)\n",
      "Time for Getting  0  random elements:  0:00:00.004034\n"
     ]
    },
    {
     "name": "stderr",
     "output_type": "stream",
     "text": [
      "2018-10-16 23:59:17,090 - nn-real-hvd - INFO -   1501     1 93351.1     0.0   0.002 0.10000\n",
      "2018-10-16 23:59:17,090 - nn-real-hvd - INFO -   1501     1 93351.1     0.0   0.002 0.10000\n",
      "2018-10-16 23:59:17,138 - nn-real-hvd - INFO -   1502     1 95001.6     0.0   0.002 0.10000\n",
      "2018-10-16 23:59:17,138 - nn-real-hvd - INFO -   1502     1 95001.6     0.0   0.002 0.10000\n",
      "2018-10-16 23:59:17,187 - nn-real-hvd - INFO -   1503     1 92753.1     0.0   0.002 0.10000\n",
      "2018-10-16 23:59:17,187 - nn-real-hvd - INFO -   1503     1 92753.1     0.0   0.002 0.10000\n",
      "2018-10-16 23:59:17,236 - nn-real-hvd - INFO -   1504     1 93668.2     0.0   0.002 0.10000\n",
      "2018-10-16 23:59:17,236 - nn-real-hvd - INFO -   1504     1 93668.2     0.0   0.002 0.10000\n",
      "2018-10-16 23:59:17,283 - nn-real-hvd - INFO -   1505     1 96850.7     0.0   0.002 0.10000\n",
      "2018-10-16 23:59:17,283 - nn-real-hvd - INFO -   1505     1 96850.7     0.0   0.002 0.10000\n"
     ]
    },
    {
     "name": "stdout",
     "output_type": "stream",
     "text": [
      "Invalid Range: could not broadcast input array from shape (2169,257) into shape (2169,258)\n",
      "Time for Getting  0  random elements:  0:00:00.004240\n",
      "Invalid Range: could not broadcast input array from shape (2107,257) into shape (2107,258)\n",
      "Time for Getting  0  random elements:  0:00:00.004200\n",
      "Invalid Range: could not broadcast input array from shape (2171,257) into shape (2171,258)\n",
      "Time for Getting  0  random elements:  0:00:00.003919\n",
      "Invalid Range: could not broadcast input array from shape (2109,257) into shape (2109,258)\n",
      "Time for Getting  0  random elements:  0:00:00.003647\n",
      "Invalid Range: could not broadcast input array from shape (2162,257) into shape (2162,258)\n",
      "Time for Getting  0  random elements:  0:00:00.004254\n"
     ]
    },
    {
     "name": "stderr",
     "output_type": "stream",
     "text": [
      "2018-10-16 23:59:17,332 - nn-real-hvd - INFO -   1506     1 94162.9     0.0   0.002 0.10000\n",
      "2018-10-16 23:59:17,332 - nn-real-hvd - INFO -   1506     1 94162.9     0.0   0.002 0.10000\n",
      "2018-10-16 23:59:17,379 - nn-real-hvd - INFO -   1507     1 97643.0     0.0   0.002 0.10000\n",
      "2018-10-16 23:59:17,379 - nn-real-hvd - INFO -   1507     1 97643.0     0.0   0.002 0.10000\n",
      "2018-10-16 23:59:17,426 - nn-real-hvd - INFO -   1508     1 97785.6     0.0   0.002 0.10000\n",
      "2018-10-16 23:59:17,426 - nn-real-hvd - INFO -   1508     1 97785.6     0.0   0.002 0.10000\n",
      "2018-10-16 23:59:17,474 - nn-real-hvd - INFO -   1509     1 94911.7     0.0   0.002 0.10000\n",
      "2018-10-16 23:59:17,474 - nn-real-hvd - INFO -   1509     1 94911.7     0.0   0.002 0.10000\n",
      "2018-10-16 23:59:17,522 - nn-real-hvd - INFO -   1510     1 94402.9     0.0   0.002 0.10000\n",
      "2018-10-16 23:59:17,522 - nn-real-hvd - INFO -   1510     1 94402.9     0.0   0.002 0.10000\n"
     ]
    },
    {
     "name": "stdout",
     "output_type": "stream",
     "text": [
      "Invalid Range: could not broadcast input array from shape (2156,257) into shape (2156,258)\n",
      "Time for Getting  0  random elements:  0:00:00.004565\n",
      "Invalid Range: could not broadcast input array from shape (2147,257) into shape (2147,258)\n",
      "Time for Getting  0  random elements:  0:00:00.004380\n",
      "Invalid Range: could not broadcast input array from shape (2150,257) into shape (2150,258)\n",
      "Time for Getting  0  random elements:  0:00:00.004267\n",
      "Invalid Range: could not broadcast input array from shape (2123,257) into shape (2123,258)\n",
      "Time for Getting  0  random elements:  0:00:00.004292\n",
      "Invalid Range: could not broadcast input array from shape (2125,257) into shape (2125,258)\n",
      "Time for Getting  0  random elements:  0:00:00.004440\n"
     ]
    },
    {
     "name": "stderr",
     "output_type": "stream",
     "text": [
      "2018-10-16 23:59:17,571 - nn-real-hvd - INFO -   1511     1 93777.1     0.0   0.002 0.10000\n",
      "2018-10-16 23:59:17,571 - nn-real-hvd - INFO -   1511     1 93777.1     0.0   0.002 0.10000\n",
      "2018-10-16 23:59:17,618 - nn-real-hvd - INFO -   1512     1 97635.3     0.0   0.002 0.10000\n",
      "2018-10-16 23:59:17,618 - nn-real-hvd - INFO -   1512     1 97635.3     0.0   0.002 0.10000\n",
      "2018-10-16 23:59:17,667 - nn-real-hvd - INFO -   1513     1 95161.4     0.0   0.002 0.10000\n",
      "2018-10-16 23:59:17,667 - nn-real-hvd - INFO -   1513     1 95161.4     0.0   0.002 0.10000\n",
      "2018-10-16 23:59:17,716 - nn-real-hvd - INFO -   1514     1 93102.5     0.0   0.002 0.10000\n",
      "2018-10-16 23:59:17,716 - nn-real-hvd - INFO -   1514     1 93102.5     0.0   0.002 0.10000\n",
      "2018-10-16 23:59:17,764 - nn-real-hvd - INFO -   1515     1 95680.4     0.0   0.002 0.10000\n",
      "2018-10-16 23:59:17,764 - nn-real-hvd - INFO -   1515     1 95680.4     0.0   0.002 0.10000\n"
     ]
    },
    {
     "name": "stdout",
     "output_type": "stream",
     "text": [
      "Invalid Range: could not broadcast input array from shape (2099,257) into shape (2099,258)\n",
      "Time for Getting  0  random elements:  0:00:00.004152\n",
      "Invalid Range: could not broadcast input array from shape (2111,257) into shape (2111,258)\n",
      "Time for Getting  0  random elements:  0:00:00.004269\n",
      "Invalid Range: could not broadcast input array from shape (2119,257) into shape (2119,258)\n",
      "Time for Getting  0  random elements:  0:00:00.004310\n",
      "Invalid Range: could not broadcast input array from shape (2175,257) into shape (2175,258)\n",
      "Time for Getting  0  random elements:  0:00:00.004375\n",
      "Invalid Range: could not broadcast input array from shape (2149,257) into shape (2149,258)\n",
      "Time for Getting  0  random elements:  0:00:00.004462\n"
     ]
    },
    {
     "name": "stderr",
     "output_type": "stream",
     "text": [
      "2018-10-16 23:59:17,818 - nn-real-hvd - INFO -   1516     1 85372.4     0.1   0.002 0.10000\n",
      "2018-10-16 23:59:17,818 - nn-real-hvd - INFO -   1516     1 85372.4     0.1   0.002 0.10000\n",
      "2018-10-16 23:59:17,867 - nn-real-hvd - INFO -   1517     1 92468.9     0.0   0.002 0.10000\n",
      "2018-10-16 23:59:17,867 - nn-real-hvd - INFO -   1517     1 92468.9     0.0   0.002 0.10000\n",
      "2018-10-16 23:59:17,914 - nn-real-hvd - INFO -   1518     1 97228.7     0.0   0.002 0.10000\n",
      "2018-10-16 23:59:17,914 - nn-real-hvd - INFO -   1518     1 97228.7     0.0   0.002 0.10000\n",
      "2018-10-16 23:59:17,961 - nn-real-hvd - INFO -   1519     1 97306.7     0.0   0.002 0.10000\n",
      "2018-10-16 23:59:17,961 - nn-real-hvd - INFO -   1519     1 97306.7     0.0   0.002 0.10000\n",
      "2018-10-16 23:59:18,008 - nn-real-hvd - INFO -   1520     1 97814.4     0.0   0.002 0.10000\n",
      "2018-10-16 23:59:18,008 - nn-real-hvd - INFO -   1520     1 97814.4     0.0   0.002 0.10000\n"
     ]
    },
    {
     "name": "stdout",
     "output_type": "stream",
     "text": [
      "Invalid Range: could not broadcast input array from shape (2154,257) into shape (2154,258)\n",
      "Time for Getting  0  random elements:  0:00:00.004261\n",
      "Invalid Range: could not broadcast input array from shape (2151,257) into shape (2151,258)\n",
      "Time for Getting  0  random elements:  0:00:00.003736\n",
      "Invalid Range: could not broadcast input array from shape (2185,257) into shape (2185,258)\n",
      "Time for Getting  0  random elements:  0:00:00.003805\n",
      "Invalid Range: could not broadcast input array from shape (2137,257) into shape (2137,258)\n",
      "Time for Getting  0  random elements:  0:00:00.003861\n",
      "Invalid Range: could not broadcast input array from shape (2134,257) into shape (2134,258)\n",
      "Time for Getting  0  random elements:  0:00:00.003698\n"
     ]
    },
    {
     "name": "stderr",
     "output_type": "stream",
     "text": [
      "2018-10-16 23:59:18,056 - nn-real-hvd - INFO -   1521     1 94920.4     0.0   0.002 0.10000\n",
      "2018-10-16 23:59:18,056 - nn-real-hvd - INFO -   1521     1 94920.4     0.0   0.002 0.10000\n",
      "2018-10-16 23:59:18,104 - nn-real-hvd - INFO -   1522     1 95271.3     0.0   0.002 0.10000\n",
      "2018-10-16 23:59:18,104 - nn-real-hvd - INFO -   1522     1 95271.3     0.0   0.002 0.10000\n",
      "2018-10-16 23:59:18,152 - nn-real-hvd - INFO -   1523     1 94774.1     0.0   0.002 0.10000\n",
      "2018-10-16 23:59:18,152 - nn-real-hvd - INFO -   1523     1 94774.1     0.0   0.002 0.10000\n",
      "2018-10-16 23:59:18,202 - nn-real-hvd - INFO -   1524     1 91974.9     0.0   0.002 0.10000\n",
      "2018-10-16 23:59:18,202 - nn-real-hvd - INFO -   1524     1 91974.9     0.0   0.002 0.10000\n",
      "2018-10-16 23:59:18,248 - nn-real-hvd - INFO -   1525     1 99398.0     0.0   0.002 0.10000\n",
      "2018-10-16 23:59:18,248 - nn-real-hvd - INFO -   1525     1 99398.0     0.0   0.002 0.10000\n"
     ]
    },
    {
     "name": "stdout",
     "output_type": "stream",
     "text": [
      "Invalid Range: could not broadcast input array from shape (2120,257) into shape (2120,258)\n",
      "Time for Getting  0  random elements:  0:00:00.004107\n",
      "Invalid Range: could not broadcast input array from shape (2153,257) into shape (2153,258)\n",
      "Time for Getting  0  random elements:  0:00:00.004117\n",
      "Invalid Range: could not broadcast input array from shape (2106,257) into shape (2106,258)\n",
      "Time for Getting  0  random elements:  0:00:00.004226\n",
      "Invalid Range: could not broadcast input array from shape (2122,257) into shape (2122,258)\n",
      "Time for Getting  0  random elements:  0:00:00.003962\n",
      "Invalid Range: could not broadcast input array from shape (2084,257) into shape (2084,258)\n",
      "Time for Getting  0  random elements:  0:00:00.003887\n"
     ]
    },
    {
     "name": "stderr",
     "output_type": "stream",
     "text": [
      "2018-10-16 23:59:18,293 - nn-real-hvd - INFO -   1526     1 100137.0     0.0   0.002 0.10000\n",
      "2018-10-16 23:59:18,293 - nn-real-hvd - INFO -   1526     1 100137.0     0.0   0.002 0.10000\n",
      "2018-10-16 23:59:18,340 - nn-real-hvd - INFO -   1527     1 98442.7     0.0   0.002 0.10000\n",
      "2018-10-16 23:59:18,340 - nn-real-hvd - INFO -   1527     1 98442.7     0.0   0.002 0.10000\n",
      "2018-10-16 23:59:18,387 - nn-real-hvd - INFO -   1528     1 96352.0     0.0   0.002 0.10000\n",
      "2018-10-16 23:59:18,387 - nn-real-hvd - INFO -   1528     1 96352.0     0.0   0.002 0.10000\n",
      "2018-10-16 23:59:18,435 - nn-real-hvd - INFO -   1529     1 95377.5     0.0   0.002 0.10000\n",
      "2018-10-16 23:59:18,435 - nn-real-hvd - INFO -   1529     1 95377.5     0.0   0.002 0.10000\n",
      "2018-10-16 23:59:18,484 - nn-real-hvd - INFO -   1530     1 94423.1     0.0   0.002 0.10000\n",
      "2018-10-16 23:59:18,484 - nn-real-hvd - INFO -   1530     1 94423.1     0.0   0.002 0.10000\n"
     ]
    },
    {
     "name": "stdout",
     "output_type": "stream",
     "text": [
      "Invalid Range: could not broadcast input array from shape (2187,257) into shape (2187,258)\n",
      "Time for Getting  0  random elements:  0:00:00.003436\n",
      "Invalid Range: could not broadcast input array from shape (2193,257) into shape (2193,258)\n",
      "Time for Getting  0  random elements:  0:00:00.003840\n",
      "Invalid Range: could not broadcast input array from shape (2154,257) into shape (2154,258)\n",
      "Time for Getting  0  random elements:  0:00:00.003961\n",
      "Invalid Range: could not broadcast input array from shape (2198,257) into shape (2198,258)\n",
      "Time for Getting  0  random elements:  0:00:00.004352\n",
      "Invalid Range: could not broadcast input array from shape (2089,257) into shape (2089,258)\n",
      "Time for Getting  0  random elements:  0:00:00.004196\n"
     ]
    },
    {
     "name": "stderr",
     "output_type": "stream",
     "text": [
      "2018-10-16 23:59:18,532 - nn-real-hvd - INFO -   1531     1 96479.7     0.0   0.002 0.10000\n",
      "2018-10-16 23:59:18,532 - nn-real-hvd - INFO -   1531     1 96479.7     0.0   0.002 0.10000\n",
      "2018-10-16 23:59:18,580 - nn-real-hvd - INFO -   1532     1 94660.0     0.0   0.002 0.10000\n",
      "2018-10-16 23:59:18,580 - nn-real-hvd - INFO -   1532     1 94660.0     0.0   0.002 0.10000\n",
      "2018-10-16 23:59:18,628 - nn-real-hvd - INFO -   1533     1 94688.5     0.0   0.002 0.10000\n",
      "2018-10-16 23:59:18,628 - nn-real-hvd - INFO -   1533     1 94688.5     0.0   0.002 0.10000\n",
      "2018-10-16 23:59:18,678 - nn-real-hvd - INFO -   1534     1 91660.6     0.0   0.002 0.10000\n",
      "2018-10-16 23:59:18,678 - nn-real-hvd - INFO -   1534     1 91660.6     0.0   0.002 0.10000\n",
      "2018-10-16 23:59:18,728 - nn-real-hvd - INFO -   1535     1 91692.3     0.0   0.002 0.10000\n",
      "2018-10-16 23:59:18,728 - nn-real-hvd - INFO -   1535     1 91692.3     0.0   0.002 0.10000\n"
     ]
    },
    {
     "name": "stdout",
     "output_type": "stream",
     "text": [
      "Invalid Range: could not broadcast input array from shape (2164,257) into shape (2164,258)\n",
      "Time for Getting  0  random elements:  0:00:00.004697\n",
      "Invalid Range: could not broadcast input array from shape (2127,257) into shape (2127,258)\n",
      "Time for Getting  0  random elements:  0:00:00.004607\n",
      "Invalid Range: could not broadcast input array from shape (2076,257) into shape (2076,258)\n",
      "Time for Getting  0  random elements:  0:00:00.004327\n",
      "Invalid Range: could not broadcast input array from shape (2112,257) into shape (2112,258)\n",
      "Time for Getting  0  random elements:  0:00:00.004414\n",
      "Invalid Range: could not broadcast input array from shape (2154,257) into shape (2154,258)\n",
      "Time for Getting  0  random elements:  0:00:00.004252\n"
     ]
    },
    {
     "name": "stderr",
     "output_type": "stream",
     "text": [
      "2018-10-16 23:59:18,778 - nn-real-hvd - INFO -   1536     1 92698.9     0.0   0.002 0.10000\n",
      "2018-10-16 23:59:18,778 - nn-real-hvd - INFO -   1536     1 92698.9     0.0   0.002 0.10000\n",
      "2018-10-16 23:59:18,826 - nn-real-hvd - INFO -   1537     1 94748.9     0.0   0.002 0.10000\n",
      "2018-10-16 23:59:18,826 - nn-real-hvd - INFO -   1537     1 94748.9     0.0   0.002 0.10000\n",
      "2018-10-16 23:59:18,877 - nn-real-hvd - INFO -   1538     1 89447.0     0.0   0.002 0.10000\n",
      "2018-10-16 23:59:18,877 - nn-real-hvd - INFO -   1538     1 89447.0     0.0   0.002 0.10000\n",
      "2018-10-16 23:59:18,926 - nn-real-hvd - INFO -   1539     1 93543.6     0.0   0.002 0.10000\n",
      "2018-10-16 23:59:18,926 - nn-real-hvd - INFO -   1539     1 93543.6     0.0   0.002 0.10000\n",
      "2018-10-16 23:59:18,974 - nn-real-hvd - INFO -   1540     1 95032.2     0.0   0.002 0.10000\n",
      "2018-10-16 23:59:18,974 - nn-real-hvd - INFO -   1540     1 95032.2     0.0   0.002 0.10000\n"
     ]
    },
    {
     "name": "stdout",
     "output_type": "stream",
     "text": [
      "Invalid Range: could not broadcast input array from shape (2149,257) into shape (2149,258)\n",
      "Time for Getting  0  random elements:  0:00:00.004135\n",
      "Invalid Range: could not broadcast input array from shape (2096,257) into shape (2096,258)\n",
      "Time for Getting  0  random elements:  0:00:00.004882\n",
      "Invalid Range: could not broadcast input array from shape (2166,257) into shape (2166,258)\n",
      "Time for Getting  0  random elements:  0:00:00.004202\n",
      "Invalid Range: could not broadcast input array from shape (2098,257) into shape (2098,258)\n",
      "Time for Getting  0  random elements:  0:00:00.003958\n",
      "Invalid Range: could not broadcast input array from shape (2116,257) into shape (2116,258)\n",
      "Time for Getting  0  random elements:  0:00:00.003858\n"
     ]
    },
    {
     "name": "stderr",
     "output_type": "stream",
     "text": [
      "2018-10-16 23:59:19,021 - nn-real-hvd - INFO -   1541     1 98294.6     0.0   0.002 0.10000\n",
      "2018-10-16 23:59:19,021 - nn-real-hvd - INFO -   1541     1 98294.6     0.0   0.002 0.10000\n",
      "2018-10-16 23:59:19,068 - nn-real-hvd - INFO -   1542     1 97084.8     0.0   0.002 0.10000\n",
      "2018-10-16 23:59:19,068 - nn-real-hvd - INFO -   1542     1 97084.8     0.0   0.002 0.10000\n",
      "2018-10-16 23:59:19,116 - nn-real-hvd - INFO -   1543     1 96488.7     0.0   0.002 0.10000\n",
      "2018-10-16 23:59:19,116 - nn-real-hvd - INFO -   1543     1 96488.7     0.0   0.002 0.10000\n",
      "2018-10-16 23:59:19,164 - nn-real-hvd - INFO -   1544     1 93763.3     0.0   0.002 0.10000\n",
      "2018-10-16 23:59:19,164 - nn-real-hvd - INFO -   1544     1 93763.3     0.0   0.002 0.10000\n",
      "2018-10-16 23:59:19,210 - nn-real-hvd - INFO -   1545     1 100660.0     0.0   0.002 0.10000\n",
      "2018-10-16 23:59:19,210 - nn-real-hvd - INFO -   1545     1 100660.0     0.0   0.002 0.10000\n"
     ]
    },
    {
     "name": "stdout",
     "output_type": "stream",
     "text": [
      "Invalid Range: could not broadcast input array from shape (2102,257) into shape (2102,258)\n",
      "Time for Getting  0  random elements:  0:00:00.004222\n",
      "Invalid Range: could not broadcast input array from shape (2119,257) into shape (2119,258)\n",
      "Time for Getting  0  random elements:  0:00:00.004372\n",
      "Invalid Range: could not broadcast input array from shape (2176,257) into shape (2176,258)\n",
      "Time for Getting  0  random elements:  0:00:00.004101\n",
      "Invalid Range: could not broadcast input array from shape (2169,257) into shape (2169,258)\n",
      "Time for Getting  0  random elements:  0:00:00.004092\n",
      "Invalid Range: could not broadcast input array from shape (2146,257) into shape (2146,258)\n",
      "Time for Getting  0  random elements:  0:00:00.004229\n"
     ]
    },
    {
     "name": "stderr",
     "output_type": "stream",
     "text": [
      "2018-10-16 23:59:19,257 - nn-real-hvd - INFO -   1546     1 96276.5     0.0   0.002 0.10000\n",
      "2018-10-16 23:59:19,257 - nn-real-hvd - INFO -   1546     1 96276.5     0.0   0.002 0.10000\n",
      "2018-10-16 23:59:19,305 - nn-real-hvd - INFO -   1547     1 96344.5     0.0   0.002 0.10000\n",
      "2018-10-16 23:59:19,305 - nn-real-hvd - INFO -   1547     1 96344.5     0.0   0.002 0.10000\n",
      "2018-10-16 23:59:19,350 - nn-real-hvd - INFO -   1548     1 101488.4     0.0   0.002 0.10000\n",
      "2018-10-16 23:59:19,350 - nn-real-hvd - INFO -   1548     1 101488.4     0.0   0.002 0.10000\n",
      "2018-10-16 23:59:19,397 - nn-real-hvd - INFO -   1549     1 96901.8     0.0   0.002 0.10000\n",
      "2018-10-16 23:59:19,397 - nn-real-hvd - INFO -   1549     1 96901.8     0.0   0.002 0.10000\n",
      "2018-10-16 23:59:19,445 - nn-real-hvd - INFO -   1550     1 96762.9     0.0   0.002 0.10000\n",
      "2018-10-16 23:59:19,445 - nn-real-hvd - INFO -   1550     1 96762.9     0.0   0.002 0.10000\n"
     ]
    },
    {
     "name": "stdout",
     "output_type": "stream",
     "text": [
      "Invalid Range: could not broadcast input array from shape (2162,257) into shape (2162,258)\n",
      "Time for Getting  0  random elements:  0:00:00.004093\n",
      "Invalid Range: could not broadcast input array from shape (2118,257) into shape (2118,258)\n",
      "Time for Getting  0  random elements:  0:00:00.003743\n",
      "Invalid Range: could not broadcast input array from shape (2176,257) into shape (2176,258)\n",
      "Time for Getting  0  random elements:  0:00:00.003820\n",
      "Invalid Range: could not broadcast input array from shape (2151,257) into shape (2151,258)\n",
      "Time for Getting  0  random elements:  0:00:00.004251\n",
      "Invalid Range: could not broadcast input array from shape (2179,257) into shape (2179,258)\n",
      "Time for Getting  0  random elements:  0:00:00.003758\n"
     ]
    },
    {
     "name": "stderr",
     "output_type": "stream",
     "text": [
      "2018-10-16 23:59:19,493 - nn-real-hvd - INFO -   1551     1 94866.6     0.0   0.002 0.10000\n",
      "2018-10-16 23:59:19,493 - nn-real-hvd - INFO -   1551     1 94866.6     0.0   0.002 0.10000\n",
      "2018-10-16 23:59:19,542 - nn-real-hvd - INFO -   1552     1 93229.2     0.0   0.002 0.10000\n",
      "2018-10-16 23:59:19,542 - nn-real-hvd - INFO -   1552     1 93229.2     0.0   0.002 0.10000\n",
      "2018-10-16 23:59:19,589 - nn-real-hvd - INFO -   1553     1 95885.5     0.0   0.002 0.10000\n",
      "2018-10-16 23:59:19,589 - nn-real-hvd - INFO -   1553     1 95885.5     0.0   0.002 0.10000\n",
      "2018-10-16 23:59:19,636 - nn-real-hvd - INFO -   1554     1 97932.6     0.0   0.002 0.10000\n",
      "2018-10-16 23:59:19,636 - nn-real-hvd - INFO -   1554     1 97932.6     0.0   0.002 0.10000\n",
      "2018-10-16 23:59:19,683 - nn-real-hvd - INFO -   1555     1 96644.5     0.0   0.002 0.10000\n",
      "2018-10-16 23:59:19,683 - nn-real-hvd - INFO -   1555     1 96644.5     0.0   0.002 0.10000\n"
     ]
    },
    {
     "name": "stdout",
     "output_type": "stream",
     "text": [
      "Invalid Range: could not broadcast input array from shape (2157,257) into shape (2157,258)\n",
      "Time for Getting  0  random elements:  0:00:00.003961\n",
      "Invalid Range: could not broadcast input array from shape (2141,257) into shape (2141,258)\n",
      "Time for Getting  0  random elements:  0:00:00.004174\n",
      "Invalid Range: could not broadcast input array from shape (2215,257) into shape (2215,258)\n",
      "Time for Getting  0  random elements:  0:00:00.004043\n",
      "Invalid Range: could not broadcast input array from shape (2124,257) into shape (2124,258)\n",
      "Time for Getting  0  random elements:  0:00:00.004302\n",
      "Invalid Range: could not broadcast input array from shape (2182,257) into shape (2182,258)\n",
      "Time for Getting  0  random elements:  0:00:00.004158\n"
     ]
    },
    {
     "name": "stderr",
     "output_type": "stream",
     "text": [
      "2018-10-16 23:59:19,732 - nn-real-hvd - INFO -   1556     1 95343.7     0.0   0.002 0.10000\n",
      "2018-10-16 23:59:19,732 - nn-real-hvd - INFO -   1556     1 95343.7     0.0   0.002 0.10000\n",
      "2018-10-16 23:59:19,809 - nn-real-hvd - INFO -   1557     1 58261.2     0.1   0.002 0.10000\n",
      "2018-10-16 23:59:19,809 - nn-real-hvd - INFO -   1557     1 58261.2     0.1   0.002 0.10000\n",
      "2018-10-16 23:59:19,857 - nn-real-hvd - INFO -   1558     1 95724.8     0.0   0.002 0.10000\n",
      "2018-10-16 23:59:19,857 - nn-real-hvd - INFO -   1558     1 95724.8     0.0   0.002 0.10000\n",
      "2018-10-16 23:59:19,906 - nn-real-hvd - INFO -   1559     1 95251.7     0.0   0.002 0.10000\n",
      "2018-10-16 23:59:19,906 - nn-real-hvd - INFO -   1559     1 95251.7     0.0   0.002 0.10000\n"
     ]
    },
    {
     "name": "stdout",
     "output_type": "stream",
     "text": [
      "Invalid Range: could not broadcast input array from shape (2092,257) into shape (2092,258)\n",
      "Time for Getting  0  random elements:  0:00:00.004094\n",
      "Invalid Range: could not broadcast input array from shape (2073,257) into shape (2073,258)\n",
      "Time for Getting  0  random elements:  0:00:00.004285\n",
      "Invalid Range: could not broadcast input array from shape (2116,257) into shape (2116,258)\n",
      "Time for Getting  0  random elements:  0:00:00.004048\n",
      "Invalid Range: could not broadcast input array from shape (2116,257) into shape (2116,258)\n",
      "Time for Getting  0  random elements:  0:00:00.004190\n"
     ]
    },
    {
     "name": "stderr",
     "output_type": "stream",
     "text": [
      "2018-10-16 23:59:19,954 - nn-real-hvd - INFO -   1560     1 94619.5     0.0   0.002 0.10000\n",
      "2018-10-16 23:59:19,954 - nn-real-hvd - INFO -   1560     1 94619.5     0.0   0.002 0.10000\n",
      "2018-10-16 23:59:20,003 - nn-real-hvd - INFO -   1561     1 93121.2     0.0   0.002 0.10000\n",
      "2018-10-16 23:59:20,003 - nn-real-hvd - INFO -   1561     1 93121.2     0.0   0.002 0.10000\n",
      "2018-10-16 23:59:20,053 - nn-real-hvd - INFO -   1562     1 91384.8     0.0   0.002 0.10000\n",
      "2018-10-16 23:59:20,053 - nn-real-hvd - INFO -   1562     1 91384.8     0.0   0.002 0.10000\n",
      "2018-10-16 23:59:20,100 - nn-real-hvd - INFO -   1563     1 96142.8     0.0   0.002 0.10000\n",
      "2018-10-16 23:59:20,100 - nn-real-hvd - INFO -   1563     1 96142.8     0.0   0.002 0.10000\n",
      "2018-10-16 23:59:20,150 - nn-real-hvd - INFO -   1564     1 93633.7     0.0   0.002 0.10000\n",
      "2018-10-16 23:59:20,150 - nn-real-hvd - INFO -   1564     1 93633.7     0.0   0.002 0.10000\n"
     ]
    },
    {
     "name": "stdout",
     "output_type": "stream",
     "text": [
      "Invalid Range: could not broadcast input array from shape (2104,257) into shape (2104,258)\n",
      "Time for Getting  0  random elements:  0:00:00.003844\n",
      "Invalid Range: could not broadcast input array from shape (2214,257) into shape (2214,258)\n",
      "Time for Getting  0  random elements:  0:00:00.004171\n",
      "Invalid Range: could not broadcast input array from shape (2149,257) into shape (2149,258)\n",
      "Time for Getting  0  random elements:  0:00:00.004025\n",
      "Invalid Range: could not broadcast input array from shape (2144,257) into shape (2144,258)\n",
      "Time for Getting  0  random elements:  0:00:00.004026\n",
      "Invalid Range: could not broadcast input array from shape (2137,257) into shape (2137,258)\n",
      "Time for Getting  0  random elements:  0:00:00.004301\n"
     ]
    },
    {
     "name": "stderr",
     "output_type": "stream",
     "text": [
      "2018-10-16 23:59:20,198 - nn-real-hvd - INFO -   1565     1 95355.0     0.0   0.002 0.10000\n",
      "2018-10-16 23:59:20,198 - nn-real-hvd - INFO -   1565     1 95355.0     0.0   0.002 0.10000\n",
      "2018-10-16 23:59:20,246 - nn-real-hvd - INFO -   1566     1 94618.0     0.0   0.002 0.10000\n",
      "2018-10-16 23:59:20,246 - nn-real-hvd - INFO -   1566     1 94618.0     0.0   0.002 0.10000\n",
      "2018-10-16 23:59:20,294 - nn-real-hvd - INFO -   1567     1 94636.8     0.0   0.002 0.10000\n",
      "2018-10-16 23:59:20,294 - nn-real-hvd - INFO -   1567     1 94636.8     0.0   0.002 0.10000\n",
      "2018-10-16 23:59:20,341 - nn-real-hvd - INFO -   1568     1 96471.2     0.0   0.002 0.10000\n",
      "2018-10-16 23:59:20,341 - nn-real-hvd - INFO -   1568     1 96471.2     0.0   0.002 0.10000\n",
      "2018-10-16 23:59:20,393 - nn-real-hvd - INFO -   1569     1 86918.5     0.1   0.002 0.10000\n",
      "2018-10-16 23:59:20,393 - nn-real-hvd - INFO -   1569     1 86918.5     0.1   0.002 0.10000\n"
     ]
    },
    {
     "name": "stdout",
     "output_type": "stream",
     "text": [
      "Invalid Range: could not broadcast input array from shape (2096,257) into shape (2096,258)\n",
      "Time for Getting  0  random elements:  0:00:00.004260\n",
      "Invalid Range: could not broadcast input array from shape (2146,257) into shape (2146,258)\n",
      "Time for Getting  0  random elements:  0:00:00.003876\n",
      "Invalid Range: could not broadcast input array from shape (2142,257) into shape (2142,258)\n",
      "Time for Getting  0  random elements:  0:00:00.004240\n",
      "Invalid Range: could not broadcast input array from shape (2147,257) into shape (2147,258)\n",
      "Time for Getting  0  random elements:  0:00:00.004158\n",
      "Invalid Range: could not broadcast input array from shape (2130,257) into shape (2130,258)\n",
      "Time for Getting  0  random elements:  0:00:00.004127\n"
     ]
    },
    {
     "name": "stderr",
     "output_type": "stream",
     "text": [
      "2018-10-16 23:59:20,441 - nn-real-hvd - INFO -   1570     1 97224.6     0.0   0.002 0.10000\n",
      "2018-10-16 23:59:20,441 - nn-real-hvd - INFO -   1570     1 97224.6     0.0   0.002 0.10000\n",
      "2018-10-16 23:59:20,489 - nn-real-hvd - INFO -   1571     1 96210.6     0.0   0.002 0.10000\n",
      "2018-10-16 23:59:20,489 - nn-real-hvd - INFO -   1571     1 96210.6     0.0   0.002 0.10000\n",
      "2018-10-16 23:59:20,537 - nn-real-hvd - INFO -   1572     1 93187.1     0.0   0.002 0.10000\n",
      "2018-10-16 23:59:20,537 - nn-real-hvd - INFO -   1572     1 93187.1     0.0   0.002 0.10000\n",
      "2018-10-16 23:59:20,588 - nn-real-hvd - INFO -   1573     1 90416.5     0.0   0.002 0.10000\n",
      "2018-10-16 23:59:20,588 - nn-real-hvd - INFO -   1573     1 90416.5     0.0   0.002 0.10000\n",
      "2018-10-16 23:59:20,643 - nn-real-hvd - INFO -   1574     1 83647.1     0.1   0.002 0.10000\n",
      "2018-10-16 23:59:20,643 - nn-real-hvd - INFO -   1574     1 83647.1     0.1   0.002 0.10000\n"
     ]
    },
    {
     "name": "stdout",
     "output_type": "stream",
     "text": [
      "Invalid Range: could not broadcast input array from shape (2097,257) into shape (2097,258)\n",
      "Time for Getting  0  random elements:  0:00:00.004127\n",
      "Invalid Range: could not broadcast input array from shape (2102,257) into shape (2102,258)\n",
      "Time for Getting  0  random elements:  0:00:00.004423\n",
      "Invalid Range: could not broadcast input array from shape (2153,257) into shape (2153,258)\n",
      "Time for Getting  0  random elements:  0:00:00.003669\n",
      "Invalid Range: could not broadcast input array from shape (2204,257) into shape (2204,258)\n",
      "Time for Getting  0  random elements:  0:00:00.003988\n"
     ]
    },
    {
     "name": "stderr",
     "output_type": "stream",
     "text": [
      "2018-10-16 23:59:20,700 - nn-real-hvd - INFO -   1575     1 81021.7     0.1   0.002 0.10000\n",
      "2018-10-16 23:59:20,700 - nn-real-hvd - INFO -   1575     1 81021.7     0.1   0.002 0.10000\n",
      "2018-10-16 23:59:20,753 - nn-real-hvd - INFO -   1576     1 85815.7     0.1   0.002 0.10000\n",
      "2018-10-16 23:59:20,753 - nn-real-hvd - INFO -   1576     1 85815.7     0.1   0.002 0.10000\n",
      "2018-10-16 23:59:20,808 - nn-real-hvd - INFO -   1577     1 83345.5     0.1   0.002 0.10000\n",
      "2018-10-16 23:59:20,808 - nn-real-hvd - INFO -   1577     1 83345.5     0.1   0.002 0.10000\n"
     ]
    },
    {
     "name": "stdout",
     "output_type": "stream",
     "text": [
      "Invalid Range: could not broadcast input array from shape (2135,257) into shape (2135,258)\n",
      "Time for Getting  0  random elements:  0:00:00.004425\n",
      "Invalid Range: could not broadcast input array from shape (2134,257) into shape (2134,258)\n",
      "Time for Getting  0  random elements:  0:00:00.003961\n",
      "Invalid Range: could not broadcast input array from shape (2154,257) into shape (2154,258)\n",
      "Time for Getting  0  random elements:  0:00:00.005055\n",
      "Invalid Range: could not broadcast input array from shape (2095,257) into shape (2095,258)\n",
      "Time for Getting  0  random elements:  0:00:00.003861\n"
     ]
    },
    {
     "name": "stderr",
     "output_type": "stream",
     "text": [
      "2018-10-16 23:59:20,856 - nn-real-hvd - INFO -   1578     1 96067.2     0.0   0.002 0.10000\n",
      "2018-10-16 23:59:20,856 - nn-real-hvd - INFO -   1578     1 96067.2     0.0   0.002 0.10000\n",
      "2018-10-16 23:59:20,906 - nn-real-hvd - INFO -   1579     1 91285.9     0.0   0.002 0.10000\n",
      "2018-10-16 23:59:20,906 - nn-real-hvd - INFO -   1579     1 91285.9     0.0   0.002 0.10000\n",
      "2018-10-16 23:59:20,958 - nn-real-hvd - INFO -   1580     1 88991.9     0.0   0.002 0.10000\n",
      "2018-10-16 23:59:20,958 - nn-real-hvd - INFO -   1580     1 88991.9     0.0   0.002 0.10000\n",
      "2018-10-16 23:59:21,013 - nn-real-hvd - INFO -   1581     1 83222.6     0.1   0.002 0.10000\n",
      "2018-10-16 23:59:21,013 - nn-real-hvd - INFO -   1581     1 83222.6     0.1   0.002 0.10000\n"
     ]
    },
    {
     "name": "stdout",
     "output_type": "stream",
     "text": [
      "Invalid Range: could not broadcast input array from shape (2136,257) into shape (2136,258)\n",
      "Time for Getting  0  random elements:  0:00:00.004278\n",
      "Invalid Range: could not broadcast input array from shape (2138,257) into shape (2138,258)\n",
      "Time for Getting  0  random elements:  0:00:00.003776\n",
      "Invalid Range: could not broadcast input array from shape (2183,257) into shape (2183,258)\n",
      "Time for Getting  0  random elements:  0:00:00.004869\n",
      "Invalid Range: could not broadcast input array from shape (2169,257) into shape (2169,258)\n",
      "Time for Getting  0  random elements:  0:00:00.004374\n"
     ]
    },
    {
     "name": "stderr",
     "output_type": "stream",
     "text": [
      "2018-10-16 23:59:21,068 - nn-real-hvd - INFO -   1582     1 83060.5     0.1   0.002 0.10000\n",
      "2018-10-16 23:59:21,068 - nn-real-hvd - INFO -   1582     1 83060.5     0.1   0.002 0.10000\n",
      "2018-10-16 23:59:21,121 - nn-real-hvd - INFO -   1583     1 86613.9     0.1   0.002 0.10000\n",
      "2018-10-16 23:59:21,121 - nn-real-hvd - INFO -   1583     1 86613.9     0.1   0.002 0.10000\n",
      "2018-10-16 23:59:21,176 - nn-real-hvd - INFO -   1584     1 84386.1     0.1   0.002 0.10000\n",
      "2018-10-16 23:59:21,176 - nn-real-hvd - INFO -   1584     1 84386.1     0.1   0.002 0.10000\n",
      "2018-10-16 23:59:21,224 - nn-real-hvd - INFO -   1585     1 94666.8     0.0   0.002 0.10000\n",
      "2018-10-16 23:59:21,224 - nn-real-hvd - INFO -   1585     1 94666.8     0.0   0.002 0.10000\n",
      "2018-10-16 23:59:21,272 - nn-real-hvd - INFO -   1586     1 96111.5     0.0   0.002 0.10000\n",
      "2018-10-16 23:59:21,272 - nn-real-hvd - INFO -   1586     1 96111.5     0.0   0.002 0.10000\n"
     ]
    },
    {
     "name": "stdout",
     "output_type": "stream",
     "text": [
      "Invalid Range: could not broadcast input array from shape (2097,257) into shape (2097,258)\n",
      "Time for Getting  0  random elements:  0:00:00.003685\n",
      "Invalid Range: could not broadcast input array from shape (2109,257) into shape (2109,258)\n",
      "Time for Getting  0  random elements:  0:00:00.004092\n",
      "Invalid Range: could not broadcast input array from shape (2159,257) into shape (2159,258)\n",
      "Time for Getting  0  random elements:  0:00:00.003845\n",
      "Invalid Range: could not broadcast input array from shape (2121,257) into shape (2121,258)\n",
      "Time for Getting  0  random elements:  0:00:00.003865\n"
     ]
    },
    {
     "name": "stderr",
     "output_type": "stream",
     "text": [
      "2018-10-16 23:59:21,321 - nn-real-hvd - INFO -   1587     1 93339.4     0.0   0.002 0.10000\n",
      "2018-10-16 23:59:21,321 - nn-real-hvd - INFO -   1587     1 93339.4     0.0   0.002 0.10000\n",
      "2018-10-16 23:59:21,370 - nn-real-hvd - INFO -   1588     1 93604.4     0.0   0.002 0.10000\n",
      "2018-10-16 23:59:21,370 - nn-real-hvd - INFO -   1588     1 93604.4     0.0   0.002 0.10000\n",
      "2018-10-16 23:59:21,418 - nn-real-hvd - INFO -   1589     1 96937.7     0.0   0.002 0.10000\n",
      "2018-10-16 23:59:21,418 - nn-real-hvd - INFO -   1589     1 96937.7     0.0   0.002 0.10000\n",
      "2018-10-16 23:59:21,465 - nn-real-hvd - INFO -   1590     1 96413.5     0.0   0.002 0.10000\n",
      "2018-10-16 23:59:21,465 - nn-real-hvd - INFO -   1590     1 96413.5     0.0   0.002 0.10000\n"
     ]
    },
    {
     "name": "stdout",
     "output_type": "stream",
     "text": [
      "Invalid Range: could not broadcast input array from shape (2109,257) into shape (2109,258)\n",
      "Time for Getting  0  random elements:  0:00:00.004794\n",
      "Invalid Range: could not broadcast input array from shape (2078,257) into shape (2078,258)\n",
      "Time for Getting  0  random elements:  0:00:00.004507\n",
      "Invalid Range: could not broadcast input array from shape (2142,257) into shape (2142,258)\n",
      "Time for Getting  0  random elements:  0:00:00.004239\n",
      "Invalid Range: could not broadcast input array from shape (2142,257) into shape (2142,258)\n",
      "Time for Getting  0  random elements:  0:00:00.004303\n",
      "Invalid Range: could not broadcast input array from shape (2139,257) into shape (2139,258)\n",
      "Time for Getting  0  random elements:  0:00:00.004307\n"
     ]
    },
    {
     "name": "stderr",
     "output_type": "stream",
     "text": [
      "2018-10-16 23:59:21,513 - nn-real-hvd - INFO -   1591     1 95190.2     0.0   0.002 0.10000\n",
      "2018-10-16 23:59:21,513 - nn-real-hvd - INFO -   1591     1 95190.2     0.0   0.002 0.10000\n",
      "2018-10-16 23:59:21,562 - nn-real-hvd - INFO -   1592     1 92704.0     0.0   0.002 0.10000\n",
      "2018-10-16 23:59:21,562 - nn-real-hvd - INFO -   1592     1 92704.0     0.0   0.002 0.10000\n",
      "2018-10-16 23:59:21,610 - nn-real-hvd - INFO -   1593     1 96644.0     0.0   0.002 0.10000\n",
      "2018-10-16 23:59:21,610 - nn-real-hvd - INFO -   1593     1 96644.0     0.0   0.002 0.10000\n",
      "2018-10-16 23:59:21,659 - nn-real-hvd - INFO -   1594     1 93268.6     0.0   0.002 0.10000\n",
      "2018-10-16 23:59:21,659 - nn-real-hvd - INFO -   1594     1 93268.6     0.0   0.002 0.10000\n",
      "2018-10-16 23:59:21,710 - nn-real-hvd - INFO -   1595     1 89240.5     0.0   0.002 0.10000\n",
      "2018-10-16 23:59:21,710 - nn-real-hvd - INFO -   1595     1 89240.5     0.0   0.002 0.10000\n"
     ]
    },
    {
     "name": "stdout",
     "output_type": "stream",
     "text": [
      "Invalid Range: could not broadcast input array from shape (2137,257) into shape (2137,258)\n",
      "Time for Getting  0  random elements:  0:00:00.004015\n",
      "Invalid Range: could not broadcast input array from shape (2139,257) into shape (2139,258)\n",
      "Time for Getting  0  random elements:  0:00:00.004384\n",
      "Invalid Range: could not broadcast input array from shape (2168,257) into shape (2168,258)\n",
      "Time for Getting  0  random elements:  0:00:00.004663\n",
      "Invalid Range: could not broadcast input array from shape (2116,257) into shape (2116,258)\n",
      "Time for Getting  0  random elements:  0:00:00.004154\n",
      "Invalid Range: could not broadcast input array from shape (2125,257) into shape (2125,258)\n",
      "Time for Getting  0  random elements:  0:00:00.004639\n"
     ]
    },
    {
     "name": "stderr",
     "output_type": "stream",
     "text": [
      "2018-10-16 23:59:21,758 - nn-real-hvd - INFO -   1596     1 95809.8     0.0   0.002 0.10000\n",
      "2018-10-16 23:59:21,758 - nn-real-hvd - INFO -   1596     1 95809.8     0.0   0.002 0.10000\n",
      "2018-10-16 23:59:21,809 - nn-real-hvd - INFO -   1597     1 94008.4     0.0   0.002 0.10000\n",
      "2018-10-16 23:59:21,809 - nn-real-hvd - INFO -   1597     1 94008.4     0.0   0.002 0.10000\n",
      "2018-10-16 23:59:21,856 - nn-real-hvd - INFO -   1598     1 96953.9     0.0   0.002 0.10000\n",
      "2018-10-16 23:59:21,856 - nn-real-hvd - INFO -   1598     1 96953.9     0.0   0.002 0.10000\n",
      "2018-10-16 23:59:21,905 - nn-real-hvd - INFO -   1599     1 94177.7     0.0   0.002 0.10000\n",
      "2018-10-16 23:59:21,905 - nn-real-hvd - INFO -   1599     1 94177.7     0.0   0.002 0.10000\n",
      "2018-10-16 23:59:21,954 - nn-real-hvd - INFO -   1600     1 94409.1     0.0   0.002 0.10000\n",
      "2018-10-16 23:59:21,954 - nn-real-hvd - INFO -   1600     1 94409.1     0.0   0.002 0.10000\n"
     ]
    },
    {
     "name": "stdout",
     "output_type": "stream",
     "text": [
      "Invalid Range: could not broadcast input array from shape (2105,257) into shape (2105,258)\n",
      "Time for Getting  0  random elements:  0:00:00.004100\n",
      "Invalid Range: could not broadcast input array from shape (2150,257) into shape (2150,258)\n",
      "Time for Getting  0  random elements:  0:00:00.004455\n",
      "Invalid Range: could not broadcast input array from shape (2146,257) into shape (2146,258)\n",
      "Time for Getting  0  random elements:  0:00:00.004460\n",
      "Invalid Range: could not broadcast input array from shape (2097,257) into shape (2097,258)\n",
      "Time for Getting  0  random elements:  0:00:00.004104\n",
      "Invalid Range: could not broadcast input array from shape (2159,257) into shape (2159,258)\n",
      "Time for Getting  0  random elements:  0:00:00.004308\n"
     ]
    },
    {
     "name": "stderr",
     "output_type": "stream",
     "text": [
      "2018-10-16 23:59:22,002 - nn-real-hvd - INFO -   1601     1 95331.5     0.0   0.002 0.10000\n",
      "2018-10-16 23:59:22,002 - nn-real-hvd - INFO -   1601     1 95331.5     0.0   0.002 0.10000\n",
      "2018-10-16 23:59:22,050 - nn-real-hvd - INFO -   1602     1 94845.7     0.0   0.002 0.10000\n",
      "2018-10-16 23:59:22,050 - nn-real-hvd - INFO -   1602     1 94845.7     0.0   0.002 0.10000\n",
      "2018-10-16 23:59:22,100 - nn-real-hvd - INFO -   1603     1 90937.9     0.0   0.002 0.10000\n",
      "2018-10-16 23:59:22,100 - nn-real-hvd - INFO -   1603     1 90937.9     0.0   0.002 0.10000\n",
      "2018-10-16 23:59:22,148 - nn-real-hvd - INFO -   1604     1 97071.6     0.0   0.002 0.10000\n",
      "2018-10-16 23:59:22,148 - nn-real-hvd - INFO -   1604     1 97071.6     0.0   0.002 0.10000\n",
      "2018-10-16 23:59:22,196 - nn-real-hvd - INFO -   1605     1 95368.2     0.0   0.002 0.10000\n",
      "2018-10-16 23:59:22,196 - nn-real-hvd - INFO -   1605     1 95368.2     0.0   0.002 0.10000\n"
     ]
    },
    {
     "name": "stdout",
     "output_type": "stream",
     "text": [
      "Invalid Range: could not broadcast input array from shape (2122,257) into shape (2122,258)\n",
      "Time for Getting  0  random elements:  0:00:00.004382\n",
      "Invalid Range: could not broadcast input array from shape (2144,257) into shape (2144,258)\n",
      "Time for Getting  0  random elements:  0:00:00.004330\n",
      "Invalid Range: could not broadcast input array from shape (2149,257) into shape (2149,258)\n",
      "Time for Getting  0  random elements:  0:00:00.004052\n",
      "Invalid Range: could not broadcast input array from shape (2170,257) into shape (2170,258)\n",
      "Time for Getting  0  random elements:  0:00:00.004538\n",
      "Invalid Range: could not broadcast input array from shape (2162,257) into shape (2162,258)\n",
      "Time for Getting  0  random elements:  0:00:00.004682\n"
     ]
    },
    {
     "name": "stderr",
     "output_type": "stream",
     "text": [
      "2018-10-16 23:59:22,245 - nn-real-hvd - INFO -   1606     1 92182.3     0.0   0.002 0.10000\n",
      "2018-10-16 23:59:22,245 - nn-real-hvd - INFO -   1606     1 92182.3     0.0   0.002 0.10000\n",
      "2018-10-16 23:59:22,292 - nn-real-hvd - INFO -   1607     1 98225.4     0.0   0.002 0.10000\n",
      "2018-10-16 23:59:22,292 - nn-real-hvd - INFO -   1607     1 98225.4     0.0   0.002 0.10000\n",
      "2018-10-16 23:59:22,338 - nn-real-hvd - INFO -   1608     1 99030.5     0.0   0.002 0.10000\n",
      "2018-10-16 23:59:22,338 - nn-real-hvd - INFO -   1608     1 99030.5     0.0   0.002 0.10000\n",
      "2018-10-16 23:59:22,385 - nn-real-hvd - INFO -   1609     1 98288.9     0.0   0.002 0.10000\n",
      "2018-10-16 23:59:22,385 - nn-real-hvd - INFO -   1609     1 98288.9     0.0   0.002 0.10000\n",
      "2018-10-16 23:59:22,433 - nn-real-hvd - INFO -   1610     1 93784.7     0.0   0.002 0.10000\n",
      "2018-10-16 23:59:22,433 - nn-real-hvd - INFO -   1610     1 93784.7     0.0   0.002 0.10000\n"
     ]
    },
    {
     "name": "stdout",
     "output_type": "stream",
     "text": [
      "Invalid Range: could not broadcast input array from shape (2141,257) into shape (2141,258)\n",
      "Time for Getting  0  random elements:  0:00:00.004091\n",
      "Invalid Range: could not broadcast input array from shape (2171,257) into shape (2171,258)\n",
      "Time for Getting  0  random elements:  0:00:00.004251\n",
      "Invalid Range: could not broadcast input array from shape (2175,257) into shape (2175,258)\n",
      "Time for Getting  0  random elements:  0:00:00.004183\n",
      "Invalid Range: could not broadcast input array from shape (2194,257) into shape (2194,258)\n",
      "Time for Getting  0  random elements:  0:00:00.003932\n",
      "Invalid Range: could not broadcast input array from shape (2173,257) into shape (2173,258)\n",
      "Time for Getting  0  random elements:  0:00:00.003880\n"
     ]
    },
    {
     "name": "stderr",
     "output_type": "stream",
     "text": [
      "2018-10-16 23:59:22,480 - nn-real-hvd - INFO -   1611     1 97073.6     0.0   0.002 0.10000\n",
      "2018-10-16 23:59:22,480 - nn-real-hvd - INFO -   1611     1 97073.6     0.0   0.002 0.10000\n",
      "2018-10-16 23:59:22,530 - nn-real-hvd - INFO -   1612     1 91037.0     0.0   0.002 0.10000\n",
      "2018-10-16 23:59:22,530 - nn-real-hvd - INFO -   1612     1 91037.0     0.0   0.002 0.10000\n",
      "2018-10-16 23:59:22,578 - nn-real-hvd - INFO -   1613     1 96898.8     0.0   0.002 0.10000\n",
      "2018-10-16 23:59:22,578 - nn-real-hvd - INFO -   1613     1 96898.8     0.0   0.002 0.10000\n",
      "2018-10-16 23:59:22,625 - nn-real-hvd - INFO -   1614     1 96603.2     0.0   0.002 0.10000\n",
      "2018-10-16 23:59:22,625 - nn-real-hvd - INFO -   1614     1 96603.2     0.0   0.002 0.10000\n",
      "2018-10-16 23:59:22,672 - nn-real-hvd - INFO -   1615     1 97596.8     0.0   0.002 0.10000\n",
      "2018-10-16 23:59:22,672 - nn-real-hvd - INFO -   1615     1 97596.8     0.0   0.002 0.10000\n"
     ]
    },
    {
     "name": "stdout",
     "output_type": "stream",
     "text": [
      "Invalid Range: could not broadcast input array from shape (2089,257) into shape (2089,258)\n",
      "Time for Getting  0  random elements:  0:00:00.004313\n",
      "Invalid Range: could not broadcast input array from shape (2116,257) into shape (2116,258)\n",
      "Time for Getting  0  random elements:  0:00:00.003984\n",
      "Invalid Range: could not broadcast input array from shape (2148,257) into shape (2148,258)\n",
      "Time for Getting  0  random elements:  0:00:00.003919\n",
      "Invalid Range: could not broadcast input array from shape (2164,257) into shape (2164,258)\n",
      "Time for Getting  0  random elements:  0:00:00.003906\n",
      "Invalid Range: could not broadcast input array from shape (2131,257) into shape (2131,258)\n",
      "Time for Getting  0  random elements:  0:00:00.004516\n"
     ]
    },
    {
     "name": "stderr",
     "output_type": "stream",
     "text": [
      "2018-10-16 23:59:22,721 - nn-real-hvd - INFO -   1616     1 93864.3     0.0   0.002 0.10000\n",
      "2018-10-16 23:59:22,721 - nn-real-hvd - INFO -   1616     1 93864.3     0.0   0.002 0.10000\n",
      "2018-10-16 23:59:22,770 - nn-real-hvd - INFO -   1617     1 93377.4     0.0   0.002 0.10000\n",
      "2018-10-16 23:59:22,770 - nn-real-hvd - INFO -   1617     1 93377.4     0.0   0.002 0.10000\n",
      "2018-10-16 23:59:22,821 - nn-real-hvd - INFO -   1618     1 90478.7     0.0   0.002 0.10000\n",
      "2018-10-16 23:59:22,821 - nn-real-hvd - INFO -   1618     1 90478.7     0.0   0.002 0.10000\n",
      "2018-10-16 23:59:22,871 - nn-real-hvd - INFO -   1619     1 91552.0     0.0   0.002 0.10000\n",
      "2018-10-16 23:59:22,871 - nn-real-hvd - INFO -   1619     1 91552.0     0.0   0.002 0.10000\n",
      "2018-10-16 23:59:22,920 - nn-real-hvd - INFO -   1620     1 93726.4     0.0   0.002 0.10000\n",
      "2018-10-16 23:59:22,920 - nn-real-hvd - INFO -   1620     1 93726.4     0.0   0.002 0.10000\n"
     ]
    },
    {
     "name": "stdout",
     "output_type": "stream",
     "text": [
      "Invalid Range: could not broadcast input array from shape (2101,257) into shape (2101,258)\n",
      "Time for Getting  0  random elements:  0:00:00.004602\n",
      "Invalid Range: could not broadcast input array from shape (2140,257) into shape (2140,258)\n",
      "Time for Getting  0  random elements:  0:00:00.004259\n",
      "Invalid Range: could not broadcast input array from shape (2140,257) into shape (2140,258)\n",
      "Time for Getting  0  random elements:  0:00:00.004531\n",
      "Invalid Range: could not broadcast input array from shape (2135,257) into shape (2135,258)\n",
      "Time for Getting  0  random elements:  0:00:00.004467\n",
      "Invalid Range: could not broadcast input array from shape (2124,257) into shape (2124,258)\n"
     ]
    },
    {
     "name": "stderr",
     "output_type": "stream",
     "text": [
      "2018-10-16 23:59:22,969 - nn-real-hvd - INFO -   1621     1 93713.1     0.0   0.002 0.10000\n",
      "2018-10-16 23:59:22,969 - nn-real-hvd - INFO -   1621     1 93713.1     0.0   0.002 0.10000\n",
      "2018-10-16 23:59:23,020 - nn-real-hvd - INFO -   1622     1 89331.1     0.0   0.002 0.10000\n",
      "2018-10-16 23:59:23,020 - nn-real-hvd - INFO -   1622     1 89331.1     0.0   0.002 0.10000\n",
      "2018-10-16 23:59:23,070 - nn-real-hvd - INFO -   1623     1 91023.6     0.0   0.002 0.10000\n",
      "2018-10-16 23:59:23,070 - nn-real-hvd - INFO -   1623     1 91023.6     0.0   0.002 0.10000\n",
      "2018-10-16 23:59:23,121 - nn-real-hvd - INFO -   1624     1 90954.9     0.0   0.002 0.10000\n",
      "2018-10-16 23:59:23,121 - nn-real-hvd - INFO -   1624     1 90954.9     0.0   0.002 0.10000\n"
     ]
    },
    {
     "name": "stdout",
     "output_type": "stream",
     "text": [
      "Time for Getting  0  random elements:  0:00:00.005042\n",
      "Invalid Range: could not broadcast input array from shape (2167,257) into shape (2167,258)\n",
      "Time for Getting  0  random elements:  0:00:00.004723\n",
      "Invalid Range: could not broadcast input array from shape (2150,257) into shape (2150,258)\n",
      "Time for Getting  0  random elements:  0:00:00.004112\n",
      "Invalid Range: could not broadcast input array from shape (2107,257) into shape (2107,258)\n",
      "Time for Getting  0  random elements:  0:00:00.004253\n",
      "Invalid Range: could not broadcast input array from shape (2212,257) into shape (2212,258)\n",
      "Time for Getting  0  random elements:  0:00:00.004250\n"
     ]
    },
    {
     "name": "stderr",
     "output_type": "stream",
     "text": [
      "2018-10-16 23:59:23,168 - nn-real-hvd - INFO -   1625     1 96571.5     0.0   0.002 0.10000\n",
      "2018-10-16 23:59:23,168 - nn-real-hvd - INFO -   1625     1 96571.5     0.0   0.002 0.10000\n",
      "2018-10-16 23:59:23,216 - nn-real-hvd - INFO -   1626     1 95891.5     0.0   0.002 0.10000\n",
      "2018-10-16 23:59:23,216 - nn-real-hvd - INFO -   1626     1 95891.5     0.0   0.002 0.10000\n",
      "2018-10-16 23:59:23,264 - nn-real-hvd - INFO -   1627     1 94459.1     0.0   0.002 0.10000\n",
      "2018-10-16 23:59:23,264 - nn-real-hvd - INFO -   1627     1 94459.1     0.0   0.002 0.10000\n",
      "2018-10-16 23:59:23,311 - nn-real-hvd - INFO -   1628     1 97486.6     0.0   0.002 0.10000\n",
      "2018-10-16 23:59:23,311 - nn-real-hvd - INFO -   1628     1 97486.6     0.0   0.002 0.10000\n",
      "2018-10-16 23:59:23,356 - nn-real-hvd - INFO -   1629     1 100884.9     0.0   0.002 0.10000\n",
      "2018-10-16 23:59:23,356 - nn-real-hvd - INFO -   1629     1 100884.9     0.0   0.002 0.10000\n"
     ]
    },
    {
     "name": "stdout",
     "output_type": "stream",
     "text": [
      "Invalid Range: could not broadcast input array from shape (2092,257) into shape (2092,258)\n",
      "Time for Getting  0  random elements:  0:00:00.004194\n",
      "Invalid Range: could not broadcast input array from shape (2148,257) into shape (2148,258)\n",
      "Time for Getting  0  random elements:  0:00:00.004428\n",
      "Invalid Range: could not broadcast input array from shape (2087,257) into shape (2087,258)\n",
      "Time for Getting  0  random elements:  0:00:00.004152\n",
      "Invalid Range: could not broadcast input array from shape (2172,257) into shape (2172,258)\n",
      "Time for Getting  0  random elements:  0:00:00.004099\n",
      "Invalid Range: could not broadcast input array from shape (2157,257) into shape (2157,258)\n",
      "Time for Getting  0  random elements:  0:00:00.004182\n"
     ]
    },
    {
     "name": "stderr",
     "output_type": "stream",
     "text": [
      "2018-10-16 23:59:23,404 - nn-real-hvd - INFO -   1630     1 96271.5     0.0   0.002 0.10000\n",
      "2018-10-16 23:59:23,404 - nn-real-hvd - INFO -   1630     1 96271.5     0.0   0.002 0.10000\n",
      "2018-10-16 23:59:23,450 - nn-real-hvd - INFO -   1631     1 99029.4     0.0   0.002 0.10000\n",
      "2018-10-16 23:59:23,450 - nn-real-hvd - INFO -   1631     1 99029.4     0.0   0.002 0.10000\n",
      "2018-10-16 23:59:23,501 - nn-real-hvd - INFO -   1632     1 89120.1     0.0   0.002 0.10000\n",
      "2018-10-16 23:59:23,501 - nn-real-hvd - INFO -   1632     1 89120.1     0.0   0.002 0.10000\n",
      "2018-10-16 23:59:23,550 - nn-real-hvd - INFO -   1633     1 97806.2     0.0   0.002 0.10000\n",
      "2018-10-16 23:59:23,550 - nn-real-hvd - INFO -   1633     1 97806.2     0.0   0.002 0.10000\n",
      "2018-10-16 23:59:23,598 - nn-real-hvd - INFO -   1634     1 94339.5     0.0   0.002 0.10000\n",
      "2018-10-16 23:59:23,598 - nn-real-hvd - INFO -   1634     1 94339.5     0.0   0.002 0.10000\n"
     ]
    },
    {
     "name": "stdout",
     "output_type": "stream",
     "text": [
      "Invalid Range: could not broadcast input array from shape (2156,257) into shape (2156,258)\n",
      "Time for Getting  0  random elements:  0:00:00.004244\n",
      "Invalid Range: could not broadcast input array from shape (2160,257) into shape (2160,258)\n",
      "Time for Getting  0  random elements:  0:00:00.004574\n",
      "Invalid Range: could not broadcast input array from shape (2102,257) into shape (2102,258)\n",
      "Time for Getting  0  random elements:  0:00:00.004216\n",
      "Invalid Range: could not broadcast input array from shape (2119,257) into shape (2119,258)\n",
      "Time for Getting  0  random elements:  0:00:00.004176\n",
      "Invalid Range: could not broadcast input array from shape (2115,257) into shape (2115,258)\n",
      "Time for Getting  0  random elements:  0:00:00.003746\n"
     ]
    },
    {
     "name": "stderr",
     "output_type": "stream",
     "text": [
      "2018-10-16 23:59:23,645 - nn-real-hvd - INFO -   1635     1 96913.4     0.0   0.002 0.10000\n",
      "2018-10-16 23:59:23,645 - nn-real-hvd - INFO -   1635     1 96913.4     0.0   0.002 0.10000\n",
      "2018-10-16 23:59:23,693 - nn-real-hvd - INFO -   1636     1 95529.7     0.0   0.002 0.10000\n",
      "2018-10-16 23:59:23,693 - nn-real-hvd - INFO -   1636     1 95529.7     0.0   0.002 0.10000\n",
      "2018-10-16 23:59:23,750 - nn-real-hvd - INFO -   1637     1 79618.5     0.1   0.002 0.10000\n",
      "2018-10-16 23:59:23,750 - nn-real-hvd - INFO -   1637     1 79618.5     0.1   0.002 0.10000\n",
      "2018-10-16 23:59:23,799 - nn-real-hvd - INFO -   1638     1 94939.9     0.0   0.002 0.10000\n",
      "2018-10-16 23:59:23,799 - nn-real-hvd - INFO -   1638     1 94939.9     0.0   0.002 0.10000\n",
      "2018-10-16 23:59:23,848 - nn-real-hvd - INFO -   1639     1 93729.7     0.0   0.002 0.10000\n",
      "2018-10-16 23:59:23,848 - nn-real-hvd - INFO -   1639     1 93729.7     0.0   0.002 0.10000\n"
     ]
    },
    {
     "name": "stdout",
     "output_type": "stream",
     "text": [
      "Invalid Range: could not broadcast input array from shape (2152,257) into shape (2152,258)\n",
      "Time for Getting  0  random elements:  0:00:00.003706\n",
      "Invalid Range: could not broadcast input array from shape (2147,257) into shape (2147,258)\n",
      "Time for Getting  0  random elements:  0:00:00.004024\n",
      "Invalid Range: could not broadcast input array from shape (2149,257) into shape (2149,258)\n",
      "Time for Getting  0  random elements:  0:00:00.004495\n",
      "Invalid Range: could not broadcast input array from shape (2151,257) into shape (2151,258)\n",
      "Time for Getting  0  random elements:  0:00:00.004418\n"
     ]
    },
    {
     "name": "stderr",
     "output_type": "stream",
     "text": [
      "2018-10-16 23:59:23,897 - nn-real-hvd - INFO -   1640     1 93005.9     0.0   0.002 0.10000\n",
      "2018-10-16 23:59:23,897 - nn-real-hvd - INFO -   1640     1 93005.9     0.0   0.002 0.10000\n",
      "2018-10-16 23:59:23,943 - nn-real-hvd - INFO -   1641     1 98481.9     0.0   0.002 0.10000\n",
      "2018-10-16 23:59:23,943 - nn-real-hvd - INFO -   1641     1 98481.9     0.0   0.002 0.10000\n",
      "2018-10-16 23:59:24,001 - nn-real-hvd - INFO -   1642     1 78930.5     0.1   0.002 0.10000\n",
      "2018-10-16 23:59:24,001 - nn-real-hvd - INFO -   1642     1 78930.5     0.1   0.002 0.10000\n",
      "2018-10-16 23:59:24,051 - nn-real-hvd - INFO -   1643     1 92702.6     0.0   0.002 0.10000\n",
      "2018-10-16 23:59:24,051 - nn-real-hvd - INFO -   1643     1 92702.6     0.0   0.002 0.10000\n"
     ]
    },
    {
     "name": "stdout",
     "output_type": "stream",
     "text": [
      "Invalid Range: could not broadcast input array from shape (2162,257) into shape (2162,258)\n",
      "Time for Getting  0  random elements:  0:00:00.004747\n",
      "Invalid Range: could not broadcast input array from shape (2139,257) into shape (2139,258)\n",
      "Time for Getting  0  random elements:  0:00:00.004426\n",
      "Invalid Range: could not broadcast input array from shape (2133,257) into shape (2133,258)\n",
      "Time for Getting  0  random elements:  0:00:00.004075\n",
      "Invalid Range: could not broadcast input array from shape (2133,257) into shape (2133,258)\n",
      "Time for Getting  0  random elements:  0:00:00.004103\n"
     ]
    },
    {
     "name": "stderr",
     "output_type": "stream",
     "text": [
      "2018-10-16 23:59:24,102 - nn-real-hvd - INFO -   1644     1 90128.0     0.0   0.002 0.10000\n",
      "2018-10-16 23:59:24,102 - nn-real-hvd - INFO -   1644     1 90128.0     0.0   0.002 0.10000\n",
      "2018-10-16 23:59:24,150 - nn-real-hvd - INFO -   1645     1 94062.2     0.0   0.002 0.10000\n",
      "2018-10-16 23:59:24,150 - nn-real-hvd - INFO -   1645     1 94062.2     0.0   0.002 0.10000\n",
      "2018-10-16 23:59:24,196 - nn-real-hvd - INFO -   1646     1 101536.7     0.0   0.002 0.10000\n",
      "2018-10-16 23:59:24,196 - nn-real-hvd - INFO -   1646     1 101536.7     0.0   0.002 0.10000\n",
      "2018-10-16 23:59:24,244 - nn-real-hvd - INFO -   1647     1 94721.8     0.0   0.002 0.10000\n",
      "2018-10-16 23:59:24,244 - nn-real-hvd - INFO -   1647     1 94721.8     0.0   0.002 0.10000\n"
     ]
    },
    {
     "name": "stdout",
     "output_type": "stream",
     "text": [
      "Invalid Range: could not broadcast input array from shape (2131,257) into shape (2131,258)\n",
      "Time for Getting  0  random elements:  0:00:00.005165\n",
      "Invalid Range: could not broadcast input array from shape (2181,257) into shape (2181,258)\n",
      "Time for Getting  0  random elements:  0:00:00.004619\n",
      "Invalid Range: could not broadcast input array from shape (2180,257) into shape (2180,258)\n",
      "Time for Getting  0  random elements:  0:00:00.003716\n",
      "Invalid Range: could not broadcast input array from shape (2127,257) into shape (2127,258)\n",
      "Time for Getting  0  random elements:  0:00:00.003672\n",
      "Invalid Range: could not broadcast input array from shape (2215,257) into shape (2215,258)\n",
      "Time for Getting  0  random elements:  0:00:00.003920\n"
     ]
    },
    {
     "name": "stderr",
     "output_type": "stream",
     "text": [
      "2018-10-16 23:59:24,295 - nn-real-hvd - INFO -   1648     1 89298.9     0.0   0.002 0.10000\n",
      "2018-10-16 23:59:24,295 - nn-real-hvd - INFO -   1648     1 89298.9     0.0   0.002 0.10000\n",
      "2018-10-16 23:59:24,344 - nn-real-hvd - INFO -   1649     1 93279.4     0.0   0.002 0.10000\n",
      "2018-10-16 23:59:24,344 - nn-real-hvd - INFO -   1649     1 93279.4     0.0   0.002 0.10000\n",
      "2018-10-16 23:59:24,391 - nn-real-hvd - INFO -   1650     1 97656.4     0.0   0.002 0.10000\n",
      "2018-10-16 23:59:24,391 - nn-real-hvd - INFO -   1650     1 97656.4     0.0   0.002 0.10000\n",
      "2018-10-16 23:59:24,440 - nn-real-hvd - INFO -   1651     1 93380.7     0.0   0.002 0.10000\n",
      "2018-10-16 23:59:24,440 - nn-real-hvd - INFO -   1651     1 93380.7     0.0   0.002 0.10000\n",
      "2018-10-16 23:59:24,491 - nn-real-hvd - INFO -   1652     1 89204.9     0.0   0.002 0.10000\n",
      "2018-10-16 23:59:24,491 - nn-real-hvd - INFO -   1652     1 89204.9     0.0   0.002 0.10000\n"
     ]
    },
    {
     "name": "stdout",
     "output_type": "stream",
     "text": [
      "Invalid Range: could not broadcast input array from shape (2094,257) into shape (2094,258)\n",
      "Time for Getting  0  random elements:  0:00:00.004644\n",
      "Invalid Range: could not broadcast input array from shape (2148,257) into shape (2148,258)\n",
      "Time for Getting  0  random elements:  0:00:00.003825\n",
      "Invalid Range: could not broadcast input array from shape (2073,257) into shape (2073,258)\n",
      "Time for Getting  0  random elements:  0:00:00.003752\n",
      "Invalid Range: could not broadcast input array from shape (2220,257) into shape (2220,258)\n",
      "Time for Getting  0  random elements:  0:00:00.004100\n",
      "Invalid Range: could not broadcast input array from shape (2148,257) into shape (2148,258)\n",
      "Time for Getting  0  random elements:  0:00:00.004264\n"
     ]
    },
    {
     "name": "stderr",
     "output_type": "stream",
     "text": [
      "2018-10-16 23:59:24,537 - nn-real-hvd - INFO -   1653     1 98769.6     0.0   0.002 0.10000\n",
      "2018-10-16 23:59:24,537 - nn-real-hvd - INFO -   1653     1 98769.6     0.0   0.002 0.10000\n",
      "2018-10-16 23:59:24,586 - nn-real-hvd - INFO -   1654     1 93021.8     0.0   0.002 0.10000\n",
      "2018-10-16 23:59:24,586 - nn-real-hvd - INFO -   1654     1 93021.8     0.0   0.002 0.10000\n",
      "2018-10-16 23:59:24,634 - nn-real-hvd - INFO -   1655     1 97326.6     0.0   0.002 0.10000\n",
      "2018-10-16 23:59:24,634 - nn-real-hvd - INFO -   1655     1 97326.6     0.0   0.002 0.10000\n",
      "2018-10-16 23:59:24,680 - nn-real-hvd - INFO -   1656     1 98322.2     0.0   0.002 0.10000\n",
      "2018-10-16 23:59:24,680 - nn-real-hvd - INFO -   1656     1 98322.2     0.0   0.002 0.10000\n",
      "2018-10-16 23:59:24,727 - nn-real-hvd - INFO -   1657     1 97691.9     0.0   0.002 0.10000\n",
      "2018-10-16 23:59:24,727 - nn-real-hvd - INFO -   1657     1 97691.9     0.0   0.002 0.10000\n"
     ]
    },
    {
     "name": "stdout",
     "output_type": "stream",
     "text": [
      "Invalid Range: could not broadcast input array from shape (2126,257) into shape (2126,258)\n",
      "Time for Getting  0  random elements:  0:00:00.004088\n",
      "Invalid Range: could not broadcast input array from shape (2079,257) into shape (2079,258)\n",
      "Time for Getting  0  random elements:  0:00:00.004342\n",
      "Invalid Range: could not broadcast input array from shape (2187,257) into shape (2187,258)\n",
      "Time for Getting  0  random elements:  0:00:00.003911\n",
      "Invalid Range: could not broadcast input array from shape (2160,257) into shape (2160,258)\n",
      "Time for Getting  0  random elements:  0:00:00.004061\n",
      "Invalid Range: could not broadcast input array from shape (2115,257) into shape (2115,258)\n",
      "Time for Getting  0  random elements:  0:00:00.004239\n"
     ]
    },
    {
     "name": "stderr",
     "output_type": "stream",
     "text": [
      "2018-10-16 23:59:24,777 - nn-real-hvd - INFO -   1658     1 92877.0     0.0   0.002 0.10000\n",
      "2018-10-16 23:59:24,777 - nn-real-hvd - INFO -   1658     1 92877.0     0.0   0.002 0.10000\n",
      "2018-10-16 23:59:24,834 - nn-real-hvd - INFO -   1659     1 79127.4     0.1   0.002 0.10000\n",
      "2018-10-16 23:59:24,834 - nn-real-hvd - INFO -   1659     1 79127.4     0.1   0.002 0.10000\n",
      "2018-10-16 23:59:24,882 - nn-real-hvd - INFO -   1660     1 95957.9     0.0   0.002 0.10000\n",
      "2018-10-16 23:59:24,882 - nn-real-hvd - INFO -   1660     1 95957.9     0.0   0.002 0.10000\n",
      "2018-10-16 23:59:24,930 - nn-real-hvd - INFO -   1661     1 95601.5     0.0   0.002 0.10000\n",
      "2018-10-16 23:59:24,930 - nn-real-hvd - INFO -   1661     1 95601.5     0.0   0.002 0.10000\n",
      "2018-10-16 23:59:24,979 - nn-real-hvd - INFO -   1662     1 95258.1     0.0   0.002 0.10000\n",
      "2018-10-16 23:59:24,979 - nn-real-hvd - INFO -   1662     1 95258.1     0.0   0.002 0.10000\n"
     ]
    },
    {
     "name": "stdout",
     "output_type": "stream",
     "text": [
      "Invalid Range: could not broadcast input array from shape (2197,257) into shape (2197,258)\n",
      "Time for Getting  0  random elements:  0:00:00.004142\n",
      "Invalid Range: could not broadcast input array from shape (2088,257) into shape (2088,258)\n",
      "Time for Getting  0  random elements:  0:00:00.003863\n",
      "Invalid Range: could not broadcast input array from shape (2150,257) into shape (2150,258)\n",
      "Time for Getting  0  random elements:  0:00:00.004142\n",
      "Invalid Range: could not broadcast input array from shape (2155,257) into shape (2155,258)\n",
      "Time for Getting  0  random elements:  0:00:00.004444\n"
     ]
    },
    {
     "name": "stderr",
     "output_type": "stream",
     "text": [
      "2018-10-16 23:59:25,026 - nn-real-hvd - INFO -   1663     1 97466.1     0.0   0.002 0.10000\n",
      "2018-10-16 23:59:25,026 - nn-real-hvd - INFO -   1663     1 97466.1     0.0   0.002 0.10000\n",
      "2018-10-16 23:59:25,078 - nn-real-hvd - INFO -   1664     1 88127.8     0.1   0.002 0.10000\n",
      "2018-10-16 23:59:25,078 - nn-real-hvd - INFO -   1664     1 88127.8     0.1   0.002 0.10000\n",
      "2018-10-16 23:59:25,125 - nn-real-hvd - INFO -   1665     1 99059.5     0.0   0.002 0.10000\n",
      "2018-10-16 23:59:25,125 - nn-real-hvd - INFO -   1665     1 99059.5     0.0   0.002 0.10000\n",
      "2018-10-16 23:59:25,172 - nn-real-hvd - INFO -   1666     1 96059.2     0.0   0.002 0.10000\n",
      "2018-10-16 23:59:25,172 - nn-real-hvd - INFO -   1666     1 96059.2     0.0   0.002 0.10000\n"
     ]
    },
    {
     "name": "stdout",
     "output_type": "stream",
     "text": [
      "Invalid Range: could not broadcast input array from shape (2132,257) into shape (2132,258)\n",
      "Time for Getting  0  random elements:  0:00:00.004697\n",
      "Invalid Range: could not broadcast input array from shape (2217,257) into shape (2217,258)\n",
      "Time for Getting  0  random elements:  0:00:00.004368\n",
      "Invalid Range: could not broadcast input array from shape (2101,257) into shape (2101,258)\n",
      "Time for Getting  0  random elements:  0:00:00.004249\n",
      "Invalid Range: could not broadcast input array from shape (2040,257) into shape (2040,258)\n",
      "Time for Getting  0  random elements:  0:00:00.003971\n",
      "Invalid Range: could not broadcast input array from shape (2152,257) into shape (2152,258)\n",
      "Time for Getting  0  random elements:  0:00:00.004323\n"
     ]
    },
    {
     "name": "stderr",
     "output_type": "stream",
     "text": [
      "2018-10-16 23:59:25,221 - nn-real-hvd - INFO -   1667     1 95225.3     0.0   0.002 0.10000\n",
      "2018-10-16 23:59:25,221 - nn-real-hvd - INFO -   1667     1 95225.3     0.0   0.002 0.10000\n",
      "2018-10-16 23:59:25,269 - nn-real-hvd - INFO -   1668     1 93418.3     0.0   0.002 0.10000\n",
      "2018-10-16 23:59:25,269 - nn-real-hvd - INFO -   1668     1 93418.3     0.0   0.002 0.10000\n",
      "2018-10-16 23:59:25,318 - nn-real-hvd - INFO -   1669     1 93407.1     0.0   0.002 0.10000\n",
      "2018-10-16 23:59:25,318 - nn-real-hvd - INFO -   1669     1 93407.1     0.0   0.002 0.10000\n",
      "2018-10-16 23:59:25,369 - nn-real-hvd - INFO -   1670     1 90115.8     0.0   0.002 0.10000\n",
      "2018-10-16 23:59:25,369 - nn-real-hvd - INFO -   1670     1 90115.8     0.0   0.002 0.10000\n",
      "2018-10-16 23:59:25,417 - nn-real-hvd - INFO -   1671     1 96101.0     0.0   0.002 0.10000\n",
      "2018-10-16 23:59:25,417 - nn-real-hvd - INFO -   1671     1 96101.0     0.0   0.002 0.10000\n"
     ]
    },
    {
     "name": "stdout",
     "output_type": "stream",
     "text": [
      "Invalid Range: could not broadcast input array from shape (2095,257) into shape (2095,258)\n",
      "Time for Getting  0  random elements:  0:00:00.004155\n",
      "Invalid Range: could not broadcast input array from shape (2140,257) into shape (2140,258)\n",
      "Time for Getting  0  random elements:  0:00:00.004147\n",
      "Invalid Range: could not broadcast input array from shape (2165,257) into shape (2165,258)\n",
      "Time for Getting  0  random elements:  0:00:00.004346\n",
      "Invalid Range: could not broadcast input array from shape (2099,257) into shape (2099,258)\n",
      "Time for Getting  0  random elements:  0:00:00.004466\n",
      "Invalid Range: could not broadcast input array from shape (2152,257) into shape (2152,258)\n",
      "Time for Getting  0  random elements:  0:00:00.003954\n"
     ]
    },
    {
     "name": "stderr",
     "output_type": "stream",
     "text": [
      "2018-10-16 23:59:25,467 - nn-real-hvd - INFO -   1672     1 91065.5     0.0   0.002 0.10000\n",
      "2018-10-16 23:59:25,467 - nn-real-hvd - INFO -   1672     1 91065.5     0.0   0.002 0.10000\n",
      "2018-10-16 23:59:25,516 - nn-real-hvd - INFO -   1673     1 92320.8     0.0   0.002 0.10000\n",
      "2018-10-16 23:59:25,516 - nn-real-hvd - INFO -   1673     1 92320.8     0.0   0.002 0.10000\n",
      "2018-10-16 23:59:25,566 - nn-real-hvd - INFO -   1674     1 92042.8     0.0   0.002 0.10000\n",
      "2018-10-16 23:59:25,566 - nn-real-hvd - INFO -   1674     1 92042.8     0.0   0.002 0.10000\n",
      "2018-10-16 23:59:25,615 - nn-real-hvd - INFO -   1675     1 92538.9     0.0   0.002 0.10000\n",
      "2018-10-16 23:59:25,615 - nn-real-hvd - INFO -   1675     1 92538.9     0.0   0.002 0.10000\n",
      "2018-10-16 23:59:25,663 - nn-real-hvd - INFO -   1676     1 95486.9     0.0   0.002 0.10000\n",
      "2018-10-16 23:59:25,663 - nn-real-hvd - INFO -   1676     1 95486.9     0.0   0.002 0.10000\n"
     ]
    },
    {
     "name": "stdout",
     "output_type": "stream",
     "text": [
      "Invalid Range: could not broadcast input array from shape (2108,257) into shape (2108,258)\n",
      "Time for Getting  0  random elements:  0:00:00.003880\n",
      "Invalid Range: could not broadcast input array from shape (2156,257) into shape (2156,258)\n",
      "Time for Getting  0  random elements:  0:00:00.004056\n",
      "Invalid Range: could not broadcast input array from shape (2125,257) into shape (2125,258)\n",
      "Time for Getting  0  random elements:  0:00:00.003863\n",
      "Invalid Range: could not broadcast input array from shape (2120,257) into shape (2120,258)\n",
      "Time for Getting  0  random elements:  0:00:00.003878\n",
      "Invalid Range: could not broadcast input array from shape (2141,257) into shape (2141,258)\n",
      "Time for Getting  0  random elements:  0:00:00.004109\n"
     ]
    },
    {
     "name": "stderr",
     "output_type": "stream",
     "text": [
      "2018-10-16 23:59:25,711 - nn-real-hvd - INFO -   1677     1 96947.4     0.0   0.002 0.10000\n",
      "2018-10-16 23:59:25,711 - nn-real-hvd - INFO -   1677     1 96947.4     0.0   0.002 0.10000\n",
      "2018-10-16 23:59:25,759 - nn-real-hvd - INFO -   1678     1 95488.9     0.0   0.002 0.10000\n",
      "2018-10-16 23:59:25,759 - nn-real-hvd - INFO -   1678     1 95488.9     0.0   0.002 0.10000\n",
      "2018-10-16 23:59:25,807 - nn-real-hvd - INFO -   1679     1 95504.1     0.0   0.002 0.10000\n",
      "2018-10-16 23:59:25,807 - nn-real-hvd - INFO -   1679     1 95504.1     0.0   0.002 0.10000\n",
      "2018-10-16 23:59:25,855 - nn-real-hvd - INFO -   1680     1 96665.1     0.0   0.002 0.10000\n",
      "2018-10-16 23:59:25,855 - nn-real-hvd - INFO -   1680     1 96665.1     0.0   0.002 0.10000\n",
      "2018-10-16 23:59:25,902 - nn-real-hvd - INFO -   1681     1 97508.6     0.0   0.002 0.10000\n",
      "2018-10-16 23:59:25,902 - nn-real-hvd - INFO -   1681     1 97508.6     0.0   0.002 0.10000\n"
     ]
    },
    {
     "name": "stdout",
     "output_type": "stream",
     "text": [
      "Invalid Range: could not broadcast input array from shape (2145,257) into shape (2145,258)\n",
      "Time for Getting  0  random elements:  0:00:00.004440\n",
      "Invalid Range: could not broadcast input array from shape (2160,257) into shape (2160,258)\n",
      "Time for Getting  0  random elements:  0:00:00.004491\n",
      "Invalid Range: could not broadcast input array from shape (2156,257) into shape (2156,258)\n",
      "Time for Getting  0  random elements:  0:00:00.004095\n",
      "Invalid Range: could not broadcast input array from shape (2129,257) into shape (2129,258)\n",
      "Time for Getting  0  random elements:  0:00:00.004012\n",
      "Invalid Range: could not broadcast input array from shape (2121,257) into shape (2121,258)\n",
      "Time for Getting  0  random elements:  0:00:00.004384\n"
     ]
    },
    {
     "name": "stderr",
     "output_type": "stream",
     "text": [
      "2018-10-16 23:59:25,953 - nn-real-hvd - INFO -   1682     1 89478.9     0.0   0.002 0.10000\n",
      "2018-10-16 23:59:25,953 - nn-real-hvd - INFO -   1682     1 89478.9     0.0   0.002 0.10000\n",
      "2018-10-16 23:59:26,003 - nn-real-hvd - INFO -   1683     1 91771.6     0.0   0.002 0.10000\n",
      "2018-10-16 23:59:26,003 - nn-real-hvd - INFO -   1683     1 91771.6     0.0   0.002 0.10000\n",
      "2018-10-16 23:59:26,053 - nn-real-hvd - INFO -   1684     1 90458.4     0.0   0.002 0.10000\n",
      "2018-10-16 23:59:26,053 - nn-real-hvd - INFO -   1684     1 90458.4     0.0   0.002 0.10000\n",
      "2018-10-16 23:59:26,104 - nn-real-hvd - INFO -   1685     1 89775.8     0.0   0.002 0.10000\n",
      "2018-10-16 23:59:26,104 - nn-real-hvd - INFO -   1685     1 89775.8     0.0   0.002 0.10000\n",
      "2018-10-16 23:59:26,164 - nn-real-hvd - INFO -   1686     1 77998.7     0.1   0.002 0.10000\n",
      "2018-10-16 23:59:26,164 - nn-real-hvd - INFO -   1686     1 77998.7     0.1   0.002 0.10000\n"
     ]
    },
    {
     "name": "stdout",
     "output_type": "stream",
     "text": [
      "Invalid Range: could not broadcast input array from shape (2131,257) into shape (2131,258)\n",
      "Time for Getting  0  random elements:  0:00:00.003963\n",
      "Invalid Range: could not broadcast input array from shape (2117,257) into shape (2117,258)\n",
      "Time for Getting  0  random elements:  0:00:00.004410\n",
      "Invalid Range: could not broadcast input array from shape (2151,257) into shape (2151,258)\n",
      "Time for Getting  0  random elements:  0:00:00.004435\n",
      "Invalid Range: could not broadcast input array from shape (2144,257) into shape (2144,258)\n",
      "Time for Getting  0  random elements:  0:00:00.003920\n"
     ]
    },
    {
     "name": "stderr",
     "output_type": "stream",
     "text": [
      "2018-10-16 23:59:26,211 - nn-real-hvd - INFO -   1687     1 95622.2     0.0   0.002 0.10000\n",
      "2018-10-16 23:59:26,211 - nn-real-hvd - INFO -   1687     1 95622.2     0.0   0.002 0.10000\n",
      "2018-10-16 23:59:26,259 - nn-real-hvd - INFO -   1688     1 96076.6     0.0   0.002 0.10000\n",
      "2018-10-16 23:59:26,259 - nn-real-hvd - INFO -   1688     1 96076.6     0.0   0.002 0.10000\n",
      "2018-10-16 23:59:26,308 - nn-real-hvd - INFO -   1689     1 95129.7     0.0   0.002 0.10000\n",
      "2018-10-16 23:59:26,308 - nn-real-hvd - INFO -   1689     1 95129.7     0.0   0.002 0.10000\n",
      "2018-10-16 23:59:26,356 - nn-real-hvd - INFO -   1690     1 97381.3     0.0   0.002 0.10000\n",
      "2018-10-16 23:59:26,356 - nn-real-hvd - INFO -   1690     1 97381.3     0.0   0.002 0.10000\n"
     ]
    },
    {
     "name": "stdout",
     "output_type": "stream",
     "text": [
      "Invalid Range: could not broadcast input array from shape (2126,257) into shape (2126,258)\n",
      "Time for Getting  0  random elements:  0:00:00.005112\n",
      "Invalid Range: could not broadcast input array from shape (2175,257) into shape (2175,258)\n",
      "Time for Getting  0  random elements:  0:00:00.004416\n",
      "Invalid Range: could not broadcast input array from shape (2149,257) into shape (2149,258)\n",
      "Time for Getting  0  random elements:  0:00:00.004091\n",
      "Invalid Range: could not broadcast input array from shape (2127,257) into shape (2127,258)\n",
      "Time for Getting  0  random elements:  0:00:00.004124\n",
      "Invalid Range: could not broadcast input array from shape (2097,257) into shape (2097,258)\n",
      "Time for Getting  0  random elements:  0:00:00.004204\n"
     ]
    },
    {
     "name": "stderr",
     "output_type": "stream",
     "text": [
      "2018-10-16 23:59:26,405 - nn-real-hvd - INFO -   1691     1 92604.0     0.0   0.002 0.10000\n",
      "2018-10-16 23:59:26,405 - nn-real-hvd - INFO -   1691     1 92604.0     0.0   0.002 0.10000\n",
      "2018-10-16 23:59:26,452 - nn-real-hvd - INFO -   1692     1 98458.4     0.0   0.002 0.10000\n",
      "2018-10-16 23:59:26,452 - nn-real-hvd - INFO -   1692     1 98458.4     0.0   0.002 0.10000\n",
      "2018-10-16 23:59:26,500 - nn-real-hvd - INFO -   1693     1 94409.1     0.0   0.002 0.10000\n",
      "2018-10-16 23:59:26,500 - nn-real-hvd - INFO -   1693     1 94409.1     0.0   0.002 0.10000\n",
      "2018-10-16 23:59:26,546 - nn-real-hvd - INFO -   1694     1 98828.5     0.0   0.002 0.10000\n",
      "2018-10-16 23:59:26,546 - nn-real-hvd - INFO -   1694     1 98828.5     0.0   0.002 0.10000\n",
      "2018-10-16 23:59:26,593 - nn-real-hvd - INFO -   1695     1 97688.8     0.0   0.002 0.10000\n",
      "2018-10-16 23:59:26,593 - nn-real-hvd - INFO -   1695     1 97688.8     0.0   0.002 0.10000\n"
     ]
    },
    {
     "name": "stdout",
     "output_type": "stream",
     "text": [
      "Invalid Range: could not broadcast input array from shape (2125,257) into shape (2125,258)\n",
      "Time for Getting  0  random elements:  0:00:00.003960\n",
      "Invalid Range: could not broadcast input array from shape (2069,257) into shape (2069,258)\n",
      "Time for Getting  0  random elements:  0:00:00.004018\n",
      "Invalid Range: could not broadcast input array from shape (2082,257) into shape (2082,258)\n",
      "Time for Getting  0  random elements:  0:00:00.003701\n",
      "Invalid Range: could not broadcast input array from shape (2174,257) into shape (2174,258)\n",
      "Time for Getting  0  random elements:  0:00:00.004269\n",
      "Invalid Range: could not broadcast input array from shape (2145,257) into shape (2145,258)\n",
      "Time for Getting  0  random elements:  0:00:00.004235\n"
     ]
    },
    {
     "name": "stderr",
     "output_type": "stream",
     "text": [
      "2018-10-16 23:59:26,641 - nn-real-hvd - INFO -   1696     1 94398.6     0.0   0.002 0.10000\n",
      "2018-10-16 23:59:26,641 - nn-real-hvd - INFO -   1696     1 94398.6     0.0   0.002 0.10000\n",
      "2018-10-16 23:59:26,691 - nn-real-hvd - INFO -   1697     1 91898.8     0.0   0.002 0.10000\n",
      "2018-10-16 23:59:26,691 - nn-real-hvd - INFO -   1697     1 91898.8     0.0   0.002 0.10000\n",
      "2018-10-16 23:59:26,741 - nn-real-hvd - INFO -   1698     1 90061.6     0.0   0.002 0.10000\n",
      "2018-10-16 23:59:26,741 - nn-real-hvd - INFO -   1698     1 90061.6     0.0   0.002 0.10000\n",
      "2018-10-16 23:59:26,792 - nn-real-hvd - INFO -   1699     1 90275.3     0.0   0.002 0.10000\n",
      "2018-10-16 23:59:26,792 - nn-real-hvd - INFO -   1699     1 90275.3     0.0   0.002 0.10000\n",
      "2018-10-16 23:59:26,842 - nn-real-hvd - INFO -   1700     1 91767.1     0.0   0.002 0.10000\n",
      "2018-10-16 23:59:26,842 - nn-real-hvd - INFO -   1700     1 91767.1     0.0   0.002 0.10000\n"
     ]
    },
    {
     "name": "stdout",
     "output_type": "stream",
     "text": [
      "Invalid Range: could not broadcast input array from shape (2073,257) into shape (2073,258)\n",
      "Time for Getting  0  random elements:  0:00:00.003736\n",
      "Invalid Range: could not broadcast input array from shape (2135,257) into shape (2135,258)\n",
      "Time for Getting  0  random elements:  0:00:00.004153\n",
      "Invalid Range: could not broadcast input array from shape (2105,257) into shape (2105,258)\n",
      "Time for Getting  0  random elements:  0:00:00.004179\n",
      "Invalid Range: could not broadcast input array from shape (2168,257) into shape (2168,258)\n",
      "Time for Getting  0  random elements:  0:00:00.004154\n"
     ]
    },
    {
     "name": "stderr",
     "output_type": "stream",
     "text": [
      "2018-10-16 23:59:26,893 - nn-real-hvd - INFO -   1701     1 88618.0     0.0   0.002 0.10000\n",
      "2018-10-16 23:59:26,893 - nn-real-hvd - INFO -   1701     1 88618.0     0.0   0.002 0.10000\n",
      "2018-10-16 23:59:26,943 - nn-real-hvd - INFO -   1702     1 92318.9     0.0   0.002 0.10000\n",
      "2018-10-16 23:59:26,943 - nn-real-hvd - INFO -   1702     1 92318.9     0.0   0.002 0.10000\n",
      "2018-10-16 23:59:26,993 - nn-real-hvd - INFO -   1703     1 94231.8     0.0   0.002 0.10000\n",
      "2018-10-16 23:59:26,993 - nn-real-hvd - INFO -   1703     1 94231.8     0.0   0.002 0.10000\n",
      "2018-10-16 23:59:27,041 - nn-real-hvd - INFO -   1704     1 94779.9     0.0   0.002 0.10000\n",
      "2018-10-16 23:59:27,041 - nn-real-hvd - INFO -   1704     1 94779.9     0.0   0.002 0.10000\n"
     ]
    },
    {
     "name": "stdout",
     "output_type": "stream",
     "text": [
      "Invalid Range: could not broadcast input array from shape (2138,257) into shape (2138,258)\n",
      "Time for Getting  0  random elements:  0:00:00.005229\n",
      "Invalid Range: could not broadcast input array from shape (2089,257) into shape (2089,258)\n",
      "Time for Getting  0  random elements:  0:00:00.003815\n",
      "Invalid Range: could not broadcast input array from shape (2113,257) into shape (2113,258)\n",
      "Time for Getting  0  random elements:  0:00:00.003988\n",
      "Invalid Range: could not broadcast input array from shape (2123,257) into shape (2123,258)\n",
      "Time for Getting  0  random elements:  0:00:00.004479\n",
      "Invalid Range: could not broadcast input array from shape (2215,257) into shape (2215,258)\n"
     ]
    },
    {
     "name": "stderr",
     "output_type": "stream",
     "text": [
      "2018-10-16 23:59:27,091 - nn-real-hvd - INFO -   1705     1 95909.3     0.0   0.002 0.10000\n",
      "2018-10-16 23:59:27,091 - nn-real-hvd - INFO -   1705     1 95909.3     0.0   0.002 0.10000\n",
      "2018-10-16 23:59:27,140 - nn-real-hvd - INFO -   1706     1 92316.2     0.0   0.002 0.10000\n",
      "2018-10-16 23:59:27,140 - nn-real-hvd - INFO -   1706     1 92316.2     0.0   0.002 0.10000\n",
      "2018-10-16 23:59:27,190 - nn-real-hvd - INFO -   1707     1 92568.5     0.0   0.002 0.10000\n",
      "2018-10-16 23:59:27,190 - nn-real-hvd - INFO -   1707     1 92568.5     0.0   0.002 0.10000\n",
      "2018-10-16 23:59:27,250 - nn-real-hvd - INFO -   1708     1 75355.7     0.1   0.002 0.10000\n",
      "2018-10-16 23:59:27,250 - nn-real-hvd - INFO -   1708     1 75355.7     0.1   0.002 0.10000\n"
     ]
    },
    {
     "name": "stdout",
     "output_type": "stream",
     "text": [
      "Time for Getting  0  random elements:  0:00:00.004296\n",
      "Invalid Range: could not broadcast input array from shape (2113,257) into shape (2113,258)\n",
      "Time for Getting  0  random elements:  0:00:00.004103\n",
      "Invalid Range: could not broadcast input array from shape (2122,257) into shape (2122,258)\n",
      "Time for Getting  0  random elements:  0:00:00.003985\n",
      "Invalid Range: could not broadcast input array from shape (2125,257) into shape (2125,258)\n",
      "Time for Getting  0  random elements:  0:00:00.004101\n"
     ]
    },
    {
     "name": "stderr",
     "output_type": "stream",
     "text": [
      "2018-10-16 23:59:27,300 - nn-real-hvd - INFO -   1709     1 91992.2     0.0   0.002 0.10000\n",
      "2018-10-16 23:59:27,300 - nn-real-hvd - INFO -   1709     1 91992.2     0.0   0.002 0.10000\n",
      "2018-10-16 23:59:27,349 - nn-real-hvd - INFO -   1710     1 93868.1     0.0   0.002 0.10000\n",
      "2018-10-16 23:59:27,349 - nn-real-hvd - INFO -   1710     1 93868.1     0.0   0.002 0.10000\n",
      "2018-10-16 23:59:27,396 - nn-real-hvd - INFO -   1711     1 95853.8     0.0   0.002 0.10000\n",
      "2018-10-16 23:59:27,396 - nn-real-hvd - INFO -   1711     1 95853.8     0.0   0.002 0.10000\n",
      "2018-10-16 23:59:27,441 - nn-real-hvd - INFO -   1712     1 103145.5     0.0   0.002 0.10000\n",
      "2018-10-16 23:59:27,441 - nn-real-hvd - INFO -   1712     1 103145.5     0.0   0.002 0.10000\n"
     ]
    },
    {
     "name": "stdout",
     "output_type": "stream",
     "text": [
      "Invalid Range: could not broadcast input array from shape (2110,257) into shape (2110,258)\n",
      "Time for Getting  0  random elements:  0:00:00.004871\n",
      "Invalid Range: could not broadcast input array from shape (2153,257) into shape (2153,258)\n",
      "Time for Getting  0  random elements:  0:00:00.004225\n",
      "Invalid Range: could not broadcast input array from shape (2175,257) into shape (2175,258)\n",
      "Time for Getting  0  random elements:  0:00:00.004346\n",
      "Invalid Range: could not broadcast input array from shape (2109,257) into shape (2109,258)\n",
      "Time for Getting  0  random elements:  0:00:00.003907\n",
      "Invalid Range: could not broadcast input array from shape (2180,257) into shape (2180,258)\n",
      "Time for Getting  0  random elements:  0:00:00.005119\n"
     ]
    },
    {
     "name": "stderr",
     "output_type": "stream",
     "text": [
      "2018-10-16 23:59:27,488 - nn-real-hvd - INFO -   1713     1 96820.4     0.0   0.002 0.10000\n",
      "2018-10-16 23:59:27,488 - nn-real-hvd - INFO -   1713     1 96820.4     0.0   0.002 0.10000\n",
      "2018-10-16 23:59:27,536 - nn-real-hvd - INFO -   1714     1 94323.2     0.0   0.002 0.10000\n",
      "2018-10-16 23:59:27,536 - nn-real-hvd - INFO -   1714     1 94323.2     0.0   0.002 0.10000\n",
      "2018-10-16 23:59:27,585 - nn-real-hvd - INFO -   1715     1 95043.9     0.0   0.002 0.10000\n",
      "2018-10-16 23:59:27,585 - nn-real-hvd - INFO -   1715     1 95043.9     0.0   0.002 0.10000\n",
      "2018-10-16 23:59:27,633 - nn-real-hvd - INFO -   1716     1 94651.3     0.0   0.002 0.10000\n",
      "2018-10-16 23:59:27,633 - nn-real-hvd - INFO -   1716     1 94651.3     0.0   0.002 0.10000\n",
      "2018-10-16 23:59:27,683 - nn-real-hvd - INFO -   1717     1 92326.3     0.0   0.002 0.10000\n",
      "2018-10-16 23:59:27,683 - nn-real-hvd - INFO -   1717     1 92326.3     0.0   0.002 0.10000\n"
     ]
    },
    {
     "name": "stdout",
     "output_type": "stream",
     "text": [
      "Invalid Range: could not broadcast input array from shape (2173,257) into shape (2173,258)\n",
      "Time for Getting  0  random elements:  0:00:00.003923\n",
      "Invalid Range: could not broadcast input array from shape (2160,257) into shape (2160,258)\n",
      "Time for Getting  0  random elements:  0:00:00.003813\n",
      "Invalid Range: could not broadcast input array from shape (2141,257) into shape (2141,258)\n",
      "Time for Getting  0  random elements:  0:00:00.004004\n",
      "Invalid Range: could not broadcast input array from shape (2181,257) into shape (2181,258)\n",
      "Time for Getting  0  random elements:  0:00:00.004037\n",
      "Invalid Range: could not broadcast input array from shape (2083,257) into shape (2083,258)\n",
      "Time for Getting  0  random elements:  0:00:00.003703\n"
     ]
    },
    {
     "name": "stderr",
     "output_type": "stream",
     "text": [
      "2018-10-16 23:59:27,730 - nn-real-hvd - INFO -   1718     1 96555.0     0.0   0.002 0.10000\n",
      "2018-10-16 23:59:27,730 - nn-real-hvd - INFO -   1718     1 96555.0     0.0   0.002 0.10000\n",
      "2018-10-16 23:59:27,777 - nn-real-hvd - INFO -   1719     1 96702.4     0.0   0.002 0.10000\n",
      "2018-10-16 23:59:27,777 - nn-real-hvd - INFO -   1719     1 96702.4     0.0   0.002 0.10000\n",
      "2018-10-16 23:59:27,830 - nn-real-hvd - INFO -   1720     1 86485.1     0.1   0.002 0.10000\n",
      "2018-10-16 23:59:27,830 - nn-real-hvd - INFO -   1720     1 86485.1     0.1   0.002 0.10000\n",
      "2018-10-16 23:59:27,880 - nn-real-hvd - INFO -   1721     1 92386.0     0.0   0.002 0.10000\n",
      "2018-10-16 23:59:27,880 - nn-real-hvd - INFO -   1721     1 92386.0     0.0   0.002 0.10000\n",
      "2018-10-16 23:59:27,931 - nn-real-hvd - INFO -   1722     1 90575.8     0.0   0.002 0.10000\n",
      "2018-10-16 23:59:27,931 - nn-real-hvd - INFO -   1722     1 90575.8     0.0   0.002 0.10000\n"
     ]
    },
    {
     "name": "stdout",
     "output_type": "stream",
     "text": [
      "Invalid Range: could not broadcast input array from shape (2147,257) into shape (2147,258)\n",
      "Time for Getting  0  random elements:  0:00:00.003749\n",
      "Invalid Range: could not broadcast input array from shape (2185,257) into shape (2185,258)\n",
      "Time for Getting  0  random elements:  0:00:00.004278\n",
      "Invalid Range: could not broadcast input array from shape (2154,257) into shape (2154,258)\n",
      "Time for Getting  0  random elements:  0:00:00.003950\n",
      "Invalid Range: could not broadcast input array from shape (2088,257) into shape (2088,258)\n",
      "Time for Getting  0  random elements:  0:00:00.004529\n",
      "Invalid Range: could not broadcast input array from shape (2101,257) into shape (2101,258)\n"
     ]
    },
    {
     "name": "stderr",
     "output_type": "stream",
     "text": [
      "2018-10-16 23:59:27,979 - nn-real-hvd - INFO -   1723     1 94783.7     0.0   0.002 0.10000\n",
      "2018-10-16 23:59:27,979 - nn-real-hvd - INFO -   1723     1 94783.7     0.0   0.002 0.10000\n",
      "2018-10-16 23:59:28,026 - nn-real-hvd - INFO -   1724     1 98497.0     0.0   0.002 0.10000\n",
      "2018-10-16 23:59:28,026 - nn-real-hvd - INFO -   1724     1 98497.0     0.0   0.002 0.10000\n",
      "2018-10-16 23:59:28,074 - nn-real-hvd - INFO -   1725     1 93594.1     0.0   0.002 0.10000\n",
      "2018-10-16 23:59:28,074 - nn-real-hvd - INFO -   1725     1 93594.1     0.0   0.002 0.10000\n",
      "2018-10-16 23:59:28,124 - nn-real-hvd - INFO -   1726     1 93197.4     0.0   0.002 0.10000\n",
      "2018-10-16 23:59:28,124 - nn-real-hvd - INFO -   1726     1 93197.4     0.0   0.002 0.10000\n"
     ]
    },
    {
     "name": "stdout",
     "output_type": "stream",
     "text": [
      "Time for Getting  0  random elements:  0:00:00.004325\n",
      "Invalid Range: could not broadcast input array from shape (2106,257) into shape (2106,258)\n",
      "Time for Getting  0  random elements:  0:00:00.004089\n",
      "Invalid Range: could not broadcast input array from shape (2093,257) into shape (2093,258)\n",
      "Time for Getting  0  random elements:  0:00:00.004127\n",
      "Invalid Range: could not broadcast input array from shape (2116,257) into shape (2116,258)\n",
      "Time for Getting  0  random elements:  0:00:00.004240\n",
      "Invalid Range: could not broadcast input array from shape (2146,257) into shape (2146,258)\n",
      "Time for Getting  0  random elements:  0:00:00.004360\n"
     ]
    },
    {
     "name": "stderr",
     "output_type": "stream",
     "text": [
      "2018-10-16 23:59:28,172 - nn-real-hvd - INFO -   1727     1 95189.7     0.0   0.002 0.10000\n",
      "2018-10-16 23:59:28,172 - nn-real-hvd - INFO -   1727     1 95189.7     0.0   0.002 0.10000\n",
      "2018-10-16 23:59:28,219 - nn-real-hvd - INFO -   1728     1 97080.7     0.0   0.002 0.10000\n",
      "2018-10-16 23:59:28,219 - nn-real-hvd - INFO -   1728     1 97080.7     0.0   0.002 0.10000\n",
      "2018-10-16 23:59:28,277 - nn-real-hvd - INFO -   1729     1 78375.5     0.1   0.002 0.10000\n",
      "2018-10-16 23:59:28,277 - nn-real-hvd - INFO -   1729     1 78375.5     0.1   0.002 0.10000\n",
      "2018-10-16 23:59:28,325 - nn-real-hvd - INFO -   1730     1 96835.6     0.0   0.002 0.10000\n",
      "2018-10-16 23:59:28,325 - nn-real-hvd - INFO -   1730     1 96835.6     0.0   0.002 0.10000\n",
      "2018-10-16 23:59:28,375 - nn-real-hvd - INFO -   1731     1 89923.7     0.0   0.002 0.10000\n",
      "2018-10-16 23:59:28,375 - nn-real-hvd - INFO -   1731     1 89923.7     0.0   0.002 0.10000\n"
     ]
    },
    {
     "name": "stdout",
     "output_type": "stream",
     "text": [
      "Invalid Range: could not broadcast input array from shape (2133,257) into shape (2133,258)\n",
      "Time for Getting  0  random elements:  0:00:00.004372\n",
      "Invalid Range: could not broadcast input array from shape (2161,257) into shape (2161,258)\n",
      "Time for Getting  0  random elements:  0:00:00.004383\n",
      "Invalid Range: could not broadcast input array from shape (2156,257) into shape (2156,258)\n",
      "Time for Getting  0  random elements:  0:00:00.004109\n",
      "Invalid Range: could not broadcast input array from shape (2124,257) into shape (2124,258)\n",
      "Time for Getting  0  random elements:  0:00:00.003977\n"
     ]
    },
    {
     "name": "stderr",
     "output_type": "stream",
     "text": [
      "2018-10-16 23:59:28,425 - nn-real-hvd - INFO -   1732     1 92180.4     0.0   0.002 0.10000\n",
      "2018-10-16 23:59:28,425 - nn-real-hvd - INFO -   1732     1 92180.4     0.0   0.002 0.10000\n",
      "2018-10-16 23:59:28,474 - nn-real-hvd - INFO -   1733     1 93929.9     0.0   0.002 0.10000\n",
      "2018-10-16 23:59:28,474 - nn-real-hvd - INFO -   1733     1 93929.9     0.0   0.002 0.10000\n",
      "2018-10-16 23:59:28,525 - nn-real-hvd - INFO -   1734     1 89511.2     0.0   0.002 0.10000\n",
      "2018-10-16 23:59:28,525 - nn-real-hvd - INFO -   1734     1 89511.2     0.0   0.002 0.10000\n",
      "2018-10-16 23:59:28,573 - nn-real-hvd - INFO -   1735     1 95491.8     0.0   0.002 0.10000\n",
      "2018-10-16 23:59:28,573 - nn-real-hvd - INFO -   1735     1 95491.8     0.0   0.002 0.10000\n"
     ]
    },
    {
     "name": "stdout",
     "output_type": "stream",
     "text": [
      "Invalid Range: could not broadcast input array from shape (2159,257) into shape (2159,258)\n",
      "Time for Getting  0  random elements:  0:00:00.004773\n",
      "Invalid Range: could not broadcast input array from shape (2196,257) into shape (2196,258)\n",
      "Time for Getting  0  random elements:  0:00:00.003988\n",
      "Invalid Range: could not broadcast input array from shape (2132,257) into shape (2132,258)\n",
      "Time for Getting  0  random elements:  0:00:00.004608\n",
      "Invalid Range: could not broadcast input array from shape (2131,257) into shape (2131,258)\n",
      "Time for Getting  0  random elements:  0:00:00.004180\n",
      "Invalid Range: could not broadcast input array from shape (2148,257) into shape (2148,258)\n"
     ]
    },
    {
     "name": "stderr",
     "output_type": "stream",
     "text": [
      "2018-10-16 23:59:28,623 - nn-real-hvd - INFO -   1736     1 91403.2     0.0   0.002 0.10000\n",
      "2018-10-16 23:59:28,623 - nn-real-hvd - INFO -   1736     1 91403.2     0.0   0.002 0.10000\n",
      "2018-10-16 23:59:28,674 - nn-real-hvd - INFO -   1737     1 87810.0     0.1   0.002 0.10000\n",
      "2018-10-16 23:59:28,674 - nn-real-hvd - INFO -   1737     1 87810.0     0.1   0.002 0.10000\n",
      "2018-10-16 23:59:28,722 - nn-real-hvd - INFO -   1738     1 96344.0     0.0   0.002 0.10000\n",
      "2018-10-16 23:59:28,722 - nn-real-hvd - INFO -   1738     1 96344.0     0.0   0.002 0.10000\n",
      "2018-10-16 23:59:28,770 - nn-real-hvd - INFO -   1739     1 94350.6     0.0   0.002 0.10000\n",
      "2018-10-16 23:59:28,770 - nn-real-hvd - INFO -   1739     1 94350.6     0.0   0.002 0.10000\n"
     ]
    },
    {
     "name": "stdout",
     "output_type": "stream",
     "text": [
      "Time for Getting  0  random elements:  0:00:00.004449\n",
      "Invalid Range: could not broadcast input array from shape (2151,257) into shape (2151,258)\n",
      "Time for Getting  0  random elements:  0:00:00.003864\n",
      "Invalid Range: could not broadcast input array from shape (2154,257) into shape (2154,258)\n",
      "Time for Getting  0  random elements:  0:00:00.003545\n",
      "Invalid Range: could not broadcast input array from shape (2167,257) into shape (2167,258)\n",
      "Time for Getting  0  random elements:  0:00:00.003695\n",
      "Invalid Range: could not broadcast input array from shape (2167,257) into shape (2167,258)\n",
      "Time for Getting  0  random elements:  0:00:00.004072\n"
     ]
    },
    {
     "name": "stderr",
     "output_type": "stream",
     "text": [
      "2018-10-16 23:59:28,817 - nn-real-hvd - INFO -   1740     1 97488.7     0.0   0.002 0.10000\n",
      "2018-10-16 23:59:28,817 - nn-real-hvd - INFO -   1740     1 97488.7     0.0   0.002 0.10000\n",
      "2018-10-16 23:59:28,867 - nn-real-hvd - INFO -   1741     1 91638.4     0.0   0.002 0.10000\n",
      "2018-10-16 23:59:28,867 - nn-real-hvd - INFO -   1741     1 91638.4     0.0   0.002 0.10000\n",
      "2018-10-16 23:59:28,915 - nn-real-hvd - INFO -   1742     1 94951.0     0.0   0.002 0.10000\n",
      "2018-10-16 23:59:28,915 - nn-real-hvd - INFO -   1742     1 94951.0     0.0   0.002 0.10000\n",
      "2018-10-16 23:59:28,965 - nn-real-hvd - INFO -   1743     1 92638.2     0.0   0.002 0.10000\n",
      "2018-10-16 23:59:28,965 - nn-real-hvd - INFO -   1743     1 92638.2     0.0   0.002 0.10000\n",
      "2018-10-16 23:59:29,017 - nn-real-hvd - INFO -   1744     1 88122.3     0.1   0.002 0.10000\n",
      "2018-10-16 23:59:29,017 - nn-real-hvd - INFO -   1744     1 88122.3     0.1   0.002 0.10000\n"
     ]
    },
    {
     "name": "stdout",
     "output_type": "stream",
     "text": [
      "Invalid Range: could not broadcast input array from shape (2147,257) into shape (2147,258)\n",
      "Time for Getting  0  random elements:  0:00:00.004192\n",
      "Invalid Range: could not broadcast input array from shape (2147,257) into shape (2147,258)\n",
      "Time for Getting  0  random elements:  0:00:00.004572\n",
      "Invalid Range: could not broadcast input array from shape (2104,257) into shape (2104,258)\n",
      "Time for Getting  0  random elements:  0:00:00.004451\n",
      "Invalid Range: could not broadcast input array from shape (2130,257) into shape (2130,258)\n",
      "Time for Getting  0  random elements:  0:00:00.004890\n",
      "Invalid Range: could not broadcast input array from shape (2222,257) into shape (2222,258)\n"
     ]
    },
    {
     "name": "stderr",
     "output_type": "stream",
     "text": [
      "2018-10-16 23:59:29,068 - nn-real-hvd - INFO -   1745     1 89378.5     0.0   0.002 0.10000\n",
      "2018-10-16 23:59:29,068 - nn-real-hvd - INFO -   1745     1 89378.5     0.0   0.002 0.10000\n",
      "2018-10-16 23:59:29,116 - nn-real-hvd - INFO -   1746     1 93968.9     0.0   0.002 0.10000\n",
      "2018-10-16 23:59:29,116 - nn-real-hvd - INFO -   1746     1 93968.9     0.0   0.002 0.10000\n",
      "2018-10-16 23:59:29,167 - nn-real-hvd - INFO -   1747     1 89605.9     0.0   0.002 0.10000\n",
      "2018-10-16 23:59:29,167 - nn-real-hvd - INFO -   1747     1 89605.9     0.0   0.002 0.10000\n",
      "2018-10-16 23:59:29,216 - nn-real-hvd - INFO -   1748     1 94563.0     0.0   0.002 0.10000\n",
      "2018-10-16 23:59:29,216 - nn-real-hvd - INFO -   1748     1 94563.0     0.0   0.002 0.10000\n"
     ]
    },
    {
     "name": "stdout",
     "output_type": "stream",
     "text": [
      "Time for Getting  0  random elements:  0:00:00.004803\n",
      "Invalid Range: could not broadcast input array from shape (2117,257) into shape (2117,258)\n",
      "Time for Getting  0  random elements:  0:00:00.004214\n",
      "Invalid Range: could not broadcast input array from shape (2173,257) into shape (2173,258)\n",
      "Time for Getting  0  random elements:  0:00:00.004195\n",
      "Invalid Range: could not broadcast input array from shape (2156,257) into shape (2156,258)\n",
      "Time for Getting  0  random elements:  0:00:00.004749\n",
      "Invalid Range: could not broadcast input array from shape (2112,257) into shape (2112,258)\n",
      "Time for Getting  0  random elements:  0:00:00.003921\n"
     ]
    },
    {
     "name": "stderr",
     "output_type": "stream",
     "text": [
      "2018-10-16 23:59:29,264 - nn-real-hvd - INFO -   1749     1 98097.2     0.0   0.002 0.10000\n",
      "2018-10-16 23:59:29,264 - nn-real-hvd - INFO -   1749     1 98097.2     0.0   0.002 0.10000\n",
      "2018-10-16 23:59:29,311 - nn-real-hvd - INFO -   1750     1 97750.5     0.0   0.002 0.10000\n",
      "2018-10-16 23:59:29,311 - nn-real-hvd - INFO -   1750     1 97750.5     0.0   0.002 0.10000\n",
      "2018-10-16 23:59:29,360 - nn-real-hvd - INFO -   1751     1 93126.3     0.0   0.002 0.10000\n",
      "2018-10-16 23:59:29,360 - nn-real-hvd - INFO -   1751     1 93126.3     0.0   0.002 0.10000\n",
      "2018-10-16 23:59:29,407 - nn-real-hvd - INFO -   1752     1 99255.5     0.0   0.002 0.10000\n",
      "2018-10-16 23:59:29,407 - nn-real-hvd - INFO -   1752     1 99255.5     0.0   0.002 0.10000\n",
      "2018-10-16 23:59:29,456 - nn-real-hvd - INFO -   1753     1 92600.8     0.0   0.002 0.10000\n",
      "2018-10-16 23:59:29,456 - nn-real-hvd - INFO -   1753     1 92600.8     0.0   0.002 0.10000\n"
     ]
    },
    {
     "name": "stdout",
     "output_type": "stream",
     "text": [
      "Invalid Range: could not broadcast input array from shape (2131,257) into shape (2131,258)\n",
      "Time for Getting  0  random elements:  0:00:00.003557\n",
      "Invalid Range: could not broadcast input array from shape (2133,257) into shape (2133,258)\n",
      "Time for Getting  0  random elements:  0:00:00.004107\n",
      "Invalid Range: could not broadcast input array from shape (2066,257) into shape (2066,258)\n",
      "Time for Getting  0  random elements:  0:00:00.004376\n",
      "Invalid Range: could not broadcast input array from shape (2142,257) into shape (2142,258)\n",
      "Time for Getting  0  random elements:  0:00:00.004259\n",
      "Invalid Range: could not broadcast input array from shape (2089,257) into shape (2089,258)\n"
     ]
    },
    {
     "name": "stderr",
     "output_type": "stream",
     "text": [
      "2018-10-16 23:59:29,517 - nn-real-hvd - INFO -   1754     1 74761.3     0.1   0.002 0.10000\n",
      "2018-10-16 23:59:29,517 - nn-real-hvd - INFO -   1754     1 74761.3     0.1   0.002 0.10000\n",
      "2018-10-16 23:59:29,577 - nn-real-hvd - INFO -   1755     1 75060.9     0.1   0.002 0.10000\n",
      "2018-10-16 23:59:29,577 - nn-real-hvd - INFO -   1755     1 75060.9     0.1   0.002 0.10000\n",
      "2018-10-16 23:59:29,638 - nn-real-hvd - INFO -   1756     1 75487.4     0.1   0.002 0.10000\n",
      "2018-10-16 23:59:29,638 - nn-real-hvd - INFO -   1756     1 75487.4     0.1   0.002 0.10000\n"
     ]
    },
    {
     "name": "stdout",
     "output_type": "stream",
     "text": [
      "Time for Getting  0  random elements:  0:00:00.005003\n",
      "Invalid Range: could not broadcast input array from shape (2108,257) into shape (2108,258)\n",
      "Time for Getting  0  random elements:  0:00:00.004439\n",
      "Invalid Range: could not broadcast input array from shape (2111,257) into shape (2111,258)\n",
      "Time for Getting  0  random elements:  0:00:00.004402\n",
      "Invalid Range: could not broadcast input array from shape (2105,257) into shape (2105,258)\n",
      "Time for Getting  0  random elements:  0:00:00.004134\n"
     ]
    },
    {
     "name": "stderr",
     "output_type": "stream",
     "text": [
      "2018-10-16 23:59:29,700 - nn-real-hvd - INFO -   1757     1 72743.6     0.1   0.002 0.10000\n",
      "2018-10-16 23:59:29,700 - nn-real-hvd - INFO -   1757     1 72743.6     0.1   0.002 0.10000\n",
      "2018-10-16 23:59:29,752 - nn-real-hvd - INFO -   1758     1 87769.8     0.1   0.002 0.10000\n",
      "2018-10-16 23:59:29,752 - nn-real-hvd - INFO -   1758     1 87769.8     0.1   0.002 0.10000\n",
      "2018-10-16 23:59:29,806 - nn-real-hvd - INFO -   1759     1 84630.4     0.1   0.002 0.10000\n",
      "2018-10-16 23:59:29,806 - nn-real-hvd - INFO -   1759     1 84630.4     0.1   0.002 0.10000\n",
      "2018-10-16 23:59:29,857 - nn-real-hvd - INFO -   1760     1 88620.1     0.0   0.002 0.10000\n",
      "2018-10-16 23:59:29,857 - nn-real-hvd - INFO -   1760     1 88620.1     0.0   0.002 0.10000\n"
     ]
    },
    {
     "name": "stdout",
     "output_type": "stream",
     "text": [
      "Invalid Range: could not broadcast input array from shape (2093,257) into shape (2093,258)\n",
      "Time for Getting  0  random elements:  0:00:00.003694\n",
      "Invalid Range: could not broadcast input array from shape (2122,257) into shape (2122,258)\n",
      "Time for Getting  0  random elements:  0:00:00.004195\n",
      "Invalid Range: could not broadcast input array from shape (2153,257) into shape (2153,258)\n",
      "Time for Getting  0  random elements:  0:00:00.004473\n",
      "Invalid Range: could not broadcast input array from shape (2135,257) into shape (2135,258)\n",
      "Time for Getting  0  random elements:  0:00:00.004495\n"
     ]
    },
    {
     "name": "stderr",
     "output_type": "stream",
     "text": [
      "2018-10-16 23:59:29,915 - nn-real-hvd - INFO -   1761     1 79483.5     0.1   0.002 0.10000\n",
      "2018-10-16 23:59:29,915 - nn-real-hvd - INFO -   1761     1 79483.5     0.1   0.002 0.10000\n",
      "2018-10-16 23:59:29,969 - nn-real-hvd - INFO -   1762     1 83301.0     0.1   0.002 0.10000\n",
      "2018-10-16 23:59:29,969 - nn-real-hvd - INFO -   1762     1 83301.0     0.1   0.002 0.10000\n",
      "2018-10-16 23:59:30,022 - nn-real-hvd - INFO -   1763     1 87020.0     0.1   0.002 0.10000\n",
      "2018-10-16 23:59:30,022 - nn-real-hvd - INFO -   1763     1 87020.0     0.1   0.002 0.10000\n",
      "2018-10-16 23:59:30,097 - nn-real-hvd - INFO -   1764     1 60426.2     0.1   0.002 0.10000\n",
      "2018-10-16 23:59:30,097 - nn-real-hvd - INFO -   1764     1 60426.2     0.1   0.002 0.10000\n"
     ]
    },
    {
     "name": "stdout",
     "output_type": "stream",
     "text": [
      "Invalid Range: could not broadcast input array from shape (2130,257) into shape (2130,258)\n",
      "Time for Getting  0  random elements:  0:00:00.004430\n",
      "Invalid Range: could not broadcast input array from shape (2165,257) into shape (2165,258)\n",
      "Time for Getting  0  random elements:  0:00:00.004553\n",
      "Invalid Range: could not broadcast input array from shape (2140,257) into shape (2140,258)\n",
      "Time for Getting  0  random elements:  0:00:00.004398\n",
      "Invalid Range: could not broadcast input array from shape (2164,257) into shape (2164,258)\n",
      "Time for Getting  0  random elements:  0:00:00.004066\n"
     ]
    },
    {
     "name": "stderr",
     "output_type": "stream",
     "text": [
      "2018-10-16 23:59:30,146 - nn-real-hvd - INFO -   1765     1 94592.9     0.0   0.002 0.10000\n",
      "2018-10-16 23:59:30,146 - nn-real-hvd - INFO -   1765     1 94592.9     0.0   0.002 0.10000\n",
      "2018-10-16 23:59:30,193 - nn-real-hvd - INFO -   1766     1 95364.8     0.0   0.002 0.10000\n",
      "2018-10-16 23:59:30,193 - nn-real-hvd - INFO -   1766     1 95364.8     0.0   0.002 0.10000\n",
      "2018-10-16 23:59:30,245 - nn-real-hvd - INFO -   1767     1 89240.1     0.0   0.002 0.10000\n",
      "2018-10-16 23:59:30,245 - nn-real-hvd - INFO -   1767     1 89240.1     0.0   0.002 0.10000\n",
      "2018-10-16 23:59:30,306 - nn-real-hvd - INFO -   1768     1 74707.1     0.1   0.002 0.10000\n",
      "2018-10-16 23:59:30,306 - nn-real-hvd - INFO -   1768     1 74707.1     0.1   0.002 0.10000\n"
     ]
    },
    {
     "name": "stdout",
     "output_type": "stream",
     "text": [
      "Invalid Range: could not broadcast input array from shape (2148,257) into shape (2148,258)\n",
      "Time for Getting  0  random elements:  0:00:00.004130\n",
      "Invalid Range: could not broadcast input array from shape (2221,257) into shape (2221,258)\n",
      "Time for Getting  0  random elements:  0:00:00.004186\n",
      "Invalid Range: could not broadcast input array from shape (2091,257) into shape (2091,258)\n",
      "Time for Getting  0  random elements:  0:00:00.004063\n",
      "Invalid Range: could not broadcast input array from shape (2182,257) into shape (2182,258)\n",
      "Time for Getting  0  random elements:  0:00:00.004648\n"
     ]
    },
    {
     "name": "stderr",
     "output_type": "stream",
     "text": [
      "2018-10-16 23:59:30,369 - nn-real-hvd - INFO -   1769     1 72225.5     0.1   0.002 0.10000\n",
      "2018-10-16 23:59:30,369 - nn-real-hvd - INFO -   1769     1 72225.5     0.1   0.002 0.10000\n",
      "2018-10-16 23:59:30,448 - nn-real-hvd - INFO -   1770     1 57415.9     0.1   0.002 0.10000\n",
      "2018-10-16 23:59:30,448 - nn-real-hvd - INFO -   1770     1 57415.9     0.1   0.002 0.10000\n",
      "2018-10-16 23:59:30,508 - nn-real-hvd - INFO -   1771     1 75548.3     0.1   0.002 0.10000\n",
      "2018-10-16 23:59:30,508 - nn-real-hvd - INFO -   1771     1 75548.3     0.1   0.002 0.10000\n",
      "2018-10-16 23:59:30,569 - nn-real-hvd - INFO -   1772     1 74186.4     0.1   0.002 0.10000\n",
      "2018-10-16 23:59:30,569 - nn-real-hvd - INFO -   1772     1 74186.4     0.1   0.002 0.10000\n"
     ]
    },
    {
     "name": "stdout",
     "output_type": "stream",
     "text": [
      "Invalid Range: could not broadcast input array from shape (2121,257) into shape (2121,258)\n",
      "Time for Getting  0  random elements:  0:00:00.004529\n",
      "Invalid Range: could not broadcast input array from shape (2146,257) into shape (2146,258)\n",
      "Time for Getting  0  random elements:  0:00:00.004899\n",
      "Invalid Range: could not broadcast input array from shape (2098,257) into shape (2098,258)\n",
      "Time for Getting  0  random elements:  0:00:00.004708\n",
      "Invalid Range: could not broadcast input array from shape (2153,257) into shape (2153,258)\n"
     ]
    },
    {
     "name": "stderr",
     "output_type": "stream",
     "text": [
      "2018-10-16 23:59:30,630 - nn-real-hvd - INFO -   1773     1 75715.6     0.1   0.002 0.10000\n",
      "2018-10-16 23:59:30,630 - nn-real-hvd - INFO -   1773     1 75715.6     0.1   0.002 0.10000\n",
      "2018-10-16 23:59:30,744 - nn-real-hvd - INFO -   1774     1 81580.1     0.1   0.002 0.10000\n",
      "2018-10-16 23:59:30,744 - nn-real-hvd - INFO -   1774     1 81580.1     0.1   0.002 0.10000\n"
     ]
    },
    {
     "name": "stdout",
     "output_type": "stream",
     "text": [
      "Time for Getting  0  random elements:  0:00:00.004906\n",
      "Invalid Range: could not broadcast input array from shape (2180,257) into shape (2180,258)\n",
      "Time for Getting  0  random elements:  0:00:00.004542\n",
      "Invalid Range: could not broadcast input array from shape (2094,257) into shape (2094,258)\n",
      "Time for Getting  0  random elements:  0:00:00.004520\n"
     ]
    },
    {
     "name": "stderr",
     "output_type": "stream",
     "text": [
      "2018-10-16 23:59:30,798 - nn-real-hvd - INFO -   1775     1 84034.2     0.1   0.002 0.10000\n",
      "2018-10-16 23:59:30,798 - nn-real-hvd - INFO -   1775     1 84034.2     0.1   0.002 0.10000\n",
      "2018-10-16 23:59:30,851 - nn-real-hvd - INFO -   1776     1 86498.8     0.1   0.002 0.10000\n",
      "2018-10-16 23:59:30,851 - nn-real-hvd - INFO -   1776     1 86498.8     0.1   0.002 0.10000\n",
      "2018-10-16 23:59:30,908 - nn-real-hvd - INFO -   1777     1 80166.7     0.1   0.002 0.10000\n",
      "2018-10-16 23:59:30,908 - nn-real-hvd - INFO -   1777     1 80166.7     0.1   0.002 0.10000\n",
      "2018-10-16 23:59:30,961 - nn-real-hvd - INFO -   1778     1 86852.2     0.1   0.002 0.10000\n",
      "2018-10-16 23:59:30,961 - nn-real-hvd - INFO -   1778     1 86852.2     0.1   0.002 0.10000\n"
     ]
    },
    {
     "name": "stdout",
     "output_type": "stream",
     "text": [
      "Invalid Range: could not broadcast input array from shape (2212,257) into shape (2212,258)\n",
      "Time for Getting  0  random elements:  0:00:00.004366\n",
      "Invalid Range: could not broadcast input array from shape (2160,257) into shape (2160,258)\n",
      "Time for Getting  0  random elements:  0:00:00.004696\n",
      "Invalid Range: could not broadcast input array from shape (2153,257) into shape (2153,258)\n",
      "Time for Getting  0  random elements:  0:00:00.004528\n",
      "Invalid Range: could not broadcast input array from shape (2174,257) into shape (2174,258)\n",
      "Time for Getting  0  random elements:  0:00:00.004495\n"
     ]
    },
    {
     "name": "stderr",
     "output_type": "stream",
     "text": [
      "2018-10-16 23:59:31,009 - nn-real-hvd - INFO -   1779     1 94559.7     0.0   0.002 0.10000\n",
      "2018-10-16 23:59:31,009 - nn-real-hvd - INFO -   1779     1 94559.7     0.0   0.002 0.10000\n",
      "2018-10-16 23:59:31,078 - nn-real-hvd - INFO -   1780     1 66979.7     0.1   0.002 0.10000\n",
      "2018-10-16 23:59:31,078 - nn-real-hvd - INFO -   1780     1 66979.7     0.1   0.002 0.10000\n",
      "2018-10-16 23:59:31,127 - nn-real-hvd - INFO -   1781     1 92623.0     0.0   0.002 0.10000\n",
      "2018-10-16 23:59:31,127 - nn-real-hvd - INFO -   1781     1 92623.0     0.0   0.002 0.10000\n",
      "2018-10-16 23:59:31,177 - nn-real-hvd - INFO -   1782     1 92662.8     0.0   0.002 0.10000\n",
      "2018-10-16 23:59:31,177 - nn-real-hvd - INFO -   1782     1 92662.8     0.0   0.002 0.10000\n"
     ]
    },
    {
     "name": "stdout",
     "output_type": "stream",
     "text": [
      "Invalid Range: could not broadcast input array from shape (2159,257) into shape (2159,258)\n",
      "Time for Getting  0  random elements:  0:00:00.004171\n",
      "Invalid Range: could not broadcast input array from shape (2106,257) into shape (2106,258)\n",
      "Time for Getting  0  random elements:  0:00:00.004876\n",
      "Invalid Range: could not broadcast input array from shape (2190,257) into shape (2190,258)\n",
      "Time for Getting  0  random elements:  0:00:00.004493\n",
      "Invalid Range: could not broadcast input array from shape (2105,257) into shape (2105,258)\n",
      "Time for Getting  0  random elements:  0:00:00.004599\n"
     ]
    },
    {
     "name": "stderr",
     "output_type": "stream",
     "text": [
      "2018-10-16 23:59:31,226 - nn-real-hvd - INFO -   1783     1 92178.6     0.0   0.002 0.10000\n",
      "2018-10-16 23:59:31,226 - nn-real-hvd - INFO -   1783     1 92178.6     0.0   0.002 0.10000\n",
      "2018-10-16 23:59:31,274 - nn-real-hvd - INFO -   1784     1 96785.6     0.0   0.002 0.10000\n",
      "2018-10-16 23:59:31,274 - nn-real-hvd - INFO -   1784     1 96785.6     0.0   0.002 0.10000\n",
      "2018-10-16 23:59:31,322 - nn-real-hvd - INFO -   1785     1 95848.9     0.0   0.002 0.10000\n",
      "2018-10-16 23:59:31,322 - nn-real-hvd - INFO -   1785     1 95848.9     0.0   0.002 0.10000\n",
      "2018-10-16 23:59:31,368 - nn-real-hvd - INFO -   1786     1 98015.9     0.0   0.002 0.10000\n",
      "2018-10-16 23:59:31,368 - nn-real-hvd - INFO -   1786     1 98015.9     0.0   0.002 0.10000\n",
      "2018-10-16 23:59:31,417 - nn-real-hvd - INFO -   1787     1 93524.3     0.0   0.002 0.10000\n",
      "2018-10-16 23:59:31,417 - nn-real-hvd - INFO -   1787     1 93524.3     0.0   0.002 0.10000\n"
     ]
    },
    {
     "name": "stdout",
     "output_type": "stream",
     "text": [
      "Invalid Range: could not broadcast input array from shape (2158,257) into shape (2158,258)\n",
      "Time for Getting  0  random elements:  0:00:00.004412\n",
      "Invalid Range: could not broadcast input array from shape (2179,257) into shape (2179,258)\n",
      "Time for Getting  0  random elements:  0:00:00.004419\n",
      "Invalid Range: could not broadcast input array from shape (2144,257) into shape (2144,258)\n",
      "Time for Getting  0  random elements:  0:00:00.003903\n",
      "Invalid Range: could not broadcast input array from shape (2156,257) into shape (2156,258)\n",
      "Time for Getting  0  random elements:  0:00:00.004483\n",
      "Invalid Range: could not broadcast input array from shape (2195,257) into shape (2195,258)\n",
      "Time for Getting  0  random elements:  0:00:00.004304\n"
     ]
    },
    {
     "name": "stderr",
     "output_type": "stream",
     "text": [
      "2018-10-16 23:59:31,465 - nn-real-hvd - INFO -   1788     1 96972.2     0.0   0.002 0.10000\n",
      "2018-10-16 23:59:31,465 - nn-real-hvd - INFO -   1788     1 96972.2     0.0   0.002 0.10000\n",
      "2018-10-16 23:59:31,512 - nn-real-hvd - INFO -   1789     1 95649.8     0.0   0.002 0.10000\n",
      "2018-10-16 23:59:31,512 - nn-real-hvd - INFO -   1789     1 95649.8     0.0   0.002 0.10000\n",
      "2018-10-16 23:59:31,560 - nn-real-hvd - INFO -   1790     1 96076.6     0.0   0.002 0.10000\n",
      "2018-10-16 23:59:31,560 - nn-real-hvd - INFO -   1790     1 96076.6     0.0   0.002 0.10000\n",
      "2018-10-16 23:59:31,609 - nn-real-hvd - INFO -   1791     1 92401.6     0.0   0.002 0.10000\n",
      "2018-10-16 23:59:31,609 - nn-real-hvd - INFO -   1791     1 92401.6     0.0   0.002 0.10000\n",
      "2018-10-16 23:59:31,657 - nn-real-hvd - INFO -   1792     1 95724.3     0.0   0.002 0.10000\n",
      "2018-10-16 23:59:31,657 - nn-real-hvd - INFO -   1792     1 95724.3     0.0   0.002 0.10000\n"
     ]
    },
    {
     "name": "stdout",
     "output_type": "stream",
     "text": [
      "Invalid Range: could not broadcast input array from shape (2168,257) into shape (2168,258)\n",
      "Time for Getting  0  random elements:  0:00:00.004594\n",
      "Invalid Range: could not broadcast input array from shape (2123,257) into shape (2123,258)\n",
      "Time for Getting  0  random elements:  0:00:00.003986\n",
      "Invalid Range: could not broadcast input array from shape (2153,257) into shape (2153,258)\n",
      "Time for Getting  0  random elements:  0:00:00.003959\n",
      "Invalid Range: could not broadcast input array from shape (2162,257) into shape (2162,258)\n",
      "Time for Getting  0  random elements:  0:00:00.004196\n",
      "Invalid Range: could not broadcast input array from shape (2053,257) into shape (2053,258)\n",
      "Time for Getting  0  random elements:  0:00:00.003762\n"
     ]
    },
    {
     "name": "stderr",
     "output_type": "stream",
     "text": [
      "2018-10-16 23:59:31,705 - nn-real-hvd - INFO -   1793     1 95362.8     0.0   0.002 0.10000\n",
      "2018-10-16 23:59:31,705 - nn-real-hvd - INFO -   1793     1 95362.8     0.0   0.002 0.10000\n",
      "2018-10-16 23:59:31,753 - nn-real-hvd - INFO -   1794     1 94702.0     0.0   0.002 0.10000\n",
      "2018-10-16 23:59:31,753 - nn-real-hvd - INFO -   1794     1 94702.0     0.0   0.002 0.10000\n",
      "2018-10-16 23:59:31,801 - nn-real-hvd - INFO -   1795     1 97607.6     0.0   0.002 0.10000\n",
      "2018-10-16 23:59:31,801 - nn-real-hvd - INFO -   1795     1 97607.6     0.0   0.002 0.10000\n",
      "2018-10-16 23:59:31,849 - nn-real-hvd - INFO -   1796     1 94893.3     0.0   0.002 0.10000\n",
      "2018-10-16 23:59:31,849 - nn-real-hvd - INFO -   1796     1 94893.3     0.0   0.002 0.10000\n",
      "2018-10-16 23:59:31,896 - nn-real-hvd - INFO -   1797     1 96010.5     0.0   0.002 0.10000\n",
      "2018-10-16 23:59:31,896 - nn-real-hvd - INFO -   1797     1 96010.5     0.0   0.002 0.10000\n"
     ]
    },
    {
     "name": "stdout",
     "output_type": "stream",
     "text": [
      "Invalid Range: could not broadcast input array from shape (2032,257) into shape (2032,258)\n",
      "Time for Getting  0  random elements:  0:00:00.004075\n",
      "Invalid Range: could not broadcast input array from shape (2166,257) into shape (2166,258)\n",
      "Time for Getting  0  random elements:  0:00:00.004038\n",
      "Invalid Range: could not broadcast input array from shape (2118,257) into shape (2118,258)\n",
      "Time for Getting  0  random elements:  0:00:00.004108\n",
      "Invalid Range: could not broadcast input array from shape (2148,257) into shape (2148,258)\n",
      "Time for Getting  0  random elements:  0:00:00.004604\n",
      "Invalid Range: could not broadcast input array from shape (2099,257) into shape (2099,258)\n",
      "Time for Getting  0  random elements:  0:00:00.004451\n"
     ]
    },
    {
     "name": "stderr",
     "output_type": "stream",
     "text": [
      "2018-10-16 23:59:31,944 - nn-real-hvd - INFO -   1798     1 96381.5     0.0   0.002 0.10000\n",
      "2018-10-16 23:59:31,944 - nn-real-hvd - INFO -   1798     1 96381.5     0.0   0.002 0.10000\n",
      "2018-10-16 23:59:31,992 - nn-real-hvd - INFO -   1799     1 95452.6     0.0   0.002 0.10000\n",
      "2018-10-16 23:59:31,992 - nn-real-hvd - INFO -   1799     1 95452.6     0.0   0.002 0.10000\n",
      "2018-10-16 23:59:32,042 - nn-real-hvd - INFO -   1800     1 90272.3     0.0   0.002 0.10000\n",
      "2018-10-16 23:59:32,042 - nn-real-hvd - INFO -   1800     1 90272.3     0.0   0.002 0.10000\n",
      "2018-10-16 23:59:32,092 - nn-real-hvd - INFO -   1801     1 92419.1     0.0   0.002 0.10000\n",
      "2018-10-16 23:59:32,092 - nn-real-hvd - INFO -   1801     1 92419.1     0.0   0.002 0.10000\n",
      "2018-10-16 23:59:32,142 - nn-real-hvd - INFO -   1802     1 91263.0     0.0   0.002 0.10000\n",
      "2018-10-16 23:59:32,142 - nn-real-hvd - INFO -   1802     1 91263.0     0.0   0.002 0.10000\n"
     ]
    },
    {
     "name": "stdout",
     "output_type": "stream",
     "text": [
      "Invalid Range: could not broadcast input array from shape (2131,257) into shape (2131,258)\n",
      "Time for Getting  0  random elements:  0:00:00.004325\n",
      "Invalid Range: could not broadcast input array from shape (2124,257) into shape (2124,258)\n",
      "Time for Getting  0  random elements:  0:00:00.004236\n",
      "Invalid Range: could not broadcast input array from shape (2156,257) into shape (2156,258)\n",
      "Time for Getting  0  random elements:  0:00:00.004267\n",
      "Invalid Range: could not broadcast input array from shape (2161,257) into shape (2161,258)\n",
      "Time for Getting  0  random elements:  0:00:00.004258\n",
      "Invalid Range: could not broadcast input array from shape (2191,257) into shape (2191,258)\n"
     ]
    },
    {
     "name": "stderr",
     "output_type": "stream",
     "text": [
      "2018-10-16 23:59:32,190 - nn-real-hvd - INFO -   1803     1 95156.5     0.0   0.002 0.10000\n",
      "2018-10-16 23:59:32,190 - nn-real-hvd - INFO -   1803     1 95156.5     0.0   0.002 0.10000\n",
      "2018-10-16 23:59:32,238 - nn-real-hvd - INFO -   1804     1 96231.1     0.0   0.002 0.10000\n",
      "2018-10-16 23:59:32,238 - nn-real-hvd - INFO -   1804     1 96231.1     0.0   0.002 0.10000\n",
      "2018-10-16 23:59:32,287 - nn-real-hvd - INFO -   1805     1 92497.4     0.0   0.002 0.10000\n",
      "2018-10-16 23:59:32,287 - nn-real-hvd - INFO -   1805     1 92497.4     0.0   0.002 0.10000\n",
      "2018-10-16 23:59:32,334 - nn-real-hvd - INFO -   1806     1 98975.0     0.0   0.002 0.10000\n",
      "2018-10-16 23:59:32,334 - nn-real-hvd - INFO -   1806     1 98975.0     0.0   0.002 0.10000\n"
     ]
    },
    {
     "name": "stdout",
     "output_type": "stream",
     "text": [
      "Time for Getting  0  random elements:  0:00:00.004923\n",
      "Invalid Range: could not broadcast input array from shape (2136,257) into shape (2136,258)\n",
      "Time for Getting  0  random elements:  0:00:00.004467\n",
      "Invalid Range: could not broadcast input array from shape (2144,257) into shape (2144,258)\n",
      "Time for Getting  0  random elements:  0:00:00.004146\n",
      "Invalid Range: could not broadcast input array from shape (2171,257) into shape (2171,258)\n",
      "Time for Getting  0  random elements:  0:00:00.004378\n",
      "Invalid Range: could not broadcast input array from shape (2124,257) into shape (2124,258)\n",
      "Time for Getting  0  random elements:  0:00:00.004187\n"
     ]
    },
    {
     "name": "stderr",
     "output_type": "stream",
     "text": [
      "2018-10-16 23:59:32,381 - nn-real-hvd - INFO -   1807     1 96045.3     0.0   0.002 0.10000\n",
      "2018-10-16 23:59:32,381 - nn-real-hvd - INFO -   1807     1 96045.3     0.0   0.002 0.10000\n",
      "2018-10-16 23:59:32,428 - nn-real-hvd - INFO -   1808     1 98329.0     0.0   0.002 0.10000\n",
      "2018-10-16 23:59:32,428 - nn-real-hvd - INFO -   1808     1 98329.0     0.0   0.002 0.10000\n",
      "2018-10-16 23:59:32,474 - nn-real-hvd - INFO -   1809     1 99051.6     0.0   0.002 0.10000\n",
      "2018-10-16 23:59:32,474 - nn-real-hvd - INFO -   1809     1 99051.6     0.0   0.002 0.10000\n",
      "2018-10-16 23:59:32,522 - nn-real-hvd - INFO -   1810     1 95033.2     0.0   0.002 0.10000\n",
      "2018-10-16 23:59:32,522 - nn-real-hvd - INFO -   1810     1 95033.2     0.0   0.002 0.10000\n",
      "2018-10-16 23:59:32,571 - nn-real-hvd - INFO -   1811     1 93964.6     0.0   0.002 0.10000\n",
      "2018-10-16 23:59:32,571 - nn-real-hvd - INFO -   1811     1 93964.6     0.0   0.002 0.10000\n"
     ]
    },
    {
     "name": "stdout",
     "output_type": "stream",
     "text": [
      "Invalid Range: could not broadcast input array from shape (2179,257) into shape (2179,258)\n",
      "Time for Getting  0  random elements:  0:00:00.004333\n",
      "Invalid Range: could not broadcast input array from shape (2111,257) into shape (2111,258)\n",
      "Time for Getting  0  random elements:  0:00:00.004440\n",
      "Invalid Range: could not broadcast input array from shape (2226,257) into shape (2226,258)\n",
      "Time for Getting  0  random elements:  0:00:00.004239\n",
      "Invalid Range: could not broadcast input array from shape (2133,257) into shape (2133,258)\n",
      "Time for Getting  0  random elements:  0:00:00.004005\n",
      "Invalid Range: could not broadcast input array from shape (2082,257) into shape (2082,258)\n",
      "Time for Getting  0  random elements:  0:00:00.004070\n"
     ]
    },
    {
     "name": "stderr",
     "output_type": "stream",
     "text": [
      "2018-10-16 23:59:32,621 - nn-real-hvd - INFO -   1812     1 91749.4     0.0   0.002 0.10000\n",
      "2018-10-16 23:59:32,621 - nn-real-hvd - INFO -   1812     1 91749.4     0.0   0.002 0.10000\n",
      "2018-10-16 23:59:32,670 - nn-real-hvd - INFO -   1813     1 91100.9     0.0   0.002 0.10000\n",
      "2018-10-16 23:59:32,670 - nn-real-hvd - INFO -   1813     1 91100.9     0.0   0.002 0.10000\n",
      "2018-10-16 23:59:32,719 - nn-real-hvd - INFO -   1814     1 94498.1     0.0   0.002 0.10000\n",
      "2018-10-16 23:59:32,719 - nn-real-hvd - INFO -   1814     1 94498.1     0.0   0.002 0.10000\n",
      "2018-10-16 23:59:32,766 - nn-real-hvd - INFO -   1815     1 97044.7     0.0   0.002 0.10000\n",
      "2018-10-16 23:59:32,766 - nn-real-hvd - INFO -   1815     1 97044.7     0.0   0.002 0.10000\n",
      "2018-10-16 23:59:32,815 - nn-real-hvd - INFO -   1816     1 94194.9     0.0   0.002 0.10000\n",
      "2018-10-16 23:59:32,815 - nn-real-hvd - INFO -   1816     1 94194.9     0.0   0.002 0.10000\n"
     ]
    },
    {
     "name": "stdout",
     "output_type": "stream",
     "text": [
      "Invalid Range: could not broadcast input array from shape (2118,257) into shape (2118,258)\n",
      "Time for Getting  0  random elements:  0:00:00.004198\n",
      "Invalid Range: could not broadcast input array from shape (2100,257) into shape (2100,258)\n",
      "Time for Getting  0  random elements:  0:00:00.004049\n",
      "Invalid Range: could not broadcast input array from shape (2096,257) into shape (2096,258)\n",
      "Time for Getting  0  random elements:  0:00:00.004434\n",
      "Invalid Range: could not broadcast input array from shape (2137,257) into shape (2137,258)\n",
      "Time for Getting  0  random elements:  0:00:00.004599\n",
      "Invalid Range: could not broadcast input array from shape (2175,257) into shape (2175,258)\n",
      "Time for Getting  0  random elements:  0:00:00.004207\n"
     ]
    },
    {
     "name": "stderr",
     "output_type": "stream",
     "text": [
      "2018-10-16 23:59:32,863 - nn-real-hvd - INFO -   1817     1 95643.9     0.0   0.002 0.10000\n",
      "2018-10-16 23:59:32,863 - nn-real-hvd - INFO -   1817     1 95643.9     0.0   0.002 0.10000\n",
      "2018-10-16 23:59:32,910 - nn-real-hvd - INFO -   1818     1 96207.1     0.0   0.002 0.10000\n",
      "2018-10-16 23:59:32,910 - nn-real-hvd - INFO -   1818     1 96207.1     0.0   0.002 0.10000\n",
      "2018-10-16 23:59:32,959 - nn-real-hvd - INFO -   1819     1 94585.7     0.0   0.002 0.10000\n",
      "2018-10-16 23:59:32,959 - nn-real-hvd - INFO -   1819     1 94585.7     0.0   0.002 0.10000\n",
      "2018-10-16 23:59:33,006 - nn-real-hvd - INFO -   1820     1 96728.6     0.0   0.002 0.10000\n",
      "2018-10-16 23:59:33,006 - nn-real-hvd - INFO -   1820     1 96728.6     0.0   0.002 0.10000\n",
      "2018-10-16 23:59:33,054 - nn-real-hvd - INFO -   1821     1 95911.3     0.0   0.002 0.10000\n",
      "2018-10-16 23:59:33,054 - nn-real-hvd - INFO -   1821     1 95911.3     0.0   0.002 0.10000\n"
     ]
    },
    {
     "name": "stdout",
     "output_type": "stream",
     "text": [
      "Invalid Range: could not broadcast input array from shape (2083,257) into shape (2083,258)\n",
      "Time for Getting  0  random elements:  0:00:00.003917\n",
      "Invalid Range: could not broadcast input array from shape (2202,257) into shape (2202,258)\n",
      "Time for Getting  0  random elements:  0:00:00.004476\n",
      "Invalid Range: could not broadcast input array from shape (2145,257) into shape (2145,258)\n",
      "Time for Getting  0  random elements:  0:00:00.004354\n",
      "Invalid Range: could not broadcast input array from shape (2108,257) into shape (2108,258)\n",
      "Time for Getting  0  random elements:  0:00:00.004210\n",
      "Invalid Range: could not broadcast input array from shape (2150,257) into shape (2150,258)\n",
      "Time for Getting  0  random elements:  0:00:00.004180\n"
     ]
    },
    {
     "name": "stderr",
     "output_type": "stream",
     "text": [
      "2018-10-16 23:59:33,106 - nn-real-hvd - INFO -   1822     1 90829.3     0.0   0.002 0.10000\n",
      "2018-10-16 23:59:33,106 - nn-real-hvd - INFO -   1822     1 90829.3     0.0   0.002 0.10000\n",
      "2018-10-16 23:59:33,153 - nn-real-hvd - INFO -   1823     1 97360.3     0.0   0.002 0.10000\n",
      "2018-10-16 23:59:33,153 - nn-real-hvd - INFO -   1823     1 97360.3     0.0   0.002 0.10000\n",
      "2018-10-16 23:59:33,202 - nn-real-hvd - INFO -   1824     1 94806.0     0.0   0.002 0.10000\n",
      "2018-10-16 23:59:33,202 - nn-real-hvd - INFO -   1824     1 94806.0     0.0   0.002 0.10000\n",
      "2018-10-16 23:59:33,250 - nn-real-hvd - INFO -   1825     1 96349.5     0.0   0.002 0.10000\n",
      "2018-10-16 23:59:33,250 - nn-real-hvd - INFO -   1825     1 96349.5     0.0   0.002 0.10000\n",
      "2018-10-16 23:59:33,298 - nn-real-hvd - INFO -   1826     1 96834.6     0.0   0.002 0.10000\n",
      "2018-10-16 23:59:33,298 - nn-real-hvd - INFO -   1826     1 96834.6     0.0   0.002 0.10000\n"
     ]
    },
    {
     "name": "stdout",
     "output_type": "stream",
     "text": [
      "Invalid Range: could not broadcast input array from shape (2192,257) into shape (2192,258)\n",
      "Time for Getting  0  random elements:  0:00:00.004136\n",
      "Invalid Range: could not broadcast input array from shape (2132,257) into shape (2132,258)\n",
      "Time for Getting  0  random elements:  0:00:00.003910\n",
      "Invalid Range: could not broadcast input array from shape (2131,257) into shape (2131,258)\n",
      "Time for Getting  0  random elements:  0:00:00.004526\n",
      "Invalid Range: could not broadcast input array from shape (2168,257) into shape (2168,258)\n",
      "Time for Getting  0  random elements:  0:00:00.004358\n",
      "Invalid Range: could not broadcast input array from shape (2120,257) into shape (2120,258)\n",
      "Time for Getting  0  random elements:  0:00:00.004266\n"
     ]
    },
    {
     "name": "stderr",
     "output_type": "stream",
     "text": [
      "2018-10-16 23:59:33,346 - nn-real-hvd - INFO -   1827     1 94799.2     0.0   0.002 0.10000\n",
      "2018-10-16 23:59:33,346 - nn-real-hvd - INFO -   1827     1 94799.2     0.0   0.002 0.10000\n",
      "2018-10-16 23:59:33,394 - nn-real-hvd - INFO -   1828     1 94027.9     0.0   0.002 0.10000\n",
      "2018-10-16 23:59:33,394 - nn-real-hvd - INFO -   1828     1 94027.9     0.0   0.002 0.10000\n",
      "2018-10-16 23:59:33,441 - nn-real-hvd - INFO -   1829     1 97911.9     0.0   0.002 0.10000\n",
      "2018-10-16 23:59:33,441 - nn-real-hvd - INFO -   1829     1 97911.9     0.0   0.002 0.10000\n",
      "2018-10-16 23:59:33,490 - nn-real-hvd - INFO -   1830     1 96381.0     0.0   0.002 0.10000\n",
      "2018-10-16 23:59:33,490 - nn-real-hvd - INFO -   1830     1 96381.0     0.0   0.002 0.10000\n",
      "2018-10-16 23:59:33,538 - nn-real-hvd - INFO -   1831     1 93943.7     0.0   0.002 0.10000\n",
      "2018-10-16 23:59:33,538 - nn-real-hvd - INFO -   1831     1 93943.7     0.0   0.002 0.10000\n"
     ]
    },
    {
     "name": "stdout",
     "output_type": "stream",
     "text": [
      "Invalid Range: could not broadcast input array from shape (2183,257) into shape (2183,258)\n",
      "Time for Getting  0  random elements:  0:00:00.004443\n",
      "Invalid Range: could not broadcast input array from shape (2095,257) into shape (2095,258)\n",
      "Time for Getting  0  random elements:  0:00:00.004383\n",
      "Invalid Range: could not broadcast input array from shape (2111,257) into shape (2111,258)\n",
      "Time for Getting  0  random elements:  0:00:00.003887\n",
      "Invalid Range: could not broadcast input array from shape (2173,257) into shape (2173,258)\n",
      "Time for Getting  0  random elements:  0:00:00.004031\n",
      "Invalid Range: could not broadcast input array from shape (2143,257) into shape (2143,258)\n",
      "Time for Getting  0  random elements:  0:00:00.004123\n"
     ]
    },
    {
     "name": "stderr",
     "output_type": "stream",
     "text": [
      "2018-10-16 23:59:33,586 - nn-real-hvd - INFO -   1832     1 94497.1     0.0   0.002 0.10000\n",
      "2018-10-16 23:59:33,586 - nn-real-hvd - INFO -   1832     1 94497.1     0.0   0.002 0.10000\n",
      "2018-10-16 23:59:33,633 - nn-real-hvd - INFO -   1833     1 96767.4     0.0   0.002 0.10000\n",
      "2018-10-16 23:59:33,633 - nn-real-hvd - INFO -   1833     1 96767.4     0.0   0.002 0.10000\n",
      "2018-10-16 23:59:33,684 - nn-real-hvd - INFO -   1834     1 90177.1     0.0   0.002 0.10000\n",
      "2018-10-16 23:59:33,684 - nn-real-hvd - INFO -   1834     1 90177.1     0.0   0.002 0.10000\n",
      "2018-10-16 23:59:33,730 - nn-real-hvd - INFO -   1835     1 100447.6     0.0   0.002 0.10000\n",
      "2018-10-16 23:59:33,730 - nn-real-hvd - INFO -   1835     1 100447.6     0.0   0.002 0.10000\n",
      "2018-10-16 23:59:33,777 - nn-real-hvd - INFO -   1836     1 97021.3     0.0   0.002 0.10000\n",
      "2018-10-16 23:59:33,777 - nn-real-hvd - INFO -   1836     1 97021.3     0.0   0.002 0.10000\n"
     ]
    },
    {
     "name": "stdout",
     "output_type": "stream",
     "text": [
      "Invalid Range: could not broadcast input array from shape (2103,257) into shape (2103,258)\n",
      "Time for Getting  0  random elements:  0:00:00.003942\n",
      "Invalid Range: could not broadcast input array from shape (2144,257) into shape (2144,258)\n",
      "Time for Getting  0  random elements:  0:00:00.003848\n",
      "Invalid Range: could not broadcast input array from shape (2159,257) into shape (2159,258)\n",
      "Time for Getting  0  random elements:  0:00:00.003988\n",
      "Invalid Range: could not broadcast input array from shape (2163,257) into shape (2163,258)\n",
      "Time for Getting  0  random elements:  0:00:00.003863\n",
      "Invalid Range: could not broadcast input array from shape (2168,257) into shape (2168,258)\n",
      "Time for Getting  0  random elements:  0:00:00.003989\n"
     ]
    },
    {
     "name": "stderr",
     "output_type": "stream",
     "text": [
      "2018-10-16 23:59:33,824 - nn-real-hvd - INFO -   1837     1 96610.8     0.0   0.002 0.10000\n",
      "2018-10-16 23:59:33,824 - nn-real-hvd - INFO -   1837     1 96610.8     0.0   0.002 0.10000\n",
      "2018-10-16 23:59:33,872 - nn-real-hvd - INFO -   1838     1 96618.8     0.0   0.002 0.10000\n",
      "2018-10-16 23:59:33,872 - nn-real-hvd - INFO -   1838     1 96618.8     0.0   0.002 0.10000\n",
      "2018-10-16 23:59:33,919 - nn-real-hvd - INFO -   1839     1 97088.3     0.0   0.002 0.10000\n",
      "2018-10-16 23:59:33,919 - nn-real-hvd - INFO -   1839     1 97088.3     0.0   0.002 0.10000\n",
      "2018-10-16 23:59:33,966 - nn-real-hvd - INFO -   1840     1 96929.1     0.0   0.002 0.10000\n",
      "2018-10-16 23:59:33,966 - nn-real-hvd - INFO -   1840     1 96929.1     0.0   0.002 0.10000\n",
      "2018-10-16 23:59:34,013 - nn-real-hvd - INFO -   1841     1 98022.1     0.0   0.002 0.10000\n",
      "2018-10-16 23:59:34,013 - nn-real-hvd - INFO -   1841     1 98022.1     0.0   0.002 0.10000\n"
     ]
    },
    {
     "name": "stdout",
     "output_type": "stream",
     "text": [
      "Invalid Range: could not broadcast input array from shape (2109,257) into shape (2109,258)\n",
      "Time for Getting  0  random elements:  0:00:00.004503\n",
      "Invalid Range: could not broadcast input array from shape (2214,257) into shape (2214,258)\n",
      "Time for Getting  0  random elements:  0:00:00.004242\n",
      "Invalid Range: could not broadcast input array from shape (2147,257) into shape (2147,258)\n",
      "Time for Getting  0  random elements:  0:00:00.004468\n",
      "Invalid Range: could not broadcast input array from shape (2067,257) into shape (2067,258)\n",
      "Time for Getting  0  random elements:  0:00:00.004455\n",
      "Invalid Range: could not broadcast input array from shape (2193,257) into shape (2193,258)\n",
      "Time for Getting  0  random elements:  0:00:00.004633\n"
     ]
    },
    {
     "name": "stderr",
     "output_type": "stream",
     "text": [
      "2018-10-16 23:59:34,062 - nn-real-hvd - INFO -   1842     1 95262.5     0.0   0.002 0.10000\n",
      "2018-10-16 23:59:34,062 - nn-real-hvd - INFO -   1842     1 95262.5     0.0   0.002 0.10000\n",
      "2018-10-16 23:59:34,109 - nn-real-hvd - INFO -   1843     1 96091.1     0.0   0.002 0.10000\n",
      "2018-10-16 23:59:34,109 - nn-real-hvd - INFO -   1843     1 96091.1     0.0   0.002 0.10000\n",
      "2018-10-16 23:59:34,157 - nn-real-hvd - INFO -   1844     1 95916.7     0.0   0.002 0.10000\n",
      "2018-10-16 23:59:34,157 - nn-real-hvd - INFO -   1844     1 95916.7     0.0   0.002 0.10000\n",
      "2018-10-16 23:59:34,210 - nn-real-hvd - INFO -   1845     1 87081.6     0.1   0.002 0.10000\n",
      "2018-10-16 23:59:34,210 - nn-real-hvd - INFO -   1845     1 87081.6     0.1   0.002 0.10000\n",
      "2018-10-16 23:59:34,258 - nn-real-hvd - INFO -   1846     1 94294.5     0.0   0.002 0.10000\n",
      "2018-10-16 23:59:34,258 - nn-real-hvd - INFO -   1846     1 94294.5     0.0   0.002 0.10000\n"
     ]
    },
    {
     "name": "stdout",
     "output_type": "stream",
     "text": [
      "Invalid Range: could not broadcast input array from shape (2151,257) into shape (2151,258)\n",
      "Time for Getting  0  random elements:  0:00:00.004402\n",
      "Invalid Range: could not broadcast input array from shape (2090,257) into shape (2090,258)\n",
      "Time for Getting  0  random elements:  0:00:00.004281\n",
      "Invalid Range: could not broadcast input array from shape (2140,257) into shape (2140,258)\n",
      "Time for Getting  0  random elements:  0:00:00.004208\n",
      "Invalid Range: could not broadcast input array from shape (2179,257) into shape (2179,258)\n",
      "Time for Getting  0  random elements:  0:00:00.004744\n",
      "Invalid Range: could not broadcast input array from shape (2109,257) into shape (2109,258)\n",
      "Time for Getting  0  random elements:  0:00:00.004426\n"
     ]
    },
    {
     "name": "stderr",
     "output_type": "stream",
     "text": [
      "2018-10-16 23:59:34,307 - nn-real-hvd - INFO -   1847     1 95878.1     0.0   0.002 0.10000\n",
      "2018-10-16 23:59:34,307 - nn-real-hvd - INFO -   1847     1 95878.1     0.0   0.002 0.10000\n",
      "2018-10-16 23:59:34,355 - nn-real-hvd - INFO -   1848     1 95329.5     0.0   0.002 0.10000\n",
      "2018-10-16 23:59:34,355 - nn-real-hvd - INFO -   1848     1 95329.5     0.0   0.002 0.10000\n",
      "2018-10-16 23:59:34,406 - nn-real-hvd - INFO -   1849     1 90934.8     0.0   0.002 0.10000\n",
      "2018-10-16 23:59:34,406 - nn-real-hvd - INFO -   1849     1 90934.8     0.0   0.002 0.10000\n",
      "2018-10-16 23:59:34,454 - nn-real-hvd - INFO -   1850     1 96318.5     0.0   0.002 0.10000\n",
      "2018-10-16 23:59:34,454 - nn-real-hvd - INFO -   1850     1 96318.5     0.0   0.002 0.10000\n",
      "2018-10-16 23:59:34,504 - nn-real-hvd - INFO -   1851     1 91664.6     0.0   0.002 0.10000\n",
      "2018-10-16 23:59:34,504 - nn-real-hvd - INFO -   1851     1 91664.6     0.0   0.002 0.10000\n"
     ]
    },
    {
     "name": "stdout",
     "output_type": "stream",
     "text": [
      "Invalid Range: could not broadcast input array from shape (2127,257) into shape (2127,258)\n",
      "Time for Getting  0  random elements:  0:00:00.004712\n",
      "Invalid Range: could not broadcast input array from shape (2114,257) into shape (2114,258)\n",
      "Time for Getting  0  random elements:  0:00:00.004007\n",
      "Invalid Range: could not broadcast input array from shape (2145,257) into shape (2145,258)\n",
      "Time for Getting  0  random elements:  0:00:00.004378\n",
      "Invalid Range: could not broadcast input array from shape (2131,257) into shape (2131,258)\n",
      "Time for Getting  0  random elements:  0:00:00.004209\n",
      "Invalid Range: could not broadcast input array from shape (2121,257) into shape (2121,258)\n"
     ]
    },
    {
     "name": "stderr",
     "output_type": "stream",
     "text": [
      "2018-10-16 23:59:34,555 - nn-real-hvd - INFO -   1852     1 90293.3     0.0   0.002 0.10000\n",
      "2018-10-16 23:59:34,555 - nn-real-hvd - INFO -   1852     1 90293.3     0.0   0.002 0.10000\n",
      "2018-10-16 23:59:34,604 - nn-real-hvd - INFO -   1853     1 92493.3     0.0   0.002 0.10000\n",
      "2018-10-16 23:59:34,604 - nn-real-hvd - INFO -   1853     1 92493.3     0.0   0.002 0.10000\n",
      "2018-10-16 23:59:34,654 - nn-real-hvd - INFO -   1854     1 92002.2     0.0   0.002 0.10000\n",
      "2018-10-16 23:59:34,654 - nn-real-hvd - INFO -   1854     1 92002.2     0.0   0.002 0.10000\n",
      "2018-10-16 23:59:34,704 - nn-real-hvd - INFO -   1855     1 91488.0     0.0   0.002 0.10000\n",
      "2018-10-16 23:59:34,704 - nn-real-hvd - INFO -   1855     1 91488.0     0.0   0.002 0.10000\n"
     ]
    },
    {
     "name": "stdout",
     "output_type": "stream",
     "text": [
      "Time for Getting  0  random elements:  0:00:00.004259\n",
      "Invalid Range: could not broadcast input array from shape (2200,257) into shape (2200,258)\n",
      "Time for Getting  0  random elements:  0:00:00.004292\n",
      "Invalid Range: could not broadcast input array from shape (2111,257) into shape (2111,258)\n",
      "Time for Getting  0  random elements:  0:00:00.004163\n",
      "Invalid Range: could not broadcast input array from shape (2122,257) into shape (2122,258)\n",
      "Time for Getting  0  random elements:  0:00:00.004284\n",
      "Invalid Range: could not broadcast input array from shape (2106,257) into shape (2106,258)\n",
      "Time for Getting  0 "
     ]
    },
    {
     "name": "stderr",
     "output_type": "stream",
     "text": [
      "2018-10-16 23:59:34,755 - nn-real-hvd - INFO -   1856     1 89469.8     0.0   0.002 0.10000\n",
      "2018-10-16 23:59:34,755 - nn-real-hvd - INFO -   1856     1 89469.8     0.0   0.002 0.10000\n",
      "2018-10-16 23:59:34,806 - nn-real-hvd - INFO -   1857     1 91027.1     0.0   0.002 0.10000\n",
      "2018-10-16 23:59:34,806 - nn-real-hvd - INFO -   1857     1 91027.1     0.0   0.002 0.10000\n",
      "2018-10-16 23:59:34,854 - nn-real-hvd - INFO -   1858     1 93801.7     0.0   0.002 0.10000\n",
      "2018-10-16 23:59:34,854 - nn-real-hvd - INFO -   1858     1 93801.7     0.0   0.002 0.10000\n",
      "2018-10-16 23:59:34,904 - nn-real-hvd - INFO -   1859     1 92767.0     0.0   0.002 0.10000\n",
      "2018-10-16 23:59:34,904 - nn-real-hvd - INFO -   1859     1 92767.0     0.0   0.002 0.10000\n"
     ]
    },
    {
     "name": "stdout",
     "output_type": "stream",
     "text": [
      " random elements:  0:00:00.003970\n",
      "Invalid Range: could not broadcast input array from shape (2104,257) into shape (2104,258)\n",
      "Time for Getting  0  random elements:  0:00:00.004039\n",
      "Invalid Range: could not broadcast input array from shape (2155,257) into shape (2155,258)\n",
      "Time for Getting  0  random elements:  0:00:00.004222\n",
      "Invalid Range: could not broadcast input array from shape (2123,257) into shape (2123,258)\n",
      "Time for Getting  0  random elements:  0:00:00.004301\n",
      "Invalid Range: could not broadcast input array from shape (2116,257) into shape (2116,258)\n",
      "Time for Getting  0  random elements:  0:00:00.004632\n"
     ]
    },
    {
     "name": "stderr",
     "output_type": "stream",
     "text": [
      "2018-10-16 23:59:34,954 - nn-real-hvd - INFO -   1860     1 91664.6     0.0   0.002 0.10000\n",
      "2018-10-16 23:59:34,954 - nn-real-hvd - INFO -   1860     1 91664.6     0.0   0.002 0.10000\n",
      "2018-10-16 23:59:35,003 - nn-real-hvd - INFO -   1861     1 93446.6     0.0   0.002 0.10000\n",
      "2018-10-16 23:59:35,003 - nn-real-hvd - INFO -   1861     1 93446.6     0.0   0.002 0.10000\n",
      "2018-10-16 23:59:35,051 - nn-real-hvd - INFO -   1862     1 94494.7     0.0   0.002 0.10000\n",
      "2018-10-16 23:59:35,051 - nn-real-hvd - INFO -   1862     1 94494.7     0.0   0.002 0.10000\n",
      "2018-10-16 23:59:35,101 - nn-real-hvd - INFO -   1863     1 92504.8     0.0   0.002 0.10000\n",
      "2018-10-16 23:59:35,101 - nn-real-hvd - INFO -   1863     1 92504.8     0.0   0.002 0.10000\n",
      "2018-10-16 23:59:35,149 - nn-real-hvd - INFO -   1864     1 95342.7     0.0   0.002 0.10000\n",
      "2018-10-16 23:59:35,149 - nn-real-hvd - INFO -   1864     1 95342.7     0.0   0.002 0.10000\n"
     ]
    },
    {
     "name": "stdout",
     "output_type": "stream",
     "text": [
      "Invalid Range: could not broadcast input array from shape (2100,257) into shape (2100,258)\n",
      "Time for Getting  0  random elements:  0:00:00.003954\n",
      "Invalid Range: could not broadcast input array from shape (2168,257) into shape (2168,258)\n",
      "Time for Getting  0  random elements:  0:00:00.004004\n",
      "Invalid Range: could not broadcast input array from shape (2176,257) into shape (2176,258)\n",
      "Time for Getting  0  random elements:  0:00:00.004560\n",
      "Invalid Range: could not broadcast input array from shape (2142,257) into shape (2142,258)\n",
      "Time for Getting  0  random elements:  0:00:00.004356\n",
      "Invalid Range: could not broadcast input array from shape (2162,257) into shape (2162,258)\n",
      "Time for Getting  0  random elements:  0:00:00.004025\n"
     ]
    },
    {
     "name": "stderr",
     "output_type": "stream",
     "text": [
      "2018-10-16 23:59:35,197 - nn-real-hvd - INFO -   1865     1 96245.5     0.0   0.002 0.10000\n",
      "2018-10-16 23:59:35,197 - nn-real-hvd - INFO -   1865     1 96245.5     0.0   0.002 0.10000\n",
      "2018-10-16 23:59:35,245 - nn-real-hvd - INFO -   1866     1 95013.3     0.0   0.002 0.10000\n",
      "2018-10-16 23:59:35,245 - nn-real-hvd - INFO -   1866     1 95013.3     0.0   0.002 0.10000\n",
      "2018-10-16 23:59:35,293 - nn-real-hvd - INFO -   1867     1 96181.7     0.0   0.002 0.10000\n",
      "2018-10-16 23:59:35,293 - nn-real-hvd - INFO -   1867     1 96181.7     0.0   0.002 0.10000\n",
      "2018-10-16 23:59:35,341 - nn-real-hvd - INFO -   1868     1 96372.5     0.0   0.002 0.10000\n",
      "2018-10-16 23:59:35,341 - nn-real-hvd - INFO -   1868     1 96372.5     0.0   0.002 0.10000\n",
      "2018-10-16 23:59:35,391 - nn-real-hvd - INFO -   1869     1 92120.1     0.0   0.002 0.10000\n",
      "2018-10-16 23:59:35,391 - nn-real-hvd - INFO -   1869     1 92120.1     0.0   0.002 0.10000\n"
     ]
    },
    {
     "name": "stdout",
     "output_type": "stream",
     "text": [
      "Invalid Range: could not broadcast input array from shape (2129,257) into shape (2129,258)\n",
      "Time for Getting  0  random elements:  0:00:00.004400\n",
      "Invalid Range: could not broadcast input array from shape (2144,257) into shape (2144,258)\n",
      "Time for Getting  0  random elements:  0:00:00.004267\n",
      "Invalid Range: could not broadcast input array from shape (2151,257) into shape (2151,258)\n",
      "Time for Getting  0  random elements:  0:00:00.004177\n",
      "Invalid Range: could not broadcast input array from shape (2143,257) into shape (2143,258)\n",
      "Time for Getting  0  random elements:  0:00:00.004017\n",
      "Invalid Range: could not broadcast input array from shape (2134,257) into shape (2134,258)\n",
      "Time for Getting  0  random elements:  0:00:00.004009\n"
     ]
    },
    {
     "name": "stderr",
     "output_type": "stream",
     "text": [
      "2018-10-16 23:59:35,441 - nn-real-hvd - INFO -   1870     1 91262.6     0.0   0.002 0.10000\n",
      "2018-10-16 23:59:35,441 - nn-real-hvd - INFO -   1870     1 91262.6     0.0   0.002 0.10000\n",
      "2018-10-16 23:59:35,487 - nn-real-hvd - INFO -   1871     1 98036.6     0.0   0.002 0.10000\n",
      "2018-10-16 23:59:35,487 - nn-real-hvd - INFO -   1871     1 98036.6     0.0   0.002 0.10000\n",
      "2018-10-16 23:59:35,536 - nn-real-hvd - INFO -   1872     1 94546.2     0.0   0.002 0.10000\n",
      "2018-10-16 23:59:35,536 - nn-real-hvd - INFO -   1872     1 94546.2     0.0   0.002 0.10000\n",
      "2018-10-16 23:59:35,585 - nn-real-hvd - INFO -   1873     1 95706.0     0.0   0.002 0.10000\n",
      "2018-10-16 23:59:35,585 - nn-real-hvd - INFO -   1873     1 95706.0     0.0   0.002 0.10000\n",
      "2018-10-16 23:59:35,639 - nn-real-hvd - INFO -   1874     1 85137.8     0.1   0.002 0.10000\n",
      "2018-10-16 23:59:35,639 - nn-real-hvd - INFO -   1874     1 85137.8     0.1   0.002 0.10000\n"
     ]
    },
    {
     "name": "stdout",
     "output_type": "stream",
     "text": [
      "Invalid Range: could not broadcast input array from shape (2145,257) into shape (2145,258)\n",
      "Time for Getting  0  random elements:  0:00:00.004595\n",
      "Invalid Range: could not broadcast input array from shape (2110,257) into shape (2110,258)\n",
      "Time for Getting  0  random elements:  0:00:00.004669\n",
      "Invalid Range: could not broadcast input array from shape (2102,257) into shape (2102,258)\n",
      "Time for Getting  0  random elements:  0:00:00.003828\n",
      "Invalid Range: could not broadcast input array from shape (2121,257) into shape (2121,258)\n",
      "Time for Getting  0  random elements:  0:00:00.004063\n",
      "Invalid Range: could not broadcast input array from shape (2097,257) into shape (2097,258)\n"
     ]
    },
    {
     "name": "stderr",
     "output_type": "stream",
     "text": [
      "2018-10-16 23:59:35,690 - nn-real-hvd - INFO -   1875     1 89590.7     0.0   0.002 0.10000\n",
      "2018-10-16 23:59:35,690 - nn-real-hvd - INFO -   1875     1 89590.7     0.0   0.002 0.10000\n",
      "2018-10-16 23:59:35,738 - nn-real-hvd - INFO -   1876     1 94687.5     0.0   0.002 0.10000\n",
      "2018-10-16 23:59:35,738 - nn-real-hvd - INFO -   1876     1 94687.5     0.0   0.002 0.10000\n",
      "2018-10-16 23:59:35,787 - nn-real-hvd - INFO -   1877     1 96290.0     0.0   0.002 0.10000\n",
      "2018-10-16 23:59:35,787 - nn-real-hvd - INFO -   1877     1 96290.0     0.0   0.002 0.10000\n",
      "2018-10-16 23:59:35,831 - nn-real-hvd - INFO -   1878     1 102193.6     0.0   0.002 0.10000\n",
      "2018-10-16 23:59:35,831 - nn-real-hvd - INFO -   1878     1 102193.6     0.0   0.002 0.10000\n"
     ]
    },
    {
     "name": "stdout",
     "output_type": "stream",
     "text": [
      "Time for Getting  0  random elements:  0:00:00.005355\n",
      "Invalid Range: could not broadcast input array from shape (2107,257) into shape (2107,258)\n",
      "Time for Getting  0  random elements:  0:00:00.003764\n",
      "Invalid Range: could not broadcast input array from shape (2131,257) into shape (2131,258)\n",
      "Time for Getting  0  random elements:  0:00:00.003799\n",
      "Invalid Range: could not broadcast input array from shape (2130,257) into shape (2130,258)\n",
      "Time for Getting  0  random elements:  0:00:00.003815\n",
      "Invalid Range: could not broadcast input array from shape (2157,257) into shape (2157,258)\n",
      "Time for Getting  0  random elements:  0:00:00.003629\n"
     ]
    },
    {
     "name": "stderr",
     "output_type": "stream",
     "text": [
      "2018-10-16 23:59:35,879 - nn-real-hvd - INFO -   1879     1 97527.6     0.0   0.002 0.10000\n",
      "2018-10-16 23:59:35,879 - nn-real-hvd - INFO -   1879     1 97527.6     0.0   0.002 0.10000\n",
      "2018-10-16 23:59:35,925 - nn-real-hvd - INFO -   1880     1 98366.5     0.0   0.002 0.10000\n",
      "2018-10-16 23:59:35,925 - nn-real-hvd - INFO -   1880     1 98366.5     0.0   0.002 0.10000\n",
      "2018-10-16 23:59:35,972 - nn-real-hvd - INFO -   1881     1 97551.2     0.0   0.002 0.10000\n",
      "2018-10-16 23:59:35,972 - nn-real-hvd - INFO -   1881     1 97551.2     0.0   0.002 0.10000\n",
      "2018-10-16 23:59:36,020 - nn-real-hvd - INFO -   1882     1 94650.8     0.0   0.002 0.10000\n",
      "2018-10-16 23:59:36,020 - nn-real-hvd - INFO -   1882     1 94650.8     0.0   0.002 0.10000\n",
      "2018-10-16 23:59:36,070 - nn-real-hvd - INFO -   1883     1 92312.0     0.0   0.002 0.10000\n",
      "2018-10-16 23:59:36,070 - nn-real-hvd - INFO -   1883     1 92312.0     0.0   0.002 0.10000\n"
     ]
    },
    {
     "name": "stdout",
     "output_type": "stream",
     "text": [
      "Invalid Range: could not broadcast input array from shape (2095,257) into shape (2095,258)\n",
      "Time for Getting  0  random elements:  0:00:00.004454\n",
      "Invalid Range: could not broadcast input array from shape (2124,257) into shape (2124,258)\n",
      "Time for Getting  0  random elements:  0:00:00.004210\n",
      "Invalid Range: could not broadcast input array from shape (2147,257) into shape (2147,258)\n",
      "Time for Getting  0  random elements:  0:00:00.004091\n",
      "Invalid Range: could not broadcast input array from shape (2152,257) into shape (2152,258)\n",
      "Time for Getting  0  random elements:  0:00:00.003919\n",
      "Invalid Range: could not broadcast input array from shape (2182,257) into shape (2182,258)\n",
      "Time for Getting  0  random elements:  0:00:00.004436\n"
     ]
    },
    {
     "name": "stderr",
     "output_type": "stream",
     "text": [
      "2018-10-16 23:59:36,119 - nn-real-hvd - INFO -   1884     1 94039.4     0.0   0.002 0.10000\n",
      "2018-10-16 23:59:36,119 - nn-real-hvd - INFO -   1884     1 94039.4     0.0   0.002 0.10000\n",
      "2018-10-16 23:59:36,170 - nn-real-hvd - INFO -   1885     1 88442.7     0.1   0.002 0.10000\n",
      "2018-10-16 23:59:36,170 - nn-real-hvd - INFO -   1885     1 88442.7     0.1   0.002 0.10000\n",
      "2018-10-16 23:59:36,220 - nn-real-hvd - INFO -   1886     1 91298.5     0.0   0.002 0.10000\n",
      "2018-10-16 23:59:36,220 - nn-real-hvd - INFO -   1886     1 91298.5     0.0   0.002 0.10000\n",
      "2018-10-16 23:59:36,270 - nn-real-hvd - INFO -   1887     1 92900.7     0.0   0.002 0.10000\n",
      "2018-10-16 23:59:36,270 - nn-real-hvd - INFO -   1887     1 92900.7     0.0   0.002 0.10000\n",
      "2018-10-16 23:59:36,320 - nn-real-hvd - INFO -   1888     1 91077.6     0.0   0.002 0.10000\n",
      "2018-10-16 23:59:36,320 - nn-real-hvd - INFO -   1888     1 91077.6     0.0   0.002 0.10000\n"
     ]
    },
    {
     "name": "stdout",
     "output_type": "stream",
     "text": [
      "Invalid Range: could not broadcast input array from shape (2101,257) into shape (2101,258)\n",
      "Time for Getting  0  random elements:  0:00:00.004665\n",
      "Invalid Range: could not broadcast input array from shape (2132,257) into shape (2132,258)\n",
      "Time for Getting  0  random elements:  0:00:00.004484\n",
      "Invalid Range: could not broadcast input array from shape (2094,257) into shape (2094,258)\n",
      "Time for Getting  0  random elements:  0:00:00.004137\n",
      "Invalid Range: could not broadcast input array from shape (2096,257) into shape (2096,258)\n",
      "Time for Getting  0  random elements:  0:00:00.004203\n"
     ]
    },
    {
     "name": "stderr",
     "output_type": "stream",
     "text": [
      "2018-10-16 23:59:36,370 - nn-real-hvd - INFO -   1889     1 95762.3     0.0   0.002 0.10000\n",
      "2018-10-16 23:59:36,370 - nn-real-hvd - INFO -   1889     1 95762.3     0.0   0.002 0.10000\n",
      "2018-10-16 23:59:36,419 - nn-real-hvd - INFO -   1890     1 94455.7     0.0   0.002 0.10000\n",
      "2018-10-16 23:59:36,419 - nn-real-hvd - INFO -   1890     1 94455.7     0.0   0.002 0.10000\n",
      "2018-10-16 23:59:36,466 - nn-real-hvd - INFO -   1891     1 96536.4     0.0   0.002 0.10000\n",
      "2018-10-16 23:59:36,466 - nn-real-hvd - INFO -   1891     1 96536.4     0.0   0.002 0.10000\n",
      "2018-10-16 23:59:36,514 - nn-real-hvd - INFO -   1892     1 96224.1     0.0   0.002 0.10000\n",
      "2018-10-16 23:59:36,514 - nn-real-hvd - INFO -   1892     1 96224.1     0.0   0.002 0.10000\n"
     ]
    },
    {
     "name": "stdout",
     "output_type": "stream",
     "text": [
      "Invalid Range: could not broadcast input array from shape (2130,257) into shape (2130,258)\n",
      "Time for Getting  0  random elements:  0:00:00.004503\n",
      "Invalid Range: could not broadcast input array from shape (2087,257) into shape (2087,258)\n",
      "Time for Getting  0  random elements:  0:00:00.003937\n",
      "Invalid Range: could not broadcast input array from shape (2084,257) into shape (2084,258)\n",
      "Time for Getting  0  random elements:  0:00:00.004397\n",
      "Invalid Range: could not broadcast input array from shape (2202,257) into shape (2202,258)\n",
      "Time for Getting  0  random elements:  0:00:00.004297\n",
      "Invalid Range: could not broadcast input array from shape (2163,257) into shape (2163,258)\n",
      "Time for Getting  0  random elements:  0:00:00.004755\n"
     ]
    },
    {
     "name": "stderr",
     "output_type": "stream",
     "text": [
      "2018-10-16 23:59:36,563 - nn-real-hvd - INFO -   1893     1 94271.5     0.0   0.002 0.10000\n",
      "2018-10-16 23:59:36,563 - nn-real-hvd - INFO -   1893     1 94271.5     0.0   0.002 0.10000\n",
      "2018-10-16 23:59:36,613 - nn-real-hvd - INFO -   1894     1 92055.2     0.0   0.002 0.10000\n",
      "2018-10-16 23:59:36,613 - nn-real-hvd - INFO -   1894     1 92055.2     0.0   0.002 0.10000\n",
      "2018-10-16 23:59:36,660 - nn-real-hvd - INFO -   1895     1 95560.7     0.0   0.002 0.10000\n",
      "2018-10-16 23:59:36,660 - nn-real-hvd - INFO -   1895     1 95560.7     0.0   0.002 0.10000\n",
      "2018-10-16 23:59:36,710 - nn-real-hvd - INFO -   1896     1 92587.4     0.0   0.002 0.10000\n",
      "2018-10-16 23:59:36,710 - nn-real-hvd - INFO -   1896     1 92587.4     0.0   0.002 0.10000\n",
      "2018-10-16 23:59:36,756 - nn-real-hvd - INFO -   1897     1 97974.0     0.0   0.002 0.10000\n",
      "2018-10-16 23:59:36,756 - nn-real-hvd - INFO -   1897     1 97974.0     0.0   0.002 0.10000\n"
     ]
    },
    {
     "name": "stdout",
     "output_type": "stream",
     "text": [
      "Invalid Range: could not broadcast input array from shape (2138,257) into shape (2138,258)\n",
      "Time for Getting  0  random elements:  0:00:00.004543\n",
      "Invalid Range: could not broadcast input array from shape (2125,257) into shape (2125,258)\n",
      "Time for Getting  0  random elements:  0:00:00.004442\n",
      "Invalid Range: could not broadcast input array from shape (2225,257) into shape (2225,258)\n",
      "Time for Getting  0  random elements:  0:00:00.004390\n",
      "Invalid Range: could not broadcast input array from shape (2099,257) into shape (2099,258)\n",
      "Time for Getting  0  random elements:  0:00:00.004390\n",
      "Invalid Range: could not broadcast input array from shape (2133,257) into shape (2133,258)\n",
      "Time for Getting  0  random elements:  0:00:00.004173\n"
     ]
    },
    {
     "name": "stderr",
     "output_type": "stream",
     "text": [
      "2018-10-16 23:59:36,804 - nn-real-hvd - INFO -   1898     1 96327.0     0.0   0.002 0.10000\n",
      "2018-10-16 23:59:36,804 - nn-real-hvd - INFO -   1898     1 96327.0     0.0   0.002 0.10000\n",
      "2018-10-16 23:59:36,853 - nn-real-hvd - INFO -   1899     1 93689.0     0.0   0.002 0.10000\n",
      "2018-10-16 23:59:36,853 - nn-real-hvd - INFO -   1899     1 93689.0     0.0   0.002 0.10000\n",
      "2018-10-16 23:59:36,900 - nn-real-hvd - INFO -   1900     1 97006.6     0.0   0.002 0.10000\n",
      "2018-10-16 23:59:36,900 - nn-real-hvd - INFO -   1900     1 97006.6     0.0   0.002 0.10000\n",
      "2018-10-16 23:59:36,949 - nn-real-hvd - INFO -   1901     1 92598.5     0.0   0.002 0.10000\n",
      "2018-10-16 23:59:36,949 - nn-real-hvd - INFO -   1901     1 92598.5     0.0   0.002 0.10000\n",
      "2018-10-16 23:59:36,999 - nn-real-hvd - INFO -   1902     1 92677.1     0.0   0.002 0.10000\n",
      "2018-10-16 23:59:36,999 - nn-real-hvd - INFO -   1902     1 92677.1     0.0   0.002 0.10000\n"
     ]
    },
    {
     "name": "stdout",
     "output_type": "stream",
     "text": [
      "Invalid Range: could not broadcast input array from shape (2154,257) into shape (2154,258)\n",
      "Time for Getting  0  random elements:  0:00:00.004393\n",
      "Invalid Range: could not broadcast input array from shape (2148,257) into shape (2148,258)\n",
      "Time for Getting  0  random elements:  0:00:00.004176\n",
      "Invalid Range: could not broadcast input array from shape (2133,257) into shape (2133,258)\n",
      "Time for Getting  0  random elements:  0:00:00.003849\n",
      "Invalid Range: could not broadcast input array from shape (2217,257) into shape (2217,258)\n",
      "Time for Getting  0  random elements:  0:00:00.004903\n",
      "Invalid Range: could not broadcast input array from shape (2147,257) into shape (2147,258)\n",
      "Time for Getting  0  random elements:  0:00:00.004202\n"
     ]
    },
    {
     "name": "stderr",
     "output_type": "stream",
     "text": [
      "2018-10-16 23:59:37,047 - nn-real-hvd - INFO -   1903     1 95523.3     0.0   0.002 0.10000\n",
      "2018-10-16 23:59:37,047 - nn-real-hvd - INFO -   1903     1 95523.3     0.0   0.002 0.10000\n",
      "2018-10-16 23:59:37,096 - nn-real-hvd - INFO -   1904     1 93259.2     0.0   0.002 0.10000\n",
      "2018-10-16 23:59:37,096 - nn-real-hvd - INFO -   1904     1 93259.2     0.0   0.002 0.10000\n",
      "2018-10-16 23:59:37,144 - nn-real-hvd - INFO -   1905     1 96096.0     0.0   0.002 0.10000\n",
      "2018-10-16 23:59:37,144 - nn-real-hvd - INFO -   1905     1 96096.0     0.0   0.002 0.10000\n",
      "2018-10-16 23:59:37,192 - nn-real-hvd - INFO -   1906     1 95895.4     0.0   0.002 0.10000\n",
      "2018-10-16 23:59:37,192 - nn-real-hvd - INFO -   1906     1 95895.4     0.0   0.002 0.10000\n",
      "2018-10-16 23:59:37,242 - nn-real-hvd - INFO -   1907     1 91738.0     0.0   0.002 0.10000\n",
      "2018-10-16 23:59:37,242 - nn-real-hvd - INFO -   1907     1 91738.0     0.0   0.002 0.10000\n"
     ]
    },
    {
     "name": "stdout",
     "output_type": "stream",
     "text": [
      "Invalid Range: could not broadcast input array from shape (2105,257) into shape (2105,258)\n",
      "Time for Getting  0  random elements:  0:00:00.004586\n",
      "Invalid Range: could not broadcast input array from shape (2109,257) into shape (2109,258)\n",
      "Time for Getting  0  random elements:  0:00:00.004192\n",
      "Invalid Range: could not broadcast input array from shape (2128,257) into shape (2128,258)\n",
      "Time for Getting  0  random elements:  0:00:00.004473\n",
      "Invalid Range: could not broadcast input array from shape (2122,257) into shape (2122,258)\n",
      "Time for Getting  0  random elements:  0:00:00.004414\n",
      "Invalid Range: could not broadcast input array from shape (2138,257) into shape (2138,258)\n",
      "Time for Getting  0  random elements:  0:00:00.004286\n"
     ]
    },
    {
     "name": "stderr",
     "output_type": "stream",
     "text": [
      "2018-10-16 23:59:37,292 - nn-real-hvd - INFO -   1908     1 90634.6     0.0   0.002 0.10000\n",
      "2018-10-16 23:59:37,292 - nn-real-hvd - INFO -   1908     1 90634.6     0.0   0.002 0.10000\n",
      "2018-10-16 23:59:37,341 - nn-real-hvd - INFO -   1909     1 92716.5     0.0   0.002 0.10000\n",
      "2018-10-16 23:59:37,341 - nn-real-hvd - INFO -   1909     1 92716.5     0.0   0.002 0.10000\n",
      "2018-10-16 23:59:37,392 - nn-real-hvd - INFO -   1910     1 89443.5     0.0   0.002 0.10000\n",
      "2018-10-16 23:59:37,392 - nn-real-hvd - INFO -   1910     1 89443.5     0.0   0.002 0.10000\n",
      "2018-10-16 23:59:37,442 - nn-real-hvd - INFO -   1911     1 91768.4     0.0   0.002 0.10000\n",
      "2018-10-16 23:59:37,442 - nn-real-hvd - INFO -   1911     1 91768.4     0.0   0.002 0.10000\n",
      "2018-10-16 23:59:37,490 - nn-real-hvd - INFO -   1912     1 95625.2     0.0   0.002 0.10000\n",
      "2018-10-16 23:59:37,490 - nn-real-hvd - INFO -   1912     1 95625.2     0.0   0.002 0.10000\n"
     ]
    },
    {
     "name": "stdout",
     "output_type": "stream",
     "text": [
      "Invalid Range: could not broadcast input array from shape (2088,257) into shape (2088,258)\n",
      "Time for Getting  0  random elements:  0:00:00.004466\n",
      "Invalid Range: could not broadcast input array from shape (2134,257) into shape (2134,258)\n",
      "Time for Getting  0  random elements:  0:00:00.004117\n",
      "Invalid Range: could not broadcast input array from shape (2136,257) into shape (2136,258)\n",
      "Time for Getting  0  random elements:  0:00:00.004116\n",
      "Invalid Range: could not broadcast input array from shape (2070,257) into shape (2070,258)\n",
      "Time for Getting  0  random elements:  0:00:00.004100\n",
      "Invalid Range: could not broadcast input array from shape (2140,257) into shape (2140,258)\n",
      "Time for Getting  0  random elements:  0:00:00.003902\n"
     ]
    },
    {
     "name": "stderr",
     "output_type": "stream",
     "text": [
      "2018-10-16 23:59:37,537 - nn-real-hvd - INFO -   1913     1 97234.3     0.0   0.002 0.10000\n",
      "2018-10-16 23:59:37,537 - nn-real-hvd - INFO -   1913     1 97234.3     0.0   0.002 0.10000\n",
      "2018-10-16 23:59:37,585 - nn-real-hvd - INFO -   1914     1 95221.9     0.0   0.002 0.10000\n",
      "2018-10-16 23:59:37,585 - nn-real-hvd - INFO -   1914     1 95221.9     0.0   0.002 0.10000\n",
      "2018-10-16 23:59:37,632 - nn-real-hvd - INFO -   1915     1 97475.9     0.0   0.002 0.10000\n",
      "2018-10-16 23:59:37,632 - nn-real-hvd - INFO -   1915     1 97475.9     0.0   0.002 0.10000\n",
      "2018-10-16 23:59:37,681 - nn-real-hvd - INFO -   1916     1 94671.6     0.0   0.002 0.10000\n",
      "2018-10-16 23:59:37,681 - nn-real-hvd - INFO -   1916     1 94671.6     0.0   0.002 0.10000\n",
      "2018-10-16 23:59:37,729 - nn-real-hvd - INFO -   1917     1 94994.8     0.0   0.002 0.10000\n",
      "2018-10-16 23:59:37,729 - nn-real-hvd - INFO -   1917     1 94994.8     0.0   0.002 0.10000\n"
     ]
    },
    {
     "name": "stdout",
     "output_type": "stream",
     "text": [
      "Invalid Range: could not broadcast input array from shape (2157,257) into shape (2157,258)\n",
      "Time for Getting  0  random elements:  0:00:00.003625\n",
      "Invalid Range: could not broadcast input array from shape (2134,257) into shape (2134,258)\n",
      "Time for Getting  0  random elements:  0:00:00.003787\n",
      "Invalid Range: could not broadcast input array from shape (2070,257) into shape (2070,258)\n",
      "Time for Getting  0  random elements:  0:00:00.004214\n",
      "Invalid Range: could not broadcast input array from shape (2127,257) into shape (2127,258)\n",
      "Time for Getting  0  random elements:  0:00:00.004137\n",
      "Invalid Range: could not broadcast input array from shape (2142,257) into shape (2142,258)\n",
      "Time for Getting  0  random elements:  0:00:00.004048\n"
     ]
    },
    {
     "name": "stderr",
     "output_type": "stream",
     "text": [
      "2018-10-16 23:59:37,778 - nn-real-hvd - INFO -   1918     1 91806.1     0.0   0.002 0.10000\n",
      "2018-10-16 23:59:37,778 - nn-real-hvd - INFO -   1918     1 91806.1     0.0   0.002 0.10000\n",
      "2018-10-16 23:59:37,825 - nn-real-hvd - INFO -   1919     1 97849.0     0.0   0.002 0.10000\n",
      "2018-10-16 23:59:37,825 - nn-real-hvd - INFO -   1919     1 97849.0     0.0   0.002 0.10000\n",
      "2018-10-16 23:59:37,872 - nn-real-hvd - INFO -   1920     1 97299.6     0.0   0.002 0.10000\n",
      "2018-10-16 23:59:37,872 - nn-real-hvd - INFO -   1920     1 97299.6     0.0   0.002 0.10000\n",
      "2018-10-16 23:59:37,920 - nn-real-hvd - INFO -   1921     1 96200.1     0.0   0.002 0.10000\n",
      "2018-10-16 23:59:37,920 - nn-real-hvd - INFO -   1921     1 96200.1     0.0   0.002 0.10000\n",
      "2018-10-16 23:59:37,966 - nn-real-hvd - INFO -   1922     1 99563.3     0.0   0.002 0.10000\n",
      "2018-10-16 23:59:37,966 - nn-real-hvd - INFO -   1922     1 99563.3     0.0   0.002 0.10000\n"
     ]
    },
    {
     "name": "stdout",
     "output_type": "stream",
     "text": [
      "Invalid Range: could not broadcast input array from shape (2149,257) into shape (2149,258)\n",
      "Time for Getting  0  random elements:  0:00:00.003675\n",
      "Invalid Range: could not broadcast input array from shape (2161,257) into shape (2161,258)\n",
      "Time for Getting  0  random elements:  0:00:00.004169\n",
      "Invalid Range: could not broadcast input array from shape (2166,257) into shape (2166,258)\n",
      "Time for Getting  0  random elements:  0:00:00.003681\n",
      "Invalid Range: could not broadcast input array from shape (2179,257) into shape (2179,258)\n",
      "Time for Getting  0  random elements:  0:00:00.004187\n",
      "Invalid Range: could not broadcast input array from shape (2055,257) into shape (2055,258)\n",
      "Time for Getting  0  random elements:  0:00:00.003943\n"
     ]
    },
    {
     "name": "stderr",
     "output_type": "stream",
     "text": [
      "2018-10-16 23:59:38,016 - nn-real-hvd - INFO -   1923     1 92047.4     0.0   0.002 0.10000\n",
      "2018-10-16 23:59:38,016 - nn-real-hvd - INFO -   1923     1 92047.4     0.0   0.002 0.10000\n",
      "2018-10-16 23:59:38,064 - nn-real-hvd - INFO -   1924     1 96229.6     0.0   0.002 0.10000\n",
      "2018-10-16 23:59:38,064 - nn-real-hvd - INFO -   1924     1 96229.6     0.0   0.002 0.10000\n",
      "2018-10-16 23:59:38,111 - nn-real-hvd - INFO -   1925     1 98499.6     0.0   0.002 0.10000\n",
      "2018-10-16 23:59:38,111 - nn-real-hvd - INFO -   1925     1 98499.6     0.0   0.002 0.10000\n",
      "2018-10-16 23:59:38,159 - nn-real-hvd - INFO -   1926     1 95531.2     0.0   0.002 0.10000\n",
      "2018-10-16 23:59:38,159 - nn-real-hvd - INFO -   1926     1 95531.2     0.0   0.002 0.10000\n",
      "2018-10-16 23:59:38,207 - nn-real-hvd - INFO -   1927     1 95779.1     0.0   0.002 0.10000\n",
      "2018-10-16 23:59:38,207 - nn-real-hvd - INFO -   1927     1 95779.1     0.0   0.002 0.10000\n"
     ]
    },
    {
     "name": "stdout",
     "output_type": "stream",
     "text": [
      "Invalid Range: could not broadcast input array from shape (2188,257) into shape (2188,258)\n",
      "Time for Getting  0  random elements:  0:00:00.004062\n",
      "Invalid Range: could not broadcast input array from shape (2101,257) into shape (2101,258)\n",
      "Time for Getting  0  random elements:  0:00:00.003957\n",
      "Invalid Range: could not broadcast input array from shape (2173,257) into shape (2173,258)\n",
      "Time for Getting  0  random elements:  0:00:00.004254\n",
      "Invalid Range: could not broadcast input array from shape (2107,257) into shape (2107,258)\n",
      "Time for Getting  0  random elements:  0:00:00.004412\n",
      "Invalid Range: could not broadcast input array from shape (2156,257) into shape (2156,258)\n",
      "Time for Getting  0  random elements:  0:00:00.004382\n"
     ]
    },
    {
     "name": "stderr",
     "output_type": "stream",
     "text": [
      "2018-10-16 23:59:38,257 - nn-real-hvd - INFO -   1928     1 91691.8     0.0   0.002 0.10000\n",
      "2018-10-16 23:59:38,257 - nn-real-hvd - INFO -   1928     1 91691.8     0.0   0.002 0.10000\n",
      "2018-10-16 23:59:38,305 - nn-real-hvd - INFO -   1929     1 95888.0     0.0   0.002 0.10000\n",
      "2018-10-16 23:59:38,305 - nn-real-hvd - INFO -   1929     1 95888.0     0.0   0.002 0.10000\n",
      "2018-10-16 23:59:38,353 - nn-real-hvd - INFO -   1930     1 95172.6     0.0   0.002 0.10000\n",
      "2018-10-16 23:59:38,353 - nn-real-hvd - INFO -   1930     1 95172.6     0.0   0.002 0.10000\n",
      "2018-10-16 23:59:38,403 - nn-real-hvd - INFO -   1931     1 91664.2     0.0   0.002 0.10000\n",
      "2018-10-16 23:59:38,403 - nn-real-hvd - INFO -   1931     1 91664.2     0.0   0.002 0.10000\n",
      "2018-10-16 23:59:38,454 - nn-real-hvd - INFO -   1932     1 90947.3     0.0   0.002 0.10000\n",
      "2018-10-16 23:59:38,454 - nn-real-hvd - INFO -   1932     1 90947.3     0.0   0.002 0.10000\n"
     ]
    },
    {
     "name": "stdout",
     "output_type": "stream",
     "text": [
      "Invalid Range: could not broadcast input array from shape (2154,257) into shape (2154,258)\n",
      "Time for Getting  0  random elements:  0:00:00.004079\n",
      "Invalid Range: could not broadcast input array from shape (2158,257) into shape (2158,258)\n",
      "Time for Getting  0  random elements:  0:00:00.004259\n",
      "Invalid Range: could not broadcast input array from shape (2094,257) into shape (2094,258)\n",
      "Time for Getting  0  random elements:  0:00:00.004110\n",
      "Invalid Range: could not broadcast input array from shape (2142,257) into shape (2142,258)\n",
      "Time for Getting  0  random elements:  0:00:00.004143\n",
      "Invalid Range: could not broadcast input array from shape (2109,257) into shape (2109,258)\n",
      "Time for Getting  0  random elements:  0:00:00.004240\n"
     ]
    },
    {
     "name": "stderr",
     "output_type": "stream",
     "text": [
      "2018-10-16 23:59:38,502 - nn-real-hvd - INFO -   1933     1 94775.5     0.0   0.002 0.10000\n",
      "2018-10-16 23:59:38,502 - nn-real-hvd - INFO -   1933     1 94775.5     0.0   0.002 0.10000\n",
      "2018-10-16 23:59:38,550 - nn-real-hvd - INFO -   1934     1 93784.7     0.0   0.002 0.10000\n",
      "2018-10-16 23:59:38,550 - nn-real-hvd - INFO -   1934     1 93784.7     0.0   0.002 0.10000\n",
      "2018-10-16 23:59:38,597 - nn-real-hvd - INFO -   1935     1 98849.0     0.0   0.002 0.10000\n",
      "2018-10-16 23:59:38,597 - nn-real-hvd - INFO -   1935     1 98849.0     0.0   0.002 0.10000\n",
      "2018-10-16 23:59:38,644 - nn-real-hvd - INFO -   1936     1 97993.6     0.0   0.002 0.10000\n",
      "2018-10-16 23:59:38,644 - nn-real-hvd - INFO -   1936     1 97993.6     0.0   0.002 0.10000\n",
      "2018-10-16 23:59:38,693 - nn-real-hvd - INFO -   1937     1 93245.2     0.0   0.002 0.10000\n",
      "2018-10-16 23:59:38,693 - nn-real-hvd - INFO -   1937     1 93245.2     0.0   0.002 0.10000\n"
     ]
    },
    {
     "name": "stdout",
     "output_type": "stream",
     "text": [
      "Invalid Range: could not broadcast input array from shape (2058,257) into shape (2058,258)\n",
      "Time for Getting  0  random elements:  0:00:00.003853\n",
      "Invalid Range: could not broadcast input array from shape (2160,257) into shape (2160,258)\n",
      "Time for Getting  0  random elements:  0:00:00.003966\n",
      "Invalid Range: could not broadcast input array from shape (2143,257) into shape (2143,258)\n",
      "Time for Getting  0  random elements:  0:00:00.004032\n",
      "Invalid Range: could not broadcast input array from shape (2120,257) into shape (2120,258)\n",
      "Time for Getting  0  random elements:  0:00:00.004343\n",
      "Invalid Range: could not broadcast input array from shape (2120,257) into shape (2120,258)\n",
      "Time for Getting  0  random elements:  0:00:00.004729\n"
     ]
    },
    {
     "name": "stderr",
     "output_type": "stream",
     "text": [
      "2018-10-16 23:59:38,741 - nn-real-hvd - INFO -   1938     1 94073.2     0.0   0.002 0.10000\n",
      "2018-10-16 23:59:38,741 - nn-real-hvd - INFO -   1938     1 94073.2     0.0   0.002 0.10000\n",
      "2018-10-16 23:59:38,789 - nn-real-hvd - INFO -   1939     1 95102.4     0.0   0.002 0.10000\n",
      "2018-10-16 23:59:38,789 - nn-real-hvd - INFO -   1939     1 95102.4     0.0   0.002 0.10000\n",
      "2018-10-16 23:59:38,838 - nn-real-hvd - INFO -   1940     1 94951.0     0.0   0.002 0.10000\n",
      "2018-10-16 23:59:38,838 - nn-real-hvd - INFO -   1940     1 94951.0     0.0   0.002 0.10000\n",
      "2018-10-16 23:59:38,886 - nn-real-hvd - INFO -   1941     1 93470.1     0.0   0.002 0.10000\n",
      "2018-10-16 23:59:38,886 - nn-real-hvd - INFO -   1941     1 93470.1     0.0   0.002 0.10000\n",
      "2018-10-16 23:59:38,936 - nn-real-hvd - INFO -   1942     1 92477.6     0.0   0.002 0.10000\n",
      "2018-10-16 23:59:38,936 - nn-real-hvd - INFO -   1942     1 92477.6     0.0   0.002 0.10000\n"
     ]
    },
    {
     "name": "stdout",
     "output_type": "stream",
     "text": [
      "Invalid Range: could not broadcast input array from shape (2174,257) into shape (2174,258)\n",
      "Time for Getting  0  random elements:  0:00:00.004330\n",
      "Invalid Range: could not broadcast input array from shape (2149,257) into shape (2149,258)\n",
      "Time for Getting  0  random elements:  0:00:00.004431\n",
      "Invalid Range: could not broadcast input array from shape (2126,257) into shape (2126,258)\n",
      "Time for Getting  0  random elements:  0:00:00.004029\n",
      "Invalid Range: could not broadcast input array from shape (2128,257) into shape (2128,258)\n",
      "Time for Getting  0  random elements:  0:00:00.004208\n",
      "Invalid Range: could not broadcast input array from shape (2171,257) into shape (2171,258)\n",
      "Time for Getting  0  random elements:  0:00:00.004179\n"
     ]
    },
    {
     "name": "stderr",
     "output_type": "stream",
     "text": [
      "2018-10-16 23:59:38,986 - nn-real-hvd - INFO -   1943     1 92026.4     0.0   0.002 0.10000\n",
      "2018-10-16 23:59:38,986 - nn-real-hvd - INFO -   1943     1 92026.4     0.0   0.002 0.10000\n",
      "2018-10-16 23:59:39,031 - nn-real-hvd - INFO -   1944     1 100238.7     0.0   0.002 0.10000\n",
      "2018-10-16 23:59:39,031 - nn-real-hvd - INFO -   1944     1 100238.7     0.0   0.002 0.10000\n",
      "2018-10-16 23:59:39,080 - nn-real-hvd - INFO -   1945     1 94413.0     0.0   0.002 0.10000\n",
      "2018-10-16 23:59:39,080 - nn-real-hvd - INFO -   1945     1 94413.0     0.0   0.002 0.10000\n",
      "2018-10-16 23:59:39,127 - nn-real-hvd - INFO -   1946     1 98343.6     0.0   0.002 0.10000\n",
      "2018-10-16 23:59:39,127 - nn-real-hvd - INFO -   1946     1 98343.6     0.0   0.002 0.10000\n",
      "2018-10-16 23:59:39,175 - nn-real-hvd - INFO -   1947     1 96722.5     0.0   0.002 0.10000\n",
      "2018-10-16 23:59:39,175 - nn-real-hvd - INFO -   1947     1 96722.5     0.0   0.002 0.10000\n"
     ]
    },
    {
     "name": "stdout",
     "output_type": "stream",
     "text": [
      "Invalid Range: could not broadcast input array from shape (2159,257) into shape (2159,258)\n",
      "Time for Getting  0  random elements:  0:00:00.003835\n",
      "Invalid Range: could not broadcast input array from shape (2122,257) into shape (2122,258)\n",
      "Time for Getting  0  random elements:  0:00:00.004094\n",
      "Invalid Range: could not broadcast input array from shape (2119,257) into shape (2119,258)\n",
      "Time for Getting  0  random elements:  0:00:00.003865\n",
      "Invalid Range: could not broadcast input array from shape (2180,257) into shape (2180,258)\n",
      "Time for Getting  0  random elements:  0:00:00.004252\n",
      "Invalid Range: could not broadcast input array from shape (2166,257) into shape (2166,258)\n",
      "Time for Getting  0  random elements:  0:00:00.004199\n"
     ]
    },
    {
     "name": "stderr",
     "output_type": "stream",
     "text": [
      "2018-10-16 23:59:39,224 - nn-real-hvd - INFO -   1948     1 92570.3     0.0   0.002 0.10000\n",
      "2018-10-16 23:59:39,224 - nn-real-hvd - INFO -   1948     1 92570.3     0.0   0.002 0.10000\n",
      "2018-10-16 23:59:39,274 - nn-real-hvd - INFO -   1949     1 92236.8     0.0   0.002 0.10000\n",
      "2018-10-16 23:59:39,274 - nn-real-hvd - INFO -   1949     1 92236.8     0.0   0.002 0.10000\n",
      "2018-10-16 23:59:39,323 - nn-real-hvd - INFO -   1950     1 93909.0     0.0   0.002 0.10000\n",
      "2018-10-16 23:59:39,323 - nn-real-hvd - INFO -   1950     1 93909.0     0.0   0.002 0.10000\n",
      "2018-10-16 23:59:39,373 - nn-real-hvd - INFO -   1951     1 91863.3     0.0   0.002 0.10000\n",
      "2018-10-16 23:59:39,373 - nn-real-hvd - INFO -   1951     1 91863.3     0.0   0.002 0.10000\n",
      "2018-10-16 23:59:39,420 - nn-real-hvd - INFO -   1952     1 96844.2     0.0   0.002 0.10000\n",
      "2018-10-16 23:59:39,420 - nn-real-hvd - INFO -   1952     1 96844.2     0.0   0.002 0.10000\n"
     ]
    },
    {
     "name": "stdout",
     "output_type": "stream",
     "text": [
      "Invalid Range: could not broadcast input array from shape (2155,257) into shape (2155,258)\n",
      "Time for Getting  0  random elements:  0:00:00.004041\n",
      "Invalid Range: could not broadcast input array from shape (2188,257) into shape (2188,258)\n",
      "Time for Getting  0  random elements:  0:00:00.004498\n",
      "Invalid Range: could not broadcast input array from shape (2140,257) into shape (2140,258)\n",
      "Time for Getting  0  random elements:  0:00:00.004322\n",
      "Invalid Range: could not broadcast input array from shape (2142,257) into shape (2142,258)\n",
      "Time for Getting  0  random elements:  0:00:00.004432\n",
      "Invalid Range: could not broadcast input array from shape (2133,257) into shape (2133,258)\n",
      "Time for Getting  0  random elements:  0:00:00.004432\n"
     ]
    },
    {
     "name": "stderr",
     "output_type": "stream",
     "text": [
      "2018-10-16 23:59:39,471 - nn-real-hvd - INFO -   1953     1 90789.4     0.0   0.002 0.10000\n",
      "2018-10-16 23:59:39,471 - nn-real-hvd - INFO -   1953     1 90789.4     0.0   0.002 0.10000\n",
      "2018-10-16 23:59:39,522 - nn-real-hvd - INFO -   1954     1 90729.9     0.0   0.002 0.10000\n",
      "2018-10-16 23:59:39,522 - nn-real-hvd - INFO -   1954     1 90729.9     0.0   0.002 0.10000\n",
      "2018-10-16 23:59:39,568 - nn-real-hvd - INFO -   1955     1 99516.3     0.0   0.002 0.10000\n",
      "2018-10-16 23:59:39,568 - nn-real-hvd - INFO -   1955     1 99516.3     0.0   0.002 0.10000\n",
      "2018-10-16 23:59:39,614 - nn-real-hvd - INFO -   1956     1 100626.2     0.0   0.002 0.10000\n",
      "2018-10-16 23:59:39,614 - nn-real-hvd - INFO -   1956     1 100626.2     0.0   0.002 0.10000\n",
      "2018-10-16 23:59:39,662 - nn-real-hvd - INFO -   1957     1 95693.7     0.0   0.002 0.10000\n",
      "2018-10-16 23:59:39,662 - nn-real-hvd - INFO -   1957     1 95693.7     0.0   0.002 0.10000\n"
     ]
    },
    {
     "name": "stdout",
     "output_type": "stream",
     "text": [
      "Invalid Range: could not broadcast input array from shape (2127,257) into shape (2127,258)\n",
      "Time for Getting  0  random elements:  0:00:00.004406\n",
      "Invalid Range: could not broadcast input array from shape (2160,257) into shape (2160,258)\n",
      "Time for Getting  0  random elements:  0:00:00.003866\n",
      "Invalid Range: could not broadcast input array from shape (2163,257) into shape (2163,258)\n",
      "Time for Getting  0  random elements:  0:00:00.003642\n",
      "Invalid Range: could not broadcast input array from shape (2096,257) into shape (2096,258)\n",
      "Time for Getting  0  random elements:  0:00:00.003955\n",
      "Invalid Range: could not broadcast input array from shape (2147,257) into shape (2147,258)\n",
      "Time for Getting  0  random elements:  0:00:00.003992\n"
     ]
    },
    {
     "name": "stderr",
     "output_type": "stream",
     "text": [
      "2018-10-16 23:59:39,709 - nn-real-hvd - INFO -   1958     1 98074.4     0.0   0.002 0.10000\n",
      "2018-10-16 23:59:39,709 - nn-real-hvd - INFO -   1958     1 98074.4     0.0   0.002 0.10000\n",
      "2018-10-16 23:59:39,758 - nn-real-hvd - INFO -   1959     1 93265.3     0.0   0.002 0.10000\n",
      "2018-10-16 23:59:39,758 - nn-real-hvd - INFO -   1959     1 93265.3     0.0   0.002 0.10000\n",
      "2018-10-16 23:59:39,806 - nn-real-hvd - INFO -   1960     1 94684.1     0.0   0.002 0.10000\n",
      "2018-10-16 23:59:39,806 - nn-real-hvd - INFO -   1960     1 94684.1     0.0   0.002 0.10000\n",
      "2018-10-16 23:59:39,854 - nn-real-hvd - INFO -   1961     1 96141.8     0.0   0.002 0.10000\n",
      "2018-10-16 23:59:39,854 - nn-real-hvd - INFO -   1961     1 96141.8     0.0   0.002 0.10000\n",
      "2018-10-16 23:59:39,900 - nn-real-hvd - INFO -   1962     1 99041.0     0.0   0.002 0.10000\n",
      "2018-10-16 23:59:39,900 - nn-real-hvd - INFO -   1962     1 99041.0     0.0   0.002 0.10000\n"
     ]
    },
    {
     "name": "stdout",
     "output_type": "stream",
     "text": [
      "Invalid Range: could not broadcast input array from shape (2133,257) into shape (2133,258)\n",
      "Time for Getting  0  random elements:  0:00:00.004103\n",
      "Invalid Range: could not broadcast input array from shape (2153,257) into shape (2153,258)\n",
      "Time for Getting  0  random elements:  0:00:00.004370\n",
      "Invalid Range: could not broadcast input array from shape (2125,257) into shape (2125,258)\n",
      "Time for Getting  0  random elements:  0:00:00.004069\n",
      "Invalid Range: could not broadcast input array from shape (2134,257) into shape (2134,258)\n",
      "Time for Getting  0  random elements:  0:00:00.003727\n",
      "Invalid Range: could not broadcast input array from shape (2161,257) into shape (2161,258)\n",
      "Time for Getting  0  random elements:  0:00:00.003593\n"
     ]
    },
    {
     "name": "stderr",
     "output_type": "stream",
     "text": [
      "2018-10-16 23:59:39,950 - nn-real-hvd - INFO -   1963     1 91663.7     0.0   0.002 0.10000\n",
      "2018-10-16 23:59:39,950 - nn-real-hvd - INFO -   1963     1 91663.7     0.0   0.002 0.10000\n",
      "2018-10-16 23:59:39,998 - nn-real-hvd - INFO -   1964     1 95640.5     0.0   0.002 0.10000\n",
      "2018-10-16 23:59:39,998 - nn-real-hvd - INFO -   1964     1 95640.5     0.0   0.002 0.10000\n",
      "2018-10-16 23:59:40,047 - nn-real-hvd - INFO -   1965     1 93395.3     0.0   0.002 0.10000\n",
      "2018-10-16 23:59:40,047 - nn-real-hvd - INFO -   1965     1 93395.3     0.0   0.002 0.10000\n",
      "2018-10-16 23:59:40,094 - nn-real-hvd - INFO -   1966     1 97267.4     0.0   0.002 0.10000\n",
      "2018-10-16 23:59:40,094 - nn-real-hvd - INFO -   1966     1 97267.4     0.0   0.002 0.10000\n",
      "2018-10-16 23:59:40,142 - nn-real-hvd - INFO -   1967     1 94899.1     0.0   0.002 0.10000\n",
      "2018-10-16 23:59:40,142 - nn-real-hvd - INFO -   1967     1 94899.1     0.0   0.002 0.10000\n"
     ]
    },
    {
     "name": "stdout",
     "output_type": "stream",
     "text": [
      "Invalid Range: could not broadcast input array from shape (2138,257) into shape (2138,258)\n",
      "Time for Getting  0  random elements:  0:00:00.003966\n",
      "Invalid Range: could not broadcast input array from shape (2059,257) into shape (2059,258)\n",
      "Time for Getting  0  random elements:  0:00:00.003803\n",
      "Invalid Range: could not broadcast input array from shape (2089,257) into shape (2089,258)\n",
      "Time for Getting  0  random elements:  0:00:00.004014\n",
      "Invalid Range: could not broadcast input array from shape (2140,257) into shape (2140,258)\n",
      "Time for Getting  0  random elements:  0:00:00.003658\n",
      "Invalid Range: could not broadcast input array from shape (2158,257) into shape (2158,258)\n",
      "Time for Getting  0  random elements:  0:00:00.004340\n"
     ]
    },
    {
     "name": "stderr",
     "output_type": "stream",
     "text": [
      "2018-10-16 23:59:40,190 - nn-real-hvd - INFO -   1968     1 95485.5     0.0   0.002 0.10000\n",
      "2018-10-16 23:59:40,190 - nn-real-hvd - INFO -   1968     1 95485.5     0.0   0.002 0.10000\n",
      "2018-10-16 23:59:40,237 - nn-real-hvd - INFO -   1969     1 98204.1     0.0   0.002 0.10000\n",
      "2018-10-16 23:59:40,237 - nn-real-hvd - INFO -   1969     1 98204.1     0.0   0.002 0.10000\n",
      "2018-10-16 23:59:40,285 - nn-real-hvd - INFO -   1970     1 96051.8     0.0   0.002 0.10000\n",
      "2018-10-16 23:59:40,285 - nn-real-hvd - INFO -   1970     1 96051.8     0.0   0.002 0.10000\n",
      "2018-10-16 23:59:40,344 - nn-real-hvd - INFO -   1971     1 77467.1     0.1   0.002 0.10000\n",
      "2018-10-16 23:59:40,344 - nn-real-hvd - INFO -   1971     1 77467.1     0.1   0.002 0.10000\n",
      "2018-10-16 23:59:40,396 - nn-real-hvd - INFO -   1972     1 87902.4     0.1   0.002 0.10000\n",
      "2018-10-16 23:59:40,396 - nn-real-hvd - INFO -   1972     1 87902.4     0.1   0.002 0.10000\n"
     ]
    },
    {
     "name": "stdout",
     "output_type": "stream",
     "text": [
      "Invalid Range: could not broadcast input array from shape (2121,257) into shape (2121,258)\n",
      "Time for Getting  0  random elements:  0:00:00.004361\n",
      "Invalid Range: could not broadcast input array from shape (2115,257) into shape (2115,258)\n",
      "Time for Getting  0  random elements:  0:00:00.003986\n",
      "Invalid Range: could not broadcast input array from shape (2118,257) into shape (2118,258)\n",
      "Time for Getting  0  random elements:  0:00:00.004405\n",
      "Invalid Range: could not broadcast input array from shape (2124,257) into shape (2124,258)\n",
      "Time for Getting  0  random elements:  0:00:00.004365\n"
     ]
    },
    {
     "name": "stderr",
     "output_type": "stream",
     "text": [
      "2018-10-16 23:59:40,446 - nn-real-hvd - INFO -   1973     1 91958.0     0.0   0.002 0.10000\n",
      "2018-10-16 23:59:40,446 - nn-real-hvd - INFO -   1973     1 91958.0     0.0   0.002 0.10000\n",
      "2018-10-16 23:59:40,494 - nn-real-hvd - INFO -   1974     1 94474.0     0.0   0.002 0.10000\n",
      "2018-10-16 23:59:40,494 - nn-real-hvd - INFO -   1974     1 94474.0     0.0   0.002 0.10000\n",
      "2018-10-16 23:59:40,544 - nn-real-hvd - INFO -   1975     1 91341.6     0.0   0.002 0.10000\n",
      "2018-10-16 23:59:40,544 - nn-real-hvd - INFO -   1975     1 91341.6     0.0   0.002 0.10000\n",
      "2018-10-16 23:59:40,593 - nn-real-hvd - INFO -   1976     1 93667.7     0.0   0.002 0.10000\n",
      "2018-10-16 23:59:40,593 - nn-real-hvd - INFO -   1976     1 93667.7     0.0   0.002 0.10000\n"
     ]
    },
    {
     "name": "stdout",
     "output_type": "stream",
     "text": [
      "Invalid Range: could not broadcast input array from shape (2132,257) into shape (2132,258)\n",
      "Time for Getting  0  random elements:  0:00:00.004742\n",
      "Invalid Range: could not broadcast input array from shape (2117,257) into shape (2117,258)\n",
      "Time for Getting  0  random elements:  0:00:00.004098\n",
      "Invalid Range: could not broadcast input array from shape (2084,257) into shape (2084,258)\n",
      "Time for Getting  0  random elements:  0:00:00.004116\n",
      "Invalid Range: could not broadcast input array from shape (2082,257) into shape (2082,258)\n",
      "Time for Getting  0  random elements:  0:00:00.003754\n",
      "Invalid Range: could not broadcast input array from shape (2145,257) into shape (2145,258)\n",
      "Time for Getting  0  random elements:  0:00:00.004203\n"
     ]
    },
    {
     "name": "stderr",
     "output_type": "stream",
     "text": [
      "2018-10-16 23:59:40,642 - nn-real-hvd - INFO -   1977     1 93261.1     0.0   0.002 0.10000\n",
      "2018-10-16 23:59:40,642 - nn-real-hvd - INFO -   1977     1 93261.1     0.0   0.002 0.10000\n",
      "2018-10-16 23:59:40,696 - nn-real-hvd - INFO -   1978     1 83897.8     0.1   0.002 0.10000\n",
      "2018-10-16 23:59:40,696 - nn-real-hvd - INFO -   1978     1 83897.8     0.1   0.002 0.10000\n",
      "2018-10-16 23:59:40,745 - nn-real-hvd - INFO -   1979     1 95183.8     0.0   0.002 0.10000\n",
      "2018-10-16 23:59:40,745 - nn-real-hvd - INFO -   1979     1 95183.8     0.0   0.002 0.10000\n",
      "2018-10-16 23:59:40,794 - nn-real-hvd - INFO -   1980     1 92486.4     0.0   0.002 0.10000\n",
      "2018-10-16 23:59:40,794 - nn-real-hvd - INFO -   1980     1 92486.4     0.0   0.002 0.10000\n",
      "2018-10-16 23:59:40,842 - nn-real-hvd - INFO -   1981     1 95193.1     0.0   0.002 0.10000\n",
      "2018-10-16 23:59:40,842 - nn-real-hvd - INFO -   1981     1 95193.1     0.0   0.002 0.10000\n"
     ]
    },
    {
     "name": "stdout",
     "output_type": "stream",
     "text": [
      "Invalid Range: could not broadcast input array from shape (2159,257) into shape (2159,258)\n",
      "Time for Getting  0  random elements:  0:00:00.004990\n",
      "Invalid Range: could not broadcast input array from shape (2142,257) into shape (2142,258)\n",
      "Time for Getting  0  random elements:  0:00:00.003752\n",
      "Invalid Range: could not broadcast input array from shape (2156,257) into shape (2156,258)\n",
      "Time for Getting  0  random elements:  0:00:00.004100\n",
      "Invalid Range: could not broadcast input array from shape (2120,257) into shape (2120,258)\n",
      "Time for Getting  0  random elements:  0:00:00.003947\n",
      "Invalid Range: could not broadcast input array from shape (2055,257) into shape (2055,258)\n"
     ]
    },
    {
     "name": "stderr",
     "output_type": "stream",
     "text": [
      "2018-10-16 23:59:40,890 - nn-real-hvd - INFO -   1982     1 94314.6     0.0   0.002 0.10000\n",
      "2018-10-16 23:59:40,890 - nn-real-hvd - INFO -   1982     1 94314.6     0.0   0.002 0.10000\n",
      "2018-10-16 23:59:40,937 - nn-real-hvd - INFO -   1983     1 96822.4     0.0   0.002 0.10000\n",
      "2018-10-16 23:59:40,937 - nn-real-hvd - INFO -   1983     1 96822.4     0.0   0.002 0.10000\n",
      "2018-10-16 23:59:40,985 - nn-real-hvd - INFO -   1984     1 95299.6     0.0   0.002 0.10000\n",
      "2018-10-16 23:59:40,985 - nn-real-hvd - INFO -   1984     1 95299.6     0.0   0.002 0.10000\n",
      "2018-10-16 23:59:41,033 - nn-real-hvd - INFO -   1985     1 97047.2     0.0   0.002 0.10000\n",
      "2018-10-16 23:59:41,033 - nn-real-hvd - INFO -   1985     1 97047.2     0.0   0.002 0.10000\n"
     ]
    },
    {
     "name": "stdout",
     "output_type": "stream",
     "text": [
      "Time for Getting  0  random elements:  0:00:00.004238\n",
      "Invalid Range: could not broadcast input array from shape (2139,257) into shape (2139,258)\n",
      "Time for Getting  0  random elements:  0:00:00.004055\n",
      "Invalid Range: could not broadcast input array from shape (2160,257) into shape (2160,258)\n",
      "Time for Getting  0  random elements:  0:00:00.004447\n",
      "Invalid Range: could not broadcast input array from shape (2133,257) into shape (2133,258)\n",
      "Time for Getting  0  random elements:  0:00:00.004314\n",
      "Invalid Range: could not broadcast input array from shape (2105,257) into shape (2105,258)\n",
      "Time for Getting  0  random elements:  0:00:00.004425\n"
     ]
    },
    {
     "name": "stderr",
     "output_type": "stream",
     "text": [
      "2018-10-16 23:59:41,082 - nn-real-hvd - INFO -   1986     1 94060.3     0.0   0.002 0.10000\n",
      "2018-10-16 23:59:41,082 - nn-real-hvd - INFO -   1986     1 94060.3     0.0   0.002 0.10000\n",
      "2018-10-16 23:59:41,130 - nn-real-hvd - INFO -   1987     1 94518.3     0.0   0.002 0.10000\n",
      "2018-10-16 23:59:41,130 - nn-real-hvd - INFO -   1987     1 94518.3     0.0   0.002 0.10000\n",
      "2018-10-16 23:59:41,177 - nn-real-hvd - INFO -   1988     1 97031.0     0.0   0.002 0.10000\n",
      "2018-10-16 23:59:41,177 - nn-real-hvd - INFO -   1988     1 97031.0     0.0   0.002 0.10000\n",
      "2018-10-16 23:59:41,226 - nn-real-hvd - INFO -   1989     1 94763.9     0.0   0.002 0.10000\n",
      "2018-10-16 23:59:41,226 - nn-real-hvd - INFO -   1989     1 94763.9     0.0   0.002 0.10000\n",
      "2018-10-16 23:59:41,278 - nn-real-hvd - INFO -   1990     1 91680.5     0.0   0.002 0.10000\n",
      "2018-10-16 23:59:41,278 - nn-real-hvd - INFO -   1990     1 91680.5     0.0   0.002 0.10000\n"
     ]
    },
    {
     "name": "stdout",
     "output_type": "stream",
     "text": [
      "Invalid Range: could not broadcast input array from shape (2179,257) into shape (2179,258)\n",
      "Time for Getting  0  random elements:  0:00:00.004276\n",
      "Invalid Range: could not broadcast input array from shape (2111,257) into shape (2111,258)\n",
      "Time for Getting  0  random elements:  0:00:00.004050\n",
      "Invalid Range: could not broadcast input array from shape (2115,257) into shape (2115,258)\n",
      "Time for Getting  0  random elements:  0:00:00.004594\n",
      "Invalid Range: could not broadcast input array from shape (2107,257) into shape (2107,258)\n",
      "Time for Getting  0  random elements:  0:00:00.004236\n",
      "Invalid Range: could not broadcast input array from shape (2157,257) into shape (2157,258)\n"
     ]
    },
    {
     "name": "stderr",
     "output_type": "stream",
     "text": [
      "2018-10-16 23:59:41,328 - nn-real-hvd - INFO -   1991     1 91055.7     0.0   0.002 0.10000\n",
      "2018-10-16 23:59:41,328 - nn-real-hvd - INFO -   1991     1 91055.7     0.0   0.002 0.10000\n",
      "2018-10-16 23:59:41,380 - nn-real-hvd - INFO -   1992     1 87609.4     0.1   0.002 0.10000\n",
      "2018-10-16 23:59:41,380 - nn-real-hvd - INFO -   1992     1 87609.4     0.1   0.002 0.10000\n",
      "2018-10-16 23:59:41,431 - nn-real-hvd - INFO -   1993     1 89060.7     0.0   0.002 0.10000\n",
      "2018-10-16 23:59:41,431 - nn-real-hvd - INFO -   1993     1 89060.7     0.0   0.002 0.10000\n",
      "2018-10-16 23:59:41,478 - nn-real-hvd - INFO -   1994     1 98744.9     0.0   0.002 0.10000\n",
      "2018-10-16 23:59:41,478 - nn-real-hvd - INFO -   1994     1 98744.9     0.0   0.002 0.10000\n"
     ]
    },
    {
     "name": "stdout",
     "output_type": "stream",
     "text": [
      "Time for Getting  0  random elements:  0:00:00.004465\n",
      "Invalid Range: could not broadcast input array from shape (2139,257) into shape (2139,258)\n",
      "Time for Getting  0  random elements:  0:00:00.004224\n",
      "Invalid Range: could not broadcast input array from shape (2096,257) into shape (2096,258)\n",
      "Time for Getting  0  random elements:  0:00:00.004221\n",
      "Invalid Range: could not broadcast input array from shape (2159,257) into shape (2159,258)\n",
      "Time for Getting  0  random elements:  0:00:00.004117\n",
      "Invalid Range: could not broadcast input array from shape (2124,257) into shape (2124,258)\n",
      "Time for Getting  0  random elements:  0:00:00.004180\n"
     ]
    },
    {
     "name": "stderr",
     "output_type": "stream",
     "text": [
      "2018-10-16 23:59:41,526 - nn-real-hvd - INFO -   1995     1 95093.1     0.0   0.002 0.10000\n",
      "2018-10-16 23:59:41,526 - nn-real-hvd - INFO -   1995     1 95093.1     0.0   0.002 0.10000\n",
      "2018-10-16 23:59:41,573 - nn-real-hvd - INFO -   1996     1 98774.9     0.0   0.002 0.10000\n",
      "2018-10-16 23:59:41,573 - nn-real-hvd - INFO -   1996     1 98774.9     0.0   0.002 0.10000\n",
      "2018-10-16 23:59:41,621 - nn-real-hvd - INFO -   1997     1 95266.9     0.0   0.002 0.10000\n",
      "2018-10-16 23:59:41,621 - nn-real-hvd - INFO -   1997     1 95266.9     0.0   0.002 0.10000\n",
      "2018-10-16 23:59:41,669 - nn-real-hvd - INFO -   1998     1 95577.4     0.0   0.002 0.10000\n",
      "2018-10-16 23:59:41,669 - nn-real-hvd - INFO -   1998     1 95577.4     0.0   0.002 0.10000\n",
      "2018-10-16 23:59:41,715 - nn-real-hvd - INFO -   1999     1 98684.5     0.0   0.002 0.10000\n",
      "2018-10-16 23:59:41,715 - nn-real-hvd - INFO -   1999     1 98684.5     0.0   0.002 0.10000\n"
     ]
    },
    {
     "name": "stdout",
     "output_type": "stream",
     "text": [
      "Invalid Range: could not broadcast input array from shape (2115,257) into shape (2115,258)\n",
      "Time for Getting  0  random elements:  0:00:00.004141\n",
      "Invalid Range: could not broadcast input array from shape (2128,257) into shape (2128,258)\n",
      "Time for Getting  0  random elements:  0:00:00.003845\n",
      "Invalid Range: could not broadcast input array from shape (2166,257) into shape (2166,258)\n",
      "Time for Getting  0  random elements:  0:00:00.003829\n",
      "Invalid Range: could not broadcast input array from shape (2116,257) into shape (2116,258)\n",
      "Time for Getting  0  random elements:  0:00:00.004091\n",
      "Invalid Range: could not broadcast input array from shape (2142,257) into shape (2142,258)\n",
      "Time for Getting  0  random elements:  0:00:00.003785\n"
     ]
    },
    {
     "name": "stderr",
     "output_type": "stream",
     "text": [
      "2018-10-16 23:59:41,764 - nn-real-hvd - INFO -   2000     1 94171.0     0.0   0.002 0.10000\n",
      "2018-10-16 23:59:41,764 - nn-real-hvd - INFO -   2000     1 94171.0     0.0   0.002 0.10000\n",
      "2018-10-16 23:59:41,810 - nn-real-hvd - INFO -   2001     1 99511.0     0.0   0.002 0.10000\n",
      "2018-10-16 23:59:41,810 - nn-real-hvd - INFO -   2001     1 99511.0     0.0   0.002 0.10000\n",
      "2018-10-16 23:59:41,857 - nn-real-hvd - INFO -   2002     1 97717.1     0.0   0.002 0.10000\n",
      "2018-10-16 23:59:41,857 - nn-real-hvd - INFO -   2002     1 97717.1     0.0   0.002 0.10000\n",
      "2018-10-16 23:59:41,907 - nn-real-hvd - INFO -   2003     1 91749.4     0.0   0.002 0.10000\n",
      "2018-10-16 23:59:41,907 - nn-real-hvd - INFO -   2003     1 91749.4     0.0   0.002 0.10000\n",
      "2018-10-16 23:59:41,956 - nn-real-hvd - INFO -   2004     1 93453.1     0.0   0.002 0.10000\n",
      "2018-10-16 23:59:41,956 - nn-real-hvd - INFO -   2004     1 93453.1     0.0   0.002 0.10000\n"
     ]
    },
    {
     "name": "stdout",
     "output_type": "stream",
     "text": [
      "Invalid Range: could not broadcast input array from shape (2125,257) into shape (2125,258)\n",
      "Time for Getting  0  random elements:  0:00:00.004016\n",
      "Invalid Range: could not broadcast input array from shape (2181,257) into shape (2181,258)\n",
      "Time for Getting  0  random elements:  0:00:00.004287\n",
      "Invalid Range: could not broadcast input array from shape (2153,257) into shape (2153,258)\n",
      "Time for Getting  0  random elements:  0:00:00.004437\n",
      "Invalid Range: could not broadcast input array from shape (2179,257) into shape (2179,258)\n",
      "Time for Getting  0  random elements:  0:00:00.004693\n",
      "Invalid Range: could not broadcast input array from shape (2151,257) into shape (2151,258)\n",
      "Time for Getting  0  random elements:  0:00:00.003937\n"
     ]
    },
    {
     "name": "stderr",
     "output_type": "stream",
     "text": [
      "2018-10-16 23:59:42,007 - nn-real-hvd - INFO -   2005     1 88656.9     0.0   0.002 0.10000\n",
      "2018-10-16 23:59:42,007 - nn-real-hvd - INFO -   2005     1 88656.9     0.0   0.002 0.10000\n",
      "2018-10-16 23:59:42,055 - nn-real-hvd - INFO -   2006     1 95142.8     0.0   0.002 0.10000\n",
      "2018-10-16 23:59:42,055 - nn-real-hvd - INFO -   2006     1 95142.8     0.0   0.002 0.10000\n",
      "2018-10-16 23:59:42,103 - nn-real-hvd - INFO -   2007     1 95387.3     0.0   0.002 0.10000\n",
      "2018-10-16 23:59:42,103 - nn-real-hvd - INFO -   2007     1 95387.3     0.0   0.002 0.10000\n",
      "2018-10-16 23:59:42,149 - nn-real-hvd - INFO -   2008     1 100345.5     0.0   0.002 0.10000\n",
      "2018-10-16 23:59:42,149 - nn-real-hvd - INFO -   2008     1 100345.5     0.0   0.002 0.10000\n",
      "2018-10-16 23:59:42,196 - nn-real-hvd - INFO -   2009     1 97727.9     0.0   0.002 0.10000\n",
      "2018-10-16 23:59:42,196 - nn-real-hvd - INFO -   2009     1 97727.9     0.0   0.002 0.10000\n"
     ]
    },
    {
     "name": "stdout",
     "output_type": "stream",
     "text": [
      "Invalid Range: could not broadcast input array from shape (2098,257) into shape (2098,258)\n",
      "Time for Getting  0  random elements:  0:00:00.004409\n",
      "Invalid Range: could not broadcast input array from shape (2174,257) into shape (2174,258)\n",
      "Time for Getting  0  random elements:  0:00:00.004339\n",
      "Invalid Range: could not broadcast input array from shape (2182,257) into shape (2182,258)\n",
      "Time for Getting  0  random elements:  0:00:00.003851\n",
      "Invalid Range: could not broadcast input array from shape (2204,257) into shape (2204,258)\n",
      "Time for Getting  0  random elements:  0:00:00.003928\n",
      "Invalid Range: could not broadcast input array from shape (2118,257) into shape (2118,258)\n",
      "Time for Getting  0  random elements:  0:00:00.004169\n"
     ]
    },
    {
     "name": "stderr",
     "output_type": "stream",
     "text": [
      "2018-10-16 23:59:42,247 - nn-real-hvd - INFO -   2010     1 89932.4     0.0   0.002 0.10000\n",
      "2018-10-16 23:59:42,247 - nn-real-hvd - INFO -   2010     1 89932.4     0.0   0.002 0.10000\n",
      "2018-10-16 23:59:42,297 - nn-real-hvd - INFO -   2011     1 92330.9     0.0   0.002 0.10000\n",
      "2018-10-16 23:59:42,297 - nn-real-hvd - INFO -   2011     1 92330.9     0.0   0.002 0.10000\n",
      "2018-10-16 23:59:42,347 - nn-real-hvd - INFO -   2012     1 91151.9     0.0   0.002 0.10000\n",
      "2018-10-16 23:59:42,347 - nn-real-hvd - INFO -   2012     1 91151.9     0.0   0.002 0.10000\n",
      "2018-10-16 23:59:42,395 - nn-real-hvd - INFO -   2013     1 96081.1     0.0   0.002 0.10000\n",
      "2018-10-16 23:59:42,395 - nn-real-hvd - INFO -   2013     1 96081.1     0.0   0.002 0.10000\n",
      "2018-10-16 23:59:42,443 - nn-real-hvd - INFO -   2014     1 96470.6     0.0   0.002 0.10000\n",
      "2018-10-16 23:59:42,443 - nn-real-hvd - INFO -   2014     1 96470.6     0.0   0.002 0.10000\n"
     ]
    },
    {
     "name": "stdout",
     "output_type": "stream",
     "text": [
      "Invalid Range: could not broadcast input array from shape (2181,257) into shape (2181,258)\n",
      "Time for Getting  0  random elements:  0:00:00.004306\n",
      "Invalid Range: could not broadcast input array from shape (2120,257) into shape (2120,258)\n",
      "Time for Getting  0  random elements:  0:00:00.004260\n",
      "Invalid Range: could not broadcast input array from shape (2103,257) into shape (2103,258)\n",
      "Time for Getting  0  random elements:  0:00:00.004808\n",
      "Invalid Range: could not broadcast input array from shape (2181,257) into shape (2181,258)\n",
      "Time for Getting  0  random elements:  0:00:00.004154\n",
      "Invalid Range: could not broadcast input array from shape (2109,257) into shape (2109,258)\n",
      "Time for Getting  0  random elements:  0:00:00.003924\n"
     ]
    },
    {
     "name": "stderr",
     "output_type": "stream",
     "text": [
      "2018-10-16 23:59:42,491 - nn-real-hvd - INFO -   2015     1 95317.7     0.0   0.002 0.10000\n",
      "2018-10-16 23:59:42,491 - nn-real-hvd - INFO -   2015     1 95317.7     0.0   0.002 0.10000\n",
      "2018-10-16 23:59:42,541 - nn-real-hvd - INFO - Keyboard interrupt\n",
      "2018-10-16 23:59:42,541 - nn-real-hvd - INFO - Keyboard interrupt\n"
     ]
    },
    {
     "name": "stdout",
     "output_type": "stream",
     "text": [
      "Invalid Range: could not broadcast input array from shape (2101,257) into shape (2101,258)\n",
      "Time for Getting  0  random elements:  0:00:00.004625\n"
     ]
    }
   ],
   "source": [
    "for step in range(0, nstep):\n",
    "    ops_to_run = [total_loss, learning_rate, train_ops]\n",
    "    try:\n",
    "        start_time = time.time()\n",
    "        batch_dict= create_feed_dict('batch', DATA, FLAGS)        \n",
    "        if (hvd.rank() == 0 and summary_ops is not None and\n",
    "            (step == 0 or step+1 == nstep or\n",
    "             time.time() - last_summary_time > FLAGS.summary_interval)):\n",
    "            if step != 0:\n",
    "                last_summary_time += FLAGS.summary_interval            \n",
    "            reset_and_update(sess, local_init, batch_dict)\n",
    "            summary, loss, lr = sess.run([summary_ops] + ops_to_run, feed_dict=batch_dict)[:3]\n",
    "            train_writer.add_summary(summary, step)\n",
    "        else:\n",
    "            loss, lr = sess.run(ops_to_run, feed_dict=batch_dict)[:2]\n",
    "        elapsed = time.time() - start_time\n",
    "    except KeyboardInterrupt:\n",
    "        logger.info(\"Keyboard interrupt\")\n",
    "        break\n",
    "    except tf.errors.ResourceExhaustedError:\n",
    "        elapsed = -1.\n",
    "        loss    = 0.\n",
    "        lr      = -1\n",
    "        oom = True\n",
    "\n",
    "    if (hvd.rank() == 0 and saver is not None and\n",
    "        (time.time() - last_save_time > FLAGS.save_interval or step+1 == nstep)):\n",
    "        last_save_time += FLAGS.save_interval\n",
    "        save_path = saver.save(sess, checkpoint_file,\n",
    "                               global_step=trainer.global_step)\n",
    "        print(\"Checkpoint written to\", save_path)\n",
    "\n",
    "    if step >= FLAGS.nstep_burnin:\n",
    "        batch_times.append(elapsed)\n",
    "    \n",
    "    feature_per_sec = FLAGS.batch_size / elapsed\n",
    "    effective_accuracy = 100. / math.exp(min(loss,20.))\n",
    "    \n",
    "    if step == 0 or (step+1) % FLAGS.display_every == 0:\n",
    "        epoch = step*FLAGS.batch_size*hvd.size() // nrecord\n",
    "        logger.info(\"%6i %5i %7.1f %7.1f %7.3f %7.5f\" % (\n",
    "            step+1, epoch+1, feature_per_sec*hvd.size(), elapsed, loss, lr))\n",
    "    \n",
    "    if oom:\n",
    "        break\n",
    "        "
   ]
  }
 ],
 "metadata": {
  "kernelspec": {
   "display_name": "Python [conda env:tensorflow_p36]",
   "language": "python",
   "name": "conda-env-tensorflow_p36-py"
  },
  "language_info": {
   "codemirror_mode": {
    "name": "ipython",
    "version": 3
   },
   "file_extension": ".py",
   "mimetype": "text/x-python",
   "name": "python",
   "nbconvert_exporter": "python",
   "pygments_lexer": "ipython3",
   "version": "3.6.4"
  }
 },
 "nbformat": 4,
 "nbformat_minor": 2
}
