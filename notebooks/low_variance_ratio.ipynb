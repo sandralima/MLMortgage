{
 "cells": [
  {
   "cell_type": "code",
   "execution_count": 1,
   "metadata": {},
   "outputs": [
    {
     "name": "stderr",
     "output_type": "stream",
     "text": [
      "/home/ubuntu/anaconda3/envs/tensorflow_p36/lib/python3.6/site-packages/h5py/__init__.py:36: FutureWarning: Conversion of the second argument of issubdtype from `float` to `np.floating` is deprecated. In future, it will be treated as `np.float64 == np.dtype(float).type`.\n",
      "  from ._conv import register_converters as _register_converters\n"
     ]
    },
    {
     "name": "stdout",
     "output_type": "stream",
     "text": [
      "['/home/ubuntu/MLMortgage/src/data', '', '/home/ubuntu/src/cntk/bindings/python', '/home/ubuntu/anaconda3/envs/tensorflow_p36/lib/python36.zip', '/home/ubuntu/anaconda3/envs/tensorflow_p36/lib/python3.6', '/home/ubuntu/anaconda3/envs/tensorflow_p36/lib/python3.6/lib-dynload', '/home/ubuntu/anaconda3/envs/tensorflow_p36/lib/python3.6/site-packages', '/home/ubuntu/anaconda3/envs/tensorflow_p36/lib/python3.6/site-packages/IPython/extensions', '/home/ubuntu/.ipython']\n"
     ]
    },
    {
     "name": "stderr",
     "output_type": "stream",
     "text": [
      "/home/ubuntu/anaconda3/envs/tensorflow_p36/lib/python3.6/site-packages/psycopg2/__init__.py:144: UserWarning: The psycopg2 wheel package will be renamed from release 2.8; in order to keep installing from binary please use \"pip install psycopg2-binary\" instead. For details see: <http://initd.org/psycopg/docs/install.html#binary-install-from-pypi>.\n",
      "  \"\"\")\n",
      "2018-11-27 19:46:18,079 - matplotlib - DEBUG - CACHEDIR=/home/ubuntu/.cache/matplotlib\n",
      "2018-11-27 19:46:18,237 - matplotlib.font_manager - DEBUG - Using fontManager instance from /home/ubuntu/.cache/matplotlib/fontList.json\n",
      "2018-11-27 19:46:20,253 - matplotlib.backends - DEBUG - backend module://ipykernel.pylab.backend_inline version unknown\n"
     ]
    },
    {
     "data": {
      "text/plain": [
       "True"
      ]
     },
     "execution_count": 1,
     "metadata": {},
     "output_type": "execute_result"
    },
    {
     "name": "stderr",
     "output_type": "stream",
     "text": [
      "2018-11-27 19:46:21,107 - matplotlib.backends - DEBUG - backend module://ipykernel.pylab.backend_inline version unknown\n"
     ]
    }
   ],
   "source": [
    "import sys\n",
    "import os\n",
    "import pandas as pd\n",
    "from pathlib import Path\n",
    "from datetime import datetime\n",
    "import argparse\n",
    "import psutil\n",
    "import numpy as np\n",
    "import logging\n",
    "import numpy as np\n",
    "import tensorflow as tf\n",
    "import time\n",
    "import glob\n",
    "from tensorflow.python.framework import ops\n",
    "import math\n",
    "from dotenv import find_dotenv, load_dotenv\n",
    "import ftplib\n",
    "\n",
    "from sklearn import decomposition\n",
    "\n",
    "nb_dir = os.path.join(Path(os.getcwd()).parents[0], 'src', 'data')\n",
    "if nb_dir not in sys.path:\n",
    "    sys.path.insert(0, nb_dir)\n",
    "print(sys.path)\n",
    "import features_selection as fs\n",
    "import make_dataset as md\n",
    "import build_data as bd\n",
    "import get_raw_data as grd\n",
    "\n",
    "models_dir = os.path.join(Path(os.getcwd()).parents[0], 'src', 'models')\n",
    "if models_dir not in sys.path:\n",
    "    sys.path.insert(0, models_dir)\n",
    "import nn_real as nn\n",
    "\n",
    "load_dotenv(find_dotenv())"
   ]
  },
  {
   "cell_type": "code",
   "execution_count": 2,
   "metadata": {},
   "outputs": [
    {
     "name": "stdout",
     "output_type": "stream",
     "text": [
      "/home/ubuntu/MLMortgage/data/raw /home/ubuntu/MLMortgage/data/processed\n"
     ]
    }
   ],
   "source": [
    "pd.options.display.max_columns = 500\n",
    "pd.options.display.max_rows = 500\n",
    "\n",
    "RAW_DIR = os.path.join(Path(os.getcwd()).parents[0], 'data', 'raw') \n",
    "PRO_DIR = os.path.join(Path(os.getcwd()).parents[0], 'data', 'processed')\n",
    "RANDOM_SEED = 123  # Set the seed to get reproducable results.\n",
    "DT_FLOAT = np.float32\n",
    "NP_FLOAT = np.dtype('float32')\n",
    "\n",
    "train_dir = 'chuncks_random_c1millx2_train'\n",
    "valid_dir = 'chuncks_random_c1millx2_valid'\n",
    "test_dir = 'chuncks_random_c1millx2_test'\n",
    "train_period=[121,323] #[121,279] #[121, 143] \n",
    "valid_period=[324,329] #[280,285] #[144, 147] \n",
    "test_period=[330,342] #[286,304] #[148, 155]\n",
    "batch_size=50000\n",
    "\n",
    "\n",
    "print(RAW_DIR, PRO_DIR)"
   ]
  },
  {
   "cell_type": "code",
   "execution_count": 3,
   "metadata": {},
   "outputs": [],
   "source": [
    "def get_files_dict(train_dir, valid_dir, test_dir):        \n",
    "    ext = \"*.h5\"\n",
    "\n",
    "    files_dict = {'train': glob.glob(os.path.join(PRO_DIR, train_dir, ext)), \n",
    "                  'valid': glob.glob(os.path.join(PRO_DIR, valid_dir, ext)), \n",
    "                  'test': glob.glob(os.path.join(PRO_DIR, test_dir, ext))}\n",
    "\n",
    "    return files_dict\n",
    "\n",
    "def architecture_settings(files_dict):\n",
    "    architecture = {}    \n",
    "    ok_inputs = True\n",
    "    \n",
    "    for key in files_dict.keys():\n",
    "        total_records = 0\n",
    "        for file in files_dict[key]:                                \n",
    "            with pd.HDFStore(file) as dataset_file:\n",
    "                if (ok_inputs): \n",
    "                    index_length = len(dataset_file.get_storer(key+'/features').attrs.data_columns)\n",
    "                    architecture['n_input'] = dataset_file.get_storer(key+ '/features').ncols - index_length\n",
    "                    architecture['n_classes'] = dataset_file.get_storer(key+'/labels').ncols - index_length\n",
    "                    ok_inputs = False                \n",
    "                total_records += dataset_file.get_storer(key + '/features').nrows\n",
    "        architecture[key + '_num_examples'] = total_records                            \n",
    "    \n",
    "    architecture['total_num_examples'] = architecture['train_num_examples'] # 10000000\n",
    "    return architecture"
   ]
  },
  {
   "cell_type": "code",
   "execution_count": 4,
   "metadata": {},
   "outputs": [
    {
     "name": "stdout",
     "output_type": "stream",
     "text": [
      "{'n_input': 258, 'n_classes': 7, 'train_num_examples': 26769588, 'valid_num_examples': 901868, 'test_num_examples': 0, 'total_num_examples': 26769588}\n"
     ]
    }
   ],
   "source": [
    "#To sum up the dataset per worker (assuming the same size of files per worker approximately):\n",
    "files_dict = get_files_dict(train_dir, valid_dir, test_dir)\n",
    "architecture = architecture_settings(files_dict)\n",
    "print(architecture)"
   ]
  },
  {
   "cell_type": "code",
   "execution_count": 5,
   "metadata": {},
   "outputs": [
    {
     "name": "stdout",
     "output_type": "stream",
     "text": [
      "47 ['MBA_DAYS_DELINQUENT', 'CURRENT_INTEREST_RATE', 'LOANAGE', 'CURRENT_BALANCE', 'SCHEDULED_PRINCIPAL', 'SCHEDULED_MONTHLY_PANDI', 'LLMA2_CURRENT_INTEREST_SPREAD', 'LLMA2_C_IN_LAST_12_MONTHS', 'LLMA2_30_IN_LAST_12_MONTHS', 'LLMA2_60_IN_LAST_12_MONTHS', 'LLMA2_90_IN_LAST_12_MONTHS', 'LLMA2_FC_IN_LAST_12_MONTHS', 'LLMA2_REO_IN_LAST_12_MONTHS', 'LLMA2_0_IN_LAST_12_MONTHS', 'LLMA2_HIST_LAST_12_MONTHS_MIS', 'NUM_MODIF', 'P_RATE_TO_MOD', 'MOD_RATE', 'DIF_RATE', 'P_MONTHLY_PAY', 'MOD_MONTHLY_PAY', 'DIF_MONTHLY_PAY', 'CAPITALIZATION_AMT', 'MORTGAGE_RATE', 'FICO_SCORE_ORIGINATION', 'INITIAL_INTEREST_RATE', 'ORIGINAL_LTV', 'ORIGINAL_BALANCE', 'BACKEND_RATIO', 'ORIGINAL_TERM', 'SALE_PRICE', 'PREPAY_PENALTY_TERM', 'NUMBER_OF_UNITS', 'MARGIN', 'PERIODIC_RATE_CAP', 'PERIODIC_RATE_FLOOR', 'LIFETIME_RATE_CAP', 'LIFETIME_RATE_FLOOR', 'RATE_RESET_FREQUENCY', 'PAY_RESET_FREQUENCY', 'FIRST_RATE_RESET_PERIOD', 'LLMA2_ORIG_RATE_SPREAD', 'AGI', 'UR', 'LLMA2_ORIG_RATE_ORIG_MR_SPREAD', 'COUNT_INT_RATE_LESS', 'NUM_PRIME_ZIP']\n",
      "34 ['MBA_DAYS_DELINQUENT_NAN', 'CURRENT_INTEREST_RATE_NAN', 'LOANAGE_NAN', 'CURRENT_BALANCE_NAN', 'SCHEDULED_PRINCIPAL_NAN', 'SCHEDULED_MONTHLY_PANDI_NAN', 'LLMA2_CURRENT_INTEREST_SPREAD_NAN', 'NUM_MODIF_NAN', 'P_RATE_TO_MOD_NAN', 'MOD_RATE_NAN', 'DIF_RATE_NAN', 'P_MONTHLY_PAY_NAN', 'MOD_MONTHLY_PAY_NAN', 'DIF_MONTHLY_PAY_NAN', 'CAPITALIZATION_AMT_NAN', 'MORTGAGE_RATE_NAN', 'BACKEND_RATIO_NAN', 'ORIGINAL_TERM_NAN', 'SALE_PRICE_NAN', 'PREPAY_PENALTY_TERM_NAN', 'NUMBER_OF_UNITS_NAN', 'MARGIN_NAN', 'PERIODIC_RATE_CAP_NAN', 'PERIODIC_RATE_FLOOR_NAN', 'LIFETIME_RATE_CAP_NAN', 'LIFETIME_RATE_FLOOR_NAN', 'RATE_RESET_FREQUENCY_NAN', 'PAY_RESET_FREQUENCY_NAN', 'FIRST_RATE_RESET_PERIOD_NAN', 'LLMA2_ORIG_RATE_SPREAD_NAN', 'AGI_NAN', 'UR_NAN', 'LLMA2_ORIG_RATE_ORIG_MR_SPREAD_NAN', 'NUM_PRIME_ZIP_NAN']\n"
     ]
    }
   ],
   "source": [
    "numeric_cols = ['MBA_DAYS_DELINQUENT', 'MBA_DAYS_DELINQUENT_NAN',\n",
    "       'CURRENT_INTEREST_RATE', 'CURRENT_INTEREST_RATE_NAN', 'LOANAGE', 'LOANAGE_NAN',\n",
    "       'CURRENT_BALANCE', 'CURRENT_BALANCE_NAN', 'SCHEDULED_PRINCIPAL',\n",
    "       'SCHEDULED_PRINCIPAL_NAN', 'SCHEDULED_MONTHLY_PANDI',\n",
    "       'SCHEDULED_MONTHLY_PANDI_NAN', \n",
    "       'LLMA2_CURRENT_INTEREST_SPREAD', 'LLMA2_CURRENT_INTEREST_SPREAD_NAN',  \n",
    "       'LLMA2_C_IN_LAST_12_MONTHS',\n",
    "       'LLMA2_30_IN_LAST_12_MONTHS', 'LLMA2_60_IN_LAST_12_MONTHS',\n",
    "       'LLMA2_90_IN_LAST_12_MONTHS', 'LLMA2_FC_IN_LAST_12_MONTHS',\n",
    "       'LLMA2_REO_IN_LAST_12_MONTHS', 'LLMA2_0_IN_LAST_12_MONTHS',\n",
    "       'LLMA2_HIST_LAST_12_MONTHS_MIS', \n",
    "       'NUM_MODIF', 'NUM_MODIF_NAN', 'P_RATE_TO_MOD', 'P_RATE_TO_MOD_NAN', 'MOD_RATE',\n",
    "       'MOD_RATE_NAN', 'DIF_RATE', 'DIF_RATE_NAN', 'P_MONTHLY_PAY',\n",
    "       'P_MONTHLY_PAY_NAN', 'MOD_MONTHLY_PAY', 'MOD_MONTHLY_PAY_NAN',\n",
    "       'DIF_MONTHLY_PAY', 'DIF_MONTHLY_PAY_NAN', 'CAPITALIZATION_AMT',\n",
    "       'CAPITALIZATION_AMT_NAN', 'MORTGAGE_RATE', 'MORTGAGE_RATE_NAN',\n",
    "       'FICO_SCORE_ORIGINATION', 'INITIAL_INTEREST_RATE', 'ORIGINAL_LTV',\n",
    "       'ORIGINAL_BALANCE', 'BACKEND_RATIO', 'BACKEND_RATIO_NAN',\n",
    "       'ORIGINAL_TERM', 'ORIGINAL_TERM_NAN', 'SALE_PRICE', 'SALE_PRICE_NAN', \t   \n",
    "       'PREPAY_PENALTY_TERM', 'PREPAY_PENALTY_TERM_NAN', \n",
    "        'NUMBER_OF_UNITS', 'NUMBER_OF_UNITS_NAN', 'MARGIN',\n",
    "       'MARGIN_NAN', 'PERIODIC_RATE_CAP', 'PERIODIC_RATE_CAP_NAN',\n",
    "       'PERIODIC_RATE_FLOOR', 'PERIODIC_RATE_FLOOR_NAN', 'LIFETIME_RATE_CAP',\n",
    "       'LIFETIME_RATE_CAP_NAN', 'LIFETIME_RATE_FLOOR',\n",
    "       'LIFETIME_RATE_FLOOR_NAN', 'RATE_RESET_FREQUENCY',\n",
    "       'RATE_RESET_FREQUENCY_NAN', 'PAY_RESET_FREQUENCY',\n",
    "       'PAY_RESET_FREQUENCY_NAN', 'FIRST_RATE_RESET_PERIOD',\n",
    "       'FIRST_RATE_RESET_PERIOD_NAN', \t           \n",
    "       'LLMA2_ORIG_RATE_SPREAD', 'LLMA2_ORIG_RATE_SPREAD_NAN', \n",
    "       'AGI', 'AGI_NAN', 'UR', 'UR_NAN', 'LLMA2_ORIG_RATE_ORIG_MR_SPREAD', \n",
    "       'LLMA2_ORIG_RATE_ORIG_MR_SPREAD_NAN', 'COUNT_INT_RATE_LESS', 'NUM_PRIME_ZIP', 'NUM_PRIME_ZIP_NAN'\n",
    "       ]\n",
    "ncols = [x for x in numeric_cols if x.find('NAN')<0]\n",
    "nan_cols = [x for x in numeric_cols if x.find('NAN')>0]\n",
    "print(len(ncols), ncols)   \n",
    "print(len(nan_cols), nan_cols)   "
   ]
  },
  {
   "cell_type": "markdown",
   "metadata": {},
   "source": [
    "#### Numerical Features"
   ]
  },
  {
   "cell_type": "code",
   "execution_count": 6,
   "metadata": {},
   "outputs": [
    {
     "name": "stdout",
     "output_type": "stream",
     "text": [
      "/home/ubuntu/MLMortgage/data/processed/chuncks_random_c1millx2_train/temporalloandynmodifmrstaticitur15mill-16mill-train_0.h5 ...to load\n",
      "/home/ubuntu/MLMortgage/data/processed/chuncks_random_c1millx2_train/temporalloandynmodifmrstaticitur15mill-16mill-train_0.h5  loaded in RAM\n",
      "class_weights [  445264   736172   259623   614496 24186991   499157    27885]\n",
      "class_weights [0.983 0.972 0.99  0.977 0.096 0.981 0.999]\n",
      "/home/ubuntu/MLMortgage/data/processed/chuncks_random_c1millx2_valid/temporalloandynmodifmrstaticitur15mill-16mill-valid_0.h5 ...to load\n",
      "/home/ubuntu/MLMortgage/data/processed/chuncks_random_c1millx2_valid/temporalloandynmodifmrstaticitur15mill-16mill-valid_0.h5  loaded in RAM\n",
      "class_weights [ 14560  19805   6681  15002 835450   9960    410]\n",
      "class_weights [0.984 0.978 0.993 0.983 0.074 0.989 1.   ]\n"
     ]
    }
   ],
   "source": [
    "ALL_DATA = bd.get_h5_dataset(PRO_DIR, architecture, train_dir, valid_dir, None, train_period=train_period, valid_period=None, test_period=None, cols=None)\n",
    "#memory error:\n",
    "#ALL_DATA.train._dict[0]['dataset_features'] = np.array( ALL_DATA.train._dict[0]['dataset_features'])"
   ]
  },
  {
   "cell_type": "code",
   "execution_count": 7,
   "metadata": {},
   "outputs": [
    {
     "name": "stdout",
     "output_type": "stream",
     "text": [
      "dict_keys(['dataset_features', 'dataset_labels', 'nrows', 'init_index', 'end_index', 'class_weights'])\n",
      "258 ['MBA_DAYS_DELINQUENT', 'MBA_DAYS_DELINQUENT_NAN', 'CURRENT_INTEREST_RATE', 'CURRENT_INTEREST_RATE_NAN', 'LOANAGE', 'LOANAGE_NAN', 'CURRENT_BALANCE', 'CURRENT_BALANCE_NAN', 'SCHEDULED_PRINCIPAL', 'SCHEDULED_PRINCIPAL_NAN', 'SCHEDULED_MONTHLY_PANDI', 'SCHEDULED_MONTHLY_PANDI_NAN', 'LLMA2_CURRENT_INTEREST_SPREAD', 'LLMA2_CURRENT_INTEREST_SPREAD_NAN', 'LLMA2_C_IN_LAST_12_MONTHS', 'LLMA2_30_IN_LAST_12_MONTHS', 'LLMA2_60_IN_LAST_12_MONTHS', 'LLMA2_90_IN_LAST_12_MONTHS', 'LLMA2_FC_IN_LAST_12_MONTHS', 'LLMA2_REO_IN_LAST_12_MONTHS', 'LLMA2_0_IN_LAST_12_MONTHS', 'LLMA2_HIST_LAST_12_MONTHS_MIS', 'NUM_MODIF', 'NUM_MODIF_NAN', 'P_RATE_TO_MOD', 'P_RATE_TO_MOD_NAN', 'MOD_RATE', 'MOD_RATE_NAN', 'DIF_RATE', 'DIF_RATE_NAN', 'P_MONTHLY_PAY', 'P_MONTHLY_PAY_NAN', 'MOD_MONTHLY_PAY', 'MOD_MONTHLY_PAY_NAN', 'DIF_MONTHLY_PAY', 'DIF_MONTHLY_PAY_NAN', 'CAPITALIZATION_AMT', 'CAPITALIZATION_AMT_NAN', 'MORTGAGE_RATE', 'MORTGAGE_RATE_NAN', 'FICO_SCORE_ORIGINATION', 'INITIAL_INTEREST_RATE', 'ORIGINAL_LTV', 'ORIGINAL_BALANCE', 'BACKEND_RATIO', 'BACKEND_RATIO_NAN', 'ORIGINAL_TERM', 'ORIGINAL_TERM_NAN', 'SALE_PRICE', 'SALE_PRICE_NAN', 'PREPAY_PENALTY_TERM', 'PREPAY_PENALTY_TERM_NAN', 'NUMBER_OF_UNITS', 'NUMBER_OF_UNITS_NAN', 'MARGIN', 'MARGIN_NAN', 'PERIODIC_RATE_CAP', 'PERIODIC_RATE_CAP_NAN', 'PERIODIC_RATE_FLOOR', 'PERIODIC_RATE_FLOOR_NAN', 'LIFETIME_RATE_CAP', 'LIFETIME_RATE_CAP_NAN', 'LIFETIME_RATE_FLOOR', 'LIFETIME_RATE_FLOOR_NAN', 'RATE_RESET_FREQUENCY', 'RATE_RESET_FREQUENCY_NAN', 'PAY_RESET_FREQUENCY', 'PAY_RESET_FREQUENCY_NAN', 'FIRST_RATE_RESET_PERIOD', 'FIRST_RATE_RESET_PERIOD_NAN', 'LLMA2_PRIME', 'LLMA2_SUBPRIME', 'LLMA2_APPVAL_LT_SALEPRICE', 'LLMA2_ORIG_RATE_SPREAD', 'LLMA2_ORIG_RATE_SPREAD_NAN', 'AGI', 'AGI_NAN', 'UR', 'UR_NAN', 'LLMA2_ORIG_RATE_ORIG_MR_SPREAD', 'LLMA2_ORIG_RATE_ORIG_MR_SPREAD_NAN', 'COUNT_INT_RATE_LESS', 'NUM_PRIME_ZIP', 'NUM_PRIME_ZIP_NAN', 'MBA_DELINQUENCY_STATUS_0', 'MBA_DELINQUENCY_STATUS_3', 'MBA_DELINQUENCY_STATUS_6', 'MBA_DELINQUENCY_STATUS_9', 'MBA_DELINQUENCY_STATUS_C', 'MBA_DELINQUENCY_STATUS_F', 'MBA_DELINQUENCY_STATUS_R', 'BUYDOWN_FLAG_N', 'BUYDOWN_FLAG_U', 'BUYDOWN_FLAG_Y', 'NEGATIVE_AMORTIZATION_FLAG_N', 'NEGATIVE_AMORTIZATION_FLAG_U', 'NEGATIVE_AMORTIZATION_FLAG_Y', 'PREPAY_PENALTY_FLAG_N', 'PREPAY_PENALTY_FLAG_U', 'PREPAY_PENALTY_FLAG_Y', 'OCCUPANCY_TYPE_1', 'OCCUPANCY_TYPE_2', 'OCCUPANCY_TYPE_3', 'OCCUPANCY_TYPE_U', 'PRODUCT_TYPE_10', 'PRODUCT_TYPE_20', 'PRODUCT_TYPE_30', 'PRODUCT_TYPE_40', 'PRODUCT_TYPE_50', 'PRODUCT_TYPE_51', 'PRODUCT_TYPE_52', 'PRODUCT_TYPE_53', 'PRODUCT_TYPE_54', 'PRODUCT_TYPE_5A', 'PRODUCT_TYPE_5Z', 'PRODUCT_TYPE_60', 'PRODUCT_TYPE_61', 'PRODUCT_TYPE_62', 'PRODUCT_TYPE_63', 'PRODUCT_TYPE_6Z', 'PRODUCT_TYPE_70', 'PRODUCT_TYPE_80', 'PRODUCT_TYPE_81', 'PRODUCT_TYPE_82', 'PRODUCT_TYPE_83', 'PRODUCT_TYPE_84', 'PRODUCT_TYPE_8Z', 'PRODUCT_TYPE_U', 'PROPERTY_TYPE_1', 'PROPERTY_TYPE_2', 'PROPERTY_TYPE_3', 'PROPERTY_TYPE_4', 'PROPERTY_TYPE_5', 'PROPERTY_TYPE_6', 'PROPERTY_TYPE_7', 'PROPERTY_TYPE_8', 'PROPERTY_TYPE_9', 'PROPERTY_TYPE_M', 'PROPERTY_TYPE_U', 'PROPERTY_TYPE_Z', 'LOAN_PURPOSE_CATEGORY_P', 'LOAN_PURPOSE_CATEGORY_R', 'LOAN_PURPOSE_CATEGORY_U', 'DOCUMENTATION_TYPE_1', 'DOCUMENTATION_TYPE_2', 'DOCUMENTATION_TYPE_3', 'DOCUMENTATION_TYPE_U', 'CHANNEL_1', 'CHANNEL_2', 'CHANNEL_3', 'CHANNEL_4', 'CHANNEL_5', 'CHANNEL_6', 'CHANNEL_7', 'CHANNEL_8', 'CHANNEL_9', 'CHANNEL_A', 'CHANNEL_B', 'CHANNEL_C', 'CHANNEL_D', 'CHANNEL_U', 'LOAN_TYPE_1', 'LOAN_TYPE_2', 'LOAN_TYPE_3', 'LOAN_TYPE_4', 'LOAN_TYPE_5', 'LOAN_TYPE_6', 'LOAN_TYPE_U', 'IO_FLAG_N', 'IO_FLAG_U', 'IO_FLAG_Y', 'CONVERTIBLE_FLAG_N', 'CONVERTIBLE_FLAG_U', 'CONVERTIBLE_FLAG_Y', 'POOL_INSURANCE_FLAG_N', 'POOL_INSURANCE_FLAG_U', 'POOL_INSURANCE_FLAG_Y', 'STATE_AK', 'STATE_AL', 'STATE_AR', 'STATE_AZ', 'STATE_CA', 'STATE_CO', 'STATE_CT', 'STATE_DC', 'STATE_DE', 'STATE_FL', 'STATE_GA', 'STATE_HI', 'STATE_IA', 'STATE_ID', 'STATE_IL', 'STATE_IN', 'STATE_KS', 'STATE_KY', 'STATE_LA', 'STATE_MA', 'STATE_MD', 'STATE_ME', 'STATE_MI', 'STATE_MN', 'STATE_MO', 'STATE_MS', 'STATE_MT', 'STATE_NC', 'STATE_ND', 'STATE_NE', 'STATE_NH', 'STATE_NJ', 'STATE_NM', 'STATE_NV', 'STATE_NY', 'STATE_OH', 'STATE_OK', 'STATE_OR', 'STATE_PA', 'STATE_PR', 'STATE_RI', 'STATE_SC', 'STATE_SD', 'STATE_TN', 'STATE_TX', 'STATE_UT', 'STATE_VA', 'STATE_VT', 'STATE_WA', 'STATE_WI', 'STATE_WV', 'STATE_WY', 'CURRENT_INVESTOR_CODE_240', 'CURRENT_INVESTOR_CODE_250', 'CURRENT_INVESTOR_CODE_253', 'CURRENT_INVESTOR_CODE_U', 'ORIGINATION_YEAR_B1995', 'ORIGINATION_YEAR_1995', 'ORIGINATION_YEAR_1996', 'ORIGINATION_YEAR_1997', 'ORIGINATION_YEAR_1998', 'ORIGINATION_YEAR_1999', 'ORIGINATION_YEAR_2000', 'ORIGINATION_YEAR_2001', 'ORIGINATION_YEAR_2002', 'ORIGINATION_YEAR_2003', 'ORIGINATION_YEAR_2004', 'ORIGINATION_YEAR_2005', 'ORIGINATION_YEAR_2006', 'ORIGINATION_YEAR_2007', 'ORIGINATION_YEAR_2008', 'ORIGINATION_YEAR_2009', 'ORIGINATION_YEAR_2010', 'ORIGINATION_YEAR_2011', 'ORIGINATION_YEAR_2012', 'ORIGINATION_YEAR_2013', 'ORIGINATION_YEAR_2014', 'ORIGINATION_YEAR_2015', 'ORIGINATION_YEAR_2016', 'ORIGINATION_YEAR_2017', 'ORIGINATION_YEAR_2018']\n",
      "26769588\n"
     ]
    }
   ],
   "source": [
    "print(ALL_DATA.train._dict[0].keys())\n",
    "print(len(ALL_DATA.train.features_list), ALL_DATA.train.features_list)\n",
    "print(ALL_DATA.train._dict[0]['nrows'])"
   ]
  },
  {
   "cell_type": "code",
   "execution_count": 9,
   "metadata": {},
   "outputs": [
    {
     "name": "stdout",
     "output_type": "stream",
     "text": [
      "47 [0, 2, 4, 6, 8, 10, 12, 14, 15, 16, 17, 18, 19, 20, 21, 22, 24, 26, 28, 30, 32, 34, 36, 38, 40, 41, 42, 43, 44, 46, 48, 50, 52, 54, 56, 58, 60, 62, 64, 66, 68, 73, 75, 77, 79, 81, 82]\n"
     ]
    }
   ],
   "source": [
    "idx_ncols = [ALL_DATA.train.features_list.index(x) for x in ncols]\n",
    "#idx_nan_cols = [ALL_DATA.train.features_list.index(x) for x in nan_cols]\n",
    "print(len(idx_ncols), idx_ncols) #\n",
    "#print(len(idx_nan_cols), idx_nan_cols) #"
   ]
  },
  {
   "cell_type": "code",
   "execution_count": 12,
   "metadata": {
    "scrolled": true
   },
   "outputs": [
    {
     "name": "stdout",
     "output_type": "stream",
     "text": [
      "col_name:  MBA_DAYS_DELINQUENT nan_index: 0  variance:  0.50509465\n",
      "col_name:  CURRENT_INTEREST_RATE nan_index: 2  variance:  0.9388348\n",
      "col_name:  LOANAGE nan_index: 4  variance:  0.97283906\n",
      "col_name:  CURRENT_BALANCE nan_index: 6  variance:  0.8957204\n",
      "col_name:  SCHEDULED_PRINCIPAL nan_index: 8  variance:  0.50057817\n",
      "col_name:  SCHEDULED_MONTHLY_PANDI nan_index: 10  variance:  0.48812938\n",
      "col_name:  LLMA2_CURRENT_INTEREST_SPREAD nan_index: 12  variance:  0.9129148\n",
      "col_name:  LLMA2_C_IN_LAST_12_MONTHS nan_index: 14  variance:  0.7047084\n",
      "col_name:  LLMA2_30_IN_LAST_12_MONTHS nan_index: 15  variance:  0.9569083\n",
      "col_name:  LLMA2_60_IN_LAST_12_MONTHS nan_index: 16  variance:  0.9335807\n",
      "col_name:  LLMA2_90_IN_LAST_12_MONTHS nan_index: 17  variance:  0.91679287\n",
      "col_name:  LLMA2_FC_IN_LAST_12_MONTHS nan_index: 18  variance:  0.87633467\n",
      "col_name:  LLMA2_REO_IN_LAST_12_MONTHS nan_index: 19  variance:  0.0015364647\n",
      "col_name:  LLMA2_0_IN_LAST_12_MONTHS nan_index: 20  variance:  0.0047495975\n",
      "col_name:  LLMA2_HIST_LAST_12_MONTHS_MIS nan_index: 21  variance:  0.80293185\n",
      "col_name:  NUM_MODIF nan_index: 22  variance:  0.07813032\n",
      "col_name:  P_RATE_TO_MOD nan_index: 24  variance:  0.071935765\n",
      "col_name:  MOD_RATE nan_index: 26  variance:  0.067358375\n",
      "col_name:  DIF_RATE nan_index: 28  variance:  0.06563987\n",
      "col_name:  P_MONTHLY_PAY nan_index: 30  variance:  0.004466218\n",
      "i_ncol:  31\n",
      "col_name:  MOD_MONTHLY_PAY nan_index: 32  variance:  0.025838878\n",
      "col_name:  DIF_MONTHLY_PAY nan_index: 34  variance:  0.0018749299\n",
      "i_ncol:  35\n",
      "col_name:  CAPITALIZATION_AMT nan_index: 36  variance:  0.00013282201\n",
      "i_ncol:  37\n",
      "col_name:  MORTGAGE_RATE nan_index: 38  variance:  1.0157245\n",
      "col_name:  FICO_SCORE_ORIGINATION nan_index: 40  variance:  0.93980426\n",
      "col_name:  INITIAL_INTEREST_RATE nan_index: 41  variance:  0.9240489\n",
      "col_name:  ORIGINAL_LTV nan_index: 42  variance:  1.0167656\n",
      "col_name:  ORIGINAL_BALANCE nan_index: 43  variance:  0.9571723\n",
      "col_name:  BACKEND_RATIO nan_index: 44  variance:  0.4581131\n",
      "col_name:  ORIGINAL_TERM nan_index: 46  variance:  1.0195047\n",
      "col_name:  SALE_PRICE nan_index: 48  variance:  0.30820867\n",
      "col_name:  PREPAY_PENALTY_TERM nan_index: 50  variance:  0.020057814\n",
      "col_name:  NUMBER_OF_UNITS nan_index: 52  variance:  0.9699595\n",
      "col_name:  MARGIN nan_index: 54  variance:  0.15269905\n",
      "col_name:  PERIODIC_RATE_CAP nan_index: 56  variance:  0.11205708\n",
      "col_name:  PERIODIC_RATE_FLOOR nan_index: 58  variance:  0.15870447\n",
      "col_name:  LIFETIME_RATE_CAP nan_index: 60  variance:  0.118944295\n",
      "col_name:  LIFETIME_RATE_FLOOR nan_index: 62  variance:  0.13322854\n",
      "col_name:  RATE_RESET_FREQUENCY nan_index: 64  variance:  0.13411704\n",
      "col_name:  PAY_RESET_FREQUENCY nan_index: 66  variance:  0.08230558\n",
      "col_name:  FIRST_RATE_RESET_PERIOD nan_index: 68  variance:  0.111349866\n",
      "col_name:  LLMA2_ORIG_RATE_SPREAD nan_index: 73  variance:  0.91698146\n",
      "col_name:  AGI nan_index: 75  variance:  0.9054831\n",
      "col_name:  UR nan_index: 77  variance:  0.8283335\n",
      "col_name:  LLMA2_ORIG_RATE_ORIG_MR_SPREAD nan_index: 79  variance:  0.9062106\n",
      "col_name:  COUNT_INT_RATE_LESS nan_index: 81  variance:  0.98994225\n",
      "col_name:  NUM_PRIME_ZIP nan_index: 82  variance:  1.0000799\n"
     ]
    }
   ],
   "source": [
    "threshold = 0.01\n",
    "dropping_cols = []\n",
    "for i, col_name in zip(idx_ncols, ncols):    \n",
    "    column = [elem[i] for elem in ALL_DATA.train._dict[0]['dataset_features']]\n",
    "    var = np.var(np.array(column))\n",
    "    print('col_name: ', col_name, 'nan_index:', i, ' variance: ', var)\n",
    "    if var <= threshold:\n",
    "        k = col_name + '_NAN'\n",
    "        try:\n",
    "            i_ncol = ALL_DATA.train.features_list.index(k)\n",
    "            print('i_ncol: ', i_ncol)\n",
    "            dropping_cols.extend([i, i_ncol])\n",
    "        except  Exception  as e:\n",
    "            dropping_cols.extend([i])\n",
    "        "
   ]
  },
  {
   "cell_type": "code",
   "execution_count": 13,
   "metadata": {},
   "outputs": [
    {
     "name": "stdout",
     "output_type": "stream",
     "text": [
      "8 [19, 20, 30, 31, 34, 35, 36, 37]\n"
     ]
    }
   ],
   "source": [
    "print(len(dropping_cols), dropping_cols)"
   ]
  },
  {
   "cell_type": "markdown",
   "metadata": {},
   "source": [
    "#### Transforming and Saving Dataset"
   ]
  },
  {
   "cell_type": "code",
   "execution_count": 14,
   "metadata": {},
   "outputs": [],
   "source": [
    "for v in dropping_cols:\n",
    "    del ALL_DATA.train.features_list[v]        "
   ]
  },
  {
   "cell_type": "code",
   "execution_count": 15,
   "metadata": {},
   "outputs": [
    {
     "name": "stdout",
     "output_type": "stream",
     "text": [
      "250 ['MBA_DAYS_DELINQUENT', 'MBA_DAYS_DELINQUENT_NAN', 'CURRENT_INTEREST_RATE', 'CURRENT_INTEREST_RATE_NAN', 'LOANAGE', 'LOANAGE_NAN', 'CURRENT_BALANCE', 'CURRENT_BALANCE_NAN', 'SCHEDULED_PRINCIPAL', 'SCHEDULED_PRINCIPAL_NAN', 'SCHEDULED_MONTHLY_PANDI', 'SCHEDULED_MONTHLY_PANDI_NAN', 'LLMA2_CURRENT_INTEREST_SPREAD', 'LLMA2_CURRENT_INTEREST_SPREAD_NAN', 'LLMA2_C_IN_LAST_12_MONTHS', 'LLMA2_30_IN_LAST_12_MONTHS', 'LLMA2_60_IN_LAST_12_MONTHS', 'LLMA2_90_IN_LAST_12_MONTHS', 'LLMA2_FC_IN_LAST_12_MONTHS', 'LLMA2_0_IN_LAST_12_MONTHS', 'NUM_MODIF', 'NUM_MODIF_NAN', 'P_RATE_TO_MOD', 'P_RATE_TO_MOD_NAN', 'MOD_RATE', 'MOD_RATE_NAN', 'DIF_RATE', 'DIF_RATE_NAN', 'P_MONTHLY_PAY', 'P_MONTHLY_PAY_NAN', 'MOD_MONTHLY_PAY_NAN', 'DIF_MONTHLY_PAY_NAN', 'CAPITALIZATION_AMT', 'CAPITALIZATION_AMT_NAN', 'MORTGAGE_RATE_NAN', 'INITIAL_INTEREST_RATE', 'ORIGINAL_BALANCE', 'BACKEND_RATIO_NAN', 'ORIGINAL_TERM', 'ORIGINAL_TERM_NAN', 'SALE_PRICE', 'SALE_PRICE_NAN', 'PREPAY_PENALTY_TERM', 'PREPAY_PENALTY_TERM_NAN', 'NUMBER_OF_UNITS', 'NUMBER_OF_UNITS_NAN', 'MARGIN', 'MARGIN_NAN', 'PERIODIC_RATE_CAP', 'PERIODIC_RATE_CAP_NAN', 'PERIODIC_RATE_FLOOR', 'PERIODIC_RATE_FLOOR_NAN', 'LIFETIME_RATE_CAP', 'LIFETIME_RATE_CAP_NAN', 'LIFETIME_RATE_FLOOR', 'LIFETIME_RATE_FLOOR_NAN', 'RATE_RESET_FREQUENCY', 'RATE_RESET_FREQUENCY_NAN', 'PAY_RESET_FREQUENCY', 'PAY_RESET_FREQUENCY_NAN', 'FIRST_RATE_RESET_PERIOD', 'FIRST_RATE_RESET_PERIOD_NAN', 'LLMA2_PRIME', 'LLMA2_SUBPRIME', 'LLMA2_APPVAL_LT_SALEPRICE', 'LLMA2_ORIG_RATE_SPREAD', 'LLMA2_ORIG_RATE_SPREAD_NAN', 'AGI', 'AGI_NAN', 'UR', 'UR_NAN', 'LLMA2_ORIG_RATE_ORIG_MR_SPREAD', 'LLMA2_ORIG_RATE_ORIG_MR_SPREAD_NAN', 'COUNT_INT_RATE_LESS', 'NUM_PRIME_ZIP', 'NUM_PRIME_ZIP_NAN', 'MBA_DELINQUENCY_STATUS_0', 'MBA_DELINQUENCY_STATUS_3', 'MBA_DELINQUENCY_STATUS_6', 'MBA_DELINQUENCY_STATUS_9', 'MBA_DELINQUENCY_STATUS_C', 'MBA_DELINQUENCY_STATUS_F', 'MBA_DELINQUENCY_STATUS_R', 'BUYDOWN_FLAG_N', 'BUYDOWN_FLAG_U', 'BUYDOWN_FLAG_Y', 'NEGATIVE_AMORTIZATION_FLAG_N', 'NEGATIVE_AMORTIZATION_FLAG_U', 'NEGATIVE_AMORTIZATION_FLAG_Y', 'PREPAY_PENALTY_FLAG_N', 'PREPAY_PENALTY_FLAG_U', 'PREPAY_PENALTY_FLAG_Y', 'OCCUPANCY_TYPE_1', 'OCCUPANCY_TYPE_2', 'OCCUPANCY_TYPE_3', 'OCCUPANCY_TYPE_U', 'PRODUCT_TYPE_10', 'PRODUCT_TYPE_20', 'PRODUCT_TYPE_30', 'PRODUCT_TYPE_40', 'PRODUCT_TYPE_50', 'PRODUCT_TYPE_51', 'PRODUCT_TYPE_52', 'PRODUCT_TYPE_53', 'PRODUCT_TYPE_54', 'PRODUCT_TYPE_5A', 'PRODUCT_TYPE_5Z', 'PRODUCT_TYPE_60', 'PRODUCT_TYPE_61', 'PRODUCT_TYPE_62', 'PRODUCT_TYPE_63', 'PRODUCT_TYPE_6Z', 'PRODUCT_TYPE_70', 'PRODUCT_TYPE_80', 'PRODUCT_TYPE_81', 'PRODUCT_TYPE_82', 'PRODUCT_TYPE_83', 'PRODUCT_TYPE_84', 'PRODUCT_TYPE_8Z', 'PRODUCT_TYPE_U', 'PROPERTY_TYPE_1', 'PROPERTY_TYPE_2', 'PROPERTY_TYPE_3', 'PROPERTY_TYPE_4', 'PROPERTY_TYPE_5', 'PROPERTY_TYPE_6', 'PROPERTY_TYPE_7', 'PROPERTY_TYPE_8', 'PROPERTY_TYPE_9', 'PROPERTY_TYPE_M', 'PROPERTY_TYPE_U', 'PROPERTY_TYPE_Z', 'LOAN_PURPOSE_CATEGORY_P', 'LOAN_PURPOSE_CATEGORY_R', 'LOAN_PURPOSE_CATEGORY_U', 'DOCUMENTATION_TYPE_1', 'DOCUMENTATION_TYPE_2', 'DOCUMENTATION_TYPE_3', 'DOCUMENTATION_TYPE_U', 'CHANNEL_1', 'CHANNEL_2', 'CHANNEL_3', 'CHANNEL_4', 'CHANNEL_5', 'CHANNEL_6', 'CHANNEL_7', 'CHANNEL_8', 'CHANNEL_9', 'CHANNEL_A', 'CHANNEL_B', 'CHANNEL_C', 'CHANNEL_D', 'CHANNEL_U', 'LOAN_TYPE_1', 'LOAN_TYPE_2', 'LOAN_TYPE_3', 'LOAN_TYPE_4', 'LOAN_TYPE_5', 'LOAN_TYPE_6', 'LOAN_TYPE_U', 'IO_FLAG_N', 'IO_FLAG_U', 'IO_FLAG_Y', 'CONVERTIBLE_FLAG_N', 'CONVERTIBLE_FLAG_U', 'CONVERTIBLE_FLAG_Y', 'POOL_INSURANCE_FLAG_N', 'POOL_INSURANCE_FLAG_U', 'POOL_INSURANCE_FLAG_Y', 'STATE_AK', 'STATE_AL', 'STATE_AR', 'STATE_AZ', 'STATE_CA', 'STATE_CO', 'STATE_CT', 'STATE_DC', 'STATE_DE', 'STATE_FL', 'STATE_GA', 'STATE_HI', 'STATE_IA', 'STATE_ID', 'STATE_IL', 'STATE_IN', 'STATE_KS', 'STATE_KY', 'STATE_LA', 'STATE_MA', 'STATE_MD', 'STATE_ME', 'STATE_MI', 'STATE_MN', 'STATE_MO', 'STATE_MS', 'STATE_MT', 'STATE_NC', 'STATE_ND', 'STATE_NE', 'STATE_NH', 'STATE_NJ', 'STATE_NM', 'STATE_NV', 'STATE_NY', 'STATE_OH', 'STATE_OK', 'STATE_OR', 'STATE_PA', 'STATE_PR', 'STATE_RI', 'STATE_SC', 'STATE_SD', 'STATE_TN', 'STATE_TX', 'STATE_UT', 'STATE_VA', 'STATE_VT', 'STATE_WA', 'STATE_WI', 'STATE_WV', 'STATE_WY', 'CURRENT_INVESTOR_CODE_240', 'CURRENT_INVESTOR_CODE_250', 'CURRENT_INVESTOR_CODE_253', 'CURRENT_INVESTOR_CODE_U', 'ORIGINATION_YEAR_B1995', 'ORIGINATION_YEAR_1995', 'ORIGINATION_YEAR_1996', 'ORIGINATION_YEAR_1997', 'ORIGINATION_YEAR_1998', 'ORIGINATION_YEAR_1999', 'ORIGINATION_YEAR_2000', 'ORIGINATION_YEAR_2001', 'ORIGINATION_YEAR_2002', 'ORIGINATION_YEAR_2003', 'ORIGINATION_YEAR_2004', 'ORIGINATION_YEAR_2005', 'ORIGINATION_YEAR_2006', 'ORIGINATION_YEAR_2007', 'ORIGINATION_YEAR_2008', 'ORIGINATION_YEAR_2009', 'ORIGINATION_YEAR_2010', 'ORIGINATION_YEAR_2011', 'ORIGINATION_YEAR_2012', 'ORIGINATION_YEAR_2013', 'ORIGINATION_YEAR_2014', 'ORIGINATION_YEAR_2015', 'ORIGINATION_YEAR_2016', 'ORIGINATION_YEAR_2017', 'ORIGINATION_YEAR_2018']\n",
      "7 ['DELINQUENCY_STATUS_NEXT_0', 'DELINQUENCY_STATUS_NEXT_3', 'DELINQUENCY_STATUS_NEXT_6', 'DELINQUENCY_STATUS_NEXT_9', 'DELINQUENCY_STATUS_NEXT_C', 'DELINQUENCY_STATUS_NEXT_F', 'DELINQUENCY_STATUS_NEXT_R']\n"
     ]
    }
   ],
   "source": [
    "print(len(ALL_DATA.train.features_list), ALL_DATA.train.features_list)\n",
    "print(len(ALL_DATA.train.labels_list), ALL_DATA.train.labels_list)\n",
    "pd.set_option('io.hdf.default_format','table')"
   ]
  },
  {
   "cell_type": "code",
   "execution_count": 16,
   "metadata": {},
   "outputs": [],
   "source": [
    "# Saving into another .h5 dataset:\n",
    "def lowvar_remove_save(tag, file_dir, data_dict, features_list, labels_list, drop_cols, batch_size): # ALL_DATA.train._dict\n",
    "    file_name = 'dataset_lowvar_ratio_'+ tag + '_.h5'\n",
    "    target_path = os.path.join(PRO_DIR, file_dir, file_name)        \n",
    "    total_rows = data_dict[0]['nrows']\n",
    "    with pd.HDFStore(target_path, complib='lzo', complevel=9) as hdf_target:\n",
    "        print('Target Path: ', target_path)   \n",
    "        # idxs = np.resize(drop_cols.values(),np.count_nonzero(drop_cols.values()))                \n",
    "        # print('columns dropped')\n",
    "        num_iter = math.ceil(np.float32(total_rows / batch_size))\n",
    "        acc_rows = 0\n",
    "        for i in range(num_iter):\n",
    "            print('batch: ', i)    \n",
    "            if ((i+1)*batch_size > total_rows):            \n",
    "                feat_batch = data_dict[0]['dataset_features'][i*batch_size : ]     \n",
    "                lab_batch = data_dict[0]['dataset_labels'][i*batch_size : ]     \n",
    "            else :            \n",
    "                feat_batch = data_dict[0]['dataset_features'][i*batch_size : (i+1)*batch_size]\n",
    "                lab_batch = data_dict[0]['dataset_labels'][i*batch_size : (i+1)*batch_size]     \n",
    "            #data_dict[0]['dataset_features'] = np.delete(data_dict[0]['dataset_features'], drop_cols, axis=1)            \n",
    "            df_feat = pd.DataFrame(feat_batch) #columns=features_list\n",
    "            df_feat.drop(drop_cols, axis=1, inplace=True)\n",
    "            df_feat.columns = features_list\n",
    "            print('drop_cols dropped')\n",
    "            df_feat = df_feat.astype(DT_FLOAT)\n",
    "            #print(df_feat[:2])\n",
    "            #print(df_feat.shape)                    \n",
    "            df_lab = pd.DataFrame(lab_batch, columns=labels_list)\n",
    "            df_lab = df_lab.astype(np.int8)\n",
    "            hdf_target.put(tag + '/features', df_feat, append=True) \n",
    "            hdf_target.put(tag + '/labels', df_lab, append=True) \n",
    "            hdf_target.flush()\n",
    "            print('batch saved')    \n",
    "            acc_rows += df_feat.shape[0]\n",
    "        print('total_rows: ', total_rows)\n",
    "        print('acc_rows: ', acc_rows)\n"
   ]
  },
  {
   "cell_type": "code",
   "execution_count": null,
   "metadata": {
    "scrolled": true
   },
   "outputs": [
    {
     "name": "stdout",
     "output_type": "stream",
     "text": [
      "Target Path:  /home/ubuntu/MLMortgage/data/processed/chuncks_random_c1millx2_train/dataset_lowvar_ratio_train_.h5\n",
      "batch:  0\n",
      "drop_cols dropped\n",
      "batch saved\n",
      "batch:  1\n",
      "drop_cols dropped\n",
      "batch saved\n",
      "batch:  2\n",
      "drop_cols dropped\n",
      "batch saved\n",
      "batch:  3\n",
      "drop_cols dropped\n",
      "batch saved\n",
      "batch:  4\n",
      "drop_cols dropped\n",
      "batch saved\n",
      "batch:  5\n",
      "drop_cols dropped\n",
      "batch saved\n",
      "batch:  6\n",
      "drop_cols dropped\n",
      "batch saved\n",
      "batch:  7\n",
      "drop_cols dropped\n",
      "batch saved\n",
      "batch:  8\n",
      "drop_cols dropped\n",
      "batch saved\n",
      "batch:  9\n",
      "drop_cols dropped\n",
      "batch saved\n",
      "batch:  10\n",
      "drop_cols dropped\n",
      "batch saved\n",
      "batch:  11\n",
      "drop_cols dropped\n",
      "batch saved\n",
      "batch:  12\n",
      "drop_cols dropped\n",
      "batch saved\n",
      "batch:  13\n",
      "drop_cols dropped\n",
      "batch saved\n",
      "batch:  14\n",
      "drop_cols dropped\n",
      "batch saved\n",
      "batch:  15\n",
      "drop_cols dropped\n",
      "batch saved\n",
      "batch:  16\n",
      "drop_cols dropped\n",
      "batch saved\n",
      "batch:  17\n",
      "drop_cols dropped\n",
      "batch saved\n",
      "batch:  18\n",
      "drop_cols dropped\n",
      "batch saved\n",
      "batch:  19\n",
      "drop_cols dropped\n",
      "batch saved\n",
      "batch:  20\n",
      "drop_cols dropped\n",
      "batch saved\n",
      "batch:  21\n",
      "drop_cols dropped\n",
      "batch saved\n",
      "batch:  22\n",
      "drop_cols dropped\n",
      "batch saved\n",
      "batch:  23\n",
      "drop_cols dropped\n",
      "batch saved\n",
      "batch:  24\n"
     ]
    }
   ],
   "source": [
    "lowvar_remove_save('train', train_dir, ALL_DATA.train._dict, ALL_DATA.train.features_list, ALL_DATA.train.labels_list, dropping_cols, 100000)"
   ]
  },
  {
   "cell_type": "code",
   "execution_count": 20,
   "metadata": {},
   "outputs": [
    {
     "name": "stdout",
     "output_type": "stream",
     "text": [
      "Target Path:  /home/ubuntu/MLMortgage/data/processed/chuncks_random_c1millx2_valid/dataset_missratio_valid_.h5\n",
      "batch:  0\n",
      "drop_cols dropped\n",
      "batch saved\n",
      "batch:  1\n",
      "drop_cols dropped\n",
      "batch saved\n",
      "batch:  2\n",
      "drop_cols dropped\n",
      "batch saved\n",
      "batch:  3\n",
      "drop_cols dropped\n",
      "batch saved\n",
      "batch:  4\n",
      "drop_cols dropped\n",
      "batch saved\n",
      "batch:  5\n",
      "drop_cols dropped\n",
      "batch saved\n",
      "batch:  6\n",
      "drop_cols dropped\n",
      "batch saved\n",
      "total_rows:  901868\n",
      "acc_rows:  901868\n"
     ]
    }
   ],
   "source": [
    "lowvar_remove_save('valid', valid_dir, ALL_DATA.validation._dict, ALL_DATA.train.features_list, ALL_DATA.train.labels_list, dropping_cols, 150000)"
   ]
  }
 ],
 "metadata": {
  "kernelspec": {
   "display_name": "Python [default]",
   "language": "python",
   "name": "python3"
  },
  "language_info": {
   "codemirror_mode": {
    "name": "ipython",
    "version": 3
   },
   "file_extension": ".py",
   "mimetype": "text/x-python",
   "name": "python",
   "nbconvert_exporter": "python",
   "pygments_lexer": "ipython3",
   "version": "3.6.4"
  }
 },
 "nbformat": 4,
 "nbformat_minor": 2
}
