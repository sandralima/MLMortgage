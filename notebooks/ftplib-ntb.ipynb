{
 "cells": [
  {
   "cell_type": "code",
   "execution_count": 3,
   "metadata": {},
   "outputs": [
    {
     "name": "stdout",
     "output_type": "stream",
     "text": [
      "-rw-r--r-- 1 ftp ftp           9819 Oct 01 09:54 client-autologin.ovpn\n",
      "-rw-r--r-- 1 ftp ftp           9779 Oct 01 09:49 client-edited.ovpn\n",
      "-rw-r--r-- 1 ftp ftp           9779 Oct 01 09:37 client.ovpn\n",
      "drwxr-xr-x 1 ftp ftp              0 Oct 16 14:28 code_backup\n",
      "-rw-r--r-- 1 ftp ftp            926 Aug 16  2018 curl_files.sh\n",
      "-rw-r--r-- 1 ftp ftp            405 Oct 04 17:37 id_rsa.pub\n",
      "-rw-r--r-- 1 ftp ftp           1692 Oct 04 18:08 MhowGPU.pem\n",
      "-rw-r--r-- 1 ftp ftp          68572 Sep 27 19:12 nn_real_tfrecords.py\n",
      "drwxr-xr-x 1 ftp ftp              0 Oct 04 17:38 outputs\n",
      "drwxr-xr-x 1 ftp ftp              0 Oct 16 13:35 processed\n",
      "-rw-r--r-- 1 ftp ftp           3910 Aug 15  2018 random_permutation.py\n",
      "drwxr-xr-x 1 ftp ftp              0 Oct 16 14:27 raw\n",
      "-rw-r--r-- 1 ftp ftp            126 Aug 15  2018 run_environment.sh\n",
      "-rw-r--r-- 1 ftp ftp      317915136 Sep 27 10:04 temporalloandynmodifmrstaticitur3mill-4mill-train-pp.tfrecords\n",
      "-rw-r--r-- 1 ftp ftp     1846345728 Sep 27 11:36 temporalloandynmodifmrstaticitur3mill-4mill-train-pp1.tfrecords\n",
      "-rw-r--r-- 1 ftp ftp       45006848 Sep 27 13:51 temporalloandynmodifmrstaticitur3mill-4mill-train-pp2.rar\n",
      "-rw-r--r-- 1 ftp ftp      496156672 Sep 27 12:58 temporalloandynmodifmrstaticitur3mill-4mill-train-pp2.tfrecords\n",
      "None\n",
      "-rw-r--r-- 1 ftp ftp              0 Oct 16 16:43 c1mill99-01_non_index_test_0.h5\n",
      "-rw-r--r-- 1 ftp ftp     1119687778 Sep 21 21:59 c1mill99-01_non_index_train_0.h5\n",
      "-rw-r--r-- 1 ftp ftp      328764358 Sep 21 21:44 c1mill99-01_non_index_valid_0.h5\n",
      "-rw-r--r-- 1 ftp ftp      206292248 Sep 22 09:40 c1mill_non_index_test_1.h5\n",
      "-rw-r--r-- 1 ftp ftp     1078448675 Sep 13 13:45 c1mill_non_index_train_1.h5\n",
      "-rw-r--r-- 1 ftp ftp       85269287 Sep 13 13:37 c1mill_non_index_valid_1.h5\n",
      "None\n",
      "['c1mill99-01_non_index_test_0.h5', 'c1mill99-01_non_index_train_0.h5', 'c1mill99-01_non_index_valid_0.h5', 'c1mill_non_index_test_1.h5', 'c1mill_non_index_train_1.h5', 'c1mill_non_index_valid_1.h5']\n"
     ]
    },
    {
     "data": {
      "text/plain": [
       "'221 Goodbye'"
      ]
     },
     "execution_count": 3,
     "metadata": {},
     "output_type": "execute_result"
    }
   ],
   "source": [
    "import ftplib\n",
    "import os\n",
    "import pandas as pd\n",
    "\n",
    "def handleDownload(file, block):\n",
    "    file.write(block)\n",
    "    print (\".\")\n",
    "    \n",
    "    \n",
    "server = ftplib.FTP()\n",
    "server.connect('66.135.34.79', 21)\n",
    "server.login('machinelearning','Mdjei3739#')\n",
    "print (server.dir())\n",
    "\n",
    "ftp_dir = 'processed/c1mill_99-01'\n",
    "server.cwd(ftp_dir)               # change into \"debian\" directory\n",
    "# server.retrlines('LIST')           # list directory contents\n",
    "print (server.dir())\n",
    "#fname_prefix = 'c1mill99-01_non_index'\n",
    "rank = 1 # hvd.rank()\n",
    "\n",
    "filenames = server.nlst() # get filenames within the directory\n",
    "print(filenames)\n",
    "\n",
    "if True:\n",
    "    #file_name = fname_prefix + '_test_%d.h5' % rank\n",
    "    fname_suffix = '_test_%d.h5' % rank\n",
    "    filenames = [elem for elem in filenames if fname_suffix in elem]        \n",
    "else:\n",
    "    train_suffix = '_train_%d.h5' % rank\n",
    "    valid_suffix = '_valid_%d.h5' % rank\n",
    "    filenames = [elem for elem in filenames if (train_suffix in elem or valid_suffix in elem)]        \n",
    "    \n",
    "    \n",
    "for filename in filenames:\n",
    "    #local_filename = os.path.join('C:\\\\data\\\\', filename)\n",
    "    #local_path = os.path.join(FLAGS.logdir, filename)    \n",
    "    #file = open(local_filename, 'wb')\n",
    "    file =  open(filename, 'wb')\n",
    "    #file = pd.HDFStore(filename)\n",
    "    # server.storbinary('STOR ' + filename, file,102400) #storing in ftp\n",
    "    server.retrbinary('RETR '+ filename, file.write, 8*1024)\n",
    "    file.close()\n",
    "\n",
    "#with open(file_name, 'wb') as f:\n",
    "#    server.retrbinary('RETR ' + file_name, f.write)\n",
    "server.quit() # This is the “polite” way to close a connection"
   ]
  }
 ],
 "metadata": {
  "kernelspec": {
   "display_name": "Python [conda env:tensorflow_p36]",
   "language": "python",
   "name": "conda-env-tensorflow_p36-py"
  },
  "language_info": {
   "codemirror_mode": {
    "name": "ipython",
    "version": 3
   },
   "file_extension": ".py",
   "mimetype": "text/x-python",
   "name": "python",
   "nbconvert_exporter": "python",
   "pygments_lexer": "ipython3",
   "version": "3.6.4"
  }
 },
 "nbformat": 4,
 "nbformat_minor": 2
}
